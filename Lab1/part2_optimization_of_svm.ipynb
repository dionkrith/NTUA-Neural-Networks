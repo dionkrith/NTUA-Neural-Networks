{
  "nbformat": 4,
  "nbformat_minor": 0,
  "metadata": {
    "colab": {
      "name": "part2_optimization_of_svm.ipynb",
      "provenance": [],
      "collapsed_sections": []
    },
    "kernelspec": {
      "display_name": "Python 3",
      "name": "python3"
    },
    "language_info": {
      "name": "python"
    }
  },
  "cells": [
    {
      "cell_type": "markdown",
      "metadata": {
        "id": "Le0BgLmXoWN4"
      },
      "source": [
        "Ομάδα 94 - 2 ατόμων : Κριθαρούλα Αναστασία 03117073 - Κριθαρούλας Διονύσης 03117875"
      ]
    },
    {
      "cell_type": "markdown",
      "metadata": {
        "id": "6Q4L98cnorBJ"
      },
      "source": [
        "# Νευρωνικά Δίκτυα - Ροή Υ - 9ο Εξάμηνο - ΣΗΜΜΥ"
      ]
    },
    {
      "cell_type": "markdown",
      "metadata": {
        "id": "RNinF8E3o6uR"
      },
      "source": [
        "### Μέρος 2.Kaggle Dataset - Βελτιστοποίηση SVM ταξινομητή."
      ]
    },
    {
      "cell_type": "code",
      "metadata": {
        "colab": {
          "base_uri": "https://localhost:8080/"
        },
        "id": "Ev69G2JUU2yk",
        "outputId": "72697d4f-6623-4ccb-e05e-cd2574c22306"
      },
      "source": [
        "!pip install optuna\n",
        "!pip install --upgrade scikit-learn \n",
        "!pip install --upgrade numpy \n",
        "!pip install --upgrade pandas \n",
        "!pip install --upgrade imbalanced-learn\n",
        "!pip install --upgrade seaborn"
      ],
      "execution_count": null,
      "outputs": [
        {
          "output_type": "stream",
          "name": "stdout",
          "text": [
            "Requirement already satisfied: optuna in /usr/local/lib/python3.7/dist-packages (2.10.0)\n",
            "Requirement already satisfied: packaging>=20.0 in /usr/local/lib/python3.7/dist-packages (from optuna) (21.3)\n",
            "Requirement already satisfied: scipy!=1.4.0 in /usr/local/lib/python3.7/dist-packages (from optuna) (1.4.1)\n",
            "Requirement already satisfied: sqlalchemy>=1.1.0 in /usr/local/lib/python3.7/dist-packages (from optuna) (1.4.27)\n",
            "Requirement already satisfied: colorlog in /usr/local/lib/python3.7/dist-packages (from optuna) (6.6.0)\n",
            "Requirement already satisfied: PyYAML in /usr/local/lib/python3.7/dist-packages (from optuna) (3.13)\n",
            "Requirement already satisfied: tqdm in /usr/local/lib/python3.7/dist-packages (from optuna) (4.62.3)\n",
            "Requirement already satisfied: cliff in /usr/local/lib/python3.7/dist-packages (from optuna) (3.10.0)\n",
            "Requirement already satisfied: alembic in /usr/local/lib/python3.7/dist-packages (from optuna) (1.7.5)\n",
            "Requirement already satisfied: cmaes>=0.8.2 in /usr/local/lib/python3.7/dist-packages (from optuna) (0.8.2)\n",
            "Requirement already satisfied: numpy in /usr/local/lib/python3.7/dist-packages (from optuna) (1.21.4)\n",
            "Requirement already satisfied: pyparsing!=3.0.5,>=2.0.2 in /usr/local/lib/python3.7/dist-packages (from packaging>=20.0->optuna) (3.0.6)\n",
            "Requirement already satisfied: importlib-metadata in /usr/local/lib/python3.7/dist-packages (from sqlalchemy>=1.1.0->optuna) (4.8.2)\n",
            "Requirement already satisfied: greenlet!=0.4.17 in /usr/local/lib/python3.7/dist-packages (from sqlalchemy>=1.1.0->optuna) (1.1.2)\n",
            "Requirement already satisfied: importlib-resources in /usr/local/lib/python3.7/dist-packages (from alembic->optuna) (5.4.0)\n",
            "Requirement already satisfied: Mako in /usr/local/lib/python3.7/dist-packages (from alembic->optuna) (1.1.6)\n",
            "Requirement already satisfied: PrettyTable>=0.7.2 in /usr/local/lib/python3.7/dist-packages (from cliff->optuna) (2.4.0)\n",
            "Requirement already satisfied: pbr!=2.1.0,>=2.0.0 in /usr/local/lib/python3.7/dist-packages (from cliff->optuna) (5.8.0)\n",
            "Requirement already satisfied: stevedore>=2.0.1 in /usr/local/lib/python3.7/dist-packages (from cliff->optuna) (3.5.0)\n",
            "Requirement already satisfied: cmd2>=1.0.0 in /usr/local/lib/python3.7/dist-packages (from cliff->optuna) (2.3.3)\n",
            "Requirement already satisfied: autopage>=0.4.0 in /usr/local/lib/python3.7/dist-packages (from cliff->optuna) (0.4.0)\n",
            "Requirement already satisfied: typing-extensions in /usr/local/lib/python3.7/dist-packages (from cmd2>=1.0.0->cliff->optuna) (3.10.0.2)\n",
            "Requirement already satisfied: wcwidth>=0.1.7 in /usr/local/lib/python3.7/dist-packages (from cmd2>=1.0.0->cliff->optuna) (0.2.5)\n",
            "Requirement already satisfied: pyperclip>=1.6 in /usr/local/lib/python3.7/dist-packages (from cmd2>=1.0.0->cliff->optuna) (1.8.2)\n",
            "Requirement already satisfied: attrs>=16.3.0 in /usr/local/lib/python3.7/dist-packages (from cmd2>=1.0.0->cliff->optuna) (21.2.0)\n",
            "Requirement already satisfied: zipp>=0.5 in /usr/local/lib/python3.7/dist-packages (from importlib-metadata->sqlalchemy>=1.1.0->optuna) (3.6.0)\n",
            "Requirement already satisfied: MarkupSafe>=0.9.2 in /usr/local/lib/python3.7/dist-packages (from Mako->alembic->optuna) (2.0.1)\n",
            "Requirement already satisfied: scikit-learn in /usr/local/lib/python3.7/dist-packages (1.0.1)\n",
            "Requirement already satisfied: threadpoolctl>=2.0.0 in /usr/local/lib/python3.7/dist-packages (from scikit-learn) (3.0.0)\n",
            "Requirement already satisfied: numpy>=1.14.6 in /usr/local/lib/python3.7/dist-packages (from scikit-learn) (1.21.4)\n",
            "Requirement already satisfied: joblib>=0.11 in /usr/local/lib/python3.7/dist-packages (from scikit-learn) (1.1.0)\n",
            "Requirement already satisfied: scipy>=1.1.0 in /usr/local/lib/python3.7/dist-packages (from scikit-learn) (1.4.1)\n",
            "Requirement already satisfied: numpy in /usr/local/lib/python3.7/dist-packages (1.21.4)\n",
            "Requirement already satisfied: pandas in /usr/local/lib/python3.7/dist-packages (1.3.4)\n",
            "Requirement already satisfied: python-dateutil>=2.7.3 in /usr/local/lib/python3.7/dist-packages (from pandas) (2.8.2)\n",
            "Requirement already satisfied: pytz>=2017.3 in /usr/local/lib/python3.7/dist-packages (from pandas) (2018.9)\n",
            "Requirement already satisfied: numpy>=1.17.3 in /usr/local/lib/python3.7/dist-packages (from pandas) (1.21.4)\n",
            "Requirement already satisfied: six>=1.5 in /usr/local/lib/python3.7/dist-packages (from python-dateutil>=2.7.3->pandas) (1.15.0)\n",
            "Requirement already satisfied: imbalanced-learn in /usr/local/lib/python3.7/dist-packages (0.8.1)\n",
            "Requirement already satisfied: scipy>=0.19.1 in /usr/local/lib/python3.7/dist-packages (from imbalanced-learn) (1.4.1)\n",
            "Requirement already satisfied: numpy>=1.13.3 in /usr/local/lib/python3.7/dist-packages (from imbalanced-learn) (1.21.4)\n",
            "Requirement already satisfied: scikit-learn>=0.24 in /usr/local/lib/python3.7/dist-packages (from imbalanced-learn) (1.0.1)\n",
            "Requirement already satisfied: joblib>=0.11 in /usr/local/lib/python3.7/dist-packages (from imbalanced-learn) (1.1.0)\n",
            "Requirement already satisfied: threadpoolctl>=2.0.0 in /usr/local/lib/python3.7/dist-packages (from scikit-learn>=0.24->imbalanced-learn) (3.0.0)\n",
            "Requirement already satisfied: seaborn in /usr/local/lib/python3.7/dist-packages (0.11.2)\n",
            "Requirement already satisfied: numpy>=1.15 in /usr/local/lib/python3.7/dist-packages (from seaborn) (1.21.4)\n",
            "Requirement already satisfied: matplotlib>=2.2 in /usr/local/lib/python3.7/dist-packages (from seaborn) (3.2.2)\n",
            "Requirement already satisfied: scipy>=1.0 in /usr/local/lib/python3.7/dist-packages (from seaborn) (1.4.1)\n",
            "Requirement already satisfied: pandas>=0.23 in /usr/local/lib/python3.7/dist-packages (from seaborn) (1.3.4)\n",
            "Requirement already satisfied: python-dateutil>=2.1 in /usr/local/lib/python3.7/dist-packages (from matplotlib>=2.2->seaborn) (2.8.2)\n",
            "Requirement already satisfied: kiwisolver>=1.0.1 in /usr/local/lib/python3.7/dist-packages (from matplotlib>=2.2->seaborn) (1.3.2)\n",
            "Requirement already satisfied: cycler>=0.10 in /usr/local/lib/python3.7/dist-packages (from matplotlib>=2.2->seaborn) (0.11.0)\n",
            "Requirement already satisfied: pyparsing!=2.0.4,!=2.1.2,!=2.1.6,>=2.0.1 in /usr/local/lib/python3.7/dist-packages (from matplotlib>=2.2->seaborn) (3.0.6)\n",
            "Requirement already satisfied: pytz>=2017.3 in /usr/local/lib/python3.7/dist-packages (from pandas>=0.23->seaborn) (2018.9)\n",
            "Requirement already satisfied: six>=1.5 in /usr/local/lib/python3.7/dist-packages (from python-dateutil>=2.1->matplotlib>=2.2->seaborn) (1.15.0)\n"
          ]
        }
      ]
    },
    {
      "cell_type": "markdown",
      "metadata": {
        "id": "iZiJ-aePiw-0"
      },
      "source": [
        "Αρχικά δανιζόμαστε τους κώδικες από το part2 notebook προκειμένου να προχωρήσουμε στην εξέταση του ταξινομητή SVM."
      ]
    },
    {
      "cell_type": "markdown",
      "metadata": {
        "id": "iFd-ZFKBjIJT"
      },
      "source": [
        "#### Εισαγωγή του Dataframe αρχείου από το Kaggle."
      ]
    },
    {
      "cell_type": "code",
      "metadata": {
        "colab": {
          "base_uri": "https://localhost:8080/"
        },
        "id": "G21ReN7vVX1q",
        "outputId": "b07e1e5e-bfe2-432b-e246-801e2e09e415"
      },
      "source": [
        "# Mount google drive\n",
        "from google.colab import drive\n",
        "drive.mount('/gdrive')"
      ],
      "execution_count": null,
      "outputs": [
        {
          "output_type": "stream",
          "name": "stdout",
          "text": [
            "Drive already mounted at /gdrive; to attempt to forcibly remount, call drive.mount(\"/gdrive\", force_remount=True).\n"
          ]
        }
      ]
    },
    {
      "cell_type": "code",
      "metadata": {
        "colab": {
          "base_uri": "https://localhost:8080/"
        },
        "id": "18pasZtNU9LI",
        "outputId": "35da4590-e935-479b-96ef-d12c9f654c24"
      },
      "source": [
        "import os\n",
        "# Complete path to storage location of the .zip file of data\n",
        "zip_path = '/gdrive/MyDrive/kaggle/csgo-round-winner-classification.zip'\n",
        "# Copy the .zip file into the present directory\n",
        "!cp '{zip_path}' .\n",
        "# Unzip quietly \n",
        "!unzip -q 'csgo-round-winner-classification.zip'\n",
        "# View the unzipped contents in the virtual machine\n",
        "os.listdir()"
      ],
      "execution_count": null,
      "outputs": [
        {
          "output_type": "stream",
          "name": "stdout",
          "text": [
            "replace csgo_round_snapshots.csv? [y]es, [n]o, [A]ll, [N]one, [r]ename: y\n"
          ]
        },
        {
          "output_type": "execute_result",
          "data": {
            "text/plain": [
              "['.config',\n",
              " 'csgo-round-winner-classification.zip',\n",
              " 'csgo_round_snapshots.csv',\n",
              " 'sample_data']"
            ]
          },
          "metadata": {},
          "execution_count": 3
        }
      ]
    },
    {
      "cell_type": "code",
      "metadata": {
        "id": "xOLbvPceVWpg"
      },
      "source": [
        "import pandas as pd\n",
        "import numpy as np\n",
        "\n",
        "df = pd.read_csv(\"csgo_round_snapshots.csv\") #option header takes his default value\n",
        "labels_df = df.iloc[:, [96]] \n",
        "features_df = df.iloc[:, :-1]"
      ],
      "execution_count": null,
      "outputs": []
    },
    {
      "cell_type": "markdown",
      "metadata": {
        "id": "zchNC_oWjhAt"
      },
      "source": [
        "#### Αρχική προεπεξεργασία πριν την βελτισοποίηση (η ανάλυση της έχει γίνει στο notebook part2)."
      ]
    },
    {
      "cell_type": "code",
      "metadata": {
        "id": "bTbBN14LVkVp"
      },
      "source": [
        "mapping = {'T': 0, 'CT': 1}\n",
        "labels_df = labels_df.replace({\"round_winner\": mapping}) \n",
        "np_labels = labels_df.values.flatten()"
      ],
      "execution_count": null,
      "outputs": []
    },
    {
      "cell_type": "code",
      "metadata": {
        "colab": {
          "base_uri": "https://localhost:8080/"
        },
        "id": "qN96VyUuVl5H",
        "outputId": "6fd79e8d-c767-4766-902f-f9cda3dbd257"
      },
      "source": [
        "print('Labels array dimension:', np_labels.shape)"
      ],
      "execution_count": null,
      "outputs": [
        {
          "output_type": "stream",
          "name": "stdout",
          "text": [
            "Labels array dimension: (122410,)\n"
          ]
        }
      ]
    },
    {
      "cell_type": "code",
      "metadata": {
        "id": "wtymu-hlVnZY"
      },
      "source": [
        "from sklearn.model_selection import train_test_split\n",
        "\n",
        "#split dataset to train and test set\n",
        "train_features_df, test_features_df, y_train, y_test = train_test_split(features_df, np_labels, test_size = 0.3, shuffle = True)"
      ],
      "execution_count": null,
      "outputs": []
    },
    {
      "cell_type": "code",
      "metadata": {
        "id": "jluKW5t2Vphp"
      },
      "source": [
        "def Dummies(train_df, test_df, column_list = ['map', 'bomb_planted']):\n",
        "    train_df = pd.get_dummies(train_df, columns = column_list) #convert nominal attribute with m values to m binary attributes - only one of them is active at a time\n",
        "    test_df = pd.get_dummies(test_df, columns = column_list)\n",
        "    test_df = test_df.reindex(columns = train_df.columns, fill_value = 0)\n",
        "    return train_df , test_df"
      ],
      "execution_count": null,
      "outputs": []
    },
    {
      "cell_type": "code",
      "metadata": {
        "colab": {
          "base_uri": "https://localhost:8080/"
        },
        "id": "L5zeEexBVq4c",
        "outputId": "5c10d0b0-7644-4702-ab3d-a6f2729dbd3d"
      },
      "source": [
        "train_features_df , test_features_df = Dummies(train_features_df , test_features_df)\n",
        "\n",
        "print('Number of attributes after Dummies:', train_features_df.shape[1])"
      ],
      "execution_count": null,
      "outputs": [
        {
          "output_type": "stream",
          "name": "stdout",
          "text": [
            "Number of attributes after Dummies: 104\n"
          ]
        }
      ]
    },
    {
      "cell_type": "code",
      "metadata": {
        "id": "RMvqgzrLVsUX"
      },
      "source": [
        "X_train = train_features_df.apply(pd.to_numeric).values\n",
        "X_test = test_features_df.apply(pd.to_numeric).values"
      ],
      "execution_count": null,
      "outputs": []
    },
    {
      "cell_type": "markdown",
      "metadata": {
        "id": "vASNrwTgVznN"
      },
      "source": [
        "#### Βελτιστοποίηση"
      ]
    },
    {
      "cell_type": "markdown",
      "metadata": {
        "id": "MyTKpmznV1My"
      },
      "source": [
        "##### SVM"
      ]
    },
    {
      "cell_type": "markdown",
      "metadata": {
        "id": "g8zjP1v-V3mO"
      },
      "source": [
        "Για την βελτιστοποίηση του ταξινομητή SVM θα χρησιμοποίησουμε τις ακόλουθες διαδικασίες:\n",
        "* Προεπεξεργασία\n",
        "* Ορισμού Pipelines\n",
        "* εύρεσης βέλτιστων υπερμαραμέτρων με χρήση της βιβλιοθήκης Optuna"
      ]
    },
    {
      "cell_type": "markdown",
      "metadata": {
        "id": "kqwaVhefXDkS"
      },
      "source": [
        "Ως προεπεξεργασία θα χρησιμοποιήσουμε τους ακόλουθους Μετασχηματιστές:\n",
        "* Variance Threshold\n",
        "* PCA (Ανάλυση σε κύριες συνιστώσες)\n",
        "* Min Max Scaler (Κανονικοποίηση μέσω Διαίρεσης μεγίστου-ελαχίστου)\n",
        "* Standard Scaler (Κανονικοποίηση μέσω Standard Score)"
      ]
    },
    {
      "cell_type": "markdown",
      "metadata": {
        "id": "gFVoFY-kX2VP"
      },
      "source": [
        "Το pipeline που θα χρησιμοποιήσουμε για την βελτιστοποίηση θα περιέχει μία σειρά από μετασχηματιστές που θα καταλήγει σε έναν ταξινομητή SVM. Έτσι ολόκληρο το pipeline μπορεί να θεωρηθεί ένας ταξινομητής πάνω στον οποίο μπορούμε να χρησιμοποιήσουμε τις μεθόδους που γνωρίζουμε."
      ]
    },
    {
      "cell_type": "markdown",
      "metadata": {
        "id": "Y1nWFxGuYg36"
      },
      "source": [
        "Τόσο ο ταξινομητής SVM όσο και οι παραπάνω μετασχηματιστές έχουν έναν αριθμό από υπερπαραμέτρους τις οποίες χρειάζεται να βελτισοποιήσουμε. Οι υπερπαράμετροι αυτοί αναλύονται στην συνέχεια ξεχωριστά:"
      ]
    },
    {
      "cell_type": "markdown",
      "metadata": {
        "id": "NxNHWYG-ZB7n"
      },
      "source": [
        "<u>Variance Threshold</u>"
      ]
    },
    {
      "cell_type": "markdown",
      "metadata": {
        "id": "aB19G_0OZIec"
      },
      "source": [
        "Ο μετασχηματιστής αυτός έχει μία υπερπαράμετρο, το λεγόμενο threshold ή όριο της διακύμανσης. Σύμφωνα με την τιμή του ορίου αυτού, χαρακτηριστικά που παρουσιάζουν διακύμανση μικρότερη της τικής αυτής απορίπτονται ολόκληρα από το Dataset μας. Η υπερπαράμετρος λοιπόν του συγκεκριμένου μετασχηματιστή θα πρέπει να βελτιστοποιηθεί σε συνδιασμό με τις υπόλοιπες υπερπαραμέτρους του pipeline που θα επιλεχθούν. "
      ]
    },
    {
      "cell_type": "markdown",
      "metadata": {
        "id": "t9hzarNuZUw_"
      },
      "source": [
        "Προκειμένου να έχουμε μία εικόνα για τις τιμές στις οποίες πρέπει να κυμανθεί η υπερπαράμετρος threshold που αναφέραμε προηγουμένως θα πρέπει να δούμε που κυμένεται η διασπορά των χαρακτηριστικών μας. Στο γράφημα που ακολουθεί αποτυπώνουμε την τιμή της διασποράς για κάθε χαρακτηριστικό του Dataset αφού πρώτα έχουμε εφαρμόσει σε αυτόν κανονικοποίηση μεγίστου-ελαχίστου (MinMaxScaler).Σύμφωνα με την κανονικοποίση αυτή οι τιμές όλων των χαρακτηριστικών κλιμακώνονται γραμμικά στο διάστημα [0,1]."
      ]
    },
    {
      "cell_type": "code",
      "metadata": {
        "colab": {
          "base_uri": "https://localhost:8080/",
          "height": 390
        },
        "id": "KUwTbrqmXCPd",
        "outputId": "ae7aab8c-aac2-480e-ed4c-14120b2ef9ac"
      },
      "source": [
        "from sklearn import preprocessing\n",
        "from matplotlib import pyplot as plt\n",
        "\n",
        "train_variance = preprocessing.MinMaxScaler().fit_transform(X_train).var(axis=0)\n",
        "\n",
        "plt.figure(figsize = (10, 6))\n",
        "plt.bar(range(0, train_variance.shape[0]), train_variance, width = 0.5)\n",
        "plt.title(\"Variance of attributes after Min-Max Scaler\")\n",
        "plt.show()"
      ],
      "execution_count": null,
      "outputs": [
        {
          "data": {
            "image/png": "[encoded data removed]",
            "text/plain": [
              "<Figure size 720x432 with 1 Axes>"
            ]
          },
          "metadata": {},
          "output_type": "display_data"
        }
      ]
    },
    {
      "cell_type": "markdown",
      "metadata": {
        "id": "zctE3zSzZfjK"
      },
      "source": [
        "Σύμφωνα με το παραπάνω γράφημα βλέπουμε ότι υπάρχουν αρκετά χαρακτηριστικά τα οποία η διακύμανση τους δεν ξεπερνάει το 0.02 (ίσως και το 0.01). Στην διαδικασία λοιπόν της βελτιστοποίησης των υπερπαραμέτρων θα φροντίσουμε το threeshold να κινείται στο διάστημα [0,0.02]. Προκειμένου βέβαια οι τιμές αυτές να ανταποκρίνονται έτσι όπως επιθυμούμε χρειάζεται πριν από την χρήση του Μετασχηματιστή VarianceThreshold να έχει χρησιμοποιηθεί ο μετασχηματιστής MinMaxScaler ώστε οι τιμές να είναι κανονικοποημένες όπως αναλύθηκε."
      ]
    },
    {
      "cell_type": "markdown",
      "metadata": {
        "id": "fhybaMBQZjkT"
      },
      "source": [
        "<u>PCA</u> (Ανάληση σε κύριες συνιστώσες)\n"
      ]
    },
    {
      "cell_type": "markdown",
      "metadata": {
        "id": "Nvkh7VPWZlls"
      },
      "source": [
        "Ο μετασχηματιστείς αυτός αναλύει το dataset μας στις κύριες συνιστώσες του μετασχηματίζοντας το ουσιαστικά σε ένα πρόβλημα μικρότερων διαστάσεων. Έτσι πλέον το dataset μας αποτελέιται από έναν μικρότερο αριθμό χαρακτηριστών. Ο αριθμός των κυρίων συνιστωσών στις οποίες θέλουμε να μετασχηματιστεί το Dataset μας αποτελεί την υπερπαράμετρο του συγκεκριμένου Μετασχηματιστή η οποία πρέπει επίσης να βελτισοποιηθεί σε συνδιασμό με τις υπόλοιπες παραμέτρους που θα επολεγούν. "
      ]
    },
    {
      "cell_type": "markdown",
      "metadata": {
        "id": "r0XR3lEMadqU"
      },
      "source": [
        "<u>SVM</u>"
      ]
    },
    {
      "cell_type": "markdown",
      "metadata": {
        "id": "0oo-mxbVagDS"
      },
      "source": [
        "Ο ταξινομητής μας ο οποίος αποτελεί και το τελικό στάδιο του pipeline αποτελείται από έναν μεγάλο αριθμό υπερπαραμέτρων οι οποίες καθορίζουν τον τρόπο λειτουργίας του και την αρχιτεκτονική του. Κάποιες από τις υπερπαραμέτρους που χρησιμοποιήθηκαν είανι οι ακόλουθες:\n",
        "\n",
        "<i><u>kernel (πυρήνας):</u> Η συγκεκριμένη υπερπαράμετρος καθορίζει τον τύπο του πυρήνα για τον ταξινομητή μας. Αυτός μπορεί να είναι: Linear , Gaussian radial basis function (RBF) , Sigmoid , Polynomial.\n",
        "\n",
        "<i><u>Regularization Parameter (C):</u> Η συγκεκριμένη υπερπαράμετρος καθορίζει την σκληρότητα του περιθωρίου που εφαρμόζει ο SVM. Για μεγάλα C έχω σκληρό περιθώριο οπότε όλο και πιο δύσκολα επιτρέπεται σε σημεία να βρεθούν εντός του περιθωρίου. Για μικρά C έχω αντίστοιχα πιο μαλακό περιθώριο και άρα όλο και περισσότερα  δείγματα εισχωρούν μέσα στο περιθώριο.\n",
        "\n",
        "<i><u>Kernel Coefficient (gamma):</u> Η συγκεκριμένη υπερπαράμετρος έχει νόημα μόνο σε\n",
        "SVM που χρησιμοποιούν ως πηρύνα τους είτε rbf είτε polynomial είτε sigmoid. Η  παράμετρος αυτή μπορεί να πάρει ως τιμές είτε 'auto' είτε 'scaled' αλλά και οποινδήποτε πραγματικό αριθμό.\n",
        "\n",
        "<i><u>Degree:</u> Η συγκεκριμένη υπερπαράμετρος έχει νόημα μόνο σε SVM που χρησιμοποοιούν τον πυρήνα polynomial και καθορίζει τον βαθμό του πολυωνύμου που θα χρησιμοποιηθεί.\n",
        "\n",
        "\n"
      ]
    },
    {
      "cell_type": "code",
      "metadata": {
        "id": "w6lUHJrAmuYI"
      },
      "source": [
        "X_train_small, a, y_train_small, b = train_test_split(X_train, y_train, test_size = 0.9, shuffle = True)"
      ],
      "execution_count": null,
      "outputs": []
    },
    {
      "cell_type": "code",
      "metadata": {
        "id": "c3iF--FpmvLg"
      },
      "source": [
        "X_test_small, a, y_test_small, b = train_test_split(X_test, y_test, test_size = 0.9, shuffle = True)"
      ],
      "execution_count": null,
      "outputs": []
    },
    {
      "cell_type": "markdown",
      "metadata": {
        "id": "NYvrkBUyau_b"
      },
      "source": [
        "#### Optuna"
      ]
    },
    {
      "cell_type": "markdown",
      "metadata": {
        "id": "G5gnonq5h0Ib"
      },
      "source": [
        "Η βιβλιοθήκη που επιλέχθηκε να χρησιμοποιηθεί για την βελτιστοποίηση των υπερπαραμέτρων είναι η optuna.  "
      ]
    },
    {
      "cell_type": "markdown",
      "metadata": {
        "id": "IjkuNWOhjq8T"
      },
      "source": [
        "Αρχικά επιλέξαμε να χρησιμοποιήσουμε αρκετές από τις υπερπαραμέτρους του ταξινομητή μας προκειμένου να έχουμε μια γενική εικόνα έτσι ώστε στην συνέχεια  να εστιάσουμε στις καλύτερες από αυτές. Μάλιστα κάποιοι υπερπαράμετροι όπως για παράδειγμα η τιμή C επιλέχθηκε να έχει διακριτές τιμές οι οποίες κυμαίνονται σε ένα αρκετά μεγάλο διάστημα. Οι τιμές αυτέ είναι οι 10,20,30,40,50,60,70,80,90,100,150,200. Με τον τρόπο αυτό θα μπορέσουμα να δούμε την συμπεριφορά του ταξινομητή μας σε μια ευρεία γκάμα τιμών ωστε έπειτα να εστιάσουμε στα διαστήματα όπου παρατηρείται η καλύτερη επίπδοση.\n",
        "Οι μετασχηματιστές που αρχικά επιλέχθησαν είναι Min-Max Scaler και Variance Threshold (με το threshold να κυμαίνεται από 0 εως 0,15). Τέλος η αξιολόγηση του κάθε συνδιασμού επιλογών γίνεται με 5-hold cross validation όπου ως μετρική επιλέχθηκε για αρχή το accuracy. Έτσι έχουμε τα ακόλουθα αποτελέσματα: "
      ]
    },
    {
      "cell_type": "code",
      "metadata": {
        "colab": {
          "base_uri": "https://localhost:8080/"
        },
        "id": "VlIcbp-MadAX",
        "outputId": "4bd881e9-8ea3-4fbb-801c-908f585adab8"
      },
      "source": [
        "import optuna\n",
        "from sklearn.svm import SVC\n",
        "from sklearn.model_selection import cross_val_score\n",
        "\n",
        "from sklearn.pipeline import Pipeline\n",
        "from sklearn import preprocessing\n",
        "from sklearn.feature_selection import VarianceThreshold\n",
        "\n",
        "\n",
        "def objective(trial):\n",
        "\n",
        "    \n",
        "    svc_kernel = trial.suggest_categorical('svc_kernel',['linear','rbf','poly','sigmoid'])\n",
        "    svc_C = trial.suggest_categorical('svc_C',[10,20,30,40, 50, 60,70,80,90,100,120,150,180,200])\n",
        "\n",
        "    if svc_kernel in ['rbf','poly','sigmoid']:\n",
        "\n",
        "      svc_gamma = trial.suggest_categorical('svc__gamma',[0.00025, 0.0005, 0.001,0.005,0.01,0.0015,0.002,])\n",
        "      if svc_kernel == 'poly':\n",
        "        svc_degree = trial.suggest_int('svc_degree',1,10)\n",
        "        svm = SVC(kernel = svc_kernel,gamma = svc_gamma , C = svc_C, degree = svc_degree)\n",
        "\n",
        "      else:\n",
        "\n",
        "        svm = SVC(kernel = svc_kernel,gamma = svc_gamma , C = svc_C)\n",
        "\n",
        "    else:\n",
        "\n",
        "       svm = SVC(kernel = svc_kernel, C = svc_C)\n",
        "      \n",
        "      \n",
        "    threshold = trial.suggest_float('threshold', 0.0, 0.15)\n",
        "\n",
        "    clf = Pipeline(steps = [('minmax_scaler', preprocessing.MinMaxScaler()), ('selector', VarianceThreshold(threshold)), ('svm', svm)])\n",
        "   \n",
        "    return np.mean(cross_val_score(clf, X_train_small, y_train_small, cv = 5, scoring = 'accuracy'))\n",
        "\n",
        "study = optuna.create_study(direction = 'maximize')\n",
        "study.optimize(objective, n_trials = 100)"
      ],
      "execution_count": null,
      "outputs": [
        {
          "name": "stderr",
          "output_type": "stream",
          "text": [
            "\u001b[32m[I 2021-12-02 19:26:51,055]\u001b[0m A new study created in memory with name: no-name-977d42f1-bbbf-4d55-8650-7ba21db68084\u001b[0m\n",
            "\u001b[32m[I 2021-12-02 19:27:04,589]\u001b[0m Trial 0 finished with value: 0.7483656791601868 and parameters: {'svc_kernel': 'rbf', 'svc_C': 50, 'svc__gamma': 0.0005, 'threshold': 0.01045553261204663}. Best is trial 0 with value: 0.7483656791601868.\u001b[0m\n",
            "\u001b[32m[I 2021-12-02 19:27:16,255]\u001b[0m Trial 1 finished with value: 0.7431134416545586 and parameters: {'svc_kernel': 'rbf', 'svc_C': 50, 'svc__gamma': 0.0015, 'threshold': 0.10160911583545452}. Best is trial 0 with value: 0.7483656791601868.\u001b[0m\n",
            "\u001b[32m[I 2021-12-02 19:27:29,290]\u001b[0m Trial 2 finished with value: 0.5087535021160854 and parameters: {'svc_kernel': 'poly', 'svc_C': 100, 'svc__gamma': 0.005, 'svc_degree': 6, 'threshold': 0.062260283721639484}. Best is trial 0 with value: 0.7483656791601868.\u001b[0m\n",
            "\u001b[32m[I 2021-12-02 19:27:58,248]\u001b[0m Trial 3 finished with value: 0.7464988375665257 and parameters: {'svc_kernel': 'linear', 'svc_C': 50, 'threshold': 0.0460715202917212}. Best is trial 0 with value: 0.7483656791601868.\u001b[0m\n",
            "\u001b[32m[I 2021-12-02 19:28:28,466]\u001b[0m Trial 4 finished with value: 0.7414798360536252 and parameters: {'svc_kernel': 'linear', 'svc_C': 180, 'threshold': 0.11294177449356513}. Best is trial 0 with value: 0.7483656791601868.\u001b[0m\n",
            "\u001b[32m[I 2021-12-02 19:29:16,451]\u001b[0m Trial 5 finished with value: 0.7488326960895506 and parameters: {'svc_kernel': 'linear', 'svc_C': 120, 'threshold': 0.03164054084586987}. Best is trial 5 with value: 0.7488326960895506.\u001b[0m\n",
            "\u001b[32m[I 2021-12-02 19:30:41,428]\u001b[0m Trial 6 finished with value: 0.7530345542120418 and parameters: {'svc_kernel': 'linear', 'svc_C': 200, 'threshold': 0.019194742032049333}. Best is trial 6 with value: 0.7530345542120418.\u001b[0m\n",
            "\u001b[32m[I 2021-12-02 19:30:49,252]\u001b[0m Trial 7 finished with value: 0.5087535021160854 and parameters: {'svc_kernel': 'poly', 'svc_C': 200, 'svc__gamma': 0.005, 'svc_degree': 3, 'threshold': 0.14659022062519914}. Best is trial 6 with value: 0.7530345542120418.\u001b[0m\n",
            "\u001b[32m[I 2021-12-02 19:31:01,560]\u001b[0m Trial 8 finished with value: 0.7456808086422655 and parameters: {'svc_kernel': 'rbf', 'svc_C': 120, 'svc__gamma': 0.005, 'threshold': 0.07789719648984823}. Best is trial 6 with value: 0.7530345542120418.\u001b[0m\n",
            "\u001b[32m[I 2021-12-02 19:31:16,025]\u001b[0m Trial 9 finished with value: 0.7387957148335775 and parameters: {'svc_kernel': 'sigmoid', 'svc_C': 100, 'svc__gamma': 0.01, 'threshold': 0.01486568894717865}. Best is trial 6 with value: 0.7530345542120418.\u001b[0m\n",
            "\u001b[32m[I 2021-12-02 19:31:30,580]\u001b[0m Trial 10 finished with value: 0.7491823457246766 and parameters: {'svc_kernel': 'sigmoid', 'svc_C': 80, 'svc__gamma': 0.001, 'threshold': 0.004272903717092144}. Best is trial 6 with value: 0.7530345542120418.\u001b[0m\n",
            "\u001b[32m[I 2021-12-02 19:31:45,179]\u001b[0m Trial 11 finished with value: 0.7477817717625053 and parameters: {'svc_kernel': 'sigmoid', 'svc_C': 80, 'svc__gamma': 0.001, 'threshold': 0.0011178442893713943}. Best is trial 6 with value: 0.7530345542120418.\u001b[0m\n",
            "\u001b[32m[I 2021-12-02 19:31:58,091]\u001b[0m Trial 12 finished with value: 0.7517507344822114 and parameters: {'svc_kernel': 'sigmoid', 'svc_C': 80, 'svc__gamma': 0.001, 'threshold': 0.033438720422573245}. Best is trial 6 with value: 0.7530345542120418.\u001b[0m\n",
            "\u001b[32m[I 2021-12-02 19:32:16,695]\u001b[0m Trial 13 finished with value: 0.7483660197501296 and parameters: {'svc_kernel': 'linear', 'svc_C': 20, 'threshold': 0.03762965430052879}. Best is trial 6 with value: 0.7530345542120418.\u001b[0m\n",
            "\u001b[32m[I 2021-12-02 19:32:28,858]\u001b[0m Trial 14 finished with value: 0.7433461327033781 and parameters: {'svc_kernel': 'sigmoid', 'svc_C': 90, 'svc__gamma': 0.002, 'threshold': 0.060252729325481716}. Best is trial 6 with value: 0.7530345542120418.\u001b[0m\n",
            "\u001b[32m[I 2021-12-02 19:32:41,353]\u001b[0m Trial 15 finished with value: 0.7468484872016518 and parameters: {'svc_kernel': 'sigmoid', 'svc_C': 40, 'svc__gamma': 0.00025, 'threshold': 0.026500692031054294}. Best is trial 6 with value: 0.7530345542120418.\u001b[0m\n",
            "\u001b[32m[I 2021-12-02 19:32:56,073]\u001b[0m Trial 16 finished with value: 0.7469654457879582 and parameters: {'svc_kernel': 'linear', 'svc_C': 10, 'threshold': 0.05160601596527897}. Best is trial 6 with value: 0.7530345542120418.\u001b[0m\n",
            "\u001b[32m[I 2021-12-02 19:33:05,963]\u001b[0m Trial 17 finished with value: 0.5087535021160854 and parameters: {'svc_kernel': 'poly', 'svc_C': 200, 'svc__gamma': 0.001, 'svc_degree': 10, 'threshold': 0.08290899978847197}. Best is trial 6 with value: 0.7530345542120418.\u001b[0m\n",
            "\u001b[32m[I 2021-12-02 19:34:03,962]\u001b[0m Trial 18 finished with value: 0.7478995477646742 and parameters: {'svc_kernel': 'linear', 'svc_C': 150, 'threshold': 0.02685519441529124}. Best is trial 6 with value: 0.7530345542120418.\u001b[0m\n",
            "\u001b[32m[I 2021-12-02 19:34:17,760]\u001b[0m Trial 19 finished with value: 0.74696490084405 and parameters: {'svc_kernel': 'sigmoid', 'svc_C': 30, 'svc__gamma': 0.0005, 'threshold': 0.019004827561067375}. Best is trial 6 with value: 0.7530345542120418.\u001b[0m\n",
            "\u001b[32m[I 2021-12-02 19:34:51,843]\u001b[0m Trial 20 finished with value: 0.7468489640275715 and parameters: {'svc_kernel': 'linear', 'svc_C': 70, 'threshold': 0.04449814786742681}. Best is trial 6 with value: 0.7530345542120418.\u001b[0m\n",
            "\u001b[32m[I 2021-12-02 19:35:06,485]\u001b[0m Trial 21 finished with value: 0.7467313242613797 and parameters: {'svc_kernel': 'sigmoid', 'svc_C': 80, 'svc__gamma': 0.001, 'threshold': 0.0006870403725435445}. Best is trial 6 with value: 0.7530345542120418.\u001b[0m\n",
            "\u001b[32m[I 2021-12-02 19:35:20,495]\u001b[0m Trial 22 finished with value: 0.7490662045542325 and parameters: {'svc_kernel': 'sigmoid', 'svc_C': 80, 'svc__gamma': 0.001, 'threshold': 0.012627331801617767}. Best is trial 6 with value: 0.7530345542120418.\u001b[0m\n",
            "\u001b[32m[I 2021-12-02 19:35:31,932]\u001b[0m Trial 23 finished with value: 0.7512845349687101 and parameters: {'svc_kernel': 'sigmoid', 'svc_C': 80, 'svc__gamma': 0.001, 'threshold': 0.024720394065415527}. Best is trial 6 with value: 0.7530345542120418.\u001b[0m\n",
            "\u001b[32m[I 2021-12-02 19:35:44,702]\u001b[0m Trial 24 finished with value: 0.741828804508866 and parameters: {'svc_kernel': 'sigmoid', 'svc_C': 60, 'svc__gamma': 0.00025, 'threshold': 0.06570673572186769}. Best is trial 6 with value: 0.7530345542120418.\u001b[0m\n",
            "\u001b[32m[I 2021-12-02 19:35:57,668]\u001b[0m Trial 25 finished with value: 0.7478987984668003 and parameters: {'svc_kernel': 'sigmoid', 'svc_C': 200, 'svc__gamma': 0.002, 'threshold': 0.03376752073996683}. Best is trial 6 with value: 0.7530345542120418.\u001b[0m\n",
            "\u001b[32m[I 2021-12-02 19:36:09,307]\u001b[0m Trial 26 finished with value: 0.7457981759365031 and parameters: {'svc_kernel': 'rbf', 'svc_C': 80, 'svc__gamma': 0.01, 'threshold': 0.09292515307556962}. Best is trial 6 with value: 0.7530345542120418.\u001b[0m\n",
            "\u001b[32m[I 2021-12-02 19:36:18,044]\u001b[0m Trial 27 finished with value: 0.7495331533656076 and parameters: {'svc_kernel': 'poly', 'svc_C': 20, 'svc__gamma': 0.0015, 'svc_degree': 1, 'threshold': 0.02270837108104904}. Best is trial 6 with value: 0.7530345542120418.\u001b[0m\n",
            "\u001b[32m[I 2021-12-02 19:36:30,674]\u001b[0m Trial 28 finished with value: 0.7488330366794933 and parameters: {'svc_kernel': 'sigmoid', 'svc_C': 180, 'svc__gamma': 0.001, 'threshold': 0.04156704395611618}. Best is trial 6 with value: 0.7530345542120418.\u001b[0m\n",
            "\u001b[32m[I 2021-12-02 19:36:45,301]\u001b[0m Trial 29 finished with value: 0.7457974947566178 and parameters: {'svc_kernel': 'rbf', 'svc_C': 10, 'svc__gamma': 0.001, 'threshold': 0.0535829077855628}. Best is trial 6 with value: 0.7530345542120418.\u001b[0m\n",
            "\u001b[32m[I 2021-12-02 19:37:24,369]\u001b[0m Trial 30 finished with value: 0.7521003159993489 and parameters: {'svc_kernel': 'linear', 'svc_C': 60, 'threshold': 0.010978838330292257}. Best is trial 6 with value: 0.7530345542120418.\u001b[0m\n",
            "\u001b[32m[I 2021-12-02 19:38:03,903]\u001b[0m Trial 31 finished with value: 0.7518667394166784 and parameters: {'svc_kernel': 'linear', 'svc_C': 60, 'threshold': 0.011923129494413206}. Best is trial 6 with value: 0.7530345542120418.\u001b[0m\n",
            "\u001b[32m[I 2021-12-02 19:38:44,230]\u001b[0m Trial 32 finished with value: 0.7533844082011334 and parameters: {'svc_kernel': 'linear', 'svc_C': 60, 'threshold': 0.008753639372644588}. Best is trial 32 with value: 0.7533844082011334.\u001b[0m\n",
            "\u001b[32m[I 2021-12-02 19:39:23,801]\u001b[0m Trial 33 finished with value: 0.7515169535455754 and parameters: {'svc_kernel': 'linear', 'svc_C': 60, 'threshold': 0.009273262463464214}. Best is trial 32 with value: 0.7533844082011334.\u001b[0m\n",
            "\u001b[32m[I 2021-12-02 19:40:03,033]\u001b[0m Trial 34 finished with value: 0.7512834450808935 and parameters: {'svc_kernel': 'linear', 'svc_C': 60, 'threshold': 0.010482607541090259}. Best is trial 32 with value: 0.7533844082011334.\u001b[0m\n",
            "\u001b[32m[I 2021-12-02 19:40:21,249]\u001b[0m Trial 35 finished with value: 0.7223369783268996 and parameters: {'svc_kernel': 'linear', 'svc_C': 60, 'threshold': 0.11717291577647071}. Best is trial 32 with value: 0.7533844082011334.\u001b[0m\n",
            "\u001b[32m[I 2021-12-02 19:40:59,260]\u001b[0m Trial 36 finished with value: 0.7507004913350512 and parameters: {'svc_kernel': 'linear', 'svc_C': 60, 'threshold': 0.018384204760834494}. Best is trial 32 with value: 0.7533844082011334.\u001b[0m\n",
            "\u001b[32m[I 2021-12-02 19:41:41,989]\u001b[0m Trial 37 finished with value: 0.7494166716052209 and parameters: {'svc_kernel': 'linear', 'svc_C': 60, 'threshold': 0.00673870370305364}. Best is trial 32 with value: 0.7533844082011334.\u001b[0m\n",
            "\u001b[32m[I 2021-12-02 19:42:21,258]\u001b[0m Trial 38 finished with value: 0.75245064681436 and parameters: {'svc_kernel': 'linear', 'svc_C': 60, 'threshold': 0.01472713137501612}. Best is trial 32 with value: 0.7533844082011334.\u001b[0m\n",
            "\u001b[32m[I 2021-12-02 19:42:28,883]\u001b[0m Trial 39 finished with value: 0.6420362237839407 and parameters: {'svc_kernel': 'linear', 'svc_C': 30, 'threshold': 0.14199223225306667}. Best is trial 32 with value: 0.7533844082011334.\u001b[0m\n",
            "\u001b[32m[I 2021-12-02 19:43:34,889]\u001b[0m Trial 40 finished with value: 0.7495332214835961 and parameters: {'svc_kernel': 'linear', 'svc_C': 200, 'threshold': 0.02853541528909306}. Best is trial 32 with value: 0.7533844082011334.\u001b[0m\n",
            "\u001b[32m[I 2021-12-02 19:44:13,803]\u001b[0m Trial 41 finished with value: 0.75245064681436 and parameters: {'svc_kernel': 'linear', 'svc_C': 60, 'threshold': 0.016022621279819335}. Best is trial 32 with value: 0.7533844082011334.\u001b[0m\n",
            "\u001b[32m[I 2021-12-02 19:44:48,760]\u001b[0m Trial 42 finished with value: 0.751634184603836 and parameters: {'svc_kernel': 'linear', 'svc_C': 50, 'threshold': 0.017551533848023305}. Best is trial 32 with value: 0.7533844082011334.\u001b[0m\n",
            "\u001b[32m[I 2021-12-02 19:45:38,512]\u001b[0m Trial 43 finished with value: 0.7494161266613126 and parameters: {'svc_kernel': 'linear', 'svc_C': 60, 'threshold': 0.0006194912388191604}. Best is trial 32 with value: 0.7533844082011334.\u001b[0m\n",
            "\u001b[32m[I 2021-12-02 19:46:32,343]\u001b[0m Trial 44 finished with value: 0.7525672648107239 and parameters: {'svc_kernel': 'linear', 'svc_C': 100, 'threshold': 0.016794667070592014}. Best is trial 32 with value: 0.7533844082011334.\u001b[0m\n",
            "\u001b[32m[I 2021-12-02 19:47:15,594]\u001b[0m Trial 45 finished with value: 0.7488327642075391 and parameters: {'svc_kernel': 'linear', 'svc_C': 100, 'threshold': 0.037973092042411366}. Best is trial 32 with value: 0.7533844082011334.\u001b[0m\n",
            "\u001b[32m[I 2021-12-02 19:48:05,934]\u001b[0m Trial 46 finished with value: 0.7498835522986075 and parameters: {'svc_kernel': 'linear', 'svc_C': 100, 'threshold': 0.0209234191389033}. Best is trial 32 with value: 0.7533844082011334.\u001b[0m\n",
            "\u001b[32m[I 2021-12-02 19:48:20,739]\u001b[0m Trial 47 finished with value: 0.5087535021160854 and parameters: {'svc_kernel': 'poly', 'svc_C': 90, 'svc__gamma': 0.002, 'svc_degree': 10, 'threshold': 0.03175595973813482}. Best is trial 32 with value: 0.7533844082011334.\u001b[0m\n",
            "\u001b[32m[I 2021-12-02 19:48:35,350]\u001b[0m Trial 48 finished with value: 0.7515170897815524 and parameters: {'svc_kernel': 'rbf', 'svc_C': 100, 'svc__gamma': 0.0015, 'threshold': 0.016695747285261887}. Best is trial 32 with value: 0.7533844082011334.\u001b[0m\n",
            "\u001b[32m[I 2021-12-02 19:49:42,798]\u001b[0m Trial 49 finished with value: 0.750816836859461 and parameters: {'svc_kernel': 'linear', 'svc_C': 120, 'threshold': 0.0069880962739553455}. Best is trial 32 with value: 0.7533844082011334.\u001b[0m\n",
            "\u001b[32m[I 2021-12-02 19:50:07,989]\u001b[0m Trial 50 finished with value: 0.7491822776066881 and parameters: {'svc_kernel': 'linear', 'svc_C': 40, 'threshold': 0.05303983985144941}. Best is trial 32 with value: 0.7533844082011334.\u001b[0m\n",
            "\u001b[32m[I 2021-12-02 19:51:31,350]\u001b[0m Trial 51 finished with value: 0.7481324431674592 and parameters: {'svc_kernel': 'linear', 'svc_C': 150, 'threshold': 0.006084320215067707}. Best is trial 32 with value: 0.7533844082011334.\u001b[0m\n",
            "\u001b[32m[I 2021-12-02 19:52:16,068]\u001b[0m Trial 52 finished with value: 0.7514005399031771 and parameters: {'svc_kernel': 'linear', 'svc_C': 70, 'threshold': 0.012948844156843206}. Best is trial 32 with value: 0.7533844082011334.\u001b[0m\n",
            "\u001b[32m[I 2021-12-02 19:52:50,975]\u001b[0m Trial 53 finished with value: 0.7488327642075391 and parameters: {'svc_kernel': 'linear', 'svc_C': 60, 'threshold': 0.022761781221991576}. Best is trial 32 with value: 0.7533844082011334.\u001b[0m\n",
            "\u001b[32m[I 2021-12-02 19:53:59,178]\u001b[0m Trial 54 finished with value: 0.7488327642075392 and parameters: {'svc_kernel': 'linear', 'svc_C': 200, 'threshold': 0.037308499876489494}. Best is trial 32 with value: 0.7533844082011334.\u001b[0m\n",
            "\u001b[32m[I 2021-12-02 19:55:01,569]\u001b[0m Trial 55 finished with value: 0.749183163140539 and parameters: {'svc_kernel': 'linear', 'svc_C': 180, 'threshold': 0.02989531747192055}. Best is trial 32 with value: 0.7533844082011334.\u001b[0m\n",
            "\u001b[32m[I 2021-12-02 19:55:37,052]\u001b[0m Trial 56 finished with value: 0.7522172064676669 and parameters: {'svc_kernel': 'linear', 'svc_C': 50, 'threshold': 0.014873009330356504}. Best is trial 32 with value: 0.7533844082011334.\u001b[0m\n",
            "\u001b[32m[I 2021-12-02 19:55:53,229]\u001b[0m Trial 57 finished with value: 0.5087535021160854 and parameters: {'svc_kernel': 'poly', 'svc_C': 50, 'svc__gamma': 0.0005, 'svc_degree': 6, 'threshold': 0.01702490318362884}. Best is trial 32 with value: 0.7533844082011334.\u001b[0m\n",
            "\u001b[32m[I 2021-12-02 19:56:35,389]\u001b[0m Trial 58 finished with value: 0.748599460096823 and parameters: {'svc_kernel': 'linear', 'svc_C': 50, 'threshold': 0.0022047151663252725}. Best is trial 32 with value: 0.7533844082011334.\u001b[0m\n",
            "\u001b[32m[I 2021-12-02 19:56:50,199]\u001b[0m Trial 59 finished with value: 0.7470815869584024 and parameters: {'svc_kernel': 'rbf', 'svc_C': 50, 'svc__gamma': 0.00025, 'threshold': 0.04751903245854297}. Best is trial 32 with value: 0.7533844082011334.\u001b[0m\n",
            "\u001b[32m[I 2021-12-02 19:57:22,111]\u001b[0m Trial 60 finished with value: 0.740661943365342 and parameters: {'svc_kernel': 'linear', 'svc_C': 100, 'threshold': 0.07187157251992185}. Best is trial 32 with value: 0.7533844082011334.\u001b[0m\n",
            "\u001b[32m[I 2021-12-02 19:58:02,070]\u001b[0m Trial 61 finished with value: 0.7504667785164039 and parameters: {'svc_kernel': 'linear', 'svc_C': 60, 'threshold': 0.01328310630863062}. Best is trial 32 with value: 0.7533844082011334.\u001b[0m\n",
            "\u001b[32m[I 2021-12-02 19:58:21,482]\u001b[0m Trial 62 finished with value: 0.7498836885345845 and parameters: {'svc_kernel': 'linear', 'svc_C': 20, 'threshold': 0.02324804625024604}. Best is trial 32 with value: 0.7533844082011334.\u001b[0m\n",
            "\u001b[32m[I 2021-12-02 19:59:06,279]\u001b[0m Trial 63 finished with value: 0.7480154845811526 and parameters: {'svc_kernel': 'linear', 'svc_C': 60, 'threshold': 0.006215931898978191}. Best is trial 32 with value: 0.7533844082011334.\u001b[0m\n",
            "\u001b[32m[I 2021-12-02 19:59:19,475]\u001b[0m Trial 64 finished with value: 0.7475495575396055 and parameters: {'svc_kernel': 'linear', 'svc_C': 10, 'threshold': 0.028388997939667003}. Best is trial 32 with value: 0.7533844082011334.\u001b[0m\n",
            "\u001b[32m[I 2021-12-02 20:00:49,202]\u001b[0m Trial 65 finished with value: 0.7504668466343924 and parameters: {'svc_kernel': 'linear', 'svc_C': 200, 'threshold': 0.013914742820722577}. Best is trial 32 with value: 0.7533844082011334.\u001b[0m\n",
            "\u001b[32m[I 2021-12-02 20:01:39,981]\u001b[0m Trial 66 finished with value: 0.7501171288812778 and parameters: {'svc_kernel': 'linear', 'svc_C': 120, 'threshold': 0.024754019491159577}. Best is trial 32 with value: 0.7533844082011334.\u001b[0m\n",
            "\u001b[32m[I 2021-12-02 20:01:54,427]\u001b[0m Trial 67 finished with value: 0.5087535021160854 and parameters: {'svc_kernel': 'poly', 'svc_C': 90, 'svc__gamma': 0.01, 'svc_degree': 8, 'threshold': 0.009325825091700518}. Best is trial 32 with value: 0.7533844082011334.\u001b[0m\n",
            "\u001b[32m[I 2021-12-02 20:02:50,014]\u001b[0m Trial 68 finished with value: 0.7484825015105164 and parameters: {'svc_kernel': 'linear', 'svc_C': 150, 'threshold': 0.03650719723560762}. Best is trial 32 with value: 0.7533844082011334.\u001b[0m\n",
            "\u001b[32m[I 2021-12-02 20:03:29,551]\u001b[0m Trial 69 finished with value: 0.7496497032439831 and parameters: {'svc_kernel': 'linear', 'svc_C': 40, 'threshold': 0.00013564640317827517}. Best is trial 32 with value: 0.7533844082011334.\u001b[0m\n",
            "\u001b[32m[I 2021-12-02 20:03:43,306]\u001b[0m Trial 70 finished with value: 0.7521013377691768 and parameters: {'svc_kernel': 'rbf', 'svc_C': 60, 'svc__gamma': 0.0005, 'threshold': 0.020567076067589198}. Best is trial 32 with value: 0.7533844082011334.\u001b[0m\n",
            "\u001b[32m[I 2021-12-02 20:03:56,897]\u001b[0m Trial 71 finished with value: 0.7510506859140855 and parameters: {'svc_kernel': 'rbf', 'svc_C': 60, 'svc__gamma': 0.0005, 'threshold': 0.021531592446507365}. Best is trial 32 with value: 0.7533844082011334.\u001b[0m\n",
            "\u001b[32m[I 2021-12-02 20:04:11,743]\u001b[0m Trial 72 finished with value: 0.7494162628972896 and parameters: {'svc_kernel': 'rbf', 'svc_C': 60, 'svc__gamma': 0.0005, 'threshold': 0.01687507103655469}. Best is trial 32 with value: 0.7533844082011334.\u001b[0m\n",
            "\u001b[32m[I 2021-12-02 20:04:29,744]\u001b[0m Trial 73 finished with value: 0.750116515819381 and parameters: {'svc_kernel': 'rbf', 'svc_C': 30, 'svc__gamma': 0.0005, 'threshold': 0.00450789081481071}. Best is trial 32 with value: 0.7533844082011334.\u001b[0m\n",
            "\u001b[32m[I 2021-12-02 20:04:43,262]\u001b[0m Trial 74 finished with value: 0.7484827739824707 and parameters: {'svc_kernel': 'rbf', 'svc_C': 60, 'svc__gamma': 0.0005, 'threshold': 0.00902203000051547}. Best is trial 32 with value: 0.7533844082011334.\u001b[0m\n",
            "\u001b[32m[I 2021-12-02 20:05:19,059]\u001b[0m Trial 75 finished with value: 0.7494165353692437 and parameters: {'svc_kernel': 'linear', 'svc_C': 70, 'threshold': 0.02612811739424164}. Best is trial 32 with value: 0.7533844082011334.\u001b[0m\n",
            "\u001b[32m[I 2021-12-02 20:05:37,545]\u001b[0m Trial 76 finished with value: 0.7401954713798866 and parameters: {'svc_kernel': 'linear', 'svc_C': 60, 'threshold': 0.10555242429547924}. Best is trial 32 with value: 0.7533844082011334.\u001b[0m\n",
            "\u001b[32m[I 2021-12-02 20:05:51,824]\u001b[0m Trial 77 finished with value: 0.7549016682776571 and parameters: {'svc_kernel': 'rbf', 'svc_C': 60, 'svc__gamma': 0.005, 'threshold': 0.018886659770069335}. Best is trial 77 with value: 0.7549016682776571.\u001b[0m\n",
            "\u001b[32m[I 2021-12-02 20:06:06,705]\u001b[0m Trial 78 finished with value: 0.751518452141323 and parameters: {'svc_kernel': 'rbf', 'svc_C': 200, 'svc__gamma': 0.005, 'threshold': 0.03171290670678843}. Best is trial 77 with value: 0.7549016682776571.\u001b[0m\n",
            "\u001b[32m[I 2021-12-02 20:06:20,438]\u001b[0m Trial 79 finished with value: 0.753501639259394 and parameters: {'svc_kernel': 'rbf', 'svc_C': 50, 'svc__gamma': 0.005, 'threshold': 0.020141345503508348}. Best is trial 77 with value: 0.7549016682776571.\u001b[0m\n",
            "\u001b[32m[I 2021-12-02 20:06:34,389]\u001b[0m Trial 80 finished with value: 0.7511676445003921 and parameters: {'svc_kernel': 'rbf', 'svc_C': 50, 'svc__gamma': 0.005, 'threshold': 0.04298913801543025}. Best is trial 77 with value: 0.7549016682776571.\u001b[0m\n",
            "\u001b[32m[I 2021-12-02 20:06:48,278]\u001b[0m Trial 81 finished with value: 0.7543185782958377 and parameters: {'svc_kernel': 'rbf', 'svc_C': 50, 'svc__gamma': 0.005, 'threshold': 0.019556383018238088}. Best is trial 77 with value: 0.7549016682776571.\u001b[0m\n",
            "\u001b[32m[I 2021-12-02 20:07:02,737]\u001b[0m Trial 82 finished with value: 0.7543181014699181 and parameters: {'svc_kernel': 'rbf', 'svc_C': 50, 'svc__gamma': 0.005, 'threshold': 0.01649090669333115}. Best is trial 77 with value: 0.7549016682776571.\u001b[0m\n",
            "\u001b[32m[I 2021-12-02 20:07:17,018]\u001b[0m Trial 83 finished with value: 0.75280104574736 and parameters: {'svc_kernel': 'rbf', 'svc_C': 50, 'svc__gamma': 0.005, 'threshold': 0.018446369167275045}. Best is trial 77 with value: 0.7549016682776571.\u001b[0m\n",
            "\u001b[32m[I 2021-12-02 20:07:27,404]\u001b[0m Trial 84 finished with value: 0.707864426129788 and parameters: {'svc_kernel': 'rbf', 'svc_C': 50, 'svc__gamma': 0.005, 'threshold': 0.12860525147682972}. Best is trial 77 with value: 0.7549016682776571.\u001b[0m\n",
            "\u001b[32m[I 2021-12-02 20:07:39,408]\u001b[0m Trial 85 finished with value: 0.7517518243700279 and parameters: {'svc_kernel': 'rbf', 'svc_C': 50, 'svc__gamma': 0.005, 'threshold': 0.027805061718751425}. Best is trial 77 with value: 0.7549016682776571.\u001b[0m\n",
            "\u001b[32m[I 2021-12-02 20:07:53,084]\u001b[0m Trial 86 finished with value: 0.7523348462338586 and parameters: {'svc_kernel': 'rbf', 'svc_C': 50, 'svc__gamma': 0.005, 'threshold': 0.034299258492395845}. Best is trial 77 with value: 0.7549016682776571.\u001b[0m\n",
            "\u001b[32m[I 2021-12-02 20:08:06,795]\u001b[0m Trial 87 finished with value: 0.753501639259394 and parameters: {'svc_kernel': 'rbf', 'svc_C': 50, 'svc__gamma': 0.005, 'threshold': 0.020173825985313573}. Best is trial 77 with value: 0.7549016682776571.\u001b[0m\n",
            "\u001b[32m[I 2021-12-02 20:08:18,136]\u001b[0m Trial 88 finished with value: 0.7461482342795602 and parameters: {'svc_kernel': 'rbf', 'svc_C': 50, 'svc__gamma': 0.005, 'threshold': 0.08795512672990885}. Best is trial 77 with value: 0.7549016682776571.\u001b[0m\n",
            "\u001b[32m[I 2021-12-02 20:08:31,619]\u001b[0m Trial 89 finished with value: 0.7535015711414055 and parameters: {'svc_kernel': 'rbf', 'svc_C': 50, 'svc__gamma': 0.005, 'threshold': 0.021120396464653905}. Best is trial 77 with value: 0.7549016682776571.\u001b[0m\n",
            "\u001b[32m[I 2021-12-02 20:08:45,349]\u001b[0m Trial 90 finished with value: 0.753501639259394 and parameters: {'svc_kernel': 'rbf', 'svc_C': 50, 'svc__gamma': 0.005, 'threshold': 0.020237819636687433}. Best is trial 77 with value: 0.7549016682776571.\u001b[0m\n",
            "\u001b[32m[I 2021-12-02 20:08:59,186]\u001b[0m Trial 91 finished with value: 0.7540850698311559 and parameters: {'svc_kernel': 'rbf', 'svc_C': 50, 'svc__gamma': 0.005, 'threshold': 0.020522121279294658}. Best is trial 77 with value: 0.7549016682776571.\u001b[0m\n",
            "\u001b[32m[I 2021-12-02 20:09:11,534]\u001b[0m Trial 92 finished with value: 0.7525684909345175 and parameters: {'svc_kernel': 'rbf', 'svc_C': 50, 'svc__gamma': 0.005, 'threshold': 0.025220261980782647}. Best is trial 77 with value: 0.7549016682776571.\u001b[0m\n",
            "\u001b[32m[I 2021-12-02 20:09:25,504]\u001b[0m Trial 93 finished with value: 0.7543185782958377 and parameters: {'svc_kernel': 'rbf', 'svc_C': 50, 'svc__gamma': 0.005, 'threshold': 0.019725317722399188}. Best is trial 77 with value: 0.7549016682776571.\u001b[0m\n",
            "\u001b[32m[I 2021-12-02 20:09:39,342]\u001b[0m Trial 94 finished with value: 0.7523348462338586 and parameters: {'svc_kernel': 'rbf', 'svc_C': 50, 'svc__gamma': 0.005, 'threshold': 0.04042445396349695}. Best is trial 77 with value: 0.7549016682776571.\u001b[0m\n",
            "\u001b[32m[I 2021-12-02 20:09:53,011]\u001b[0m Trial 95 finished with value: 0.753501639259394 and parameters: {'svc_kernel': 'rbf', 'svc_C': 50, 'svc__gamma': 0.005, 'threshold': 0.019900363547035248}. Best is trial 77 with value: 0.7549016682776571.\u001b[0m\n",
            "\u001b[32m[I 2021-12-02 20:10:06,765]\u001b[0m Trial 96 finished with value: 0.7540850698311559 and parameters: {'svc_kernel': 'rbf', 'svc_C': 50, 'svc__gamma': 0.005, 'threshold': 0.02055994470876321}. Best is trial 77 with value: 0.7549016682776571.\u001b[0m\n",
            "\u001b[32m[I 2021-12-02 20:10:18,224]\u001b[0m Trial 97 finished with value: 0.7535022523212908 and parameters: {'svc_kernel': 'rbf', 'svc_C': 50, 'svc__gamma': 0.005, 'threshold': 0.030013150228986027}. Best is trial 77 with value: 0.7549016682776571.\u001b[0m\n",
            "\u001b[32m[I 2021-12-02 20:10:29,740]\u001b[0m Trial 98 finished with value: 0.7535022523212908 and parameters: {'svc_kernel': 'rbf', 'svc_C': 50, 'svc__gamma': 0.005, 'threshold': 0.030496660995751122}. Best is trial 77 with value: 0.7549016682776571.\u001b[0m\n",
            "\u001b[32m[I 2021-12-02 20:10:43,838]\u001b[0m Trial 99 finished with value: 0.7511676445003921 and parameters: {'svc_kernel': 'rbf', 'svc_C': 50, 'svc__gamma': 0.005, 'threshold': 0.04798852248362598}. Best is trial 77 with value: 0.7549016682776571.\u001b[0m\n"
          ]
        }
      ]
    },
    {
      "cell_type": "markdown",
      "metadata": {
        "id": "9-K2kwxL4t7t"
      },
      "source": [
        "Σύμφωνα με τα παραπάνω αποτέλεσματα μπορούμε να δούμε ότι η καλύτερη επίδοση όσο αναφορά το accuracy επιτυγχάνεται για τον ακόλουθο συνδιασμό υπερπαραμέτρων:\n",
        "\n",
        "* kernel = rbf \n",
        "* C = 60\n",
        "* gamma = 0.005\n",
        "* threshold = 0.02\n",
        "\n",
        "Το 5-fold cross validation accuracy που πετυχαίνουμε με τον παραπάνω συνδιασμό υπερπαραμέτρων είναι 0.7549 ή 75.49%"
      ]
    },
    {
      "cell_type": "markdown",
      "metadata": {
        "id": "Zp0xD4XkamGr"
      },
      "source": [
        "Γενικά μπορούμε να παρατηρήσουμε τα εξής αποτελέσματα:\n",
        "* O SVM με kernel = rbf παρουσιάζει το καλύτερο accuracy το οποίο είναι περίπου 75.5%\n",
        "* Ο SVM με kernel = sigmoid ή linear ακολουθούν με 75.4 accuracy.\n",
        "* O SVM με kernel - poly παρουσιάζει πολύ κακή επίδοση με accuracy κοντά στο 53%.\n",
        "\n",
        "Βέβαια εδώ χρειάζεται να παρατηρίσουμε ότι τα παραπάνω συμπεράσματα προέκυψαν από την επιλογή πολύ λίγων τιμών για τις παραμέτρους C , gamma , degree του SVM. Στην συνέχεια αναλύεται ο ταξινομητής SVM για κάθε kernel ξεχωριστά όπου οι παράμετροι του ταξινομιτή αξιολογούνται για πολύ μεγαλύτερο εύρος τιμών. "
      ]
    },
    {
      "cell_type": "markdown",
      "metadata": {
        "id": "WIJpF9IGWDWC"
      },
      "source": [
        "Στην συνέχεια ακολουθούμε την ίδια διαδικασία επιλέγοντας αυτήν την φορά την f1 ως μέτρο της επίδοσης:"
      ]
    },
    {
      "cell_type": "code",
      "metadata": {
        "id": "w_24rgClWOB5",
        "colab": {
          "base_uri": "https://localhost:8080/"
        },
        "outputId": "daac8a3b-f93a-4cab-9859-7cf2c9771e99"
      },
      "source": [
        "import optuna\n",
        "from sklearn.svm import SVC\n",
        "from sklearn.model_selection import cross_val_score\n",
        "\n",
        "from sklearn.pipeline import Pipeline\n",
        "from sklearn import preprocessing\n",
        "from sklearn.feature_selection import VarianceThreshold\n",
        "\n",
        "\n",
        "def objective(trial):\n",
        "\n",
        "    \n",
        "    svc_kernel = trial.suggest_categorical('svc_kernel',['linear','rbf','poly','sigmoid'])\n",
        "    svc_C = trial.suggest_categorical('svc_C',[10,20,30,40, 50, 60,70,80,90,100,120,150,180,200])\n",
        "\n",
        "    if svc_kernel in ['rbf','poly','sigmoid']:\n",
        "\n",
        "      svc_gamma = trial.suggest_categorical('svc__gamma',[0.00025, 0.0005, 0.001,0.005,0.01,0.0015,0.002,])\n",
        "      if svc_kernel == 'poly':\n",
        "        svc_degree = trial.suggest_int('svc_degree',1,10)\n",
        "        svm = SVC(kernel = svc_kernel,gamma = svc_gamma , C = svc_C, degree = svc_degree)\n",
        "\n",
        "      else:\n",
        "\n",
        "        svm = SVC(kernel = svc_kernel,gamma = svc_gamma , C = svc_C)\n",
        "\n",
        "    else:\n",
        "\n",
        "       svm = SVC(kernel = svc_kernel, C = svc_C)\n",
        "      \n",
        "      \n",
        "    threshold = trial.suggest_float('threshold', 0.0, 0.15)\n",
        "\n",
        "    clf = Pipeline(steps = [('minmax_scaler', preprocessing.MinMaxScaler()), ('selector', VarianceThreshold(threshold)), ('svm', svm)])\n",
        "   \n",
        "    return np.mean(cross_val_score(clf, X_train_small, y_train_small, cv = 5, scoring = 'f1'))\n",
        "\n",
        "study = optuna.create_study(direction = 'maximize')\n",
        "study.optimize(objective, n_trials = 50)"
      ],
      "execution_count": null,
      "outputs": [
        {
          "output_type": "stream",
          "name": "stderr",
          "text": [
            "\u001b[32m[I 2021-12-03 14:25:32,458]\u001b[0m A new study created in memory with name: no-name-962a718c-780f-42ba-a652-ae79079b7410\u001b[0m\n",
            "\u001b[32m[I 2021-12-03 14:25:44,048]\u001b[0m Trial 0 finished with value: 0.0 and parameters: {'svc_kernel': 'poly', 'svc_C': 30, 'svc__gamma': 0.002, 'svc_degree': 10, 'threshold': 0.10314442403421005}. Best is trial 0 with value: 0.0.\u001b[0m\n",
            "\u001b[32m[I 2021-12-03 14:25:58,443]\u001b[0m Trial 1 finished with value: 0.7498140987964443 and parameters: {'svc_kernel': 'linear', 'svc_C': 10, 'threshold': 0.07553873390301985}. Best is trial 1 with value: 0.7498140987964443.\u001b[0m\n",
            "\u001b[32m[I 2021-12-03 14:26:10,348]\u001b[0m Trial 2 finished with value: 0.6077463617630864 and parameters: {'svc_kernel': 'rbf', 'svc_C': 30, 'svc__gamma': 0.00025, 'threshold': 0.13842332161962786}. Best is trial 1 with value: 0.7498140987964443.\u001b[0m\n",
            "\u001b[32m[I 2021-12-03 14:26:29,352]\u001b[0m Trial 3 finished with value: 0.0 and parameters: {'svc_kernel': 'poly', 'svc_C': 10, 'svc__gamma': 0.002, 'svc_degree': 8, 'threshold': 0.016977001288778226}. Best is trial 1 with value: 0.7498140987964443.\u001b[0m\n",
            "\u001b[32m[I 2021-12-03 14:26:42,661]\u001b[0m Trial 4 finished with value: 0.7585549824753283 and parameters: {'svc_kernel': 'sigmoid', 'svc_C': 80, 'svc__gamma': 0.00025, 'threshold': 0.04239392096955556}. Best is trial 4 with value: 0.7585549824753283.\u001b[0m\n",
            "\u001b[32m[I 2021-12-03 14:26:54,854]\u001b[0m Trial 5 finished with value: 0.6077463617630864 and parameters: {'svc_kernel': 'rbf', 'svc_C': 20, 'svc__gamma': 0.001, 'threshold': 0.14743605299301465}. Best is trial 4 with value: 0.7585549824753283.\u001b[0m\n",
            "\u001b[32m[I 2021-12-03 14:27:11,292]\u001b[0m Trial 6 finished with value: 0.7546887247281373 and parameters: {'svc_kernel': 'sigmoid', 'svc_C': 40, 'svc__gamma': 0.0005, 'threshold': 0.013997327888477074}. Best is trial 4 with value: 0.7585549824753283.\u001b[0m\n",
            "\u001b[32m[I 2021-12-03 14:27:27,035]\u001b[0m Trial 7 finished with value: 0.7173926095733918 and parameters: {'svc_kernel': 'sigmoid', 'svc_C': 10, 'svc__gamma': 0.0005, 'threshold': 0.10509612578209161}. Best is trial 4 with value: 0.7585549824753283.\u001b[0m\n",
            "\u001b[32m[I 2021-12-03 14:27:38,166]\u001b[0m Trial 8 finished with value: 0.6077463617630864 and parameters: {'svc_kernel': 'sigmoid', 'svc_C': 30, 'svc__gamma': 0.001, 'threshold': 0.1404864934707541}. Best is trial 4 with value: 0.7585549824753283.\u001b[0m\n",
            "\u001b[32m[I 2021-12-03 14:27:51,981]\u001b[0m Trial 9 finished with value: 0.750201807786538 and parameters: {'svc_kernel': 'sigmoid', 'svc_C': 40, 'svc__gamma': 0.0015, 'threshold': 0.0800165579950284}. Best is trial 4 with value: 0.7585549824753283.\u001b[0m\n",
            "\u001b[32m[I 2021-12-03 14:28:37,935]\u001b[0m Trial 10 finished with value: 0.7496069398784619 and parameters: {'svc_kernel': 'linear', 'svc_C': 80, 'threshold': 0.0362094835543085}. Best is trial 4 with value: 0.7585549824753283.\u001b[0m\n",
            "\u001b[32m[I 2021-12-03 14:28:51,172]\u001b[0m Trial 11 finished with value: 0.7585549824753283 and parameters: {'svc_kernel': 'sigmoid', 'svc_C': 80, 'svc__gamma': 0.00025, 'threshold': 0.03848028885621231}. Best is trial 4 with value: 0.7585549824753283.\u001b[0m\n",
            "\u001b[32m[I 2021-12-03 14:29:04,425]\u001b[0m Trial 12 finished with value: 0.7585549824753283 and parameters: {'svc_kernel': 'sigmoid', 'svc_C': 80, 'svc__gamma': 0.00025, 'threshold': 0.04351303390878922}. Best is trial 4 with value: 0.7585549824753283.\u001b[0m\n",
            "\u001b[32m[I 2021-12-03 14:29:17,673]\u001b[0m Trial 13 finished with value: 0.7572096543013096 and parameters: {'svc_kernel': 'sigmoid', 'svc_C': 70, 'svc__gamma': 0.00025, 'threshold': 0.04801696071588803}. Best is trial 4 with value: 0.7585549824753283.\u001b[0m\n",
            "\u001b[32m[I 2021-12-03 14:29:33,911]\u001b[0m Trial 14 finished with value: 0.7549603672517036 and parameters: {'svc_kernel': 'sigmoid', 'svc_C': 120, 'svc__gamma': 0.00025, 'threshold': 0.056641496943777875}. Best is trial 4 with value: 0.7585549824753283.\u001b[0m\n",
            "\u001b[32m[I 2021-12-03 14:29:56,913]\u001b[0m Trial 15 finished with value: 0.7059423823363058 and parameters: {'svc_kernel': 'sigmoid', 'svc_C': 100, 'svc__gamma': 0.01, 'threshold': 0.005080129435508236}. Best is trial 4 with value: 0.7585549824753283.\u001b[0m\n",
            "\u001b[32m[I 2021-12-03 14:30:05,873]\u001b[0m Trial 16 finished with value: 0.7518073741049878 and parameters: {'svc_kernel': 'poly', 'svc_C': 50, 'svc__gamma': 0.005, 'svc_degree': 1, 'threshold': 0.027947093588517505}. Best is trial 4 with value: 0.7585549824753283.\u001b[0m\n",
            "\u001b[32m[I 2021-12-03 14:30:48,967]\u001b[0m Trial 17 finished with value: 0.7506441740550656 and parameters: {'svc_kernel': 'linear', 'svc_C': 80, 'threshold': 0.06371922730776172}. Best is trial 4 with value: 0.7585549824753283.\u001b[0m\n",
            "\u001b[32m[I 2021-12-03 14:31:02,443]\u001b[0m Trial 18 finished with value: 0.7444170599179406 and parameters: {'svc_kernel': 'rbf', 'svc_C': 150, 'svc__gamma': 0.00025, 'threshold': 0.09750739927774103}. Best is trial 4 with value: 0.7585549824753283.\u001b[0m\n",
            "\u001b[32m[I 2021-12-03 14:31:17,878]\u001b[0m Trial 19 finished with value: 0.7455512286781328 and parameters: {'svc_kernel': 'sigmoid', 'svc_C': 180, 'svc__gamma': 0.005, 'threshold': 0.06205393099432127}. Best is trial 4 with value: 0.7585549824753283.\u001b[0m\n",
            "\u001b[32m[I 2021-12-03 14:31:30,079]\u001b[0m Trial 20 finished with value: 0.7184124465988886 and parameters: {'svc_kernel': 'sigmoid', 'svc_C': 200, 'svc__gamma': 0.01, 'threshold': 0.02613906044691479}. Best is trial 4 with value: 0.7585549824753283.\u001b[0m\n",
            "\u001b[32m[I 2021-12-03 14:31:43,365]\u001b[0m Trial 21 finished with value: 0.7585549824753283 and parameters: {'svc_kernel': 'sigmoid', 'svc_C': 80, 'svc__gamma': 0.00025, 'threshold': 0.04094889378322824}. Best is trial 4 with value: 0.7585549824753283.\u001b[0m\n",
            "\u001b[32m[I 2021-12-03 14:31:56,605]\u001b[0m Trial 22 finished with value: 0.7585549824753283 and parameters: {'svc_kernel': 'sigmoid', 'svc_C': 80, 'svc__gamma': 0.00025, 'threshold': 0.04894462854095547}. Best is trial 4 with value: 0.7585549824753283.\u001b[0m\n",
            "\u001b[32m[I 2021-12-03 14:32:10,119]\u001b[0m Trial 23 finished with value: 0.7550570162939745 and parameters: {'svc_kernel': 'sigmoid', 'svc_C': 60, 'svc__gamma': 0.00025, 'threshold': 0.03278755614550434}. Best is trial 4 with value: 0.7585549824753283.\u001b[0m\n",
            "\u001b[32m[I 2021-12-03 14:32:25,468]\u001b[0m Trial 24 finished with value: 0.7523236051279373 and parameters: {'svc_kernel': 'sigmoid', 'svc_C': 90, 'svc__gamma': 0.0015, 'threshold': 0.018361639760764766}. Best is trial 4 with value: 0.7585549824753283.\u001b[0m\n",
            "\u001b[32m[I 2021-12-03 14:32:39,451]\u001b[0m Trial 25 finished with value: 0.7574824274319367 and parameters: {'svc_kernel': 'sigmoid', 'svc_C': 80, 'svc__gamma': 0.00025, 'threshold': 0.04975164699478088}. Best is trial 4 with value: 0.7585549824753283.\u001b[0m\n",
            "\u001b[32m[I 2021-12-03 14:33:11,395]\u001b[0m Trial 26 finished with value: 0.7453012209842214 and parameters: {'svc_kernel': 'linear', 'svc_C': 80, 'threshold': 0.0867457852839072}. Best is trial 4 with value: 0.7585549824753283.\u001b[0m\n",
            "\u001b[32m[I 2021-12-03 14:33:27,809]\u001b[0m Trial 27 finished with value: 0.0 and parameters: {'svc_kernel': 'poly', 'svc_C': 80, 'svc__gamma': 0.00025, 'svc_degree': 3, 'threshold': 0.06529002771354214}. Best is trial 4 with value: 0.7585549824753283.\u001b[0m\n",
            "\u001b[32m[I 2021-12-03 14:33:45,379]\u001b[0m Trial 28 finished with value: 0.7550847336921539 and parameters: {'svc_kernel': 'rbf', 'svc_C': 60, 'svc__gamma': 0.00025, 'threshold': 0.051937017425381815}. Best is trial 4 with value: 0.7585549824753283.\u001b[0m\n",
            "\u001b[32m[I 2021-12-03 14:34:01,791]\u001b[0m Trial 29 finished with value: 0.0 and parameters: {'svc_kernel': 'poly', 'svc_C': 120, 'svc__gamma': 0.00025, 'svc_degree': 6, 'threshold': 0.06904642830162586}. Best is trial 4 with value: 0.7585549824753283.\u001b[0m\n",
            "\u001b[32m[I 2021-12-03 14:34:18,989]\u001b[0m Trial 30 finished with value: 0.7545406651443269 and parameters: {'svc_kernel': 'sigmoid', 'svc_C': 50, 'svc__gamma': 0.0015, 'threshold': 0.004548372489188254}. Best is trial 4 with value: 0.7585549824753283.\u001b[0m\n",
            "\u001b[32m[I 2021-12-03 14:34:32,244]\u001b[0m Trial 31 finished with value: 0.7585549824753283 and parameters: {'svc_kernel': 'sigmoid', 'svc_C': 80, 'svc__gamma': 0.00025, 'threshold': 0.03966221835490638}. Best is trial 4 with value: 0.7585549824753283.\u001b[0m\n",
            "\u001b[32m[I 2021-12-03 14:34:45,533]\u001b[0m Trial 32 finished with value: 0.7585549824753283 and parameters: {'svc_kernel': 'sigmoid', 'svc_C': 80, 'svc__gamma': 0.00025, 'threshold': 0.044521947691778606}. Best is trial 4 with value: 0.7585549824753283.\u001b[0m\n",
            "\u001b[32m[I 2021-12-03 14:34:59,906]\u001b[0m Trial 33 finished with value: 0.753437936414202 and parameters: {'svc_kernel': 'sigmoid', 'svc_C': 80, 'svc__gamma': 0.00025, 'threshold': 0.02406583315743093}. Best is trial 4 with value: 0.7585549824753283.\u001b[0m\n",
            "\u001b[32m[I 2021-12-03 14:35:12,988]\u001b[0m Trial 34 finished with value: 0.7154740444759269 and parameters: {'svc_kernel': 'sigmoid', 'svc_C': 180, 'svc__gamma': 0.002, 'threshold': 0.12238644277116463}. Best is trial 4 with value: 0.7585549824753283.\u001b[0m\n",
            "\u001b[32m[I 2021-12-03 14:36:05,953]\u001b[0m Trial 35 finished with value: 0.7502398511780608 and parameters: {'svc_kernel': 'linear', 'svc_C': 100, 'threshold': 0.04422944700326156}. Best is trial 4 with value: 0.7585549824753283.\u001b[0m\n",
            "\u001b[32m[I 2021-12-03 14:36:22,267]\u001b[0m Trial 36 finished with value: 0.7577116901865228 and parameters: {'svc_kernel': 'rbf', 'svc_C': 200, 'svc__gamma': 0.01, 'threshold': 0.07491016766171399}. Best is trial 4 with value: 0.7585549824753283.\u001b[0m\n",
            "\u001b[32m[I 2021-12-03 14:36:38,462]\u001b[0m Trial 37 finished with value: 0.7550826544372445 and parameters: {'svc_kernel': 'sigmoid', 'svc_C': 150, 'svc__gamma': 0.00025, 'threshold': 0.05308643670360702}. Best is trial 4 with value: 0.7585549824753283.\u001b[0m\n",
            "\u001b[32m[I 2021-12-03 14:36:57,149]\u001b[0m Trial 38 finished with value: 0.0 and parameters: {'svc_kernel': 'poly', 'svc_C': 20, 'svc__gamma': 0.002, 'svc_degree': 4, 'threshold': 0.01663366608627309}. Best is trial 4 with value: 0.7585549824753283.\u001b[0m\n",
            "\u001b[32m[I 2021-12-03 14:37:10,013]\u001b[0m Trial 39 finished with value: 0.7559782308287192 and parameters: {'svc_kernel': 'sigmoid', 'svc_C': 70, 'svc__gamma': 0.001, 'threshold': 0.030697788638464528}. Best is trial 4 with value: 0.7585549824753283.\u001b[0m\n",
            "\u001b[32m[I 2021-12-03 14:37:26,594]\u001b[0m Trial 40 finished with value: 0.7526004791663847 and parameters: {'svc_kernel': 'sigmoid', 'svc_C': 30, 'svc__gamma': 0.0005, 'threshold': 0.05711629962589187}. Best is trial 4 with value: 0.7585549824753283.\u001b[0m\n",
            "\u001b[32m[I 2021-12-03 14:37:39,799]\u001b[0m Trial 41 finished with value: 0.7585549824753283 and parameters: {'svc_kernel': 'sigmoid', 'svc_C': 80, 'svc__gamma': 0.00025, 'threshold': 0.0390131663986608}. Best is trial 4 with value: 0.7585549824753283.\u001b[0m\n",
            "\u001b[32m[I 2021-12-03 14:37:52,997]\u001b[0m Trial 42 finished with value: 0.7585549824753283 and parameters: {'svc_kernel': 'sigmoid', 'svc_C': 80, 'svc__gamma': 0.00025, 'threshold': 0.03738482123214123}. Best is trial 4 with value: 0.7585549824753283.\u001b[0m\n",
            "\u001b[32m[I 2021-12-03 14:38:06,203]\u001b[0m Trial 43 finished with value: 0.7585549824753283 and parameters: {'svc_kernel': 'sigmoid', 'svc_C': 80, 'svc__gamma': 0.00025, 'threshold': 0.04131091331479637}. Best is trial 4 with value: 0.7585549824753283.\u001b[0m\n",
            "\u001b[32m[I 2021-12-03 14:38:23,728]\u001b[0m Trial 44 finished with value: 0.7378093239523721 and parameters: {'svc_kernel': 'sigmoid', 'svc_C': 10, 'svc__gamma': 0.00025, 'threshold': 0.022034426305085543}. Best is trial 4 with value: 0.7585549824753283.\u001b[0m\n",
            "\u001b[32m[I 2021-12-03 14:38:36,979]\u001b[0m Trial 45 finished with value: 0.7585549824753283 and parameters: {'svc_kernel': 'sigmoid', 'svc_C': 80, 'svc__gamma': 0.00025, 'threshold': 0.044629259273798835}. Best is trial 4 with value: 0.7585549824753283.\u001b[0m\n",
            "\u001b[32m[I 2021-12-03 14:38:50,331]\u001b[0m Trial 46 finished with value: 0.7501896151923372 and parameters: {'svc_kernel': 'sigmoid', 'svc_C': 40, 'svc__gamma': 0.005, 'threshold': 0.010445441862305622}. Best is trial 4 with value: 0.7585549824753283.\u001b[0m\n",
            "\u001b[32m[I 2021-12-03 14:39:03,155]\u001b[0m Trial 47 finished with value: 0.7540664832780866 and parameters: {'svc_kernel': 'sigmoid', 'svc_C': 80, 'svc__gamma': 0.001, 'threshold': 0.03386913766996268}. Best is trial 4 with value: 0.7585549824753283.\u001b[0m\n",
            "\u001b[32m[I 2021-12-03 14:39:18,460]\u001b[0m Trial 48 finished with value: 0.7522487243399167 and parameters: {'svc_kernel': 'rbf', 'svc_C': 90, 'svc__gamma': 0.0005, 'threshold': 0.072205552254793}. Best is trial 4 with value: 0.7585549824753283.\u001b[0m\n",
            "\u001b[32m[I 2021-12-03 14:39:53,186]\u001b[0m Trial 49 finished with value: 0.7467935703745971 and parameters: {'svc_kernel': 'linear', 'svc_C': 80, 'threshold': 0.0816304225307185}. Best is trial 4 with value: 0.7585549824753283.\u001b[0m\n"
          ]
        }
      ]
    },
    {
      "cell_type": "markdown",
      "metadata": {
        "id": "h4AJ4AwoteVj"
      },
      "source": [
        "Σύμφωνα με τα παραπάνω αποτέλεσματα μπορούμε να δούμε ότι η καλύτερη επίδοση όσο αναφορά το f1 score επιτυγχάνεται για τον ακόλουθο συνδιασμό υπερπαραμέτρων:\n",
        "\n",
        "* kernel = sigmoid\n",
        "* C = 80\n",
        "* gamma = 0.00025\n",
        "* threshold = 0.04239392096955556\n",
        "\n",
        "Το 5-fold cross validation f1 score που πετυχαίνουμε με τον παραπάνω συνδιασμό υπερπαραμέτρων είναι 0.7585 ή 75.85%"
      ]
    },
    {
      "cell_type": "markdown",
      "metadata": {
        "id": "K3Z56vqxuPv9"
      },
      "source": [
        "Γενικά μπορούμε να παρατηρήσουμε τα εξής αποτελέσματα:\n",
        "* O SVM με kernel = sigmoid παρουσιάζει το καλύτερο f1 score το οποίο είναι περίπου 75.85%\n",
        "* Ο SVM με kernel = rbf ακολουθεί με 75.7% f1 score.\n",
        "* O SVM με kernel - poly ακολουθεί με accuracy κοντά στο 75.1%.\n",
        "* Ο SVM με kernel = linear ακολουθεί με 75% f1 score.\n"
      ]
    },
    {
      "cell_type": "markdown",
      "metadata": {
        "id": "Rtguz_Tm61ly"
      },
      "source": [
        "Στην συνέχεια επικεντρωνόμαστε σε κάθε πυρήνα ξεχωριστά όπου δοκιμάζουμε διαφορετικές τιμές υπερπαραμέτρων αλλά και διαφορετικές αρχιτεκτονικές (επιλέγοντας δηλαδή διαφορετικούς μετασχηματιστές) τόσο για το accuracy όσο και για το f1 score."
      ]
    },
    {
      "cell_type": "markdown",
      "metadata": {
        "id": "rTAEC7nU7EQi"
      },
      "source": [
        "#### RBF"
      ]
    },
    {
      "cell_type": "markdown",
      "metadata": {
        "id": "JGbrqEBMcF8a"
      },
      "source": [
        "Αρχικά αξιολογούμε τον SVM με kernel = rbf για ένα εύρος παραμέτρων προσθέτωντας αρχικά ως μετασχηματιστή μόνο έναν MinMax Scaler  "
      ]
    },
    {
      "cell_type": "code",
      "metadata": {
        "colab": {
          "base_uri": "https://localhost:8080/"
        },
        "id": "mKtngrPzcb8H",
        "outputId": "93a3464d-ce66-4e3a-86c2-ccabdfc0c1a6"
      },
      "source": [
        "import optuna\n",
        "from sklearn.svm import SVC\n",
        "from sklearn.model_selection import cross_val_score\n",
        "\n",
        "from sklearn.pipeline import Pipeline\n",
        "from sklearn import preprocessing\n",
        "from sklearn.feature_selection import VarianceThreshold\n",
        "\n",
        "\n",
        "def objective(trial):\n",
        "\n",
        "    \n",
        "    svc_kernel = trial.suggest_categorical('svc_kernel',['rbf'])\n",
        "    svc_C = trial.suggest_float('svc_C',1.0,100.0)\n",
        "\n",
        "\n",
        "    svc_gamma = trial.suggest_float('svc__gamma',0,0.2)\n",
        " \n",
        "\n",
        "    svm = SVC(kernel = svc_kernel,gamma = svc_gamma , C = svc_C)\n",
        "\n",
        "\n",
        "    clf = Pipeline(steps = [('minmax_scaler', preprocessing.MinMaxScaler()) , ('svm', svm)])\n",
        "  \n",
        "\n",
        "    return np.mean(cross_val_score(clf, X_train_small, y_train_small, cv = 5, scoring = 'accuracy'))\n",
        "\n",
        "study = optuna.create_study(direction = 'maximize')\n",
        "study.optimize(objective, n_trials = 50)"
      ],
      "execution_count": null,
      "outputs": [
        {
          "name": "stderr",
          "output_type": "stream",
          "text": [
            "\u001b[32m[I 2021-12-02 23:23:40,398]\u001b[0m A new study created in memory with name: no-name-a8aea4bc-5f83-4a0a-b71c-2a85e565897d\u001b[0m\n",
            "\u001b[32m[I 2021-12-02 23:24:01,274]\u001b[0m Trial 0 finished with value: 0.7528013182193141 and parameters: {'svc_kernel': 'rbf', 'svc_C': 55.1813417822861, 'svc__gamma': 0.026670581518014092}. Best is trial 0 with value: 0.7528013182193141.\u001b[0m\n",
            "\u001b[32m[I 2021-12-02 23:24:19,718]\u001b[0m Trial 1 finished with value: 0.754901259569726 and parameters: {'svc_kernel': 'rbf', 'svc_C': 2.0304335307585504, 'svc__gamma': 0.1271070086880602}. Best is trial 1 with value: 0.754901259569726.\u001b[0m\n",
            "\u001b[32m[I 2021-12-02 23:24:42,954]\u001b[0m Trial 2 finished with value: 0.7452144728927871 and parameters: {'svc_kernel': 'rbf', 'svc_C': 26.87250481042073, 'svc__gamma': 0.12270633873122153}. Best is trial 1 with value: 0.754901259569726.\u001b[0m\n",
            "\u001b[32m[I 2021-12-02 23:25:01,032]\u001b[0m Trial 3 finished with value: 0.7498832798266533 and parameters: {'svc_kernel': 'rbf', 'svc_C': 39.687366138396506, 'svc__gamma': 0.0023935992964011945}. Best is trial 1 with value: 0.754901259569726.\u001b[0m\n",
            "\u001b[32m[I 2021-12-02 23:25:25,637]\u001b[0m Trial 4 finished with value: 0.7439309937528993 and parameters: {'svc_kernel': 'rbf', 'svc_C': 37.85677292783082, 'svc__gamma': 0.10901355044250381}. Best is trial 1 with value: 0.754901259569726.\u001b[0m\n",
            "\u001b[32m[I 2021-12-02 23:25:46,940]\u001b[0m Trial 5 finished with value: 0.7515174984894837 and parameters: {'svc_kernel': 'rbf', 'svc_C': 83.06457145746249, 'svc__gamma': 0.02297846996294155}. Best is trial 1 with value: 0.754901259569726.\u001b[0m\n",
            "\u001b[32m[I 2021-12-02 23:26:10,876]\u001b[0m Trial 6 finished with value: 0.7436968722263206 and parameters: {'svc_kernel': 'rbf', 'svc_C': 37.48519099480874, 'svc__gamma': 0.1013844552803041}. Best is trial 1 with value: 0.754901259569726.\u001b[0m\n",
            "\u001b[32m[I 2021-12-02 23:26:33,527]\u001b[0m Trial 7 finished with value: 0.7488317424377111 and parameters: {'svc_kernel': 'rbf', 'svc_C': 49.71737897201229, 'svc__gamma': 0.05690485715044742}. Best is trial 1 with value: 0.754901259569726.\u001b[0m\n",
            "\u001b[32m[I 2021-12-02 23:26:59,704]\u001b[0m Trial 8 finished with value: 0.742996074360321 and parameters: {'svc_kernel': 'rbf', 'svc_C': 80.43183212743085, 'svc__gamma': 0.0623409402781679}. Best is trial 1 with value: 0.754901259569726.\u001b[0m\n",
            "\u001b[32m[I 2021-12-02 23:27:20,776]\u001b[0m Trial 9 finished with value: 0.7533847487910761 and parameters: {'svc_kernel': 'rbf', 'svc_C': 77.64548693174842, 'svc__gamma': 0.021728806831554693}. Best is trial 1 with value: 0.754901259569726.\u001b[0m\n",
            "\u001b[32m[I 2021-12-02 23:27:39,002]\u001b[0m Trial 10 finished with value: 0.7566525049368512 and parameters: {'svc_kernel': 'rbf', 'svc_C': 1.9417583322931342, 'svc__gamma': 0.1817284417735888}. Best is trial 10 with value: 0.7566525049368512.\u001b[0m\n",
            "\u001b[32m[I 2021-12-02 23:27:57,238]\u001b[0m Trial 11 finished with value: 0.7561857604794417 and parameters: {'svc_kernel': 'rbf', 'svc_C': 1.9127660913943443, 'svc__gamma': 0.18153662964726067}. Best is trial 10 with value: 0.7566525049368512.\u001b[0m\n",
            "\u001b[32m[I 2021-12-02 23:28:15,749]\u001b[0m Trial 12 finished with value: 0.7542015515915428 and parameters: {'svc_kernel': 'rbf', 'svc_C': 2.2618497201855097, 'svc__gamma': 0.19569894951867417}. Best is trial 10 with value: 0.7566525049368512.\u001b[0m\n",
            "\u001b[32m[I 2021-12-02 23:28:39,019]\u001b[0m Trial 13 finished with value: 0.7453313633611051 and parameters: {'svc_kernel': 'rbf', 'svc_C': 16.959496686963654, 'svc__gamma': 0.193088365585318}. Best is trial 10 with value: 0.7566525049368512.\u001b[0m\n",
            "\u001b[32m[I 2021-12-02 23:29:01,191]\u001b[0m Trial 14 finished with value: 0.7454477770035033 and parameters: {'svc_kernel': 'rbf', 'svc_C': 16.525621806145104, 'svc__gamma': 0.15520840847608267}. Best is trial 10 with value: 0.7566525049368512.\u001b[0m\n",
            "\u001b[32m[I 2021-12-02 23:29:36,627]\u001b[0m Trial 15 finished with value: 0.7292245925011631 and parameters: {'svc_kernel': 'rbf', 'svc_C': 97.67854345339825, 'svc__gamma': 0.1731451969199474}. Best is trial 10 with value: 0.7566525049368512.\u001b[0m\n",
            "\u001b[32m[I 2021-12-02 23:29:58,436]\u001b[0m Trial 16 finished with value: 0.7459147258148785 and parameters: {'svc_kernel': 'rbf', 'svc_C': 14.454699769833873, 'svc__gamma': 0.15369142992719753}. Best is trial 10 with value: 0.7566525049368512.\u001b[0m\n",
            "\u001b[32m[I 2021-12-02 23:30:19,373]\u001b[0m Trial 17 finished with value: 0.7495324040677338 and parameters: {'svc_kernel': 'rbf', 'svc_C': 10.27730956807176, 'svc__gamma': 0.1649709869613173}. Best is trial 10 with value: 0.7566525049368512.\u001b[0m\n",
            "\u001b[32m[I 2021-12-02 23:30:49,475]\u001b[0m Trial 18 finished with value: 0.7397288631584541 and parameters: {'svc_kernel': 'rbf', 'svc_C': 61.202487218712236, 'svc__gamma': 0.13608650668549033}. Best is trial 10 with value: 0.7566525049368512.\u001b[0m\n",
            "\u001b[32m[I 2021-12-02 23:31:10,817]\u001b[0m Trial 19 finished with value: 0.7510495279082805 and parameters: {'svc_kernel': 'rbf', 'svc_C': 25.074457212881022, 'svc__gamma': 0.08065400407081107}. Best is trial 10 with value: 0.7566525049368512.\u001b[0m\n",
            "\u001b[32m[I 2021-12-02 23:31:36,231]\u001b[0m Trial 20 finished with value: 0.7419461036851149 and parameters: {'svc_kernel': 'rbf', 'svc_C': 27.34947052058887, 'svc__gamma': 0.1807012953879223}. Best is trial 10 with value: 0.7566525049368512.\u001b[0m\n",
            "\u001b[32m[I 2021-12-02 23:31:53,917]\u001b[0m Trial 21 finished with value: 0.7544351281742132 and parameters: {'svc_kernel': 'rbf', 'svc_C': 1.2955406852504323, 'svc__gamma': 0.13816627182382724}. Best is trial 10 with value: 0.7566525049368512.\u001b[0m\n",
            "\u001b[32m[I 2021-12-02 23:32:13,242]\u001b[0m Trial 22 finished with value: 0.7543172159360672 and parameters: {'svc_kernel': 'rbf', 'svc_C': 6.281588313454087, 'svc__gamma': 0.14053335967185696}. Best is trial 10 with value: 0.7566525049368512.\u001b[0m\n",
            "\u001b[32m[I 2021-12-02 23:32:37,233]\u001b[0m Trial 23 finished with value: 0.7427631108395474 and parameters: {'svc_kernel': 'rbf', 'svc_C': 20.34362170780704, 'svc__gamma': 0.19989625897062074}. Best is trial 10 with value: 0.7566525049368512.\u001b[0m\n",
            "\u001b[32m[I 2021-12-02 23:32:57,767]\u001b[0m Trial 24 finished with value: 0.7504660973365185 and parameters: {'svc_kernel': 'rbf', 'svc_C': 8.965829933142377, 'svc__gamma': 0.17862901478454665}. Best is trial 10 with value: 0.7566525049368512.\u001b[0m\n",
            "\u001b[32m[I 2021-12-02 23:33:15,600]\u001b[0m Trial 25 finished with value: 0.7551354492142931 and parameters: {'svc_kernel': 'rbf', 'svc_C': 1.4556337457011423, 'svc__gamma': 0.1186576635053201}. Best is trial 10 with value: 0.7566525049368512.\u001b[0m\n",
            "\u001b[32m[I 2021-12-02 23:33:34,812]\u001b[0m Trial 26 finished with value: 0.7537343984262019 and parameters: {'svc_kernel': 'rbf', 'svc_C': 9.808809674106529, 'svc__gamma': 0.08027579724598591}. Best is trial 10 with value: 0.7566525049368512.\u001b[0m\n",
            "\u001b[32m[I 2021-12-02 23:33:58,183]\u001b[0m Trial 27 finished with value: 0.7447480009073316 and parameters: {'svc_kernel': 'rbf', 'svc_C': 22.39661047813007, 'svc__gamma': 0.15465693878384476}. Best is trial 10 with value: 0.7566525049368512.\u001b[0m\n",
            "\u001b[32m[I 2021-12-02 23:34:21,832]\u001b[0m Trial 28 finished with value: 0.7434639768235356 and parameters: {'svc_kernel': 'rbf', 'svc_C': 31.898547042168364, 'svc__gamma': 0.11448679760870101}. Best is trial 10 with value: 0.7566525049368512.\u001b[0m\n",
            "\u001b[32m[I 2021-12-02 23:34:46,510]\u001b[0m Trial 29 finished with value: 0.743463499997616 and parameters: {'svc_kernel': 'rbf', 'svc_C': 51.14621156208952, 'svc__gamma': 0.08265595624669367}. Best is trial 10 with value: 0.7566525049368512.\u001b[0m\n",
            "\u001b[32m[I 2021-12-02 23:35:07,073]\u001b[0m Trial 30 finished with value: 0.7496490901820863 and parameters: {'svc_kernel': 'rbf', 'svc_C': 10.229652091870808, 'svc__gamma': 0.1653362082317773}. Best is trial 10 with value: 0.7566525049368512.\u001b[0m\n",
            "\u001b[32m[I 2021-12-02 23:35:25,212]\u001b[0m Trial 31 finished with value: 0.7549020769855882 and parameters: {'svc_kernel': 'rbf', 'svc_C': 1.1636913817935346, 'svc__gamma': 0.1283629856658371}. Best is trial 10 with value: 0.7566525049368512.\u001b[0m\n",
            "\u001b[32m[I 2021-12-02 23:35:43,209]\u001b[0m Trial 32 finished with value: 0.7546678873410211 and parameters: {'svc_kernel': 'rbf', 'svc_C': 2.7738541756103956, 'svc__gamma': 0.09581860618528826}. Best is trial 10 with value: 0.7566525049368512.\u001b[0m\n",
            "\u001b[32m[I 2021-12-02 23:36:03,680]\u001b[0m Trial 33 finished with value: 0.751166214022633 and parameters: {'svc_kernel': 'rbf', 'svc_C': 12.853888095844578, 'svc__gamma': 0.1230900490393401}. Best is trial 10 with value: 0.7566525049368512.\u001b[0m\n",
            "\u001b[32m[I 2021-12-02 23:36:22,678]\u001b[0m Trial 34 finished with value: 0.7544343107583508 and parameters: {'svc_kernel': 'rbf', 'svc_C': 5.270358135447925, 'svc__gamma': 0.14530931943625663}. Best is trial 10 with value: 0.7566525049368512.\u001b[0m\n",
            "\u001b[32m[I 2021-12-02 23:36:45,599]\u001b[0m Trial 35 finished with value: 0.7453312952431166 and parameters: {'svc_kernel': 'rbf', 'svc_C': 16.617619308717707, 'svc__gamma': 0.18551157567956994}. Best is trial 10 with value: 0.7566525049368512.\u001b[0m\n",
            "\u001b[32m[I 2021-12-02 23:37:03,468]\u001b[0m Trial 36 finished with value: 0.754434719466282 and parameters: {'svc_kernel': 'rbf', 'svc_C': 1.8087703725345667, 'svc__gamma': 0.12291633423283478}. Best is trial 10 with value: 0.7566525049368512.\u001b[0m\n",
            "\u001b[32m[I 2021-12-02 23:37:34,807]\u001b[0m Trial 37 finished with value: 0.7351768104569286 and parameters: {'svc_kernel': 'rbf', 'svc_C': 63.01192571552597, 'svc__gamma': 0.1666074782740182}. Best is trial 10 with value: 0.7566525049368512.\u001b[0m\n",
            "\u001b[32m[I 2021-12-02 23:37:58,466]\u001b[0m Trial 38 finished with value: 0.7442806433880254 and parameters: {'svc_kernel': 'rbf', 'svc_C': 31.76959305702826, 'svc__gamma': 0.11170927055356848}. Best is trial 10 with value: 0.7566525049368512.\u001b[0m\n",
            "\u001b[32m[I 2021-12-02 23:38:24,820]\u001b[0m Trial 39 finished with value: 0.741830234986625 and parameters: {'svc_kernel': 'rbf', 'svc_C': 42.22070259826557, 'svc__gamma': 0.1307357558019922}. Best is trial 10 with value: 0.7566525049368512.\u001b[0m\n",
            "\u001b[32m[I 2021-12-02 23:38:45,005]\u001b[0m Trial 40 finished with value: 0.7516333671879737 and parameters: {'svc_kernel': 'rbf', 'svc_C': 20.149411531224153, 'svc__gamma': 0.06268161596971622}. Best is trial 10 with value: 0.7566525049368512.\u001b[0m\n",
            "\u001b[32m[I 2021-12-02 23:39:03,727]\u001b[0m Trial 41 finished with value: 0.7543178971159525 and parameters: {'svc_kernel': 'rbf', 'svc_C': 7.263010989822851, 'svc__gamma': 0.09797817582254217}. Best is trial 10 with value: 0.7566525049368512.\u001b[0m\n",
            "\u001b[32m[I 2021-12-02 23:39:23,521]\u001b[0m Trial 42 finished with value: 0.7539672257109985 and parameters: {'svc_kernel': 'rbf', 'svc_C': 7.976963743017277, 'svc__gamma': 0.1294684339980694}. Best is trial 10 with value: 0.7566525049368512.\u001b[0m\n",
            "\u001b[32m[I 2021-12-02 23:39:43,696]\u001b[0m Trial 43 finished with value: 0.7525668561027927 and parameters: {'svc_kernel': 'rbf', 'svc_C': 12.797174106398728, 'svc__gamma': 0.10754128835842776}. Best is trial 10 with value: 0.7566525049368512.\u001b[0m\n",
            "\u001b[32m[I 2021-12-02 23:40:01,377]\u001b[0m Trial 44 finished with value: 0.7553684808530552 and parameters: {'svc_kernel': 'rbf', 'svc_C': 1.3441599248775185, 'svc__gamma': 0.1489141276944492}. Best is trial 10 with value: 0.7566525049368512.\u001b[0m\n",
            "\u001b[32m[I 2021-12-02 23:40:20,492]\u001b[0m Trial 45 finished with value: 0.7542010747656229 and parameters: {'svc_kernel': 'rbf', 'svc_C': 4.753503703968569, 'svc__gamma': 0.14617813908841126}. Best is trial 10 with value: 0.7566525049368512.\u001b[0m\n",
            "\u001b[32m[I 2021-12-02 23:40:38,505]\u001b[0m Trial 46 finished with value: 0.7539681112448495 and parameters: {'svc_kernel': 'rbf', 'svc_C': 1.129314328911012, 'svc__gamma': 0.18954717200453056}. Best is trial 10 with value: 0.7566525049368512.\u001b[0m\n",
            "\u001b[32m[I 2021-12-02 23:41:00,724]\u001b[0m Trial 47 finished with value: 0.7452144047747986 and parameters: {'svc_kernel': 'rbf', 'svc_C': 14.38280311370459, 'svc__gamma': 0.16981962780923202}. Best is trial 10 with value: 0.7566525049368512.\u001b[0m\n",
            "\u001b[32m[I 2021-12-02 23:41:33,581]\u001b[0m Trial 48 finished with value: 0.7341262948378146 and parameters: {'svc_kernel': 'rbf', 'svc_C': 74.18998138212903, 'svc__gamma': 0.15803542542766305}. Best is trial 10 with value: 0.7566525049368512.\u001b[0m\n",
            "\u001b[32m[I 2021-12-02 23:42:08,843]\u001b[0m Trial 49 finished with value: 0.7285246801690144 and parameters: {'svc_kernel': 'rbf', 'svc_C': 99.01744130512714, 'svc__gamma': 0.17821568522475958}. Best is trial 10 with value: 0.7566525049368512.\u001b[0m\n"
          ]
        }
      ]
    },
    {
      "cell_type": "markdown",
      "metadata": {
        "id": "TDcp4FDDiXg-"
      },
      "source": [
        "Παρατηρούμε ότι παρότι χρησιμοποιήσαμε μόνο έναν Μετασχηματιστή (MinMaxScaler) η καλύτερη απόδοση για kernel rbf είναι 75.6% (accuracy). Η τιμή αυτή είναι καλύτερη από αυτήν που βρήκαμε στο προηγούμενο παράδειγμα. Κάτι τέτοιο ίσως οφείλεται στο γεγονός πως έχουμε χρησιμοποιήσει ένα πολύ μεγαλύτερο εύρος τιμών για τις παραμέτρους του ταξινομητή μας.\n",
        "\n",
        "Επιπλέν παρατηρούμε ότι τόσο η υπρπερπαράμετρος gamma όσο και η υπερπαράμετρος C δεν έχουν κάποια ευδιάκριτη συμπεριφορά που επηρεάζει την απόδοση του ταξινομητή όσο αναφορά το accuracy του. Θα μπορούσαμε να πούμε ότι για τιμές C μεταξύ (0,100) και τιμές gamma μεταξύ (0,0.1) έχουμε περίπου παρόμοια αποτελέσματα."
      ]
    },
    {
      "cell_type": "markdown",
      "metadata": {
        "id": "0l0VLZOFhvWO"
      },
      "source": [
        "Στην συνέχεια επιλέγουμε αντί για MinMaxScaler StandardScaler και βλέπουμε τα αποτελέσματα του:"
      ]
    },
    {
      "cell_type": "code",
      "metadata": {
        "colab": {
          "base_uri": "https://localhost:8080/"
        },
        "id": "mU-tn1KciTSs",
        "outputId": "eec9a2f3-ead4-4e17-fca9-0b9218c650f9"
      },
      "source": [
        "\n",
        "from sklearn.pipeline import Pipeline\n",
        "from sklearn import preprocessing\n",
        "from sklearn.feature_selection import VarianceThreshold\n",
        "\n",
        "\n",
        "def objective(trial):\n",
        "\n",
        "    \n",
        "    svc_kernel = trial.suggest_categorical('svc_kernel',['rbf'])\n",
        "    svc_C = trial.suggest_float('svc_C',1.0,100.0)\n",
        "\n",
        "\n",
        "    svc_gamma = trial.suggest_float('svc__gamma',0,0.2)\n",
        " \n",
        "\n",
        "    svm = SVC(kernel = svc_kernel,gamma = svc_gamma , C = svc_C)\n",
        "\n",
        "\n",
        "    clf = Pipeline(steps = [('standard_scaler', preprocessing.StandardScaler()) , ('svm', svm)])\n",
        "  \n",
        "\n",
        "    return np.mean(cross_val_score(clf, X_train_small, y_train_small, cv = 5, scoring = 'accuracy'))\n",
        "\n",
        "study = optuna.create_study(direction = 'maximize')\n",
        "study.optimize(objective, n_trials = 30)"
      ],
      "execution_count": null,
      "outputs": [
        {
          "name": "stderr",
          "output_type": "stream",
          "text": [
            "\u001b[32m[I 2021-12-02 23:50:02,020]\u001b[0m A new study created in memory with name: no-name-537b6f22-f718-41fa-8cad-4caaa42721b8\u001b[0m\n",
            "\u001b[32m[I 2021-12-02 23:50:31,644]\u001b[0m Trial 0 finished with value: 0.716733115764478 and parameters: {'svc_kernel': 'rbf', 'svc_C': 11.670154450054255, 'svc__gamma': 0.14371234296087884}. Best is trial 0 with value: 0.716733115764478.\u001b[0m\n",
            "\u001b[32m[I 2021-12-02 23:51:00,839]\u001b[0m Trial 1 finished with value: 0.7340074970658177 and parameters: {'svc_kernel': 'rbf', 'svc_C': 16.774663770654485, 'svc__gamma': 0.10169650816128724}. Best is trial 1 with value: 0.7340074970658177.\u001b[0m\n",
            "\u001b[32m[I 2021-12-02 23:51:30,961]\u001b[0m Trial 2 finished with value: 0.740310113954583 and parameters: {'svc_kernel': 'rbf', 'svc_C': 79.66506315018272, 'svc__gamma': 0.07520955720139591}. Best is trial 2 with value: 0.740310113954583.\u001b[0m\n",
            "\u001b[32m[I 2021-12-02 23:52:00,454]\u001b[0m Trial 3 finished with value: 0.722568375133937 and parameters: {'svc_kernel': 'rbf', 'svc_C': 27.958944323293153, 'svc__gamma': 0.1344572862337069}. Best is trial 2 with value: 0.740310113954583.\u001b[0m\n",
            "\u001b[32m[I 2021-12-02 23:52:31,422]\u001b[0m Trial 4 finished with value: 0.7247860243685291 and parameters: {'svc_kernel': 'rbf', 'svc_C': 51.39307234512645, 'svc__gamma': 0.12829417855113345}. Best is trial 2 with value: 0.740310113954583.\u001b[0m\n",
            "\u001b[32m[I 2021-12-02 23:53:02,901]\u001b[0m Trial 5 finished with value: 0.7452127018250853 and parameters: {'svc_kernel': 'rbf', 'svc_C': 13.815599400852722, 'svc__gamma': 0.06440430175896927}. Best is trial 5 with value: 0.7452127018250853.\u001b[0m\n",
            "\u001b[32m[I 2021-12-02 23:53:35,962]\u001b[0m Trial 6 finished with value: 0.734824367984273 and parameters: {'svc_kernel': 'rbf', 'svc_C': 88.19959186055759, 'svc__gamma': 0.09277711133520561}. Best is trial 5 with value: 0.7452127018250853.\u001b[0m\n",
            "\u001b[32m[I 2021-12-02 23:54:09,535]\u001b[0m Trial 7 finished with value: 0.7162662350710913 and parameters: {'svc_kernel': 'rbf', 'svc_C': 10.696449944138617, 'svc__gamma': 0.14536764370699198}. Best is trial 5 with value: 0.7452127018250853.\u001b[0m\n",
            "\u001b[32m[I 2021-12-02 23:54:43,113]\u001b[0m Trial 8 finished with value: 0.6693460196275172 and parameters: {'svc_kernel': 'rbf', 'svc_C': 45.15196525085903, 'svc__gamma': 0.1991929154849323}. Best is trial 5 with value: 0.7452127018250853.\u001b[0m\n",
            "\u001b[32m[I 2021-12-02 23:55:16,162]\u001b[0m Trial 9 finished with value: 0.6814842364756843 and parameters: {'svc_kernel': 'rbf', 'svc_C': 83.76559548161475, 'svc__gamma': 0.18498880682861107}. Best is trial 5 with value: 0.7452127018250853.\u001b[0m\n",
            "\u001b[32m[I 2021-12-02 23:55:47,339]\u001b[0m Trial 10 finished with value: 0.736811301591713 and parameters: {'svc_kernel': 'rbf', 'svc_C': 42.2490983168033, 'svc__gamma': 0.0070815488278177866}. Best is trial 5 with value: 0.7452127018250853.\u001b[0m\n",
            "\u001b[32m[I 2021-12-02 23:56:21,147]\u001b[0m Trial 11 finished with value: 0.7447462979576183 and parameters: {'svc_kernel': 'rbf', 'svc_C': 67.9278423037829, 'svc__gamma': 0.045519865920675154}. Best is trial 5 with value: 0.7452127018250853.\u001b[0m\n",
            "\u001b[32m[I 2021-12-02 23:56:54,692]\u001b[0m Trial 12 finished with value: 0.7440461812715041 and parameters: {'svc_kernel': 'rbf', 'svc_C': 61.337066249404984, 'svc__gamma': 0.034208432319831256}. Best is trial 5 with value: 0.7452127018250853.\u001b[0m\n",
            "\u001b[32m[I 2021-12-02 23:57:28,672]\u001b[0m Trial 13 finished with value: 0.7445131300828793 and parameters: {'svc_kernel': 'rbf', 'svc_C': 67.60360158180862, 'svc__gamma': 0.05246587743554917}. Best is trial 5 with value: 0.7452127018250853.\u001b[0m\n",
            "\u001b[32m[I 2021-12-02 23:58:01,775]\u001b[0m Trial 14 finished with value: 0.7432289016451175 and parameters: {'svc_kernel': 'rbf', 'svc_C': 98.21240568255828, 'svc__gamma': 0.04236377279421876}. Best is trial 5 with value: 0.7452127018250853.\u001b[0m\n",
            "\u001b[32m[I 2021-12-02 23:58:23,011]\u001b[0m Trial 15 finished with value: 0.7526835422171452 and parameters: {'svc_kernel': 'rbf', 'svc_C': 29.22352037849631, 'svc__gamma': 0.000823677505143533}. Best is trial 15 with value: 0.7526835422171452.\u001b[0m\n",
            "\u001b[32m[I 2021-12-02 23:58:43,607]\u001b[0m Trial 16 finished with value: 0.7456819666480705 and parameters: {'svc_kernel': 'rbf', 'svc_C': 1.5260688433138796, 'svc__gamma': 0.0011279490406472406}. Best is trial 15 with value: 0.7526835422171452.\u001b[0m\n",
            "\u001b[32m[I 2021-12-02 23:59:06,662]\u001b[0m Trial 17 finished with value: 0.7522175470576095 and parameters: {'svc_kernel': 'rbf', 'svc_C': 2.0895025224821318, 'svc__gamma': 0.014424596840010767}. Best is trial 15 with value: 0.7526835422171452.\u001b[0m\n",
            "\u001b[32m[I 2021-12-02 23:59:39,917]\u001b[0m Trial 18 finished with value: 0.7431124880027193 and parameters: {'svc_kernel': 'rbf', 'svc_C': 32.34194431814373, 'svc__gamma': 0.02438626457933372}. Best is trial 15 with value: 0.7526835422171452.\u001b[0m\n",
            "\u001b[32m[I 2021-12-03 00:00:13,279]\u001b[0m Trial 19 finished with value: 0.7424131206144787 and parameters: {'svc_kernel': 'rbf', 'svc_C': 29.276338708206566, 'svc__gamma': 0.02077066524657968}. Best is trial 15 with value: 0.7526835422171452.\u001b[0m\n",
            "\u001b[32m[I 2021-12-03 00:00:35,787]\u001b[0m Trial 20 finished with value: 0.7509339997997331 and parameters: {'svc_kernel': 'rbf', 'svc_C': 2.623333585670853, 'svc__gamma': 0.013210497628031653}. Best is trial 15 with value: 0.7526835422171452.\u001b[0m\n",
            "\u001b[32m[I 2021-12-03 00:00:54,989]\u001b[0m Trial 21 finished with value: 0.7500001021769828 and parameters: {'svc_kernel': 'rbf', 'svc_C': 21.29282906566559, 'svc__gamma': 0.00036678734090630875}. Best is trial 15 with value: 0.7526835422171452.\u001b[0m\n",
            "\u001b[32m[I 2021-12-03 00:01:17,373]\u001b[0m Trial 22 finished with value: 0.7545514736986229 and parameters: {'svc_kernel': 'rbf', 'svc_C': 1.409693443748362, 'svc__gamma': 0.01802861620729125}. Best is trial 22 with value: 0.7545514736986229.\u001b[0m\n",
            "\u001b[32m[I 2021-12-03 00:01:41,694]\u001b[0m Trial 23 finished with value: 0.7468475335498124 and parameters: {'svc_kernel': 'rbf', 'svc_C': 2.6443025044607333, 'svc__gamma': 0.02562486388163543}. Best is trial 22 with value: 0.7545514736986229.\u001b[0m\n",
            "\u001b[32m[I 2021-12-03 00:02:12,047]\u001b[0m Trial 24 finished with value: 0.7463797673225747 and parameters: {'svc_kernel': 'rbf', 'svc_C': 21.08046424930336, 'svc__gamma': 0.06529416010605249}. Best is trial 22 with value: 0.7545514736986229.\u001b[0m\n",
            "\u001b[32m[I 2021-12-03 00:02:42,391]\u001b[0m Trial 25 finished with value: 0.7448625753640394 and parameters: {'svc_kernel': 'rbf', 'svc_C': 37.0369325276316, 'svc__gamma': 0.03296980427224208}. Best is trial 22 with value: 0.7545514736986229.\u001b[0m\n",
            "\u001b[32m[I 2021-12-03 00:03:12,017]\u001b[0m Trial 26 finished with value: 0.7424132568504558 and parameters: {'svc_kernel': 'rbf', 'svc_C': 8.395620792755555, 'svc__gamma': 0.018921505293096785}. Best is trial 22 with value: 0.7545514736986229.\u001b[0m\n",
            "\u001b[32m[I 2021-12-03 00:03:42,659]\u001b[0m Trial 27 finished with value: 0.7333072441437263 and parameters: {'svc_kernel': 'rbf', 'svc_C': 22.396449945284292, 'svc__gamma': 0.0951445835413546}. Best is trial 22 with value: 0.7545514736986229.\u001b[0m\n",
            "\u001b[32m[I 2021-12-03 00:04:14,377]\u001b[0m Trial 28 finished with value: 0.7440459769175384 and parameters: {'svc_kernel': 'rbf', 'svc_C': 52.03419841324455, 'svc__gamma': 0.05785450782628124}. Best is trial 22 with value: 0.7545514736986229.\u001b[0m\n",
            "\u001b[32m[I 2021-12-03 00:04:44,598]\u001b[0m Trial 29 finished with value: 0.7463807209744142 and parameters: {'svc_kernel': 'rbf', 'svc_C': 8.758685421488122, 'svc__gamma': 0.043289783721292205}. Best is trial 22 with value: 0.7545514736986229.\u001b[0m\n"
          ]
        }
      ]
    },
    {
      "cell_type": "markdown",
      "metadata": {
        "id": "vbx7a3-DnT2f"
      },
      "source": [
        "Παραητηρούμε ότι στην περίπτωση του StandardScaler έχουμε χειρότερα αποτελέσματα με το μέγιστο accuracy να είναι 75.45% έχοντας το ίδιο εύρος για τις παραμέτρους C και gamma του ταξινομητή μας.\n",
        "Στην συνέχεια λοιπόν επανερχόμαστε στον MinMaxScaler προσθέτωντας αμέσως μετά και πρίν τον ταξινομητή μας ένα VarianceThreshold.\n",
        "\n",
        "<u>Σημείωση</u>: Όπως αναφέραμε και παραπάνω το Variance Threshold για να λειτουργήσει σωστά χρειάζεται προηγουμένως έναν MinMax Scaler.\n"
      ]
    },
    {
      "cell_type": "markdown",
      "metadata": {
        "id": "f_J2VUwles-k"
      },
      "source": [
        "Στην συνέχεια προσθέτουμε και VarianceThreshold αμέσως μετά τον MinMax Scaler. \n",
        "Έτσι λοιπόν έχουμε τα εξής αποτελέσματα:"
      ]
    },
    {
      "cell_type": "code",
      "metadata": {
        "colab": {
          "base_uri": "https://localhost:8080/"
        },
        "id": "sJgeki5i70fD",
        "outputId": "3531edb0-2d5e-4be6-9106-c54a84c83420"
      },
      "source": [
        "def objective(trial):\n",
        "\n",
        "    \n",
        "    svc_kernel = trial.suggest_categorical('svc_kernel',['rbf'])\n",
        "    svc_C = trial.suggest_int('svc_C',1,100)\n",
        "\n",
        "\n",
        "    svc_gamma = trial.suggest_categorical('svc_gamma',['scale','auto'])\n",
        " \n",
        "\n",
        "    svm = SVC(kernel = svc_kernel,gamma = svc_gamma , C = svc_C)\n",
        "\n",
        "\n",
        "      \n",
        "      \n",
        "    threshold = trial.suggest_float('threshold', 0, 0.1)\n",
        "\n",
        "    clf = Pipeline(steps = [('minmax_scaler', preprocessing.MinMaxScaler()), ('selector', VarianceThreshold(threshold)), ('svm', svm)])\n",
        "  \n",
        "\n",
        "    return np.mean(cross_val_score(clf, X_train_small, y_train_small, cv = 5, scoring = 'accuracy'))\n",
        "\n",
        "study = optuna.create_study(direction = 'maximize')\n",
        "study.optimize(objective, n_trials = 100)"
      ],
      "execution_count": null,
      "outputs": [
        {
          "name": "stderr",
          "output_type": "stream",
          "text": [
            "\u001b[32m[I 2021-12-02 21:26:38,458]\u001b[0m A new study created in memory with name: no-name-3b410b42-188c-42d8-9bee-b8b5d36b68c3\u001b[0m\n",
            "\u001b[32m[I 2021-12-02 21:26:53,677]\u001b[0m Trial 0 finished with value: 0.7463831051040127 and parameters: {'svc_kernel': 'rbf', 'svc_C': 16, 'svc__gamma': 'scale', 'threshold': 0.02424530917696799}. Best is trial 0 with value: 0.7463831051040127.\u001b[0m\n",
            "\u001b[32m[I 2021-12-02 21:27:07,553]\u001b[0m Trial 1 finished with value: 0.7535020479673252 and parameters: {'svc_kernel': 'rbf', 'svc_C': 10, 'svc__gamma': 'auto', 'threshold': 0.05177934873640562}. Best is trial 1 with value: 0.7535020479673252.\u001b[0m\n",
            "\u001b[32m[I 2021-12-02 21:27:26,580]\u001b[0m Trial 2 finished with value: 0.7405462790208175 and parameters: {'svc_kernel': 'rbf', 'svc_C': 34, 'svc__gamma': 'scale', 'threshold': 0.03900370730550822}. Best is trial 1 with value: 0.7535020479673252.\u001b[0m\n",
            "\u001b[32m[I 2021-12-02 21:27:53,584]\u001b[0m Trial 3 finished with value: 0.7279415901871951 and parameters: {'svc_kernel': 'rbf', 'svc_C': 80, 'svc__gamma': 'scale', 'threshold': 0.021554191250644585}. Best is trial 1 with value: 0.7535020479673252.\u001b[0m\n",
            "\u001b[32m[I 2021-12-02 21:28:07,322]\u001b[0m Trial 4 finished with value: 0.7546691815828032 and parameters: {'svc_kernel': 'rbf', 'svc_C': 14, 'svc__gamma': 'auto', 'threshold': 0.03400980960940852}. Best is trial 4 with value: 0.7546691815828032.\u001b[0m\n",
            "\u001b[32m[I 2021-12-02 21:28:33,394]\u001b[0m Trial 5 finished with value: 0.7301588988318446 and parameters: {'svc_kernel': 'rbf', 'svc_C': 82, 'svc__gamma': 'scale', 'threshold': 0.05099199355321944}. Best is trial 4 with value: 0.7546691815828032.\u001b[0m\n",
            "\u001b[32m[I 2021-12-02 21:28:57,105]\u001b[0m Trial 6 finished with value: 0.73237593500454 and parameters: {'svc_kernel': 'rbf', 'svc_C': 95, 'svc__gamma': 'scale', 'threshold': 0.06686184822558698}. Best is trial 4 with value: 0.7546691815828032.\u001b[0m\n",
            "\u001b[32m[I 2021-12-02 21:29:13,508]\u001b[0m Trial 7 finished with value: 0.7549011914517374 and parameters: {'svc_kernel': 'rbf', 'svc_C': 60, 'svc__gamma': 'auto', 'threshold': 0.018441074397521285}. Best is trial 7 with value: 0.7549011914517374.\u001b[0m\n",
            "\u001b[32m[I 2021-12-02 21:29:27,774]\u001b[0m Trial 8 finished with value: 0.7556019893177371 and parameters: {'svc_kernel': 'rbf', 'svc_C': 47, 'svc__gamma': 'auto', 'threshold': 0.010765906895852273}. Best is trial 8 with value: 0.7556019893177371.\u001b[0m\n",
            "\u001b[32m[I 2021-12-02 21:29:41,508]\u001b[0m Trial 9 finished with value: 0.7480144628113247 and parameters: {'svc_kernel': 'rbf', 'svc_C': 37, 'svc__gamma': 'auto', 'threshold': 0.07084879015370013}. Best is trial 8 with value: 0.7556019893177371.\u001b[0m\n",
            "\u001b[32m[I 2021-12-02 21:29:58,625]\u001b[0m Trial 10 finished with value: 0.7546685685209065 and parameters: {'svc_kernel': 'rbf', 'svc_C': 54, 'svc__gamma': 'auto', 'threshold': 0.006059015091283593}. Best is trial 8 with value: 0.7556019893177371.\u001b[0m\n",
            "\u001b[32m[I 2021-12-02 21:30:15,898]\u001b[0m Trial 11 finished with value: 0.7565353419965791 and parameters: {'svc_kernel': 'rbf', 'svc_C': 59, 'svc__gamma': 'auto', 'threshold': 0.0009514636723676022}. Best is trial 11 with value: 0.7565353419965791.\u001b[0m\n",
            "\u001b[32m[I 2021-12-02 21:30:34,229]\u001b[0m Trial 12 finished with value: 0.7566525730548397 and parameters: {'svc_kernel': 'rbf', 'svc_C': 67, 'svc__gamma': 'auto', 'threshold': 0.0019083837576282783}. Best is trial 12 with value: 0.7566525730548397.\u001b[0m\n",
            "\u001b[32m[I 2021-12-02 21:30:47,697]\u001b[0m Trial 13 finished with value: 0.7461483023975488 and parameters: {'svc_kernel': 'rbf', 'svc_C': 66, 'svc__gamma': 'auto', 'threshold': 0.09104538147939874}. Best is trial 12 with value: 0.7566525730548397.\u001b[0m\n",
            "\u001b[32m[I 2021-12-02 21:31:04,604]\u001b[0m Trial 14 finished with value: 0.7533848850270531 and parameters: {'svc_kernel': 'rbf', 'svc_C': 76, 'svc__gamma': 'auto', 'threshold': 0.004021923598334153}. Best is trial 12 with value: 0.7566525730548397.\u001b[0m\n",
            "\u001b[32m[I 2021-12-02 21:31:22,097]\u001b[0m Trial 15 finished with value: 0.7571192493942608 and parameters: {'svc_kernel': 'rbf', 'svc_C': 67, 'svc__gamma': 'auto', 'threshold': 0.0008876434291118067}. Best is trial 15 with value: 0.7571192493942608.\u001b[0m\n",
            "\u001b[32m[I 2021-12-02 21:31:38,970]\u001b[0m Trial 16 finished with value: 0.7510515033299479 and parameters: {'svc_kernel': 'rbf', 'svc_C': 99, 'svc__gamma': 'auto', 'threshold': 0.03303153421127046}. Best is trial 15 with value: 0.7571192493942608.\u001b[0m\n",
            "\u001b[32m[I 2021-12-02 21:31:55,735]\u001b[0m Trial 17 finished with value: 0.7547846415733621 and parameters: {'svc_kernel': 'rbf', 'svc_C': 72, 'svc__gamma': 'auto', 'threshold': 0.0161356968594584}. Best is trial 15 with value: 0.7571192493942608.\u001b[0m\n",
            "\u001b[32m[I 2021-12-02 21:32:09,332]\u001b[0m Trial 18 finished with value: 0.750349138750212 and parameters: {'svc_kernel': 'rbf', 'svc_C': 40, 'svc__gamma': 'auto', 'threshold': 0.06890782619620513}. Best is trial 15 with value: 0.7571192493942608.\u001b[0m\n",
            "\u001b[32m[I 2021-12-02 21:32:27,956]\u001b[0m Trial 19 finished with value: 0.7567691910512038 and parameters: {'svc_kernel': 'rbf', 'svc_C': 87, 'svc__gamma': 'auto', 'threshold': 0.0004919842026541164}. Best is trial 15 with value: 0.7571192493942608.\u001b[0m\n",
            "\u001b[32m[I 2021-12-02 21:32:42,271]\u001b[0m Trial 20 finished with value: 0.7421808382735905 and parameters: {'svc_kernel': 'rbf', 'svc_C': 90, 'svc__gamma': 'auto', 'threshold': 0.097471584094579}. Best is trial 15 with value: 0.7571192493942608.\u001b[0m\n",
            "\u001b[32m[I 2021-12-02 21:32:57,760]\u001b[0m Trial 21 finished with value: 0.7510504815601199 and parameters: {'svc_kernel': 'rbf', 'svc_C': 87, 'svc__gamma': 'auto', 'threshold': 0.01107635620448107}. Best is trial 15 with value: 0.7571192493942608.\u001b[0m\n",
            "\u001b[32m[I 2021-12-02 21:33:15,538]\u001b[0m Trial 22 finished with value: 0.757352553504977 and parameters: {'svc_kernel': 'rbf', 'svc_C': 72, 'svc__gamma': 'auto', 'threshold': 0.0008150275621718536}. Best is trial 22 with value: 0.757352553504977.\u001b[0m\n",
            "\u001b[32m[I 2021-12-02 21:33:30,425]\u001b[0m Trial 23 finished with value: 0.7523349824698357 and parameters: {'svc_kernel': 'rbf', 'svc_C': 73, 'svc__gamma': 'auto', 'threshold': 0.02479584224887793}. Best is trial 22 with value: 0.757352553504977.\u001b[0m\n",
            "\u001b[32m[I 2021-12-02 21:33:46,503]\u001b[0m Trial 24 finished with value: 0.7535012986694513 and parameters: {'svc_kernel': 'rbf', 'svc_C': 86, 'svc__gamma': 'auto', 'threshold': 0.009789803934233864}. Best is trial 22 with value: 0.757352553504977.\u001b[0m\n",
            "\u001b[32m[I 2021-12-02 21:34:04,386]\u001b[0m Trial 25 finished with value: 0.7566516875209889 and parameters: {'svc_kernel': 'rbf', 'svc_C': 49, 'svc__gamma': 'auto', 'threshold': 0.0005881462733958415}. Best is trial 22 with value: 0.757352553504977.\u001b[0m\n",
            "\u001b[32m[I 2021-12-02 21:34:31,319]\u001b[0m Trial 26 finished with value: 0.7329604554641186 and parameters: {'svc_kernel': 'rbf', 'svc_C': 66, 'svc__gamma': 'scale', 'threshold': 0.014819403671610385}. Best is trial 22 with value: 0.757352553504977.\u001b[0m\n",
            "\u001b[32m[I 2021-12-02 21:34:48,188]\u001b[0m Trial 27 finished with value: 0.7521019508310735 and parameters: {'svc_kernel': 'rbf', 'svc_C': 93, 'svc__gamma': 'auto', 'threshold': 0.03202028023648459}. Best is trial 22 with value: 0.757352553504977.\u001b[0m\n",
            "\u001b[32m[I 2021-12-02 21:35:01,688]\u001b[0m Trial 28 finished with value: 0.7495318591238256 and parameters: {'svc_kernel': 'rbf', 'svc_C': 27, 'svc__gamma': 'auto', 'threshold': 0.06057162198498694}. Best is trial 22 with value: 0.757352553504977.\u001b[0m\n",
            "\u001b[32m[I 2021-12-02 21:35:26,899]\u001b[0m Trial 29 finished with value: 0.7321422221858926 and parameters: {'svc_kernel': 'rbf', 'svc_C': 79, 'svc__gamma': 'scale', 'threshold': 0.024541630662951727}. Best is trial 22 with value: 0.757352553504977.\u001b[0m\n",
            "\u001b[32m[I 2021-12-02 21:35:43,003]\u001b[0m Trial 30 finished with value: 0.7528018631632223 and parameters: {'svc_kernel': 'rbf', 'svc_C': 59, 'svc__gamma': 'auto', 'threshold': 0.04252213175236563}. Best is trial 22 with value: 0.757352553504977.\u001b[0m\n",
            "\u001b[32m[I 2021-12-02 21:36:02,254]\u001b[0m Trial 31 finished with value: 0.7557184710781238 and parameters: {'svc_kernel': 'rbf', 'svc_C': 67, 'svc__gamma': 'auto', 'threshold': 0.00015567948611781737}. Best is trial 22 with value: 0.757352553504977.\u001b[0m\n",
            "\u001b[32m[I 2021-12-02 21:36:19,364]\u001b[0m Trial 32 finished with value: 0.7556023299076797 and parameters: {'svc_kernel': 'rbf', 'svc_C': 66, 'svc__gamma': 'auto', 'threshold': 0.00687521309145979}. Best is trial 22 with value: 0.757352553504977.\u001b[0m\n",
            "\u001b[32m[I 2021-12-02 21:36:36,845]\u001b[0m Trial 33 finished with value: 0.7542012110016001 and parameters: {'svc_kernel': 'rbf', 'svc_C': 71, 'svc__gamma': 'auto', 'threshold': 0.013174996837490863}. Best is trial 22 with value: 0.757352553504977.\u001b[0m\n",
            "\u001b[32m[I 2021-12-02 21:36:54,811]\u001b[0m Trial 34 finished with value: 0.7547851865172703 and parameters: {'svc_kernel': 'rbf', 'svc_C': 83, 'svc__gamma': 'auto', 'threshold': 0.006623613508293646}. Best is trial 22 with value: 0.757352553504977.\u001b[0m\n",
            "\u001b[32m[I 2021-12-02 21:37:18,003]\u001b[0m Trial 35 finished with value: 0.731093068926549 and parameters: {'svc_kernel': 'rbf', 'svc_C': 55, 'svc__gamma': 'scale', 'threshold': 0.02133209053370803}. Best is trial 22 with value: 0.757352553504977.\u001b[0m\n",
            "\u001b[32m[I 2021-12-02 21:37:33,211]\u001b[0m Trial 36 finished with value: 0.7533852937349843 and parameters: {'svc_kernel': 'rbf', 'svc_C': 78, 'svc__gamma': 'auto', 'threshold': 0.026365435688271203}. Best is trial 22 with value: 0.757352553504977.\u001b[0m\n",
            "\u001b[32m[I 2021-12-02 21:37:52,678]\u001b[0m Trial 37 finished with value: 0.754551746170577 and parameters: {'svc_kernel': 'rbf', 'svc_C': 4, 'svc__gamma': 'scale', 'threshold': 0.00012092276852228572}. Best is trial 22 with value: 0.757352553504977.\u001b[0m\n",
            "\u001b[32m[I 2021-12-02 21:38:10,436]\u001b[0m Trial 38 finished with value: 0.750234564293504 and parameters: {'svc_kernel': 'rbf', 'svc_C': 100, 'svc__gamma': 'auto', 'threshold': 0.04436367058309237}. Best is trial 22 with value: 0.757352553504977.\u001b[0m\n",
            "\u001b[32m[I 2021-12-02 21:38:23,216]\u001b[0m Trial 39 finished with value: 0.7462637623881078 and parameters: {'svc_kernel': 'rbf', 'svc_C': 28, 'svc__gamma': 'auto', 'threshold': 0.08082794836482311}. Best is trial 22 with value: 0.757352553504977.\u001b[0m\n",
            "\u001b[32m[I 2021-12-02 21:38:46,245]\u001b[0m Trial 40 finished with value: 0.7347113602413011 and parameters: {'svc_kernel': 'rbf', 'svc_C': 46, 'svc__gamma': 'scale', 'threshold': 0.018056709459459103}. Best is trial 22 with value: 0.757352553504977.\u001b[0m\n",
            "\u001b[32m[I 2021-12-02 21:39:04,824]\u001b[0m Trial 41 finished with value: 0.755718879786055 and parameters: {'svc_kernel': 'rbf', 'svc_C': 51, 'svc__gamma': 'auto', 'threshold': 0.00484094081574395}. Best is trial 22 with value: 0.757352553504977.\u001b[0m\n",
            "\u001b[32m[I 2021-12-02 21:39:19,517]\u001b[0m Trial 42 finished with value: 0.7551352448603275 and parameters: {'svc_kernel': 'rbf', 'svc_C': 43, 'svc__gamma': 'auto', 'threshold': 0.009167021716012497}. Best is trial 22 with value: 0.757352553504977.\u001b[0m\n",
            "\u001b[32m[I 2021-12-02 21:39:35,951]\u001b[0m Trial 43 finished with value: 0.7550185587459751 and parameters: {'svc_kernel': 'rbf', 'svc_C': 59, 'svc__gamma': 'auto', 'threshold': 0.003541869841088954}. Best is trial 22 with value: 0.757352553504977.\u001b[0m\n",
            "\u001b[32m[I 2021-12-02 21:39:53,050]\u001b[0m Trial 44 finished with value: 0.7565357507045103 and parameters: {'svc_kernel': 'rbf', 'svc_C': 50, 'svc__gamma': 'auto', 'threshold': 0.01307988066588807}. Best is trial 22 with value: 0.757352553504977.\u001b[0m\n",
            "\u001b[32m[I 2021-12-02 21:40:12,728]\u001b[0m Trial 45 finished with value: 0.7561853517715106 and parameters: {'svc_kernel': 'rbf', 'svc_C': 63, 'svc__gamma': 'auto', 'threshold': 0.00019174683105533698}. Best is trial 22 with value: 0.757352553504977.\u001b[0m\n",
            "\u001b[32m[I 2021-12-02 21:40:29,539]\u001b[0m Trial 46 finished with value: 0.7550187630999408 and parameters: {'svc_kernel': 'rbf', 'svc_C': 74, 'svc__gamma': 'auto', 'threshold': 0.019544995639729307}. Best is trial 22 with value: 0.757352553504977.\u001b[0m\n",
            "\u001b[32m[I 2021-12-02 21:40:46,119]\u001b[0m Trial 47 finished with value: 0.7536182572557578 and parameters: {'svc_kernel': 'rbf', 'svc_C': 84, 'svc__gamma': 'auto', 'threshold': 0.008195436537620462}. Best is trial 22 with value: 0.757352553504977.\u001b[0m\n",
            "\u001b[32m[I 2021-12-02 21:40:59,583]\u001b[0m Trial 48 finished with value: 0.7521010652972226 and parameters: {'svc_kernel': 'rbf', 'svc_C': 55, 'svc__gamma': 'auto', 'threshold': 0.028754674618984906}. Best is trial 22 with value: 0.757352553504977.\u001b[0m\n",
            "\u001b[32m[I 2021-12-02 21:41:17,108]\u001b[0m Trial 49 finished with value: 0.7553684127350666 and parameters: {'svc_kernel': 'rbf', 'svc_C': 33, 'svc__gamma': 'auto', 'threshold': 0.004333666093446287}. Best is trial 22 with value: 0.757352553504977.\u001b[0m\n",
            "\u001b[32m[I 2021-12-02 21:41:33,388]\u001b[0m Trial 50 finished with value: 0.7476650856481529 and parameters: {'svc_kernel': 'rbf', 'svc_C': 95, 'svc__gamma': 'auto', 'threshold': 0.058512627409254656}. Best is trial 22 with value: 0.757352553504977.\u001b[0m\n",
            "\u001b[32m[I 2021-12-02 21:41:50,759]\u001b[0m Trial 51 finished with value: 0.7549016001596686 and parameters: {'svc_kernel': 'rbf', 'svc_C': 49, 'svc__gamma': 'auto', 'threshold': 0.012917935859048792}. Best is trial 22 with value: 0.757352553504977.\u001b[0m\n",
            "\u001b[32m[I 2021-12-02 21:42:07,554]\u001b[0m Trial 52 finished with value: 0.7538514251304971 and parameters: {'svc_kernel': 'rbf', 'svc_C': 69, 'svc__gamma': 'auto', 'threshold': 0.0034644839667451067}. Best is trial 22 with value: 0.757352553504977.\u001b[0m\n",
            "\u001b[32m[I 2021-12-02 21:42:23,899]\u001b[0m Trial 53 finished with value: 0.7552517266207143 and parameters: {'svc_kernel': 'rbf', 'svc_C': 52, 'svc__gamma': 'auto', 'threshold': 0.014988006337969742}. Best is trial 22 with value: 0.757352553504977.\u001b[0m\n",
            "\u001b[32m[I 2021-12-02 21:42:38,139]\u001b[0m Trial 54 finished with value: 0.7550186268639637 and parameters: {'svc_kernel': 'rbf', 'svc_C': 42, 'svc__gamma': 'auto', 'threshold': 0.010623954247917473}. Best is trial 22 with value: 0.757352553504977.\u001b[0m\n",
            "\u001b[32m[I 2021-12-02 21:42:54,952]\u001b[0m Trial 55 finished with value: 0.7543185782958378 and parameters: {'svc_kernel': 'rbf', 'svc_C': 63, 'svc__gamma': 'auto', 'threshold': 0.003943383365203125}. Best is trial 22 with value: 0.757352553504977.\u001b[0m\n",
            "\u001b[32m[I 2021-12-02 21:43:10,560]\u001b[0m Trial 56 finished with value: 0.7547849821633047 and parameters: {'svc_kernel': 'rbf', 'svc_C': 62, 'svc__gamma': 'auto', 'threshold': 0.008357656230731652}. Best is trial 22 with value: 0.757352553504977.\u001b[0m\n",
            "\u001b[32m[I 2021-12-02 21:43:32,356]\u001b[0m Trial 57 finished with value: 0.740780128075442 and parameters: {'svc_kernel': 'rbf', 'svc_C': 37, 'svc__gamma': 'scale', 'threshold': 0.017366308035148593}. Best is trial 22 with value: 0.757352553504977.\u001b[0m\n",
            "\u001b[32m[I 2021-12-02 21:43:50,451]\u001b[0m Trial 58 finished with value: 0.7528005689214402 and parameters: {'svc_kernel': 'rbf', 'svc_C': 76, 'svc__gamma': 'auto', 'threshold': 0.012726524108154575}. Best is trial 22 with value: 0.757352553504977.\u001b[0m\n",
            "\u001b[32m[I 2021-12-02 21:44:07,901]\u001b[0m Trial 59 finished with value: 0.7564184515282613 and parameters: {'svc_kernel': 'rbf', 'svc_C': 46, 'svc__gamma': 'auto', 'threshold': 0.002441170297410214}. Best is trial 22 with value: 0.757352553504977.\u001b[0m\n",
            "\u001b[32m[I 2021-12-02 21:44:26,035]\u001b[0m Trial 60 finished with value: 0.7535010943154857 and parameters: {'svc_kernel': 'rbf', 'svc_C': 89, 'svc__gamma': 'auto', 'threshold': 0.006711136163272919}. Best is trial 22 with value: 0.757352553504977.\u001b[0m\n",
            "\u001b[32m[I 2021-12-02 21:44:45,935]\u001b[0m Trial 61 finished with value: 0.756185283653522 and parameters: {'svc_kernel': 'rbf', 'svc_C': 58, 'svc__gamma': 'auto', 'threshold': 0.000162629131854659}. Best is trial 22 with value: 0.757352553504977.\u001b[0m\n",
            "\u001b[32m[I 2021-12-02 21:45:01,205]\u001b[0m Trial 62 finished with value: 0.7535016392593941 and parameters: {'svc_kernel': 'rbf', 'svc_C': 69, 'svc__gamma': 'auto', 'threshold': 0.010688753735748928}. Best is trial 22 with value: 0.757352553504977.\u001b[0m\n",
            "\u001b[32m[I 2021-12-02 21:45:18,134]\u001b[0m Trial 63 finished with value: 0.7552515903847372 and parameters: {'svc_kernel': 'rbf', 'svc_C': 56, 'svc__gamma': 'auto', 'threshold': 0.0028529329779726064}. Best is trial 22 with value: 0.757352553504977.\u001b[0m\n",
            "\u001b[32m[I 2021-12-02 21:45:35,803]\u001b[0m Trial 64 finished with value: 0.7550184906279865 and parameters: {'svc_kernel': 'rbf', 'svc_C': 81, 'svc__gamma': 'auto', 'threshold': 0.006690423506716647}. Best is trial 22 with value: 0.757352553504977.\u001b[0m\n",
            "\u001b[32m[I 2021-12-02 21:45:54,771]\u001b[0m Trial 65 finished with value: 0.7561851474175448 and parameters: {'svc_kernel': 'rbf', 'svc_C': 48, 'svc__gamma': 'auto', 'threshold': 0.00028275419486351863}. Best is trial 22 with value: 0.757352553504977.\u001b[0m\n",
            "\u001b[32m[I 2021-12-02 21:46:10,558]\u001b[0m Trial 66 finished with value: 0.7539679750088724 and parameters: {'svc_kernel': 'rbf', 'svc_C': 64, 'svc__gamma': 'auto', 'threshold': 0.009126523916952109}. Best is trial 22 with value: 0.757352553504977.\u001b[0m\n",
            "\u001b[32m[I 2021-12-02 21:46:26,981]\u001b[0m Trial 67 finished with value: 0.7552517266207143 and parameters: {'svc_kernel': 'rbf', 'svc_C': 52, 'svc__gamma': 'auto', 'threshold': 0.015272702637742115}. Best is trial 22 with value: 0.757352553504977.\u001b[0m\n",
            "\u001b[32m[I 2021-12-02 21:46:46,926]\u001b[0m Trial 68 finished with value: 0.7358761097271805 and parameters: {'svc_kernel': 'rbf', 'svc_C': 72, 'svc__gamma': 'scale', 'threshold': 0.07654075508166563}. Best is trial 22 with value: 0.757352553504977.\u001b[0m\n",
            "\u001b[32m[I 2021-12-02 21:47:03,600]\u001b[0m Trial 69 finished with value: 0.7533858386788925 and parameters: {'svc_kernel': 'rbf', 'svc_C': 77, 'svc__gamma': 'auto', 'threshold': 0.03660786245167332}. Best is trial 22 with value: 0.757352553504977.\u001b[0m\n",
            "\u001b[32m[I 2021-12-02 21:47:19,805]\u001b[0m Trial 70 finished with value: 0.7559522520147599 and parameters: {'svc_kernel': 'rbf', 'svc_C': 60, 'svc__gamma': 'auto', 'threshold': 0.020827665641279188}. Best is trial 22 with value: 0.757352553504977.\u001b[0m\n",
            "\u001b[32m[I 2021-12-02 21:47:37,518]\u001b[0m Trial 71 finished with value: 0.7560684613031924 and parameters: {'svc_kernel': 'rbf', 'svc_C': 47, 'svc__gamma': 'auto', 'threshold': 0.0022622777390965275}. Best is trial 22 with value: 0.757352553504977.\u001b[0m\n",
            "\u001b[32m[I 2021-12-02 21:47:55,651]\u001b[0m Trial 72 finished with value: 0.7556023299076797 and parameters: {'svc_kernel': 'rbf', 'svc_C': 45, 'svc__gamma': 'auto', 'threshold': 0.004940389577840732}. Best is trial 22 with value: 0.757352553504977.\u001b[0m\n",
            "\u001b[32m[I 2021-12-02 21:48:13,178]\u001b[0m Trial 73 finished with value: 0.7553678677911584 and parameters: {'svc_kernel': 'rbf', 'svc_C': 39, 'svc__gamma': 'auto', 'threshold': 0.0021303095607241875}. Best is trial 22 with value: 0.757352553504977.\u001b[0m\n",
            "\u001b[32m[I 2021-12-02 21:48:30,848]\u001b[0m Trial 74 finished with value: 0.7552519990926684 and parameters: {'svc_kernel': 'rbf', 'svc_C': 53, 'svc__gamma': 'auto', 'threshold': 0.0063422813435586554}. Best is trial 22 with value: 0.757352553504977.\u001b[0m\n",
            "\u001b[32m[I 2021-12-02 21:48:48,487]\u001b[0m Trial 75 finished with value: 0.7539677706549067 and parameters: {'svc_kernel': 'rbf', 'svc_C': 68, 'svc__gamma': 'auto', 'threshold': 0.013117695712409368}. Best is trial 22 with value: 0.757352553504977.\u001b[0m\n",
            "\u001b[32m[I 2021-12-02 21:49:09,352]\u001b[0m Trial 76 finished with value: 0.7565353419965791 and parameters: {'svc_kernel': 'rbf', 'svc_C': 57, 'svc__gamma': 'auto', 'threshold': 2.1046046198020603e-05}. Best is trial 22 with value: 0.757352553504977.\u001b[0m\n",
            "\u001b[32m[I 2021-12-02 21:49:29,011]\u001b[0m Trial 77 finished with value: 0.7563019697678743 and parameters: {'svc_kernel': 'rbf', 'svc_C': 59, 'svc__gamma': 'auto', 'threshold': 0.0001398759654251859}. Best is trial 22 with value: 0.757352553504977.\u001b[0m\n",
            "\u001b[32m[I 2021-12-02 21:49:55,157]\u001b[0m Trial 78 finished with value: 0.7377447223885436 and parameters: {'svc_kernel': 'rbf', 'svc_C': 65, 'svc__gamma': 'scale', 'threshold': 0.008338561989949542}. Best is trial 22 with value: 0.757352553504977.\u001b[0m\n",
            "\u001b[32m[I 2021-12-02 21:50:09,384]\u001b[0m Trial 79 finished with value: 0.7539681112448495 and parameters: {'svc_kernel': 'rbf', 'svc_C': 56, 'svc__gamma': 'auto', 'threshold': 0.011092068697580698}. Best is trial 22 with value: 0.757352553504977.\u001b[0m\n",
            "\u001b[32m[I 2021-12-02 21:50:27,645]\u001b[0m Trial 80 finished with value: 0.7538517657204398 and parameters: {'svc_kernel': 'rbf', 'svc_C': 74, 'svc__gamma': 'auto', 'threshold': 0.005560652577466818}. Best is trial 22 with value: 0.757352553504977.\u001b[0m\n",
            "\u001b[32m[I 2021-12-02 21:50:44,808]\u001b[0m Trial 81 finished with value: 0.7557180623701927 and parameters: {'svc_kernel': 'rbf', 'svc_C': 44, 'svc__gamma': 'auto', 'threshold': 0.00235290087193028}. Best is trial 22 with value: 0.757352553504977.\u001b[0m\n",
            "\u001b[32m[I 2021-12-02 21:51:01,630]\u001b[0m Trial 82 finished with value: 0.7557185391961123 and parameters: {'svc_kernel': 'rbf', 'svc_C': 50, 'svc__gamma': 'auto', 'threshold': 0.002528025138327565}. Best is trial 22 with value: 0.757352553504977.\u001b[0m\n",
            "\u001b[32m[I 2021-12-02 21:51:19,854]\u001b[0m Trial 83 finished with value: 0.754551882406554 and parameters: {'svc_kernel': 'rbf', 'svc_C': 61, 'svc__gamma': 'auto', 'threshold': 0.0046455481393645}. Best is trial 22 with value: 0.757352553504977.\u001b[0m\n",
            "\u001b[32m[I 2021-12-02 21:51:36,871]\u001b[0m Trial 84 finished with value: 0.7558356340183959 and parameters: {'svc_kernel': 'rbf', 'svc_C': 70, 'svc__gamma': 'auto', 'threshold': 0.00695415949648958}. Best is trial 22 with value: 0.757352553504977.\u001b[0m\n",
            "\u001b[32m[I 2021-12-02 21:51:55,191]\u001b[0m Trial 85 finished with value: 0.7564189283541809 and parameters: {'svc_kernel': 'rbf', 'svc_C': 54, 'svc__gamma': 'auto', 'threshold': 0.0018619076339753268}. Best is trial 22 with value: 0.757352553504977.\u001b[0m\n",
            "\u001b[32m[I 2021-12-02 21:52:09,886]\u001b[0m Trial 86 finished with value: 0.7551356535682586 and parameters: {'svc_kernel': 'rbf', 'svc_C': 55, 'svc__gamma': 'auto', 'threshold': 0.010348157256391743}. Best is trial 22 with value: 0.757352553504977.\u001b[0m\n",
            "\u001b[32m[I 2021-12-02 21:52:28,033]\u001b[0m Trial 87 finished with value: 0.755834748484545 and parameters: {'svc_kernel': 'rbf', 'svc_C': 58, 'svc__gamma': 'auto', 'threshold': 0.00038525803336716784}. Best is trial 22 with value: 0.757352553504977.\u001b[0m\n",
            "\u001b[32m[I 2021-12-02 21:52:47,277]\u001b[0m Trial 88 finished with value: 0.7544351281742131 and parameters: {'svc_kernel': 'rbf', 'svc_C': 92, 'svc__gamma': 'auto', 'threshold': 0.004989558540328334}. Best is trial 22 with value: 0.757352553504977.\u001b[0m\n",
            "\u001b[32m[I 2021-12-02 21:53:03,331]\u001b[0m Trial 89 finished with value: 0.755252203446634 and parameters: {'svc_kernel': 'rbf', 'svc_C': 65, 'svc__gamma': 'auto', 'threshold': 0.00773375215554415}. Best is trial 22 with value: 0.757352553504977.\u001b[0m\n",
            "\u001b[32m[I 2021-12-02 21:53:31,187]\u001b[0m Trial 90 finished with value: 0.7321434483096863 and parameters: {'svc_kernel': 'rbf', 'svc_C': 97, 'svc__gamma': 'scale', 'threshold': 0.053427298461528085}. Best is trial 22 with value: 0.757352553504977.\u001b[0m\n",
            "\u001b[32m[I 2021-12-02 21:53:48,207]\u001b[0m Trial 91 finished with value: 0.75630217412184 and parameters: {'svc_kernel': 'rbf', 'svc_C': 49, 'svc__gamma': 'auto', 'threshold': 0.0023268621235460816}. Best is trial 22 with value: 0.757352553504977.\u001b[0m\n",
            "\u001b[32m[I 2021-12-02 21:54:05,127]\u001b[0m Trial 92 finished with value: 0.755367935909147 and parameters: {'svc_kernel': 'rbf', 'svc_C': 41, 'svc__gamma': 'auto', 'threshold': 0.0023655181392731894}. Best is trial 22 with value: 0.757352553504977.\u001b[0m\n",
            "\u001b[32m[I 2021-12-02 21:54:22,092]\u001b[0m Trial 93 finished with value: 0.7544346513482934 and parameters: {'svc_kernel': 'rbf', 'svc_C': 53, 'svc__gamma': 'auto', 'threshold': 0.012654414612969862}. Best is trial 22 with value: 0.757352553504977.\u001b[0m\n",
            "\u001b[32m[I 2021-12-02 21:54:39,064]\u001b[0m Trial 94 finished with value: 0.7552518628566913 and parameters: {'svc_kernel': 'rbf', 'svc_C': 34, 'svc__gamma': 'auto', 'threshold': 0.005194017308846969}. Best is trial 22 with value: 0.757352553504977.\u001b[0m\n",
            "\u001b[32m[I 2021-12-02 21:54:52,564]\u001b[0m Trial 95 finished with value: 0.7575855170257506 and parameters: {'svc_kernel': 'rbf', 'svc_C': 18, 'svc__gamma': 'auto', 'threshold': 0.008889875841371388}. Best is trial 95 with value: 0.7575855170257506.\u001b[0m\n",
            "\u001b[32m[I 2021-12-02 21:55:06,342]\u001b[0m Trial 96 finished with value: 0.7587530593491598 and parameters: {'svc_kernel': 'rbf', 'svc_C': 18, 'svc__gamma': 'auto', 'threshold': 0.00862306296020627}. Best is trial 96 with value: 0.7587530593491598.\u001b[0m\n",
            "\u001b[32m[I 2021-12-02 21:55:21,029]\u001b[0m Trial 97 finished with value: 0.7564187921182037 and parameters: {'svc_kernel': 'rbf', 'svc_C': 15, 'svc__gamma': 'auto', 'threshold': 0.01587317067597719}. Best is trial 96 with value: 0.7587530593491598.\u001b[0m\n",
            "\u001b[32m[I 2021-12-02 21:55:34,596]\u001b[0m Trial 98 finished with value: 0.7556016487277943 and parameters: {'svc_kernel': 'rbf', 'svc_C': 18, 'svc__gamma': 'auto', 'threshold': 0.009392037236100303}. Best is trial 96 with value: 0.7587530593491598.\u001b[0m\n",
            "\u001b[32m[I 2021-12-02 21:55:49,070]\u001b[0m Trial 99 finished with value: 0.7538524469003249 and parameters: {'svc_kernel': 'rbf', 'svc_C': 18, 'svc__gamma': 'auto', 'threshold': 0.044941238768175476}. Best is trial 96 with value: 0.7587530593491598.\u001b[0m\n"
          ]
        }
      ]
    },
    {
      "cell_type": "markdown",
      "metadata": {
        "id": "0N4YNXI_oXGp"
      },
      "source": [
        "Παρατηρούμε ότι η χρήση του VarianceThreshold αύξησε την επίδοση του ταξινομητή μας. Το μέγιστο accuracy είναι 75.87% και παρατηρείται για threshold 0.008. Στην περίπτωση αυτή βέβαια μεταβάλαμε και το gamma το οποίο πλέον παίρνει δύο τιμές , τις auto και scale."
      ]
    },
    {
      "cell_type": "markdown",
      "metadata": {
        "id": "83qQhb4MJ53S"
      },
      "source": [
        "Στην συνέχεια προσθέτουμε τον μετασχηματιστή PCA στο pipeline μας δοκιμόζαντας και την περίπτωση που η υπερπαράμετρος gamma παίρνει συνεχείς πραγματικές τιμές αλλά και την περίπτωση που παίρει τιμές auto η scale."
      ]
    },
    {
      "cell_type": "markdown",
      "metadata": {
        "id": "FjiXCD1YiJKA"
      },
      "source": [
        "Αρχικά βάζουμε το gamma να παίρνει τιμές scaled ,auto"
      ]
    },
    {
      "cell_type": "code",
      "metadata": {
        "colab": {
          "base_uri": "https://localhost:8080/"
        },
        "id": "RWBMkl-Hd0XG",
        "outputId": "78345128-d269-496d-ced6-148d87e569e5"
      },
      "source": [
        "from sklearn.decomposition import PCA\n",
        "\n",
        "def objective(trial):\n",
        "\n",
        "    \n",
        "    svc_kernel = trial.suggest_categorical('svc_kernel',['rbf'])\n",
        "\n",
        "    svc_C = trial.suggest_int('svc_C',1,100)\n",
        "\n",
        "    svc_gamma = trial.suggest_categorical('svc_gamma',['auto', 'scale'])\n",
        "    svm = SVC(kernel = svc_kernel,gamma = svc_gamma , C = svc_C)\n",
        "            \n",
        "    threshold = trial.suggest_float('threshold', 0, 0.1)\n",
        "\n",
        "    p = Pipeline(steps = [('minmax_scaler', preprocessing.MinMaxScaler()), ('selector', VarianceThreshold(threshold))])\n",
        "    upper_bound = p.fit_transform(X_train_small).shape[1]\n",
        "\n",
        "    if (upper_bound<=80):\n",
        "\n",
        "      n_components = trial.suggest_int('n_components', min(upper_bound, 5), upper_bound)\n",
        "\n",
        "    else:\n",
        "\n",
        "      n_components = trial.suggest_int('n_components', min(upper_bound, 5) , 80)\n",
        "\n",
        "    clf = Pipeline(steps = [('minmax_scaler', preprocessing.MinMaxScaler()), ('selector', VarianceThreshold(threshold)), ('pca', PCA(n_components=n_components)),('svm', svm)])\n",
        "  \n",
        "\n",
        "    return np.mean(cross_val_score(clf, X_train_small, y_train_small, cv = 5, scoring = 'accuracy'))\n",
        "\n",
        "study = optuna.create_study(direction = 'maximize')\n",
        "study.optimize(objective, n_trials = 30)"
      ],
      "execution_count": null,
      "outputs": [
        {
          "output_type": "stream",
          "name": "stderr",
          "text": [
            "\u001b[32m[I 2021-12-03 13:34:53,782]\u001b[0m A new study created in memory with name: no-name-d8bc1c26-05d6-4afc-8c4c-692ef98bc246\u001b[0m\n",
            "\u001b[32m[I 2021-12-03 13:35:07,143]\u001b[0m Trial 0 finished with value: 0.7356432143243955 and parameters: {'svc_kernel': 'rbf', 'svc_C': 10, 'svc_gamma': 'auto', 'threshold': 0.016466364352146514, 'n_components': 9}. Best is trial 0 with value: 0.7356432143243955.\u001b[0m\n",
            "\u001b[32m[I 2021-12-03 13:35:23,136]\u001b[0m Trial 1 finished with value: 0.7464969983808354 and parameters: {'svc_kernel': 'rbf', 'svc_C': 37, 'svc_gamma': 'auto', 'threshold': 0.036964721389599865, 'n_components': 19}. Best is trial 1 with value: 0.7464969983808354.\u001b[0m\n",
            "\u001b[32m[I 2021-12-03 13:35:59,024]\u001b[0m Trial 2 finished with value: 0.715684303095077 and parameters: {'svc_kernel': 'rbf', 'svc_C': 84, 'svc_gamma': 'scale', 'threshold': 0.05813176533161229, 'n_components': 29}. Best is trial 1 with value: 0.7464969983808354.\u001b[0m\n",
            "\u001b[32m[I 2021-12-03 13:36:18,328]\u001b[0m Trial 3 finished with value: 0.7484811391507458 and parameters: {'svc_kernel': 'rbf', 'svc_C': 92, 'svc_gamma': 'auto', 'threshold': 0.016222398305272445, 'n_components': 19}. Best is trial 3 with value: 0.7484811391507458.\u001b[0m\n",
            "\u001b[32m[I 2021-12-03 13:36:32,997]\u001b[0m Trial 4 finished with value: 0.7471963657690759 and parameters: {'svc_kernel': 'rbf', 'svc_C': 18, 'svc_gamma': 'auto', 'threshold': 0.028246484236067015, 'n_components': 18}. Best is trial 3 with value: 0.7484811391507458.\u001b[0m\n",
            "\u001b[32m[I 2021-12-03 13:36:52,481]\u001b[0m Trial 5 finished with value: 0.7226888077376586 and parameters: {'svc_kernel': 'rbf', 'svc_C': 77, 'svc_gamma': 'scale', 'threshold': 0.09667512679726337, 'n_components': 5}. Best is trial 3 with value: 0.7484811391507458.\u001b[0m\n",
            "\u001b[32m[I 2021-12-03 13:37:13,699]\u001b[0m Trial 6 finished with value: 0.7324916674670531 and parameters: {'svc_kernel': 'rbf', 'svc_C': 52, 'svc_gamma': 'scale', 'threshold': 0.09595289126379693, 'n_components': 12}. Best is trial 3 with value: 0.7484811391507458.\u001b[0m\n",
            "\u001b[32m[I 2021-12-03 13:37:37,892]\u001b[0m Trial 7 finished with value: 0.7270048316089265 and parameters: {'svc_kernel': 'rbf', 'svc_C': 36, 'svc_gamma': 'scale', 'threshold': 0.041019331010434736, 'n_components': 32}. Best is trial 3 with value: 0.7484811391507458.\u001b[0m\n",
            "\u001b[32m[I 2021-12-03 13:37:55,133]\u001b[0m Trial 8 finished with value: 0.7519830849410882 and parameters: {'svc_kernel': 'rbf', 'svc_C': 17, 'svc_gamma': 'auto', 'threshold': 0.04179090548045411, 'n_components': 31}. Best is trial 8 with value: 0.7519830849410882.\u001b[0m\n",
            "\u001b[32m[I 2021-12-03 13:38:14,161]\u001b[0m Trial 9 finished with value: 0.7383248832968561 and parameters: {'svc_kernel': 'rbf', 'svc_C': 13, 'svc_gamma': 'scale', 'threshold': 0.0631700714027492, 'n_components': 25}. Best is trial 8 with value: 0.7519830849410882.\u001b[0m\n",
            "\u001b[32m[I 2021-12-03 13:38:31,803]\u001b[0m Trial 10 finished with value: 0.7422951402583442 and parameters: {'svc_kernel': 'rbf', 'svc_C': 60, 'svc_gamma': 'auto', 'threshold': 0.07376458571620138, 'n_components': 15}. Best is trial 8 with value: 0.7519830849410882.\u001b[0m\n",
            "\u001b[32m[I 2021-12-03 13:38:55,713]\u001b[0m Trial 11 finished with value: 0.7463797673225747 and parameters: {'svc_kernel': 'rbf', 'svc_C': 92, 'svc_gamma': 'auto', 'threshold': 0.003259285606776262, 'n_components': 47}. Best is trial 8 with value: 0.7519830849410882.\u001b[0m\n",
            "\u001b[32m[I 2021-12-03 13:39:16,596]\u001b[0m Trial 12 finished with value: 0.7452131105330164 and parameters: {'svc_kernel': 'rbf', 'svc_C': 100, 'svc_gamma': 'auto', 'threshold': 0.018743181833933125, 'n_components': 39}. Best is trial 8 with value: 0.7519830849410882.\u001b[0m\n",
            "\u001b[32m[I 2021-12-03 13:39:36,705]\u001b[0m Trial 13 finished with value: 0.7449794658323576 and parameters: {'svc_kernel': 'rbf', 'svc_C': 70, 'svc_gamma': 'auto', 'threshold': 0.006546292697845041, 'n_components': 38}. Best is trial 8 with value: 0.7519830849410882.\u001b[0m\n",
            "\u001b[32m[I 2021-12-03 13:39:53,441]\u001b[0m Trial 14 finished with value: 0.7474299423517463 and parameters: {'svc_kernel': 'rbf', 'svc_C': 31, 'svc_gamma': 'auto', 'threshold': 0.04337894681716727, 'n_components': 23}. Best is trial 8 with value: 0.7519830849410882.\u001b[0m\n",
            "\u001b[32m[I 2021-12-03 13:40:08,416]\u001b[0m Trial 15 finished with value: 0.7499977861653727 and parameters: {'svc_kernel': 'rbf', 'svc_C': 3, 'svc_gamma': 'auto', 'threshold': 0.028332509559665604, 'n_components': 23}. Best is trial 8 with value: 0.7519830849410882.\u001b[0m\n",
            "\u001b[32m[I 2021-12-03 13:40:23,575]\u001b[0m Trial 16 finished with value: 0.7506985840313724 and parameters: {'svc_kernel': 'rbf', 'svc_C': 5, 'svc_gamma': 'auto', 'threshold': 0.029680344619498946, 'n_components': 24}. Best is trial 8 with value: 0.7519830849410882.\u001b[0m\n",
            "\u001b[32m[I 2021-12-03 13:40:40,237]\u001b[0m Trial 17 finished with value: 0.7480149396372445 and parameters: {'svc_kernel': 'rbf', 'svc_C': 24, 'svc_gamma': 'auto', 'threshold': 0.05228228741033279, 'n_components': 26}. Best is trial 8 with value: 0.7519830849410882.\u001b[0m\n",
            "\u001b[32m[I 2021-12-03 13:40:54,285]\u001b[0m Trial 18 finished with value: 0.7481309445717115 and parameters: {'svc_kernel': 'rbf', 'svc_C': 1, 'svc_gamma': 'auto', 'threshold': 0.0715073311938341, 'n_components': 17}. Best is trial 8 with value: 0.7519830849410882.\u001b[0m\n",
            "\u001b[32m[I 2021-12-03 13:41:12,711]\u001b[0m Trial 19 finished with value: 0.7474312365935284 and parameters: {'svc_kernel': 'rbf', 'svc_C': 45, 'svc_gamma': 'auto', 'threshold': 0.0322997309395547, 'n_components': 28}. Best is trial 8 with value: 0.7519830849410882.\u001b[0m\n",
            "\u001b[32m[I 2021-12-03 13:41:28,490]\u001b[0m Trial 20 finished with value: 0.7509313431981804 and parameters: {'svc_kernel': 'rbf', 'svc_C': 20, 'svc_gamma': 'auto', 'threshold': 0.048330547717242815, 'n_components': 22}. Best is trial 8 with value: 0.7519830849410882.\u001b[0m\n",
            "\u001b[32m[I 2021-12-03 13:41:44,111]\u001b[0m Trial 21 finished with value: 0.7496476597043271 and parameters: {'svc_kernel': 'rbf', 'svc_C': 24, 'svc_gamma': 'auto', 'threshold': 0.04804044118875578, 'n_components': 21}. Best is trial 8 with value: 0.7519830849410882.\u001b[0m\n",
            "\u001b[32m[I 2021-12-03 13:41:59,138]\u001b[0m Trial 22 finished with value: 0.74789695928111 and parameters: {'svc_kernel': 'rbf', 'svc_C': 13, 'svc_gamma': 'auto', 'threshold': 0.05315939462202402, 'n_components': 22}. Best is trial 8 with value: 0.7519830849410882.\u001b[0m\n",
            "\u001b[32m[I 2021-12-03 13:42:14,878]\u001b[0m Trial 23 finished with value: 0.7445123807850054 and parameters: {'svc_kernel': 'rbf', 'svc_C': 23, 'svc_gamma': 'auto', 'threshold': 0.06535476112098382, 'n_components': 15}. Best is trial 8 with value: 0.7519830849410882.\u001b[0m\n",
            "\u001b[32m[I 2021-12-03 13:42:31,968]\u001b[0m Trial 24 finished with value: 0.7520990217575667 and parameters: {'svc_kernel': 'rbf', 'svc_C': 7, 'svc_gamma': 'auto', 'threshold': 0.024846548461864407, 'n_components': 31}. Best is trial 24 with value: 0.7520990217575667.\u001b[0m\n",
            "\u001b[32m[I 2021-12-03 13:42:47,314]\u001b[0m Trial 25 finished with value: 0.7328430200518923 and parameters: {'svc_kernel': 'rbf', 'svc_C': 32, 'svc_gamma': 'auto', 'threshold': 0.07928093162125921, 'n_components': 11}. Best is trial 24 with value: 0.7520990217575667.\u001b[0m\n",
            "\u001b[32m[I 2021-12-03 13:43:16,114]\u001b[0m Trial 26 finished with value: 0.7233883113618761 and parameters: {'svc_kernel': 'rbf', 'svc_C': 44, 'svc_gamma': 'scale', 'threshold': 0.02225541211025231, 'n_components': 33}. Best is trial 24 with value: 0.7520990217575667.\u001b[0m\n",
            "\u001b[32m[I 2021-12-03 13:43:32,576]\u001b[0m Trial 27 finished with value: 0.7499981948733039 and parameters: {'svc_kernel': 'rbf', 'svc_C': 19, 'svc_gamma': 'auto', 'threshold': 0.044340423757915956, 'n_components': 27}. Best is trial 24 with value: 0.7520990217575667.\u001b[0m\n",
            "\u001b[32m[I 2021-12-03 13:43:48,113]\u001b[0m Trial 28 finished with value: 0.7523325302222486 and parameters: {'svc_kernel': 'rbf', 'svc_C': 9, 'svc_gamma': 'auto', 'threshold': 0.009368155188134192, 'n_components': 36}. Best is trial 28 with value: 0.7523325302222486.\u001b[0m\n",
            "\u001b[32m[I 2021-12-03 13:44:04,000]\u001b[0m Trial 29 finished with value: 0.7522158441078962 and parameters: {'svc_kernel': 'rbf', 'svc_C': 10, 'svc_gamma': 'auto', 'threshold': 0.011753333565122343, 'n_components': 38}. Best is trial 28 with value: 0.7523325302222486.\u001b[0m\n"
          ]
        }
      ]
    },
    {
      "cell_type": "markdown",
      "metadata": {
        "id": "_3Wi-6iviQZA"
      },
      "source": [
        "Έπειτα ορίζουμε το gamma να παίρνει συνεχείς πραγματικές τιμές στο διάστημα (0.0001 , 0.3)"
      ]
    },
    {
      "cell_type": "code",
      "metadata": {
        "colab": {
          "base_uri": "https://localhost:8080/"
        },
        "id": "C8Zyw36YCocE",
        "outputId": "5c0d7356-161a-4538-f5bc-95390f8e6dfc"
      },
      "source": [
        "from sklearn.decomposition import PCA\n",
        "\n",
        "def objective(trial):\n",
        "\n",
        "    \n",
        "    svc_kernel = trial.suggest_categorical('svc_kernel',['rbf'])\n",
        "\n",
        "    svc_C = trial.suggest_int('svc_C',1,100)\n",
        "\n",
        "    svc_gamma = trial.suggest_float('svc_gamma',0.0001,0.3)\n",
        "    svm = SVC(kernel = svc_kernel,gamma = svc_gamma , C = svc_C)\n",
        "            \n",
        "    threshold = trial.suggest_float('threshold', 0, 0.1)\n",
        "\n",
        "    p = Pipeline(steps = [('minmax_scaler', preprocessing.MinMaxScaler()), ('selector', VarianceThreshold(threshold))])\n",
        "    upper_bound = p.fit_transform(X_train_small).shape[1]\n",
        "\n",
        "    if (upper_bound<=80):\n",
        "\n",
        "      n_components = trial.suggest_int('n_components', min(upper_bound, 5), upper_bound)\n",
        "\n",
        "    else:\n",
        "\n",
        "      n_components = trial.suggest_int('n_components', min(upper_bound, 5) , 80)\n",
        "\n",
        "    clf = Pipeline(steps = [('minmax_scaler', preprocessing.MinMaxScaler()), ('selector', VarianceThreshold(threshold)), ('pca', PCA(n_components=n_components)),('svm', svm)])\n",
        "  \n",
        "\n",
        "    return np.mean(cross_val_score(clf, X_train_small, y_train_small, cv = 5, scoring = 'accuracy'))\n",
        "\n",
        "study = optuna.create_study(direction = 'maximize')\n",
        "study.optimize(objective, n_trials = 100)"
      ],
      "execution_count": null,
      "outputs": [
        {
          "name": "stderr",
          "output_type": "stream",
          "text": [
            "\u001b[32m[I 2021-12-03 00:35:18,499]\u001b[0m A new study created in memory with name: no-name-97709b0c-e995-4822-a9aa-cca6cafa6225\u001b[0m\n",
            "\u001b[32m[I 2021-12-03 00:35:33,682]\u001b[0m Trial 0 finished with value: 0.7373949365174406 and parameters: {'svc_kernel': 'rbf', 'svc_C': 18, 'svc_gamma': 0.25227444916716124, 'threshold': 0.06044114462328856, 'n_components': 21}. Best is trial 0 with value: 0.7373949365174406.\u001b[0m\n",
            "\u001b[32m[I 2021-12-03 00:35:55,436]\u001b[0m Trial 1 finished with value: 0.7365785424249051 and parameters: {'svc_kernel': 'rbf', 'svc_C': 95, 'svc_gamma': 0.24203089299112562, 'threshold': 0.03478987955336601, 'n_components': 15}. Best is trial 0 with value: 0.7373949365174406.\u001b[0m\n",
            "\u001b[32m[I 2021-12-03 00:36:23,060]\u001b[0m Trial 2 finished with value: 0.7309741349185751 and parameters: {'svc_kernel': 'rbf', 'svc_C': 81, 'svc_gamma': 0.2441411207528551, 'threshold': 0.037629351284946405, 'n_components': 29}. Best is trial 0 with value: 0.7373949365174406.\u001b[0m\n",
            "\u001b[32m[I 2021-12-03 00:36:38,033]\u001b[0m Trial 3 finished with value: 0.7546685004029179 and parameters: {'svc_kernel': 'rbf', 'svc_C': 68, 'svc_gamma': 0.010852481211833397, 'threshold': 0.008368178084101941, 'n_components': 28}. Best is trial 3 with value: 0.7546685004029179.\u001b[0m\n",
            "\u001b[32m[I 2021-12-03 00:36:56,840]\u001b[0m Trial 4 finished with value: 0.7377434281467615 and parameters: {'svc_kernel': 'rbf', 'svc_C': 62, 'svc_gamma': 0.2586546985725268, 'threshold': 0.07852176163782965, 'n_components': 21}. Best is trial 3 with value: 0.7546685004029179.\u001b[0m\n",
            "\u001b[32m[I 2021-12-03 00:37:29,957]\u001b[0m Trial 5 finished with value: 0.7256069142483077 and parameters: {'svc_kernel': 'rbf', 'svc_C': 100, 'svc_gamma': 0.2230498131684139, 'threshold': 0.015272533239087416, 'n_components': 39}. Best is trial 3 with value: 0.7546685004029179.\u001b[0m\n",
            "\u001b[32m[I 2021-12-03 00:37:46,105]\u001b[0m Trial 6 finished with value: 0.7334263143876771 and parameters: {'svc_kernel': 'rbf', 'svc_C': 71, 'svc_gamma': 0.179201500556444, 'threshold': 0.07179314423032362, 'n_components': 11}. Best is trial 3 with value: 0.7546685004029179.\u001b[0m\n",
            "\u001b[32m[I 2021-12-03 00:38:00,844]\u001b[0m Trial 7 finished with value: 0.7515175666074722 and parameters: {'svc_kernel': 'rbf', 'svc_C': 52, 'svc_gamma': 0.03126781504668679, 'threshold': 0.02627120236690389, 'n_components': 33}. Best is trial 3 with value: 0.7546685004029179.\u001b[0m\n",
            "\u001b[32m[I 2021-12-03 00:38:15,370]\u001b[0m Trial 8 finished with value: 0.7428814999036131 and parameters: {'svc_kernel': 'rbf', 'svc_C': 16, 'svc_gamma': 0.2650070897341782, 'threshold': 0.034403654131574056, 'n_components': 15}. Best is trial 3 with value: 0.7546685004029179.\u001b[0m\n",
            "\u001b[32m[I 2021-12-03 00:38:27,876]\u001b[0m Trial 9 finished with value: 0.7452139279488789 and parameters: {'svc_kernel': 'rbf', 'svc_C': 29, 'svc_gamma': 0.024570391496021953, 'threshold': 0.06309567258132336, 'n_components': 19}. Best is trial 3 with value: 0.7546685004029179.\u001b[0m\n",
            "\u001b[32m[I 2021-12-03 00:38:49,590]\u001b[0m Trial 10 finished with value: 0.7464976795607208 and parameters: {'svc_kernel': 'rbf', 'svc_C': 37, 'svc_gamma': 0.10145370059591344, 'threshold': 0.0023265541189655056, 'n_components': 57}. Best is trial 3 with value: 0.7546685004029179.\u001b[0m\n",
            "\u001b[32m[I 2021-12-03 00:39:02,755]\u001b[0m Trial 11 finished with value: 0.7582859743018077 and parameters: {'svc_kernel': 'rbf', 'svc_C': 49, 'svc_gamma': 0.014520543741567436, 'threshold': 0.016194170185367892, 'n_components': 32}. Best is trial 11 with value: 0.7582859743018077.\u001b[0m\n",
            "\u001b[32m[I 2021-12-03 00:39:22,836]\u001b[0m Trial 12 finished with value: 0.7455645993538328 and parameters: {'svc_kernel': 'rbf', 'svc_C': 45, 'svc_gamma': 0.07397502535327753, 'threshold': 0.0015907873203216023, 'n_components': 53}. Best is trial 11 with value: 0.7582859743018077.\u001b[0m\n",
            "\u001b[32m[I 2021-12-03 00:39:37,299]\u001b[0m Trial 13 finished with value: 0.7450986041942971 and parameters: {'svc_kernel': 'rbf', 'svc_C': 59, 'svc_gamma': 0.08406902445064146, 'threshold': 0.09605708152319359, 'n_components': 18}. Best is trial 11 with value: 0.7582859743018077.\u001b[0m\n",
            "\u001b[32m[I 2021-12-03 00:39:50,484]\u001b[0m Trial 14 finished with value: 0.7538516294844626 and parameters: {'svc_kernel': 'rbf', 'svc_C': 78, 'svc_gamma': 0.0046964560754018635, 'threshold': 0.01520022857389624, 'n_components': 36}. Best is trial 11 with value: 0.7582859743018077.\u001b[0m\n",
            "\u001b[32m[I 2021-12-03 00:40:04,184]\u001b[0m Trial 15 finished with value: 0.7532681307947121 and parameters: {'svc_kernel': 'rbf', 'svc_C': 2, 'svc_gamma': 0.14414918004397914, 'threshold': 0.017869797385106544, 'n_components': 27}. Best is trial 11 with value: 0.7582859743018077.\u001b[0m\n",
            "\u001b[32m[I 2021-12-03 00:40:20,757]\u001b[0m Trial 16 finished with value: 0.7498840972425158 and parameters: {'svc_kernel': 'rbf', 'svc_C': 68, 'svc_gamma': 0.04846569937205568, 'threshold': 0.047200802359613846, 'n_components': 25}. Best is trial 11 with value: 0.7582859743018077.\u001b[0m\n",
            "\u001b[32m[I 2021-12-03 00:40:48,318]\u001b[0m Trial 17 finished with value: 0.7385631600207351 and parameters: {'svc_kernel': 'rbf', 'svc_C': 86, 'svc_gamma': 0.120460415309708, 'threshold': 0.009506431651055192, 'n_components': 44}. Best is trial 11 with value: 0.7582859743018077.\u001b[0m\n",
            "\u001b[32m[I 2021-12-03 00:41:04,293]\u001b[0m Trial 18 finished with value: 0.7476659030640153 and parameters: {'svc_kernel': 'rbf', 'svc_C': 47, 'svc_gamma': 0.05473733962388053, 'threshold': 0.023082396106179917, 'n_components': 25}. Best is trial 11 with value: 0.7582859743018077.\u001b[0m\n",
            "\u001b[32m[I 2021-12-03 00:41:14,367]\u001b[0m Trial 19 finished with value: 0.7245548319154574 and parameters: {'svc_kernel': 'rbf', 'svc_C': 38, 'svc_gamma': 0.0028368220263020223, 'threshold': 0.04531310145233072, 'n_components': 5}. Best is trial 11 with value: 0.7582859743018077.\u001b[0m\n",
            "\u001b[32m[I 2021-12-03 00:41:37,522]\u001b[0m Trial 20 finished with value: 0.7398458217447604 and parameters: {'svc_kernel': 'rbf', 'svc_C': 60, 'svc_gamma': 0.1895925600864827, 'threshold': 0.028022270340359992, 'n_components': 29}. Best is trial 11 with value: 0.7582859743018077.\u001b[0m\n",
            "\u001b[32m[I 2021-12-03 00:41:51,900]\u001b[0m Trial 21 finished with value: 0.7551348361523964 and parameters: {'svc_kernel': 'rbf', 'svc_C': 80, 'svc_gamma': 0.006882799741994332, 'threshold': 0.008560225846591819, 'n_components': 37}. Best is trial 11 with value: 0.7582859743018077.\u001b[0m\n",
            "\u001b[32m[I 2021-12-03 00:42:11,228]\u001b[0m Trial 22 finished with value: 0.7491833674945048 and parameters: {'svc_kernel': 'rbf', 'svc_C': 89, 'svc_gamma': 0.033477460748674366, 'threshold': 0.006130763947638744, 'n_components': 44}. Best is trial 11 with value: 0.7582859743018077.\u001b[0m\n",
            "\u001b[32m[I 2021-12-03 00:42:39,747]\u001b[0m Trial 23 finished with value: 0.7223375232708078 and parameters: {'svc_kernel': 'rbf', 'svc_C': 72, 'svc_gamma': 0.29933788794127747, 'threshold': 0.011508885247319908, 'n_components': 33}. Best is trial 11 with value: 0.7582859743018077.\u001b[0m\n",
            "\u001b[32m[I 2021-12-03 00:42:58,741]\u001b[0m Trial 24 finished with value: 0.7495326765396879 and parameters: {'svc_kernel': 'rbf', 'svc_C': 54, 'svc_gamma': 0.001410158911860835, 'threshold': 0.0011088794144014022, 'n_components': 79}. Best is trial 11 with value: 0.7582859743018077.\u001b[0m\n",
            "\u001b[32m[I 2021-12-03 00:43:16,189]\u001b[0m Trial 25 finished with value: 0.7512846030866985 and parameters: {'svc_kernel': 'rbf', 'svc_C': 77, 'svc_gamma': 0.06245124039134769, 'threshold': 0.021025206816921518, 'n_components': 32}. Best is trial 11 with value: 0.7582859743018077.\u001b[0m\n",
            "\u001b[32m[I 2021-12-03 00:43:37,715]\u001b[0m Trial 26 finished with value: 0.742180770155602 and parameters: {'svc_kernel': 'rbf', 'svc_C': 66, 'svc_gamma': 0.09075168330221531, 'threshold': 0.010008032183812535, 'n_components': 39}. Best is trial 11 with value: 0.7582859743018077.\u001b[0m\n",
            "\u001b[32m[I 2021-12-03 00:43:54,575]\u001b[0m Trial 27 finished with value: 0.7521012696511882 and parameters: {'svc_kernel': 'rbf', 'svc_C': 84, 'svc_gamma': 0.02385619777154557, 'threshold': 0.02580915494839269, 'n_components': 30}. Best is trial 11 with value: 0.7582859743018077.\u001b[0m\n",
            "\u001b[32m[I 2021-12-03 00:44:11,917]\u001b[0m Trial 28 finished with value: 0.7434650667113522 and parameters: {'svc_kernel': 'rbf', 'svc_C': 41, 'svc_gamma': 0.1244922251935765, 'threshold': 0.05669224519707852, 'n_components': 24}. Best is trial 11 with value: 0.7582859743018077.\u001b[0m\n",
            "\u001b[32m[I 2021-12-03 00:44:25,843]\u001b[0m Trial 29 finished with value: 0.7521014740051538 and parameters: {'svc_kernel': 'rbf', 'svc_C': 32, 'svc_gamma': 0.03907134609010594, 'threshold': 0.031682835897083414, 'n_components': 23}. Best is trial 11 with value: 0.7582859743018077.\u001b[0m\n",
            "\u001b[32m[I 2021-12-03 00:44:45,806]\u001b[0m Trial 30 finished with value: 0.7503506373459596 and parameters: {'svc_kernel': 'rbf', 'svc_C': 91, 'svc_gamma': 0.06675436950196122, 'threshold': 0.017694276456686593, 'n_components': 36}. Best is trial 11 with value: 0.7582859743018077.\u001b[0m\n",
            "\u001b[32m[I 2021-12-03 00:45:00,176]\u001b[0m Trial 31 finished with value: 0.7547851183992818 and parameters: {'svc_kernel': 'rbf', 'svc_C': 77, 'svc_gamma': 0.010952803734968958, 'threshold': 0.012904473849943171, 'n_components': 36}. Best is trial 11 with value: 0.7582859743018077.\u001b[0m\n",
            "\u001b[32m[I 2021-12-03 00:45:16,768]\u001b[0m Trial 32 finished with value: 0.755252339682611 and parameters: {'svc_kernel': 'rbf', 'svc_C': 75, 'svc_gamma': 0.016909117509616198, 'threshold': 0.009305644194375807, 'n_components': 41}. Best is trial 11 with value: 0.7582859743018077.\u001b[0m\n",
            "\u001b[32m[I 2021-12-03 00:45:32,411]\u001b[0m Trial 33 finished with value: 0.7518678293044949 and parameters: {'svc_kernel': 'rbf', 'svc_C': 75, 'svc_gamma': 0.021644658676494934, 'threshold': 0.0419082744998877, 'n_components': 29}. Best is trial 11 with value: 0.7582859743018077.\u001b[0m\n",
            "\u001b[32m[I 2021-12-03 00:45:53,733]\u001b[0m Trial 34 finished with value: 0.7467319373232764 and parameters: {'svc_kernel': 'rbf', 'svc_C': 95, 'svc_gamma': 0.04558884627533757, 'threshold': 0.0067121201134231, 'n_components': 44}. Best is trial 11 with value: 0.7582859743018077.\u001b[0m\n",
            "\u001b[32m[I 2021-12-03 00:46:09,666]\u001b[0m Trial 35 finished with value: 0.7560684613031924 and parameters: {'svc_kernel': 'rbf', 'svc_C': 82, 'svc_gamma': 0.01659597676640842, 'threshold': 0.013137985993947677, 'n_components': 40}. Best is trial 11 with value: 0.7582859743018077.\u001b[0m\n",
            "\u001b[32m[I 2021-12-03 00:46:29,225]\u001b[0m Trial 36 finished with value: 0.7503493431041776 and parameters: {'svc_kernel': 'rbf', 'svc_C': 99, 'svc_gamma': 0.04885840233817392, 'threshold': 0.0208052999433044, 'n_components': 39}. Best is trial 11 with value: 0.7582859743018077.\u001b[0m\n",
            "\u001b[32m[I 2021-12-03 00:46:45,813]\u001b[0m Trial 37 finished with value: 0.7528012501013255 and parameters: {'svc_kernel': 'rbf', 'svc_C': 82, 'svc_gamma': 0.021957208798632832, 'threshold': 0.029974343177420183, 'n_components': 31}. Best is trial 11 with value: 0.7582859743018077.\u001b[0m\n",
            "\u001b[32m[I 2021-12-03 00:47:08,017]\u001b[0m Trial 38 finished with value: 0.7431133054185817 and parameters: {'svc_kernel': 'rbf', 'svc_C': 64, 'svc_gamma': 0.10140892534973149, 'threshold': 0.00675033985529735, 'n_components': 49}. Best is trial 11 with value: 0.7582859743018077.\u001b[0m\n",
            "\u001b[32m[I 2021-12-03 00:47:24,285]\u001b[0m Trial 39 finished with value: 0.7380958025014288 and parameters: {'svc_kernel': 'rbf', 'svc_C': 55, 'svc_gamma': 0.17609793483478797, 'threshold': 0.08640119564239214, 'n_components': 18}. Best is trial 11 with value: 0.7582859743018077.\u001b[0m\n",
            "\u001b[32m[I 2021-12-03 00:47:40,476]\u001b[0m Trial 40 finished with value: 0.7538520381923938 and parameters: {'svc_kernel': 'rbf', 'svc_C': 93, 'svc_gamma': 0.018350916198085654, 'threshold': 0.036962410818444986, 'n_components': 30}. Best is trial 11 with value: 0.7582859743018077.\u001b[0m\n",
            "\u001b[32m[I 2021-12-03 00:47:54,965]\u001b[0m Trial 41 finished with value: 0.7538514251304971 and parameters: {'svc_kernel': 'rbf', 'svc_C': 73, 'svc_gamma': 0.011661945640489741, 'threshold': 0.01364086848686303, 'n_components': 36}. Best is trial 11 with value: 0.7582859743018077.\u001b[0m\n",
            "\u001b[32m[I 2021-12-03 00:48:12,786]\u001b[0m Trial 42 finished with value: 0.7517503938922687 and parameters: {'svc_kernel': 'rbf', 'svc_C': 81, 'svc_gamma': 0.03297052852369006, 'threshold': 0.013213419037091365, 'n_components': 41}. Best is trial 11 with value: 0.7582859743018077.\u001b[0m\n",
            "\u001b[32m[I 2021-12-03 00:48:29,278]\u001b[0m Trial 43 finished with value: 0.7481327837574018 and parameters: {'svc_kernel': 'rbf', 'svc_C': 80, 'svc_gamma': 0.0005052952602341738, 'threshold': 0.005183459766018814, 'n_components': 47}. Best is trial 11 with value: 0.7582859743018077.\u001b[0m\n",
            "\u001b[32m[I 2021-12-03 00:48:54,273]\u001b[0m Trial 44 finished with value: 0.7440468624513892 and parameters: {'svc_kernel': 'rbf', 'svc_C': 87, 'svc_gamma': 0.07652244549388855, 'threshold': 0.0005684965405570765, 'n_components': 56}. Best is trial 11 with value: 0.7582859743018077.\u001b[0m\n",
            "\u001b[32m[I 2021-12-03 00:49:09,777]\u001b[0m Trial 45 finished with value: 0.7538513570125085 and parameters: {'svc_kernel': 'rbf', 'svc_C': 57, 'svc_gamma': 0.034041566505366674, 'threshold': 0.0176479227027865, 'n_components': 35}. Best is trial 11 with value: 0.7582859743018077.\u001b[0m\n",
            "\u001b[32m[I 2021-12-03 00:49:23,368]\u001b[0m Trial 46 finished with value: 0.7551358579222243 and parameters: {'svc_kernel': 'rbf', 'svc_C': 50, 'svc_gamma': 0.014732038831614924, 'threshold': 0.02300354115356208, 'n_components': 34}. Best is trial 11 with value: 0.7582859743018077.\u001b[0m\n",
            "\u001b[32m[I 2021-12-03 00:49:39,253]\u001b[0m Trial 47 finished with value: 0.7488331729154705 and parameters: {'svc_kernel': 'rbf', 'svc_C': 48, 'svc_gamma': 0.059552357738615974, 'threshold': 0.024157767276699712, 'n_components': 33}. Best is trial 11 with value: 0.7582859743018077.\u001b[0m\n",
            "\u001b[32m[I 2021-12-03 00:49:54,122]\u001b[0m Trial 48 finished with value: 0.7531517171523138 and parameters: {'svc_kernel': 'rbf', 'svc_C': 20, 'svc_gamma': 0.043515795622472785, 'threshold': 0.040879759050846884, 'n_components': 30}. Best is trial 11 with value: 0.7582859743018077.\u001b[0m\n",
            "\u001b[32m[I 2021-12-03 00:50:07,965]\u001b[0m Trial 49 finished with value: 0.7554856437933273 and parameters: {'svc_kernel': 'rbf', 'svc_C': 51, 'svc_gamma': 0.01606257072082584, 'threshold': 0.019961678610043505, 'n_components': 34}. Best is trial 11 with value: 0.7582859743018077.\u001b[0m\n",
            "\u001b[32m[I 2021-12-03 00:50:28,984]\u001b[0m Trial 50 finished with value: 0.7365779293630083 and parameters: {'svc_kernel': 'rbf', 'svc_C': 43, 'svc_gamma': 0.21776179782324773, 'threshold': 0.032739178990105526, 'n_components': 30}. Best is trial 11 with value: 0.7582859743018077.\u001b[0m\n",
            "\u001b[32m[I 2021-12-03 00:50:42,648]\u001b[0m Trial 51 finished with value: 0.7560691424830777 and parameters: {'svc_kernel': 'rbf', 'svc_C': 52, 'svc_gamma': 0.014135189567547803, 'threshold': 0.020077051378771527, 'n_components': 34}. Best is trial 11 with value: 0.7582859743018077.\u001b[0m\n",
            "\u001b[32m[I 2021-12-03 00:50:57,137]\u001b[0m Trial 52 finished with value: 0.7573530303308968 and parameters: {'svc_kernel': 'rbf', 'svc_C': 51, 'svc_gamma': 0.01751824367178433, 'threshold': 0.019572388443155245, 'n_components': 38}. Best is trial 11 with value: 0.7582859743018077.\u001b[0m\n",
            "\u001b[32m[I 2021-12-03 00:51:12,563]\u001b[0m Trial 53 finished with value: 0.7571192493942608 and parameters: {'svc_kernel': 'rbf', 'svc_C': 51, 'svc_gamma': 0.027148379432662833, 'threshold': 0.019264730812563604, 'n_components': 38}. Best is trial 11 with value: 0.7582859743018077.\u001b[0m\n",
            "\u001b[32m[I 2021-12-03 00:51:26,871]\u001b[0m Trial 54 finished with value: 0.7570026313978969 and parameters: {'svc_kernel': 'rbf', 'svc_C': 31, 'svc_gamma': 0.030355333846237634, 'threshold': 0.018953865508652176, 'n_components': 37}. Best is trial 11 with value: 0.7582859743018077.\u001b[0m\n",
            "\u001b[32m[I 2021-12-03 00:51:38,904]\u001b[0m Trial 55 finished with value: 0.7554859162652814 and parameters: {'svc_kernel': 'rbf', 'svc_C': 12, 'svc_gamma': 0.029688278531633288, 'threshold': 0.027881873528869512, 'n_components': 32}. Best is trial 11 with value: 0.7582859743018077.\u001b[0m\n",
            "\u001b[32m[I 2021-12-03 00:51:54,072]\u001b[0m Trial 56 finished with value: 0.7532682670306892 and parameters: {'svc_kernel': 'rbf', 'svc_C': 25, 'svc_gamma': 0.05088558840947606, 'threshold': 0.017026360635866895, 'n_components': 38}. Best is trial 11 with value: 0.7582859743018077.\u001b[0m\n",
            "\u001b[32m[I 2021-12-03 00:52:08,896]\u001b[0m Trial 57 finished with value: 0.7483660197501296 and parameters: {'svc_kernel': 'rbf', 'svc_C': 39, 'svc_gamma': 0.06700515677025734, 'threshold': 0.026728300747476622, 'n_components': 32}. Best is trial 11 with value: 0.7582859743018077.\u001b[0m\n",
            "\u001b[32m[I 2021-12-03 00:52:22,761]\u001b[0m Trial 58 finished with value: 0.7488316743197228 and parameters: {'svc_kernel': 'rbf', 'svc_C': 35, 'svc_gamma': 0.0344392163534298, 'threshold': 0.06400534256344131, 'n_components': 24}. Best is trial 11 with value: 0.7582859743018077.\u001b[0m\n",
            "\u001b[32m[I 2021-12-03 00:52:38,983]\u001b[0m Trial 59 finished with value: 0.7511681213263117 and parameters: {'svc_kernel': 'rbf', 'svc_C': 45, 'svc_gamma': 0.056525380558744155, 'threshold': 0.05257513892424977, 'n_components': 28}. Best is trial 11 with value: 0.7582859743018077.\u001b[0m\n",
            "\u001b[32m[I 2021-12-03 00:52:57,616]\u001b[0m Trial 60 finished with value: 0.7475504430734563 and parameters: {'svc_kernel': 'rbf', 'svc_C': 61, 'svc_gamma': 0.07412615097334055, 'threshold': 0.03471506035617211, 'n_components': 30}. Best is trial 11 with value: 0.7582859743018077.\u001b[0m\n",
            "\u001b[32m[I 2021-12-03 00:53:12,444]\u001b[0m Trial 61 finished with value: 0.7539687924247347 and parameters: {'svc_kernel': 'rbf', 'svc_C': 17, 'svc_gamma': 0.026331469251251495, 'threshold': 0.029606256825362255, 'n_components': 31}. Best is trial 11 with value: 0.7582859743018077.\u001b[0m\n",
            "\u001b[32m[I 2021-12-03 00:53:26,232]\u001b[0m Trial 62 finished with value: 0.752918072451655 and parameters: {'svc_kernel': 'rbf', 'svc_C': 26, 'svc_gamma': 0.039342060806584464, 'threshold': 0.021772924500292695, 'n_components': 35}. Best is trial 11 with value: 0.7582859743018077.\u001b[0m\n",
            "\u001b[32m[I 2021-12-03 00:53:40,071]\u001b[0m Trial 63 finished with value: 0.7572357992726361 and parameters: {'svc_kernel': 'rbf', 'svc_C': 10, 'svc_gamma': 0.02860748093561645, 'threshold': 0.015568698144601753, 'n_components': 40}. Best is trial 11 with value: 0.7582859743018077.\u001b[0m\n",
            "\u001b[32m[I 2021-12-03 00:53:54,182]\u001b[0m Trial 64 finished with value: 0.7491826863146193 and parameters: {'svc_kernel': 'rbf', 'svc_C': 35, 'svc_gamma': 0.0006681291395368057, 'threshold': 0.015635282806990048, 'n_components': 40}. Best is trial 11 with value: 0.7582859743018077.\u001b[0m\n",
            "\u001b[32m[I 2021-12-03 00:54:07,789]\u001b[0m Trial 65 finished with value: 0.75268470022295 and parameters: {'svc_kernel': 'rbf', 'svc_C': 4, 'svc_gamma': 0.009889876182161365, 'threshold': 0.01911202065649961, 'n_components': 38}. Best is trial 11 with value: 0.7582859743018077.\u001b[0m\n",
            "\u001b[32m[I 2021-12-03 00:54:24,041]\u001b[0m Trial 66 finished with value: 0.7549016682776571 and parameters: {'svc_kernel': 'rbf', 'svc_C': 9, 'svc_gamma': 0.027872333145786514, 'threshold': 0.0033397799714113448, 'n_components': 47}. Best is trial 11 with value: 0.7582859743018077.\u001b[0m\n",
            "\u001b[32m[I 2021-12-03 00:54:39,409]\u001b[0m Trial 67 finished with value: 0.7539679750088724 and parameters: {'svc_kernel': 'rbf', 'svc_C': 21, 'svc_gamma': 0.04149547356040173, 'threshold': 0.012874109912356872, 'n_components': 41}. Best is trial 11 with value: 0.7582859743018077.\u001b[0m\n",
            "\u001b[32m[I 2021-12-03 00:54:52,763]\u001b[0m Trial 68 finished with value: 0.7536183253737463 and parameters: {'svc_kernel': 'rbf', 'svc_C': 69, 'svc_gamma': 0.008481722115367886, 'threshold': 0.025273741565289137, 'n_components': 34}. Best is trial 11 with value: 0.7582859743018077.\u001b[0m\n",
            "\u001b[32m[I 2021-12-03 00:55:14,099]\u001b[0m Trial 69 finished with value: 0.7433474269451603 and parameters: {'svc_kernel': 'rbf', 'svc_C': 57, 'svc_gamma': 0.08602254548892888, 'threshold': 0.010380377458001295, 'n_components': 43}. Best is trial 11 with value: 0.7582859743018077.\u001b[0m\n",
            "/usr/local/lib/python3.7/dist-packages/sklearn/model_selection/_validation.py:372: FitFailedWarning:\n",
            "\n",
            "\n",
            "2 fits failed out of a total of 5.\n",
            "The score on these train-test partitions for these parameters will be set to nan.\n",
            "If these failures are not expected, you can try to debug them by setting error_score='raise'.\n",
            "\n",
            "Below are more details about the failures:\n",
            "--------------------------------------------------------------------------------\n",
            "2 fits failed with the following error:\n",
            "Traceback (most recent call last):\n",
            "  File \"/usr/local/lib/python3.7/dist-packages/sklearn/model_selection/_validation.py\", line 681, in _fit_and_score\n",
            "    estimator.fit(X_train, y_train, **fit_params)\n",
            "  File \"/usr/local/lib/python3.7/dist-packages/sklearn/pipeline.py\", line 390, in fit\n",
            "    Xt = self._fit(X, y, **fit_params_steps)\n",
            "  File \"/usr/local/lib/python3.7/dist-packages/sklearn/pipeline.py\", line 355, in _fit\n",
            "    **fit_params_steps[name],\n",
            "  File \"/usr/local/lib/python3.7/dist-packages/joblib/memory.py\", line 349, in __call__\n",
            "    return self.func(*args, **kwargs)\n",
            "  File \"/usr/local/lib/python3.7/dist-packages/sklearn/pipeline.py\", line 893, in _fit_transform_one\n",
            "    res = transformer.fit_transform(X, y, **fit_params)\n",
            "  File \"/usr/local/lib/python3.7/dist-packages/sklearn/decomposition/_pca.py\", line 407, in fit_transform\n",
            "    U, S, Vt = self._fit(X)\n",
            "  File \"/usr/local/lib/python3.7/dist-packages/sklearn/decomposition/_pca.py\", line 457, in _fit\n",
            "    return self._fit_full(X, n_components)\n",
            "  File \"/usr/local/lib/python3.7/dist-packages/sklearn/decomposition/_pca.py\", line 478, in _fit_full\n",
            "    \"svd_solver='full'\" % (n_components, min(n_samples, n_features))\n",
            "ValueError: n_components=23 must be between 0 and min(n_samples, n_features)=22 with svd_solver='full'\n",
            "\n",
            "\n",
            "\u001b[33m[W 2021-12-03 00:55:24,357]\u001b[0m Trial 70 failed, because the objective function returned nan.\u001b[0m\n",
            "\u001b[32m[I 2021-12-03 00:55:39,973]\u001b[0m Trial 71 finished with value: 0.750816836859461 and parameters: {'svc_kernel': 'rbf', 'svc_C': 30, 'svc_gamma': 0.05412469556085943, 'threshold': 0.016105376507367517, 'n_components': 38}. Best is trial 11 with value: 0.7582859743018077.\u001b[0m\n",
            "\u001b[32m[I 2021-12-03 00:55:52,881]\u001b[0m Trial 72 finished with value: 0.7574695120912837 and parameters: {'svc_kernel': 'rbf', 'svc_C': 13, 'svc_gamma': 0.0291429731394631, 'threshold': 0.022397526830746407, 'n_components': 35}. Best is trial 11 with value: 0.7582859743018077.\u001b[0m\n",
            "\u001b[32m[I 2021-12-03 00:56:05,653]\u001b[0m Trial 73 finished with value: 0.7546686366388949 and parameters: {'svc_kernel': 'rbf', 'svc_C': 12, 'svc_gamma': 0.024216638067958766, 'threshold': 0.023163734460614184, 'n_components': 35}. Best is trial 11 with value: 0.7582859743018077.\u001b[0m\n",
            "\u001b[32m[I 2021-12-03 00:56:18,911]\u001b[0m Trial 74 finished with value: 0.758519550884478 and parameters: {'svc_kernel': 'rbf', 'svc_C': 6, 'svc_gamma': 0.04171484016917417, 'threshold': 0.0197672621296822, 'n_components': 37}. Best is trial 74 with value: 0.758519550884478.\u001b[0m\n",
            "\u001b[32m[I 2021-12-03 00:56:33,456]\u001b[0m Trial 75 finished with value: 0.7537357607859725 and parameters: {'svc_kernel': 'rbf', 'svc_C': 7, 'svc_gamma': 0.02766435894022347, 'threshold': 0.03152012488900331, 'n_components': 31}. Best is trial 74 with value: 0.758519550884478.\u001b[0m\n",
            "\u001b[32m[I 2021-12-03 00:56:46,573]\u001b[0m Trial 76 finished with value: 0.7560688018931352 and parameters: {'svc_kernel': 'rbf', 'svc_C': 3, 'svc_gamma': 0.04245295235344091, 'threshold': 0.019128811779622466, 'n_components': 37}. Best is trial 74 with value: 0.758519550884478.\u001b[0m\n",
            "\u001b[32m[I 2021-12-03 00:57:00,490]\u001b[0m Trial 77 finished with value: 0.7545521548785082 and parameters: {'svc_kernel': 'rbf', 'svc_C': 7, 'svc_gamma': 0.12880235998111492, 'threshold': 0.01566272033422669, 'n_components': 37}. Best is trial 74 with value: 0.758519550884478.\u001b[0m\n",
            "\u001b[32m[I 2021-12-03 00:57:16,856]\u001b[0m Trial 78 finished with value: 0.7459152707587867 and parameters: {'svc_kernel': 'rbf', 'svc_C': 53, 'svc_gamma': 0.06584168583109701, 'threshold': 0.024367309553243663, 'n_components': 34}. Best is trial 74 with value: 0.758519550884478.\u001b[0m\n",
            "\u001b[32m[I 2021-12-03 00:57:34,415]\u001b[0m Trial 79 finished with value: 0.7494170121951635 and parameters: {'svc_kernel': 'rbf', 'svc_C': 14, 'svc_gamma': 0.16562250854833105, 'threshold': 0.010614962428800112, 'n_components': 43}. Best is trial 74 with value: 0.758519550884478.\u001b[0m\n",
            "\u001b[32m[I 2021-12-03 00:57:47,470]\u001b[0m Trial 80 finished with value: 0.7522176151755979 and parameters: {'svc_kernel': 'rbf', 'svc_C': 1, 'svc_gamma': 0.03642638435494523, 'threshold': 0.021322468088896318, 'n_components': 36}. Best is trial 74 with value: 0.758519550884478.\u001b[0m\n",
            "\u001b[32m[I 2021-12-03 00:58:00,274]\u001b[0m Trial 81 finished with value: 0.7477815674085397 and parameters: {'svc_kernel': 'rbf', 'svc_C': 48, 'svc_gamma': 0.009013884528143778, 'threshold': 0.0739585599806573, 'n_components': 22}. Best is trial 74 with value: 0.758519550884478.\u001b[0m\n",
            "\u001b[32m[I 2021-12-03 00:58:13,366]\u001b[0m Trial 82 finished with value: 0.7573529622129083 and parameters: {'svc_kernel': 'rbf', 'svc_C': 4, 'svc_gamma': 0.043977693258926295, 'threshold': 0.019638811073610866, 'n_components': 37}. Best is trial 74 with value: 0.758519550884478.\u001b[0m\n",
            "\u001b[32m[I 2021-12-03 00:58:25,915]\u001b[0m Trial 83 finished with value: 0.7535021160853137 and parameters: {'svc_kernel': 'rbf', 'svc_C': 6, 'svc_gamma': 0.047452602384518316, 'threshold': 0.02696854145258232, 'n_components': 33}. Best is trial 74 with value: 0.758519550884478.\u001b[0m\n",
            "\u001b[32m[I 2021-12-03 00:58:39,729]\u001b[0m Trial 84 finished with value: 0.7565350014066364 and parameters: {'svc_kernel': 'rbf', 'svc_C': 11, 'svc_gamma': 0.01964259843201007, 'threshold': 0.018726875004857292, 'n_components': 39}. Best is trial 74 with value: 0.758519550884478.\u001b[0m\n",
            "\u001b[32m[I 2021-12-03 00:58:53,460]\u001b[0m Trial 85 finished with value: 0.7560688700111237 and parameters: {'svc_kernel': 'rbf', 'svc_C': 10, 'svc_gamma': 0.02130504006264494, 'threshold': 0.014499205633140045, 'n_components': 40}. Best is trial 74 with value: 0.758519550884478.\u001b[0m\n",
            "\u001b[32m[I 2021-12-03 00:59:12,646]\u001b[0m Trial 86 finished with value: 0.7400793302094424 and parameters: {'svc_kernel': 'rbf', 'svc_C': 15, 'svc_gamma': 0.2707627917481252, 'threshold': 0.00822319031757335, 'n_components': 39}. Best is trial 74 with value: 0.758519550884478.\u001b[0m\n",
            "\u001b[32m[I 2021-12-03 00:59:25,851]\u001b[0m Trial 87 finished with value: 0.7563022422398284 and parameters: {'svc_kernel': 'rbf', 'svc_C': 5, 'svc_gamma': 0.05714982106839726, 'threshold': 0.017831913355059063, 'n_components': 37}. Best is trial 74 with value: 0.758519550884478.\u001b[0m\n",
            "\u001b[32m[I 2021-12-03 00:59:42,659]\u001b[0m Trial 88 finished with value: 0.7533852256169956 and parameters: {'svc_kernel': 'rbf', 'svc_C': 22, 'svc_gamma': 0.03244113775242295, 'threshold': 0.004881394502020485, 'n_components': 46}. Best is trial 74 with value: 0.758519550884478.\u001b[0m\n",
            "\u001b[32m[I 2021-12-03 00:59:54,296]\u001b[0m Trial 89 finished with value: 0.7464976114427323 and parameters: {'svc_kernel': 'rbf', 'svc_C': 10, 'svc_gamma': 0.04842036503255977, 'threshold': 0.09740569555191847, 'n_components': 17}. Best is trial 74 with value: 0.758519550884478.\u001b[0m\n",
            "\u001b[32m[I 2021-12-03 01:00:06,445]\u001b[0m Trial 90 finished with value: 0.7532685395026434 and parameters: {'svc_kernel': 'rbf', 'svc_C': 18, 'svc_gamma': 0.018195854075740488, 'threshold': 0.02919048313441247, 'n_components': 32}. Best is trial 74 with value: 0.758519550884478.\u001b[0m\n",
            "\u001b[32m[I 2021-12-03 01:00:21,805]\u001b[0m Trial 91 finished with value: 0.7514015616730051 and parameters: {'svc_kernel': 'rbf', 'svc_C': 13, 'svc_gamma': 0.09728051401592805, 'threshold': 0.03712859375058754, 'n_components': 31}. Best is trial 74 with value: 0.758519550884478.\u001b[0m\n",
            "\u001b[32m[I 2021-12-03 01:00:35,185]\u001b[0m Trial 92 finished with value: 0.7560686656571581 and parameters: {'svc_kernel': 'rbf', 'svc_C': 5, 'svc_gamma': 0.05850994169880766, 'threshold': 0.017831600253671878, 'n_components': 38}. Best is trial 74 with value: 0.758519550884478.\u001b[0m\n",
            "\u001b[32m[I 2021-12-03 01:00:49,425]\u001b[0m Trial 93 finished with value: 0.753968315598815 and parameters: {'svc_kernel': 'rbf', 'svc_C': 8, 'svc_gamma': 0.11126446223013131, 'threshold': 0.022098426776505316, 'n_components': 37}. Best is trial 74 with value: 0.758519550884478.\u001b[0m\n",
            "\u001b[32m[I 2021-12-03 01:01:03,905]\u001b[0m Trial 94 finished with value: 0.7574691033833524 and parameters: {'svc_kernel': 'rbf', 'svc_C': 4, 'svc_gamma': 0.03864004314297369, 'threshold': 0.012466260088753837, 'n_components': 42}. Best is trial 74 with value: 0.758519550884478.\u001b[0m\n",
            "\u001b[32m[I 2021-12-03 01:01:18,809]\u001b[0m Trial 95 finished with value: 0.7546684322849293 and parameters: {'svc_kernel': 'rbf', 'svc_C': 10, 'svc_gamma': 0.04020488973856168, 'threshold': 0.011562150907853324, 'n_components': 42}. Best is trial 74 with value: 0.758519550884478.\u001b[0m\n",
            "\u001b[32m[I 2021-12-03 01:01:33,113]\u001b[0m Trial 96 finished with value: 0.752450510578383 and parameters: {'svc_kernel': 'rbf', 'svc_C': 1, 'svc_gamma': 0.027941373924894423, 'threshold': 0.01467801947251815, 'n_components': 40}. Best is trial 74 with value: 0.758519550884478.\u001b[0m\n",
            "\u001b[32m[I 2021-12-03 01:01:46,394]\u001b[0m Trial 97 finished with value: 0.7526850408128929 and parameters: {'svc_kernel': 'rbf', 'svc_C': 3, 'svc_gamma': 0.20936815333701017, 'threshold': 0.025037085266402907, 'n_components': 34}. Best is trial 74 with value: 0.758519550884478.\u001b[0m\n",
            "\u001b[32m[I 2021-12-03 01:02:00,628]\u001b[0m Trial 98 finished with value: 0.7525684228165289 and parameters: {'svc_kernel': 'rbf', 'svc_C': 18, 'svc_gamma': 0.005414465068208044, 'threshold': 0.007806349284255389, 'n_components': 39}. Best is trial 74 with value: 0.758519550884478.\u001b[0m\n",
            "\u001b[32m[I 2021-12-03 01:02:16,413]\u001b[0m Trial 99 finished with value: 0.7536183253737464 and parameters: {'svc_kernel': 'rbf', 'svc_C': 43, 'svc_gamma': 0.035363720410398626, 'threshold': 0.0202004822703329, 'n_components': 38}. Best is trial 74 with value: 0.758519550884478.\u001b[0m\n"
          ]
        }
      ]
    },
    {
      "cell_type": "markdown",
      "metadata": {
        "id": "pbyf7P0xSLES"
      },
      "source": [
        "Παρατηρούμε ότι δεν έχουμε καποια αισθητή βελτίωση με την προσθήκη του Μετασχηματιστή PCA σε καμοία από τις δύο περιπώσεις. Μάλιστα το μέγιστο accuracy που παίρνουμε (75.85%) είναι μικρότερο από αυτό που πετύχαμε χρησιμοποιώντας μόνο MinMax Scaler και στην συνέχεια Threshold. Έχοντας ως κανονά πως μεταξύ δύο αρχιτεκτονικών που πετυχαίνουν παρόμοια επίδοση η σωστή επιλογή είναι η πιο απλή προτιμάμε να αφήσουμε εκτός το PCA από την τελίκή αρχιτεκτινική μας."
      ]
    },
    {
      "cell_type": "markdown",
      "metadata": {
        "id": "8G19GEKCqmtM"
      },
      "source": [
        "Τελικά με βάση τις προηγούμενες επιλογές αρχιτεκτονικής θα δούμε πλέον την επίδραση των υπερπαραμέτρων του ταξινομητή μας (SVM) όπου και πάλι η τιμή της υπερπαραμέτρου gamma στην μία περίπτωση παίρνει πραγματικές τιμές και στην άλλη auto και scale. Έτσι έχουμε τα εξής αποτελέσματα : "
      ]
    },
    {
      "cell_type": "code",
      "metadata": {
        "colab": {
          "base_uri": "https://localhost:8080/"
        },
        "id": "S7b0ICr9hxI8",
        "outputId": "5ac4d0df-a402-47b4-876b-c34c1c1506a6"
      },
      "source": [
        "import optuna\n",
        "from sklearn.svm import SVC\n",
        "from sklearn.model_selection import cross_val_score\n",
        "\n",
        "from sklearn.pipeline import Pipeline\n",
        "from sklearn import preprocessing\n",
        "from sklearn.feature_selection import VarianceThreshold\n",
        "\n",
        "def objective(trial):\n",
        "\n",
        "    \n",
        "    svc_kernel = trial.suggest_categorical('svc_kernel',['rbf'])\n",
        "    svc_C = trial.suggest_float('svc_C',1,200)\n",
        "\n",
        "    svc_gamma = trial.suggest_categorical('svc_gamma',['auto','scale'])\n",
        "\n",
        "    svm = SVC(kernel = svc_kernel,gamma = svc_gamma , C = svc_C)\n",
        "\n",
        "    threshold = trial.suggest_float('threshold', 0, 0.1)\n",
        "\n",
        "    clf = Pipeline(steps = [('minmax_scaler', preprocessing.MinMaxScaler()), ('selector', VarianceThreshold(threshold)), ('svm', svm)])\n",
        "  \n",
        "\n",
        "    return np.mean(cross_val_score(clf, X_train_small, y_train_small, cv = 5, scoring = 'accuracy'))\n",
        "\n",
        "study = optuna.create_study(direction = 'maximize')\n",
        "study.optimize(objective, n_trials = 50)"
      ],
      "execution_count": null,
      "outputs": [
        {
          "output_type": "stream",
          "name": "stderr",
          "text": [
            "\u001b[32m[I 2021-12-03 13:46:59,892]\u001b[0m A new study created in memory with name: no-name-bb1e13a8-b261-4b43-8274-1ae4feb55076\u001b[0m\n",
            "\u001b[32m[I 2021-12-03 13:47:15,578]\u001b[0m Trial 0 finished with value: 0.7449798064223001 and parameters: {'svc_kernel': 'rbf', 'svc_C': 9.307537393510383, 'svc_gamma': 'scale', 'threshold': 0.04426264408774086}. Best is trial 0 with value: 0.7449798064223001.\u001b[0m\n",
            "\u001b[32m[I 2021-12-03 13:47:57,051]\u001b[0m Trial 1 finished with value: 0.7247878635542195 and parameters: {'svc_kernel': 'rbf', 'svc_C': 193.7078353800449, 'svc_gamma': 'scale', 'threshold': 0.07219518773186633}. Best is trial 0 with value: 0.7449798064223001.\u001b[0m\n",
            "\u001b[32m[I 2021-12-03 13:48:21,160]\u001b[0m Trial 2 finished with value: 0.7440467262154122 and parameters: {'svc_kernel': 'rbf', 'svc_C': 187.35571725345062, 'svc_gamma': 'auto', 'threshold': 0.0548254897540548}. Best is trial 0 with value: 0.7449798064223001.\u001b[0m\n",
            "\u001b[32m[I 2021-12-03 13:48:52,828]\u001b[0m Trial 3 finished with value: 0.7324914631130873 and parameters: {'svc_kernel': 'rbf', 'svc_C': 136.43705512455605, 'svc_gamma': 'scale', 'threshold': 0.0748201549150388}. Best is trial 0 with value: 0.7449798064223001.\u001b[0m\n",
            "\u001b[32m[I 2021-12-03 13:49:13,843]\u001b[0m Trial 4 finished with value: 0.7463802441484946 and parameters: {'svc_kernel': 'rbf', 'svc_C': 133.79782065015627, 'svc_gamma': 'auto', 'threshold': 0.06125247577889793}. Best is trial 4 with value: 0.7463802441484946.\u001b[0m\n",
            "\u001b[32m[I 2021-12-03 13:50:00,679]\u001b[0m Trial 5 finished with value: 0.7163848966071111 and parameters: {'svc_kernel': 'rbf', 'svc_C': 154.95930417727422, 'svc_gamma': 'scale', 'threshold': 0.02126466077364212}. Best is trial 4 with value: 0.7463802441484946.\u001b[0m\n",
            "\u001b[32m[I 2021-12-03 13:50:42,661]\u001b[0m Trial 6 finished with value: 0.7207024190741267 and parameters: {'svc_kernel': 'rbf', 'svc_C': 175.62161268980722, 'svc_gamma': 'scale', 'threshold': 0.06241582275373114}. Best is trial 4 with value: 0.7463802441484946.\u001b[0m\n",
            "\u001b[32m[I 2021-12-03 13:51:02,063]\u001b[0m Trial 7 finished with value: 0.7298066607131544 and parameters: {'svc_kernel': 'rbf', 'svc_C': 37.37529223235893, 'svc_gamma': 'scale', 'threshold': 0.09963082811141638}. Best is trial 4 with value: 0.7463802441484946.\u001b[0m\n",
            "\u001b[32m[I 2021-12-03 13:51:19,385]\u001b[0m Trial 8 finished with value: 0.7370439245225441 and parameters: {'svc_kernel': 'rbf', 'svc_C': 101.82926784813478, 'svc_gamma': 'auto', 'threshold': 0.09757662985639654}. Best is trial 4 with value: 0.7463802441484946.\u001b[0m\n",
            "\u001b[32m[I 2021-12-03 13:51:42,611]\u001b[0m Trial 9 finished with value: 0.7461470762737553 and parameters: {'svc_kernel': 'rbf', 'svc_C': 194.66109720759474, 'svc_gamma': 'auto', 'threshold': 0.05996164231332603}. Best is trial 4 with value: 0.7463802441484946.\u001b[0m\n",
            "\u001b[32m[I 2021-12-03 13:52:06,241]\u001b[0m Trial 10 finished with value: 0.750932705557951 and parameters: {'svc_kernel': 'rbf', 'svc_C': 77.22896797167597, 'svc_gamma': 'auto', 'threshold': 0.0019325940849995796}. Best is trial 10 with value: 0.750932705557951.\u001b[0m\n",
            "\u001b[32m[I 2021-12-03 13:52:27,827]\u001b[0m Trial 11 finished with value: 0.749648545238178 and parameters: {'svc_kernel': 'rbf', 'svc_C': 75.50630445121291, 'svc_gamma': 'auto', 'threshold': 0.0053225172096194135}. Best is trial 10 with value: 0.750932705557951.\u001b[0m\n",
            "\u001b[32m[I 2021-12-03 13:52:47,385]\u001b[0m Trial 12 finished with value: 0.7515164086016672 and parameters: {'svc_kernel': 'rbf', 'svc_C': 65.22733271355622, 'svc_gamma': 'auto', 'threshold': 0.0031677415552362545}. Best is trial 12 with value: 0.7515164086016672.\u001b[0m\n",
            "\u001b[32m[I 2021-12-03 13:53:07,685]\u001b[0m Trial 13 finished with value: 0.7512827639010082 and parameters: {'svc_kernel': 'rbf', 'svc_C': 68.14726125055562, 'svc_gamma': 'auto', 'threshold': 0.004176485796131807}. Best is trial 12 with value: 0.7515164086016672.\u001b[0m\n",
            "\u001b[32m[I 2021-12-03 13:53:24,612]\u001b[0m Trial 14 finished with value: 0.7478980491689264 and parameters: {'svc_kernel': 'rbf', 'svc_C': 57.59812166537447, 'svc_gamma': 'auto', 'threshold': 0.026331482176752987}. Best is trial 12 with value: 0.7515164086016672.\u001b[0m\n",
            "\u001b[32m[I 2021-12-03 13:53:46,056]\u001b[0m Trial 15 finished with value: 0.7474308960035858 and parameters: {'svc_kernel': 'rbf', 'svc_C': 100.27055420784065, 'svc_gamma': 'auto', 'threshold': 0.019022776057531932}. Best is trial 12 with value: 0.7515164086016672.\u001b[0m\n",
            "\u001b[32m[I 2021-12-03 13:54:00,233]\u001b[0m Trial 16 finished with value: 0.7499988079352008 and parameters: {'svc_kernel': 'rbf', 'svc_C': 25.039537831651728, 'svc_gamma': 'auto', 'threshold': 0.03762004865891114}. Best is trial 12 with value: 0.7515164086016672.\u001b[0m\n",
            "\u001b[32m[I 2021-12-03 13:54:17,190]\u001b[0m Trial 17 finished with value: 0.7498814406409631 and parameters: {'svc_kernel': 'rbf', 'svc_C': 51.413219822142736, 'svc_gamma': 'auto', 'threshold': 0.011094227174962949}. Best is trial 12 with value: 0.7515164086016672.\u001b[0m\n",
            "\u001b[32m[I 2021-12-03 13:54:35,422]\u001b[0m Trial 18 finished with value: 0.7442796897361859 and parameters: {'svc_kernel': 'rbf', 'svc_C': 105.61283551119202, 'svc_gamma': 'auto', 'threshold': 0.03181178761031206}. Best is trial 12 with value: 0.7515164086016672.\u001b[0m\n",
            "\u001b[32m[I 2021-12-03 13:54:55,791]\u001b[0m Trial 19 finished with value: 0.7470805651885745 and parameters: {'svc_kernel': 'rbf', 'svc_C': 71.51668256569386, 'svc_gamma': 'auto', 'threshold': 0.015587795603044562}. Best is trial 12 with value: 0.7515164086016672.\u001b[0m\n",
            "\u001b[32m[I 2021-12-03 13:55:16,748]\u001b[0m Trial 20 finished with value: 0.7532658829010906 and parameters: {'svc_kernel': 'rbf', 'svc_C': 11.35161942997933, 'svc_gamma': 'auto', 'threshold': 0.0002760145107400386}. Best is trial 20 with value: 0.7532658829010906.\u001b[0m\n",
            "\u001b[32m[I 2021-12-03 13:55:37,052]\u001b[0m Trial 21 finished with value: 0.7525656299789991 and parameters: {'svc_kernel': 'rbf', 'svc_C': 9.691619871919741, 'svc_gamma': 'auto', 'threshold': 0.0014264927969313574}. Best is trial 20 with value: 0.7532658829010906.\u001b[0m\n",
            "\u001b[32m[I 2021-12-03 13:55:51,787]\u001b[0m Trial 22 finished with value: 0.7527992065616697 and parameters: {'svc_kernel': 'rbf', 'svc_C': 3.6400317394328674, 'svc_gamma': 'auto', 'threshold': 0.010336384484323325}. Best is trial 20 with value: 0.7532658829010906.\u001b[0m\n",
            "\u001b[32m[I 2021-12-03 13:56:09,616]\u001b[0m Trial 23 finished with value: 0.7505815573270774 and parameters: {'svc_kernel': 'rbf', 'svc_C': 3.1569777778776986, 'svc_gamma': 'auto', 'threshold': 0.01339477116486468}. Best is trial 20 with value: 0.7532658829010906.\u001b[0m\n",
            "\u001b[32m[I 2021-12-03 13:56:24,972]\u001b[0m Trial 24 finished with value: 0.7491805065389863 and parameters: {'svc_kernel': 'rbf', 'svc_C': 30.327720478125627, 'svc_gamma': 'auto', 'threshold': 0.027012203777817705}. Best is trial 20 with value: 0.7532658829010906.\u001b[0m\n",
            "\u001b[32m[I 2021-12-03 13:56:40,702]\u001b[0m Trial 25 finished with value: 0.751865649528862 and parameters: {'svc_kernel': 'rbf', 'svc_C': 13.585415390698897, 'svc_gamma': 'auto', 'threshold': 0.00846356182285321}. Best is trial 20 with value: 0.7532658829010906.\u001b[0m\n",
            "\u001b[32m[I 2021-12-03 13:57:01,938]\u001b[0m Trial 26 finished with value: 0.7520990898755552 and parameters: {'svc_kernel': 'rbf', 'svc_C': 41.31916775279535, 'svc_gamma': 'auto', 'threshold': 0.0005495648663014097}. Best is trial 20 with value: 0.7532658829010906.\u001b[0m\n",
            "\u001b[32m[I 2021-12-03 13:57:15,902]\u001b[0m Trial 27 finished with value: 0.7519830849410882 and parameters: {'svc_kernel': 'rbf', 'svc_C': 18.65430636138449, 'svc_gamma': 'auto', 'threshold': 0.03759285404675939}. Best is trial 20 with value: 0.7532658829010906.\u001b[0m\n",
            "\u001b[32m[I 2021-12-03 13:57:31,383]\u001b[0m Trial 28 finished with value: 0.7477806137567002 and parameters: {'svc_kernel': 'rbf', 'svc_C': 5.662484639439583, 'svc_gamma': 'auto', 'threshold': 0.022666508726849364}. Best is trial 20 with value: 0.7532658829010906.\u001b[0m\n",
            "\u001b[32m[I 2021-12-03 13:57:49,104]\u001b[0m Trial 29 finished with value: 0.7411265761651071 and parameters: {'svc_kernel': 'rbf', 'svc_C': 18.78966968435418, 'svc_gamma': 'scale', 'threshold': 0.04560768259282344}. Best is trial 20 with value: 0.7532658829010906.\u001b[0m\n",
            "\u001b[32m[I 2021-12-03 13:58:09,381]\u001b[0m Trial 30 finished with value: 0.7509318881420887 and parameters: {'svc_kernel': 'rbf', 'svc_C': 47.80090866038343, 'svc_gamma': 'auto', 'threshold': 0.012049282502813993}. Best is trial 20 with value: 0.7532658829010906.\u001b[0m\n",
            "\u001b[32m[I 2021-12-03 13:58:29,899]\u001b[0m Trial 31 finished with value: 0.7520992942295208 and parameters: {'svc_kernel': 'rbf', 'svc_C': 38.46905241972946, 'svc_gamma': 'auto', 'threshold': 0.0007913844888974279}. Best is trial 20 with value: 0.7532658829010906.\u001b[0m\n",
            "\u001b[32m[I 2021-12-03 13:58:45,496]\u001b[0m Trial 32 finished with value: 0.7526823842113401 and parameters: {'svc_kernel': 'rbf', 'svc_C': 3.280528274051224, 'svc_gamma': 'auto', 'threshold': 0.009024775914591682}. Best is trial 20 with value: 0.7532658829010906.\u001b[0m\n",
            "\u001b[32m[I 2021-12-03 13:59:01,429]\u001b[0m Trial 33 finished with value: 0.7544337658144424 and parameters: {'svc_kernel': 'rbf', 'svc_C': 1.384105550450471, 'svc_gamma': 'auto', 'threshold': 0.009180125108883955}. Best is trial 33 with value: 0.7544337658144424.\u001b[0m\n",
            "\u001b[32m[I 2021-12-03 13:59:18,119]\u001b[0m Trial 34 finished with value: 0.7490645016045192 and parameters: {'svc_kernel': 'rbf', 'svc_C': 1.3994508760069093, 'svc_gamma': 'scale', 'threshold': 0.01720281681978477}. Best is trial 33 with value: 0.7544337658144424.\u001b[0m\n",
            "\u001b[32m[I 2021-12-03 13:59:32,576]\u001b[0m Trial 35 finished with value: 0.7504654842746217 and parameters: {'svc_kernel': 'rbf', 'svc_C': 23.123934020499167, 'svc_gamma': 'auto', 'threshold': 0.034498609012363485}. Best is trial 33 with value: 0.7544337658144424.\u001b[0m\n",
            "\u001b[32m[I 2021-12-03 13:59:48,130]\u001b[0m Trial 36 finished with value: 0.7515158636577589 and parameters: {'svc_kernel': 'rbf', 'svc_C': 28.58949860545573, 'svc_gamma': 'auto', 'threshold': 0.010447522382500227}. Best is trial 33 with value: 0.7544337658144424.\u001b[0m\n",
            "\u001b[32m[I 2021-12-03 14:00:05,997]\u001b[0m Trial 37 finished with value: 0.7386761677637069 and parameters: {'svc_kernel': 'rbf', 'svc_C': 15.93769786175723, 'svc_gamma': 'scale', 'threshold': 0.027533955319989544}. Best is trial 33 with value: 0.7544337658144424.\u001b[0m\n",
            "\u001b[32m[I 2021-12-03 14:00:20,488]\u001b[0m Trial 38 finished with value: 0.7511658734326903 and parameters: {'svc_kernel': 'rbf', 'svc_C': 1.8189571228096109, 'svc_gamma': 'auto', 'threshold': 0.07702571627575105}. Best is trial 33 with value: 0.7544337658144424.\u001b[0m\n",
            "\u001b[32m[I 2021-12-03 14:00:46,077]\u001b[0m Trial 39 finished with value: 0.7424116220187311 and parameters: {'svc_kernel': 'rbf', 'svc_C': 32.34893379443861, 'svc_gamma': 'scale', 'threshold': 0.00696593425348721}. Best is trial 33 with value: 0.7544337658144424.\u001b[0m\n",
            "\u001b[32m[I 2021-12-03 14:01:03,241]\u001b[0m Trial 40 finished with value: 0.7453295241754148 and parameters: {'svc_kernel': 'rbf', 'svc_C': 86.03182336022638, 'svc_gamma': 'auto', 'threshold': 0.08418826923402903}. Best is trial 33 with value: 0.7544337658144424.\u001b[0m\n",
            "\u001b[32m[I 2021-12-03 14:01:19,625]\u001b[0m Trial 41 finished with value: 0.752566106804919 and parameters: {'svc_kernel': 'rbf', 'svc_C': 11.768083866695276, 'svc_gamma': 'auto', 'threshold': 0.007745526323710592}. Best is trial 33 with value: 0.7544337658144424.\u001b[0m\n",
            "\u001b[32m[I 2021-12-03 14:01:35,859]\u001b[0m Trial 42 finished with value: 0.7485978933830868 and parameters: {'svc_kernel': 'rbf', 'svc_C': 12.400919158001848, 'svc_gamma': 'auto', 'threshold': 0.02091695114873891}. Best is trial 33 with value: 0.7544337658144424.\u001b[0m\n",
            "\u001b[32m[I 2021-12-03 14:01:57,327]\u001b[0m Trial 43 finished with value: 0.7485975527931441 and parameters: {'svc_kernel': 'rbf', 'svc_C': 132.19670865950678, 'svc_gamma': 'auto', 'threshold': 0.00788468438446336}. Best is trial 33 with value: 0.7544337658144424.\u001b[0m\n",
            "\u001b[32m[I 2021-12-03 14:02:14,784]\u001b[0m Trial 44 finished with value: 0.7484816159766655 and parameters: {'svc_kernel': 'rbf', 'svc_C': 22.75547085461992, 'svc_gamma': 'auto', 'threshold': 0.01544891154058919}. Best is trial 33 with value: 0.7544337658144424.\u001b[0m\n",
            "\u001b[32m[I 2021-12-03 14:02:31,588]\u001b[0m Trial 45 finished with value: 0.7474298742337578 and parameters: {'svc_kernel': 'rbf', 'svc_C': 43.200897941830526, 'svc_gamma': 'auto', 'threshold': 0.02327467201348999}. Best is trial 33 with value: 0.7544337658144424.\u001b[0m\n",
            "\u001b[32m[I 2021-12-03 14:02:48,289]\u001b[0m Trial 46 finished with value: 0.7473142780072218 and parameters: {'svc_kernel': 'rbf', 'svc_C': 10.537126245929716, 'svc_gamma': 'auto', 'threshold': 0.054897102264943126}. Best is trial 33 with value: 0.7544337658144424.\u001b[0m\n",
            "\u001b[32m[I 2021-12-03 14:03:38,682]\u001b[0m Trial 47 finished with value: 0.7235032945265153 and parameters: {'svc_kernel': 'rbf', 'svc_C': 177.46110716842867, 'svc_gamma': 'scale', 'threshold': 0.005656913937304281}. Best is trial 33 with value: 0.7544337658144424.\u001b[0m\n",
            "\u001b[32m[I 2021-12-03 14:03:58,725]\u001b[0m Trial 48 finished with value: 0.748130876453723 and parameters: {'svc_kernel': 'rbf', 'svc_C': 55.046908321151896, 'svc_gamma': 'auto', 'threshold': 0.013248275236938719}. Best is trial 33 with value: 0.7544337658144424.\u001b[0m\n",
            "\u001b[32m[I 2021-12-03 14:04:16,707]\u001b[0m Trial 49 finished with value: 0.7484811391507458 and parameters: {'svc_kernel': 'rbf', 'svc_C': 32.61350197742368, 'svc_gamma': 'auto', 'threshold': 0.01818301819625176}. Best is trial 33 with value: 0.7544337658144424.\u001b[0m\n"
          ]
        }
      ]
    },
    {
      "cell_type": "code",
      "metadata": {
        "colab": {
          "base_uri": "https://localhost:8080/"
        },
        "id": "6zZ3nYEWq7tj",
        "outputId": "859bb854-86d9-42a8-c511-0a33e495bfc2"
      },
      "source": [
        "import optuna\n",
        "from sklearn.svm import SVC\n",
        "from sklearn.model_selection import cross_val_score\n",
        "\n",
        "from sklearn.pipeline import Pipeline\n",
        "from sklearn import preprocessing\n",
        "from sklearn.feature_selection import VarianceThreshold\n",
        "\n",
        "def objective(trial):\n",
        "\n",
        "    \n",
        "    svc_kernel = trial.suggest_categorical('svc_kernel',['rbf'])\n",
        "    svc_C = trial.suggest_float('svc_C',1,200)\n",
        "\n",
        "    svc_gamma = trial.suggest_float('svc_gamma',0.0,0.5) \n",
        "\n",
        "    svm = SVC(kernel = svc_kernel,gamma = svc_gamma , C = svc_C)\n",
        "\n",
        "    threshold = trial.suggest_float('threshold', 0, 0.1)\n",
        "\n",
        "    clf = Pipeline(steps = [('minmax_scaler', preprocessing.MinMaxScaler()), ('selector', VarianceThreshold(threshold)), ('svm', svm)])\n",
        "  \n",
        "\n",
        "    return np.mean(cross_val_score(clf, X_train_small, y_train_small, cv = 5, scoring = 'accuracy'))\n",
        "\n",
        "study = optuna.create_study(direction = 'maximize')\n",
        "study.optimize(objective, n_trials = 100)"
      ],
      "execution_count": null,
      "outputs": [
        {
          "output_type": "stream",
          "name": "stderr",
          "text": [
            "\u001b[32m[I 2021-12-03 13:02:48,337]\u001b[0m A new study created in memory with name: no-name-e0faa163-c5c4-4961-9e5c-ab2f6370c172\u001b[0m\n",
            "\u001b[32m[I 2021-12-03 13:03:17,211]\u001b[0m Trial 0 finished with value: 0.7324897601633742 and parameters: {'svc_kernel': 'rbf', 'svc_C': 86.41097127105094, 'svc_gamma': 0.18773355500308603, 'threshold': 0.05911220578569224}. Best is trial 0 with value: 0.7324897601633742.\u001b[0m\n",
            "\u001b[32m[I 2021-12-03 13:03:46,978]\u001b[0m Trial 1 finished with value: 0.7260710702221532 and parameters: {'svc_kernel': 'rbf', 'svc_C': 65.02902906203514, 'svc_gamma': 0.2668808740902366, 'threshold': 0.03425016340751321}. Best is trial 0 with value: 0.7324897601633742.\u001b[0m\n",
            "\u001b[32m[I 2021-12-03 13:04:07,905]\u001b[0m Trial 2 finished with value: 0.7340074289478291 and parameters: {'svc_kernel': 'rbf', 'svc_C': 30.350983064752544, 'svc_gamma': 0.186567656553985, 'threshold': 0.027286622132913132}. Best is trial 2 with value: 0.7340074289478291.\u001b[0m\n",
            "\u001b[32m[I 2021-12-03 13:04:34,801]\u001b[0m Trial 3 finished with value: 0.718601864661818 and parameters: {'svc_kernel': 'rbf', 'svc_C': 41.16958114563837, 'svc_gamma': 0.4342246320908347, 'threshold': 0.02920737772992651}. Best is trial 2 with value: 0.7340074289478291.\u001b[0m\n",
            "\u001b[32m[I 2021-12-03 13:05:04,916]\u001b[0m Trial 4 finished with value: 0.7122993840090298 and parameters: {'svc_kernel': 'rbf', 'svc_C': 69.13857148278504, 'svc_gamma': 0.4574631457317261, 'threshold': 0.04057304091783509}. Best is trial 2 with value: 0.7340074289478291.\u001b[0m\n",
            "\u001b[32m[I 2021-12-03 13:05:22,396]\u001b[0m Trial 5 finished with value: 0.747664200114302 and parameters: {'svc_kernel': 'rbf', 'svc_C': 182.33299370136606, 'svc_gamma': 0.01939375666706772, 'threshold': 0.0775452961325988}. Best is trial 5 with value: 0.747664200114302.\u001b[0m\n",
            "\u001b[32m[I 2021-12-03 13:06:00,001]\u001b[0m Trial 6 finished with value: 0.7104321337074373 and parameters: {'svc_kernel': 'rbf', 'svc_C': 99.07688864679848, 'svc_gamma': 0.4878811897589471, 'threshold': 0.060717791173871785}. Best is trial 5 with value: 0.747664200114302.\u001b[0m\n",
            "\u001b[32m[I 2021-12-03 13:06:24,654]\u001b[0m Trial 7 finished with value: 0.7383271993084661 and parameters: {'svc_kernel': 'rbf', 'svc_C': 173.03098244100096, 'svc_gamma': 0.1201493922099115, 'threshold': 0.0934231978839643}. Best is trial 5 with value: 0.747664200114302.\u001b[0m\n",
            "\u001b[32m[I 2021-12-03 13:06:52,025]\u001b[0m Trial 8 finished with value: 0.7365773163011115 and parameters: {'svc_kernel': 'rbf', 'svc_C': 172.58670356297782, 'svc_gamma': 0.1556007099004651, 'threshold': 0.08417458044572737}. Best is trial 5 with value: 0.747664200114302.\u001b[0m\n",
            "\u001b[32m[I 2021-12-03 13:07:23,275]\u001b[0m Trial 9 finished with value: 0.7244388269809903 and parameters: {'svc_kernel': 'rbf', 'svc_C': 136.02988082989125, 'svc_gamma': 0.4389755403863814, 'threshold': 0.011069217419945033}. Best is trial 5 with value: 0.747664200114302.\u001b[0m\n",
            "\u001b[32m[I 2021-12-03 13:07:40,806]\u001b[0m Trial 10 finished with value: 0.7478976404609953 and parameters: {'svc_kernel': 'rbf', 'svc_C': 194.10980783188234, 'svc_gamma': 0.017176060330083794, 'threshold': 0.0774259016010659}. Best is trial 10 with value: 0.7478976404609953.\u001b[0m\n",
            "\u001b[32m[I 2021-12-03 13:07:55,471]\u001b[0m Trial 11 finished with value: 0.7492986912490863 and parameters: {'svc_kernel': 'rbf', 'svc_C': 194.8299829185371, 'svc_gamma': 0.002372347933219896, 'threshold': 0.07675551465035321}. Best is trial 11 with value: 0.7492986912490863.\u001b[0m\n",
            "\u001b[32m[I 2021-12-03 13:08:10,924]\u001b[0m Trial 12 finished with value: 0.7509327736759397 and parameters: {'svc_kernel': 'rbf', 'svc_C': 126.12165847999626, 'svc_gamma': 0.009365001230982582, 'threshold': 0.074191468146378}. Best is trial 12 with value: 0.7509327736759397.\u001b[0m\n",
            "\u001b[32m[I 2021-12-03 13:08:36,438]\u001b[0m Trial 13 finished with value: 0.7434621376378452 and parameters: {'svc_kernel': 'rbf', 'svc_C': 132.4077038894103, 'svc_gamma': 0.08545889905532893, 'threshold': 0.06491278490567018}. Best is trial 12 with value: 0.7509327736759397.\u001b[0m\n",
            "\u001b[32m[I 2021-12-03 13:09:02,587]\u001b[0m Trial 14 finished with value: 0.7235050655942171 and parameters: {'svc_kernel': 'rbf', 'svc_C': 123.25549264052182, 'svc_gamma': 0.2841702717109455, 'threshold': 0.09935103537229431}. Best is trial 12 with value: 0.7509327736759397.\u001b[0m\n",
            "\u001b[32m[I 2021-12-03 13:09:28,148]\u001b[0m Trial 15 finished with value: 0.7425279675431408 and parameters: {'svc_kernel': 'rbf', 'svc_C': 151.97915400949444, 'svc_gamma': 0.07763860729731697, 'threshold': 0.06865002592783434}. Best is trial 12 with value: 0.7509327736759397.\u001b[0m\n",
            "\u001b[32m[I 2021-12-03 13:09:42,381]\u001b[0m Trial 16 finished with value: 0.7532673814968384 and parameters: {'svc_kernel': 'rbf', 'svc_C': 8.08383012739894, 'svc_gamma': 0.013363521426852223, 'threshold': 0.04980338077563646}. Best is trial 16 with value: 0.7532673814968384.\u001b[0m\n",
            "\u001b[32m[I 2021-12-03 13:10:01,835]\u001b[0m Trial 17 finished with value: 0.7344739690512732 and parameters: {'svc_kernel': 'rbf', 'svc_C': 11.851942979697313, 'svc_gamma': 0.34606882013199447, 'threshold': 0.050205668462815115}. Best is trial 16 with value: 0.7532673814968384.\u001b[0m\n",
            "\u001b[32m[I 2021-12-03 13:10:15,373]\u001b[0m Trial 18 finished with value: 0.7513993137793835 and parameters: {'svc_kernel': 'rbf', 'svc_C': 1.0118216568118967, 'svc_gamma': 0.07305966898577959, 'threshold': 0.048436753514751386}. Best is trial 16 with value: 0.7532673814968384.\u001b[0m\n",
            "\u001b[32m[I 2021-12-03 13:10:28,666]\u001b[0m Trial 19 finished with value: 0.7495315866518715 and parameters: {'svc_kernel': 'rbf', 'svc_C': 1.7050962285432563, 'svc_gamma': 0.08687428764627939, 'threshold': 0.048229747772073825}. Best is trial 16 with value: 0.7532673814968384.\u001b[0m\n",
            "\u001b[32m[I 2021-12-03 13:11:03,711]\u001b[0m Trial 20 finished with value: 0.7282887194567454 and parameters: {'svc_kernel': 'rbf', 'svc_C': 31.07305831826643, 'svc_gamma': 0.32132306614784867, 'threshold': 0.0054634132533362065}. Best is trial 16 with value: 0.7532673814968384.\u001b[0m\n",
            "\u001b[32m[I 2021-12-03 13:11:23,293]\u001b[0m Trial 21 finished with value: 0.7467315286153452 and parameters: {'svc_kernel': 'rbf', 'svc_C': 53.0446680546939, 'svc_gamma': 0.05050501216563389, 'threshold': 0.0502314666967907}. Best is trial 16 with value: 0.7532673814968384.\u001b[0m\n",
            "\u001b[32m[I 2021-12-03 13:11:39,998]\u001b[0m Trial 22 finished with value: 0.7441626630318908 and parameters: {'svc_kernel': 'rbf', 'svc_C': 18.104531058791373, 'svc_gamma': 0.13891590052424244, 'threshold': 0.042624497309429965}. Best is trial 16 with value: 0.7532673814968384.\u001b[0m\n",
            "\u001b[32m[I 2021-12-03 13:12:05,261]\u001b[0m Trial 23 finished with value: 0.7435801179939797 and parameters: {'svc_kernel': 'rbf', 'svc_C': 115.02047952000281, 'svc_gamma': 0.04794149295104278, 'threshold': 0.01991270638216184}. Best is trial 16 with value: 0.7532673814968384.\u001b[0m\n",
            "\u001b[32m[I 2021-12-03 13:12:48,595]\u001b[0m Trial 24 finished with value: 0.7226864236080599 and parameters: {'svc_kernel': 'rbf', 'svc_C': 149.59228563513852, 'svc_gamma': 0.2138871098055018, 'threshold': 0.053905767788360474}. Best is trial 16 with value: 0.7532673814968384.\u001b[0m\n",
            "\u001b[32m[I 2021-12-03 13:13:11,796]\u001b[0m Trial 25 finished with value: 0.7442800303261284 and parameters: {'svc_kernel': 'rbf', 'svc_C': 95.57171125939601, 'svc_gamma': 0.10964802161834468, 'threshold': 0.07040328222871024}. Best is trial 16 with value: 0.7532673814968384.\u001b[0m\n",
            "\u001b[32m[I 2021-12-03 13:13:25,455]\u001b[0m Trial 26 finished with value: 0.7526832016272025 and parameters: {'svc_kernel': 'rbf', 'svc_C': 1.0552119168528677, 'svc_gamma': 0.04666723538995131, 'threshold': 0.04001301665800886}. Best is trial 16 with value: 0.7532673814968384.\u001b[0m\n",
            "\u001b[32m[I 2021-12-03 13:13:39,128]\u001b[0m Trial 27 finished with value: 0.7498817131129172 and parameters: {'svc_kernel': 'rbf', 'svc_C': 8.327758903154901, 'svc_gamma': 0.05429269884013689, 'threshold': 0.03957050093991856}. Best is trial 16 with value: 0.7532673814968384.\u001b[0m\n",
            "\u001b[32m[I 2021-12-03 13:14:01,672]\u001b[0m Trial 28 finished with value: 0.7397272283267292 and parameters: {'svc_kernel': 'rbf', 'svc_C': 24.084706545896108, 'svc_gamma': 0.16825186207862897, 'threshold': 0.018946972623576412}. Best is trial 16 with value: 0.7532673814968384.\u001b[0m\n",
            "\u001b[32m[I 2021-12-03 13:14:25,816]\u001b[0m Trial 29 finished with value: 0.7319059890016696 and parameters: {'svc_kernel': 'rbf', 'svc_C': 45.3831677189418, 'svc_gamma': 0.2138826480761394, 'threshold': 0.058636262118631224}. Best is trial 16 with value: 0.7532673814968384.\u001b[0m\n",
            "\u001b[32m[I 2021-12-03 13:14:48,868]\u001b[0m Trial 30 finished with value: 0.7372749807396387 and parameters: {'svc_kernel': 'rbf', 'svc_C': 69.629757516006, 'svc_gamma': 0.12066236006254616, 'threshold': 0.03412083592419289}. Best is trial 16 with value: 0.7532673814968384.\u001b[0m\n",
            "\u001b[32m[I 2021-12-03 13:15:02,337]\u001b[0m Trial 31 finished with value: 0.751865922000816 and parameters: {'svc_kernel': 'rbf', 'svc_C': 2.940280599924796, 'svc_gamma': 0.03182357217552488, 'threshold': 0.04412068059879559}. Best is trial 16 with value: 0.7532673814968384.\u001b[0m\n",
            "\u001b[32m[I 2021-12-03 13:15:15,765]\u001b[0m Trial 32 finished with value: 0.7513997224873148 and parameters: {'svc_kernel': 'rbf', 'svc_C': 2.2254290715772633, 'svc_gamma': 0.044463483298091536, 'threshold': 0.044607768344952996}. Best is trial 16 with value: 0.7532673814968384.\u001b[0m\n",
            "\u001b[32m[I 2021-12-03 13:15:30,012]\u001b[0m Trial 33 finished with value: 0.7512826957830196 and parameters: {'svc_kernel': 'rbf', 'svc_C': 19.953868696073314, 'svc_gamma': 0.03237451696615688, 'threshold': 0.034485601570692276}. Best is trial 16 with value: 0.7532673814968384.\u001b[0m\n",
            "\u001b[32m[I 2021-12-03 13:15:46,728]\u001b[0m Trial 34 finished with value: 0.7455637819379703 and parameters: {'svc_kernel': 'rbf', 'svc_C': 36.21541901686427, 'svc_gamma': 0.047712664472570825, 'threshold': 0.026549681203809863}. Best is trial 16 with value: 0.7532673814968384.\u001b[0m\n",
            "\u001b[32m[I 2021-12-03 13:16:06,631]\u001b[0m Trial 35 finished with value: 0.7405435543012764 and parameters: {'svc_kernel': 'rbf', 'svc_C': 55.78809970104564, 'svc_gamma': 0.09434959933118944, 'threshold': 0.04182815255625551}. Best is trial 16 with value: 0.7532673814968384.\u001b[0m\n",
            "\u001b[32m[I 2021-12-03 13:16:42,825]\u001b[0m Trial 36 finished with value: 0.7137007753870634 and parameters: {'svc_kernel': 'rbf', 'svc_C': 79.6350386394786, 'svc_gamma': 0.398115724956112, 'threshold': 0.05800419762727227}. Best is trial 16 with value: 0.7532673814968384.\u001b[0m\n",
            "\u001b[32m[I 2021-12-03 13:16:56,527]\u001b[0m Trial 37 finished with value: 0.7510506177960969 and parameters: {'svc_kernel': 'rbf', 'svc_C': 14.158641630325175, 'svc_gamma': 0.0051989154922808326, 'threshold': 0.035579577896997346}. Best is trial 16 with value: 0.7532673814968384.\u001b[0m\n",
            "\u001b[32m[I 2021-12-03 13:17:12,186]\u001b[0m Trial 38 finished with value: 0.7475463559941447 and parameters: {'svc_kernel': 'rbf', 'svc_C': 23.76884135456498, 'svc_gamma': 0.03522227653486504, 'threshold': 0.02449364428794683}. Best is trial 16 with value: 0.7532673814968384.\u001b[0m\n",
            "\u001b[32m[I 2021-12-03 13:17:35,213]\u001b[0m Trial 39 finished with value: 0.7387920364621968 and parameters: {'svc_kernel': 'rbf', 'svc_C': 42.85280462275976, 'svc_gamma': 0.1403669535704521, 'threshold': 0.05436881739605645}. Best is trial 16 with value: 0.7532673814968384.\u001b[0m\n",
            "\u001b[32m[I 2021-12-03 13:17:51,319]\u001b[0m Trial 40 finished with value: 0.7467305749635058 and parameters: {'svc_kernel': 'rbf', 'svc_C': 28.743685260526462, 'svc_gamma': 0.06877985726782929, 'threshold': 0.04455638818219469}. Best is trial 16 with value: 0.7532673814968384.\u001b[0m\n",
            "\u001b[32m[I 2021-12-03 13:18:04,635]\u001b[0m Trial 41 finished with value: 0.7497653675885074 and parameters: {'svc_kernel': 'rbf', 'svc_C': 3.087098083534837, 'svc_gamma': 0.06877008357954936, 'threshold': 0.04629281475925552}. Best is trial 16 with value: 0.7532673814968384.\u001b[0m\n",
            "\u001b[32m[I 2021-12-03 13:18:20,893]\u001b[0m Trial 42 finished with value: 0.7453295241754148 and parameters: {'svc_kernel': 'rbf', 'svc_C': 9.113096737424002, 'svc_gamma': 0.10338677247186012, 'threshold': 0.06368090372828476}. Best is trial 16 with value: 0.7532673814968384.\u001b[0m\n",
            "\u001b[32m[I 2021-12-03 13:18:34,618]\u001b[0m Trial 43 finished with value: 0.7519828805871226 and parameters: {'svc_kernel': 'rbf', 'svc_C': 2.794573675154247, 'svc_gamma': 0.027219344904025757, 'threshold': 0.030763123267338214}. Best is trial 16 with value: 0.7532673814968384.\u001b[0m\n",
            "\u001b[32m[I 2021-12-03 13:18:48,605]\u001b[0m Trial 44 finished with value: 0.7505823066249512 and parameters: {'svc_kernel': 'rbf', 'svc_C': 14.375217282110778, 'svc_gamma': 0.02686416294770314, 'threshold': 0.030288284047412805}. Best is trial 16 with value: 0.7532673814968384.\u001b[0m\n",
            "\u001b[32m[I 2021-12-03 13:19:02,242]\u001b[0m Trial 45 finished with value: 0.7490661364362439 and parameters: {'svc_kernel': 'rbf', 'svc_C': 35.192915403324804, 'svc_gamma': 0.004867428644135946, 'threshold': 0.03821975630904016}. Best is trial 16 with value: 0.7532673814968384.\u001b[0m\n",
            "\u001b[32m[I 2021-12-03 13:19:16,625]\u001b[0m Trial 46 finished with value: 0.7499983992272696 and parameters: {'svc_kernel': 'rbf', 'svc_C': 23.549091792413083, 'svc_gamma': 0.03625487332563545, 'threshold': 0.031150457297554224}. Best is trial 16 with value: 0.7532673814968384.\u001b[0m\n",
            "\u001b[32m[I 2021-12-03 13:19:31,646]\u001b[0m Trial 47 finished with value: 0.7487145794974391 and parameters: {'svc_kernel': 'rbf', 'svc_C': 9.184384517608319, 'svc_gamma': 0.01980882965005623, 'threshold': 0.023514758609026215}. Best is trial 16 with value: 0.7532673814968384.\u001b[0m\n",
            "\u001b[32m[I 2021-12-03 13:20:00,159]\u001b[0m Trial 48 finished with value: 0.7354087522078743 and parameters: {'svc_kernel': 'rbf', 'svc_C': 52.07227191494029, 'svc_gamma': 0.12087968156079695, 'threshold': 0.012504850733495571}. Best is trial 16 with value: 0.7532673814968384.\u001b[0m\n",
            "\u001b[32m[I 2021-12-03 13:20:20,322]\u001b[0m Trial 49 finished with value: 0.7446277726575756 and parameters: {'svc_kernel': 'rbf', 'svc_C': 17.507483231529726, 'svc_gamma': 0.1886428859946927, 'threshold': 0.053091194998378874}. Best is trial 16 with value: 0.7532673814968384.\u001b[0m\n",
            "\u001b[32m[I 2021-12-03 13:20:33,757]\u001b[0m Trial 50 finished with value: 0.7505824428609282 and parameters: {'svc_kernel': 'rbf', 'svc_C': 4.782955721532473, 'svc_gamma': 0.05615900510426316, 'threshold': 0.03902715870135385}. Best is trial 16 with value: 0.7532673814968384.\u001b[0m\n",
            "\u001b[32m[I 2021-12-03 13:20:47,374]\u001b[0m Trial 51 finished with value: 0.7520997710554405 and parameters: {'svc_kernel': 'rbf', 'svc_C': 1.0771470268435177, 'svc_gamma': 0.06971735622651797, 'threshold': 0.0460347626450038}. Best is trial 16 with value: 0.7532673814968384.\u001b[0m\n",
            "\u001b[32m[I 2021-12-03 13:21:08,850]\u001b[0m Trial 52 finished with value: 0.7019134342978159 and parameters: {'svc_kernel': 'rbf', 'svc_C': 1.1295070185779208, 'svc_gamma': 0.00016132044587631456, 'threshold': 0.04465810546475661}. Best is trial 16 with value: 0.7532673814968384.\u001b[0m\n",
            "\u001b[32m[I 2021-12-03 13:21:22,700]\u001b[0m Trial 53 finished with value: 0.7511658053147017 and parameters: {'svc_kernel': 'rbf', 'svc_C': 13.775599647888281, 'svc_gamma': 0.025542525283114896, 'threshold': 0.035537289668406864}. Best is trial 16 with value: 0.7532673814968384.\u001b[0m\n",
            "\u001b[32m[I 2021-12-03 13:21:42,361]\u001b[0m Trial 54 finished with value: 0.7443965120865152 and parameters: {'svc_kernel': 'rbf', 'svc_C': 30.748331815576066, 'svc_gamma': 0.07921440999639859, 'threshold': 0.05189641907678615}. Best is trial 16 with value: 0.7532673814968384.\u001b[0m\n",
            "\u001b[32m[I 2021-12-03 13:21:57,836]\u001b[0m Trial 55 finished with value: 0.7469640834281875 and parameters: {'svc_kernel': 'rbf', 'svc_C': 25.432602407288886, 'svc_gamma': 0.060296716504397975, 'threshold': 0.0451214374204813}. Best is trial 16 with value: 0.7532673814968384.\u001b[0m\n",
            "\u001b[32m[I 2021-12-03 13:22:14,998]\u001b[0m Trial 56 finished with value: 0.7483642486824278 and parameters: {'svc_kernel': 'rbf', 'svc_C': 9.883183385948108, 'svc_gamma': 0.09396660493525714, 'threshold': 0.0573665729466418}. Best is trial 16 with value: 0.7532673814968384.\u001b[0m\n",
            "\u001b[32m[I 2021-12-03 13:22:34,381]\u001b[0m Trial 57 finished with value: 0.7405424644134598 and parameters: {'svc_kernel': 'rbf', 'svc_C': 16.280216537033738, 'svc_gamma': 0.2609559575868799, 'threshold': 0.06251184725026238}. Best is trial 16 with value: 0.7532673814968384.\u001b[0m\n",
            "\u001b[32m[I 2021-12-03 13:22:49,820]\u001b[0m Trial 58 finished with value: 0.7489480198441325 and parameters: {'svc_kernel': 'rbf', 'svc_C': 39.62588808755466, 'svc_gamma': 0.0329204633828747, 'threshold': 0.031498187842717754}. Best is trial 16 with value: 0.7532673814968384.\u001b[0m\n",
            "\u001b[32m[I 2021-12-03 13:23:03,097]\u001b[0m Trial 59 finished with value: 0.74988157687694 and parameters: {'svc_kernel': 'rbf', 'svc_C': 1.3595471284571332, 'svc_gamma': 0.1355039221813159, 'threshold': 0.048049425545802}. Best is trial 16 with value: 0.7532673814968384.\u001b[0m\n",
            "\u001b[32m[I 2021-12-03 13:23:16,620]\u001b[0m Trial 60 finished with value: 0.7518659901188046 and parameters: {'svc_kernel': 'rbf', 'svc_C': 7.887305690276902, 'svc_gamma': 0.01654697070176763, 'threshold': 0.038360482876535484}. Best is trial 16 with value: 0.7532673814968384.\u001b[0m\n",
            "\u001b[32m[I 2021-12-03 13:23:30,184]\u001b[0m Trial 61 finished with value: 0.7523328708121912 and parameters: {'svc_kernel': 'rbf', 'svc_C': 8.309040468364373, 'svc_gamma': 0.017096973548361018, 'threshold': 0.04072515958405502}. Best is trial 16 with value: 0.7532673814968384.\u001b[0m\n",
            "\u001b[32m[I 2021-12-03 13:23:43,693]\u001b[0m Trial 62 finished with value: 0.7508159513256101 and parameters: {'svc_kernel': 'rbf', 'svc_C': 9.895147001001186, 'svc_gamma': 0.018762676425222263, 'threshold': 0.04019529792675359}. Best is trial 16 with value: 0.7532673814968384.\u001b[0m\n",
            "\u001b[32m[I 2021-12-03 13:23:58,637]\u001b[0m Trial 63 finished with value: 0.7487147157334162 and parameters: {'svc_kernel': 'rbf', 'svc_C': 19.244422568041294, 'svc_gamma': 0.06048034992750624, 'threshold': 0.037432523185134875}. Best is trial 16 with value: 0.7532673814968384.\u001b[0m\n",
            "\u001b[32m[I 2021-12-03 13:24:12,611]\u001b[0m Trial 64 finished with value: 0.7508158832076217 and parameters: {'svc_kernel': 'rbf', 'svc_C': 31.36617075483375, 'svc_gamma': 0.016022374889994175, 'threshold': 0.02871640964434656}. Best is trial 16 with value: 0.7532673814968384.\u001b[0m\n",
            "\u001b[32m[I 2021-12-03 13:24:28,480]\u001b[0m Trial 65 finished with value: 0.7412450333471613 and parameters: {'svc_kernel': 'rbf', 'svc_C': 8.204002702304315, 'svc_gamma': 0.0002613339528652059, 'threshold': 0.04179867446851193}. Best is trial 16 with value: 0.7532673814968384.\u001b[0m\n",
            "\u001b[32m[I 2021-12-03 13:24:46,650]\u001b[0m Trial 66 finished with value: 0.7467301662555746 and parameters: {'svc_kernel': 'rbf', 'svc_C': 21.770326080647553, 'svc_gamma': 0.04706391196121229, 'threshold': 0.020062716748030132}. Best is trial 16 with value: 0.7532673814968384.\u001b[0m\n",
            "\u001b[32m[I 2021-12-03 13:25:01,280]\u001b[0m Trial 67 finished with value: 0.7482472900961215 and parameters: {'svc_kernel': 'rbf', 'svc_C': 7.480167502164129, 'svc_gamma': 0.0793722765280926, 'threshold': 0.049273909415843316}. Best is trial 16 with value: 0.7532673814968384.\u001b[0m\n",
            "\u001b[32m[I 2021-12-03 13:25:14,988]\u001b[0m Trial 68 finished with value: 0.7502322482818939 and parameters: {'svc_kernel': 'rbf', 'svc_C': 14.114343933077706, 'svc_gamma': 0.01687923843343052, 'threshold': 0.03274129486514741}. Best is trial 16 with value: 0.7532673814968384.\u001b[0m\n",
            "\u001b[32m[I 2021-12-03 13:25:36,381]\u001b[0m Trial 69 finished with value: 0.7285218192134961 and parameters: {'svc_kernel': 'rbf', 'svc_C': 26.562740689988907, 'svc_gamma': 0.29850682292003994, 'threshold': 0.03713542153775439}. Best is trial 16 with value: 0.7532673814968384.\u001b[0m\n",
            "\u001b[32m[I 2021-12-03 13:26:16,506]\u001b[0m Trial 70 finished with value: 0.7147513591241662 and parameters: {'svc_kernel': 'rbf', 'svc_C': 169.46754656409541, 'svc_gamma': 0.36854870477427254, 'threshold': 0.08153578045308227}. Best is trial 16 with value: 0.7532673814968384.\u001b[0m\n",
            "\u001b[32m[I 2021-12-03 13:26:30,012]\u001b[0m Trial 71 finished with value: 0.7511664183765985 and parameters: {'svc_kernel': 'rbf', 'svc_C': 5.031825074962036, 'svc_gamma': 0.0419710384074834, 'threshold': 0.04265893800201623}. Best is trial 16 with value: 0.7532673814968384.\u001b[0m\n",
            "\u001b[32m[I 2021-12-03 13:26:44,209]\u001b[0m Trial 72 finished with value: 0.7503487981602692 and parameters: {'svc_kernel': 'rbf', 'svc_C': 16.572984281825157, 'svc_gamma': 0.04078722675790462, 'threshold': 0.04723806606717747}. Best is trial 16 with value: 0.7532673814968384.\u001b[0m\n",
            "\u001b[32m[I 2021-12-03 13:27:00,254]\u001b[0m Trial 73 finished with value: 0.7478978448149609 and parameters: {'svc_kernel': 'rbf', 'svc_C': 4.229468916666319, 'svc_gamma': 0.06545059110801378, 'threshold': 0.050557713820755364}. Best is trial 16 with value: 0.7532673814968384.\u001b[0m\n",
            "\u001b[32m[I 2021-12-03 13:27:16,728]\u001b[0m Trial 74 finished with value: 0.7489486329060292 and parameters: {'svc_kernel': 'rbf', 'svc_C': 1.500753986976453, 'svc_gamma': 0.10771210337509274, 'threshold': 0.05624259364629702}. Best is trial 16 with value: 0.7532673814968384.\u001b[0m\n",
            "\u001b[32m[I 2021-12-03 13:27:30,603]\u001b[0m Trial 75 finished with value: 0.7508158832076216 and parameters: {'svc_kernel': 'rbf', 'svc_C': 20.60980274485539, 'svc_gamma': 0.027047542205103976, 'threshold': 0.04284239477574395}. Best is trial 16 with value: 0.7532673814968384.\u001b[0m\n",
            "\u001b[32m[I 2021-12-03 13:27:51,133]\u001b[0m Trial 76 finished with value: 0.7271222670211526 and parameters: {'svc_kernel': 'rbf', 'svc_C': 11.82856082845092, 'svc_gamma': 0.4932371551451421, 'threshold': 0.025462516398296428}. Best is trial 16 with value: 0.7532673814968384.\u001b[0m\n",
            "\u001b[32m[I 2021-12-03 13:28:08,670]\u001b[0m Trial 77 finished with value: 0.7436957142205155 and parameters: {'svc_kernel': 'rbf', 'svc_C': 34.48830513508254, 'svc_gamma': 0.08976411422003654, 'threshold': 0.04622888350227976}. Best is trial 16 with value: 0.7532673814968384.\u001b[0m\n",
            "\u001b[32m[I 2021-12-03 13:28:32,060]\u001b[0m Trial 78 finished with value: 0.7411286197047631 and parameters: {'svc_kernel': 'rbf', 'svc_C': 113.13584375847981, 'svc_gamma': 0.049710701728201176, 'threshold': 0.05517530578884269}. Best is trial 16 with value: 0.7532673814968384.\u001b[0m\n",
            "\u001b[32m[I 2021-12-03 13:28:46,478]\u001b[0m Trial 79 finished with value: 0.7495312460619287 and parameters: {'svc_kernel': 'rbf', 'svc_C': 45.32617849670015, 'svc_gamma': 0.01039621558515666, 'threshold': 0.028262820584854683}. Best is trial 16 with value: 0.7532673814968384.\u001b[0m\n",
            "\u001b[32m[I 2021-12-03 13:29:18,128]\u001b[0m Trial 80 finished with value: 0.7131161868094965 and parameters: {'svc_kernel': 'rbf', 'svc_C': 88.88371558360545, 'svc_gamma': 0.46417427527168054, 'threshold': 0.03384970717009203}. Best is trial 16 with value: 0.7532673814968384.\u001b[0m\n",
            "\u001b[32m[I 2021-12-03 13:29:31,967]\u001b[0m Trial 81 finished with value: 0.7497646182906335 and parameters: {'svc_kernel': 'rbf', 'svc_C': 6.46913449170551, 'svc_gamma': 0.0692030361782532, 'threshold': 0.039749739571317805}. Best is trial 16 with value: 0.7532673814968384.\u001b[0m\n",
            "\u001b[32m[I 2021-12-03 13:29:45,679]\u001b[0m Trial 82 finished with value: 0.751399381897372 and parameters: {'svc_kernel': 'rbf', 'svc_C': 12.46274465349228, 'svc_gamma': 0.030945266774331483, 'threshold': 0.04876960100904228}. Best is trial 16 with value: 0.7532673814968384.\u001b[0m\n",
            "\u001b[32m[I 2021-12-03 13:29:59,450]\u001b[0m Trial 83 finished with value: 0.7508159513256102 and parameters: {'svc_kernel': 'rbf', 'svc_C': 11.610053660983713, 'svc_gamma': 0.040534083457955776, 'threshold': 0.04385379958708864}. Best is trial 16 with value: 0.7532673814968384.\u001b[0m\n",
            "\u001b[32m[I 2021-12-03 13:30:16,514]\u001b[0m Trial 84 finished with value: 0.7481318301055625 and parameters: {'svc_kernel': 'rbf', 'svc_C': 19.95177490401016, 'svc_gamma': 0.023885728733613693, 'threshold': 0.05231365921463194}. Best is trial 16 with value: 0.7532673814968384.\u001b[0m\n",
            "\u001b[32m[I 2021-12-03 13:30:30,384]\u001b[0m Trial 85 finished with value: 0.7492985550131093 and parameters: {'svc_kernel': 'rbf', 'svc_C': 27.123909216470967, 'svc_gamma': 0.011666037304628268, 'threshold': 0.037294951605897186}. Best is trial 16 with value: 0.7532673814968384.\u001b[0m\n",
            "\u001b[32m[I 2021-12-03 13:30:44,066]\u001b[0m Trial 86 finished with value: 0.750465756746576 and parameters: {'svc_kernel': 'rbf', 'svc_C': 6.1962895392777675, 'svc_gamma': 0.05176495597763825, 'threshold': 0.0407639756737018}. Best is trial 16 with value: 0.7532673814968384.\u001b[0m\n",
            "\u001b[32m[I 2021-12-03 13:31:00,352]\u001b[0m Trial 87 finished with value: 0.7501154259315646 and parameters: {'svc_kernel': 'rbf', 'svc_C': 14.809648131245078, 'svc_gamma': 0.03159280164760972, 'threshold': 0.06097283238852305}. Best is trial 16 with value: 0.7532673814968384.\u001b[0m\n",
            "\u001b[32m[I 2021-12-03 13:31:14,718]\u001b[0m Trial 88 finished with value: 0.7484811391507458 and parameters: {'svc_kernel': 'rbf', 'svc_C': 11.002985490858405, 'svc_gamma': 0.07820349825028766, 'threshold': 0.04735957340861247}. Best is trial 16 with value: 0.7532673814968384.\u001b[0m\n",
            "\u001b[32m[I 2021-12-03 13:31:42,480]\u001b[0m Trial 89 finished with value: 0.7419451500332757 and parameters: {'svc_kernel': 'rbf', 'svc_C': 199.87145787966796, 'svc_gamma': 0.057284883232311165, 'threshold': 0.05013163439147571}. Best is trial 16 with value: 0.7532673814968384.\u001b[0m\n",
            "\u001b[32m[I 2021-12-03 13:31:56,574]\u001b[0m Trial 90 finished with value: 0.7511660096686672 and parameters: {'svc_kernel': 'rbf', 'svc_C': 1.8227848094730774, 'svc_gamma': 0.01030158891135343, 'threshold': 0.04519918018836902}. Best is trial 16 with value: 0.7532673814968384.\u001b[0m\n",
            "\u001b[32m[I 2021-12-03 13:32:10,216]\u001b[0m Trial 91 finished with value: 0.751516136129713 and parameters: {'svc_kernel': 'rbf', 'svc_C': 1.0358739864805815, 'svc_gamma': 0.06960897106238705, 'threshold': 0.04832804199808492}. Best is trial 16 with value: 0.7532673814968384.\u001b[0m\n",
            "\u001b[32m[I 2021-12-03 13:32:26,921]\u001b[0m Trial 92 finished with value: 0.7478978448149609 and parameters: {'svc_kernel': 'rbf', 'svc_C': 7.101287818061639, 'svc_gamma': 0.03679121377839743, 'threshold': 0.05245528415272607}. Best is trial 16 with value: 0.7532673814968384.\u001b[0m\n",
            "\u001b[32m[I 2021-12-03 13:32:45,840]\u001b[0m Trial 93 finished with value: 0.7438105611491778 and parameters: {'svc_kernel': 'rbf', 'svc_C': 17.003112957106524, 'svc_gamma': 0.23088740920190737, 'threshold': 0.06742106759375899}. Best is trial 16 with value: 0.7532673814968384.\u001b[0m\n",
            "\u001b[32m[I 2021-12-03 13:32:59,982]\u001b[0m Trial 94 finished with value: 0.7519829487051111 and parameters: {'svc_kernel': 'rbf', 'svc_C': 1.037286034961326, 'svc_gamma': 0.0255838604932462, 'threshold': 0.03601126329544557}. Best is trial 16 with value: 0.7532673814968384.\u001b[0m\n",
            "\u001b[32m[I 2021-12-03 13:33:14,023]\u001b[0m Trial 95 finished with value: 0.7476642682322904 and parameters: {'svc_kernel': 'rbf', 'svc_C': 4.843325229831592, 'svc_gamma': 0.10172321211425422, 'threshold': 0.03643442165629253}. Best is trial 16 with value: 0.7532673814968384.\u001b[0m\n",
            "\u001b[32m[I 2021-12-03 13:33:27,699]\u001b[0m Trial 96 finished with value: 0.7501154940495531 and parameters: {'svc_kernel': 'rbf', 'svc_C': 1.312297998394926, 'svc_gamma': 0.06648448482808794, 'threshold': 0.03215126019924679}. Best is trial 16 with value: 0.7532673814968384.\u001b[0m\n",
            "\u001b[32m[I 2021-12-03 13:33:41,713]\u001b[0m Trial 97 finished with value: 0.7502322482818942 and parameters: {'svc_kernel': 'rbf', 'svc_C': 22.346138457923587, 'svc_gamma': 0.02028239241807308, 'threshold': 0.03972531023065121}. Best is trial 16 with value: 0.7532673814968384.\u001b[0m\n",
            "\u001b[32m[I 2021-12-03 13:33:57,501]\u001b[0m Trial 98 finished with value: 0.7434627506997421 and parameters: {'svc_kernel': 'rbf', 'svc_C': 7.54994689971033, 'svc_gamma': 0.00036301252811031873, 'threshold': 0.03441154944807027}. Best is trial 16 with value: 0.7532673814968384.\u001b[0m\n",
            "\u001b[32m[I 2021-12-03 13:34:18,038]\u001b[0m Trial 99 finished with value: 0.7404269363049125 and parameters: {'svc_kernel': 'rbf', 'svc_C': 69.02694887746955, 'svc_gamma': 0.0842322789845168, 'threshold': 0.04306826028173822}. Best is trial 16 with value: 0.7532673814968384.\u001b[0m\n"
          ]
        }
      ]
    },
    {
      "cell_type": "markdown",
      "metadata": {
        "id": "wLmzIBTKkS_x"
      },
      "source": [
        "Παρατηρούμε ότι η μέγιστη επίδοση που πετυχαίνουμε για kernel = rbf είναι 75.44% accuracy.\n",
        "Την επίδοση αυτή την πετυχαίνουμε για τις ακόλουθες τιμές υπερπαραμέτρων:\n",
        "\n",
        "* kernel = rbf\n",
        "* C =  1.384105550450471 \n",
        "* gamma = 'auto' \n",
        "* threshold =0.009180125108883955\n",
        "\n"
      ]
    },
    {
      "cell_type": "code",
      "metadata": {
        "colab": {
          "base_uri": "https://localhost:8080/"
        },
        "id": "mTdz1EsTFFX1",
        "outputId": "cbdab5ab-9ea8-4060-de31-f3dd0a0927f5"
      },
      "source": [
        "import optuna\n",
        "from sklearn.svm import SVC\n",
        "from sklearn.model_selection import cross_val_score\n",
        "\n",
        "from sklearn.pipeline import Pipeline\n",
        "from sklearn import preprocessing\n",
        "from sklearn.feature_selection import VarianceThreshold\n",
        "\n",
        "def objective(trial):\n",
        "\n",
        "    \n",
        "    svc_kernel = trial.suggest_categorical('svc_kernel',['rbf'])\n",
        "    svc_C = trial.suggest_float('svc_C',1,200)\n",
        "\n",
        "    svc_gamma = trial.suggest_float('svc_gamma',0.0,0.5) \n",
        "\n",
        "    svm = SVC(kernel = svc_kernel,gamma = svc_gamma , C = svc_C)\n",
        "\n",
        "    threshold = trial.suggest_float('threshold', 0, 0.1)\n",
        "\n",
        "    clf = Pipeline(steps = [('minmax_scaler', preprocessing.MinMaxScaler()), ('selector', VarianceThreshold(threshold)), ('svm', svm)])\n",
        "  \n",
        "\n",
        "    return np.mean(cross_val_score(clf, X_train_small, y_train_small, cv = 5, scoring = 'f1' , n_jobs = -1))\n",
        "\n",
        "study = optuna.create_study(direction = 'maximize')\n",
        "study.optimize(objective, n_trials = 100)"
      ],
      "execution_count": null,
      "outputs": [
        {
          "output_type": "stream",
          "name": "stderr",
          "text": [
            "\u001b[32m[I 2021-12-03 16:15:45,638]\u001b[0m A new study created in memory with name: no-name-439f659c-e5eb-41d7-a0bf-bb5946f23562\u001b[0m\n",
            "\u001b[32m[I 2021-12-03 16:15:55,279]\u001b[0m Trial 0 finished with value: 0.6968786707056358 and parameters: {'svc_kernel': 'rbf', 'svc_C': 153.55237166039157, 'svc_gamma': 0.18537706627058215, 'threshold': 0.027225552062338357}. Best is trial 0 with value: 0.6968786707056358.\u001b[0m\n",
            "\u001b[32m[I 2021-12-03 16:16:01,372]\u001b[0m Trial 1 finished with value: 0.7113366067929625 and parameters: {'svc_kernel': 'rbf', 'svc_C': 104.50657418446573, 'svc_gamma': 0.31311826542887655, 'threshold': 0.08986034242780984}. Best is trial 1 with value: 0.7113366067929625.\u001b[0m\n",
            "\u001b[32m[I 2021-12-03 16:16:05,288]\u001b[0m Trial 2 finished with value: 0.7190124622520854 and parameters: {'svc_kernel': 'rbf', 'svc_C': 21.957544056555754, 'svc_gamma': 0.4456108887051065, 'threshold': 0.09723090129574083}. Best is trial 2 with value: 0.7190124622520854.\u001b[0m\n",
            "\u001b[32m[I 2021-12-03 16:16:09,982]\u001b[0m Trial 3 finished with value: 0.7242710746791168 and parameters: {'svc_kernel': 'rbf', 'svc_C': 65.62786945587457, 'svc_gamma': 0.16562383983526202, 'threshold': 0.08213919757463795}. Best is trial 3 with value: 0.7242710746791168.\u001b[0m\n",
            "\u001b[32m[I 2021-12-03 16:16:15,886]\u001b[0m Trial 4 finished with value: 0.7234780702354637 and parameters: {'svc_kernel': 'rbf', 'svc_C': 99.07777331165556, 'svc_gamma': 0.11230054182913612, 'threshold': 0.04731499287971826}. Best is trial 3 with value: 0.7242710746791168.\u001b[0m\n",
            "\u001b[32m[I 2021-12-03 16:16:24,024]\u001b[0m Trial 5 finished with value: 0.6969525529606174 and parameters: {'svc_kernel': 'rbf', 'svc_C': 173.8424634036584, 'svc_gamma': 0.27889680724475713, 'threshold': 0.022807030798072326}. Best is trial 3 with value: 0.7242710746791168.\u001b[0m\n",
            "\u001b[32m[I 2021-12-03 16:16:30,049]\u001b[0m Trial 6 finished with value: 0.7079659128852599 and parameters: {'svc_kernel': 'rbf', 'svc_C': 116.97625889549829, 'svc_gamma': 0.2724227477161093, 'threshold': 0.08860033008130176}. Best is trial 3 with value: 0.7242710746791168.\u001b[0m\n",
            "\u001b[32m[I 2021-12-03 16:16:37,809]\u001b[0m Trial 7 finished with value: 0.7210853585358199 and parameters: {'svc_kernel': 'rbf', 'svc_C': 161.35774440146125, 'svc_gamma': 0.05668640776632655, 'threshold': 0.00460155602980048}. Best is trial 3 with value: 0.7242710746791168.\u001b[0m\n",
            "\u001b[32m[I 2021-12-03 16:16:42,701]\u001b[0m Trial 8 finished with value: 0.741549909387213 and parameters: {'svc_kernel': 'rbf', 'svc_C': 120.04145839375647, 'svc_gamma': 0.022484538417359534, 'threshold': 0.017188550785487457}. Best is trial 8 with value: 0.741549909387213.\u001b[0m\n",
            "\u001b[32m[I 2021-12-03 16:16:50,759]\u001b[0m Trial 9 finished with value: 0.7104269697352502 and parameters: {'svc_kernel': 'rbf', 'svc_C': 111.65460569182058, 'svc_gamma': 0.29550597737584094, 'threshold': 5.4314012437950425e-05}. Best is trial 8 with value: 0.741549909387213.\u001b[0m\n",
            "\u001b[32m[I 2021-12-03 16:16:54,244]\u001b[0m Trial 10 finished with value: 0.7407929537695415 and parameters: {'svc_kernel': 'rbf', 'svc_C': 7.243987432851171, 'svc_gamma': 0.016637837100742556, 'threshold': 0.0603135878618769}. Best is trial 8 with value: 0.741549909387213.\u001b[0m\n",
            "\u001b[32m[I 2021-12-03 16:16:57,840]\u001b[0m Trial 11 finished with value: 0.7414823503274969 and parameters: {'svc_kernel': 'rbf', 'svc_C': 2.9962884601707316, 'svc_gamma': 0.01193429567240666, 'threshold': 0.06488663407585583}. Best is trial 8 with value: 0.741549909387213.\u001b[0m\n",
            "\u001b[32m[I 2021-12-03 16:17:01,281]\u001b[0m Trial 12 finished with value: 0.7387608619586491 and parameters: {'svc_kernel': 'rbf', 'svc_C': 51.6171774058839, 'svc_gamma': 0.004744311576812179, 'threshold': 0.06523363687812991}. Best is trial 8 with value: 0.741549909387213.\u001b[0m\n",
            "\u001b[32m[I 2021-12-03 16:17:06,011]\u001b[0m Trial 13 finished with value: 0.7376035604084065 and parameters: {'svc_kernel': 'rbf', 'svc_C': 50.859811863313894, 'svc_gamma': 0.0940205393788486, 'threshold': 0.03958287142307189}. Best is trial 8 with value: 0.741549909387213.\u001b[0m\n",
            "\u001b[32m[I 2021-12-03 16:17:13,944]\u001b[0m Trial 14 finished with value: 0.6807988646144821 and parameters: {'svc_kernel': 'rbf', 'svc_C': 135.99386022643407, 'svc_gamma': 0.4046794876500236, 'threshold': 0.06905407432220197}. Best is trial 8 with value: 0.741549909387213.\u001b[0m\n",
            "\u001b[32m[I 2021-12-03 16:17:21,116]\u001b[0m Trial 15 finished with value: 0.6995999878944639 and parameters: {'svc_kernel': 'rbf', 'svc_C': 74.73128363088038, 'svc_gamma': 0.17877236918566117, 'threshold': 0.021627183430815766}. Best is trial 8 with value: 0.741549909387213.\u001b[0m\n",
            "\u001b[32m[I 2021-12-03 16:17:28,646]\u001b[0m Trial 16 finished with value: 0.7207700051329616 and parameters: {'svc_kernel': 'rbf', 'svc_C': 195.49012866294146, 'svc_gamma': 0.09520801253300108, 'threshold': 0.038555836860109896}. Best is trial 8 with value: 0.741549909387213.\u001b[0m\n",
            "\u001b[32m[I 2021-12-03 16:17:32,672]\u001b[0m Trial 17 finished with value: 0.737229908312534 and parameters: {'svc_kernel': 'rbf', 'svc_C': 85.19198062785978, 'svc_gamma': 0.051509719214757096, 'threshold': 0.07532973249666805}. Best is trial 8 with value: 0.741549909387213.\u001b[0m\n",
            "\u001b[32m[I 2021-12-03 16:17:40,615]\u001b[0m Trial 18 finished with value: 0.6746104463030613 and parameters: {'svc_kernel': 'rbf', 'svc_C': 133.84196144195187, 'svc_gamma': 0.3729193254063446, 'threshold': 0.0546085627845377}. Best is trial 8 with value: 0.741549909387213.\u001b[0m\n",
            "\u001b[32m[I 2021-12-03 16:17:46,496]\u001b[0m Trial 19 finished with value: 0.7082798916198944 and parameters: {'svc_kernel': 'rbf', 'svc_C': 37.59545934547222, 'svc_gamma': 0.21815924360358535, 'threshold': 0.01193840861963369}. Best is trial 8 with value: 0.741549909387213.\u001b[0m\n",
            "\u001b[32m[I 2021-12-03 16:17:50,125]\u001b[0m Trial 20 finished with value: 0.7401005040882187 and parameters: {'svc_kernel': 'rbf', 'svc_C': 2.2912807885767474, 'svc_gamma': 0.13320746330020228, 'threshold': 0.03551774725610099}. Best is trial 8 with value: 0.741549909387213.\u001b[0m\n",
            "\u001b[32m[I 2021-12-03 16:17:53,896]\u001b[0m Trial 21 finished with value: 0.7360687805763345 and parameters: {'svc_kernel': 'rbf', 'svc_C': 8.58731290398531, 'svc_gamma': 0.0023893753474575376, 'threshold': 0.05764616445042371}. Best is trial 8 with value: 0.741549909387213.\u001b[0m\n",
            "\u001b[32m[I 2021-12-03 16:17:57,592]\u001b[0m Trial 22 finished with value: 0.7398688039453225 and parameters: {'svc_kernel': 'rbf', 'svc_C': 17.139618794462947, 'svc_gamma': 0.044875061566072454, 'threshold': 0.04897412149967058}. Best is trial 8 with value: 0.741549909387213.\u001b[0m\n",
            "\u001b[32m[I 2021-12-03 16:18:01,316]\u001b[0m Trial 23 finished with value: 0.7359962021684139 and parameters: {'svc_kernel': 'rbf', 'svc_C': 37.60526369015071, 'svc_gamma': 0.0006091622906930182, 'threshold': 0.06385943998541291}. Best is trial 8 with value: 0.741549909387213.\u001b[0m\n",
            "\u001b[32m[I 2021-12-03 16:18:04,717]\u001b[0m Trial 24 finished with value: 0.7411269741160689 and parameters: {'svc_kernel': 'rbf', 'svc_C': 26.265760936392212, 'svc_gamma': 0.05758570461159812, 'threshold': 0.07888298474958826}. Best is trial 8 with value: 0.741549909387213.\u001b[0m\n",
            "\u001b[32m[I 2021-12-03 16:18:08,404]\u001b[0m Trial 25 finished with value: 0.7390574056754873 and parameters: {'svc_kernel': 'rbf', 'svc_C': 34.13448142816423, 'svc_gamma': 0.07375540963700476, 'threshold': 0.07536860972590369}. Best is trial 8 with value: 0.741549909387213.\u001b[0m\n",
            "\u001b[32m[I 2021-12-03 16:18:13,292]\u001b[0m Trial 26 finished with value: 0.7277470650223771 and parameters: {'svc_kernel': 'rbf', 'svc_C': 85.91794989890388, 'svc_gamma': 0.14245577304185403, 'threshold': 0.08148313178887756}. Best is trial 8 with value: 0.741549909387213.\u001b[0m\n",
            "\u001b[32m[I 2021-12-03 16:18:20,506]\u001b[0m Trial 27 finished with value: 0.7011057634133784 and parameters: {'svc_kernel': 'rbf', 'svc_C': 126.80216735707118, 'svc_gamma': 0.4987260181368852, 'threshold': 0.09761657180932991}. Best is trial 8 with value: 0.741549909387213.\u001b[0m\n",
            "\u001b[32m[I 2021-12-03 16:18:25,641]\u001b[0m Trial 28 finished with value: 0.7142658430182438 and parameters: {'svc_kernel': 'rbf', 'svc_C': 56.8557324547269, 'svc_gamma': 0.22228439423317709, 'threshold': 0.07177314094283943}. Best is trial 8 with value: 0.741549909387213.\u001b[0m\n",
            "\u001b[32m[I 2021-12-03 16:18:30,679]\u001b[0m Trial 29 finished with value: 0.7291862011011663 and parameters: {'svc_kernel': 'rbf', 'svc_C': 149.34346165380805, 'svc_gamma': 0.03909857514252371, 'threshold': 0.030414238580559777}. Best is trial 8 with value: 0.741549909387213.\u001b[0m\n",
            "\u001b[32m[I 2021-12-03 16:18:35,280]\u001b[0m Trial 30 finished with value: 0.7309116815685263 and parameters: {'svc_kernel': 'rbf', 'svc_C': 25.88926802790166, 'svc_gamma': 0.08525177476486631, 'threshold': 0.01813111336570716}. Best is trial 8 with value: 0.741549909387213.\u001b[0m\n",
            "\u001b[32m[I 2021-12-03 16:18:38,918]\u001b[0m Trial 31 finished with value: 0.7430761633522924 and parameters: {'svc_kernel': 'rbf', 'svc_C': 5.599531695132344, 'svc_gamma': 0.029369835600058722, 'threshold': 0.05977287541774455}. Best is trial 31 with value: 0.7430761633522924.\u001b[0m\n",
            "\u001b[32m[I 2021-12-03 16:18:42,636]\u001b[0m Trial 32 finished with value: 0.7410507345767715 and parameters: {'svc_kernel': 'rbf', 'svc_C': 17.512000245826464, 'svc_gamma': 0.03336681145037248, 'threshold': 0.05201596694538231}. Best is trial 31 with value: 0.7430761633522924.\u001b[0m\n",
            "\u001b[32m[I 2021-12-03 16:18:46,232]\u001b[0m Trial 33 finished with value: 0.7415698854148056 and parameters: {'svc_kernel': 'rbf', 'svc_C': 3.153466687385873, 'svc_gamma': 0.1323559248737265, 'threshold': 0.044181806714800466}. Best is trial 31 with value: 0.7430761633522924.\u001b[0m\n",
            "\u001b[32m[I 2021-12-03 16:18:49,797]\u001b[0m Trial 34 finished with value: 0.7384469732893363 and parameters: {'svc_kernel': 'rbf', 'svc_C': 2.1668047343389816, 'svc_gamma': 0.12209409035786492, 'threshold': 0.0448437862630131}. Best is trial 31 with value: 0.7430761633522924.\u001b[0m\n",
            "\u001b[32m[I 2021-12-03 16:18:53,887]\u001b[0m Trial 35 finished with value: 0.7315562600398209 and parameters: {'svc_kernel': 'rbf', 'svc_C': 15.575204242107684, 'svc_gamma': 0.20923399151537542, 'threshold': 0.03256712497640827}. Best is trial 31 with value: 0.7430761633522924.\u001b[0m\n",
            "\u001b[32m[I 2021-12-03 16:18:59,707]\u001b[0m Trial 36 finished with value: 0.7120311709043026 and parameters: {'svc_kernel': 'rbf', 'svc_C': 45.01416905637761, 'svc_gamma': 0.1420097728644713, 'threshold': 0.01023676457820593}. Best is trial 31 with value: 0.7430761633522924.\u001b[0m\n",
            "\u001b[32m[I 2021-12-03 16:19:04,179]\u001b[0m Trial 37 finished with value: 0.7367365385542942 and parameters: {'svc_kernel': 'rbf', 'svc_C': 90.8090072871553, 'svc_gamma': 0.10964349326169545, 'threshold': 0.08798013286764446}. Best is trial 31 with value: 0.7430761633522924.\u001b[0m\n",
            "\u001b[32m[I 2021-12-03 16:19:10,439]\u001b[0m Trial 38 finished with value: 0.7143691033317584 and parameters: {'svc_kernel': 'rbf', 'svc_C': 71.05244368343014, 'svc_gamma': 0.16226759679883, 'threshold': 0.027356452339510277}. Best is trial 31 with value: 0.7430761633522924.\u001b[0m\n",
            "\u001b[32m[I 2021-12-03 16:19:14,870]\u001b[0m Trial 39 finished with value: 0.7395286667678693 and parameters: {'svc_kernel': 'rbf', 'svc_C': 102.26410111845833, 'svc_gamma': 0.028485201785878024, 'threshold': 0.04272356224484222}. Best is trial 31 with value: 0.7430761633522924.\u001b[0m\n",
            "\u001b[32m[I 2021-12-03 16:19:18,798]\u001b[0m Trial 40 finished with value: 0.7411612435729604 and parameters: {'svc_kernel': 'rbf', 'svc_C': 31.094013140148498, 'svc_gamma': 0.06899063340676836, 'threshold': 0.06047431108910827}. Best is trial 31 with value: 0.7430761633522924.\u001b[0m\n",
            "\u001b[32m[I 2021-12-03 16:19:22,900]\u001b[0m Trial 41 finished with value: 0.7412012753166256 and parameters: {'svc_kernel': 'rbf', 'svc_C': 28.331293180813855, 'svc_gamma': 0.07599000335157535, 'threshold': 0.05964180809598897}. Best is trial 31 with value: 0.7430761633522924.\u001b[0m\n",
            "\u001b[32m[I 2021-12-03 16:19:26,595]\u001b[0m Trial 42 finished with value: 0.7418625109031104 and parameters: {'svc_kernel': 'rbf', 'svc_C': 12.493920251320006, 'svc_gamma': 0.025749698957023528, 'threshold': 0.05312223773878954}. Best is trial 31 with value: 0.7430761633522924.\u001b[0m\n",
            "\u001b[32m[I 2021-12-03 16:19:30,256]\u001b[0m Trial 43 finished with value: 0.7417459324301485 and parameters: {'svc_kernel': 'rbf', 'svc_C': 13.056005365928861, 'svc_gamma': 0.024485949967222392, 'threshold': 0.05328560060404133}. Best is trial 31 with value: 0.7430761633522924.\u001b[0m\n",
            "\u001b[32m[I 2021-12-03 16:19:33,912]\u001b[0m Trial 44 finished with value: 0.7440055123939683 and parameters: {'svc_kernel': 'rbf', 'svc_C': 13.140794223071264, 'svc_gamma': 0.03533104483336809, 'threshold': 0.05333150379642726}. Best is trial 44 with value: 0.7440055123939683.\u001b[0m\n",
            "\u001b[32m[I 2021-12-03 16:19:38,431]\u001b[0m Trial 45 finished with value: 0.7209388742026845 and parameters: {'svc_kernel': 'rbf', 'svc_C': 12.876837665543553, 'svc_gamma': 0.3322686697927433, 'threshold': 0.0527903291918934}. Best is trial 44 with value: 0.7440055123939683.\u001b[0m\n",
            "\u001b[32m[I 2021-12-03 16:19:42,459]\u001b[0m Trial 46 finished with value: 0.7423758701265923 and parameters: {'svc_kernel': 'rbf', 'svc_C': 20.819846923189846, 'svc_gamma': 0.09816915807875014, 'threshold': 0.04780270461046632}. Best is trial 44 with value: 0.7440055123939683.\u001b[0m\n",
            "\u001b[32m[I 2021-12-03 16:19:46,436]\u001b[0m Trial 47 finished with value: 0.73918532891901 and parameters: {'svc_kernel': 'rbf', 'svc_C': 44.27871943914128, 'svc_gamma': 0.02895790102756445, 'threshold': 0.04908460696379023}. Best is trial 44 with value: 0.7440055123939683.\u001b[0m\n",
            "\u001b[32m[I 2021-12-03 16:19:50,454]\u001b[0m Trial 48 finished with value: 0.7432326436360737 and parameters: {'svc_kernel': 'rbf', 'svc_C': 19.94263837531076, 'svc_gamma': 0.0973729038692329, 'threshold': 0.055559909235236106}. Best is trial 44 with value: 0.7440055123939683.\u001b[0m\n",
            "\u001b[32m[I 2021-12-03 16:19:54,275]\u001b[0m Trial 49 finished with value: 0.7375387167894316 and parameters: {'svc_kernel': 'rbf', 'svc_C': 24.345291363527707, 'svc_gamma': 0.10315484436288207, 'threshold': 0.06823030893987142}. Best is trial 44 with value: 0.7440055123939683.\u001b[0m\n",
            "\u001b[32m[I 2021-12-03 16:19:59,731]\u001b[0m Trial 50 finished with value: 0.7168869448359247 and parameters: {'svc_kernel': 'rbf', 'svc_C': 60.902367271908616, 'svc_gamma': 0.1614455395311315, 'threshold': 0.055361511522540034}. Best is trial 44 with value: 0.7440055123939683.\u001b[0m\n",
            "\u001b[32m[I 2021-12-03 16:20:03,341]\u001b[0m Trial 51 finished with value: 0.7434980992210716 and parameters: {'svc_kernel': 'rbf', 'svc_C': 12.275515608475166, 'svc_gamma': 0.06116363532942021, 'threshold': 0.04739530511725481}. Best is trial 44 with value: 0.7440055123939683.\u001b[0m\n",
            "\u001b[32m[I 2021-12-03 16:20:07,081]\u001b[0m Trial 52 finished with value: 0.7420240098666535 and parameters: {'svc_kernel': 'rbf', 'svc_C': 20.127473500025996, 'svc_gamma': 0.06173469059815814, 'threshold': 0.04672518491314498}. Best is trial 44 with value: 0.7440055123939683.\u001b[0m\n",
            "\u001b[32m[I 2021-12-03 16:20:10,871]\u001b[0m Trial 53 finished with value: 0.7404497787646037 and parameters: {'svc_kernel': 'rbf', 'svc_C': 21.207948430630825, 'svc_gamma': 0.06159304371450457, 'threshold': 0.045513191111951457}. Best is trial 44 with value: 0.7440055123939683.\u001b[0m\n",
            "\u001b[32m[I 2021-12-03 16:20:15,298]\u001b[0m Trial 54 finished with value: 0.7426900556683614 and parameters: {'svc_kernel': 'rbf', 'svc_C': 37.23272352133687, 'svc_gamma': 0.09082260001484119, 'threshold': 0.03962682620098918}. Best is trial 44 with value: 0.7440055123939683.\u001b[0m\n",
            "\u001b[32m[I 2021-12-03 16:20:19,715]\u001b[0m Trial 55 finished with value: 0.7411539623588376 and parameters: {'svc_kernel': 'rbf', 'svc_C': 36.88635523245024, 'svc_gamma': 0.09420297566633207, 'threshold': 0.0404368981972967}. Best is trial 44 with value: 0.7440055123939683.\u001b[0m\n",
            "\u001b[32m[I 2021-12-03 16:20:24,345]\u001b[0m Trial 56 finished with value: 0.7337340605039901 and parameters: {'svc_kernel': 'rbf', 'svc_C': 46.34473764471211, 'svc_gamma': 0.11111665824611554, 'threshold': 0.034828457130467456}. Best is trial 44 with value: 0.7440055123939683.\u001b[0m\n",
            "\u001b[32m[I 2021-12-03 16:20:28,268]\u001b[0m Trial 57 finished with value: 0.7423816363857577 and parameters: {'svc_kernel': 'rbf', 'svc_C': 7.423643583819441, 'svc_gamma': 0.25527777675312535, 'threshold': 0.03930431917777228}. Best is trial 44 with value: 0.7440055123939683.\u001b[0m\n",
            "\u001b[32m[I 2021-12-03 16:20:32,356]\u001b[0m Trial 58 finished with value: 0.7356688041714168 and parameters: {'svc_kernel': 'rbf', 'svc_C': 8.662242472584946, 'svc_gamma': 0.29208913573001616, 'threshold': 0.038097021632312114}. Best is trial 44 with value: 0.7440055123939683.\u001b[0m\n",
            "\u001b[32m[I 2021-12-03 16:20:36,317]\u001b[0m Trial 59 finished with value: 0.7276910927567705 and parameters: {'svc_kernel': 'rbf', 'svc_C': 8.108092063899983, 'svc_gamma': 0.3195347319321143, 'threshold': 0.06285637936548055}. Best is trial 44 with value: 0.7440055123939683.\u001b[0m\n",
            "\u001b[32m[I 2021-12-03 16:20:41,732]\u001b[0m Trial 60 finished with value: 0.7134843235584369 and parameters: {'svc_kernel': 'rbf', 'svc_C': 32.08945966077752, 'svc_gamma': 0.2554007294274472, 'threshold': 0.027136611991520395}. Best is trial 44 with value: 0.7440055123939683.\u001b[0m\n",
            "\u001b[32m[I 2021-12-03 16:20:46,022]\u001b[0m Trial 61 finished with value: 0.7292093178518966 and parameters: {'svc_kernel': 'rbf', 'svc_C': 18.911932662489317, 'svc_gamma': 0.20466130943194386, 'threshold': 0.05739116880384885}. Best is trial 44 with value: 0.7440055123939683.\u001b[0m\n",
            "\u001b[32m[I 2021-12-03 16:20:49,991]\u001b[0m Trial 62 finished with value: 0.7361700206675141 and parameters: {'svc_kernel': 'rbf', 'svc_C': 8.371725464094101, 'svc_gamma': 0.2568864854216864, 'threshold': 0.050199178771304455}. Best is trial 44 with value: 0.7440055123939683.\u001b[0m\n",
            "\u001b[32m[I 2021-12-03 16:20:53,609]\u001b[0m Trial 63 finished with value: 0.7390321945938516 and parameters: {'svc_kernel': 'rbf', 'svc_C': 1.3246420849850944, 'svc_gamma': 0.18999653549705792, 'threshold': 0.04136100633620104}. Best is trial 44 with value: 0.7440055123939683.\u001b[0m\n",
            "\u001b[32m[I 2021-12-03 16:20:58,314]\u001b[0m Trial 64 finished with value: 0.7260663739695459 and parameters: {'svc_kernel': 'rbf', 'svc_C': 21.303747129220454, 'svc_gamma': 0.2369463991930535, 'threshold': 0.04826122481248276}. Best is trial 44 with value: 0.7440055123939683.\u001b[0m\n",
            "\u001b[32m[I 2021-12-03 16:21:02,557]\u001b[0m Trial 65 finished with value: 0.7443113832229372 and parameters: {'svc_kernel': 'rbf', 'svc_C': 40.830260700978705, 'svc_gamma': 0.05475844354582065, 'threshold': 0.037352108208676266}. Best is trial 65 with value: 0.7443113832229372.\u001b[0m\n",
            "\u001b[32m[I 2021-12-03 16:21:06,658]\u001b[0m Trial 66 finished with value: 0.7434383662166866 and parameters: {'svc_kernel': 'rbf', 'svc_C': 41.259693227140374, 'svc_gamma': 0.0519618591637512, 'threshold': 0.038454623760667266}. Best is trial 65 with value: 0.7443113832229372.\u001b[0m\n",
            "\u001b[32m[I 2021-12-03 16:21:10,871]\u001b[0m Trial 67 finished with value: 0.7433022932892199 and parameters: {'svc_kernel': 'rbf', 'svc_C': 39.92755821700646, 'svc_gamma': 0.047638752054034096, 'threshold': 0.03705598860412306}. Best is trial 65 with value: 0.7443113832229372.\u001b[0m\n",
            "\u001b[32m[I 2021-12-03 16:21:14,819]\u001b[0m Trial 68 finished with value: 0.7434744929071517 and parameters: {'svc_kernel': 'rbf', 'svc_C': 52.44140795060508, 'svc_gamma': 0.04302864308760332, 'threshold': 0.028922050889786926}. Best is trial 65 with value: 0.7443113832229372.\u001b[0m\n",
            "\u001b[32m[I 2021-12-03 16:21:19,509]\u001b[0m Trial 69 finished with value: 0.7346238608725172 and parameters: {'svc_kernel': 'rbf', 'svc_C': 56.332220154563984, 'svc_gamma': 0.04768191296498889, 'threshold': 0.02273333544124994}. Best is trial 65 with value: 0.7443113832229372.\u001b[0m\n",
            "\u001b[32m[I 2021-12-03 16:21:23,107]\u001b[0m Trial 70 finished with value: 0.7412304910298877 and parameters: {'svc_kernel': 'rbf', 'svc_C': 71.12277646895693, 'svc_gamma': 0.013404312776888194, 'threshold': 0.02800386026012433}. Best is trial 65 with value: 0.7443113832229372.\u001b[0m\n",
            "\u001b[32m[I 2021-12-03 16:21:27,074]\u001b[0m Trial 71 finished with value: 0.7413510144683604 and parameters: {'svc_kernel': 'rbf', 'svc_C': 46.86893846911667, 'svc_gamma': 0.045514188370734024, 'threshold': 0.033839623300079384}. Best is trial 65 with value: 0.7443113832229372.\u001b[0m\n",
            "\u001b[32m[I 2021-12-03 16:21:31,802]\u001b[0m Trial 72 finished with value: 0.7429524903653184 and parameters: {'svc_kernel': 'rbf', 'svc_C': 52.821329311762526, 'svc_gamma': 0.07840260148963564, 'threshold': 0.0362086708732758}. Best is trial 65 with value: 0.7443113832229372.\u001b[0m\n",
            "\u001b[32m[I 2021-12-03 16:21:36,204]\u001b[0m Trial 73 finished with value: 0.7364901558051165 and parameters: {'svc_kernel': 'rbf', 'svc_C': 40.81369530153984, 'svc_gamma': 0.0531568462412334, 'threshold': 0.025152503784684217}. Best is trial 65 with value: 0.7443113832229372.\u001b[0m\n",
            "\u001b[32m[I 2021-12-03 16:21:39,712]\u001b[0m Trial 74 finished with value: 0.7433070290589268 and parameters: {'svc_kernel': 'rbf', 'svc_C': 63.760869306994735, 'svc_gamma': 0.01229822806841489, 'threshold': 0.030538285367453923}. Best is trial 65 with value: 0.7443113832229372.\u001b[0m\n",
            "\u001b[32m[I 2021-12-03 16:21:43,699]\u001b[0m Trial 75 finished with value: 0.7216162504931144 and parameters: {'svc_kernel': 'rbf', 'svc_C': 59.674575594639336, 'svc_gamma': 6.136369391484403e-05, 'threshold': 0.031039790577950817}. Best is trial 65 with value: 0.7443113832229372.\u001b[0m\n",
            "\u001b[32m[I 2021-12-03 16:21:47,320]\u001b[0m Trial 76 finished with value: 0.7429433088003744 and parameters: {'svc_kernel': 'rbf', 'svc_C': 65.51335835983892, 'svc_gamma': 0.015282498435664288, 'threshold': 0.030234402836610396}. Best is trial 65 with value: 0.7443113832229372.\u001b[0m\n",
            "\u001b[32m[I 2021-12-03 16:21:51,760]\u001b[0m Trial 77 finished with value: 0.7378348093418735 and parameters: {'svc_kernel': 'rbf', 'svc_C': 40.98022489148571, 'svc_gamma': 0.04357665109231791, 'threshold': 0.017655819498864044}. Best is trial 65 with value: 0.7443113832229372.\u001b[0m\n",
            "\u001b[32m[I 2021-12-03 16:21:56,268]\u001b[0m Trial 78 finished with value: 0.7452485712356332 and parameters: {'svc_kernel': 'rbf', 'svc_C': 51.68695445869879, 'svc_gamma': 0.06818287356837283, 'threshold': 0.03656049920677304}. Best is trial 78 with value: 0.7452485712356332.\u001b[0m\n",
            "\u001b[32m[I 2021-12-03 16:22:01,160]\u001b[0m Trial 79 finished with value: 0.7375838286282825 and parameters: {'svc_kernel': 'rbf', 'svc_C': 76.03703496876088, 'svc_gamma': 0.07462897452016455, 'threshold': 0.043138985881614675}. Best is trial 78 with value: 0.7452485712356332.\u001b[0m\n",
            "\u001b[32m[I 2021-12-03 16:22:05,647]\u001b[0m Trial 80 finished with value: 0.7454714354511943 and parameters: {'svc_kernel': 'rbf', 'svc_C': 51.05281870818908, 'svc_gamma': 0.06249249877487167, 'threshold': 0.03655338817254571}. Best is trial 80 with value: 0.7454714354511943.\u001b[0m\n",
            "\u001b[32m[I 2021-12-03 16:22:09,992]\u001b[0m Trial 81 finished with value: 0.7463768106517896 and parameters: {'svc_kernel': 'rbf', 'svc_C': 49.0166465572452, 'svc_gamma': 0.06071249745874641, 'threshold': 0.0372111593761334}. Best is trial 81 with value: 0.7463768106517896.\u001b[0m\n",
            "\u001b[32m[I 2021-12-03 16:22:15,310]\u001b[0m Trial 82 finished with value: 0.7324467553075824 and parameters: {'svc_kernel': 'rbf', 'svc_C': 65.12128535303938, 'svc_gamma': 0.06551436697921947, 'threshold': 0.020633480742020153}. Best is trial 81 with value: 0.7463768106517896.\u001b[0m\n",
            "\u001b[32m[I 2021-12-03 16:22:19,434]\u001b[0m Trial 83 finished with value: 0.7399394863641025 and parameters: {'svc_kernel': 'rbf', 'svc_C': 49.837670848050834, 'svc_gamma': 0.03713821818229544, 'threshold': 0.03144189995894762}. Best is trial 81 with value: 0.7463768106517896.\u001b[0m\n",
            "\u001b[32m[I 2021-12-03 16:22:23,385]\u001b[0m Trial 84 finished with value: 0.7435603024366431 and parameters: {'svc_kernel': 'rbf', 'svc_C': 80.9935716520794, 'svc_gamma': 0.01776097254611275, 'threshold': 0.03466995577181261}. Best is trial 81 with value: 0.7463768106517896.\u001b[0m\n",
            "\u001b[32m[I 2021-12-03 16:22:29,218]\u001b[0m Trial 85 finished with value: 0.7231052299866989 and parameters: {'svc_kernel': 'rbf', 'svc_C': 80.26904768069815, 'svc_gamma': 0.1232919696460599, 'threshold': 0.03461195695220235}. Best is trial 81 with value: 0.7463768106517896.\u001b[0m\n",
            "\u001b[32m[I 2021-12-03 16:22:35,434]\u001b[0m Trial 86 finished with value: 0.7187933083746619 and parameters: {'svc_kernel': 'rbf', 'svc_C': 94.31912646168385, 'svc_gamma': 0.0847441869416732, 'threshold': 0.025645677126288083}. Best is trial 81 with value: 0.7463768106517896.\u001b[0m\n",
            "\u001b[32m[I 2021-12-03 16:22:39,824]\u001b[0m Trial 87 finished with value: 0.7413615824727844 and parameters: {'svc_kernel': 'rbf', 'svc_C': 55.988113911760685, 'svc_gamma': 0.05613886286283705, 'threshold': 0.04248664785692075}. Best is trial 81 with value: 0.7463768106517896.\u001b[0m\n",
            "\u001b[32m[I 2021-12-03 16:22:43,640]\u001b[0m Trial 88 finished with value: 0.7412422458274476 and parameters: {'svc_kernel': 'rbf', 'svc_C': 30.058391224976017, 'svc_gamma': 0.034011237276451195, 'threshold': 0.03744042864605857}. Best is trial 81 with value: 0.7463768106517896.\u001b[0m\n",
            "\u001b[32m[I 2021-12-03 16:22:47,073]\u001b[0m Trial 89 finished with value: 0.7414576158547367 and parameters: {'svc_kernel': 'rbf', 'svc_C': 51.37458377774492, 'svc_gamma': 0.016776068762833343, 'threshold': 0.032972682853118565}. Best is trial 81 with value: 0.7463768106517896.\u001b[0m\n",
            "\u001b[32m[I 2021-12-03 16:22:52,528]\u001b[0m Trial 90 finished with value: 0.7342288717035546 and parameters: {'svc_kernel': 'rbf', 'svc_C': 107.37783323066128, 'svc_gamma': 0.07099682009707955, 'threshold': 0.04533111136121057}. Best is trial 81 with value: 0.7463768106517896.\u001b[0m\n",
            "\u001b[32m[I 2021-12-03 16:22:55,926]\u001b[0m Trial 91 finished with value: 0.7373454669705637 and parameters: {'svc_kernel': 'rbf', 'svc_C': 69.35677189229705, 'svc_gamma': 0.006234301396177661, 'threshold': 0.02939238297652312}. Best is trial 81 with value: 0.7463768106517896.\u001b[0m\n",
            "\u001b[32m[I 2021-12-03 16:23:00,510]\u001b[0m Trial 92 finished with value: 0.7429343042862565 and parameters: {'svc_kernel': 'rbf', 'svc_C': 60.81171801361219, 'svc_gamma': 0.026297672055588632, 'threshold': 0.013783771061022812}. Best is trial 81 with value: 0.7463768106517896.\u001b[0m\n",
            "\u001b[32m[I 2021-12-03 16:23:05,914]\u001b[0m Trial 93 finished with value: 0.7280239253886017 and parameters: {'svc_kernel': 'rbf', 'svc_C': 85.31973810484381, 'svc_gamma': 0.060044575628664554, 'threshold': 0.024128711985825287}. Best is trial 81 with value: 0.7463768106517896.\u001b[0m\n",
            "\u001b[32m[I 2021-12-03 16:23:10,034]\u001b[0m Trial 94 finished with value: 0.7417622157334021 and parameters: {'svc_kernel': 'rbf', 'svc_C': 53.61992740373079, 'svc_gamma': 0.03999264962786689, 'threshold': 0.035853252285734216}. Best is trial 81 with value: 0.7463768106517896.\u001b[0m\n",
            "\u001b[32m[I 2021-12-03 16:23:17,297]\u001b[0m Trial 95 finished with value: 0.7222527381689724 and parameters: {'svc_kernel': 'rbf', 'svc_C': 196.6723086508201, 'svc_gamma': 0.08341216771100476, 'threshold': 0.040677332853769545}. Best is trial 81 with value: 0.7463768106517896.\u001b[0m\n",
            "\u001b[32m[I 2021-12-03 16:23:20,986]\u001b[0m Trial 96 finished with value: 0.7420191609570788 and parameters: {'svc_kernel': 'rbf', 'svc_C': 62.23575543753401, 'svc_gamma': 0.021999483495615972, 'threshold': 0.03277671538024746}. Best is trial 81 with value: 0.7463768106517896.\u001b[0m\n",
            "\u001b[32m[I 2021-12-03 16:23:27,219]\u001b[0m Trial 97 finished with value: 0.6941804784170045 and parameters: {'svc_kernel': 'rbf', 'svc_C': 47.80407646596378, 'svc_gamma': 0.4311223808387663, 'threshold': 0.0505925786461453}. Best is trial 81 with value: 0.7463768106517896.\u001b[0m\n",
            "\u001b[32m[I 2021-12-03 16:23:31,027]\u001b[0m Trial 98 finished with value: 0.7380920561868393 and parameters: {'svc_kernel': 'rbf', 'svc_C': 33.82111047087147, 'svc_gamma': 0.015927490908575575, 'threshold': 0.020420658450498376}. Best is trial 81 with value: 0.7463768106517896.\u001b[0m\n",
            "\u001b[32m[I 2021-12-03 16:23:35,930]\u001b[0m Trial 99 finished with value: 0.7440151350100284 and parameters: {'svc_kernel': 'rbf', 'svc_C': 73.69389155203788, 'svc_gamma': 0.06458620463005174, 'threshold': 0.03861944064347837}. Best is trial 81 with value: 0.7463768106517896.\u001b[0m\n"
          ]
        }
      ]
    },
    {
      "cell_type": "markdown",
      "metadata": {
        "id": "BuK-Vih0HF9O"
      },
      "source": [
        "Παρατηρούμε ότι η μέγιστη επίδοση που πετυχαίνουμε για kernel = rbf είναι 74.63% f1-score.\n",
        "Την επίδοση αυτή την πετυχαίνουμε για τις ακόλουθες τιμές υπερπαραμέτρων:\n",
        "\n",
        "* kernel = rbf\n",
        "* C =  49.0166465572452\n",
        "* gamma = 0.06071249745874641\n",
        "* threshold = 0.0372111593761334\n"
      ]
    },
    {
      "cell_type": "markdown",
      "metadata": {
        "id": "gWI4FqT6SfQv"
      },
      "source": [
        "#### Linear\n",
        "\n",
        "Όπως και στην περίπτωση του rbf αρχικά προσθέτουμε ως μετασχηματιστή μόνο έναν MinMax Scaler. Έτσι έχουμε:"
      ]
    },
    {
      "cell_type": "code",
      "metadata": {
        "colab": {
          "base_uri": "https://localhost:8080/"
        },
        "id": "PJmxDT6oJ101",
        "outputId": "1f72e5da-4c6b-4cd9-fe7f-321dfcd73ebe"
      },
      "source": [
        "def objective(trial):\n",
        "\n",
        "    \n",
        "    svc_kernel = trial.suggest_categorical('svc_kernel',['linear'])\n",
        "    svc_C = trial.suggest_float('svc_C',1,100)\n",
        "\n",
        "    svm = SVC(kernel = svc_kernel, C = svc_C)\n",
        "      \n",
        "    clf = Pipeline(steps = [('minmax_scaler', preprocessing.MinMaxScaler()),('svm', svm)])\n",
        "\n",
        "    return np.mean(cross_val_score(clf, X_train_small, y_train_small, cv = 5, scoring = 'accuracy'))\n",
        "\n",
        "study = optuna.create_study(direction = 'maximize')\n",
        "study.optimize(objective, n_trials = 30)"
      ],
      "execution_count": null,
      "outputs": [
        {
          "name": "stderr",
          "output_type": "stream",
          "text": [
            "\u001b[32m[I 2021-12-03 01:45:27,331]\u001b[0m A new study created in memory with name: no-name-d2122c37-acf3-4d3d-bb45-ab1bdc531a13\u001b[0m\n",
            "\u001b[32m[I 2021-12-03 01:46:15,516]\u001b[0m Trial 0 finished with value: 0.7499997615870402 and parameters: {'svc_kernel': 'linear', 'svc_C': 53.10307946808297}. Best is trial 0 with value: 0.7499997615870402.\u001b[0m\n",
            "\u001b[32m[I 2021-12-03 01:47:00,256]\u001b[0m Trial 1 finished with value: 0.7498829392367107 and parameters: {'svc_kernel': 'linear', 'svc_C': 45.33485949726951}. Best is trial 0 with value: 0.7499997615870402.\u001b[0m\n",
            "\u001b[32m[I 2021-12-03 01:48:13,819]\u001b[0m Trial 2 finished with value: 0.7508167006234839 and parameters: {'svc_kernel': 'linear', 'svc_C': 99.13786593506595}. Best is trial 2 with value: 0.7508167006234839.\u001b[0m\n",
            "\u001b[32m[I 2021-12-03 01:48:40,317]\u001b[0m Trial 3 finished with value: 0.7494162628972896 and parameters: {'svc_kernel': 'linear', 'svc_C': 16.099475667131216}. Best is trial 2 with value: 0.7508167006234839.\u001b[0m\n",
            "\u001b[32m[I 2021-12-03 01:49:09,356]\u001b[0m Trial 4 finished with value: 0.7497665937123009 and parameters: {'svc_kernel': 'linear', 'svc_C': 18.808361884870713}. Best is trial 2 with value: 0.7508167006234839.\u001b[0m\n",
            "\u001b[32m[I 2021-12-03 01:50:18,183]\u001b[0m Trial 5 finished with value: 0.7502332019337334 and parameters: {'svc_kernel': 'linear', 'svc_C': 92.45258188850507}. Best is trial 2 with value: 0.7508167006234839.\u001b[0m\n",
            "\u001b[32m[I 2021-12-03 01:51:07,300]\u001b[0m Trial 6 finished with value: 0.7499998297050288 and parameters: {'svc_kernel': 'linear', 'svc_C': 55.744860633449385}. Best is trial 2 with value: 0.7508167006234839.\u001b[0m\n",
            "\u001b[32m[I 2021-12-03 01:51:29,712]\u001b[0m Trial 7 finished with value: 0.7492995086649488 and parameters: {'svc_kernel': 'linear', 'svc_C': 9.96839877904593}. Best is trial 2 with value: 0.7508167006234839.\u001b[0m\n",
            "\u001b[32m[I 2021-12-03 01:52:15,491]\u001b[0m Trial 8 finished with value: 0.7499996934690517 and parameters: {'svc_kernel': 'linear', 'svc_C': 48.419497101140664}. Best is trial 2 with value: 0.7508167006234839.\u001b[0m\n",
            "\u001b[32m[I 2021-12-03 01:52:36,223]\u001b[0m Trial 9 finished with value: 0.7496495670080059 and parameters: {'svc_kernel': 'linear', 'svc_C': 7.938869319572852}. Best is trial 2 with value: 0.7508167006234839.\u001b[0m\n",
            "\u001b[32m[I 2021-12-03 01:53:49,035]\u001b[0m Trial 10 finished with value: 0.7505833283947791 and parameters: {'svc_kernel': 'linear', 'svc_C': 99.50241089471261}. Best is trial 2 with value: 0.7508167006234839.\u001b[0m\n",
            "\u001b[32m[I 2021-12-03 01:55:02,693]\u001b[0m Trial 11 finished with value: 0.7503498199300973 and parameters: {'svc_kernel': 'linear', 'svc_C': 99.73061732010552}. Best is trial 2 with value: 0.7508167006234839.\u001b[0m\n",
            "\u001b[32m[I 2021-12-03 01:56:04,722]\u001b[0m Trial 12 finished with value: 0.7499997615870402 and parameters: {'svc_kernel': 'linear', 'svc_C': 80.6807561517045}. Best is trial 2 with value: 0.7508167006234839.\u001b[0m\n",
            "\u001b[32m[I 2021-12-03 01:57:06,176]\u001b[0m Trial 13 finished with value: 0.750116515819381 and parameters: {'svc_kernel': 'linear', 'svc_C': 79.91186595983451}. Best is trial 2 with value: 0.7508167006234839.\u001b[0m\n",
            "\u001b[32m[I 2021-12-03 01:58:04,432]\u001b[0m Trial 14 finished with value: 0.7504665060444496 and parameters: {'svc_kernel': 'linear', 'svc_C': 73.16895502203847}. Best is trial 2 with value: 0.7508167006234839.\u001b[0m\n",
            "\u001b[32m[I 2021-12-03 01:58:57,429]\u001b[0m Trial 15 finished with value: 0.7502332019337334 and parameters: {'svc_kernel': 'linear', 'svc_C': 65.01581058198668}. Best is trial 2 with value: 0.7508167006234839.\u001b[0m\n",
            "\u001b[32m[I 2021-12-03 02:00:05,744]\u001b[0m Trial 16 finished with value: 0.750233270051722 and parameters: {'svc_kernel': 'linear', 'svc_C': 90.80890240730393}. Best is trial 2 with value: 0.7508167006234839.\u001b[0m\n",
            "\u001b[32m[I 2021-12-03 02:00:43,392]\u001b[0m Trial 17 finished with value: 0.7496497032439831 and parameters: {'svc_kernel': 'linear', 'svc_C': 33.33193607639824}. Best is trial 2 with value: 0.7508167006234839.\u001b[0m\n",
            "\u001b[32m[I 2021-12-03 02:01:56,266]\u001b[0m Trial 18 finished with value: 0.7502331338157449 and parameters: {'svc_kernel': 'linear', 'svc_C': 98.68003898943356}. Best is trial 2 with value: 0.7508167006234839.\u001b[0m\n",
            "\u001b[32m[I 2021-12-03 02:03:02,015]\u001b[0m Trial 19 finished with value: 0.7504665741624382 and parameters: {'svc_kernel': 'linear', 'svc_C': 86.95374348746917}. Best is trial 2 with value: 0.7508167006234839.\u001b[0m\n",
            "\u001b[32m[I 2021-12-03 02:03:56,991]\u001b[0m Trial 20 finished with value: 0.7499997615870402 and parameters: {'svc_kernel': 'linear', 'svc_C': 65.24012116682391}. Best is trial 2 with value: 0.7508167006234839.\u001b[0m\n",
            "\u001b[32m[I 2021-12-03 02:05:04,213]\u001b[0m Trial 21 finished with value: 0.7501165158193811 and parameters: {'svc_kernel': 'linear', 'svc_C': 87.12044739196071}. Best is trial 2 with value: 0.7508167006234839.\u001b[0m\n",
            "\u001b[32m[I 2021-12-03 02:06:07,588]\u001b[0m Trial 22 finished with value: 0.7509333867378364 and parameters: {'svc_kernel': 'linear', 'svc_C': 83.64998199347356}. Best is trial 22 with value: 0.7509333867378364.\u001b[0m\n",
            "\u001b[32m[I 2021-12-03 02:07:07,261]\u001b[0m Trial 23 finished with value: 0.7502332019337334 and parameters: {'svc_kernel': 'linear', 'svc_C': 75.7922341394638}. Best is trial 22 with value: 0.7509333867378364.\u001b[0m\n",
            "\u001b[32m[I 2021-12-03 02:08:16,952]\u001b[0m Trial 24 finished with value: 0.7499997615870402 and parameters: {'svc_kernel': 'linear', 'svc_C': 98.04969144347471}. Best is trial 22 with value: 0.7509333867378364.\u001b[0m\n",
            "\u001b[32m[I 2021-12-03 02:09:11,073]\u001b[0m Trial 25 finished with value: 0.7507000145091316 and parameters: {'svc_kernel': 'linear', 'svc_C': 67.32539376798057}. Best is trial 22 with value: 0.7509333867378364.\u001b[0m\n",
            "\u001b[32m[I 2021-12-03 02:10:03,460]\u001b[0m Trial 26 finished with value: 0.7499997615870402 and parameters: {'svc_kernel': 'linear', 'svc_C': 62.661495443667896}. Best is trial 22 with value: 0.7509333867378364.\u001b[0m\n",
            "\u001b[32m[I 2021-12-03 02:10:59,519]\u001b[0m Trial 27 finished with value: 0.7503497518121087 and parameters: {'svc_kernel': 'linear', 'svc_C': 70.66523158743739}. Best is trial 22 with value: 0.7509333867378364.\u001b[0m\n",
            "\u001b[32m[I 2021-12-03 02:12:03,262]\u001b[0m Trial 28 finished with value: 0.7503498880480859 and parameters: {'svc_kernel': 'linear', 'svc_C': 83.15426483246603}. Best is trial 22 with value: 0.7509333867378364.\u001b[0m\n",
            "\u001b[32m[I 2021-12-03 02:12:42,932]\u001b[0m Trial 29 finished with value: 0.749649567008006 and parameters: {'svc_kernel': 'linear', 'svc_C': 39.46060426267607}. Best is trial 22 with value: 0.7509333867378364.\u001b[0m\n"
          ]
        }
      ]
    },
    {
      "cell_type": "markdown",
      "metadata": {
        "id": "9NFbfjwGFTFr"
      },
      "source": [
        "Παρατηρούμε ότι με χρήση μόνο του MinMax Scaler πριν τον ταξινομητή μας επιτυγχάνουμε μέγιστο accuracy 75% δείχνοντας πως και στην περίπτωση του linear ο MinMax Scaler ανταποκρίνεται αρκετά καλά. Επιπλέον για υπερπαράμετρο C από 0 εώς 100 βλέπουμε ότι ο ταξινομητής μας δεν έχει κάποια αισθητή διαφορά ως προς το accuracy του"
      ]
    },
    {
      "cell_type": "markdown",
      "metadata": {
        "id": "LkEBbWDRFrKr"
      },
      "source": [
        "Στην συνέχεια επιλέγουμε αντί για MinMaxScaler StandarScaler και βλέπουμε τα αποτελέσματα του:"
      ]
    },
    {
      "cell_type": "code",
      "metadata": {
        "id": "earVLxJRNLRA"
      },
      "source": [
        "X_train_small, a, y_train_small, b = train_test_split(X_train, y_train, test_size = 0.95, shuffle = True)\n",
        "X_test_small, a, y_test_small, b = train_test_split(X_test, y_test, test_size = 0.95, shuffle = True)"
      ],
      "execution_count": null,
      "outputs": []
    },
    {
      "cell_type": "code",
      "metadata": {
        "colab": {
          "base_uri": "https://localhost:8080/"
        },
        "id": "8MUlPBVe974S",
        "outputId": "7ded0576-6223-4d25-dc63-49ff2f9973c3"
      },
      "source": [
        "def objective(trial):\n",
        "\n",
        "    \n",
        "    svc_kernel = trial.suggest_categorical('svc_kernel',['linear'])\n",
        "    svc_C = trial.suggest_float('svc_C',1,100)\n",
        "\n",
        "    svm = SVC(kernel = svc_kernel, C = svc_C)\n",
        "      \n",
        "    clf = Pipeline(steps = [('StandardScalerard_scaler', preprocessing.StandardScaler()),('svm', svm)])\n",
        "\n",
        "    return np.mean(cross_val_score(clf, X_train_small, y_train_small, cv = 5, scoring = 'accuracy' , n_jobs =-1))\n",
        "\n",
        "study = optuna.create_study(direction = 'maximize')\n",
        "study.optimize(objective, n_trials = 10)"
      ],
      "execution_count": null,
      "outputs": [
        {
          "output_type": "stream",
          "name": "stderr",
          "text": [
            "\u001b[32m[I 2021-12-03 18:13:03,338]\u001b[0m A new study created in memory with name: no-name-a1cf570b-6474-40fe-9f28-9ff0647f2b98\u001b[0m\n",
            "\u001b[32m[I 2021-12-03 18:13:51,547]\u001b[0m Trial 0 finished with value: 0.7434653049651578 and parameters: {'svc_kernel': 'linear', 'svc_C': 8.09333453177699}. Best is trial 0 with value: 0.7434653049651578.\u001b[0m\n",
            "\u001b[32m[I 2021-12-03 18:16:01,745]\u001b[0m Trial 1 finished with value: 0.7448655383373864 and parameters: {'svc_kernel': 'linear', 'svc_C': 22.811854012125004}. Best is trial 1 with value: 0.7448655383373864.\u001b[0m\n",
            "\u001b[32m[I 2021-12-03 18:22:08,982]\u001b[0m Trial 2 finished with value: 0.7441654216512721 and parameters: {'svc_kernel': 'linear', 'svc_C': 64.431213384202}. Best is trial 1 with value: 0.7448655383373864.\u001b[0m\n",
            "\u001b[32m[I 2021-12-03 18:27:29,916]\u001b[0m Trial 3 finished with value: 0.7441654216512721 and parameters: {'svc_kernel': 'linear', 'svc_C': 57.77719078382158}. Best is trial 1 with value: 0.7448655383373864.\u001b[0m\n",
            "\u001b[32m[I 2021-12-03 18:34:28,410]\u001b[0m Trial 4 finished with value: 0.7441651490201638 and parameters: {'svc_kernel': 'linear', 'svc_C': 69.69995696594268}. Best is trial 1 with value: 0.7448655383373864.\u001b[0m\n",
            "\u001b[32m[I 2021-12-03 18:34:47,067]\u001b[0m Trial 5 finished with value: 0.7425315434192303 and parameters: {'svc_kernel': 'linear', 'svc_C': 2.801387429045814}. Best is trial 1 with value: 0.7448655383373864.\u001b[0m\n",
            "\u001b[32m[I 2021-12-03 18:40:55,102]\u001b[0m Trial 6 finished with value: 0.743931776791459 and parameters: {'svc_kernel': 'linear', 'svc_C': 63.027315423086606}. Best is trial 1 with value: 0.7448655383373864.\u001b[0m\n",
            "\u001b[32m[I 2021-12-03 18:48:04,805]\u001b[0m Trial 7 finished with value: 0.7441651490201638 and parameters: {'svc_kernel': 'linear', 'svc_C': 74.47292668689045}. Best is trial 1 with value: 0.7448655383373864.\u001b[0m\n",
            "\u001b[32m[I 2021-12-03 18:52:47,380]\u001b[0m Trial 8 finished with value: 0.7441651490201638 and parameters: {'svc_kernel': 'linear', 'svc_C': 48.568748101874235}. Best is trial 1 with value: 0.7448655383373864.\u001b[0m\n",
            "\u001b[32m[I 2021-12-03 18:55:47,982]\u001b[0m Trial 9 finished with value: 0.7446321661086818 and parameters: {'svc_kernel': 'linear', 'svc_C': 29.47963787238997}. Best is trial 1 with value: 0.7448655383373864.\u001b[0m\n"
          ]
        }
      ]
    },
    {
      "cell_type": "markdown",
      "metadata": {
        "id": "jG78kJxcd0Ka"
      },
      "source": [
        "Παραητηρούμε ότι στην περίπτωση του StandardScaler έχουμε ελαφρώς χειρότερα αποτελέσματα με το μέγιστο accuracy να είναι 74.48%.\n",
        "Στην συνέχεια λοιπόν επανερχόμαστε στον MinMaxScaler προσθέτωντας αμέσως μετά και πρίν τον ταξινομητή μας ένα VarianceThreshold. \n",
        "Έτσι λοιπόν έχουμε τα εξής αποτελέσματα:"
      ]
    },
    {
      "cell_type": "code",
      "metadata": {
        "id": "8ABoJE1JFqQ4",
        "colab": {
          "base_uri": "https://localhost:8080/"
        },
        "outputId": "ee4c383b-73e1-4150-c59e-50cc75bc4d53"
      },
      "source": [
        "def objective(trial):\n",
        "\n",
        "    \n",
        "    svc_kernel = trial.suggest_categorical('svc_kernel',['linear'])\n",
        "    svc_C = trial.suggest_int('svc_C',1,100)\n",
        "\n",
        "\n",
        " \n",
        "    svm = SVC(kernel = svc_kernel, C = svc_C)\n",
        "\n",
        "\n",
        "      \n",
        "      \n",
        "    threshold = trial.suggest_float('threshold', 0, 0.1)\n",
        "\n",
        "    clf = Pipeline(steps = [('minmax_scaler', preprocessing.MinMaxScaler()), ('selector', VarianceThreshold(threshold)), ('svm', svm)])\n",
        "  \n",
        "\n",
        "    return np.mean(cross_val_score(clf, X_train_small, y_train_small, cv = 5, scoring = 'accuracy' , n_jobs = -1))\n",
        "\n",
        "study = optuna.create_study(direction = 'maximize')\n",
        "study.optimize(objective, n_trials = 50)"
      ],
      "execution_count": null,
      "outputs": [
        {
          "output_type": "stream",
          "name": "stderr",
          "text": [
            "\u001b[32m[I 2021-12-03 14:47:23,048]\u001b[0m A new study created in memory with name: no-name-e66e41f6-0c18-4bb5-82dd-9e68ec81ba4e\u001b[0m\n",
            "\u001b[32m[I 2021-12-03 14:47:31,169]\u001b[0m Trial 0 finished with value: 0.7352967316982737 and parameters: {'svc_kernel': 'linear', 'svc_C': 87, 'threshold': 0.08574804203080777}. Best is trial 0 with value: 0.7352967316982737.\u001b[0m\n",
            "\u001b[32m[I 2021-12-03 14:47:50,966]\u001b[0m Trial 1 finished with value: 0.7373992628054831 and parameters: {'svc_kernel': 'linear', 'svc_C': 100, 'threshold': 0.005199607763843351}. Best is trial 1 with value: 0.7373992628054831.\u001b[0m\n",
            "\u001b[32m[I 2021-12-03 14:48:00,203]\u001b[0m Trial 2 finished with value: 0.738566941842332 and parameters: {'svc_kernel': 'linear', 'svc_C': 43, 'threshold': 0.010621561873065056}. Best is trial 2 with value: 0.738566941842332.\u001b[0m\n",
            "\u001b[32m[I 2021-12-03 14:48:06,858]\u001b[0m Trial 3 finished with value: 0.7376307266164298 and parameters: {'svc_kernel': 'linear', 'svc_C': 70, 'threshold': 0.07758004532527704}. Best is trial 2 with value: 0.738566941842332.\u001b[0m\n",
            "\u001b[32m[I 2021-12-03 14:48:10,465]\u001b[0m Trial 4 finished with value: 0.7366983282260439 and parameters: {'svc_kernel': 'linear', 'svc_C': 5, 'threshold': 0.014808975367235756}. Best is trial 2 with value: 0.738566941842332.\u001b[0m\n",
            "\u001b[32m[I 2021-12-03 14:48:23,069]\u001b[0m Trial 5 finished with value: 0.7427668240656932 and parameters: {'svc_kernel': 'linear', 'svc_C': 91, 'threshold': 0.026671469639278744}. Best is trial 5 with value: 0.7427668240656932.\u001b[0m\n",
            "\u001b[32m[I 2021-12-03 14:48:30,792]\u001b[0m Trial 6 finished with value: 0.736463865472906 and parameters: {'svc_kernel': 'linear', 'svc_C': 92, 'threshold': 0.08529666338262207}. Best is trial 5 with value: 0.7427668240656932.\u001b[0m\n",
            "\u001b[32m[I 2021-12-03 14:48:34,109]\u001b[0m Trial 7 finished with value: 0.7387973151288454 and parameters: {'svc_kernel': 'linear', 'svc_C': 10, 'threshold': 0.06886371745847931}. Best is trial 5 with value: 0.7427668240656932.\u001b[0m\n",
            "\u001b[32m[I 2021-12-03 14:48:40,385]\u001b[0m Trial 8 finished with value: 0.7355301039269786 and parameters: {'svc_kernel': 'linear', 'svc_C': 70, 'threshold': 0.08637843942199434}. Best is trial 5 with value: 0.7427668240656932.\u001b[0m\n",
            "\u001b[32m[I 2021-12-03 14:48:55,893]\u001b[0m Trial 9 finished with value: 0.7334300264997438 and parameters: {'svc_kernel': 'linear', 'svc_C': 64, 'threshold': 0.00010217142067068253}. Best is trial 5 with value: 0.7427668240656932.\u001b[0m\n",
            "\u001b[32m[I 2021-12-03 14:49:02,486]\u001b[0m Trial 10 finished with value: 0.7420645263307124 and parameters: {'svc_kernel': 'linear', 'svc_C': 38, 'threshold': 0.033581948639525266}. Best is trial 5 with value: 0.7427668240656932.\u001b[0m\n",
            "\u001b[32m[I 2021-12-03 14:49:08,837]\u001b[0m Trial 11 finished with value: 0.7432332958919945 and parameters: {'svc_kernel': 'linear', 'svc_C': 34, 'threshold': 0.0355660074711321}. Best is trial 11 with value: 0.7432332958919945.\u001b[0m\n",
            "\u001b[32m[I 2021-12-03 14:49:14,203]\u001b[0m Trial 12 finished with value: 0.7453344638436625 and parameters: {'svc_kernel': 'linear', 'svc_C': 26, 'threshold': 0.043980892563809014}. Best is trial 12 with value: 0.7453344638436625.\u001b[0m\n",
            "\u001b[32m[I 2021-12-03 14:49:19,628]\u001b[0m Trial 13 finished with value: 0.7408987557116218 and parameters: {'svc_kernel': 'linear', 'svc_C': 28, 'threshold': 0.0538637492783296}. Best is trial 12 with value: 0.7453344638436625.\u001b[0m\n",
            "\u001b[32m[I 2021-12-03 14:49:24,883]\u001b[0m Trial 14 finished with value: 0.7462679527584816 and parameters: {'svc_kernel': 'linear', 'svc_C': 23, 'threshold': 0.046814805607194525}. Best is trial 14 with value: 0.7462679527584816.\u001b[0m\n",
            "\u001b[32m[I 2021-12-03 14:49:29,480]\u001b[0m Trial 15 finished with value: 0.7416005081843859 and parameters: {'svc_kernel': 'linear', 'svc_C': 17, 'threshold': 0.052383552635426135}. Best is trial 14 with value: 0.7462679527584816.\u001b[0m\n",
            "\u001b[32m[I 2021-12-03 14:49:34,009]\u001b[0m Trial 16 finished with value: 0.736930064668099 and parameters: {'svc_kernel': 'linear', 'svc_C': 23, 'threshold': 0.06516852707505562}. Best is trial 14 with value: 0.7462679527584816.\u001b[0m\n",
            "\u001b[32m[I 2021-12-03 14:49:41,421]\u001b[0m Trial 17 finished with value: 0.7455681087034756 and parameters: {'svc_kernel': 'linear', 'svc_C': 47, 'threshold': 0.04324104951013353}. Best is trial 14 with value: 0.7462679527584816.\u001b[0m\n",
            "\u001b[32m[I 2021-12-03 14:49:46,082]\u001b[0m Trial 18 finished with value: 0.7278252761753127 and parameters: {'svc_kernel': 'linear', 'svc_C': 53, 'threshold': 0.09777052281191449}. Best is trial 14 with value: 0.7462679527584816.\u001b[0m\n",
            "\u001b[32m[I 2021-12-03 14:49:56,237]\u001b[0m Trial 19 finished with value: 0.737164527421237 and parameters: {'svc_kernel': 'linear', 'svc_C': 54, 'threshold': 0.02129470270530763}. Best is trial 14 with value: 0.7462679527584816.\u001b[0m\n",
            "\u001b[32m[I 2021-12-03 14:49:58,570]\u001b[0m Trial 20 finished with value: 0.7441665121757052 and parameters: {'svc_kernel': 'linear', 'svc_C': 1, 'threshold': 0.042631779029203475}. Best is trial 14 with value: 0.7462679527584816.\u001b[0m\n",
            "\u001b[32m[I 2021-12-03 14:50:03,708]\u001b[0m Trial 21 finished with value: 0.7465015976182946 and parameters: {'svc_kernel': 'linear', 'svc_C': 22, 'threshold': 0.04742966448335115}. Best is trial 21 with value: 0.7465015976182946.\u001b[0m\n",
            "\u001b[32m[I 2021-12-03 14:50:09,964]\u001b[0m Trial 22 finished with value: 0.7392646048484717 and parameters: {'svc_kernel': 'linear', 'svc_C': 43, 'threshold': 0.06199782534392579}. Best is trial 21 with value: 0.7465015976182946.\u001b[0m\n",
            "\u001b[32m[I 2021-12-03 14:50:14,226]\u001b[0m Trial 23 finished with value: 0.7460348531608851 and parameters: {'svc_kernel': 'linear', 'svc_C': 15, 'threshold': 0.04491739608620386}. Best is trial 21 with value: 0.7465015976182946.\u001b[0m\n",
            "\u001b[32m[I 2021-12-03 14:50:18,331]\u001b[0m Trial 24 finished with value: 0.7406653834829169 and parameters: {'svc_kernel': 'linear', 'svc_C': 14, 'threshold': 0.05628705199454441}. Best is trial 21 with value: 0.7465015976182946.\u001b[0m\n",
            "\u001b[32m[I 2021-12-03 14:50:23,213]\u001b[0m Trial 25 finished with value: 0.7415977818733029 and parameters: {'svc_kernel': 'linear', 'svc_C': 21, 'threshold': 0.032462145616802}. Best is trial 21 with value: 0.7465015976182946.\u001b[0m\n",
            "\u001b[32m[I 2021-12-03 14:50:29,228]\u001b[0m Trial 26 finished with value: 0.746034853160885 and parameters: {'svc_kernel': 'linear', 'svc_C': 32, 'threshold': 0.044642236824160735}. Best is trial 21 with value: 0.7465015976182946.\u001b[0m\n",
            "\u001b[32m[I 2021-12-03 14:50:32,365]\u001b[0m Trial 27 finished with value: 0.737864371476243 and parameters: {'svc_kernel': 'linear', 'svc_C': 9, 'threshold': 0.07070827471588662}. Best is trial 21 with value: 0.7465015976182946.\u001b[0m\n",
            "\u001b[32m[I 2021-12-03 14:50:36,478]\u001b[0m Trial 28 finished with value: 0.7406648382207003 and parameters: {'svc_kernel': 'linear', 'svc_C': 15, 'threshold': 0.06073691170718302}. Best is trial 21 with value: 0.7465015976182946.\u001b[0m\n",
            "\u001b[32m[I 2021-12-03 14:50:38,744]\u001b[0m Trial 29 finished with value: 0.74439988440441 and parameters: {'svc_kernel': 'linear', 'svc_C': 1, 'threshold': 0.04799848372830369}. Best is trial 21 with value: 0.7465015976182946.\u001b[0m\n",
            "\u001b[32m[I 2021-12-03 14:50:43,799]\u001b[0m Trial 30 finished with value: 0.7437000403494041 and parameters: {'svc_kernel': 'linear', 'svc_C': 21, 'threshold': 0.03785679203709007}. Best is trial 21 with value: 0.7465015976182946.\u001b[0m\n",
            "\u001b[32m[I 2021-12-03 14:50:50,238]\u001b[0m Trial 31 finished with value: 0.7465015976182946 and parameters: {'svc_kernel': 'linear', 'svc_C': 33, 'threshold': 0.04836882619718218}. Best is trial 21 with value: 0.7465015976182946.\u001b[0m\n",
            "\u001b[32m[I 2021-12-03 14:50:57,457]\u001b[0m Trial 32 finished with value: 0.7402005474432655 and parameters: {'svc_kernel': 'linear', 'svc_C': 33, 'threshold': 0.02478120654684105}. Best is trial 21 with value: 0.7465015976182946.\u001b[0m\n",
            "\u001b[32m[I 2021-12-03 14:51:04,049]\u001b[0m Trial 33 finished with value: 0.7409006641293799 and parameters: {'svc_kernel': 'linear', 'svc_C': 38, 'threshold': 0.05151268262141149}. Best is trial 21 with value: 0.7465015976182946.\u001b[0m\n",
            "\u001b[32m[I 2021-12-03 14:51:09,467]\u001b[0m Trial 34 finished with value: 0.7406651108518086 and parameters: {'svc_kernel': 'linear', 'svc_C': 29, 'threshold': 0.05802453614520668}. Best is trial 21 with value: 0.7465015976182946.\u001b[0m\n",
            "\u001b[32m[I 2021-12-03 14:51:13,408]\u001b[0m Trial 35 finished with value: 0.7434669407518075 and parameters: {'svc_kernel': 'linear', 'svc_C': 11, 'threshold': 0.03870485198884101}. Best is trial 21 with value: 0.7465015976182946.\u001b[0m\n",
            "\u001b[32m[I 2021-12-03 14:51:18,172]\u001b[0m Trial 36 finished with value: 0.7413671359556812 and parameters: {'svc_kernel': 'linear', 'svc_C': 19, 'threshold': 0.05016489781042041}. Best is trial 21 with value: 0.7465015976182946.\u001b[0m\n",
            "\u001b[32m[I 2021-12-03 14:51:24,948]\u001b[0m Trial 37 finished with value: 0.7425318160503386 and parameters: {'svc_kernel': 'linear', 'svc_C': 38, 'threshold': 0.029891429697879904}. Best is trial 21 with value: 0.7465015976182946.\u001b[0m\n",
            "\u001b[32m[I 2021-12-03 14:51:31,434]\u001b[0m Trial 38 finished with value: 0.7366972377016107 and parameters: {'svc_kernel': 'linear', 'svc_C': 25, 'threshold': 0.020429133947299227}. Best is trial 21 with value: 0.7465015976182946.\u001b[0m\n",
            "\u001b[32m[I 2021-12-03 14:51:34,141]\u001b[0m Trial 39 finished with value: 0.7380977437049477 and parameters: {'svc_kernel': 'linear', 'svc_C': 5, 'threshold': 0.072325926681693}. Best is trial 21 with value: 0.7465015976182946.\u001b[0m\n",
            "\u001b[32m[I 2021-12-03 14:51:39,606]\u001b[0m Trial 40 finished with value: 0.737397354387725 and parameters: {'svc_kernel': 'linear', 'svc_C': 46, 'threshold': 0.07731243594009711}. Best is trial 21 with value: 0.7465015976182946.\u001b[0m\n",
            "\u001b[32m[I 2021-12-03 14:51:45,710]\u001b[0m Trial 41 finished with value: 0.746034853160885 and parameters: {'svc_kernel': 'linear', 'svc_C': 32, 'threshold': 0.04535383565458308}. Best is trial 21 with value: 0.7465015976182946.\u001b[0m\n",
            "\u001b[32m[I 2021-12-03 14:51:51,665]\u001b[0m Trial 42 finished with value: 0.7429999236632897 and parameters: {'svc_kernel': 'linear', 'svc_C': 29, 'threshold': 0.03915186056560535}. Best is trial 21 with value: 0.7465015976182946.\u001b[0m\n",
            "\u001b[32m[I 2021-12-03 14:52:00,355]\u001b[0m Trial 43 finished with value: 0.7455681087034755 and parameters: {'svc_kernel': 'linear', 'svc_C': 60, 'threshold': 0.046207994821728986}. Best is trial 21 with value: 0.7465015976182946.\u001b[0m\n",
            "\u001b[32m[I 2021-12-03 14:52:09,881]\u001b[0m Trial 44 finished with value: 0.7404320112542122 and parameters: {'svc_kernel': 'linear', 'svc_C': 83, 'threshold': 0.05653135105641963}. Best is trial 21 with value: 0.7465015976182946.\u001b[0m\n",
            "\u001b[32m[I 2021-12-03 14:52:16,516]\u001b[0m Trial 45 finished with value: 0.7462682253895898 and parameters: {'svc_kernel': 'linear', 'svc_C': 36, 'threshold': 0.04823819963201876}. Best is trial 21 with value: 0.7465015976182946.\u001b[0m\n",
            "\u001b[32m[I 2021-12-03 14:52:25,227]\u001b[0m Trial 46 finished with value: 0.738566941842332 and parameters: {'svc_kernel': 'linear', 'svc_C': 40, 'threshold': 0.010421402478746643}. Best is trial 21 with value: 0.7465015976182946.\u001b[0m\n",
            "\u001b[32m[I 2021-12-03 14:52:28,968]\u001b[0m Trial 47 finished with value: 0.7364627749484727 and parameters: {'svc_kernel': 'linear', 'svc_C': 13, 'threshold': 0.06504863777638763}. Best is trial 21 with value: 0.7465015976182946.\u001b[0m\n",
            "\u001b[32m[I 2021-12-03 14:52:34,347]\u001b[0m Trial 48 finished with value: 0.7446335292642232 and parameters: {'svc_kernel': 'linear', 'svc_C': 24, 'threshold': 0.04089417137133774}. Best is trial 21 with value: 0.7465015976182946.\u001b[0m\n",
            "\u001b[32m[I 2021-12-03 14:52:38,999]\u001b[0m Trial 49 finished with value: 0.7418338804130907 and parameters: {'svc_kernel': 'linear', 'svc_C': 17, 'threshold': 0.049092934664099024}. Best is trial 21 with value: 0.7465015976182946.\u001b[0m\n"
          ]
        }
      ]
    },
    {
      "cell_type": "markdown",
      "metadata": {
        "id": "GN_N6MtPsRz0"
      },
      "source": [
        "Έχοντας ως Μετασχηματιστές τον MinMax Scaler και τον Variance Threshold παίρνουμε μέγιστο accuracy 74.65% για τιμές υπερπαραμέτρων:\n",
        "\n",
        "* kernel = linear\n",
        "* C =  17 "
      ]
    },
    {
      "cell_type": "markdown",
      "metadata": {
        "id": "Wjtvy_mTfvsP"
      },
      "source": [
        "Στην συνέχεια προσθέτουμε τον μετασχηματιστή PCA στο pipeline μας"
      ]
    },
    {
      "cell_type": "code",
      "metadata": {
        "colab": {
          "base_uri": "https://localhost:8080/"
        },
        "id": "jgLoqMl5fuSm",
        "outputId": "15a055db-1c04-46d5-e048-e1d0e75358b1"
      },
      "source": [
        "from sklearn.decomposition import PCA\n",
        "\n",
        "def objective(trial):\n",
        "\n",
        "    \n",
        "    svc_kernel = trial.suggest_categorical('svc_kernel',['linear'])\n",
        "\n",
        "    svc_C = trial.suggest_float('svc_C',1,100)\n",
        "\n",
        "    \n",
        "    svm = SVC(kernel = svc_kernel, C = svc_C)\n",
        "            \n",
        "    threshold = trial.suggest_float('threshold', 0, 0.1)\n",
        "\n",
        "    p = Pipeline(steps = [('minmax_scaler', preprocessing.MinMaxScaler()), ('selector', VarianceThreshold(threshold))])\n",
        "    upper_bound = p.fit_transform(X_train_small).shape[1]\n",
        "\n",
        "    \n",
        "    n_components = trial.suggest_int('n_components', min(upper_bound, 5), upper_bound)\n",
        "    #print(upper_bound,p.fit_transform(X_train_small).shape[0],n_components)\n",
        "\n",
        "    clf = Pipeline(steps = [('minmax_scaler', preprocessing.MinMaxScaler()), ('selector', VarianceThreshold(threshold)), ('pca', PCA(n_components=n_components)),('svm', svm)])\n",
        "  \n",
        "\n",
        "    return np.mean(cross_val_score(clf, X_train_small, y_train_small, cv = 5, scoring = 'accuracy'))\n",
        "\n",
        "study = optuna.create_study(direction = 'maximize')\n",
        "study.optimize(objective, n_trials = 30)"
      ],
      "execution_count": null,
      "outputs": [
        {
          "output_type": "stream",
          "name": "stderr",
          "text": [
            "\u001b[32m[I 2021-12-03 14:59:40,359]\u001b[0m A new study created in memory with name: no-name-e4cc87f4-0644-4958-8382-c8904b502873\u001b[0m\n",
            "\u001b[32m[I 2021-12-03 14:59:49,312]\u001b[0m Trial 0 finished with value: 0.7124278890718546 and parameters: {'svc_kernel': 'linear', 'svc_C': 99.11213948851095, 'threshold': 0.018325073265480652, 'n_components': 8}. Best is trial 0 with value: 0.7124278890718546.\u001b[0m\n",
            "\u001b[32m[I 2021-12-03 14:59:56,099]\u001b[0m Trial 1 finished with value: 0.7063536679789311 and parameters: {'svc_kernel': 'linear', 'svc_C': 64.76054816645629, 'threshold': 0.06831414079865436, 'n_components': 6}. Best is trial 0 with value: 0.7124278890718546.\u001b[0m\n",
            "\u001b[32m[I 2021-12-03 15:00:04,059]\u001b[0m Trial 2 finished with value: 0.7324951744293832 and parameters: {'svc_kernel': 'linear', 'svc_C': 70.46146845219948, 'threshold': 0.056611687624689655, 'n_components': 16}. Best is trial 2 with value: 0.7324951744293832.\u001b[0m\n",
            "\u001b[32m[I 2021-12-03 15:00:09,443]\u001b[0m Trial 3 finished with value: 0.7072874295248585 and parameters: {'svc_kernel': 'linear', 'svc_C': 30.988430503658538, 'threshold': 0.027968974617471654, 'n_components': 7}. Best is trial 2 with value: 0.7324951744293832.\u001b[0m\n",
            "\u001b[32m[I 2021-12-03 15:00:18,658]\u001b[0m Trial 4 finished with value: 0.7362307658753094 and parameters: {'svc_kernel': 'linear', 'svc_C': 90.64641262407181, 'threshold': 0.05881084092901889, 'n_components': 17}. Best is trial 4 with value: 0.7362307658753094.\u001b[0m\n",
            "\u001b[32m[I 2021-12-03 15:00:24,285]\u001b[0m Trial 5 finished with value: 0.7243246927447409 and parameters: {'svc_kernel': 'linear', 'svc_C': 45.23954576127518, 'threshold': 0.07622580588484523, 'n_components': 13}. Best is trial 4 with value: 0.7362307658753094.\u001b[0m\n",
            "\u001b[32m[I 2021-12-03 15:00:33,636]\u001b[0m Trial 6 finished with value: 0.7401989116566157 and parameters: {'svc_kernel': 'linear', 'svc_C': 44.452939541294626, 'threshold': 0.024246535292229934, 'n_components': 32}. Best is trial 6 with value: 0.7401989116566157.\u001b[0m\n",
            "\u001b[32m[I 2021-12-03 15:00:39,318]\u001b[0m Trial 7 finished with value: 0.736929246774774 and parameters: {'svc_kernel': 'linear', 'svc_C': 37.14768281232538, 'threshold': 0.07561041191286155, 'n_components': 18}. Best is trial 6 with value: 0.7401989116566157.\u001b[0m\n",
            "\u001b[32m[I 2021-12-03 15:00:44,651]\u001b[0m Trial 8 finished with value: 0.7376296360919966 and parameters: {'svc_kernel': 'linear', 'svc_C': 11.905663724286773, 'threshold': 0.023373458924006874, 'n_components': 26}. Best is trial 6 with value: 0.7401989116566157.\u001b[0m\n",
            "\u001b[32m[I 2021-12-03 15:00:50,920]\u001b[0m Trial 9 finished with value: 0.7250258999552884 and parameters: {'svc_kernel': 'linear', 'svc_C': 63.07515933466321, 'threshold': 0.09191999265292883, 'n_components': 14}. Best is trial 6 with value: 0.7401989116566157.\u001b[0m\n",
            "\u001b[32m[I 2021-12-03 15:00:57,838]\u001b[0m Trial 10 finished with value: 0.7292249642853248 and parameters: {'svc_kernel': 'linear', 'svc_C': 15.589439004271917, 'threshold': 0.00384680925696532, 'n_components': 50}. Best is trial 6 with value: 0.7401989116566157.\u001b[0m\n",
            "\u001b[32m[I 2021-12-03 15:01:01,103]\u001b[0m Trial 11 finished with value: 0.7411326732025431 and parameters: {'svc_kernel': 'linear', 'svc_C': 1.6139424034779815, 'threshold': 0.037077730554192646, 'n_components': 30}. Best is trial 11 with value: 0.7411326732025431.\u001b[0m\n",
            "\u001b[32m[I 2021-12-03 15:01:05,090]\u001b[0m Trial 12 finished with value: 0.7432332958919944 and parameters: {'svc_kernel': 'linear', 'svc_C': 4.188148399044763, 'threshold': 0.03554605031938564, 'n_components': 31}. Best is trial 12 with value: 0.7432332958919944.\u001b[0m\n",
            "\u001b[32m[I 2021-12-03 15:01:08,739]\u001b[0m Trial 13 finished with value: 0.7429993784010731 and parameters: {'svc_kernel': 'linear', 'svc_C': 3.239700817905006, 'threshold': 0.040755073229487446, 'n_components': 30}. Best is trial 12 with value: 0.7432332958919944.\u001b[0m\n",
            "\u001b[32m[I 2021-12-03 15:01:14,614]\u001b[0m Trial 14 finished with value: 0.7385628523757075 and parameters: {'svc_kernel': 'linear', 'svc_C': 21.892007216572566, 'threshold': 0.04269191420628138, 'n_components': 25}. Best is trial 12 with value: 0.7432332958919944.\u001b[0m\n",
            "\u001b[32m[I 2021-12-03 15:01:18,206]\u001b[0m Trial 15 finished with value: 0.7444004296666268 and parameters: {'svc_kernel': 'linear', 'svc_C': 3.345247686563037, 'threshold': 0.04637685846687591, 'n_components': 30}. Best is trial 15 with value: 0.7444004296666268.\u001b[0m\n",
            "\u001b[32m[I 2021-12-03 15:01:23,635]\u001b[0m Trial 16 finished with value: 0.737163709527912 and parameters: {'svc_kernel': 'linear', 'svc_C': 20.622335025780167, 'threshold': 0.05193740321112843, 'n_components': 23}. Best is trial 15 with value: 0.7444004296666268.\u001b[0m\n",
            "\u001b[32m[I 2021-12-03 15:01:32,196]\u001b[0m Trial 17 finished with value: 0.7355281955092203 and parameters: {'svc_kernel': 'linear', 'svc_C': 31.12522162369474, 'threshold': 0.010193465327502524, 'n_components': 40}. Best is trial 15 with value: 0.7444004296666268.\u001b[0m\n",
            "\u001b[32m[I 2021-12-03 15:01:36,535]\u001b[0m Trial 18 finished with value: 0.737163709527912 and parameters: {'svc_kernel': 'linear', 'svc_C': 10.509344161265556, 'threshold': 0.03382808374693237, 'n_components': 22}. Best is trial 15 with value: 0.7444004296666268.\u001b[0m\n",
            "\u001b[32m[I 2021-12-03 15:01:43,013]\u001b[0m Trial 19 finished with value: 0.7443996117733017 and parameters: {'svc_kernel': 'linear', 'svc_C': 26.073873991208444, 'threshold': 0.04749174526516643, 'n_components': 27}. Best is trial 15 with value: 0.7444004296666268.\u001b[0m\n",
            "\u001b[32m[I 2021-12-03 15:01:47,821]\u001b[0m Trial 20 finished with value: 0.7247898014155008 and parameters: {'svc_kernel': 'linear', 'svc_C': 27.0040410085782, 'threshold': 0.06686824034387535, 'n_components': 12}. Best is trial 15 with value: 0.7444004296666268.\u001b[0m\n",
            "\u001b[32m[I 2021-12-03 15:01:51,935]\u001b[0m Trial 21 finished with value: 0.7429999236632896 and parameters: {'svc_kernel': 'linear', 'svc_C': 6.843277739358786, 'threshold': 0.04645256829837561, 'n_components': 28}. Best is trial 15 with value: 0.7444004296666268.\u001b[0m\n",
            "\u001b[32m[I 2021-12-03 15:01:57,192]\u001b[0m Trial 22 finished with value: 0.7366964198082858 and parameters: {'svc_kernel': 'linear', 'svc_C': 19.943171048124945, 'threshold': 0.049528495334000174, 'n_components': 21}. Best is trial 15 with value: 0.7444004296666268.\u001b[0m\n",
            "\u001b[32m[I 2021-12-03 15:02:01,448]\u001b[0m Trial 23 finished with value: 0.7383311159336525 and parameters: {'svc_kernel': 'linear', 'svc_C': 9.84863201310121, 'threshold': 0.06017272896990812, 'n_components': 25}. Best is trial 15 with value: 0.7444004296666268.\u001b[0m\n",
            "\u001b[32m[I 2021-12-03 15:02:04,788]\u001b[0m Trial 24 finished with value: 0.742299534346067 and parameters: {'svc_kernel': 'linear', 'svc_C': 1.9874745491898778, 'threshold': 0.03572436026277183, 'n_components': 31}. Best is trial 15 with value: 0.7444004296666268.\u001b[0m\n",
            "\u001b[32m[I 2021-12-03 15:02:12,741]\u001b[0m Trial 25 finished with value: 0.7422984438216338 and parameters: {'svc_kernel': 'linear', 'svc_C': 38.051885580786035, 'threshold': 0.02994813630727378, 'n_components': 34}. Best is trial 15 with value: 0.7444004296666268.\u001b[0m\n",
            "\u001b[32m[I 2021-12-03 15:02:23,454]\u001b[0m Trial 26 finished with value: 0.7345966150121593 and parameters: {'svc_kernel': 'linear', 'svc_C': 52.72342618362636, 'threshold': 0.015499431833724726, 'n_components': 37}. Best is trial 15 with value: 0.7444004296666268.\u001b[0m\n",
            "\u001b[32m[I 2021-12-03 15:02:26,997]\u001b[0m Trial 27 finished with value: 0.7231575589701087 and parameters: {'svc_kernel': 'linear', 'svc_C': 15.975139019423018, 'threshold': 0.09991685346403104, 'n_components': 11}. Best is trial 15 with value: 0.7444004296666268.\u001b[0m\n",
            "\u001b[32m[I 2021-12-03 15:02:33,156]\u001b[0m Trial 28 finished with value: 0.7446332566331149 and parameters: {'svc_kernel': 'linear', 'svc_C': 24.586502893565374, 'threshold': 0.044166228635328056, 'n_components': 26}. Best is trial 28 with value: 0.7446332566331149.\u001b[0m\n",
            "\u001b[32m[I 2021-12-03 15:02:39,359]\u001b[0m Trial 29 finished with value: 0.7413668633245727 and parameters: {'svc_kernel': 'linear', 'svc_C': 25.993508485424613, 'threshold': 0.052369058407642104, 'n_components': 26}. Best is trial 28 with value: 0.7446332566331149.\u001b[0m\n"
          ]
        }
      ]
    },
    {
      "cell_type": "markdown",
      "metadata": {
        "id": "NOzVG7lWlOkW"
      },
      "source": [
        "Παρατηρούμε ότι όπως και στην περίπτωση του rbf το PCA δεν βελτιώνει την απόδοση του ταξινομητή μας καθώς το μέγιστο accuracy που πετυχαίνουμε είναι 74.46%"
      ]
    },
    {
      "cell_type": "markdown",
      "metadata": {
        "id": "H6_DZCxBlqTl"
      },
      "source": [
        "Τελικά με βάση τις προηγούμενες επιλογές αρχιτεκτονικής θα δούμε πλέον την επίδραση των υπερπαραμέτρων του ταξινομητή μας (SVM). Έτσι έχουμε τα εξής αποτελέσματα:"
      ]
    },
    {
      "cell_type": "code",
      "metadata": {
        "colab": {
          "base_uri": "https://localhost:8080/"
        },
        "id": "vO3yo_VLf5M_",
        "outputId": "bada6a55-85e6-44fe-d280-f93d63f04f5a"
      },
      "source": [
        "def objective(trial):\n",
        "\n",
        "    \n",
        "    svc_kernel = trial.suggest_categorical('svc_kernel',['linear'])\n",
        "\n",
        "    svc_C = trial.suggest_float('svc_C',1,100)\n",
        "\n",
        "    svm = SVC(kernel = svc_kernel, C = svc_C)\n",
        "            \n",
        "    threshold = trial.suggest_float('threshold', 0, 0.1)\n",
        "\n",
        "\n",
        "    clf = Pipeline(steps = [('minmax_scaler', preprocessing.MinMaxScaler()), ('selector', VarianceThreshold(threshold)), ('svm', svm)])\n",
        "  \n",
        "\n",
        "    return np.mean(cross_val_score(clf, X_train_small, y_train_small, cv = 5, scoring = 'accuracy' , n_jobs = -1))\n",
        "\n",
        "study = optuna.create_study(direction = 'maximize')\n",
        "study.optimize(objective, n_trials = 100)"
      ],
      "execution_count": null,
      "outputs": [
        {
          "output_type": "stream",
          "name": "stderr",
          "text": [
            "\u001b[32m[I 2021-12-03 15:03:07,421]\u001b[0m A new study created in memory with name: no-name-8278ac8b-4ece-4925-9dee-9caf8f899b9d\u001b[0m\n",
            "\u001b[32m[I 2021-12-03 15:03:14,811]\u001b[0m Trial 0 finished with value: 0.7432332958919945 and parameters: {'svc_kernel': 'linear', 'svc_C': 32.78826148707154, 'threshold': 0.03863581061045961}. Best is trial 0 with value: 0.7432332958919945.\u001b[0m\n",
            "\u001b[32m[I 2021-12-03 15:03:24,584]\u001b[0m Trial 1 finished with value: 0.7404320112542122 and parameters: {'svc_kernel': 'linear', 'svc_C': 81.29450302472735, 'threshold': 0.05427408989687922}. Best is trial 0 with value: 0.7432332958919945.\u001b[0m\n",
            "\u001b[32m[I 2021-12-03 15:03:32,744]\u001b[0m Trial 2 finished with value: 0.7411321279403265 and parameters: {'svc_kernel': 'linear', 'svc_C': 61.261971174727975, 'threshold': 0.056909651706224224}. Best is trial 0 with value: 0.7432332958919945.\u001b[0m\n",
            "\u001b[32m[I 2021-12-03 15:03:37,576]\u001b[0m Trial 3 finished with value: 0.7322609843073534 and parameters: {'svc_kernel': 'linear', 'svc_C': 51.07448238554283, 'threshold': 0.09189307770998928}. Best is trial 0 with value: 0.7432332958919945.\u001b[0m\n",
            "\u001b[32m[I 2021-12-03 15:03:41,574]\u001b[0m Trial 4 finished with value: 0.7364638654729059 and parameters: {'svc_kernel': 'linear', 'svc_C': 24.660378645916687, 'threshold': 0.08299020094416201}. Best is trial 0 with value: 0.7432332958919945.\u001b[0m\n",
            "\u001b[32m[I 2021-12-03 15:03:46,198]\u001b[0m Trial 5 finished with value: 0.7376304539853216 and parameters: {'svc_kernel': 'linear', 'svc_C': 30.48457456768169, 'threshold': 0.07626454158876246}. Best is trial 0 with value: 0.7432332958919945.\u001b[0m\n",
            "\u001b[32m[I 2021-12-03 15:04:00,608]\u001b[0m Trial 6 finished with value: 0.7371648000523452 and parameters: {'svc_kernel': 'linear', 'svc_C': 87.67404414034525, 'threshold': 0.020191047934839137}. Best is trial 0 with value: 0.7432332958919945.\u001b[0m\n",
            "\u001b[32m[I 2021-12-03 15:04:05,314]\u001b[0m Trial 7 finished with value: 0.7264239522786508 and parameters: {'svc_kernel': 'linear', 'svc_C': 58.117514543809165, 'threshold': 0.09994686717400908}. Best is trial 0 with value: 0.7432332958919945.\u001b[0m\n",
            "\u001b[32m[I 2021-12-03 15:04:14,633]\u001b[0m Trial 8 finished with value: 0.7427665514345849 and parameters: {'svc_kernel': 'linear', 'svc_C': 56.49351210103888, 'threshold': 0.026469860272165247}. Best is trial 0 with value: 0.7432332958919945.\u001b[0m\n",
            "\u001b[32m[I 2021-12-03 15:04:26,840]\u001b[0m Trial 9 finished with value: 0.7427651882790434 and parameters: {'svc_kernel': 'linear', 'svc_C': 97.01588088631331, 'threshold': 0.030012205109425184}. Best is trial 0 with value: 0.7432332958919945.\u001b[0m\n",
            "\u001b[32m[I 2021-12-03 15:04:30,791]\u001b[0m Trial 10 finished with value: 0.7329616462556843 and parameters: {'svc_kernel': 'linear', 'svc_C': 3.7554970805974506, 'threshold': 0.0004579321263565861}. Best is trial 0 with value: 0.7432332958919945.\u001b[0m\n",
            "\u001b[32m[I 2021-12-03 15:04:37,079]\u001b[0m Trial 11 finished with value: 0.7418311541020077 and parameters: {'svc_kernel': 'linear', 'svc_C': 31.799125862987523, 'threshold': 0.0308363810108616}. Best is trial 0 with value: 0.7432332958919945.\u001b[0m\n",
            "\u001b[32m[I 2021-12-03 15:04:46,772]\u001b[0m Trial 12 finished with value: 0.7429999236632897 and parameters: {'svc_kernel': 'linear', 'svc_C': 70.73616497764468, 'threshold': 0.03973023831572276}. Best is trial 0 with value: 0.7432332958919945.\u001b[0m\n",
            "\u001b[32m[I 2021-12-03 15:04:56,462]\u001b[0m Trial 13 finished with value: 0.7460348531608851 and parameters: {'svc_kernel': 'linear', 'svc_C': 72.59500908769124, 'threshold': 0.04522839235884452}. Best is trial 13 with value: 0.7460348531608851.\u001b[0m\n",
            "\u001b[32m[I 2021-12-03 15:05:02,585]\u001b[0m Trial 14 finished with value: 0.7394979770771763 and parameters: {'svc_kernel': 'linear', 'svc_C': 41.02106388959059, 'threshold': 0.06400555048443916}. Best is trial 13 with value: 0.7460348531608851.\u001b[0m\n",
            "\u001b[32m[I 2021-12-03 15:05:07,796]\u001b[0m Trial 15 finished with value: 0.7383332969825189 and parameters: {'svc_kernel': 'linear', 'svc_C': 15.928820389887402, 'threshold': 0.011294952571462132}. Best is trial 13 with value: 0.7460348531608851.\u001b[0m\n",
            "\u001b[32m[I 2021-12-03 15:05:14,639]\u001b[0m Trial 16 finished with value: 0.7455678360723672 and parameters: {'svc_kernel': 'linear', 'svc_C': 42.44654865224018, 'threshold': 0.042168331381701625}. Best is trial 13 with value: 0.7460348531608851.\u001b[0m\n",
            "\u001b[32m[I 2021-12-03 15:05:23,978]\u001b[0m Trial 17 finished with value: 0.7458014809321802 and parameters: {'svc_kernel': 'linear', 'svc_C': 72.04335106654273, 'threshold': 0.04363874204030165}. Best is trial 13 with value: 0.7460348531608851.\u001b[0m\n",
            "\u001b[32m[I 2021-12-03 15:05:31,737]\u001b[0m Trial 18 finished with value: 0.7383313885647608 and parameters: {'svc_kernel': 'linear', 'svc_C': 74.86197061912969, 'threshold': 0.0680765777376954}. Best is trial 13 with value: 0.7460348531608851.\u001b[0m\n",
            "\u001b[32m[I 2021-12-03 15:05:43,804]\u001b[0m Trial 19 finished with value: 0.7455672908101505 and parameters: {'svc_kernel': 'linear', 'svc_C': 95.98633361748139, 'threshold': 0.04824937256855517}. Best is trial 13 with value: 0.7460348531608851.\u001b[0m\n",
            "\u001b[32m[I 2021-12-03 15:05:55,375]\u001b[0m Trial 20 finished with value: 0.7348302598719725 and parameters: {'svc_kernel': 'linear', 'svc_C': 68.49285739509475, 'threshold': 0.015895124021583197}. Best is trial 13 with value: 0.7460348531608851.\u001b[0m\n",
            "\u001b[32m[I 2021-12-03 15:06:02,555]\u001b[0m Trial 21 finished with value: 0.746034853160885 and parameters: {'svc_kernel': 'linear', 'svc_C': 44.80288867117916, 'threshold': 0.043113863248493936}. Best is trial 13 with value: 0.7460348531608851.\u001b[0m\n",
            "\u001b[32m[I 2021-12-03 15:06:12,335]\u001b[0m Trial 22 finished with value: 0.7402002748121572 and parameters: {'svc_kernel': 'linear', 'svc_C': 79.96998388512462, 'threshold': 0.050647180404674225}. Best is trial 13 with value: 0.7460348531608851.\u001b[0m\n",
            "\u001b[32m[I 2021-12-03 15:06:20,227]\u001b[0m Trial 23 finished with value: 0.7392646048484717 and parameters: {'svc_kernel': 'linear', 'svc_C': 66.55341555332515, 'threshold': 0.06185676566605822}. Best is trial 13 with value: 0.7460348531608851.\u001b[0m\n",
            "\u001b[32m[I 2021-12-03 15:06:27,777]\u001b[0m Trial 24 finished with value: 0.7458014809321802 and parameters: {'svc_kernel': 'linear', 'svc_C': 47.74612380943521, 'threshold': 0.04499646206584015}. Best is trial 13 with value: 0.7460348531608851.\u001b[0m\n",
            "\u001b[32m[I 2021-12-03 15:06:35,424]\u001b[0m Trial 25 finished with value: 0.743700040349404 and parameters: {'svc_kernel': 'linear', 'svc_C': 46.03998196217263, 'threshold': 0.0349027138096967}. Best is trial 13 with value: 0.7460348531608851.\u001b[0m\n",
            "\u001b[32m[I 2021-12-03 15:06:43,762]\u001b[0m Trial 26 finished with value: 0.7380971984427311 and parameters: {'svc_kernel': 'linear', 'svc_C': 88.28717088529068, 'threshold': 0.0704780698143794}. Best is trial 13 with value: 0.7460348531608851.\u001b[0m\n",
            "\u001b[32m[I 2021-12-03 15:06:51,918]\u001b[0m Trial 27 finished with value: 0.7465015976182946 and parameters: {'svc_kernel': 'linear', 'svc_C': 52.220885848474836, 'threshold': 0.04757401223406207}. Best is trial 27 with value: 0.7465015976182946.\u001b[0m\n",
            "\u001b[32m[I 2021-12-03 15:06:59,416]\u001b[0m Trial 28 finished with value: 0.7408987557116217 and parameters: {'svc_kernel': 'linear', 'svc_C': 55.053747918606454, 'threshold': 0.05720797263827768}. Best is trial 27 with value: 0.7465015976182946.\u001b[0m\n",
            "\u001b[32m[I 2021-12-03 15:07:05,967]\u001b[0m Trial 29 finished with value: 0.7429999236632897 and parameters: {'svc_kernel': 'linear', 'svc_C': 35.691495245974096, 'threshold': 0.03634299799093631}. Best is trial 27 with value: 0.7465015976182946.\u001b[0m\n",
            "\u001b[32m[I 2021-12-03 15:07:13,940]\u001b[0m Trial 30 finished with value: 0.7376320897719714 and parameters: {'svc_kernel': 'linear', 'svc_C': 38.550133303784584, 'threshold': 0.022934942804306108}. Best is trial 27 with value: 0.7465015976182946.\u001b[0m\n",
            "\u001b[32m[I 2021-12-03 15:07:22,896]\u001b[0m Trial 31 finished with value: 0.7458014809321802 and parameters: {'svc_kernel': 'linear', 'svc_C': 63.07304297188558, 'threshold': 0.044200851451746445}. Best is trial 27 with value: 0.7465015976182946.\u001b[0m\n",
            "\u001b[32m[I 2021-12-03 15:07:31,565]\u001b[0m Trial 32 finished with value: 0.7402002748121572 and parameters: {'svc_kernel': 'linear', 'svc_C': 65.20023134783939, 'threshold': 0.05052561146991262}. Best is trial 27 with value: 0.7465015976182946.\u001b[0m\n",
            "\u001b[32m[I 2021-12-03 15:07:36,570]\u001b[0m Trial 33 finished with value: 0.7406648382207004 and parameters: {'svc_kernel': 'linear', 'svc_C': 24.0348742926448, 'threshold': 0.06018791540039886}. Best is trial 27 with value: 0.7465015976182946.\u001b[0m\n",
            "\u001b[32m[I 2021-12-03 15:07:44,785]\u001b[0m Trial 34 finished with value: 0.7420675252729038 and parameters: {'svc_kernel': 'linear', 'svc_C': 61.478854612819084, 'threshold': 0.053448437709700286}. Best is trial 27 with value: 0.7465015976182946.\u001b[0m\n",
            "\u001b[32m[I 2021-12-03 15:07:54,547]\u001b[0m Trial 35 finished with value: 0.7432332958919945 and parameters: {'svc_kernel': 'linear', 'svc_C': 73.58497282240535, 'threshold': 0.03718019662128899}. Best is trial 27 with value: 0.7465015976182946.\u001b[0m\n",
            "\u001b[32m[I 2021-12-03 15:08:02,606]\u001b[0m Trial 36 finished with value: 0.746034853160885 and parameters: {'svc_kernel': 'linear', 'svc_C': 52.926740973417715, 'threshold': 0.048026476121026035}. Best is trial 27 with value: 0.7465015976182946.\u001b[0m\n",
            "\u001b[32m[I 2021-12-03 15:08:10,278]\u001b[0m Trial 37 finished with value: 0.7411321279403265 and parameters: {'svc_kernel': 'linear', 'svc_C': 53.703287175826084, 'threshold': 0.056205525953404833}. Best is trial 27 with value: 0.7465015976182946.\u001b[0m\n",
            "\u001b[32m[I 2021-12-03 15:08:18,473]\u001b[0m Trial 38 finished with value: 0.7404309207297789 and parameters: {'svc_kernel': 'linear', 'svc_C': 51.81387297325331, 'threshold': 0.03204708568640713}. Best is trial 27 with value: 0.7465015976182946.\u001b[0m\n",
            "\u001b[32m[I 2021-12-03 15:08:24,123]\u001b[0m Trial 39 finished with value: 0.7462679527584816 and parameters: {'svc_kernel': 'linear', 'svc_C': 27.294675826488056, 'threshold': 0.046965394946507144}. Best is trial 27 with value: 0.7465015976182946.\u001b[0m\n",
            "\u001b[32m[I 2021-12-03 15:08:28,126]\u001b[0m Trial 40 finished with value: 0.7362302206130928 and parameters: {'svc_kernel': 'linear', 'svc_C': 23.62923403074449, 'threshold': 0.07954754600172759}. Best is trial 27 with value: 0.7465015976182946.\u001b[0m\n",
            "\u001b[32m[I 2021-12-03 15:08:31,782]\u001b[0m Trial 41 finished with value: 0.7427670966968014 and parameters: {'svc_kernel': 'linear', 'svc_C': 8.967676749486046, 'threshold': 0.04852455064376157}. Best is trial 27 with value: 0.7465015976182946.\u001b[0m\n",
            "\u001b[32m[I 2021-12-03 15:08:38,760]\u001b[0m Trial 42 finished with value: 0.740665383482917 and parameters: {'svc_kernel': 'linear', 'svc_C': 46.438845506148084, 'threshold': 0.05398141265170407}. Best is trial 27 with value: 0.7465015976182946.\u001b[0m\n",
            "\u001b[32m[I 2021-12-03 15:08:44,657]\u001b[0m Trial 43 finished with value: 0.7429999236632897 and parameters: {'svc_kernel': 'linear', 'svc_C': 29.436312382156512, 'threshold': 0.03901636528679597}. Best is trial 27 with value: 0.7465015976182946.\u001b[0m\n",
            "\u001b[32m[I 2021-12-03 15:08:49,624]\u001b[0m Trial 44 finished with value: 0.7462682253895899 and parameters: {'svc_kernel': 'linear', 'svc_C': 19.91031943864493, 'threshold': 0.04662161642516084}. Best is trial 27 with value: 0.7465015976182946.\u001b[0m\n",
            "\u001b[32m[I 2021-12-03 15:08:53,532]\u001b[0m Trial 45 finished with value: 0.7369295194058824 and parameters: {'svc_kernel': 'linear', 'svc_C': 14.793040566589038, 'threshold': 0.06514352216349602}. Best is trial 27 with value: 0.7465015976182946.\u001b[0m\n",
            "\u001b[32m[I 2021-12-03 15:08:58,457]\u001b[0m Trial 46 finished with value: 0.745801208301072 and parameters: {'svc_kernel': 'linear', 'svc_C': 18.79803615147139, 'threshold': 0.04711176733387258}. Best is trial 27 with value: 0.7465015976182946.\u001b[0m\n",
            "\u001b[32m[I 2021-12-03 15:09:00,678]\u001b[0m Trial 47 finished with value: 0.74276573354126 and parameters: {'svc_kernel': 'linear', 'svc_C': 1.235525247740366, 'threshold': 0.027605436094625506}. Best is trial 27 with value: 0.7465015976182946.\u001b[0m\n",
            "\u001b[32m[I 2021-12-03 15:09:04,304]\u001b[0m Trial 48 finished with value: 0.7399649941656942 and parameters: {'svc_kernel': 'linear', 'svc_C': 10.578470485303717, 'threshold': 0.05963837907456396}. Best is trial 27 with value: 0.7465015976182946.\u001b[0m\n",
            "\u001b[32m[I 2021-12-03 15:09:10,371]\u001b[0m Trial 49 finished with value: 0.740665383482917 and parameters: {'svc_kernel': 'linear', 'svc_C': 35.61119861188555, 'threshold': 0.05402786405215774}. Best is trial 27 with value: 0.7465015976182946.\u001b[0m\n",
            "\u001b[32m[I 2021-12-03 15:09:17,056]\u001b[0m Trial 50 finished with value: 0.7383305706714359 and parameters: {'svc_kernel': 'linear', 'svc_C': 59.50397485177321, 'threshold': 0.07294706052716038}. Best is trial 27 with value: 0.7465015976182946.\u001b[0m\n",
            "\u001b[32m[I 2021-12-03 15:09:22,600]\u001b[0m Trial 51 finished with value: 0.7462682253895898 and parameters: {'svc_kernel': 'linear', 'svc_C': 28.599583862672997, 'threshold': 0.04241079995609972}. Best is trial 27 with value: 0.7465015976182946.\u001b[0m\n",
            "\u001b[32m[I 2021-12-03 15:09:28,651]\u001b[0m Trial 52 finished with value: 0.7429999236632897 and parameters: {'svc_kernel': 'linear', 'svc_C': 29.8076582798288, 'threshold': 0.04044785306933256}. Best is trial 27 with value: 0.7465015976182946.\u001b[0m\n",
            "\u001b[32m[I 2021-12-03 15:09:34,025]\u001b[0m Trial 53 finished with value: 0.7411340363580846 and parameters: {'svc_kernel': 'linear', 'svc_C': 27.15326363689158, 'threshold': 0.05145391043375007}. Best is trial 27 with value: 0.7465015976182946.\u001b[0m\n",
            "\u001b[32m[I 2021-12-03 15:09:38,791]\u001b[0m Trial 54 finished with value: 0.7418311541020077 and parameters: {'svc_kernel': 'linear', 'svc_C': 20.2891607794653, 'threshold': 0.033259858880644685}. Best is trial 27 with value: 0.7465015976182946.\u001b[0m\n",
            "\u001b[32m[I 2021-12-03 15:09:45,617]\u001b[0m Trial 55 finished with value: 0.7460345805297768 and parameters: {'svc_kernel': 'linear', 'svc_C': 39.21792692871962, 'threshold': 0.045375751761739705}. Best is trial 27 with value: 0.7465015976182946.\u001b[0m\n",
            "\u001b[32m[I 2021-12-03 15:09:52,022]\u001b[0m Trial 56 finished with value: 0.7444001570355183 and parameters: {'svc_kernel': 'linear', 'svc_C': 33.91623523408011, 'threshold': 0.040831843104076185}. Best is trial 27 with value: 0.7465015976182946.\u001b[0m\n",
            "\u001b[32m[I 2021-12-03 15:10:03,548]\u001b[0m Trial 57 finished with value: 0.7401983663943991 and parameters: {'svc_kernel': 'linear', 'svc_C': 77.61509208625243, 'threshold': 0.027208382567692008}. Best is trial 27 with value: 0.7465015976182946.\u001b[0m\n",
            "\u001b[32m[I 2021-12-03 15:10:07,085]\u001b[0m Trial 58 finished with value: 0.7430007415566146 and parameters: {'svc_kernel': 'linear', 'svc_C': 8.237264813870404, 'threshold': 0.04856273039145426}. Best is trial 27 with value: 0.7465015976182946.\u001b[0m\n",
            "\u001b[32m[I 2021-12-03 15:10:13,184]\u001b[0m Trial 59 finished with value: 0.7324943565360582 and parameters: {'svc_kernel': 'linear', 'svc_C': 84.26919172165822, 'threshold': 0.0937832855527457}. Best is trial 27 with value: 0.7465015976182946.\u001b[0m\n",
            "\u001b[32m[I 2021-12-03 15:10:20,413]\u001b[0m Trial 60 finished with value: 0.746034853160885 and parameters: {'svc_kernel': 'linear', 'svc_C': 43.558954699664866, 'threshold': 0.04384345485209471}. Best is trial 27 with value: 0.7465015976182946.\u001b[0m\n",
            "\u001b[32m[I 2021-12-03 15:10:27,639]\u001b[0m Trial 61 finished with value: 0.7455681087034756 and parameters: {'svc_kernel': 'linear', 'svc_C': 43.554496786016855, 'threshold': 0.0425885411012048}. Best is trial 27 with value: 0.7465015976182946.\u001b[0m\n",
            "\u001b[32m[I 2021-12-03 15:10:35,529]\u001b[0m Trial 62 finished with value: 0.7432332958919944 and parameters: {'svc_kernel': 'linear', 'svc_C': 49.56345834142968, 'threshold': 0.03870487941052096}. Best is trial 27 with value: 0.7465015976182946.\u001b[0m\n",
            "\u001b[32m[I 2021-12-03 15:10:40,223]\u001b[0m Trial 63 finished with value: 0.740198366394399 and parameters: {'svc_kernel': 'linear', 'svc_C': 20.38774619014152, 'threshold': 0.057234280172485635}. Best is trial 27 with value: 0.7465015976182946.\u001b[0m\n",
            "\u001b[32m[I 2021-12-03 15:10:45,809]\u001b[0m Trial 64 finished with value: 0.7416007808154943 and parameters: {'svc_kernel': 'linear', 'svc_C': 27.539106711173616, 'threshold': 0.05173691020193198}. Best is trial 27 with value: 0.7465015976182946.\u001b[0m\n",
            "\u001b[32m[I 2021-12-03 15:10:50,153]\u001b[0m Trial 65 finished with value: 0.7462679527584816 and parameters: {'svc_kernel': 'linear', 'svc_C': 14.027268843195683, 'threshold': 0.04705009923909966}. Best is trial 27 with value: 0.7465015976182946.\u001b[0m\n",
            "\u001b[32m[I 2021-12-03 15:10:54,479]\u001b[0m Trial 66 finished with value: 0.7437003129805124 and parameters: {'svc_kernel': 'linear', 'svc_C': 13.699918914266696, 'threshold': 0.03555979761978221}. Best is trial 27 with value: 0.7465015976182946.\u001b[0m\n",
            "\u001b[32m[I 2021-12-03 15:11:03,102]\u001b[0m Trial 67 finished with value: 0.7465015976182946 and parameters: {'svc_kernel': 'linear', 'svc_C': 58.46057571654841, 'threshold': 0.04786649921357561}. Best is trial 27 with value: 0.7465015976182946.\u001b[0m\n",
            "\u001b[32m[I 2021-12-03 15:11:06,198]\u001b[0m Trial 68 finished with value: 0.7444007022977349 and parameters: {'svc_kernel': 'linear', 'svc_C': 5.085847065352844, 'threshold': 0.0462158976975242}. Best is trial 27 with value: 0.7465015976182946.\u001b[0m\n",
            "\u001b[32m[I 2021-12-03 15:11:15,051]\u001b[0m Trial 69 finished with value: 0.7408987557116217 and parameters: {'svc_kernel': 'linear', 'svc_C': 69.16306328638218, 'threshold': 0.05656184516744742}. Best is trial 27 with value: 0.7465015976182946.\u001b[0m\n",
            "\u001b[32m[I 2021-12-03 15:11:22,216]\u001b[0m Trial 70 finished with value: 0.7394979770771763 and parameters: {'svc_kernel': 'linear', 'svc_C': 57.80041925998877, 'threshold': 0.06315616277460609}. Best is trial 27 with value: 0.7465015976182946.\u001b[0m\n",
            "\u001b[32m[I 2021-12-03 15:11:26,811]\u001b[0m Trial 71 finished with value: 0.7458014809321802 and parameters: {'svc_kernel': 'linear', 'svc_C': 17.383855942671374, 'threshold': 0.043599652095856416}. Best is trial 27 with value: 0.7465015976182946.\u001b[0m\n",
            "\u001b[32m[I 2021-12-03 15:11:30,960]\u001b[0m Trial 72 finished with value: 0.7418344256753072 and parameters: {'svc_kernel': 'linear', 'svc_C': 13.134441468685706, 'threshold': 0.05147564541322629}. Best is trial 27 with value: 0.7465015976182946.\u001b[0m\n",
            "\u001b[32m[I 2021-12-03 15:11:36,052]\u001b[0m Trial 73 finished with value: 0.7455681087034755 and parameters: {'svc_kernel': 'linear', 'svc_C': 22.387529649685966, 'threshold': 0.041513252604822574}. Best is trial 27 with value: 0.7465015976182946.\u001b[0m\n",
            "\u001b[32m[I 2021-12-03 15:11:44,011]\u001b[0m Trial 74 finished with value: 0.7469683420757043 and parameters: {'svc_kernel': 'linear', 'svc_C': 53.48212868147047, 'threshold': 0.048139859240600574}. Best is trial 74 with value: 0.7469683420757043.\u001b[0m\n",
            "\u001b[32m[I 2021-12-03 15:11:59,130]\u001b[0m Trial 75 finished with value: 0.7350649952562187 and parameters: {'svc_kernel': 'linear', 'svc_C': 64.02120140614356, 'threshold': 0.0025119998907799507}. Best is trial 74 with value: 0.7469683420757043.\u001b[0m\n",
            "\u001b[32m[I 2021-12-03 15:12:07,087]\u001b[0m Trial 76 finished with value: 0.7409003914982717 and parameters: {'svc_kernel': 'linear', 'svc_C': 56.059335792291954, 'threshold': 0.04934245916686879}. Best is trial 74 with value: 0.7469683420757043.\u001b[0m\n",
            "\u001b[32m[I 2021-12-03 15:12:12,575]\u001b[0m Trial 77 finished with value: 0.7429999236632897 and parameters: {'svc_kernel': 'linear', 'svc_C': 26.29070441269178, 'threshold': 0.03816980036658393}. Best is trial 74 with value: 0.7469683420757043.\u001b[0m\n",
            "\u001b[32m[I 2021-12-03 15:12:20,396]\u001b[0m Trial 78 finished with value: 0.7462682253895898 and parameters: {'svc_kernel': 'linear', 'svc_C': 51.118528548252414, 'threshold': 0.046140776235926356}. Best is trial 74 with value: 0.7469683420757043.\u001b[0m\n",
            "\u001b[32m[I 2021-12-03 15:12:28,070]\u001b[0m Trial 79 finished with value: 0.7422978985594172 and parameters: {'svc_kernel': 'linear', 'svc_C': 48.31048214045248, 'threshold': 0.03362797457934345}. Best is trial 74 with value: 0.7469683420757043.\u001b[0m\n",
            "\u001b[32m[I 2021-12-03 15:12:35,232]\u001b[0m Trial 80 finished with value: 0.7408987557116217 and parameters: {'svc_kernel': 'linear', 'svc_C': 50.184092601886405, 'threshold': 0.05909429829872898}. Best is trial 74 with value: 0.7469683420757043.\u001b[0m\n",
            "\u001b[32m[I 2021-12-03 15:12:43,687]\u001b[0m Trial 81 finished with value: 0.746034853160885 and parameters: {'svc_kernel': 'linear', 'svc_C': 59.043995452348966, 'threshold': 0.04626357781735036}. Best is trial 74 with value: 0.7469683420757043.\u001b[0m\n",
            "\u001b[32m[I 2021-12-03 15:12:55,719]\u001b[0m Trial 82 finished with value: 0.7427654609101517 and parameters: {'svc_kernel': 'linear', 'svc_C': 91.79581044065816, 'threshold': 0.030143728307950566}. Best is trial 74 with value: 0.7469683420757043.\u001b[0m\n",
            "\u001b[32m[I 2021-12-03 15:13:02,436]\u001b[0m Trial 83 finished with value: 0.7413674085867894 and parameters: {'svc_kernel': 'linear', 'svc_C': 40.09285468144443, 'threshold': 0.052719448645420414}. Best is trial 74 with value: 0.7469683420757043.\u001b[0m\n",
            "\u001b[32m[I 2021-12-03 15:13:10,554]\u001b[0m Trial 84 finished with value: 0.7453344638436624 and parameters: {'svc_kernel': 'linear', 'svc_C': 54.49240075791716, 'threshold': 0.04614353686079404}. Best is trial 74 with value: 0.7469683420757043.\u001b[0m\n",
            "\u001b[32m[I 2021-12-03 15:13:19,255]\u001b[0m Trial 85 finished with value: 0.740665383482917 and parameters: {'svc_kernel': 'linear', 'svc_C': 66.73197348172258, 'threshold': 0.05471144596397915}. Best is trial 74 with value: 0.7469683420757043.\u001b[0m\n",
            "\u001b[32m[I 2021-12-03 15:13:27,698]\u001b[0m Trial 86 finished with value: 0.7402002748121572 and parameters: {'svc_kernel': 'linear', 'svc_C': 61.002916220865664, 'threshold': 0.049356976145480215}. Best is trial 74 with value: 0.7469683420757043.\u001b[0m\n",
            "\u001b[32m[I 2021-12-03 15:13:33,866]\u001b[0m Trial 87 finished with value: 0.7434666681206993 and parameters: {'svc_kernel': 'linear', 'svc_C': 32.6997314713378, 'threshold': 0.036954321850846246}. Best is trial 74 with value: 0.7469683420757043.\u001b[0m\n",
            "\u001b[32m[I 2021-12-03 15:13:40,286]\u001b[0m Trial 88 finished with value: 0.7455681087034756 and parameters: {'svc_kernel': 'linear', 'svc_C': 36.55799636994378, 'threshold': 0.04152704358802504}. Best is trial 74 with value: 0.7469683420757043.\u001b[0m\n",
            "\u001b[32m[I 2021-12-03 15:13:50,328]\u001b[0m Trial 89 finished with value: 0.7448671741240362 and parameters: {'svc_kernel': 'linear', 'svc_C': 76.17986866095066, 'threshold': 0.04463726772944451}. Best is trial 74 with value: 0.7469683420757043.\u001b[0m\n",
            "\u001b[32m[I 2021-12-03 15:13:58,344]\u001b[0m Trial 90 finished with value: 0.7465015976182946 and parameters: {'svc_kernel': 'linear', 'svc_C': 52.110688043884466, 'threshold': 0.047784460878783755}. Best is trial 74 with value: 0.7469683420757043.\u001b[0m\n",
            "\u001b[32m[I 2021-12-03 15:14:06,301]\u001b[0m Trial 91 finished with value: 0.7465015976182946 and parameters: {'svc_kernel': 'linear', 'svc_C': 52.0715497033056, 'threshold': 0.04780127766852388}. Best is trial 74 with value: 0.7469683420757043.\u001b[0m\n",
            "\u001b[32m[I 2021-12-03 15:14:13,458]\u001b[0m Trial 92 finished with value: 0.7413674085867895 and parameters: {'svc_kernel': 'linear', 'svc_C': 45.76653175507654, 'threshold': 0.04990366988132089}. Best is trial 74 with value: 0.7469683420757043.\u001b[0m\n",
            "\u001b[32m[I 2021-12-03 15:14:21,463]\u001b[0m Trial 93 finished with value: 0.7462682253895899 and parameters: {'svc_kernel': 'linear', 'svc_C': 52.90491436396128, 'threshold': 0.04720165115499354}. Best is trial 74 with value: 0.7469683420757043.\u001b[0m\n",
            "\u001b[32m[I 2021-12-03 15:14:29,049]\u001b[0m Trial 94 finished with value: 0.7408987557116217 and parameters: {'svc_kernel': 'linear', 'svc_C': 51.607609516975714, 'threshold': 0.054123492614161925}. Best is trial 74 with value: 0.7469683420757043.\u001b[0m\n",
            "\u001b[32m[I 2021-12-03 15:14:37,290]\u001b[0m Trial 95 finished with value: 0.7434666681206992 and parameters: {'svc_kernel': 'linear', 'svc_C': 53.00261511981023, 'threshold': 0.039846764154823675}. Best is trial 74 with value: 0.7469683420757043.\u001b[0m\n",
            "\u001b[32m[I 2021-12-03 15:14:45,468]\u001b[0m Trial 96 finished with value: 0.7465015976182946 and parameters: {'svc_kernel': 'linear', 'svc_C': 56.64136747571215, 'threshold': 0.048293931869954385}. Best is trial 74 with value: 0.7469683420757043.\u001b[0m\n",
            "\u001b[32m[I 2021-12-03 15:14:51,799]\u001b[0m Trial 97 finished with value: 0.7385650334245739 and parameters: {'svc_kernel': 'linear', 'svc_C': 48.592447491322005, 'threshold': 0.0664323778500624}. Best is trial 74 with value: 0.7469683420757043.\u001b[0m\n",
            "\u001b[32m[I 2021-12-03 15:15:00,020]\u001b[0m Trial 98 finished with value: 0.746034853160885 and parameters: {'svc_kernel': 'linear', 'svc_C': 56.17324233973221, 'threshold': 0.042742997802749864}. Best is trial 74 with value: 0.7469683420757043.\u001b[0m\n",
            "\u001b[32m[I 2021-12-03 15:15:08,524]\u001b[0m Trial 99 finished with value: 0.7404339196719703 and parameters: {'svc_kernel': 'linear', 'svc_C': 61.73893240880926, 'threshold': 0.05054966658732327}. Best is trial 74 with value: 0.7469683420757043.\u001b[0m\n"
          ]
        }
      ]
    },
    {
      "cell_type": "markdown",
      "metadata": {
        "id": "fNS8oLat3UDD"
      },
      "source": [
        "Παρατηρούμε ότι η μέγιστη επίδοση που πετυχαίνουμε για kernel = linear είναι 74.69% accuracy.\n",
        "Την επίδοση αυτή την πετυχαίνουμε για τις ακόλουθες τιμές υπερπαραμέτρων:\n",
        "\n",
        "* kernel = linear\n",
        "* C =  53.48212868147047\n",
        "* threshold = 0.048139859240600574"
      ]
    },
    {
      "cell_type": "code",
      "metadata": {
        "colab": {
          "base_uri": "https://localhost:8080/"
        },
        "id": "TailWgSCHhSq",
        "outputId": "ce4867c7-2006-4dbb-c1b1-4a88737fa1ed"
      },
      "source": [
        "def objective(trial):\n",
        "\n",
        "    \n",
        "    svc_kernel = trial.suggest_categorical('svc_kernel',['linear'])\n",
        "\n",
        "    svc_C = trial.suggest_float('svc_C',1,100)\n",
        "\n",
        "    svm = SVC(kernel = svc_kernel, C = svc_C)\n",
        "            \n",
        "    threshold = trial.suggest_float('threshold', 0, 0.1)\n",
        "\n",
        "\n",
        "    clf = Pipeline(steps = [('minmax_scaler', preprocessing.MinMaxScaler()), ('selector', VarianceThreshold(threshold)), ('svm', svm)])\n",
        "  \n",
        "\n",
        "    return np.mean(cross_val_score(clf, X_train_small, y_train_small, cv = 5, scoring = 'f1' , n_jobs = -1))\n",
        "\n",
        "study = optuna.create_study(direction = 'maximize')\n",
        "study.optimize(objective, n_trials = 100)"
      ],
      "execution_count": null,
      "outputs": [
        {
          "output_type": "stream",
          "name": "stderr",
          "text": [
            "\u001b[32m[I 2021-12-03 16:26:26,761]\u001b[0m A new study created in memory with name: no-name-448d6ee0-1d6e-49ef-8328-94f91f62edf5\u001b[0m\n",
            "\u001b[32m[I 2021-12-03 16:26:30,570]\u001b[0m Trial 0 finished with value: 0.7419785829399346 and parameters: {'svc_kernel': 'linear', 'svc_C': 7.9546785119242305, 'threshold': 0.05278636436073504}. Best is trial 0 with value: 0.7419785829399346.\u001b[0m\n",
            "\u001b[32m[I 2021-12-03 16:26:36,273]\u001b[0m Trial 1 finished with value: 0.7332617460127475 and parameters: {'svc_kernel': 'linear', 'svc_C': 69.05482130838294, 'threshold': 0.0910131082350272}. Best is trial 0 with value: 0.7419785829399346.\u001b[0m\n",
            "\u001b[32m[I 2021-12-03 16:26:45,878]\u001b[0m Trial 2 finished with value: 0.7408310194460699 and parameters: {'svc_kernel': 'linear', 'svc_C': 81.78436382511904, 'threshold': 0.054025488928446365}. Best is trial 0 with value: 0.7419785829399346.\u001b[0m\n",
            "\u001b[32m[I 2021-12-03 16:26:57,330]\u001b[0m Trial 3 finished with value: 0.7246499134283363 and parameters: {'svc_kernel': 'linear', 'svc_C': 42.49812470371371, 'threshold': 0.0028265916955753758}. Best is trial 0 with value: 0.7419785829399346.\u001b[0m\n",
            "\u001b[32m[I 2021-12-03 16:27:15,458]\u001b[0m Trial 4 finished with value: 0.7214257209247436 and parameters: {'svc_kernel': 'linear', 'svc_C': 77.61164978780405, 'threshold': 0.0003907839224468135}. Best is trial 0 with value: 0.7419785829399346.\u001b[0m\n",
            "\u001b[32m[I 2021-12-03 16:27:23,545]\u001b[0m Trial 5 finished with value: 0.7398275110027546 and parameters: {'svc_kernel': 'linear', 'svc_C': 78.39004121819484, 'threshold': 0.06893237177157883}. Best is trial 0 with value: 0.7419785829399346.\u001b[0m\n",
            "\u001b[32m[I 2021-12-03 16:27:31,743]\u001b[0m Trial 6 finished with value: 0.7393589373210598 and parameters: {'svc_kernel': 'linear', 'svc_C': 79.4793877589493, 'threshold': 0.06877224576841157}. Best is trial 0 with value: 0.7419785829399346.\u001b[0m\n",
            "\u001b[32m[I 2021-12-03 16:27:37,060]\u001b[0m Trial 7 finished with value: 0.7446711578954843 and parameters: {'svc_kernel': 'linear', 'svc_C': 22.488809428275207, 'threshold': 0.04646074215427094}. Best is trial 7 with value: 0.7446711578954843.\u001b[0m\n",
            "\u001b[32m[I 2021-12-03 16:27:43,640]\u001b[0m Trial 8 finished with value: 0.7314212174980155 and parameters: {'svc_kernel': 'linear', 'svc_C': 93.04776052753645, 'threshold': 0.09517327317853187}. Best is trial 7 with value: 0.7446711578954843.\u001b[0m\n",
            "\u001b[32m[I 2021-12-03 16:27:53,420]\u001b[0m Trial 9 finished with value: 0.7387160041321648 and parameters: {'svc_kernel': 'linear', 'svc_C': 63.20984827202055, 'threshold': 0.030174499020231383}. Best is trial 7 with value: 0.7446711578954843.\u001b[0m\n",
            "\u001b[32m[I 2021-12-03 16:27:58,704]\u001b[0m Trial 10 finished with value: 0.7363678629494587 and parameters: {'svc_kernel': 'linear', 'svc_C': 20.899475621167642, 'threshold': 0.027199132149065053}. Best is trial 7 with value: 0.7446711578954843.\u001b[0m\n",
            "\u001b[32m[I 2021-12-03 16:28:01,398]\u001b[0m Trial 11 finished with value: 0.7418187090388101 and parameters: {'svc_kernel': 'linear', 'svc_C': 2.1658799845310117, 'threshold': 0.040061462704301304}. Best is trial 7 with value: 0.7446711578954843.\u001b[0m\n",
            "\u001b[32m[I 2021-12-03 16:28:06,272]\u001b[0m Trial 12 finished with value: 0.7415216130677895 and parameters: {'svc_kernel': 'linear', 'svc_C': 21.786217370876194, 'threshold': 0.05731669243286836}. Best is trial 7 with value: 0.7446711578954843.\u001b[0m\n",
            "\u001b[32m[I 2021-12-03 16:28:08,991]\u001b[0m Trial 13 finished with value: 0.7336320138053898 and parameters: {'svc_kernel': 'linear', 'svc_C': 1.3528080624943506, 'threshold': 0.021784803865795045}. Best is trial 7 with value: 0.7446711578954843.\u001b[0m\n",
            "\u001b[32m[I 2021-12-03 16:28:13,871]\u001b[0m Trial 14 finished with value: 0.738475809996116 and parameters: {'svc_kernel': 'linear', 'svc_C': 29.51242340131391, 'threshold': 0.07393132354708733}. Best is trial 7 with value: 0.7446711578954843.\u001b[0m\n",
            "\u001b[32m[I 2021-12-03 16:28:20,896]\u001b[0m Trial 15 finished with value: 0.7448751673845313 and parameters: {'svc_kernel': 'linear', 'svc_C': 40.57431518955427, 'threshold': 0.043347641338423656}. Best is trial 15 with value: 0.7448751673845313.\u001b[0m\n",
            "\u001b[32m[I 2021-12-03 16:28:28,577]\u001b[0m Trial 16 finished with value: 0.7448668023362045 and parameters: {'svc_kernel': 'linear', 'svc_C': 47.44817568616982, 'threshold': 0.04178675066372584}. Best is trial 15 with value: 0.7448751673845313.\u001b[0m\n",
            "\u001b[32m[I 2021-12-03 16:28:38,013]\u001b[0m Trial 17 finished with value: 0.7300262652232398 and parameters: {'svc_kernel': 'linear', 'svc_C': 46.975870944234416, 'threshold': 0.015778607663784427}. Best is trial 15 with value: 0.7448751673845313.\u001b[0m\n",
            "\u001b[32m[I 2021-12-03 16:28:46,737]\u001b[0m Trial 18 finished with value: 0.742316176231755 and parameters: {'svc_kernel': 'linear', 'svc_C': 57.31571501660109, 'threshold': 0.036729082306455024}. Best is trial 15 with value: 0.7448751673845313.\u001b[0m\n",
            "\u001b[32m[I 2021-12-03 16:28:55,846]\u001b[0m Trial 19 finished with value: 0.7334745618662601 and parameters: {'svc_kernel': 'linear', 'svc_C': 40.94646107599989, 'threshold': 0.0117352391865908}. Best is trial 15 with value: 0.7448751673845313.\u001b[0m\n",
            "\u001b[32m[I 2021-12-03 16:29:00,677]\u001b[0m Trial 20 finished with value: 0.7389473966155109 and parameters: {'svc_kernel': 'linear', 'svc_C': 33.382056041394655, 'threshold': 0.07975072176261735}. Best is trial 15 with value: 0.7448751673845313.\u001b[0m\n",
            "\u001b[32m[I 2021-12-03 16:29:08,696]\u001b[0m Trial 21 finished with value: 0.7446994692404103 and parameters: {'svc_kernel': 'linear', 'svc_C': 51.961844773171045, 'threshold': 0.044749860955801406}. Best is trial 15 with value: 0.7448751673845313.\u001b[0m\n",
            "\u001b[32m[I 2021-12-03 16:29:17,085]\u001b[0m Trial 22 finished with value: 0.7443860448358255 and parameters: {'svc_kernel': 'linear', 'svc_C': 55.451157313191764, 'threshold': 0.044217812068535485}. Best is trial 15 with value: 0.7448751673845313.\u001b[0m\n",
            "\u001b[32m[I 2021-12-03 16:29:24,176]\u001b[0m Trial 23 finished with value: 0.7417585481909246 and parameters: {'svc_kernel': 'linear', 'svc_C': 49.70346879494952, 'threshold': 0.05883097465521785}. Best is trial 15 with value: 0.7448751673845313.\u001b[0m\n",
            "\u001b[32m[I 2021-12-03 16:29:30,883]\u001b[0m Trial 24 finished with value: 0.7410135408215196 and parameters: {'svc_kernel': 'linear', 'svc_C': 36.054806029084645, 'threshold': 0.03375756956617437}. Best is trial 15 with value: 0.7448751673845313.\u001b[0m\n",
            "\u001b[32m[I 2021-12-03 16:29:38,938]\u001b[0m Trial 25 finished with value: 0.7393147647181566 and parameters: {'svc_kernel': 'linear', 'svc_C': 65.08448646337906, 'threshold': 0.0634916044911234}. Best is trial 15 with value: 0.7448751673845313.\u001b[0m\n",
            "\u001b[32m[I 2021-12-03 16:29:47,090]\u001b[0m Trial 26 finished with value: 0.7447456426182336 and parameters: {'svc_kernel': 'linear', 'svc_C': 54.45840628942749, 'threshold': 0.042747728191552904}. Best is trial 15 with value: 0.7448751673845313.\u001b[0m\n",
            "\u001b[32m[I 2021-12-03 16:29:57,007]\u001b[0m Trial 27 finished with value: 0.738708527923974 and parameters: {'svc_kernel': 'linear', 'svc_C': 58.96731475481314, 'threshold': 0.02682311470341751}. Best is trial 15 with value: 0.7448751673845313.\u001b[0m\n",
            "\u001b[32m[I 2021-12-03 16:30:04,343]\u001b[0m Trial 28 finished with value: 0.7427807582216088 and parameters: {'svc_kernel': 'linear', 'svc_C': 41.020087819916235, 'threshold': 0.03859181164116789}. Best is trial 15 with value: 0.7448751673845313.\u001b[0m\n",
            "\u001b[32m[I 2021-12-03 16:30:08,860]\u001b[0m Trial 29 finished with value: 0.7416928752226959 and parameters: {'svc_kernel': 'linear', 'svc_C': 15.004975055069014, 'threshold': 0.051266541918922263}. Best is trial 15 with value: 0.7448751673845313.\u001b[0m\n",
            "\u001b[32m[I 2021-12-03 16:30:21,049]\u001b[0m Trial 30 finished with value: 0.7334910183240695 and parameters: {'svc_kernel': 'linear', 'svc_C': 70.44843467082961, 'threshold': 0.021662138019949918}. Best is trial 15 with value: 0.7448751673845313.\u001b[0m\n",
            "\u001b[32m[I 2021-12-03 16:30:29,047]\u001b[0m Trial 31 finished with value: 0.7445533779316198 and parameters: {'svc_kernel': 'linear', 'svc_C': 50.55778930648367, 'threshold': 0.045732970949965486}. Best is trial 15 with value: 0.7448751673845313.\u001b[0m\n",
            "\u001b[32m[I 2021-12-03 16:30:36,975]\u001b[0m Trial 32 finished with value: 0.7407086319901255 and parameters: {'svc_kernel': 'linear', 'svc_C': 53.289218474161494, 'threshold': 0.04996849781841799}. Best is trial 15 with value: 0.7448751673845313.\u001b[0m\n",
            "\u001b[32m[I 2021-12-03 16:30:43,228]\u001b[0m Trial 33 finished with value: 0.7426050600774878 and parameters: {'svc_kernel': 'linear', 'svc_C': 29.473047201147146, 'threshold': 0.03988993760828771}. Best is trial 15 with value: 0.7448751673845313.\u001b[0m\n",
            "\u001b[32m[I 2021-12-03 16:30:50,230]\u001b[0m Trial 34 finished with value: 0.7425008908561874 and parameters: {'svc_kernel': 'linear', 'svc_C': 44.92404947721508, 'threshold': 0.05492532487587198}. Best is trial 15 with value: 0.7448751673845313.\u001b[0m\n",
            "\u001b[32m[I 2021-12-03 16:31:00,213]\u001b[0m Trial 35 finished with value: 0.7404154067489366 and parameters: {'svc_kernel': 'linear', 'svc_C': 70.07961534601424, 'threshold': 0.03402508825764712}. Best is trial 15 with value: 0.7448751673845313.\u001b[0m\n",
            "\u001b[32m[I 2021-12-03 16:31:06,312]\u001b[0m Trial 36 finished with value: 0.7390227788615608 and parameters: {'svc_kernel': 'linear', 'svc_C': 38.2973998801112, 'threshold': 0.06311770428509311}. Best is trial 15 with value: 0.7448751673845313.\u001b[0m\n",
            "\u001b[32m[I 2021-12-03 16:31:15,223]\u001b[0m Trial 37 finished with value: 0.7452102186925658 and parameters: {'svc_kernel': 'linear', 'svc_C': 60.758688704929604, 'threshold': 0.04371729235869766}. Best is trial 37 with value: 0.7452102186925658.\u001b[0m\n",
            "\u001b[32m[I 2021-12-03 16:31:23,869]\u001b[0m Trial 38 finished with value: 0.7407086319901255 and parameters: {'svc_kernel': 'linear', 'svc_C': 63.887165880453665, 'threshold': 0.05144483543871807}. Best is trial 37 with value: 0.7452102186925658.\u001b[0m\n",
            "\u001b[32m[I 2021-12-03 16:31:31,428]\u001b[0m Trial 39 finished with value: 0.7387197852748373 and parameters: {'svc_kernel': 'linear', 'svc_C': 86.84444037629967, 'threshold': 0.08115126360861863}. Best is trial 37 with value: 0.7452102186925658.\u001b[0m\n",
            "\u001b[32m[I 2021-12-03 16:31:41,232]\u001b[0m Trial 40 finished with value: 0.7452102186925658 and parameters: {'svc_kernel': 'linear', 'svc_C': 73.50724539866295, 'threshold': 0.042562150381730376}. Best is trial 37 with value: 0.7452102186925658.\u001b[0m\n",
            "\u001b[32m[I 2021-12-03 16:31:51,531]\u001b[0m Trial 41 finished with value: 0.742316176231755 and parameters: {'svc_kernel': 'linear', 'svc_C': 76.55705405387033, 'threshold': 0.040699872586055404}. Best is trial 37 with value: 0.7452102186925658.\u001b[0m\n",
            "\u001b[32m[I 2021-12-03 16:32:03,965]\u001b[0m Trial 42 finished with value: 0.7404121399942574 and parameters: {'svc_kernel': 'linear', 'svc_C': 97.61492553878745, 'threshold': 0.03257100433737679}. Best is trial 37 with value: 0.7452102186925658.\u001b[0m\n",
            "\u001b[32m[I 2021-12-03 16:32:13,864]\u001b[0m Trial 43 finished with value: 0.7446994692404103 and parameters: {'svc_kernel': 'linear', 'svc_C': 73.40624657549432, 'threshold': 0.045271297286229396}. Best is trial 37 with value: 0.7452102186925658.\u001b[0m\n",
            "\u001b[32m[I 2021-12-03 16:32:23,022]\u001b[0m Trial 44 finished with value: 0.7447848603455356 and parameters: {'svc_kernel': 'linear', 'svc_C': 60.71499522576471, 'threshold': 0.04836685321522006}. Best is trial 37 with value: 0.7452102186925658.\u001b[0m\n",
            "\u001b[32m[I 2021-12-03 16:32:31,049]\u001b[0m Trial 45 finished with value: 0.7393147647181566 and parameters: {'svc_kernel': 'linear', 'svc_C': 66.00071669828283, 'threshold': 0.06204013792427665}. Best is trial 37 with value: 0.7452102186925658.\u001b[0m\n",
            "\u001b[32m[I 2021-12-03 16:32:42,277]\u001b[0m Trial 46 finished with value: 0.7445136268605419 and parameters: {'svc_kernel': 'linear', 'svc_C': 84.56692693598124, 'threshold': 0.04838759539489237}. Best is trial 37 with value: 0.7452102186925658.\u001b[0m\n",
            "\u001b[32m[I 2021-12-03 16:32:51,631]\u001b[0m Trial 47 finished with value: 0.7382388864318796 and parameters: {'svc_kernel': 'linear', 'svc_C': 60.43775875376696, 'threshold': 0.028663199566804486}. Best is trial 37 with value: 0.7452102186925658.\u001b[0m\n",
            "\u001b[32m[I 2021-12-03 16:32:58,723]\u001b[0m Trial 48 finished with value: 0.7414926637859169 and parameters: {'svc_kernel': 'linear', 'svc_C': 45.78673088994315, 'threshold': 0.05447995733221404}. Best is trial 37 with value: 0.7452102186925658.\u001b[0m\n",
            "\u001b[32m[I 2021-12-03 16:33:05,944]\u001b[0m Trial 49 finished with value: 0.738511255153226 and parameters: {'svc_kernel': 'linear', 'svc_C': 60.87543889062215, 'threshold': 0.06767641262452918}. Best is trial 37 with value: 0.7452102186925658.\u001b[0m\n",
            "\u001b[32m[I 2021-12-03 16:33:18,567]\u001b[0m Trial 50 finished with value: 0.7331726423471184 and parameters: {'svc_kernel': 'linear', 'svc_C': 74.3641833474147, 'threshold': 0.021391958212266898}. Best is trial 37 with value: 0.7452102186925658.\u001b[0m\n",
            "\u001b[32m[I 2021-12-03 16:33:27,099]\u001b[0m Trial 51 finished with value: 0.7437713949944706 and parameters: {'svc_kernel': 'linear', 'svc_C': 55.20740440611755, 'threshold': 0.04094226239544311}. Best is trial 37 with value: 0.7452102186925658.\u001b[0m\n",
            "\u001b[32m[I 2021-12-03 16:33:37,144]\u001b[0m Trial 52 finished with value: 0.7424895866363793 and parameters: {'svc_kernel': 'linear', 'svc_C': 67.55578185120231, 'threshold': 0.03731802525067254}. Best is trial 37 with value: 0.7452102186925658.\u001b[0m\n",
            "\u001b[32m[I 2021-12-03 16:33:44,926]\u001b[0m Trial 53 finished with value: 0.7452102186925658 and parameters: {'svc_kernel': 'linear', 'svc_C': 49.58526793947186, 'threshold': 0.043213909556199546}. Best is trial 37 with value: 0.7452102186925658.\u001b[0m\n",
            "\u001b[32m[I 2021-12-03 16:33:52,721]\u001b[0m Trial 54 finished with value: 0.7453966056313829 and parameters: {'svc_kernel': 'linear', 'svc_C': 48.69437208624677, 'threshold': 0.048120956646153935}. Best is trial 54 with value: 0.7453966056313829.\u001b[0m\n",
            "\u001b[32m[I 2021-12-03 16:33:58,856]\u001b[0m Trial 55 finished with value: 0.7427497033737077 and parameters: {'svc_kernel': 'linear', 'svc_C': 31.181739514837016, 'threshold': 0.03479527484027887}. Best is trial 54 with value: 0.7453966056313829.\u001b[0m\n",
            "\u001b[32m[I 2021-12-03 16:34:05,977]\u001b[0m Trial 56 finished with value: 0.7417900156350317 and parameters: {'svc_kernel': 'linear', 'svc_C': 49.39763187193888, 'threshold': 0.059012579416923075}. Best is trial 54 with value: 0.7453966056313829.\u001b[0m\n",
            "\u001b[32m[I 2021-12-03 16:34:14,990]\u001b[0m Trial 57 finished with value: 0.7372259169404691 and parameters: {'svc_kernel': 'linear', 'svc_C': 46.93388970103371, 'threshold': 0.02479002973788394}. Best is trial 54 with value: 0.7453966056313829.\u001b[0m\n",
            "\u001b[32m[I 2021-12-03 16:34:21,703]\u001b[0m Trial 58 finished with value: 0.7381167182509304 and parameters: {'svc_kernel': 'linear', 'svc_C': 36.87703301637434, 'threshold': 0.03003737590877229}. Best is trial 54 with value: 0.7453966056313829.\u001b[0m\n",
            "\u001b[32m[I 2021-12-03 16:34:29,012]\u001b[0m Trial 59 finished with value: 0.7450425004803255 and parameters: {'svc_kernel': 'linear', 'svc_C': 41.09672508778992, 'threshold': 0.043383279885825174}. Best is trial 54 with value: 0.7453966056313829.\u001b[0m\n",
            "\u001b[32m[I 2021-12-03 16:34:35,933]\u001b[0m Trial 60 finished with value: 0.7420339187441607 and parameters: {'svc_kernel': 'linear', 'svc_C': 43.622745683043384, 'threshold': 0.055323065671039166}. Best is trial 54 with value: 0.7453966056313829.\u001b[0m\n",
            "\u001b[32m[I 2021-12-03 16:34:41,450]\u001b[0m Trial 61 finished with value: 0.7445527097068715 and parameters: {'svc_kernel': 'linear', 'svc_C': 25.38996031023199, 'threshold': 0.04287673980766426}. Best is trial 54 with value: 0.7453966056313829.\u001b[0m\n",
            "\u001b[32m[I 2021-12-03 16:34:47,952]\u001b[0m Trial 62 finished with value: 0.7450976165253722 and parameters: {'svc_kernel': 'linear', 'svc_C': 34.44220506656493, 'threshold': 0.04793088453069461}. Best is trial 54 with value: 0.7453966056313829.\u001b[0m\n",
            "\u001b[32m[I 2021-12-03 16:34:54,792]\u001b[0m Trial 63 finished with value: 0.7414380736068584 and parameters: {'svc_kernel': 'linear', 'svc_C': 38.92117121756152, 'threshold': 0.048910649298678416}. Best is trial 54 with value: 0.7453966056313829.\u001b[0m\n",
            "\u001b[32m[I 2021-12-03 16:34:58,723]\u001b[0m Trial 64 finished with value: 0.7267967655136498 and parameters: {'svc_kernel': 'linear', 'svc_C': 33.059176826608095, 'threshold': 0.09985783930012054}. Best is trial 54 with value: 0.7453966056313829.\u001b[0m\n",
            "\u001b[32m[I 2021-12-03 16:35:03,364]\u001b[0m Trial 65 finished with value: 0.7425105477576488 and parameters: {'svc_kernel': 'linear', 'svc_C': 16.61156914757814, 'threshold': 0.0527982768906101}. Best is trial 54 with value: 0.7453966056313829.\u001b[0m\n",
            "\u001b[32m[I 2021-12-03 16:35:10,576]\u001b[0m Trial 66 finished with value: 0.742491874375876 and parameters: {'svc_kernel': 'linear', 'svc_C': 40.71851951765993, 'threshold': 0.036969772299731855}. Best is trial 54 with value: 0.7453966056313829.\u001b[0m\n",
            "\u001b[32m[I 2021-12-03 16:35:16,364]\u001b[0m Trial 67 finished with value: 0.7448069863765456 and parameters: {'svc_kernel': 'linear', 'svc_C': 26.80109269787602, 'threshold': 0.047163809856881386}. Best is trial 54 with value: 0.7453966056313829.\u001b[0m\n",
            "\u001b[32m[I 2021-12-03 16:35:23,502]\u001b[0m Trial 68 finished with value: 0.7450425004803255 and parameters: {'svc_kernel': 'linear', 'svc_C': 42.812201664196614, 'threshold': 0.04397462060522424}. Best is trial 54 with value: 0.7453966056313829.\u001b[0m\n",
            "\u001b[32m[I 2021-12-03 16:35:30,222]\u001b[0m Trial 69 finished with value: 0.7419205716851179 and parameters: {'svc_kernel': 'linear', 'svc_C': 43.29192258449874, 'threshold': 0.05882685186065012}. Best is trial 54 with value: 0.7453966056313829.\u001b[0m\n",
            "\u001b[32m[I 2021-12-03 16:35:36,705]\u001b[0m Trial 70 finished with value: 0.7448661341114563 and parameters: {'svc_kernel': 'linear', 'svc_C': 35.41657825286343, 'threshold': 0.045475728950118664}. Best is trial 54 with value: 0.7453966056313829.\u001b[0m\n",
            "\u001b[32m[I 2021-12-03 16:35:44,657]\u001b[0m Trial 71 finished with value: 0.7448751673845313 and parameters: {'svc_kernel': 'linear', 'svc_C': 49.31016309753571, 'threshold': 0.042705745749296066}. Best is trial 54 with value: 0.7453966056313829.\u001b[0m\n",
            "\u001b[32m[I 2021-12-03 16:35:53,210]\u001b[0m Trial 72 finished with value: 0.742316176231755 and parameters: {'svc_kernel': 'linear', 'svc_C': 57.17193728152595, 'threshold': 0.03879846029717541}. Best is trial 54 with value: 0.7453966056313829.\u001b[0m\n",
            "\u001b[32m[I 2021-12-03 16:36:00,951]\u001b[0m Trial 73 finished with value: 0.7415253937156162 and parameters: {'svc_kernel': 'linear', 'svc_C': 51.805545192381715, 'threshold': 0.051494460122160274}. Best is trial 54 with value: 0.7453966056313829.\u001b[0m\n",
            "\u001b[32m[I 2021-12-03 16:36:08,701]\u001b[0m Trial 74 finished with value: 0.7448668023362045 and parameters: {'svc_kernel': 'linear', 'svc_C': 49.07633554846829, 'threshold': 0.04236388698398}. Best is trial 54 with value: 0.7453966056313829.\u001b[0m\n",
            "\u001b[32m[I 2021-12-03 16:36:15,846]\u001b[0m Trial 75 finished with value: 0.7445533779316198 and parameters: {'svc_kernel': 'linear', 'svc_C': 42.57491209764921, 'threshold': 0.04579060592130082}. Best is trial 54 with value: 0.7453966056313829.\u001b[0m\n",
            "\u001b[32m[I 2021-12-03 16:36:23,343]\u001b[0m Trial 76 finished with value: 0.7411722307055773 and parameters: {'svc_kernel': 'linear', 'svc_C': 47.26677665435932, 'threshold': 0.032781651330080375}. Best is trial 54 with value: 0.7453966056313829.\u001b[0m\n",
            "\u001b[32m[I 2021-12-03 16:36:31,782]\u001b[0m Trial 77 finished with value: 0.7426089958317087 and parameters: {'svc_kernel': 'linear', 'svc_C': 53.17065788722804, 'threshold': 0.03690710065466354}. Best is trial 54 with value: 0.7453966056313829.\u001b[0m\n",
            "\u001b[32m[I 2021-12-03 16:36:39,943]\u001b[0m Trial 78 finished with value: 0.7411773546253864 and parameters: {'svc_kernel': 'linear', 'svc_C': 56.968234605349025, 'threshold': 0.04938368393566284}. Best is trial 54 with value: 0.7453966056313829.\u001b[0m\n",
            "\u001b[32m[I 2021-12-03 16:36:50,815]\u001b[0m Trial 79 finished with value: 0.7427807582216088 and parameters: {'svc_kernel': 'linear', 'svc_C': 80.0603164668484, 'threshold': 0.04030690146765921}. Best is trial 54 with value: 0.7453966056313829.\u001b[0m\n",
            "\u001b[32m[I 2021-12-03 16:36:56,842]\u001b[0m Trial 80 finished with value: 0.7419205716851179 and parameters: {'svc_kernel': 'linear', 'svc_C': 34.81549579215729, 'threshold': 0.05728259110114768}. Best is trial 54 with value: 0.7453966056313829.\u001b[0m\n",
            "\u001b[32m[I 2021-12-03 16:37:03,867]\u001b[0m Trial 81 finished with value: 0.7450425004803255 and parameters: {'svc_kernel': 'linear', 'svc_C': 40.855132690194814, 'threshold': 0.04465048743269567}. Best is trial 54 with value: 0.7453966056313829.\u001b[0m\n",
            "\u001b[32m[I 2021-12-03 16:37:10,793]\u001b[0m Trial 82 finished with value: 0.7450425004803255 and parameters: {'svc_kernel': 'linear', 'svc_C': 38.81300374317176, 'threshold': 0.04313921916065993}. Best is trial 54 with value: 0.7453966056313829.\u001b[0m\n",
            "\u001b[32m[I 2021-12-03 16:37:17,763]\u001b[0m Trial 83 finished with value: 0.7452660029623607 and parameters: {'svc_kernel': 'linear', 'svc_C': 39.07022450762509, 'threshold': 0.04645339597837507}. Best is trial 54 with value: 0.7453966056313829.\u001b[0m\n",
            "\u001b[32m[I 2021-12-03 16:37:24,656]\u001b[0m Trial 84 finished with value: 0.7447841921207874 and parameters: {'svc_kernel': 'linear', 'svc_C': 38.69805694892041, 'threshold': 0.04734686501751884}. Best is trial 54 with value: 0.7453966056313829.\u001b[0m\n",
            "\u001b[32m[I 2021-12-03 16:37:30,505]\u001b[0m Trial 85 finished with value: 0.7417570803179634 and parameters: {'svc_kernel': 'linear', 'svc_C': 29.85980832146329, 'threshold': 0.052386342386101466}. Best is trial 54 with value: 0.7453966056313829.\u001b[0m\n",
            "\u001b[32m[I 2021-12-03 16:37:37,025]\u001b[0m Trial 86 finished with value: 0.7423259783794994 and parameters: {'svc_kernel': 'linear', 'svc_C': 33.21707100869134, 'threshold': 0.0351682356459411}. Best is trial 54 with value: 0.7453966056313829.\u001b[0m\n",
            "\u001b[32m[I 2021-12-03 16:37:43,477]\u001b[0m Trial 87 finished with value: 0.7417570803179634 and parameters: {'svc_kernel': 'linear', 'svc_C': 36.720088110275505, 'threshold': 0.0497218956157484}. Best is trial 54 with value: 0.7453966056313829.\u001b[0m\n",
            "\u001b[32m[I 2021-12-03 16:37:51,173]\u001b[0m Trial 88 finished with value: 0.7426050600774878 and parameters: {'svc_kernel': 'linear', 'svc_C': 45.06301903183865, 'threshold': 0.03937938458369777}. Best is trial 54 with value: 0.7453966056313829.\u001b[0m\n",
            "\u001b[32m[I 2021-12-03 16:37:58,788]\u001b[0m Trial 89 finished with value: 0.727611450638929 and parameters: {'svc_kernel': 'linear', 'svc_C': 25.527445782757848, 'threshold': 0.007108488010925562}. Best is trial 54 with value: 0.7453966056313829.\u001b[0m\n",
            "\u001b[32m[I 2021-12-03 16:38:05,682]\u001b[0m Trial 90 finished with value: 0.7450425004803255 and parameters: {'svc_kernel': 'linear', 'svc_C': 38.99502342510712, 'threshold': 0.04365107223776504}. Best is trial 54 with value: 0.7453966056313829.\u001b[0m\n",
            "\u001b[32m[I 2021-12-03 16:38:12,581]\u001b[0m Trial 91 finished with value: 0.7446994692404103 and parameters: {'svc_kernel': 'linear', 'svc_C': 39.02280660946204, 'threshold': 0.04382987001813773}. Best is trial 54 with value: 0.7453966056313829.\u001b[0m\n",
            "\u001b[32m[I 2021-12-03 16:38:19,892]\u001b[0m Trial 92 finished with value: 0.7455639387271771 and parameters: {'svc_kernel': 'linear', 'svc_C': 42.54721283647867, 'threshold': 0.046615031763210836}. Best is trial 92 with value: 0.7455639387271771.\u001b[0m\n",
            "\u001b[32m[I 2021-12-03 16:38:31,239]\u001b[0m Trial 93 finished with value: 0.7448115626253584 and parameters: {'svc_kernel': 'linear', 'svc_C': 89.64299735403833, 'threshold': 0.04669371605707974}. Best is trial 92 with value: 0.7455639387271771.\u001b[0m\n",
            "\u001b[32m[I 2021-12-03 16:38:38,158]\u001b[0m Trial 94 finished with value: 0.7417867652430559 and parameters: {'svc_kernel': 'linear', 'svc_C': 44.66425859491425, 'threshold': 0.05422988487972025}. Best is trial 92 with value: 0.7455639387271771.\u001b[0m\n",
            "\u001b[32m[I 2021-12-03 16:38:45,725]\u001b[0m Trial 95 finished with value: 0.7390120636567529 and parameters: {'svc_kernel': 'linear', 'svc_C': 42.19950956404155, 'threshold': 0.03152469225392596}. Best is trial 92 with value: 0.7455639387271771.\u001b[0m\n",
            "\u001b[32m[I 2021-12-03 16:38:51,746]\u001b[0m Trial 96 finished with value: 0.7420511817751025 and parameters: {'svc_kernel': 'linear', 'svc_C': 31.21867087607119, 'threshold': 0.05052418653601146}. Best is trial 92 with value: 0.7455639387271771.\u001b[0m\n",
            "\u001b[32m[I 2021-12-03 16:38:58,836]\u001b[0m Trial 97 finished with value: 0.7425042713658652 and parameters: {'svc_kernel': 'linear', 'svc_C': 47.63368103745113, 'threshold': 0.056197958340430856}. Best is trial 92 with value: 0.7455639387271771.\u001b[0m\n",
            "\u001b[32m[I 2021-12-03 16:39:07,903]\u001b[0m Trial 98 finished with value: 0.7452102186925658 and parameters: {'svc_kernel': 'linear', 'svc_C': 63.15482272913947, 'threshold': 0.04131845157457507}. Best is trial 92 with value: 0.7455639387271771.\u001b[0m\n",
            "\u001b[32m[I 2021-12-03 16:39:17,051]\u001b[0m Trial 99 finished with value: 0.7426050600774878 and parameters: {'svc_kernel': 'linear', 'svc_C': 62.29388153187482, 'threshold': 0.035606142987228855}. Best is trial 92 with value: 0.7455639387271771.\u001b[0m\n"
          ]
        }
      ]
    },
    {
      "cell_type": "markdown",
      "metadata": {
        "id": "S5OT5j_egFLP"
      },
      "source": [
        "Παρατηρούμε ότι η μέγιστη επίδοση που πετυχαίνουμε για kernel = linear είναι 74.5% f1-score.\n",
        "Την επίδοση αυτή την πετυχαίνουμε για τις ακόλουθες τιμές υπερπαραμέτρων:\n",
        "\n",
        "* kernel = linear\n",
        "* C =  42.54721283647867\n",
        "* threshold = 0.046615031763210836"
      ]
    },
    {
      "cell_type": "markdown",
      "metadata": {
        "id": "gtuKGX3rpeOI"
      },
      "source": [
        "#### Sigmoid\n",
        "\n",
        "Όπως και στην περίπτωση των προηγούμενων δύο πυρήνων αρχικά προσθέτουμε ως μετασχηματιστή μόνο έναν MinMax Scaler. Έτσι έχουμε:"
      ]
    },
    {
      "cell_type": "code",
      "metadata": {
        "colab": {
          "base_uri": "https://localhost:8080/"
        },
        "id": "qcpOypgipWwF",
        "outputId": "d4151d66-3017-467f-8bf0-3489bf402eb1"
      },
      "source": [
        "def objective(trial):\n",
        "\n",
        "    \n",
        "    svc_kernel = trial.suggest_categorical('svc_kernel',['sigmoid'])\n",
        "    svc_C = trial.suggest_float('svc_C',1.0,100.0)\n",
        "\n",
        "\n",
        "    svc_gamma = trial.suggest_float('svc__gamma',0,0.2)\n",
        " \n",
        "\n",
        "    svm = SVC(kernel = svc_kernel,gamma = svc_gamma , C = svc_C)\n",
        "\n",
        "\n",
        "    clf = Pipeline(steps = [('minmax_scaler', preprocessing.MinMaxScaler()) , ('svm', svm)])\n",
        "  \n",
        "\n",
        "    return np.mean(cross_val_score(clf, X_train_small, y_train_small, cv = 5, scoring = 'accuracy'))\n",
        "\n",
        "study = optuna.create_study(direction = 'maximize')\n",
        "study.optimize(objective, n_trials = 50)"
      ],
      "execution_count": null,
      "outputs": [
        {
          "output_type": "stream",
          "name": "stderr",
          "text": [
            "\u001b[32m[I 2021-12-03 04:57:26,151]\u001b[0m A new study created in memory with name: no-name-f0cc402f-62cf-4a90-815e-c72b601fff92\u001b[0m\n",
            "\u001b[32m[I 2021-12-03 04:57:29,213]\u001b[0m Trial 0 finished with value: 0.6083040709277092 and parameters: {'svc_kernel': 'sigmoid', 'svc_C': 82.18192932039443, 'svc__gamma': 0.17639621876579958}. Best is trial 0 with value: 0.6083040709277092.\u001b[0m\n",
            "\u001b[32m[I 2021-12-03 04:57:32,305]\u001b[0m Trial 1 finished with value: 0.5996695710967404 and parameters: {'svc_kernel': 'sigmoid', 'svc_C': 48.85791136325506, 'svc__gamma': 0.18939450770633426}. Best is trial 0 with value: 0.6083040709277092.\u001b[0m\n",
            "\u001b[32m[I 2021-12-03 04:57:35,272]\u001b[0m Trial 2 finished with value: 0.6197444901253013 and parameters: {'svc_kernel': 'sigmoid', 'svc_C': 83.30024949627096, 'svc__gamma': 0.15956032270158316}. Best is trial 2 with value: 0.6197444901253013.\u001b[0m\n",
            "\u001b[32m[I 2021-12-03 04:57:38,233]\u001b[0m Trial 3 finished with value: 0.6227791469917883 and parameters: {'svc_kernel': 'sigmoid', 'svc_C': 64.08383836774934, 'svc__gamma': 0.157212364288801}. Best is trial 3 with value: 0.6227791469917883.\u001b[0m\n",
            "\u001b[32m[I 2021-12-03 04:57:41,049]\u001b[0m Trial 4 finished with value: 0.6449544160786922 and parameters: {'svc_kernel': 'sigmoid', 'svc_C': 97.16470170326403, 'svc__gamma': 0.12713976401923754}. Best is trial 4 with value: 0.6449544160786922.\u001b[0m\n",
            "\u001b[32m[I 2021-12-03 04:57:44,164]\u001b[0m Trial 5 finished with value: 0.5940672744522841 and parameters: {'svc_kernel': 'sigmoid', 'svc_C': 33.21141489794355, 'svc__gamma': 0.19989381744430312}. Best is trial 4 with value: 0.6449544160786922.\u001b[0m\n",
            "\u001b[32m[I 2021-12-03 04:57:46,652]\u001b[0m Trial 6 finished with value: 0.6769362261311465 and parameters: {'svc_kernel': 'sigmoid', 'svc_C': 52.825056787854095, 'svc__gamma': 0.03822117566543326}. Best is trial 6 with value: 0.6769362261311465.\u001b[0m\n",
            "\u001b[32m[I 2021-12-03 04:57:49,587]\u001b[0m Trial 7 finished with value: 0.6367855701806999 and parameters: {'svc_kernel': 'sigmoid', 'svc_C': 52.36638470031204, 'svc__gamma': 0.13335712531772045}. Best is trial 6 with value: 0.6769362261311465.\u001b[0m\n",
            "\u001b[32m[I 2021-12-03 04:57:52,393]\u001b[0m Trial 8 finished with value: 0.6442551172859028 and parameters: {'svc_kernel': 'sigmoid', 'svc_C': 51.042001645453794, 'svc__gamma': 0.09740904839122595}. Best is trial 6 with value: 0.6769362261311465.\u001b[0m\n",
            "\u001b[32m[I 2021-12-03 04:57:55,439]\u001b[0m Trial 9 finished with value: 0.608771088016227 and parameters: {'svc_kernel': 'sigmoid', 'svc_C': 39.254888384016354, 'svc__gamma': 0.17515595213996318}. Best is trial 6 with value: 0.6769362261311465.\u001b[0m\n",
            "\u001b[32m[I 2021-12-03 04:57:58,925]\u001b[0m Trial 10 finished with value: 0.7021466973467541 and parameters: {'svc_kernel': 'sigmoid', 'svc_C': 26.048663932740116, 'svc__gamma': 0.0243710286636626}. Best is trial 10 with value: 0.7021466973467541.\u001b[0m\n",
            "\u001b[32m[I 2021-12-03 04:58:03,529]\u001b[0m Trial 11 finished with value: 0.7378600093785102 and parameters: {'svc_kernel': 'sigmoid', 'svc_C': 6.651797886931988, 'svc__gamma': 0.024377107021191807}. Best is trial 11 with value: 0.7378600093785102.\u001b[0m\n",
            "\u001b[32m[I 2021-12-03 04:58:08,090]\u001b[0m Trial 12 finished with value: 0.7441577879802398 and parameters: {'svc_kernel': 'sigmoid', 'svc_C': 4.298533180028603, 'svc__gamma': 0.005207378857684047}. Best is trial 12 with value: 0.7441577879802398.\u001b[0m\n",
            "\u001b[32m[I 2021-12-03 04:58:14,269]\u001b[0m Trial 13 finished with value: 0.7107817424399394 and parameters: {'svc_kernel': 'sigmoid', 'svc_C': 6.0325728016526705, 'svc__gamma': 0.00014615521550839783}. Best is trial 12 with value: 0.7441577879802398.\u001b[0m\n",
            "\u001b[32m[I 2021-12-03 04:58:17,617]\u001b[0m Trial 14 finished with value: 0.6827735307909575 and parameters: {'svc_kernel': 'sigmoid', 'svc_C': 3.036947360569581, 'svc__gamma': 0.06239126386678305}. Best is trial 12 with value: 0.7441577879802398.\u001b[0m\n",
            "\u001b[32m[I 2021-12-03 04:58:20,406]\u001b[0m Trial 15 finished with value: 0.6563891100230101 and parameters: {'svc_kernel': 'sigmoid', 'svc_C': 17.99805548834425, 'svc__gamma': 0.07100665313911363}. Best is trial 12 with value: 0.7441577879802398.\u001b[0m\n",
            "\u001b[32m[I 2021-12-03 04:58:25,031]\u001b[0m Trial 16 finished with value: 0.741125312162619 and parameters: {'svc_kernel': 'sigmoid', 'svc_C': 15.039716338305734, 'svc__gamma': 0.0019742916906763967}. Best is trial 12 with value: 0.7441577879802398.\u001b[0m\n",
            "\u001b[32m[I 2021-12-03 04:58:29,295]\u001b[0m Trial 17 finished with value: 0.7413603201779735 and parameters: {'svc_kernel': 'sigmoid', 'svc_C': 14.835723132244418, 'svc__gamma': 0.007503151644866284}. Best is trial 12 with value: 0.7441577879802398.\u001b[0m\n",
            "\u001b[32m[I 2021-12-03 04:58:31,903]\u001b[0m Trial 18 finished with value: 0.6708682755537139 and parameters: {'svc_kernel': 'sigmoid', 'svc_C': 21.071055145897596, 'svc__gamma': 0.05522559191335365}. Best is trial 12 with value: 0.7441577879802398.\u001b[0m\n",
            "\u001b[32m[I 2021-12-03 04:58:34,694]\u001b[0m Trial 19 finished with value: 0.6482224451738842 and parameters: {'svc_kernel': 'sigmoid', 'svc_C': 29.953595629658675, 'svc__gamma': 0.09744675134597003}. Best is trial 12 with value: 0.7441577879802398.\u001b[0m\n",
            "\u001b[32m[I 2021-12-03 04:58:38,465]\u001b[0m Trial 20 finished with value: 0.7110156599308607 and parameters: {'svc_kernel': 'sigmoid', 'svc_C': 11.439804554780897, 'svc__gamma': 0.029291446352371485}. Best is trial 12 with value: 0.7441577879802398.\u001b[0m\n",
            "\u001b[32m[I 2021-12-03 04:58:42,973]\u001b[0m Trial 21 finished with value: 0.7406558413941264 and parameters: {'svc_kernel': 'sigmoid', 'svc_C': 16.12149725313609, 'svc__gamma': 0.0016398511448774329}. Best is trial 12 with value: 0.7441577879802398.\u001b[0m\n",
            "\u001b[32m[I 2021-12-03 04:58:47,186]\u001b[0m Trial 22 finished with value: 0.7413611380712984 and parameters: {'svc_kernel': 'sigmoid', 'svc_C': 14.079370385192878, 'svc__gamma': 0.011551891074662361}. Best is trial 12 with value: 0.7441577879802398.\u001b[0m\n",
            "\u001b[32m[I 2021-12-03 04:58:52,067]\u001b[0m Trial 23 finished with value: 0.7415926018822452 and parameters: {'svc_kernel': 'sigmoid', 'svc_C': 1.8683296518572279, 'svc__gamma': 0.04347197399073473}. Best is trial 12 with value: 0.7441577879802398.\u001b[0m\n",
            "\u001b[32m[I 2021-12-03 04:58:57,006]\u001b[0m Trial 24 finished with value: 0.7385606713268411 and parameters: {'svc_kernel': 'sigmoid', 'svc_C': 2.0007541434086455, 'svc__gamma': 0.04574014091137192}. Best is trial 12 with value: 0.7441577879802398.\u001b[0m\n",
            "\u001b[32m[I 2021-12-03 04:59:00,481]\u001b[0m Trial 25 finished with value: 0.6832350952573092 and parameters: {'svc_kernel': 'sigmoid', 'svc_C': 1.1479792234023698, 'svc__gamma': 0.08012020720816329}. Best is trial 12 with value: 0.7441577879802398.\u001b[0m\n",
            "\u001b[32m[I 2021-12-03 04:59:05,198]\u001b[0m Trial 26 finished with value: 0.7432272980076118 and parameters: {'svc_kernel': 'sigmoid', 'svc_C': 24.449742465936552, 'svc__gamma': 0.01772104326019055}. Best is trial 12 with value: 0.7441577879802398.\u001b[0m\n",
            "\u001b[32m[I 2021-12-03 04:59:07,770]\u001b[0m Trial 27 finished with value: 0.6781028146435621 and parameters: {'svc_kernel': 'sigmoid', 'svc_C': 39.15000196095308, 'svc__gamma': 0.04320112981321811}. Best is trial 12 with value: 0.7441577879802398.\u001b[0m\n",
            "\u001b[32m[I 2021-12-03 04:59:12,663]\u001b[0m Trial 28 finished with value: 0.740893575720564 and parameters: {'svc_kernel': 'sigmoid', 'svc_C': 24.51044665466398, 'svc__gamma': 0.018644737158620327}. Best is trial 12 with value: 0.7441577879802398.\u001b[0m\n",
            "\u001b[32m[I 2021-12-03 04:59:15,536]\u001b[0m Trial 29 finished with value: 0.6755362653900261 and parameters: {'svc_kernel': 'sigmoid', 'svc_C': 9.991408220327003, 'svc__gamma': 0.05610531193130473}. Best is trial 12 with value: 0.7441577879802398.\u001b[0m\n",
            "\u001b[32m[I 2021-12-03 04:59:18,225]\u001b[0m Trial 30 finished with value: 0.6834717390593136 and parameters: {'svc_kernel': 'sigmoid', 'svc_C': 34.51289739114027, 'svc__gamma': 0.03426275559055822}. Best is trial 12 with value: 0.7441577879802398.\u001b[0m\n",
            "\u001b[32m[I 2021-12-03 04:59:22,597]\u001b[0m Trial 31 finished with value: 0.7413608654401902 and parameters: {'svc_kernel': 'sigmoid', 'svc_C': 9.69088445694279, 'svc__gamma': 0.01891477056489968}. Best is trial 12 with value: 0.7441577879802398.\u001b[0m\n",
            "\u001b[32m[I 2021-12-03 04:59:26,876]\u001b[0m Trial 32 finished with value: 0.7408949388761056 and parameters: {'svc_kernel': 'sigmoid', 'svc_C': 21.716269648560537, 'svc__gamma': 0.012943359149097163}. Best is trial 12 with value: 0.7441577879802398.\u001b[0m\n",
            "\u001b[32m[I 2021-12-03 04:59:30,801]\u001b[0m Trial 33 finished with value: 0.7142831437638361 and parameters: {'svc_kernel': 'sigmoid', 'svc_C': 67.92282424876241, 'svc__gamma': 0.01595474632088415}. Best is trial 12 with value: 0.7441577879802398.\u001b[0m\n",
            "\u001b[32m[I 2021-12-03 04:59:33,737]\u001b[0m Trial 34 finished with value: 0.6839393014100482 and parameters: {'svc_kernel': 'sigmoid', 'svc_C': 10.010967256441884, 'svc__gamma': 0.04677190013244905}. Best is trial 12 with value: 0.7441577879802398.\u001b[0m\n",
            "\u001b[32m[I 2021-12-03 04:59:36,514]\u001b[0m Trial 35 finished with value: 0.6489222892288902 and parameters: {'svc_kernel': 'sigmoid', 'svc_C': 25.952678703378098, 'svc__gamma': 0.0833647274389135}. Best is trial 12 with value: 0.7441577879802398.\u001b[0m\n",
            "\u001b[32m[I 2021-12-03 04:59:39,225]\u001b[0m Trial 36 finished with value: 0.6472892288901733 and parameters: {'svc_kernel': 'sigmoid', 'svc_C': 62.78207536457594, 'svc__gamma': 0.11888455694019086}. Best is trial 12 with value: 0.7441577879802398.\u001b[0m\n",
            "\u001b[32m[I 2021-12-03 04:59:41,726]\u001b[0m Trial 37 finished with value: 0.6774018800641228 and parameters: {'svc_kernel': 'sigmoid', 'svc_C': 92.3536713736022, 'svc__gamma': 0.03240320776865176}. Best is trial 12 with value: 0.7441577879802398.\u001b[0m\n",
            "\u001b[32m[I 2021-12-03 04:59:46,121]\u001b[0m Trial 38 finished with value: 0.7413608654401902 and parameters: {'svc_kernel': 'sigmoid', 'svc_C': 18.233080442538842, 'svc__gamma': 0.015394109120877351}. Best is trial 12 with value: 0.7441577879802398.\u001b[0m\n",
            "\u001b[32m[I 2021-12-03 04:59:48,759]\u001b[0m Trial 39 finished with value: 0.6825379775133862 and parameters: {'svc_kernel': 'sigmoid', 'svc_C': 43.15377017935472, 'svc__gamma': 0.034872771909310665}. Best is trial 12 with value: 0.7441577879802398.\u001b[0m\n",
            "\u001b[32m[I 2021-12-03 04:59:52,958]\u001b[0m Trial 40 finished with value: 0.7392602427507388 and parameters: {'svc_kernel': 'sigmoid', 'svc_C': 30.354762498454882, 'svc__gamma': 0.010070415264165059}. Best is trial 12 with value: 0.7441577879802398.\u001b[0m\n",
            "\u001b[32m[I 2021-12-03 04:59:57,168]\u001b[0m Trial 41 finished with value: 0.742062345281846 and parameters: {'svc_kernel': 'sigmoid', 'svc_C': 18.78382594417886, 'svc__gamma': 0.012678136696254214}. Best is trial 12 with value: 0.7441577879802398.\u001b[0m\n",
            "\u001b[32m[I 2021-12-03 05:00:01,430]\u001b[0m Trial 42 finished with value: 0.7194184233197745 and parameters: {'svc_kernel': 'sigmoid', 'svc_C': 11.856419705687529, 'svc__gamma': 0.025422029513864658}. Best is trial 12 with value: 0.7441577879802398.\u001b[0m\n",
            "\u001b[32m[I 2021-12-03 05:00:05,861]\u001b[0m Trial 43 finished with value: 0.7443941591511358 and parameters: {'svc_kernel': 'sigmoid', 'svc_C': 4.480615512765503, 'svc__gamma': 0.01029272704018458}. Best is trial 43 with value: 0.7443941591511358.\u001b[0m\n",
            "\u001b[32m[I 2021-12-03 05:00:10,526]\u001b[0m Trial 44 finished with value: 0.7406612940162924 and parameters: {'svc_kernel': 'sigmoid', 'svc_C': 6.352493997613989, 'svc__gamma': 0.02532536579611038}. Best is trial 43 with value: 0.7443941591511358.\u001b[0m\n",
            "\u001b[32m[I 2021-12-03 05:00:13,460]\u001b[0m Trial 45 finished with value: 0.627445773672559 and parameters: {'svc_kernel': 'sigmoid', 'svc_C': 5.981694478348688, 'svc__gamma': 0.14959648848773663}. Best is trial 43 with value: 0.7443941591511358.\u001b[0m\n",
            "\u001b[32m[I 2021-12-03 05:00:18,226]\u001b[0m Trial 46 finished with value: 0.7415917839889203 and parameters: {'svc_kernel': 'sigmoid', 'svc_C': 1.4326446019088213, 'svc__gamma': 0.04222200234246203}. Best is trial 43 with value: 0.7443941591511358.\u001b[0m\n",
            "\u001b[32m[I 2021-12-03 05:00:21,085]\u001b[0m Trial 47 finished with value: 0.6451894240940468 and parameters: {'svc_kernel': 'sigmoid', 'svc_C': 6.629485478344862, 'svc__gamma': 0.11133069303087079}. Best is trial 43 with value: 0.7443941591511358.\u001b[0m\n",
            "\u001b[32m[I 2021-12-03 05:00:25,334]\u001b[0m Trial 48 finished with value: 0.7411269479492688 and parameters: {'svc_kernel': 'sigmoid', 'svc_C': 20.886323846512713, 'svc__gamma': 0.006507194122433442}. Best is trial 43 with value: 0.7443941591511358.\u001b[0m\n",
            "\u001b[32m[I 2021-12-03 05:00:27,821]\u001b[0m Trial 49 finished with value: 0.6704009858340877 and parameters: {'svc_kernel': 'sigmoid', 'svc_C': 58.536828389575774, 'svc__gamma': 0.05130218253334129}. Best is trial 43 with value: 0.7443941591511358.\u001b[0m\n"
          ]
        }
      ]
    },
    {
      "cell_type": "markdown",
      "metadata": {
        "id": "VYpmwkF2qons"
      },
      "source": [
        "Παρατηρούμε ότι στην περίπτωση του kernel = sigmoid η χρήση μόνο του MinMaxScaler δεν φαίνεται να έχει την ίδια επίδραση όπως στις προηγούμενες περιπτώσεις για το ίδιο εύρος των υπερπαραμέτρων του ταξινομητή. Παρόλα αυτά το μέγιστο accuracy που προκύπτει είναι 74.43%.\n",
        "Στην συνέχεια όπως κάθε φορά αντικαθιστούμε τον MinMaxSclale με StandardScaler και έχουμε τα εξής αποτελέσματα:"
      ]
    },
    {
      "cell_type": "code",
      "metadata": {
        "colab": {
          "base_uri": "https://localhost:8080/"
        },
        "id": "f7QE7_IDpua1",
        "outputId": "1a385d8c-9c0a-41b0-d3bb-f472ad075145"
      },
      "source": [
        "def objective(trial):\n",
        "\n",
        "    \n",
        "    svc_kernel = trial.suggest_categorical('svc_kernel',['sigmoid'])\n",
        "    svc_C = trial.suggest_float('svc_C',1.0,100.0)\n",
        "\n",
        "\n",
        "    svc_gamma = trial.suggest_float('svc__gamma',0,0.2)\n",
        " \n",
        "\n",
        "    svm = SVC(kernel = svc_kernel,gamma = svc_gamma , C = svc_C)\n",
        "\n",
        "\n",
        "    clf = Pipeline(steps = [('standard_scaler', preprocessing.StandardScaler()) , ('svm', svm)])\n",
        "  \n",
        "\n",
        "    return np.mean(cross_val_score(clf, X_train_small, y_train_small, cv = 5, scoring = 'accuracy'))\n",
        "\n",
        "study = optuna.create_study(direction = 'maximize')\n",
        "study.optimize(objective, n_trials = 50)"
      ],
      "execution_count": null,
      "outputs": [
        {
          "output_type": "stream",
          "name": "stderr",
          "text": [
            "\u001b[32m[I 2021-12-03 05:03:07,176]\u001b[0m A new study created in memory with name: no-name-5751273b-e573-4672-ae2e-8c8c2d871a53\u001b[0m\n",
            "\u001b[32m[I 2021-12-03 05:03:10,232]\u001b[0m Trial 0 finished with value: 0.6722616931482349 and parameters: {'svc_kernel': 'sigmoid', 'svc_C': 19.167433360699768, 'svc__gamma': 0.024784430894964096}. Best is trial 0 with value: 0.6722616931482349.\u001b[0m\n",
            "\u001b[32m[I 2021-12-03 05:03:14,489]\u001b[0m Trial 1 finished with value: 0.6174145846737696 and parameters: {'svc_kernel': 'sigmoid', 'svc_C': 57.7812784201847, 'svc__gamma': 0.12242837758476133}. Best is trial 0 with value: 0.6722616931482349.\u001b[0m\n",
            "\u001b[32m[I 2021-12-03 05:03:17,926]\u001b[0m Trial 2 finished with value: 0.68767080338935 and parameters: {'svc_kernel': 'sigmoid', 'svc_C': 19.673327696642946, 'svc__gamma': 0.009397528848707282}. Best is trial 2 with value: 0.68767080338935.\u001b[0m\n",
            "\u001b[32m[I 2021-12-03 05:03:22,210]\u001b[0m Trial 3 finished with value: 0.6171814850761732 and parameters: {'svc_kernel': 'sigmoid', 'svc_C': 71.29392443469453, 'svc__gamma': 0.12405359142879213}. Best is trial 2 with value: 0.68767080338935.\u001b[0m\n",
            "\u001b[32m[I 2021-12-03 05:03:26,454]\u001b[0m Trial 4 finished with value: 0.618114701359884 and parameters: {'svc_kernel': 'sigmoid', 'svc_C': 44.004290084728076, 'svc__gamma': 0.12281565537970505}. Best is trial 2 with value: 0.68767080338935.\u001b[0m\n",
            "\u001b[32m[I 2021-12-03 05:03:31,025]\u001b[0m Trial 5 finished with value: 0.6115786431695003 and parameters: {'svc_kernel': 'sigmoid', 'svc_C': 49.04059065778033, 'svc__gamma': 0.1732924004341091}. Best is trial 2 with value: 0.68767080338935.\u001b[0m\n",
            "\u001b[32m[I 2021-12-03 05:03:34,451]\u001b[0m Trial 6 finished with value: 0.6290842866334421 and parameters: {'svc_kernel': 'sigmoid', 'svc_C': 23.508976861044903, 'svc__gamma': 0.06781731104982709}. Best is trial 2 with value: 0.68767080338935.\u001b[0m\n",
            "\u001b[32m[I 2021-12-03 05:03:38,907]\u001b[0m Trial 7 finished with value: 0.6090101854982061 and parameters: {'svc_kernel': 'sigmoid', 'svc_C': 4.114562865775087, 'svc__gamma': 0.19935675356295102}. Best is trial 2 with value: 0.68767080338935.\u001b[0m\n",
            "\u001b[32m[I 2021-12-03 05:03:43,163]\u001b[0m Trial 8 finished with value: 0.6146135726670956 and parameters: {'svc_kernel': 'sigmoid', 'svc_C': 38.65863857419632, 'svc__gamma': 0.1376842192246828}. Best is trial 2 with value: 0.68767080338935.\u001b[0m\n",
            "\u001b[32m[I 2021-12-03 05:03:46,818]\u001b[0m Trial 9 finished with value: 0.6290826508467923 and parameters: {'svc_kernel': 'sigmoid', 'svc_C': 19.379252376246093, 'svc__gamma': 0.08523297959383398}. Best is trial 2 with value: 0.68767080338935.\u001b[0m\n",
            "\u001b[32m[I 2021-12-03 05:03:50,417]\u001b[0m Trial 10 finished with value: 0.6890707641304704 and parameters: {'svc_kernel': 'sigmoid', 'svc_C': 93.4160519981348, 'svc__gamma': 0.006529109892490349}. Best is trial 10 with value: 0.6890707641304704.\u001b[0m\n",
            "\u001b[32m[I 2021-12-03 05:03:56,087]\u001b[0m Trial 11 finished with value: 0.7189473167646321 and parameters: {'svc_kernel': 'sigmoid', 'svc_C': 98.49142428845249, 'svc__gamma': 0.002424758374275338}. Best is trial 11 with value: 0.7189473167646321.\u001b[0m\n",
            "\u001b[32m[I 2021-12-03 05:03:59,331]\u001b[0m Trial 12 finished with value: 0.6526565175192751 and parameters: {'svc_kernel': 'sigmoid', 'svc_C': 94.95133233103078, 'svc__gamma': 0.045684693706113874}. Best is trial 11 with value: 0.7189473167646321.\u001b[0m\n",
            "\u001b[32m[I 2021-12-03 05:04:03,250]\u001b[0m Trial 13 finished with value: 0.6900067067252642 and parameters: {'svc_kernel': 'sigmoid', 'svc_C': 99.76552083738157, 'svc__gamma': 0.005100312391677286}. Best is trial 11 with value: 0.7189473167646321.\u001b[0m\n",
            "\u001b[32m[I 2021-12-03 05:04:06,498]\u001b[0m Trial 14 finished with value: 0.6514915647935091 and parameters: {'svc_kernel': 'sigmoid', 'svc_C': 80.78830172180943, 'svc__gamma': 0.04541229649401331}. Best is trial 11 with value: 0.7189473167646321.\u001b[0m\n",
            "\u001b[32m[I 2021-12-03 05:04:09,606]\u001b[0m Trial 15 finished with value: 0.6521889551685405 and parameters: {'svc_kernel': 'sigmoid', 'svc_C': 99.899006906457, 'svc__gamma': 0.041665038738719316}. Best is trial 11 with value: 0.7189473167646321.\u001b[0m\n",
            "\u001b[32m[I 2021-12-03 05:04:14,185]\u001b[0m Trial 16 finished with value: 0.6979429982878766 and parameters: {'svc_kernel': 'sigmoid', 'svc_C': 79.32615170789487, 'svc__gamma': 0.0037624537108981006}. Best is trial 11 with value: 0.7189473167646321.\u001b[0m\n",
            "\u001b[32m[I 2021-12-03 05:04:17,676]\u001b[0m Trial 17 finished with value: 0.634684402229032 and parameters: {'svc_kernel': 'sigmoid', 'svc_C': 80.27808716681483, 'svc__gamma': 0.07660680054130155}. Best is trial 11 with value: 0.7189473167646321.\u001b[0m\n",
            "\u001b[32m[I 2021-12-03 05:04:20,734]\u001b[0m Trial 18 finished with value: 0.6682970915713367 and parameters: {'svc_kernel': 'sigmoid', 'svc_C': 64.74402249415894, 'svc__gamma': 0.02906444856165438}. Best is trial 11 with value: 0.7189473167646321.\u001b[0m\n",
            "\u001b[32m[I 2021-12-03 05:04:24,272]\u001b[0m Trial 19 finished with value: 0.6311859998473265 and parameters: {'svc_kernel': 'sigmoid', 'svc_C': 83.56319111436358, 'svc__gamma': 0.06797984239938644}. Best is trial 11 with value: 0.7189473167646321.\u001b[0m\n",
            "\u001b[32m[I 2021-12-03 05:04:28,169]\u001b[0m Trial 20 finished with value: 0.6262827293645514 and parameters: {'svc_kernel': 'sigmoid', 'svc_C': 71.07932696964926, 'svc__gamma': 0.09527401375574547}. Best is trial 11 with value: 0.7189473167646321.\u001b[0m\n",
            "\u001b[32m[I 2021-12-03 05:04:33,517]\u001b[0m Trial 21 finished with value: 0.7271199794981407 and parameters: {'svc_kernel': 'sigmoid', 'svc_C': 87.74558203887254, 'svc__gamma': 0.0017799523708262044}. Best is trial 21 with value: 0.7271199794981407.\u001b[0m\n",
            "\u001b[32m[I 2021-12-03 05:04:36,467]\u001b[0m Trial 22 finished with value: 0.6771701436220678 and parameters: {'svc_kernel': 'sigmoid', 'svc_C': 88.8317478214169, 'svc__gamma': 0.021945945329129867}. Best is trial 21 with value: 0.7271199794981407.\u001b[0m\n",
            "\u001b[32m[I 2021-12-03 05:04:41,273]\u001b[0m Trial 23 finished with value: 0.6960741120404802 and parameters: {'svc_kernel': 'sigmoid', 'svc_C': 71.61148046239269, 'svc__gamma': 0.0037779940381603757}. Best is trial 21 with value: 0.7271199794981407.\u001b[0m\n",
            "\u001b[32m[I 2021-12-03 05:04:44,499]\u001b[0m Trial 24 finished with value: 0.6703960784741383 and parameters: {'svc_kernel': 'sigmoid', 'svc_C': 86.69495671062187, 'svc__gamma': 0.030198689169793198}. Best is trial 21 with value: 0.7271199794981407.\u001b[0m\n",
            "\u001b[32m[I 2021-12-03 05:04:47,821]\u001b[0m Trial 25 finished with value: 0.6444912158256905 and parameters: {'svc_kernel': 'sigmoid', 'svc_C': 76.08420891065528, 'svc__gamma': 0.051340758302268634}. Best is trial 21 with value: 0.7271199794981407.\u001b[0m\n",
            "\u001b[32m[I 2021-12-03 05:04:50,942]\u001b[0m Trial 26 finished with value: 0.6757669113076478 and parameters: {'svc_kernel': 'sigmoid', 'svc_C': 63.271854759339085, 'svc__gamma': 0.019134581193353522}. Best is trial 21 with value: 0.7271199794981407.\u001b[0m\n",
            "\u001b[32m[I 2021-12-03 05:04:56,260]\u001b[0m Trial 27 finished with value: 0.7350581794785113 and parameters: {'svc_kernel': 'sigmoid', 'svc_C': 90.30578819552666, 'svc__gamma': 0.0013072469129276967}. Best is trial 27 with value: 0.7350581794785113.\u001b[0m\n",
            "\u001b[32m[I 2021-12-03 05:04:59,292]\u001b[0m Trial 28 finished with value: 0.6844044100808079 and parameters: {'svc_kernel': 'sigmoid', 'svc_C': 91.14026825981323, 'svc__gamma': 0.01730040854294239}. Best is trial 27 with value: 0.7350581794785113.\u001b[0m\n",
            "\u001b[32m[I 2021-12-03 05:05:02,660]\u001b[0m Trial 29 finished with value: 0.6363201888788318 and parameters: {'svc_kernel': 'sigmoid', 'svc_C': 87.09133034456063, 'svc__gamma': 0.05835162242259241}. Best is trial 27 with value: 0.7350581794785113.\u001b[0m\n",
            "\u001b[32m[I 2021-12-03 05:05:05,764]\u001b[0m Trial 30 finished with value: 0.6640936651435675 and parameters: {'svc_kernel': 'sigmoid', 'svc_C': 94.8841424122119, 'svc__gamma': 0.033910604787687953}. Best is trial 27 with value: 0.7350581794785113.\u001b[0m\n",
            "\u001b[32m[I 2021-12-03 05:05:10,639]\u001b[0m Trial 31 finished with value: 0.7385576723846498 and parameters: {'svc_kernel': 'sigmoid', 'svc_C': 77.54003817014856, 'svc__gamma': 0.0008013431765462947}. Best is trial 31 with value: 0.7385576723846498.\u001b[0m\n",
            "\u001b[32m[I 2021-12-03 05:05:13,626]\u001b[0m Trial 32 finished with value: 0.6792707663115193 and parameters: {'svc_kernel': 'sigmoid', 'svc_C': 98.22648451758245, 'svc__gamma': 0.018578667324997317}. Best is trial 31 with value: 0.7385576723846498.\u001b[0m\n",
            "\u001b[32m[I 2021-12-03 05:05:16,555]\u001b[0m Trial 33 finished with value: 0.6790384846072476 and parameters: {'svc_kernel': 'sigmoid', 'svc_C': 62.25113127187885, 'svc__gamma': 0.014090044303693566}. Best is trial 31 with value: 0.7385576723846498.\u001b[0m\n",
            "\u001b[32m[I 2021-12-03 05:05:21,627]\u001b[0m Trial 34 finished with value: 0.7366915124483364 and parameters: {'svc_kernel': 'sigmoid', 'svc_C': 87.07896128830184, 'svc__gamma': 0.0010242996188773248}. Best is trial 31 with value: 0.7385576723846498.\u001b[0m\n",
            "\u001b[32m[I 2021-12-03 05:05:24,644]\u001b[0m Trial 35 finished with value: 0.6671315935833543 and parameters: {'svc_kernel': 'sigmoid', 'svc_C': 74.45105053870827, 'svc__gamma': 0.028514273789146054}. Best is trial 31 with value: 0.7385576723846498.\u001b[0m\n",
            "\u001b[32m[I 2021-12-03 05:05:29,318]\u001b[0m Trial 36 finished with value: 0.6013031766976739 and parameters: {'svc_kernel': 'sigmoid', 'svc_C': 52.39850024690094, 'svc__gamma': 0.15202149621529806}. Best is trial 31 with value: 0.7385576723846498.\u001b[0m\n",
            "\u001b[32m[I 2021-12-03 05:05:33,164]\u001b[0m Trial 37 finished with value: 0.6192818351345163 and parameters: {'svc_kernel': 'sigmoid', 'svc_C': 84.52822847729203, 'svc__gamma': 0.1055501273221305}. Best is trial 31 with value: 0.7385576723846498.\u001b[0m\n",
            "\u001b[32m[I 2021-12-03 05:05:36,304]\u001b[0m Trial 38 finished with value: 0.6577928875996466 and parameters: {'svc_kernel': 'sigmoid', 'svc_C': 33.22361900168007, 'svc__gamma': 0.03660836664721004}. Best is trial 31 with value: 0.7385576723846498.\u001b[0m\n",
            "\u001b[32m[I 2021-12-03 05:05:39,158]\u001b[0m Trial 39 finished with value: 0.6830055398641207 and parameters: {'svc_kernel': 'sigmoid', 'svc_C': 69.3283312422206, 'svc__gamma': 0.01187491396511318}. Best is trial 31 with value: 0.7385576723846498.\u001b[0m\n",
            "\u001b[32m[I 2021-12-03 05:05:42,496]\u001b[0m Trial 40 finished with value: 0.6741335783378226 and parameters: {'svc_kernel': 'sigmoid', 'svc_C': 54.62989696248455, 'svc__gamma': 0.025178417735554612}. Best is trial 31 with value: 0.7385576723846498.\u001b[0m\n",
            "\u001b[32m[I 2021-12-03 05:05:46,968]\u001b[0m Trial 41 finished with value: 0.7420601642329796 and parameters: {'svc_kernel': 'sigmoid', 'svc_C': 89.46004840306095, 'svc__gamma': 0.00027162520990333685}. Best is trial 41 with value: 0.7420601642329796.\u001b[0m\n",
            "\u001b[32m[I 2021-12-03 05:05:52,299]\u001b[0m Trial 42 finished with value: 0.7362255858842517 and parameters: {'svc_kernel': 'sigmoid', 'svc_C': 90.50590291067427, 'svc__gamma': 0.0013816242522316285}. Best is trial 41 with value: 0.7420601642329796.\u001b[0m\n",
            "\u001b[32m[I 2021-12-03 05:05:55,388]\u001b[0m Trial 43 finished with value: 0.6809032813880196 and parameters: {'svc_kernel': 'sigmoid', 'svc_C': 92.46630662553088, 'svc__gamma': 0.013395539767667356}. Best is trial 41 with value: 0.7420601642329796.\u001b[0m\n",
            "\u001b[32m[I 2021-12-03 05:05:58,928]\u001b[0m Trial 44 finished with value: 0.6888409361061736 and parameters: {'svc_kernel': 'sigmoid', 'svc_C': 6.145865238659567, 'svc__gamma': 0.011052112609678257}. Best is trial 41 with value: 0.7420601642329796.\u001b[0m\n",
            "\u001b[32m[I 2021-12-03 05:06:01,961]\u001b[0m Trial 45 finished with value: 0.6715681196087198 and parameters: {'svc_kernel': 'sigmoid', 'svc_C': 81.61130351471245, 'svc__gamma': 0.021823489909078602}. Best is trial 41 with value: 0.7420601642329796.\u001b[0m\n",
            "\u001b[32m[I 2021-12-03 05:06:05,481]\u001b[0m Trial 46 finished with value: 0.6374878679156807 and parameters: {'svc_kernel': 'sigmoid', 'svc_C': 76.20538319899843, 'svc__gamma': 0.05792794434265116}. Best is trial 41 with value: 0.7420601642329796.\u001b[0m\n",
            "\u001b[32m[I 2021-12-03 05:06:10,920]\u001b[0m Trial 47 finished with value: 0.7334232107220362 and parameters: {'svc_kernel': 'sigmoid', 'svc_C': 92.01274223112503, 'svc__gamma': 0.0014646555093472712}. Best is trial 41 with value: 0.7420601642329796.\u001b[0m\n",
            "\u001b[32m[I 2021-12-03 05:06:15,649]\u001b[0m Trial 48 finished with value: 0.6178796933445294 and parameters: {'svc_kernel': 'sigmoid', 'svc_C': 47.91122290274597, 'svc__gamma': 0.17799858405800026}. Best is trial 41 with value: 0.7420601642329796.\u001b[0m\n",
            "\u001b[32m[I 2021-12-03 05:06:19,948]\u001b[0m Trial 49 finished with value: 0.7432281159009367 and parameters: {'svc_kernel': 'sigmoid', 'svc_C': 95.55489615910419, 'svc__gamma': 0.0001785288493609677}. Best is trial 49 with value: 0.7432281159009367.\u001b[0m\n"
          ]
        }
      ]
    },
    {
      "cell_type": "markdown",
      "metadata": {
        "id": "t7xct2U_4XrX"
      },
      "source": [
        "Παραητηρούμε ότι στην περίπτωση του StandardScaler έχουμε χειρότερα αποτελέσματα με το μέγιστο accuracy να είναι 74.32% έχοντας το ίδιο εύρος για τις παραμέτρους C και gamma του ταξινομητή μας.\n",
        "Στην συνέχεια λοιπόν επανερχόμαστε στον MinMaxScaler προσθέτωντας αμέσως μετά και πρίν τον ταξινομητή μας ένα VarianceThreshold."
      ]
    },
    {
      "cell_type": "code",
      "metadata": {
        "colab": {
          "base_uri": "https://localhost:8080/"
        },
        "id": "Ld02b54G4wXv",
        "outputId": "d5bf2c3d-7647-43e3-b1ab-b19e4fb4f885"
      },
      "source": [
        "def objective(trial):\n",
        "\n",
        "    \n",
        "    svc_kernel = trial.suggest_categorical('svc_kernel',['sigmoid'])\n",
        "    svc_C = trial.suggest_int('svc_C',1,100)\n",
        "    \n",
        "    svc_gamma = trial.suggest_float('svc__gamma',0,0.2)\n",
        " \n",
        "\n",
        "    svm = SVC(kernel = svc_kernel,gamma = svc_gamma , C = svc_C)\n",
        "      \n",
        "      \n",
        "    threshold = trial.suggest_float('threshold', 0, 0.1)\n",
        "\n",
        "    clf = Pipeline(steps = [('minmax_scaler', preprocessing.MinMaxScaler()), ('selector', VarianceThreshold(threshold)), ('svm', svm)])\n",
        "  \n",
        "\n",
        "    return np.mean(cross_val_score(clf, X_train_small, y_train_small, cv = 5, scoring = 'accuracy' , n_jobs = -1))\n",
        "\n",
        "study = optuna.create_study(direction = 'maximize')\n",
        "study.optimize(objective, n_trials = 50)"
      ],
      "execution_count": null,
      "outputs": [
        {
          "output_type": "stream",
          "name": "stderr",
          "text": [
            "\u001b[32m[I 2021-12-03 15:23:45,006]\u001b[0m A new study created in memory with name: no-name-22fd7673-e909-4f25-899b-1fccf8ac540f\u001b[0m\n",
            "\u001b[32m[I 2021-12-03 15:23:48,197]\u001b[0m Trial 0 finished with value: 0.6517268454399721 and parameters: {'svc_kernel': 'sigmoid', 'svc_C': 88, 'svc__gamma': 0.11301528974182505, 'threshold': 0.02540357929309709}. Best is trial 0 with value: 0.6517268454399721.\u001b[0m\n",
            "\u001b[32m[I 2021-12-03 15:23:51,670]\u001b[0m Trial 1 finished with value: 0.691642493375064 and parameters: {'svc_kernel': 'sigmoid', 'svc_C': 3, 'svc__gamma': 0.05378598364592446, 'threshold': 0.023445621107841076}. Best is trial 1 with value: 0.691642493375064.\u001b[0m\n",
            "\u001b[32m[I 2021-12-03 15:23:55,442]\u001b[0m Trial 2 finished with value: 0.7371628916345871 and parameters: {'svc_kernel': 'sigmoid', 'svc_C': 6, 'svc__gamma': 0.010831450286176403, 'threshold': 0.005968607639745438}. Best is trial 2 with value: 0.7371628916345871.\u001b[0m\n",
            "\u001b[32m[I 2021-12-03 15:23:57,890]\u001b[0m Trial 3 finished with value: 0.6400579613736246 and parameters: {'svc_kernel': 'sigmoid', 'svc_C': 84, 'svc__gamma': 0.10277616517924765, 'threshold': 0.016050406197251534}. Best is trial 2 with value: 0.7371628916345871.\u001b[0m\n",
            "\u001b[32m[I 2021-12-03 15:24:01,332]\u001b[0m Trial 4 finished with value: 0.7364633202106894 and parameters: {'svc_kernel': 'sigmoid', 'svc_C': 31, 'svc__gamma': 0.0021281982079605966, 'threshold': 0.058778967109089246}. Best is trial 2 with value: 0.7371628916345871.\u001b[0m\n",
            "\u001b[32m[I 2021-12-03 15:24:03,786]\u001b[0m Trial 5 finished with value: 0.6771682352043098 and parameters: {'svc_kernel': 'sigmoid', 'svc_C': 91, 'svc__gamma': 0.043198237889612835, 'threshold': 0.08662191161084346}. Best is trial 2 with value: 0.7371628916345871.\u001b[0m\n",
            "\u001b[32m[I 2021-12-03 15:24:05,978]\u001b[0m Trial 6 finished with value: 0.6463584662864371 and parameters: {'svc_kernel': 'sigmoid', 'svc_C': 39, 'svc__gamma': 0.07664536106270199, 'threshold': 0.03476051636422325}. Best is trial 2 with value: 0.7371628916345871.\u001b[0m\n",
            "\u001b[32m[I 2021-12-03 15:24:08,207]\u001b[0m Trial 7 finished with value: 0.6563937447518512 and parameters: {'svc_kernel': 'sigmoid', 'svc_C': 97, 'svc__gamma': 0.0628685308652505, 'threshold': 0.021559459774743862}. Best is trial 2 with value: 0.7371628916345871.\u001b[0m\n",
            "\u001b[32m[I 2021-12-03 15:24:10,617]\u001b[0m Trial 8 finished with value: 0.6048064864393287 and parameters: {'svc_kernel': 'sigmoid', 'svc_C': 49, 'svc__gamma': 0.1962170949645912, 'threshold': 0.039867321324963435}. Best is trial 2 with value: 0.7371628916345871.\u001b[0m\n",
            "\u001b[32m[I 2021-12-03 15:24:14,158]\u001b[0m Trial 9 finished with value: 0.7245583376045539 and parameters: {'svc_kernel': 'sigmoid', 'svc_C': 2, 'svc__gamma': 0.055749670262498, 'threshold': 0.0770462076386772}. Best is trial 2 with value: 0.7371628916345871.\u001b[0m\n",
            "\u001b[32m[I 2021-12-03 15:24:16,653]\u001b[0m Trial 10 finished with value: 0.642155857751993 and parameters: {'svc_kernel': 'sigmoid', 'svc_C': 21, 'svc__gamma': 0.149646397333686, 'threshold': 0.002941309486120252}. Best is trial 2 with value: 0.7371628916345871.\u001b[0m\n",
            "\u001b[32m[I 2021-12-03 15:24:19,913]\u001b[0m Trial 11 finished with value: 0.7362302206130928 and parameters: {'svc_kernel': 'sigmoid', 'svc_C': 26, 'svc__gamma': 0.006929507214104527, 'threshold': 0.06355810987842445}. Best is trial 2 with value: 0.7371628916345871.\u001b[0m\n",
            "\u001b[32m[I 2021-12-03 15:24:23,394]\u001b[0m Trial 12 finished with value: 0.7350619963140274 and parameters: {'svc_kernel': 'sigmoid', 'svc_C': 22, 'svc__gamma': 0.003639495079635819, 'threshold': 0.05816161383879814}. Best is trial 2 with value: 0.7371628916345871.\u001b[0m\n",
            "\u001b[32m[I 2021-12-03 15:24:26,534]\u001b[0m Trial 13 finished with value: 0.7154540943739844 and parameters: {'svc_kernel': 'sigmoid', 'svc_C': 65, 'svc__gamma': 0.02398563883950785, 'threshold': 0.09997729788061613}. Best is trial 2 with value: 0.7371628916345871.\u001b[0m\n",
            "\u001b[32m[I 2021-12-03 15:24:30,388]\u001b[0m Trial 14 finished with value: 0.7203573648567596 and parameters: {'svc_kernel': 'sigmoid', 'svc_C': 15, 'svc__gamma': 0.025808326721728586, 'threshold': 0.05018906696089009}. Best is trial 2 with value: 0.7371628916345871.\u001b[0m\n",
            "\u001b[32m[I 2021-12-03 15:24:33,755]\u001b[0m Trial 15 finished with value: 0.7359965757532798 and parameters: {'svc_kernel': 'sigmoid', 'svc_C': 36, 'svc__gamma': 0.0015819751015561517, 'threshold': 0.0657970227513899}. Best is trial 2 with value: 0.7371628916345871.\u001b[0m\n",
            "\u001b[32m[I 2021-12-03 15:24:36,150]\u001b[0m Trial 16 finished with value: 0.6332888035856443 and parameters: {'svc_kernel': 'sigmoid', 'svc_C': 67, 'svc__gamma': 0.139372583097011, 'threshold': 0.008595143860876463}. Best is trial 2 with value: 0.7371628916345871.\u001b[0m\n",
            "\u001b[32m[I 2021-12-03 15:24:39,839]\u001b[0m Trial 17 finished with value: 0.720125083152488 and parameters: {'svc_kernel': 'sigmoid', 'svc_C': 11, 'svc__gamma': 0.02968223051713864, 'threshold': 0.04186192243214168}. Best is trial 2 with value: 0.7371628916345871.\u001b[0m\n",
            "\u001b[32m[I 2021-12-03 15:24:42,013]\u001b[0m Trial 18 finished with value: 0.658027622983893 and parameters: {'svc_kernel': 'sigmoid', 'svc_C': 37, 'svc__gamma': 0.07347088222251748, 'threshold': 0.0780016133603583}. Best is trial 2 with value: 0.7371628916345871.\u001b[0m\n",
            "\u001b[32m[I 2021-12-03 15:24:44,346]\u001b[0m Trial 19 finished with value: 0.6465910206218171 and parameters: {'svc_kernel': 'sigmoid', 'svc_C': 58, 'svc__gamma': 0.08678076431376766, 'threshold': 0.05352068916530783}. Best is trial 2 with value: 0.7371628916345871.\u001b[0m\n",
            "\u001b[32m[I 2021-12-03 15:24:47,193]\u001b[0m Trial 20 finished with value: 0.6872070578741317 and parameters: {'svc_kernel': 'sigmoid', 'svc_C': 30, 'svc__gamma': 0.03623135711167026, 'threshold': 0.07410343800763654}. Best is trial 2 with value: 0.7371628916345871.\u001b[0m\n",
            "\u001b[32m[I 2021-12-03 15:24:50,532]\u001b[0m Trial 21 finished with value: 0.7366969650705024 and parameters: {'svc_kernel': 'sigmoid', 'svc_C': 28, 'svc__gamma': 0.01157333305689735, 'threshold': 0.06344005822664402}. Best is trial 2 with value: 0.7371628916345871.\u001b[0m\n",
            "\u001b[32m[I 2021-12-03 15:24:54,090]\u001b[0m Trial 22 finished with value: 0.7233920217232467 and parameters: {'svc_kernel': 'sigmoid', 'svc_C': 51, 'svc__gamma': 0.01627250995485448, 'threshold': 0.04462258949196239}. Best is trial 2 with value: 0.7371628916345871.\u001b[0m\n",
            "\u001b[32m[I 2021-12-03 15:24:56,760]\u001b[0m Trial 23 finished with value: 0.684405500605241 and parameters: {'svc_kernel': 'sigmoid', 'svc_C': 11, 'svc__gamma': 0.04217319996417181, 'threshold': 0.031574358112169854}. Best is trial 2 with value: 0.7371628916345871.\u001b[0m\n",
            "\u001b[32m[I 2021-12-03 15:25:00,101]\u001b[0m Trial 24 finished with value: 0.7317947851121605 and parameters: {'svc_kernel': 'sigmoid', 'svc_C': 46, 'svc__gamma': 0.01662973086493685, 'threshold': 0.06674638255196992}. Best is trial 2 with value: 0.7371628916345871.\u001b[0m\n",
            "\u001b[32m[I 2021-12-03 15:25:03,696]\u001b[0m Trial 25 finished with value: 0.7355298312958702 and parameters: {'svc_kernel': 'sigmoid', 'svc_C': 17, 'svc__gamma': 0.0016951401259334316, 'threshold': 0.05709991181727496}. Best is trial 2 with value: 0.7371628916345871.\u001b[0m\n",
            "\u001b[32m[I 2021-12-03 15:25:05,975]\u001b[0m Trial 26 finished with value: 0.6262838198889845 and parameters: {'svc_kernel': 'sigmoid', 'svc_C': 29, 'svc__gamma': 0.19042574869468779, 'threshold': 0.08725041065583626}. Best is trial 2 with value: 0.7371628916345871.\u001b[0m\n",
            "\u001b[32m[I 2021-12-03 15:25:09,508]\u001b[0m Trial 27 finished with value: 0.7369295194058824 and parameters: {'svc_kernel': 'sigmoid', 'svc_C': 4, 'svc__gamma': 0.01711063173795689, 'threshold': 0.048033095216277466}. Best is trial 2 with value: 0.7371628916345871.\u001b[0m\n",
            "\u001b[32m[I 2021-12-03 15:25:12,543]\u001b[0m Trial 28 finished with value: 0.6874434290450276 and parameters: {'svc_kernel': 'sigmoid', 'svc_C': 7, 'svc__gamma': 0.0446756856247188, 'threshold': 0.009689774402804281}. Best is trial 2 with value: 0.7371628916345871.\u001b[0m\n",
            "\u001b[32m[I 2021-12-03 15:25:14,753]\u001b[0m Trial 29 finished with value: 0.6337566385674871 and parameters: {'svc_kernel': 'sigmoid', 'svc_C': 8, 'svc__gamma': 0.12477673641173365, 'threshold': 0.03339648158228301}. Best is trial 2 with value: 0.7371628916345871.\u001b[0m\n",
            "\u001b[32m[I 2021-12-03 15:25:17,537]\u001b[0m Trial 30 finished with value: 0.6463622831219533 and parameters: {'svc_kernel': 'sigmoid', 'svc_C': 1, 'svc__gamma': 0.17914180425123505, 'threshold': 0.09829897273367857}. Best is trial 2 with value: 0.7371628916345871.\u001b[0m\n",
            "\u001b[32m[I 2021-12-03 15:25:20,995]\u001b[0m Trial 31 finished with value: 0.7434658502273743 and parameters: {'svc_kernel': 'sigmoid', 'svc_C': 17, 'svc__gamma': 0.01638374219365016, 'threshold': 0.04759810544717704}. Best is trial 31 with value: 0.7434658502273743.\u001b[0m\n",
            "\u001b[32m[I 2021-12-03 15:25:24,495]\u001b[0m Trial 32 finished with value: 0.7427660061723682 and parameters: {'svc_kernel': 'sigmoid', 'svc_C': 16, 'svc__gamma': 0.01764565624168624, 'threshold': 0.047169554249172574}. Best is trial 31 with value: 0.7434658502273743.\u001b[0m\n",
            "\u001b[32m[I 2021-12-03 15:25:28,278]\u001b[0m Trial 33 finished with value: 0.7236237581653018 and parameters: {'svc_kernel': 'sigmoid', 'svc_C': 17, 'svc__gamma': 0.025073708284424304, 'threshold': 0.04841784379234017}. Best is trial 31 with value: 0.7434658502273743.\u001b[0m\n",
            "\u001b[32m[I 2021-12-03 15:25:31,048]\u001b[0m Trial 34 finished with value: 0.6762344736583823 and parameters: {'svc_kernel': 'sigmoid', 'svc_C': 6, 'svc__gamma': 0.05935629677535539, 'threshold': 0.020179397737600024}. Best is trial 31 with value: 0.7434658502273743.\u001b[0m\n",
            "\u001b[32m[I 2021-12-03 15:25:33,995]\u001b[0m Trial 35 finished with value: 0.6979440888123098 and parameters: {'svc_kernel': 'sigmoid', 'svc_C': 13, 'svc__gamma': 0.032881657624997826, 'threshold': 0.028209426498386037}. Best is trial 31 with value: 0.7434658502273743.\u001b[0m\n",
            "\u001b[32m[I 2021-12-03 15:25:36,386]\u001b[0m Trial 36 finished with value: 0.6531303503855004 and parameters: {'svc_kernel': 'sigmoid', 'svc_C': 22, 'svc__gamma': 0.09894528538759076, 'threshold': 0.038959689987961364}. Best is trial 31 with value: 0.7434658502273743.\u001b[0m\n",
            "\u001b[32m[I 2021-12-03 15:25:40,211]\u001b[0m Trial 37 finished with value: 0.7198911656615666 and parameters: {'svc_kernel': 'sigmoid', 'svc_C': 2, 'svc__gamma': 0.05034765347161241, 'threshold': 0.04637514703901526}. Best is trial 31 with value: 0.7434658502273743.\u001b[0m\n",
            "\u001b[32m[I 2021-12-03 15:25:43,847]\u001b[0m Trial 38 finished with value: 0.7350641773628939 and parameters: {'svc_kernel': 'sigmoid', 'svc_C': 19, 'svc__gamma': 0.019164009831717357, 'threshold': 0.02557748076081187}. Best is trial 31 with value: 0.7434658502273743.\u001b[0m\n",
            "\u001b[32m[I 2021-12-03 15:25:46,327]\u001b[0m Trial 39 finished with value: 0.6505632558697477 and parameters: {'svc_kernel': 'sigmoid', 'svc_C': 9, 'svc__gamma': 0.07585558521384098, 'threshold': 0.013495792559552966}. Best is trial 31 with value: 0.7434658502273743.\u001b[0m\n",
            "\u001b[32m[I 2021-12-03 15:25:48,619]\u001b[0m Trial 40 finished with value: 0.6631623572776147 and parameters: {'svc_kernel': 'sigmoid', 'svc_C': 43, 'svc__gamma': 0.06376776982217945, 'threshold': 0.036130523547536327}. Best is trial 31 with value: 0.7434658502273743.\u001b[0m\n",
            "\u001b[32m[I 2021-12-03 15:25:51,825]\u001b[0m Trial 41 finished with value: 0.7350628142073523 and parameters: {'svc_kernel': 'sigmoid', 'svc_C': 25, 'svc__gamma': 0.012089887986606856, 'threshold': 0.07157505967470726}. Best is trial 31 with value: 0.7434658502273743.\u001b[0m\n",
            "\u001b[32m[I 2021-12-03 15:25:55,132]\u001b[0m Trial 42 finished with value: 0.7385644881623572 and parameters: {'svc_kernel': 'sigmoid', 'svc_C': 34, 'svc__gamma': 0.01161665533348358, 'threshold': 0.06199685070262026}. Best is trial 31 with value: 0.7434658502273743.\u001b[0m\n",
            "\u001b[32m[I 2021-12-03 15:25:57,692]\u001b[0m Trial 43 finished with value: 0.6771676899420932 and parameters: {'svc_kernel': 'sigmoid', 'svc_C': 34, 'svc__gamma': 0.036950481584339646, 'threshold': 0.05451769769808735}. Best is trial 31 with value: 0.7434658502273743.\u001b[0m\n",
            "\u001b[32m[I 2021-12-03 15:26:01,282]\u001b[0m Trial 44 finished with value: 0.7390306873575503 and parameters: {'svc_kernel': 'sigmoid', 'svc_C': 5, 'svc__gamma': 0.011902311642358327, 'threshold': 0.05148465763228972}. Best is trial 31 with value: 0.7434658502273743.\u001b[0m\n",
            "\u001b[32m[I 2021-12-03 15:26:04,288]\u001b[0m Trial 45 finished with value: 0.7329619188867926 and parameters: {'svc_kernel': 'sigmoid', 'svc_C': 15, 'svc__gamma': 0.010116005093388456, 'threshold': 0.08291754884624279}. Best is trial 31 with value: 0.7434658502273743.\u001b[0m\n",
            "\u001b[32m[I 2021-12-03 15:26:06,515]\u001b[0m Trial 46 finished with value: 0.665264615753716 and parameters: {'svc_kernel': 'sigmoid', 'svc_C': 83, 'svc__gamma': 0.048224011114341776, 'threshold': 0.051750619371959704}. Best is trial 31 with value: 0.7434658502273743.\u001b[0m\n",
            "\u001b[32m[I 2021-12-03 15:26:09,937]\u001b[0m Trial 47 finished with value: 0.7117185029280582 and parameters: {'svc_kernel': 'sigmoid', 'svc_C': 24, 'svc__gamma': 0.025624100794616113, 'threshold': 0.061066424327584676}. Best is trial 31 with value: 0.7434658502273743.\u001b[0m\n",
            "\u001b[32m[I 2021-12-03 15:26:13,252]\u001b[0m Trial 48 finished with value: 0.7343629701523463 and parameters: {'svc_kernel': 'sigmoid', 'svc_C': 40, 'svc__gamma': 0.0009560974168454917, 'threshold': 0.06876243202212354}. Best is trial 31 with value: 0.7434658502273743.\u001b[0m\n",
            "\u001b[32m[I 2021-12-03 15:26:16,034]\u001b[0m Trial 49 finished with value: 0.6816028528119172 and parameters: {'svc_kernel': 'sigmoid', 'svc_C': 13, 'svc__gamma': 0.039566638830753925, 'threshold': 0.0035024678007191876}. Best is trial 31 with value: 0.7434658502273743.\u001b[0m\n"
          ]
        }
      ]
    },
    {
      "cell_type": "markdown",
      "metadata": {
        "id": "ZVUX2Na-6wx8"
      },
      "source": [
        "Παρατηρούμε ότι σε αντί΄θεση με τους προηγούμενους πυρήνες η χρήση του Variance Threshold μείωσε το accuracy καθώς η μέγιστη τιμή που πετυχαίνουμε είναι 74.34%. Αφαιρούμε λοιπόν το Variance Threshold από το Pipeline μας."
      ]
    },
    {
      "cell_type": "markdown",
      "metadata": {
        "id": "eonKL-fKsGLC"
      },
      "source": [
        "Στην συνέχεια προσθέτουμε τον μετασχηματιστή PCA στο pipeline μας"
      ]
    },
    {
      "cell_type": "code",
      "metadata": {
        "colab": {
          "base_uri": "https://localhost:8080/"
        },
        "id": "UyAH_QCnrLJj",
        "outputId": "995970ff-3397-42cc-be54-8df7d14cd945"
      },
      "source": [
        "from sklearn.decomposition import PCA\n",
        "\n",
        "def objective(trial):\n",
        "\n",
        "    \n",
        "    svc_kernel = trial.suggest_categorical('svc_kernel',['sigmoid'])\n",
        "\n",
        "    svc_C = trial.suggest_int('svc_C',1,100)\n",
        "\n",
        "    svc_gamma = trial.suggest_float('svc_gamma',0.0001,0.3)\n",
        "    svm = SVC(kernel = svc_kernel,gamma = svc_gamma , C = svc_C)\n",
        "            \n",
        "   # threshold = trial.suggest_float('threshold', 0, 0.1)\n",
        "\n",
        "   # p = Pipeline(steps = [('minmax_scaler', preprocessing.MinMaxScaler()), ('selector', VarianceThreshold(threshold))])\n",
        "   # upper_bound = p.fit_transform(X_train_small).shape[1]\n",
        "\n",
        "  \n",
        "    n_components = trial.suggest_int('n_components',5, 80)\n",
        "\n",
        "    clf = Pipeline(steps = [('minmax_scaler', preprocessing.MinMaxScaler()),  ('pca', PCA(n_components=n_components)),('svm', svm)])\n",
        "  \n",
        "\n",
        "    return np.mean(cross_val_score(clf, X_train_small, y_train_small, cv = 5, scoring = 'accuracy'))\n",
        "\n",
        "study = optuna.create_study(direction = 'maximize')\n",
        "study.optimize(objective, n_trials = 30)"
      ],
      "execution_count": null,
      "outputs": [
        {
          "output_type": "stream",
          "name": "stderr",
          "text": [
            "\u001b[32m[I 2021-12-03 15:29:32,063]\u001b[0m A new study created in memory with name: no-name-9542bc35-646b-48f6-a30f-80ea098dbde6\u001b[0m\n",
            "\u001b[32m[I 2021-12-03 15:29:35,096]\u001b[0m Trial 0 finished with value: 0.6666659396503778 and parameters: {'svc_kernel': 'sigmoid', 'svc_C': 91, 'svc_gamma': 0.19458864242888743, 'n_components': 26}. Best is trial 0 with value: 0.6666659396503778.\u001b[0m\n",
            "\u001b[32m[I 2021-12-03 15:29:39,400]\u001b[0m Trial 1 finished with value: 0.6734364605938996 and parameters: {'svc_kernel': 'sigmoid', 'svc_C': 81, 'svc_gamma': 0.2613586826590297, 'n_components': 71}. Best is trial 1 with value: 0.6734364605938996.\u001b[0m\n",
            "\u001b[32m[I 2021-12-03 15:29:43,029]\u001b[0m Trial 2 finished with value: 0.6722649647215345 and parameters: {'svc_kernel': 'sigmoid', 'svc_C': 34, 'svc_gamma': 0.1377682636941566, 'n_components': 58}. Best is trial 1 with value: 0.6734364605938996.\u001b[0m\n",
            "\u001b[32m[I 2021-12-03 15:29:46,914]\u001b[0m Trial 3 finished with value: 0.6855772691087144 and parameters: {'svc_kernel': 'sigmoid', 'svc_C': 54, 'svc_gamma': 0.09942334929917615, 'n_components': 68}. Best is trial 3 with value: 0.6855772691087144.\u001b[0m\n",
            "\u001b[32m[I 2021-12-03 15:29:51,329]\u001b[0m Trial 4 finished with value: 0.7282925658949388 and parameters: {'svc_kernel': 'sigmoid', 'svc_C': 1, 'svc_gamma': 0.13827780585882915, 'n_components': 33}. Best is trial 4 with value: 0.7282925658949388.\u001b[0m\n",
            "\u001b[32m[I 2021-12-03 15:29:54,466]\u001b[0m Trial 5 finished with value: 0.6479909813629374 and parameters: {'svc_kernel': 'sigmoid', 'svc_C': 61, 'svc_gamma': 0.24315539909847517, 'n_components': 9}. Best is trial 4 with value: 0.7282925658949388.\u001b[0m\n",
            "\u001b[32m[I 2021-12-03 15:29:57,980]\u001b[0m Trial 6 finished with value: 0.6671315935833543 and parameters: {'svc_kernel': 'sigmoid', 'svc_C': 96, 'svc_gamma': 0.29659252553198295, 'n_components': 45}. Best is trial 4 with value: 0.7282925658949388.\u001b[0m\n",
            "\u001b[32m[I 2021-12-03 15:30:01,765]\u001b[0m Trial 7 finished with value: 0.670169522023141 and parameters: {'svc_kernel': 'sigmoid', 'svc_C': 63, 'svc_gamma': 0.28364792460669025, 'n_components': 59}. Best is trial 4 with value: 0.7282925658949388.\u001b[0m\n",
            "\u001b[32m[I 2021-12-03 15:30:05,993]\u001b[0m Trial 8 finished with value: 0.6853362632089771 and parameters: {'svc_kernel': 'sigmoid', 'svc_C': 51, 'svc_gamma': 0.09367027802752308, 'n_components': 55}. Best is trial 4 with value: 0.7282925658949388.\u001b[0m\n",
            "\u001b[32m[I 2021-12-03 15:30:10,729]\u001b[0m Trial 9 finished with value: 0.6654977153513124 and parameters: {'svc_kernel': 'sigmoid', 'svc_C': 69, 'svc_gamma': 0.2005299798026656, 'n_components': 79}. Best is trial 4 with value: 0.7282925658949388.\u001b[0m\n",
            "\u001b[32m[I 2021-12-03 15:30:15,834]\u001b[0m Trial 10 finished with value: 0.7343662417256459 and parameters: {'svc_kernel': 'sigmoid', 'svc_C': 1, 'svc_gamma': 0.007101497954579372, 'n_components': 27}. Best is trial 10 with value: 0.7343662417256459.\u001b[0m\n",
            "\u001b[32m[I 2021-12-03 15:30:20,786]\u001b[0m Trial 11 finished with value: 0.7336631260973402 and parameters: {'svc_kernel': 'sigmoid', 'svc_C': 1, 'svc_gamma': 0.014562390306872841, 'n_components': 29}. Best is trial 10 with value: 0.7343662417256459.\u001b[0m\n",
            "\u001b[32m[I 2021-12-03 15:30:25,160]\u001b[0m Trial 12 finished with value: 0.7357637487867915 and parameters: {'svc_kernel': 'sigmoid', 'svc_C': 1, 'svc_gamma': 0.01164211770441928, 'n_components': 18}. Best is trial 12 with value: 0.7357637487867915.\u001b[0m\n",
            "\u001b[32m[I 2021-12-03 15:30:29,409]\u001b[0m Trial 13 finished with value: 0.7201264463080295 and parameters: {'svc_kernel': 'sigmoid', 'svc_C': 22, 'svc_gamma': 0.0010153317118865753, 'n_components': 11}. Best is trial 12 with value: 0.7357637487867915.\u001b[0m\n",
            "\u001b[32m[I 2021-12-03 15:30:33,621]\u001b[0m Trial 14 finished with value: 0.728060011559559 and parameters: {'svc_kernel': 'sigmoid', 'svc_C': 19, 'svc_gamma': 0.048458002470358745, 'n_components': 19}. Best is trial 12 with value: 0.7357637487867915.\u001b[0m\n",
            "\u001b[32m[I 2021-12-03 15:30:37,942]\u001b[0m Trial 15 finished with value: 0.723157831601217 and parameters: {'svc_kernel': 'sigmoid', 'svc_C': 17, 'svc_gamma': 0.05360532962031363, 'n_components': 19}. Best is trial 12 with value: 0.7357637487867915.\u001b[0m\n",
            "\u001b[32m[I 2021-12-03 15:30:43,528]\u001b[0m Trial 16 finished with value: 0.7187204876825266 and parameters: {'svc_kernel': 'sigmoid', 'svc_C': 37, 'svc_gamma': 0.04625544453784794, 'n_components': 44}. Best is trial 12 with value: 0.7357637487867915.\u001b[0m\n",
            "\u001b[32m[I 2021-12-03 15:30:47,966]\u001b[0m Trial 17 finished with value: 0.7119518751567628 and parameters: {'svc_kernel': 'sigmoid', 'svc_C': 10, 'svc_gamma': 0.08143925571795892, 'n_components': 36}. Best is trial 12 with value: 0.7357637487867915.\u001b[0m\n",
            "\u001b[32m[I 2021-12-03 15:30:52,108]\u001b[0m Trial 18 finished with value: 0.729692254004951 and parameters: {'svc_kernel': 'sigmoid', 'svc_C': 35, 'svc_gamma': 0.03406316976072105, 'n_components': 20}. Best is trial 12 with value: 0.7357637487867915.\u001b[0m\n",
            "\u001b[32m[I 2021-12-03 15:30:56,164]\u001b[0m Trial 19 finished with value: 0.6921095104635818 and parameters: {'svc_kernel': 'sigmoid', 'svc_C': 27, 'svc_gamma': 0.07924112679224407, 'n_components': 38}. Best is trial 12 with value: 0.7357637487867915.\u001b[0m\n",
            "\u001b[32m[I 2021-12-03 15:31:01,034]\u001b[0m Trial 20 finished with value: 0.7280638283950751 and parameters: {'svc_kernel': 'sigmoid', 'svc_C': 10, 'svc_gamma': 0.0004733383136866498, 'n_components': 15}. Best is trial 12 with value: 0.7357637487867915.\u001b[0m\n",
            "\u001b[32m[I 2021-12-03 15:31:05,842]\u001b[0m Trial 21 finished with value: 0.7329624641490092 and parameters: {'svc_kernel': 'sigmoid', 'svc_C': 1, 'svc_gamma': 0.016865165873190084, 'n_components': 28}. Best is trial 12 with value: 0.7357637487867915.\u001b[0m\n",
            "\u001b[32m[I 2021-12-03 15:31:10,297]\u001b[0m Trial 22 finished with value: 0.7355317397136283 and parameters: {'svc_kernel': 'sigmoid', 'svc_C': 9, 'svc_gamma': 0.028050631219958697, 'n_components': 27}. Best is trial 12 with value: 0.7357637487867915.\u001b[0m\n",
            "\u001b[32m[I 2021-12-03 15:31:14,640]\u001b[0m Trial 23 finished with value: 0.7231559231834589 and parameters: {'svc_kernel': 'sigmoid', 'svc_C': 9, 'svc_gamma': 0.06635488625938162, 'n_components': 23}. Best is trial 12 with value: 0.7357637487867915.\u001b[0m\n",
            "\u001b[32m[I 2021-12-03 15:31:18,110]\u001b[0m Trial 24 finished with value: 0.643555545862005 and parameters: {'svc_kernel': 'sigmoid', 'svc_C': 42, 'svc_gamma': 0.11047043201361566, 'n_components': 8}. Best is trial 12 with value: 0.7357637487867915.\u001b[0m\n",
            "\u001b[32m[I 2021-12-03 15:31:21,852]\u001b[0m Trial 25 finished with value: 0.7091552252478216 and parameters: {'svc_kernel': 'sigmoid', 'svc_C': 13, 'svc_gamma': 0.03147569758346887, 'n_components': 5}. Best is trial 12 with value: 0.7357637487867915.\u001b[0m\n",
            "\u001b[32m[I 2021-12-03 15:31:25,898]\u001b[0m Trial 26 finished with value: 0.7345941613321847 and parameters: {'svc_kernel': 'sigmoid', 'svc_C': 28, 'svc_gamma': 0.01953043818438066, 'n_components': 32}. Best is trial 12 with value: 0.7357637487867915.\u001b[0m\n",
            "\u001b[32m[I 2021-12-03 15:31:29,394]\u001b[0m Trial 27 finished with value: 0.6830074482818789 and parameters: {'svc_kernel': 'sigmoid', 'svc_C': 26, 'svc_gamma': 0.11598717432979434, 'n_components': 40}. Best is trial 12 with value: 0.7357637487867915.\u001b[0m\n",
            "\u001b[32m[I 2021-12-03 15:31:32,523]\u001b[0m Trial 28 finished with value: 0.6715653932976368 and parameters: {'svc_kernel': 'sigmoid', 'svc_C': 28, 'svc_gamma': 0.18463257521296333, 'n_components': 50}. Best is trial 12 with value: 0.7357637487867915.\u001b[0m\n",
            "\u001b[32m[I 2021-12-03 15:31:35,360]\u001b[0m Trial 29 finished with value: 0.6685326448489078 and parameters: {'svc_kernel': 'sigmoid', 'svc_C': 43, 'svc_gamma': 0.174996592347675, 'n_components': 33}. Best is trial 12 with value: 0.7357637487867915.\u001b[0m\n"
          ]
        }
      ]
    },
    {
      "cell_type": "markdown",
      "metadata": {
        "id": "fF82TaZ_6t93"
      },
      "source": [
        "Παρατηρούμε ότι η χρήση MinMax Threshold και PCA οδηγεί σε χειροτερα αποτελέσματα από όλους τους πρηγούμενους συνδιασμούς αρχιτεκτονικών.\n",
        "Τέλος τρέχουμε τον ακόλουθο κώδικα προκειμένου να επιλέξουμε τις βέλτιστες παραμέτρους του μοντέλου μας για rbf = sigmoid:"
      ]
    },
    {
      "cell_type": "code",
      "metadata": {
        "colab": {
          "base_uri": "https://localhost:8080/"
        },
        "id": "Y3dMUSWg0n2b",
        "outputId": "dfab7ae5-5b20-46ca-d7dd-0250076cf712"
      },
      "source": [
        "from sklearn.decomposition import PCA\n",
        "\n",
        "def objective(trial):\n",
        "\n",
        "    \n",
        "    svc_kernel = trial.suggest_categorical('svc_kernel',['sigmoid'])\n",
        "\n",
        "    svc_C = trial.suggest_int('svc_C',1,100)\n",
        "\n",
        "    svc_gamma = trial.suggest_float('svc_gamma',0.0001,0.3)\n",
        "    svm = SVC(kernel = svc_kernel,gamma = svc_gamma , C = svc_C)\n",
        "            \n",
        "    threshold = trial.suggest_float('threshold', 0, 0.1)\n",
        "\n",
        "    p = Pipeline(steps = [('minmax_scaler', preprocessing.MinMaxScaler()), ('selector', VarianceThreshold(threshold))])\n",
        "    upper_bound = p.fit_transform(X_train_small).shape[1]\n",
        "\n",
        "  \n",
        "    n_components = trial.suggest_int('n_components',min(upper_bound,5), upper_bound)\n",
        "\n",
        "    clf = Pipeline(steps = [('minmax_scaler', preprocessing.MinMaxScaler()), ('selector', VarianceThreshold(threshold)),  ('pca', PCA(n_components=n_components)),('svm', svm)])\n",
        "  \n",
        "\n",
        "    return np.mean(cross_val_score(clf, X_train_small, y_train_small, cv = 5, scoring = 'accuracy'))\n",
        "\n",
        "study = optuna.create_study(direction = 'maximize')\n",
        "study.optimize(objective, n_trials = 30)"
      ],
      "execution_count": null,
      "outputs": [
        {
          "output_type": "stream",
          "name": "stderr",
          "text": [
            "\u001b[32m[I 2021-12-03 15:34:06,033]\u001b[0m A new study created in memory with name: no-name-1c73d2c0-2676-43c1-ae5b-96aed45a3ed3\u001b[0m\n",
            "\u001b[32m[I 2021-12-03 15:34:08,979]\u001b[0m Trial 0 finished with value: 0.6725018811546473 and parameters: {'svc_kernel': 'sigmoid', 'svc_C': 83, 'svc_gamma': 0.10250577458709335, 'threshold': 0.024257266659752832, 'n_components': 37}. Best is trial 0 with value: 0.6725018811546473.\u001b[0m\n",
            "\u001b[32m[I 2021-12-03 15:34:13,146]\u001b[0m Trial 1 finished with value: 0.6890792156948276 and parameters: {'svc_kernel': 'sigmoid', 'svc_C': 32, 'svc_gamma': 0.08753194190347857, 'threshold': 0.028259185925351038, 'n_components': 27}. Best is trial 1 with value: 0.6890792156948276.\u001b[0m\n",
            "\u001b[32m[I 2021-12-03 15:34:17,440]\u001b[0m Trial 2 finished with value: 0.7408979378182968 and parameters: {'svc_kernel': 'sigmoid', 'svc_C': 7, 'svc_gamma': 0.008640953985059178, 'threshold': 0.02092803174492145, 'n_components': 38}. Best is trial 2 with value: 0.7408979378182968.\u001b[0m\n",
            "\u001b[32m[I 2021-12-03 15:34:21,407]\u001b[0m Trial 3 finished with value: 0.6575666037797576 and parameters: {'svc_kernel': 'sigmoid', 'svc_C': 42, 'svc_gamma': 0.11725901533955943, 'threshold': 0.09039448820634721, 'n_components': 11}. Best is trial 2 with value: 0.7408979378182968.\u001b[0m\n",
            "\u001b[32m[I 2021-12-03 15:34:24,313]\u001b[0m Trial 4 finished with value: 0.6692319436416972 and parameters: {'svc_kernel': 'sigmoid', 'svc_C': 35, 'svc_gamma': 0.22371080823105077, 'threshold': 0.0517951479343871, 'n_components': 22}. Best is trial 2 with value: 0.7408979378182968.\u001b[0m\n",
            "\u001b[32m[I 2021-12-03 15:34:27,126]\u001b[0m Trial 5 finished with value: 0.6687657444465043 and parameters: {'svc_kernel': 'sigmoid', 'svc_C': 21, 'svc_gamma': 0.15529385499889628, 'threshold': 0.04763388275182983, 'n_components': 17}. Best is trial 2 with value: 0.7408979378182968.\u001b[0m\n",
            "\u001b[32m[I 2021-12-03 15:34:30,431]\u001b[0m Trial 6 finished with value: 0.6300202292282359 and parameters: {'svc_kernel': 'sigmoid', 'svc_C': 33, 'svc_gamma': 0.05997092662422007, 'threshold': 0.04060402038244196, 'n_components': 7}. Best is trial 2 with value: 0.7408979378182968.\u001b[0m\n",
            "\u001b[32m[I 2021-12-03 15:34:34,991]\u001b[0m Trial 7 finished with value: 0.7385636702690324 and parameters: {'svc_kernel': 'sigmoid', 'svc_C': 87, 'svc_gamma': 0.016103320976933875, 'threshold': 0.03414177053481928, 'n_components': 30}. Best is trial 2 with value: 0.7408979378182968.\u001b[0m\n",
            "\u001b[32m[I 2021-12-03 15:34:38,903]\u001b[0m Trial 8 finished with value: 0.6521900456929738 and parameters: {'svc_kernel': 'sigmoid', 'svc_C': 34, 'svc_gamma': 0.08623984481704794, 'threshold': 0.05759227952460643, 'n_components': 11}. Best is trial 2 with value: 0.7408979378182968.\u001b[0m\n",
            "\u001b[32m[I 2021-12-03 15:34:41,738]\u001b[0m Trial 9 finished with value: 0.6659650050709386 and parameters: {'svc_kernel': 'sigmoid', 'svc_C': 31, 'svc_gamma': 0.21453068368603107, 'threshold': 0.06947705783330475, 'n_components': 19}. Best is trial 2 with value: 0.7408979378182968.\u001b[0m\n",
            "\u001b[32m[I 2021-12-03 15:34:46,546]\u001b[0m Trial 10 finished with value: 0.7369289741436658 and parameters: {'svc_kernel': 'sigmoid', 'svc_C': 3, 'svc_gamma': 0.013810768589135415, 'threshold': 0.003521241193120604, 'n_components': 54}. Best is trial 2 with value: 0.7408979378182968.\u001b[0m\n",
            "\u001b[32m[I 2021-12-03 15:34:51,270]\u001b[0m Trial 11 finished with value: 0.7352940053871907 and parameters: {'svc_kernel': 'sigmoid', 'svc_C': 70, 'svc_gamma': 0.009834398374004355, 'threshold': 0.006518036431413922, 'n_components': 41}. Best is trial 2 with value: 0.7408979378182968.\u001b[0m\n",
            "\u001b[32m[I 2021-12-03 15:34:54,724]\u001b[0m Trial 12 finished with value: 0.6652632525981745 and parameters: {'svc_kernel': 'sigmoid', 'svc_C': 98, 'svc_gamma': 0.2794052132698934, 'threshold': 0.022441660092740675, 'n_components': 31}. Best is trial 2 with value: 0.7408979378182968.\u001b[0m\n",
            "\u001b[32m[I 2021-12-03 15:34:59,169]\u001b[0m Trial 13 finished with value: 0.718253743225117 and parameters: {'svc_kernel': 'sigmoid', 'svc_C': 61, 'svc_gamma': 0.04136216712110079, 'threshold': 0.03386963454951524, 'n_components': 32}. Best is trial 2 with value: 0.7408979378182968.\u001b[0m\n",
            "\u001b[32m[I 2021-12-03 15:35:02,762]\u001b[0m Trial 14 finished with value: 0.6888412087372817 and parameters: {'svc_kernel': 'sigmoid', 'svc_C': 4, 'svc_gamma': 0.15108050951714017, 'threshold': 0.014450743405926454, 'n_components': 41}. Best is trial 2 with value: 0.7408979378182968.\u001b[0m\n",
            "\u001b[32m[I 2021-12-03 15:35:06,191]\u001b[0m Trial 15 finished with value: 0.7091563157722549 and parameters: {'svc_kernel': 'sigmoid', 'svc_C': 54, 'svc_gamma': 0.0043938297146722816, 'threshold': 0.0698427361563239, 'n_components': 5}. Best is trial 2 with value: 0.7408979378182968.\u001b[0m\n",
            "\u001b[32m[I 2021-12-03 15:35:10,804]\u001b[0m Trial 16 finished with value: 0.6963126642602427 and parameters: {'svc_kernel': 'sigmoid', 'svc_C': 79, 'svc_gamma': 0.049025743945862704, 'threshold': 0.014795312596693345, 'n_components': 35}. Best is trial 2 with value: 0.7408979378182968.\u001b[0m\n",
            "\u001b[32m[I 2021-12-03 15:35:15,659]\u001b[0m Trial 17 finished with value: 0.7037819387343374 and parameters: {'svc_kernel': 'sigmoid', 'svc_C': 97, 'svc_gamma': 0.04254638054658601, 'threshold': 0.03734187062029345, 'n_components': 24}. Best is trial 2 with value: 0.7408979378182968.\u001b[0m\n",
            "\u001b[32m[I 2021-12-03 15:35:19,317]\u001b[0m Trial 18 finished with value: 0.6482295335827 and parameters: {'svc_kernel': 'sigmoid', 'svc_C': 18, 'svc_gamma': 0.20354863922738428, 'threshold': 0.09508619425031364, 'n_components': 13}. Best is trial 2 with value: 0.7408979378182968.\u001b[0m\n",
            "\u001b[32m[I 2021-12-03 15:35:22,337]\u001b[0m Trial 19 finished with value: 0.6676007917207384 and parameters: {'svc_kernel': 'sigmoid', 'svc_C': 85, 'svc_gamma': 0.1209123330112811, 'threshold': 0.016857270276736724, 'n_components': 28}. Best is trial 2 with value: 0.7408979378182968.\u001b[0m\n",
            "\u001b[32m[I 2021-12-03 15:35:26,628]\u001b[0m Trial 20 finished with value: 0.6820725962115182 and parameters: {'svc_kernel': 'sigmoid', 'svc_C': 66, 'svc_gamma': 0.0663700676910823, 'threshold': 9.701959335437285e-05, 'n_components': 80}. Best is trial 2 with value: 0.7408979378182968.\u001b[0m\n",
            "\u001b[32m[I 2021-12-03 15:35:31,666]\u001b[0m Trial 21 finished with value: 0.733663943990665 and parameters: {'svc_kernel': 'sigmoid', 'svc_C': 5, 'svc_gamma': 0.001647458998297921, 'threshold': 0.004523475788458669, 'n_components': 50}. Best is trial 2 with value: 0.7408979378182968.\u001b[0m\n",
            "\u001b[32m[I 2021-12-03 15:35:35,924]\u001b[0m Trial 22 finished with value: 0.7401975485010742 and parameters: {'svc_kernel': 'sigmoid', 'svc_C': 17, 'svc_gamma': 0.02658573212544542, 'threshold': 0.030751856576180236, 'n_components': 25}. Best is trial 2 with value: 0.7408979378182968.\u001b[0m\n",
            "\u001b[32m[I 2021-12-03 15:35:40,140]\u001b[0m Trial 23 finished with value: 0.7401970032388576 and parameters: {'svc_kernel': 'sigmoid', 'svc_C': 15, 'svc_gamma': 0.03043591903792202, 'threshold': 0.03276007087886134, 'n_components': 24}. Best is trial 2 with value: 0.7408979378182968.\u001b[0m\n",
            "\u001b[32m[I 2021-12-03 15:35:44,176]\u001b[0m Trial 24 finished with value: 0.7373962638632919 and parameters: {'svc_kernel': 'sigmoid', 'svc_C': 15, 'svc_gamma': 0.026228938090742487, 'threshold': 0.044842916774275696, 'n_components': 22}. Best is trial 2 with value: 0.7408979378182968.\u001b[0m\n",
            "\u001b[32m[I 2021-12-03 15:35:48,479]\u001b[0m Trial 25 finished with value: 0.7371626190034788 and parameters: {'svc_kernel': 'sigmoid', 'svc_C': 10, 'svc_gamma': 0.03548272927744683, 'threshold': 0.028132502691255036, 'n_components': 26}. Best is trial 2 with value: 0.7408979378182968.\u001b[0m\n",
            "\u001b[32m[I 2021-12-03 15:35:52,303]\u001b[0m Trial 26 finished with value: 0.6972458805439535 and parameters: {'svc_kernel': 'sigmoid', 'svc_C': 23, 'svc_gamma': 0.0787244706259364, 'threshold': 0.055114794728952185, 'n_components': 19}. Best is trial 2 with value: 0.7408979378182968.\u001b[0m\n",
            "\u001b[32m[I 2021-12-03 15:35:55,471]\u001b[0m Trial 27 finished with value: 0.6587293754566572 and parameters: {'svc_kernel': 'sigmoid', 'svc_C': 12, 'svc_gamma': 0.29947001283214114, 'threshold': 0.06481636556411269, 'n_components': 15}. Best is trial 2 with value: 0.7408979378182968.\u001b[0m\n",
            "\u001b[32m[I 2021-12-03 15:35:58,273]\u001b[0m Trial 28 finished with value: 0.670399622678546 and parameters: {'svc_kernel': 'sigmoid', 'svc_C': 50, 'svc_gamma': 0.1698764092109326, 'threshold': 0.019196393781141272, 'n_components': 34}. Best is trial 2 with value: 0.7408979378182968.\u001b[0m\n",
            "\u001b[32m[I 2021-12-03 15:36:01,417]\u001b[0m Trial 29 finished with value: 0.6739034776824174 and parameters: {'svc_kernel': 'sigmoid', 'svc_C': 23, 'svc_gamma': 0.11271371794446777, 'threshold': 0.025894303288962417, 'n_components': 24}. Best is trial 2 with value: 0.7408979378182968.\u001b[0m\n"
          ]
        }
      ]
    },
    {
      "cell_type": "code",
      "metadata": {
        "colab": {
          "base_uri": "https://localhost:8080/"
        },
        "id": "HrK9AaMJ7t7n",
        "outputId": "28cb012b-ba07-4668-f6f8-23e1f4d44b22"
      },
      "source": [
        "import optuna\n",
        "from sklearn.svm import SVC\n",
        "from sklearn.model_selection import cross_val_score\n",
        "\n",
        "from sklearn.pipeline import Pipeline\n",
        "from sklearn import preprocessing\n",
        "from sklearn.feature_selection import VarianceThreshold\n",
        "\n",
        "def objective(trial):\n",
        "\n",
        "    \n",
        "    svc_kernel = trial.suggest_categorical('svc_kernel',['sigmoid'])\n",
        "    svc_C = trial.suggest_float('svc_C',1,200)\n",
        "\n",
        "    svc_gamma = trial.suggest_float('svc_gamma',0.0,0.5) \n",
        "\n",
        "    svm = SVC(kernel = svc_kernel,gamma = svc_gamma , C = svc_C)\n",
        "\n",
        "    threshold = trial.suggest_float('threshold', 0, 0.1)\n",
        "\n",
        "    clf = Pipeline(steps = [('minmax_scaler', preprocessing.MinMaxScaler()), ('selector', VarianceThreshold(threshold)), ('svm', svm)])\n",
        "  \n",
        "\n",
        "    return np.mean(cross_val_score(clf, X_train_small, y_train_small, cv = 5, scoring = 'accuracy'))\n",
        "\n",
        "study = optuna.create_study(direction = 'maximize')\n",
        "study.optimize(objective, n_trials = 100)"
      ],
      "execution_count": null,
      "outputs": [
        {
          "output_type": "stream",
          "name": "stderr",
          "text": [
            "\u001b[32m[I 2021-12-03 15:38:13,711]\u001b[0m A new study created in memory with name: no-name-5cf71456-0447-43ed-b91c-46d5b9cfcaea\u001b[0m\n",
            "\u001b[32m[I 2021-12-03 15:38:16,831]\u001b[0m Trial 0 finished with value: 0.5812312566113043 and parameters: {'svc_kernel': 'sigmoid', 'svc_C': 7.3871224043826835, 'svc_gamma': 0.2447454531640123, 'threshold': 0.05335063659805938}. Best is trial 0 with value: 0.5812312566113043.\u001b[0m\n",
            "\u001b[32m[I 2021-12-03 15:38:19,682]\u001b[0m Trial 1 finished with value: 0.6078441422480071 and parameters: {'svc_kernel': 'sigmoid', 'svc_C': 85.02749179139947, 'svc_gamma': 0.17956622834992902, 'threshold': 0.024063430331454073}. Best is trial 1 with value: 0.6078441422480071.\u001b[0m\n",
            "\u001b[32m[I 2021-12-03 15:38:22,531]\u001b[0m Trial 2 finished with value: 0.6162471782680292 and parameters: {'svc_kernel': 'sigmoid', 'svc_C': 91.94817016125552, 'svc_gamma': 0.16336114091297688, 'threshold': 0.01993105192157432}. Best is trial 2 with value: 0.6162471782680292.\u001b[0m\n",
            "\u001b[32m[I 2021-12-03 15:38:25,479]\u001b[0m Trial 3 finished with value: 0.5942987382632307 and parameters: {'svc_kernel': 'sigmoid', 'svc_C': 57.22310352578993, 'svc_gamma': 0.2582644635557384, 'threshold': 0.06228297388141192}. Best is trial 2 with value: 0.6162471782680292.\u001b[0m\n",
            "\u001b[32m[I 2021-12-03 15:38:29,939]\u001b[0m Trial 4 finished with value: 0.7359984841710379 and parameters: {'svc_kernel': 'sigmoid', 'svc_C': 113.72938962516554, 'svc_gamma': 0.007826832718517418, 'threshold': 0.0008808748196986627}. Best is trial 4 with value: 0.7359984841710379.\u001b[0m\n",
            "\u001b[32m[I 2021-12-03 15:38:33,062]\u001b[0m Trial 5 finished with value: 0.5532189554956979 and parameters: {'svc_kernel': 'sigmoid', 'svc_C': 181.08387337350126, 'svc_gamma': 0.3759041905844882, 'threshold': 0.06601261550775578}. Best is trial 4 with value: 0.7359984841710379.\u001b[0m\n",
            "\u001b[32m[I 2021-12-03 15:38:35,704]\u001b[0m Trial 6 finished with value: 0.5749296611740586 and parameters: {'svc_kernel': 'sigmoid', 'svc_C': 68.38223150207364, 'svc_gamma': 0.4894361585022238, 'threshold': 0.091459800466099}. Best is trial 4 with value: 0.7359984841710379.\u001b[0m\n",
            "\u001b[32m[I 2021-12-03 15:38:38,760]\u001b[0m Trial 7 finished with value: 0.5795951973303962 and parameters: {'svc_kernel': 'sigmoid', 'svc_C': 32.90355660533988, 'svc_gamma': 0.23251516819628287, 'threshold': 0.023255530956331996}. Best is trial 4 with value: 0.7359984841710379.\u001b[0m\n",
            "\u001b[32m[I 2021-12-03 15:38:42,168]\u001b[0m Trial 8 finished with value: 0.5499492906138561 and parameters: {'svc_kernel': 'sigmoid', 'svc_C': 195.59475617301862, 'svc_gamma': 0.35168533222989434, 'threshold': 0.014413963263639985}. Best is trial 4 with value: 0.7359984841710379.\u001b[0m\n",
            "\u001b[32m[I 2021-12-03 15:38:45,390]\u001b[0m Trial 9 finished with value: 0.7355295586647618 and parameters: {'svc_kernel': 'sigmoid', 'svc_C': 96.88766868110967, 'svc_gamma': 0.004945525502247361, 'threshold': 0.0843631300096598}. Best is trial 4 with value: 0.7359984841710379.\u001b[0m\n",
            "\u001b[32m[I 2021-12-03 15:38:48,331]\u001b[0m Trial 10 finished with value: 0.6769351356067131 and parameters: {'svc_kernel': 'sigmoid', 'svc_C': 143.22517697277675, 'svc_gamma': 0.02783347436167597, 'threshold': 0.00242424080836446}. Best is trial 4 with value: 0.7359984841710379.\u001b[0m\n",
            "\u001b[32m[I 2021-12-03 15:38:51,373]\u001b[0m Trial 11 finished with value: 0.7315603223590225 and parameters: {'svc_kernel': 'sigmoid', 'svc_C': 129.6486092325697, 'svc_gamma': 0.00525310746238748, 'threshold': 0.09492993031235746}. Best is trial 4 with value: 0.7359984841710379.\u001b[0m\n",
            "\u001b[32m[I 2021-12-03 15:38:53,685]\u001b[0m Trial 12 finished with value: 0.6470588556036598 and parameters: {'svc_kernel': 'sigmoid', 'svc_C': 128.22353615574053, 'svc_gamma': 0.1007972763521107, 'threshold': 0.0776596082489872}. Best is trial 4 with value: 0.7359984841710379.\u001b[0m\n",
            "\u001b[32m[I 2021-12-03 15:38:56,070]\u001b[0m Trial 13 finished with value: 0.661528479045573 and parameters: {'svc_kernel': 'sigmoid', 'svc_C': 112.901748856107, 'svc_gamma': 0.06850787006446937, 'threshold': 0.04087626907320261}. Best is trial 4 with value: 0.7359984841710379.\u001b[0m\n",
            "\u001b[32m[I 2021-12-03 15:38:58,453]\u001b[0m Trial 14 finished with value: 0.644025289261606 and parameters: {'svc_kernel': 'sigmoid', 'svc_C': 156.60458803117774, 'svc_gamma': 0.10265469852105993, 'threshold': 0.034847463006675156}. Best is trial 4 with value: 0.7359984841710379.\u001b[0m\n",
            "\u001b[32m[I 2021-12-03 15:39:02,107]\u001b[0m Trial 15 finished with value: 0.7161542110600989 and parameters: {'svc_kernel': 'sigmoid', 'svc_C': 105.38855768419904, 'svc_gamma': 0.016798257838812516, 'threshold': 0.07877239878799379}. Best is trial 4 with value: 0.7359984841710379.\u001b[0m\n",
            "\u001b[32m[I 2021-12-03 15:39:04,712]\u001b[0m Trial 16 finished with value: 0.6444955779234234 and parameters: {'svc_kernel': 'sigmoid', 'svc_C': 55.667350589034285, 'svc_gamma': 0.14424957787914305, 'threshold': 0.04409639869333769}. Best is trial 4 with value: 0.7359984841710379.\u001b[0m\n",
            "\u001b[32m[I 2021-12-03 15:39:07,739]\u001b[0m Trial 17 finished with value: 0.6538304670716147 and parameters: {'svc_kernel': 'sigmoid', 'svc_C': 159.95541880930728, 'svc_gamma': 0.07019642236537783, 'threshold': 0.0003657258116170209}. Best is trial 4 with value: 0.7359984841710379.\u001b[0m\n",
            "\u001b[32m[I 2021-12-03 15:39:10,588]\u001b[0m Trial 18 finished with value: 0.5889289959541544 and parameters: {'svc_kernel': 'sigmoid', 'svc_C': 75.91558518091743, 'svc_gamma': 0.315158783279408, 'threshold': 0.06953025154838213}. Best is trial 4 with value: 0.7359984841710379.\u001b[0m\n",
            "\u001b[32m[I 2021-12-03 15:39:13,081]\u001b[0m Trial 19 finished with value: 0.6549940566418391 and parameters: {'svc_kernel': 'sigmoid', 'svc_C': 117.64706711912243, 'svc_gamma': 0.07199845261585622, 'threshold': 0.054738974398314946}. Best is trial 4 with value: 0.7359984841710379.\u001b[0m\n",
            "\u001b[32m[I 2021-12-03 15:39:15,959]\u001b[0m Trial 20 finished with value: 0.5646580115377485 and parameters: {'svc_kernel': 'sigmoid', 'svc_C': 44.623347062367785, 'svc_gamma': 0.4236283922128027, 'threshold': 0.08414742998734515}. Best is trial 4 with value: 0.7359984841710379.\u001b[0m\n",
            "\u001b[32m[I 2021-12-03 15:39:19,341]\u001b[0m Trial 21 finished with value: 0.724790891939934 and parameters: {'svc_kernel': 'sigmoid', 'svc_C': 134.2814218512728, 'svc_gamma': 0.005620796059044846, 'threshold': 0.09924610668735018}. Best is trial 4 with value: 0.7359984841710379.\u001b[0m\n",
            "\u001b[32m[I 2021-12-03 15:39:22,871]\u001b[0m Trial 22 finished with value: 0.6596658633136675 and parameters: {'svc_kernel': 'sigmoid', 'svc_C': 92.64315429458362, 'svc_gamma': 0.04067606451302378, 'threshold': 0.08984128950674042}. Best is trial 4 with value: 0.7359984841710379.\u001b[0m\n",
            "\u001b[32m[I 2021-12-03 15:39:25,383]\u001b[0m Trial 23 finished with value: 0.6407572601664141 and parameters: {'svc_kernel': 'sigmoid', 'svc_C': 160.80935315536797, 'svc_gamma': 0.12202300298505077, 'threshold': 0.09801107673991523}. Best is trial 4 with value: 0.7359984841710379.\u001b[0m\n",
            "\u001b[32m[I 2021-12-03 15:39:27,617]\u001b[0m Trial 24 finished with value: 0.6638638371192707 and parameters: {'svc_kernel': 'sigmoid', 'svc_C': 121.61893713550414, 'svc_gamma': 0.05002419804653644, 'threshold': 0.07703823657394777}. Best is trial 4 with value: 0.7359984841710379.\u001b[0m\n",
            "\u001b[32m[I 2021-12-03 15:39:30,903]\u001b[0m Trial 25 finished with value: 0.7369303372992072 and parameters: {'svc_kernel': 'sigmoid', 'svc_C': 141.57838952862096, 'svc_gamma': 0.009702761169323004, 'threshold': 0.08751869607945255}. Best is trial 25 with value: 0.7369303372992072.\u001b[0m\n",
            "\u001b[32m[I 2021-12-03 15:39:33,793]\u001b[0m Trial 26 finished with value: 0.6090093676048811 and parameters: {'svc_kernel': 'sigmoid', 'svc_C': 145.45726068671632, 'svc_gamma': 0.20094942985701975, 'threshold': 0.05959101922816595}. Best is trial 25 with value: 0.7369303372992072.\u001b[0m\n",
            "\u001b[32m[I 2021-12-03 15:39:36,201]\u001b[0m Trial 27 finished with value: 0.6500943303634718 and parameters: {'svc_kernel': 'sigmoid', 'svc_C': 102.09705128234624, 'svc_gamma': 0.10197980953342585, 'threshold': 0.07073636921682129}. Best is trial 25 with value: 0.7369303372992072.\u001b[0m\n",
            "\u001b[32m[I 2021-12-03 15:39:38,551]\u001b[0m Trial 28 finished with value: 0.6638630192259457 and parameters: {'svc_kernel': 'sigmoid', 'svc_C': 177.5763722049644, 'svc_gamma': 0.055300092783689095, 'threshold': 0.08698063241684405}. Best is trial 25 with value: 0.7369303372992072.\u001b[0m\n",
            "\u001b[32m[I 2021-12-03 15:39:42,099]\u001b[0m Trial 29 finished with value: 0.7331971995332556 and parameters: {'svc_kernel': 'sigmoid', 'svc_C': 17.09183577155909, 'svc_gamma': 0.0011258048793629251, 'threshold': 0.031059348099355504}. Best is trial 25 with value: 0.7369303372992072.\u001b[0m\n",
            "\u001b[32m[I 2021-12-03 15:39:44,862]\u001b[0m Trial 30 finished with value: 0.6395936705961898 and parameters: {'svc_kernel': 'sigmoid', 'svc_C': 110.35376980519, 'svc_gamma': 0.1319957743809153, 'threshold': 0.051946550635308585}. Best is trial 25 with value: 0.7369303372992072.\u001b[0m\n",
            "\u001b[32m[I 2021-12-03 15:39:48,526]\u001b[0m Trial 31 finished with value: 0.7350636321006773 and parameters: {'svc_kernel': 'sigmoid', 'svc_C': 2.6058496423745083, 'svc_gamma': 0.00785495114058535, 'threshold': 0.011540184874351005}. Best is trial 25 with value: 0.7369303372992072.\u001b[0m\n",
            "\u001b[32m[I 2021-12-03 15:39:52,775]\u001b[0m Trial 32 finished with value: 0.7329630094112259 and parameters: {'svc_kernel': 'sigmoid', 'svc_C': 2.9728367639903297, 'svc_gamma': 0.03533607841293565, 'threshold': 0.00926210360489276}. Best is trial 25 with value: 0.7369303372992072.\u001b[0m\n",
            "\u001b[32m[I 2021-12-03 15:39:55,463]\u001b[0m Trial 33 finished with value: 0.654294212586833 and parameters: {'svc_kernel': 'sigmoid', 'svc_C': 143.7485642577546, 'svc_gamma': 0.0908897733087159, 'threshold': 0.007792869093750706}. Best is trial 25 with value: 0.7369303372992072.\u001b[0m\n",
            "\u001b[32m[I 2021-12-03 15:39:58,362]\u001b[0m Trial 34 finished with value: 0.6153117809354518 and parameters: {'svc_kernel': 'sigmoid', 'svc_C': 21.118839596224007, 'svc_gamma': 0.16752064350824206, 'threshold': 0.017990456774417046}. Best is trial 25 with value: 0.7369303372992072.\u001b[0m\n",
            "\u001b[32m[I 2021-12-03 15:40:00,509]\u001b[0m Trial 35 finished with value: 0.66993233295892 and parameters: {'svc_kernel': 'sigmoid', 'svc_C': 85.17696624596786, 'svc_gamma': 0.03775538751551577, 'threshold': 0.028805632816878132}. Best is trial 25 with value: 0.7369303372992072.\u001b[0m\n",
            "\u001b[32m[I 2021-12-03 15:40:03,335]\u001b[0m Trial 36 finished with value: 0.591969650705024 and parameters: {'svc_kernel': 'sigmoid', 'svc_C': 68.33705727583074, 'svc_gamma': 0.20190315701509032, 'threshold': 0.009524153631155144}. Best is trial 25 with value: 0.7369303372992072.\u001b[0m\n",
            "\u001b[32m[I 2021-12-03 15:40:06,611]\u001b[0m Trial 37 finished with value: 0.7317942398499439 and parameters: {'svc_kernel': 'sigmoid', 'svc_C': 40.908336069530264, 'svc_gamma': 0.002751205556766393, 'threshold': 0.08216454515034186}. Best is trial 25 with value: 0.7369303372992072.\u001b[0m\n",
            "\u001b[32m[I 2021-12-03 15:40:09,272]\u001b[0m Trial 38 finished with value: 0.6507922660007198 and parameters: {'svc_kernel': 'sigmoid', 'svc_C': 171.18703154180048, 'svc_gamma': 0.07707356070465801, 'threshold': 0.015138481018470892}. Best is trial 25 with value: 0.7369303372992072.\u001b[0m\n",
            "\u001b[32m[I 2021-12-03 15:40:12,546]\u001b[0m Trial 39 finished with value: 0.5665241714740619 and parameters: {'svc_kernel': 'sigmoid', 'svc_C': 198.2256683103771, 'svc_gamma': 0.2733868740475572, 'threshold': 0.003824045376143119}. Best is trial 25 with value: 0.7369303372992072.\u001b[0m\n",
            "\u001b[32m[I 2021-12-03 15:40:14,913]\u001b[0m Trial 40 finished with value: 0.6717995834196665 and parameters: {'svc_kernel': 'sigmoid', 'svc_C': 97.27134102929982, 'svc_gamma': 0.0318167569777382, 'threshold': 0.024581662516809495}. Best is trial 25 with value: 0.7369303372992072.\u001b[0m\n",
            "\u001b[32m[I 2021-12-03 15:40:18,763]\u001b[0m Trial 41 finished with value: 0.7324959923227079 and parameters: {'svc_kernel': 'sigmoid', 'svc_C': 18.35101632687723, 'svc_gamma': 0.0010756841090352222, 'threshold': 0.04371047861965034}. Best is trial 25 with value: 0.7369303372992072.\u001b[0m\n",
            "\u001b[32m[I 2021-12-03 15:40:22,623]\u001b[0m Trial 42 finished with value: 0.7266586876628971 and parameters: {'svc_kernel': 'sigmoid', 'svc_C': 12.501344569990632, 'svc_gamma': 0.024886601049563993, 'threshold': 0.029753372615449993}. Best is trial 25 with value: 0.7369303372992072.\u001b[0m\n",
            "\u001b[32m[I 2021-12-03 15:40:25,428]\u001b[0m Trial 43 finished with value: 0.6624644216403668 and parameters: {'svc_kernel': 'sigmoid', 'svc_C': 30.402473196584307, 'svc_gamma': 0.062486947398367236, 'threshold': 0.0062799641945780185}. Best is trial 25 with value: 0.7369303372992072.\u001b[0m\n",
            "\u001b[32m[I 2021-12-03 15:40:29,832]\u001b[0m Trial 44 finished with value: 0.732029793127515 and parameters: {'svc_kernel': 'sigmoid', 'svc_C': 10.491964996817341, 'svc_gamma': 0.02142206973650862, 'threshold': 0.012332346948454028}. Best is trial 25 with value: 0.7369303372992072.\u001b[0m\n",
            "\u001b[32m[I 2021-12-03 15:40:34,293]\u001b[0m Trial 45 finished with value: 0.732029793127515 and parameters: {'svc_kernel': 'sigmoid', 'svc_C': 1.1422256145451788, 'svc_gamma': 0.04716410249629831, 'threshold': 0.0234427162366115}. Best is trial 25 with value: 0.7369303372992072.\u001b[0m\n",
            "\u001b[32m[I 2021-12-03 15:40:37,540]\u001b[0m Trial 46 finished with value: 0.5415462545938341 and parameters: {'svc_kernel': 'sigmoid', 'svc_C': 26.880312734688342, 'svc_gamma': 0.47652055460642206, 'threshold': 0.036169372789915874}. Best is trial 25 with value: 0.7369303372992072.\u001b[0m\n",
            "\u001b[32m[I 2021-12-03 15:40:40,199]\u001b[0m Trial 47 finished with value: 0.6437919170329012 and parameters: {'svc_kernel': 'sigmoid', 'svc_C': 52.39257306994121, 'svc_gamma': 0.08718012681307732, 'threshold': 0.01931679847299227}. Best is trial 25 with value: 0.7369303372992072.\u001b[0m\n",
            "\u001b[32m[I 2021-12-03 15:40:42,613]\u001b[0m Trial 48 finished with value: 0.6365538337386449 and parameters: {'svc_kernel': 'sigmoid', 'svc_C': 69.48806138564869, 'svc_gamma': 0.11286569058253464, 'threshold': 0.07317966104145333}. Best is trial 25 with value: 0.7369303372992072.\u001b[0m\n",
            "\u001b[32m[I 2021-12-03 15:40:45,298]\u001b[0m Trial 49 finished with value: 0.6463628283841699 and parameters: {'svc_kernel': 'sigmoid', 'svc_C': 135.1066688664922, 'svc_gamma': 0.14174469543621812, 'threshold': 0.0479801560178119}. Best is trial 25 with value: 0.7369303372992072.\u001b[0m\n",
            "\u001b[32m[I 2021-12-03 15:40:47,893]\u001b[0m Trial 50 finished with value: 0.6848700640137843 and parameters: {'svc_kernel': 'sigmoid', 'svc_C': 119.58742310815103, 'svc_gamma': 0.019668166742586146, 'threshold': 0.03401274955787979}. Best is trial 25 with value: 0.7369303372992072.\u001b[0m\n",
            "\u001b[32m[I 2021-12-03 15:40:53,988]\u001b[0m Trial 51 finished with value: 0.5142389775242914 and parameters: {'svc_kernel': 'sigmoid', 'svc_C': 1.988014496117432, 'svc_gamma': 7.081121825967037e-05, 'threshold': 0.013283961466960053}. Best is trial 25 with value: 0.7369303372992072.\u001b[0m\n",
            "\u001b[32m[I 2021-12-03 15:40:57,204]\u001b[0m Trial 52 finished with value: 0.6757669113076479 and parameters: {'svc_kernel': 'sigmoid', 'svc_C': 17.735762275391238, 'svc_gamma': 0.040894302066988825, 'threshold': 0.0009515458780255323}. Best is trial 25 with value: 0.7369303372992072.\u001b[0m\n",
            "\u001b[32m[I 2021-12-03 15:41:00,456]\u001b[0m Trial 53 finished with value: 0.7198908930304583 and parameters: {'svc_kernel': 'sigmoid', 'svc_C': 38.789756973616996, 'svc_gamma': 0.025014118404312558, 'threshold': 0.0929916600354698}. Best is trial 25 with value: 0.7369303372992072.\u001b[0m\n",
            "\u001b[32m[I 2021-12-03 15:41:02,773]\u001b[0m Trial 54 finished with value: 0.6484615426558632 and parameters: {'svc_kernel': 'sigmoid', 'svc_C': 150.06403693498845, 'svc_gamma': 0.07244508385616519, 'threshold': 0.010861368832949187}. Best is trial 25 with value: 0.7369303372992072.\u001b[0m\n",
            "\u001b[32m[I 2021-12-03 15:41:07,171]\u001b[0m Trial 55 finished with value: 0.7362291300886596 and parameters: {'svc_kernel': 'sigmoid', 'svc_C': 5.228233397076032, 'svc_gamma': 0.01798833525166033, 'threshold': 0.0062714617091470005}. Best is trial 25 with value: 0.7369303372992072.\u001b[0m\n",
            "\u001b[32m[I 2021-12-03 15:41:10,360]\u001b[0m Trial 56 finished with value: 0.6624674205825583 and parameters: {'svc_kernel': 'sigmoid', 'svc_C': 9.65112901368039, 'svc_gamma': 0.050955381328410515, 'threshold': 0.004774578246173425}. Best is trial 25 with value: 0.7369303372992072.\u001b[0m\n",
            "\u001b[32m[I 2021-12-03 15:41:14,681]\u001b[0m Trial 57 finished with value: 0.6923417921678535 and parameters: {'svc_kernel': 'sigmoid', 'svc_C': 127.38600717174648, 'svc_gamma': 0.01657591050031776, 'threshold': 0.00041988651230200806}. Best is trial 25 with value: 0.7369303372992072.\u001b[0m\n",
            "\u001b[32m[I 2021-12-03 15:41:18,536]\u001b[0m Trial 58 finished with value: 0.5620879180798046 and parameters: {'svc_kernel': 'sigmoid', 'svc_C': 24.66427598573029, 'svc_gamma': 0.2855398682021001, 'threshold': 0.015393890748563198}. Best is trial 25 with value: 0.7369303372992072.\u001b[0m\n",
            "\u001b[32m[I 2021-12-03 15:41:22,590]\u001b[0m Trial 59 finished with value: 0.5494833640497716 and parameters: {'svc_kernel': 'sigmoid', 'svc_C': 46.7119821862238, 'svc_gamma': 0.3894562775816918, 'threshold': 0.06134421001057292}. Best is trial 25 with value: 0.7369303372992072.\u001b[0m\n",
            "\u001b[32m[I 2021-12-03 15:41:25,036]\u001b[0m Trial 60 finished with value: 0.6535946411629352 and parameters: {'svc_kernel': 'sigmoid', 'svc_C': 189.4829699291589, 'svc_gamma': 0.0587621575494812, 'threshold': 0.05670686682161116}. Best is trial 25 with value: 0.7369303372992072.\u001b[0m\n",
            "\u001b[32m[I 2021-12-03 15:41:29,537]\u001b[0m Trial 61 finished with value: 0.7364646833662307 and parameters: {'svc_kernel': 'sigmoid', 'svc_C': 1.721446152226022, 'svc_gamma': 0.012737798528284433, 'threshold': 0.006958479391492996}. Best is trial 25 with value: 0.7369303372992072.\u001b[0m\n",
            "\u001b[32m[I 2021-12-03 15:41:33,628]\u001b[0m Trial 62 finished with value: 0.7352961864360571 and parameters: {'svc_kernel': 'sigmoid', 'svc_C': 14.455121035352082, 'svc_gamma': 0.014771635746349415, 'threshold': 0.005749481883688316}. Best is trial 25 with value: 0.7369303372992072.\u001b[0m\n",
            "\u001b[32m[I 2021-12-03 15:41:37,885]\u001b[0m Trial 63 finished with value: 0.7359952125977383 and parameters: {'svc_kernel': 'sigmoid', 'svc_C': 6.465719382874235, 'svc_gamma': 0.017228243346519734, 'threshold': 0.005343471488428717}. Best is trial 25 with value: 0.7369303372992072.\u001b[0m\n",
            "\u001b[32m[I 2021-12-03 15:41:40,632]\u001b[0m Trial 64 finished with value: 0.6514956542601337 and parameters: {'svc_kernel': 'sigmoid', 'svc_C': 32.36887697688915, 'svc_gamma': 0.08255778598315888, 'threshold': 0.005589014257270342}. Best is trial 25 with value: 0.7369303372992072.\u001b[0m\n",
            "\u001b[32m[I 2021-12-03 15:41:44,877]\u001b[0m Trial 65 finished with value: 0.7119510572634381 and parameters: {'svc_kernel': 'sigmoid', 'svc_C': 10.841995775284461, 'svc_gamma': 0.030451001830148806, 'threshold': 0.0069389919452510895}. Best is trial 25 with value: 0.7369303372992072.\u001b[0m\n",
            "\u001b[32m[I 2021-12-03 15:41:47,289]\u001b[0m Trial 66 finished with value: 0.6692322162728056 and parameters: {'svc_kernel': 'sigmoid', 'svc_C': 84.50515826435691, 'svc_gamma': 0.053516728167407775, 'threshold': 0.06484260042358182}. Best is trial 25 with value: 0.7369303372992072.\u001b[0m\n",
            "\u001b[32m[I 2021-12-03 15:41:51,445]\u001b[0m Trial 67 finished with value: 0.685808732919661 and parameters: {'svc_kernel': 'sigmoid', 'svc_C': 165.32960522354594, 'svc_gamma': 0.018251943115665477, 'threshold': 0.08787024156855698}. Best is trial 25 with value: 0.7369303372992072.\u001b[0m\n",
            "\u001b[32m[I 2021-12-03 15:41:54,151]\u001b[0m Trial 68 finished with value: 0.6664317495283483 and parameters: {'svc_kernel': 'sigmoid', 'svc_C': 109.09743798638787, 'svc_gamma': 0.04112903683198685, 'threshold': 0.0025712301938335914}. Best is trial 25 with value: 0.7369303372992072.\u001b[0m\n",
            "\u001b[32m[I 2021-12-03 15:41:56,939]\u001b[0m Trial 69 finished with value: 0.6365590137297026 and parameters: {'svc_kernel': 'sigmoid', 'svc_C': 14.999003152608156, 'svc_gamma': 0.09900435575720573, 'threshold': 0.015711977987028027}. Best is trial 25 with value: 0.7369303372992072.\u001b[0m\n",
            "\u001b[32m[I 2021-12-03 15:41:59,100]\u001b[0m Trial 70 finished with value: 0.6568613071025856 and parameters: {'svc_kernel': 'sigmoid', 'svc_C': 137.39665810569358, 'svc_gamma': 0.06389137926449057, 'threshold': 0.08115029773019401}. Best is trial 25 with value: 0.7369303372992072.\u001b[0m\n",
            "\u001b[32m[I 2021-12-03 15:42:02,852]\u001b[0m Trial 71 finished with value: 0.7394960686594183 and parameters: {'svc_kernel': 'sigmoid', 'svc_C': 6.39443154270039, 'svc_gamma': 0.014502932204457851, 'threshold': 0.0100323222248046}. Best is trial 71 with value: 0.7394960686594183.\u001b[0m\n",
            "\u001b[32m[I 2021-12-03 15:42:07,067]\u001b[0m Trial 72 finished with value: 0.7352956411738405 and parameters: {'svc_kernel': 'sigmoid', 'svc_C': 6.678710022470789, 'svc_gamma': 0.013551221635107953, 'threshold': 0.00360623174950843}. Best is trial 71 with value: 0.7394960686594183.\u001b[0m\n",
            "\u001b[32m[I 2021-12-03 15:42:10,006]\u001b[0m Trial 73 finished with value: 0.6827708044798744 and parameters: {'svc_kernel': 'sigmoid', 'svc_C': 22.685161635784823, 'svc_gamma': 0.03182358429771647, 'threshold': 0.009502377736237081}. Best is trial 71 with value: 0.7394960686594183.\u001b[0m\n",
            "\u001b[32m[I 2021-12-03 15:42:13,899]\u001b[0m Trial 74 finished with value: 0.7422978985594172 and parameters: {'svc_kernel': 'sigmoid', 'svc_C': 5.643227458989528, 'svc_gamma': 0.011482276298193043, 'threshold': 0.02164619301059635}. Best is trial 74 with value: 0.7422978985594172.\u001b[0m\n",
            "\u001b[32m[I 2021-12-03 15:42:16,431]\u001b[0m Trial 75 finished with value: 0.6682981820957699 and parameters: {'svc_kernel': 'sigmoid', 'svc_C': 35.89461167458937, 'svc_gamma': 0.043000853744174804, 'threshold': 0.021184462680918868}. Best is trial 74 with value: 0.7422978985594172.\u001b[0m\n",
            "\u001b[32m[I 2021-12-03 15:42:20,554]\u001b[0m Trial 76 finished with value: 0.7373970817566169 and parameters: {'svc_kernel': 'sigmoid', 'svc_C': 8.556678349706907, 'svc_gamma': 0.003576833348034658, 'threshold': 0.01825845671216785}. Best is trial 74 with value: 0.7422978985594172.\u001b[0m\n",
            "\u001b[32m[I 2021-12-03 15:42:25,287]\u001b[0m Trial 77 finished with value: 0.7296968887337921 and parameters: {'svc_kernel': 'sigmoid', 'svc_C': 7.558372354759103, 'svc_gamma': 0.0006894394229424797, 'threshold': 0.017683903371903502}. Best is trial 74 with value: 0.7422978985594172.\u001b[0m\n",
            "\u001b[32m[I 2021-12-03 15:42:27,881]\u001b[0m Trial 78 finished with value: 0.6610620072192717 and parameters: {'svc_kernel': 'sigmoid', 'svc_C': 26.66567696281916, 'svc_gamma': 0.06794142739109915, 'threshold': 0.021251349869967257}. Best is trial 74 with value: 0.7422978985594172.\u001b[0m\n",
            "\u001b[32m[I 2021-12-03 15:42:31,217]\u001b[0m Trial 79 finished with value: 0.6918766834970936 and parameters: {'svc_kernel': 'sigmoid', 'svc_C': 18.678592153807287, 'svc_gamma': 0.029395915863631102, 'threshold': 0.012235889625924158}. Best is trial 74 with value: 0.7422978985594172.\u001b[0m\n",
            "\u001b[32m[I 2021-12-03 15:42:34,535]\u001b[0m Trial 80 finished with value: 0.6855726343798733 and parameters: {'svc_kernel': 'sigmoid', 'svc_C': 5.48107885738003, 'svc_gamma': 0.052413124285199286, 'threshold': 0.026497302398092497}. Best is trial 74 with value: 0.7422978985594172.\u001b[0m\n",
            "\u001b[32m[I 2021-12-03 15:42:39,216]\u001b[0m Trial 81 finished with value: 0.7350647226251104 and parameters: {'svc_kernel': 'sigmoid', 'svc_C': 1.0061452333533474, 'svc_gamma': 0.011418746034447834, 'threshold': 0.007079444079244695}. Best is trial 74 with value: 0.7422978985594172.\u001b[0m\n",
            "\u001b[32m[I 2021-12-03 15:42:42,696]\u001b[0m Trial 82 finished with value: 0.7086835734304627 and parameters: {'svc_kernel': 'sigmoid', 'svc_C': 152.23745517743342, 'svc_gamma': 0.012849799429896058, 'threshold': 0.010198153241271258}. Best is trial 74 with value: 0.7422978985594172.\u001b[0m\n",
            "\u001b[32m[I 2021-12-03 15:42:46,049]\u001b[0m Trial 83 finished with value: 0.679035213033948 and parameters: {'svc_kernel': 'sigmoid', 'svc_C': 12.705267750789062, 'svc_gamma': 0.041036021372702, 'threshold': 0.002719713897485966}. Best is trial 74 with value: 0.7422978985594172.\u001b[0m\n",
            "\u001b[32m[I 2021-12-03 15:42:50,196]\u001b[0m Trial 84 finished with value: 0.7378638262140264 and parameters: {'svc_kernel': 'sigmoid', 'svc_C': 114.38524316682701, 'svc_gamma': 0.0003459580834059197, 'threshold': 0.01651056682098987}. Best is trial 74 with value: 0.7422978985594172.\u001b[0m\n",
            "\u001b[32m[I 2021-12-03 15:42:52,817]\u001b[0m Trial 85 finished with value: 0.6718006739440997 and parameters: {'svc_kernel': 'sigmoid', 'svc_C': 126.32778954374598, 'svc_gamma': 0.02742080890081006, 'threshold': 0.017454743317277574}. Best is trial 74 with value: 0.7422978985594172.\u001b[0m\n",
            "\u001b[32m[I 2021-12-03 15:42:55,736]\u001b[0m Trial 86 finished with value: 0.576327713497421 and parameters: {'svc_kernel': 'sigmoid', 'svc_C': 100.95473994351926, 'svc_gamma': 0.24465554515836177, 'threshold': 0.026189284276253076}. Best is trial 74 with value: 0.7422978985594172.\u001b[0m\n",
            "\u001b[32m[I 2021-12-03 15:42:59,810]\u001b[0m Trial 87 finished with value: 0.7362288574575513 and parameters: {'svc_kernel': 'sigmoid', 'svc_C': 116.19646448889873, 'svc_gamma': 0.0005317712155007617, 'threshold': 0.008213229607618883}. Best is trial 74 with value: 0.7422978985594172.\u001b[0m\n",
            "\u001b[32m[I 2021-12-03 15:43:03,885]\u001b[0m Trial 88 finished with value: 0.737163709527912 and parameters: {'svc_kernel': 'sigmoid', 'svc_C': 111.34397704590936, 'svc_gamma': 0.002514738746016076, 'threshold': 0.013485669028968545}. Best is trial 74 with value: 0.7422978985594172.\u001b[0m\n",
            "\u001b[32m[I 2021-12-03 15:43:07,757]\u001b[0m Trial 89 finished with value: 0.7380985615982726 and parameters: {'svc_kernel': 'sigmoid', 'svc_C': 117.02244263184117, 'svc_gamma': 0.005984479060087171, 'threshold': 0.019661573699640434}. Best is trial 74 with value: 0.7422978985594172.\u001b[0m\n",
            "\u001b[32m[I 2021-12-03 15:43:10,806]\u001b[0m Trial 90 finished with value: 0.5851985844992857 and parameters: {'svc_kernel': 'sigmoid', 'svc_C': 104.92203041115931, 'svc_gamma': 0.21512328382260115, 'threshold': 0.02042042548130492}. Best is trial 74 with value: 0.7422978985594172.\u001b[0m\n",
            "\u001b[32m[I 2021-12-03 15:43:14,893]\u001b[0m Trial 91 finished with value: 0.7381007426471389 and parameters: {'svc_kernel': 'sigmoid', 'svc_C': 112.1966375193682, 'svc_gamma': 0.007386017731818612, 'threshold': 0.015412221186336155}. Best is trial 74 with value: 0.7422978985594172.\u001b[0m\n",
            "\u001b[32m[I 2021-12-03 15:43:17,636]\u001b[0m Trial 92 finished with value: 0.6748353308105868 and parameters: {'svc_kernel': 'sigmoid', 'svc_C': 92.03866473728925, 'svc_gamma': 0.02713432976496491, 'threshold': 0.013822500010181243}. Best is trial 74 with value: 0.7422978985594172.\u001b[0m\n",
            "\u001b[32m[I 2021-12-03 15:43:22,383]\u001b[0m Trial 93 finished with value: 0.7261935789921373 and parameters: {'svc_kernel': 'sigmoid', 'svc_C': 113.67156802162539, 'svc_gamma': 0.01218941087452935, 'threshold': 0.016901815229389203}. Best is trial 74 with value: 0.7422978985594172.\u001b[0m\n",
            "\u001b[32m[I 2021-12-03 15:43:26,960]\u001b[0m Trial 94 finished with value: 0.7352983674849234 and parameters: {'svc_kernel': 'sigmoid', 'svc_C': 138.3696865912106, 'svc_gamma': 7.55834108695716e-05, 'threshold': 0.013776586921200294}. Best is trial 74 with value: 0.7422978985594172.\u001b[0m\n",
            "\u001b[32m[I 2021-12-03 15:43:29,319]\u001b[0m Trial 95 finished with value: 0.6689996619374258 and parameters: {'svc_kernel': 'sigmoid', 'svc_C': 120.44449894090111, 'svc_gamma': 0.038355614251504445, 'threshold': 0.022655384868178637}. Best is trial 74 with value: 0.7422978985594172.\u001b[0m\n",
            "\u001b[32m[I 2021-12-03 15:43:31,914]\u001b[0m Trial 96 finished with value: 0.6788023860674599 and parameters: {'svc_kernel': 'sigmoid', 'svc_C': 124.13301036205313, 'svc_gamma': 0.02420049170699942, 'threshold': 0.024771640516127385}. Best is trial 74 with value: 0.7422978985594172.\u001b[0m\n",
            "\u001b[32m[I 2021-12-03 15:43:34,375]\u001b[0m Trial 97 finished with value: 0.6575614237887 and parameters: {'svc_kernel': 'sigmoid', 'svc_C': 107.2534236397569, 'svc_gamma': 0.059935527478942055, 'threshold': 0.01970334445891607}. Best is trial 74 with value: 0.7422978985594172.\u001b[0m\n",
            "\u001b[32m[I 2021-12-03 15:43:38,133]\u001b[0m Trial 98 finished with value: 0.7411326732025432 and parameters: {'svc_kernel': 'sigmoid', 'svc_C': 85.00706673618615, 'svc_gamma': 0.010458486712083832, 'threshold': 0.03838168093125967}. Best is trial 74 with value: 0.7422978985594172.\u001b[0m\n",
            "\u001b[32m[I 2021-12-03 15:43:41,284]\u001b[0m Trial 99 finished with value: 0.5574196556123839 and parameters: {'svc_kernel': 'sigmoid', 'svc_C': 96.5758058207729, 'svc_gamma': 0.32205679799001385, 'threshold': 0.038631193493506695}. Best is trial 74 with value: 0.7422978985594172.\u001b[0m\n"
          ]
        }
      ]
    },
    {
      "cell_type": "markdown",
      "metadata": {
        "id": "1zMOWg3J_YQP"
      },
      "source": [
        "Παρατηρούμε ότι η μέγιστη επίδοση που πετυχαίνουμε για kernel = sigmoid είναι 74.69% accuracy.\n",
        "Την επίδοση αυτή την πετυχαίνουμε για τις ακόλουθες τιμές υπερπαραμέτρων:\n",
        "\n",
        "* kernel = sigmoid \n",
        "* C =  6.678710022470789\n",
        "* gamma = 0.011482276298193043\n",
        "* threshold =  0.02164619301059635\n",
        "\n",
        "Παραηρούμε βέβαια ότι η συμπεριφορά του SVM με kernel = sigmoid είναι αρκετά πιο ασταθής ως προς το accuracy στις μεταβολές των υπερπαραμέτρων C , gammma και threshold σε σχέση με τους προηγούμενους πυρήνες (έχουμε αρκετές περιπτώσεις που οι τιμές είναι χειρότερες ακόμα και από την out-of-the-box επίδοση)"
      ]
    },
    {
      "cell_type": "code",
      "metadata": {
        "colab": {
          "base_uri": "https://localhost:8080/"
        },
        "id": "7ysrLGsZKqo1",
        "outputId": "08bd13f4-740b-4d4c-b840-0dc8f03c7073"
      },
      "source": [
        "import optuna\n",
        "from sklearn.svm import SVC\n",
        "from sklearn.model_selection import cross_val_score\n",
        "\n",
        "from sklearn.pipeline import Pipeline\n",
        "from sklearn import preprocessing\n",
        "from sklearn.feature_selection import VarianceThreshold\n",
        "\n",
        "def objective(trial):\n",
        "\n",
        "    \n",
        "    svc_kernel = trial.suggest_categorical('svc_kernel',['sigmoid'])\n",
        "    svc_C = trial.suggest_float('svc_C',1,200)\n",
        "\n",
        "    svc_gamma = trial.suggest_float('svc_gamma',0.0,0.5) \n",
        "\n",
        "    svm = SVC(kernel = svc_kernel,gamma = svc_gamma , C = svc_C)\n",
        "\n",
        "    threshold = trial.suggest_float('threshold', 0, 0.1)\n",
        "\n",
        "    clf = Pipeline(steps = [('minmax_scaler', preprocessing.MinMaxScaler()), ('selector', VarianceThreshold(threshold)), ('svm', svm)])\n",
        "  \n",
        "\n",
        "    return np.mean(cross_val_score(clf, X_train_small, y_train_small, cv = 5, scoring = 'f1'))\n",
        "\n",
        "study = optuna.create_study(direction = 'maximize')\n",
        "study.optimize(objective, n_trials = 100)"
      ],
      "execution_count": null,
      "outputs": [
        {
          "output_type": "stream",
          "name": "stderr",
          "text": [
            "\u001b[32m[I 2021-12-03 16:40:05,544]\u001b[0m A new study created in memory with name: no-name-5063eccc-ce09-4381-bb69-6b99065b0bdb\u001b[0m\n",
            "\u001b[32m[I 2021-12-03 16:40:08,041]\u001b[0m Trial 0 finished with value: 0.625145476338914 and parameters: {'svc_kernel': 'sigmoid', 'svc_C': 141.16632462722242, 'svc_gamma': 0.14131228376199556, 'threshold': 0.011804399409778467}. Best is trial 0 with value: 0.625145476338914.\u001b[0m\n",
            "\u001b[32m[I 2021-12-03 16:40:10,256]\u001b[0m Trial 1 finished with value: 0.6496604153406518 and parameters: {'svc_kernel': 'sigmoid', 'svc_C': 138.52746925275, 'svc_gamma': 0.048798625206562085, 'threshold': 0.0811855162461043}. Best is trial 1 with value: 0.6496604153406518.\u001b[0m\n",
            "\u001b[32m[I 2021-12-03 16:40:13,740]\u001b[0m Trial 2 finished with value: 0.6957220810994318 and parameters: {'svc_kernel': 'sigmoid', 'svc_C': 91.98654960941646, 'svc_gamma': 0.017012603911797597, 'threshold': 0.01799104073433916}. Best is trial 2 with value: 0.6957220810994318.\u001b[0m\n",
            "\u001b[32m[I 2021-12-03 16:40:16,225]\u001b[0m Trial 3 finished with value: 0.6265217699587853 and parameters: {'svc_kernel': 'sigmoid', 'svc_C': 172.65344291715078, 'svc_gamma': 0.12092285311324086, 'threshold': 0.09976160062721742}. Best is trial 2 with value: 0.6957220810994318.\u001b[0m\n",
            "\u001b[32m[I 2021-12-03 16:40:19,353]\u001b[0m Trial 4 finished with value: 0.542995616898384 and parameters: {'svc_kernel': 'sigmoid', 'svc_C': 106.78587442487013, 'svc_gamma': 0.3615486186679563, 'threshold': 0.06574503975172255}. Best is trial 2 with value: 0.6957220810994318.\u001b[0m\n",
            "\u001b[32m[I 2021-12-03 16:40:22,258]\u001b[0m Trial 5 finished with value: 0.6024406415580745 and parameters: {'svc_kernel': 'sigmoid', 'svc_C': 79.1558433128397, 'svc_gamma': 0.16603386883798243, 'threshold': 0.007776836505101858}. Best is trial 2 with value: 0.6957220810994318.\u001b[0m\n",
            "\u001b[32m[I 2021-12-03 16:40:25,357]\u001b[0m Trial 6 finished with value: 0.5411100777603445 and parameters: {'svc_kernel': 'sigmoid', 'svc_C': 187.2332528721434, 'svc_gamma': 0.33937378783104066, 'threshold': 0.04332780933914743}. Best is trial 2 with value: 0.6957220810994318.\u001b[0m\n",
            "\u001b[32m[I 2021-12-03 16:40:28,736]\u001b[0m Trial 7 finished with value: 0.5334680486621112 and parameters: {'svc_kernel': 'sigmoid', 'svc_C': 115.00254399948018, 'svc_gamma': 0.482028512212837, 'threshold': 0.05102697517975299}. Best is trial 2 with value: 0.6957220810994318.\u001b[0m\n",
            "\u001b[32m[I 2021-12-03 16:40:31,930]\u001b[0m Trial 8 finished with value: 0.5338986884995348 and parameters: {'svc_kernel': 'sigmoid', 'svc_C': 147.06115214657234, 'svc_gamma': 0.4032726868827127, 'threshold': 0.035325092295467556}. Best is trial 2 with value: 0.6957220810994318.\u001b[0m\n",
            "\u001b[32m[I 2021-12-03 16:40:34,514]\u001b[0m Trial 9 finished with value: 0.6664301000742506 and parameters: {'svc_kernel': 'sigmoid', 'svc_C': 195.35459738793352, 'svc_gamma': 0.03622843753479604, 'threshold': 0.08705459291985701}. Best is trial 2 with value: 0.6957220810994318.\u001b[0m\n",
            "\u001b[32m[I 2021-12-03 16:40:37,626]\u001b[0m Trial 10 finished with value: 0.5617974323369455 and parameters: {'svc_kernel': 'sigmoid', 'svc_C': 9.556464817216309, 'svc_gamma': 0.24520691661712693, 'threshold': 0.022703829878389883}. Best is trial 2 with value: 0.6957220810994318.\u001b[0m\n",
            "\u001b[32m[I 2021-12-03 16:40:41,269]\u001b[0m Trial 11 finished with value: 0.7320742006229226 and parameters: {'svc_kernel': 'sigmoid', 'svc_C': 60.912794639195155, 'svc_gamma': 0.014206851148137491, 'threshold': 0.06608033572739191}. Best is trial 11 with value: 0.7320742006229226.\u001b[0m\n",
            "\u001b[32m[I 2021-12-03 16:40:45,327]\u001b[0m Trial 12 finished with value: 0.7169863127997635 and parameters: {'svc_kernel': 'sigmoid', 'svc_C': 54.010012186860735, 'svc_gamma': 0.01767081730504813, 'threshold': 0.06177252626462217}. Best is trial 11 with value: 0.7320742006229226.\u001b[0m\n",
            "\u001b[32m[I 2021-12-03 16:40:47,852]\u001b[0m Trial 13 finished with value: 0.6324977850455935 and parameters: {'svc_kernel': 'sigmoid', 'svc_C': 45.012275724899006, 'svc_gamma': 0.0920345489779642, 'threshold': 0.06335307110137998}. Best is trial 11 with value: 0.7320742006229226.\u001b[0m\n",
            "\u001b[32m[I 2021-12-03 16:40:50,554]\u001b[0m Trial 14 finished with value: 0.6127123812454627 and parameters: {'svc_kernel': 'sigmoid', 'svc_C': 54.74526581961835, 'svc_gamma': 0.22429168146522913, 'threshold': 0.06487351055101676}. Best is trial 11 with value: 0.7320742006229226.\u001b[0m\n",
            "\u001b[32m[I 2021-12-03 16:40:53,147]\u001b[0m Trial 15 finished with value: 0.6365301236154874 and parameters: {'svc_kernel': 'sigmoid', 'svc_C': 12.934423354550702, 'svc_gamma': 0.19342176567513233, 'threshold': 0.07620742043527605}. Best is trial 11 with value: 0.7320742006229226.\u001b[0m\n",
            "\u001b[32m[I 2021-12-03 16:40:55,719]\u001b[0m Trial 16 finished with value: 0.6479191528514768 and parameters: {'svc_kernel': 'sigmoid', 'svc_C': 56.583331797863536, 'svc_gamma': 0.07162814414666682, 'threshold': 0.05255797979775575}. Best is trial 11 with value: 0.7320742006229226.\u001b[0m\n",
            "\u001b[32m[I 2021-12-03 16:40:59,005]\u001b[0m Trial 17 finished with value: 0.7403924173346277 and parameters: {'svc_kernel': 'sigmoid', 'svc_C': 29.56862146842219, 'svc_gamma': 0.0133474769070075, 'threshold': 0.03398375498467683}. Best is trial 17 with value: 0.7403924173346277.\u001b[0m\n",
            "\u001b[32m[I 2021-12-03 16:41:02,123]\u001b[0m Trial 18 finished with value: 0.5438609908682632 and parameters: {'svc_kernel': 'sigmoid', 'svc_C': 24.81940642528383, 'svc_gamma': 0.31409641773182395, 'threshold': 0.03894802069859634}. Best is trial 17 with value: 0.7403924173346277.\u001b[0m\n",
            "\u001b[32m[I 2021-12-03 16:41:04,485]\u001b[0m Trial 19 finished with value: 0.6324607753780664 and parameters: {'svc_kernel': 'sigmoid', 'svc_C': 30.630620355730613, 'svc_gamma': 0.09221822364253005, 'threshold': 0.03028032413056171}. Best is trial 17 with value: 0.7403924173346277.\u001b[0m\n",
            "\u001b[32m[I 2021-12-03 16:41:08,197]\u001b[0m Trial 20 finished with value: 0.7369432341338422 and parameters: {'svc_kernel': 'sigmoid', 'svc_C': 74.83684394017453, 'svc_gamma': 0.00575992766344494, 'threshold': 0.02470293623063262}. Best is trial 17 with value: 0.7403924173346277.\u001b[0m\n",
            "\u001b[32m[I 2021-12-03 16:41:11,829]\u001b[0m Trial 21 finished with value: 0.7384348569911199 and parameters: {'svc_kernel': 'sigmoid', 'svc_C': 73.86501864340244, 'svc_gamma': 0.0050509457163746075, 'threshold': 0.025037498976510315}. Best is trial 17 with value: 0.7403924173346277.\u001b[0m\n",
            "\u001b[32m[I 2021-12-03 16:41:15,449]\u001b[0m Trial 22 finished with value: 0.7415454553998708 and parameters: {'svc_kernel': 'sigmoid', 'svc_C': 80.23115937541309, 'svc_gamma': 0.0014290194406881198, 'threshold': 0.025986971325563026}. Best is trial 22 with value: 0.7415454553998708.\u001b[0m\n",
            "\u001b[32m[I 2021-12-03 16:41:18,109]\u001b[0m Trial 23 finished with value: 0.6392122600392552 and parameters: {'svc_kernel': 'sigmoid', 'svc_C': 88.37140801278215, 'svc_gamma': 0.07957715731420498, 'threshold': 0.015319744314147662}. Best is trial 22 with value: 0.7415454553998708.\u001b[0m\n",
            "\u001b[32m[I 2021-12-03 16:41:20,541]\u001b[0m Trial 24 finished with value: 0.6257820534451382 and parameters: {'svc_kernel': 'sigmoid', 'svc_C': 29.164780961638826, 'svc_gamma': 0.1173493239846123, 'threshold': 0.029776034116406974}. Best is trial 22 with value: 0.7415454553998708.\u001b[0m\n",
            "\u001b[32m[I 2021-12-03 16:41:23,276]\u001b[0m Trial 25 finished with value: 0.643715907428852 and parameters: {'svc_kernel': 'sigmoid', 'svc_C': 119.8746724146784, 'svc_gamma': 0.050109966581684894, 'threshold': 0.0010030044544774123}. Best is trial 22 with value: 0.7415454553998708.\u001b[0m\n",
            "\u001b[32m[I 2021-12-03 16:41:25,920]\u001b[0m Trial 26 finished with value: 0.6125544370962014 and parameters: {'svc_kernel': 'sigmoid', 'svc_C': 68.75616289781775, 'svc_gamma': 0.17237316256406116, 'threshold': 0.04154585695066501}. Best is trial 22 with value: 0.7415454553998708.\u001b[0m\n",
            "\u001b[32m[I 2021-12-03 16:41:28,812]\u001b[0m Trial 27 finished with value: 0.5502772645375661 and parameters: {'svc_kernel': 'sigmoid', 'svc_C': 41.91862714472673, 'svc_gamma': 0.2840188436410706, 'threshold': 0.03011134765875389}. Best is trial 22 with value: 0.7415454553998708.\u001b[0m\n",
            "\u001b[32m[I 2021-12-03 16:41:32,722]\u001b[0m Trial 28 finished with value: 0.7417908906821141 and parameters: {'svc_kernel': 'sigmoid', 'svc_C': 90.33514789565326, 'svc_gamma': 0.0019518267890828722, 'threshold': 0.04687360559909716}. Best is trial 28 with value: 0.7417908906821141.\u001b[0m\n",
            "\u001b[32m[I 2021-12-03 16:41:35,680]\u001b[0m Trial 29 finished with value: 0.6443691690284554 and parameters: {'svc_kernel': 'sigmoid', 'svc_C': 132.79401512436945, 'svc_gamma': 0.14545989765490677, 'threshold': 0.04890989431639303}. Best is trial 28 with value: 0.7417908906821141.\u001b[0m\n",
            "\u001b[32m[I 2021-12-03 16:41:38,305]\u001b[0m Trial 30 finished with value: 0.6428020648476853 and parameters: {'svc_kernel': 'sigmoid', 'svc_C': 93.41249561068273, 'svc_gamma': 0.06758383597947372, 'threshold': 0.009342061906032779}. Best is trial 28 with value: 0.7417908906821141.\u001b[0m\n",
            "\u001b[32m[I 2021-12-03 16:41:42,343]\u001b[0m Trial 31 finished with value: 0.7386429624836583 and parameters: {'svc_kernel': 'sigmoid', 'svc_C': 81.44055990865186, 'svc_gamma': 0.001544986852142844, 'threshold': 0.02218068776230888}. Best is trial 28 with value: 0.7417908906821141.\u001b[0m\n",
            "\u001b[32m[I 2021-12-03 16:41:44,677]\u001b[0m Trial 32 finished with value: 0.656303229481509 and parameters: {'svc_kernel': 'sigmoid', 'svc_C': 107.03136215624286, 'svc_gamma': 0.04798493623052352, 'threshold': 0.03633356202528616}. Best is trial 28 with value: 0.7417908906821141.\u001b[0m\n",
            "\u001b[32m[I 2021-12-03 16:41:46,925]\u001b[0m Trial 33 finished with value: 0.6567421606417603 and parameters: {'svc_kernel': 'sigmoid', 'svc_C': 150.06615625396392, 'svc_gamma': 0.03981558702666885, 'threshold': 0.04586517152247661}. Best is trial 28 with value: 0.7417908906821141.\u001b[0m\n",
            "\u001b[32m[I 2021-12-03 16:41:49,703]\u001b[0m Trial 34 finished with value: 0.640670059807944 and parameters: {'svc_kernel': 'sigmoid', 'svc_C': 84.178444901318, 'svc_gamma': 0.10597664740770404, 'threshold': 0.012506921229960551}. Best is trial 28 with value: 0.7417908906821141.\u001b[0m\n",
            "\u001b[32m[I 2021-12-03 16:41:53,534]\u001b[0m Trial 35 finished with value: 0.7389368713058766 and parameters: {'svc_kernel': 'sigmoid', 'svc_C': 99.6579951879801, 'svc_gamma': 0.0012605796353554865, 'threshold': 0.0224808630508083}. Best is trial 28 with value: 0.7417908906821141.\u001b[0m\n",
            "\u001b[32m[I 2021-12-03 16:41:56,247]\u001b[0m Trial 36 finished with value: 0.6276690860566487 and parameters: {'svc_kernel': 'sigmoid', 'svc_C': 125.93732478474631, 'svc_gamma': 0.1346192583235895, 'threshold': 0.056191235818524796}. Best is trial 28 with value: 0.7417908906821141.\u001b[0m\n",
            "\u001b[32m[I 2021-12-03 16:41:58,718]\u001b[0m Trial 37 finished with value: 0.659172201126115 and parameters: {'svc_kernel': 'sigmoid', 'svc_C': 107.1329139454426, 'svc_gamma': 0.036158702308772134, 'threshold': 0.017495665575513207}. Best is trial 28 with value: 0.7417908906821141.\u001b[0m\n",
            "\u001b[32m[I 2021-12-03 16:42:00,831]\u001b[0m Trial 38 finished with value: 0.644035906232752 and parameters: {'svc_kernel': 'sigmoid', 'svc_C': 96.76392061901768, 'svc_gamma': 0.059646570387385384, 'threshold': 0.03289085758153759}. Best is trial 28 with value: 0.7417908906821141.\u001b[0m\n",
            "\u001b[32m[I 2021-12-03 16:42:04,263]\u001b[0m Trial 39 finished with value: 0.5252032427866251 and parameters: {'svc_kernel': 'sigmoid', 'svc_C': 160.70864552113488, 'svc_gamma': 0.48918352107398466, 'threshold': 0.0040503750497960615}. Best is trial 28 with value: 0.7417908906821141.\u001b[0m\n",
            "\u001b[32m[I 2021-12-03 16:42:07,428]\u001b[0m Trial 40 finished with value: 0.5334635110605063 and parameters: {'svc_kernel': 'sigmoid', 'svc_C': 64.96565037700081, 'svc_gamma': 0.4133959725278571, 'threshold': 0.041165575997312034}. Best is trial 28 with value: 0.7417908906821141.\u001b[0m\n",
            "\u001b[32m[I 2021-12-03 16:42:10,055]\u001b[0m Trial 41 finished with value: 0.667350569214841 and parameters: {'svc_kernel': 'sigmoid', 'svc_C': 113.091367683194, 'svc_gamma': 0.025706258028786774, 'threshold': 0.021406144809207828}. Best is trial 28 with value: 0.7417908906821141.\u001b[0m\n",
            "\u001b[32m[I 2021-12-03 16:42:13,755]\u001b[0m Trial 42 finished with value: 0.7386250544932114 and parameters: {'svc_kernel': 'sigmoid', 'svc_C': 82.74880878810049, 'svc_gamma': 0.0005723931831944876, 'threshold': 0.026396337868819432}. Best is trial 28 with value: 0.7417908906821141.\u001b[0m\n",
            "\u001b[32m[I 2021-12-03 16:42:16,489]\u001b[0m Trial 43 finished with value: 0.669351510368862 and parameters: {'svc_kernel': 'sigmoid', 'svc_C': 97.23955406959635, 'svc_gamma': 0.024954195798658384, 'threshold': 0.021356654476553844}. Best is trial 28 with value: 0.7417908906821141.\u001b[0m\n",
            "\u001b[32m[I 2021-12-03 16:42:18,794]\u001b[0m Trial 44 finished with value: 0.6555301585923538 and parameters: {'svc_kernel': 'sigmoid', 'svc_C': 101.75997256232888, 'svc_gamma': 0.05057902614359528, 'threshold': 0.03568495146574428}. Best is trial 28 with value: 0.7417908906821141.\u001b[0m\n",
            "\u001b[32m[I 2021-12-03 16:42:22,809]\u001b[0m Trial 45 finished with value: 0.7353540400352394 and parameters: {'svc_kernel': 'sigmoid', 'svc_C': 41.750703616241054, 'svc_gamma': 0.0030684019720078016, 'threshold': 0.01636801254817708}. Best is trial 28 with value: 0.7417908906821141.\u001b[0m\n",
            "\u001b[32m[I 2021-12-03 16:42:25,283]\u001b[0m Trial 46 finished with value: 0.6380096208159661 and parameters: {'svc_kernel': 'sigmoid', 'svc_C': 126.61304342009242, 'svc_gamma': 0.08931385256229572, 'threshold': 0.04598716110797969}. Best is trial 28 with value: 0.7417908906821141.\u001b[0m\n",
            "\u001b[32m[I 2021-12-03 16:42:27,748]\u001b[0m Trial 47 finished with value: 0.6681530293817308 and parameters: {'svc_kernel': 'sigmoid', 'svc_C': 81.35972137523568, 'svc_gamma': 0.02666673628427151, 'threshold': 0.011070144335098047}. Best is trial 28 with value: 0.7417908906821141.\u001b[0m\n",
            "\u001b[32m[I 2021-12-03 16:42:30,049]\u001b[0m Trial 48 finished with value: 0.6431697133003519 and parameters: {'svc_kernel': 'sigmoid', 'svc_C': 67.33110875617184, 'svc_gamma': 0.06606027300647463, 'threshold': 0.027446298851506658}. Best is trial 28 with value: 0.7417908906821141.\u001b[0m\n",
            "\u001b[32m[I 2021-12-03 16:42:34,241]\u001b[0m Trial 49 finished with value: 0.7238459559033583 and parameters: {'svc_kernel': 'sigmoid', 'svc_C': 16.581578388752916, 'svc_gamma': 0.023391652610808045, 'threshold': 0.05730192662140327}. Best is trial 28 with value: 0.7417908906821141.\u001b[0m\n",
            "\u001b[32m[I 2021-12-03 16:42:37,135]\u001b[0m Trial 50 finished with value: 0.6269444598174359 and parameters: {'svc_kernel': 'sigmoid', 'svc_C': 3.532668510294698, 'svc_gamma': 0.10355609311240496, 'threshold': 0.019930405627789922}. Best is trial 28 with value: 0.7417908906821141.\u001b[0m\n",
            "\u001b[32m[I 2021-12-03 16:42:40,617]\u001b[0m Trial 51 finished with value: 0.7389110742632224 and parameters: {'svc_kernel': 'sigmoid', 'svc_C': 84.63846124292586, 'svc_gamma': 0.0030842922253453498, 'threshold': 0.027297951348839868}. Best is trial 28 with value: 0.7417908906821141.\u001b[0m\n",
            "\u001b[32m[I 2021-12-03 16:42:42,651]\u001b[0m Trial 52 finished with value: 0.6583858017088134 and parameters: {'svc_kernel': 'sigmoid', 'svc_C': 89.67363713850824, 'svc_gamma': 0.040985340884343566, 'threshold': 0.033528838178076725}. Best is trial 28 with value: 0.7417908906821141.\u001b[0m\n",
            "\u001b[32m[I 2021-12-03 16:42:45,903]\u001b[0m Trial 53 finished with value: 0.7231062007129696 and parameters: {'svc_kernel': 'sigmoid', 'svc_C': 74.80201178097973, 'svc_gamma': 0.00060671012759936, 'threshold': 0.09379924481876782}. Best is trial 28 with value: 0.7417908906821141.\u001b[0m\n",
            "\u001b[32m[I 2021-12-03 16:42:49,426]\u001b[0m Trial 54 finished with value: 0.7108524849332156 and parameters: {'svc_kernel': 'sigmoid', 'svc_C': 116.75506303056152, 'svc_gamma': 0.018065896538055855, 'threshold': 0.07116391854325815}. Best is trial 28 with value: 0.7417908906821141.\u001b[0m\n",
            "\u001b[32m[I 2021-12-03 16:42:51,872]\u001b[0m Trial 55 finished with value: 0.6360391616363487 and parameters: {'svc_kernel': 'sigmoid', 'svc_C': 103.0733039733899, 'svc_gamma': 0.07462975043209363, 'threshold': 0.03759188964873335}. Best is trial 28 with value: 0.7417908906821141.\u001b[0m\n",
            "\u001b[32m[I 2021-12-03 16:42:54,320]\u001b[0m Trial 56 finished with value: 0.659626295275834 and parameters: {'svc_kernel': 'sigmoid', 'svc_C': 50.2520721732241, 'svc_gamma': 0.03910649107524936, 'threshold': 0.02384251345732901}. Best is trial 28 with value: 0.7417908906821141.\u001b[0m\n",
            "\u001b[32m[I 2021-12-03 16:42:56,881]\u001b[0m Trial 57 finished with value: 0.6558632178682716 and parameters: {'svc_kernel': 'sigmoid', 'svc_C': 87.15355575458547, 'svc_gamma': 0.05635145625304027, 'threshold': 0.014460884801084515}. Best is trial 28 with value: 0.7417908906821141.\u001b[0m\n",
            "\u001b[32m[I 2021-12-03 16:42:59,820]\u001b[0m Trial 58 finished with value: 0.6904558462446936 and parameters: {'svc_kernel': 'sigmoid', 'svc_C': 75.77153045604594, 'svc_gamma': 0.019921638706646094, 'threshold': 0.030380804397500776}. Best is trial 28 with value: 0.7417908906821141.\u001b[0m\n",
            "\u001b[32m[I 2021-12-03 16:43:03,412]\u001b[0m Trial 59 finished with value: 0.5347934942497541 and parameters: {'svc_kernel': 'sigmoid', 'svc_C': 180.76276159318056, 'svc_gamma': 0.3677424685708497, 'threshold': 0.00666822558078823}. Best is trial 28 with value: 0.7417908906821141.\u001b[0m\n",
            "\u001b[32m[I 2021-12-03 16:43:07,079]\u001b[0m Trial 60 finished with value: 0.7396267039723664 and parameters: {'svc_kernel': 'sigmoid', 'svc_C': 58.932840892393656, 'svc_gamma': 0.0011431847436865583, 'threshold': 0.04423266799118754}. Best is trial 28 with value: 0.7417908906821141.\u001b[0m\n",
            "\u001b[32m[I 2021-12-03 16:43:11,079]\u001b[0m Trial 61 finished with value: 0.7376453976258589 and parameters: {'svc_kernel': 'sigmoid', 'svc_C': 58.3533462351206, 'svc_gamma': 0.013201422151457427, 'threshold': 0.05271549003365525}. Best is trial 28 with value: 0.7417908906821141.\u001b[0m\n",
            "\u001b[32m[I 2021-12-03 16:43:14,867]\u001b[0m Trial 62 finished with value: 0.7310137506819334 and parameters: {'svc_kernel': 'sigmoid', 'svc_C': 34.989777476734986, 'svc_gamma': 0.0008114627489351011, 'threshold': 0.044207639872301446}. Best is trial 28 with value: 0.7417908906821141.\u001b[0m\n",
            "\u001b[32m[I 2021-12-03 16:43:17,583]\u001b[0m Trial 63 finished with value: 0.673705524166229 and parameters: {'svc_kernel': 'sigmoid', 'svc_C': 63.461061128428355, 'svc_gamma': 0.028195044773484456, 'threshold': 0.039397564452398164}. Best is trial 28 with value: 0.7417908906821141.\u001b[0m\n",
            "\u001b[32m[I 2021-12-03 16:43:20,334]\u001b[0m Trial 64 finished with value: 0.660135656948715 and parameters: {'svc_kernel': 'sigmoid', 'svc_C': 21.808633734868263, 'svc_gamma': 0.054602847700511756, 'threshold': 0.04887998224906382}. Best is trial 28 with value: 0.7417908906821141.\u001b[0m\n",
            "\u001b[32m[I 2021-12-03 16:43:22,660]\u001b[0m Trial 65 finished with value: 0.637499557246495 and parameters: {'svc_kernel': 'sigmoid', 'svc_C': 50.98994177514919, 'svc_gamma': 0.07720793567061798, 'threshold': 0.02783616270412715}. Best is trial 28 with value: 0.7417908906821141.\u001b[0m\n",
            "\u001b[32m[I 2021-12-03 16:43:26,319]\u001b[0m Trial 66 finished with value: 0.7178964350254006 and parameters: {'svc_kernel': 'sigmoid', 'svc_C': 71.1528464317303, 'svc_gamma': 0.014785692883812948, 'threshold': 0.03398985257767596}. Best is trial 28 with value: 0.7417908906821141.\u001b[0m\n",
            "\u001b[32m[I 2021-12-03 16:43:28,970]\u001b[0m Trial 67 finished with value: 0.5767684181082535 and parameters: {'svc_kernel': 'sigmoid', 'svc_C': 93.94498683234238, 'svc_gamma': 0.21542819369015803, 'threshold': 0.03149871086421281}. Best is trial 28 with value: 0.7417908906821141.\u001b[0m\n",
            "\u001b[32m[I 2021-12-03 16:43:31,322]\u001b[0m Trial 68 finished with value: 0.6615550363621592 and parameters: {'svc_kernel': 'sigmoid', 'svc_C': 78.46639902865049, 'svc_gamma': 0.03894310991566946, 'threshold': 0.04219511061918747}. Best is trial 28 with value: 0.7417908906821141.\u001b[0m\n",
            "\u001b[32m[I 2021-12-03 16:43:34,611]\u001b[0m Trial 69 finished with value: 0.5276427231958165 and parameters: {'svc_kernel': 'sigmoid', 'svc_C': 46.79357233778116, 'svc_gamma': 0.46271392781268406, 'threshold': 0.024157069379776422}. Best is trial 28 with value: 0.7417908906821141.\u001b[0m\n",
            "\u001b[32m[I 2021-12-03 16:43:38,807]\u001b[0m Trial 70 finished with value: 0.7353074340632297 and parameters: {'svc_kernel': 'sigmoid', 'svc_C': 111.13949085266012, 'svc_gamma': 0.00021648989908777672, 'threshold': 0.019300912529049197}. Best is trial 28 with value: 0.7417908906821141.\u001b[0m\n",
            "\u001b[32m[I 2021-12-03 16:43:42,786]\u001b[0m Trial 71 finished with value: 0.7221642236171204 and parameters: {'svc_kernel': 'sigmoid', 'svc_C': 82.8818134739667, 'svc_gamma': 0.012292709102211256, 'threshold': 0.026455878436101442}. Best is trial 28 with value: 0.7417908906821141.\u001b[0m\n",
            "\u001b[32m[I 2021-12-03 16:43:45,128]\u001b[0m Trial 72 finished with value: 0.661751684072785 and parameters: {'svc_kernel': 'sigmoid', 'svc_C': 89.23307072935597, 'svc_gamma': 0.03406394765406069, 'threshold': 0.025667431633448236}. Best is trial 28 with value: 0.7417908906821141.\u001b[0m\n",
            "\u001b[32m[I 2021-12-03 16:43:48,957]\u001b[0m Trial 73 finished with value: 0.725738198158087 and parameters: {'svc_kernel': 'sigmoid', 'svc_C': 99.42375537746877, 'svc_gamma': 0.01387803603296919, 'threshold': 0.03810813495408066}. Best is trial 28 with value: 0.7417908906821141.\u001b[0m\n",
            "\u001b[32m[I 2021-12-03 16:43:51,276]\u001b[0m Trial 74 finished with value: 0.6491641338372125 and parameters: {'svc_kernel': 'sigmoid', 'svc_C': 60.80865568700923, 'svc_gamma': 0.04795749771832731, 'threshold': 0.02861610656726844}. Best is trial 28 with value: 0.7417908906821141.\u001b[0m\n",
            "\u001b[32m[I 2021-12-03 16:43:55,144]\u001b[0m Trial 75 finished with value: 0.7368438954768374 and parameters: {'svc_kernel': 'sigmoid', 'svc_C': 82.20015244722951, 'svc_gamma': 0.001273514150600979, 'threshold': 0.0222248015947307}. Best is trial 28 with value: 0.7417908906821141.\u001b[0m\n",
            "\u001b[32m[I 2021-12-03 16:43:58,389]\u001b[0m Trial 76 finished with value: 0.5554088555045211 and parameters: {'svc_kernel': 'sigmoid', 'svc_C': 69.82050157181054, 'svc_gamma': 0.2642443308521302, 'threshold': 0.01766673543373441}. Best is trial 28 with value: 0.7417908906821141.\u001b[0m\n",
            "\u001b[32m[I 2021-12-03 16:44:01,053]\u001b[0m Trial 77 finished with value: 0.6633708473469893 and parameters: {'svc_kernel': 'sigmoid', 'svc_C': 93.62199289321221, 'svc_gamma': 0.030865950726409852, 'threshold': 0.013409445987477}. Best is trial 28 with value: 0.7417908906821141.\u001b[0m\n",
            "\u001b[32m[I 2021-12-03 16:44:03,275]\u001b[0m Trial 78 finished with value: 0.6411860564546051 and parameters: {'svc_kernel': 'sigmoid', 'svc_C': 107.18302046847491, 'svc_gamma': 0.06794149121740121, 'threshold': 0.03479090621437318}. Best is trial 28 with value: 0.7417908906821141.\u001b[0m\n",
            "\u001b[32m[I 2021-12-03 16:44:05,898]\u001b[0m Trial 79 finished with value: 0.6333413418694191 and parameters: {'svc_kernel': 'sigmoid', 'svc_C': 83.98932673685431, 'svc_gamma': 0.08836983263812265, 'threshold': 0.0584739700899551}. Best is trial 28 with value: 0.7417908906821141.\u001b[0m\n",
            "\u001b[32m[I 2021-12-03 16:44:08,485]\u001b[0m Trial 80 finished with value: 0.6565575729011967 and parameters: {'svc_kernel': 'sigmoid', 'svc_C': 34.69340098232201, 'svc_gamma': 0.05743487795492315, 'threshold': 0.04666268669813302}. Best is trial 28 with value: 0.7417908906821141.\u001b[0m\n",
            "\u001b[32m[I 2021-12-03 16:44:12,202]\u001b[0m Trial 81 finished with value: 0.7318722097326388 and parameters: {'svc_kernel': 'sigmoid', 'svc_C': 73.70835373946291, 'svc_gamma': 0.011641055361812376, 'threshold': 0.02632662730488768}. Best is trial 28 with value: 0.7417908906821141.\u001b[0m\n",
            "\u001b[32m[I 2021-12-03 16:44:14,575]\u001b[0m Trial 82 finished with value: 0.6746503573206554 and parameters: {'svc_kernel': 'sigmoid', 'svc_C': 78.33789585838635, 'svc_gamma': 0.02709402228769422, 'threshold': 0.03153616791164433}. Best is trial 28 with value: 0.7417908906821141.\u001b[0m\n",
            "\u001b[32m[I 2021-12-03 16:44:17,132]\u001b[0m Trial 83 finished with value: 0.6632753690135176 and parameters: {'svc_kernel': 'sigmoid', 'svc_C': 66.01659698071525, 'svc_gamma': 0.044767150045293636, 'threshold': 0.020771702191535454}. Best is trial 28 with value: 0.7417908906821141.\u001b[0m\n",
            "\u001b[32m[I 2021-12-03 16:44:21,126]\u001b[0m Trial 84 finished with value: 0.7368482323852655 and parameters: {'svc_kernel': 'sigmoid', 'svc_C': 88.5127766735745, 'svc_gamma': 0.00042006786470911886, 'threshold': 0.02413328516009533}. Best is trial 28 with value: 0.7417908906821141.\u001b[0m\n",
            "\u001b[32m[I 2021-12-03 16:44:24,519]\u001b[0m Trial 85 finished with value: 0.69931039924075 and parameters: {'svc_kernel': 'sigmoid', 'svc_C': 103.12578770168713, 'svc_gamma': 0.016669218182255887, 'threshold': 0.04007491912011381}. Best is trial 28 with value: 0.7417908906821141.\u001b[0m\n",
            "\u001b[32m[I 2021-12-03 16:44:26,868]\u001b[0m Trial 86 finished with value: 0.665568051514067 and parameters: {'svc_kernel': 'sigmoid', 'svc_C': 54.45917206572012, 'svc_gamma': 0.033639863186869776, 'threshold': 0.028858027981916837}. Best is trial 28 with value: 0.7417908906821141.\u001b[0m\n",
            "\u001b[32m[I 2021-12-03 16:44:31,723]\u001b[0m Trial 87 finished with value: 0.7109014318304752 and parameters: {'svc_kernel': 'sigmoid', 'svc_C': 97.05228334921237, 'svc_gamma': 0.01267856279467136, 'threshold': 0.016445982545852778}. Best is trial 28 with value: 0.7417908906821141.\u001b[0m\n",
            "\u001b[32m[I 2021-12-03 16:44:34,325]\u001b[0m Trial 88 finished with value: 0.6322121699593473 and parameters: {'svc_kernel': 'sigmoid', 'svc_C': 72.29864454269546, 'svc_gamma': 0.16052088007876295, 'threshold': 0.036155375556697567}. Best is trial 28 with value: 0.7417908906821141.\u001b[0m\n",
            "\u001b[32m[I 2021-12-03 16:44:37,297]\u001b[0m Trial 89 finished with value: 0.6766961001327738 and parameters: {'svc_kernel': 'sigmoid', 'svc_C': 78.70108839605557, 'svc_gamma': 0.02297813488173573, 'threshold': 0.01939079627025901}. Best is trial 28 with value: 0.7417908906821141.\u001b[0m\n",
            "\u001b[32m[I 2021-12-03 16:44:39,417]\u001b[0m Trial 90 finished with value: 0.6489243524844943 and parameters: {'svc_kernel': 'sigmoid', 'svc_C': 85.4117506730246, 'svc_gamma': 0.06354421255121691, 'threshold': 0.03237322669868858}. Best is trial 28 with value: 0.7417908906821141.\u001b[0m\n",
            "\u001b[32m[I 2021-12-03 16:44:43,441]\u001b[0m Trial 91 finished with value: 0.7402138743630947 and parameters: {'svc_kernel': 'sigmoid', 'svc_C': 60.18638222154293, 'svc_gamma': 0.012457464120208064, 'threshold': 0.05277306417088361}. Best is trial 28 with value: 0.7417908906821141.\u001b[0m\n",
            "\u001b[32m[I 2021-12-03 16:44:46,041]\u001b[0m Trial 92 finished with value: 0.6608233629930067 and parameters: {'svc_kernel': 'sigmoid', 'svc_C': 60.967748627721576, 'svc_gamma': 0.043955148286486306, 'threshold': 0.049049594799398334}. Best is trial 28 with value: 0.7417908906821141.\u001b[0m\n",
            "\u001b[32m[I 2021-12-03 16:44:49,971]\u001b[0m Trial 93 finished with value: 0.7412723629885493 and parameters: {'svc_kernel': 'sigmoid', 'svc_C': 92.2747503362614, 'svc_gamma': 0.009539938880279283, 'threshold': 0.051941478789249276}. Best is trial 28 with value: 0.7417908906821141.\u001b[0m\n",
            "\u001b[32m[I 2021-12-03 16:44:52,911]\u001b[0m Trial 94 finished with value: 0.6745881493891962 and parameters: {'svc_kernel': 'sigmoid', 'svc_C': 93.76236171426599, 'svc_gamma': 0.02401560459685408, 'threshold': 0.054082726262513675}. Best is trial 28 with value: 0.7417908906821141.\u001b[0m\n",
            "\u001b[32m[I 2021-12-03 16:44:56,821]\u001b[0m Trial 95 finished with value: 0.742147618359583 and parameters: {'svc_kernel': 'sigmoid', 'svc_C': 101.61455122773927, 'svc_gamma': 0.008204698854294952, 'threshold': 0.0515760128105959}. Best is trial 95 with value: 0.742147618359583.\u001b[0m\n",
            "\u001b[32m[I 2021-12-03 16:45:00,098]\u001b[0m Trial 96 finished with value: 0.5483277959288655 and parameters: {'svc_kernel': 'sigmoid', 'svc_C': 111.98731585360991, 'svc_gamma': 0.305348341779422, 'threshold': 0.051630914576386105}. Best is trial 95 with value: 0.742147618359583.\u001b[0m\n",
            "\u001b[32m[I 2021-12-03 16:45:04,172]\u001b[0m Trial 97 finished with value: 0.7320162376792128 and parameters: {'svc_kernel': 'sigmoid', 'svc_C': 101.11532035234544, 'svc_gamma': 0.011821670799161261, 'threshold': 0.06060256710448107}. Best is trial 95 with value: 0.742147618359583.\u001b[0m\n",
            "\u001b[32m[I 2021-12-03 16:45:06,637]\u001b[0m Trial 98 finished with value: 0.6657333421428776 and parameters: {'svc_kernel': 'sigmoid', 'svc_C': 122.55206087448005, 'svc_gamma': 0.03439657970023682, 'threshold': 0.054600294032752496}. Best is trial 95 with value: 0.742147618359583.\u001b[0m\n",
            "\u001b[32m[I 2021-12-03 16:45:10,208]\u001b[0m Trial 99 finished with value: 0.7430515317888501 and parameters: {'svc_kernel': 'sigmoid', 'svc_C': 39.22534997729572, 'svc_gamma': 0.008907369541467, 'threshold': 0.046078975461191315}. Best is trial 99 with value: 0.7430515317888501.\u001b[0m\n"
          ]
        }
      ]
    },
    {
      "cell_type": "markdown",
      "metadata": {
        "id": "kvMvqLz9hH63"
      },
      "source": [
        "Παρατηρούμε ότι η μέγιστη επίδοση που πετυχαίνουμε για kernel = sigmoid είναι 74.3% f1-score.\n",
        "Την επίδοση αυτή την πετυχαίνουμε για τις ακόλουθες τιμές υπερπαραμέτρων:\n",
        "\n",
        "* kernel = sigmoid \n",
        "* C = 39.22534997729572\n",
        "* gamma = 0.008907369541467\n",
        "* threshold =  0.046078975461191315\n"
      ]
    },
    {
      "cell_type": "markdown",
      "metadata": {
        "id": "AqDqakRnxWsw"
      },
      "source": [
        "#### Poly"
      ]
    },
    {
      "cell_type": "markdown",
      "metadata": {
        "id": "StAePTIDxbLo"
      },
      "source": [
        "Αρχικά όπως και στις προηγούμενες περιπτώσεις χρησιμοποιούμε μόνο έναν MinMax Classifier ακριβώς πριν από τον SVM ταξινομητή μας. Έτσι έχουμε:"
      ]
    },
    {
      "cell_type": "code",
      "metadata": {
        "colab": {
          "base_uri": "https://localhost:8080/"
        },
        "id": "6JTeHUB8sON9",
        "outputId": "6b84b5c3-8058-4571-cc91-8901bedf4b2c"
      },
      "source": [
        "def objective(trial):\n",
        "\n",
        "    \n",
        "    svc_kernel = trial.suggest_categorical('svc_kernel',['poly'])\n",
        "    svc_C = trial.suggest_float('svc_C',1.0,100.0)\n",
        "\n",
        "\n",
        "    svc_gamma = trial.suggest_float('svc__gamma',0,0.2)\n",
        " \n",
        "\n",
        "    svm = SVC(kernel = svc_kernel,gamma = svc_gamma , C = svc_C)\n",
        "\n",
        "\n",
        "    clf = Pipeline(steps = [('minmax_scaler', preprocessing.MinMaxScaler()) , ('svm', svm)])\n",
        "  \n",
        "\n",
        "    return np.mean(cross_val_score(clf, X_train_small, y_train_small, cv = 5, scoring = 'accuracy'))\n",
        "\n",
        "study = optuna.create_study(direction = 'maximize')\n",
        "study.optimize(objective, n_trials = 20)"
      ],
      "execution_count": null,
      "outputs": [
        {
          "output_type": "stream",
          "name": "stderr",
          "text": [
            "\u001b[32m[I 2021-12-03 05:31:31,831]\u001b[0m A new study created in memory with name: no-name-7ee8690d-a350-4a00-b009-1aed62f9dc5c\u001b[0m\n",
            "\u001b[32m[I 2021-12-03 05:31:39,995]\u001b[0m Trial 0 finished with value: 0.7156847402916062 and parameters: {'svc_kernel': 'poly', 'svc_C': 7.324265645661415, 'svc__gamma': 0.19367691123291886}. Best is trial 0 with value: 0.7156847402916062.\u001b[0m\n",
            "\u001b[32m[I 2021-12-03 05:31:44,106]\u001b[0m Trial 1 finished with value: 0.7289861394344541 and parameters: {'svc_kernel': 'poly', 'svc_C': 51.03923960681067, 'svc__gamma': 0.0467614031279289}. Best is trial 1 with value: 0.7289861394344541.\u001b[0m\n",
            "\u001b[32m[I 2021-12-03 05:31:49,595]\u001b[0m Trial 2 finished with value: 0.723619396067569 and parameters: {'svc_kernel': 'poly', 'svc_C': 86.80385536954816, 'svc__gamma': 0.0586552746864826}. Best is trial 1 with value: 0.7289861394344541.\u001b[0m\n",
            "\u001b[32m[I 2021-12-03 05:31:59,592]\u001b[0m Trial 3 finished with value: 0.7105494607356677 and parameters: {'svc_kernel': 'poly', 'svc_C': 56.726388294703774, 'svc__gamma': 0.11169317231362126}. Best is trial 1 with value: 0.7289861394344541.\u001b[0m\n",
            "\u001b[32m[I 2021-12-03 05:32:05,828]\u001b[0m Trial 4 finished with value: 0.7201201757925386 and parameters: {'svc_kernel': 'poly', 'svc_C': 30.3418814741772, 'svc__gamma': 0.09701533213238951}. Best is trial 1 with value: 0.7289861394344541.\u001b[0m\n",
            "\u001b[32m[I 2021-12-03 05:32:09,412]\u001b[0m Trial 5 finished with value: 0.7233824796344562 and parameters: {'svc_kernel': 'poly', 'svc_C': 1.1139991240208822, 'svc__gamma': 0.06511309466674924}. Best is trial 1 with value: 0.7289861394344541.\u001b[0m\n",
            "\u001b[32m[I 2021-12-03 05:32:25,616]\u001b[0m Trial 6 finished with value: 0.6974803432970915 and parameters: {'svc_kernel': 'poly', 'svc_C': 94.8075839043193, 'svc__gamma': 0.19422499630725099}. Best is trial 1 with value: 0.7289861394344541.\u001b[0m\n",
            "\u001b[32m[I 2021-12-03 05:32:29,375]\u001b[0m Trial 7 finished with value: 0.7292214200809168 and parameters: {'svc_kernel': 'poly', 'svc_C': 14.106222507171328, 'svc__gamma': 0.058687556849633116}. Best is trial 7 with value: 0.7292214200809168.\u001b[0m\n",
            "\u001b[32m[I 2021-12-03 05:32:36,769]\u001b[0m Trial 8 finished with value: 0.719419786475316 and parameters: {'svc_kernel': 'poly', 'svc_C': 93.77100974241976, 'svc__gamma': 0.07603265249596387}. Best is trial 7 with value: 0.7292214200809168.\u001b[0m\n",
            "\u001b[32m[I 2021-12-03 05:32:40,286]\u001b[0m Trial 9 finished with value: 0.7317857882855865 and parameters: {'svc_kernel': 'poly', 'svc_C': 74.83578631124503, 'svc__gamma': 0.02873460340989873}. Best is trial 9 with value: 0.7317857882855865.\u001b[0m\n",
            "\u001b[32m[I 2021-12-03 05:32:45,132]\u001b[0m Trial 10 finished with value: 0.513538860838177 and parameters: {'svc_kernel': 'poly', 'svc_C': 72.35294080322626, 'svc__gamma': 0.0026166108637353074}. Best is trial 9 with value: 0.7317857882855865.\u001b[0m\n",
            "\u001b[32m[I 2021-12-03 05:32:49,404]\u001b[0m Trial 11 finished with value: 0.6837026576080436 and parameters: {'svc_kernel': 'poly', 'svc_C': 21.86542780317774, 'svc__gamma': 0.010190642769437087}. Best is trial 9 with value: 0.7317857882855865.\u001b[0m\n",
            "\u001b[32m[I 2021-12-03 05:32:52,907]\u001b[0m Trial 12 finished with value: 0.7331865669200318 and parameters: {'svc_kernel': 'poly', 'svc_C': 70.64737020712927, 'svc__gamma': 0.026773204588760792}. Best is trial 12 with value: 0.7331865669200318.\u001b[0m\n",
            "\u001b[32m[I 2021-12-03 05:32:56,402]\u001b[0m Trial 13 finished with value: 0.7327198224626221 and parameters: {'svc_kernel': 'poly', 'svc_C': 69.61321543444109, 'svc__gamma': 0.02646351375345577}. Best is trial 12 with value: 0.7331865669200318.\u001b[0m\n",
            "\u001b[32m[I 2021-12-03 05:33:09,101]\u001b[0m Trial 14 finished with value: 0.7009801088343385 and parameters: {'svc_kernel': 'poly', 'svc_C': 69.58810694569868, 'svc__gamma': 0.12992675746915097}. Best is trial 12 with value: 0.7331865669200318.\u001b[0m\n",
            "\u001b[32m[I 2021-12-03 05:33:12,493]\u001b[0m Trial 15 finished with value: 0.7327198224626221 and parameters: {'svc_kernel': 'poly', 'svc_C': 37.47726100132294, 'svc__gamma': 0.03330863852326371}. Best is trial 12 with value: 0.7331865669200318.\u001b[0m\n",
            "\u001b[32m[I 2021-12-03 05:33:27,508]\u001b[0m Trial 16 finished with value: 0.7033138311213862 and parameters: {'svc_kernel': 'poly', 'svc_C': 60.73901724905252, 'svc__gamma': 0.1544611684003435}. Best is trial 12 with value: 0.7331865669200318.\u001b[0m\n",
            "\u001b[32m[I 2021-12-03 05:33:30,927]\u001b[0m Trial 17 finished with value: 0.7301519100535447 and parameters: {'svc_kernel': 'poly', 'svc_C': 42.56134729815534, 'svc__gamma': 0.022969779184959585}. Best is trial 12 with value: 0.7331865669200318.\u001b[0m\n",
            "\u001b[32m[I 2021-12-03 05:33:37,150]\u001b[0m Trial 18 finished with value: 0.7205871928810565 and parameters: {'svc_kernel': 'poly', 'svc_C': 38.492571574360156, 'svc__gamma': 0.08974249200213281}. Best is trial 12 with value: 0.7331865669200318.\u001b[0m\n",
            "\u001b[32m[I 2021-12-03 05:33:40,791]\u001b[0m Trial 19 finished with value: 0.7303882812244409 and parameters: {'svc_kernel': 'poly', 'svc_C': 38.7902257821993, 'svc__gamma': 0.04093936000485572}. Best is trial 12 with value: 0.7331865669200318.\u001b[0m\n"
          ]
        }
      ]
    },
    {
      "cell_type": "markdown",
      "metadata": {
        "id": "ljmNpJMgPXzV"
      },
      "source": [
        "Παρατηρούμε ότι παρότι το καλύτερο accuracy που πετυχαίνει είναι 73.31% αυτό είναι σαφως καλύτερο απο τα αποτελέσματα που είδαμε στην πρώτη δοκιμή που εκτελέσαμε. Αυτο ίσως οφείλτετε στο γεγονός πως πλέον εξετάζουμε μία μεγαλύτερη γκάμα υπερπαραμέτρων του ταξινομητή μας. Στην συνέχεια προσθέτουμε και την παράμετρο degree στον παραπάνω κώδικα οποτε έχουμε:"
      ]
    },
    {
      "cell_type": "code",
      "metadata": {
        "colab": {
          "base_uri": "https://localhost:8080/"
        },
        "id": "Cv7Y6scKPwX-",
        "outputId": "ea209eee-1936-4f96-fa5e-626e95a577e8"
      },
      "source": [
        "import optuna\n",
        "from sklearn.svm import SVC\n",
        "from sklearn.model_selection import cross_val_score\n",
        "\n",
        "from sklearn.pipeline import Pipeline\n",
        "from sklearn import preprocessing\n",
        "from sklearn.feature_selection import VarianceThreshold\n",
        "\n",
        "def objective(trial):\n",
        "\n",
        "    \n",
        "    svc_kernel = trial.suggest_categorical('svc_kernel',['poly'])\n",
        "    svc_C = trial.suggest_float('svc_C',1.0,100.0)\n",
        "\n",
        "\n",
        "    svc_gamma = trial.suggest_float('svc_gamma',0,0.2)\n",
        "\n",
        "    svc_degree = trial.suggest_int('svc_degree',1,10)\n",
        "\n",
        "    svm = SVC(kernel = svc_kernel,gamma = svc_gamma , C = svc_C , degree = svc_degree)\n",
        "\n",
        "\n",
        "    clf = Pipeline(steps = [('minmax_scaler', preprocessing.MinMaxScaler()) , ('svm', svm)])\n",
        "  \n",
        "\n",
        "    return np.mean(cross_val_score(clf, X_train_small, y_train_small, cv = 5, scoring = 'accuracy'))\n",
        "\n",
        "study = optuna.create_study(direction = 'maximize')\n",
        "study.optimize(objective, n_trials = 20)"
      ],
      "execution_count": null,
      "outputs": [
        {
          "output_type": "stream",
          "name": "stderr",
          "text": [
            "\u001b[32m[I 2021-12-03 12:24:49,276]\u001b[0m A new study created in memory with name: no-name-fd97acb5-8f8c-4fa4-8d94-3c7ad597a5df\u001b[0m\n",
            "\u001b[32m[I 2021-12-03 12:25:41,855]\u001b[0m Trial 0 finished with value: 0.7237404813625778 and parameters: {'svc_kernel': 'poly', 'svc_C': 92.87184901343022, 'svc_gamma': 0.13814845495942366, 'svc_degree': 5}. Best is trial 0 with value: 0.7237404813625778.\u001b[0m\n",
            "\u001b[32m[I 2021-12-03 12:26:43,358]\u001b[0m Trial 1 finished with value: 0.7315602220918898 and parameters: {'svc_kernel': 'poly', 'svc_C': 99.3216223749532, 'svc_gamma': 0.10326546056248286, 'svc_degree': 3}. Best is trial 1 with value: 0.7315602220918898.\u001b[0m\n",
            "\u001b[32m[I 2021-12-03 12:27:13,484]\u001b[0m Trial 2 finished with value: 0.709500824568251 and parameters: {'svc_kernel': 'poly', 'svc_C': 99.43666501058212, 'svc_gamma': 0.16777095889878108, 'svc_degree': 9}. Best is trial 1 with value: 0.7315602220918898.\u001b[0m\n",
            "\u001b[32m[I 2021-12-03 12:27:46,410]\u001b[0m Trial 3 finished with value: 0.74673316344707 and parameters: {'svc_kernel': 'poly', 'svc_C': 81.17383188080744, 'svc_gamma': 0.1923815651590426, 'svc_degree': 1}. Best is trial 3 with value: 0.74673316344707.\u001b[0m\n",
            "\u001b[32m[I 2021-12-03 12:28:03,896]\u001b[0m Trial 4 finished with value: 0.7494170121951635 and parameters: {'svc_kernel': 'poly', 'svc_C': 28.474007498394492, 'svc_gamma': 0.04667605062993745, 'svc_degree': 2}. Best is trial 4 with value: 0.7494170121951635.\u001b[0m\n",
            "\u001b[32m[I 2021-12-03 12:28:28,039]\u001b[0m Trial 5 finished with value: 0.6674836057031104 and parameters: {'svc_kernel': 'poly', 'svc_C': 15.528855012889464, 'svc_gamma': 0.07153944945209455, 'svc_degree': 10}. Best is trial 4 with value: 0.7494170121951635.\u001b[0m\n",
            "\u001b[32m[I 2021-12-03 12:28:53,654]\u001b[0m Trial 6 finished with value: 0.7439319474047388 and parameters: {'svc_kernel': 'poly', 'svc_C': 29.82439180970386, 'svc_gamma': 0.0766557218092741, 'svc_degree': 4}. Best is trial 4 with value: 0.7494170121951635.\u001b[0m\n",
            "\u001b[32m[I 2021-12-03 12:29:32,554]\u001b[0m Trial 7 finished with value: 0.7362275304300084 and parameters: {'svc_kernel': 'poly', 'svc_C': 53.67033508257176, 'svc_gamma': 0.1302068964050146, 'svc_degree': 2}. Best is trial 4 with value: 0.7494170121951635.\u001b[0m\n",
            "\u001b[32m[I 2021-12-03 12:29:58,064]\u001b[0m Trial 8 finished with value: 0.7067002215878168 and parameters: {'svc_kernel': 'poly', 'svc_C': 4.012334488105333, 'svc_gamma': 0.14184530257452319, 'svc_degree': 8}. Best is trial 4 with value: 0.7494170121951635.\u001b[0m\n",
            "\u001b[32m[I 2021-12-03 12:30:29,634]\u001b[0m Trial 9 finished with value: 0.7330781633482989 and parameters: {'svc_kernel': 'poly', 'svc_C': 45.880249814645914, 'svc_gamma': 0.09404817810117141, 'svc_degree': 6}. Best is trial 4 with value: 0.7494170121951635.\u001b[0m\n",
            "\u001b[32m[I 2021-12-03 12:30:54,463]\u001b[0m Trial 10 finished with value: 0.5040849676541731 and parameters: {'svc_kernel': 'poly', 'svc_C': 55.57168408268132, 'svc_gamma': 0.0037988982540407765, 'svc_degree': 7}. Best is trial 4 with value: 0.7494170121951635.\u001b[0m\n",
            "\u001b[32m[I 2021-12-03 12:31:13,163]\u001b[0m Trial 11 finished with value: 0.747433756959104 and parameters: {'svc_kernel': 'poly', 'svc_C': 75.53395020200338, 'svc_gamma': 0.028708802468590814, 'svc_degree': 1}. Best is trial 4 with value: 0.7494170121951635.\u001b[0m\n",
            "\u001b[32m[I 2021-12-03 12:31:30,916]\u001b[0m Trial 12 finished with value: 0.7470832899081157 and parameters: {'svc_kernel': 'poly', 'svc_C': 73.90829533920845, 'svc_gamma': 0.024345204737345444, 'svc_degree': 1}. Best is trial 4 with value: 0.7494170121951635.\u001b[0m\n",
            "\u001b[32m[I 2021-12-03 12:31:48,932]\u001b[0m Trial 13 finished with value: 0.7495341751354355 and parameters: {'svc_kernel': 'poly', 'svc_C': 32.39240852613534, 'svc_gamma': 0.04918023796910953, 'svc_degree': 3}. Best is trial 13 with value: 0.7495341751354355.\u001b[0m\n",
            "\u001b[32m[I 2021-12-03 12:32:07,219]\u001b[0m Trial 14 finished with value: 0.7489502677377539 and parameters: {'svc_kernel': 'poly', 'svc_C': 30.126933420747093, 'svc_gamma': 0.05184442833163015, 'svc_degree': 3}. Best is trial 13 with value: 0.7495341751354355.\u001b[0m\n",
            "\u001b[32m[I 2021-12-03 12:32:25,828]\u001b[0m Trial 15 finished with value: 0.7472003847303992 and parameters: {'svc_kernel': 'poly', 'svc_C': 33.87391068845291, 'svc_gamma': 0.047709260758976024, 'svc_degree': 4}. Best is trial 13 with value: 0.7495341751354355.\u001b[0m\n",
            "\u001b[32m[I 2021-12-03 12:32:46,687]\u001b[0m Trial 16 finished with value: 0.6740183005787985 and parameters: {'svc_kernel': 'poly', 'svc_C': 14.520023126778211, 'svc_gamma': 0.007933886890511666, 'svc_degree': 3}. Best is trial 13 with value: 0.7495341751354355.\u001b[0m\n",
            "\u001b[32m[I 2021-12-03 12:33:07,151]\u001b[0m Trial 17 finished with value: 0.7228080142175866 and parameters: {'svc_kernel': 'poly', 'svc_C': 42.62277397763955, 'svc_gamma': 0.051685813568543654, 'svc_degree': 5}. Best is trial 13 with value: 0.7495341751354355.\u001b[0m\n",
            "\u001b[32m[I 2021-12-03 12:33:25,532]\u001b[0m Trial 18 finished with value: 0.7457988571163884 and parameters: {'svc_kernel': 'poly', 'svc_C': 17.46056073814684, 'svc_gamma': 0.07439368098793978, 'svc_degree': 2}. Best is trial 13 with value: 0.7495341751354355.\u001b[0m\n",
            "\u001b[32m[I 2021-12-03 12:33:44,962]\u001b[0m Trial 19 finished with value: 0.7471994991965483 and parameters: {'svc_kernel': 'poly', 'svc_C': 2.124681890299815, 'svc_gamma': 0.10494064041959397, 'svc_degree': 4}. Best is trial 13 with value: 0.7495341751354355.\u001b[0m\n"
          ]
        }
      ]
    },
    {
      "cell_type": "markdown",
      "metadata": {
        "id": "cHGSXtVjSZ_p"
      },
      "source": [
        "Παρατηρούμε ότι συνήθως καλύτερες τιμές accuracy παίρνουμε όταν η υπερπαράμετρος degree (βαθμός του πολυωνύμου που χρησιμοποιεί ο polynomial kernel) έχει χαμηλές τιμές (μεταξύ 2 και 5). Καθώς αυτή αυξάνεται το accuracy μειώνεται σταδιακά. Η μείωση αυτή βέβαια δεν είναι αρκετά μεγάλη."
      ]
    },
    {
      "cell_type": "markdown",
      "metadata": {
        "id": "UBmkaU7DDjPE"
      },
      "source": [
        "Στην συνέχεια μεταβάλουμε το gamma ώστε να παίρνει τιμές auto και scale. Έτσι έχουμε:"
      ]
    },
    {
      "cell_type": "code",
      "metadata": {
        "colab": {
          "base_uri": "https://localhost:8080/"
        },
        "id": "_lujE3wPxrbB",
        "outputId": "1529520c-8d7c-4d53-ff4f-6022fd2dd486"
      },
      "source": [
        "def objective(trial):\n",
        "\n",
        "    \n",
        "    svc_kernel = trial.suggest_categorical('svc_kernel',['poly'])\n",
        "    svc_C = trial.suggest_float('svc_C',1.0,100.0)\n",
        "\n",
        "\n",
        "    svc_gamma = trial.suggest_categorical('svc_gamma',['auto','scale'])\n",
        " \n",
        "\n",
        "    svm = SVC(kernel = svc_kernel,gamma = svc_gamma , C = svc_C)\n",
        "\n",
        "\n",
        "    clf = Pipeline(steps = [('minmax_scaler', preprocessing.MinMaxScaler()) , ('svm', svm)])\n",
        "  \n",
        "\n",
        "    return np.mean(cross_val_score(clf, X_train_small, y_train_small, cv = 5, scoring = 'accuracy'))\n",
        "\n",
        "study = optuna.create_study(direction = 'maximize')\n",
        "study.optimize(objective, n_trials = 20)"
      ],
      "execution_count": null,
      "outputs": [
        {
          "output_type": "stream",
          "name": "stderr",
          "text": [
            "\u001b[32m[I 2021-12-03 05:35:09,544]\u001b[0m A new study created in memory with name: no-name-8ace16a1-8c81-481e-a28e-d15169ad5aab\u001b[0m\n",
            "\u001b[32m[I 2021-12-03 05:35:13,645]\u001b[0m Trial 0 finished with value: 0.7089104025125683 and parameters: {'svc_kernel': 'poly', 'svc_C': 61.71002784422076, 'svc_gamma': 'auto'}. Best is trial 0 with value: 0.7089104025125683.\u001b[0m\n",
            "\u001b[32m[I 2021-12-03 05:35:17,649]\u001b[0m Trial 1 finished with value: 0.712647084482928 and parameters: {'svc_kernel': 'poly', 'svc_C': 83.56494730996371, 'svc_gamma': 'auto'}. Best is trial 1 with value: 0.712647084482928.\u001b[0m\n",
            "\u001b[32m[I 2021-12-03 05:35:29,377]\u001b[0m Trial 2 finished with value: 0.7093823269610355 and parameters: {'svc_kernel': 'poly', 'svc_C': 85.63592101768165, 'svc_gamma': 'scale'}. Best is trial 1 with value: 0.712647084482928.\u001b[0m\n",
            "\u001b[32m[I 2021-12-03 05:35:33,808]\u001b[0m Trial 3 finished with value: 0.6813692079521042 and parameters: {'svc_kernel': 'poly', 'svc_C': 24.571467543807223, 'svc_gamma': 'auto'}. Best is trial 1 with value: 0.712647084482928.\u001b[0m\n",
            "\u001b[32m[I 2021-12-03 05:35:38,006]\u001b[0m Trial 4 finished with value: 0.6972407005528959 and parameters: {'svc_kernel': 'poly', 'svc_C': 42.009315333208214, 'svc_gamma': 'auto'}. Best is trial 1 with value: 0.712647084482928.\u001b[0m\n",
            "\u001b[32m[I 2021-12-03 05:35:42,145]\u001b[0m Trial 5 finished with value: 0.697474345412709 and parameters: {'svc_kernel': 'poly', 'svc_C': 47.396587242622125, 'svc_gamma': 'auto'}. Best is trial 1 with value: 0.712647084482928.\u001b[0m\n",
            "\u001b[32m[I 2021-12-03 05:35:51,257]\u001b[0m Trial 6 finished with value: 0.7145178791480823 and parameters: {'svc_kernel': 'poly', 'svc_C': 48.33816775356553, 'svc_gamma': 'scale'}. Best is trial 6 with value: 0.7145178791480823.\u001b[0m\n",
            "\u001b[32m[I 2021-12-03 05:36:03,617]\u001b[0m Trial 7 finished with value: 0.7049477093534281 and parameters: {'svc_kernel': 'poly', 'svc_C': 95.31545279864558, 'svc_gamma': 'scale'}. Best is trial 6 with value: 0.7145178791480823.\u001b[0m\n",
            "\u001b[32m[I 2021-12-03 05:36:07,634]\u001b[0m Trial 8 finished with value: 0.7280534684129598 and parameters: {'svc_kernel': 'poly', 'svc_C': 3.1595389698534326, 'svc_gamma': 'scale'}. Best is trial 8 with value: 0.7280534684129598.\u001b[0m\n",
            "\u001b[32m[I 2021-12-03 05:36:15,122]\u001b[0m Trial 9 finished with value: 0.7184854796671719 and parameters: {'svc_kernel': 'poly', 'svc_C': 31.295291974010645, 'svc_gamma': 'scale'}. Best is trial 8 with value: 0.7280534684129598.\u001b[0m\n",
            "\u001b[32m[I 2021-12-03 05:36:19,140]\u001b[0m Trial 10 finished with value: 0.7280537410440682 and parameters: {'svc_kernel': 'poly', 'svc_C': 3.4703224672092707, 'svc_gamma': 'scale'}. Best is trial 10 with value: 0.7280537410440682.\u001b[0m\n",
            "\u001b[32m[I 2021-12-03 05:36:22,986]\u001b[0m Trial 11 finished with value: 0.728988047852212 and parameters: {'svc_kernel': 'poly', 'svc_C': 2.1152103820686934, 'svc_gamma': 'scale'}. Best is trial 11 with value: 0.728988047852212.\u001b[0m\n",
            "\u001b[32m[I 2021-12-03 05:36:26,939]\u001b[0m Trial 12 finished with value: 0.7271194342359241 and parameters: {'svc_kernel': 'poly', 'svc_C': 2.919022854461155, 'svc_gamma': 'scale'}. Best is trial 11 with value: 0.728988047852212.\u001b[0m\n",
            "\u001b[32m[I 2021-12-03 05:36:32,860]\u001b[0m Trial 13 finished with value: 0.7196520681795875 and parameters: {'svc_kernel': 'poly', 'svc_C': 16.12242995179352, 'svc_gamma': 'scale'}. Best is trial 11 with value: 0.728988047852212.\u001b[0m\n",
            "\u001b[32m[I 2021-12-03 05:36:38,596]\u001b[0m Trial 14 finished with value: 0.7208189293231114 and parameters: {'svc_kernel': 'poly', 'svc_C': 15.584181273356304, 'svc_gamma': 'scale'}. Best is trial 11 with value: 0.728988047852212.\u001b[0m\n",
            "\u001b[32m[I 2021-12-03 05:36:48,892]\u001b[0m Trial 15 finished with value: 0.7103158158758547 and parameters: {'svc_kernel': 'poly', 'svc_C': 62.762264621264634, 'svc_gamma': 'scale'}. Best is trial 11 with value: 0.728988047852212.\u001b[0m\n",
            "\u001b[32m[I 2021-12-03 05:36:54,377]\u001b[0m Trial 16 finished with value: 0.7238527682962737 and parameters: {'svc_kernel': 'poly', 'svc_C': 12.853878360954429, 'svc_gamma': 'scale'}. Best is trial 11 with value: 0.728988047852212.\u001b[0m\n",
            "\u001b[32m[I 2021-12-03 05:37:02,386]\u001b[0m Trial 17 finished with value: 0.7149843509743836 and parameters: {'svc_kernel': 'poly', 'svc_C': 35.762132226859634, 'svc_gamma': 'scale'}. Best is trial 11 with value: 0.728988047852212.\u001b[0m\n",
            "\u001b[32m[I 2021-12-03 05:37:06,062]\u001b[0m Trial 18 finished with value: 0.7308550256818503 and parameters: {'svc_kernel': 'poly', 'svc_C': 1.868126772184224, 'svc_gamma': 'scale'}. Best is trial 18 with value: 0.7308550256818503.\u001b[0m\n",
            "\u001b[32m[I 2021-12-03 05:37:13,174]\u001b[0m Trial 19 finished with value: 0.7210536647073578 and parameters: {'svc_kernel': 'poly', 'svc_C': 27.175980325712327, 'svc_gamma': 'scale'}. Best is trial 18 with value: 0.7308550256818503.\u001b[0m\n"
          ]
        }
      ]
    },
    {
      "cell_type": "markdown",
      "metadata": {
        "id": "ibwcjhj_cZpl"
      },
      "source": [
        "Παρατηρούμε ότι το μέγιστο accuracy που πετυχαίνουμε είναι 73% για gamma = auto , scale."
      ]
    },
    {
      "cell_type": "markdown",
      "metadata": {
        "id": "C1fLLT7phmnc"
      },
      "source": [
        "Στην συνέχεια όπως και στις προηγούμενες περιπτώσεις προσθέτουμε PCA στoυς μετασχηματιστές μας. Οπότε έχουμε:"
      ]
    },
    {
      "cell_type": "code",
      "metadata": {
        "colab": {
          "base_uri": "https://localhost:8080/"
        },
        "id": "DnPxnx1bYgef",
        "outputId": "e00e2430-3c38-4c86-f5dc-b6cfe47a2bf9"
      },
      "source": [
        "import optuna\n",
        "from sklearn.svm import SVC\n",
        "from sklearn.model_selection import cross_val_score\n",
        "\n",
        "from sklearn.pipeline import Pipeline\n",
        "from sklearn import preprocessing\n",
        "from sklearn.feature_selection import VarianceThreshold\n",
        "\n",
        "def objective(trial):\n",
        "\n",
        "    \n",
        "    svc_kernel = trial.suggest_categorical('svc_kernel',['poly'])\n",
        "    svc_C = trial.suggest_float('svc_C',1.0,100.0)\n",
        "\n",
        "    svc_gamma = trial.suggest_float('svc_gamma',0,0.2)\n",
        "\n",
        "    threshold = trial.suggest_float('threshold', 0, 0.05)\n",
        "    \n",
        "    p = Pipeline(steps = [('minmax_scaler', preprocessing.MinMaxScaler()), ('selector', VarianceThreshold(threshold))])\n",
        "    upper_bound = p.fit_transform(X_train_small).shape[1]\n",
        "\n",
        "  \n",
        "    n_components = trial.suggest_int('n_components',min(upper_bound,5), upper_bound)\n",
        "\n",
        "    svm = SVC(kernel = svc_kernel,gamma = svc_gamma , C = svc_C )\n",
        "\n",
        "    clf = Pipeline(steps = [('minmax_scaler', preprocessing.MinMaxScaler()) , ('svm', svm)])\n",
        "  \n",
        "\n",
        "    return np.mean(cross_val_score(clf, X_train_small, y_train_small, cv = 5, scoring = 'accuracy'))\n",
        "\n",
        "study = optuna.create_study(direction = 'maximize')\n",
        "study.optimize(objective, n_trials = 20)"
      ],
      "execution_count": null,
      "outputs": [
        {
          "output_type": "stream",
          "name": "stderr",
          "text": [
            "\u001b[32m[I 2021-12-03 17:48:36,056]\u001b[0m A new study created in memory with name: no-name-b7229c28-f22d-4a26-819e-1847c4647b82\u001b[0m\n",
            "\u001b[32m[I 2021-12-03 17:48:40,125]\u001b[0m Trial 0 finished with value: 0.7331942005910642 and parameters: {'svc_kernel': 'poly', 'svc_C': 80.21282746321398, 'svc_gamma': 0.01743281679870856, 'threshold': 0.014588889511132958, 'n_components': 36}. Best is trial 0 with value: 0.7331942005910642.\u001b[0m\n",
            "\u001b[32m[I 2021-12-03 17:48:48,313]\u001b[0m Trial 1 finished with value: 0.728526210754752 and parameters: {'svc_kernel': 'poly', 'svc_C': 29.348422403610666, 'svc_gamma': 0.11939979309955587, 'threshold': 0.021887855767364867, 'n_components': 34}. Best is trial 0 with value: 0.7331942005910642.\u001b[0m\n",
            "\u001b[32m[I 2021-12-03 17:48:52,802]\u001b[0m Trial 2 finished with value: 0.7453317375325794 and parameters: {'svc_kernel': 'poly', 'svc_C': 40.92793927878534, 'svc_gamma': 0.04883713652393125, 'threshold': 0.002165145060656204, 'n_components': 5}. Best is trial 2 with value: 0.7453317375325794.\u001b[0m\n",
            "\u001b[32m[I 2021-12-03 17:49:00,308]\u001b[0m Trial 3 finished with value: 0.7303937338466069 and parameters: {'svc_kernel': 'poly', 'svc_C': 44.2940895575809, 'svc_gamma': 0.09646318964139161, 'threshold': 0.013467726071727871, 'n_components': 41}. Best is trial 2 with value: 0.7453317375325794.\u001b[0m\n",
            "\u001b[32m[I 2021-12-03 17:49:08,586]\u001b[0m Trial 4 finished with value: 0.7289926825810532 and parameters: {'svc_kernel': 'poly', 'svc_C': 72.22166662984922, 'svc_gamma': 0.08955715496472537, 'threshold': 0.03681921372915866, 'n_components': 12}. Best is trial 2 with value: 0.7453317375325794.\u001b[0m\n",
            "\u001b[32m[I 2021-12-03 17:49:13,708]\u001b[0m Trial 5 finished with value: 0.7476668229751687 and parameters: {'svc_kernel': 'poly', 'svc_C': 1.7388791025192007, 'svc_gamma': 0.18213987715257232, 'threshold': 0.014090740062470542, 'n_components': 14}. Best is trial 5 with value: 0.7476668229751687.\u001b[0m\n",
            "\u001b[32m[I 2021-12-03 17:49:17,930]\u001b[0m Trial 6 finished with value: 0.7247919824643672 and parameters: {'svc_kernel': 'poly', 'svc_C': 2.79464587047596, 'svc_gamma': 0.040349688133173835, 'threshold': 0.013562349638606398, 'n_components': 42}. Best is trial 5 with value: 0.7476668229751687.\u001b[0m\n",
            "\u001b[32m[I 2021-12-03 17:49:27,894]\u001b[0m Trial 7 finished with value: 0.7243244201136326 and parameters: {'svc_kernel': 'poly', 'svc_C': 34.13798233065027, 'svc_gamma': 0.13473252678740377, 'threshold': 0.009806881596010647, 'n_components': 43}. Best is trial 5 with value: 0.7476668229751687.\u001b[0m\n",
            "\u001b[32m[I 2021-12-03 17:49:38,884]\u001b[0m Trial 8 finished with value: 0.7229244593725122 and parameters: {'svc_kernel': 'poly', 'svc_C': 25.683172352241805, 'svc_gamma': 0.15881594125967372, 'threshold': 0.023046650940973162, 'n_components': 16}. Best is trial 5 with value: 0.7476668229751687.\u001b[0m\n",
            "\u001b[32m[I 2021-12-03 17:49:44,224]\u001b[0m Trial 9 finished with value: 0.7446318934775734 and parameters: {'svc_kernel': 'poly', 'svc_C': 94.38643264741793, 'svc_gamma': 0.05256390915446807, 'threshold': 0.04709419307271561, 'n_components': 23}. Best is trial 5 with value: 0.7476668229751687.\u001b[0m\n",
            "\u001b[32m[I 2021-12-03 17:49:49,359]\u001b[0m Trial 10 finished with value: 0.7476668229751687 and parameters: {'svc_kernel': 'poly', 'svc_C': 1.5565957459236843, 'svc_gamma': 0.189159879184178, 'threshold': 0.03272868605319694, 'n_components': 22}. Best is trial 5 with value: 0.7476668229751687.\u001b[0m\n",
            "\u001b[32m[I 2021-12-03 17:49:56,403]\u001b[0m Trial 11 finished with value: 0.7313269501303176 and parameters: {'svc_kernel': 'poly', 'svc_C': 4.305030466069008, 'svc_gamma': 0.19948029617521673, 'threshold': 0.03322123359463547, 'n_components': 22}. Best is trial 5 with value: 0.7476668229751687.\u001b[0m\n",
            "\u001b[32m[I 2021-12-03 17:50:07,927]\u001b[0m Trial 12 finished with value: 0.7205904644543561 and parameters: {'svc_kernel': 'poly', 'svc_C': 16.22433402468501, 'svc_gamma': 0.19728210699738805, 'threshold': 0.03372602940309246, 'n_components': 16}. Best is trial 5 with value: 0.7476668229751687.\u001b[0m\n",
            "\u001b[32m[I 2021-12-03 17:50:22,484]\u001b[0m Trial 13 finished with value: 0.7166193197308586 and parameters: {'svc_kernel': 'poly', 'svc_C': 57.61084027593617, 'svc_gamma': 0.164205647495551, 'threshold': 0.04316798185055417, 'n_components': 22}. Best is trial 5 with value: 0.7476668229751687.\u001b[0m\n",
            "\u001b[32m[I 2021-12-03 17:50:31,709]\u001b[0m Trial 14 finished with value: 0.728293656419372 and parameters: {'svc_kernel': 'poly', 'svc_C': 15.484437178797672, 'svc_gamma': 0.16238989086398586, 'threshold': 0.028024887535854283, 'n_components': 10}. Best is trial 5 with value: 0.7476668229751687.\u001b[0m\n",
            "\u001b[32m[I 2021-12-03 17:50:42,256]\u001b[0m Trial 15 finished with value: 0.7254915538882647 and parameters: {'svc_kernel': 'poly', 'svc_C': 17.859907952312916, 'svc_gamma': 0.17458262896111254, 'threshold': 0.0016309281855677454, 'n_components': 60}. Best is trial 5 with value: 0.7476668229751687.\u001b[0m\n",
            "\u001b[32m[I 2021-12-03 17:50:53,617]\u001b[0m Trial 16 finished with value: 0.7205904644543561 and parameters: {'svc_kernel': 'poly', 'svc_C': 59.51522725245983, 'svc_gamma': 0.12578953480087152, 'threshold': 0.02769874598897107, 'n_components': 18}. Best is trial 5 with value: 0.7476668229751687.\u001b[0m\n",
            "\u001b[32m[I 2021-12-03 17:50:58,580]\u001b[0m Trial 17 finished with value: 0.7490659658229644 and parameters: {'svc_kernel': 'poly', 'svc_C': 1.438772526420814, 'svc_gamma': 0.18525785789821006, 'threshold': 0.02056815404330804, 'n_components': 27}. Best is trial 17 with value: 0.7490659658229644.\u001b[0m\n",
            "\u001b[32m[I 2021-12-03 17:51:06,758]\u001b[0m Trial 18 finished with value: 0.7282933837882639 and parameters: {'svc_kernel': 'poly', 'svc_C': 17.26500153983336, 'svc_gamma': 0.1415758899020718, 'threshold': 0.03866194508289089, 'n_components': 26}. Best is trial 17 with value: 0.7490659658229644.\u001b[0m\n",
            "\u001b[32m[I 2021-12-03 17:51:11,390]\u001b[0m Trial 19 finished with value: 0.7474323602220307 and parameters: {'svc_kernel': 'poly', 'svc_C': 11.412841268567089, 'svc_gamma': 0.07983060666281187, 'threshold': 0.01960518552171866, 'n_components': 29}. Best is trial 17 with value: 0.7490659658229644.\u001b[0m\n"
          ]
        }
      ]
    },
    {
      "cell_type": "markdown",
      "metadata": {
        "id": "llaAb3ochzOA"
      },
      "source": [
        "Τέλος προσπαθούμε να βρούμε τις βέλτιστες παραμέτρους του ταξινομητή μας τόσο ως προς το accuracy όσο και ως προς το f1. Οπότε έχουμε:"
      ]
    },
    {
      "cell_type": "code",
      "metadata": {
        "colab": {
          "base_uri": "https://localhost:8080/"
        },
        "id": "hdvesD9ZccAK",
        "outputId": "4f70284a-fa55-4258-dbd8-abf1dea3f79c"
      },
      "source": [
        "import optuna\n",
        "from sklearn.svm import SVC\n",
        "from sklearn.model_selection import cross_val_score\n",
        "\n",
        "from sklearn.pipeline import Pipeline\n",
        "from sklearn import preprocessing\n",
        "from sklearn.feature_selection import VarianceThreshold\n",
        "\n",
        "def objective(trial):\n",
        "\n",
        "    \n",
        "    svc_kernel = trial.suggest_categorical('svc_kernel',['poly'])\n",
        "    svc_C = trial.suggest_float('svc_C',1.0,100.0)\n",
        "\n",
        "    svc_gamma = trial.suggest_float('svc_gamma',0,0.2)\n",
        "\n",
        "    threshold = trial.suggest_float('threshold', 0, 0.05)\n",
        "    \n",
        "    p = Pipeline(steps = [('minmax_scaler', preprocessing.MinMaxScaler()), ('selector', VarianceThreshold(threshold))])\n",
        "    upper_bound = p.fit_transform(X_train_small).shape[1]\n",
        "\n",
        "  \n",
        "    n_components = trial.suggest_int('n_components',min(upper_bound,5), upper_bound)\n",
        "\n",
        "    svm = SVC(kernel = svc_kernel,gamma = svc_gamma , C = svc_C )\n",
        "\n",
        "    clf = Pipeline(steps = [('minmax_scaler', preprocessing.MinMaxScaler()) , ('svm', svm)])\n",
        "  \n",
        "\n",
        "    return np.mean(cross_val_score(clf, X_train_small, y_train_small, cv = 5, scoring = 'accuracy'))\n",
        "\n",
        "study = optuna.create_study(direction = 'maximize')\n",
        "study.optimize(objective, n_trials = 100)"
      ],
      "execution_count": null,
      "outputs": [
        {
          "output_type": "stream",
          "name": "stderr",
          "text": [
            "\u001b[32m[I 2021-12-03 17:57:53,578]\u001b[0m A new study created in memory with name: no-name-469b692c-d532-4238-b4d0-efc32eacacea\u001b[0m\n",
            "\u001b[32m[I 2021-12-03 17:57:58,256]\u001b[0m Trial 0 finished with value: 0.7070480594117711 and parameters: {'svc_kernel': 'poly', 'svc_C': 1.3424893611897948, 'svc_gamma': 0.03338071296311096, 'threshold': 0.04308489232430926, 'n_components': 30}. Best is trial 0 with value: 0.7070480594117711.\u001b[0m\n",
            "\u001b[32m[I 2021-12-03 17:58:14,182]\u001b[0m Trial 1 finished with value: 0.7135857533888046 and parameters: {'svc_kernel': 'poly', 'svc_C': 79.1155707898335, 'svc_gamma': 0.18114381132369262, 'threshold': 0.044406872260499615, 'n_components': 5}. Best is trial 1 with value: 0.7135857533888046.\u001b[0m\n",
            "\u001b[32m[I 2021-12-03 17:58:28,656]\u001b[0m Trial 2 finished with value: 0.7166190470997502 and parameters: {'svc_kernel': 'poly', 'svc_C': 87.72267217693015, 'svc_gamma': 0.1476496675654185, 'threshold': 0.003697288509007418, 'n_components': 28}. Best is trial 2 with value: 0.7166190470997502.\u001b[0m\n",
            "\u001b[32m[I 2021-12-03 17:58:32,856]\u001b[0m Trial 3 finished with value: 0.7268926051538185 and parameters: {'svc_kernel': 'poly', 'svc_C': 98.19022596362605, 'svc_gamma': 0.012806727316261202, 'threshold': 0.019801391540520116, 'n_components': 36}. Best is trial 3 with value: 0.7268926051538185.\u001b[0m\n",
            "\u001b[32m[I 2021-12-03 17:58:44,072]\u001b[0m Trial 4 finished with value: 0.7215247712625001 and parameters: {'svc_kernel': 'poly', 'svc_C': 64.89800733058915, 'svc_gamma': 0.11952148376337808, 'threshold': 0.04553171469534243, 'n_components': 29}. Best is trial 3 with value: 0.7268926051538185.\u001b[0m\n",
            "\u001b[32m[I 2021-12-03 17:58:55,315]\u001b[0m Trial 5 finished with value: 0.7208238366830608 and parameters: {'svc_kernel': 'poly', 'svc_C': 16.043169257274705, 'svc_gamma': 0.19517699459471322, 'threshold': 0.04928290569816366, 'n_components': 30}. Best is trial 3 with value: 0.7268926051538185.\u001b[0m\n",
            "\u001b[32m[I 2021-12-03 17:59:00,148]\u001b[0m Trial 6 finished with value: 0.7488320483320429 and parameters: {'svc_kernel': 'poly', 'svc_C': 14.708376258245657, 'svc_gamma': 0.08404758447869941, 'threshold': 0.008804495418445885, 'n_components': 28}. Best is trial 6 with value: 0.7488320483320429.\u001b[0m\n",
            "\u001b[32m[I 2021-12-03 17:59:04,062]\u001b[0m Trial 7 finished with value: 0.7394971591838515 and parameters: {'svc_kernel': 'poly', 'svc_C': 23.761190630282634, 'svc_gamma': 0.0354135421954412, 'threshold': 0.04015502470201741, 'n_components': 22}. Best is trial 6 with value: 0.7488320483320429.\u001b[0m\n",
            "\u001b[32m[I 2021-12-03 17:59:17,348]\u001b[0m Trial 8 finished with value: 0.7196558850151037 and parameters: {'svc_kernel': 'poly', 'svc_C': 61.9386173792097, 'svc_gamma': 0.14667165724905423, 'threshold': 0.010372293362975, 'n_components': 31}. Best is trial 6 with value: 0.7488320483320429.\u001b[0m\n",
            "\u001b[32m[I 2021-12-03 17:59:30,383]\u001b[0m Trial 9 finished with value: 0.719422512786399 and parameters: {'svc_kernel': 'poly', 'svc_C': 65.83631998816905, 'svc_gamma': 0.13917258803347862, 'threshold': 0.01150709031633716, 'n_components': 33}. Best is trial 6 with value: 0.7488320483320429.\u001b[0m\n",
            "\u001b[32m[I 2021-12-03 17:59:37,206]\u001b[0m Trial 10 finished with value: 0.7336606724173655 and parameters: {'svc_kernel': 'poly', 'svc_C': 42.91983750299457, 'svc_gamma': 0.0894409390777866, 'threshold': 0.030168017608361124, 'n_components': 13}. Best is trial 6 with value: 0.7488320483320429.\u001b[0m\n",
            "\u001b[32m[I 2021-12-03 17:59:41,900]\u001b[0m Trial 11 finished with value: 0.7507009345794392 and parameters: {'svc_kernel': 'poly', 'svc_C': 32.07011127899824, 'svc_gamma': 0.059907431357584716, 'threshold': 0.030847488210037046, 'n_components': 23}. Best is trial 11 with value: 0.7507009345794392.\u001b[0m\n",
            "\u001b[32m[I 2021-12-03 17:59:47,349]\u001b[0m Trial 12 finished with value: 0.7413633191201648 and parameters: {'svc_kernel': 'poly', 'svc_C': 35.324477759255814, 'svc_gamma': 0.07517437554414413, 'threshold': 0.02768455416595001, 'n_components': 22}. Best is trial 11 with value: 0.7507009345794392.\u001b[0m\n",
            "\u001b[32m[I 2021-12-03 17:59:51,994]\u001b[0m Trial 13 finished with value: 0.7507009345794392 and parameters: {'svc_kernel': 'poly', 'svc_C': 25.49616347124887, 'svc_gamma': 0.06470126647830862, 'threshold': 0.03387053481008803, 'n_components': 24}. Best is trial 11 with value: 0.7507009345794392.\u001b[0m\n",
            "\u001b[32m[I 2021-12-03 17:59:56,522]\u001b[0m Trial 14 finished with value: 0.747432632853139 and parameters: {'svc_kernel': 'poly', 'svc_C': 33.243641429095376, 'svc_gamma': 0.056638682416375014, 'threshold': 0.035030840597799366, 'n_components': 17}. Best is trial 11 with value: 0.7507009345794392.\u001b[0m\n",
            "\u001b[32m[I 2021-12-03 18:00:01,527]\u001b[0m Trial 15 finished with value: 0.747433450746464 and parameters: {'svc_kernel': 'poly', 'svc_C': 50.78277665525875, 'svc_gamma': 0.059303956837423275, 'threshold': 0.02026224788261542, 'n_components': 42}. Best is trial 11 with value: 0.7507009345794392.\u001b[0m\n",
            "\u001b[32m[I 2021-12-03 18:00:08,814]\u001b[0m Trial 16 finished with value: 0.7327285466580878 and parameters: {'svc_kernel': 'poly', 'svc_C': 25.104786632679136, 'svc_gamma': 0.11422455888685686, 'threshold': 0.03215914683961924, 'n_components': 23}. Best is trial 11 with value: 0.7507009345794392.\u001b[0m\n",
            "\u001b[32m[I 2021-12-03 18:00:14,499]\u001b[0m Trial 17 finished with value: 0.5123717270635448 and parameters: {'svc_kernel': 'poly', 'svc_C': 1.904562281683976, 'svc_gamma': 0.0020689442690661475, 'threshold': 0.036585432054762036, 'n_components': 18}. Best is trial 11 with value: 0.7507009345794392.\u001b[0m\n",
            "\u001b[32m[I 2021-12-03 18:00:19,259]\u001b[0m Trial 18 finished with value: 0.7483661217679581 and parameters: {'svc_kernel': 'poly', 'svc_C': 46.30094746985925, 'svc_gamma': 0.05497775409115792, 'threshold': 0.02301507137874398, 'n_components': 11}. Best is trial 11 with value: 0.7507009345794392.\u001b[0m\n",
            "\u001b[32m[I 2021-12-03 18:00:23,398]\u001b[0m Trial 19 finished with value: 0.7299264441269806 and parameters: {'svc_kernel': 'poly', 'svc_C': 12.7174780721557, 'svc_gamma': 0.029020368779157153, 'threshold': 0.025256243812043187, 'n_components': 25}. Best is trial 11 with value: 0.7507009345794392.\u001b[0m\n",
            "\u001b[32m[I 2021-12-03 18:00:30,543]\u001b[0m Trial 20 finished with value: 0.7313269501303176 and parameters: {'svc_kernel': 'poly', 'svc_C': 30.79505536543139, 'svc_gamma': 0.10339744826014752, 'threshold': 0.017119786632869054, 'n_components': 37}. Best is trial 11 with value: 0.7507009345794392.\u001b[0m\n",
            "\u001b[32m[I 2021-12-03 18:00:35,331]\u001b[0m Trial 21 finished with value: 0.7485992213655547 and parameters: {'svc_kernel': 'poly', 'svc_C': 14.55693975453589, 'svc_gamma': 0.08211343454010936, 'threshold': 0.00022187510364637605, 'n_components': 64}. Best is trial 11 with value: 0.7507009345794392.\u001b[0m\n",
            "\u001b[32m[I 2021-12-03 18:00:40,283]\u001b[0m Trial 22 finished with value: 0.7492993380516692 and parameters: {'svc_kernel': 'poly', 'svc_C': 20.909789002005287, 'svc_gamma': 0.07611435403958158, 'threshold': 0.012971013329307496, 'n_components': 42}. Best is trial 11 with value: 0.7507009345794392.\u001b[0m\n",
            "\u001b[32m[I 2021-12-03 18:00:45,498]\u001b[0m Trial 23 finished with value: 0.745332282794796 and parameters: {'svc_kernel': 'poly', 'svc_C': 40.089856103251805, 'svc_gamma': 0.06628312468944693, 'threshold': 0.01520055718123319, 'n_components': 43}. Best is trial 11 with value: 0.7507009345794392.\u001b[0m\n",
            "\u001b[32m[I 2021-12-03 18:00:49,579]\u001b[0m Trial 24 finished with value: 0.747432632853139 and parameters: {'svc_kernel': 'poly', 'svc_C': 24.082479909015575, 'svc_gamma': 0.04469810967862598, 'threshold': 0.03694140462019776, 'n_components': 15}. Best is trial 11 with value: 0.7507009345794392.\u001b[0m\n",
            "\u001b[32m[I 2021-12-03 18:00:56,030]\u001b[0m Trial 25 finished with value: 0.7362280395642264 and parameters: {'svc_kernel': 'poly', 'svc_C': 27.24469515851869, 'svc_gamma': 0.09756683597066551, 'threshold': 0.030570044573373048, 'n_components': 8}. Best is trial 11 with value: 0.7507009345794392.\u001b[0m\n",
            "\u001b[32m[I 2021-12-03 18:01:00,109]\u001b[0m Trial 26 finished with value: 0.7294596996695711 and parameters: {'svc_kernel': 'poly', 'svc_C': 55.50687546864867, 'svc_gamma': 0.01742840491463122, 'threshold': 0.025781525224210528, 'n_components': 26}. Best is trial 11 with value: 0.7507009345794392.\u001b[0m\n",
            "\u001b[32m[I 2021-12-03 18:01:04,197]\u001b[0m Trial 27 finished with value: 0.7478993773105487 and parameters: {'svc_kernel': 'poly', 'svc_C': 8.151762941051356, 'svc_gamma': 0.06776593865070218, 'threshold': 0.03349199789171096, 'n_components': 21}. Best is trial 11 with value: 0.7507009345794392.\u001b[0m\n",
            "\u001b[32m[I 2021-12-03 18:01:08,240]\u001b[0m Trial 28 finished with value: 0.7492998833138855 and parameters: {'svc_kernel': 'poly', 'svc_C': 19.95336157180532, 'svc_gamma': 0.04685075560067396, 'threshold': 0.03979166008307558, 'n_components': 20}. Best is trial 11 with value: 0.7507009345794392.\u001b[0m\n",
            "\u001b[32m[I 2021-12-03 18:01:12,545]\u001b[0m Trial 29 finished with value: 0.7247919824643672 and parameters: {'svc_kernel': 'poly', 'svc_C': 2.3881002617280203, 'svc_gamma': 0.04252701511737307, 'threshold': 0.04034192058948234, 'n_components': 19}. Best is trial 11 with value: 0.7507009345794392.\u001b[0m\n",
            "\u001b[32m[I 2021-12-03 18:01:16,604]\u001b[0m Trial 30 finished with value: 0.7369287015125573 and parameters: {'svc_kernel': 'poly', 'svc_C': 34.445054550139744, 'svc_gamma': 0.027077284156663103, 'threshold': 0.040454191949142966, 'n_components': 20}. Best is trial 11 with value: 0.7507009345794392.\u001b[0m\n",
            "\u001b[32m[I 2021-12-03 18:01:20,603]\u001b[0m Trial 31 finished with value: 0.7492998833138855 and parameters: {'svc_kernel': 'poly', 'svc_C': 18.39482269802747, 'svc_gamma': 0.048276541487768165, 'threshold': 0.029273673130575103, 'n_components': 24}. Best is trial 11 with value: 0.7507009345794392.\u001b[0m\n",
            "\u001b[32m[I 2021-12-03 18:01:24,623]\u001b[0m Trial 32 finished with value: 0.7357612951068169 and parameters: {'svc_kernel': 'poly', 'svc_C': 8.57540620377028, 'svc_gamma': 0.0459082284357358, 'threshold': 0.0279462735689797, 'n_components': 24}. Best is trial 11 with value: 0.7507009345794392.\u001b[0m\n",
            "\u001b[32m[I 2021-12-03 18:01:28,718]\u001b[0m Trial 33 finished with value: 0.7476660050818439 and parameters: {'svc_kernel': 'poly', 'svc_C': 19.387549952409675, 'svc_gamma': 0.04996234237763401, 'threshold': 0.03805190976823848, 'n_components': 24}. Best is trial 11 with value: 0.7507009345794392.\u001b[0m\n",
            "\u001b[32m[I 2021-12-03 18:01:32,838]\u001b[0m Trial 34 finished with value: 0.7301598163556855 and parameters: {'svc_kernel': 'poly', 'svc_C': 39.09426121119968, 'svc_gamma': 0.01993504950987142, 'threshold': 0.04546090364255376, 'n_components': 26}. Best is trial 11 with value: 0.7507009345794392.\u001b[0m\n",
            "\u001b[32m[I 2021-12-03 18:01:37,664]\u001b[0m Trial 35 finished with value: 0.7488325935942595 and parameters: {'svc_kernel': 'poly', 'svc_C': 29.467447535284006, 'svc_gamma': 0.06531775002665807, 'threshold': 0.04290131933500029, 'n_components': 20}. Best is trial 11 with value: 0.7507009345794392.\u001b[0m\n",
            "\u001b[32m[I 2021-12-03 18:01:41,773]\u001b[0m Trial 36 finished with value: 0.7287595829834568 and parameters: {'svc_kernel': 'poly', 'svc_C': 8.48726344010904, 'svc_gamma': 0.03241995747325486, 'threshold': 0.022313279805193095, 'n_components': 17}. Best is trial 11 with value: 0.7507009345794392.\u001b[0m\n",
            "\u001b[32m[I 2021-12-03 18:01:47,505]\u001b[0m Trial 37 finished with value: 0.5123717270635448 and parameters: {'svc_kernel': 'poly', 'svc_C': 18.28048974080386, 'svc_gamma': 0.003006331354635308, 'threshold': 0.03316254589826648, 'n_components': 22}. Best is trial 11 with value: 0.7507009345794392.\u001b[0m\n",
            "\u001b[32m[I 2021-12-03 18:01:57,491]\u001b[0m Trial 38 finished with value: 0.7243244201136326 and parameters: {'svc_kernel': 'poly', 'svc_C': 88.86773244334654, 'svc_gamma': 0.0979900788356745, 'threshold': 0.04961818667621013, 'n_components': 26}. Best is trial 11 with value: 0.7507009345794392.\u001b[0m\n",
            "\u001b[32m[I 2021-12-03 18:02:01,624]\u001b[0m Trial 39 finished with value: 0.746732788798133 and parameters: {'svc_kernel': 'poly', 'svc_C': 47.738260796216906, 'svc_gamma': 0.03870446065697998, 'threshold': 0.029001317983126537, 'n_components': 24}. Best is trial 11 with value: 0.7507009345794392.\u001b[0m\n",
            "\u001b[32m[I 2021-12-03 18:02:11,079]\u001b[0m Trial 40 finished with value: 0.7264255880653006 and parameters: {'svc_kernel': 'poly', 'svc_C': 38.011781051281076, 'svc_gamma': 0.12224198174382639, 'threshold': 0.043196722768074264, 'n_components': 21}. Best is trial 11 with value: 0.7507009345794392.\u001b[0m\n",
            "\u001b[32m[I 2021-12-03 18:02:15,798]\u001b[0m Trial 41 finished with value: 0.7497677182957284 and parameters: {'svc_kernel': 'poly', 'svc_C': 20.812999239373507, 'svc_gamma': 0.07020796442786012, 'threshold': 0.006003763977871019, 'n_components': 54}. Best is trial 11 with value: 0.7507009345794392.\u001b[0m\n",
            "\u001b[32m[I 2021-12-03 18:02:27,025]\u001b[0m Trial 42 finished with value: 0.7212911264026871 and parameters: {'svc_kernel': 'poly', 'svc_C': 22.09603937934281, 'svc_gamma': 0.1739061953624242, 'threshold': 0.00761988426026327, 'n_components': 53}. Best is trial 11 with value: 0.7507009345794392.\u001b[0m\n",
            "\u001b[32m[I 2021-12-03 18:02:32,253]\u001b[0m Trial 43 finished with value: 0.74649914393832 and parameters: {'svc_kernel': 'poly', 'svc_C': 29.2300340755175, 'svc_gamma': 0.0728860446901664, 'threshold': 0.034806827297917786, 'n_components': 23}. Best is trial 11 with value: 0.7507009345794392.\u001b[0m\n",
            "\u001b[32m[I 2021-12-03 18:02:37,116]\u001b[0m Trial 44 finished with value: 0.7495327102803737 and parameters: {'svc_kernel': 'poly', 'svc_C': 13.744428523630306, 'svc_gamma': 0.08518614715971115, 'threshold': 0.0315378822482328, 'n_components': 27}. Best is trial 11 with value: 0.7507009345794392.\u001b[0m\n",
            "\u001b[32m[I 2021-12-03 18:02:41,889]\u001b[0m Trial 45 finished with value: 0.7492998833138856 and parameters: {'svc_kernel': 'poly', 'svc_C': 10.767654639238613, 'svc_gamma': 0.08345671829082997, 'threshold': 0.031125684930147533, 'n_components': 27}. Best is trial 11 with value: 0.7507009345794392.\u001b[0m\n",
            "\u001b[32m[I 2021-12-03 18:02:46,896]\u001b[0m Trial 46 finished with value: 0.7479001952038734 and parameters: {'svc_kernel': 'poly', 'svc_C': 13.479981691465024, 'svc_gamma': 0.0900528548481869, 'threshold': 0.03163762996309493, 'n_components': 28}. Best is trial 11 with value: 0.7507009345794392.\u001b[0m\n",
            "\u001b[32m[I 2021-12-03 18:02:51,872]\u001b[0m Trial 47 finished with value: 0.749299338051669 and parameters: {'svc_kernel': 'poly', 'svc_C': 7.056357178589089, 'svc_gamma': 0.10850038399519736, 'threshold': 0.026590621031418606, 'n_components': 28}. Best is trial 11 with value: 0.7507009345794392.\u001b[0m\n",
            "\u001b[32m[I 2021-12-03 18:02:56,825]\u001b[0m Trial 48 finished with value: 0.7488325935942595 and parameters: {'svc_kernel': 'poly', 'svc_C': 3.6638059681416664, 'svc_gamma': 0.13108211662098057, 'threshold': 0.02309147988346166, 'n_components': 6}. Best is trial 11 with value: 0.7507009345794392.\u001b[0m\n",
            "\u001b[32m[I 2021-12-03 18:03:01,561]\u001b[0m Trial 49 finished with value: 0.7500010905244332 and parameters: {'svc_kernel': 'poly', 'svc_C': 11.078501301087233, 'svc_gamma': 0.08648603990965385, 'threshold': 0.006313227127873491, 'n_components': 33}. Best is trial 11 with value: 0.7507009345794392.\u001b[0m\n",
            "\u001b[32m[I 2021-12-03 18:03:07,338]\u001b[0m Trial 50 finished with value: 0.7378608272718351 and parameters: {'svc_kernel': 'poly', 'svc_C': 24.92548082657018, 'svc_gamma': 0.09103848241697692, 'threshold': 0.004442202620061806, 'n_components': 33}. Best is trial 11 with value: 0.7507009345794392.\u001b[0m\n",
            "\u001b[32m[I 2021-12-03 18:03:12,188]\u001b[0m Trial 51 finished with value: 0.749299338051669 and parameters: {'svc_kernel': 'poly', 'svc_C': 14.085162771826802, 'svc_gamma': 0.08270995815005998, 'threshold': 0.005410853145105227, 'n_components': 36}. Best is trial 11 with value: 0.7507009345794392.\u001b[0m\n",
            "\u001b[32m[I 2021-12-03 18:03:16,312]\u001b[0m Trial 52 finished with value: 0.7478993773105487 and parameters: {'svc_kernel': 'poly', 'svc_C': 11.163422526460266, 'svc_gamma': 0.0606742210445829, 'threshold': 0.00034768823246391235, 'n_components': 88}. Best is trial 11 with value: 0.7507009345794392.\u001b[0m\n",
            "\u001b[32m[I 2021-12-03 18:03:20,386]\u001b[0m Trial 53 finished with value: 0.7467325161670247 and parameters: {'svc_kernel': 'poly', 'svc_C': 5.2970014683315085, 'svc_gamma': 0.0758245602030842, 'threshold': 0.0075255224854467034, 'n_components': 32}. Best is trial 11 with value: 0.7507009345794392.\u001b[0m\n",
            "\u001b[32m[I 2021-12-03 18:03:25,017]\u001b[0m Trial 54 finished with value: 0.7474323602220307 and parameters: {'svc_kernel': 'poly', 'svc_C': 10.114378105360018, 'svc_gamma': 0.08273874707270905, 'threshold': 0.03520883269889558, 'n_components': 27}. Best is trial 11 with value: 0.7507009345794392.\u001b[0m\n",
            "\u001b[32m[I 2021-12-03 18:03:30,304]\u001b[0m Trial 55 finished with value: 0.7443987938799769 and parameters: {'svc_kernel': 'poly', 'svc_C': 16.45215309139089, 'svc_gamma': 0.09016701746753032, 'threshold': 0.002380981724245963, 'n_components': 51}. Best is trial 11 with value: 0.7507009345794392.\u001b[0m\n",
            "\u001b[32m[I 2021-12-03 18:03:35,419]\u001b[0m Trial 56 finished with value: 0.74649914393832 and parameters: {'svc_kernel': 'poly', 'svc_C': 33.009126111937405, 'svc_gamma': 0.06995391531890294, 'threshold': 0.018435550709567095, 'n_components': 31}. Best is trial 11 with value: 0.7507009345794392.\u001b[0m\n",
            "\u001b[32m[I 2021-12-03 18:03:45,385]\u001b[0m Trial 57 finished with value: 0.7240910478849278 and parameters: {'svc_kernel': 'poly', 'svc_C': 69.0730910360837, 'svc_gamma': 0.10619498148989101, 'threshold': 0.014450459361592925, 'n_components': 29}. Best is trial 11 with value: 0.7507009345794392.\u001b[0m\n",
            "\u001b[32m[I 2021-12-03 18:03:49,873]\u001b[0m Trial 58 finished with value: 0.7464988713072117 and parameters: {'svc_kernel': 'poly', 'svc_C': 26.833105214459405, 'svc_gamma': 0.05660274292271226, 'threshold': 0.009988073757078761, 'n_components': 45}. Best is trial 11 with value: 0.7507009345794392.\u001b[0m\n",
            "\u001b[32m[I 2021-12-03 18:03:53,942]\u001b[0m Trial 59 finished with value: 0.7483669396612831 and parameters: {'svc_kernel': 'poly', 'svc_C': 1.2334087583447442, 'svc_gamma': 0.11664220654407854, 'threshold': 0.031543296136615044, 'n_components': 25}. Best is trial 11 with value: 0.7507009345794392.\u001b[0m\n",
            "\u001b[32m[I 2021-12-03 18:03:59,793]\u001b[0m Trial 60 finished with value: 0.7383278443603529 and parameters: {'svc_kernel': 'poly', 'svc_C': 22.381787154586092, 'svc_gamma': 0.09595178784826963, 'threshold': 0.02447257600646545, 'n_components': 11}. Best is trial 11 with value: 0.7507009345794392.\u001b[0m\n",
            "\u001b[32m[I 2021-12-03 18:04:04,103]\u001b[0m Trial 61 finished with value: 0.7448652657062781 and parameters: {'svc_kernel': 'poly', 'svc_C': 17.09810343273456, 'svc_gamma': 0.06084443880259067, 'threshold': 0.029047968190925647, 'n_components': 23}. Best is trial 11 with value: 0.7507009345794392.\u001b[0m\n",
            "\u001b[32m[I 2021-12-03 18:04:09,077]\u001b[0m Trial 62 finished with value: 0.7474331781153557 and parameters: {'svc_kernel': 'poly', 'svc_C': 21.20368072181796, 'svc_gamma': 0.07756684397394976, 'threshold': 0.038433482986203533, 'n_components': 22}. Best is trial 11 with value: 0.7507009345794392.\u001b[0m\n",
            "\u001b[32m[I 2021-12-03 18:04:13,077]\u001b[0m Trial 63 finished with value: 0.7446324387397899 and parameters: {'svc_kernel': 'poly', 'svc_C': 11.79864999441254, 'svc_gamma': 0.0505745951433865, 'threshold': 0.03504544458528438, 'n_components': 19}. Best is trial 11 with value: 0.7507009345794392.\u001b[0m\n",
            "\u001b[32m[I 2021-12-03 18:04:17,496]\u001b[0m Trial 64 finished with value: 0.7457995725144222 and parameters: {'svc_kernel': 'poly', 'svc_C': 16.3335589297659, 'svc_gamma': 0.06441025203982928, 'threshold': 0.028965751781281777, 'n_components': 25}. Best is trial 11 with value: 0.7507009345794392.\u001b[0m\n",
            "\u001b[32m[I 2021-12-03 18:04:23,082]\u001b[0m Trial 65 finished with value: 0.7408957567694304 and parameters: {'svc_kernel': 'poly', 'svc_C': 31.751058308838946, 'svc_gamma': 0.08061123264442684, 'threshold': 0.03320827794208166, 'n_components': 21}. Best is trial 11 with value: 0.7507009345794392.\u001b[0m\n",
            "\u001b[32m[I 2021-12-03 18:04:27,087]\u001b[0m Trial 66 finished with value: 0.73762909082978 and parameters: {'svc_kernel': 'poly', 'svc_C': 6.078652793587139, 'svc_gamma': 0.053217899554617226, 'threshold': 0.030559060046482553, 'n_components': 27}. Best is trial 11 with value: 0.7507009345794392.\u001b[0m\n",
            "\u001b[32m[I 2021-12-03 18:04:32,290]\u001b[0m Trial 67 finished with value: 0.746732788798133 and parameters: {'svc_kernel': 'poly', 'svc_C': 27.390545594901454, 'svc_gamma': 0.07342073269050203, 'threshold': 0.026307622159624684, 'n_components': 24}. Best is trial 11 with value: 0.7507009345794392.\u001b[0m\n",
            "\u001b[32m[I 2021-12-03 18:04:37,635]\u001b[0m Trial 68 finished with value: 0.7436984045627543 and parameters: {'svc_kernel': 'poly', 'svc_C': 19.083983021030303, 'svc_gamma': 0.08756587975840659, 'threshold': 0.021126547198375888, 'n_components': 30}. Best is trial 11 with value: 0.7507009345794392.\u001b[0m\n",
            "\u001b[32m[I 2021-12-03 18:04:41,850]\u001b[0m Trial 69 finished with value: 0.7469661610268379 and parameters: {'svc_kernel': 'poly', 'svc_C': 44.06637198541966, 'svc_gamma': 0.04007066531293661, 'threshold': 0.03693381254029516, 'n_components': 27}. Best is trial 11 with value: 0.7507009345794392.\u001b[0m\n",
            "\u001b[32m[I 2021-12-03 18:04:46,319]\u001b[0m Trial 70 finished with value: 0.7453320101636878 and parameters: {'svc_kernel': 'poly', 'svc_C': 14.383761087759357, 'svc_gamma': 0.06925228574514179, 'threshold': 0.02783907803971905, 'n_components': 25}. Best is trial 11 with value: 0.7507009345794392.\u001b[0m\n",
            "\u001b[32m[I 2021-12-03 18:04:50,421]\u001b[0m Trial 71 finished with value: 0.7467325161670247 and parameters: {'svc_kernel': 'poly', 'svc_C': 24.36438620845791, 'svc_gamma': 0.04751228034425799, 'threshold': 0.03931102501759892, 'n_components': 23}. Best is trial 11 with value: 0.7507009345794392.\u001b[0m\n",
            "\u001b[32m[I 2021-12-03 18:04:54,874]\u001b[0m Trial 72 finished with value: 0.7450983653038746 and parameters: {'svc_kernel': 'poly', 'svc_C': 19.91822412495761, 'svc_gamma': 0.06120401202346126, 'threshold': 0.03395395112241392, 'n_components': 18}. Best is trial 11 with value: 0.7507009345794392.\u001b[0m\n",
            "\u001b[32m[I 2021-12-03 18:04:58,845]\u001b[0m Trial 73 finished with value: 0.7460337626364518 and parameters: {'svc_kernel': 'poly', 'svc_C': 12.18371157814778, 'svc_gamma': 0.052203243786664064, 'threshold': 0.030331444864229583, 'n_components': 20}. Best is trial 11 with value: 0.7507009345794392.\u001b[0m\n",
            "\u001b[32m[I 2021-12-03 18:05:02,953]\u001b[0m Trial 74 finished with value: 0.7476662777129521 and parameters: {'svc_kernel': 'poly', 'svc_C': 54.747342400448304, 'svc_gamma': 0.03444651254697528, 'threshold': 0.03220322406440682, 'n_components': 16}. Best is trial 11 with value: 0.7507009345794392.\u001b[0m\n",
            "\u001b[32m[I 2021-12-03 18:05:08,792]\u001b[0m Trial 75 finished with value: 0.7383275717292446 and parameters: {'svc_kernel': 'poly', 'svc_C': 17.8651365294359, 'svc_gamma': 0.10130961947454466, 'threshold': 0.03617170728619541, 'n_components': 22}. Best is trial 11 with value: 0.7507009345794392.\u001b[0m\n",
            "\u001b[32m[I 2021-12-03 18:05:12,828]\u001b[0m Trial 76 finished with value: 0.7369287015125574 and parameters: {'svc_kernel': 'poly', 'svc_C': 36.01105922394751, 'svc_gamma': 0.026765111433061223, 'threshold': 0.04237798245822269, 'n_components': 26}. Best is trial 11 with value: 0.7507009345794392.\u001b[0m\n",
            "\u001b[32m[I 2021-12-03 18:05:17,724]\u001b[0m Trial 77 finished with value: 0.7488325935942595 and parameters: {'svc_kernel': 'poly', 'svc_C': 10.053795334327496, 'svc_gamma': 0.09362095437709504, 'threshold': 0.024577987731659232, 'n_components': 23}. Best is trial 11 with value: 0.7507009345794392.\u001b[0m\n",
            "\u001b[32m[I 2021-12-03 18:05:23,403]\u001b[0m Trial 78 finished with value: 0.739961995223503 and parameters: {'svc_kernel': 'poly', 'svc_C': 28.07392388497871, 'svc_gamma': 0.0853517517976165, 'threshold': 0.04171559969446488, 'n_components': 21}. Best is trial 11 with value: 0.7507009345794392.\u001b[0m\n",
            "\u001b[32m[I 2021-12-03 18:05:30,346]\u001b[0m Trial 79 finished with value: 0.7317936945877273 and parameters: {'svc_kernel': 'poly', 'svc_C': 4.159427577427622, 'svc_gamma': 0.1994999148749221, 'threshold': 0.011382305037851523, 'n_components': 34}. Best is trial 11 with value: 0.7507009345794392.\u001b[0m\n",
            "\u001b[32m[I 2021-12-03 18:05:34,778]\u001b[0m Trial 80 finished with value: 0.7455662002857174 and parameters: {'svc_kernel': 'poly', 'svc_C': 23.415380911007354, 'svc_gamma': 0.057135710336576155, 'threshold': 0.006031759485705716, 'n_components': 37}. Best is trial 11 with value: 0.7507009345794392.\u001b[0m\n",
            "\u001b[32m[I 2021-12-03 18:05:39,760]\u001b[0m Trial 81 finished with value: 0.7476665503440604 and parameters: {'svc_kernel': 'poly', 'svc_C': 20.881301045230074, 'svc_gamma': 0.07776439560807516, 'threshold': 0.012942718617377787, 'n_components': 41}. Best is trial 11 with value: 0.7507009345794392.\u001b[0m\n",
            "\u001b[32m[I 2021-12-03 18:05:44,159]\u001b[0m Trial 82 finished with value: 0.7453325554259044 and parameters: {'svc_kernel': 'poly', 'svc_C': 14.780690256189462, 'svc_gamma': 0.06594219021056011, 'threshold': 0.04745019726337014, 'n_components': 28}. Best is trial 11 with value: 0.7507009345794392.\u001b[0m\n",
            "\u001b[32m[I 2021-12-03 18:05:48,427]\u001b[0m Trial 83 finished with value: 0.7478991046794403 and parameters: {'svc_kernel': 'poly', 'svc_C': 8.558940137143976, 'svc_gamma': 0.07189060295438361, 'threshold': 0.002713991391883896, 'n_components': 54}. Best is trial 11 with value: 0.7507009345794392.\u001b[0m\n",
            "\u001b[32m[I 2021-12-03 18:05:59,348]\u001b[0m Trial 84 finished with value: 0.7217575982289883 and parameters: {'svc_kernel': 'poly', 'svc_C': 26.166420762892983, 'svc_gamma': 0.15986900421327893, 'threshold': 0.007587122206096805, 'n_components': 48}. Best is trial 11 with value: 0.7507009345794392.\u001b[0m\n",
            "\u001b[32m[I 2021-12-03 18:06:03,333]\u001b[0m Trial 85 finished with value: 0.7465005070938615 and parameters: {'svc_kernel': 'poly', 'svc_C': 21.22323979562073, 'svc_gamma': 0.043544730607517075, 'threshold': 0.029584233160279274, 'n_components': 29}. Best is trial 11 with value: 0.7507009345794392.\u001b[0m\n",
            "\u001b[32m[I 2021-12-03 18:06:11,445]\u001b[0m Trial 86 finished with value: 0.7280597389284507 and parameters: {'svc_kernel': 'poly', 'svc_C': 97.63377059451389, 'svc_gamma': 0.07908012687592694, 'threshold': 0.0093331730260222, 'n_components': 44}. Best is trial 11 with value: 0.7507009345794392.\u001b[0m\n",
            "\u001b[32m[I 2021-12-03 18:06:16,072]\u001b[0m Trial 87 finished with value: 0.7474323602220307 and parameters: {'svc_kernel': 'poly', 'svc_C': 18.853853022630307, 'svc_gamma': 0.06746586255069408, 'threshold': 0.026915801957806167, 'n_components': 24}. Best is trial 11 with value: 0.7507009345794392.\u001b[0m\n",
            "\u001b[32m[I 2021-12-03 18:06:21,979]\u001b[0m Trial 88 finished with value: 0.7376274550431303 and parameters: {'svc_kernel': 'poly', 'svc_C': 29.88677711423167, 'svc_gamma': 0.08580289438809284, 'threshold': 0.03247660074594993, 'n_components': 25}. Best is trial 11 with value: 0.7507009345794392.\u001b[0m\n",
            "\u001b[32m[I 2021-12-03 18:06:26,381]\u001b[0m Trial 89 finished with value: 0.7443990665110852 and parameters: {'svc_kernel': 'poly', 'svc_C': 16.730781183257832, 'svc_gamma': 0.06247426327618396, 'threshold': 0.01693134735116953, 'n_components': 39}. Best is trial 11 with value: 0.7507009345794392.\u001b[0m\n",
            "\u001b[32m[I 2021-12-03 18:06:30,472]\u001b[0m Trial 90 finished with value: 0.7469656157646212 and parameters: {'svc_kernel': 'poly', 'svc_C': 12.793464651004019, 'svc_gamma': 0.055374809005116606, 'threshold': 0.031167792335970484, 'n_components': 27}. Best is trial 11 with value: 0.7507009345794392.\u001b[0m\n",
            "\u001b[32m[I 2021-12-03 18:06:36,432]\u001b[0m Trial 91 finished with value: 0.7383278443603529 and parameters: {'svc_kernel': 'poly', 'svc_C': 14.690163655553704, 'svc_gamma': 0.1103756966192539, 'threshold': 0.006811377471745633, 'n_components': 35}. Best is trial 11 with value: 0.7507009345794392.\u001b[0m\n",
            "\u001b[32m[I 2021-12-03 18:06:41,272]\u001b[0m Trial 92 finished with value: 0.7488325935942595 and parameters: {'svc_kernel': 'poly', 'svc_C': 6.817983961816623, 'svc_gamma': 0.1064460349779126, 'threshold': 0.027986745840285734, 'n_components': 26}. Best is trial 11 with value: 0.7507009345794392.\u001b[0m\n",
            "\u001b[32m[I 2021-12-03 18:06:45,865]\u001b[0m Trial 93 finished with value: 0.7476662777129521 and parameters: {'svc_kernel': 'poly', 'svc_C': 9.732988940734339, 'svc_gamma': 0.08150495881091786, 'threshold': 0.004945527942576442, 'n_components': 57}. Best is trial 11 with value: 0.7507009345794392.\u001b[0m\n",
            "\u001b[32m[I 2021-12-03 18:06:54,054]\u001b[0m Trial 94 finished with value: 0.7289929552121616 and parameters: {'svc_kernel': 'poly', 'svc_C': 23.47815057869378, 'svc_gamma': 0.12940323768036144, 'threshold': 0.025250216213356113, 'n_components': 28}. Best is trial 11 with value: 0.7507009345794392.\u001b[0m\n",
            "\u001b[32m[I 2021-12-03 18:06:58,658]\u001b[0m Trial 95 finished with value: 0.7469658883957295 and parameters: {'svc_kernel': 'poly', 'svc_C': 6.661987921208554, 'svc_gamma': 0.09482108727550773, 'threshold': 0.023096694119482997, 'n_components': 31}. Best is trial 11 with value: 0.7507009345794392.\u001b[0m\n",
            "\u001b[32m[I 2021-12-03 18:07:02,732]\u001b[0m Trial 96 finished with value: 0.745800390407747 and parameters: {'svc_kernel': 'poly', 'svc_C': 4.180813779601371, 'svc_gamma': 0.07291970333499853, 'threshold': 0.026799150550789526, 'n_components': 26}. Best is trial 11 with value: 0.7507009345794392.\u001b[0m\n",
            "\u001b[32m[I 2021-12-03 18:07:08,442]\u001b[0m Trial 97 finished with value: 0.7401953674522078 and parameters: {'svc_kernel': 'poly', 'svc_C': 16.435583059668907, 'svc_gamma': 0.09963147051844126, 'threshold': 0.03411799885079681, 'n_components': 30}. Best is trial 11 with value: 0.7507009345794392.\u001b[0m\n",
            "\u001b[32m[I 2021-12-03 18:07:12,902]\u001b[0m Trial 98 finished with value: 0.7464988713072117 and parameters: {'svc_kernel': 'poly', 'svc_C': 11.2559263415658, 'svc_gamma': 0.07552861170995101, 'threshold': 0.000988515159510043, 'n_components': 65}. Best is trial 11 with value: 0.7507009345794392.\u001b[0m\n",
            "\u001b[32m[I 2021-12-03 18:07:20,109]\u001b[0m Trial 99 finished with value: 0.7317939672188356 and parameters: {'svc_kernel': 'poly', 'svc_C': 25.417269331203585, 'svc_gamma': 0.11242717867499251, 'threshold': 0.0038635815143806813, 'n_components': 33}. Best is trial 11 with value: 0.7507009345794392.\u001b[0m\n"
          ]
        }
      ]
    },
    {
      "cell_type": "markdown",
      "metadata": {
        "id": "6T74_mSBlp_X"
      },
      "source": [
        "Παρατηρούμε ότι το μέγιστο accuracy για kernel = poly είναι 0.75% και επιτυγχάνεται για:\n",
        "\n",
        "* kernel = poly \n",
        "* C = 32.07011127899824\n",
        "* gamma = 0.059907431357584716\n",
        "* threshold =  0.030847488210037046\n",
        "* n_components(PCA) = 23\n"
      ]
    },
    {
      "cell_type": "markdown",
      "metadata": {
        "id": "3orwkzCCmSVW"
      },
      "source": [
        "Για το f1-score έχουμε:"
      ]
    },
    {
      "cell_type": "code",
      "metadata": {
        "colab": {
          "base_uri": "https://localhost:8080/"
        },
        "id": "owePf9-VmWt_",
        "outputId": "6994bb35-a57a-4693-ea6a-13e26972e8b0"
      },
      "source": [
        "import optuna\n",
        "from sklearn.svm import SVC\n",
        "from sklearn.model_selection import cross_val_score\n",
        "\n",
        "from sklearn.pipeline import Pipeline\n",
        "from sklearn import preprocessing\n",
        "from sklearn.feature_selection import VarianceThreshold\n",
        "\n",
        "def objective(trial):\n",
        "\n",
        "    \n",
        "    svc_kernel = trial.suggest_categorical('svc_kernel',['poly'])\n",
        "    svc_C = trial.suggest_float('svc_C',1.0,100.0)\n",
        "\n",
        "    svc_gamma = trial.suggest_float('svc_gamma',0,0.2)\n",
        "\n",
        "    threshold = trial.suggest_float('threshold', 0, 0.05)\n",
        "    \n",
        "    p = Pipeline(steps = [('minmax_scaler', preprocessing.MinMaxScaler()), ('selector', VarianceThreshold(threshold))])\n",
        "    upper_bound = p.fit_transform(X_train_small).shape[1]\n",
        "\n",
        "  \n",
        "    n_components = trial.suggest_int('n_components',min(upper_bound,5), upper_bound)\n",
        "\n",
        "    svm = SVC(kernel = svc_kernel,gamma = svc_gamma , C = svc_C )\n",
        "\n",
        "    clf = Pipeline(steps = [('minmax_scaler', preprocessing.MinMaxScaler()) , ('svm', svm)])\n",
        "  \n",
        "\n",
        "    return np.mean(cross_val_score(clf, X_train_small, y_train_small, cv = 5, scoring = 'f1'))\n",
        "\n",
        "study = optuna.create_study(direction = 'maximize')\n",
        "study.optimize(objective, n_trials = 100)"
      ],
      "execution_count": null,
      "outputs": [
        {
          "output_type": "stream",
          "name": "stderr",
          "text": [
            "\u001b[32m[I 2021-12-03 18:58:27,297]\u001b[0m A new study created in memory with name: no-name-b50d91d1-5677-44de-9f14-86fbc4715cf9\u001b[0m\n",
            "\u001b[32m[I 2021-12-03 18:58:37,172]\u001b[0m Trial 0 finished with value: 0.7177462825628717 and parameters: {'svc_kernel': 'poly', 'svc_C': 91.07602222066039, 'svc_gamma': 0.0960001907355015, 'threshold': 0.03895824240200638, 'n_components': 10}. Best is trial 0 with value: 0.7177462825628717.\u001b[0m\n",
            "\u001b[32m[I 2021-12-03 18:58:48,559]\u001b[0m Trial 1 finished with value: 0.7146397391768844 and parameters: {'svc_kernel': 'poly', 'svc_C': 46.80180230893825, 'svc_gamma': 0.13821620206728172, 'threshold': 0.016389338013659084, 'n_components': 24}. Best is trial 0 with value: 0.7177462825628717.\u001b[0m\n",
            "\u001b[32m[I 2021-12-03 18:59:02,613]\u001b[0m Trial 2 finished with value: 0.7116300917703088 and parameters: {'svc_kernel': 'poly', 'svc_C': 56.3831942989423, 'svc_gamma': 0.16569845995311908, 'threshold': 0.040102711248787615, 'n_components': 15}. Best is trial 0 with value: 0.7177462825628717.\u001b[0m\n",
            "\u001b[32m[I 2021-12-03 18:59:08,147]\u001b[0m Trial 3 finished with value: 0.7394190689797262 and parameters: {'svc_kernel': 'poly', 'svc_C': 58.201400305535365, 'svc_gamma': 0.06400345513029937, 'threshold': 0.04924382929269944, 'n_components': 12}. Best is trial 3 with value: 0.7394190689797262.\u001b[0m\n",
            "\u001b[32m[I 2021-12-03 18:59:18,958]\u001b[0m Trial 4 finished with value: 0.7148720273527658 and parameters: {'svc_kernel': 'poly', 'svc_C': 64.60833171931353, 'svc_gamma': 0.11953248112261894, 'threshold': 0.04328355869772782, 'n_components': 8}. Best is trial 3 with value: 0.7394190689797262.\u001b[0m\n",
            "\u001b[32m[I 2021-12-03 18:59:23,326]\u001b[0m Trial 5 finished with value: 0.7455120225875581 and parameters: {'svc_kernel': 'poly', 'svc_C': 46.74961767575318, 'svc_gamma': 0.04452850513056899, 'threshold': 0.030516068364245492, 'n_components': 10}. Best is trial 5 with value: 0.7455120225875581.\u001b[0m\n",
            "\u001b[32m[I 2021-12-03 18:59:27,241]\u001b[0m Trial 6 finished with value: 0.7341324189974487 and parameters: {'svc_kernel': 'poly', 'svc_C': 6.948535867965987, 'svc_gamma': 0.04598413960046577, 'threshold': 0.0007775844915036579, 'n_components': 16}. Best is trial 5 with value: 0.7455120225875581.\u001b[0m\n",
            "\u001b[32m[I 2021-12-03 18:59:38,474]\u001b[0m Trial 7 finished with value: 0.7143604907172098 and parameters: {'svc_kernel': 'poly', 'svc_C': 26.502567820923442, 'svc_gamma': 0.16406226203439025, 'threshold': 0.03805243654494091, 'n_components': 5}. Best is trial 5 with value: 0.7455120225875581.\u001b[0m\n",
            "\u001b[32m[I 2021-12-03 18:59:44,065]\u001b[0m Trial 8 finished with value: 0.7383405048615798 and parameters: {'svc_kernel': 'poly', 'svc_C': 71.56368545920715, 'svc_gamma': 0.06195772789092398, 'threshold': 0.035599017323797735, 'n_components': 5}. Best is trial 5 with value: 0.7455120225875581.\u001b[0m\n",
            "\u001b[32m[I 2021-12-03 18:59:56,449]\u001b[0m Trial 9 finished with value: 0.7146787781178062 and parameters: {'svc_kernel': 'poly', 'svc_C': 99.07890352122243, 'svc_gamma': 0.11630296408267381, 'threshold': 0.021094237963888797, 'n_components': 17}. Best is trial 5 with value: 0.7455120225875581.\u001b[0m\n",
            "\u001b[32m[I 2021-12-03 19:00:00,444]\u001b[0m Trial 10 finished with value: 0.7300201234557677 and parameters: {'svc_kernel': 'poly', 'svc_C': 32.80750352548797, 'svc_gamma': 0.026103678919346937, 'threshold': 0.026135067879982276, 'n_components': 33}. Best is trial 5 with value: 0.7455120225875581.\u001b[0m\n",
            "\u001b[32m[I 2021-12-03 19:00:05,010]\u001b[0m Trial 11 finished with value: 0.692710002536867 and parameters: {'svc_kernel': 'poly', 'svc_C': 37.48531510037661, 'svc_gamma': 0.011953390734570898, 'threshold': 0.04823081358198435, 'n_components': 11}. Best is trial 5 with value: 0.7455120225875581.\u001b[0m\n",
            "\u001b[32m[I 2021-12-03 19:00:11,648]\u001b[0m Trial 12 finished with value: 0.7314325122850479 and parameters: {'svc_kernel': 'poly', 'svc_C': 74.61252969430471, 'svc_gamma': 0.07193748194523637, 'threshold': 0.029240617040215838, 'n_components': 26}. Best is trial 5 with value: 0.7455120225875581.\u001b[0m\n",
            "\u001b[32m[I 2021-12-03 19:00:16,393]\u001b[0m Trial 13 finished with value: 0.7482887887112133 and parameters: {'svc_kernel': 'poly', 'svc_C': 15.23169722059193, 'svc_gamma': 0.08098917382181241, 'threshold': 0.013647710889962519, 'n_components': 42}. Best is trial 13 with value: 0.7482887887112133.\u001b[0m\n",
            "\u001b[32m[I 2021-12-03 19:00:20,352]\u001b[0m Trial 14 finished with value: 0.744548055878942 and parameters: {'svc_kernel': 'poly', 'svc_C': 2.6169026728664164, 'svc_gamma': 0.08599851349833215, 'threshold': 0.010730154228909612, 'n_components': 45}. Best is trial 13 with value: 0.7482887887112133.\u001b[0m\n",
            "\u001b[32m[I 2021-12-03 19:00:24,293]\u001b[0m Trial 15 finished with value: 0.7331451367313553 and parameters: {'svc_kernel': 'poly', 'svc_C': 21.013571333863723, 'svc_gamma': 0.030885139658591403, 'threshold': 0.00986420729609448, 'n_components': 52}. Best is trial 13 with value: 0.7482887887112133.\u001b[0m\n",
            "\u001b[32m[I 2021-12-03 19:00:34,673]\u001b[0m Trial 16 finished with value: 0.7195669215608524 and parameters: {'svc_kernel': 'poly', 'svc_C': 12.178074652037708, 'svc_gamma': 0.19746639784292677, 'threshold': 0.030971553445845727, 'n_components': 23}. Best is trial 13 with value: 0.7482887887112133.\u001b[0m\n",
            "\u001b[32m[I 2021-12-03 19:00:40,427]\u001b[0m Trial 17 finished with value: 0.28169180673108246 and parameters: {'svc_kernel': 'poly', 'svc_C': 46.48746798026147, 'svc_gamma': 0.004149634037842409, 'threshold': 0.01861514869232684, 'n_components': 33}. Best is trial 13 with value: 0.7482887887112133.\u001b[0m\n",
            "\u001b[32m[I 2021-12-03 19:00:44,477]\u001b[0m Trial 18 finished with value: 0.7467283463568911 and parameters: {'svc_kernel': 'poly', 'svc_C': 17.547861494977568, 'svc_gamma': 0.04792609442149141, 'threshold': 0.0008017837209034553, 'n_components': 76}. Best is trial 13 with value: 0.7482887887112133.\u001b[0m\n",
            "\u001b[32m[I 2021-12-03 19:00:49,214]\u001b[0m Trial 19 finished with value: 0.7502250687879111 and parameters: {'svc_kernel': 'poly', 'svc_C': 16.22814785726876, 'svc_gamma': 0.076408295714558, 'threshold': 0.001040216686916607, 'n_components': 77}. Best is trial 19 with value: 0.7502250687879111.\u001b[0m\n",
            "\u001b[32m[I 2021-12-03 19:00:57,386]\u001b[0m Trial 20 finished with value: 0.7227975542831815 and parameters: {'svc_kernel': 'poly', 'svc_C': 33.72428856826601, 'svc_gamma': 0.1142989761721377, 'threshold': 0.007149815920200696, 'n_components': 59}. Best is trial 19 with value: 0.7502250687879111.\u001b[0m\n",
            "\u001b[32m[I 2021-12-03 19:01:02,229]\u001b[0m Trial 21 finished with value: 0.7484919046852518 and parameters: {'svc_kernel': 'poly', 'svc_C': 16.40724347109512, 'svc_gamma': 0.0800051626448582, 'threshold': 0.0017395974609177528, 'n_components': 80}. Best is trial 19 with value: 0.7502250687879111.\u001b[0m\n",
            "\u001b[32m[I 2021-12-03 19:01:07,318]\u001b[0m Trial 22 finished with value: 0.7443578906498035 and parameters: {'svc_kernel': 'poly', 'svc_C': 15.483431111630757, 'svc_gamma': 0.0889207671572098, 'threshold': 0.0051980556613661424, 'n_components': 63}. Best is trial 19 with value: 0.7502250687879111.\u001b[0m\n",
            "\u001b[32m[I 2021-12-03 19:01:12,469]\u001b[0m Trial 23 finished with value: 0.7438547347402448 and parameters: {'svc_kernel': 'poly', 'svc_C': 24.084349921898735, 'svc_gamma': 0.07865162108189669, 'threshold': 0.014662842059682794, 'n_components': 46}. Best is trial 19 with value: 0.7502250687879111.\u001b[0m\n",
            "\u001b[32m[I 2021-12-03 19:01:17,331]\u001b[0m Trial 24 finished with value: 0.7476253225263485 and parameters: {'svc_kernel': 'poly', 'svc_C': 7.857208226502468, 'svc_gamma': 0.1044374313367589, 'threshold': 0.005300779943498379, 'n_components': 63}. Best is trial 19 with value: 0.7502250687879111.\u001b[0m\n",
            "\u001b[32m[I 2021-12-03 19:01:26,096]\u001b[0m Trial 25 finished with value: 0.7242338068605608 and parameters: {'svc_kernel': 'poly', 'svc_C': 26.02928071546321, 'svc_gamma': 0.13200727942024493, 'threshold': 0.0125991053559655, 'n_components': 34}. Best is trial 19 with value: 0.7502250687879111.\u001b[0m\n",
            "\u001b[32m[I 2021-12-03 19:01:30,235]\u001b[0m Trial 26 finished with value: 0.7478195342756129 and parameters: {'svc_kernel': 'poly', 'svc_C': 13.141907364025728, 'svc_gamma': 0.06049790342307542, 'threshold': 0.0027411362306406437, 'n_components': 71}. Best is trial 19 with value: 0.7502250687879111.\u001b[0m\n",
            "\u001b[32m[I 2021-12-03 19:01:34,171]\u001b[0m Trial 27 finished with value: 0.7423398026655957 and parameters: {'svc_kernel': 'poly', 'svc_C': 1.65175427565004, 'svc_gamma': 0.09804755923622718, 'threshold': 0.021750276663117116, 'n_components': 38}. Best is trial 19 with value: 0.7502250687879111.\u001b[0m\n",
            "\u001b[32m[I 2021-12-03 19:01:39,868]\u001b[0m Trial 28 finished with value: 0.7367957939172614 and parameters: {'svc_kernel': 'poly', 'svc_C': 35.668824798975145, 'svc_gamma': 0.07967017625097837, 'threshold': 0.006698537977583373, 'n_components': 56}. Best is trial 19 with value: 0.7502250687879111.\u001b[0m\n",
            "\u001b[32m[I 2021-12-03 19:01:49,502]\u001b[0m Trial 29 finished with value: 0.716847891041209 and parameters: {'svc_kernel': 'poly', 'svc_C': 82.7616467302343, 'svc_gamma': 0.0987155241153568, 'threshold': 0.009425521478472722, 'n_components': 42}. Best is trial 19 with value: 0.7502250687879111.\u001b[0m\n",
            "\u001b[32m[I 2021-12-03 19:01:59,409]\u001b[0m Trial 30 finished with value: 0.7184604531112214 and parameters: {'svc_kernel': 'poly', 'svc_C': 29.39855385737578, 'svc_gamma': 0.1416717675339468, 'threshold': 0.0035199542615579195, 'n_components': 61}. Best is trial 19 with value: 0.7502250687879111.\u001b[0m\n",
            "\u001b[32m[I 2021-12-03 19:02:03,484]\u001b[0m Trial 31 finished with value: 0.7466482910628505 and parameters: {'svc_kernel': 'poly', 'svc_C': 11.377551702774714, 'svc_gamma': 0.05883016686856533, 'threshold': 0.0009669723552152057, 'n_components': 82}. Best is trial 19 with value: 0.7502250687879111.\u001b[0m\n",
            "\u001b[32m[I 2021-12-03 19:02:08,149]\u001b[0m Trial 32 finished with value: 0.7504182964582014 and parameters: {'svc_kernel': 'poly', 'svc_C': 18.70760840151217, 'svc_gamma': 0.07065036202107712, 'threshold': 0.0034478961592615495, 'n_components': 65}. Best is trial 32 with value: 0.7504182964582014.\u001b[0m\n",
            "\u001b[32m[I 2021-12-03 19:02:12,949]\u001b[0m Trial 33 finished with value: 0.7485149907974695 and parameters: {'svc_kernel': 'poly', 'svc_C': 20.852883802663243, 'svc_gamma': 0.07262826609523122, 'threshold': 0.015195622111583892, 'n_components': 46}. Best is trial 32 with value: 0.7504182964582014.\u001b[0m\n",
            "\u001b[32m[I 2021-12-03 19:02:16,926]\u001b[0m Trial 34 finished with value: 0.7346143773490341 and parameters: {'svc_kernel': 'poly', 'svc_C': 20.148224413048794, 'svc_gamma': 0.03227053813684651, 'threshold': 0.0177337750729228, 'n_components': 43}. Best is trial 32 with value: 0.7504182964582014.\u001b[0m\n",
            "\u001b[32m[I 2021-12-03 19:02:22,409]\u001b[0m Trial 35 finished with value: 0.7395985417769244 and parameters: {'svc_kernel': 'poly', 'svc_C': 42.172186749148636, 'svc_gamma': 0.0715782807603235, 'threshold': 0.00698449380110073, 'n_components': 52}. Best is trial 32 with value: 0.7504182964582014.\u001b[0m\n",
            "\u001b[32m[I 2021-12-03 19:02:27,302]\u001b[0m Trial 36 finished with value: 0.7481989604867494 and parameters: {'svc_kernel': 'poly', 'svc_C': 57.020824222118904, 'svc_gamma': 0.053046602250057376, 'threshold': 0.003732440515217652, 'n_components': 57}. Best is trial 32 with value: 0.7504182964582014.\u001b[0m\n",
            "\u001b[32m[I 2021-12-03 19:02:31,384]\u001b[0m Trial 37 finished with value: 0.7481827459773 and parameters: {'svc_kernel': 'poly', 'svc_C': 7.587778194137112, 'svc_gamma': 0.069259165111758, 'threshold': 0.008908231321714585, 'n_components': 50}. Best is trial 32 with value: 0.7504182964582014.\u001b[0m\n",
            "\u001b[32m[I 2021-12-03 19:02:37,919]\u001b[0m Trial 38 finished with value: 0.7339183176189887 and parameters: {'svc_kernel': 'poly', 'svc_C': 21.81202643689603, 'svc_gamma': 0.10690857245242696, 'threshold': 0.0006727115319510332, 'n_components': 70}. Best is trial 32 with value: 0.7504182964582014.\u001b[0m\n",
            "\u001b[32m[I 2021-12-03 19:02:44,034]\u001b[0m Trial 39 finished with value: 0.7359095128941753 and parameters: {'svc_kernel': 'poly', 'svc_C': 28.970591085915313, 'svc_gamma': 0.09198517747639479, 'threshold': 0.011524086238751955, 'n_components': 39}. Best is trial 32 with value: 0.7504182964582014.\u001b[0m\n",
            "\u001b[32m[I 2021-12-03 19:02:48,089]\u001b[0m Trial 40 finished with value: 0.7479115316354832 and parameters: {'svc_kernel': 'poly', 'svc_C': 40.20441178614355, 'svc_gamma': 0.03925807240903892, 'threshold': 0.015441970043186076, 'n_components': 44}. Best is trial 32 with value: 0.7504182964582014.\u001b[0m\n",
            "\u001b[32m[I 2021-12-03 19:02:53,020]\u001b[0m Trial 41 finished with value: 0.7481624959188926 and parameters: {'svc_kernel': 'poly', 'svc_C': 17.582975953842485, 'svc_gamma': 0.08108265572967939, 'threshold': 0.0130956228912468, 'n_components': 47}. Best is trial 32 with value: 0.7504182964582014.\u001b[0m\n",
            "\u001b[32m[I 2021-12-03 19:02:57,050]\u001b[0m Trial 42 finished with value: 0.7469239797496161 and parameters: {'svc_kernel': 'poly', 'svc_C': 7.203673332713663, 'svc_gamma': 0.06674885899421333, 'threshold': 0.0224774997840812, 'n_components': 31}. Best is trial 32 with value: 0.7504182964582014.\u001b[0m\n",
            "\u001b[32m[I 2021-12-03 19:03:01,078]\u001b[0m Trial 43 finished with value: 0.7483647109050275 and parameters: {'svc_kernel': 'poly', 'svc_C': 15.961622332564575, 'svc_gamma': 0.05377405758730689, 'threshold': 0.0028924223912321287, 'n_components': 66}. Best is trial 32 with value: 0.7504182964582014.\u001b[0m\n",
            "\u001b[32m[I 2021-12-03 19:03:05,113]\u001b[0m Trial 44 finished with value: 0.7234700699112417 and parameters: {'svc_kernel': 'poly', 'svc_C': 28.759254807424533, 'svc_gamma': 0.020293095443899407, 'threshold': 0.003092395939781484, 'n_components': 65}. Best is trial 32 with value: 0.7504182964582014.\u001b[0m\n",
            "\u001b[32m[I 2021-12-03 19:03:09,103]\u001b[0m Trial 45 finished with value: 0.7431032256782955 and parameters: {'svc_kernel': 'poly', 'svc_C': 10.476655469449286, 'svc_gamma': 0.05330874524251285, 'threshold': 0.0075669772297971075, 'n_components': 54}. Best is trial 32 with value: 0.7504182964582014.\u001b[0m\n",
            "\u001b[32m[I 2021-12-03 19:03:15,038]\u001b[0m Trial 46 finished with value: 0.7354408106227464 and parameters: {'svc_kernel': 'poly', 'svc_C': 51.837240589851106, 'svc_gamma': 0.07362538626662674, 'threshold': 0.004864221380717896, 'n_components': 59}. Best is trial 32 with value: 0.7504182964582014.\u001b[0m\n",
            "\u001b[32m[I 2021-12-03 19:03:19,303]\u001b[0m Trial 47 finished with value: 0.7466939193757121 and parameters: {'svc_kernel': 'poly', 'svc_C': 63.92009086207425, 'svc_gamma': 0.03767877965517749, 'threshold': 0.0022609040874015038, 'n_components': 68}. Best is trial 32 with value: 0.7504182964582014.\u001b[0m\n",
            "\u001b[32m[I 2021-12-03 19:03:23,230]\u001b[0m Trial 48 finished with value: 0.7351124430599716 and parameters: {'svc_kernel': 'poly', 'svc_C': 3.9885027130766133, 'svc_gamma': 0.055589802947169135, 'threshold': 0.0003742034894731834, 'n_components': 88}. Best is trial 32 with value: 0.7504182964582014.\u001b[0m\n",
            "\u001b[32m[I 2021-12-03 19:03:27,143]\u001b[0m Trial 49 finished with value: 0.7438188748518533 and parameters: {'svc_kernel': 'poly', 'svc_C': 19.87573532560646, 'svc_gamma': 0.04415036258484481, 'threshold': 0.008361234668846439, 'n_components': 50}. Best is trial 32 with value: 0.7504182964582014.\u001b[0m\n",
            "\u001b[32m[I 2021-12-03 19:03:34,045]\u001b[0m Trial 50 finished with value: 0.7271278924316421 and parameters: {'svc_kernel': 'poly', 'svc_C': 15.30120062763529, 'svc_gamma': 0.12959049958194566, 'threshold': 0.025727859645120702, 'n_components': 34}. Best is trial 32 with value: 0.7504182964582014.\u001b[0m\n",
            "\u001b[32m[I 2021-12-03 19:03:39,490]\u001b[0m Trial 51 finished with value: 0.7415335759923167 and parameters: {'svc_kernel': 'poly', 'svc_C': 22.981306749798822, 'svc_gamma': 0.08568977719486895, 'threshold': 0.0051975364200769186, 'n_components': 38}. Best is trial 32 with value: 0.7504182964582014.\u001b[0m\n",
            "\u001b[32m[I 2021-12-03 19:03:43,854]\u001b[0m Trial 52 finished with value: 0.747015056144812 and parameters: {'svc_kernel': 'poly', 'svc_C': 16.227795626185195, 'svc_gamma': 0.06481348176953261, 'threshold': 0.013766348820781663, 'n_components': 45}. Best is trial 32 with value: 0.7504182964582014.\u001b[0m\n",
            "\u001b[32m[I 2021-12-03 19:03:50,161]\u001b[0m Trial 53 finished with value: 0.734863111540659 and parameters: {'svc_kernel': 'poly', 'svc_C': 30.915352610304048, 'svc_gamma': 0.09453759084073339, 'threshold': 0.033492626965834674, 'n_components': 31}. Best is trial 32 with value: 0.7504182964582014.\u001b[0m\n",
            "\u001b[32m[I 2021-12-03 19:03:54,628]\u001b[0m Trial 54 finished with value: 0.7465484880595995 and parameters: {'svc_kernel': 'poly', 'svc_C': 10.75535028268595, 'svc_gamma': 0.07626300067668028, 'threshold': 0.019849614622274265, 'n_components': 41}. Best is trial 32 with value: 0.7504182964582014.\u001b[0m\n",
            "\u001b[32m[I 2021-12-03 19:04:00,180]\u001b[0m Trial 55 finished with value: 0.7390120473234038 and parameters: {'svc_kernel': 'poly', 'svc_C': 24.522465010318935, 'svc_gamma': 0.08629222374672427, 'threshold': 0.011133019825371411, 'n_components': 48}. Best is trial 32 with value: 0.7504182964582014.\u001b[0m\n",
            "\u001b[32m[I 2021-12-03 19:04:04,182]\u001b[0m Trial 56 finished with value: 0.746442899912332 and parameters: {'svc_kernel': 'poly', 'svc_C': 18.639902517995008, 'svc_gamma': 0.04695929791622454, 'threshold': 0.02358110729816179, 'n_components': 36}. Best is trial 32 with value: 0.7504182964582014.\u001b[0m\n",
            "\u001b[32m[I 2021-12-03 19:04:09,846]\u001b[0m Trial 57 finished with value: 0.7386766196541222 and parameters: {'svc_kernel': 'poly', 'svc_C': 13.658953395680935, 'svc_gamma': 0.10717662834214392, 'threshold': 0.016592455497038246, 'n_components': 42}. Best is trial 32 with value: 0.7504182964582014.\u001b[0m\n",
            "\u001b[32m[I 2021-12-03 19:04:14,522]\u001b[0m Trial 58 finished with value: 0.7502383770530138 and parameters: {'svc_kernel': 'poly', 'svc_C': 26.206008567783712, 'svc_gamma': 0.06303628110609444, 'threshold': 0.042827051640876634, 'n_components': 30}. Best is trial 32 with value: 0.7504182964582014.\u001b[0m\n",
            "\u001b[32m[I 2021-12-03 19:04:19,088]\u001b[0m Trial 59 finished with value: 0.7485927320855372 and parameters: {'svc_kernel': 'poly', 'svc_C': 26.292167290662622, 'svc_gamma': 0.060474172914507865, 'threshold': 0.043721195134631005, 'n_components': 30}. Best is trial 32 with value: 0.7504182964582014.\u001b[0m\n",
            "\u001b[32m[I 2021-12-03 19:04:23,877]\u001b[0m Trial 60 finished with value: 0.7482684995199691 and parameters: {'svc_kernel': 'poly', 'svc_C': 33.389018245126344, 'svc_gamma': 0.06301151451649942, 'threshold': 0.03660720536367923, 'n_components': 31}. Best is trial 32 with value: 0.7504182964582014.\u001b[0m\n",
            "\u001b[32m[I 2021-12-03 19:04:28,150]\u001b[0m Trial 61 finished with value: 0.7462624069264696 and parameters: {'svc_kernel': 'poly', 'svc_C': 26.001199919618312, 'svc_gamma': 0.05147937333956576, 'threshold': 0.042019489100502766, 'n_components': 30}. Best is trial 32 with value: 0.7504182964582014.\u001b[0m\n",
            "\u001b[32m[I 2021-12-03 19:04:32,074]\u001b[0m Trial 62 finished with value: 0.7441294265513179 and parameters: {'svc_kernel': 'poly', 'svc_C': 4.726958959055924, 'svc_gamma': 0.06978798462233454, 'threshold': 0.04992449485291827, 'n_components': 30}. Best is trial 32 with value: 0.7504182964582014.\u001b[0m\n",
            "\u001b[32m[I 2021-12-03 19:04:36,552]\u001b[0m Trial 63 finished with value: 0.7473199488955004 and parameters: {'svc_kernel': 'poly', 'svc_C': 22.632736875654786, 'svc_gamma': 0.06004198196235133, 'threshold': 0.04571016707379037, 'n_components': 30}. Best is trial 32 with value: 0.7504182964582014.\u001b[0m\n",
            "\u001b[32m[I 2021-12-03 19:04:42,543]\u001b[0m Trial 64 finished with value: 0.7364933768414733 and parameters: {'svc_kernel': 'poly', 'svc_C': 39.14327153641884, 'svc_gamma': 0.08147541533201932, 'threshold': 0.039723590110191304, 'n_components': 31}. Best is trial 32 with value: 0.7504182964582014.\u001b[0m\n",
            "\u001b[32m[I 2021-12-03 19:04:47,562]\u001b[0m Trial 65 finished with value: 0.7449368628935089 and parameters: {'svc_kernel': 'poly', 'svc_C': 25.990323561679354, 'svc_gamma': 0.07505173222820367, 'threshold': 0.04320977949672181, 'n_components': 30}. Best is trial 32 with value: 0.7504182964582014.\u001b[0m\n",
            "\u001b[32m[I 2021-12-03 19:05:02,279]\u001b[0m Trial 66 finished with value: 0.7060298949656408 and parameters: {'svc_kernel': 'poly', 'svc_C': 43.31278487168191, 'svc_gamma': 0.1971202032035163, 'threshold': 0.040948303928973716, 'n_components': 29}. Best is trial 32 with value: 0.7504182964582014.\u001b[0m\n",
            "\u001b[32m[I 2021-12-03 19:05:06,185]\u001b[0m Trial 67 finished with value: 0.7355671013288115 and parameters: {'svc_kernel': 'poly', 'svc_C': 10.309475711345396, 'svc_gamma': 0.04125348229457135, 'threshold': 0.04730010385050478, 'n_components': 29}. Best is trial 32 with value: 0.7504182964582014.\u001b[0m\n",
            "\u001b[32m[I 2021-12-03 19:05:11,045]\u001b[0m Trial 68 finished with value: 0.7458621995029681 and parameters: {'svc_kernel': 'poly', 'svc_C': 36.371640017310305, 'svc_gamma': 0.06447642432608348, 'threshold': 0.04543689665156019, 'n_components': 29}. Best is trial 32 with value: 0.7504182964582014.\u001b[0m\n",
            "\u001b[32m[I 2021-12-03 19:05:14,976]\u001b[0m Trial 69 finished with value: 0.7306065904644938 and parameters: {'svc_kernel': 'poly', 'svc_C': 19.163292139736964, 'svc_gamma': 0.031461706059097004, 'threshold': 0.027392961994607362, 'n_components': 33}. Best is trial 32 with value: 0.7504182964582014.\u001b[0m\n",
            "\u001b[32m[I 2021-12-03 19:05:19,340]\u001b[0m Trial 70 finished with value: 0.7042918162751496 and parameters: {'svc_kernel': 'poly', 'svc_C': 13.463885618664953, 'svc_gamma': 0.019415627904517757, 'threshold': 0.001756697797896816, 'n_components': 75}. Best is trial 32 with value: 0.7504182964582014.\u001b[0m\n",
            "\u001b[32m[I 2021-12-03 19:05:24,529]\u001b[0m Trial 71 finished with value: 0.7430003056541353 and parameters: {'svc_kernel': 'poly', 'svc_C': 15.749714872105823, 'svc_gamma': 0.09134976653821489, 'threshold': 0.005983638745686113, 'n_components': 23}. Best is trial 32 with value: 0.7504182964582014.\u001b[0m\n",
            "\u001b[32m[I 2021-12-03 19:05:30,028]\u001b[0m Trial 72 finished with value: 0.7383861338646979 and parameters: {'svc_kernel': 'poly', 'svc_C': 27.63149654320551, 'svc_gamma': 0.08408532851955833, 'threshold': 0.004097688656529227, 'n_components': 20}. Best is trial 32 with value: 0.7504182964582014.\u001b[0m\n",
            "\u001b[32m[I 2021-12-03 19:05:34,392]\u001b[0m Trial 73 finished with value: 0.7473338762528459 and parameters: {'svc_kernel': 'poly', 'svc_C': 21.32083517762659, 'svc_gamma': 0.0586188316850923, 'threshold': 0.002087189620568605, 'n_components': 74}. Best is trial 32 with value: 0.7504182964582014.\u001b[0m\n",
            "\u001b[32m[I 2021-12-03 19:05:39,333]\u001b[0m Trial 74 finished with value: 0.7476794041314531 and parameters: {'svc_kernel': 'poly', 'svc_C': 8.774980613907395, 'svc_gamma': 0.10146268258467431, 'threshold': 0.033464329816119756, 'n_components': 32}. Best is trial 32 with value: 0.7504182964582014.\u001b[0m\n",
            "\u001b[32m[I 2021-12-03 19:05:43,369]\u001b[0m Trial 75 finished with value: 0.7474261674640945 and parameters: {'svc_kernel': 'poly', 'svc_C': 4.964224051844688, 'svc_gamma': 0.07678397806753344, 'threshold': 0.00018766448103609695, 'n_components': 88}. Best is trial 32 with value: 0.7504182964582014.\u001b[0m\n",
            "\u001b[32m[I 2021-12-03 19:05:47,395]\u001b[0m Trial 76 finished with value: 0.7468919193974373 and parameters: {'svc_kernel': 'poly', 'svc_C': 17.3032307696908, 'svc_gamma': 0.05016783047734705, 'threshold': 0.038594720211041135, 'n_components': 31}. Best is trial 32 with value: 0.7504182964582014.\u001b[0m\n",
            "\u001b[32m[I 2021-12-03 19:05:52,468]\u001b[0m Trial 77 finished with value: 0.7450129721053396 and parameters: {'svc_kernel': 'poly', 'svc_C': 31.651661773565223, 'svc_gamma': 0.06964933627660747, 'threshold': 0.00985187083013099, 'n_components': 52}. Best is trial 32 with value: 0.7504182964582014.\u001b[0m\n",
            "\u001b[32m[I 2021-12-03 19:05:56,543]\u001b[0m Trial 78 finished with value: 0.7477371016178159 and parameters: {'svc_kernel': 'poly', 'svc_C': 13.461830870569159, 'svc_gamma': 0.056572105811980605, 'threshold': 0.004115159690027425, 'n_components': 61}. Best is trial 32 with value: 0.7504182964582014.\u001b[0m\n",
            "\u001b[32m[I 2021-12-03 19:06:01,661]\u001b[0m Trial 79 finished with value: 0.7419576787585253 and parameters: {'svc_kernel': 'poly', 'svc_C': 24.082319750667295, 'svc_gamma': 0.07972475326469634, 'threshold': 0.006533209823285797, 'n_components': 61}. Best is trial 32 with value: 0.7504182964582014.\u001b[0m\n",
            "\u001b[32m[I 2021-12-03 19:06:08,396]\u001b[0m Trial 80 finished with value: 0.7297429287185132 and parameters: {'svc_kernel': 'poly', 'svc_C': 99.58480388076364, 'svc_gamma': 0.06751954831027482, 'threshold': 0.01902610192868919, 'n_components': 41}. Best is trial 32 with value: 0.7504182964582014.\u001b[0m\n",
            "\u001b[32m[I 2021-12-03 19:06:13,154]\u001b[0m Trial 81 finished with value: 0.7477612924630089 and parameters: {'svc_kernel': 'poly', 'svc_C': 34.11359692362381, 'svc_gamma': 0.06173411531508316, 'threshold': 0.037348187126802976, 'n_components': 31}. Best is trial 32 with value: 0.7504182964582014.\u001b[0m\n",
            "\u001b[32m[I 2021-12-03 19:06:17,939]\u001b[0m Trial 82 finished with value: 0.7481143048019013 and parameters: {'svc_kernel': 'poly', 'svc_C': 21.234815289728253, 'svc_gamma': 0.07233865880408856, 'threshold': 0.04437370747140856, 'n_components': 29}. Best is trial 32 with value: 0.7504182964582014.\u001b[0m\n",
            "\u001b[32m[I 2021-12-03 19:06:26,850]\u001b[0m Trial 83 finished with value: 0.7224990300737024 and parameters: {'svc_kernel': 'poly', 'svc_C': 93.77912967048813, 'svc_gamma': 0.08789746705476109, 'threshold': 0.04746892893304778, 'n_components': 30}. Best is trial 32 with value: 0.7504182964582014.\u001b[0m\n",
            "\u001b[32m[I 2021-12-03 19:06:31,215]\u001b[0m Trial 84 finished with value: 0.7471409663579734 and parameters: {'svc_kernel': 'poly', 'svc_C': 18.787107160964844, 'svc_gamma': 0.06215894747634103, 'threshold': 0.03708539753708908, 'n_components': 32}. Best is trial 32 with value: 0.7504182964582014.\u001b[0m\n",
            "\u001b[32m[I 2021-12-03 19:06:37,504]\u001b[0m Trial 85 finished with value: 0.7334256089229847 and parameters: {'svc_kernel': 'poly', 'svc_C': 28.077468275999376, 'svc_gamma': 0.09564436499647815, 'threshold': 0.02823320335542368, 'n_components': 32}. Best is trial 32 with value: 0.7504182964582014.\u001b[0m\n",
            "\u001b[32m[I 2021-12-03 19:06:41,534]\u001b[0m Trial 86 finished with value: 0.7477371016178159 and parameters: {'svc_kernel': 'poly', 'svc_C': 14.528839187874585, 'svc_gamma': 0.054987140960824625, 'threshold': 0.035806133811361655, 'n_components': 31}. Best is trial 32 with value: 0.7504182964582014.\u001b[0m\n",
            "\u001b[32m[I 2021-12-03 19:06:45,442]\u001b[0m Trial 87 finished with value: 0.7428148581759352 and parameters: {'svc_kernel': 'poly', 'svc_C': 31.11965969052821, 'svc_gamma': 0.03676622511185158, 'threshold': 0.03067457990127281, 'n_components': 32}. Best is trial 32 with value: 0.7504182964582014.\u001b[0m\n",
            "\u001b[32m[I 2021-12-03 19:06:49,396]\u001b[0m Trial 88 finished with value: 0.7479115316354832 and parameters: {'svc_kernel': 'poly', 'svc_C': 25.120742078598923, 'svc_gamma': 0.04587084501488421, 'threshold': 0.00851003565212572, 'n_components': 54}. Best is trial 32 with value: 0.7504182964582014.\u001b[0m\n",
            "\u001b[32m[I 2021-12-03 19:06:54,840]\u001b[0m Trial 89 finished with value: 0.7392448699945764 and parameters: {'svc_kernel': 'poly', 'svc_C': 51.35302349194237, 'svc_gamma': 0.06642073963609774, 'threshold': 0.0029237286437366417, 'n_components': 67}. Best is trial 32 with value: 0.7504182964582014.\u001b[0m\n",
            "\u001b[32m[I 2021-12-03 19:07:00,426]\u001b[0m Trial 90 finished with value: 0.7395915476886942 and parameters: {'svc_kernel': 'poly', 'svc_C': 33.6926570624168, 'svc_gamma': 0.0762097429173986, 'threshold': 0.011947641646691287, 'n_components': 46}. Best is trial 32 with value: 0.7504182964582014.\u001b[0m\n",
            "\u001b[32m[I 2021-12-03 19:07:05,289]\u001b[0m Trial 91 finished with value: 0.7481624959188926 and parameters: {'svc_kernel': 'poly', 'svc_C': 58.27117008327388, 'svc_gamma': 0.05431991300307676, 'threshold': 0.0012617731391674695, 'n_components': 78}. Best is trial 32 with value: 0.7504182964582014.\u001b[0m\n",
            "\u001b[32m[I 2021-12-03 19:07:10,097]\u001b[0m Trial 92 finished with value: 0.7488028085672183 and parameters: {'svc_kernel': 'poly', 'svc_C': 66.47904827651824, 'svc_gamma': 0.050594601890555285, 'threshold': 0.0032391790834631748, 'n_components': 64}. Best is trial 32 with value: 0.7504182964582014.\u001b[0m\n",
            "\u001b[32m[I 2021-12-03 19:07:17,177]\u001b[0m Trial 93 finished with value: 0.7268827607647695 and parameters: {'svc_kernel': 'poly', 'svc_C': 63.87892194096144, 'svc_gamma': 0.08227140910985985, 'threshold': 0.04214139401991106, 'n_components': 28}. Best is trial 32 with value: 0.7504182964582014.\u001b[0m\n",
            "\u001b[32m[I 2021-12-03 19:07:22,069]\u001b[0m Trial 94 finished with value: 0.7462151406794387 and parameters: {'svc_kernel': 'poly', 'svc_C': 78.61906288041239, 'svc_gamma': 0.050029937769363646, 'threshold': 0.004545754528833827, 'n_components': 62}. Best is trial 32 with value: 0.7504182964582014.\u001b[0m\n",
            "\u001b[32m[I 2021-12-03 19:07:26,630]\u001b[0m Trial 95 finished with value: 0.7482065255405491 and parameters: {'svc_kernel': 'poly', 'svc_C': 68.04392363878829, 'svc_gamma': 0.04277890704839474, 'threshold': 0.005725415794938332, 'n_components': 62}. Best is trial 32 with value: 0.7504182964582014.\u001b[0m\n",
            "\u001b[32m[I 2021-12-03 19:07:32,251]\u001b[0m Trial 96 finished with value: 0.7378641932217752 and parameters: {'svc_kernel': 'poly', 'svc_C': 48.156757565879175, 'svc_gamma': 0.07083995451034288, 'threshold': 0.002909059853878651, 'n_components': 64}. Best is trial 32 with value: 0.7504182964582014.\u001b[0m\n",
            "\u001b[32m[I 2021-12-03 19:07:36,637]\u001b[0m Trial 97 finished with value: 0.7467465776013957 and parameters: {'svc_kernel': 'poly', 'svc_C': 16.84744784790599, 'svc_gamma': 0.06323250518187903, 'threshold': 0.024218364004154433, 'n_components': 35}. Best is trial 32 with value: 0.7504182964582014.\u001b[0m\n",
            "\u001b[32m[I 2021-12-03 19:07:40,671]\u001b[0m Trial 98 finished with value: 0.7284222987841338 and parameters: {'svc_kernel': 'poly', 'svc_C': 22.63064799655946, 'svc_gamma': 0.025829909976365674, 'threshold': 0.007551506261837268, 'n_components': 56}. Best is trial 32 with value: 0.7504182964582014.\u001b[0m\n",
            "\u001b[32m[I 2021-12-03 19:07:45,563]\u001b[0m Trial 99 finished with value: 0.7476794041314531 and parameters: {'svc_kernel': 'poly', 'svc_C': 11.80587080237563, 'svc_gamma': 0.09179317521138994, 'threshold': 7.258418267331039e-05, 'n_components': 83}. Best is trial 32 with value: 0.7504182964582014.\u001b[0m\n"
          ]
        }
      ]
    },
    {
      "cell_type": "markdown",
      "metadata": {
        "id": "t16yrYjfmccV"
      },
      "source": [
        "Παρατηρούμε ότι το μέγιστο f1-score για kernel = poly είναι 0.75% και επιτυγχάνεται για:\n",
        "\n",
        "* kernel = poly \n",
        "* C = 18.70760840151217\n",
        "* gamma =  0.07065036202107712\n",
        "* threshold =  0.0034478961592615495\n",
        "* n_components(PCA) = 65"
      ]
    },
    {
      "cell_type": "markdown",
      "metadata": {
        "id": "FbngJQzVE6Nt"
      },
      "source": [
        "<b>Συμπέρασμα:</b>\n",
        "\n",
        "Συμπερασματικά, παρατηρούμε ότι η αρχιτεκτονική που επιτυγχάνει το καλύτερο δυνατό accuracy score, 0.7, αντιστοιχεί σε:\n",
        "- MinMax Scaler \n",
        "- Variance Threshold (threshold = 0.009180125108883955)\n",
        "- SVC (kernel = 'rbf', gamma = 'auto'  , C = 1.384105550450471  )\n",
        "\n",
        "\n",
        "Αντίστοιχα, η αρχιτεκτονική που επιτυγχάνει το καλύτερο δυνατό f1 score, 0.7, είναι:\n",
        "- MinMax Scaler\n",
        "- Variance Threshold (threshold = 0.0372111593761334 ) \n",
        "- SVC (kernel = 'rbf', gamma = 0.06071249745874641, C = 49.0166465572452)\n",
        "\n",
        "\n",
        "Στη συνέχεια, υπολογίζουμε τα accuracy και τα f1 score που επιτυγχάνουν κάθε μια από τις δύο αυτές αρχιτεκτονικές κατά τη διαδικασία του 5-fold cross validation, προκειμένου να επιλέξουμε εκείνη που συνδυαστικά επιτυγχάνει τα καλύτερα scores."
      ]
    },
    {
      "cell_type": "code",
      "metadata": {
        "id": "ofTcPYbnyV5Z"
      },
      "source": [
        "svm1 = Pipeline(steps = [('minmax_scaler', preprocessing.MinMaxScaler()), ('selector', VarianceThreshold(threshold=0.009180125108883955)),('svm', SVC(kernel = 'rbf', gamma = 'auto' , C = 1.384105550450471 ))])"
      ],
      "execution_count": null,
      "outputs": []
    },
    {
      "cell_type": "code",
      "metadata": {
        "colab": {
          "base_uri": "https://localhost:8080/"
        },
        "id": "ujTenkpVUW1K",
        "outputId": "821a5e14-b3d0-4fbf-be47-eb1959776b4e"
      },
      "source": [
        "acc_svm1 = np.round(np.mean(cross_val_score(svm1, X_train_small, y_train_small, cv = 5, scoring = 'accuracy')), 4)\n",
        "f1_svm1 = np.round(np.mean(cross_val_score(svm1, X_train_small, y_train_small, cv = 5, scoring = 'f1')), 4)\n",
        "print('5-fold cross validation accuracy score for svm1:', acc_svm1)\n",
        "print('5-fold cross validation f1 score for svm1:', f1_svm1)"
      ],
      "execution_count": null,
      "outputs": [
        {
          "output_type": "stream",
          "name": "stdout",
          "text": [
            "5-fold cross validation accuracy score for svm1: 0.7527\n",
            "5-fold cross validation f1 score for svm1: 0.7699\n"
          ]
        }
      ]
    },
    {
      "cell_type": "code",
      "metadata": {
        "id": "XNPHb5sGVAEw"
      },
      "source": [
        "svm2 = Pipeline(steps = [('minmax_scaler', preprocessing.MinMaxScaler()), ('selector', VarianceThreshold(threshold=0.0372111593761334)),('svm', SVC(kernel = 'rbf' , gamma = 0.06071249745874641, C = 49.0166465572452))])"
      ],
      "execution_count": null,
      "outputs": []
    },
    {
      "cell_type": "code",
      "metadata": {
        "colab": {
          "base_uri": "https://localhost:8080/"
        },
        "id": "0xTWYb1YU_su",
        "outputId": "5d6517b4-4cc0-4cbe-900f-e4cabe23009c"
      },
      "source": [
        "acc_svm2 = np.round(np.mean(cross_val_score(svm2, X_train_small, y_train_small, cv = 5, scoring = 'accuracy')), 4)\n",
        "f1_svm2 = np.round(np.mean(cross_val_score(svm2, X_train_small, y_train_small, cv = 5, scoring = 'f1')), 4)\n",
        "print('5-fold cross validation accuracy score for svm2:', acc_svm2)\n",
        "print('5-fold cross validation f1 score for svm2:', f1_svm2)"
      ],
      "execution_count": null,
      "outputs": [
        {
          "output_type": "stream",
          "name": "stdout",
          "text": [
            "5-fold cross validation accuracy score for svm2: 0.7452\n",
            "5-fold cross validation f1 score for svm2: 0.7565\n"
          ]
        }
      ]
    },
    {
      "cell_type": "markdown",
      "metadata": {
        "id": "NwnyNHLJXR4r"
      },
      "source": [
        "<b>Τελικά, επιλέγουμε την ακόλουθη αρχιτεκτονική: </b>\n",
        "- MinMax Scaler \n",
        "- Variance Threshold (threshold = 0.009180125108883955)\n",
        "- SVC (kernel = 'rbf', gamma = 'auto'  , C = 1.384105550450471  )\n",
        "\n",
        "Η αρχιτεκτονικλη αυτή είναι βέλτιστη τόσο ως προς το accuracy όσο και ως προς το f1-score."
      ]
    },
    {
      "cell_type": "code",
      "metadata": {
        "id": "2_PK_fwKW6Bg"
      },
      "source": [
        ""
      ],
      "execution_count": null,
      "outputs": []
    }
  ]
}