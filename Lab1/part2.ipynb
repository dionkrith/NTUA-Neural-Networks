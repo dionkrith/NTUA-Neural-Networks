{
  "nbformat": 4,
  "nbformat_minor": 0,
  "metadata": {
    "colab": {
      "name": "Αντίγραφο lab1_part2.ipynb",
      "provenance": [],
      "collapsed_sections": [
        "nw3p_zYqoRHz"
      ],
      "toc_visible": true
    },
    "kernelspec": {
      "display_name": "Python 3",
      "name": "python3"
    },
    "language_info": {
      "name": "python"
    }
  },
  "cells": [
    {
      "cell_type": "markdown",
      "metadata": {
        "id": "gBRTkUjcBn1z"
      },
      "source": [
        "Ομάδα 94 - δύο ατόμων: Κριθαρούλα Αναστασία 03117073, Κριθαρούλας Διονύσης 03117875"
      ]
    },
    {
      "cell_type": "markdown",
      "metadata": {
        "id": "lTALdjglY-ff"
      },
      "source": [
        "#Νευρωικά Δίκτυα - Ροή Y - 9ο Εξάμηνο - ΣΗΜΜΥ"
      ]
    },
    {
      "cell_type": "markdown",
      "metadata": {
        "id": "jROUkUqJY_-Z"
      },
      "source": [
        "# Εργασία 1. Επιβλεπόμενη μάθηση:Ταξινόμηση"
      ]
    },
    {
      "cell_type": "code",
      "metadata": {
        "colab": {
          "base_uri": "https://localhost:8080/"
        },
        "id": "9qZHVSRB9iUO",
        "outputId": "3226b70b-a9ee-4a79-865e-62f2a79874ca"
      },
      "source": [
        "!pip install optuna\n",
        "!pip install --upgrade scikit-learn \n",
        "!pip install --upgrade numpy \n",
        "!pip install --upgrade pandas \n",
        "!pip install --upgrade imbalanced-learn\n",
        "!pip install --upgrade seaborn"
      ],
      "execution_count": 1,
      "outputs": [
        {
          "output_type": "stream",
          "name": "stdout",
          "text": [
            "Requirement already satisfied: optuna in /usr/local/lib/python3.7/dist-packages (2.10.0)\n",
            "Requirement already satisfied: cmaes>=0.8.2 in /usr/local/lib/python3.7/dist-packages (from optuna) (0.8.2)\n",
            "Requirement already satisfied: packaging>=20.0 in /usr/local/lib/python3.7/dist-packages (from optuna) (21.3)\n",
            "Requirement already satisfied: numpy in /usr/local/lib/python3.7/dist-packages (from optuna) (1.21.4)\n",
            "Requirement already satisfied: tqdm in /usr/local/lib/python3.7/dist-packages (from optuna) (4.62.3)\n",
            "Requirement already satisfied: cliff in /usr/local/lib/python3.7/dist-packages (from optuna) (3.10.0)\n",
            "Requirement already satisfied: alembic in /usr/local/lib/python3.7/dist-packages (from optuna) (1.7.5)\n",
            "Requirement already satisfied: scipy!=1.4.0 in /usr/local/lib/python3.7/dist-packages (from optuna) (1.4.1)\n",
            "Requirement already satisfied: sqlalchemy>=1.1.0 in /usr/local/lib/python3.7/dist-packages (from optuna) (1.4.27)\n",
            "Requirement already satisfied: colorlog in /usr/local/lib/python3.7/dist-packages (from optuna) (6.6.0)\n",
            "Requirement already satisfied: PyYAML in /usr/local/lib/python3.7/dist-packages (from optuna) (3.13)\n",
            "Requirement already satisfied: pyparsing!=3.0.5,>=2.0.2 in /usr/local/lib/python3.7/dist-packages (from packaging>=20.0->optuna) (3.0.6)\n",
            "Requirement already satisfied: greenlet!=0.4.17 in /usr/local/lib/python3.7/dist-packages (from sqlalchemy>=1.1.0->optuna) (1.1.2)\n",
            "Requirement already satisfied: importlib-metadata in /usr/local/lib/python3.7/dist-packages (from sqlalchemy>=1.1.0->optuna) (4.8.2)\n",
            "Requirement already satisfied: importlib-resources in /usr/local/lib/python3.7/dist-packages (from alembic->optuna) (5.4.0)\n",
            "Requirement already satisfied: Mako in /usr/local/lib/python3.7/dist-packages (from alembic->optuna) (1.1.6)\n",
            "Requirement already satisfied: autopage>=0.4.0 in /usr/local/lib/python3.7/dist-packages (from cliff->optuna) (0.4.0)\n",
            "Requirement already satisfied: PrettyTable>=0.7.2 in /usr/local/lib/python3.7/dist-packages (from cliff->optuna) (2.4.0)\n",
            "Requirement already satisfied: stevedore>=2.0.1 in /usr/local/lib/python3.7/dist-packages (from cliff->optuna) (3.5.0)\n",
            "Requirement already satisfied: cmd2>=1.0.0 in /usr/local/lib/python3.7/dist-packages (from cliff->optuna) (2.3.3)\n",
            "Requirement already satisfied: pbr!=2.1.0,>=2.0.0 in /usr/local/lib/python3.7/dist-packages (from cliff->optuna) (5.8.0)\n",
            "Requirement already satisfied: wcwidth>=0.1.7 in /usr/local/lib/python3.7/dist-packages (from cmd2>=1.0.0->cliff->optuna) (0.2.5)\n",
            "Requirement already satisfied: typing-extensions in /usr/local/lib/python3.7/dist-packages (from cmd2>=1.0.0->cliff->optuna) (3.10.0.2)\n",
            "Requirement already satisfied: pyperclip>=1.6 in /usr/local/lib/python3.7/dist-packages (from cmd2>=1.0.0->cliff->optuna) (1.8.2)\n",
            "Requirement already satisfied: attrs>=16.3.0 in /usr/local/lib/python3.7/dist-packages (from cmd2>=1.0.0->cliff->optuna) (21.2.0)\n",
            "Requirement already satisfied: zipp>=0.5 in /usr/local/lib/python3.7/dist-packages (from importlib-metadata->sqlalchemy>=1.1.0->optuna) (3.6.0)\n",
            "Requirement already satisfied: MarkupSafe>=0.9.2 in /usr/local/lib/python3.7/dist-packages (from Mako->alembic->optuna) (2.0.1)\n",
            "Requirement already satisfied: scikit-learn in /usr/local/lib/python3.7/dist-packages (1.0.1)\n",
            "Requirement already satisfied: scipy>=1.1.0 in /usr/local/lib/python3.7/dist-packages (from scikit-learn) (1.4.1)\n",
            "Requirement already satisfied: numpy>=1.14.6 in /usr/local/lib/python3.7/dist-packages (from scikit-learn) (1.21.4)\n",
            "Requirement already satisfied: joblib>=0.11 in /usr/local/lib/python3.7/dist-packages (from scikit-learn) (1.1.0)\n",
            "Requirement already satisfied: threadpoolctl>=2.0.0 in /usr/local/lib/python3.7/dist-packages (from scikit-learn) (3.0.0)\n",
            "Requirement already satisfied: numpy in /usr/local/lib/python3.7/dist-packages (1.21.4)\n",
            "Requirement already satisfied: pandas in /usr/local/lib/python3.7/dist-packages (1.3.4)\n",
            "Requirement already satisfied: numpy>=1.17.3 in /usr/local/lib/python3.7/dist-packages (from pandas) (1.21.4)\n",
            "Requirement already satisfied: python-dateutil>=2.7.3 in /usr/local/lib/python3.7/dist-packages (from pandas) (2.8.2)\n",
            "Requirement already satisfied: pytz>=2017.3 in /usr/local/lib/python3.7/dist-packages (from pandas) (2018.9)\n",
            "Requirement already satisfied: six>=1.5 in /usr/local/lib/python3.7/dist-packages (from python-dateutil>=2.7.3->pandas) (1.15.0)\n",
            "Requirement already satisfied: imbalanced-learn in /usr/local/lib/python3.7/dist-packages (0.8.1)\n",
            "Requirement already satisfied: scikit-learn>=0.24 in /usr/local/lib/python3.7/dist-packages (from imbalanced-learn) (1.0.1)\n",
            "Requirement already satisfied: numpy>=1.13.3 in /usr/local/lib/python3.7/dist-packages (from imbalanced-learn) (1.21.4)\n",
            "Requirement already satisfied: scipy>=0.19.1 in /usr/local/lib/python3.7/dist-packages (from imbalanced-learn) (1.4.1)\n",
            "Requirement already satisfied: joblib>=0.11 in /usr/local/lib/python3.7/dist-packages (from imbalanced-learn) (1.1.0)\n",
            "Requirement already satisfied: threadpoolctl>=2.0.0 in /usr/local/lib/python3.7/dist-packages (from scikit-learn>=0.24->imbalanced-learn) (3.0.0)\n",
            "Requirement already satisfied: seaborn in /usr/local/lib/python3.7/dist-packages (0.11.2)\n",
            "Requirement already satisfied: pandas>=0.23 in /usr/local/lib/python3.7/dist-packages (from seaborn) (1.3.4)\n",
            "Requirement already satisfied: scipy>=1.0 in /usr/local/lib/python3.7/dist-packages (from seaborn) (1.4.1)\n",
            "Requirement already satisfied: numpy>=1.15 in /usr/local/lib/python3.7/dist-packages (from seaborn) (1.21.4)\n",
            "Requirement already satisfied: matplotlib>=2.2 in /usr/local/lib/python3.7/dist-packages (from seaborn) (3.2.2)\n",
            "Requirement already satisfied: pyparsing!=2.0.4,!=2.1.2,!=2.1.6,>=2.0.1 in /usr/local/lib/python3.7/dist-packages (from matplotlib>=2.2->seaborn) (3.0.6)\n",
            "Requirement already satisfied: python-dateutil>=2.1 in /usr/local/lib/python3.7/dist-packages (from matplotlib>=2.2->seaborn) (2.8.2)\n",
            "Requirement already satisfied: cycler>=0.10 in /usr/local/lib/python3.7/dist-packages (from matplotlib>=2.2->seaborn) (0.11.0)\n",
            "Requirement already satisfied: kiwisolver>=1.0.1 in /usr/local/lib/python3.7/dist-packages (from matplotlib>=2.2->seaborn) (1.3.2)\n",
            "Requirement already satisfied: pytz>=2017.3 in /usr/local/lib/python3.7/dist-packages (from pandas>=0.23->seaborn) (2018.9)\n",
            "Requirement already satisfied: six>=1.5 in /usr/local/lib/python3.7/dist-packages (from python-dateutil>=2.1->matplotlib>=2.2->seaborn) (1.15.0)\n"
          ]
        }
      ]
    },
    {
      "cell_type": "markdown",
      "metadata": {
        "id": "eDvr_2_rYlLm"
      },
      "source": [
        "Αρχικά, φορτώνουμε το csv αρχείο που περιέχε τα δεδομένα μας από το kaggle στο drive προκειμένου να αποκτήσουμε πρόσβαση σε αυτό. "
      ]
    },
    {
      "cell_type": "code",
      "metadata": {
        "colab": {
          "base_uri": "https://localhost:8080/"
        },
        "id": "8C_SK0rSCzKC",
        "outputId": "53664901-1877-42f0-a8f3-36aeb0a23607"
      },
      "source": [
        "# Mount google drive\n",
        "from google.colab import drive\n",
        "drive.mount('/gdrive')"
      ],
      "execution_count": 2,
      "outputs": [
        {
          "output_type": "stream",
          "name": "stdout",
          "text": [
            "Mounted at /gdrive\n"
          ]
        }
      ]
    },
    {
      "cell_type": "code",
      "metadata": {
        "colab": {
          "base_uri": "https://localhost:8080/"
        },
        "id": "fTqvawr1C7af",
        "outputId": "dbe630dd-d6e5-4718-9974-7560910592a6"
      },
      "source": [
        "import os\n",
        "# Complete path to storage location of the .zip file of data\n",
        "zip_path = '/gdrive/MyDrive/kaggle/csgo-round-winner-classification.zip'\n",
        "# Copy the .zip file into the present directory\n",
        "!cp '{zip_path}' .\n",
        "# Unzip quietly \n",
        "!unzip -q 'csgo-round-winner-classification.zip'\n",
        "# View the unzipped contents in the virtual machine\n",
        "os.listdir()"
      ],
      "execution_count": 3,
      "outputs": [
        {
          "output_type": "execute_result",
          "data": {
            "text/plain": [
              "['.config',\n",
              " 'csgo-round-winner-classification.zip',\n",
              " 'csgo_round_snapshots.csv',\n",
              " 'sample_data']"
            ]
          },
          "metadata": {},
          "execution_count": 3
        }
      ]
    },
    {
      "cell_type": "markdown",
      "metadata": {
        "id": "ucLI84c1D9lZ"
      },
      "source": [
        "## Μέρος 2. Kaggle Dataset"
      ]
    },
    {
      "cell_type": "markdown",
      "metadata": {
        "id": "nw3p_zYqoRHz"
      },
      "source": [
        "### Εισαγωγή και Επισκόπηση"
      ]
    },
    {
      "cell_type": "code",
      "metadata": {
        "colab": {
          "base_uri": "https://localhost:8080/",
          "height": 444
        },
        "id": "bZUQ7-OpD7wq",
        "outputId": "e97d3cb4-bd73-406d-f3c5-e3a52a14b97f"
      },
      "source": [
        "import numpy as np \n",
        "import pandas as pd\n",
        "\n",
        "df = pd.read_csv(\"csgo_round_snapshots.csv\")\n",
        "df"
      ],
      "execution_count": null,
      "outputs": [
        {
          "data": {
            "text/html": [
              "<div>\n",
              "<style scoped>\n",
              "    .dataframe tbody tr th:only-of-type {\n",
              "        vertical-align: middle;\n",
              "    }\n",
              "\n",
              "    .dataframe tbody tr th {\n",
              "        vertical-align: top;\n",
              "    }\n",
              "\n",
              "    .dataframe thead th {\n",
              "        text-align: right;\n",
              "    }\n",
              "</style>\n",
              "<table border=\"1\" class=\"dataframe\">\n",
              "  <thead>\n",
              "    <tr style=\"text-align: right;\">\n",
              "      <th></th>\n",
              "      <th>time_left</th>\n",
              "      <th>ct_score</th>\n",
              "      <th>t_score</th>\n",
              "      <th>map</th>\n",
              "      <th>bomb_planted</th>\n",
              "      <th>ct_health</th>\n",
              "      <th>t_health</th>\n",
              "      <th>ct_armor</th>\n",
              "      <th>t_armor</th>\n",
              "      <th>ct_money</th>\n",
              "      <th>t_money</th>\n",
              "      <th>ct_helmets</th>\n",
              "      <th>t_helmets</th>\n",
              "      <th>ct_defuse_kits</th>\n",
              "      <th>ct_players_alive</th>\n",
              "      <th>t_players_alive</th>\n",
              "      <th>ct_weapon_ak47</th>\n",
              "      <th>t_weapon_ak47</th>\n",
              "      <th>ct_weapon_aug</th>\n",
              "      <th>t_weapon_aug</th>\n",
              "      <th>ct_weapon_awp</th>\n",
              "      <th>t_weapon_awp</th>\n",
              "      <th>ct_weapon_bizon</th>\n",
              "      <th>t_weapon_bizon</th>\n",
              "      <th>ct_weapon_cz75auto</th>\n",
              "      <th>t_weapon_cz75auto</th>\n",
              "      <th>ct_weapon_elite</th>\n",
              "      <th>t_weapon_elite</th>\n",
              "      <th>ct_weapon_famas</th>\n",
              "      <th>t_weapon_famas</th>\n",
              "      <th>ct_weapon_g3sg1</th>\n",
              "      <th>t_weapon_g3sg1</th>\n",
              "      <th>ct_weapon_galilar</th>\n",
              "      <th>t_weapon_galilar</th>\n",
              "      <th>ct_weapon_glock</th>\n",
              "      <th>t_weapon_glock</th>\n",
              "      <th>ct_weapon_m249</th>\n",
              "      <th>t_weapon_m249</th>\n",
              "      <th>ct_weapon_m4a1s</th>\n",
              "      <th>t_weapon_m4a1s</th>\n",
              "      <th>...</th>\n",
              "      <th>t_weapon_p90</th>\n",
              "      <th>ct_weapon_r8revolver</th>\n",
              "      <th>t_weapon_r8revolver</th>\n",
              "      <th>ct_weapon_sawedoff</th>\n",
              "      <th>t_weapon_sawedoff</th>\n",
              "      <th>ct_weapon_scar20</th>\n",
              "      <th>t_weapon_scar20</th>\n",
              "      <th>ct_weapon_sg553</th>\n",
              "      <th>t_weapon_sg553</th>\n",
              "      <th>ct_weapon_ssg08</th>\n",
              "      <th>t_weapon_ssg08</th>\n",
              "      <th>ct_weapon_ump45</th>\n",
              "      <th>t_weapon_ump45</th>\n",
              "      <th>ct_weapon_xm1014</th>\n",
              "      <th>t_weapon_xm1014</th>\n",
              "      <th>ct_weapon_deagle</th>\n",
              "      <th>t_weapon_deagle</th>\n",
              "      <th>ct_weapon_fiveseven</th>\n",
              "      <th>t_weapon_fiveseven</th>\n",
              "      <th>ct_weapon_usps</th>\n",
              "      <th>t_weapon_usps</th>\n",
              "      <th>ct_weapon_p250</th>\n",
              "      <th>t_weapon_p250</th>\n",
              "      <th>ct_weapon_p2000</th>\n",
              "      <th>t_weapon_p2000</th>\n",
              "      <th>ct_weapon_tec9</th>\n",
              "      <th>t_weapon_tec9</th>\n",
              "      <th>ct_grenade_hegrenade</th>\n",
              "      <th>t_grenade_hegrenade</th>\n",
              "      <th>ct_grenade_flashbang</th>\n",
              "      <th>t_grenade_flashbang</th>\n",
              "      <th>ct_grenade_smokegrenade</th>\n",
              "      <th>t_grenade_smokegrenade</th>\n",
              "      <th>ct_grenade_incendiarygrenade</th>\n",
              "      <th>t_grenade_incendiarygrenade</th>\n",
              "      <th>ct_grenade_molotovgrenade</th>\n",
              "      <th>t_grenade_molotovgrenade</th>\n",
              "      <th>ct_grenade_decoygrenade</th>\n",
              "      <th>t_grenade_decoygrenade</th>\n",
              "      <th>round_winner</th>\n",
              "    </tr>\n",
              "  </thead>\n",
              "  <tbody>\n",
              "    <tr>\n",
              "      <th>0</th>\n",
              "      <td>175.00</td>\n",
              "      <td>0.0</td>\n",
              "      <td>0.0</td>\n",
              "      <td>de_dust2</td>\n",
              "      <td>False</td>\n",
              "      <td>500.0</td>\n",
              "      <td>500.0</td>\n",
              "      <td>0.0</td>\n",
              "      <td>0.0</td>\n",
              "      <td>4000.0</td>\n",
              "      <td>4000.0</td>\n",
              "      <td>0.0</td>\n",
              "      <td>0.0</td>\n",
              "      <td>0.0</td>\n",
              "      <td>5.0</td>\n",
              "      <td>5.0</td>\n",
              "      <td>0.0</td>\n",
              "      <td>0.0</td>\n",
              "      <td>0.0</td>\n",
              "      <td>0.0</td>\n",
              "      <td>0.0</td>\n",
              "      <td>0.0</td>\n",
              "      <td>0.0</td>\n",
              "      <td>0.0</td>\n",
              "      <td>0.0</td>\n",
              "      <td>0.0</td>\n",
              "      <td>0.0</td>\n",
              "      <td>0.0</td>\n",
              "      <td>0.0</td>\n",
              "      <td>0.0</td>\n",
              "      <td>0.0</td>\n",
              "      <td>0.0</td>\n",
              "      <td>0.0</td>\n",
              "      <td>0.0</td>\n",
              "      <td>0.0</td>\n",
              "      <td>5.0</td>\n",
              "      <td>0.0</td>\n",
              "      <td>0.0</td>\n",
              "      <td>0.0</td>\n",
              "      <td>0.0</td>\n",
              "      <td>...</td>\n",
              "      <td>0.0</td>\n",
              "      <td>0.0</td>\n",
              "      <td>0.0</td>\n",
              "      <td>0.0</td>\n",
              "      <td>0.0</td>\n",
              "      <td>0.0</td>\n",
              "      <td>0.0</td>\n",
              "      <td>0.0</td>\n",
              "      <td>0.0</td>\n",
              "      <td>0.0</td>\n",
              "      <td>0.0</td>\n",
              "      <td>0.0</td>\n",
              "      <td>0.0</td>\n",
              "      <td>0.0</td>\n",
              "      <td>0.0</td>\n",
              "      <td>0.0</td>\n",
              "      <td>0.0</td>\n",
              "      <td>0.0</td>\n",
              "      <td>0.0</td>\n",
              "      <td>4.0</td>\n",
              "      <td>0.0</td>\n",
              "      <td>0.0</td>\n",
              "      <td>0.0</td>\n",
              "      <td>1.0</td>\n",
              "      <td>0.0</td>\n",
              "      <td>0.0</td>\n",
              "      <td>0.0</td>\n",
              "      <td>0.0</td>\n",
              "      <td>0.0</td>\n",
              "      <td>0.0</td>\n",
              "      <td>0.0</td>\n",
              "      <td>0.0</td>\n",
              "      <td>0.0</td>\n",
              "      <td>0.0</td>\n",
              "      <td>0.0</td>\n",
              "      <td>0.0</td>\n",
              "      <td>0.0</td>\n",
              "      <td>0.0</td>\n",
              "      <td>0.0</td>\n",
              "      <td>CT</td>\n",
              "    </tr>\n",
              "    <tr>\n",
              "      <th>1</th>\n",
              "      <td>156.03</td>\n",
              "      <td>0.0</td>\n",
              "      <td>0.0</td>\n",
              "      <td>de_dust2</td>\n",
              "      <td>False</td>\n",
              "      <td>500.0</td>\n",
              "      <td>500.0</td>\n",
              "      <td>400.0</td>\n",
              "      <td>300.0</td>\n",
              "      <td>600.0</td>\n",
              "      <td>650.0</td>\n",
              "      <td>0.0</td>\n",
              "      <td>0.0</td>\n",
              "      <td>1.0</td>\n",
              "      <td>5.0</td>\n",
              "      <td>5.0</td>\n",
              "      <td>0.0</td>\n",
              "      <td>0.0</td>\n",
              "      <td>0.0</td>\n",
              "      <td>0.0</td>\n",
              "      <td>0.0</td>\n",
              "      <td>0.0</td>\n",
              "      <td>0.0</td>\n",
              "      <td>0.0</td>\n",
              "      <td>0.0</td>\n",
              "      <td>0.0</td>\n",
              "      <td>0.0</td>\n",
              "      <td>0.0</td>\n",
              "      <td>0.0</td>\n",
              "      <td>0.0</td>\n",
              "      <td>0.0</td>\n",
              "      <td>0.0</td>\n",
              "      <td>0.0</td>\n",
              "      <td>0.0</td>\n",
              "      <td>0.0</td>\n",
              "      <td>5.0</td>\n",
              "      <td>0.0</td>\n",
              "      <td>0.0</td>\n",
              "      <td>0.0</td>\n",
              "      <td>0.0</td>\n",
              "      <td>...</td>\n",
              "      <td>0.0</td>\n",
              "      <td>0.0</td>\n",
              "      <td>0.0</td>\n",
              "      <td>0.0</td>\n",
              "      <td>0.0</td>\n",
              "      <td>0.0</td>\n",
              "      <td>0.0</td>\n",
              "      <td>0.0</td>\n",
              "      <td>0.0</td>\n",
              "      <td>0.0</td>\n",
              "      <td>0.0</td>\n",
              "      <td>0.0</td>\n",
              "      <td>0.0</td>\n",
              "      <td>0.0</td>\n",
              "      <td>0.0</td>\n",
              "      <td>0.0</td>\n",
              "      <td>0.0</td>\n",
              "      <td>0.0</td>\n",
              "      <td>0.0</td>\n",
              "      <td>4.0</td>\n",
              "      <td>0.0</td>\n",
              "      <td>0.0</td>\n",
              "      <td>0.0</td>\n",
              "      <td>1.0</td>\n",
              "      <td>0.0</td>\n",
              "      <td>0.0</td>\n",
              "      <td>0.0</td>\n",
              "      <td>0.0</td>\n",
              "      <td>0.0</td>\n",
              "      <td>0.0</td>\n",
              "      <td>0.0</td>\n",
              "      <td>0.0</td>\n",
              "      <td>2.0</td>\n",
              "      <td>0.0</td>\n",
              "      <td>0.0</td>\n",
              "      <td>0.0</td>\n",
              "      <td>0.0</td>\n",
              "      <td>0.0</td>\n",
              "      <td>0.0</td>\n",
              "      <td>CT</td>\n",
              "    </tr>\n",
              "    <tr>\n",
              "      <th>2</th>\n",
              "      <td>96.03</td>\n",
              "      <td>0.0</td>\n",
              "      <td>0.0</td>\n",
              "      <td>de_dust2</td>\n",
              "      <td>False</td>\n",
              "      <td>391.0</td>\n",
              "      <td>400.0</td>\n",
              "      <td>294.0</td>\n",
              "      <td>200.0</td>\n",
              "      <td>750.0</td>\n",
              "      <td>500.0</td>\n",
              "      <td>0.0</td>\n",
              "      <td>0.0</td>\n",
              "      <td>1.0</td>\n",
              "      <td>4.0</td>\n",
              "      <td>4.0</td>\n",
              "      <td>0.0</td>\n",
              "      <td>0.0</td>\n",
              "      <td>0.0</td>\n",
              "      <td>0.0</td>\n",
              "      <td>0.0</td>\n",
              "      <td>0.0</td>\n",
              "      <td>0.0</td>\n",
              "      <td>0.0</td>\n",
              "      <td>0.0</td>\n",
              "      <td>0.0</td>\n",
              "      <td>0.0</td>\n",
              "      <td>0.0</td>\n",
              "      <td>0.0</td>\n",
              "      <td>0.0</td>\n",
              "      <td>0.0</td>\n",
              "      <td>0.0</td>\n",
              "      <td>0.0</td>\n",
              "      <td>0.0</td>\n",
              "      <td>0.0</td>\n",
              "      <td>4.0</td>\n",
              "      <td>0.0</td>\n",
              "      <td>0.0</td>\n",
              "      <td>0.0</td>\n",
              "      <td>0.0</td>\n",
              "      <td>...</td>\n",
              "      <td>0.0</td>\n",
              "      <td>0.0</td>\n",
              "      <td>0.0</td>\n",
              "      <td>0.0</td>\n",
              "      <td>0.0</td>\n",
              "      <td>0.0</td>\n",
              "      <td>0.0</td>\n",
              "      <td>0.0</td>\n",
              "      <td>0.0</td>\n",
              "      <td>0.0</td>\n",
              "      <td>0.0</td>\n",
              "      <td>0.0</td>\n",
              "      <td>0.0</td>\n",
              "      <td>0.0</td>\n",
              "      <td>0.0</td>\n",
              "      <td>0.0</td>\n",
              "      <td>0.0</td>\n",
              "      <td>0.0</td>\n",
              "      <td>0.0</td>\n",
              "      <td>4.0</td>\n",
              "      <td>0.0</td>\n",
              "      <td>0.0</td>\n",
              "      <td>0.0</td>\n",
              "      <td>0.0</td>\n",
              "      <td>0.0</td>\n",
              "      <td>0.0</td>\n",
              "      <td>0.0</td>\n",
              "      <td>0.0</td>\n",
              "      <td>0.0</td>\n",
              "      <td>0.0</td>\n",
              "      <td>0.0</td>\n",
              "      <td>0.0</td>\n",
              "      <td>2.0</td>\n",
              "      <td>0.0</td>\n",
              "      <td>0.0</td>\n",
              "      <td>0.0</td>\n",
              "      <td>0.0</td>\n",
              "      <td>0.0</td>\n",
              "      <td>0.0</td>\n",
              "      <td>CT</td>\n",
              "    </tr>\n",
              "    <tr>\n",
              "      <th>3</th>\n",
              "      <td>76.03</td>\n",
              "      <td>0.0</td>\n",
              "      <td>0.0</td>\n",
              "      <td>de_dust2</td>\n",
              "      <td>False</td>\n",
              "      <td>391.0</td>\n",
              "      <td>400.0</td>\n",
              "      <td>294.0</td>\n",
              "      <td>200.0</td>\n",
              "      <td>750.0</td>\n",
              "      <td>500.0</td>\n",
              "      <td>0.0</td>\n",
              "      <td>0.0</td>\n",
              "      <td>1.0</td>\n",
              "      <td>4.0</td>\n",
              "      <td>4.0</td>\n",
              "      <td>0.0</td>\n",
              "      <td>0.0</td>\n",
              "      <td>0.0</td>\n",
              "      <td>0.0</td>\n",
              "      <td>0.0</td>\n",
              "      <td>0.0</td>\n",
              "      <td>0.0</td>\n",
              "      <td>0.0</td>\n",
              "      <td>0.0</td>\n",
              "      <td>0.0</td>\n",
              "      <td>0.0</td>\n",
              "      <td>0.0</td>\n",
              "      <td>0.0</td>\n",
              "      <td>0.0</td>\n",
              "      <td>0.0</td>\n",
              "      <td>0.0</td>\n",
              "      <td>0.0</td>\n",
              "      <td>0.0</td>\n",
              "      <td>0.0</td>\n",
              "      <td>3.0</td>\n",
              "      <td>0.0</td>\n",
              "      <td>0.0</td>\n",
              "      <td>0.0</td>\n",
              "      <td>0.0</td>\n",
              "      <td>...</td>\n",
              "      <td>0.0</td>\n",
              "      <td>0.0</td>\n",
              "      <td>0.0</td>\n",
              "      <td>0.0</td>\n",
              "      <td>0.0</td>\n",
              "      <td>0.0</td>\n",
              "      <td>0.0</td>\n",
              "      <td>0.0</td>\n",
              "      <td>0.0</td>\n",
              "      <td>0.0</td>\n",
              "      <td>0.0</td>\n",
              "      <td>0.0</td>\n",
              "      <td>0.0</td>\n",
              "      <td>0.0</td>\n",
              "      <td>0.0</td>\n",
              "      <td>0.0</td>\n",
              "      <td>0.0</td>\n",
              "      <td>0.0</td>\n",
              "      <td>0.0</td>\n",
              "      <td>4.0</td>\n",
              "      <td>0.0</td>\n",
              "      <td>0.0</td>\n",
              "      <td>0.0</td>\n",
              "      <td>0.0</td>\n",
              "      <td>1.0</td>\n",
              "      <td>0.0</td>\n",
              "      <td>0.0</td>\n",
              "      <td>0.0</td>\n",
              "      <td>0.0</td>\n",
              "      <td>0.0</td>\n",
              "      <td>0.0</td>\n",
              "      <td>0.0</td>\n",
              "      <td>0.0</td>\n",
              "      <td>0.0</td>\n",
              "      <td>0.0</td>\n",
              "      <td>0.0</td>\n",
              "      <td>0.0</td>\n",
              "      <td>0.0</td>\n",
              "      <td>0.0</td>\n",
              "      <td>CT</td>\n",
              "    </tr>\n",
              "    <tr>\n",
              "      <th>4</th>\n",
              "      <td>174.97</td>\n",
              "      <td>1.0</td>\n",
              "      <td>0.0</td>\n",
              "      <td>de_dust2</td>\n",
              "      <td>False</td>\n",
              "      <td>500.0</td>\n",
              "      <td>500.0</td>\n",
              "      <td>192.0</td>\n",
              "      <td>0.0</td>\n",
              "      <td>18350.0</td>\n",
              "      <td>10750.0</td>\n",
              "      <td>0.0</td>\n",
              "      <td>0.0</td>\n",
              "      <td>1.0</td>\n",
              "      <td>5.0</td>\n",
              "      <td>5.0</td>\n",
              "      <td>0.0</td>\n",
              "      <td>0.0</td>\n",
              "      <td>0.0</td>\n",
              "      <td>0.0</td>\n",
              "      <td>0.0</td>\n",
              "      <td>0.0</td>\n",
              "      <td>0.0</td>\n",
              "      <td>0.0</td>\n",
              "      <td>0.0</td>\n",
              "      <td>0.0</td>\n",
              "      <td>0.0</td>\n",
              "      <td>0.0</td>\n",
              "      <td>0.0</td>\n",
              "      <td>0.0</td>\n",
              "      <td>0.0</td>\n",
              "      <td>0.0</td>\n",
              "      <td>0.0</td>\n",
              "      <td>0.0</td>\n",
              "      <td>0.0</td>\n",
              "      <td>5.0</td>\n",
              "      <td>0.0</td>\n",
              "      <td>0.0</td>\n",
              "      <td>0.0</td>\n",
              "      <td>0.0</td>\n",
              "      <td>...</td>\n",
              "      <td>0.0</td>\n",
              "      <td>0.0</td>\n",
              "      <td>0.0</td>\n",
              "      <td>0.0</td>\n",
              "      <td>0.0</td>\n",
              "      <td>0.0</td>\n",
              "      <td>0.0</td>\n",
              "      <td>0.0</td>\n",
              "      <td>0.0</td>\n",
              "      <td>0.0</td>\n",
              "      <td>0.0</td>\n",
              "      <td>0.0</td>\n",
              "      <td>0.0</td>\n",
              "      <td>0.0</td>\n",
              "      <td>0.0</td>\n",
              "      <td>0.0</td>\n",
              "      <td>0.0</td>\n",
              "      <td>0.0</td>\n",
              "      <td>0.0</td>\n",
              "      <td>4.0</td>\n",
              "      <td>0.0</td>\n",
              "      <td>0.0</td>\n",
              "      <td>0.0</td>\n",
              "      <td>1.0</td>\n",
              "      <td>0.0</td>\n",
              "      <td>0.0</td>\n",
              "      <td>0.0</td>\n",
              "      <td>0.0</td>\n",
              "      <td>0.0</td>\n",
              "      <td>0.0</td>\n",
              "      <td>0.0</td>\n",
              "      <td>0.0</td>\n",
              "      <td>0.0</td>\n",
              "      <td>0.0</td>\n",
              "      <td>0.0</td>\n",
              "      <td>0.0</td>\n",
              "      <td>0.0</td>\n",
              "      <td>0.0</td>\n",
              "      <td>0.0</td>\n",
              "      <td>CT</td>\n",
              "    </tr>\n",
              "    <tr>\n",
              "      <th>...</th>\n",
              "      <td>...</td>\n",
              "      <td>...</td>\n",
              "      <td>...</td>\n",
              "      <td>...</td>\n",
              "      <td>...</td>\n",
              "      <td>...</td>\n",
              "      <td>...</td>\n",
              "      <td>...</td>\n",
              "      <td>...</td>\n",
              "      <td>...</td>\n",
              "      <td>...</td>\n",
              "      <td>...</td>\n",
              "      <td>...</td>\n",
              "      <td>...</td>\n",
              "      <td>...</td>\n",
              "      <td>...</td>\n",
              "      <td>...</td>\n",
              "      <td>...</td>\n",
              "      <td>...</td>\n",
              "      <td>...</td>\n",
              "      <td>...</td>\n",
              "      <td>...</td>\n",
              "      <td>...</td>\n",
              "      <td>...</td>\n",
              "      <td>...</td>\n",
              "      <td>...</td>\n",
              "      <td>...</td>\n",
              "      <td>...</td>\n",
              "      <td>...</td>\n",
              "      <td>...</td>\n",
              "      <td>...</td>\n",
              "      <td>...</td>\n",
              "      <td>...</td>\n",
              "      <td>...</td>\n",
              "      <td>...</td>\n",
              "      <td>...</td>\n",
              "      <td>...</td>\n",
              "      <td>...</td>\n",
              "      <td>...</td>\n",
              "      <td>...</td>\n",
              "      <td>...</td>\n",
              "      <td>...</td>\n",
              "      <td>...</td>\n",
              "      <td>...</td>\n",
              "      <td>...</td>\n",
              "      <td>...</td>\n",
              "      <td>...</td>\n",
              "      <td>...</td>\n",
              "      <td>...</td>\n",
              "      <td>...</td>\n",
              "      <td>...</td>\n",
              "      <td>...</td>\n",
              "      <td>...</td>\n",
              "      <td>...</td>\n",
              "      <td>...</td>\n",
              "      <td>...</td>\n",
              "      <td>...</td>\n",
              "      <td>...</td>\n",
              "      <td>...</td>\n",
              "      <td>...</td>\n",
              "      <td>...</td>\n",
              "      <td>...</td>\n",
              "      <td>...</td>\n",
              "      <td>...</td>\n",
              "      <td>...</td>\n",
              "      <td>...</td>\n",
              "      <td>...</td>\n",
              "      <td>...</td>\n",
              "      <td>...</td>\n",
              "      <td>...</td>\n",
              "      <td>...</td>\n",
              "      <td>...</td>\n",
              "      <td>...</td>\n",
              "      <td>...</td>\n",
              "      <td>...</td>\n",
              "      <td>...</td>\n",
              "      <td>...</td>\n",
              "      <td>...</td>\n",
              "      <td>...</td>\n",
              "      <td>...</td>\n",
              "      <td>...</td>\n",
              "    </tr>\n",
              "    <tr>\n",
              "      <th>122405</th>\n",
              "      <td>15.41</td>\n",
              "      <td>11.0</td>\n",
              "      <td>14.0</td>\n",
              "      <td>de_train</td>\n",
              "      <td>True</td>\n",
              "      <td>200.0</td>\n",
              "      <td>242.0</td>\n",
              "      <td>195.0</td>\n",
              "      <td>359.0</td>\n",
              "      <td>100.0</td>\n",
              "      <td>5950.0</td>\n",
              "      <td>2.0</td>\n",
              "      <td>4.0</td>\n",
              "      <td>1.0</td>\n",
              "      <td>2.0</td>\n",
              "      <td>4.0</td>\n",
              "      <td>0.0</td>\n",
              "      <td>1.0</td>\n",
              "      <td>0.0</td>\n",
              "      <td>0.0</td>\n",
              "      <td>0.0</td>\n",
              "      <td>1.0</td>\n",
              "      <td>0.0</td>\n",
              "      <td>0.0</td>\n",
              "      <td>0.0</td>\n",
              "      <td>0.0</td>\n",
              "      <td>0.0</td>\n",
              "      <td>0.0</td>\n",
              "      <td>0.0</td>\n",
              "      <td>0.0</td>\n",
              "      <td>0.0</td>\n",
              "      <td>0.0</td>\n",
              "      <td>0.0</td>\n",
              "      <td>0.0</td>\n",
              "      <td>0.0</td>\n",
              "      <td>2.0</td>\n",
              "      <td>0.0</td>\n",
              "      <td>0.0</td>\n",
              "      <td>0.0</td>\n",
              "      <td>0.0</td>\n",
              "      <td>...</td>\n",
              "      <td>0.0</td>\n",
              "      <td>0.0</td>\n",
              "      <td>0.0</td>\n",
              "      <td>0.0</td>\n",
              "      <td>0.0</td>\n",
              "      <td>0.0</td>\n",
              "      <td>0.0</td>\n",
              "      <td>0.0</td>\n",
              "      <td>2.0</td>\n",
              "      <td>0.0</td>\n",
              "      <td>0.0</td>\n",
              "      <td>0.0</td>\n",
              "      <td>0.0</td>\n",
              "      <td>0.0</td>\n",
              "      <td>0.0</td>\n",
              "      <td>0.0</td>\n",
              "      <td>0.0</td>\n",
              "      <td>0.0</td>\n",
              "      <td>0.0</td>\n",
              "      <td>2.0</td>\n",
              "      <td>0.0</td>\n",
              "      <td>0.0</td>\n",
              "      <td>2.0</td>\n",
              "      <td>0.0</td>\n",
              "      <td>0.0</td>\n",
              "      <td>0.0</td>\n",
              "      <td>0.0</td>\n",
              "      <td>0.0</td>\n",
              "      <td>0.0</td>\n",
              "      <td>1.0</td>\n",
              "      <td>2.0</td>\n",
              "      <td>1.0</td>\n",
              "      <td>1.0</td>\n",
              "      <td>0.0</td>\n",
              "      <td>0.0</td>\n",
              "      <td>0.0</td>\n",
              "      <td>0.0</td>\n",
              "      <td>0.0</td>\n",
              "      <td>0.0</td>\n",
              "      <td>T</td>\n",
              "    </tr>\n",
              "    <tr>\n",
              "      <th>122406</th>\n",
              "      <td>174.93</td>\n",
              "      <td>11.0</td>\n",
              "      <td>15.0</td>\n",
              "      <td>de_train</td>\n",
              "      <td>False</td>\n",
              "      <td>500.0</td>\n",
              "      <td>500.0</td>\n",
              "      <td>95.0</td>\n",
              "      <td>175.0</td>\n",
              "      <td>11500.0</td>\n",
              "      <td>23900.0</td>\n",
              "      <td>1.0</td>\n",
              "      <td>2.0</td>\n",
              "      <td>1.0</td>\n",
              "      <td>5.0</td>\n",
              "      <td>5.0</td>\n",
              "      <td>0.0</td>\n",
              "      <td>0.0</td>\n",
              "      <td>0.0</td>\n",
              "      <td>0.0</td>\n",
              "      <td>0.0</td>\n",
              "      <td>1.0</td>\n",
              "      <td>0.0</td>\n",
              "      <td>0.0</td>\n",
              "      <td>0.0</td>\n",
              "      <td>0.0</td>\n",
              "      <td>0.0</td>\n",
              "      <td>0.0</td>\n",
              "      <td>0.0</td>\n",
              "      <td>0.0</td>\n",
              "      <td>0.0</td>\n",
              "      <td>0.0</td>\n",
              "      <td>0.0</td>\n",
              "      <td>0.0</td>\n",
              "      <td>0.0</td>\n",
              "      <td>5.0</td>\n",
              "      <td>0.0</td>\n",
              "      <td>0.0</td>\n",
              "      <td>0.0</td>\n",
              "      <td>0.0</td>\n",
              "      <td>...</td>\n",
              "      <td>0.0</td>\n",
              "      <td>0.0</td>\n",
              "      <td>0.0</td>\n",
              "      <td>0.0</td>\n",
              "      <td>0.0</td>\n",
              "      <td>0.0</td>\n",
              "      <td>0.0</td>\n",
              "      <td>0.0</td>\n",
              "      <td>1.0</td>\n",
              "      <td>0.0</td>\n",
              "      <td>0.0</td>\n",
              "      <td>0.0</td>\n",
              "      <td>0.0</td>\n",
              "      <td>0.0</td>\n",
              "      <td>0.0</td>\n",
              "      <td>0.0</td>\n",
              "      <td>0.0</td>\n",
              "      <td>0.0</td>\n",
              "      <td>0.0</td>\n",
              "      <td>5.0</td>\n",
              "      <td>0.0</td>\n",
              "      <td>0.0</td>\n",
              "      <td>0.0</td>\n",
              "      <td>0.0</td>\n",
              "      <td>0.0</td>\n",
              "      <td>0.0</td>\n",
              "      <td>0.0</td>\n",
              "      <td>0.0</td>\n",
              "      <td>0.0</td>\n",
              "      <td>1.0</td>\n",
              "      <td>2.0</td>\n",
              "      <td>1.0</td>\n",
              "      <td>0.0</td>\n",
              "      <td>0.0</td>\n",
              "      <td>0.0</td>\n",
              "      <td>0.0</td>\n",
              "      <td>0.0</td>\n",
              "      <td>0.0</td>\n",
              "      <td>0.0</td>\n",
              "      <td>T</td>\n",
              "    </tr>\n",
              "    <tr>\n",
              "      <th>122407</th>\n",
              "      <td>114.93</td>\n",
              "      <td>11.0</td>\n",
              "      <td>15.0</td>\n",
              "      <td>de_train</td>\n",
              "      <td>False</td>\n",
              "      <td>500.0</td>\n",
              "      <td>500.0</td>\n",
              "      <td>495.0</td>\n",
              "      <td>475.0</td>\n",
              "      <td>1200.0</td>\n",
              "      <td>6700.0</td>\n",
              "      <td>3.0</td>\n",
              "      <td>5.0</td>\n",
              "      <td>1.0</td>\n",
              "      <td>5.0</td>\n",
              "      <td>5.0</td>\n",
              "      <td>0.0</td>\n",
              "      <td>2.0</td>\n",
              "      <td>0.0</td>\n",
              "      <td>0.0</td>\n",
              "      <td>0.0</td>\n",
              "      <td>1.0</td>\n",
              "      <td>0.0</td>\n",
              "      <td>0.0</td>\n",
              "      <td>1.0</td>\n",
              "      <td>0.0</td>\n",
              "      <td>0.0</td>\n",
              "      <td>0.0</td>\n",
              "      <td>0.0</td>\n",
              "      <td>0.0</td>\n",
              "      <td>0.0</td>\n",
              "      <td>0.0</td>\n",
              "      <td>0.0</td>\n",
              "      <td>0.0</td>\n",
              "      <td>0.0</td>\n",
              "      <td>4.0</td>\n",
              "      <td>0.0</td>\n",
              "      <td>0.0</td>\n",
              "      <td>0.0</td>\n",
              "      <td>0.0</td>\n",
              "      <td>...</td>\n",
              "      <td>0.0</td>\n",
              "      <td>0.0</td>\n",
              "      <td>0.0</td>\n",
              "      <td>0.0</td>\n",
              "      <td>0.0</td>\n",
              "      <td>0.0</td>\n",
              "      <td>0.0</td>\n",
              "      <td>0.0</td>\n",
              "      <td>1.0</td>\n",
              "      <td>0.0</td>\n",
              "      <td>0.0</td>\n",
              "      <td>0.0</td>\n",
              "      <td>0.0</td>\n",
              "      <td>0.0</td>\n",
              "      <td>0.0</td>\n",
              "      <td>3.0</td>\n",
              "      <td>1.0</td>\n",
              "      <td>0.0</td>\n",
              "      <td>0.0</td>\n",
              "      <td>1.0</td>\n",
              "      <td>0.0</td>\n",
              "      <td>0.0</td>\n",
              "      <td>0.0</td>\n",
              "      <td>0.0</td>\n",
              "      <td>0.0</td>\n",
              "      <td>0.0</td>\n",
              "      <td>0.0</td>\n",
              "      <td>2.0</td>\n",
              "      <td>0.0</td>\n",
              "      <td>4.0</td>\n",
              "      <td>4.0</td>\n",
              "      <td>3.0</td>\n",
              "      <td>5.0</td>\n",
              "      <td>1.0</td>\n",
              "      <td>0.0</td>\n",
              "      <td>0.0</td>\n",
              "      <td>5.0</td>\n",
              "      <td>0.0</td>\n",
              "      <td>0.0</td>\n",
              "      <td>T</td>\n",
              "    </tr>\n",
              "    <tr>\n",
              "      <th>122408</th>\n",
              "      <td>94.93</td>\n",
              "      <td>11.0</td>\n",
              "      <td>15.0</td>\n",
              "      <td>de_train</td>\n",
              "      <td>False</td>\n",
              "      <td>500.0</td>\n",
              "      <td>500.0</td>\n",
              "      <td>495.0</td>\n",
              "      <td>475.0</td>\n",
              "      <td>1200.0</td>\n",
              "      <td>6700.0</td>\n",
              "      <td>3.0</td>\n",
              "      <td>5.0</td>\n",
              "      <td>1.0</td>\n",
              "      <td>5.0</td>\n",
              "      <td>5.0</td>\n",
              "      <td>0.0</td>\n",
              "      <td>2.0</td>\n",
              "      <td>0.0</td>\n",
              "      <td>0.0</td>\n",
              "      <td>0.0</td>\n",
              "      <td>1.0</td>\n",
              "      <td>0.0</td>\n",
              "      <td>0.0</td>\n",
              "      <td>1.0</td>\n",
              "      <td>0.0</td>\n",
              "      <td>0.0</td>\n",
              "      <td>0.0</td>\n",
              "      <td>0.0</td>\n",
              "      <td>0.0</td>\n",
              "      <td>0.0</td>\n",
              "      <td>0.0</td>\n",
              "      <td>0.0</td>\n",
              "      <td>0.0</td>\n",
              "      <td>0.0</td>\n",
              "      <td>4.0</td>\n",
              "      <td>0.0</td>\n",
              "      <td>0.0</td>\n",
              "      <td>0.0</td>\n",
              "      <td>0.0</td>\n",
              "      <td>...</td>\n",
              "      <td>0.0</td>\n",
              "      <td>0.0</td>\n",
              "      <td>0.0</td>\n",
              "      <td>0.0</td>\n",
              "      <td>0.0</td>\n",
              "      <td>0.0</td>\n",
              "      <td>0.0</td>\n",
              "      <td>0.0</td>\n",
              "      <td>2.0</td>\n",
              "      <td>0.0</td>\n",
              "      <td>0.0</td>\n",
              "      <td>0.0</td>\n",
              "      <td>0.0</td>\n",
              "      <td>0.0</td>\n",
              "      <td>0.0</td>\n",
              "      <td>3.0</td>\n",
              "      <td>1.0</td>\n",
              "      <td>0.0</td>\n",
              "      <td>0.0</td>\n",
              "      <td>1.0</td>\n",
              "      <td>0.0</td>\n",
              "      <td>0.0</td>\n",
              "      <td>0.0</td>\n",
              "      <td>0.0</td>\n",
              "      <td>0.0</td>\n",
              "      <td>0.0</td>\n",
              "      <td>0.0</td>\n",
              "      <td>2.0</td>\n",
              "      <td>0.0</td>\n",
              "      <td>1.0</td>\n",
              "      <td>5.0</td>\n",
              "      <td>0.0</td>\n",
              "      <td>3.0</td>\n",
              "      <td>0.0</td>\n",
              "      <td>0.0</td>\n",
              "      <td>0.0</td>\n",
              "      <td>4.0</td>\n",
              "      <td>0.0</td>\n",
              "      <td>0.0</td>\n",
              "      <td>T</td>\n",
              "    </tr>\n",
              "    <tr>\n",
              "      <th>122409</th>\n",
              "      <td>74.93</td>\n",
              "      <td>11.0</td>\n",
              "      <td>15.0</td>\n",
              "      <td>de_train</td>\n",
              "      <td>False</td>\n",
              "      <td>375.0</td>\n",
              "      <td>479.0</td>\n",
              "      <td>395.0</td>\n",
              "      <td>466.0</td>\n",
              "      <td>1100.0</td>\n",
              "      <td>7000.0</td>\n",
              "      <td>2.0</td>\n",
              "      <td>5.0</td>\n",
              "      <td>1.0</td>\n",
              "      <td>4.0</td>\n",
              "      <td>5.0</td>\n",
              "      <td>0.0</td>\n",
              "      <td>2.0</td>\n",
              "      <td>0.0</td>\n",
              "      <td>0.0</td>\n",
              "      <td>0.0</td>\n",
              "      <td>1.0</td>\n",
              "      <td>0.0</td>\n",
              "      <td>0.0</td>\n",
              "      <td>1.0</td>\n",
              "      <td>0.0</td>\n",
              "      <td>0.0</td>\n",
              "      <td>0.0</td>\n",
              "      <td>0.0</td>\n",
              "      <td>0.0</td>\n",
              "      <td>0.0</td>\n",
              "      <td>0.0</td>\n",
              "      <td>0.0</td>\n",
              "      <td>0.0</td>\n",
              "      <td>0.0</td>\n",
              "      <td>4.0</td>\n",
              "      <td>0.0</td>\n",
              "      <td>0.0</td>\n",
              "      <td>0.0</td>\n",
              "      <td>0.0</td>\n",
              "      <td>...</td>\n",
              "      <td>0.0</td>\n",
              "      <td>0.0</td>\n",
              "      <td>0.0</td>\n",
              "      <td>0.0</td>\n",
              "      <td>0.0</td>\n",
              "      <td>0.0</td>\n",
              "      <td>0.0</td>\n",
              "      <td>0.0</td>\n",
              "      <td>2.0</td>\n",
              "      <td>0.0</td>\n",
              "      <td>0.0</td>\n",
              "      <td>0.0</td>\n",
              "      <td>0.0</td>\n",
              "      <td>0.0</td>\n",
              "      <td>0.0</td>\n",
              "      <td>2.0</td>\n",
              "      <td>1.0</td>\n",
              "      <td>0.0</td>\n",
              "      <td>0.0</td>\n",
              "      <td>1.0</td>\n",
              "      <td>0.0</td>\n",
              "      <td>0.0</td>\n",
              "      <td>0.0</td>\n",
              "      <td>0.0</td>\n",
              "      <td>0.0</td>\n",
              "      <td>0.0</td>\n",
              "      <td>0.0</td>\n",
              "      <td>0.0</td>\n",
              "      <td>0.0</td>\n",
              "      <td>0.0</td>\n",
              "      <td>3.0</td>\n",
              "      <td>0.0</td>\n",
              "      <td>2.0</td>\n",
              "      <td>0.0</td>\n",
              "      <td>0.0</td>\n",
              "      <td>0.0</td>\n",
              "      <td>3.0</td>\n",
              "      <td>0.0</td>\n",
              "      <td>0.0</td>\n",
              "      <td>T</td>\n",
              "    </tr>\n",
              "  </tbody>\n",
              "</table>\n",
              "<p>122410 rows × 97 columns</p>\n",
              "</div>"
            ],
            "text/plain": [
              "        time_left  ct_score  ...  t_grenade_decoygrenade round_winner\n",
              "0          175.00       0.0  ...                     0.0           CT\n",
              "1          156.03       0.0  ...                     0.0           CT\n",
              "2           96.03       0.0  ...                     0.0           CT\n",
              "3           76.03       0.0  ...                     0.0           CT\n",
              "4          174.97       1.0  ...                     0.0           CT\n",
              "...           ...       ...  ...                     ...          ...\n",
              "122405      15.41      11.0  ...                     0.0            T\n",
              "122406     174.93      11.0  ...                     0.0            T\n",
              "122407     114.93      11.0  ...                     0.0            T\n",
              "122408      94.93      11.0  ...                     0.0            T\n",
              "122409      74.93      11.0  ...                     0.0            T\n",
              "\n",
              "[122410 rows x 97 columns]"
            ]
          },
          "execution_count": 13,
          "metadata": {},
          "output_type": "execute_result"
        }
      ]
    },
    {
      "cell_type": "markdown",
      "metadata": {
        "id": "TU48hKAwERL4"
      },
      "source": [
        "Στην συνέχεια της εργαστηριακής άσκησης θα εργαστούμε πάνω στο dataset \"CS:GO Round Winner \n",
        "Classification\" του Kaggle. To CS:GO είναι ένα ηλεκτρονικό παιχνίδι το οποίο θέτει αντιμέτωπες δύο ομάδες, τους Terrorists και τους Counter-Terrorists.\n",
        " Και στις δύο ομάδες έχει ανατεθεί να εξαλείψουν η μία την άλλη ενώ παράλληλα εκπληρώνουν \n",
        "διαφορετικούς στόχους. Έτσι το συγκεκριμένο dataset είναι ένα binary dataset που περιλαμβάνει \n",
        "122410 παραδείγματα (δείγματα) τα οποία αναφέρονται σε γύρους του παιχνιδιού στους οποίους \n",
        "κέρδισαν είτε οι Terrorists είτε οι Counter-Terrorists. Τα παραδείγματα αυτά προέκυψαν από \n",
        "στιγμυότυπα γύρων από περιπου 700 demo από τουρνουά υψηλού επιπέδου το 2019-2020 για το \n",
        "συγκεκριμένο παιχνίδι. Οι γύροι προθέρμανσης και οι επανεκκινήσεις έχουν φιλτραριστεί και για τους \n",
        "υπόλοιπους γύρους ένα στιγμιότυπο γύρου έχει καταγραφεί κάθε 20 δευτερόλεπτα μέχρι να αποφασιστεί \n",
        "ο νικητής του γύρου."
      ]
    },
    {
      "cell_type": "markdown",
      "metadata": {
        "id": "oo5GgNhYEVgJ"
      },
      "source": [
        "Το κάθε δείγμα αποτελείται από 96 χαρακτηριστικά , όπως για παράδειγμα το συνολικό score που \n",
        "έχει η κάθε ομάδα μέχρι στιγμής στον γύρο κ.α., τα περισσότερα από τα οποία παίρνουν συνεχείς \n",
        "τιμές (πραγματικές τιμές). Παρατηρώντας όμως το Dataset μπορούμε να δούμε ότι δύο από τα \n",
        "χαρακτηριστικά είναι κατηγορικά έχοντας την δυνατότητα να πάρουν δύο ή περισσότερες διαφορετικές τιμές string. \n",
        "Τα χαρακτηριστικά αυτά τις επικεφαλίδες \"map\" και  \"bomb_planted\" όπου φαίνονται και στην συνέχεια:"
      ]
    },
    {
      "cell_type": "code",
      "metadata": {
        "colab": {
          "base_uri": "https://localhost:8080/"
        },
        "id": "TOt-zJW4EFb5",
        "outputId": "4eedc457-900e-45d5-c510-f1236dfb4b5e"
      },
      "source": [
        "df['map']"
      ],
      "execution_count": null,
      "outputs": [
        {
          "data": {
            "text/plain": [
              "0         de_dust2\n",
              "1         de_dust2\n",
              "2         de_dust2\n",
              "3         de_dust2\n",
              "4         de_dust2\n",
              "            ...   \n",
              "122405    de_train\n",
              "122406    de_train\n",
              "122407    de_train\n",
              "122408    de_train\n",
              "122409    de_train\n",
              "Name: map, Length: 122410, dtype: object"
            ]
          },
          "execution_count": 14,
          "metadata": {},
          "output_type": "execute_result"
        }
      ]
    },
    {
      "cell_type": "code",
      "metadata": {
        "colab": {
          "base_uri": "https://localhost:8080/"
        },
        "id": "GbRGVDefEUe9",
        "outputId": "06912ff7-63a5-44b5-a49f-688757257f0d"
      },
      "source": [
        "df['bomb_planted']"
      ],
      "execution_count": null,
      "outputs": [
        {
          "data": {
            "text/plain": [
              "0         False\n",
              "1         False\n",
              "2         False\n",
              "3         False\n",
              "4         False\n",
              "          ...  \n",
              "122405     True\n",
              "122406    False\n",
              "122407    False\n",
              "122408    False\n",
              "122409    False\n",
              "Name: bomb_planted, Length: 122410, dtype: bool"
            ]
          },
          "execution_count": 15,
          "metadata": {},
          "output_type": "execute_result"
        }
      ]
    },
    {
      "cell_type": "markdown",
      "metadata": {
        "id": "9ZmsS1pxEeUU"
      },
      "source": [
        "\n",
        "Η 97η κολώνα του workframe αποτελείται από τα labels των δειγμάτων. Το κάθε label δείχνει \n",
        "ποια από τις δύο ομάδες (Terrorists, Counter-Terrorirst) ήταν η νικήτρια στον συγκεκριμένο \n",
        "γύρο που αντιπρωσοπεύει το αντίστοιχο δείγμα παίρνωτας είτε την τιμή T (Terrorists) είτε την \n",
        "τιμή CT (Counter-Terrorists). Και τα lables όπως παρατηρούμε έχουν τιμές string (οι τιμές είναι \n",
        "binary και γι αυτό το πρόβλημα μας είναι binary classification). Στην συνέχεια φαίνεται η κολώνα \n",
        "με τα labels η οποία αντισοιχεί στην επικεφαλίδα \"round_winner\":"
      ]
    },
    {
      "cell_type": "code",
      "metadata": {
        "colab": {
          "base_uri": "https://localhost:8080/"
        },
        "id": "Y2Ua6hEjEpFi",
        "outputId": "45b41114-5b1d-47c6-f1e0-85713e87cb60"
      },
      "source": [
        "df['round_winner']"
      ],
      "execution_count": null,
      "outputs": [
        {
          "data": {
            "text/plain": [
              "0         CT\n",
              "1         CT\n",
              "2         CT\n",
              "3         CT\n",
              "4         CT\n",
              "          ..\n",
              "122405     T\n",
              "122406     T\n",
              "122407     T\n",
              "122408     T\n",
              "122409     T\n",
              "Name: round_winner, Length: 122410, dtype: object"
            ]
          },
          "execution_count": 16,
          "metadata": {},
          "output_type": "execute_result"
        }
      ]
    },
    {
      "cell_type": "markdown",
      "metadata": {
        "id": "9HpE7I3KEkRV"
      },
      "source": [
        "Το αρχείο που περιέχει τα δεδομένα καλείται 'csgo_round_snapshots.cv' και αποτελείται \n",
        "από 122411 γραμμές. H πρώτη γραμμή περιέχει τα ονόματα των χαρακτηριστικών (επικεφαλίδες) \n",
        "τα οποία χωρίζονται με ',' ενώ οι υπόλοιπες 122410 τα δείγματα του Dataset. Καθε μία από αυτές\n",
        "τις 122410 γραμμές περιέχει 97 τιμές χωρισμένενες επίσης με ','. Οι πρώτες 96 αντιστοιχούν στις \n",
        "τιμές των χαρακτηριστικών ενώ η 97$^{η}$ περιέχει την ετικέτα (label). Το αρχείο δεν περιέχει κάποια\n",
        "αρίθμιση των δειγμάτων. \n",
        "\n",
        "Τέλος, όσον αφορά την κατανομή των δειγμάτων στις δύο κλάσεις του dataset, παρατηρούμε ότι αυτή \n",
        "είναι ισορροπημένη, με ποσοστό 51% να αντιστοιχούν σε στιγμιότυπα γύρων στους οποίους νικήτρια \n",
        "ομάδα ήταν οι Terrorists και ποσοστό 49% σε στιγμιότυπα γύρων στους οποίους νικήτρια ομάδα ήταν \n",
        "οι Counter-Terrorists."
      ]
    },
    {
      "cell_type": "markdown",
      "metadata": {
        "id": "oEvWCPTnEusQ"
      },
      "source": [
        "### Προετοιμασία"
      ]
    },
    {
      "cell_type": "markdown",
      "metadata": {
        "id": "L5iegGSIExZ5"
      },
      "source": [
        "\n",
        "Αρχικά, διαβάζουμε το αρχείο 'csgo_round_cnapshots.cv' και αποθηκεύουμε τις πρώτες \n",
        "96 κολώνες (που αντιστοιχούν στα χαρακτηριστικά εισόδου) σε ένα datarame \"features_df\", \n",
        "και τη 97$^{η}$ κολώνα (που αντιστοιχεί στα labels) σε ένα dataframe \"labels_df\". Η πρώτη γραμμή του \n",
        "αρχείου όπως αναφέραμε αντιστοιχεί στα ονόματα των χαρακτηριστικών (κολώνων) και γι αυτό τον λόγο \n",
        "αποθηκεύεται ως επικεφαλίδα σε καθένα από τα δύο dataframes (αφήνωντας την επιλογή header=default \n",
        "κατά το διάβασμα του αρχέιου).\n",
        "\n",
        "<i><u>Σχόλιο</u>: Για το διαχωρισμό και την αποθήκευση των attributes χρησιμοποιούμε dataframes και \n",
        "όχι απευθείας numpy arrays λόγω της ποικιλομορφίας των τύπων τους."
      ]
    },
    {
      "cell_type": "code",
      "metadata": {
        "id": "dQHdjQpIFZ1G"
      },
      "source": [
        "import pandas as pd\n",
        "import numpy as np\n",
        "\n",
        "df = pd.read_csv(\"csgo_round_snapshots.csv\") #option header takes his default value\n",
        "labels_df = df.iloc[:, [96]] \n",
        "features_df = df.iloc[:, :-1]"
      ],
      "execution_count": 4,
      "outputs": []
    },
    {
      "cell_type": "markdown",
      "metadata": {
        "id": "trPo-47FFDhl"
      },
      "source": [
        "#### Επεξεργασία του dataframe \"labels_df\""
      ]
    },
    {
      "cell_type": "markdown",
      "metadata": {
        "id": "nCLYPwh_FGwQ"
      },
      "source": [
        "Όσον αφορά το dataframe - κολώνα με τις κλάσεις, \"labels_df\", θα πρέπει να μετατρέψουμε \n",
        "τα string 'T' και 'CT' σε 0 και 1 αντίστοιχα. Για το σκοπό αυτό ορίζουμε το αντίστοιχο mapping, \n",
        "το οποίο και εφαρμόζουμε στο 'labels_df' μέσω της μεθόδου replace. Στη συνέχεια, εφαρμόζουμε \n",
        "διαδοχικά τις μεθόδους \"values\" και flatten() στο dataframe που προέκυψε, έτσι ώστε να πάρουμε \n",
        "ένα μονοδιάστατο np array (12240,)."
      ]
    },
    {
      "cell_type": "code",
      "metadata": {
        "id": "xajHncRxEcbl"
      },
      "source": [
        "mapping = {'T': 0, 'CT': 1}\n",
        "labels_df = labels_df.replace({\"round_winner\": mapping}) \n",
        "np_labels = labels_df.values.flatten()"
      ],
      "execution_count": 5,
      "outputs": []
    },
    {
      "cell_type": "code",
      "metadata": {
        "colab": {
          "base_uri": "https://localhost:8080/"
        },
        "id": "FgEE86vSFF2K",
        "outputId": "76af81d6-543d-439f-9e8b-099d8e35a1b7"
      },
      "source": [
        "print('Labels array dimension:', np_labels.shape)"
      ],
      "execution_count": 6,
      "outputs": [
        {
          "output_type": "stream",
          "name": "stdout",
          "text": [
            "Labels array dimension: (122410,)\n"
          ]
        }
      ]
    },
    {
      "cell_type": "markdown",
      "metadata": {
        "id": "2FfPJlS7F_PC"
      },
      "source": [
        "#### Επεξεργασία του dataframe \"features_df\""
      ]
    },
    {
      "cell_type": "markdown",
      "metadata": {
        "id": "06zLpGRVGDPM"
      },
      "source": [
        "##### <u>Διαχείριση των απουσιαζουσών τιμών<u>"
      ]
    },
    {
      "cell_type": "markdown",
      "metadata": {
        "id": "MEm5RUbbGSa9"
      },
      "source": [
        "Παρατηρώντας το δωθεν dataset βλεπουμε ότι δεν υπάρχουν τιμές χαρακτηριστικών οι οποίες να \n",
        "απουσιάζουν. Την παρατήρηση αυτή μπορούμε να την ελεγξουμε και με την συνάρτηση notnull() \n",
        "η οποία επιστρέφει ένα bollean dataframe όπου όλες οι τιμές του dataframe που ήταν null \n",
        "έχουν αντικατασταθεί με False ενώ οι υπόλοιπες με True."
      ]
    },
    {
      "cell_type": "code",
      "metadata": {
        "colab": {
          "base_uri": "https://localhost:8080/"
        },
        "id": "6m_PECyHFkqC",
        "outputId": "132bc1aa-abf1-46ab-d429-590c39012a0d"
      },
      "source": [
        "print('AND for all boolean values:', df.notnull().all().all())"
      ],
      "execution_count": 7,
      "outputs": [
        {
          "output_type": "stream",
          "name": "stdout",
          "text": [
            "AND for all boolean values: True\n"
          ]
        }
      ]
    },
    {
      "cell_type": "markdown",
      "metadata": {
        "id": "ZrhuBm2ZGW5k"
      },
      "source": [
        "#####<u>Διαχείριση των Κατηγορικών Χαρακτηριστικών των δειγμάτων μας</u>"
      ]
    },
    {
      "cell_type": "markdown",
      "metadata": {
        "id": "NyZwQv0TGZHy"
      },
      "source": [
        "Αρχικά χωρίζουμε το δωθέν dataset σε train και test με ποσοστό 70% και 30% αντίστοιχα \n",
        "έτσι ώστε να εφαρμόσουμε την προεπεξεργασία των δεδομένων βασισμένοι μόνο στο train set."
      ]
    },
    {
      "cell_type": "code",
      "metadata": {
        "id": "BGwtmtRnGUJ2"
      },
      "source": [
        "from sklearn.model_selection import train_test_split\n",
        "\n",
        "#split dataset to train and test set\n",
        "train_features_df, test_features_df, y_train, y_test = train_test_split(features_df, np_labels, test_size = 0.3, shuffle = True)"
      ],
      "execution_count": 8,
      "outputs": []
    },
    {
      "cell_type": "markdown",
      "metadata": {
        "id": "Uah7oGddGevG"
      },
      "source": [
        "Όπως αναφέραμε και προηγουμένως τα κατηγορικά χαρακτηριστικά του dataframe \n",
        "βρίσκονται στις κολώνες με επικεφαλίδες \"map\" και \"bob_planted\". Kαθώς τα σύνολα τιμών \n",
        "αυτών δεν είναι διατεταγμένα, επιλέγουμε να μετατρέψουμε κάθε κατηγορικό χαρτακτηριστικό \n",
        "με m τιμές σε m binary χαρακτηριστικά, από τα οποία ένα μόνο θα είναι ενεργό κάθε φορά. \n",
        "(Η διαδικασία αυτή υλοποιείται στη συνάρτηση Dummies). Σημειώνουμε, βέβαια ότι με τον τρόπο \n",
        "αυτό αυξάνουμε τη διάσταση των χαρακτηριστικών των δειγμάτων μας."
      ]
    },
    {
      "cell_type": "code",
      "metadata": {
        "id": "GXfw9NS-GbXh"
      },
      "source": [
        "def Dummies(train_df, test_df, column_list = ['map', 'bomb_planted']):\n",
        "    train_df = pd.get_dummies(train_df, columns = column_list) #convert nominal attribute with m values to m binary attributes - only one of them is active at a time\n",
        "    test_df = pd.get_dummies(test_df, columns = column_list)\n",
        "    test_df = test_df.reindex(columns = train_df.columns, fill_value = 0)\n",
        "    return train_df , test_df"
      ],
      "execution_count": 9,
      "outputs": []
    },
    {
      "cell_type": "code",
      "metadata": {
        "colab": {
          "base_uri": "https://localhost:8080/"
        },
        "id": "cEAWga4hGgf0",
        "outputId": "9fb54174-3114-43f0-fd2d-7a5cca24604e"
      },
      "source": [
        "train_features_df , test_features_df = Dummies(train_features_df , test_features_df)\n",
        "\n",
        "print('Number of attributes after Dummies:', train_features_df.shape[1])"
      ],
      "execution_count": 10,
      "outputs": [
        {
          "output_type": "stream",
          "name": "stdout",
          "text": [
            "Number of attributes after Dummies: 104\n"
          ]
        }
      ]
    },
    {
      "cell_type": "markdown",
      "metadata": {
        "id": "4mStSrOUGzdS"
      },
      "source": [
        "##### <u>Μετατροπή των χαρακτηριστικών σε numpy arrays</u>"
      ]
    },
    {
      "cell_type": "markdown",
      "metadata": {
        "id": "rcaua56_G13s"
      },
      "source": [
        "\n",
        "Έπειτα, από την παραπάνω προεπεξεργασία, παρατηρούμε ότι κάθε δείγμα αποτελείται από 104 \n",
        "χαρακτηριστικά. Μετατρέπουμε, λοιπόν, όλες τις τιμές των χαρακτηριστικών όλων των δειγμάτων \n",
        "(train και test set) σε αριθμητικές. Τέλος, μετατρέπουμε τα dataframes που αντιστοιχούν στο train \n",
        "και το test set στην τελική τους μορφή, δηλαδή σε numpy arrays, με σκοπό να μπορέσουμε στη συνέχεια \n",
        "να τα χρησιμοποιήσουμε ως εισόδους στους διάφορους ταξινομητές που θα υλοποιήσουμε."
      ]
    },
    {
      "cell_type": "code",
      "metadata": {
        "id": "e_c-TMWaGiRG"
      },
      "source": [
        "X_train = train_features_df.apply(pd.to_numeric).values\n",
        "X_test = test_features_df.apply(pd.to_numeric).values"
      ],
      "execution_count": 11,
      "outputs": []
    },
    {
      "cell_type": "markdown",
      "metadata": {
        "id": "of0Yik7GL_GC"
      },
      "source": [
        "### Επίδοση Out-of-the-box"
      ]
    },
    {
      "cell_type": "markdown",
      "metadata": {
        "id": "FK_d-w6tG73h"
      },
      "source": [
        "Στη συνέχεια πάνω στο δοθέν dataset θα μελετήσουμε καθέναν από τους ακόλουθους ταξινομητές:\n",
        "* Multi-Layer Perceptron (MLP)\n",
        "* Support Vector Machines (SVM)"
      ]
    },
    {
      "cell_type": "code",
      "metadata": {
        "id": "JgAFKrdwGwgu"
      },
      "source": [
        "from sklearn.neural_network import MLPClassifier\n",
        "from sklearn.svm import SVC\n",
        "\n",
        "mlp = MLPClassifier()\n",
        "svm = SVC()"
      ],
      "execution_count": null,
      "outputs": []
    },
    {
      "cell_type": "code",
      "metadata": {
        "id": "gUXyh-a4HIuO"
      },
      "source": [
        "classifiers_out_of_the_box = [mlp, svm]\n",
        "classifiers_names = ['mlp classifier' , 'svm classifier']\n",
        "\n",
        "cs_go_winner_cross_val_accuracy_out_of_the_box = dict()\n",
        "cs_go_winner_cross_val_f1_score_out_of_the_box = dict()\n",
        "cs_go_winner_accuracy_out_of_the_box = dict()\n",
        "cs_go_winner_f1_score_out_of_the_box = dict()\n"
      ],
      "execution_count": null,
      "outputs": []
    },
    {
      "cell_type": "code",
      "metadata": {
        "id": "C-VNRKr5VvII"
      },
      "source": [
        "import warnings\n",
        "warnings.filterwarnings(\"ignore\")\n",
        "\n",
        "from sklearn.model_selection import cross_val_score\n",
        "from sklearn.metrics import f1_score\n",
        "\n",
        "for classifier, classifier_name in zip(classifiers_out_of_the_box, classifiers_names):\n",
        "  cs_go_winner_cross_val_accuracy_out_of_the_box[classifier_name] = np.round(np.average(cross_val_score(classifier, X_train, y_train, cv = 5, scoring = 'accuracy')), 4)\n",
        "  cs_go_winner_cross_val_f1_score_out_of_the_box[classifier_name] = np.round(np.average(cross_val_score(classifier, X_train, y_train, cv = 5, scoring = 'f1')), 4)\n",
        "  model = classifier.fit(X_train, y_train)  \n",
        "  cs_go_winner_accuracy_out_of_the_box[classifier_name] = np.round(model.score(X_test, y_test), 4)  \n",
        "  cs_go_winner_f1_score_out_of_the_box[classifier_name] = np.round(f1_score(y_test, model.predict(X_test)), 4)"
      ],
      "execution_count": null,
      "outputs": []
    },
    {
      "cell_type": "code",
      "metadata": {
        "id": "pFMOktMIbywO"
      },
      "source": [
        "from sklearn.dummy import DummyClassifier\n",
        "\n",
        "dc_uniform = DummyClassifier(strategy = \"uniform\")\n",
        "dc_constant_0 = DummyClassifier(strategy = \"constant\", constant = 0)\n",
        "dc_constant_1 = DummyClassifier(strategy = \"constant\", constant = 1)\n",
        "dc_most_frequent = DummyClassifier(strategy = \"most_frequent\")\n",
        "dc_stratified = DummyClassifier(strategy = \"stratified\")\n",
        "\n",
        "dummies_classifiers = [dc_uniform, dc_constant_0, dc_constant_1, dc_most_frequent, dc_stratified]\n",
        "dummies_names = ['dummy classifier - uniform', 'dummy classifier - constant 0', 'dummy classifier - constant 1', 'dummy classifier - most frequent', 'dummy classifer - stratified',]"
      ],
      "execution_count": null,
      "outputs": []
    },
    {
      "cell_type": "code",
      "metadata": {
        "id": "FQf9GVgfb8oL"
      },
      "source": [
        "for classifier, classifier_name in zip(dummies_classifiers, dummies_names):\n",
        "  cs_go_winner_cross_val_accuracy_out_of_the_box[classifier_name] = np.round(np.average(cross_val_score(classifier, X_train, y_train, cv = 5, scoring = 'accuracy')), 4)\n",
        "  cs_go_winner_cross_val_f1_score_out_of_the_box[classifier_name] = np.round(np.average(cross_val_score(classifier, X_train, y_train, cv = 5, scoring = 'f1')), 4)\n",
        "  model = classifier.fit(X_train, y_train)  \n",
        "  cs_go_winner_accuracy_out_of_the_box[classifier_name] = np.round(model.score(X_test, y_test), 4)  \n",
        "  cs_go_winner_f1_score_out_of_the_box[classifier_name] = np.round(f1_score(y_test, model.predict(X_test)), 4)"
      ],
      "execution_count": null,
      "outputs": []
    },
    {
      "cell_type": "code",
      "metadata": {
        "colab": {
          "base_uri": "https://localhost:8080/"
        },
        "id": "oNnQ7b2hJcOW",
        "outputId": "69da6b73-42c2-4e5c-8a30-6b4a04f2c2a8"
      },
      "source": [
        "sorted_cross_val_accuracy = [(k, cs_go_winner_cross_val_accuracy_out_of_the_box[k]) for k in sorted(cs_go_winner_cross_val_accuracy_out_of_the_box, key = cs_go_winner_cross_val_accuracy_out_of_the_box.get, reverse = True)]\n",
        "\n",
        "print(\"Cross Valiidation Accuracy on the CS-GO Dataset\\n\")\n",
        "for k, v in sorted_cross_val_accuracy:\n",
        "  print(k + ':', v)\n",
        "\n",
        "sorted_cross_val_f1_score = [(k, cs_go_winner_cross_val_f1_score_out_of_the_box[k]) for k in sorted(cs_go_winner_cross_val_f1_score_out_of_the_box, key = cs_go_winner_cross_val_f1_score_out_of_the_box.get, reverse = True)]\n",
        "\n",
        "print(\"\\nCross Valiidation F1 score on the Japanese Credit Screening Dataset\\n\")\n",
        "for k, v in sorted_cross_val_f1_score:\n",
        "  print(k + ':', v)"
      ],
      "execution_count": null,
      "outputs": [
        {
          "name": "stdout",
          "output_type": "stream",
          "text": [
            "Cross Valiidation Accuracy on the CS-GO Dataset\n",
            "\n",
            "svm classifier: 0.7168\n",
            "mlp classifier: 0.6876\n",
            "dummy classifier - constant 0: 0.5088\n",
            "dummy classifier - most frequent: 0.5088\n",
            "dummy classifer - stratified: 0.5\n",
            "dummy classifier - uniform: 0.4981\n",
            "dummy classifier - constant 1: 0.4912\n",
            "\n",
            "Cross Valiidation F1 score on the Japanese Credit Screening Dataset\n",
            "\n",
            "svm classifier: 0.7104\n",
            "mlp classifier: 0.7085\n",
            "dummy classifier - constant 1: 0.6588\n",
            "dummy classifier - uniform: 0.4922\n",
            "dummy classifer - stratified: 0.4914\n",
            "dummy classifier - constant 0: 0.0\n",
            "dummy classifier - most frequent: 0.0\n"
          ]
        }
      ]
    },
    {
      "cell_type": "code",
      "metadata": {
        "colab": {
          "base_uri": "https://localhost:8080/"
        },
        "id": "A2QmckmMX86s",
        "outputId": "a1068020-0773-4a94-87a5-eae9ba27ad94"
      },
      "source": [
        "sorted_accuracy = [(k, cs_go_winner_accuracy_out_of_the_box[k]) for k in sorted(cs_go_winner_accuracy_out_of_the_box, key = cs_go_winner_accuracy_out_of_the_box.get, reverse = True)]\n",
        "\n",
        "print(\"\\nClassification Accuracy on the CS-GO Dataset (30% test set)\\n\")\n",
        "for k, v in sorted_accuracy:\n",
        "  print(k + ':', v)\n",
        "\n",
        "sorted_f1_score = [(k, cs_go_winner_f1_score_out_of_the_box[k]) for k in sorted(cs_go_winner_f1_score_out_of_the_box, key = cs_go_winner_f1_score_out_of_the_box.get, reverse = True)]\n",
        "\n",
        "print(\"\\nClassification F1 score on the CS-GO Dataset (30% test set)\\n\")\n",
        "for k, v in sorted_f1_score:\n",
        "  print(k + ':', v)"
      ],
      "execution_count": null,
      "outputs": [
        {
          "name": "stdout",
          "output_type": "stream",
          "text": [
            "\n",
            "Classification Accuracy on the CS-GO Dataset (30% test set)\n",
            "\n",
            "svm classifier: 0.7228\n",
            "mlp classifier: 0.7168\n",
            "dummy classifier - constant 0: 0.5121\n",
            "dummy classifier - most frequent: 0.5121\n",
            "dummy classifer - stratified: 0.4982\n",
            "dummy classifier - uniform: 0.4958\n",
            "dummy classifier - constant 1: 0.4879\n",
            "\n",
            "Classification F1 score on the CS-GO Dataset (30% test set)\n",
            "\n",
            "mlp classifier: 0.7404\n",
            "svm classifier: 0.7165\n",
            "dummy classifier - constant 1: 0.6558\n",
            "dummy classifier - uniform: 0.4917\n",
            "dummy classifer - stratified: 0.4869\n",
            "dummy classifier - constant 0: 0.0\n",
            "dummy classifier - most frequent: 0.0\n"
          ]
        }
      ]
    },
    {
      "cell_type": "code",
      "metadata": {
        "colab": {
          "base_uri": "https://localhost:8080/",
          "height": 598
        },
        "id": "hWnh3XxBYmw_",
        "outputId": "cb473232-0753-4b6e-9e3d-7c3dfe1c28ab"
      },
      "source": [
        "cross_val_scores_df = pd.DataFrame([[x, 'accuracy', cs_go_winner_cross_val_accuracy_out_of_the_box[x]] for x in cs_go_winner_cross_val_accuracy_out_of_the_box] +\n",
        "                  [[x, 'f1 score', cs_go_winner_cross_val_f1_score_out_of_the_box[x]] for x in cs_go_winner_cross_val_f1_score_out_of_the_box], \n",
        "                  columns = ['classifier', 'metric', 'score']) \n",
        "\n",
        "import seaborn as sns\n",
        "\n",
        "sns.set_theme(style=\"whitegrid\")\n",
        "g = sns.catplot(\n",
        "    data = cross_val_scores_df, kind = \"bar\",\n",
        "    x = \"score\", y = \"classifier\", hue = \"metric\",\n",
        "    palette = \"pastel\", alpha = .8, height = 8\n",
        ")\n",
        "g.despine(left=True)\n",
        "g.ax.set_title(\"5-fold Cross Validation Scores\", fontsize = 14)\n",
        "g.set_axis_labels(\"score\", \"classifier\")\n",
        "g.legend.set_title(\"metrics\")"
      ],
      "execution_count": null,
      "outputs": [
        {
          "data": {
            "image/png": "[encoded data removed]",
            "text/plain": [
              "<Figure size 665.475x576 with 1 Axes>"
            ]
          },
          "metadata": {},
          "output_type": "display_data"
        }
      ]
    },
    {
      "cell_type": "code",
      "metadata": {
        "colab": {
          "base_uri": "https://localhost:8080/",
          "height": 598
        },
        "id": "nOsnfW6dZB1j",
        "outputId": "e157c421-9cc6-4ddd-e414-97856385bf90"
      },
      "source": [
        "test_scores_df = pd.DataFrame([[x, 'accuracy', cs_go_winner_accuracy_out_of_the_box[x]] for x in cs_go_winner_accuracy_out_of_the_box] +\n",
        "                  [[x, 'f1 score', cs_go_winner_f1_score_out_of_the_box[x]] for x in cs_go_winner_f1_score_out_of_the_box], \n",
        "                  columns = ['classifier', 'metric', 'score']) \n",
        "\n",
        "sns.set_theme(style=\"whitegrid\")\n",
        "g = sns.catplot(\n",
        "    data = test_scores_df, kind = \"bar\",\n",
        "    x = \"score\", y = \"classifier\", hue = \"metric\",\n",
        "    palette = \"pastel\", alpha = .8, height = 8\n",
        ")\n",
        "g.despine(left = True)\n",
        "g.ax.set_title(\"Test Scores\", fontsize = 14)\n",
        "g.set_axis_labels(\"score\", \"classifier\")\n",
        "g.legend.set_title(\"metrics\")"
      ],
      "execution_count": null,
      "outputs": [
        {
          "data": {
            "image/png": "[encoded data removed]",
            "text/plain": [
              "<Figure size 665.475x576 with 1 Axes>"
            ]
          },
          "metadata": {},
          "output_type": "display_data"
        }
      ]
    },
    {
      "cell_type": "markdown",
      "metadata": {
        "id": "7_3qUHHVLbd-"
      },
      "source": [
        "### Βελτιστοποίηση"
      ]
    },
    {
      "cell_type": "markdown",
      "metadata": {
        "id": "tfa-OSEKMZJk"
      },
      "source": [
        "Αρχικά, υπολογίζουμε και απεικονίζουμε στο ακόλουθα διαγράμματα τις διακυμάνσεις (variances) των χαρακτηριστικών μας προκειμένου να κατανοήσουμε καλύτερα το dataset και να αποφασίσουμε ποιους μετασχηματιστές και με ποιές τιμές παραμέτρων θα χρησιμοποιήσουμε κατά τη βελτιστοποίηση.  "
      ]
    },
    {
      "cell_type": "code",
      "metadata": {
        "colab": {
          "base_uri": "https://localhost:8080/",
          "height": 390
        },
        "id": "r_eWIYdhNHQ0",
        "outputId": "3b2fedf6-6831-4cc2-ef85-f5732c234387"
      },
      "source": [
        "from sklearn import preprocessing\n",
        "from matplotlib import pyplot as plt\n",
        "\n",
        "train_variance = preprocessing.MinMaxScaler().fit_transform(X_train).var(axis=0)\n",
        "\n",
        "fig, axes = plt.subplots(1, 2, figsize = (18, 6))\n",
        "axes[0].bar(range(0, X_train.shape[1]), X_train.var(axis = 0), width = 0.5)\n",
        "axes[0].set_title(\"Variance of attributes before Min-Max Scaler\")\n",
        "axes[1].bar(range(0, train_variance.shape[0]), train_variance, width = 0.5)\n",
        "axes[1].set_title(\"Variance of attributes after Min-Max Scaler\")\n",
        "plt.show()"
      ],
      "execution_count": null,
      "outputs": [
        {
          "data": {
            "image/png": "[encoded data removed]",
            "text/plain": [
              "<Figure size 1296x432 with 2 Axes>"
            ]
          },
          "metadata": {},
          "output_type": "display_data"
        }
      ]
    },
    {
      "cell_type": "markdown",
      "metadata": {
        "id": "IyGszho9OsBQ"
      },
      "source": [
        "Παρατηρούμε, λοιπόν, ότι μετά την εφαρμογή του Min-Max Scaler, ο οποίος κλιμακώνει γραμμικά τις τιμές όλων των χαρακτηριστικών στο διάστημα [0 - 1], οι διακυμάνσεις όλες των χαρακτηριστικών κυμαίνονται μεταξύ 0 και 0.16, με αρκετές από αυτές μικρότερες από 0.02, οπότε και υποψιαζόμαστε ότι ίσως κάποια από τα χαρακτηριστικά μας δεν είναι και τόσο απαραίτητα στην εκπαίδευση των μοντέλων. Για το λόγο αυτό στη συνέχεια δοκιμάζουμε να υλοποιήσουμε και αρχιτκτονικές που περιέχουν τεχνικές μείωσης της διαστατικότητας, όπως το ελάχιστο κατώφλι διακύμανσης (Variance Threshold με thresholds στο διάστημα [0- 0.15]). Οι μετασχηματιστές και ο ταξινομητής που θα χρησιμοποιούμε στην εκάστοτε περίπτωση θα ενσωματώνονται σε ένα ενιαίο pipeline. Η σειρά με την οποία θα τοποθετούνται  οι μετασχημτιστές στο pipeline θα απεικονίζει και τη σειρά με την οποία οι μετασχηματισμοί αυτοι θα εφαρμόζονται στα δεδομένα μας, και έτσι κάθε pipeline που δοκιμάζουμε θα καταλήγει σε έναν εκ των δύο ταξινομητών, MLP ή SVM. Ολόκληρο, λοιπόν, το pipeline μπορεί να αντιμετωπιστεί ως ένας ενιαίος estimator με τις μεθόδους fit και predict."
      ]
    },
    {
      "cell_type": "markdown",
      "metadata": {
        "id": "jsyhJbQvS4oM"
      },
      "source": [
        "Παρακάτω για τη βελτιστοποίηση των ταξινομητών και την εκτίμηση των υπερπαραμέτρων αυτών αλλά και των μετασχηματιστών θα χρησιμοποιήσουμε τη βιβλιοθήκη optuna. Για την αξιολόγηση των μοντέλων μας θα χρησιμοποιήσουμε 5-fold cross validation, ενώ ως μετρικές θα χρησιμοποιήσουμε το 'accuracy' και το 'f1 score', δηλαδή το μέσο όρο των μετρικών 'recall' και 'precision', και αυτό γιατί το συγκεκριμένο task δεν απαιτεί κάποια ιδιαίτερη προσοχή στην ελαχιστοποίηση των false positives ή false negatives και αντίστοιχα στη μεγιστοποίηση του precision ή του recall, οπότε μπορούμε να δώσουμε ίση βαρύτητα και στις δύο αυτές μετρικές.\n",
        "\n",
        "\n",
        "Παράλληλα, καθώς παρατηρούμε ότι το train dataset είναι αρκετά μεγάλο σε μέγεθος αποτελούμενο από 85687 δείγματα, επιλέγουμε να μειώσουμε τις διαστάσεις του και να εργαστούμε για τη βελτιστοποίηση των μοντέλων μας πάνω σε ένα υποσύνολο αυτού με σκοπό την εξοικονόμηση χρόνου.  "
      ]
    },
    {
      "cell_type": "code",
      "metadata": {
        "id": "U6kqTXpqTtlJ"
      },
      "source": [
        "X_train_small, a, y_train_small, b = train_test_split(X_train, y_train, test_size = 0.95, shuffle = True)"
      ],
      "execution_count": null,
      "outputs": []
    },
    {
      "cell_type": "code",
      "metadata": {
        "colab": {
          "base_uri": "https://localhost:8080/"
        },
        "id": "dYwK3nrrRb6t",
        "outputId": "58f7f2f8-3fd0-4273-b1ad-dc609b5a7715"
      },
      "source": [
        "print('Initial train-dataset shape:', X_train.shape)\n",
        "print('Train-dataset shape used for hyperparameters optimization:', X_train_small.shape)"
      ],
      "execution_count": null,
      "outputs": [
        {
          "name": "stdout",
          "output_type": "stream",
          "text": [
            "Initial train-dataset shape: (85687, 104)\n",
            "Train-dataset shape used for hyperparameters optimization: (4284, 104)\n"
          ]
        }
      ]
    },
    {
      "cell_type": "markdown",
      "metadata": {
        "id": "5nS0aDQaM_cO"
      },
      "source": [
        "#### Multi Layer Perceptrons (MLP)"
      ]
    },
    {
      "cell_type": "code",
      "metadata": {
        "id": "jzGRabJ8A2gE"
      },
      "source": [
        "import optuna\n",
        "from sklearn.neural_network import MLPClassifier\n",
        "from sklearn.model_selection import cross_val_score\n",
        "\n",
        "from sklearn.pipeline import Pipeline\n",
        "from sklearn import preprocessing\n",
        "from sklearn.feature_selection import VarianceThreshold\n",
        "from sklearn.decomposition import PCA"
      ],
      "execution_count": 12,
      "outputs": []
    },
    {
      "cell_type": "markdown",
      "metadata": {
        "id": "306jA6Cy-3IH"
      },
      "source": [
        "Για καλύτερη εποπτεία κατά η διαδικασία βελτιστοποίησης θα διατηρούμε σταθερό τον εκάστοτε solver και θα βελτιστοποιήσουμε τις υπόλοιπες παραμέτρους, επαναλαμβάνοντας τη διαδικασία για καθέναν από τους solvers 'sgd', 'adam' και 'lbfgs'."
      ]
    },
    {
      "cell_type": "markdown",
      "metadata": {
        "id": "zWU10b2i0c-0"
      },
      "source": [
        "###### <u> Όσον αφορά τον 'sgd' solver</u>:"
      ]
    },
    {
      "cell_type": "markdown",
      "metadata": {
        "id": "bUiGmmHJ0s9Z"
      },
      "source": [
        "Αρχικά, θα θέσουμε τα επίπεδα (layers) του δικτύου μας μεταξύ 1 και 5 και τους νευρώνες καθενός από αυτά από 1 έως 100, ενώ θα χρησιμοποιήσουμε και την παράμετρο learning_rate του MLPClassifier(), η οποία είναι διαθέσιμη για τον solver αυτόν."
      ]
    },
    {
      "cell_type": "code",
      "metadata": {
        "colab": {
          "base_uri": "https://localhost:8080/"
        },
        "id": "h80tX7hyPJZo",
        "outputId": "6078e129-da41-4b9a-e92d-3f3ae99bc7e8"
      },
      "source": [
        "import warnings\n",
        "warnings.filterwarnings(\"ignore\")\n",
        "\n",
        "def objective(trial):\n",
        "\n",
        "    n_layers = trial.suggest_int('n_layers', 1, 5)\n",
        "    layers = []\n",
        "    for i in range(n_layers):\n",
        "        layers.append(trial.suggest_int(f'n_units_{i}', 1, 100))\n",
        "\n",
        "    activation = trial.suggest_categorical('activation', ['relu', 'logistic', 'tanh'])\n",
        "    learning_rate = trial.suggest_categorical('learning_rate', ['constant', 'invscaling', 'adaptive'])\n",
        "    batch_size = trial.suggest_categorical('batch_size', [128, 256, 512])\n",
        "\n",
        "    clf = MLPClassifier(hidden_layer_sizes = tuple(layers), activation = activation,  solver = 'sgd', learning_rate = learning_rate, batch_size = batch_size, max_iter = 10000, early_stopping = True)\n",
        "\n",
        "    return np.mean(cross_val_score(clf, X_train_small, y_train_small, cv = 5, scoring = 'accuracy'))\n",
        "\n",
        "study = optuna.create_study(direction = 'maximize')\n",
        "study.optimize(objective, n_trials = 40)"
      ],
      "execution_count": null,
      "outputs": [
        {
          "name": "stderr",
          "output_type": "stream",
          "text": [
            "\u001b[32m[I 2021-12-02 11:38:43,824]\u001b[0m A new study created in memory with name: no-name-ae9e6a39-fd10-4b1e-82aa-756b4f9258e3\u001b[0m\n",
            "\u001b[32m[I 2021-12-02 11:39:01,010]\u001b[0m Trial 0 finished with value: 0.5039689636746312 and parameters: {'n_layers': 4, 'n_units_0': 83, 'n_units_1': 55, 'n_units_2': 38, 'n_units_3': 77, 'activation': 'relu', 'learning_rate': 'adaptive', 'batch_size': 256}. Best is trial 0 with value: 0.5039689636746312.\u001b[0m\n",
            "\u001b[32m[I 2021-12-02 11:39:03,286]\u001b[0m Trial 1 finished with value: 0.5077042824894492 and parameters: {'n_layers': 3, 'n_units_0': 15, 'n_units_1': 13, 'n_units_2': 49, 'activation': 'logistic', 'learning_rate': 'constant', 'batch_size': 512}. Best is trial 1 with value: 0.5077042824894492.\u001b[0m\n",
            "\u001b[32m[I 2021-12-02 11:39:19,336]\u001b[0m Trial 2 finished with value: 0.6024825788721796 and parameters: {'n_layers': 2, 'n_units_0': 63, 'n_units_1': 38, 'activation': 'logistic', 'learning_rate': 'adaptive', 'batch_size': 512}. Best is trial 2 with value: 0.6024825788721796.\u001b[0m\n",
            "\u001b[32m[I 2021-12-02 11:39:23,030]\u001b[0m Trial 3 finished with value: 0.5065360581903837 and parameters: {'n_layers': 5, 'n_units_0': 75, 'n_units_1': 70, 'n_units_2': 97, 'n_units_3': 13, 'n_units_4': 58, 'activation': 'relu', 'learning_rate': 'constant', 'batch_size': 512}. Best is trial 2 with value: 0.6024825788721796.\u001b[0m\n",
            "\u001b[32m[I 2021-12-02 11:39:29,556]\u001b[0m Trial 4 finished with value: 0.5065360581903837 and parameters: {'n_layers': 5, 'n_units_0': 68, 'n_units_1': 21, 'n_units_2': 28, 'n_units_3': 81, 'n_units_4': 61, 'activation': 'logistic', 'learning_rate': 'constant', 'batch_size': 128}. Best is trial 2 with value: 0.6024825788721796.\u001b[0m\n",
            "\u001b[32m[I 2021-12-02 11:39:30,955]\u001b[0m Trial 5 finished with value: 0.568154778132804 and parameters: {'n_layers': 1, 'n_units_0': 9, 'activation': 'logistic', 'learning_rate': 'constant', 'batch_size': 512}. Best is trial 2 with value: 0.6024825788721796.\u001b[0m\n",
            "\u001b[32m[I 2021-12-02 11:39:32,176]\u001b[0m Trial 6 finished with value: 0.579609646779136 and parameters: {'n_layers': 1, 'n_units_0': 13, 'activation': 'logistic', 'learning_rate': 'constant', 'batch_size': 512}. Best is trial 2 with value: 0.6024825788721796.\u001b[0m\n",
            "\u001b[32m[I 2021-12-02 11:39:38,220]\u001b[0m Trial 7 finished with value: 0.5063026859616789 and parameters: {'n_layers': 2, 'n_units_0': 30, 'n_units_1': 35, 'activation': 'relu', 'learning_rate': 'adaptive', 'batch_size': 512}. Best is trial 2 with value: 0.6024825788721796.\u001b[0m\n",
            "\u001b[32m[I 2021-12-02 11:40:01,724]\u001b[0m Trial 8 finished with value: 0.5352402970588556 and parameters: {'n_layers': 3, 'n_units_0': 99, 'n_units_1': 52, 'n_units_2': 29, 'activation': 'logistic', 'learning_rate': 'adaptive', 'batch_size': 256}. Best is trial 2 with value: 0.6024825788721796.\u001b[0m\n",
            "\u001b[32m[I 2021-12-02 11:40:03,200]\u001b[0m Trial 9 finished with value: 0.5905770510038277 and parameters: {'n_layers': 1, 'n_units_0': 39, 'activation': 'tanh', 'learning_rate': 'constant', 'batch_size': 512}. Best is trial 2 with value: 0.6024825788721796.\u001b[0m\n",
            "\u001b[32m[I 2021-12-02 11:40:08,291]\u001b[0m Trial 10 finished with value: 0.6017824621860652 and parameters: {'n_layers': 2, 'n_units_0': 57, 'n_units_1': 96, 'activation': 'tanh', 'learning_rate': 'invscaling', 'batch_size': 128}. Best is trial 2 with value: 0.6024825788721796.\u001b[0m\n",
            "\u001b[32m[I 2021-12-02 11:40:14,133]\u001b[0m Trial 11 finished with value: 0.6022481161190416 and parameters: {'n_layers': 2, 'n_units_0': 54, 'n_units_1': 99, 'activation': 'tanh', 'learning_rate': 'invscaling', 'batch_size': 128}. Best is trial 2 with value: 0.6024825788721796.\u001b[0m\n",
            "\u001b[32m[I 2021-12-02 11:40:18,932]\u001b[0m Trial 12 finished with value: 0.5676918505109108 and parameters: {'n_layers': 2, 'n_units_0': 49, 'n_units_1': 97, 'activation': 'tanh', 'learning_rate': 'invscaling', 'batch_size': 128}. Best is trial 2 with value: 0.6024825788721796.\u001b[0m\n",
            "\u001b[32m[I 2021-12-02 11:40:22,739]\u001b[0m Trial 13 finished with value: 0.6017816442927404 and parameters: {'n_layers': 2, 'n_units_0': 60, 'n_units_1': 74, 'activation': 'tanh', 'learning_rate': 'invscaling', 'batch_size': 128}. Best is trial 2 with value: 0.6024825788721796.\u001b[0m\n",
            "\u001b[32m[I 2021-12-02 11:40:39,766]\u001b[0m Trial 14 finished with value: 0.6048173916836607 and parameters: {'n_layers': 3, 'n_units_0': 41, 'n_units_1': 33, 'n_units_2': 2, 'activation': 'tanh', 'learning_rate': 'adaptive', 'batch_size': 128}. Best is trial 14 with value: 0.6048173916836607.\u001b[0m\n",
            "\u001b[32m[I 2021-12-02 11:40:51,393]\u001b[0m Trial 15 finished with value: 0.5441378859093338 and parameters: {'n_layers': 4, 'n_units_0': 31, 'n_units_1': 35, 'n_units_2': 1, 'n_units_3': 1, 'activation': 'tanh', 'learning_rate': 'adaptive', 'batch_size': 256}. Best is trial 14 with value: 0.6048173916836607.\u001b[0m\n",
            "\u001b[32m[I 2021-12-02 11:41:19,329]\u001b[0m Trial 16 finished with value: 0.5065360581903837 and parameters: {'n_layers': 4, 'n_units_0': 41, 'n_units_1': 32, 'n_units_2': 81, 'n_units_3': 38, 'activation': 'logistic', 'learning_rate': 'adaptive', 'batch_size': 128}. Best is trial 14 with value: 0.6048173916836607.\u001b[0m\n",
            "\u001b[32m[I 2021-12-02 11:41:36,152]\u001b[0m Trial 17 finished with value: 0.6038844480310581 and parameters: {'n_layers': 3, 'n_units_0': 88, 'n_units_1': 9, 'n_units_2': 5, 'activation': 'tanh', 'learning_rate': 'adaptive', 'batch_size': 128}. Best is trial 14 with value: 0.6048173916836607.\u001b[0m\n",
            "\u001b[32m[I 2021-12-02 11:41:52,115]\u001b[0m Trial 18 finished with value: 0.6155546952529471 and parameters: {'n_layers': 3, 'n_units_0': 89, 'n_units_1': 2, 'n_units_2': 5, 'activation': 'tanh', 'learning_rate': 'adaptive', 'batch_size': 128}. Best is trial 18 with value: 0.6155546952529471.\u001b[0m\n",
            "\u001b[32m[I 2021-12-02 11:42:11,677]\u001b[0m Trial 19 finished with value: 0.6085488936629625 and parameters: {'n_layers': 3, 'n_units_0': 100, 'n_units_1': 3, 'n_units_2': 17, 'activation': 'tanh', 'learning_rate': 'adaptive', 'batch_size': 128}. Best is trial 18 with value: 0.6155546952529471.\u001b[0m\n",
            "\u001b[32m[I 2021-12-02 11:42:39,171]\u001b[0m Trial 20 finished with value: 0.5824136577280014 and parameters: {'n_layers': 4, 'n_units_0': 90, 'n_units_1': 1, 'n_units_2': 20, 'n_units_3': 98, 'activation': 'tanh', 'learning_rate': 'adaptive', 'batch_size': 128}. Best is trial 18 with value: 0.6155546952529471.\u001b[0m\n",
            "\u001b[32m[I 2021-12-02 11:42:58,792]\u001b[0m Trial 21 finished with value: 0.6101833171572209 and parameters: {'n_layers': 3, 'n_units_0': 99, 'n_units_1': 1, 'n_units_2': 11, 'activation': 'tanh', 'learning_rate': 'adaptive', 'batch_size': 128}. Best is trial 18 with value: 0.6155546952529471.\u001b[0m\n",
            "\u001b[32m[I 2021-12-02 11:43:16,566]\u001b[0m Trial 22 finished with value: 0.6071475697663006 and parameters: {'n_layers': 3, 'n_units_0': 100, 'n_units_1': 4, 'n_units_2': 16, 'activation': 'tanh', 'learning_rate': 'adaptive', 'batch_size': 128}. Best is trial 18 with value: 0.6155546952529471.\u001b[0m\n",
            "\u001b[32m[I 2021-12-02 11:43:35,237]\u001b[0m Trial 23 finished with value: 0.6069147427998124 and parameters: {'n_layers': 3, 'n_units_0': 78, 'n_units_1': 18, 'n_units_2': 15, 'activation': 'tanh', 'learning_rate': 'adaptive', 'batch_size': 128}. Best is trial 18 with value: 0.6155546952529471.\u001b[0m\n",
            "\u001b[32m[I 2021-12-02 11:44:05,733]\u001b[0m Trial 24 finished with value: 0.6129837839016783 and parameters: {'n_layers': 4, 'n_units_0': 96, 'n_units_1': 20, 'n_units_2': 66, 'n_units_3': 43, 'activation': 'tanh', 'learning_rate': 'adaptive', 'batch_size': 128}. Best is trial 18 with value: 0.6155546952529471.\u001b[0m\n",
            "\u001b[32m[I 2021-12-02 11:44:36,846]\u001b[0m Trial 25 finished with value: 0.6073803967327888 and parameters: {'n_layers': 4, 'n_units_0': 90, 'n_units_1': 23, 'n_units_2': 68, 'n_units_3': 43, 'activation': 'tanh', 'learning_rate': 'adaptive', 'batch_size': 128}. Best is trial 18 with value: 0.6155546952529471.\u001b[0m\n",
            "\u001b[32m[I 2021-12-02 11:44:52,379]\u001b[0m Trial 26 finished with value: 0.49859813084112153 and parameters: {'n_layers': 5, 'n_units_0': 71, 'n_units_1': 14, 'n_units_2': 63, 'n_units_3': 58, 'n_units_4': 5, 'activation': 'relu', 'learning_rate': 'adaptive', 'batch_size': 256}. Best is trial 18 with value: 0.6155546952529471.\u001b[0m\n",
            "\u001b[32m[I 2021-12-02 11:45:21,886]\u001b[0m Trial 27 finished with value: 0.6120467507824513 and parameters: {'n_layers': 4, 'n_units_0': 82, 'n_units_1': 25, 'n_units_2': 56, 'n_units_3': 26, 'activation': 'tanh', 'learning_rate': 'adaptive', 'batch_size': 128}. Best is trial 18 with value: 0.6155546952529471.\u001b[0m\n",
            "\u001b[32m[I 2021-12-02 11:45:49,290]\u001b[0m Trial 28 finished with value: 0.6143834720116904 and parameters: {'n_layers': 4, 'n_units_0': 84, 'n_units_1': 25, 'n_units_2': 57, 'n_units_3': 20, 'activation': 'tanh', 'learning_rate': 'adaptive', 'batch_size': 128}. Best is trial 18 with value: 0.6155546952529471.\u001b[0m\n",
            "\u001b[32m[I 2021-12-02 11:46:08,714]\u001b[0m Trial 29 finished with value: 0.5065360581903837 and parameters: {'n_layers': 5, 'n_units_0': 86, 'n_units_1': 42, 'n_units_2': 72, 'n_units_3': 25, 'n_units_4': 100, 'activation': 'relu', 'learning_rate': 'adaptive', 'batch_size': 256}. Best is trial 18 with value: 0.6155546952529471.\u001b[0m\n",
            "\u001b[32m[I 2021-12-02 11:46:16,465]\u001b[0m Trial 30 finished with value: 0.5996791131855309 and parameters: {'n_layers': 4, 'n_units_0': 80, 'n_units_1': 44, 'n_units_2': 46, 'n_units_3': 58, 'activation': 'tanh', 'learning_rate': 'invscaling', 'batch_size': 128}. Best is trial 18 with value: 0.6155546952529471.\u001b[0m\n",
            "\u001b[32m[I 2021-12-02 11:46:48,247]\u001b[0m Trial 31 finished with value: 0.6099526712395991 and parameters: {'n_layers': 4, 'n_units_0': 93, 'n_units_1': 26, 'n_units_2': 57, 'n_units_3': 23, 'activation': 'tanh', 'learning_rate': 'adaptive', 'batch_size': 128}. Best is trial 18 with value: 0.6155546952529471.\u001b[0m\n",
            "\u001b[32m[I 2021-12-02 11:47:18,160]\u001b[0m Trial 32 finished with value: 0.6057508805984799 and parameters: {'n_layers': 4, 'n_units_0': 84, 'n_units_1': 27, 'n_units_2': 58, 'n_units_3': 34, 'activation': 'tanh', 'learning_rate': 'adaptive', 'batch_size': 128}. Best is trial 18 with value: 0.6155546952529471.\u001b[0m\n",
            "\u001b[32m[I 2021-12-02 11:47:42,087]\u001b[0m Trial 33 finished with value: 0.6013143545731141 and parameters: {'n_layers': 4, 'n_units_0': 67, 'n_units_1': 10, 'n_units_2': 79, 'n_units_3': 15, 'activation': 'tanh', 'learning_rate': 'adaptive', 'batch_size': 128}. Best is trial 18 with value: 0.6155546952529471.\u001b[0m\n",
            "\u001b[32m[I 2021-12-02 11:48:12,259]\u001b[0m Trial 34 finished with value: 0.6048154832659026 and parameters: {'n_layers': 5, 'n_units_0': 74, 'n_units_1': 18, 'n_units_2': 42, 'n_units_3': 48, 'n_units_4': 10, 'activation': 'tanh', 'learning_rate': 'adaptive', 'batch_size': 128}. Best is trial 18 with value: 0.6155546952529471.\u001b[0m\n",
            "\u001b[32m[I 2021-12-02 11:48:30,648]\u001b[0m Trial 35 finished with value: 0.5065360581903837 and parameters: {'n_layers': 4, 'n_units_0': 80, 'n_units_1': 12, 'n_units_2': 57, 'n_units_3': 29, 'activation': 'relu', 'learning_rate': 'adaptive', 'batch_size': 128}. Best is trial 18 with value: 0.6155546952529471.\u001b[0m\n",
            "\u001b[32m[I 2021-12-02 11:49:14,663]\u001b[0m Trial 36 finished with value: 0.6164840947011417 and parameters: {'n_layers': 5, 'n_units_0': 94, 'n_units_1': 58, 'n_units_2': 76, 'n_units_3': 11, 'n_units_4': 100, 'activation': 'tanh', 'learning_rate': 'adaptive', 'batch_size': 128}. Best is trial 36 with value: 0.6164840947011417.\u001b[0m\n",
            "\u001b[32m[I 2021-12-02 11:49:53,356]\u001b[0m Trial 37 finished with value: 0.6094837457333232 and parameters: {'n_layers': 5, 'n_units_0': 93, 'n_units_1': 63, 'n_units_2': 93, 'n_units_3': 10, 'n_units_4': 89, 'activation': 'tanh', 'learning_rate': 'adaptive', 'batch_size': 256}. Best is trial 36 with value: 0.6164840947011417.\u001b[0m\n",
            "\u001b[32m[I 2021-12-02 11:49:55,464]\u001b[0m Trial 38 finished with value: 0.499068419502939 and parameters: {'n_layers': 5, 'n_units_0': 2, 'n_units_1': 63, 'n_units_2': 81, 'n_units_3': 1, 'n_units_4': 32, 'activation': 'relu', 'learning_rate': 'constant', 'batch_size': 512}. Best is trial 36 with value: 0.6164840947011417.\u001b[0m\n",
            "\u001b[32m[I 2021-12-02 11:50:03,790]\u001b[0m Trial 39 finished with value: 0.5065360581903837 and parameters: {'n_layers': 5, 'n_units_0': 94, 'n_units_1': 47, 'n_units_2': 70, 'n_units_3': 57, 'n_units_4': 80, 'activation': 'logistic', 'learning_rate': 'constant', 'batch_size': 128}. Best is trial 36 with value: 0.6164840947011417.\u001b[0m\n"
          ]
        }
      ]
    },
    {
      "cell_type": "markdown",
      "metadata": {
        "id": "KMaId7ka9Pze"
      },
      "source": [
        "Παρατηρούμε ότι τα καλύτερα ποσοστά accuracy κατά τη διαδικασία του 5-fold cross validation επιτυγχάνονται με activation function την tanh, learning_rate = 'adaptive' και batch size = 128, αριθμός βέβαια ο οποίος μπορεί να απαιτεί αύξησει εάν εκπαιδεύσουμε το μοντέλο μας σε ολόκληρο το train dataset. Ωστόσο, και με αυτές τις τιμές παραμέτρων το μοντέλο μας δεν καταφέρνει να ξεπεράσει το 0.62. Θα δοκιμάσουμε στη συνέχεια να αυξήσουμε τα επίπεδα (layers) του νευρωνικού μας, χρησιμοποιώντας και πάλι ως solver τον 'sgd' προκειμένου να δούμε πως θα ανταποκριθεί."
      ]
    },
    {
      "cell_type": "code",
      "metadata": {
        "colab": {
          "base_uri": "https://localhost:8080/"
        },
        "id": "kJa3rRcZPJYK",
        "outputId": "c1a54013-efb9-48ab-fe8b-71768612d942"
      },
      "source": [
        "def objective(trial):\n",
        "\n",
        "    n_layers = trial.suggest_int('n_layers', 5, 10)\n",
        "    layers = []\n",
        "    for i in range(n_layers):\n",
        "        layers.append(trial.suggest_int(f'n_units_{i}', 1, 100))\n",
        "\n",
        "    activation = trial.suggest_categorical('activation', ['relu', 'logistic', 'tanh'])\n",
        "    learning_rate = trial.suggest_categorical('learning_rate', ['constant', 'invscaling', 'adaptive'])\n",
        "    batch_size = trial.suggest_categorical('batch_size', [128, 256, 512])\n",
        "\n",
        "    clf = MLPClassifier(hidden_layer_sizes = tuple(layers), activation = activation,  solver = 'sgd', learning_rate = learning_rate, batch_size = batch_size, max_iter = 10000, early_stopping = True)\n",
        "\n",
        "    return np.mean(cross_val_score(clf, X_train_small, y_train_small, cv = 5, scoring = 'accuracy'))\n",
        "\n",
        "study = optuna.create_study(direction = 'maximize')\n",
        "study.optimize(objective, n_trials = 40)"
      ],
      "execution_count": null,
      "outputs": [
        {
          "name": "stderr",
          "output_type": "stream",
          "text": [
            "\u001b[32m[I 2021-12-02 11:50:20,544]\u001b[0m A new study created in memory with name: no-name-02bd1452-a50e-4123-bd0c-7610bdaca05a\u001b[0m\n",
            "\u001b[32m[I 2021-12-02 11:50:33,461]\u001b[0m Trial 0 finished with value: 0.6048152106347943 and parameters: {'n_layers': 8, 'n_units_0': 83, 'n_units_1': 26, 'n_units_2': 47, 'n_units_3': 68, 'n_units_4': 76, 'n_units_5': 52, 'n_units_6': 55, 'n_units_7': 78, 'activation': 'tanh', 'learning_rate': 'invscaling', 'batch_size': 128}. Best is trial 0 with value: 0.6048152106347943.\u001b[0m\n",
            "\u001b[32m[I 2021-12-02 11:50:40,538]\u001b[0m Trial 1 finished with value: 0.5065360581903837 and parameters: {'n_layers': 7, 'n_units_0': 9, 'n_units_1': 17, 'n_units_2': 4, 'n_units_3': 54, 'n_units_4': 46, 'n_units_5': 78, 'n_units_6': 56, 'activation': 'logistic', 'learning_rate': 'constant', 'batch_size': 128}. Best is trial 0 with value: 0.6048152106347943.\u001b[0m\n",
            "\u001b[32m[I 2021-12-02 11:50:51,472]\u001b[0m Trial 2 finished with value: 0.5831088670541664 and parameters: {'n_layers': 8, 'n_units_0': 55, 'n_units_1': 7, 'n_units_2': 9, 'n_units_3': 83, 'n_units_4': 25, 'n_units_5': 32, 'n_units_6': 90, 'n_units_7': 2, 'activation': 'tanh', 'learning_rate': 'constant', 'batch_size': 256}. Best is trial 0 with value: 0.6048152106347943.\u001b[0m\n",
            "\u001b[32m[I 2021-12-02 11:51:21,340]\u001b[0m Trial 3 finished with value: 0.5992088245237135 and parameters: {'n_layers': 5, 'n_units_0': 19, 'n_units_1': 82, 'n_units_2': 62, 'n_units_3': 28, 'n_units_4': 5, 'activation': 'tanh', 'learning_rate': 'adaptive', 'batch_size': 128}. Best is trial 0 with value: 0.6048152106347943.\u001b[0m\n",
            "\u001b[32m[I 2021-12-02 11:52:41,687]\u001b[0m Trial 4 finished with value: 0.5065360581903837 and parameters: {'n_layers': 10, 'n_units_0': 60, 'n_units_1': 74, 'n_units_2': 17, 'n_units_3': 59, 'n_units_4': 41, 'n_units_5': 93, 'n_units_6': 71, 'n_units_7': 78, 'n_units_8': 83, 'n_units_9': 13, 'activation': 'logistic', 'learning_rate': 'adaptive', 'batch_size': 128}. Best is trial 0 with value: 0.6048152106347943.\u001b[0m\n",
            "\u001b[32m[I 2021-12-02 11:52:46,745]\u001b[0m Trial 5 finished with value: 0.5039689636746312 and parameters: {'n_layers': 7, 'n_units_0': 10, 'n_units_1': 37, 'n_units_2': 48, 'n_units_3': 55, 'n_units_4': 28, 'n_units_5': 17, 'n_units_6': 33, 'activation': 'relu', 'learning_rate': 'invscaling', 'batch_size': 128}. Best is trial 0 with value: 0.6048152106347943.\u001b[0m\n",
            "\u001b[32m[I 2021-12-02 11:53:13,444]\u001b[0m Trial 6 finished with value: 0.5065360581903837 and parameters: {'n_layers': 6, 'n_units_0': 6, 'n_units_1': 66, 'n_units_2': 68, 'n_units_3': 62, 'n_units_4': 14, 'n_units_5': 81, 'activation': 'relu', 'learning_rate': 'adaptive', 'batch_size': 128}. Best is trial 0 with value: 0.6048152106347943.\u001b[0m\n",
            "\u001b[32m[I 2021-12-02 11:53:45,497]\u001b[0m Trial 7 finished with value: 0.5214953271028037 and parameters: {'n_layers': 9, 'n_units_0': 2, 'n_units_1': 81, 'n_units_2': 84, 'n_units_3': 97, 'n_units_4': 25, 'n_units_5': 2, 'n_units_6': 73, 'n_units_7': 65, 'n_units_8': 92, 'activation': 'relu', 'learning_rate': 'adaptive', 'batch_size': 256}. Best is trial 0 with value: 0.6048152106347943.\u001b[0m\n",
            "\u001b[32m[I 2021-12-02 11:53:49,663]\u001b[0m Trial 8 finished with value: 0.5065360581903837 and parameters: {'n_layers': 7, 'n_units_0': 95, 'n_units_1': 18, 'n_units_2': 15, 'n_units_3': 63, 'n_units_4': 57, 'n_units_5': 94, 'n_units_6': 84, 'activation': 'relu', 'learning_rate': 'constant', 'batch_size': 512}. Best is trial 0 with value: 0.6048152106347943.\u001b[0m\n",
            "\u001b[32m[I 2021-12-02 11:53:55,092]\u001b[0m Trial 9 finished with value: 0.5065360581903837 and parameters: {'n_layers': 7, 'n_units_0': 26, 'n_units_1': 65, 'n_units_2': 80, 'n_units_3': 77, 'n_units_4': 71, 'n_units_5': 62, 'n_units_6': 68, 'activation': 'relu', 'learning_rate': 'constant', 'batch_size': 256}. Best is trial 0 with value: 0.6048152106347943.\u001b[0m\n",
            "\u001b[32m[I 2021-12-02 11:54:01,517]\u001b[0m Trial 10 finished with value: 0.49859813084112153 and parameters: {'n_layers': 9, 'n_units_0': 97, 'n_units_1': 40, 'n_units_2': 38, 'n_units_3': 2, 'n_units_4': 100, 'n_units_5': 42, 'n_units_6': 9, 'n_units_7': 94, 'n_units_8': 3, 'activation': 'tanh', 'learning_rate': 'invscaling', 'batch_size': 512}. Best is trial 0 with value: 0.6048152106347943.\u001b[0m\n",
            "\u001b[32m[I 2021-12-02 11:54:09,684]\u001b[0m Trial 11 finished with value: 0.5992145497769877 and parameters: {'n_layers': 5, 'n_units_0': 70, 'n_units_1': 88, 'n_units_2': 61, 'n_units_3': 26, 'n_units_4': 83, 'activation': 'tanh', 'learning_rate': 'invscaling', 'batch_size': 128}. Best is trial 0 with value: 0.6048152106347943.\u001b[0m\n",
            "\u001b[32m[I 2021-12-02 11:54:23,127]\u001b[0m Trial 12 finished with value: 0.596872648556691 and parameters: {'n_layers': 5, 'n_units_0': 76, 'n_units_1': 97, 'n_units_2': 98, 'n_units_3': 30, 'n_units_4': 86, 'activation': 'tanh', 'learning_rate': 'invscaling', 'batch_size': 128}. Best is trial 0 with value: 0.6048152106347943.\u001b[0m\n",
            "\u001b[32m[I 2021-12-02 11:54:33,375]\u001b[0m Trial 13 finished with value: 0.5964124472458806 and parameters: {'n_layers': 8, 'n_units_0': 74, 'n_units_1': 50, 'n_units_2': 33, 'n_units_3': 33, 'n_units_4': 72, 'n_units_5': 58, 'n_units_6': 35, 'n_units_7': 41, 'activation': 'tanh', 'learning_rate': 'invscaling', 'batch_size': 128}. Best is trial 0 with value: 0.6048152106347943.\u001b[0m\n",
            "\u001b[32m[I 2021-12-02 11:54:41,742]\u001b[0m Trial 14 finished with value: 0.5413096107918298 and parameters: {'n_layers': 6, 'n_units_0': 76, 'n_units_1': 100, 'n_units_2': 56, 'n_units_3': 9, 'n_units_4': 80, 'n_units_5': 30, 'activation': 'tanh', 'learning_rate': 'invscaling', 'batch_size': 512}. Best is trial 0 with value: 0.6048152106347943.\u001b[0m\n",
            "\u001b[32m[I 2021-12-02 11:54:51,172]\u001b[0m Trial 15 finished with value: 0.5429388542950304 and parameters: {'n_layers': 9, 'n_units_0': 36, 'n_units_1': 30, 'n_units_2': 39, 'n_units_3': 39, 'n_units_4': 98, 'n_units_5': 68, 'n_units_6': 5, 'n_units_7': 40, 'n_units_8': 21, 'activation': 'tanh', 'learning_rate': 'invscaling', 'batch_size': 128}. Best is trial 0 with value: 0.6048152106347943.\u001b[0m\n",
            "\u001b[32m[I 2021-12-02 11:55:03,523]\u001b[0m Trial 16 finished with value: 0.6003759582983457 and parameters: {'n_layers': 6, 'n_units_0': 85, 'n_units_1': 54, 'n_units_2': 75, 'n_units_3': 12, 'n_units_4': 61, 'n_units_5': 41, 'activation': 'tanh', 'learning_rate': 'invscaling', 'batch_size': 128}. Best is trial 0 with value: 0.6048152106347943.\u001b[0m\n",
            "\u001b[32m[I 2021-12-02 11:55:11,190]\u001b[0m Trial 17 finished with value: 0.5039689636746312 and parameters: {'n_layers': 6, 'n_units_0': 86, 'n_units_1': 51, 'n_units_2': 73, 'n_units_3': 16, 'n_units_4': 55, 'n_units_5': 44, 'activation': 'logistic', 'learning_rate': 'invscaling', 'batch_size': 128}. Best is trial 0 with value: 0.6048152106347943.\u001b[0m\n",
            "\u001b[32m[I 2021-12-02 11:55:24,504]\u001b[0m Trial 18 finished with value: 0.5693295455784687 and parameters: {'n_layers': 8, 'n_units_0': 44, 'n_units_1': 50, 'n_units_2': 91, 'n_units_3': 77, 'n_units_4': 65, 'n_units_5': 52, 'n_units_6': 37, 'n_units_7': 99, 'activation': 'tanh', 'learning_rate': 'invscaling', 'batch_size': 512}. Best is trial 0 with value: 0.6048152106347943.\u001b[0m\n",
            "\u001b[32m[I 2021-12-02 11:55:35,414]\u001b[0m Trial 19 finished with value: 0.5875464836039652 and parameters: {'n_layers': 10, 'n_units_0': 85, 'n_units_1': 4, 'n_units_2': 28, 'n_units_3': 39, 'n_units_4': 40, 'n_units_5': 28, 'n_units_6': 54, 'n_units_7': 59, 'n_units_8': 49, 'n_units_9': 98, 'activation': 'tanh', 'learning_rate': 'invscaling', 'batch_size': 256}. Best is trial 0 with value: 0.6048152106347943.\u001b[0m\n",
            "\u001b[32m[I 2021-12-02 11:55:42,807]\u001b[0m Trial 20 finished with value: 0.5014018691588784 and parameters: {'n_layers': 6, 'n_units_0': 64, 'n_units_1': 23, 'n_units_2': 49, 'n_units_3': 100, 'n_units_4': 65, 'n_units_5': 14, 'activation': 'logistic', 'learning_rate': 'invscaling', 'batch_size': 128}. Best is trial 0 with value: 0.6048152106347943.\u001b[0m\n",
            "\u001b[32m[I 2021-12-02 11:55:50,842]\u001b[0m Trial 21 finished with value: 0.6008429753868636 and parameters: {'n_layers': 5, 'n_units_0': 70, 'n_units_1': 61, 'n_units_2': 61, 'n_units_3': 19, 'n_units_4': 90, 'activation': 'tanh', 'learning_rate': 'invscaling', 'batch_size': 128}. Best is trial 0 with value: 0.6048152106347943.\u001b[0m\n",
            "\u001b[32m[I 2021-12-02 11:56:00,726]\u001b[0m Trial 22 finished with value: 0.5952439503157068 and parameters: {'n_layers': 5, 'n_units_0': 85, 'n_units_1': 61, 'n_units_2': 72, 'n_units_3': 17, 'n_units_4': 92, 'activation': 'tanh', 'learning_rate': 'invscaling', 'batch_size': 128}. Best is trial 0 with value: 0.6048152106347943.\u001b[0m\n",
            "\u001b[32m[I 2021-12-02 11:56:11,969]\u001b[0m Trial 23 finished with value: 0.5859120601097068 and parameters: {'n_layers': 6, 'n_units_0': 90, 'n_units_1': 56, 'n_units_2': 53, 'n_units_3': 46, 'n_units_4': 74, 'n_units_5': 42, 'activation': 'tanh', 'learning_rate': 'invscaling', 'batch_size': 128}. Best is trial 0 with value: 0.6048152106347943.\u001b[0m\n",
            "\u001b[32m[I 2021-12-02 11:56:17,636]\u001b[0m Trial 24 finished with value: 0.4992982475272358 and parameters: {'n_layers': 5, 'n_units_0': 66, 'n_units_1': 40, 'n_units_2': 81, 'n_units_3': 1, 'n_units_4': 63, 'activation': 'tanh', 'learning_rate': 'invscaling', 'batch_size': 128}. Best is trial 0 with value: 0.6048152106347943.\u001b[0m\n",
            "\u001b[32m[I 2021-12-02 11:56:29,453]\u001b[0m Trial 25 finished with value: 0.5915146293852713 and parameters: {'n_layers': 8, 'n_units_0': 49, 'n_units_1': 71, 'n_units_2': 44, 'n_units_3': 17, 'n_units_4': 88, 'n_units_5': 69, 'n_units_6': 100, 'n_units_7': 15, 'activation': 'tanh', 'learning_rate': 'invscaling', 'batch_size': 128}. Best is trial 0 with value: 0.6048152106347943.\u001b[0m\n",
            "\u001b[32m[I 2021-12-02 11:56:38,212]\u001b[0m Trial 26 finished with value: 0.6034157951558905 and parameters: {'n_layers': 6, 'n_units_0': 100, 'n_units_1': 32, 'n_units_2': 62, 'n_units_3': 71, 'n_units_4': 77, 'n_units_5': 52, 'activation': 'tanh', 'learning_rate': 'invscaling', 'batch_size': 128}. Best is trial 0 with value: 0.6048152106347943.\u001b[0m\n",
            "\u001b[32m[I 2021-12-02 11:56:51,351]\u001b[0m Trial 27 finished with value: 0.5964094483036892 and parameters: {'n_layers': 7, 'n_units_0': 100, 'n_units_1': 29, 'n_units_2': 65, 'n_units_3': 70, 'n_units_4': 77, 'n_units_5': 52, 'n_units_6': 19, 'activation': 'tanh', 'learning_rate': 'invscaling', 'batch_size': 128}. Best is trial 0 with value: 0.6048152106347943.\u001b[0m\n",
            "\u001b[32m[I 2021-12-02 11:57:20,536]\u001b[0m Trial 28 finished with value: 0.6104175072792507 and parameters: {'n_layers': 5, 'n_units_0': 91, 'n_units_1': 11, 'n_units_2': 24, 'n_units_3': 92, 'n_units_4': 93, 'activation': 'tanh', 'learning_rate': 'adaptive', 'batch_size': 512}. Best is trial 28 with value: 0.6104175072792507.\u001b[0m\n",
            "\u001b[32m[I 2021-12-02 11:58:03,548]\u001b[0m Trial 29 finished with value: 0.5065360581903837 and parameters: {'n_layers': 7, 'n_units_0': 94, 'n_units_1': 11, 'n_units_2': 25, 'n_units_3': 89, 'n_units_4': 96, 'n_units_5': 81, 'n_units_6': 47, 'activation': 'logistic', 'learning_rate': 'adaptive', 'batch_size': 512}. Best is trial 28 with value: 0.6104175072792507.\u001b[0m\n",
            "\u001b[32m[I 2021-12-02 11:58:49,431]\u001b[0m Trial 30 finished with value: 0.5065360581903837 and parameters: {'n_layers': 9, 'n_units_0': 79, 'n_units_1': 19, 'n_units_2': 4, 'n_units_3': 92, 'n_units_4': 48, 'n_units_5': 72, 'n_units_6': 22, 'n_units_7': 80, 'n_units_8': 55, 'activation': 'logistic', 'learning_rate': 'adaptive', 'batch_size': 512}. Best is trial 28 with value: 0.6104175072792507.\u001b[0m\n",
            "\u001b[32m[I 2021-12-02 11:59:23,173]\u001b[0m Trial 31 finished with value: 0.6104183251725755 and parameters: {'n_layers': 5, 'n_units_0': 91, 'n_units_1': 32, 'n_units_2': 58, 'n_units_3': 68, 'n_units_4': 90, 'activation': 'tanh', 'learning_rate': 'adaptive', 'batch_size': 512}. Best is trial 31 with value: 0.6104183251725755.\u001b[0m\n",
            "\u001b[32m[I 2021-12-02 11:59:55,211]\u001b[0m Trial 32 finished with value: 0.6078452327724402 and parameters: {'n_layers': 5, 'n_units_0': 91, 'n_units_1': 27, 'n_units_2': 56, 'n_units_3': 68, 'n_units_4': 81, 'activation': 'tanh', 'learning_rate': 'adaptive', 'batch_size': 512}. Best is trial 31 with value: 0.6104183251725755.\u001b[0m\n",
            "\u001b[32m[I 2021-12-02 12:00:28,465]\u001b[0m Trial 33 finished with value: 0.6048152106347943 and parameters: {'n_layers': 5, 'n_units_0': 91, 'n_units_1': 13, 'n_units_2': 43, 'n_units_3': 84, 'n_units_4': 92, 'activation': 'tanh', 'learning_rate': 'adaptive', 'batch_size': 512}. Best is trial 31 with value: 0.6104183251725755.\u001b[0m\n",
            "\u001b[32m[I 2021-12-02 12:00:56,584]\u001b[0m Trial 34 finished with value: 0.5555504967338794 and parameters: {'n_layers': 5, 'n_units_0': 80, 'n_units_1': 1, 'n_units_2': 55, 'n_units_3': 67, 'n_units_4': 84, 'activation': 'tanh', 'learning_rate': 'adaptive', 'batch_size': 512}. Best is trial 31 with value: 0.6104183251725755.\u001b[0m\n",
            "\u001b[32m[I 2021-12-02 12:01:24,945]\u001b[0m Trial 35 finished with value: 0.6080837849922027 and parameters: {'n_layers': 5, 'n_units_0': 90, 'n_units_1': 23, 'n_units_2': 24, 'n_units_3': 49, 'n_units_4': 70, 'activation': 'tanh', 'learning_rate': 'adaptive', 'batch_size': 512}. Best is trial 31 with value: 0.6104183251725755.\u001b[0m\n",
            "\u001b[32m[I 2021-12-02 12:01:50,819]\u001b[0m Trial 36 finished with value: 0.60948265520889 and parameters: {'n_layers': 5, 'n_units_0': 90, 'n_units_1': 24, 'n_units_2': 22, 'n_units_3': 47, 'n_units_4': 69, 'activation': 'tanh', 'learning_rate': 'adaptive', 'batch_size': 512}. Best is trial 31 with value: 0.6104183251725755.\u001b[0m\n",
            "\u001b[32m[I 2021-12-02 12:02:14,015]\u001b[0m Trial 37 finished with value: 0.6064436362446701 and parameters: {'n_layers': 5, 'n_units_0': 57, 'n_units_1': 10, 'n_units_2': 20, 'n_units_3': 49, 'n_units_4': 69, 'activation': 'tanh', 'learning_rate': 'adaptive', 'batch_size': 512}. Best is trial 31 with value: 0.6104183251725755.\u001b[0m\n",
            "\u001b[32m[I 2021-12-02 12:02:37,573]\u001b[0m Trial 38 finished with value: 0.6120511128801841 and parameters: {'n_layers': 6, 'n_units_0': 88, 'n_units_1': 24, 'n_units_2': 11, 'n_units_3': 52, 'n_units_4': 52, 'n_units_5': 5, 'activation': 'tanh', 'learning_rate': 'adaptive', 'batch_size': 512}. Best is trial 38 with value: 0.6120511128801841.\u001b[0m\n",
            "\u001b[32m[I 2021-12-02 12:02:51,508]\u001b[0m Trial 39 finished with value: 0.49859813084112153 and parameters: {'n_layers': 6, 'n_units_0': 81, 'n_units_1': 34, 'n_units_2': 12, 'n_units_3': 56, 'n_units_4': 42, 'n_units_5': 2, 'activation': 'relu', 'learning_rate': 'adaptive', 'batch_size': 512}. Best is trial 38 with value: 0.6120511128801841.\u001b[0m\n"
          ]
        }
      ]
    },
    {
      "cell_type": "markdown",
      "metadata": {
        "id": "yy7oHGlrAIgT"
      },
      "source": [
        "Παρατηρούμε, όμως και πάλι, ότι ακόμα και στα πιο βαθιά αυτά δίκτυα τα ποσοστά δε βελτιώνονται, οπότε και στη συνέχεια θα προσπαθήσουμε να βελτιώσουμε τα scores των δικτύων με την προσθήκη κάποιων μετασχηματιστών. \n",
        "\n",
        "Ως μετασχηματιστές, θα χρησιμοποιήσουμε τεχνικές μείωσης της διαστατικότητας με επιλογή (Variance Threshold) ή εξαγωγή χαρακτηριστικών (PCA) καθώς και κανονικοποίηση των χαρακτηριστικών με διαίρεση με τη διαφορά μεγίστου-ελαχίστου (MinMax Scaler) ή με z-score του κάθε χαρακτηριστικού (Standard Scaler).\n",
        "\n",
        "Θα εργαστούμε αρχικά με τα πιο απλά δίκτυα (έως 5 layers) και δοκιμάσουμε να εφαρμόσουμε στα δεδομένα μας έναν MinMax Scaler, με σκοπό να μετατοπίσει τις διακυμάνσεις των χαρακτηριστικών μας στο διάστημα [0 - 1], οπότε και στη συνέχεια θα εφαρμόσουμε Variance Threshold με thresholds στο διάστημα [0 - 0.15] και τέλος θα ακολουθήσει το νευρωνικό δίκτυο."
      ]
    },
    {
      "cell_type": "code",
      "metadata": {
        "colab": {
          "base_uri": "https://localhost:8080/"
        },
        "id": "fy10na34_9zk",
        "outputId": "f5f8394f-d6cd-49cf-dcdc-5995121e5d02"
      },
      "source": [
        "# MinMax Scaler - Variance Threshold - MLP\n",
        "# n_layers < 5\n",
        "\n",
        "def objective(trial):\n",
        "\n",
        "    n_layers = trial.suggest_int('n_layers', 1, 5)\n",
        "    layers = []\n",
        "    for i in range(n_layers):\n",
        "        layers.append(trial.suggest_int(f'n_units_{i}', 1, 100))\n",
        "\n",
        "    activation = trial.suggest_categorical('activation', ['relu', 'logistic', 'tanh'])\n",
        "    learning_rate = trial.suggest_categorical('learning_rate', ['constant', 'invscaling', 'adaptive'])\n",
        "    batch_size = trial.suggest_categorical('batch_size', [128, 256, 512])\n",
        "\n",
        "    mlp = MLPClassifier(hidden_layer_sizes = tuple(layers), activation = activation,  solver = 'sgd', learning_rate = learning_rate, batch_size = batch_size, max_iter = 10000, early_stopping = True)\n",
        "    threshold = trial.suggest_float('threshold', 0.0, 0.15)\n",
        "\n",
        "    clf = Pipeline(steps = [('minmax_scaler', preprocessing.MinMaxScaler()), ('selector', VarianceThreshold(threshold)), ('mlp', mlp)])\n",
        "\n",
        "    return np.mean(cross_val_score(clf, X_train_small, y_train_small, cv = 5, scoring = 'accuracy'))\n",
        "\n",
        "study = optuna.create_study(direction = 'maximize')\n",
        "study.optimize(objective, n_trials = 40)"
      ],
      "execution_count": null,
      "outputs": [
        {
          "name": "stderr",
          "output_type": "stream",
          "text": [
            "\u001b[32m[I 2021-12-02 12:06:59,960]\u001b[0m A new study created in memory with name: no-name-0d42da80-c625-44dd-a1fd-db93e6157f80\u001b[0m\n",
            "\u001b[32m[I 2021-12-02 12:07:26,051]\u001b[0m Trial 0 finished with value: 0.6701678862364912 and parameters: {'n_layers': 4, 'n_units_0': 56, 'n_units_1': 89, 'n_units_2': 65, 'n_units_3': 46, 'activation': 'relu', 'learning_rate': 'adaptive', 'batch_size': 256, 'threshold': 0.1299088276450516}. Best is trial 0 with value: 0.6701678862364912.\u001b[0m\n",
            "\u001b[32m[I 2021-12-02 12:07:32,910]\u001b[0m Trial 1 finished with value: 0.7334289359753106 and parameters: {'n_layers': 2, 'n_units_0': 99, 'n_units_1': 30, 'activation': 'tanh', 'learning_rate': 'constant', 'batch_size': 256, 'threshold': 0.01788683141228765}. Best is trial 1 with value: 0.7334289359753106.\u001b[0m\n",
            "\u001b[32m[I 2021-12-02 12:07:51,087]\u001b[0m Trial 2 finished with value: 0.6839526603343549 and parameters: {'n_layers': 3, 'n_units_0': 23, 'n_units_1': 33, 'n_units_2': 69, 'activation': 'tanh', 'learning_rate': 'adaptive', 'batch_size': 256, 'threshold': 0.07964346571156547}. Best is trial 1 with value: 0.7334289359753106.\u001b[0m\n",
            "\u001b[32m[I 2021-12-02 12:08:16,232]\u001b[0m Trial 3 finished with value: 0.7355317397136283 and parameters: {'n_layers': 2, 'n_units_0': 20, 'n_units_1': 96, 'activation': 'tanh', 'learning_rate': 'adaptive', 'batch_size': 128, 'threshold': 0.08967631626226079}. Best is trial 3 with value: 0.7355317397136283.\u001b[0m\n",
            "\u001b[32m[I 2021-12-02 12:08:53,376]\u001b[0m Trial 4 finished with value: 0.7352871896094832 and parameters: {'n_layers': 4, 'n_units_0': 100, 'n_units_1': 4, 'n_units_2': 73, 'n_units_3': 64, 'activation': 'tanh', 'learning_rate': 'adaptive', 'batch_size': 256, 'threshold': 0.026656405324299377}. Best is trial 3 with value: 0.7355317397136283.\u001b[0m\n",
            "\u001b[32m[I 2021-12-02 12:08:56,948]\u001b[0m Trial 5 finished with value: 0.5011652253568741 and parameters: {'n_layers': 4, 'n_units_0': 7, 'n_units_1': 37, 'n_units_2': 73, 'n_units_3': 58, 'activation': 'logistic', 'learning_rate': 'invscaling', 'batch_size': 256, 'threshold': 0.04163936132053288}. Best is trial 3 with value: 0.7355317397136283.\u001b[0m\n",
            "\u001b[32m[I 2021-12-02 12:09:00,681]\u001b[0m Trial 6 finished with value: 0.5039689636746312 and parameters: {'n_layers': 4, 'n_units_0': 84, 'n_units_1': 82, 'n_units_2': 35, 'n_units_3': 10, 'activation': 'logistic', 'learning_rate': 'constant', 'batch_size': 512, 'threshold': 0.08753009706853425}. Best is trial 3 with value: 0.7355317397136283.\u001b[0m\n",
            "\u001b[32m[I 2021-12-02 12:09:05,601]\u001b[0m Trial 7 finished with value: 0.5037323198726268 and parameters: {'n_layers': 5, 'n_units_0': 51, 'n_units_1': 24, 'n_units_2': 33, 'n_units_3': 60, 'n_units_4': 36, 'activation': 'logistic', 'learning_rate': 'invscaling', 'batch_size': 128, 'threshold': 0.10091510874998673}. Best is trial 3 with value: 0.7355317397136283.\u001b[0m\n",
            "\u001b[32m[I 2021-12-02 12:09:28,333]\u001b[0m Trial 8 finished with value: 0.7357689287778493 and parameters: {'n_layers': 2, 'n_units_0': 91, 'n_units_1': 61, 'activation': 'relu', 'learning_rate': 'adaptive', 'batch_size': 128, 'threshold': 0.017683096009512227}. Best is trial 8 with value: 0.7357689287778493.\u001b[0m\n",
            "\u001b[32m[I 2021-12-02 12:09:32,394]\u001b[0m Trial 9 finished with value: 0.611136708142946 and parameters: {'n_layers': 4, 'n_units_0': 66, 'n_units_1': 14, 'n_units_2': 15, 'n_units_3': 32, 'activation': 'relu', 'learning_rate': 'constant', 'batch_size': 512, 'threshold': 0.05208457210314694}. Best is trial 8 with value: 0.7357689287778493.\u001b[0m\n",
            "\u001b[32m[I 2021-12-02 12:09:47,803]\u001b[0m Trial 10 finished with value: 0.737400898592133 and parameters: {'n_layers': 1, 'n_units_0': 78, 'activation': 'relu', 'learning_rate': 'adaptive', 'batch_size': 128, 'threshold': 0.002293093061670304}. Best is trial 10 with value: 0.737400898592133.\u001b[0m\n",
            "\u001b[32m[I 2021-12-02 12:10:03,781]\u001b[0m Trial 11 finished with value: 0.7311003936793203 and parameters: {'n_layers': 1, 'n_units_0': 75, 'activation': 'relu', 'learning_rate': 'adaptive', 'batch_size': 128, 'threshold': 0.006044656529920716}. Best is trial 10 with value: 0.737400898592133.\u001b[0m\n",
            "\u001b[32m[I 2021-12-02 12:10:21,102]\u001b[0m Trial 12 finished with value: 0.7390355947174998 and parameters: {'n_layers': 1, 'n_units_0': 79, 'activation': 'relu', 'learning_rate': 'adaptive', 'batch_size': 128, 'threshold': 2.2583942973168365e-05}. Best is trial 12 with value: 0.7390355947174998.\u001b[0m\n",
            "\u001b[32m[I 2021-12-02 12:10:36,660]\u001b[0m Trial 13 finished with value: 0.7334322075486102 and parameters: {'n_layers': 1, 'n_units_0': 73, 'activation': 'relu', 'learning_rate': 'adaptive', 'batch_size': 128, 'threshold': 0.0005628646314555087}. Best is trial 12 with value: 0.7390355947174998.\u001b[0m\n",
            "\u001b[32m[I 2021-12-02 12:10:49,196]\u001b[0m Trial 14 finished with value: 0.7455697444901253 and parameters: {'n_layers': 1, 'n_units_0': 39, 'activation': 'relu', 'learning_rate': 'adaptive', 'batch_size': 128, 'threshold': 0.04478099074617199}. Best is trial 14 with value: 0.7455697444901253.\u001b[0m\n",
            "\u001b[32m[I 2021-12-02 12:10:51,816]\u001b[0m Trial 15 finished with value: 0.5406214898744806 and parameters: {'n_layers': 2, 'n_units_0': 37, 'n_units_1': 60, 'activation': 'relu', 'learning_rate': 'invscaling', 'batch_size': 128, 'threshold': 0.05837207800075936}. Best is trial 14 with value: 0.7455697444901253.\u001b[0m\n",
            "\u001b[32m[I 2021-12-02 12:11:03,996]\u001b[0m Trial 16 finished with value: 0.7388035856443362 and parameters: {'n_layers': 1, 'n_units_0': 39, 'activation': 'relu', 'learning_rate': 'adaptive', 'batch_size': 128, 'threshold': 0.03515511071455434}. Best is trial 14 with value: 0.7455697444901253.\u001b[0m\n",
            "\u001b[32m[I 2021-12-02 12:11:25,526]\u001b[0m Trial 17 finished with value: 0.704493233295892 and parameters: {'n_layers': 3, 'n_units_0': 63, 'n_units_1': 72, 'n_units_2': 100, 'activation': 'relu', 'learning_rate': 'adaptive', 'batch_size': 512, 'threshold': 0.06262466962488537}. Best is trial 14 with value: 0.7455697444901253.\u001b[0m\n",
            "\u001b[32m[I 2021-12-02 12:11:28,066]\u001b[0m Trial 18 finished with value: 0.6106200721927173 and parameters: {'n_layers': 1, 'n_units_0': 38, 'activation': 'relu', 'learning_rate': 'constant', 'batch_size': 128, 'threshold': 0.14608668217304574}. Best is trial 14 with value: 0.7455697444901253.\u001b[0m\n",
            "\u001b[32m[I 2021-12-02 12:11:30,858]\u001b[0m Trial 19 finished with value: 0.5011652253568741 and parameters: {'n_layers': 3, 'n_units_0': 43, 'n_units_1': 47, 'n_units_2': 3, 'activation': 'logistic', 'learning_rate': 'invscaling', 'batch_size': 128, 'threshold': 0.10866560197239072}. Best is trial 14 with value: 0.7455697444901253.\u001b[0m\n",
            "\u001b[32m[I 2021-12-02 12:11:41,830]\u001b[0m Trial 20 finished with value: 0.7016859507737271 and parameters: {'n_layers': 2, 'n_units_0': 23, 'n_units_1': 76, 'activation': 'relu', 'learning_rate': 'adaptive', 'batch_size': 512, 'threshold': 0.0454469632625441}. Best is trial 14 with value: 0.7455697444901253.\u001b[0m\n",
            "\u001b[32m[I 2021-12-02 12:11:51,838]\u001b[0m Trial 21 finished with value: 0.7203540932834601 and parameters: {'n_layers': 1, 'n_units_0': 33, 'activation': 'relu', 'learning_rate': 'adaptive', 'batch_size': 128, 'threshold': 0.03554911426815735}. Best is trial 14 with value: 0.7455697444901253.\u001b[0m\n",
            "\u001b[32m[I 2021-12-02 12:12:03,359]\u001b[0m Trial 22 finished with value: 0.7301679952889344 and parameters: {'n_layers': 1, 'n_units_0': 46, 'activation': 'relu', 'learning_rate': 'adaptive', 'batch_size': 128, 'threshold': 0.02596774257622988}. Best is trial 14 with value: 0.7455697444901253.\u001b[0m\n",
            "\u001b[32m[I 2021-12-02 12:12:15,956]\u001b[0m Trial 23 finished with value: 0.723630301311901 and parameters: {'n_layers': 1, 'n_units_0': 55, 'activation': 'relu', 'learning_rate': 'adaptive', 'batch_size': 128, 'threshold': 0.06763793929713532}. Best is trial 14 with value: 0.7455697444901253.\u001b[0m\n",
            "\u001b[32m[I 2021-12-02 12:12:26,318]\u001b[0m Trial 24 finished with value: 0.6253784119783203 and parameters: {'n_layers': 2, 'n_units_0': 32, 'n_units_1': 2, 'activation': 'relu', 'learning_rate': 'adaptive', 'batch_size': 128, 'threshold': 0.03272508691824354}. Best is trial 14 with value: 0.7455697444901253.\u001b[0m\n",
            "\u001b[32m[I 2021-12-02 12:12:33,221]\u001b[0m Trial 25 finished with value: 0.7345993413232424 and parameters: {'n_layers': 1, 'n_units_0': 8, 'activation': 'relu', 'learning_rate': 'adaptive', 'batch_size': 128, 'threshold': 0.017686761031037137}. Best is trial 14 with value: 0.7455697444901253.\u001b[0m\n",
            "\u001b[32m[I 2021-12-02 12:12:54,911]\u001b[0m Trial 26 finished with value: 0.7422998069771752 and parameters: {'n_layers': 2, 'n_units_0': 63, 'n_units_1': 56, 'activation': 'relu', 'learning_rate': 'adaptive', 'batch_size': 128, 'threshold': 0.044925386257917026}. Best is trial 14 with value: 0.7455697444901253.\u001b[0m\n",
            "\u001b[32m[I 2021-12-02 12:13:13,980]\u001b[0m Trial 27 finished with value: 0.7301633605600933 and parameters: {'n_layers': 2, 'n_units_0': 64, 'n_units_1': 49, 'activation': 'relu', 'learning_rate': 'adaptive', 'batch_size': 128, 'threshold': 0.07118398178402029}. Best is trial 14 with value: 0.7455697444901253.\u001b[0m\n",
            "\u001b[32m[I 2021-12-02 12:13:19,436]\u001b[0m Trial 28 finished with value: 0.5065360581903837 and parameters: {'n_layers': 3, 'n_units_0': 86, 'n_units_1': 64, 'n_units_2': 95, 'activation': 'logistic', 'learning_rate': 'constant', 'batch_size': 128, 'threshold': 0.04509805068364426}. Best is trial 14 with value: 0.7455697444901253.\u001b[0m\n",
            "\u001b[32m[I 2021-12-02 12:13:22,073]\u001b[0m Trial 29 finished with value: 0.5039624205280319 and parameters: {'n_layers': 2, 'n_units_0': 58, 'n_units_1': 42, 'activation': 'tanh', 'learning_rate': 'invscaling', 'batch_size': 512, 'threshold': 0.12042679951311824}. Best is trial 14 with value: 0.7455697444901253.\u001b[0m\n",
            "\u001b[32m[I 2021-12-02 12:14:02,144]\u001b[0m Trial 30 finished with value: 0.7210558457562242 and parameters: {'n_layers': 5, 'n_units_0': 70, 'n_units_1': 18, 'n_units_2': 46, 'n_units_3': 99, 'n_units_4': 99, 'activation': 'relu', 'learning_rate': 'adaptive', 'batch_size': 256, 'threshold': 0.05799664493013331}. Best is trial 14 with value: 0.7455697444901253.\u001b[0m\n",
            "\u001b[32m[I 2021-12-02 12:14:13,506]\u001b[0m Trial 31 finished with value: 0.7294670607094951 and parameters: {'n_layers': 1, 'n_units_0': 48, 'activation': 'relu', 'learning_rate': 'adaptive', 'batch_size': 128, 'threshold': 0.0501020724689847}. Best is trial 14 with value: 0.7455697444901253.\u001b[0m\n",
            "\u001b[32m[I 2021-12-02 12:14:26,113]\u001b[0m Trial 32 finished with value: 0.7297007055693083 and parameters: {'n_layers': 1, 'n_units_0': 53, 'activation': 'relu', 'learning_rate': 'adaptive', 'batch_size': 128, 'threshold': 0.024404005149283935}. Best is trial 14 with value: 0.7455697444901253.\u001b[0m\n",
            "\u001b[32m[I 2021-12-02 12:14:46,847]\u001b[0m Trial 33 finished with value: 0.7201215389480801 and parameters: {'n_layers': 2, 'n_units_0': 28, 'n_units_1': 100, 'activation': 'relu', 'learning_rate': 'adaptive', 'batch_size': 128, 'threshold': 0.011441929324379888}. Best is trial 14 with value: 0.7455697444901253.\u001b[0m\n",
            "\u001b[32m[I 2021-12-02 12:14:53,286]\u001b[0m Trial 34 finished with value: 0.7156934644870718 and parameters: {'n_layers': 1, 'n_units_0': 15, 'activation': 'tanh', 'learning_rate': 'adaptive', 'batch_size': 128, 'threshold': 0.03836168008382392}. Best is trial 14 with value: 0.7455697444901253.\u001b[0m\n",
            "\u001b[32m[I 2021-12-02 12:15:10,445]\u001b[0m Trial 35 finished with value: 0.7229293667324617 and parameters: {'n_layers': 3, 'n_units_0': 43, 'n_units_1': 54, 'n_units_2': 18, 'activation': 'relu', 'learning_rate': 'adaptive', 'batch_size': 256, 'threshold': 0.014900849624481335}. Best is trial 14 with value: 0.7455697444901253.\u001b[0m\n",
            "\u001b[32m[I 2021-12-02 12:15:41,143]\u001b[0m Trial 36 finished with value: 0.7341350505458075 and parameters: {'n_layers': 2, 'n_units_0': 93, 'n_units_1': 72, 'activation': 'tanh', 'learning_rate': 'adaptive', 'batch_size': 128, 'threshold': 0.07693844503805351}. Best is trial 14 with value: 0.7455697444901253.\u001b[0m\n",
            "\u001b[32m[I 2021-12-02 12:15:45,136]\u001b[0m Trial 37 finished with value: 0.7201256284147046 and parameters: {'n_layers': 1, 'n_units_0': 79, 'activation': 'relu', 'learning_rate': 'constant', 'batch_size': 256, 'threshold': 0.026781899774197128}. Best is trial 14 with value: 0.7455697444901253.\u001b[0m\n",
            "\u001b[32m[I 2021-12-02 12:16:06,095]\u001b[0m Trial 38 finished with value: 0.5427087536396252 and parameters: {'n_layers': 2, 'n_units_0': 58, 'n_units_1': 91, 'activation': 'logistic', 'learning_rate': 'adaptive', 'batch_size': 128, 'threshold': 0.03537301495429249}. Best is trial 14 with value: 0.7455697444901253.\u001b[0m\n",
            "\u001b[32m[I 2021-12-02 12:16:12,633]\u001b[0m Trial 39 finished with value: 0.7187245771491511 and parameters: {'n_layers': 1, 'n_units_0': 17, 'activation': 'tanh', 'learning_rate': 'adaptive', 'batch_size': 128, 'threshold': 0.08334212243017741}. Best is trial 14 with value: 0.7455697444901253.\u001b[0m\n"
          ]
        }
      ]
    },
    {
      "cell_type": "markdown",
      "metadata": {
        "id": "kneXwyyuDRdn"
      },
      "source": [
        "Παρατηρούμε ότι η αφαίρεση κάποιων χαρακτηριστικών με χαμηλή διακύμανση (κάτω από ένα κατώφλι - threshold) και η εκπαίδευση του δικτύου με τα εναπομείναντα χαρακτηριστικά βελτιώνει αρκετά το accuracy score που αυτό επιτυγχάνει. Παράλληλα, είναι εμφανές πλέον ότι για 'sgd' solver η 'logistic' activation function δεν έχει τόσο καλά αποτελέσματα, ενώ θα μπορούσαμε να πούμε ότι και η 'relu' υπερτερεί λίγο έναντι της 'tanh', και με τις δύο πάντως να επιτυγχάνουν scores αρκετά ψηλά κοντά στο 0.72. Παράλληλα, το 'adaptive' και το 'constant' learning_rate φαίνεται να επιτυγχάνουν καλύτερα scores συγκριτικά με το 'invscaling'. Τέλος, όσον αφορά την υπερπαπάμερο theshold, τα καλύτερα scores φαίνεται να αντιστοιχούν σε τιμές χαμηλότερες από 0.08.\n",
        "\n",
        "Σε παρόμοια συμπεράσματα, οδηγούμαστε και για τα πιο βαθιά νευρωνικά δίκτυα (5 με 10 layers) όπως φαίνεται και παρακάτω. "
      ]
    },
    {
      "cell_type": "code",
      "metadata": {
        "colab": {
          "base_uri": "https://localhost:8080/"
        },
        "id": "4EAKbUzx_9p9",
        "outputId": "2c621e67-ab04-4804-b8ad-622c13917154"
      },
      "source": [
        "# MinMax Scaler - Variance Threshold - MLP\n",
        "# 5 < n_layers < 10\n",
        "\n",
        "def objective(trial):\n",
        "\n",
        "    n_layers = trial.suggest_int('n_layers', 5, 10)\n",
        "    layers = []\n",
        "    for i in range(n_layers):\n",
        "        layers.append(trial.suggest_int(f'n_units_{i}', 1, 100))\n",
        "\n",
        "    activation = trial.suggest_categorical('activation', ['relu', 'logistic', 'tanh'])\n",
        "    learning_rate = trial.suggest_categorical('learning_rate', ['constant', 'invscaling', 'adaptive'])\n",
        "    batch_size = trial.suggest_categorical('batch_size', [128, 256, 512])\n",
        "\n",
        "    mlp = MLPClassifier(hidden_layer_sizes = tuple(layers), activation = activation,  solver = 'sgd', learning_rate = learning_rate, batch_size = batch_size, max_iter = 10000, early_stopping = True)\n",
        "    threshold = trial.suggest_float('threshold', 0.0, 0.15)\n",
        "\n",
        "    clf = Pipeline(steps = [('minmax_scaler', preprocessing.MinMaxScaler()), ('selector', VarianceThreshold(threshold)), ('mlp', mlp)])\n",
        "\n",
        "    return np.mean(cross_val_score(clf, X_train_small, y_train_small, cv = 5, scoring = 'accuracy'))\n",
        "\n",
        "study = optuna.create_study(direction = 'maximize')\n",
        "study.optimize(objective, n_trials = 40)"
      ],
      "execution_count": null,
      "outputs": [
        {
          "name": "stderr",
          "output_type": "stream",
          "text": [
            "\u001b[32m[I 2021-12-02 12:16:32,576]\u001b[0m A new study created in memory with name: no-name-8a30d6a6-f92a-41bf-8281-a060210f0858\u001b[0m\n",
            "\u001b[32m[I 2021-12-02 12:17:11,216]\u001b[0m Trial 0 finished with value: 0.5065360581903837 and parameters: {'n_layers': 8, 'n_units_0': 47, 'n_units_1': 40, 'n_units_2': 78, 'n_units_3': 63, 'n_units_4': 49, 'n_units_5': 40, 'n_units_6': 77, 'n_units_7': 34, 'activation': 'logistic', 'learning_rate': 'adaptive', 'batch_size': 512, 'threshold': 0.09840315263012345}. Best is trial 0 with value: 0.5065360581903837.\u001b[0m\n",
            "\u001b[32m[I 2021-12-02 12:17:21,182]\u001b[0m Trial 1 finished with value: 0.5039689636746312 and parameters: {'n_layers': 10, 'n_units_0': 1, 'n_units_1': 22, 'n_units_2': 18, 'n_units_3': 65, 'n_units_4': 74, 'n_units_5': 62, 'n_units_6': 62, 'n_units_7': 20, 'n_units_8': 98, 'n_units_9': 27, 'activation': 'logistic', 'learning_rate': 'invscaling', 'batch_size': 128, 'threshold': 0.052222869537404855}. Best is trial 0 with value: 0.5065360581903837.\u001b[0m\n",
            "\u001b[32m[I 2021-12-02 12:17:48,553]\u001b[0m Trial 2 finished with value: 0.7444028833466013 and parameters: {'n_layers': 10, 'n_units_0': 59, 'n_units_1': 25, 'n_units_2': 25, 'n_units_3': 52, 'n_units_4': 38, 'n_units_5': 8, 'n_units_6': 19, 'n_units_7': 3, 'n_units_8': 45, 'n_units_9': 43, 'activation': 'tanh', 'learning_rate': 'constant', 'batch_size': 256, 'threshold': 0.10637519553975246}. Best is trial 2 with value: 0.7444028833466013.\u001b[0m\n",
            "\u001b[32m[I 2021-12-02 12:17:58,145]\u001b[0m Trial 3 finished with value: 0.49859813084112153 and parameters: {'n_layers': 8, 'n_units_0': 99, 'n_units_1': 85, 'n_units_2': 39, 'n_units_3': 92, 'n_units_4': 72, 'n_units_5': 20, 'n_units_6': 93, 'n_units_7': 52, 'activation': 'logistic', 'learning_rate': 'invscaling', 'batch_size': 256, 'threshold': 0.0484702868790338}. Best is trial 2 with value: 0.7444028833466013.\u001b[0m\n",
            "\u001b[32m[I 2021-12-02 12:18:05,829]\u001b[0m Trial 4 finished with value: 0.5065360581903837 and parameters: {'n_layers': 9, 'n_units_0': 78, 'n_units_1': 29, 'n_units_2': 57, 'n_units_3': 42, 'n_units_4': 1, 'n_units_5': 94, 'n_units_6': 2, 'n_units_7': 23, 'n_units_8': 25, 'activation': 'logistic', 'learning_rate': 'constant', 'batch_size': 256, 'threshold': 0.019091956404160688}. Best is trial 2 with value: 0.7444028833466013.\u001b[0m\n",
            "\u001b[32m[I 2021-12-02 12:18:09,074]\u001b[0m Trial 5 finished with value: 0.5014018691588784 and parameters: {'n_layers': 6, 'n_units_0': 4, 'n_units_1': 94, 'n_units_2': 60, 'n_units_3': 95, 'n_units_4': 33, 'n_units_5': 22, 'activation': 'relu', 'learning_rate': 'invscaling', 'batch_size': 512, 'threshold': 0.12206253474246856}. Best is trial 2 with value: 0.7444028833466013.\u001b[0m\n",
            "\u001b[32m[I 2021-12-02 12:18:22,552]\u001b[0m Trial 6 finished with value: 0.5014018691588784 and parameters: {'n_layers': 7, 'n_units_0': 22, 'n_units_1': 9, 'n_units_2': 48, 'n_units_3': 67, 'n_units_4': 15, 'n_units_5': 3, 'n_units_6': 92, 'activation': 'relu', 'learning_rate': 'adaptive', 'batch_size': 512, 'threshold': 0.06649290598113082}. Best is trial 2 with value: 0.7444028833466013.\u001b[0m\n",
            "\u001b[32m[I 2021-12-02 12:18:28,325]\u001b[0m Trial 7 finished with value: 0.5065360581903837 and parameters: {'n_layers': 7, 'n_units_0': 9, 'n_units_1': 18, 'n_units_2': 36, 'n_units_3': 89, 'n_units_4': 29, 'n_units_5': 34, 'n_units_6': 54, 'activation': 'logistic', 'learning_rate': 'constant', 'batch_size': 512, 'threshold': 0.01253739143283839}. Best is trial 2 with value: 0.7444028833466013.\u001b[0m\n",
            "\u001b[32m[I 2021-12-02 12:18:31,953]\u001b[0m Trial 8 finished with value: 0.4997649919846454 and parameters: {'n_layers': 5, 'n_units_0': 36, 'n_units_1': 53, 'n_units_2': 40, 'n_units_3': 16, 'n_units_4': 63, 'activation': 'tanh', 'learning_rate': 'invscaling', 'batch_size': 512, 'threshold': 0.13396994066243648}. Best is trial 2 with value: 0.7444028833466013.\u001b[0m\n",
            "\u001b[32m[I 2021-12-02 12:18:45,891]\u001b[0m Trial 9 finished with value: 0.6185931689549504 and parameters: {'n_layers': 5, 'n_units_0': 21, 'n_units_1': 77, 'n_units_2': 54, 'n_units_3': 45, 'n_units_4': 67, 'activation': 'tanh', 'learning_rate': 'invscaling', 'batch_size': 128, 'threshold': 0.0779000199455776}. Best is trial 2 with value: 0.7444028833466013.\u001b[0m\n",
            "\u001b[32m[I 2021-12-02 12:19:03,412]\u001b[0m Trial 10 finished with value: 0.6195225684031451 and parameters: {'n_layers': 10, 'n_units_0': 67, 'n_units_1': 59, 'n_units_2': 3, 'n_units_3': 3, 'n_units_4': 100, 'n_units_5': 69, 'n_units_6': 16, 'n_units_7': 96, 'n_units_8': 58, 'n_units_9': 78, 'activation': 'tanh', 'learning_rate': 'constant', 'batch_size': 256, 'threshold': 0.14631127657166446}. Best is trial 2 with value: 0.7444028833466013.\u001b[0m\n",
            "\u001b[32m[I 2021-12-02 12:19:14,747]\u001b[0m Trial 11 finished with value: 0.5263726976302904 and parameters: {'n_layers': 10, 'n_units_0': 69, 'n_units_1': 56, 'n_units_2': 1, 'n_units_3': 5, 'n_units_4': 94, 'n_units_5': 70, 'n_units_6': 14, 'n_units_7': 99, 'n_units_8': 61, 'n_units_9': 92, 'activation': 'tanh', 'learning_rate': 'constant', 'batch_size': 256, 'threshold': 0.14755944532130047}. Best is trial 2 with value: 0.7444028833466013.\u001b[0m\n",
            "\u001b[32m[I 2021-12-02 12:19:47,574]\u001b[0m Trial 12 finished with value: 0.7425339970992051 and parameters: {'n_layers': 9, 'n_units_0': 68, 'n_units_1': 67, 'n_units_2': 4, 'n_units_3': 28, 'n_units_4': 98, 'n_units_5': 83, 'n_units_6': 29, 'n_units_7': 99, 'n_units_8': 54, 'activation': 'tanh', 'learning_rate': 'constant', 'batch_size': 256, 'threshold': 0.10994391980215627}. Best is trial 2 with value: 0.7444028833466013.\u001b[0m\n",
            "\u001b[32m[I 2021-12-02 12:20:12,294]\u001b[0m Trial 13 finished with value: 0.7191910489754523 and parameters: {'n_layers': 9, 'n_units_0': 55, 'n_units_1': 71, 'n_units_2': 17, 'n_units_3': 36, 'n_units_4': 40, 'n_units_5': 99, 'n_units_6': 27, 'n_units_7': 67, 'n_units_8': 34, 'activation': 'tanh', 'learning_rate': 'constant', 'batch_size': 256, 'threshold': 0.10625392217503885}. Best is trial 2 with value: 0.7444028833466013.\u001b[0m\n",
            "\u001b[32m[I 2021-12-02 12:20:37,746]\u001b[0m Trial 14 finished with value: 0.6703633627411423 and parameters: {'n_layers': 9, 'n_units_0': 89, 'n_units_1': 42, 'n_units_2': 19, 'n_units_3': 26, 'n_units_4': 86, 'n_units_5': 83, 'n_units_6': 37, 'n_units_7': 3, 'n_units_8': 58, 'activation': 'tanh', 'learning_rate': 'constant', 'batch_size': 256, 'threshold': 0.09407488849489518}. Best is trial 2 with value: 0.7444028833466013.\u001b[0m\n",
            "\u001b[32m[I 2021-12-02 12:20:49,217]\u001b[0m Trial 15 finished with value: 0.5532710280373832 and parameters: {'n_layers': 9, 'n_units_0': 57, 'n_units_1': 67, 'n_units_2': 98, 'n_units_3': 28, 'n_units_4': 52, 'n_units_5': 2, 'n_units_6': 36, 'n_units_7': 74, 'n_units_8': 1, 'activation': 'tanh', 'learning_rate': 'constant', 'batch_size': 256, 'threshold': 0.10533338405599049}. Best is trial 2 with value: 0.7444028833466013.\u001b[0m\n",
            "\u001b[32m[I 2021-12-02 12:21:09,707]\u001b[0m Trial 16 finished with value: 0.6477780564673552 and parameters: {'n_layers': 10, 'n_units_0': 42, 'n_units_1': 35, 'n_units_2': 23, 'n_units_3': 51, 'n_units_4': 20, 'n_units_5': 52, 'n_units_6': 38, 'n_units_7': 1, 'n_units_8': 78, 'n_units_9': 4, 'activation': 'tanh', 'learning_rate': 'constant', 'batch_size': 256, 'threshold': 0.11744986568724458}. Best is trial 2 with value: 0.7444028833466013.\u001b[0m\n",
            "\u001b[32m[I 2021-12-02 12:21:51,414]\u001b[0m Trial 17 finished with value: 0.563478881994351 and parameters: {'n_layers': 8, 'n_units_0': 72, 'n_units_1': 2, 'n_units_2': 28, 'n_units_3': 74, 'n_units_4': 54, 'n_units_5': 84, 'n_units_6': 19, 'n_units_7': 75, 'activation': 'relu', 'learning_rate': 'adaptive', 'batch_size': 128, 'threshold': 0.08025868502092091}. Best is trial 2 with value: 0.7444028833466013.\u001b[0m\n",
            "\u001b[32m[I 2021-12-02 12:22:14,193]\u001b[0m Trial 18 finished with value: 0.6306900838613287 and parameters: {'n_layers': 9, 'n_units_0': 83, 'n_units_1': 47, 'n_units_2': 5, 'n_units_3': 54, 'n_units_4': 83, 'n_units_5': 50, 'n_units_6': 2, 'n_units_7': 46, 'n_units_8': 35, 'activation': 'tanh', 'learning_rate': 'constant', 'batch_size': 256, 'threshold': 0.12441783554704373}. Best is trial 2 with value: 0.7444028833466013.\u001b[0m\n",
            "\u001b[32m[I 2021-12-02 12:22:40,187]\u001b[0m Trial 19 finished with value: 0.7236226676408684 and parameters: {'n_layers': 10, 'n_units_0': 58, 'n_units_1': 98, 'n_units_2': 11, 'n_units_3': 27, 'n_units_4': 43, 'n_units_5': 20, 'n_units_6': 49, 'n_units_7': 87, 'n_units_8': 44, 'n_units_9': 46, 'activation': 'tanh', 'learning_rate': 'constant', 'batch_size': 256, 'threshold': 0.08912215162688945}. Best is trial 2 with value: 0.7444028833466013.\u001b[0m\n",
            "\u001b[32m[I 2021-12-02 12:23:09,210]\u001b[0m Trial 20 finished with value: 0.5072361748764982 and parameters: {'n_layers': 8, 'n_units_0': 32, 'n_units_1': 27, 'n_units_2': 66, 'n_units_3': 15, 'n_units_4': 1, 'n_units_5': 81, 'n_units_6': 26, 'n_units_7': 55, 'activation': 'relu', 'learning_rate': 'adaptive', 'batch_size': 128, 'threshold': 0.0595794608648184}. Best is trial 2 with value: 0.7444028833466013.\u001b[0m\n",
            "\u001b[32m[I 2021-12-02 12:23:44,218]\u001b[0m Trial 21 finished with value: 0.7394998854949344 and parameters: {'n_layers': 10, 'n_units_0': 63, 'n_units_1': 91, 'n_units_2': 13, 'n_units_3': 26, 'n_units_4': 42, 'n_units_5': 23, 'n_units_6': 48, 'n_units_7': 85, 'n_units_8': 41, 'n_units_9': 52, 'activation': 'tanh', 'learning_rate': 'constant', 'batch_size': 256, 'threshold': 0.08856713441773943}. Best is trial 2 with value: 0.7444028833466013.\u001b[0m\n",
            "\u001b[32m[I 2021-12-02 12:24:17,142]\u001b[0m Trial 22 finished with value: 0.7423006248705003 and parameters: {'n_layers': 10, 'n_units_0': 61, 'n_units_1': 78, 'n_units_2': 29, 'n_units_3': 35, 'n_units_4': 28, 'n_units_5': 11, 'n_units_6': 48, 'n_units_7': 86, 'n_units_8': 24, 'n_units_9': 57, 'activation': 'tanh', 'learning_rate': 'constant', 'batch_size': 256, 'threshold': 0.11048187335922499}. Best is trial 2 with value: 0.7444028833466013.\u001b[0m\n",
            "\u001b[32m[I 2021-12-02 12:24:38,818]\u001b[0m Trial 23 finished with value: 0.7392681490528795 and parameters: {'n_layers': 9, 'n_units_0': 49, 'n_units_1': 80, 'n_units_2': 30, 'n_units_3': 37, 'n_units_4': 22, 'n_units_5': 9, 'n_units_6': 59, 'n_units_7': 87, 'n_units_8': 15, 'activation': 'tanh', 'learning_rate': 'constant', 'batch_size': 256, 'threshold': 0.11292784785409068}. Best is trial 2 with value: 0.7444028833466013.\u001b[0m\n",
            "\u001b[32m[I 2021-12-02 12:25:08,708]\u001b[0m Trial 24 finished with value: 0.7100903499492907 and parameters: {'n_layers': 10, 'n_units_0': 77, 'n_units_1': 66, 'n_units_2': 31, 'n_units_3': 57, 'n_units_4': 32, 'n_units_5': 12, 'n_units_6': 28, 'n_units_7': 100, 'n_units_8': 21, 'n_units_9': 59, 'activation': 'tanh', 'learning_rate': 'constant', 'batch_size': 256, 'threshold': 0.13235612920205475}. Best is trial 2 with value: 0.7444028833466013.\u001b[0m\n",
            "\u001b[32m[I 2021-12-02 12:25:34,434]\u001b[0m Trial 25 finished with value: 0.6953636353722505 and parameters: {'n_layers': 9, 'n_units_0': 63, 'n_units_1': 62, 'n_units_2': 44, 'n_units_3': 45, 'n_units_4': 14, 'n_units_5': 31, 'n_units_6': 68, 'n_units_7': 62, 'n_units_8': 68, 'activation': 'tanh', 'learning_rate': 'constant', 'batch_size': 256, 'threshold': 0.13362583313836784}. Best is trial 2 with value: 0.7444028833466013.\u001b[0m\n",
            "\u001b[32m[I 2021-12-02 12:26:06,467]\u001b[0m Trial 26 finished with value: 0.7385666692112236 and parameters: {'n_layers': 10, 'n_units_0': 91, 'n_units_1': 78, 'n_units_2': 9, 'n_units_3': 14, 'n_units_4': 28, 'n_units_5': 47, 'n_units_6': 10, 'n_units_7': 39, 'n_units_8': 50, 'n_units_9': 30, 'activation': 'tanh', 'learning_rate': 'constant', 'batch_size': 256, 'threshold': 0.1096892509047757}. Best is trial 2 with value: 0.7444028833466013.\u001b[0m\n",
            "\u001b[32m[I 2021-12-02 12:26:37,284]\u001b[0m Trial 27 finished with value: 0.7446357103130896 and parameters: {'n_layers': 9, 'n_units_0': 44, 'n_units_1': 86, 'n_units_2': 23, 'n_units_3': 78, 'n_units_4': 62, 'n_units_5': 60, 'n_units_6': 43, 'n_units_7': 75, 'n_units_8': 76, 'activation': 'tanh', 'learning_rate': 'constant', 'batch_size': 256, 'threshold': 0.039902535303113565}. Best is trial 27 with value: 0.7446357103130896.\u001b[0m\n",
            "\u001b[32m[I 2021-12-02 12:27:02,425]\u001b[0m Trial 28 finished with value: 0.6229855287407714 and parameters: {'n_layers': 8, 'n_units_0': 40, 'n_units_1': 86, 'n_units_2': 24, 'n_units_3': 81, 'n_units_4': 60, 'n_units_5': 59, 'n_units_6': 34, 'n_units_7': 75, 'activation': 'relu', 'learning_rate': 'constant', 'batch_size': 256, 'threshold': 0.0316665814801538}. Best is trial 27 with value: 0.7446357103130896.\u001b[0m\n",
            "\u001b[32m[I 2021-12-02 12:28:13,355]\u001b[0m Trial 29 finished with value: 0.7402030011232401 and parameters: {'n_layers': 8, 'n_units_0': 45, 'n_units_1': 47, 'n_units_2': 10, 'n_units_3': 79, 'n_units_4': 81, 'n_units_5': 73, 'n_units_6': 43, 'n_units_7': 61, 'activation': 'tanh', 'learning_rate': 'adaptive', 'batch_size': 128, 'threshold': 0.03438539884034576}. Best is trial 27 with value: 0.7446357103130896.\u001b[0m\n",
            "\u001b[32m[I 2021-12-02 12:28:56,608]\u001b[0m Trial 30 finished with value: 0.5011652253568741 and parameters: {'n_layers': 7, 'n_units_0': 52, 'n_units_1': 70, 'n_units_2': 88, 'n_units_3': 61, 'n_units_4': 91, 'n_units_5': 90, 'n_units_6': 23, 'activation': 'logistic', 'learning_rate': 'adaptive', 'batch_size': 512, 'threshold': 0.06994205382905415}. Best is trial 27 with value: 0.7446357103130896.\u001b[0m\n",
            "\u001b[32m[I 2021-12-02 12:29:33,587]\u001b[0m Trial 31 finished with value: 0.7374019891165661 and parameters: {'n_layers': 9, 'n_units_0': 51, 'n_units_1': 74, 'n_units_2': 35, 'n_units_3': 36, 'n_units_4': 48, 'n_units_5': 11, 'n_units_6': 43, 'n_units_7': 90, 'n_units_8': 77, 'activation': 'tanh', 'learning_rate': 'constant', 'batch_size': 256, 'threshold': 0.09841451436337981}. Best is trial 27 with value: 0.7446357103130896.\u001b[0m\n",
            "\u001b[32m[I 2021-12-02 12:30:04,094]\u001b[0m Trial 32 finished with value: 0.7322590758895954 and parameters: {'n_layers': 10, 'n_units_0': 63, 'n_units_1': 87, 'n_units_2': 21, 'n_units_3': 100, 'n_units_4': 37, 'n_units_5': 43, 'n_units_6': 32, 'n_units_7': 80, 'n_units_8': 82, 'n_units_9': 71, 'activation': 'tanh', 'learning_rate': 'constant', 'batch_size': 256, 'threshold': 0.004346421452931709}. Best is trial 27 with value: 0.7446357103130896.\u001b[0m\n",
            "\u001b[32m[I 2021-12-02 12:30:46,951]\u001b[0m Trial 33 finished with value: 0.7439358662580835 and parameters: {'n_layers': 10, 'n_units_0': 32, 'n_units_1': 80, 'n_units_2': 15, 'n_units_3': 71, 'n_units_4': 72, 'n_units_5': 34, 'n_units_6': 73, 'n_units_7': 92, 'n_units_8': 94, 'n_units_9': 32, 'activation': 'tanh', 'learning_rate': 'constant', 'batch_size': 256, 'threshold': 0.044601894052877164}. Best is trial 27 with value: 0.7446357103130896.\u001b[0m\n",
            "\u001b[32m[I 2021-12-02 12:30:57,724]\u001b[0m Trial 34 finished with value: 0.5065360581903837 and parameters: {'n_layers': 9, 'n_units_0': 28, 'n_units_1': 83, 'n_units_2': 15, 'n_units_3': 70, 'n_units_4': 75, 'n_units_5': 34, 'n_units_6': 87, 'n_units_7': 93, 'n_units_8': 95, 'activation': 'logistic', 'learning_rate': 'constant', 'batch_size': 256, 'threshold': 0.045757479708385285}. Best is trial 27 with value: 0.7446357103130896.\u001b[0m\n",
            "\u001b[32m[I 2021-12-02 12:31:05,983]\u001b[0m Trial 35 finished with value: 0.4988347746431259 and parameters: {'n_layers': 9, 'n_units_0': 17, 'n_units_1': 92, 'n_units_2': 6, 'n_units_3': 80, 'n_units_4': 71, 'n_units_5': 61, 'n_units_6': 76, 'n_units_7': 10, 'n_units_8': 88, 'activation': 'tanh', 'learning_rate': 'invscaling', 'batch_size': 256, 'threshold': 0.04196619374319503}. Best is trial 27 with value: 0.7446357103130896.\u001b[0m\n",
            "\u001b[32m[I 2021-12-02 12:31:46,565]\u001b[0m Trial 36 finished with value: 0.7469724315423287 and parameters: {'n_layers': 10, 'n_units_0': 36, 'n_units_1': 16, 'n_units_2': 72, 'n_units_3': 62, 'n_units_4': 57, 'n_units_5': 56, 'n_units_6': 62, 'n_units_7': 28, 'n_units_8': 70, 'n_units_9': 30, 'activation': 'tanh', 'learning_rate': 'constant', 'batch_size': 256, 'threshold': 0.05714210864430909}. Best is trial 36 with value: 0.7469724315423287.\u001b[0m\n",
            "\u001b[32m[I 2021-12-02 12:31:57,553]\u001b[0m Trial 37 finished with value: 0.5011652253568741 and parameters: {'n_layers': 10, 'n_units_0': 27, 'n_units_1': 14, 'n_units_2': 72, 'n_units_3': 87, 'n_units_4': 58, 'n_units_5': 40, 'n_units_6': 67, 'n_units_7': 33, 'n_units_8': 70, 'n_units_9': 29, 'activation': 'logistic', 'learning_rate': 'invscaling', 'batch_size': 128, 'threshold': 0.056540049341287826}. Best is trial 36 with value: 0.7469724315423287.\u001b[0m\n",
            "\u001b[32m[I 2021-12-02 12:32:03,506]\u001b[0m Trial 38 finished with value: 0.5065327866170841 and parameters: {'n_layers': 10, 'n_units_0': 35, 'n_units_1': 23, 'n_units_2': 82, 'n_units_3': 62, 'n_units_4': 47, 'n_units_5': 53, 'n_units_6': 78, 'n_units_7': 22, 'n_units_8': 88, 'n_units_9': 18, 'activation': 'relu', 'learning_rate': 'constant', 'batch_size': 512, 'threshold': 0.02799901753440777}. Best is trial 36 with value: 0.7469724315423287.\u001b[0m\n",
            "\u001b[32m[I 2021-12-02 12:32:26,717]\u001b[0m Trial 39 finished with value: 0.7145236044013565 and parameters: {'n_layers': 6, 'n_units_0': 13, 'n_units_1': 36, 'n_units_2': 46, 'n_units_3': 71, 'n_units_4': 66, 'n_units_5': 57, 'activation': 'tanh', 'learning_rate': 'constant', 'batch_size': 256, 'threshold': 0.022921591085414285}. Best is trial 36 with value: 0.7469724315423287.\u001b[0m\n"
          ]
        }
      ]
    },
    {
      "cell_type": "markdown",
      "metadata": {
        "id": "1fdyh7KjLTCM"
      },
      "source": [
        "Στη συνέχεια, περιορίζουμε τις επιλογές για τις διαθέσιμες τιμές υπερπαραμέτρων ως εξής, για την activation function 'relu' ή 'tanh', για το learning_rate 'constant' ή 'adaptive' και threshold χαμηλότερο του 0.06 και ξεκινάμε μια αναζήτηση πλέγματος για την όσο το δυνατόν καλύτερη εκτίμηση των τιμών αυτών εφαρμόζοντας 5-fold cross validation χρησιμοποιώντας ως μετρική το accuracy score ενώ αφήνουμε τη διαδικασία να εξελιχθεί αρκετά θέτοντας 100 trials, ενώ παράλληλα προσθέτουμε πριν την εφαρμογή του νευρωνικού και έναν μετασχηματιστή PCA.  "
      ]
    },
    {
      "cell_type": "code",
      "metadata": {
        "colab": {
          "base_uri": "https://localhost:8080/"
        },
        "id": "AVJhmJHSILdd",
        "outputId": "703f4c1a-348e-423a-e808-4e89eb68621e"
      },
      "source": [
        "# MinMax Scaler - Variance Threshold - PCA - MLP\n",
        "# optimize accuracy score\n",
        "\n",
        "def objective(trial):\n",
        "\n",
        "    n_layers = trial.suggest_int('n_layers', 1, 10)\n",
        "    layers = []\n",
        "    for i in range(n_layers):\n",
        "        layers.append(trial.suggest_int(f'n_units_{i}', 1, 100))\n",
        "\n",
        "    activation = trial.suggest_categorical('activation', ['relu', 'tanh'])\n",
        "    learning_rate = trial.suggest_categorical('learning_rate', ['constant', 'adaptive'])\n",
        "    batch_size = trial.suggest_categorical('batch_size', [128, 256, 512])\n",
        "\n",
        "    mlp = MLPClassifier(hidden_layer_sizes = tuple(layers), activation = activation,  solver = 'sgd', learning_rate = learning_rate, batch_size = batch_size, max_iter = 10000, early_stopping = True)\n",
        "    threshold = trial.suggest_float('threshold', 0.0, 0.06)\n",
        "\n",
        "    p = Pipeline(steps = [('minmax_scaler', preprocessing.MinMaxScaler()), ('selector',  VarianceThreshold(threshold = threshold))])\n",
        "    upper_bound = p.fit_transform(X_train_small).shape[1]\n",
        "    n_components = trial.suggest_int('n_components', 1, upper_bound)\n",
        "\n",
        "    clf = Pipeline(steps = [('minmax_scaler', preprocessing.MinMaxScaler()), ('selector', VarianceThreshold(threshold)), ('pca', PCA(n_components = n_components)), ('mlp', mlp)])\n",
        "\n",
        "    return np.mean(cross_val_score(clf, X_train_small, y_train_small, cv = 5, scoring = 'accuracy'))\n",
        "\n",
        "study = optuna.create_study(direction = 'maximize')\n",
        "study.optimize(objective, n_trials = 100)"
      ],
      "execution_count": null,
      "outputs": [
        {
          "name": "stderr",
          "output_type": "stream",
          "text": [
            "\u001b[32m[I 2021-12-02 12:56:34,228]\u001b[0m A new study created in memory with name: no-name-3d432846-d67c-466b-a700-22f6db047594\u001b[0m\n",
            "\u001b[32m[I 2021-12-02 12:56:43,955]\u001b[0m Trial 0 finished with value: 0.725724380854753 and parameters: {'n_layers': 2, 'n_units_0': 34, 'n_units_1': 80, 'activation': 'tanh', 'learning_rate': 'constant', 'batch_size': 128, 'threshold': 0.039226607537309076, 'n_components': 17}. Best is trial 0 with value: 0.725724380854753.\u001b[0m\n",
            "\u001b[32m[I 2021-12-02 12:57:05,599]\u001b[0m Trial 1 finished with value: 0.7142847795504859 and parameters: {'n_layers': 3, 'n_units_0': 67, 'n_units_1': 49, 'n_units_2': 38, 'activation': 'relu', 'learning_rate': 'adaptive', 'batch_size': 256, 'threshold': 0.04364222293706633, 'n_components': 13}. Best is trial 0 with value: 0.725724380854753.\u001b[0m\n",
            "\u001b[32m[I 2021-12-02 12:57:23,710]\u001b[0m Trial 2 finished with value: 0.6024776715122302 and parameters: {'n_layers': 3, 'n_units_0': 4, 'n_units_1': 85, 'n_units_2': 92, 'activation': 'relu', 'learning_rate': 'adaptive', 'batch_size': 256, 'threshold': 0.057798374410506906, 'n_components': 10}. Best is trial 0 with value: 0.725724380854753.\u001b[0m\n",
            "\u001b[32m[I 2021-12-02 12:57:53,174]\u001b[0m Trial 3 finished with value: 0.7124186196141724 and parameters: {'n_layers': 9, 'n_units_0': 15, 'n_units_1': 69, 'n_units_2': 70, 'n_units_3': 88, 'n_units_4': 53, 'n_units_5': 53, 'n_units_6': 37, 'n_units_7': 32, 'n_units_8': 71, 'activation': 'tanh', 'learning_rate': 'constant', 'batch_size': 256, 'threshold': 0.034455044916279716, 'n_components': 28}. Best is trial 0 with value: 0.725724380854753.\u001b[0m\n",
            "\u001b[32m[I 2021-12-02 12:58:08,110]\u001b[0m Trial 4 finished with value: 0.6601227930511783 and parameters: {'n_layers': 3, 'n_units_0': 2, 'n_units_1': 29, 'n_units_2': 28, 'activation': 'tanh', 'learning_rate': 'adaptive', 'batch_size': 256, 'threshold': 0.04353001833120976, 'n_components': 10}. Best is trial 0 with value: 0.725724380854753.\u001b[0m\n",
            "\u001b[32m[I 2021-12-02 12:58:20,886]\u001b[0m Trial 5 finished with value: 0.7196558850151037 and parameters: {'n_layers': 1, 'n_units_0': 69, 'activation': 'tanh', 'learning_rate': 'adaptive', 'batch_size': 256, 'threshold': 0.047004801055632914, 'n_components': 30}. Best is trial 0 with value: 0.725724380854753.\u001b[0m\n",
            "\u001b[32m[I 2021-12-02 12:58:24,576]\u001b[0m Trial 6 finished with value: 0.4976632787707609 and parameters: {'n_layers': 8, 'n_units_0': 78, 'n_units_1': 48, 'n_units_2': 14, 'n_units_3': 88, 'n_units_4': 15, 'n_units_5': 19, 'n_units_6': 46, 'n_units_7': 3, 'activation': 'relu', 'learning_rate': 'constant', 'batch_size': 512, 'threshold': 0.030060866959644147, 'n_components': 5}. Best is trial 0 with value: 0.725724380854753.\u001b[0m\n",
            "\u001b[32m[I 2021-12-02 12:58:44,285]\u001b[0m Trial 7 finished with value: 0.5212390538610018 and parameters: {'n_layers': 9, 'n_units_0': 61, 'n_units_1': 28, 'n_units_2': 85, 'n_units_3': 99, 'n_units_4': 74, 'n_units_5': 40, 'n_units_6': 98, 'n_units_7': 87, 'n_units_8': 52, 'activation': 'tanh', 'learning_rate': 'constant', 'batch_size': 256, 'threshold': 0.05134428936177312, 'n_components': 1}. Best is trial 0 with value: 0.725724380854753.\u001b[0m\n",
            "\u001b[32m[I 2021-12-02 12:58:55,398]\u001b[0m Trial 8 finished with value: 0.7030780052127068 and parameters: {'n_layers': 2, 'n_units_0': 62, 'n_units_1': 78, 'activation': 'tanh', 'learning_rate': 'constant', 'batch_size': 512, 'threshold': 0.0550203926830161, 'n_components': 7}. Best is trial 0 with value: 0.725724380854753.\u001b[0m\n",
            "\u001b[32m[I 2021-12-02 12:59:24,677]\u001b[0m Trial 9 finished with value: 0.7327233666670301 and parameters: {'n_layers': 3, 'n_units_0': 94, 'n_units_1': 32, 'n_units_2': 64, 'activation': 'tanh', 'learning_rate': 'adaptive', 'batch_size': 256, 'threshold': 0.03504017682759971, 'n_components': 18}. Best is trial 9 with value: 0.7327233666670301.\u001b[0m\n",
            "\u001b[32m[I 2021-12-02 12:59:52,420]\u001b[0m Trial 10 finished with value: 0.5130718437496592 and parameters: {'n_layers': 6, 'n_units_0': 96, 'n_units_1': 1, 'n_units_2': 58, 'n_units_3': 2, 'n_units_4': 96, 'n_units_5': 98, 'activation': 'relu', 'learning_rate': 'adaptive', 'batch_size': 128, 'threshold': 0.008501508689734746, 'n_components': 54}. Best is trial 9 with value: 0.7327233666670301.\u001b[0m\n",
            "\u001b[32m[I 2021-12-02 13:00:08,022]\u001b[0m Trial 11 finished with value: 0.7210460310363253 and parameters: {'n_layers': 5, 'n_units_0': 34, 'n_units_1': 97, 'n_units_2': 63, 'n_units_3': 26, 'n_units_4': 4, 'activation': 'tanh', 'learning_rate': 'constant', 'batch_size': 128, 'threshold': 0.016780302842884773, 'n_components': 21}. Best is trial 9 with value: 0.7327233666670301.\u001b[0m\n",
            "\u001b[32m[I 2021-12-02 13:00:25,219]\u001b[0m Trial 12 finished with value: 0.728290930108289 and parameters: {'n_layers': 5, 'n_units_0': 37, 'n_units_1': 21, 'n_units_2': 43, 'n_units_3': 57, 'n_units_4': 34, 'activation': 'tanh', 'learning_rate': 'constant', 'batch_size': 128, 'threshold': 0.02089320254734092, 'n_components': 19}. Best is trial 9 with value: 0.7327233666670301.\u001b[0m\n",
            "\u001b[32m[I 2021-12-02 13:01:31,240]\u001b[0m Trial 13 finished with value: 0.733422938090928 and parameters: {'n_layers': 6, 'n_units_0': 100, 'n_units_1': 19, 'n_units_2': 42, 'n_units_3': 54, 'n_units_4': 32, 'n_units_5': 99, 'activation': 'tanh', 'learning_rate': 'adaptive', 'batch_size': 128, 'threshold': 0.01623319663135445, 'n_components': 34}. Best is trial 13 with value: 0.733422938090928.\u001b[0m\n",
            "\u001b[32m[I 2021-12-02 13:02:35,368]\u001b[0m Trial 14 finished with value: 0.7282922932638305 and parameters: {'n_layers': 7, 'n_units_0': 97, 'n_units_1': 10, 'n_units_2': 74, 'n_units_3': 53, 'n_units_4': 40, 'n_units_5': 94, 'n_units_6': 6, 'activation': 'tanh', 'learning_rate': 'adaptive', 'batch_size': 128, 'threshold': 0.002906639461291558, 'n_components': 45}. Best is trial 13 with value: 0.733422938090928.\u001b[0m\n",
            "\u001b[32m[I 2021-12-02 13:03:01,507]\u001b[0m Trial 15 finished with value: 0.6718115791884317 and parameters: {'n_layers': 4, 'n_units_0': 85, 'n_units_1': 38, 'n_units_2': 5, 'n_units_3': 32, 'activation': 'tanh', 'learning_rate': 'adaptive', 'batch_size': 512, 'threshold': 0.021644355292490675, 'n_components': 26}. Best is trial 13 with value: 0.733422938090928.\u001b[0m\n",
            "\u001b[32m[I 2021-12-02 13:04:05,883]\u001b[0m Trial 16 finished with value: 0.724787347735526 and parameters: {'n_layers': 7, 'n_units_0': 86, 'n_units_1': 17, 'n_units_2': 49, 'n_units_3': 68, 'n_units_4': 60, 'n_units_5': 70, 'n_units_6': 91, 'activation': 'tanh', 'learning_rate': 'adaptive', 'batch_size': 128, 'threshold': 0.015770929071981528, 'n_components': 34}. Best is trial 13 with value: 0.733422938090928.\u001b[0m\n",
            "\u001b[32m[I 2021-12-02 13:04:46,749]\u001b[0m Trial 17 finished with value: 0.7350579068474029 and parameters: {'n_layers': 6, 'n_units_0': 98, 'n_units_1': 61, 'n_units_2': 29, 'n_units_3': 33, 'n_units_4': 24, 'n_units_5': 4, 'activation': 'tanh', 'learning_rate': 'adaptive', 'batch_size': 128, 'threshold': 0.02746632014922259, 'n_components': 23}. Best is trial 17 with value: 0.7350579068474029.\u001b[0m\n",
            "\u001b[32m[I 2021-12-02 13:05:19,250]\u001b[0m Trial 18 finished with value: 0.5130718437496592 and parameters: {'n_layers': 10, 'n_units_0': 49, 'n_units_1': 62, 'n_units_2': 27, 'n_units_3': 29, 'n_units_4': 24, 'n_units_5': 1, 'n_units_6': 8, 'n_units_7': 98, 'n_units_8': 1, 'n_units_9': 27, 'activation': 'relu', 'learning_rate': 'adaptive', 'batch_size': 128, 'threshold': 0.025169305604690148, 'n_components': 24}. Best is trial 17 with value: 0.7350579068474029.\u001b[0m\n",
            "\u001b[32m[I 2021-12-02 13:06:09,564]\u001b[0m Trial 19 finished with value: 0.723152378979051 and parameters: {'n_layers': 6, 'n_units_0': 81, 'n_units_1': 58, 'n_units_2': 28, 'n_units_3': 41, 'n_units_4': 25, 'n_units_5': 73, 'activation': 'tanh', 'learning_rate': 'adaptive', 'batch_size': 128, 'threshold': 0.010030564322471939, 'n_components': 37}. Best is trial 17 with value: 0.7350579068474029.\u001b[0m\n",
            "\u001b[32m[I 2021-12-02 13:06:55,885]\u001b[0m Trial 20 finished with value: 0.7261897621566211 and parameters: {'n_layers': 7, 'n_units_0': 100, 'n_units_1': 40, 'n_units_2': 16, 'n_units_3': 3, 'n_units_4': 6, 'n_units_5': 24, 'n_units_6': 67, 'activation': 'tanh', 'learning_rate': 'adaptive', 'batch_size': 128, 'threshold': 0.027713867693156716, 'n_components': 22}. Best is trial 17 with value: 0.7350579068474029.\u001b[0m\n",
            "\u001b[32m[I 2021-12-02 13:07:34,678]\u001b[0m Trial 21 finished with value: 0.7266540529340559 and parameters: {'n_layers': 4, 'n_units_0': 90, 'n_units_1': 37, 'n_units_2': 38, 'n_units_3': 64, 'activation': 'tanh', 'learning_rate': 'adaptive', 'batch_size': 128, 'threshold': 0.03357999342280692, 'n_components': 15}. Best is trial 17 with value: 0.7350579068474029.\u001b[0m\n",
            "\u001b[32m[I 2021-12-02 13:08:07,213]\u001b[0m Trial 22 finished with value: 0.7280578305106926 and parameters: {'n_layers': 5, 'n_units_0': 78, 'n_units_1': 15, 'n_units_2': 55, 'n_units_3': 17, 'n_units_4': 43, 'activation': 'tanh', 'learning_rate': 'adaptive', 'batch_size': 256, 'threshold': 0.0372897437506065, 'n_components': 20}. Best is trial 17 with value: 0.7350579068474029.\u001b[0m\n",
            "\u001b[32m[I 2021-12-02 13:08:55,263]\u001b[0m Trial 23 finished with value: 0.7086751218661055 and parameters: {'n_layers': 6, 'n_units_0': 91, 'n_units_1': 28, 'n_units_2': 47, 'n_units_3': 43, 'n_units_4': 65, 'n_units_5': 3, 'activation': 'tanh', 'learning_rate': 'adaptive', 'batch_size': 512, 'threshold': 0.014153732912006873, 'n_components': 33}. Best is trial 17 with value: 0.7350579068474029.\u001b[0m\n",
            "\u001b[32m[I 2021-12-02 13:09:35,105]\u001b[0m Trial 24 finished with value: 0.7201207210547553 and parameters: {'n_layers': 4, 'n_units_0': 100, 'n_units_1': 5, 'n_units_2': 73, 'n_units_3': 77, 'activation': 'tanh', 'learning_rate': 'adaptive', 'batch_size': 128, 'threshold': 0.023755493626108737, 'n_components': 24}. Best is trial 17 with value: 0.7350579068474029.\u001b[0m\n",
            "\u001b[32m[I 2021-12-02 13:10:40,019]\u001b[0m Trial 25 finished with value: 0.7296900729560847 and parameters: {'n_layers': 8, 'n_units_0': 72, 'n_units_1': 57, 'n_units_2': 33, 'n_units_3': 42, 'n_units_4': 26, 'n_units_5': 76, 'n_units_6': 69, 'n_units_7': 56, 'activation': 'tanh', 'learning_rate': 'adaptive', 'batch_size': 256, 'threshold': 0.029456276419815304, 'n_components': 15}. Best is trial 17 with value: 0.7350579068474029.\u001b[0m\n",
            "\u001b[32m[I 2021-12-02 13:10:54,520]\u001b[0m Trial 26 finished with value: 0.7156852855538228 and parameters: {'n_layers': 1, 'n_units_0': 92, 'activation': 'relu', 'learning_rate': 'adaptive', 'batch_size': 128, 'threshold': 0.01927925493141172, 'n_components': 36}. Best is trial 17 with value: 0.7350579068474029.\u001b[0m\n",
            "\u001b[32m[I 2021-12-02 13:11:33,207]\u001b[0m Trial 27 finished with value: 0.7224528075551533 and parameters: {'n_layers': 6, 'n_units_0': 47, 'n_units_1': 45, 'n_units_2': 19, 'n_units_3': 17, 'n_units_4': 14, 'n_units_5': 50, 'activation': 'tanh', 'learning_rate': 'adaptive', 'batch_size': 128, 'threshold': 0.009906389259816191, 'n_components': 40}. Best is trial 17 with value: 0.7350579068474029.\u001b[0m\n",
            "\u001b[32m[I 2021-12-02 13:12:16,531]\u001b[0m Trial 28 finished with value: 0.7194165149020163 and parameters: {'n_layers': 4, 'n_units_0': 85, 'n_units_1': 70, 'n_units_2': 67, 'n_units_3': 64, 'activation': 'tanh', 'learning_rate': 'adaptive', 'batch_size': 256, 'threshold': 0.0008925874844647949, 'n_components': 73}. Best is trial 17 with value: 0.7350579068474029.\u001b[0m\n",
            "\u001b[32m[I 2021-12-02 13:12:29,763]\u001b[0m Trial 29 finished with value: 0.7107847413821307 and parameters: {'n_layers': 2, 'n_units_0': 24, 'n_units_1': 32, 'activation': 'tanh', 'learning_rate': 'adaptive', 'batch_size': 512, 'threshold': 0.03949281198859552, 'n_components': 18}. Best is trial 17 with value: 0.7350579068474029.\u001b[0m\n",
            "\u001b[32m[I 2021-12-02 13:13:09,511]\u001b[0m Trial 30 finished with value: 0.5464440724544434 and parameters: {'n_layers': 8, 'n_units_0': 56, 'n_units_1': 21, 'n_units_2': 1, 'n_units_3': 47, 'n_units_4': 79, 'n_units_5': 27, 'n_units_6': 26, 'n_units_7': 1, 'activation': 'tanh', 'learning_rate': 'adaptive', 'batch_size': 128, 'threshold': 0.03373591280420162, 'n_components': 13}. Best is trial 17 with value: 0.7350579068474029.\u001b[0m\n",
            "\u001b[32m[I 2021-12-02 13:14:16,752]\u001b[0m Trial 31 finished with value: 0.7301535458401945 and parameters: {'n_layers': 8, 'n_units_0': 74, 'n_units_1': 57, 'n_units_2': 36, 'n_units_3': 35, 'n_units_4': 31, 'n_units_5': 78, 'n_units_6': 70, 'n_units_7': 60, 'activation': 'tanh', 'learning_rate': 'adaptive', 'batch_size': 256, 'threshold': 0.029610921862758446, 'n_components': 15}. Best is trial 17 with value: 0.7350579068474029.\u001b[0m\n",
            "\u001b[32m[I 2021-12-02 13:15:16,167]\u001b[0m Trial 32 finished with value: 0.7236223950097602 and parameters: {'n_layers': 7, 'n_units_0': 76, 'n_units_1': 55, 'n_units_2': 41, 'n_units_3': 36, 'n_units_4': 34, 'n_units_5': 85, 'n_units_6': 70, 'activation': 'tanh', 'learning_rate': 'adaptive', 'batch_size': 256, 'threshold': 0.03975484017288487, 'n_components': 16}. Best is trial 17 with value: 0.7350579068474029.\u001b[0m\n",
            "\u001b[32m[I 2021-12-02 13:16:53,213]\u001b[0m Trial 33 finished with value: 0.7236169423875942 and parameters: {'n_layers': 10, 'n_units_0': 93, 'n_units_1': 64, 'n_units_2': 56, 'n_units_3': 20, 'n_units_4': 46, 'n_units_5': 86, 'n_units_6': 77, 'n_units_7': 63, 'n_units_8': 100, 'n_units_9': 97, 'activation': 'tanh', 'learning_rate': 'adaptive', 'batch_size': 256, 'threshold': 0.027341978405278834, 'n_components': 13}. Best is trial 17 with value: 0.7350579068474029.\u001b[0m\n",
            "\u001b[32m[I 2021-12-02 13:17:16,919]\u001b[0m Trial 34 finished with value: 0.5865840957916661 and parameters: {'n_layers': 5, 'n_units_0': 88, 'n_units_1': 52, 'n_units_2': 24, 'n_units_3': 55, 'n_units_4': 16, 'activation': 'relu', 'learning_rate': 'adaptive', 'batch_size': 256, 'threshold': 0.03107361752180357, 'n_components': 17}. Best is trial 17 with value: 0.7350579068474029.\u001b[0m\n",
            "\u001b[32m[I 2021-12-02 13:18:15,684]\u001b[0m Trial 35 finished with value: 0.714283961657161 and parameters: {'n_layers': 9, 'n_units_0': 73, 'n_units_1': 67, 'n_units_2': 36, 'n_units_3': 24, 'n_units_4': 33, 'n_units_5': 60, 'n_units_6': 55, 'n_units_7': 35, 'n_units_8': 6, 'activation': 'tanh', 'learning_rate': 'adaptive', 'batch_size': 256, 'threshold': 0.025395284865860533, 'n_components': 10}. Best is trial 17 with value: 0.7350579068474029.\u001b[0m\n",
            "\u001b[32m[I 2021-12-02 13:18:42,310]\u001b[0m Trial 36 finished with value: 0.7168526919595634 and parameters: {'n_layers': 3, 'n_units_0': 83, 'n_units_1': 75, 'n_units_2': 46, 'activation': 'tanh', 'learning_rate': 'adaptive', 'batch_size': 256, 'threshold': 0.04274375295872431, 'n_components': 22}. Best is trial 17 with value: 0.7350579068474029.\u001b[0m\n",
            "\u001b[32m[I 2021-12-02 13:18:54,040]\u001b[0m Trial 37 finished with value: 0.5569559100971657 and parameters: {'n_layers': 8, 'n_units_0': 95, 'n_units_1': 44, 'n_units_2': 35, 'n_units_3': 9, 'n_units_4': 50, 'n_units_5': 89, 'n_units_6': 86, 'n_units_7': 74, 'activation': 'relu', 'learning_rate': 'constant', 'batch_size': 256, 'threshold': 0.03710325002129074, 'n_components': 12}. Best is trial 17 with value: 0.7350579068474029.\u001b[0m\n",
            "\u001b[32m[I 2021-12-02 13:19:51,783]\u001b[0m Trial 38 finished with value: 0.718480027045006 and parameters: {'n_layers': 9, 'n_units_0': 100, 'n_units_1': 82, 'n_units_2': 87, 'n_units_3': 36, 'n_units_4': 21, 'n_units_5': 38, 'n_units_6': 25, 'n_units_7': 36, 'n_units_8': 33, 'activation': 'tanh', 'learning_rate': 'adaptive', 'batch_size': 256, 'threshold': 0.04538909997135766, 'n_components': 7}. Best is trial 17 with value: 0.7350579068474029.\u001b[0m\n",
            "\u001b[32m[I 2021-12-02 13:20:22,359]\u001b[0m Trial 39 finished with value: 0.726190580049946 and parameters: {'n_layers': 3, 'n_units_0': 68, 'n_units_1': 48, 'n_units_2': 100, 'activation': 'tanh', 'learning_rate': 'adaptive', 'batch_size': 256, 'threshold': 0.05049846906387696, 'n_components': 24}. Best is trial 17 with value: 0.7350579068474029.\u001b[0m\n",
            "\u001b[32m[I 2021-12-02 13:20:48,555]\u001b[0m Trial 40 finished with value: 0.7072874295248586 and parameters: {'n_layers': 7, 'n_units_0': 63, 'n_units_1': 92, 'n_units_2': 53, 'n_units_3': 74, 'n_units_4': 32, 'n_units_5': 100, 'n_units_6': 54, 'activation': 'tanh', 'learning_rate': 'constant', 'batch_size': 512, 'threshold': 0.033262348589249764, 'n_components': 27}. Best is trial 17 with value: 0.7350579068474029.\u001b[0m\n",
            "\u001b[32m[I 2021-12-02 13:21:47,809]\u001b[0m Trial 41 finished with value: 0.722917916225913 and parameters: {'n_layers': 8, 'n_units_0': 71, 'n_units_1': 60, 'n_units_2': 32, 'n_units_3': 47, 'n_units_4': 28, 'n_units_5': 76, 'n_units_6': 64, 'n_units_7': 57, 'activation': 'tanh', 'learning_rate': 'adaptive', 'batch_size': 256, 'threshold': 0.030780200178856167, 'n_components': 15}. Best is trial 17 with value: 0.7350579068474029.\u001b[0m\n",
            "\u001b[32m[I 2021-12-02 13:22:42,456]\u001b[0m Trial 42 finished with value: 0.7173191637858646 and parameters: {'n_layers': 8, 'n_units_0': 56, 'n_units_1': 53, 'n_units_2': 22, 'n_units_3': 40, 'n_units_4': 39, 'n_units_5': 63, 'n_units_6': 80, 'n_units_7': 46, 'activation': 'tanh', 'learning_rate': 'adaptive', 'batch_size': 256, 'threshold': 0.027821246938170865, 'n_components': 11}. Best is trial 17 with value: 0.7350579068474029.\u001b[0m\n",
            "\u001b[32m[I 2021-12-02 13:23:25,319]\u001b[0m Trial 43 finished with value: 0.7238563125006816 and parameters: {'n_layers': 6, 'n_units_0': 82, 'n_units_1': 74, 'n_units_2': 11, 'n_units_3': 49, 'n_units_4': 11, 'n_units_5': 78, 'activation': 'tanh', 'learning_rate': 'adaptive', 'batch_size': 256, 'threshold': 0.03629518650866502, 'n_components': 14}. Best is trial 17 with value: 0.7350579068474029.\u001b[0m\n",
            "\u001b[32m[I 2021-12-02 13:24:40,843]\u001b[0m Trial 44 finished with value: 0.7278241856508794 and parameters: {'n_layers': 9, 'n_units_0': 75, 'n_units_1': 33, 'n_units_2': 31, 'n_units_3': 35, 'n_units_4': 22, 'n_units_5': 81, 'n_units_6': 47, 'n_units_7': 73, 'n_units_8': 94, 'activation': 'tanh', 'learning_rate': 'adaptive', 'batch_size': 256, 'threshold': 0.022812790048802833, 'n_components': 29}. Best is trial 17 with value: 0.7350579068474029.\u001b[0m\n",
            "\u001b[32m[I 2021-12-02 13:25:39,722]\u001b[0m Trial 45 finished with value: 0.7168521466973468 and parameters: {'n_layers': 7, 'n_units_0': 43, 'n_units_1': 24, 'n_units_2': 61, 'n_units_3': 61, 'n_units_4': 50, 'n_units_5': 66, 'n_units_6': 63, 'activation': 'tanh', 'learning_rate': 'adaptive', 'batch_size': 256, 'threshold': 0.018212237909343842, 'n_components': 19}. Best is trial 17 with value: 0.7350579068474029.\u001b[0m\n",
            "\u001b[32m[I 2021-12-02 13:25:52,533]\u001b[0m Trial 46 finished with value: 0.6720414072127286 and parameters: {'n_layers': 5, 'n_units_0': 10, 'n_units_1': 55, 'n_units_2': 39, 'n_units_3': 89, 'n_units_4': 27, 'activation': 'relu', 'learning_rate': 'constant', 'batch_size': 128, 'threshold': 0.0059829615791364855, 'n_components': 4}. Best is trial 17 with value: 0.7350579068474029.\u001b[0m\n",
            "\u001b[32m[I 2021-12-02 13:26:06,654]\u001b[0m Trial 47 finished with value: 0.7117187755591664 and parameters: {'n_layers': 1, 'n_units_0': 95, 'activation': 'tanh', 'learning_rate': 'adaptive', 'batch_size': 256, 'threshold': 0.012418828087210156, 'n_components': 43}. Best is trial 17 with value: 0.7350579068474029.\u001b[0m\n",
            "\u001b[32m[I 2021-12-02 13:27:07,688]\u001b[0m Trial 48 finished with value: 0.7110151146686441 and parameters: {'n_layers': 8, 'n_units_0': 65, 'n_units_1': 68, 'n_units_2': 80, 'n_units_3': 43, 'n_units_4': 17, 'n_units_5': 90, 'n_units_6': 74, 'n_units_7': 18, 'activation': 'tanh', 'learning_rate': 'adaptive', 'batch_size': 128, 'threshold': 0.02969581148925598, 'n_components': 8}. Best is trial 17 with value: 0.7350579068474029.\u001b[0m\n",
            "\u001b[32m[I 2021-12-02 13:27:28,855]\u001b[0m Trial 49 finished with value: 0.725955299403483 and parameters: {'n_layers': 9, 'n_units_0': 88, 'n_units_1': 47, 'n_units_2': 43, 'n_units_3': 31, 'n_units_4': 37, 'n_units_5': 11, 'n_units_6': 87, 'n_units_7': 49, 'n_units_8': 34, 'activation': 'tanh', 'learning_rate': 'constant', 'batch_size': 128, 'threshold': 0.04234147382947911, 'n_components': 16}. Best is trial 17 with value: 0.7350579068474029.\u001b[0m\n",
            "\u001b[32m[I 2021-12-02 13:27:44,774]\u001b[0m Trial 50 finished with value: 0.715212815843139 and parameters: {'n_layers': 2, 'n_units_0': 79, 'n_units_1': 10, 'activation': 'tanh', 'learning_rate': 'adaptive', 'batch_size': 512, 'threshold': 0.02092463698143496, 'n_components': 31}. Best is trial 17 with value: 0.7350579068474029.\u001b[0m\n",
            "\u001b[32m[I 2021-12-02 13:28:49,667]\u001b[0m Trial 51 finished with value: 0.674612863826214 and parameters: {'n_layers': 7, 'n_units_0': 97, 'n_units_1': 10, 'n_units_2': 76, 'n_units_3': 55, 'n_units_4': 40, 'n_units_5': 94, 'n_units_6': 1, 'activation': 'tanh', 'learning_rate': 'adaptive', 'batch_size': 128, 'threshold': 0.00163474067694888, 'n_components': 49}. Best is trial 17 with value: 0.7350579068474029.\u001b[0m\n",
            "\u001b[32m[I 2021-12-02 13:29:45,973]\u001b[0m Trial 52 finished with value: 0.7287560387790488 and parameters: {'n_layers': 6, 'n_units_0': 91, 'n_units_1': 11, 'n_units_2': 67, 'n_units_3': 51, 'n_units_4': 30, 'n_units_5': 94, 'activation': 'tanh', 'learning_rate': 'adaptive', 'batch_size': 128, 'threshold': 0.006088033045606441, 'n_components': 50}. Best is trial 17 with value: 0.7350579068474029.\u001b[0m\n",
            "\u001b[32m[I 2021-12-02 13:30:32,218]\u001b[0m Trial 53 finished with value: 0.7243197853847916 and parameters: {'n_layers': 6, 'n_units_0': 91, 'n_units_1': 17, 'n_units_2': 65, 'n_units_3': 51, 'n_units_4': 9, 'n_units_5': 52, 'activation': 'tanh', 'learning_rate': 'adaptive', 'batch_size': 128, 'threshold': 0.005962970777986083, 'n_components': 58}. Best is trial 17 with value: 0.7350579068474029.\u001b[0m\n",
            "\u001b[32m[I 2021-12-02 13:31:24,548]\u001b[0m Trial 54 finished with value: 0.7301562721512775 and parameters: {'n_layers': 6, 'n_units_0': 87, 'n_units_1': 2, 'n_units_2': 69, 'n_units_3': 39, 'n_units_4': 30, 'n_units_5': 81, 'activation': 'tanh', 'learning_rate': 'adaptive', 'batch_size': 128, 'threshold': 0.025561901222790433, 'n_components': 18}. Best is trial 17 with value: 0.7350579068474029.\u001b[0m\n",
            "\u001b[32m[I 2021-12-02 13:32:06,770]\u001b[0m Trial 55 finished with value: 0.7350603605273777 and parameters: {'n_layers': 5, 'n_units_0': 85, 'n_units_1': 57, 'n_units_2': 60, 'n_units_3': 26, 'n_units_4': 22, 'activation': 'tanh', 'learning_rate': 'adaptive', 'batch_size': 128, 'threshold': 0.025627900276640213, 'n_components': 18}. Best is trial 55 with value: 0.7350603605273777.\u001b[0m\n",
            "\u001b[32m[I 2021-12-02 13:32:25,747]\u001b[0m Trial 56 finished with value: 0.5116697019596723 and parameters: {'n_layers': 5, 'n_units_0': 86, 'n_units_1': 1, 'n_units_2': 51, 'n_units_3': 24, 'n_units_4': 22, 'activation': 'relu', 'learning_rate': 'adaptive', 'batch_size': 128, 'threshold': 0.02494747122347432, 'n_components': 21}. Best is trial 55 with value: 0.7350603605273777.\u001b[0m\n",
            "\u001b[32m[I 2021-12-02 13:32:58,358]\u001b[0m Trial 57 finished with value: 0.7245567018179042 and parameters: {'n_layers': 4, 'n_units_0': 97, 'n_units_1': 24, 'n_units_2': 62, 'n_units_3': 28, 'activation': 'tanh', 'learning_rate': 'adaptive', 'batch_size': 128, 'threshold': 0.018997409121911116, 'n_components': 18}. Best is trial 55 with value: 0.7350603605273777.\u001b[0m\n",
            "\u001b[32m[I 2021-12-02 13:33:43,746]\u001b[0m Trial 58 finished with value: 0.7259555720345915 and parameters: {'n_layers': 5, 'n_units_0': 80, 'n_units_1': 41, 'n_units_2': 70, 'n_units_3': 20, 'n_units_4': 58, 'activation': 'tanh', 'learning_rate': 'adaptive', 'batch_size': 128, 'threshold': 0.03192291695645555, 'n_components': 19}. Best is trial 55 with value: 0.7350603605273777.\u001b[0m\n",
            "\u001b[32m[I 2021-12-02 13:34:24,974]\u001b[0m Trial 59 finished with value: 0.6465607585687957 and parameters: {'n_layers': 6, 'n_units_0': 94, 'n_units_1': 6, 'n_units_2': 59, 'n_units_3': 12, 'n_units_4': 1, 'n_units_5': 42, 'activation': 'tanh', 'learning_rate': 'adaptive', 'batch_size': 128, 'threshold': 0.015135284916309, 'n_components': 26}. Best is trial 55 with value: 0.7350603605273777.\u001b[0m\n",
            "\u001b[32m[I 2021-12-02 13:34:37,058]\u001b[0m Trial 60 finished with value: 0.7273560780379285 and parameters: {'n_layers': 3, 'n_units_0': 88, 'n_units_1': 63, 'n_units_2': 80, 'activation': 'tanh', 'learning_rate': 'constant', 'batch_size': 128, 'threshold': 0.02675041322517298, 'n_components': 22}. Best is trial 55 with value: 0.7350603605273777.\u001b[0m\n",
            "\u001b[32m[I 2021-12-02 13:35:37,067]\u001b[0m Trial 61 finished with value: 0.7355249239359207 and parameters: {'n_layers': 7, 'n_units_0': 83, 'n_units_1': 58, 'n_units_2': 32, 'n_units_3': 40, 'n_units_4': 19, 'n_units_5': 83, 'n_units_6': 97, 'activation': 'tanh', 'learning_rate': 'adaptive', 'batch_size': 128, 'threshold': 0.029587502766962974, 'n_components': 17}. Best is trial 61 with value: 0.7355249239359207.\u001b[0m\n",
            "\u001b[32m[I 2021-12-02 13:36:37,185]\u001b[0m Trial 62 finished with value: 0.7264184996564849 and parameters: {'n_layers': 7, 'n_units_0': 84, 'n_units_1': 51, 'n_units_2': 28, 'n_units_3': 33, 'n_units_4': 18, 'n_units_5': 83, 'n_units_6': 97, 'activation': 'tanh', 'learning_rate': 'adaptive', 'batch_size': 128, 'threshold': 0.022664674766547904, 'n_components': 17}. Best is trial 61 with value: 0.7355249239359207.\u001b[0m\n",
            "\u001b[32m[I 2021-12-02 13:37:30,279]\u001b[0m Trial 63 finished with value: 0.7240858678938703 and parameters: {'n_layers': 6, 'n_units_0': 97, 'n_units_1': 59, 'n_units_2': 46, 'n_units_3': 38, 'n_units_4': 20, 'n_units_5': 99, 'activation': 'tanh', 'learning_rate': 'adaptive', 'batch_size': 128, 'threshold': 0.028169831414992557, 'n_components': 20}. Best is trial 61 with value: 0.7355249239359207.\u001b[0m\n",
            "\u001b[32m[I 2021-12-02 13:38:34,533]\u001b[0m Trial 64 finished with value: 0.7306254702886618 and parameters: {'n_layers': 7, 'n_units_0': 88, 'n_units_1': 64, 'n_units_2': 43, 'n_units_3': 27, 'n_units_4': 10, 'n_units_5': 58, 'n_units_6': 84, 'activation': 'tanh', 'learning_rate': 'adaptive', 'batch_size': 128, 'threshold': 0.03456990481781739, 'n_components': 18}. Best is trial 61 with value: 0.7355249239359207.\u001b[0m\n",
            "\u001b[32m[I 2021-12-02 13:39:42,297]\u001b[0m Trial 65 finished with value: 0.732724184560355 and parameters: {'n_layers': 7, 'n_units_0': 89, 'n_units_1': 65, 'n_units_2': 49, 'n_units_3': 45, 'n_units_4': 11, 'n_units_5': 57, 'n_units_6': 100, 'activation': 'tanh', 'learning_rate': 'adaptive', 'batch_size': 128, 'threshold': 0.03528411289599012, 'n_components': 18}. Best is trial 61 with value: 0.7355249239359207.\u001b[0m\n",
            "\u001b[32m[I 2021-12-02 13:40:44,589]\u001b[0m Trial 66 finished with value: 0.7343550638502057 and parameters: {'n_layers': 7, 'n_units_0': 90, 'n_units_1': 67, 'n_units_2': 50, 'n_units_3': 59, 'n_units_4': 7, 'n_units_5': 57, 'n_units_6': 100, 'activation': 'tanh', 'learning_rate': 'adaptive', 'batch_size': 128, 'threshold': 0.05997060189610129, 'n_components': 16}. Best is trial 61 with value: 0.7355249239359207.\u001b[0m\n",
            "\u001b[32m[I 2021-12-02 13:41:46,318]\u001b[0m Trial 67 finished with value: 0.7278192782909301 and parameters: {'n_layers': 7, 'n_units_0': 99, 'n_units_1': 71, 'n_units_2': 54, 'n_units_3': 59, 'n_units_4': 7, 'n_units_5': 34, 'n_units_6': 95, 'activation': 'tanh', 'learning_rate': 'adaptive', 'batch_size': 128, 'threshold': 0.05935365163295164, 'n_components': 20}. Best is trial 61 with value: 0.7355249239359207.\u001b[0m\n",
            "\u001b[32m[I 2021-12-02 13:42:16,535]\u001b[0m Trial 68 finished with value: 0.5179726605524597 and parameters: {'n_layers': 6, 'n_units_0': 92, 'n_units_1': 73, 'n_units_2': 48, 'n_units_3': 47, 'n_units_4': 1, 'n_units_5': 44, 'activation': 'relu', 'learning_rate': 'adaptive', 'batch_size': 128, 'threshold': 0.04852177075118838, 'n_components': 23}. Best is trial 61 with value: 0.7355249239359207.\u001b[0m\n",
            "\u001b[32m[I 2021-12-02 13:43:04,163]\u001b[0m Trial 69 finished with value: 0.7327239119292468 and parameters: {'n_layers': 4, 'n_units_0': 77, 'n_units_1': 66, 'n_units_2': 58, 'n_units_3': 69, 'activation': 'tanh', 'learning_rate': 'adaptive', 'batch_size': 128, 'threshold': 0.05483084805935175, 'n_components': 17}. Best is trial 61 with value: 0.7355249239359207.\u001b[0m\n",
            "\u001b[32m[I 2021-12-02 13:43:48,798]\u001b[0m Trial 70 finished with value: 0.7285207581325859 and parameters: {'n_layers': 4, 'n_units_0': 77, 'n_units_1': 77, 'n_units_2': 56, 'n_units_3': 80, 'activation': 'tanh', 'learning_rate': 'adaptive', 'batch_size': 128, 'threshold': 0.052049225271513164, 'n_components': 14}. Best is trial 61 with value: 0.7355249239359207.\u001b[0m\n",
            "\u001b[32m[I 2021-12-02 13:44:31,692]\u001b[0m Trial 71 finished with value: 0.7273547148823869 and parameters: {'n_layers': 4, 'n_units_0': 83, 'n_units_1': 61, 'n_units_2': 51, 'n_units_3': 73, 'activation': 'tanh', 'learning_rate': 'adaptive', 'batch_size': 128, 'threshold': 0.05649298071548887, 'n_components': 16}. Best is trial 61 with value: 0.7355249239359207.\u001b[0m\n",
            "\u001b[32m[I 2021-12-02 13:45:19,719]\u001b[0m Trial 72 finished with value: 0.7240896847293864 and parameters: {'n_layers': 5, 'n_units_0': 94, 'n_units_1': 65, 'n_units_2': 58, 'n_units_3': 65, 'n_units_4': 13, 'activation': 'tanh', 'learning_rate': 'adaptive', 'batch_size': 128, 'threshold': 0.057221937179860134, 'n_components': 17}. Best is trial 61 with value: 0.7355249239359207.\u001b[0m\n",
            "\u001b[32m[I 2021-12-02 13:46:13,251]\u001b[0m Trial 73 finished with value: 0.7329542852157602 and parameters: {'n_layers': 5, 'n_units_0': 90, 'n_units_1': 67, 'n_units_2': 64, 'n_units_3': 60, 'n_units_4': 86, 'activation': 'tanh', 'learning_rate': 'adaptive', 'batch_size': 128, 'threshold': 0.05887293515016876, 'n_components': 17}. Best is trial 61 with value: 0.7355249239359207.\u001b[0m\n",
            "\u001b[32m[I 2021-12-02 13:47:04,948]\u001b[0m Trial 74 finished with value: 0.7215152291737097 and parameters: {'n_layers': 5, 'n_units_0': 91, 'n_units_1': 81, 'n_units_2': 42, 'n_units_3': 70, 'n_units_4': 88, 'activation': 'tanh', 'learning_rate': 'adaptive', 'batch_size': 128, 'threshold': 0.053830689727215955, 'n_components': 16}. Best is trial 61 with value: 0.7355249239359207.\u001b[0m\n",
            "\u001b[32m[I 2021-12-02 13:47:59,494]\u001b[0m Trial 75 finished with value: 0.7268906967360603 and parameters: {'n_layers': 5, 'n_units_0': 81, 'n_units_1': 67, 'n_units_2': 59, 'n_units_3': 59, 'n_units_4': 94, 'activation': 'tanh', 'learning_rate': 'adaptive', 'batch_size': 128, 'threshold': 0.05308404743826975, 'n_components': 14}. Best is trial 61 with value: 0.7355249239359207.\u001b[0m\n",
            "\u001b[32m[I 2021-12-02 13:49:01,986]\u001b[0m Trial 76 finished with value: 0.7261875811077547 and parameters: {'n_layers': 6, 'n_units_0': 22, 'n_units_1': 86, 'n_units_2': 51, 'n_units_3': 44, 'n_units_4': 77, 'n_units_5': 68, 'activation': 'tanh', 'learning_rate': 'adaptive', 'batch_size': 128, 'threshold': 0.05903197435098263, 'n_components': 19}. Best is trial 61 with value: 0.7355249239359207.\u001b[0m\n",
            "\u001b[32m[I 2021-12-02 13:50:05,415]\u001b[0m Trial 77 finished with value: 0.7152188137275216 and parameters: {'n_layers': 7, 'n_units_0': 100, 'n_units_1': 71, 'n_units_2': 25, 'n_units_3': 62, 'n_units_4': 71, 'n_units_5': 49, 'n_units_6': 100, 'activation': 'tanh', 'learning_rate': 'adaptive', 'batch_size': 128, 'threshold': 0.0546045727454259, 'n_components': 12}. Best is trial 61 with value: 0.7355249239359207.\u001b[0m\n",
            "\u001b[32m[I 2021-12-02 13:50:44,929]\u001b[0m Trial 78 finished with value: 0.7259572078212412 and parameters: {'n_layers': 4, 'n_units_0': 85, 'n_units_1': 56, 'n_units_2': 39, 'n_units_3': 56, 'activation': 'tanh', 'learning_rate': 'adaptive', 'batch_size': 128, 'threshold': 0.056123452637044956, 'n_components': 17}. Best is trial 61 with value: 0.7355249239359207.\u001b[0m\n",
            "\u001b[32m[I 2021-12-02 13:51:31,365]\u001b[0m Trial 79 finished with value: 0.7287549482546156 and parameters: {'n_layers': 5, 'n_units_0': 70, 'n_units_1': 61, 'n_units_2': 45, 'n_units_3': 67, 'n_units_4': 5, 'activation': 'tanh', 'learning_rate': 'adaptive', 'batch_size': 128, 'threshold': 0.05018763448376901, 'n_components': 21}. Best is trial 61 with value: 0.7355249239359207.\u001b[0m\n",
            "\u001b[32m[I 2021-12-02 13:51:36,682]\u001b[0m Trial 80 finished with value: 0.5154082923477901 and parameters: {'n_layers': 7, 'n_units_0': 89, 'n_units_1': 67, 'n_units_2': 30, 'n_units_3': 70, 'n_units_4': 14, 'n_units_5': 17, 'n_units_6': 89, 'activation': 'relu', 'learning_rate': 'constant', 'batch_size': 512, 'threshold': 0.0579626000517066, 'n_components': 19}. Best is trial 61 with value: 0.7355249239359207.\u001b[0m\n",
            "\u001b[32m[I 2021-12-02 13:52:14,577]\u001b[0m Trial 81 finished with value: 0.7315578686790477 and parameters: {'n_layers': 3, 'n_units_0': 97, 'n_units_1': 58, 'n_units_2': 64, 'activation': 'tanh', 'learning_rate': 'adaptive', 'batch_size': 128, 'threshold': 0.059935104766212985, 'n_components': 16}. Best is trial 61 with value: 0.7355249239359207.\u001b[0m\n",
            "\u001b[32m[I 2021-12-02 13:52:55,933]\u001b[0m Trial 82 finished with value: 0.7224549886040197 and parameters: {'n_layers': 4, 'n_units_0': 93, 'n_units_1': 54, 'n_units_2': 66, 'n_units_3': 54, 'activation': 'tanh', 'learning_rate': 'adaptive', 'batch_size': 128, 'threshold': 0.03533920415374349, 'n_components': 15}. Best is trial 61 with value: 0.7355249239359207.\u001b[0m\n",
            "\u001b[32m[I 2021-12-02 13:53:32,368]\u001b[0m Trial 83 finished with value: 0.7292219653431335 and parameters: {'n_layers': 3, 'n_units_0': 95, 'n_units_1': 64, 'n_units_2': 73, 'activation': 'tanh', 'learning_rate': 'adaptive', 'batch_size': 128, 'threshold': 0.03233488036578375, 'n_components': 18}. Best is trial 61 with value: 0.7355249239359207.\u001b[0m\n",
            "\u001b[32m[I 2021-12-02 13:54:23,241]\u001b[0m Trial 84 finished with value: 0.7301565447823859 and parameters: {'n_layers': 6, 'n_units_0': 90, 'n_units_1': 50, 'n_units_2': 62, 'n_units_3': 58, 'n_units_4': 24, 'n_units_5': 30, 'activation': 'tanh', 'learning_rate': 'adaptive', 'batch_size': 128, 'threshold': 0.04105611152129092, 'n_components': 20}. Best is trial 61 with value: 0.7355249239359207.\u001b[0m\n",
            "\u001b[32m[I 2021-12-02 13:55:30,624]\u001b[0m Trial 85 finished with value: 0.7280572852484759 and parameters: {'n_layers': 6, 'n_units_0': 79, 'n_units_1': 69, 'n_units_2': 54, 'n_units_3': 44, 'n_units_4': 99, 'n_units_5': 56, 'activation': 'tanh', 'learning_rate': 'adaptive', 'batch_size': 128, 'threshold': 0.03845180010226826, 'n_components': 17}. Best is trial 61 with value: 0.7355249239359207.\u001b[0m\n",
            "\u001b[32m[I 2021-12-02 13:56:09,714]\u001b[0m Trial 86 finished with value: 0.7189519514934732 and parameters: {'n_layers': 4, 'n_units_0': 84, 'n_units_1': 31, 'n_units_2': 49, 'n_units_3': 82, 'activation': 'tanh', 'learning_rate': 'adaptive', 'batch_size': 128, 'threshold': 0.046757193860014146, 'n_components': 13}. Best is trial 61 with value: 0.7355249239359207.\u001b[0m\n",
            "\u001b[32m[I 2021-12-02 13:56:46,833]\u001b[0m Trial 87 finished with value: 0.7135873891754546 and parameters: {'n_layers': 5, 'n_units_0': 99, 'n_units_1': 66, 'n_units_2': 34, 'n_units_3': 52, 'n_units_4': 18, 'activation': 'tanh', 'learning_rate': 'adaptive', 'batch_size': 512, 'threshold': 0.023832587652572904, 'n_components': 31}. Best is trial 61 with value: 0.7355249239359207.\u001b[0m\n",
            "\u001b[32m[I 2021-12-02 13:57:38,709]\u001b[0m Trial 88 finished with value: 0.6937357550245913 and parameters: {'n_layers': 7, 'n_units_0': 93, 'n_units_1': 77, 'n_units_2': 56, 'n_units_3': 47, 'n_units_4': 13, 'n_units_5': 72, 'n_units_6': 37, 'activation': 'tanh', 'learning_rate': 'adaptive', 'batch_size': 128, 'threshold': 0.05522370995950778, 'n_components': 2}. Best is trial 61 with value: 0.7355249239359207.\u001b[0m\n",
            "\u001b[32m[I 2021-12-02 13:58:04,454]\u001b[0m Trial 89 finished with value: 0.723152378979051 and parameters: {'n_layers': 2, 'n_units_0': 86, 'n_units_1': 61, 'activation': 'tanh', 'learning_rate': 'adaptive', 'batch_size': 128, 'threshold': 0.012474431986505094, 'n_components': 23}. Best is trial 61 with value: 0.7355249239359207.\u001b[0m\n",
            "\u001b[32m[I 2021-12-02 13:59:03,350]\u001b[0m Trial 90 finished with value: 0.7268882430560856 and parameters: {'n_layers': 8, 'n_units_0': 82, 'n_units_1': 73, 'n_units_2': 20, 'n_units_3': 62, 'n_units_4': 6, 'n_units_5': 9, 'n_units_6': 93, 'n_units_7': 18, 'activation': 'tanh', 'learning_rate': 'adaptive', 'batch_size': 128, 'threshold': 0.02878924375347322, 'n_components': 14}. Best is trial 61 with value: 0.7355249239359207.\u001b[0m\n",
            "\u001b[32m[I 2021-12-02 13:59:39,078]\u001b[0m Trial 91 finished with value: 0.7327239119292467 and parameters: {'n_layers': 3, 'n_units_0': 96, 'n_units_1': 58, 'n_units_2': 60, 'activation': 'tanh', 'learning_rate': 'adaptive', 'batch_size': 128, 'threshold': 0.05855374060860524, 'n_components': 16}. Best is trial 61 with value: 0.7355249239359207.\u001b[0m\n",
            "\u001b[32m[I 2021-12-02 14:00:15,422]\u001b[0m Trial 92 finished with value: 0.7222199805886651 and parameters: {'n_layers': 3, 'n_units_0': 96, 'n_units_1': 58, 'n_units_2': 61, 'activation': 'tanh', 'learning_rate': 'adaptive', 'batch_size': 128, 'threshold': 0.05835520191219639, 'n_components': 16}. Best is trial 61 with value: 0.7355249239359207.\u001b[0m\n",
            "\u001b[32m[I 2021-12-02 14:00:46,957]\u001b[0m Trial 93 finished with value: 0.7257219271747782 and parameters: {'n_layers': 3, 'n_units_0': 98, 'n_units_1': 52, 'n_units_2': 59, 'activation': 'tanh', 'learning_rate': 'adaptive', 'batch_size': 128, 'threshold': 0.055908240572965735, 'n_components': 18}. Best is trial 61 with value: 0.7355249239359207.\u001b[0m\n",
            "\u001b[32m[I 2021-12-02 14:01:19,404]\u001b[0m Trial 94 finished with value: 0.7247827130066848 and parameters: {'n_layers': 3, 'n_units_0': 89, 'n_units_1': 62, 'n_units_2': 52, 'activation': 'tanh', 'learning_rate': 'adaptive', 'batch_size': 128, 'threshold': 0.057892201389719976, 'n_components': 15}. Best is trial 61 with value: 0.7355249239359207.\u001b[0m\n",
            "\u001b[32m[I 2021-12-02 14:01:41,577]\u001b[0m Trial 95 finished with value: 0.7222232521619647 and parameters: {'n_layers': 2, 'n_units_0': 94, 'n_units_1': 36, 'activation': 'tanh', 'learning_rate': 'adaptive', 'batch_size': 128, 'threshold': 0.03087318988946005, 'n_components': 17}. Best is trial 61 with value: 0.7355249239359207.\u001b[0m\n",
            "\u001b[32m[I 2021-12-02 14:01:59,947]\u001b[0m Trial 96 finished with value: 0.7161528479045572 and parameters: {'n_layers': 7, 'n_units_0': 91, 'n_units_1': 44, 'n_units_2': 71, 'n_units_3': 33, 'n_units_4': 25, 'n_units_5': 64, 'n_units_6': 100, 'activation': 'tanh', 'learning_rate': 'constant', 'batch_size': 128, 'threshold': 0.017543731911741543, 'n_components': 12}. Best is trial 61 with value: 0.7355249239359207.\u001b[0m\n",
            "\u001b[32m[I 2021-12-02 14:02:39,246]\u001b[0m Trial 97 finished with value: 0.6143553910075356 and parameters: {'n_layers': 6, 'n_units_0': 100, 'n_units_1': 70, 'n_units_2': 38, 'n_units_3': 24, 'n_units_4': 45, 'n_units_5': 45, 'activation': 'relu', 'learning_rate': 'adaptive', 'batch_size': 128, 'threshold': 0.03808998337086658, 'n_components': 15}. Best is trial 61 with value: 0.7355249239359207.\u001b[0m\n",
            "\u001b[32m[I 2021-12-02 14:03:15,276]\u001b[0m Trial 98 finished with value: 0.7271235237025485 and parameters: {'n_layers': 4, 'n_units_0': 56, 'n_units_1': 55, 'n_units_2': 68, 'n_units_3': 31, 'activation': 'tanh', 'learning_rate': 'adaptive', 'batch_size': 128, 'threshold': 0.036096943982843806, 'n_components': 19}. Best is trial 61 with value: 0.7355249239359207.\u001b[0m\n",
            "\u001b[32m[I 2021-12-02 14:03:58,809]\u001b[0m Trial 99 finished with value: 0.730388553855549 and parameters: {'n_layers': 5, 'n_units_0': 75, 'n_units_1': 14, 'n_units_2': 63, 'n_units_3': 49, 'n_units_4': 35, 'activation': 'tanh', 'learning_rate': 'adaptive', 'batch_size': 128, 'threshold': 0.026379757511258164, 'n_components': 28}. Best is trial 61 with value: 0.7355249239359207.\u001b[0m\n"
          ]
        }
      ]
    },
    {
      "cell_type": "markdown",
      "metadata": {
        "id": "VJOsLlqsdZnW"
      },
      "source": [
        "Από τις παραπάνω δοκιμές παρατηρούμε ότι ο 'sgd' solver συνδυάζεται καλύτερα με την 'tanh' ως activation function επιτυγχάνοντας accuracy scores κατά τη διαδικασία του 5-fold cross validation τις περισσότερες φορές μεγαλύτερα του 0.72. Παράλληλα, τις περισσότερες φορές (με μικρές βέβαια διαφορές στα scores) λειτουργεί καλύτερα η χρήση 'adaptive' learning_rate συγκριτικά με την επιλογή 'constant'. Όσον αφορά τις κύριες συνιστώσες της PCA, τα καλύτερα αποτελέσματα αντιστοιχούν σε τιμές μεταξύ 13 και 40, ενώ το batch_size φαίνεται να μην έχει τόσο μεγάλη επίδραση, με το 128 βέβαια να υπερτερεί λίγο, γεγονός όμως το οποίο μπορεί να οφείλεται και στο μειωμένο μέγεθος του train dataset. \n",
        "\n",
        "Παρακάτω, εκτελούμε και πάλι την ίδια διαδικασία, μόνο που αυτή τη φορά βελτστοποιούμε το μοντέλο με σκοπό τη μεγιστοποίηση του f1 score. "
      ]
    },
    {
      "cell_type": "code",
      "metadata": {
        "colab": {
          "base_uri": "https://localhost:8080/"
        },
        "id": "0RtgaHWEJq2b",
        "outputId": "3aa5ba95-b973-46da-c6dd-264f77a9d4cb"
      },
      "source": [
        "# MinMax Scaler - Variance Threshold - PCA - MLP\n",
        "# optimize f1 score\n",
        "\n",
        "def objective(trial):\n",
        "\n",
        "    n_layers = trial.suggest_int('n_layers', 1, 10)\n",
        "    layers = []\n",
        "    for i in range(n_layers):\n",
        "        layers.append(trial.suggest_int(f'n_units_{i}', 1, 100))\n",
        "\n",
        "    activation = trial.suggest_categorical('activation', ['relu', 'tanh'])\n",
        "    learning_rate = trial.suggest_categorical('learning_rate', ['constant', 'adaptive'])\n",
        "    batch_size = trial.suggest_categorical('batch_size', [128, 256, 512])\n",
        "\n",
        "    mlp = MLPClassifier(hidden_layer_sizes = tuple(layers), activation = activation,  solver = 'sgd', learning_rate = learning_rate, batch_size = batch_size, max_iter = 10000, early_stopping = True)\n",
        "    threshold = trial.suggest_float('threshold', 0.0, 0.06)\n",
        "\n",
        "    p = Pipeline(steps = [('minmax_scaler', preprocessing.MinMaxScaler()), ('selector',  VarianceThreshold(threshold = threshold))])\n",
        "    upper_bound = p.fit_transform(X_train_small).shape[1]\n",
        "    n_components = trial.suggest_int('n_components', 1, upper_bound)\n",
        "\n",
        "    clf = Pipeline(steps = [('minmax_scaler', preprocessing.MinMaxScaler()), ('selector', VarianceThreshold(threshold)), ('pca', PCA(n_components = n_components)), ('mlp', mlp)])\n",
        "\n",
        "    return np.mean(cross_val_score(clf, X_train_small, y_train_small, cv = 5, scoring = 'f1'))\n",
        "\n",
        "study = optuna.create_study(direction = 'maximize')\n",
        "study.optimize(objective, n_trials = 40)"
      ],
      "execution_count": null,
      "outputs": [
        {
          "name": "stderr",
          "output_type": "stream",
          "text": [
            "\u001b[32m[I 2021-12-02 14:06:12,548]\u001b[0m A new study created in memory with name: no-name-3b13475f-6044-4a4c-bce7-12763a5bfd0b\u001b[0m\n",
            "\u001b[32m[I 2021-12-02 14:06:20,515]\u001b[0m Trial 0 finished with value: 0.6777171861974984 and parameters: {'n_layers': 3, 'n_units_0': 19, 'n_units_1': 96, 'n_units_2': 7, 'activation': 'tanh', 'learning_rate': 'constant', 'batch_size': 256, 'threshold': 0.023121068437911115, 'n_components': 23}. Best is trial 0 with value: 0.6777171861974984.\u001b[0m\n",
            "\u001b[32m[I 2021-12-02 14:07:27,112]\u001b[0m Trial 1 finished with value: 0.7194309162989706 and parameters: {'n_layers': 10, 'n_units_0': 49, 'n_units_1': 17, 'n_units_2': 10, 'n_units_3': 10, 'n_units_4': 6, 'n_units_5': 35, 'n_units_6': 25, 'n_units_7': 87, 'n_units_8': 45, 'n_units_9': 50, 'activation': 'tanh', 'learning_rate': 'adaptive', 'batch_size': 512, 'threshold': 0.014377409346766165, 'n_components': 31}. Best is trial 1 with value: 0.7194309162989706.\u001b[0m\n",
            "\u001b[32m[I 2021-12-02 14:07:33,329]\u001b[0m Trial 2 finished with value: 0.5903795199020438 and parameters: {'n_layers': 2, 'n_units_0': 16, 'n_units_1': 87, 'activation': 'relu', 'learning_rate': 'constant', 'batch_size': 512, 'threshold': 0.04532278583914763, 'n_components': 16}. Best is trial 1 with value: 0.7194309162989706.\u001b[0m\n",
            "\u001b[32m[I 2021-12-02 14:07:48,882]\u001b[0m Trial 3 finished with value: 0.3829275536368902 and parameters: {'n_layers': 8, 'n_units_0': 78, 'n_units_1': 37, 'n_units_2': 24, 'n_units_3': 98, 'n_units_4': 29, 'n_units_5': 31, 'n_units_6': 44, 'n_units_7': 50, 'activation': 'relu', 'learning_rate': 'constant', 'batch_size': 128, 'threshold': 0.0422932157514871, 'n_components': 9}. Best is trial 1 with value: 0.7194309162989706.\u001b[0m\n",
            "\u001b[32m[I 2021-12-02 14:08:42,112]\u001b[0m Trial 4 finished with value: 0.7263825030755376 and parameters: {'n_layers': 6, 'n_units_0': 84, 'n_units_1': 46, 'n_units_2': 56, 'n_units_3': 51, 'n_units_4': 78, 'n_units_5': 77, 'activation': 'tanh', 'learning_rate': 'adaptive', 'batch_size': 256, 'threshold': 0.003818103252260301, 'n_components': 63}. Best is trial 4 with value: 0.7263825030755376.\u001b[0m\n",
            "\u001b[32m[I 2021-12-02 14:08:56,407]\u001b[0m Trial 5 finished with value: 0.7167906757287985 and parameters: {'n_layers': 4, 'n_units_0': 39, 'n_units_1': 29, 'n_units_2': 3, 'n_units_3': 97, 'activation': 'tanh', 'learning_rate': 'constant', 'batch_size': 128, 'threshold': 0.025868320771102394, 'n_components': 30}. Best is trial 4 with value: 0.7263825030755376.\u001b[0m\n",
            "\u001b[32m[I 2021-12-02 14:09:11,520]\u001b[0m Trial 6 finished with value: 0.630109811010892 and parameters: {'n_layers': 3, 'n_units_0': 89, 'n_units_1': 11, 'n_units_2': 25, 'activation': 'relu', 'learning_rate': 'adaptive', 'batch_size': 512, 'threshold': 0.006794792147838202, 'n_components': 40}. Best is trial 4 with value: 0.7263825030755376.\u001b[0m\n",
            "\u001b[32m[I 2021-12-02 14:09:44,667]\u001b[0m Trial 7 finished with value: 0.4606475683285824 and parameters: {'n_layers': 9, 'n_units_0': 23, 'n_units_1': 62, 'n_units_2': 70, 'n_units_3': 95, 'n_units_4': 92, 'n_units_5': 75, 'n_units_6': 29, 'n_units_7': 14, 'n_units_8': 17, 'activation': 'relu', 'learning_rate': 'adaptive', 'batch_size': 512, 'threshold': 0.04087737094974525, 'n_components': 6}. Best is trial 4 with value: 0.7263825030755376.\u001b[0m\n",
            "\u001b[32m[I 2021-12-02 14:10:53,639]\u001b[0m Trial 8 finished with value: 0.697986943129014 and parameters: {'n_layers': 10, 'n_units_0': 12, 'n_units_1': 62, 'n_units_2': 14, 'n_units_3': 79, 'n_units_4': 43, 'n_units_5': 69, 'n_units_6': 37, 'n_units_7': 38, 'n_units_8': 15, 'n_units_9': 23, 'activation': 'tanh', 'learning_rate': 'adaptive', 'batch_size': 256, 'threshold': 0.03191897854384145, 'n_components': 14}. Best is trial 4 with value: 0.7263825030755376.\u001b[0m\n",
            "\u001b[32m[I 2021-12-02 14:11:11,383]\u001b[0m Trial 9 finished with value: 0.38068636652140075 and parameters: {'n_layers': 4, 'n_units_0': 48, 'n_units_1': 49, 'n_units_2': 37, 'n_units_3': 42, 'activation': 'relu', 'learning_rate': 'adaptive', 'batch_size': 512, 'threshold': 0.035091241940060226, 'n_components': 21}. Best is trial 4 with value: 0.7263825030755376.\u001b[0m\n",
            "\u001b[32m[I 2021-12-02 14:12:26,555]\u001b[0m Trial 10 finished with value: 0.7223053026108935 and parameters: {'n_layers': 7, 'n_units_0': 71, 'n_units_1': 76, 'n_units_2': 93, 'n_units_3': 51, 'n_units_4': 89, 'n_units_5': 100, 'n_units_6': 97, 'activation': 'tanh', 'learning_rate': 'adaptive', 'batch_size': 256, 'threshold': 0.0016420201022037083, 'n_components': 72}. Best is trial 4 with value: 0.7263825030755376.\u001b[0m\n",
            "\u001b[32m[I 2021-12-02 14:13:42,327]\u001b[0m Trial 11 finished with value: 0.7159095980860708 and parameters: {'n_layers': 7, 'n_units_0': 71, 'n_units_1': 77, 'n_units_2': 99, 'n_units_3': 50, 'n_units_4': 89, 'n_units_5': 99, 'n_units_6': 97, 'activation': 'tanh', 'learning_rate': 'adaptive', 'batch_size': 256, 'threshold': 0.001152721704909006, 'n_components': 71}. Best is trial 4 with value: 0.7263825030755376.\u001b[0m\n",
            "\u001b[32m[I 2021-12-02 14:14:35,649]\u001b[0m Trial 12 finished with value: 0.7067505708996578 and parameters: {'n_layers': 6, 'n_units_0': 100, 'n_units_1': 72, 'n_units_2': 68, 'n_units_3': 28, 'n_units_4': 72, 'n_units_5': 98, 'activation': 'tanh', 'learning_rate': 'adaptive', 'batch_size': 256, 'threshold': 0.011584104692469444, 'n_components': 47}. Best is trial 4 with value: 0.7263825030755376.\u001b[0m\n",
            "\u001b[32m[I 2021-12-02 14:15:31,800]\u001b[0m Trial 13 finished with value: 0.713510807046837 and parameters: {'n_layers': 6, 'n_units_0': 67, 'n_units_1': 47, 'n_units_2': 100, 'n_units_3': 67, 'n_units_4': 70, 'n_units_5': 77, 'activation': 'tanh', 'learning_rate': 'adaptive', 'batch_size': 256, 'threshold': 0.055216358484183596, 'n_components': 28}. Best is trial 4 with value: 0.7263825030755376.\u001b[0m\n",
            "\u001b[32m[I 2021-12-02 14:16:40,435]\u001b[0m Trial 14 finished with value: 0.7125318163623485 and parameters: {'n_layers': 7, 'n_units_0': 65, 'n_units_1': 63, 'n_units_2': 76, 'n_units_3': 61, 'n_units_4': 99, 'n_units_5': 6, 'n_units_6': 100, 'activation': 'tanh', 'learning_rate': 'adaptive', 'batch_size': 256, 'threshold': 0.00010600094602245804, 'n_components': 83}. Best is trial 4 with value: 0.7263825030755376.\u001b[0m\n",
            "/usr/local/lib/python3.7/dist-packages/sklearn/model_selection/_validation.py:372: FitFailedWarning:\n",
            "\n",
            "\n",
            "1 fits failed out of a total of 5.\n",
            "The score on these train-test partitions for these parameters will be set to nan.\n",
            "If these failures are not expected, you can try to debug them by setting error_score='raise'.\n",
            "\n",
            "Below are more details about the failures:\n",
            "--------------------------------------------------------------------------------\n",
            "1 fits failed with the following error:\n",
            "Traceback (most recent call last):\n",
            "  File \"/usr/local/lib/python3.7/dist-packages/sklearn/model_selection/_validation.py\", line 681, in _fit_and_score\n",
            "    estimator.fit(X_train, y_train, **fit_params)\n",
            "  File \"/usr/local/lib/python3.7/dist-packages/sklearn/pipeline.py\", line 390, in fit\n",
            "    Xt = self._fit(X, y, **fit_params_steps)\n",
            "  File \"/usr/local/lib/python3.7/dist-packages/sklearn/pipeline.py\", line 355, in _fit\n",
            "    **fit_params_steps[name],\n",
            "  File \"/usr/local/lib/python3.7/dist-packages/joblib/memory.py\", line 349, in __call__\n",
            "    return self.func(*args, **kwargs)\n",
            "  File \"/usr/local/lib/python3.7/dist-packages/sklearn/pipeline.py\", line 893, in _fit_transform_one\n",
            "    res = transformer.fit_transform(X, y, **fit_params)\n",
            "  File \"/usr/local/lib/python3.7/dist-packages/sklearn/decomposition/_pca.py\", line 407, in fit_transform\n",
            "    U, S, Vt = self._fit(X)\n",
            "  File \"/usr/local/lib/python3.7/dist-packages/sklearn/decomposition/_pca.py\", line 457, in _fit\n",
            "    return self._fit_full(X, n_components)\n",
            "  File \"/usr/local/lib/python3.7/dist-packages/sklearn/decomposition/_pca.py\", line 478, in _fit_full\n",
            "    \"svd_solver='full'\" % (n_components, min(n_samples, n_features))\n",
            "ValueError: n_components=45 must be between 0 and min(n_samples, n_features)=44 with svd_solver='full'\n",
            "\n",
            "\n",
            "\u001b[33m[W 2021-12-02 14:17:13,688]\u001b[0m Trial 15 failed, because the objective function returned nan.\u001b[0m\n",
            "\u001b[32m[I 2021-12-02 14:17:56,344]\u001b[0m Trial 16 finished with value: 0.7173922765688403 and parameters: {'n_layers': 5, 'n_units_0': 86, 'n_units_1': 32, 'n_units_2': 52, 'n_units_3': 33, 'n_units_4': 70, 'activation': 'tanh', 'learning_rate': 'adaptive', 'batch_size': 256, 'threshold': 0.017852097625644367, 'n_components': 45}. Best is trial 4 with value: 0.7263825030755376.\u001b[0m\n",
            "\u001b[32m[I 2021-12-02 14:19:16,712]\u001b[0m Trial 17 finished with value: 0.7234338303573672 and parameters: {'n_layers': 8, 'n_units_0': 59, 'n_units_1': 99, 'n_units_2': 86, 'n_units_3': 18, 'n_units_4': 78, 'n_units_5': 85, 'n_units_6': 66, 'n_units_7': 99, 'activation': 'tanh', 'learning_rate': 'adaptive', 'batch_size': 256, 'threshold': 0.008110280320756915, 'n_components': 53}. Best is trial 4 with value: 0.7263825030755376.\u001b[0m\n",
            "\u001b[32m[I 2021-12-02 14:20:31,053]\u001b[0m Trial 18 finished with value: 0.7185653769788597 and parameters: {'n_layers': 8, 'n_units_0': 32, 'n_units_1': 99, 'n_units_2': 54, 'n_units_3': 4, 'n_units_4': 55, 'n_units_5': 60, 'n_units_6': 67, 'n_units_7': 97, 'activation': 'tanh', 'learning_rate': 'adaptive', 'batch_size': 128, 'threshold': 0.009670543600098728, 'n_components': 46}. Best is trial 4 with value: 0.7263825030755376.\u001b[0m\n",
            "\u001b[32m[I 2021-12-02 14:20:50,756]\u001b[0m Trial 19 finished with value: 0.6675481549593429 and parameters: {'n_layers': 5, 'n_units_0': 1, 'n_units_1': 42, 'n_units_2': 80, 'n_units_3': 20, 'n_units_4': 53, 'activation': 'tanh', 'learning_rate': 'constant', 'batch_size': 256, 'threshold': 0.020753506758225397, 'n_components': 36}. Best is trial 4 with value: 0.7263825030755376.\u001b[0m\n",
            "\u001b[32m[I 2021-12-02 14:21:02,928]\u001b[0m Trial 20 finished with value: 0.7059021636662526 and parameters: {'n_layers': 1, 'n_units_0': 59, 'activation': 'tanh', 'learning_rate': 'adaptive', 'batch_size': 256, 'threshold': 0.007389095802008982, 'n_components': 52}. Best is trial 4 with value: 0.7263825030755376.\u001b[0m\n",
            "\u001b[32m[I 2021-12-02 14:21:57,956]\u001b[0m Trial 21 finished with value: 0.08592940526352147 and parameters: {'n_layers': 9, 'n_units_0': 96, 'n_units_1': 21, 'n_units_2': 61, 'n_units_3': 16, 'n_units_4': 78, 'n_units_5': 83, 'n_units_6': 5, 'n_units_7': 73, 'n_units_8': 99, 'activation': 'tanh', 'learning_rate': 'adaptive', 'batch_size': 128, 'threshold': 0.015644248283041874, 'n_components': 1}. Best is trial 4 with value: 0.7263825030755376.\u001b[0m\n",
            "\u001b[32m[I 2021-12-02 14:23:15,207]\u001b[0m Trial 22 finished with value: 0.7142959927281447 and parameters: {'n_layers': 7, 'n_units_0': 79, 'n_units_1': 86, 'n_units_2': 90, 'n_units_3': 55, 'n_units_4': 84, 'n_units_5': 88, 'n_units_6': 72, 'activation': 'tanh', 'learning_rate': 'adaptive', 'batch_size': 256, 'threshold': 0.0039510492659157485, 'n_components': 59}. Best is trial 4 with value: 0.7263825030755376.\u001b[0m\n",
            "\u001b[32m[I 2021-12-02 14:24:31,004]\u001b[0m Trial 23 finished with value: 0.7028260906496829 and parameters: {'n_layers': 8, 'n_units_0': 55, 'n_units_1': 85, 'n_units_2': 87, 'n_units_3': 41, 'n_units_4': 63, 'n_units_5': 100, 'n_units_6': 78, 'n_units_7': 69, 'activation': 'tanh', 'learning_rate': 'adaptive', 'batch_size': 256, 'threshold': 0.005648908574614886, 'n_components': 58}. Best is trial 4 with value: 0.7263825030755376.\u001b[0m\n",
            "\u001b[32m[I 2021-12-02 14:25:30,487]\u001b[0m Trial 24 finished with value: 0.7235302069023108 and parameters: {'n_layers': 6, 'n_units_0': 76, 'n_units_1': 74, 'n_units_2': 41, 'n_units_3': 72, 'n_units_4': 99, 'n_units_5': 57, 'activation': 'tanh', 'learning_rate': 'adaptive', 'batch_size': 256, 'threshold': 0.01160850873614511, 'n_components': 51}. Best is trial 4 with value: 0.7263825030755376.\u001b[0m\n",
            "\u001b[32m[I 2021-12-02 14:26:27,473]\u001b[0m Trial 25 finished with value: 0.7112745178500474 and parameters: {'n_layers': 6, 'n_units_0': 80, 'n_units_1': 2, 'n_units_2': 40, 'n_units_3': 75, 'n_units_4': 100, 'n_units_5': 52, 'activation': 'tanh', 'learning_rate': 'adaptive', 'batch_size': 256, 'threshold': 0.01147578791221173, 'n_components': 39}. Best is trial 4 with value: 0.7263825030755376.\u001b[0m\n",
            "\u001b[32m[I 2021-12-02 14:27:13,250]\u001b[0m Trial 26 finished with value: 0.7083945603460853 and parameters: {'n_layers': 5, 'n_units_0': 89, 'n_units_1': 57, 'n_units_2': 37, 'n_units_3': 79, 'n_units_4': 79, 'activation': 'tanh', 'learning_rate': 'adaptive', 'batch_size': 256, 'threshold': 0.02714662371317346, 'n_components': 31}. Best is trial 4 with value: 0.7263825030755376.\u001b[0m\n",
            "\u001b[32m[I 2021-12-02 14:27:22,160]\u001b[0m Trial 27 finished with value: 0.18154629546236375 and parameters: {'n_layers': 9, 'n_units_0': 60, 'n_units_1': 70, 'n_units_2': 46, 'n_units_3': 67, 'n_units_4': 34, 'n_units_5': 63, 'n_units_6': 56, 'n_units_7': 12, 'n_units_8': 98, 'activation': 'relu', 'learning_rate': 'constant', 'batch_size': 256, 'threshold': 0.019992971402555175, 'n_components': 35}. Best is trial 4 with value: 0.7263825030755376.\u001b[0m\n",
            "\u001b[32m[I 2021-12-02 14:27:53,929]\u001b[0m Trial 28 finished with value: 0.7119438573757386 and parameters: {'n_layers': 4, 'n_units_0': 41, 'n_units_1': 56, 'n_units_2': 60, 'n_units_3': 39, 'activation': 'tanh', 'learning_rate': 'adaptive', 'batch_size': 256, 'threshold': 0.012767182510896691, 'n_components': 42}. Best is trial 4 with value: 0.7263825030755376.\u001b[0m\n",
            "\u001b[32m[I 2021-12-02 14:28:48,259]\u001b[0m Trial 29 finished with value: 0.7130963366098328 and parameters: {'n_layers': 6, 'n_units_0': 72, 'n_units_1': 93, 'n_units_2': 25, 'n_units_3': 84, 'n_units_4': 62, 'n_units_5': 42, 'activation': 'tanh', 'learning_rate': 'adaptive', 'batch_size': 256, 'threshold': 0.05917807085180944, 'n_components': 25}. Best is trial 4 with value: 0.7263825030755376.\u001b[0m\n",
            "\u001b[32m[I 2021-12-02 14:29:11,725]\u001b[0m Trial 30 finished with value: 0.7266119063829901 and parameters: {'n_layers': 8, 'n_units_0': 84, 'n_units_1': 79, 'n_units_2': 46, 'n_units_3': 60, 'n_units_4': 81, 'n_units_5': 56, 'n_units_6': 56, 'n_units_7': 71, 'activation': 'tanh', 'learning_rate': 'constant', 'batch_size': 128, 'threshold': 0.02248152311634671, 'n_components': 34}. Best is trial 30 with value: 0.7266119063829901.\u001b[0m\n",
            "\u001b[32m[I 2021-12-02 14:29:24,821]\u001b[0m Trial 31 finished with value: 0.7137777685888155 and parameters: {'n_layers': 3, 'n_units_0': 94, 'n_units_1': 80, 'n_units_2': 45, 'activation': 'tanh', 'learning_rate': 'constant', 'batch_size': 128, 'threshold': 0.024338011978460115, 'n_components': 28}. Best is trial 30 with value: 0.7266119063829901.\u001b[0m\n",
            "\u001b[32m[I 2021-12-02 14:29:50,024]\u001b[0m Trial 32 finished with value: 0.7253660420581982 and parameters: {'n_layers': 8, 'n_units_0': 84, 'n_units_1': 92, 'n_units_2': 31, 'n_units_3': 60, 'n_units_4': 81, 'n_units_5': 54, 'n_units_6': 57, 'n_units_7': 76, 'activation': 'tanh', 'learning_rate': 'constant', 'batch_size': 128, 'threshold': 0.01709665277352658, 'n_components': 36}. Best is trial 30 with value: 0.7266119063829901.\u001b[0m\n",
            "\u001b[32m[I 2021-12-02 14:30:14,299]\u001b[0m Trial 33 finished with value: 0.7228022324275856 and parameters: {'n_layers': 7, 'n_units_0': 86, 'n_units_1': 91, 'n_units_2': 30, 'n_units_3': 64, 'n_units_4': 94, 'n_units_5': 52, 'n_units_6': 47, 'activation': 'tanh', 'learning_rate': 'constant', 'batch_size': 128, 'threshold': 0.015458963000810825, 'n_components': 34}. Best is trial 30 with value: 0.7266119063829901.\u001b[0m\n",
            "\u001b[32m[I 2021-12-02 14:30:59,483]\u001b[0m Trial 34 finished with value: 0.7158400679592104 and parameters: {'n_layers': 10, 'n_units_0': 81, 'n_units_1': 69, 'n_units_2': 33, 'n_units_3': 59, 'n_units_4': 83, 'n_units_5': 60, 'n_units_6': 82, 'n_units_7': 67, 'n_units_8': 62, 'n_units_9': 93, 'activation': 'tanh', 'learning_rate': 'constant', 'batch_size': 128, 'threshold': 0.018587896871543146, 'n_components': 23}. Best is trial 30 with value: 0.7266119063829901.\u001b[0m\n",
            "\u001b[32m[I 2021-12-02 14:31:28,308]\u001b[0m Trial 35 finished with value: 0.7244611714176665 and parameters: {'n_layers': 9, 'n_units_0': 75, 'n_units_1': 79, 'n_units_2': 45, 'n_units_3': 72, 'n_units_4': 85, 'n_units_5': 43, 'n_units_6': 57, 'n_units_7': 51, 'n_units_8': 63, 'activation': 'tanh', 'learning_rate': 'constant', 'batch_size': 128, 'threshold': 0.03000080053262495, 'n_components': 26}. Best is trial 30 with value: 0.7266119063829901.\u001b[0m\n",
            "\u001b[32m[I 2021-12-02 14:31:37,236]\u001b[0m Trial 36 finished with value: 0.13211009174311927 and parameters: {'n_layers': 9, 'n_units_0': 94, 'n_units_1': 82, 'n_units_2': 17, 'n_units_3': 86, 'n_units_4': 64, 'n_units_5': 38, 'n_units_6': 55, 'n_units_7': 51, 'n_units_8': 65, 'activation': 'relu', 'learning_rate': 'constant', 'batch_size': 128, 'threshold': 0.030998105868867858, 'n_components': 26}. Best is trial 30 with value: 0.7266119063829901.\u001b[0m\n",
            "\u001b[32m[I 2021-12-02 14:31:58,961]\u001b[0m Trial 37 finished with value: 0.7171693751645374 and parameters: {'n_layers': 8, 'n_units_0': 83, 'n_units_1': 92, 'n_units_2': 58, 'n_units_3': 48, 'n_units_4': 85, 'n_units_5': 24, 'n_units_6': 60, 'n_units_7': 55, 'activation': 'tanh', 'learning_rate': 'constant', 'batch_size': 128, 'threshold': 0.027715243502139622, 'n_components': 28}. Best is trial 30 with value: 0.7266119063829901.\u001b[0m\n",
            "\u001b[32m[I 2021-12-02 14:32:14,239]\u001b[0m Trial 38 finished with value: 0.14448315911730544 and parameters: {'n_layers': 9, 'n_units_0': 100, 'n_units_1': 43, 'n_units_2': 47, 'n_units_3': 55, 'n_units_4': 73, 'n_units_5': 47, 'n_units_6': 40, 'n_units_7': 81, 'n_units_8': 41, 'activation': 'relu', 'learning_rate': 'constant', 'batch_size': 128, 'threshold': 0.03625175521714761, 'n_components': 24}. Best is trial 30 with value: 0.7266119063829901.\u001b[0m\n",
            "\u001b[32m[I 2021-12-02 14:32:47,810]\u001b[0m Trial 39 finished with value: 0.7231049917846083 and parameters: {'n_layers': 10, 'n_units_0': 75, 'n_units_1': 66, 'n_units_2': 66, 'n_units_3': 72, 'n_units_4': 79, 'n_units_5': 23, 'n_units_6': 85, 'n_units_7': 38, 'n_units_8': 73, 'n_units_9': 7, 'activation': 'tanh', 'learning_rate': 'constant', 'batch_size': 128, 'threshold': 0.022390035615076104, 'n_components': 32}. Best is trial 30 with value: 0.7266119063829901.\u001b[0m\n"
          ]
        }
      ]
    },
    {
      "cell_type": "markdown",
      "metadata": {
        "id": "JFwIhEPfjwE-"
      },
      "source": [
        "Τα συμπεράσματα στα οποία καταλήγουμε παρατηρώντας τις δοκιμές βελτιστοποίησης του f1 score συνάδουν με τα αντίστοιχα για τη βελτιστοποίηση του accuracy score. Παρατηρούμε λοιπόν, στη συγκεκριμένη περίπτωση μάλιστα πιο έντονα, ότι  χρήση της relu ως activation function δεν επιτυγχάνει υψηλά f1 score, αδυνατώντας να ξεπεράσει το 0.7 σε ανίθεση με τη χρήση της tanh. Παράλλλα, στην πλειοψηφία των περιπτώσεων παρατηρούμε λίγο καλύτερα scores με 'adaptive' learning_rate, ενώ το batch size δεν επηρεάζει ιδιαίτερα, με το 256 να υπερτερεί αμυδρά.\n",
        "\n",
        "Ως τελευταία προσπάθεια βελτιστοποίησης της αρχιτεκτονικής MinMax Scaler - Variance Threshold - PCA - MLP (με 'sgd' solver), επιχειρούμε να εκτιμήσουμε τις τιμές των υπερπαραμέτρων που βελτιστοποιούν παράλληλα τόσο το accuracy όσο και το f1 score κατά τη διαδικασία του 5-fold cross validation, θέτοντας ως στόχο την αναζήτησης την μεγιστοποίηση του μέσου όρου του accuracy score και του f1 score.  Παράλληλα, για πιθανές τιμές των υπερπαραμέτρων θετουμε τις καλύτερες με βάση τις παραπάνω δοκιμές, δηλαδή tanh ως activation function, 'adaptive' learning rate, pca_components μεταξύ 10 και 45, και threshold χαμηλότερο του 0.06."
      ]
    },
    {
      "cell_type": "code",
      "metadata": {
        "colab": {
          "base_uri": "https://localhost:8080/"
        },
        "id": "cYuNmQeIfO97",
        "outputId": "ebdd7b58-4423-489c-a19e-671a4ec15808"
      },
      "source": [
        "# MinMax Scaler - Variance Threshold - PCA - MLP\n",
        "# optimize both accuracy and f1 score\n",
        "\n",
        "def objective(trial):\n",
        "\n",
        "    n_layers = trial.suggest_int('n_layers', 1, 10)\n",
        "    layers = []\n",
        "    for i in range(n_layers):\n",
        "        layers.append(trial.suggest_int(f'n_units_{i}', 1, 100))\n",
        "\n",
        "    activation = trial.suggest_categorical('activation', ['tanh'])\n",
        "    learning_rate = trial.suggest_categorical('learning_rate', ['adaptive'])\n",
        "    batch_size = trial.suggest_categorical('batch_size', [128, 256, 512])\n",
        "\n",
        "    mlp = MLPClassifier(hidden_layer_sizes = tuple(layers), activation = activation,  solver = 'sgd', learning_rate = learning_rate, batch_size = batch_size, max_iter = 10000, early_stopping = True)\n",
        "    threshold = trial.suggest_float('threshold', 0.0, 0.06)\n",
        "\n",
        "    p = Pipeline(steps = [('minmax_scaler', preprocessing.MinMaxScaler()), ('selector',  VarianceThreshold(threshold = threshold))])\n",
        "    upper_bound = p.fit_transform(X_train_small).shape[1]\n",
        "    n_components = trial.suggest_int('n_components', min(10, upper_bound), min(45, upper_bound))\n",
        "\n",
        "    clf = Pipeline(steps = [('minmax_scaler', preprocessing.MinMaxScaler()), ('selector', VarianceThreshold(threshold)), ('pca', PCA(n_components = n_components)), ('mlp', mlp)])\n",
        "\n",
        "    acc = np.mean(cross_val_score(clf, X_train_small, y_train_small, cv = 5, scoring = 'accuracy'))\n",
        "    f1 = np.mean(cross_val_score(clf, X_train_small, y_train_small, cv = 5, scoring = 'f1'))\n",
        "    print('cross-val accuracy:', np.round(acc, 5))\n",
        "    print('cross-val f1 score:', np.round(f1, 5))\n",
        "    return (acc + f1) / 2\n",
        "\n",
        "study = optuna.create_study(direction = 'maximize')\n",
        "study.optimize(objective, n_trials = 40)"
      ],
      "execution_count": null,
      "outputs": [
        {
          "name": "stderr",
          "output_type": "stream",
          "text": [
            "\u001b[32m[I 2021-12-02 18:54:36,158]\u001b[0m A new study created in memory with name: no-name-b5b91ce4-1194-45ff-8dac-819841ee5dbb\u001b[0m\n",
            "\u001b[32m[I 2021-12-02 18:56:12,429]\u001b[0m Trial 0 finished with value: 0.740242843152431 and parameters: {'n_layers': 5, 'n_units_0': 90, 'n_units_1': 85, 'n_units_2': 87, 'n_units_3': 52, 'n_units_4': 55, 'activation': 'tanh', 'learning_rate': 'adaptive', 'batch_size': 128, 'threshold': 0.014815615271356223, 'n_components': 19}. Best is trial 0 with value: 0.740242843152431.\u001b[0m\n"
          ]
        },
        {
          "name": "stdout",
          "output_type": "stream",
          "text": [
            "cross-val accuracy: 0.736\n",
            "cross-val f1 score: 0.74449\n"
          ]
        },
        {
          "name": "stderr",
          "output_type": "stream",
          "text": [
            "\u001b[32m[I 2021-12-02 18:56:51,201]\u001b[0m Trial 1 finished with value: 0.7079037995924318 and parameters: {'n_layers': 3, 'n_units_0': 36, 'n_units_1': 77, 'n_units_2': 18, 'activation': 'tanh', 'learning_rate': 'adaptive', 'batch_size': 512, 'threshold': 0.0003995036143127617, 'n_components': 11}. Best is trial 0 with value: 0.740242843152431.\u001b[0m\n"
          ]
        },
        {
          "name": "stdout",
          "output_type": "stream",
          "text": [
            "cross-val accuracy: 0.71312\n",
            "cross-val f1 score: 0.70269\n"
          ]
        },
        {
          "name": "stderr",
          "output_type": "stream",
          "text": [
            "\u001b[32m[I 2021-12-02 18:57:22,466]\u001b[0m Trial 2 finished with value: 0.703725885022976 and parameters: {'n_layers': 3, 'n_units_0': 10, 'n_units_1': 42, 'n_units_2': 39, 'activation': 'tanh', 'learning_rate': 'adaptive', 'batch_size': 512, 'threshold': 0.04031271046834368, 'n_components': 18}. Best is trial 0 with value: 0.740242843152431.\u001b[0m\n"
          ]
        },
        {
          "name": "stdout",
          "output_type": "stream",
          "text": [
            "cross-val accuracy: 0.69748\n",
            "cross-val f1 score: 0.70998\n"
          ]
        },
        {
          "name": "stderr",
          "output_type": "stream",
          "text": [
            "\u001b[32m[I 2021-12-02 18:58:04,683]\u001b[0m Trial 3 finished with value: 0.6937577094037164 and parameters: {'n_layers': 3, 'n_units_0': 36, 'n_units_1': 17, 'n_units_2': 98, 'activation': 'tanh', 'learning_rate': 'adaptive', 'batch_size': 512, 'threshold': 0.030650811989100985, 'n_components': 11}. Best is trial 0 with value: 0.740242843152431.\u001b[0m\n"
          ]
        },
        {
          "name": "stdout",
          "output_type": "stream",
          "text": [
            "cross-val accuracy: 0.70214\n",
            "cross-val f1 score: 0.68538\n"
          ]
        },
        {
          "name": "stderr",
          "output_type": "stream",
          "text": [
            "\u001b[32m[I 2021-12-02 18:58:28,734]\u001b[0m Trial 4 finished with value: 0.7188439053272418 and parameters: {'n_layers': 1, 'n_units_0': 76, 'activation': 'tanh', 'learning_rate': 'adaptive', 'batch_size': 512, 'threshold': 0.03423574285543817, 'n_components': 33}. Best is trial 0 with value: 0.740242843152431.\u001b[0m\n"
          ]
        },
        {
          "name": "stdout",
          "output_type": "stream",
          "text": [
            "cross-val accuracy: 0.71266\n",
            "cross-val f1 score: 0.72503\n"
          ]
        },
        {
          "name": "stderr",
          "output_type": "stream",
          "text": [
            "\u001b[32m[I 2021-12-02 18:58:57,197]\u001b[0m Trial 5 finished with value: 0.7254363901337306 and parameters: {'n_layers': 1, 'n_units_0': 79, 'activation': 'tanh', 'learning_rate': 'adaptive', 'batch_size': 128, 'threshold': 0.0348608785961827, 'n_components': 30}. Best is trial 0 with value: 0.740242843152431.\u001b[0m\n"
          ]
        },
        {
          "name": "stdout",
          "output_type": "stream",
          "text": [
            "cross-val accuracy: 0.72876\n",
            "cross-val f1 score: 0.72211\n"
          ]
        },
        {
          "name": "stderr",
          "output_type": "stream",
          "text": [
            "\u001b[32m[I 2021-12-02 18:59:22,837]\u001b[0m Trial 6 finished with value: 0.7284833858029284 and parameters: {'n_layers': 4, 'n_units_0': 38, 'n_units_1': 5, 'n_units_2': 45, 'n_units_3': 14, 'activation': 'tanh', 'learning_rate': 'adaptive', 'batch_size': 128, 'threshold': 0.03638916257146695, 'n_components': 19}. Best is trial 0 with value: 0.740242843152431.\u001b[0m\n"
          ]
        },
        {
          "name": "stdout",
          "output_type": "stream",
          "text": [
            "cross-val accuracy: 0.7325\n",
            "cross-val f1 score: 0.72447\n"
          ]
        },
        {
          "name": "stderr",
          "output_type": "stream",
          "text": [
            "\u001b[32m[I 2021-12-02 19:00:28,141]\u001b[0m Trial 7 finished with value: 0.7353808936753183 and parameters: {'n_layers': 6, 'n_units_0': 86, 'n_units_1': 16, 'n_units_2': 19, 'n_units_3': 47, 'n_units_4': 62, 'n_units_5': 15, 'activation': 'tanh', 'learning_rate': 'adaptive', 'batch_size': 256, 'threshold': 0.026765912604631355, 'n_components': 30}. Best is trial 0 with value: 0.740242843152431.\u001b[0m\n"
          ]
        },
        {
          "name": "stdout",
          "output_type": "stream",
          "text": [
            "cross-val accuracy: 0.72666\n",
            "cross-val f1 score: 0.7441\n"
          ]
        },
        {
          "name": "stderr",
          "output_type": "stream",
          "text": [
            "\u001b[32m[I 2021-12-02 19:02:11,543]\u001b[0m Trial 8 finished with value: 0.7358748966859218 and parameters: {'n_layers': 9, 'n_units_0': 66, 'n_units_1': 51, 'n_units_2': 78, 'n_units_3': 39, 'n_units_4': 21, 'n_units_5': 58, 'n_units_6': 23, 'n_units_7': 3, 'n_units_8': 29, 'activation': 'tanh', 'learning_rate': 'adaptive', 'batch_size': 256, 'threshold': 0.039960493843976735, 'n_components': 18}. Best is trial 0 with value: 0.740242843152431.\u001b[0m\n"
          ]
        },
        {
          "name": "stdout",
          "output_type": "stream",
          "text": [
            "cross-val accuracy: 0.7374\n",
            "cross-val f1 score: 0.73435\n"
          ]
        },
        {
          "name": "stderr",
          "output_type": "stream",
          "text": [
            "\u001b[32m[I 2021-12-02 19:03:07,763]\u001b[0m Trial 9 finished with value: 0.7262607538182211 and parameters: {'n_layers': 4, 'n_units_0': 79, 'n_units_1': 54, 'n_units_2': 4, 'n_units_3': 58, 'activation': 'tanh', 'learning_rate': 'adaptive', 'batch_size': 256, 'threshold': 0.021474616032018355, 'n_components': 22}. Best is trial 0 with value: 0.740242843152431.\u001b[0m\n"
          ]
        },
        {
          "name": "stdout",
          "output_type": "stream",
          "text": [
            "cross-val accuracy: 0.72106\n",
            "cross-val f1 score: 0.73146\n"
          ]
        },
        {
          "name": "stderr",
          "output_type": "stream",
          "text": [
            "\u001b[32m[I 2021-12-02 19:06:15,377]\u001b[0m Trial 10 finished with value: 0.7472020082005342 and parameters: {'n_layers': 8, 'n_units_0': 99, 'n_units_1': 100, 'n_units_2': 75, 'n_units_3': 98, 'n_units_4': 89, 'n_units_5': 99, 'n_units_6': 99, 'n_units_7': 97, 'activation': 'tanh', 'learning_rate': 'adaptive', 'batch_size': 128, 'threshold': 0.05778515177835766, 'n_components': 23}. Best is trial 10 with value: 0.7472020082005342.\u001b[0m\n"
          ]
        },
        {
          "name": "stdout",
          "output_type": "stream",
          "text": [
            "cross-val accuracy: 0.7409\n",
            "cross-val f1 score: 0.7535\n"
          ]
        },
        {
          "name": "stderr",
          "output_type": "stream",
          "text": [
            "\u001b[32m[I 2021-12-02 19:09:34,908]\u001b[0m Trial 11 finished with value: 0.745030328973062 and parameters: {'n_layers': 8, 'n_units_0': 98, 'n_units_1': 100, 'n_units_2': 76, 'n_units_3': 99, 'n_units_4': 98, 'n_units_5': 100, 'n_units_6': 100, 'n_units_7': 96, 'activation': 'tanh', 'learning_rate': 'adaptive', 'batch_size': 128, 'threshold': 0.059204201857027364, 'n_components': 24}. Best is trial 10 with value: 0.7472020082005342.\u001b[0m\n"
          ]
        },
        {
          "name": "stdout",
          "output_type": "stream",
          "text": [
            "cross-val accuracy: 0.74393\n",
            "cross-val f1 score: 0.74613\n"
          ]
        },
        {
          "name": "stderr",
          "output_type": "stream",
          "text": [
            "\u001b[32m[I 2021-12-02 19:13:30,978]\u001b[0m Trial 12 finished with value: 0.7540897689169302 and parameters: {'n_layers': 9, 'n_units_0': 97, 'n_units_1': 100, 'n_units_2': 68, 'n_units_3': 96, 'n_units_4': 100, 'n_units_5': 98, 'n_units_6': 100, 'n_units_7': 100, 'n_units_8': 93, 'activation': 'tanh', 'learning_rate': 'adaptive', 'batch_size': 128, 'threshold': 0.05982172525108023, 'n_components': 24}. Best is trial 12 with value: 0.7540897689169302.\u001b[0m\n"
          ]
        },
        {
          "name": "stdout",
          "output_type": "stream",
          "text": [
            "cross-val accuracy: 0.7528\n",
            "cross-val f1 score: 0.75538\n"
          ]
        },
        {
          "name": "stderr",
          "output_type": "stream",
          "text": [
            "\u001b[32m[I 2021-12-02 19:17:18,697]\u001b[0m Trial 13 finished with value: 0.749728205503986 and parameters: {'n_layers': 10, 'n_units_0': 58, 'n_units_1': 89, 'n_units_2': 65, 'n_units_3': 95, 'n_units_4': 99, 'n_units_5': 100, 'n_units_6': 100, 'n_units_7': 100, 'n_units_8': 100, 'n_units_9': 20, 'activation': 'tanh', 'learning_rate': 'adaptive', 'batch_size': 128, 'threshold': 0.05861241353202517, 'n_components': 24}. Best is trial 12 with value: 0.7540897689169302.\u001b[0m\n"
          ]
        },
        {
          "name": "stdout",
          "output_type": "stream",
          "text": [
            "cross-val accuracy: 0.75023\n",
            "cross-val f1 score: 0.74923\n"
          ]
        },
        {
          "name": "stderr",
          "output_type": "stream",
          "text": [
            "\u001b[32m[I 2021-12-02 19:20:32,332]\u001b[0m Trial 14 finished with value: 0.7470292611041478 and parameters: {'n_layers': 10, 'n_units_0': 58, 'n_units_1': 75, 'n_units_2': 60, 'n_units_3': 76, 'n_units_4': 98, 'n_units_5': 74, 'n_units_6': 72, 'n_units_7': 100, 'n_units_8': 100, 'n_units_9': 15, 'activation': 'tanh', 'learning_rate': 'adaptive', 'batch_size': 128, 'threshold': 0.04971476907046171, 'n_components': 27}. Best is trial 12 with value: 0.7540897689169302.\u001b[0m\n"
          ]
        },
        {
          "name": "stdout",
          "output_type": "stream",
          "text": [
            "cross-val accuracy: 0.74603\n",
            "cross-val f1 score: 0.74802\n"
          ]
        },
        {
          "name": "stderr",
          "output_type": "stream",
          "text": [
            "\u001b[32m[I 2021-12-02 19:24:07,410]\u001b[0m Trial 15 finished with value: 0.703665960791822 and parameters: {'n_layers': 10, 'n_units_0': 1, 'n_units_1': 86, 'n_units_2': 58, 'n_units_3': 80, 'n_units_4': 74, 'n_units_5': 80, 'n_units_6': 69, 'n_units_7': 61, 'n_units_8': 100, 'n_units_9': 51, 'activation': 'tanh', 'learning_rate': 'adaptive', 'batch_size': 128, 'threshold': 0.048336408546553945, 'n_components': 26}. Best is trial 12 with value: 0.7540897689169302.\u001b[0m\n"
          ]
        },
        {
          "name": "stdout",
          "output_type": "stream",
          "text": [
            "cross-val accuracy: 0.65805\n",
            "cross-val f1 score: 0.74928\n"
          ]
        },
        {
          "name": "stderr",
          "output_type": "stream",
          "text": [
            "\u001b[32m[I 2021-12-02 19:25:57,693]\u001b[0m Trial 16 finished with value: 0.7466442883904191 and parameters: {'n_layers': 7, 'n_units_0': 49, 'n_units_1': 66, 'n_units_2': 62, 'n_units_3': 79, 'n_units_4': 7, 'n_units_5': 29, 'n_units_6': 81, 'activation': 'tanh', 'learning_rate': 'adaptive', 'batch_size': 128, 'threshold': 0.04998527677467139, 'n_components': 15}. Best is trial 12 with value: 0.7540897689169302.\u001b[0m\n"
          ]
        },
        {
          "name": "stdout",
          "output_type": "stream",
          "text": [
            "cross-val accuracy: 0.74136\n",
            "cross-val f1 score: 0.75192\n"
          ]
        },
        {
          "name": "stderr",
          "output_type": "stream",
          "text": [
            "\u001b[32m[I 2021-12-02 19:28:29,684]\u001b[0m Trial 17 finished with value: 0.7462483194850854 and parameters: {'n_layers': 9, 'n_units_0': 20, 'n_units_1': 90, 'n_units_2': 30, 'n_units_3': 88, 'n_units_4': 76, 'n_units_5': 80, 'n_units_6': 34, 'n_units_7': 63, 'n_units_8': 74, 'activation': 'tanh', 'learning_rate': 'adaptive', 'batch_size': 128, 'threshold': 0.05599096614634806, 'n_components': 26}. Best is trial 12 with value: 0.7540897689169302.\u001b[0m\n"
          ]
        },
        {
          "name": "stdout",
          "output_type": "stream",
          "text": [
            "cross-val accuracy: 0.74393\n",
            "cross-val f1 score: 0.74857\n"
          ]
        },
        {
          "name": "stderr",
          "output_type": "stream",
          "text": [
            "\u001b[32m[I 2021-12-02 19:30:16,088]\u001b[0m Trial 18 finished with value: 0.7459703731518805 and parameters: {'n_layers': 7, 'n_units_0': 69, 'n_units_1': 66, 'n_units_2': 67, 'n_units_3': 67, 'n_units_4': 36, 'n_units_5': 48, 'n_units_6': 52, 'activation': 'tanh', 'learning_rate': 'adaptive', 'batch_size': 128, 'threshold': 0.04500068327765577, 'n_components': 15}. Best is trial 12 with value: 0.7540897689169302.\u001b[0m\n"
          ]
        },
        {
          "name": "stdout",
          "output_type": "stream",
          "text": [
            "cross-val accuracy: 0.74136\n",
            "cross-val f1 score: 0.75058\n"
          ]
        },
        {
          "name": "stderr",
          "output_type": "stream",
          "text": [
            "\u001b[32m[I 2021-12-02 19:32:48,765]\u001b[0m Trial 19 finished with value: 0.7126005749287592 and parameters: {'n_layers': 10, 'n_units_0': 55, 'n_units_1': 40, 'n_units_2': 91, 'n_units_3': 32, 'n_units_4': 80, 'n_units_5': 97, 'n_units_6': 89, 'n_units_7': 78, 'n_units_8': 71, 'n_units_9': 2, 'activation': 'tanh', 'learning_rate': 'adaptive', 'batch_size': 256, 'threshold': 0.053867465760317555, 'n_components': 21}. Best is trial 12 with value: 0.7540897689169302.\u001b[0m\n"
          ]
        },
        {
          "name": "stdout",
          "output_type": "stream",
          "text": [
            "cross-val accuracy: 0.68745\n",
            "cross-val f1 score: 0.73775\n"
          ]
        },
        {
          "name": "stderr",
          "output_type": "stream",
          "text": [
            "\u001b[32m[I 2021-12-02 19:34:46,597]\u001b[0m Trial 20 finished with value: 0.6226499410143389 and parameters: {'n_layers': 9, 'n_units_0': 22, 'n_units_1': 92, 'n_units_2': 53, 'n_units_3': 3, 'n_units_4': 44, 'n_units_5': 63, 'n_units_6': 2, 'n_units_7': 26, 'n_units_8': 75, 'activation': 'tanh', 'learning_rate': 'adaptive', 'batch_size': 128, 'threshold': 0.007418112380132964, 'n_components': 43}. Best is trial 12 with value: 0.7540897689169302.\u001b[0m\n"
          ]
        },
        {
          "name": "stdout",
          "output_type": "stream",
          "text": [
            "cross-val accuracy: 0.70449\n",
            "cross-val f1 score: 0.54081\n"
          ]
        },
        {
          "name": "stderr",
          "output_type": "stream",
          "text": [
            "\u001b[32m[I 2021-12-02 19:37:46,599]\u001b[0m Trial 21 finished with value: 0.7462287361227469 and parameters: {'n_layers': 8, 'n_units_0': 98, 'n_units_1': 100, 'n_units_2': 73, 'n_units_3': 99, 'n_units_4': 99, 'n_units_5': 94, 'n_units_6': 95, 'n_units_7': 87, 'activation': 'tanh', 'learning_rate': 'adaptive', 'batch_size': 128, 'threshold': 0.05903025689942485, 'n_components': 23}. Best is trial 12 with value: 0.7540897689169302.\u001b[0m\n"
          ]
        },
        {
          "name": "stdout",
          "output_type": "stream",
          "text": [
            "cross-val accuracy: 0.73763\n",
            "cross-val f1 score: 0.75483\n"
          ]
        },
        {
          "name": "stderr",
          "output_type": "stream",
          "text": [
            "\u001b[32m[I 2021-12-02 19:41:03,863]\u001b[0m Trial 22 finished with value: 0.747096952552007 and parameters: {'n_layers': 8, 'n_units_0': 100, 'n_units_1': 99, 'n_units_2': 83, 'n_units_3': 91, 'n_units_4': 85, 'n_units_5': 87, 'n_units_6': 100, 'n_units_7': 78, 'activation': 'tanh', 'learning_rate': 'adaptive', 'batch_size': 128, 'threshold': 0.059892038378734705, 'n_components': 24}. Best is trial 12 with value: 0.7540897689169302.\u001b[0m\n"
          ]
        },
        {
          "name": "stdout",
          "output_type": "stream",
          "text": [
            "cross-val accuracy: 0.73996\n",
            "cross-val f1 score: 0.75423\n"
          ]
        },
        {
          "name": "stderr",
          "output_type": "stream",
          "text": [
            "\u001b[32m[I 2021-12-02 19:43:38,560]\u001b[0m Trial 23 finished with value: 0.7446623271332851 and parameters: {'n_layers': 7, 'n_units_0': 92, 'n_units_1': 78, 'n_units_2': 69, 'n_units_3': 90, 'n_units_4': 87, 'n_units_5': 100, 'n_units_6': 81, 'activation': 'tanh', 'learning_rate': 'adaptive', 'batch_size': 128, 'threshold': 0.05313234045251982, 'n_components': 28}. Best is trial 12 with value: 0.7540897689169302.\u001b[0m\n"
          ]
        },
        {
          "name": "stdout",
          "output_type": "stream",
          "text": [
            "cross-val accuracy: 0.74463\n",
            "cross-val f1 score: 0.74469\n"
          ]
        },
        {
          "name": "stderr",
          "output_type": "stream",
          "text": [
            "\u001b[32m[I 2021-12-02 19:46:33,506]\u001b[0m Trial 24 finished with value: 0.744098968872213 and parameters: {'n_layers': 9, 'n_units_0': 85, 'n_units_1': 91, 'n_units_2': 48, 'n_units_3': 100, 'n_units_4': 67, 'n_units_5': 70, 'n_units_6': 85, 'n_units_7': 100, 'n_units_8': 11, 'activation': 'tanh', 'learning_rate': 'adaptive', 'batch_size': 128, 'threshold': 0.04343069107603502, 'n_components': 21}. Best is trial 12 with value: 0.7540897689169302.\u001b[0m\n"
          ]
        },
        {
          "name": "stdout",
          "output_type": "stream",
          "text": [
            "cross-val accuracy: 0.74627\n",
            "cross-val f1 score: 0.74193\n"
          ]
        },
        {
          "name": "stderr",
          "output_type": "stream",
          "text": [
            "\u001b[32m[I 2021-12-02 19:50:09,956]\u001b[0m Trial 25 finished with value: 0.7490678722691457 and parameters: {'n_layers': 10, 'n_units_0': 68, 'n_units_1': 67, 'n_units_2': 95, 'n_units_3': 69, 'n_units_4': 89, 'n_units_5': 86, 'n_units_6': 65, 'n_units_7': 83, 'n_units_8': 85, 'n_units_9': 100, 'activation': 'tanh', 'learning_rate': 'adaptive', 'batch_size': 128, 'threshold': 0.05383767438888315, 'n_components': 25}. Best is trial 12 with value: 0.7540897689169302.\u001b[0m\n"
          ]
        },
        {
          "name": "stdout",
          "output_type": "stream",
          "text": [
            "cross-val accuracy: 0.74627\n",
            "cross-val f1 score: 0.75187\n"
          ]
        },
        {
          "name": "stderr",
          "output_type": "stream",
          "text": [
            "\u001b[32m[I 2021-12-02 19:53:27,783]\u001b[0m Trial 26 finished with value: 0.742320877477926 and parameters: {'n_layers': 10, 'n_units_0': 47, 'n_units_1': 67, 'n_units_2': 96, 'n_units_3': 68, 'n_units_4': 93, 'n_units_5': 86, 'n_units_6': 58, 'n_units_7': 80, 'n_units_8': 90, 'n_units_9': 97, 'activation': 'tanh', 'learning_rate': 'adaptive', 'batch_size': 128, 'threshold': 0.05260890626524509, 'n_components': 25}. Best is trial 12 with value: 0.7540897689169302.\u001b[0m\n"
          ]
        },
        {
          "name": "stdout",
          "output_type": "stream",
          "text": [
            "cross-val accuracy: 0.743\n",
            "cross-val f1 score: 0.74165\n"
          ]
        },
        {
          "name": "stderr",
          "output_type": "stream",
          "text": [
            "\u001b[32m[I 2021-12-02 19:56:20,857]\u001b[0m Trial 27 finished with value: 0.7517706949886738 and parameters: {'n_layers': 10, 'n_units_0': 64, 'n_units_1': 60, 'n_units_2': 84, 'n_units_3': 67, 'n_units_4': 88, 'n_units_5': 43, 'n_units_6': 36, 'n_units_7': 45, 'n_units_8': 84, 'n_units_9': 100, 'activation': 'tanh', 'learning_rate': 'adaptive', 'batch_size': 128, 'threshold': 0.04512258630286361, 'n_components': 29}. Best is trial 12 with value: 0.7540897689169302.\u001b[0m\n"
          ]
        },
        {
          "name": "stdout",
          "output_type": "stream",
          "text": [
            "cross-val accuracy: 0.7507\n",
            "cross-val f1 score: 0.75284\n"
          ]
        },
        {
          "name": "stderr",
          "output_type": "stream",
          "text": [
            "\u001b[32m[I 2021-12-02 19:58:44,263]\u001b[0m Trial 28 finished with value: 0.7403539693271077 and parameters: {'n_layers': 9, 'n_units_0': 62, 'n_units_1': 56, 'n_units_2': 82, 'n_units_3': 85, 'n_units_4': 71, 'n_units_5': 37, 'n_units_6': 36, 'n_units_7': 36, 'n_units_8': 57, 'activation': 'tanh', 'learning_rate': 'adaptive', 'batch_size': 256, 'threshold': 0.045756307093660895, 'n_components': 32}. Best is trial 12 with value: 0.7540897689169302.\u001b[0m\n"
          ]
        },
        {
          "name": "stdout",
          "output_type": "stream",
          "text": [
            "cross-val accuracy: 0.7381\n",
            "cross-val f1 score: 0.74261\n"
          ]
        },
        {
          "name": "stderr",
          "output_type": "stream",
          "text": [
            "\u001b[32m[I 2021-12-02 20:00:07,028]\u001b[0m Trial 29 finished with value: 0.7209162985660018 and parameters: {'n_layers': 6, 'n_units_0': 45, 'n_units_1': 36, 'n_units_2': 68, 'n_units_3': 60, 'n_units_4': 83, 'n_units_5': 33, 'activation': 'tanh', 'learning_rate': 'adaptive', 'batch_size': 512, 'threshold': 0.018079121640312043, 'n_components': 38}. Best is trial 12 with value: 0.7540897689169302.\u001b[0m\n"
          ]
        },
        {
          "name": "stdout",
          "output_type": "stream",
          "text": [
            "cross-val accuracy: 0.70448\n",
            "cross-val f1 score: 0.73735\n"
          ]
        },
        {
          "name": "stderr",
          "output_type": "stream",
          "text": [
            "\u001b[32m[I 2021-12-02 20:02:37,063]\u001b[0m Trial 30 finished with value: 0.747468937689705 and parameters: {'n_layers': 10, 'n_units_0': 72, 'n_units_1': 82, 'n_units_2': 53, 'n_units_3': 27, 'n_units_4': 100, 'n_units_5': 48, 'n_units_6': 32, 'n_units_7': 42, 'n_units_8': 90, 'n_units_9': 44, 'activation': 'tanh', 'learning_rate': 'adaptive', 'batch_size': 128, 'threshold': 0.04180015816901668, 'n_components': 28}. Best is trial 12 with value: 0.7540897689169302.\u001b[0m\n"
          ]
        },
        {
          "name": "stdout",
          "output_type": "stream",
          "text": [
            "cross-val accuracy: 0.7444\n",
            "cross-val f1 score: 0.75054\n"
          ]
        },
        {
          "name": "stderr",
          "output_type": "stream",
          "text": [
            "\u001b[32m[I 2021-12-02 20:05:53,649]\u001b[0m Trial 31 finished with value: 0.7515863540697965 and parameters: {'n_layers': 10, 'n_units_0': 62, 'n_units_1': 60, 'n_units_2': 89, 'n_units_3': 72, 'n_units_4': 91, 'n_units_5': 90, 'n_units_6': 62, 'n_units_7': 62, 'n_units_8': 86, 'n_units_9': 99, 'activation': 'tanh', 'learning_rate': 'adaptive', 'batch_size': 128, 'threshold': 0.05480434779256017, 'n_components': 25}. Best is trial 12 with value: 0.7540897689169302.\u001b[0m\n"
          ]
        },
        {
          "name": "stdout",
          "output_type": "stream",
          "text": [
            "cross-val accuracy: 0.7486\n",
            "cross-val f1 score: 0.75457\n"
          ]
        },
        {
          "name": "stderr",
          "output_type": "stream",
          "text": [
            "\u001b[32m[I 2021-12-02 20:08:46,358]\u001b[0m Trial 32 finished with value: 0.7414997551769149 and parameters: {'n_layers': 9, 'n_units_0': 57, 'n_units_1': 57, 'n_units_2': 90, 'n_units_3': 72, 'n_units_4': 92, 'n_units_5': 90, 'n_units_6': 47, 'n_units_7': 58, 'n_units_8': 86, 'activation': 'tanh', 'learning_rate': 'adaptive', 'batch_size': 128, 'threshold': 0.04875765117681235, 'n_components': 28}. Best is trial 12 with value: 0.7540897689169302.\u001b[0m\n"
          ]
        },
        {
          "name": "stdout",
          "output_type": "stream",
          "text": [
            "cross-val accuracy: 0.74137\n",
            "cross-val f1 score: 0.74163\n"
          ]
        },
        {
          "name": "stderr",
          "output_type": "stream",
          "text": [
            "\u001b[32m[I 2021-12-02 20:11:20,406]\u001b[0m Trial 33 finished with value: 0.7483089263027155 and parameters: {'n_layers': 10, 'n_units_0': 42, 'n_units_1': 46, 'n_units_2': 86, 'n_units_3': 84, 'n_units_4': 80, 'n_units_5': 22, 'n_units_6': 9, 'n_units_7': 45, 'n_units_8': 59, 'n_units_9': 78, 'activation': 'tanh', 'learning_rate': 'adaptive', 'batch_size': 128, 'threshold': 0.0551905922527607, 'n_components': 23}. Best is trial 12 with value: 0.7540897689169302.\u001b[0m\n"
          ]
        },
        {
          "name": "stdout",
          "output_type": "stream",
          "text": [
            "cross-val accuracy: 0.74626\n",
            "cross-val f1 score: 0.75036\n"
          ]
        },
        {
          "name": "stderr",
          "output_type": "stream",
          "text": [
            "\u001b[32m[I 2021-12-02 20:13:52,806]\u001b[0m Trial 34 finished with value: 0.7278915606921605 and parameters: {'n_layers': 9, 'n_units_0': 29, 'n_units_1': 76, 'n_units_2': 81, 'n_units_3': 59, 'n_units_4': 94, 'n_units_5': 41, 'n_units_6': 45, 'n_units_7': 24, 'n_units_8': 100, 'activation': 'tanh', 'learning_rate': 'adaptive', 'batch_size': 512, 'threshold': 0.05132141458436111, 'n_components': 20}. Best is trial 12 with value: 0.7540897689169302.\u001b[0m\n"
          ]
        },
        {
          "name": "stdout",
          "output_type": "stream",
          "text": [
            "cross-val accuracy: 0.72152\n",
            "cross-val f1 score: 0.73426\n"
          ]
        },
        {
          "name": "stderr",
          "output_type": "stream",
          "text": [
            "\u001b[32m[I 2021-12-02 20:15:48,875]\u001b[0m Trial 35 finished with value: 0.7436183705926072 and parameters: {'n_layers': 8, 'n_units_0': 53, 'n_units_1': 31, 'n_units_2': 88, 'n_units_3': 49, 'n_units_4': 59, 'n_units_5': 61, 'n_units_6': 21, 'n_units_7': 67, 'activation': 'tanh', 'learning_rate': 'adaptive', 'batch_size': 128, 'threshold': 0.056225053502736155, 'n_components': 26}. Best is trial 12 with value: 0.7540897689169302.\u001b[0m\n"
          ]
        },
        {
          "name": "stdout",
          "output_type": "stream",
          "text": [
            "cross-val accuracy: 0.74043\n",
            "cross-val f1 score: 0.74681\n"
          ]
        },
        {
          "name": "stderr",
          "output_type": "stream",
          "text": [
            "\u001b[32m[I 2021-12-02 20:19:04,585]\u001b[0m Trial 36 finished with value: 0.7309133990752084 and parameters: {'n_layers': 10, 'n_units_0': 62, 'n_units_1': 62, 'n_units_2': 100, 'n_units_3': 93, 'n_units_4': 100, 'n_units_5': 4, 'n_units_6': 89, 'n_units_7': 52, 'n_units_8': 80, 'n_units_9': 75, 'activation': 'tanh', 'learning_rate': 'adaptive', 'batch_size': 512, 'threshold': 0.046649964418250166, 'n_components': 30}. Best is trial 12 with value: 0.7540897689169302.\u001b[0m\n"
          ]
        },
        {
          "name": "stdout",
          "output_type": "stream",
          "text": [
            "cross-val accuracy: 0.72386\n",
            "cross-val f1 score: 0.73797\n"
          ]
        },
        {
          "name": "stderr",
          "output_type": "stream",
          "text": [
            "\u001b[32m[I 2021-12-02 20:19:49,104]\u001b[0m Trial 37 finished with value: 0.732158602518922 and parameters: {'n_layers': 2, 'n_units_0': 76, 'n_units_1': 73, 'activation': 'tanh', 'learning_rate': 'adaptive', 'batch_size': 128, 'threshold': 0.056180276226262746, 'n_components': 25}. Best is trial 12 with value: 0.7540897689169302.\u001b[0m\n"
          ]
        },
        {
          "name": "stdout",
          "output_type": "stream",
          "text": [
            "cross-val accuracy: 0.72922\n",
            "cross-val f1 score: 0.73509\n"
          ]
        },
        {
          "name": "stderr",
          "output_type": "stream",
          "text": [
            "\u001b[32m[I 2021-12-02 20:22:34,590]\u001b[0m Trial 38 finished with value: 0.7430988398388749 and parameters: {'n_layers': 9, 'n_units_0': 84, 'n_units_1': 27, 'n_units_2': 64, 'n_units_3': 75, 'n_units_4': 54, 'n_units_5': 77, 'n_units_6': 62, 'n_units_7': 89, 'n_units_8': 66, 'activation': 'tanh', 'learning_rate': 'adaptive', 'batch_size': 128, 'threshold': 0.059970744940837345, 'n_components': 22}. Best is trial 12 with value: 0.7540897689169302.\u001b[0m\n"
          ]
        },
        {
          "name": "stdout",
          "output_type": "stream",
          "text": [
            "cross-val accuracy: 0.7479\n",
            "cross-val f1 score: 0.7383\n"
          ]
        },
        {
          "name": "stderr",
          "output_type": "stream",
          "text": [
            "\u001b[32m[I 2021-12-02 20:24:00,419]\u001b[0m Trial 39 finished with value: 0.7275974729008783 and parameters: {'n_layers': 5, 'n_units_0': 63, 'n_units_1': 87, 'n_units_2': 38, 'n_units_3': 63, 'n_units_4': 82, 'activation': 'tanh', 'learning_rate': 'adaptive', 'batch_size': 512, 'threshold': 0.03828376523462583, 'n_components': 27}. Best is trial 12 with value: 0.7540897689169302.\u001b[0m\n"
          ]
        },
        {
          "name": "stdout",
          "output_type": "stream",
          "text": [
            "cross-val accuracy: 0.72432\n",
            "cross-val f1 score: 0.73087\n"
          ]
        }
      ]
    },
    {
      "cell_type": "markdown",
      "metadata": {
        "id": "ocrzPe4fmcNJ"
      },
      "source": [
        "Δοκιμάζουμε στη συνέχεια την ακόλουθη αρχιτεκτονική Variance Threshold (με theshold = 0) - Scaler - MLP (με 'sgd' solver), όπου ως scaler χρησιμοποιούμε είτε Standard Scaler είτε MinMax Scaler, ενώ τη Variance Threshold τη χρησιμοποιούμε απλά για να αφαιρέσουμε χαρακτηριστικά μηδενικής διακύμανσης, τα οποία προφανώς δε μπορούν να συμβάλλουν στη διαδικασία της εκπαίδευσης του δικτύου. "
      ]
    },
    {
      "cell_type": "code",
      "metadata": {
        "colab": {
          "base_uri": "https://localhost:8080/"
        },
        "id": "y7T7218Rnl3v",
        "outputId": "298b6eb8-a10e-4834-b7a6-0b2bc25b3fbe"
      },
      "source": [
        "# Variance Threshold (threshold = 0) - MinMax Scaler/Standard Scaler - MLP \n",
        "\n",
        "def objective(trial):\n",
        "\n",
        "    n_layers = trial.suggest_int('n_layers', 1, 10)\n",
        "    layers = []\n",
        "    for i in range(n_layers):\n",
        "        layers.append(trial.suggest_int(f'n_units_{i}', 1, 100))\n",
        "\n",
        "    activation = trial.suggest_categorical('activation', ['relu', 'tanh'])\n",
        "    learning_rate = trial.suggest_categorical('learning_rate', ['constant', 'adaptive'])\n",
        "    batch_size = trial.suggest_categorical('batch_size', [128, 256, 512])\n",
        "\n",
        "    mlp = MLPClassifier(hidden_layer_sizes = tuple(layers), activation = activation,  solver = 'sgd', learning_rate = learning_rate, batch_size = batch_size, max_iter = 10000, early_stopping = True)\n",
        "    \n",
        "    n_components = trial.suggest_int('n_components', 15, 80)\n",
        "\n",
        "    scaler = trial.suggest_categorical('scaler', ['minmax_scaler', 'standard_scaler'])\n",
        "    if scaler == 'minmax_scaler':\n",
        "      clf = Pipeline(steps = [('selector', VarianceThreshold(threshold = 0)), ('minmax_scaler', preprocessing.MinMaxScaler()), ('mlp', mlp)])\n",
        "    else:\n",
        "      clf = Pipeline(steps = [('selector', VarianceThreshold(threshold = 0)), ('minmax_scaler', preprocessing.StandardScaler()), ('mlp', mlp)])\n",
        "\n",
        "    return np.mean(cross_val_score(clf, X_train_small, y_train_small, cv = 5, scoring = 'accuracy'))\n",
        "\n",
        "study = optuna.create_study(direction = 'maximize')\n",
        "study.optimize(objective, n_trials = 40)"
      ],
      "execution_count": null,
      "outputs": [
        {
          "name": "stderr",
          "output_type": "stream",
          "text": [
            "\u001b[32m[I 2021-12-02 20:26:31,534]\u001b[0m A new study created in memory with name: no-name-12e0d3e5-01bb-4aa2-b304-b3048484c8ca\u001b[0m\n",
            "\u001b[32m[I 2021-12-02 20:26:44,489]\u001b[0m Trial 0 finished with value: 0.6076298541968834 and parameters: {'n_layers': 7, 'n_units_0': 75, 'n_units_1': 13, 'n_units_2': 35, 'n_units_3': 27, 'n_units_4': 27, 'n_units_5': 94, 'n_units_6': 70, 'activation': 'relu', 'learning_rate': 'constant', 'batch_size': 512, 'n_components': 56, 'scaler': 'standard_scaler'}. Best is trial 0 with value: 0.6076298541968834.\u001b[0m\n",
            "\u001b[32m[I 2021-12-02 20:26:56,718]\u001b[0m Trial 1 finished with value: 0.5648840227265292 and parameters: {'n_layers': 9, 'n_units_0': 100, 'n_units_1': 5, 'n_units_2': 1, 'n_units_3': 70, 'n_units_4': 35, 'n_units_5': 27, 'n_units_6': 10, 'n_units_7': 30, 'n_units_8': 78, 'activation': 'tanh', 'learning_rate': 'constant', 'batch_size': 512, 'n_components': 56, 'scaler': 'minmax_scaler'}. Best is trial 0 with value: 0.6076298541968834.\u001b[0m\n",
            "\u001b[32m[I 2021-12-02 20:28:12,037]\u001b[0m Trial 2 finished with value: 0.7245588828667706 and parameters: {'n_layers': 9, 'n_units_0': 75, 'n_units_1': 89, 'n_units_2': 39, 'n_units_3': 49, 'n_units_4': 19, 'n_units_5': 30, 'n_units_6': 82, 'n_units_7': 1, 'n_units_8': 93, 'activation': 'tanh', 'learning_rate': 'adaptive', 'batch_size': 128, 'n_components': 27, 'scaler': 'standard_scaler'}. Best is trial 2 with value: 0.7245588828667706.\u001b[0m\n",
            "\u001b[32m[I 2021-12-02 20:28:19,418]\u001b[0m Trial 3 finished with value: 0.6260218213939083 and parameters: {'n_layers': 4, 'n_units_0': 44, 'n_units_1': 3, 'n_units_2': 93, 'n_units_3': 1, 'activation': 'relu', 'learning_rate': 'constant', 'batch_size': 128, 'n_components': 57, 'scaler': 'standard_scaler'}. Best is trial 2 with value: 0.7245588828667706.\u001b[0m\n",
            "\u001b[32m[I 2021-12-02 20:28:39,110]\u001b[0m Trial 4 finished with value: 0.7107738361377987 and parameters: {'n_layers': 3, 'n_units_0': 32, 'n_units_1': 57, 'n_units_2': 55, 'activation': 'relu', 'learning_rate': 'adaptive', 'batch_size': 128, 'n_components': 18, 'scaler': 'minmax_scaler'}. Best is trial 2 with value: 0.7245588828667706.\u001b[0m\n",
            "\u001b[32m[I 2021-12-02 20:28:52,169]\u001b[0m Trial 5 finished with value: 0.7338959530638285 and parameters: {'n_layers': 1, 'n_units_0': 42, 'activation': 'tanh', 'learning_rate': 'adaptive', 'batch_size': 128, 'n_components': 17, 'scaler': 'standard_scaler'}. Best is trial 5 with value: 0.7338959530638285.\u001b[0m\n",
            "\u001b[32m[I 2021-12-02 20:29:10,662]\u001b[0m Trial 6 finished with value: 0.7327304550758459 and parameters: {'n_layers': 3, 'n_units_0': 17, 'n_units_1': 66, 'n_units_2': 53, 'activation': 'relu', 'learning_rate': 'adaptive', 'batch_size': 256, 'n_components': 65, 'scaler': 'minmax_scaler'}. Best is trial 5 with value: 0.7338959530638285.\u001b[0m\n",
            "\u001b[32m[I 2021-12-02 20:29:43,335]\u001b[0m Trial 7 finished with value: 0.7028389077307277 and parameters: {'n_layers': 8, 'n_units_0': 34, 'n_units_1': 37, 'n_units_2': 57, 'n_units_3': 33, 'n_units_4': 98, 'n_units_5': 30, 'n_units_6': 88, 'n_units_7': 97, 'activation': 'tanh', 'learning_rate': 'constant', 'batch_size': 512, 'n_components': 57, 'scaler': 'standard_scaler'}. Best is trial 5 with value: 0.7338959530638285.\u001b[0m\n",
            "\u001b[32m[I 2021-12-02 20:30:12,542]\u001b[0m Trial 8 finished with value: 0.6433213557399753 and parameters: {'n_layers': 10, 'n_units_0': 45, 'n_units_1': 33, 'n_units_2': 38, 'n_units_3': 78, 'n_units_4': 32, 'n_units_5': 79, 'n_units_6': 39, 'n_units_7': 31, 'n_units_8': 92, 'n_units_9': 33, 'activation': 'relu', 'learning_rate': 'constant', 'batch_size': 128, 'n_components': 54, 'scaler': 'minmax_scaler'}. Best is trial 5 with value: 0.7338959530638285.\u001b[0m\n",
            "\u001b[32m[I 2021-12-02 20:30:23,417]\u001b[0m Trial 9 finished with value: 0.5310706768885157 and parameters: {'n_layers': 9, 'n_units_0': 99, 'n_units_1': 28, 'n_units_2': 92, 'n_units_3': 18, 'n_units_4': 66, 'n_units_5': 76, 'n_units_6': 10, 'n_units_7': 15, 'n_units_8': 85, 'activation': 'relu', 'learning_rate': 'constant', 'batch_size': 256, 'n_components': 33, 'scaler': 'standard_scaler'}. Best is trial 5 with value: 0.7338959530638285.\u001b[0m\n",
            "\u001b[32m[I 2021-12-02 20:30:28,018]\u001b[0m Trial 10 finished with value: 0.7205828307833237 and parameters: {'n_layers': 1, 'n_units_0': 5, 'activation': 'tanh', 'learning_rate': 'adaptive', 'batch_size': 128, 'n_components': 37, 'scaler': 'standard_scaler'}. Best is trial 5 with value: 0.7338959530638285.\u001b[0m\n",
            "\u001b[32m[I 2021-12-02 20:30:34,489]\u001b[0m Trial 11 finished with value: 0.7245575197112292 and parameters: {'n_layers': 1, 'n_units_0': 11, 'activation': 'tanh', 'learning_rate': 'adaptive', 'batch_size': 256, 'n_components': 77, 'scaler': 'minmax_scaler'}. Best is trial 5 with value: 0.7338959530638285.\u001b[0m\n",
            "\u001b[32m[I 2021-12-02 20:30:53,894]\u001b[0m Trial 12 finished with value: 0.7145184244102988 and parameters: {'n_layers': 3, 'n_units_0': 22, 'n_units_1': 73, 'n_units_2': 72, 'activation': 'relu', 'learning_rate': 'adaptive', 'batch_size': 256, 'n_components': 73, 'scaler': 'minmax_scaler'}. Best is trial 5 with value: 0.7338959530638285.\u001b[0m\n",
            "\u001b[32m[I 2021-12-02 20:31:39,165]\u001b[0m Trial 13 finished with value: 0.7320237952431325 and parameters: {'n_layers': 5, 'n_units_0': 61, 'n_units_1': 99, 'n_units_2': 11, 'n_units_3': 97, 'n_units_4': 73, 'activation': 'tanh', 'learning_rate': 'adaptive', 'batch_size': 256, 'n_components': 69, 'scaler': 'minmax_scaler'}. Best is trial 5 with value: 0.7338959530638285.\u001b[0m\n",
            "\u001b[32m[I 2021-12-02 20:31:51,108]\u001b[0m Trial 14 finished with value: 0.7126498107940107 and parameters: {'n_layers': 2, 'n_units_0': 21, 'n_units_1': 68, 'activation': 'relu', 'learning_rate': 'adaptive', 'batch_size': 256, 'n_components': 43, 'scaler': 'minmax_scaler'}. Best is trial 5 with value: 0.7338959530638285.\u001b[0m\n",
            "\u001b[32m[I 2021-12-02 20:32:32,879]\u001b[0m Trial 15 finished with value: 0.7236234855341934 and parameters: {'n_layers': 5, 'n_units_0': 57, 'n_units_1': 55, 'n_units_2': 78, 'n_units_3': 97, 'n_units_4': 3, 'activation': 'tanh', 'learning_rate': 'adaptive', 'batch_size': 128, 'n_components': 15, 'scaler': 'standard_scaler'}. Best is trial 5 with value: 0.7338959530638285.\u001b[0m\n",
            "\u001b[32m[I 2021-12-02 20:32:42,283]\u001b[0m Trial 16 finished with value: 0.5926495926891242 and parameters: {'n_layers': 3, 'n_units_0': 1, 'n_units_1': 79, 'n_units_2': 21, 'activation': 'relu', 'learning_rate': 'adaptive', 'batch_size': 256, 'n_components': 66, 'scaler': 'standard_scaler'}. Best is trial 5 with value: 0.7338959530638285.\u001b[0m\n",
            "\u001b[32m[I 2021-12-02 20:32:56,620]\u001b[0m Trial 17 finished with value: 0.724787347735526 and parameters: {'n_layers': 2, 'n_units_0': 18, 'n_units_1': 49, 'activation': 'tanh', 'learning_rate': 'adaptive', 'batch_size': 256, 'n_components': 46, 'scaler': 'minmax_scaler'}. Best is trial 5 with value: 0.7338959530638285.\u001b[0m\n",
            "\u001b[32m[I 2021-12-02 20:33:55,994]\u001b[0m Trial 18 finished with value: 0.7352940053871907 and parameters: {'n_layers': 6, 'n_units_0': 35, 'n_units_1': 85, 'n_units_2': 69, 'n_units_3': 57, 'n_units_4': 98, 'n_units_5': 1, 'activation': 'tanh', 'learning_rate': 'adaptive', 'batch_size': 128, 'n_components': 25, 'scaler': 'minmax_scaler'}. Best is trial 18 with value: 0.7352940053871907.\u001b[0m\n",
            "\u001b[32m[I 2021-12-02 20:34:54,758]\u001b[0m Trial 19 finished with value: 0.737862735689593 and parameters: {'n_layers': 6, 'n_units_0': 35, 'n_units_1': 95, 'n_units_2': 73, 'n_units_3': 58, 'n_units_4': 99, 'n_units_5': 6, 'activation': 'tanh', 'learning_rate': 'adaptive', 'batch_size': 128, 'n_components': 22, 'scaler': 'standard_scaler'}. Best is trial 19 with value: 0.737862735689593.\u001b[0m\n",
            "\u001b[32m[I 2021-12-02 20:35:47,021]\u001b[0m Trial 20 finished with value: 0.6298018517104876 and parameters: {'n_layers': 6, 'n_units_0': 31, 'n_units_1': 98, 'n_units_2': 72, 'n_units_3': 55, 'n_units_4': 97, 'n_units_5': 1, 'activation': 'tanh', 'learning_rate': 'adaptive', 'batch_size': 128, 'n_components': 26, 'scaler': 'standard_scaler'}. Best is trial 19 with value: 0.737862735689593.\u001b[0m\n",
            "\u001b[32m[I 2021-12-02 20:36:40,822]\u001b[0m Trial 21 finished with value: 0.707975823073316 and parameters: {'n_layers': 6, 'n_units_0': 40, 'n_units_1': 80, 'n_units_2': 81, 'n_units_3': 56, 'n_units_4': 79, 'n_units_5': 1, 'activation': 'tanh', 'learning_rate': 'adaptive', 'batch_size': 128, 'n_components': 23, 'scaler': 'standard_scaler'}. Best is trial 19 with value: 0.737862735689593.\u001b[0m\n",
            "\u001b[32m[I 2021-12-02 20:37:46,614]\u001b[0m Trial 22 finished with value: 0.7385603986957328 and parameters: {'n_layers': 7, 'n_units_0': 56, 'n_units_1': 89, 'n_units_2': 63, 'n_units_3': 69, 'n_units_4': 85, 'n_units_5': 16, 'n_units_6': 49, 'activation': 'tanh', 'learning_rate': 'adaptive', 'batch_size': 128, 'n_components': 33, 'scaler': 'standard_scaler'}. Best is trial 22 with value: 0.7385603986957328.\u001b[0m\n",
            "\u001b[32m[I 2021-12-02 20:38:58,226]\u001b[0m Trial 23 finished with value: 0.7320267941853238 and parameters: {'n_layers': 7, 'n_units_0': 62, 'n_units_1': 88, 'n_units_2': 65, 'n_units_3': 72, 'n_units_4': 88, 'n_units_5': 12, 'n_units_6': 44, 'activation': 'tanh', 'learning_rate': 'adaptive', 'batch_size': 128, 'n_components': 34, 'scaler': 'standard_scaler'}. Best is trial 22 with value: 0.7385603986957328.\u001b[0m\n",
            "\u001b[32m[I 2021-12-02 20:39:57,007]\u001b[0m Trial 24 finished with value: 0.7257241082236447 and parameters: {'n_layers': 7, 'n_units_0': 54, 'n_units_1': 89, 'n_units_2': 65, 'n_units_3': 46, 'n_units_4': 100, 'n_units_5': 12, 'n_units_6': 60, 'activation': 'tanh', 'learning_rate': 'adaptive', 'batch_size': 128, 'n_components': 39, 'scaler': 'standard_scaler'}. Best is trial 22 with value: 0.7385603986957328.\u001b[0m\n",
            "\u001b[32m[I 2021-12-02 20:40:57,585]\u001b[0m Trial 25 finished with value: 0.740662657171834 and parameters: {'n_layers': 6, 'n_units_0': 66, 'n_units_1': 100, 'n_units_2': 86, 'n_units_3': 65, 'n_units_4': 55, 'n_units_5': 50, 'activation': 'tanh', 'learning_rate': 'adaptive', 'batch_size': 128, 'n_components': 30, 'scaler': 'standard_scaler'}. Best is trial 25 with value: 0.740662657171834.\u001b[0m\n",
            "\u001b[32m[I 2021-12-02 20:42:25,127]\u001b[0m Trial 26 finished with value: 0.7378621904273766 and parameters: {'n_layers': 8, 'n_units_0': 69, 'n_units_1': 98, 'n_units_2': 100, 'n_units_3': 83, 'n_units_4': 61, 'n_units_5': 52, 'n_units_6': 29, 'n_units_7': 79, 'activation': 'tanh', 'learning_rate': 'adaptive', 'batch_size': 128, 'n_components': 30, 'scaler': 'standard_scaler'}. Best is trial 25 with value: 0.740662657171834.\u001b[0m\n",
            "\u001b[32m[I 2021-12-02 20:43:19,547]\u001b[0m Trial 27 finished with value: 0.731327222761426 and parameters: {'n_layers': 5, 'n_units_0': 88, 'n_units_1': 100, 'n_units_2': 87, 'n_units_3': 68, 'n_units_4': 56, 'activation': 'tanh', 'learning_rate': 'adaptive', 'batch_size': 512, 'n_components': 21, 'scaler': 'standard_scaler'}. Best is trial 25 with value: 0.740662657171834.\u001b[0m\n",
            "\u001b[32m[I 2021-12-02 20:44:31,098]\u001b[0m Trial 28 finished with value: 0.7268923325227102 and parameters: {'n_layers': 8, 'n_units_0': 50, 'n_units_1': 77, 'n_units_2': 81, 'n_units_3': 63, 'n_units_4': 48, 'n_units_5': 49, 'n_units_6': 98, 'n_units_7': 66, 'activation': 'tanh', 'learning_rate': 'adaptive', 'batch_size': 128, 'n_components': 30, 'scaler': 'standard_scaler'}. Best is trial 25 with value: 0.740662657171834.\u001b[0m\n",
            "\u001b[32m[I 2021-12-02 20:44:54,892]\u001b[0m Trial 29 finished with value: 0.7131154647269872 and parameters: {'n_layers': 7, 'n_units_0': 85, 'n_units_1': 92, 'n_units_2': 45, 'n_units_3': 84, 'n_units_4': 82, 'n_units_5': 48, 'n_units_6': 29, 'activation': 'tanh', 'learning_rate': 'constant', 'batch_size': 512, 'n_components': 40, 'scaler': 'standard_scaler'}. Best is trial 25 with value: 0.740662657171834.\u001b[0m\n",
            "\u001b[32m[I 2021-12-02 20:45:43,042]\u001b[0m Trial 30 finished with value: 0.7303882812244408 and parameters: {'n_layers': 6, 'n_units_0': 73, 'n_units_1': 65, 'n_units_2': 61, 'n_units_3': 41, 'n_units_4': 45, 'n_units_5': 20, 'activation': 'tanh', 'learning_rate': 'adaptive', 'batch_size': 128, 'n_components': 51, 'scaler': 'standard_scaler'}. Best is trial 25 with value: 0.740662657171834.\u001b[0m\n",
            "\u001b[32m[I 2021-12-02 20:47:00,872]\u001b[0m Trial 31 finished with value: 0.7383308433025443 and parameters: {'n_layers': 8, 'n_units_0': 71, 'n_units_1': 93, 'n_units_2': 94, 'n_units_3': 83, 'n_units_4': 62, 'n_units_5': 60, 'n_units_6': 26, 'n_units_7': 78, 'activation': 'tanh', 'learning_rate': 'adaptive', 'batch_size': 128, 'n_components': 30, 'scaler': 'standard_scaler'}. Best is trial 25 with value: 0.740662657171834.\u001b[0m\n",
            "\u001b[32m[I 2021-12-02 20:48:16,830]\u001b[0m Trial 32 finished with value: 0.7303931885843903 and parameters: {'n_layers': 8, 'n_units_0': 66, 'n_units_1': 93, 'n_units_2': 88, 'n_units_3': 88, 'n_units_4': 71, 'n_units_5': 62, 'n_units_6': 24, 'n_units_7': 56, 'activation': 'tanh', 'learning_rate': 'adaptive', 'batch_size': 128, 'n_components': 31, 'scaler': 'standard_scaler'}. Best is trial 25 with value: 0.740662657171834.\u001b[0m\n",
            "\u001b[32m[I 2021-12-02 20:49:35,358]\u001b[0m Trial 33 finished with value: 0.7320281573408652 and parameters: {'n_layers': 7, 'n_units_0': 83, 'n_units_1': 82, 'n_units_2': 100, 'n_units_3': 64, 'n_units_4': 87, 'n_units_5': 65, 'n_units_6': 58, 'activation': 'tanh', 'learning_rate': 'adaptive', 'batch_size': 128, 'n_components': 36, 'scaler': 'standard_scaler'}. Best is trial 25 with value: 0.740662657171834.\u001b[0m\n",
            "\u001b[32m[I 2021-12-02 20:50:02,380]\u001b[0m Trial 34 finished with value: 0.6832547246971068 and parameters: {'n_layers': 9, 'n_units_0': 50, 'n_units_1': 93, 'n_units_2': 78, 'n_units_3': 76, 'n_units_4': 55, 'n_units_5': 39, 'n_units_6': 51, 'n_units_7': 98, 'n_units_8': 1, 'activation': 'tanh', 'learning_rate': 'constant', 'batch_size': 128, 'n_components': 28, 'scaler': 'standard_scaler'}. Best is trial 25 with value: 0.740662657171834.\u001b[0m\n",
            "\u001b[32m[I 2021-12-02 20:50:55,264]\u001b[0m Trial 35 finished with value: 0.7245569744490126 and parameters: {'n_layers': 4, 'n_units_0': 78, 'n_units_1': 73, 'n_units_2': 87, 'n_units_3': 90, 'activation': 'tanh', 'learning_rate': 'adaptive', 'batch_size': 512, 'n_components': 22, 'scaler': 'standard_scaler'}. Best is trial 25 with value: 0.740662657171834.\u001b[0m\n",
            "\u001b[32m[I 2021-12-02 20:52:20,662]\u001b[0m Trial 36 finished with value: 0.7280581031418009 and parameters: {'n_layers': 10, 'n_units_0': 67, 'n_units_1': 17, 'n_units_2': 94, 'n_units_3': 62, 'n_units_4': 88, 'n_units_5': 15, 'n_units_6': 2, 'n_units_7': 73, 'n_units_8': 21, 'n_units_9': 98, 'activation': 'tanh', 'learning_rate': 'adaptive', 'batch_size': 128, 'n_components': 19, 'scaler': 'standard_scaler'}. Best is trial 25 with value: 0.740662657171834.\u001b[0m\n",
            "\u001b[32m[I 2021-12-02 20:53:23,004]\u001b[0m Trial 37 finished with value: 0.7306301050175029 and parameters: {'n_layers': 6, 'n_units_0': 57, 'n_units_1': 87, 'n_units_2': 73, 'n_units_3': 76, 'n_units_4': 75, 'n_units_5': 64, 'activation': 'tanh', 'learning_rate': 'adaptive', 'batch_size': 128, 'n_components': 42, 'scaler': 'standard_scaler'}. Best is trial 25 with value: 0.740662657171834.\u001b[0m\n",
            "\u001b[32m[I 2021-12-02 20:53:36,879]\u001b[0m Trial 38 finished with value: 0.7308645677706409 and parameters: {'n_layers': 4, 'n_units_0': 78, 'n_units_1': 94, 'n_units_2': 83, 'n_units_3': 39, 'activation': 'tanh', 'learning_rate': 'constant', 'batch_size': 128, 'n_components': 26, 'scaler': 'standard_scaler'}. Best is trial 25 with value: 0.740662657171834.\u001b[0m\n",
            "\u001b[32m[I 2021-12-02 20:54:41,544]\u001b[0m Trial 39 finished with value: 0.7308604783040165 and parameters: {'n_layers': 8, 'n_units_0': 72, 'n_units_1': 84, 'n_units_2': 28, 'n_units_3': 68, 'n_units_4': 41, 'n_units_5': 39, 'n_units_6': 39, 'n_units_7': 44, 'activation': 'tanh', 'learning_rate': 'adaptive', 'batch_size': 128, 'n_components': 34, 'scaler': 'standard_scaler'}. Best is trial 25 with value: 0.740662657171834.\u001b[0m\n"
          ]
        }
      ]
    },
    {
      "cell_type": "markdown",
      "metadata": {
        "id": "8FSZ2trZyhBN"
      },
      "source": [
        "Παρατηρούμε ότι και η αρχιτεκτονική αυτή επιτυγχάνει αρκετά υψηλά ποσοστά accuracy score, τόσο με χρήση Standard όσο και MinMax Scaler, αγγίζοντας μάλιστα το 0.74. Δεν ξεπερνά, ωστόσο το 0.752 accuracy score που πετύχαμε στις προηγούμενες δοκιμές.\n",
        "\n",
        "Έπειτα, δοκιμάζουμε και την αρχιτεκτονική (Scaler) - PCA - MLP (με 'sgd' solver), όπου η ύπαρξη ή όχι Scaler τίθεται ως επιλογή, ενώ σε περίπτωση ύπαρξης Scaler μπορούμε να επιλέξουμε και πάλι μεταξύ MinMax και Standard."
      ]
    },
    {
      "cell_type": "code",
      "metadata": {
        "colab": {
          "base_uri": "https://localhost:8080/"
        },
        "id": "epHov8mCzv3w",
        "outputId": "fe56ad06-51de-49d4-c355-7ce5f3040afd"
      },
      "source": [
        "# Variance Threshold (threshold = 0) - MinMax Scaler/StandardScaler/None - PCA - MLP\n",
        "\n",
        "def objective(trial):\n",
        "\n",
        "    n_layers = trial.suggest_int('n_layers', 1, 10)\n",
        "    layers = []\n",
        "    for i in range(n_layers):\n",
        "        layers.append(trial.suggest_int(f'n_units_{i}', 1, 100))\n",
        "\n",
        "    activation = trial.suggest_categorical('activation', ['relu', 'tanh'])\n",
        "    learning_rate = trial.suggest_categorical('learning_rate', ['constant', 'adaptive'])\n",
        "    batch_size = trial.suggest_categorical('batch_size', [128, 256, 512])\n",
        "\n",
        "    mlp = MLPClassifier(hidden_layer_sizes = tuple(layers), activation = activation,  solver = 'sgd', learning_rate = learning_rate, batch_size = batch_size, max_iter = 10000, early_stopping = True)\n",
        "    \n",
        "    n_components = trial.suggest_int('n_components', 15, 80)\n",
        "\n",
        "    scaler = trial.suggest_categorical('scaler', ['minmax_scaler', 'standard_scaler', 'none'])\n",
        "    if scaler == 'minmax_scaler':\n",
        "      clf = Pipeline(steps = [('selector', VarianceThreshold(threshold = 0)), ('minmax_scaler', preprocessing.MinMaxScaler()), ('pca', PCA(n_components = n_components)), ('mlp', mlp)])\n",
        "    elif scaler == 'standard_scaler':\n",
        "      clf = Pipeline(steps = [('selector', VarianceThreshold(threshold = 0)), ('minmax_scaler', preprocessing.StandardScaler()), ('pca', PCA(n_components = n_components)), ('mlp', mlp)])\n",
        "    else:\n",
        "      clf = Pipeline(steps = [('selector', VarianceThreshold(threshold = 0)), ('pca', PCA(n_components = n_components)), ('mlp', mlp)])\n",
        "\n",
        "    return np.mean(cross_val_score(clf, X_train_small, y_train_small, cv = 5, scoring = 'accuracy'))\n",
        "\n",
        "study = optuna.create_study(direction = 'maximize')\n",
        "study.optimize(objective, n_trials = 40)"
      ],
      "execution_count": null,
      "outputs": [
        {
          "name": "stderr",
          "output_type": "stream",
          "text": [
            "\u001b[32m[I 2021-12-02 20:55:10,859]\u001b[0m A new study created in memory with name: no-name-c433915b-cdac-4fac-a0f1-83e4dfe03def\u001b[0m\n",
            "\u001b[32m[I 2021-12-02 20:55:17,812]\u001b[0m Trial 0 finished with value: 0.5404189249610137 and parameters: {'n_layers': 10, 'n_units_0': 68, 'n_units_1': 8, 'n_units_2': 18, 'n_units_3': 8, 'n_units_4': 14, 'n_units_5': 47, 'n_units_6': 86, 'n_units_7': 34, 'n_units_8': 24, 'n_units_9': 25, 'activation': 'relu', 'learning_rate': 'constant', 'batch_size': 256, 'n_components': 36, 'scaler': 'minmax_scaler'}. Best is trial 0 with value: 0.5404189249610137.\u001b[0m\n",
            "\u001b[32m[I 2021-12-02 20:55:24,457]\u001b[0m Trial 1 finished with value: 0.5459882332413658 and parameters: {'n_layers': 7, 'n_units_0': 58, 'n_units_1': 17, 'n_units_2': 67, 'n_units_3': 65, 'n_units_4': 10, 'n_units_5': 29, 'n_units_6': 15, 'activation': 'tanh', 'learning_rate': 'constant', 'batch_size': 512, 'n_components': 16, 'scaler': 'none'}. Best is trial 1 with value: 0.5459882332413658.\u001b[0m\n",
            "\u001b[32m[I 2021-12-02 20:55:35,517]\u001b[0m Trial 2 finished with value: 0.7187215782069598 and parameters: {'n_layers': 3, 'n_units_0': 3, 'n_units_1': 69, 'n_units_2': 22, 'activation': 'relu', 'learning_rate': 'constant', 'batch_size': 128, 'n_components': 55, 'scaler': 'standard_scaler'}. Best is trial 2 with value: 0.7187215782069598.\u001b[0m\n",
            "\u001b[32m[I 2021-12-02 20:55:48,561]\u001b[0m Trial 3 finished with value: 0.6335349894764393 and parameters: {'n_layers': 5, 'n_units_0': 70, 'n_units_1': 92, 'n_units_2': 96, 'n_units_3': 8, 'n_units_4': 39, 'activation': 'relu', 'learning_rate': 'constant', 'batch_size': 128, 'n_components': 78, 'scaler': 'minmax_scaler'}. Best is trial 2 with value: 0.7187215782069598.\u001b[0m\n",
            "\u001b[32m[I 2021-12-02 20:56:10,016]\u001b[0m Trial 4 finished with value: 0.7168526919595632 and parameters: {'n_layers': 7, 'n_units_0': 22, 'n_units_1': 18, 'n_units_2': 27, 'n_units_3': 43, 'n_units_4': 11, 'n_units_5': 12, 'n_units_6': 84, 'activation': 'tanh', 'learning_rate': 'constant', 'batch_size': 256, 'n_components': 38, 'scaler': 'standard_scaler'}. Best is trial 2 with value: 0.7187215782069598.\u001b[0m\n",
            "\u001b[32m[I 2021-12-02 20:56:30,452]\u001b[0m Trial 5 finished with value: 0.6531420735231573 and parameters: {'n_layers': 7, 'n_units_0': 74, 'n_units_1': 100, 'n_units_2': 95, 'n_units_3': 7, 'n_units_4': 86, 'n_units_5': 30, 'n_units_6': 68, 'activation': 'relu', 'learning_rate': 'constant', 'batch_size': 256, 'n_components': 15, 'scaler': 'standard_scaler'}. Best is trial 2 with value: 0.7187215782069598.\u001b[0m\n",
            "\u001b[32m[I 2021-12-02 20:56:38,746]\u001b[0m Trial 6 finished with value: 0.5156367572165454 and parameters: {'n_layers': 9, 'n_units_0': 47, 'n_units_1': 34, 'n_units_2': 96, 'n_units_3': 65, 'n_units_4': 2, 'n_units_5': 28, 'n_units_6': 82, 'n_units_7': 25, 'n_units_8': 23, 'activation': 'relu', 'learning_rate': 'constant', 'batch_size': 128, 'n_components': 58, 'scaler': 'minmax_scaler'}. Best is trial 2 with value: 0.7187215782069598.\u001b[0m\n",
            "\u001b[32m[I 2021-12-02 20:56:53,795]\u001b[0m Trial 7 finished with value: 0.7124093501564903 and parameters: {'n_layers': 5, 'n_units_0': 72, 'n_units_1': 66, 'n_units_2': 89, 'n_units_3': 52, 'n_units_4': 8, 'activation': 'tanh', 'learning_rate': 'constant', 'batch_size': 512, 'n_components': 72, 'scaler': 'standard_scaler'}. Best is trial 2 with value: 0.7187215782069598.\u001b[0m\n",
            "\u001b[32m[I 2021-12-02 20:58:05,207]\u001b[0m Trial 8 finished with value: 0.5875344878352 and parameters: {'n_layers': 10, 'n_units_0': 95, 'n_units_1': 87, 'n_units_2': 98, 'n_units_3': 53, 'n_units_4': 23, 'n_units_5': 62, 'n_units_6': 79, 'n_units_7': 88, 'n_units_8': 8, 'n_units_9': 37, 'activation': 'tanh', 'learning_rate': 'adaptive', 'batch_size': 256, 'n_components': 44, 'scaler': 'none'}. Best is trial 2 with value: 0.7187215782069598.\u001b[0m\n",
            "\u001b[32m[I 2021-12-02 20:58:12,074]\u001b[0m Trial 9 finished with value: 0.7121896094832005 and parameters: {'n_layers': 2, 'n_units_0': 47, 'n_units_1': 56, 'activation': 'relu', 'learning_rate': 'constant', 'batch_size': 128, 'n_components': 48, 'scaler': 'minmax_scaler'}. Best is trial 2 with value: 0.7187215782069598.\u001b[0m\n",
            "\u001b[32m[I 2021-12-02 20:58:17,652]\u001b[0m Trial 10 finished with value: 0.7117155039858668 and parameters: {'n_layers': 1, 'n_units_0': 3, 'activation': 'relu', 'learning_rate': 'adaptive', 'batch_size': 128, 'n_components': 61, 'scaler': 'standard_scaler'}. Best is trial 2 with value: 0.7187215782069598.\u001b[0m\n",
            "\u001b[32m[I 2021-12-02 20:58:27,158]\u001b[0m Trial 11 finished with value: 0.6974827969770663 and parameters: {'n_layers': 3, 'n_units_0': 6, 'n_units_1': 36, 'n_units_2': 19, 'activation': 'tanh', 'learning_rate': 'adaptive', 'batch_size': 256, 'n_components': 30, 'scaler': 'standard_scaler'}. Best is trial 2 with value: 0.7187215782069598.\u001b[0m\n",
            "\u001b[32m[I 2021-12-02 20:58:42,326]\u001b[0m Trial 12 finished with value: 0.7180260962496865 and parameters: {'n_layers': 4, 'n_units_0': 24, 'n_units_1': 72, 'n_units_2': 38, 'n_units_3': 92, 'activation': 'tanh', 'learning_rate': 'constant', 'batch_size': 256, 'n_components': 56, 'scaler': 'standard_scaler'}. Best is trial 2 with value: 0.7187215782069598.\u001b[0m\n",
            "\u001b[32m[I 2021-12-02 20:58:52,945]\u001b[0m Trial 13 finished with value: 0.7173148016881319 and parameters: {'n_layers': 3, 'n_units_0': 26, 'n_units_1': 72, 'n_units_2': 47, 'activation': 'tanh', 'learning_rate': 'constant', 'batch_size': 128, 'n_components': 61, 'scaler': 'standard_scaler'}. Best is trial 2 with value: 0.7187215782069598.\u001b[0m\n",
            "\u001b[32m[I 2021-12-02 20:59:06,103]\u001b[0m Trial 14 finished with value: 0.6921095104635818 and parameters: {'n_layers': 4, 'n_units_0': 23, 'n_units_1': 74, 'n_units_2': 4, 'n_units_3': 100, 'activation': 'tanh', 'learning_rate': 'constant', 'batch_size': 512, 'n_components': 52, 'scaler': 'standard_scaler'}. Best is trial 2 with value: 0.7187215782069598.\u001b[0m\n",
            "\u001b[32m[I 2021-12-02 20:59:12,667]\u001b[0m Trial 15 finished with value: 0.7126558086783934 and parameters: {'n_layers': 1, 'n_units_0': 14, 'activation': 'relu', 'learning_rate': 'adaptive', 'batch_size': 256, 'n_components': 68, 'scaler': 'standard_scaler'}. Best is trial 2 with value: 0.7187215782069598.\u001b[0m\n",
            "\u001b[32m[I 2021-12-02 20:59:15,350]\u001b[0m Trial 16 finished with value: 0.500934306808144 and parameters: {'n_layers': 3, 'n_units_0': 32, 'n_units_1': 49, 'n_units_2': 42, 'activation': 'relu', 'learning_rate': 'constant', 'batch_size': 128, 'n_components': 55, 'scaler': 'none'}. Best is trial 2 with value: 0.7187215782069598.\u001b[0m\n",
            "\u001b[32m[I 2021-12-02 20:59:45,888]\u001b[0m Trial 17 finished with value: 0.729229599014166 and parameters: {'n_layers': 6, 'n_units_0': 36, 'n_units_1': 80, 'n_units_2': 62, 'n_units_3': 96, 'n_units_4': 94, 'n_units_5': 95, 'activation': 'tanh', 'learning_rate': 'constant', 'batch_size': 128, 'n_components': 69, 'scaler': 'standard_scaler'}. Best is trial 17 with value: 0.729229599014166.\u001b[0m\n",
            "\u001b[32m[I 2021-12-02 21:00:40,919]\u001b[0m Trial 18 finished with value: 0.7105513691534259 and parameters: {'n_layers': 6, 'n_units_0': 37, 'n_units_1': 85, 'n_units_2': 66, 'n_units_3': 84, 'n_units_4': 100, 'n_units_5': 100, 'activation': 'relu', 'learning_rate': 'adaptive', 'batch_size': 128, 'n_components': 80, 'scaler': 'standard_scaler'}. Best is trial 17 with value: 0.729229599014166.\u001b[0m\n",
            "\u001b[32m[I 2021-12-02 21:00:54,738]\u001b[0m Trial 19 finished with value: 0.5838010774381399 and parameters: {'n_layers': 8, 'n_units_0': 11, 'n_units_1': 57, 'n_units_2': 70, 'n_units_3': 24, 'n_units_4': 68, 'n_units_5': 99, 'n_units_6': 27, 'n_units_7': 100, 'activation': 'tanh', 'learning_rate': 'constant', 'batch_size': 128, 'n_components': 67, 'scaler': 'none'}. Best is trial 17 with value: 0.729229599014166.\u001b[0m\n",
            "\u001b[32m[I 2021-12-02 21:01:22,567]\u001b[0m Trial 20 finished with value: 0.7397324398303143 and parameters: {'n_layers': 6, 'n_units_0': 90, 'n_units_1': 43, 'n_units_2': 79, 'n_units_3': 82, 'n_units_4': 62, 'n_units_5': 74, 'activation': 'relu', 'learning_rate': 'constant', 'batch_size': 128, 'n_components': 72, 'scaler': 'standard_scaler'}. Best is trial 20 with value: 0.7397324398303143.\u001b[0m\n",
            "\u001b[32m[I 2021-12-02 21:01:49,186]\u001b[0m Trial 21 finished with value: 0.726662231867305 and parameters: {'n_layers': 6, 'n_units_0': 88, 'n_units_1': 42, 'n_units_2': 78, 'n_units_3': 81, 'n_units_4': 62, 'n_units_5': 76, 'activation': 'relu', 'learning_rate': 'constant', 'batch_size': 128, 'n_components': 72, 'scaler': 'standard_scaler'}. Best is trial 20 with value: 0.7397324398303143.\u001b[0m\n",
            "\u001b[32m[I 2021-12-02 21:02:17,449]\u001b[0m Trial 22 finished with value: 0.7380977437049477 and parameters: {'n_layers': 6, 'n_units_0': 98, 'n_units_1': 41, 'n_units_2': 83, 'n_units_3': 78, 'n_units_4': 57, 'n_units_5': 77, 'activation': 'relu', 'learning_rate': 'constant', 'batch_size': 128, 'n_components': 73, 'scaler': 'standard_scaler'}. Best is trial 20 with value: 0.7397324398303143.\u001b[0m\n",
            "\u001b[32m[I 2021-12-02 21:02:55,358]\u001b[0m Trial 23 finished with value: 0.7301609068801187 and parameters: {'n_layers': 8, 'n_units_0': 99, 'n_units_1': 27, 'n_units_2': 58, 'n_units_3': 75, 'n_units_4': 56, 'n_units_5': 78, 'n_units_6': 45, 'n_units_7': 61, 'activation': 'relu', 'learning_rate': 'constant', 'batch_size': 128, 'n_components': 74, 'scaler': 'standard_scaler'}. Best is trial 20 with value: 0.7397324398303143.\u001b[0m\n",
            "\u001b[32m[I 2021-12-02 21:03:28,040]\u001b[0m Trial 24 finished with value: 0.6953374627858537 and parameters: {'n_layers': 8, 'n_units_0': 98, 'n_units_1': 22, 'n_units_2': 79, 'n_units_3': 74, 'n_units_4': 49, 'n_units_5': 74, 'n_units_6': 43, 'n_units_7': 62, 'activation': 'relu', 'learning_rate': 'constant', 'batch_size': 128, 'n_components': 75, 'scaler': 'standard_scaler'}. Best is trial 20 with value: 0.7397324398303143.\u001b[0m\n",
            "\u001b[32m[I 2021-12-02 21:03:59,626]\u001b[0m Trial 25 finished with value: 0.6953843553364814 and parameters: {'n_layers': 8, 'n_units_0': 85, 'n_units_1': 28, 'n_units_2': 55, 'n_units_3': 70, 'n_units_4': 71, 'n_units_5': 80, 'n_units_6': 53, 'n_units_7': 63, 'activation': 'relu', 'learning_rate': 'constant', 'batch_size': 128, 'n_components': 63, 'scaler': 'standard_scaler'}. Best is trial 20 with value: 0.7397324398303143.\u001b[0m\n",
            "\u001b[32m[I 2021-12-02 21:04:29,092]\u001b[0m Trial 26 finished with value: 0.5156539329763683 and parameters: {'n_layers': 9, 'n_units_0': 84, 'n_units_1': 46, 'n_units_2': 81, 'n_units_3': 84, 'n_units_4': 53, 'n_units_5': 62, 'n_units_6': 7, 'n_units_7': 5, 'n_units_8': 96, 'activation': 'relu', 'learning_rate': 'adaptive', 'batch_size': 512, 'n_components': 76, 'scaler': 'standard_scaler'}. Best is trial 20 with value: 0.7397324398303143.\u001b[0m\n",
            "\u001b[32m[I 2021-12-02 21:04:42,482]\u001b[0m Trial 27 finished with value: 0.6330229882550518 and parameters: {'n_layers': 5, 'n_units_0': 92, 'n_units_1': 1, 'n_units_2': 87, 'n_units_3': 60, 'n_units_4': 38, 'activation': 'relu', 'learning_rate': 'constant', 'batch_size': 128, 'n_components': 64, 'scaler': 'standard_scaler'}. Best is trial 20 with value: 0.7397324398303143.\u001b[0m\n",
            "\u001b[32m[I 2021-12-02 21:05:12,061]\u001b[0m Trial 28 finished with value: 0.7147583397856029 and parameters: {'n_layers': 7, 'n_units_0': 84, 'n_units_1': 37, 'n_units_2': 55, 'n_units_3': 37, 'n_units_4': 80, 'n_units_5': 84, 'n_units_6': 36, 'activation': 'relu', 'learning_rate': 'constant', 'batch_size': 128, 'n_components': 80, 'scaler': 'minmax_scaler'}. Best is trial 20 with value: 0.7397324398303143.\u001b[0m\n",
            "\u001b[32m[I 2021-12-02 21:05:32,370]\u001b[0m Trial 29 finished with value: 0.553458052977677 and parameters: {'n_layers': 10, 'n_units_0': 99, 'n_units_1': 26, 'n_units_2': 74, 'n_units_3': 77, 'n_units_4': 56, 'n_units_5': 63, 'n_units_6': 60, 'n_units_7': 76, 'n_units_8': 85, 'n_units_9': 98, 'activation': 'relu', 'learning_rate': 'constant', 'batch_size': 128, 'n_components': 73, 'scaler': 'none'}. Best is trial 20 with value: 0.7397324398303143.\u001b[0m\n",
            "\u001b[32m[I 2021-12-02 21:05:40,512]\u001b[0m Trial 30 finished with value: 0.523571412992508 and parameters: {'n_layers': 9, 'n_units_0': 79, 'n_units_1': 54, 'n_units_2': 85, 'n_units_3': 91, 'n_units_4': 38, 'n_units_5': 85, 'n_units_6': 99, 'n_units_7': 45, 'n_units_8': 60, 'activation': 'relu', 'learning_rate': 'constant', 'batch_size': 512, 'n_components': 24, 'scaler': 'minmax_scaler'}. Best is trial 20 with value: 0.7397324398303143.\u001b[0m\n",
            "\u001b[32m[I 2021-12-02 21:06:10,061]\u001b[0m Trial 31 finished with value: 0.7282838416994732 and parameters: {'n_layers': 6, 'n_units_0': 60, 'n_units_1': 42, 'n_units_2': 62, 'n_units_3': 100, 'n_units_4': 97, 'n_units_5': 91, 'activation': 'relu', 'learning_rate': 'constant', 'batch_size': 128, 'n_components': 68, 'scaler': 'standard_scaler'}. Best is trial 20 with value: 0.7397324398303143.\u001b[0m\n",
            "\u001b[32m[I 2021-12-02 21:06:30,669]\u001b[0m Trial 32 finished with value: 0.7366939661283112 and parameters: {'n_layers': 6, 'n_units_0': 64, 'n_units_1': 11, 'n_units_2': 60, 'n_units_3': 93, 'n_units_4': 78, 'n_units_5': 70, 'activation': 'tanh', 'learning_rate': 'constant', 'batch_size': 128, 'n_components': 70, 'scaler': 'standard_scaler'}. Best is trial 20 with value: 0.7397324398303143.\u001b[0m\n",
            "\u001b[32m[I 2021-12-02 21:06:55,488]\u001b[0m Trial 33 finished with value: 0.6956169096718613 and parameters: {'n_layers': 7, 'n_units_0': 91, 'n_units_1': 11, 'n_units_2': 52, 'n_units_3': 89, 'n_units_4': 68, 'n_units_5': 68, 'n_units_6': 26, 'activation': 'relu', 'learning_rate': 'constant', 'batch_size': 128, 'n_components': 71, 'scaler': 'standard_scaler'}. Best is trial 20 with value: 0.7397324398303143.\u001b[0m\n",
            "\u001b[32m[I 2021-12-02 21:07:08,736]\u001b[0m Trial 34 finished with value: 0.7173118027459404 and parameters: {'n_layers': 4, 'n_units_0': 61, 'n_units_1': 8, 'n_units_2': 73, 'n_units_3': 75, 'activation': 'tanh', 'learning_rate': 'constant', 'batch_size': 128, 'n_components': 75, 'scaler': 'standard_scaler'}. Best is trial 20 with value: 0.7397324398303143.\u001b[0m\n",
            "\u001b[32m[I 2021-12-02 21:07:25,173]\u001b[0m Trial 35 finished with value: 0.7131211899802615 and parameters: {'n_layers': 5, 'n_units_0': 76, 'n_units_1': 15, 'n_units_2': 60, 'n_units_3': 84, 'n_units_4': 77, 'activation': 'relu', 'learning_rate': 'constant', 'batch_size': 128, 'n_components': 66, 'scaler': 'standard_scaler'}. Best is trial 20 with value: 0.7397324398303143.\u001b[0m\n",
            "\u001b[32m[I 2021-12-02 21:07:54,773]\u001b[0m Trial 36 finished with value: 0.7329632820423342 and parameters: {'n_layers': 7, 'n_units_0': 66, 'n_units_1': 2, 'n_units_2': 31, 'n_units_3': 66, 'n_units_4': 60, 'n_units_5': 50, 'n_units_6': 66, 'activation': 'relu', 'learning_rate': 'constant', 'batch_size': 128, 'n_components': 77, 'scaler': 'standard_scaler'}. Best is trial 20 with value: 0.7397324398303143.\u001b[0m\n",
            "\u001b[32m[I 2021-12-02 21:08:08,160]\u001b[0m Trial 37 finished with value: 0.578662526308902 and parameters: {'n_layers': 7, 'n_units_0': 65, 'n_units_1': 64, 'n_units_2': 31, 'n_units_3': 59, 'n_units_4': 46, 'n_units_5': 52, 'n_units_6': 99, 'activation': 'tanh', 'learning_rate': 'constant', 'batch_size': 128, 'n_components': 78, 'scaler': 'none'}. Best is trial 20 with value: 0.7397324398303143.\u001b[0m\n",
            "\u001b[32m[I 2021-12-02 21:08:12,245]\u001b[0m Trial 38 finished with value: 0.519602449317877 and parameters: {'n_layers': 6, 'n_units_0': 57, 'n_units_1': 5, 'n_units_2': 2, 'n_units_3': 69, 'n_units_4': 64, 'n_units_5': 51, 'activation': 'relu', 'learning_rate': 'constant', 'batch_size': 512, 'n_components': 38, 'scaler': 'standard_scaler'}. Best is trial 20 with value: 0.7397324398303143.\u001b[0m\n",
            "\u001b[32m[I 2021-12-02 21:08:30,365]\u001b[0m Trial 39 finished with value: 0.7341298705547498 and parameters: {'n_layers': 5, 'n_units_0': 54, 'n_units_1': 14, 'n_units_2': 33, 'n_units_3': 89, 'n_units_4': 76, 'activation': 'tanh', 'learning_rate': 'constant', 'batch_size': 128, 'n_components': 78, 'scaler': 'minmax_scaler'}. Best is trial 20 with value: 0.7397324398303143.\u001b[0m\n"
          ]
        }
      ]
    },
    {
      "cell_type": "markdown",
      "metadata": {
        "id": "uDd2dFIwARob"
      },
      "source": [
        "Παρατηρούμε ότι ούτε και με την αχιτεκτονική αυτή καταφέρνουμε να ξεπεράσουμε το 0.752 accuracy score που είχαμε επιτύχει σε προηγούμενες δοκιμές. Επιτύγχάνουμε βέβαια κάποια ικανοποιητικά accuracy scores, τα οποία όμως δεν ξεπερνούν το 0.74. Αξίζει μάλιστα να σημειωθεί ότι ενώ η PCA είναι μια αρκετά βοηθητική τεχνική, όπως παρατηρούμε από τις παραπάνω δοκιμές, χωρίς την προσθήκη Scaler πριν από αυτή δεν έχει τα αντίστοιχα αποτελέσματα."
      ]
    },
    {
      "cell_type": "markdown",
      "metadata": {
        "id": "Cqhb4OZqBf1f"
      },
      "source": [
        "<b>Συμπερασματικά, λοιπόν, τα καλύτερα accuracy και f1 score, 0.752 και 0.755 αντίστοιχα, κατά τη διαδικασία του 5-fold cross validation, αντιστοιχούν στην αρχιτεκτονική MinMax Scaler - Variance Threshold (threshold = 0.05982172525108023) - PCA (n_components = 24) - MLP (layers = [97, 100, 68, 96, 100, 98, 100, 100, 93], activation = 'tanh', learning_rate = 'adaptive', batch_size = 128).</b>"
      ]
    },
    {
      "cell_type": "markdown",
      "metadata": {
        "id": "0MYiG3fG5yFK"
      },
      "source": [
        "###### <u> Όσον αφορά τον 'adam' solver</u>:"
      ]
    },
    {
      "cell_type": "markdown",
      "metadata": {
        "id": "93LfCSmK51KE"
      },
      "source": [
        "Εκτελούμε αρχικά μια αναγνωριστική αναζήτηση χρησιμοποιώντας μόνο το νευρωνικό δίκτυο, το οποίο μπορεί να αποτελέιται από 1 έως 10 επίπεδα (layers), με κάθε επίπεδο να αποτελείται από 1 έως 100 νευρώνες. Ως πιθανές activation functions χρησιμοποιούμε τις 'relu', 'logistic' και 'tanh', ενώ ως πιθανά batch size 128, 256 και 512."
      ]
    },
    {
      "cell_type": "code",
      "metadata": {
        "colab": {
          "base_uri": "https://localhost:8080/"
        },
        "id": "SZll4jf6JqwQ",
        "outputId": "f45a59e6-ae87-4ff2-8174-f95537f95ff4"
      },
      "source": [
        "def objective(trial):\n",
        "\n",
        "    n_layers = trial.suggest_int('n_layers', 1, 10)\n",
        "    layers = []\n",
        "    for i in range(n_layers):\n",
        "        layers.append(trial.suggest_int(f'n_units_{i}', 1, 100))\n",
        "\n",
        "    activation = trial.suggest_categorical('activation', ['relu', 'logistic', 'tanh'])\n",
        "    batch_size = trial.suggest_categorical('batch_size', [128, 256, 512])\n",
        "\n",
        "    clf = MLPClassifier(hidden_layer_sizes = tuple(layers), activation = activation,  solver = 'adam', batch_size = batch_size, max_iter = 10000, early_stopping = True)\n",
        "\n",
        "    return np.mean(cross_val_score(clf, X_train_small, y_train_small, cv = 5, scoring = 'accuracy'))\n",
        "\n",
        "study = optuna.create_study(direction = 'maximize')\n",
        "study.optimize(objective, n_trials = 40)"
      ],
      "execution_count": null,
      "outputs": [
        {
          "name": "stderr",
          "output_type": "stream",
          "text": [
            "\u001b[32m[I 2021-12-02 17:54:15,739]\u001b[0m A new study created in memory with name: no-name-2b312cf6-5d53-42e3-95bf-0026521ff47a\u001b[0m\n",
            "\u001b[32m[I 2021-12-02 17:54:25,787]\u001b[0m Trial 0 finished with value: 0.590801699037067 and parameters: {'n_layers': 6, 'n_units_0': 19, 'n_units_1': 70, 'n_units_2': 82, 'n_units_3': 4, 'n_units_4': 76, 'n_units_5': 24, 'activation': 'tanh', 'batch_size': 128}. Best is trial 0 with value: 0.590801699037067.\u001b[0m\n",
            "\u001b[32m[I 2021-12-02 17:54:32,256]\u001b[0m Trial 1 finished with value: 0.6232153567650683 and parameters: {'n_layers': 4, 'n_units_0': 99, 'n_units_1': 28, 'n_units_2': 79, 'n_units_3': 13, 'activation': 'relu', 'batch_size': 512}. Best is trial 1 with value: 0.6232153567650683.\u001b[0m\n",
            "\u001b[32m[I 2021-12-02 17:54:41,578]\u001b[0m Trial 2 finished with value: 0.6246485785014014 and parameters: {'n_layers': 2, 'n_units_0': 96, 'n_units_1': 100, 'activation': 'tanh', 'batch_size': 512}. Best is trial 2 with value: 0.6246485785014014.\u001b[0m\n",
            "\u001b[32m[I 2021-12-02 17:54:46,689]\u001b[0m Trial 3 finished with value: 0.6069218312086282 and parameters: {'n_layers': 4, 'n_units_0': 32, 'n_units_1': 9, 'n_units_2': 75, 'n_units_3': 53, 'activation': 'relu', 'batch_size': 512}. Best is trial 2 with value: 0.6246485785014014.\u001b[0m\n",
            "\u001b[32m[I 2021-12-02 17:54:50,656]\u001b[0m Trial 4 finished with value: 0.5044348902387157 and parameters: {'n_layers': 7, 'n_units_0': 96, 'n_units_1': 13, 'n_units_2': 46, 'n_units_3': 74, 'n_units_4': 59, 'n_units_5': 42, 'n_units_6': 2, 'activation': 'relu', 'batch_size': 512}. Best is trial 2 with value: 0.6246485785014014.\u001b[0m\n",
            "\u001b[32m[I 2021-12-02 17:54:56,978]\u001b[0m Trial 5 finished with value: 0.6374905942267637 and parameters: {'n_layers': 3, 'n_units_0': 98, 'n_units_1': 24, 'n_units_2': 29, 'activation': 'tanh', 'batch_size': 512}. Best is trial 5 with value: 0.6374905942267637.\u001b[0m\n",
            "\u001b[32m[I 2021-12-02 17:55:07,637]\u001b[0m Trial 6 finished with value: 0.5032680290951917 and parameters: {'n_layers': 8, 'n_units_0': 71, 'n_units_1': 3, 'n_units_2': 95, 'n_units_3': 49, 'n_units_4': 89, 'n_units_5': 69, 'n_units_6': 20, 'n_units_7': 56, 'activation': 'logistic', 'batch_size': 128}. Best is trial 5 with value: 0.6374905942267637.\u001b[0m\n",
            "\u001b[32m[I 2021-12-02 17:55:14,905]\u001b[0m Trial 7 finished with value: 0.5217044351628697 and parameters: {'n_layers': 6, 'n_units_0': 19, 'n_units_1': 19, 'n_units_2': 80, 'n_units_3': 96, 'n_units_4': 14, 'n_units_5': 13, 'activation': 'logistic', 'batch_size': 256}. Best is trial 5 with value: 0.6374905942267637.\u001b[0m\n",
            "\u001b[32m[I 2021-12-02 17:55:24,689]\u001b[0m Trial 8 finished with value: 0.5992044624259807 and parameters: {'n_layers': 8, 'n_units_0': 67, 'n_units_1': 5, 'n_units_2': 53, 'n_units_3': 16, 'n_units_4': 48, 'n_units_5': 30, 'n_units_6': 20, 'n_units_7': 31, 'activation': 'tanh', 'batch_size': 512}. Best is trial 5 with value: 0.6374905942267637.\u001b[0m\n",
            "\u001b[32m[I 2021-12-02 17:55:30,562]\u001b[0m Trial 9 finished with value: 0.5032680290951917 and parameters: {'n_layers': 8, 'n_units_0': 28, 'n_units_1': 14, 'n_units_2': 87, 'n_units_3': 36, 'n_units_4': 73, 'n_units_5': 12, 'n_units_6': 39, 'n_units_7': 14, 'activation': 'logistic', 'batch_size': 512}. Best is trial 5 with value: 0.6374905942267637.\u001b[0m\n",
            "\u001b[32m[I 2021-12-02 17:55:32,709]\u001b[0m Trial 10 finished with value: 0.5816969105442807 and parameters: {'n_layers': 1, 'n_units_0': 56, 'activation': 'tanh', 'batch_size': 256}. Best is trial 5 with value: 0.6374905942267637.\u001b[0m\n",
            "\u001b[32m[I 2021-12-02 17:55:40,803]\u001b[0m Trial 11 finished with value: 0.6540526614248792 and parameters: {'n_layers': 2, 'n_units_0': 80, 'n_units_1': 99, 'activation': 'tanh', 'batch_size': 512}. Best is trial 11 with value: 0.6540526614248792.\u001b[0m\n",
            "\u001b[32m[I 2021-12-02 17:55:45,121]\u001b[0m Trial 12 finished with value: 0.6188088201616158 and parameters: {'n_layers': 3, 'n_units_0': 79, 'n_units_1': 43, 'n_units_2': 4, 'activation': 'tanh', 'batch_size': 512}. Best is trial 11 with value: 0.6540526614248792.\u001b[0m\n",
            "\u001b[32m[I 2021-12-02 17:55:48,068]\u001b[0m Trial 13 finished with value: 0.6027009563899279 and parameters: {'n_layers': 1, 'n_units_0': 81, 'activation': 'tanh', 'batch_size': 512}. Best is trial 11 with value: 0.6540526614248792.\u001b[0m\n",
            "\u001b[32m[I 2021-12-02 17:55:54,053]\u001b[0m Trial 14 finished with value: 0.5494757303787392 and parameters: {'n_layers': 4, 'n_units_0': 1, 'n_units_1': 74, 'n_units_2': 11, 'n_units_3': 94, 'activation': 'tanh', 'batch_size': 256}. Best is trial 11 with value: 0.6540526614248792.\u001b[0m\n",
            "\u001b[32m[I 2021-12-02 17:56:32,530]\u001b[0m Trial 15 finished with value: 0.6316557432469274 and parameters: {'n_layers': 10, 'n_units_0': 85, 'n_units_1': 99, 'n_units_2': 30, 'n_units_3': 73, 'n_units_4': 1, 'n_units_5': 99, 'n_units_6': 99, 'n_units_7': 99, 'n_units_8': 94, 'n_units_9': 28, 'activation': 'tanh', 'batch_size': 128}. Best is trial 11 with value: 0.6540526614248792.\u001b[0m\n",
            "\u001b[32m[I 2021-12-02 17:56:37,543]\u001b[0m Trial 16 finished with value: 0.6293083894044645 and parameters: {'n_layers': 3, 'n_units_0': 52, 'n_units_1': 41, 'n_units_2': 24, 'activation': 'tanh', 'batch_size': 512}. Best is trial 11 with value: 0.6540526614248792.\u001b[0m\n",
            "\u001b[32m[I 2021-12-02 17:56:42,820]\u001b[0m Trial 17 finished with value: 0.6407482633398403 and parameters: {'n_layers': 2, 'n_units_0': 88, 'n_units_1': 66, 'activation': 'tanh', 'batch_size': 512}. Best is trial 11 with value: 0.6540526614248792.\u001b[0m\n",
            "\u001b[32m[I 2021-12-02 17:56:50,612]\u001b[0m Trial 18 finished with value: 0.645668709582438 and parameters: {'n_layers': 2, 'n_units_0': 68, 'n_units_1': 79, 'activation': 'logistic', 'batch_size': 256}. Best is trial 11 with value: 0.6540526614248792.\u001b[0m\n",
            "\u001b[32m[I 2021-12-02 17:57:06,094]\u001b[0m Trial 19 finished with value: 0.6421435893521195 and parameters: {'n_layers': 5, 'n_units_0': 64, 'n_units_1': 85, 'n_units_2': 60, 'n_units_3': 33, 'n_units_4': 30, 'activation': 'logistic', 'batch_size': 256}. Best is trial 11 with value: 0.6540526614248792.\u001b[0m\n",
            "\u001b[32m[I 2021-12-02 17:57:11,288]\u001b[0m Trial 20 finished with value: 0.6178734228290386 and parameters: {'n_layers': 2, 'n_units_0': 47, 'n_units_1': 86, 'activation': 'logistic', 'batch_size': 256}. Best is trial 11 with value: 0.6540526614248792.\u001b[0m\n",
            "\u001b[32m[I 2021-12-02 17:57:34,231]\u001b[0m Trial 21 finished with value: 0.6669113076478477 and parameters: {'n_layers': 5, 'n_units_0': 65, 'n_units_1': 85, 'n_units_2': 61, 'n_units_3': 31, 'n_units_4': 32, 'activation': 'logistic', 'batch_size': 256}. Best is trial 21 with value: 0.6669113076478477.\u001b[0m\n",
            "\u001b[32m[I 2021-12-02 17:57:56,911]\u001b[0m Trial 22 finished with value: 0.6615388390276884 and parameters: {'n_layers': 5, 'n_units_0': 71, 'n_units_1': 87, 'n_units_2': 64, 'n_units_3': 29, 'n_units_4': 36, 'activation': 'logistic', 'batch_size': 256}. Best is trial 21 with value: 0.6669113076478477.\u001b[0m\n",
            "\u001b[32m[I 2021-12-02 17:58:12,501]\u001b[0m Trial 23 finished with value: 0.6267516548708274 and parameters: {'n_layers': 5, 'n_units_0': 76, 'n_units_1': 61, 'n_units_2': 64, 'n_units_3': 36, 'n_units_4': 38, 'activation': 'logistic', 'batch_size': 256}. Best is trial 21 with value: 0.6669113076478477.\u001b[0m\n",
            "\u001b[32m[I 2021-12-02 17:58:19,593]\u001b[0m Trial 24 finished with value: 0.5032680290951917 and parameters: {'n_layers': 7, 'n_units_0': 61, 'n_units_1': 91, 'n_units_2': 43, 'n_units_3': 22, 'n_units_4': 25, 'n_units_5': 69, 'n_units_6': 92, 'activation': 'logistic', 'batch_size': 256}. Best is trial 21 with value: 0.6669113076478477.\u001b[0m\n",
            "\u001b[32m[I 2021-12-02 17:58:30,980]\u001b[0m Trial 25 finished with value: 0.5032680290951917 and parameters: {'n_layers': 10, 'n_units_0': 41, 'n_units_1': 92, 'n_units_2': 68, 'n_units_3': 56, 'n_units_4': 53, 'n_units_5': 100, 'n_units_6': 68, 'n_units_7': 97, 'n_units_8': 3, 'n_units_9': 94, 'activation': 'logistic', 'batch_size': 256}. Best is trial 21 with value: 0.6669113076478477.\u001b[0m\n",
            "\u001b[32m[I 2021-12-02 17:58:50,115]\u001b[0m Trial 26 finished with value: 0.6652730673180732 and parameters: {'n_layers': 5, 'n_units_0': 88, 'n_units_1': 53, 'n_units_2': 55, 'n_units_3': 27, 'n_units_4': 19, 'activation': 'logistic', 'batch_size': 256}. Best is trial 21 with value: 0.6669113076478477.\u001b[0m\n",
            "\u001b[32m[I 2021-12-02 17:59:05,797]\u001b[0m Trial 27 finished with value: 0.6428480681359665 and parameters: {'n_layers': 5, 'n_units_0': 89, 'n_units_1': 58, 'n_units_2': 53, 'n_units_3': 27, 'n_units_4': 17, 'activation': 'logistic', 'batch_size': 256}. Best is trial 21 with value: 0.6669113076478477.\u001b[0m\n",
            "\u001b[32m[I 2021-12-02 17:59:25,050]\u001b[0m Trial 28 finished with value: 0.6134398957458642 and parameters: {'n_layers': 6, 'n_units_0': 74, 'n_units_1': 51, 'n_units_2': 39, 'n_units_3': 45, 'n_units_4': 38, 'n_units_5': 66, 'activation': 'logistic', 'batch_size': 256}. Best is trial 21 with value: 0.6669113076478477.\u001b[0m\n",
            "\u001b[32m[I 2021-12-02 17:59:37,318]\u001b[0m Trial 29 finished with value: 0.5368736300286807 and parameters: {'n_layers': 7, 'n_units_0': 43, 'n_units_1': 76, 'n_units_2': 68, 'n_units_3': 14, 'n_units_4': 12, 'n_units_5': 51, 'n_units_6': 68, 'activation': 'logistic', 'batch_size': 128}. Best is trial 21 with value: 0.6669113076478477.\u001b[0m\n",
            "\u001b[32m[I 2021-12-02 17:59:48,372]\u001b[0m Trial 30 finished with value: 0.639364933096326 and parameters: {'n_layers': 5, 'n_units_0': 57, 'n_units_1': 36, 'n_units_2': 59, 'n_units_3': 3, 'n_units_4': 31, 'activation': 'logistic', 'batch_size': 256}. Best is trial 21 with value: 0.6669113076478477.\u001b[0m\n",
            "\u001b[32m[I 2021-12-02 17:59:57,804]\u001b[0m Trial 31 finished with value: 0.6753067099968375 and parameters: {'n_layers': 4, 'n_units_0': 82, 'n_units_1': 82, 'n_units_2': 51, 'n_units_3': 25, 'activation': 'relu', 'batch_size': 256}. Best is trial 31 with value: 0.6753067099968375.\u001b[0m\n",
            "\u001b[32m[I 2021-12-02 18:00:04,734]\u001b[0m Trial 32 finished with value: 0.6767091244179325 and parameters: {'n_layers': 4, 'n_units_0': 92, 'n_units_1': 82, 'n_units_2': 53, 'n_units_3': 27, 'activation': 'relu', 'batch_size': 256}. Best is trial 32 with value: 0.6767091244179325.\u001b[0m\n",
            "\u001b[32m[I 2021-12-02 18:00:12,935]\u001b[0m Trial 33 finished with value: 0.682305968440223 and parameters: {'n_layers': 4, 'n_units_0': 91, 'n_units_1': 66, 'n_units_2': 38, 'n_units_3': 43, 'activation': 'relu', 'batch_size': 256}. Best is trial 33 with value: 0.682305968440223.\u001b[0m\n",
            "\u001b[32m[I 2021-12-02 18:00:18,955]\u001b[0m Trial 34 finished with value: 0.6792691305248695 and parameters: {'n_layers': 4, 'n_units_0': 92, 'n_units_1': 68, 'n_units_2': 38, 'n_units_3': 44, 'activation': 'relu', 'batch_size': 256}. Best is trial 33 with value: 0.682305968440223.\u001b[0m\n",
            "\u001b[32m[I 2021-12-02 18:00:26,413]\u001b[0m Trial 35 finished with value: 0.6771655088932268 and parameters: {'n_layers': 4, 'n_units_0': 94, 'n_units_1': 68, 'n_units_2': 37, 'n_units_3': 42, 'activation': 'relu', 'batch_size': 256}. Best is trial 33 with value: 0.682305968440223.\u001b[0m\n",
            "\u001b[32m[I 2021-12-02 18:00:36,201]\u001b[0m Trial 36 finished with value: 0.7000482557061691 and parameters: {'n_layers': 3, 'n_units_0': 93, 'n_units_1': 71, 'n_units_2': 36, 'activation': 'relu', 'batch_size': 128}. Best is trial 36 with value: 0.7000482557061691.\u001b[0m\n",
            "\u001b[32m[I 2021-12-02 18:00:46,673]\u001b[0m Trial 37 finished with value: 0.7040112214964176 and parameters: {'n_layers': 3, 'n_units_0': 100, 'n_units_1': 68, 'n_units_2': 35, 'activation': 'relu', 'batch_size': 128}. Best is trial 37 with value: 0.7040112214964176.\u001b[0m\n",
            "\u001b[32m[I 2021-12-02 18:00:52,920]\u001b[0m Trial 38 finished with value: 0.6862741142215292 and parameters: {'n_layers': 3, 'n_units_0': 99, 'n_units_1': 64, 'n_units_2': 20, 'activation': 'relu', 'batch_size': 128}. Best is trial 37 with value: 0.7040112214964176.\u001b[0m\n",
            "\u001b[32m[I 2021-12-02 18:01:01,758]\u001b[0m Trial 39 finished with value: 0.6960752025649134 and parameters: {'n_layers': 3, 'n_units_0': 100, 'n_units_1': 60, 'n_units_2': 19, 'activation': 'relu', 'batch_size': 128}. Best is trial 37 with value: 0.7040112214964176.\u001b[0m\n"
          ]
        }
      ]
    },
    {
      "cell_type": "markdown",
      "metadata": {
        "id": "9P12Hbtl7QZp"
      },
      "source": [
        "Από τις παραπάνω δοκιμές παρατηρούμε ότι ο 'adam' solver επιτυγχάνει τα καλύτερα accuracy scores κατά τη διαδικασία του 5-fold cross validation συνδυαζόμενος με τη 'relu' ως activation function αγγίζοντας ακόμα και το 0.7, ενώ με χρήση κάποιων εκ των άλλων δύο, 'tanh' ή 'logisitic', περιορίζεται μόλις στο 0.67. Παράλληλα, όσον αφορά το batch size δε βλέπουμε να είναι ιδιαίτερα καθοριστικό, με το 128 και το 256 να υπερισχύουν ελαφρώς, και πάλι ίσως λόγο του μειωμένου μεγέθους του train dataset. Σε κάθε περίπτωση πάντως, μπορούμε να παρατηρήσουμε ότι τα accuracy scores που επιτυγχάνει από μόνο του το νευρωνικό με χρήση ως solver του 'adam', χωρίς την προσθήκη κάποιου επιπλέον μετασχηματιστή, είναι αρκετά υψηλότερα, συγκριτικά με τα αντίστοιχα με χρήση 'sgd' solver, ενώ παράλληλα ο 'adam' solver συγκλίνει γρηγορότερα, οπότε και απαιτεί και λιγότερο χρόνο κατά την εκπαίδευση, συγκριτικά με τον 'sgd'.\n",
        "\n",
        "Στη συνέχεια θα προσθέσουμε στην αρχιτεκτονική μας κάποιους μετασχηματιστές. Θα δοκιμάσουμε αρχικά, την εφαρμογή ενός MinMax Scaler ακολουθούμενου από Variance Threshold πριν το νευρωνικό δίκτυο."
      ]
    },
    {
      "cell_type": "code",
      "metadata": {
        "colab": {
          "base_uri": "https://localhost:8080/"
        },
        "id": "tZo6okX_JquQ",
        "outputId": "6b61f89d-efff-4715-90a6-0a8ceb62f0a5"
      },
      "source": [
        "def objective(trial):\n",
        "\n",
        "    n_layers = trial.suggest_int('n_layers', 1, 10)\n",
        "    layers = []\n",
        "    for i in range(n_layers):\n",
        "        layers.append(trial.suggest_int(f'n_units_{i}', 1, 100))\n",
        "\n",
        "    activation = trial.suggest_categorical('activation', ['relu', 'logistic', 'tanh'])\n",
        "    batch_size = trial.suggest_categorical('batch_size', [128, 256, 512])\n",
        "\n",
        "    mlp = MLPClassifier(hidden_layer_sizes = tuple(layers), activation = activation,  solver = 'adam', batch_size = batch_size, max_iter = 10000, early_stopping = True)\n",
        "    threshold = trial.suggest_float('threshold', 0.0, 0.15)\n",
        "\n",
        "    clf = Pipeline(steps = [('minmax_scaler', preprocessing.MinMaxScaler()), ('selector', VarianceThreshold(threshold)), ('mlp', mlp)])\n",
        "\n",
        "    return np.mean(cross_val_score(clf, X_train_small, y_train_small, cv = 5, scoring = 'accuracy'))\n",
        "\n",
        "study = optuna.create_study(direction = 'maximize')\n",
        "study.optimize(objective, n_trials = 40)"
      ],
      "execution_count": null,
      "outputs": [
        {
          "name": "stderr",
          "output_type": "stream",
          "text": [
            "\u001b[32m[I 2021-12-02 18:09:53,161]\u001b[0m A new study created in memory with name: no-name-f826c794-a1fe-4dac-8e37-09451b5cb274\u001b[0m\n",
            "\u001b[32m[I 2021-12-02 18:10:00,635]\u001b[0m Trial 0 finished with value: 0.7035507475544989 and parameters: {'n_layers': 3, 'n_units_0': 67, 'n_units_1': 56, 'n_units_2': 77, 'activation': 'tanh', 'batch_size': 512, 'threshold': 0.12738076097118378}. Best is trial 0 with value: 0.7035507475544989.\u001b[0m\n",
            "\u001b[32m[I 2021-12-02 18:10:09,279]\u001b[0m Trial 1 finished with value: 0.7371648000523451 and parameters: {'n_layers': 3, 'n_units_0': 44, 'n_units_1': 53, 'n_units_2': 86, 'activation': 'logistic', 'batch_size': 128, 'threshold': 0.050164394507307086}. Best is trial 1 with value: 0.7371648000523451.\u001b[0m\n",
            "\u001b[32m[I 2021-12-02 18:10:22,704]\u001b[0m Trial 2 finished with value: 0.7051848984176491 and parameters: {'n_layers': 9, 'n_units_0': 64, 'n_units_1': 31, 'n_units_2': 46, 'n_units_3': 89, 'n_units_4': 82, 'n_units_5': 99, 'n_units_6': 96, 'n_units_7': 27, 'n_units_8': 51, 'activation': 'relu', 'batch_size': 128, 'threshold': 0.1298614921922107}. Best is trial 1 with value: 0.7371648000523451.\u001b[0m\n",
            "\u001b[32m[I 2021-12-02 18:10:30,171]\u001b[0m Trial 3 finished with value: 0.5016344234942584 and parameters: {'n_layers': 7, 'n_units_0': 94, 'n_units_1': 83, 'n_units_2': 82, 'n_units_3': 23, 'n_units_4': 89, 'n_units_5': 83, 'n_units_6': 1, 'activation': 'logistic', 'batch_size': 512, 'threshold': 0.13318308559057537}. Best is trial 1 with value: 0.7371648000523451.\u001b[0m\n",
            "\u001b[32m[I 2021-12-02 18:10:35,578]\u001b[0m Trial 4 finished with value: 0.5032680290951917 and parameters: {'n_layers': 7, 'n_units_0': 53, 'n_units_1': 26, 'n_units_2': 86, 'n_units_3': 16, 'n_units_4': 39, 'n_units_5': 55, 'n_units_6': 18, 'activation': 'logistic', 'batch_size': 256, 'threshold': 0.08630355471805141}. Best is trial 1 with value: 0.7371648000523451.\u001b[0m\n",
            "\u001b[32m[I 2021-12-02 18:10:45,521]\u001b[0m Trial 5 finished with value: 0.7420647989618208 and parameters: {'n_layers': 7, 'n_units_0': 24, 'n_units_1': 94, 'n_units_2': 36, 'n_units_3': 84, 'n_units_4': 54, 'n_units_5': 20, 'n_units_6': 22, 'activation': 'relu', 'batch_size': 128, 'threshold': 0.11064057675951205}. Best is trial 5 with value: 0.7420647989618208.\u001b[0m\n",
            "\u001b[32m[I 2021-12-02 18:10:47,924]\u001b[0m Trial 6 finished with value: 0.6624546069204682 and parameters: {'n_layers': 2, 'n_units_0': 11, 'n_units_1': 48, 'activation': 'logistic', 'batch_size': 512, 'threshold': 0.10537414467205543}. Best is trial 5 with value: 0.7420647989618208.\u001b[0m\n",
            "\u001b[32m[I 2021-12-02 18:10:54,177]\u001b[0m Trial 7 finished with value: 0.732727728764763 and parameters: {'n_layers': 5, 'n_units_0': 39, 'n_units_1': 31, 'n_units_2': 9, 'n_units_3': 38, 'n_units_4': 45, 'activation': 'tanh', 'batch_size': 256, 'threshold': 0.11248073121261269}. Best is trial 5 with value: 0.7420647989618208.\u001b[0m\n",
            "\u001b[32m[I 2021-12-02 18:11:01,455]\u001b[0m Trial 8 finished with value: 0.7177919061276568 and parameters: {'n_layers': 6, 'n_units_0': 38, 'n_units_1': 41, 'n_units_2': 98, 'n_units_3': 51, 'n_units_4': 7, 'n_units_5': 94, 'activation': 'relu', 'batch_size': 256, 'threshold': 0.12134077493602528}. Best is trial 5 with value: 0.7420647989618208.\u001b[0m\n",
            "\u001b[32m[I 2021-12-02 18:11:06,550]\u001b[0m Trial 9 finished with value: 0.7233912038299218 and parameters: {'n_layers': 5, 'n_units_0': 26, 'n_units_1': 2, 'n_units_2': 64, 'n_units_3': 29, 'n_units_4': 16, 'activation': 'tanh', 'batch_size': 256, 'threshold': 0.11776389011664964}. Best is trial 5 with value: 0.7420647989618208.\u001b[0m\n",
            "\u001b[32m[I 2021-12-02 18:11:13,103]\u001b[0m Trial 10 finished with value: 0.5032680290951917 and parameters: {'n_layers': 10, 'n_units_0': 1, 'n_units_1': 98, 'n_units_2': 29, 'n_units_3': 97, 'n_units_4': 69, 'n_units_5': 1, 'n_units_6': 47, 'n_units_7': 99, 'n_units_8': 2, 'n_units_9': 92, 'activation': 'relu', 'batch_size': 128, 'threshold': 0.034902413276625244}. Best is trial 5 with value: 0.7420647989618208.\u001b[0m\n",
            "\u001b[32m[I 2021-12-02 18:11:15,093]\u001b[0m Trial 11 finished with value: 0.7329597378379262 and parameters: {'n_layers': 1, 'n_units_0': 20, 'activation': 'logistic', 'batch_size': 128, 'threshold': 0.04276190787441398}. Best is trial 5 with value: 0.7420647989618208.\u001b[0m\n",
            "\u001b[32m[I 2021-12-02 18:11:20,827]\u001b[0m Trial 12 finished with value: 0.743700040349404 and parameters: {'n_layers': 3, 'n_units_0': 32, 'n_units_1': 70, 'n_units_2': 41, 'activation': 'relu', 'batch_size': 128, 'threshold': 0.0010307712460553842}. Best is trial 12 with value: 0.743700040349404.\u001b[0m\n",
            "\u001b[32m[I 2021-12-02 18:11:27,616]\u001b[0m Trial 13 finished with value: 0.74253317920588 and parameters: {'n_layers': 4, 'n_units_0': 27, 'n_units_1': 74, 'n_units_2': 37, 'n_units_3': 70, 'activation': 'relu', 'batch_size': 128, 'threshold': 0.005650574488781979}. Best is trial 12 with value: 0.743700040349404.\u001b[0m\n",
            "\u001b[32m[I 2021-12-02 18:11:32,417]\u001b[0m Trial 14 finished with value: 0.7434658502273743 and parameters: {'n_layers': 4, 'n_units_0': 31, 'n_units_1': 72, 'n_units_2': 21, 'n_units_3': 62, 'activation': 'relu', 'batch_size': 128, 'threshold': 0.00014192095366457659}. Best is trial 12 with value: 0.743700040349404.\u001b[0m\n",
            "\u001b[32m[I 2021-12-02 18:11:36,234]\u001b[0m Trial 15 finished with value: 0.7472011690421925 and parameters: {'n_layers': 1, 'n_units_0': 57, 'activation': 'relu', 'batch_size': 128, 'threshold': 0.007862228157949956}. Best is trial 15 with value: 0.7472011690421925.\u001b[0m\n",
            "\u001b[32m[I 2021-12-02 18:11:40,565]\u001b[0m Trial 16 finished with value: 0.748367757554608 and parameters: {'n_layers': 1, 'n_units_0': 76, 'activation': 'relu', 'batch_size': 128, 'threshold': 0.022242558749288457}. Best is trial 16 with value: 0.748367757554608.\u001b[0m\n",
            "\u001b[32m[I 2021-12-02 18:11:43,425]\u001b[0m Trial 17 finished with value: 0.7434631239162913 and parameters: {'n_layers': 1, 'n_units_0': 86, 'activation': 'relu', 'batch_size': 128, 'threshold': 0.02387707746300504}. Best is trial 16 with value: 0.748367757554608.\u001b[0m\n",
            "\u001b[32m[I 2021-12-02 18:11:46,272]\u001b[0m Trial 18 finished with value: 0.7397297135192313 and parameters: {'n_layers': 1, 'n_units_0': 76, 'activation': 'relu', 'batch_size': 128, 'threshold': 0.06464198001029507}. Best is trial 16 with value: 0.748367757554608.\u001b[0m\n",
            "\u001b[32m[I 2021-12-02 18:11:49,173]\u001b[0m Trial 19 finished with value: 0.7362266764086849 and parameters: {'n_layers': 2, 'n_units_0': 56, 'n_units_1': 2, 'activation': 'relu', 'batch_size': 512, 'threshold': 0.019566085402026426}. Best is trial 16 with value: 0.748367757554608.\u001b[0m\n",
            "\u001b[32m[I 2021-12-02 18:11:51,535]\u001b[0m Trial 20 finished with value: 0.6393556636386438 and parameters: {'n_layers': 2, 'n_units_0': 79, 'n_units_1': 16, 'activation': 'tanh', 'batch_size': 128, 'threshold': 0.14804584754786917}. Best is trial 16 with value: 0.748367757554608.\u001b[0m\n",
            "\u001b[32m[I 2021-12-02 18:11:58,267]\u001b[0m Trial 21 finished with value: 0.7443985212488686 and parameters: {'n_layers': 3, 'n_units_0': 62, 'n_units_1': 68, 'n_units_2': 57, 'activation': 'relu', 'batch_size': 128, 'threshold': 0.016318494163781005}. Best is trial 16 with value: 0.748367757554608.\u001b[0m\n",
            "\u001b[32m[I 2021-12-02 18:12:01,242]\u001b[0m Trial 22 finished with value: 0.7390323231442 and parameters: {'n_layers': 1, 'n_units_0': 68, 'activation': 'relu', 'batch_size': 128, 'threshold': 0.01856327315574372}. Best is trial 16 with value: 0.748367757554608.\u001b[0m\n",
            "\u001b[32m[I 2021-12-02 18:12:05,858]\u001b[0m Trial 23 finished with value: 0.7481335674325783 and parameters: {'n_layers': 2, 'n_units_0': 60, 'n_units_1': 63, 'activation': 'relu', 'batch_size': 128, 'threshold': 0.05647120208103481}. Best is trial 16 with value: 0.748367757554608.\u001b[0m\n",
            "\u001b[32m[I 2021-12-02 18:12:10,757]\u001b[0m Trial 24 finished with value: 0.7472000785177592 and parameters: {'n_layers': 2, 'n_units_0': 99, 'n_units_1': 61, 'activation': 'relu', 'batch_size': 128, 'threshold': 0.06048437858299009}. Best is trial 16 with value: 0.748367757554608.\u001b[0m\n",
            "\u001b[32m[I 2021-12-02 18:12:13,770]\u001b[0m Trial 25 finished with value: 0.7362291300886595 and parameters: {'n_layers': 1, 'n_units_0': 49, 'activation': 'relu', 'batch_size': 128, 'threshold': 0.08187112202557383}. Best is trial 16 with value: 0.748367757554608.\u001b[0m\n",
            "\u001b[32m[I 2021-12-02 18:12:17,733]\u001b[0m Trial 26 finished with value: 0.546673627847632 and parameters: {'n_layers': 4, 'n_units_0': 77, 'n_units_1': 83, 'n_units_2': 5, 'n_units_3': 1, 'activation': 'relu', 'batch_size': 128, 'threshold': 0.03359135575372298}. Best is trial 16 with value: 0.748367757554608.\u001b[0m\n",
            "\u001b[32m[I 2021-12-02 18:12:21,093]\u001b[0m Trial 27 finished with value: 0.7401959127144244 and parameters: {'n_layers': 2, 'n_units_0': 72, 'n_units_1': 44, 'activation': 'relu', 'batch_size': 128, 'threshold': 0.05570955861556779}. Best is trial 16 with value: 0.748367757554608.\u001b[0m\n",
            "\u001b[32m[I 2021-12-02 18:12:23,394]\u001b[0m Trial 28 finished with value: 0.7345941613321847 and parameters: {'n_layers': 1, 'n_units_0': 86, 'activation': 'relu', 'batch_size': 256, 'threshold': 0.030614161418756503}. Best is trial 16 with value: 0.748367757554608.\u001b[0m\n",
            "\u001b[32m[I 2021-12-02 18:12:32,809]\u001b[0m Trial 29 finished with value: 0.7443979759866519 and parameters: {'n_layers': 3, 'n_units_0': 62, 'n_units_1': 82, 'n_units_2': 64, 'activation': 'tanh', 'batch_size': 512, 'threshold': 0.07235478359990091}. Best is trial 16 with value: 0.748367757554608.\u001b[0m\n",
            "\u001b[32m[I 2021-12-02 18:12:36,382]\u001b[0m Trial 30 finished with value: 0.730630105017503 and parameters: {'n_layers': 2, 'n_units_0': 59, 'n_units_1': 15, 'activation': 'tanh', 'batch_size': 512, 'threshold': 0.04302193797948605}. Best is trial 16 with value: 0.748367757554608.\u001b[0m\n",
            "\u001b[32m[I 2021-12-02 18:12:41,000]\u001b[0m Trial 31 finished with value: 0.7441656942823803 and parameters: {'n_layers': 2, 'n_units_0': 99, 'n_units_1': 57, 'activation': 'relu', 'batch_size': 128, 'threshold': 0.05770579575640428}. Best is trial 16 with value: 0.748367757554608.\u001b[0m\n",
            "\u001b[32m[I 2021-12-02 18:12:46,089]\u001b[0m Trial 32 finished with value: 0.7397291682570148 and parameters: {'n_layers': 2, 'n_units_0': 86, 'n_units_1': 63, 'activation': 'relu', 'batch_size': 128, 'threshold': 0.09205897751952707}. Best is trial 16 with value: 0.748367757554608.\u001b[0m\n",
            "\u001b[32m[I 2021-12-02 18:12:50,977]\u001b[0m Trial 33 finished with value: 0.7385636702690325 and parameters: {'n_layers': 3, 'n_units_0': 46, 'n_units_1': 38, 'n_units_2': 99, 'activation': 'relu', 'batch_size': 128, 'threshold': 0.010053175407419523}. Best is trial 16 with value: 0.748367757554608.\u001b[0m\n",
            "\u001b[32m[I 2021-12-02 18:12:54,487]\u001b[0m Trial 34 finished with value: 0.733196654271039 and parameters: {'n_layers': 1, 'n_units_0': 94, 'activation': 'relu', 'batch_size': 128, 'threshold': 0.06894629823265715}. Best is trial 16 with value: 0.748367757554608.\u001b[0m\n",
            "\u001b[32m[I 2021-12-02 18:13:08,973]\u001b[0m Trial 35 finished with value: 0.7511671337746322 and parameters: {'n_layers': 4, 'n_units_0': 70, 'n_units_1': 63, 'n_units_2': 19, 'n_units_3': 72, 'activation': 'logistic', 'batch_size': 128, 'threshold': 0.04612262402026759}. Best is trial 35 with value: 0.7511671337746322.\u001b[0m\n",
            "\u001b[32m[I 2021-12-02 18:13:24,114]\u001b[0m Trial 36 finished with value: 0.7406651108518086 and parameters: {'n_layers': 4, 'n_units_0': 67, 'n_units_1': 91, 'n_units_2': 14, 'n_units_3': 70, 'activation': 'logistic', 'batch_size': 128, 'threshold': 0.04114632252170503}. Best is trial 35 with value: 0.7511671337746322.\u001b[0m\n",
            "\u001b[32m[I 2021-12-02 18:13:49,809]\u001b[0m Trial 37 finished with value: 0.6921228693878887 and parameters: {'n_layers': 6, 'n_units_0': 55, 'n_units_1': 77, 'n_units_2': 25, 'n_units_3': 56, 'n_units_4': 100, 'n_units_5': 51, 'activation': 'logistic', 'batch_size': 128, 'threshold': 0.02546168622945287}. Best is trial 35 with value: 0.7511671337746322.\u001b[0m\n",
            "\u001b[32m[I 2021-12-02 18:13:56,144]\u001b[0m Trial 38 finished with value: 0.5021011679516679 and parameters: {'n_layers': 8, 'n_units_0': 71, 'n_units_1': 50, 'n_units_2': 17, 'n_units_3': 41, 'n_units_4': 26, 'n_units_5': 28, 'n_units_6': 88, 'n_units_7': 5, 'activation': 'logistic', 'batch_size': 512, 'threshold': 0.012374352203586021}. Best is trial 35 with value: 0.7511671337746322.\u001b[0m\n",
            "\u001b[32m[I 2021-12-02 18:14:06,679]\u001b[0m Trial 39 finished with value: 0.7303950970021484 and parameters: {'n_layers': 3, 'n_units_0': 80, 'n_units_1': 64, 'n_units_2': 52, 'activation': 'logistic', 'batch_size': 256, 'threshold': 0.050201476506376484}. Best is trial 35 with value: 0.7511671337746322.\u001b[0m\n"
          ]
        }
      ]
    },
    {
      "cell_type": "markdown",
      "metadata": {
        "id": "HBLIHNP8EkAC"
      },
      "source": [
        "Από τις παραπάνω δοκιμές παρατηρούμε ότι η προσθήκη του Min Max Scaler σε συνδυασμό με το Variance Threshold βελτιώνει τα accuracy scores που επιτυγχάνονται. Μάλιστα, στην περίπτωση αυτή η χρήση 'tanh' ή 'logistic' ως activation functions έχουν συγκρίσιμα και κάποιες φορές και καλύτερα αποτελέσματα από τη 'relu'. Όσον αφορά το threshold παρατηρούμε ότι τιμές χαμηλότερες του 0.12 είναι αρκετά ικανοποιητικές, ενώ και εδώ το batch size δεν επηρεάζει ιδιαίτερα.\n",
        "\n",
        "Στη συνέχεια, θα κάνουμε μια πιο εκτενή αναζήτηση με 100 trials περιορίζοντας τις τιμές του threshold στο διάστημα από 0 έως 0.1, ενώ παράλληλα πριν το δίκτυο θα εφαρμόσουμε και έναν μετασχηματιστή PCA."
      ]
    },
    {
      "cell_type": "code",
      "metadata": {
        "colab": {
          "base_uri": "https://localhost:8080/"
        },
        "id": "wcjQS7ux_9n2",
        "outputId": "4c6ffab9-db43-41e9-ca9f-c6806eb1ec87"
      },
      "source": [
        "# MinMax Scaler - Variance Threshold - PCA - MLP\n",
        "# optimize accuracy score\n",
        "\n",
        "def objective(trial):\n",
        "\n",
        "    n_layers = trial.suggest_int('n_layers', 1, 10)\n",
        "    layers = []\n",
        "    for i in range(n_layers):\n",
        "        layers.append(trial.suggest_int(f'n_units_{i}', 1, 100))\n",
        "\n",
        "    activation = trial.suggest_categorical('activation', ['relu', 'tanh', 'logistic'])\n",
        "    batch_size = trial.suggest_categorical('batch_size', [128, 256, 512])\n",
        "\n",
        "    mlp = MLPClassifier(hidden_layer_sizes = tuple(layers), activation = activation,  solver = 'adam', batch_size = batch_size, max_iter = 10000, early_stopping = True)\n",
        "    threshold = trial.suggest_float('threshold', 0.0, 0.1)\n",
        "\n",
        "    p = Pipeline(steps = [('minmax_scaler', preprocessing.MinMaxScaler()), ('selector',  VarianceThreshold(threshold = threshold))])\n",
        "    upper_bound = p.fit_transform(X_train_small).shape[1]\n",
        "    n_components = trial.suggest_int('n_components', 1, upper_bound)\n",
        "\n",
        "    clf = Pipeline(steps = [('minmax_scaler', preprocessing.MinMaxScaler()), ('selector', VarianceThreshold(threshold)), ('pca', PCA(n_components = n_components)), ('mlp', mlp)])\n",
        "\n",
        "    return np.mean(cross_val_score(clf, X_train_small, y_train_small, cv = 5, scoring = 'accuracy'))\n",
        "\n",
        "study = optuna.create_study(direction = 'maximize')\n",
        "study.optimize(objective, n_trials = 100)"
      ],
      "execution_count": null,
      "outputs": [
        {
          "name": "stderr",
          "output_type": "stream",
          "text": [
            "\u001b[32m[I 2021-12-02 21:13:17,492]\u001b[0m A new study created in memory with name: no-name-f48fd78b-2af0-4ce8-ac93-e3288fa5f846\u001b[0m\n",
            "\u001b[32m[I 2021-12-02 21:13:26,392]\u001b[0m Trial 0 finished with value: 0.7366890587683617 and parameters: {'n_layers': 7, 'n_units_0': 71, 'n_units_1': 84, 'n_units_2': 90, 'n_units_3': 91, 'n_units_4': 54, 'n_units_5': 32, 'n_units_6': 99, 'activation': 'relu', 'batch_size': 256, 'threshold': 0.0869010650111412, 'n_components': 16}. Best is trial 0 with value: 0.7366890587683617.\u001b[0m\n",
            "\u001b[32m[I 2021-12-02 21:13:29,333]\u001b[0m Trial 1 finished with value: 0.7236262118452764 and parameters: {'n_layers': 1, 'n_units_0': 64, 'activation': 'logistic', 'batch_size': 512, 'threshold': 0.011055806160349624, 'n_components': 36}. Best is trial 0 with value: 0.7366890587683617.\u001b[0m\n",
            "\u001b[32m[I 2021-12-02 21:13:31,693]\u001b[0m Trial 2 finished with value: 0.7294537017851885 and parameters: {'n_layers': 1, 'n_units_0': 30, 'activation': 'tanh', 'batch_size': 128, 'threshold': 0.07149356467058958, 'n_components': 18}. Best is trial 0 with value: 0.7366890587683617.\u001b[0m\n",
            "\u001b[32m[I 2021-12-02 21:13:36,565]\u001b[0m Trial 3 finished with value: 0.730861023566233 and parameters: {'n_layers': 4, 'n_units_0': 76, 'n_units_1': 67, 'n_units_2': 22, 'n_units_3': 51, 'activation': 'relu', 'batch_size': 512, 'threshold': 0.023203621536433405, 'n_components': 14}. Best is trial 0 with value: 0.7366890587683617.\u001b[0m\n",
            "\u001b[32m[I 2021-12-02 21:13:42,089]\u001b[0m Trial 4 finished with value: 0.5032680290951917 and parameters: {'n_layers': 6, 'n_units_0': 21, 'n_units_1': 25, 'n_units_2': 15, 'n_units_3': 74, 'n_units_4': 49, 'n_units_5': 65, 'activation': 'logistic', 'batch_size': 128, 'threshold': 0.05176720428506655, 'n_components': 19}. Best is trial 0 with value: 0.7366890587683617.\u001b[0m\n",
            "\u001b[32m[I 2021-12-02 21:13:49,711]\u001b[0m Trial 5 finished with value: 0.5548432916389492 and parameters: {'n_layers': 10, 'n_units_0': 15, 'n_units_1': 31, 'n_units_2': 73, 'n_units_3': 80, 'n_units_4': 1, 'n_units_5': 39, 'n_units_6': 9, 'n_units_7': 60, 'n_units_8': 78, 'n_units_9': 52, 'activation': 'relu', 'batch_size': 256, 'threshold': 0.09476207126425829, 'n_components': 12}. Best is trial 0 with value: 0.7366890587683617.\u001b[0m\n",
            "\u001b[32m[I 2021-12-02 21:13:51,649]\u001b[0m Trial 6 finished with value: 0.7429985605077482 and parameters: {'n_layers': 1, 'n_units_0': 8, 'activation': 'relu', 'batch_size': 256, 'threshold': 0.003030285700802893, 'n_components': 24}. Best is trial 6 with value: 0.7429985605077482.\u001b[0m\n",
            "\u001b[32m[I 2021-12-02 21:13:59,304]\u001b[0m Trial 7 finished with value: 0.7355320123447366 and parameters: {'n_layers': 7, 'n_units_0': 20, 'n_units_1': 67, 'n_units_2': 29, 'n_units_3': 92, 'n_units_4': 94, 'n_units_5': 3, 'n_units_6': 77, 'activation': 'relu', 'batch_size': 512, 'threshold': 0.0599691723167724, 'n_components': 28}. Best is trial 6 with value: 0.7429985605077482.\u001b[0m\n",
            "\u001b[32m[I 2021-12-02 21:14:05,347]\u001b[0m Trial 8 finished with value: 0.7439325946847839 and parameters: {'n_layers': 3, 'n_units_0': 92, 'n_units_1': 37, 'n_units_2': 19, 'activation': 'relu', 'batch_size': 128, 'threshold': 0.09460680880142146, 'n_components': 17}. Best is trial 8 with value: 0.7439325946847839.\u001b[0m\n",
            "\u001b[32m[I 2021-12-02 21:14:11,138]\u001b[0m Trial 9 finished with value: 0.5317448936193416 and parameters: {'n_layers': 3, 'n_units_0': 54, 'n_units_1': 76, 'n_units_2': 24, 'activation': 'logistic', 'batch_size': 128, 'threshold': 0.027397912187513043, 'n_components': 1}. Best is trial 8 with value: 0.7439325946847839.\u001b[0m\n",
            "\u001b[32m[I 2021-12-02 21:14:17,087]\u001b[0m Trial 10 finished with value: 0.7257235629614281 and parameters: {'n_layers': 4, 'n_units_0': 99, 'n_units_1': 1, 'n_units_2': 51, 'n_units_3': 6, 'activation': 'tanh', 'batch_size': 128, 'threshold': 0.07379767061081559, 'n_components': 7}. Best is trial 8 with value: 0.7439325946847839.\u001b[0m\n",
            "\u001b[32m[I 2021-12-02 21:14:20,495]\u001b[0m Trial 11 finished with value: 0.7455634739746343 and parameters: {'n_layers': 2, 'n_units_0': 2, 'n_units_1': 41, 'activation': 'relu', 'batch_size': 256, 'threshold': 0.03370129413973885, 'n_components': 24}. Best is trial 11 with value: 0.7455634739746343.\u001b[0m\n",
            "\u001b[32m[I 2021-12-02 21:14:25,336]\u001b[0m Trial 12 finished with value: 0.6412449972191627 and parameters: {'n_layers': 3, 'n_units_0': 95, 'n_units_1': 40, 'n_units_2': 1, 'activation': 'relu', 'batch_size': 256, 'threshold': 0.03657438448359958, 'n_components': 24}. Best is trial 11 with value: 0.7455634739746343.\u001b[0m\n",
            "\u001b[32m[I 2021-12-02 21:14:30,249]\u001b[0m Trial 13 finished with value: 0.7450964568861165 and parameters: {'n_layers': 3, 'n_units_0': 36, 'n_units_1': 51, 'n_units_2': 50, 'activation': 'relu', 'batch_size': 128, 'threshold': 0.04051710600912099, 'n_components': 23}. Best is trial 11 with value: 0.7455634739746343.\u001b[0m\n",
            "\u001b[32m[I 2021-12-02 21:14:35,030]\u001b[0m Trial 14 finished with value: 0.6510477213491968 and parameters: {'n_layers': 5, 'n_units_0': 37, 'n_units_1': 57, 'n_units_2': 52, 'n_units_3': 2, 'n_units_4': 9, 'activation': 'relu', 'batch_size': 256, 'threshold': 0.04020477653673, 'n_components': 29}. Best is trial 11 with value: 0.7455634739746343.\u001b[0m\n",
            "\u001b[32m[I 2021-12-02 21:14:38,877]\u001b[0m Trial 15 finished with value: 0.7495335281736987 and parameters: {'n_layers': 2, 'n_units_0': 45, 'n_units_1': 13, 'activation': 'tanh', 'batch_size': 128, 'threshold': 0.046270692353384824, 'n_components': 23}. Best is trial 15 with value: 0.7495335281736987.\u001b[0m\n",
            "\u001b[32m[I 2021-12-02 21:14:40,751]\u001b[0m Trial 16 finished with value: 0.729930533593605 and parameters: {'n_layers': 2, 'n_units_0': 4, 'n_units_1': 10, 'activation': 'tanh', 'batch_size': 256, 'threshold': 0.054827389679349345, 'n_components': 29}. Best is trial 15 with value: 0.7495335281736987.\u001b[0m\n",
            "\u001b[32m[I 2021-12-02 21:14:51,880]\u001b[0m Trial 17 finished with value: 0.5959151681043415 and parameters: {'n_layers': 10, 'n_units_0': 50, 'n_units_1': 18, 'n_units_2': 95, 'n_units_3': 29, 'n_units_4': 90, 'n_units_5': 99, 'n_units_6': 19, 'n_units_7': 2, 'n_units_8': 1, 'n_units_9': 2, 'activation': 'tanh', 'batch_size': 256, 'threshold': 0.020421445536054295, 'n_components': 36}. Best is trial 15 with value: 0.7495335281736987.\u001b[0m\n",
            "\u001b[32m[I 2021-12-02 21:14:56,158]\u001b[0m Trial 18 finished with value: 0.7394985223393931 and parameters: {'n_layers': 2, 'n_units_0': 45, 'n_units_1': 93, 'activation': 'tanh', 'batch_size': 128, 'threshold': 0.06165524748317859, 'n_components': 21}. Best is trial 15 with value: 0.7495335281736987.\u001b[0m\n",
            "\u001b[32m[I 2021-12-02 21:15:04,315]\u001b[0m Trial 19 finished with value: 0.728290930108289 and parameters: {'n_layers': 5, 'n_units_0': 85, 'n_units_1': 15, 'n_units_2': 74, 'n_units_3': 54, 'n_units_4': 34, 'activation': 'tanh', 'batch_size': 512, 'threshold': 0.03305873782819739, 'n_components': 10}. Best is trial 15 with value: 0.7495335281736987.\u001b[0m\n",
            "\u001b[32m[I 2021-12-02 21:15:17,452]\u001b[0m Trial 20 finished with value: 0.7443990665110851 and parameters: {'n_layers': 8, 'n_units_0': 59, 'n_units_1': 42, 'n_units_2': 39, 'n_units_3': 28, 'n_units_4': 72, 'n_units_5': 93, 'n_units_6': 39, 'n_units_7': 100, 'activation': 'tanh', 'batch_size': 256, 'threshold': 0.04468840964368666, 'n_components': 28}. Best is trial 15 with value: 0.7495335281736987.\u001b[0m\n",
            "\u001b[32m[I 2021-12-02 21:15:21,136]\u001b[0m Trial 21 finished with value: 0.7464996892005364 and parameters: {'n_layers': 2, 'n_units_0': 35, 'n_units_1': 56, 'activation': 'relu', 'batch_size': 128, 'threshold': 0.04673901779353663, 'n_components': 23}. Best is trial 15 with value: 0.7495335281736987.\u001b[0m\n",
            "\u001b[32m[I 2021-12-02 21:15:23,965]\u001b[0m Trial 22 finished with value: 0.7399628131168279 and parameters: {'n_layers': 2, 'n_units_0': 29, 'n_units_1': 58, 'activation': 'relu', 'batch_size': 128, 'threshold': 0.047380363203945085, 'n_components': 25}. Best is trial 15 with value: 0.7495335281736987.\u001b[0m\n",
            "\u001b[32m[I 2021-12-02 21:15:32,086]\u001b[0m Trial 23 finished with value: 0.7474326328531391 and parameters: {'n_layers': 4, 'n_units_0': 44, 'n_units_1': 46, 'n_units_2': 72, 'n_units_3': 30, 'activation': 'logistic', 'batch_size': 128, 'threshold': 0.02906189096210776, 'n_components': 21}. Best is trial 15 with value: 0.7495335281736987.\u001b[0m\n",
            "\u001b[32m[I 2021-12-02 21:15:40,094]\u001b[0m Trial 24 finished with value: 0.7469653431335128 and parameters: {'n_layers': 4, 'n_units_0': 41, 'n_units_1': 26, 'n_units_2': 72, 'n_units_3': 28, 'activation': 'logistic', 'batch_size': 128, 'threshold': 0.012315201541689302, 'n_components': 44}. Best is trial 15 with value: 0.7495335281736987.\u001b[0m\n",
            "\u001b[32m[I 2021-12-02 21:15:49,050]\u001b[0m Trial 25 finished with value: 0.7436978593005377 and parameters: {'n_layers': 4, 'n_units_0': 44, 'n_units_1': 24, 'n_units_2': 71, 'n_units_3': 28, 'activation': 'logistic', 'batch_size': 128, 'threshold': 0.013632549622599405, 'n_components': 43}. Best is trial 15 with value: 0.7495335281736987.\u001b[0m\n",
            "\u001b[32m[I 2021-12-02 21:15:55,567]\u001b[0m Trial 26 finished with value: 0.5987750684304081 and parameters: {'n_layers': 5, 'n_units_0': 45, 'n_units_1': 1, 'n_units_2': 85, 'n_units_3': 39, 'n_units_4': 26, 'activation': 'logistic', 'batch_size': 128, 'threshold': 0.005285997941018205, 'n_components': 58}. Best is trial 15 with value: 0.7495335281736987.\u001b[0m\n",
            "\u001b[32m[I 2021-12-02 21:16:06,934]\u001b[0m Trial 27 finished with value: 0.6892656953729047 and parameters: {'n_layers': 6, 'n_units_0': 59, 'n_units_1': 30, 'n_units_2': 63, 'n_units_3': 16, 'n_units_4': 70, 'n_units_5': 9, 'activation': 'logistic', 'batch_size': 128, 'threshold': 0.01510798401487126, 'n_components': 35}. Best is trial 15 with value: 0.7495335281736987.\u001b[0m\n",
            "\u001b[32m[I 2021-12-02 21:16:17,396]\u001b[0m Trial 28 finished with value: 0.7163829485599624 and parameters: {'n_layers': 4, 'n_units_0': 26, 'n_units_1': 22, 'n_units_2': 83, 'n_units_3': 62, 'activation': 'logistic', 'batch_size': 128, 'threshold': 0.02638241363900984, 'n_components': 6}. Best is trial 15 with value: 0.7495335281736987.\u001b[0m\n",
            "\u001b[32m[I 2021-12-02 21:16:25,101]\u001b[0m Trial 29 finished with value: 0.5032680290951917 and parameters: {'n_layers': 7, 'n_units_0': 69, 'n_units_1': 6, 'n_units_2': 63, 'n_units_3': 42, 'n_units_4': 23, 'n_units_5': 70, 'n_units_6': 60, 'activation': 'logistic', 'batch_size': 128, 'threshold': 0.0007321231840026945, 'n_components': 54}. Best is trial 15 with value: 0.7495335281736987.\u001b[0m\n",
            "\u001b[32m[I 2021-12-02 21:16:32,080]\u001b[0m Trial 30 finished with value: 0.5032680290951917 and parameters: {'n_layers': 8, 'n_units_0': 50, 'n_units_1': 11, 'n_units_2': 65, 'n_units_3': 17, 'n_units_4': 70, 'n_units_5': 22, 'n_units_6': 99, 'n_units_7': 9, 'activation': 'logistic', 'batch_size': 128, 'threshold': 0.018808990630713316, 'n_components': 40}. Best is trial 15 with value: 0.7495335281736987.\u001b[0m\n",
            "\u001b[32m[I 2021-12-02 21:16:38,193]\u001b[0m Trial 31 finished with value: 0.74299665208999 and parameters: {'n_layers': 3, 'n_units_0': 39, 'n_units_1': 50, 'n_units_2': 36, 'activation': 'logistic', 'batch_size': 128, 'threshold': 0.06844635927355221, 'n_components': 21}. Best is trial 15 with value: 0.7495335281736987.\u001b[0m\n",
            "\u001b[32m[I 2021-12-02 21:16:41,442]\u001b[0m Trial 32 finished with value: 0.7364605938996064 and parameters: {'n_layers': 1, 'n_units_0': 34, 'activation': 'logistic', 'batch_size': 128, 'threshold': 0.02951326318572917, 'n_components': 15}. Best is trial 15 with value: 0.7495335281736987.\u001b[0m\n",
            "\u001b[32m[I 2021-12-02 21:16:44,863]\u001b[0m Trial 33 finished with value: 0.7432332958919945 and parameters: {'n_layers': 2, 'n_units_0': 41, 'n_units_1': 32, 'activation': 'tanh', 'batch_size': 128, 'threshold': 0.00765646173672687, 'n_components': 32}. Best is trial 15 with value: 0.7495335281736987.\u001b[0m\n",
            "\u001b[32m[I 2021-12-02 21:16:48,577]\u001b[0m Trial 34 finished with value: 0.5032680290951917 and parameters: {'n_layers': 4, 'n_units_0': 31, 'n_units_1': 48, 'n_units_2': 98, 'n_units_3': 40, 'activation': 'logistic', 'batch_size': 512, 'threshold': 0.07810455500125561, 'n_components': 20}. Best is trial 15 with value: 0.7495335281736987.\u001b[0m\n",
            "\u001b[32m[I 2021-12-02 21:16:52,651]\u001b[0m Trial 35 finished with value: 0.7457982093588807 and parameters: {'n_layers': 1, 'n_units_0': 56, 'activation': 'logistic', 'batch_size': 128, 'threshold': 0.05745282640616715, 'n_components': 22}. Best is trial 15 with value: 0.7495335281736987.\u001b[0m\n",
            "\u001b[32m[I 2021-12-02 21:17:07,731]\u001b[0m Trial 36 finished with value: 0.7451019095082825 and parameters: {'n_layers': 6, 'n_units_0': 64, 'n_units_1': 64, 'n_units_2': 80, 'n_units_3': 17, 'n_units_4': 45, 'n_units_5': 59, 'activation': 'tanh', 'batch_size': 128, 'threshold': 0.04555981769245593, 'n_components': 18}. Best is trial 15 with value: 0.7495335281736987.\u001b[0m\n",
            "\u001b[32m[I 2021-12-02 21:17:14,984]\u001b[0m Trial 37 finished with value: 0.7336612176795821 and parameters: {'n_layers': 3, 'n_units_0': 24, 'n_units_1': 57, 'n_units_2': 55, 'activation': 'logistic', 'batch_size': 128, 'threshold': 0.05067565602416744, 'n_components': 14}. Best is trial 15 with value: 0.7495335281736987.\u001b[0m\n",
            "\u001b[32m[I 2021-12-02 21:17:22,090]\u001b[0m Trial 38 finished with value: 0.7383294801470026 and parameters: {'n_layers': 4, 'n_units_0': 14, 'n_units_1': 75, 'n_units_2': 39, 'n_units_3': 33, 'activation': 'tanh', 'batch_size': 512, 'threshold': 0.06626108861286986, 'n_components': 19}. Best is trial 15 with value: 0.7495335281736987.\u001b[0m\n",
            "\u001b[32m[I 2021-12-02 21:17:24,343]\u001b[0m Trial 39 finished with value: 0.7455672908101507 and parameters: {'n_layers': 1, 'n_units_0': 47, 'activation': 'relu', 'batch_size': 128, 'threshold': 0.02441680578434961, 'n_components': 26}. Best is trial 15 with value: 0.7495335281736987.\u001b[0m\n",
            "\u001b[32m[I 2021-12-02 21:17:39,650]\u001b[0m Trial 40 finished with value: 0.7504648360396515 and parameters: {'n_layers': 5, 'n_units_0': 17, 'n_units_1': 75, 'n_units_2': 78, 'n_units_3': 62, 'n_units_4': 86, 'activation': 'logistic', 'batch_size': 128, 'threshold': 0.040331052746451185, 'n_components': 16}. Best is trial 40 with value: 0.7504648360396515.\u001b[0m\n",
            "\u001b[32m[I 2021-12-02 21:17:57,242]\u001b[0m Trial 41 finished with value: 0.74253317920588 and parameters: {'n_layers': 5, 'n_units_0': 15, 'n_units_1': 88, 'n_units_2': 80, 'n_units_3': 61, 'n_units_4': 84, 'activation': 'logistic', 'batch_size': 128, 'threshold': 0.04165313037420818, 'n_components': 17}. Best is trial 40 with value: 0.7504648360396515.\u001b[0m\n",
            "\u001b[32m[I 2021-12-02 21:18:11,710]\u001b[0m Trial 42 finished with value: 0.7324899944383253 and parameters: {'n_layers': 5, 'n_units_0': 33, 'n_units_1': 100, 'n_units_2': 90, 'n_units_3': 69, 'n_units_4': 77, 'activation': 'logistic', 'batch_size': 128, 'threshold': 0.03649211954336244, 'n_components': 12}. Best is trial 40 with value: 0.7504648360396515.\u001b[0m\n",
            "\u001b[32m[I 2021-12-02 21:18:25,180]\u001b[0m Trial 43 finished with value: 0.6012843651512012 and parameters: {'n_layers': 6, 'n_units_0': 40, 'n_units_1': 80, 'n_units_2': 90, 'n_units_3': 43, 'n_units_4': 60, 'n_units_5': 87, 'activation': 'logistic', 'batch_size': 128, 'threshold': 0.052859768094003654, 'n_components': 16}. Best is trial 40 with value: 0.7504648360396515.\u001b[0m\n",
            "\u001b[32m[I 2021-12-02 21:18:36,018]\u001b[0m Trial 44 finished with value: 0.7264253154341922 and parameters: {'n_layers': 4, 'n_units_0': 24, 'n_units_1': 70, 'n_units_2': 58, 'n_units_3': 57, 'activation': 'logistic', 'batch_size': 128, 'threshold': 0.01864975081601095, 'n_components': 11}. Best is trial 40 with value: 0.7504648360396515.\u001b[0m\n",
            "\u001b[32m[I 2021-12-02 21:18:41,339]\u001b[0m Trial 45 finished with value: 0.7327260929781131 and parameters: {'n_layers': 3, 'n_units_0': 11, 'n_units_1': 31, 'n_units_2': 68, 'activation': 'relu', 'batch_size': 128, 'threshold': 0.02999301169055958, 'n_components': 26}. Best is trial 40 with value: 0.7504648360396515.\u001b[0m\n",
            "\u001b[32m[I 2021-12-02 21:18:46,096]\u001b[0m Trial 46 finished with value: 0.6395887632362403 and parameters: {'n_layers': 2, 'n_units_0': 54, 'n_units_1': 63, 'activation': 'logistic', 'batch_size': 512, 'threshold': 0.03753540608770991, 'n_components': 2}. Best is trial 40 with value: 0.7504648360396515.\u001b[0m\n",
            "\u001b[32m[I 2021-12-02 21:18:51,348]\u001b[0m Trial 47 finished with value: 0.7376307266164298 and parameters: {'n_layers': 4, 'n_units_0': 19, 'n_units_1': 46, 'n_units_2': 78, 'n_units_3': 19, 'activation': 'relu', 'batch_size': 128, 'threshold': 0.032570069320514976, 'n_components': 19}. Best is trial 40 with value: 0.7504648360396515.\u001b[0m\n",
            "\u001b[32m[I 2021-12-02 21:18:59,197]\u001b[0m Trial 48 finished with value: 0.7371631642656954 and parameters: {'n_layers': 3, 'n_units_0': 75, 'n_units_1': 37, 'n_units_2': 75, 'activation': 'logistic', 'batch_size': 128, 'threshold': 0.049435899549690424, 'n_components': 22}. Best is trial 40 with value: 0.7504648360396515.\u001b[0m\n",
            "\u001b[32m[I 2021-12-02 21:19:01,438]\u001b[0m Trial 49 finished with value: 0.7350625415762441 and parameters: {'n_layers': 1, 'n_units_0': 27, 'activation': 'tanh', 'batch_size': 128, 'threshold': 0.009857627684264259, 'n_components': 31}. Best is trial 40 with value: 0.7504648360396515.\u001b[0m\n",
            "\u001b[32m[I 2021-12-02 21:19:03,943]\u001b[0m Trial 50 finished with value: 0.7394985223393931 and parameters: {'n_layers': 2, 'n_units_0': 20, 'n_units_1': 18, 'activation': 'relu', 'batch_size': 128, 'threshold': 0.09966917567306112, 'n_components': 17}. Best is trial 40 with value: 0.7504648360396515.\u001b[0m\n",
            "\u001b[32m[I 2021-12-02 21:19:07,158]\u001b[0m Trial 51 finished with value: 0.7446332566331147 and parameters: {'n_layers': 1, 'n_units_0': 54, 'activation': 'logistic', 'batch_size': 128, 'threshold': 0.05714739973944704, 'n_components': 22}. Best is trial 40 with value: 0.7504648360396515.\u001b[0m\n",
            "\u001b[32m[I 2021-12-02 21:19:10,597]\u001b[0m Trial 52 finished with value: 0.7413649549068148 and parameters: {'n_layers': 1, 'n_units_0': 57, 'activation': 'logistic', 'batch_size': 128, 'threshold': 0.04354382442899845, 'n_components': 22}. Best is trial 40 with value: 0.7504648360396515.\u001b[0m\n",
            "\u001b[32m[I 2021-12-02 21:19:17,297]\u001b[0m Trial 53 finished with value: 0.74836584913685 and parameters: {'n_layers': 2, 'n_units_0': 62, 'n_units_1': 72, 'activation': 'logistic', 'batch_size': 128, 'threshold': 0.06232346779404693, 'n_components': 23}. Best is trial 40 with value: 0.7504648360396515.\u001b[0m\n",
            "\u001b[32m[I 2021-12-02 21:19:26,517]\u001b[0m Trial 54 finished with value: 0.7436978593005377 and parameters: {'n_layers': 3, 'n_units_0': 64, 'n_units_1': 70, 'n_units_2': 47, 'activation': 'logistic', 'batch_size': 128, 'threshold': 0.0610031484080495, 'n_components': 24}. Best is trial 40 with value: 0.7504648360396515.\u001b[0m\n",
            "\u001b[32m[I 2021-12-02 21:19:31,716]\u001b[0m Trial 55 finished with value: 0.742297625928309 and parameters: {'n_layers': 2, 'n_units_0': 49, 'n_units_1': 83, 'activation': 'tanh', 'batch_size': 128, 'threshold': 0.07899016132115193, 'n_components': 20}. Best is trial 40 with value: 0.7504648360396515.\u001b[0m\n",
            "\u001b[32m[I 2021-12-02 21:19:38,010]\u001b[0m Trial 56 finished with value: 0.7411313100470016 and parameters: {'n_layers': 5, 'n_units_0': 41, 'n_units_1': 74, 'n_units_2': 59, 'n_units_3': 48, 'n_units_4': 100, 'activation': 'relu', 'batch_size': 256, 'threshold': 0.065184677322236, 'n_components': 23}. Best is trial 40 with value: 0.7504648360396515.\u001b[0m\n",
            "\u001b[32m[I 2021-12-02 21:19:43,305]\u001b[0m Trial 57 finished with value: 0.544339905560584 and parameters: {'n_layers': 4, 'n_units_0': 63, 'n_units_1': 59, 'n_units_2': 87, 'n_units_3': 10, 'activation': 'logistic', 'batch_size': 512, 'threshold': 0.052896459580992816, 'n_components': 13}. Best is trial 40 with value: 0.7504648360396515.\u001b[0m\n",
            "\u001b[32m[I 2021-12-02 21:19:48,428]\u001b[0m Trial 58 finished with value: 0.7240899573604948 and parameters: {'n_layers': 2, 'n_units_0': 7, 'n_units_1': 52, 'activation': 'logistic', 'batch_size': 128, 'threshold': 0.03922043314423245, 'n_components': 8}. Best is trial 40 with value: 0.7504648360396515.\u001b[0m\n",
            "\u001b[32m[I 2021-12-02 21:19:56,691]\u001b[0m Trial 59 finished with value: 0.7485992213655547 and parameters: {'n_layers': 3, 'n_units_0': 69, 'n_units_1': 88, 'n_units_2': 99, 'activation': 'tanh', 'batch_size': 128, 'threshold': 0.04822644805091049, 'n_components': 26}. Best is trial 40 with value: 0.7504648360396515.\u001b[0m\n",
            "\u001b[32m[I 2021-12-02 21:20:07,205]\u001b[0m Trial 60 finished with value: 0.7434636691785079 and parameters: {'n_layers': 3, 'n_units_0': 84, 'n_units_1': 86, 'n_units_2': 98, 'activation': 'tanh', 'batch_size': 128, 'threshold': 0.021191663463137868, 'n_components': 26}. Best is trial 40 with value: 0.7504648360396515.\u001b[0m\n",
            "\u001b[32m[I 2021-12-02 21:20:15,911]\u001b[0m Trial 61 finished with value: 0.7464988713072117 and parameters: {'n_layers': 3, 'n_units_0': 73, 'n_units_1': 80, 'n_units_2': 92, 'activation': 'tanh', 'batch_size': 128, 'threshold': 0.04484435128505002, 'n_components': 25}. Best is trial 40 with value: 0.7504648360396515.\u001b[0m\n",
            "\u001b[32m[I 2021-12-02 21:20:21,243]\u001b[0m Trial 62 finished with value: 0.7427649156479351 and parameters: {'n_layers': 2, 'n_units_0': 70, 'n_units_1': 95, 'activation': 'tanh', 'batch_size': 128, 'threshold': 0.048642066167058656, 'n_components': 27}. Best is trial 40 with value: 0.7504648360396515.\u001b[0m\n",
            "\u001b[32m[I 2021-12-02 21:20:38,196]\u001b[0m Trial 63 finished with value: 0.7493004285761022 and parameters: {'n_layers': 4, 'n_units_0': 81, 'n_units_1': 91, 'n_units_2': 70, 'n_units_3': 99, 'activation': 'tanh', 'batch_size': 128, 'threshold': 0.05547710667309568, 'n_components': 20}. Best is trial 40 with value: 0.7504648360396515.\u001b[0m\n",
            "\u001b[32m[I 2021-12-02 21:20:51,950]\u001b[0m Trial 64 finished with value: 0.7453303743770379 and parameters: {'n_layers': 4, 'n_units_0': 81, 'n_units_1': 91, 'n_units_2': 73, 'n_units_3': 82, 'activation': 'tanh', 'batch_size': 128, 'threshold': 0.05850751518937268, 'n_components': 20}. Best is trial 40 with value: 0.7504648360396515.\u001b[0m\n",
            "\u001b[32m[I 2021-12-02 21:21:02,760]\u001b[0m Trial 65 finished with value: 0.7385628523757075 and parameters: {'n_layers': 5, 'n_units_0': 78, 'n_units_1': 98, 'n_units_2': 67, 'n_units_3': 99, 'n_units_4': 61, 'activation': 'tanh', 'batch_size': 256, 'threshold': 0.06348792815390267, 'n_components': 21}. Best is trial 40 with value: 0.7504648360396515.\u001b[0m\n",
            "\u001b[32m[I 2021-12-02 21:21:13,613]\u001b[0m Trial 66 finished with value: 0.7446313482153568 and parameters: {'n_layers': 4, 'n_units_0': 61, 'n_units_1': 80, 'n_units_2': 84, 'n_units_3': 34, 'activation': 'tanh', 'batch_size': 128, 'threshold': 0.07359171203910268, 'n_components': 23}. Best is trial 40 with value: 0.7504648360396515.\u001b[0m\n",
            "\u001b[32m[I 2021-12-02 21:21:27,232]\u001b[0m Trial 67 finished with value: 0.7455662002857174 and parameters: {'n_layers': 5, 'n_units_0': 87, 'n_units_1': 90, 'n_units_2': 70, 'n_units_3': 88, 'n_units_4': 82, 'activation': 'tanh', 'batch_size': 128, 'threshold': 0.05545837769544558, 'n_components': 18}. Best is trial 40 with value: 0.7504648360396515.\u001b[0m\n",
            "\u001b[32m[I 2021-12-02 21:21:33,324]\u001b[0m Trial 68 finished with value: 0.736697510332719 and parameters: {'n_layers': 3, 'n_units_0': 70, 'n_units_1': 27, 'n_units_2': 75, 'activation': 'tanh', 'batch_size': 128, 'threshold': 0.034980223780461166, 'n_components': 15}. Best is trial 40 with value: 0.7504648360396515.\u001b[0m\n",
            "\u001b[32m[I 2021-12-02 21:21:46,849]\u001b[0m Trial 69 finished with value: 0.7397313493058812 and parameters: {'n_layers': 4, 'n_units_0': 67, 'n_units_1': 96, 'n_units_2': 94, 'n_units_3': 71, 'activation': 'tanh', 'batch_size': 128, 'threshold': 0.06942710809933958, 'n_components': 19}. Best is trial 40 with value: 0.7504648360396515.\u001b[0m\n",
            "\u001b[32m[I 2021-12-02 21:21:50,570]\u001b[0m Trial 70 finished with value: 0.5032680290951917 and parameters: {'n_layers': 6, 'n_units_0': 92, 'n_units_1': 13, 'n_units_2': 8, 'n_units_3': 22, 'n_units_4': 33, 'n_units_5': 79, 'activation': 'logistic', 'batch_size': 512, 'threshold': 0.042215889509434674, 'n_components': 18}. Best is trial 40 with value: 0.7504648360396515.\u001b[0m\n",
            "\u001b[32m[I 2021-12-02 21:21:55,926]\u001b[0m Trial 71 finished with value: 0.7443993391421935 and parameters: {'n_layers': 3, 'n_units_0': 43, 'n_units_1': 71, 'n_units_2': 61, 'activation': 'relu', 'batch_size': 128, 'threshold': 0.04643041481047702, 'n_components': 24}. Best is trial 40 with value: 0.7504648360396515.\u001b[0m\n",
            "\u001b[32m[I 2021-12-02 21:22:00,119]\u001b[0m Trial 72 finished with value: 0.7448628120263034 and parameters: {'n_layers': 2, 'n_units_0': 47, 'n_units_1': 36, 'activation': 'logistic', 'batch_size': 128, 'threshold': 0.054415578910818135, 'n_components': 25}. Best is trial 40 with value: 0.7504648360396515.\u001b[0m\n",
            "\u001b[32m[I 2021-12-02 21:22:08,762]\u001b[0m Trial 73 finished with value: 0.7506987535305729 and parameters: {'n_layers': 4, 'n_units_0': 37, 'n_units_1': 65, 'n_units_2': 48, 'n_units_3': 99, 'activation': 'tanh', 'batch_size': 128, 'threshold': 0.05069485803813258, 'n_components': 23}. Best is trial 73 with value: 0.7506987535305729.\u001b[0m\n",
            "\u001b[32m[I 2021-12-02 21:22:16,560]\u001b[0m Trial 74 finished with value: 0.7420647989618209 and parameters: {'n_layers': 4, 'n_units_0': 53, 'n_units_1': 66, 'n_units_2': 32, 'n_units_3': 100, 'activation': 'tanh', 'batch_size': 128, 'threshold': 0.04996645348941005, 'n_components': 21}. Best is trial 73 with value: 0.7506987535305729.\u001b[0m\n",
            "\u001b[32m[I 2021-12-02 21:22:29,143]\u001b[0m Trial 75 finished with value: 0.7429988331388564 and parameters: {'n_layers': 4, 'n_units_0': 37, 'n_units_1': 84, 'n_units_2': 44, 'n_units_3': 92, 'activation': 'tanh', 'batch_size': 128, 'threshold': 0.014097962333479718, 'n_components': 29}. Best is trial 73 with value: 0.7506987535305729.\u001b[0m\n",
            "\u001b[32m[I 2021-12-02 21:22:42,226]\u001b[0m Trial 76 finished with value: 0.7446335292642232 and parameters: {'n_layers': 5, 'n_units_0': 67, 'n_units_1': 62, 'n_units_2': 55, 'n_units_3': 80, 'n_units_4': 40, 'activation': 'tanh', 'batch_size': 128, 'threshold': 0.06053023737303949, 'n_components': 20}. Best is trial 73 with value: 0.7506987535305729.\u001b[0m\n",
            "\u001b[32m[I 2021-12-02 21:22:46,147]\u001b[0m Trial 77 finished with value: 0.74253317920588 and parameters: {'n_layers': 3, 'n_units_0': 31, 'n_units_1': 5, 'n_units_2': 45, 'activation': 'tanh', 'batch_size': 256, 'threshold': 0.03808521931529634, 'n_components': 16}. Best is trial 73 with value: 0.7506987535305729.\u001b[0m\n",
            "\u001b[32m[I 2021-12-02 21:22:59,302]\u001b[0m Trial 78 finished with value: 0.745801208301072 and parameters: {'n_layers': 5, 'n_units_0': 79, 'n_units_1': 19, 'n_units_2': 78, 'n_units_3': 87, 'n_units_4': 100, 'activation': 'tanh', 'batch_size': 128, 'threshold': 0.05161415387263187, 'n_components': 23}. Best is trial 73 with value: 0.7506987535305729.\u001b[0m\n",
            "\u001b[32m[I 2021-12-02 21:23:14,425]\u001b[0m Trial 79 finished with value: 0.7173205269414062 and parameters: {'n_layers': 4, 'n_units_0': 46, 'n_units_1': 77, 'n_units_2': 100, 'n_units_3': 96, 'activation': 'logistic', 'batch_size': 128, 'threshold': 0.030131405911916133, 'n_components': 4}. Best is trial 73 with value: 0.7506987535305729.\u001b[0m\n",
            "\u001b[32m[I 2021-12-02 21:23:22,657]\u001b[0m Trial 80 finished with value: 0.7513999607411204 and parameters: {'n_layers': 3, 'n_units_0': 58, 'n_units_1': 43, 'n_units_2': 65, 'activation': 'logistic', 'batch_size': 128, 'threshold': 0.026922735765374493, 'n_components': 27}. Best is trial 80 with value: 0.7513999607411204.\u001b[0m\n",
            "\u001b[32m[I 2021-12-02 21:23:29,659]\u001b[0m Trial 81 finished with value: 0.7448677193862528 and parameters: {'n_layers': 3, 'n_units_0': 59, 'n_units_1': 46, 'n_units_2': 66, 'activation': 'logistic', 'batch_size': 128, 'threshold': 0.022856735844402374, 'n_components': 27}. Best is trial 80 with value: 0.7513999607411204.\u001b[0m\n",
            "\u001b[32m[I 2021-12-02 21:23:39,279]\u001b[0m Trial 82 finished with value: 0.7411302195225684 and parameters: {'n_layers': 4, 'n_units_0': 51, 'n_units_1': 41, 'n_units_2': 71, 'n_units_3': 47, 'activation': 'logistic', 'batch_size': 128, 'threshold': 0.025451104157901337, 'n_components': 31}. Best is trial 80 with value: 0.7513999607411204.\u001b[0m\n",
            "\u001b[32m[I 2021-12-02 21:23:45,718]\u001b[0m Trial 83 finished with value: 0.7411255847937273 and parameters: {'n_layers': 3, 'n_units_0': 43, 'n_units_1': 7, 'n_units_2': 54, 'activation': 'logistic', 'batch_size': 128, 'threshold': 0.017325803840999448, 'n_components': 35}. Best is trial 80 with value: 0.7513999607411204.\u001b[0m\n",
            "\u001b[32m[I 2021-12-02 21:23:57,474]\u001b[0m Trial 84 finished with value: 0.5032680290951917 and parameters: {'n_layers': 10, 'n_units_0': 39, 'n_units_1': 54, 'n_units_2': 63, 'n_units_3': 24, 'n_units_4': 62, 'n_units_5': 48, 'n_units_6': 37, 'n_units_7': 50, 'n_units_8': 99, 'n_units_9': 96, 'activation': 'logistic', 'batch_size': 128, 'threshold': 0.004460323827178685, 'n_components': 48}. Best is trial 80 with value: 0.7513999607411204.\u001b[0m\n",
            "\u001b[32m[I 2021-12-02 21:24:05,376]\u001b[0m Trial 85 finished with value: 0.74486499307517 and parameters: {'n_layers': 3, 'n_units_0': 73, 'n_units_1': 44, 'n_units_2': 49, 'activation': 'logistic', 'batch_size': 128, 'threshold': 0.04013175051675809, 'n_components': 27}. Best is trial 80 with value: 0.7513999607411204.\u001b[0m\n",
            "\u001b[32m[I 2021-12-02 21:24:10,935]\u001b[0m Trial 86 finished with value: 0.7476660050818438 and parameters: {'n_layers': 2, 'n_units_0': 57, 'n_units_1': 73, 'activation': 'tanh', 'batch_size': 128, 'threshold': 0.03403705444267332, 'n_components': 25}. Best is trial 80 with value: 0.7513999607411204.\u001b[0m\n",
            "\u001b[32m[I 2021-12-02 21:24:14,979]\u001b[0m Trial 87 finished with value: 0.7471987153622177 and parameters: {'n_layers': 2, 'n_units_0': 58, 'n_units_1': 72, 'activation': 'tanh', 'batch_size': 128, 'threshold': 0.03216530860565676, 'n_components': 25}. Best is trial 80 with value: 0.7513999607411204.\u001b[0m\n",
            "\u001b[32m[I 2021-12-02 21:24:18,993]\u001b[0m Trial 88 finished with value: 0.7434653049651578 and parameters: {'n_layers': 2, 'n_units_0': 62, 'n_units_1': 60, 'activation': 'tanh', 'batch_size': 128, 'threshold': 0.02904735587235805, 'n_components': 28}. Best is trial 80 with value: 0.7513999607411204.\u001b[0m\n",
            "\u001b[32m[I 2021-12-02 21:24:21,763]\u001b[0m Trial 89 finished with value: 0.7397308040436645 and parameters: {'n_layers': 1, 'n_units_0': 52, 'activation': 'tanh', 'batch_size': 512, 'threshold': 0.04706288227239904, 'n_components': 24}. Best is trial 80 with value: 0.7513999607411204.\u001b[0m\n",
            "\u001b[32m[I 2021-12-02 21:24:26,615]\u001b[0m Trial 90 finished with value: 0.7493004285761022 and parameters: {'n_layers': 2, 'n_units_0': 65, 'n_units_1': 68, 'activation': 'tanh', 'batch_size': 128, 'threshold': 0.03501252396797273, 'n_components': 26}. Best is trial 80 with value: 0.7513999607411204.\u001b[0m\n",
            "\u001b[32m[I 2021-12-02 21:24:31,418]\u001b[0m Trial 91 finished with value: 0.7436984045627543 and parameters: {'n_layers': 2, 'n_units_0': 67, 'n_units_1': 67, 'activation': 'tanh', 'batch_size': 128, 'threshold': 0.03461504191522171, 'n_components': 29}. Best is trial 80 with value: 0.7513999607411204.\u001b[0m\n",
            "\u001b[32m[I 2021-12-02 21:24:35,581]\u001b[0m Trial 92 finished with value: 0.7472014416733008 and parameters: {'n_layers': 2, 'n_units_0': 56, 'n_units_1': 67, 'activation': 'tanh', 'batch_size': 128, 'threshold': 0.04310288175574228, 'n_components': 26}. Best is trial 80 with value: 0.7513999607411204.\u001b[0m\n",
            "\u001b[32m[I 2021-12-02 21:24:39,016]\u001b[0m Trial 93 finished with value: 0.7509340341770357 and parameters: {'n_layers': 1, 'n_units_0': 66, 'activation': 'tanh', 'batch_size': 128, 'threshold': 0.036238119196011984, 'n_components': 25}. Best is trial 80 with value: 0.7513999607411204.\u001b[0m\n",
            "\u001b[32m[I 2021-12-02 21:24:41,863]\u001b[0m Trial 94 finished with value: 0.744866083599603 and parameters: {'n_layers': 1, 'n_units_0': 65, 'activation': 'tanh', 'batch_size': 128, 'threshold': 0.036206877450851715, 'n_components': 25}. Best is trial 80 with value: 0.7513999607411204.\u001b[0m\n",
            "\u001b[32m[I 2021-12-02 21:24:45,586]\u001b[0m Trial 95 finished with value: 0.7460315815875854 and parameters: {'n_layers': 1, 'n_units_0': 72, 'activation': 'tanh', 'batch_size': 128, 'threshold': 0.03220607138860615, 'n_components': 27}. Best is trial 80 with value: 0.7513999607411204.\u001b[0m\n",
            "\u001b[32m[I 2021-12-02 21:24:51,285]\u001b[0m Trial 96 finished with value: 0.7446302576909235 and parameters: {'n_layers': 2, 'n_units_0': 76, 'n_units_1': 78, 'activation': 'tanh', 'batch_size': 128, 'threshold': 0.04057819570945133, 'n_components': 23}. Best is trial 80 with value: 0.7513999607411204.\u001b[0m\n",
            "\u001b[32m[I 2021-12-02 21:24:55,712]\u001b[0m Trial 97 finished with value: 0.7387943161866543 and parameters: {'n_layers': 2, 'n_units_0': 61, 'n_units_1': 84, 'activation': 'tanh', 'batch_size': 256, 'threshold': 0.02768559202620162, 'n_components': 22}. Best is trial 80 with value: 0.7513999607411204.\u001b[0m\n",
            "\u001b[32m[I 2021-12-02 21:25:00,691]\u001b[0m Trial 98 finished with value: 0.7499994547377833 and parameters: {'n_layers': 2, 'n_units_0': 49, 'n_units_1': 69, 'activation': 'tanh', 'batch_size': 128, 'threshold': 0.04798850889619831, 'n_components': 24}. Best is trial 80 with value: 0.7513999607411204.\u001b[0m\n",
            "\u001b[32m[I 2021-12-02 21:25:04,145]\u001b[0m Trial 99 finished with value: 0.7467352424781077 and parameters: {'n_layers': 1, 'n_units_0': 100, 'activation': 'tanh', 'batch_size': 128, 'threshold': 0.05621579444041517, 'n_components': 24}. Best is trial 80 with value: 0.7513999607411204.\u001b[0m\n"
          ]
        }
      ]
    },
    {
      "cell_type": "markdown",
      "metadata": {
        "id": "hJ90Fd0wG5xR"
      },
      "source": [
        "Επαναλαμβάνουμε την ίδια διαδικασία, προσπαθώντας αυτή τη φορά να μεγιστοποιήσουμε τις υπερ-παραμέτρους του δικτύου ως προς το f1 score κατά τη διαδιακασία του 5-fold cross validation. "
      ]
    },
    {
      "cell_type": "code",
      "metadata": {
        "colab": {
          "base_uri": "https://localhost:8080/"
        },
        "id": "bzH2YfQZ_9dx",
        "outputId": "e45cf797-8e94-4ac6-ff92-3e300231501e"
      },
      "source": [
        "# MinMax Scaler - Variance Threshold - PCA - MLP\n",
        "# optimize f1 score\n",
        "\n",
        "def objective(trial):\n",
        "\n",
        "    n_layers = trial.suggest_int('n_layers', 1, 10)\n",
        "    layers = []\n",
        "    for i in range(n_layers):\n",
        "        layers.append(trial.suggest_int(f'n_units_{i}', 1, 100))\n",
        "\n",
        "    activation = trial.suggest_categorical('activation', ['relu', 'tanh', 'logistic'])\n",
        "    batch_size = trial.suggest_categorical('batch_size', [128, 256, 512])\n",
        "\n",
        "    mlp = MLPClassifier(hidden_layer_sizes = tuple(layers), activation = activation,  solver = 'adam', batch_size = batch_size, max_iter = 10000, early_stopping = True)\n",
        "    threshold = trial.suggest_float('threshold', 0.0, 0.1)\n",
        "\n",
        "    p = Pipeline(steps = [('minmax_scaler', preprocessing.MinMaxScaler()), ('selector',  VarianceThreshold(threshold = threshold))])\n",
        "    upper_bound = p.fit_transform(X_train_small).shape[1]\n",
        "    n_components = trial.suggest_int('n_components', 1, upper_bound)\n",
        "\n",
        "    clf = Pipeline(steps = [('minmax_scaler', preprocessing.MinMaxScaler()), ('selector', VarianceThreshold(threshold)), ('pca', PCA(n_components = n_components)), ('mlp', mlp)])\n",
        "\n",
        "    return np.mean(cross_val_score(clf, X_train_small, y_train_small, cv = 5, scoring = 'f1'))\n",
        "\n",
        "study = optuna.create_study(direction = 'maximize')\n",
        "study.optimize(objective, n_trials = 50)"
      ],
      "execution_count": null,
      "outputs": [
        {
          "name": "stderr",
          "output_type": "stream",
          "text": [
            "\u001b[32m[I 2021-12-02 21:29:10,357]\u001b[0m A new study created in memory with name: no-name-78496dd8-4ff4-40f4-a4ae-8523da130d32\u001b[0m\n",
            "\u001b[32m[I 2021-12-02 21:29:14,218]\u001b[0m Trial 0 finished with value: 0.6989991179677634 and parameters: {'n_layers': 4, 'n_units_0': 12, 'n_units_1': 71, 'n_units_2': 22, 'n_units_3': 99, 'activation': 'relu', 'batch_size': 512, 'threshold': 0.07980171640905605, 'n_components': 2}. Best is trial 0 with value: 0.6989991179677634.\u001b[0m\n",
            "\u001b[32m[I 2021-12-02 21:29:17,721]\u001b[0m Trial 1 finished with value: 0.6007775433870679 and parameters: {'n_layers': 3, 'n_units_0': 86, 'n_units_1': 1, 'n_units_2': 32, 'activation': 'logistic', 'batch_size': 512, 'threshold': 0.058461538498944504, 'n_components': 27}. Best is trial 0 with value: 0.6989991179677634.\u001b[0m\n",
            "\u001b[32m[I 2021-12-02 21:29:30,298]\u001b[0m Trial 2 finished with value: 0.7471485516402564 and parameters: {'n_layers': 9, 'n_units_0': 37, 'n_units_1': 94, 'n_units_2': 63, 'n_units_3': 2, 'n_units_4': 68, 'n_units_5': 57, 'n_units_6': 38, 'n_units_7': 87, 'n_units_8': 62, 'activation': 'relu', 'batch_size': 128, 'threshold': 0.02959952662486546, 'n_components': 26}. Best is trial 2 with value: 0.7471485516402564.\u001b[0m\n",
            "\u001b[32m[I 2021-12-02 21:29:32,058]\u001b[0m Trial 3 finished with value: 0.7171366147495245 and parameters: {'n_layers': 1, 'n_units_0': 22, 'activation': 'tanh', 'batch_size': 128, 'threshold': 0.09186887708187369, 'n_components': 7}. Best is trial 2 with value: 0.7471485516402564.\u001b[0m\n",
            "\u001b[32m[I 2021-12-02 21:29:39,304]\u001b[0m Trial 4 finished with value: 0.0 and parameters: {'n_layers': 7, 'n_units_0': 93, 'n_units_1': 21, 'n_units_2': 100, 'n_units_3': 94, 'n_units_4': 48, 'n_units_5': 60, 'n_units_6': 32, 'activation': 'logistic', 'batch_size': 512, 'threshold': 0.06878949185615969, 'n_components': 7}. Best is trial 2 with value: 0.7471485516402564.\u001b[0m\n",
            "\u001b[32m[I 2021-12-02 21:29:44,353]\u001b[0m Trial 5 finished with value: 0.7361417024662094 and parameters: {'n_layers': 4, 'n_units_0': 64, 'n_units_1': 13, 'n_units_2': 71, 'n_units_3': 19, 'activation': 'tanh', 'batch_size': 256, 'threshold': 0.041951220817316254, 'n_components': 11}. Best is trial 2 with value: 0.7471485516402564.\u001b[0m\n",
            "\u001b[32m[I 2021-12-02 21:29:50,387]\u001b[0m Trial 6 finished with value: 0.752658965953092 and parameters: {'n_layers': 4, 'n_units_0': 24, 'n_units_1': 28, 'n_units_2': 84, 'n_units_3': 83, 'activation': 'relu', 'batch_size': 128, 'threshold': 0.03791822793687494, 'n_components': 22}. Best is trial 6 with value: 0.752658965953092.\u001b[0m\n",
            "\u001b[32m[I 2021-12-02 21:30:03,572]\u001b[0m Trial 7 finished with value: 0.7591510975474016 and parameters: {'n_layers': 4, 'n_units_0': 13, 'n_units_1': 29, 'n_units_2': 87, 'n_units_3': 99, 'activation': 'logistic', 'batch_size': 128, 'threshold': 0.02931701603352367, 'n_components': 15}. Best is trial 7 with value: 0.7591510975474016.\u001b[0m\n",
            "\u001b[32m[I 2021-12-02 21:30:10,476]\u001b[0m Trial 8 finished with value: 0.0 and parameters: {'n_layers': 7, 'n_units_0': 47, 'n_units_1': 69, 'n_units_2': 69, 'n_units_3': 26, 'n_units_4': 100, 'n_units_5': 62, 'n_units_6': 22, 'activation': 'logistic', 'batch_size': 256, 'threshold': 0.0613630121646822, 'n_components': 29}. Best is trial 7 with value: 0.7591510975474016.\u001b[0m\n",
            "\u001b[32m[I 2021-12-02 21:30:14,246]\u001b[0m Trial 9 finished with value: 0.7423353227238713 and parameters: {'n_layers': 1, 'n_units_0': 89, 'activation': 'logistic', 'batch_size': 256, 'threshold': 0.09185864159710062, 'n_components': 22}. Best is trial 7 with value: 0.7591510975474016.\u001b[0m\n",
            "\u001b[32m[I 2021-12-02 21:30:21,156]\u001b[0m Trial 10 finished with value: 0.0 and parameters: {'n_layers': 10, 'n_units_0': 5, 'n_units_1': 43, 'n_units_2': 41, 'n_units_3': 61, 'n_units_4': 6, 'n_units_5': 1, 'n_units_6': 99, 'n_units_7': 3, 'n_units_8': 1, 'n_units_9': 30, 'activation': 'logistic', 'batch_size': 128, 'threshold': 0.0014629038677384382, 'n_components': 58}. Best is trial 7 with value: 0.7591510975474016.\u001b[0m\n",
            "\u001b[32m[I 2021-12-02 21:30:29,328]\u001b[0m Trial 11 finished with value: 0.7644155695541986 and parameters: {'n_layers': 6, 'n_units_0': 25, 'n_units_1': 33, 'n_units_2': 91, 'n_units_3': 73, 'n_units_4': 1, 'n_units_5': 96, 'activation': 'relu', 'batch_size': 128, 'threshold': 0.02723008296672747, 'n_components': 16}. Best is trial 11 with value: 0.7644155695541986.\u001b[0m\n",
            "\u001b[32m[I 2021-12-02 21:30:35,669]\u001b[0m Trial 12 finished with value: 0.6003173829430976 and parameters: {'n_layers': 6, 'n_units_0': 33, 'n_units_1': 42, 'n_units_2': 98, 'n_units_3': 69, 'n_units_4': 2, 'n_units_5': 100, 'activation': 'relu', 'batch_size': 128, 'threshold': 0.013374999795842946, 'n_components': 16}. Best is trial 11 with value: 0.7644155695541986.\u001b[0m\n",
            "\u001b[32m[I 2021-12-02 21:30:47,839]\u001b[0m Trial 13 finished with value: 0.7478549577501818 and parameters: {'n_layers': 6, 'n_units_0': 2, 'n_units_1': 33, 'n_units_2': 83, 'n_units_3': 76, 'n_units_4': 27, 'n_units_5': 97, 'activation': 'relu', 'batch_size': 128, 'threshold': 0.02294900621161011, 'n_components': 15}. Best is trial 11 with value: 0.7644155695541986.\u001b[0m\n",
            "\u001b[32m[I 2021-12-02 21:30:54,151]\u001b[0m Trial 14 finished with value: 0.7622598072112003 and parameters: {'n_layers': 3, 'n_units_0': 59, 'n_units_1': 55, 'n_units_2': 51, 'activation': 'tanh', 'batch_size': 128, 'threshold': 0.017618525991330278, 'n_components': 39}. Best is trial 11 with value: 0.7644155695541986.\u001b[0m\n",
            "\u001b[32m[I 2021-12-02 21:30:58,618]\u001b[0m Trial 15 finished with value: 0.752610571464705 and parameters: {'n_layers': 2, 'n_units_0': 60, 'n_units_1': 65, 'activation': 'tanh', 'batch_size': 128, 'threshold': 0.01049489318775907, 'n_components': 39}. Best is trial 11 with value: 0.7644155695541986.\u001b[0m\n",
            "\u001b[32m[I 2021-12-02 21:31:10,955]\u001b[0m Trial 16 finished with value: 0.7612074930547843 and parameters: {'n_layers': 8, 'n_units_0': 72, 'n_units_1': 57, 'n_units_2': 13, 'n_units_3': 36, 'n_units_4': 36, 'n_units_5': 21, 'n_units_6': 90, 'n_units_7': 27, 'activation': 'tanh', 'batch_size': 128, 'threshold': 0.0488947140769428, 'n_components': 32}. Best is trial 11 with value: 0.7644155695541986.\u001b[0m\n",
            "\u001b[32m[I 2021-12-02 21:31:25,404]\u001b[0m Trial 17 finished with value: 0.7681742715312316 and parameters: {'n_layers': 5, 'n_units_0': 47, 'n_units_1': 89, 'n_units_2': 52, 'n_units_3': 50, 'n_units_4': 73, 'activation': 'tanh', 'batch_size': 128, 'threshold': 0.01887862883181525, 'n_components': 42}. Best is trial 17 with value: 0.7681742715312316.\u001b[0m\n",
            "\u001b[32m[I 2021-12-02 21:31:31,689]\u001b[0m Trial 18 finished with value: 0.7595152251182151 and parameters: {'n_layers': 5, 'n_units_0': 44, 'n_units_1': 99, 'n_units_2': 1, 'n_units_3': 47, 'n_units_4': 75, 'activation': 'tanh', 'batch_size': 256, 'threshold': 6.294805015870375e-06, 'n_components': 80}. Best is trial 17 with value: 0.7681742715312316.\u001b[0m\n",
            "\u001b[32m[I 2021-12-02 21:31:37,880]\u001b[0m Trial 19 finished with value: 0.566350107362935 and parameters: {'n_layers': 7, 'n_units_0': 31, 'n_units_1': 83, 'n_units_2': 54, 'n_units_3': 54, 'n_units_4': 73, 'n_units_5': 81, 'n_units_6': 3, 'activation': 'relu', 'batch_size': 512, 'threshold': 0.03479055206429748, 'n_components': 21}. Best is trial 17 with value: 0.7681742715312316.\u001b[0m\n",
            "\u001b[32m[I 2021-12-02 21:31:47,951]\u001b[0m Trial 20 finished with value: 0.7313522885690441 and parameters: {'n_layers': 5, 'n_units_0': 51, 'n_units_1': 83, 'n_units_2': 38, 'n_units_3': 42, 'n_units_4': 96, 'activation': 'relu', 'batch_size': 128, 'threshold': 0.048076485665764425, 'n_components': 10}. Best is trial 17 with value: 0.7681742715312316.\u001b[0m\n",
            "\u001b[32m[I 2021-12-02 21:31:55,462]\u001b[0m Trial 21 finished with value: 0.7411839024574775 and parameters: {'n_layers': 3, 'n_units_0': 61, 'n_units_1': 54, 'n_units_2': 51, 'activation': 'tanh', 'batch_size': 128, 'threshold': 0.01870271860924967, 'n_components': 40}. Best is trial 17 with value: 0.7681742715312316.\u001b[0m\n",
            "\u001b[32m[I 2021-12-02 21:32:01,935]\u001b[0m Trial 22 finished with value: 0.7350236499300022 and parameters: {'n_layers': 3, 'n_units_0': 80, 'n_units_1': 42, 'n_units_2': 61, 'activation': 'tanh', 'batch_size': 128, 'threshold': 0.012121791025726279, 'n_components': 41}. Best is trial 17 with value: 0.7681742715312316.\u001b[0m\n",
            "\u001b[32m[I 2021-12-02 21:32:11,675]\u001b[0m Trial 23 finished with value: 0.7636803408446136 and parameters: {'n_layers': 5, 'n_units_0': 52, 'n_units_1': 87, 'n_units_2': 45, 'n_units_3': 64, 'n_units_4': 58, 'activation': 'tanh', 'batch_size': 128, 'threshold': 0.02278406216982056, 'n_components': 34}. Best is trial 17 with value: 0.7681742715312316.\u001b[0m\n",
            "\u001b[32m[I 2021-12-02 21:32:23,046]\u001b[0m Trial 24 finished with value: 0.7638624000089506 and parameters: {'n_layers': 6, 'n_units_0': 42, 'n_units_1': 77, 'n_units_2': 30, 'n_units_3': 62, 'n_units_4': 60, 'n_units_5': 24, 'activation': 'tanh', 'batch_size': 128, 'threshold': 0.028443703193437718, 'n_components': 32}. Best is trial 17 with value: 0.7681742715312316.\u001b[0m\n",
            "\u001b[32m[I 2021-12-02 21:32:45,041]\u001b[0m Trial 25 finished with value: 0.752956695537565 and parameters: {'n_layers': 8, 'n_units_0': 40, 'n_units_1': 77, 'n_units_2': 27, 'n_units_3': 79, 'n_units_4': 84, 'n_units_5': 30, 'n_units_6': 64, 'n_units_7': 100, 'activation': 'tanh', 'batch_size': 128, 'threshold': 0.02875551830804537, 'n_components': 18}. Best is trial 17 with value: 0.7681742715312316.\u001b[0m\n",
            "\u001b[32m[I 2021-12-02 21:32:54,855]\u001b[0m Trial 26 finished with value: 0.7551691666153846 and parameters: {'n_layers': 6, 'n_units_0': 25, 'n_units_1': 92, 'n_units_2': 19, 'n_units_3': 59, 'n_units_4': 54, 'n_units_5': 35, 'activation': 'tanh', 'batch_size': 128, 'threshold': 0.04203112503502099, 'n_components': 25}. Best is trial 17 with value: 0.7681742715312316.\u001b[0m\n",
            "\u001b[32m[I 2021-12-02 21:33:02,117]\u001b[0m Trial 27 finished with value: 0.7548879191803681 and parameters: {'n_layers': 8, 'n_units_0': 30, 'n_units_1': 62, 'n_units_2': 7, 'n_units_3': 69, 'n_units_4': 20, 'n_units_5': 8, 'n_units_6': 67, 'n_units_7': 60, 'activation': 'relu', 'batch_size': 128, 'threshold': 0.007207063082165406, 'n_components': 48}. Best is trial 17 with value: 0.7681742715312316.\u001b[0m\n",
            "\u001b[32m[I 2021-12-02 21:33:13,624]\u001b[0m Trial 28 finished with value: 0.7444059621047471 and parameters: {'n_layers': 6, 'n_units_0': 20, 'n_units_1': 74, 'n_units_2': 33, 'n_units_3': 87, 'n_units_4': 43, 'n_units_5': 43, 'activation': 'tanh', 'batch_size': 512, 'threshold': 0.025420698789205894, 'n_components': 34}. Best is trial 17 with value: 0.7681742715312316.\u001b[0m\n",
            "\u001b[32m[I 2021-12-02 21:33:19,085]\u001b[0m Trial 29 finished with value: 0.5292006776666073 and parameters: {'n_layers': 5, 'n_units_0': 16, 'n_units_1': 79, 'n_units_2': 75, 'n_units_3': 51, 'n_units_4': 62, 'activation': 'relu', 'batch_size': 256, 'threshold': 0.033500693331576153, 'n_components': 1}. Best is trial 17 with value: 0.7681742715312316.\u001b[0m\n",
            "\u001b[32m[I 2021-12-02 21:33:30,669]\u001b[0m Trial 30 finished with value: 0.7637346825663996 and parameters: {'n_layers': 7, 'n_units_0': 39, 'n_units_1': 92, 'n_units_2': 92, 'n_units_3': 34, 'n_units_4': 83, 'n_units_5': 74, 'n_units_6': 3, 'activation': 'tanh', 'batch_size': 512, 'threshold': 0.056167701441775034, 'n_components': 19}. Best is trial 17 with value: 0.7681742715312316.\u001b[0m\n",
            "\u001b[32m[I 2021-12-02 21:33:45,480]\u001b[0m Trial 31 finished with value: 0.7545959275414583 and parameters: {'n_layers': 7, 'n_units_0': 40, 'n_units_1': 90, 'n_units_2': 90, 'n_units_3': 34, 'n_units_4': 83, 'n_units_5': 78, 'n_units_6': 5, 'activation': 'tanh', 'batch_size': 512, 'threshold': 0.07214773316214744, 'n_components': 18}. Best is trial 17 with value: 0.7681742715312316.\u001b[0m\n",
            "\u001b[32m[I 2021-12-02 21:34:03,014]\u001b[0m Trial 32 finished with value: 0.7385843010684712 and parameters: {'n_layers': 6, 'n_units_0': 47, 'n_units_1': 100, 'n_units_2': 93, 'n_units_3': 43, 'n_units_4': 83, 'n_units_5': 80, 'activation': 'tanh', 'batch_size': 512, 'threshold': 0.05622714164790475, 'n_components': 19}. Best is trial 17 with value: 0.7681742715312316.\u001b[0m\n",
            "\u001b[32m[I 2021-12-02 21:34:19,661]\u001b[0m Trial 33 finished with value: 0.7418264011871333 and parameters: {'n_layers': 9, 'n_units_0': 36, 'n_units_1': 83, 'n_units_2': 75, 'n_units_3': 19, 'n_units_4': 64, 'n_units_5': 87, 'n_units_6': 53, 'n_units_7': 56, 'n_units_8': 95, 'activation': 'tanh', 'batch_size': 512, 'threshold': 0.05472149182403978, 'n_components': 28}. Best is trial 17 with value: 0.7681742715312316.\u001b[0m\n",
            "\u001b[32m[I 2021-12-02 21:34:34,923]\u001b[0m Trial 34 finished with value: 0.753663451776852 and parameters: {'n_layers': 7, 'n_units_0': 100, 'n_units_1': 72, 'n_units_2': 19, 'n_units_3': 71, 'n_units_4': 89, 'n_units_5': 69, 'n_units_6': 17, 'activation': 'tanh', 'batch_size': 512, 'threshold': 0.042821047670840814, 'n_components': 24}. Best is trial 17 with value: 0.7681742715312316.\u001b[0m\n",
            "\u001b[32m[I 2021-12-02 21:34:42,853]\u001b[0m Trial 35 finished with value: 0.7373786656591632 and parameters: {'n_layers': 5, 'n_units_0': 52, 'n_units_1': 96, 'n_units_2': 79, 'n_units_3': 55, 'n_units_4': 74, 'activation': 'relu', 'batch_size': 512, 'threshold': 0.06611174935314962, 'n_components': 21}. Best is trial 17 with value: 0.7681742715312316.\u001b[0m\n",
            "\u001b[32m[I 2021-12-02 21:34:50,477]\u001b[0m Trial 36 finished with value: 0.6072017348433889 and parameters: {'n_layers': 8, 'n_units_0': 28, 'n_units_1': 2, 'n_units_2': 61, 'n_units_3': 30, 'n_units_4': 16, 'n_units_5': 46, 'n_units_6': 43, 'n_units_7': 3, 'activation': 'tanh', 'batch_size': 512, 'threshold': 0.08211112126782923, 'n_components': 17}. Best is trial 17 with value: 0.7681742715312316.\u001b[0m\n",
            "\u001b[32m[I 2021-12-02 21:35:08,845]\u001b[0m Trial 37 finished with value: 0.7490687602467195 and parameters: {'n_layers': 9, 'n_units_0': 40, 'n_units_1': 88, 'n_units_2': 94, 'n_units_3': 41, 'n_units_4': 43, 'n_units_5': 91, 'n_units_6': 71, 'n_units_7': 35, 'n_units_8': 3, 'activation': 'tanh', 'batch_size': 128, 'threshold': 0.017520565652399005, 'n_components': 44}. Best is trial 17 with value: 0.7681742715312316.\u001b[0m\n",
            "\u001b[32m[I 2021-12-02 21:35:12,981]\u001b[0m Trial 38 finished with value: 0.7449526153532449 and parameters: {'n_layers': 4, 'n_units_0': 8, 'n_units_1': 47, 'n_units_2': 26, 'n_units_3': 65, 'activation': 'relu', 'batch_size': 128, 'threshold': 0.03377043885346108, 'n_components': 12}. Best is trial 17 with value: 0.7681742715312316.\u001b[0m\n",
            "\u001b[32m[I 2021-12-02 21:35:18,514]\u001b[0m Trial 39 finished with value: 0.0 and parameters: {'n_layers': 7, 'n_units_0': 68, 'n_units_1': 15, 'n_units_2': 68, 'n_units_3': 20, 'n_units_4': 69, 'n_units_5': 71, 'n_units_6': 21, 'activation': 'logistic', 'batch_size': 512, 'threshold': 0.04553511737521666, 'n_components': 13}. Best is trial 17 with value: 0.7681742715312316.\u001b[0m\n",
            "\u001b[32m[I 2021-12-02 21:35:25,863]\u001b[0m Trial 40 finished with value: 0.7566288244352329 and parameters: {'n_layers': 6, 'n_units_0': 21, 'n_units_1': 35, 'n_units_2': 34, 'n_units_3': 4, 'n_units_4': 90, 'n_units_5': 14, 'activation': 'tanh', 'batch_size': 256, 'threshold': 0.051986906469695573, 'n_components': 27}. Best is trial 17 with value: 0.7681742715312316.\u001b[0m\n",
            "\u001b[32m[I 2021-12-02 21:35:40,119]\u001b[0m Trial 41 finished with value: 0.7669992184433891 and parameters: {'n_layers': 5, 'n_units_0': 56, 'n_units_1': 87, 'n_units_2': 43, 'n_units_3': 60, 'n_units_4': 55, 'activation': 'tanh', 'batch_size': 128, 'threshold': 0.026019252617800463, 'n_components': 30}. Best is trial 17 with value: 0.7681742715312316.\u001b[0m\n",
            "\u001b[32m[I 2021-12-02 21:35:50,798]\u001b[0m Trial 42 finished with value: 0.7616258345450486 and parameters: {'n_layers': 4, 'n_units_0': 55, 'n_units_1': 94, 'n_units_2': 44, 'n_units_3': 58, 'activation': 'tanh', 'batch_size': 128, 'threshold': 0.03869048865756567, 'n_components': 24}. Best is trial 17 with value: 0.7681742715312316.\u001b[0m\n",
            "\u001b[32m[I 2021-12-02 21:36:00,361]\u001b[0m Trial 43 finished with value: 0.7393334288917944 and parameters: {'n_layers': 5, 'n_units_0': 45, 'n_units_1': 79, 'n_units_2': 57, 'n_units_3': 49, 'n_units_4': 54, 'activation': 'tanh', 'batch_size': 128, 'threshold': 0.027163055574649073, 'n_components': 4}. Best is trial 17 with value: 0.7681742715312316.\u001b[0m\n",
            "\u001b[32m[I 2021-12-02 21:36:15,142]\u001b[0m Trial 44 finished with value: 0.7607176900321262 and parameters: {'n_layers': 6, 'n_units_0': 34, 'n_units_1': 86, 'n_units_2': 28, 'n_units_3': 75, 'n_units_4': 64, 'n_units_5': 27, 'activation': 'tanh', 'batch_size': 128, 'threshold': 0.0056115107356427656, 'n_components': 50}. Best is trial 17 with value: 0.7681742715312316.\u001b[0m\n",
            "\u001b[32m[I 2021-12-02 21:36:26,232]\u001b[0m Trial 45 finished with value: 0.768857526830064 and parameters: {'n_layers': 4, 'n_units_0': 43, 'n_units_1': 66, 'n_units_2': 45, 'n_units_3': 89, 'activation': 'logistic', 'batch_size': 128, 'threshold': 0.021505152766616572, 'n_components': 30}. Best is trial 45 with value: 0.768857526830064.\u001b[0m\n",
            "\u001b[32m[I 2021-12-02 21:36:40,039]\u001b[0m Trial 46 finished with value: 0.7593311087842659 and parameters: {'n_layers': 4, 'n_units_0': 74, 'n_units_1': 67, 'n_units_2': 47, 'n_units_3': 90, 'activation': 'logistic', 'batch_size': 128, 'threshold': 0.020864506543536127, 'n_components': 30}. Best is trial 45 with value: 0.768857526830064.\u001b[0m\n",
            "\u001b[32m[I 2021-12-02 21:36:53,621]\u001b[0m Trial 47 finished with value: 0.7634279563447924 and parameters: {'n_layers': 5, 'n_units_0': 58, 'n_units_1': 60, 'n_units_2': 40, 'n_units_3': 97, 'n_units_4': 46, 'activation': 'logistic', 'batch_size': 128, 'threshold': 0.01458528187704045, 'n_components': 35}. Best is trial 45 with value: 0.768857526830064.\u001b[0m\n",
            "\u001b[32m[I 2021-12-02 21:37:03,688]\u001b[0m Trial 48 finished with value: 0.7585689254173096 and parameters: {'n_layers': 4, 'n_units_0': 64, 'n_units_1': 21, 'n_units_2': 36, 'n_units_3': 80, 'activation': 'logistic', 'batch_size': 128, 'threshold': 0.029862826148738288, 'n_components': 30}. Best is trial 45 with value: 0.768857526830064.\u001b[0m\n",
            "\u001b[32m[I 2021-12-02 21:37:12,353]\u001b[0m Trial 49 finished with value: 0.7564414351454963 and parameters: {'n_layers': 3, 'n_units_0': 45, 'n_units_1': 70, 'n_units_2': 66, 'activation': 'logistic', 'batch_size': 128, 'threshold': 0.0247383857580698, 'n_components': 32}. Best is trial 45 with value: 0.768857526830064.\u001b[0m\n"
          ]
        }
      ]
    },
    {
      "cell_type": "markdown",
      "metadata": {
        "id": "9P6GvjPTHL2o"
      },
      "source": [
        "Από τις παραπάνω δοκιμές παρατηρούμε ότι η αρχιτεκτονική αυτή επιτυγχάνει αρκετά ικανοποιητικά accuracy αλλά και f1 scores για όλες τις activation functions, με την 'tanh' ωστόσο να υπερτερεί, με μικρή βέβαια διαφορά. \n",
        "\n",
        "Στη συνέχεια, ολοκλρώνοντας με την αρχιτεκτονική αυτή, δοκιμάζουμε να βελτιστοποιήσουμε τις υπερπαραμέτρους και ως προς τις δύο μετρικές, accuracy και f1 score, προσπαθώντας να μεγιστοποιήσουμε το μέσο όρο αυτών. "
      ]
    },
    {
      "cell_type": "code",
      "metadata": {
        "colab": {
          "base_uri": "https://localhost:8080/"
        },
        "id": "qo7LMAoNFnjW",
        "outputId": "129704d1-0208-4e86-a899-9c3c4810e782"
      },
      "source": [
        "# MinMax Scaler - Variance Threshold - PCA - MLP\n",
        "# optimize both accuracy and f1 score\n",
        "\n",
        "def objective(trial):\n",
        "\n",
        "    n_layers = trial.suggest_int('n_layers', 1, 10)\n",
        "    layers = []\n",
        "    for i in range(n_layers):\n",
        "        layers.append(trial.suggest_int(f'n_units_{i}', 1, 100))\n",
        "\n",
        "    activation = trial.suggest_categorical('activation', ['tanh'])\n",
        "    batch_size = trial.suggest_categorical('batch_size', [128, 256, 512])\n",
        "\n",
        "    mlp = MLPClassifier(hidden_layer_sizes = tuple(layers), activation = activation,  solver = 'adam', batch_size = batch_size, max_iter = 10000, early_stopping = True)\n",
        "    threshold = trial.suggest_float('threshold', 0.0, 0.08)\n",
        "\n",
        "    p = Pipeline(steps = [('minmax_scaler', preprocessing.MinMaxScaler()), ('selector',  VarianceThreshold(threshold = threshold))])\n",
        "    upper_bound = p.fit_transform(X_train_small).shape[1]\n",
        "    n_components = trial.suggest_int('n_components', min(10, upper_bound), min(55, upper_bound))\n",
        "\n",
        "    clf = Pipeline(steps = [('minmax_scaler', preprocessing.MinMaxScaler()), ('selector', VarianceThreshold(threshold)), ('pca', PCA(n_components = n_components)), ('mlp', mlp)])\n",
        "\n",
        "    acc = np.mean(cross_val_score(clf, X_train_small, y_train_small, cv = 5, scoring = 'accuracy'))\n",
        "    f1 = np.mean(cross_val_score(clf, X_train_small, y_train_small, cv = 5, scoring = 'f1'))\n",
        "    print('cross-val accuracy:', np.round(acc, 5))\n",
        "    print('cross-val f1 score:', np.round(f1, 5))\n",
        "    return (acc + f1) / 2\n",
        "\n",
        "study = optuna.create_study(direction = 'maximize')\n",
        "study.optimize(objective, n_trials = 100)"
      ],
      "execution_count": null,
      "outputs": [
        {
          "name": "stderr",
          "output_type": "stream",
          "text": [
            "\u001b[32m[I 2021-12-02 21:42:22,505]\u001b[0m A new study created in memory with name: no-name-0af74d89-3342-433e-98e9-99bfb7e5a614\u001b[0m\n",
            "\u001b[32m[I 2021-12-02 21:42:30,531]\u001b[0m Trial 0 finished with value: 0.7436931687924178 and parameters: {'n_layers': 2, 'n_units_0': 57, 'n_units_1': 11, 'activation': 'tanh', 'batch_size': 128, 'threshold': 0.01610571215945969, 'n_components': 23}. Best is trial 0 with value: 0.7436931687924178.\u001b[0m\n"
          ]
        },
        {
          "name": "stdout",
          "output_type": "stream",
          "text": [
            "cross-val accuracy: 0.7409\n",
            "cross-val f1 score: 0.74649\n"
          ]
        },
        {
          "name": "stderr",
          "output_type": "stream",
          "text": [
            "\u001b[32m[I 2021-12-02 21:42:37,946]\u001b[0m Trial 1 finished with value: 0.7499252461978652 and parameters: {'n_layers': 2, 'n_units_0': 36, 'n_units_1': 39, 'activation': 'tanh', 'batch_size': 128, 'threshold': 0.04741704562204613, 'n_components': 27}. Best is trial 1 with value: 0.7499252461978652.\u001b[0m\n"
          ]
        },
        {
          "name": "stdout",
          "output_type": "stream",
          "text": [
            "cross-val accuracy: 0.74767\n",
            "cross-val f1 score: 0.75218\n"
          ]
        },
        {
          "name": "stderr",
          "output_type": "stream",
          "text": [
            "\u001b[32m[I 2021-12-02 21:42:45,289]\u001b[0m Trial 2 finished with value: 0.7337730393642863 and parameters: {'n_layers': 1, 'n_units_0': 98, 'activation': 'tanh', 'batch_size': 512, 'threshold': 0.02934600894410604, 'n_components': 13}. Best is trial 1 with value: 0.7499252461978652.\u001b[0m\n"
          ]
        },
        {
          "name": "stdout",
          "output_type": "stream",
          "text": [
            "cross-val accuracy: 0.72993\n",
            "cross-val f1 score: 0.73762\n"
          ]
        },
        {
          "name": "stderr",
          "output_type": "stream",
          "text": [
            "\u001b[32m[I 2021-12-02 21:43:10,553]\u001b[0m Trial 3 finished with value: 0.7553992228784694 and parameters: {'n_layers': 8, 'n_units_0': 74, 'n_units_1': 5, 'n_units_2': 80, 'n_units_3': 26, 'n_units_4': 67, 'n_units_5': 53, 'n_units_6': 75, 'n_units_7': 4, 'activation': 'tanh', 'batch_size': 256, 'threshold': 0.017928519218683762, 'n_components': 31}. Best is trial 3 with value: 0.7553992228784694.\u001b[0m\n"
          ]
        },
        {
          "name": "stdout",
          "output_type": "stream",
          "text": [
            "cross-val accuracy: 0.74533\n",
            "cross-val f1 score: 0.76547\n"
          ]
        },
        {
          "name": "stderr",
          "output_type": "stream",
          "text": [
            "\u001b[32m[I 2021-12-02 21:43:50,786]\u001b[0m Trial 4 finished with value: 0.7499151085472169 and parameters: {'n_layers': 10, 'n_units_0': 26, 'n_units_1': 71, 'n_units_2': 72, 'n_units_3': 26, 'n_units_4': 71, 'n_units_5': 86, 'n_units_6': 27, 'n_units_7': 42, 'n_units_8': 47, 'n_units_9': 88, 'activation': 'tanh', 'batch_size': 128, 'threshold': 0.041918885999912184, 'n_components': 32}. Best is trial 3 with value: 0.7553992228784694.\u001b[0m\n"
          ]
        },
        {
          "name": "stdout",
          "output_type": "stream",
          "text": [
            "cross-val accuracy: 0.74906\n",
            "cross-val f1 score: 0.75077\n"
          ]
        },
        {
          "name": "stderr",
          "output_type": "stream",
          "text": [
            "\u001b[32m[I 2021-12-02 21:43:54,521]\u001b[0m Trial 5 finished with value: 0.7431386251391333 and parameters: {'n_layers': 1, 'n_units_0': 24, 'activation': 'tanh', 'batch_size': 256, 'threshold': 0.055581713417198864, 'n_components': 16}. Best is trial 3 with value: 0.7553992228784694.\u001b[0m\n"
          ]
        },
        {
          "name": "stdout",
          "output_type": "stream",
          "text": [
            "cross-val accuracy: 0.73483\n",
            "cross-val f1 score: 0.75145\n"
          ]
        },
        {
          "name": "stderr",
          "output_type": "stream",
          "text": [
            "\u001b[32m[I 2021-12-02 21:44:20,917]\u001b[0m Trial 6 finished with value: 0.7358258447434227 and parameters: {'n_layers': 10, 'n_units_0': 72, 'n_units_1': 90, 'n_units_2': 14, 'n_units_3': 49, 'n_units_4': 57, 'n_units_5': 23, 'n_units_6': 23, 'n_units_7': 41, 'n_units_8': 93, 'n_units_9': 36, 'activation': 'tanh', 'batch_size': 256, 'threshold': 0.0159636888865884, 'n_components': 45}. Best is trial 3 with value: 0.7553992228784694.\u001b[0m\n"
          ]
        },
        {
          "name": "stdout",
          "output_type": "stream",
          "text": [
            "cross-val accuracy: 0.73459\n",
            "cross-val f1 score: 0.73706\n"
          ]
        },
        {
          "name": "stderr",
          "output_type": "stream",
          "text": [
            "\u001b[32m[I 2021-12-02 21:44:44,486]\u001b[0m Trial 7 finished with value: 0.7512830632636536 and parameters: {'n_layers': 6, 'n_units_0': 69, 'n_units_1': 73, 'n_units_2': 63, 'n_units_3': 51, 'n_units_4': 95, 'n_units_5': 43, 'activation': 'tanh', 'batch_size': 512, 'threshold': 0.04959822698409641, 'n_components': 21}. Best is trial 3 with value: 0.7553992228784694.\u001b[0m\n"
          ]
        },
        {
          "name": "stdout",
          "output_type": "stream",
          "text": [
            "cross-val accuracy: 0.7472\n",
            "cross-val f1 score: 0.75537\n"
          ]
        },
        {
          "name": "stderr",
          "output_type": "stream",
          "text": [
            "\u001b[32m[I 2021-12-02 21:44:56,317]\u001b[0m Trial 8 finished with value: 0.7490097548446173 and parameters: {'n_layers': 3, 'n_units_0': 64, 'n_units_1': 48, 'n_units_2': 58, 'activation': 'tanh', 'batch_size': 128, 'threshold': 0.04297338381822096, 'n_components': 30}. Best is trial 3 with value: 0.7553992228784694.\u001b[0m\n"
          ]
        },
        {
          "name": "stdout",
          "output_type": "stream",
          "text": [
            "cross-val accuracy: 0.7416\n",
            "cross-val f1 score: 0.75642\n"
          ]
        },
        {
          "name": "stderr",
          "output_type": "stream",
          "text": [
            "\u001b[32m[I 2021-12-02 21:45:00,286]\u001b[0m Trial 9 finished with value: 0.7365680371001346 and parameters: {'n_layers': 1, 'n_units_0': 5, 'activation': 'tanh', 'batch_size': 256, 'threshold': 0.04014911683672031, 'n_components': 15}. Best is trial 3 with value: 0.7553992228784694.\u001b[0m\n"
          ]
        },
        {
          "name": "stdout",
          "output_type": "stream",
          "text": [
            "cross-val accuracy: 0.72713\n",
            "cross-val f1 score: 0.746\n"
          ]
        },
        {
          "name": "stderr",
          "output_type": "stream",
          "text": [
            "\u001b[32m[I 2021-12-02 21:45:17,767]\u001b[0m Trial 10 finished with value: 0.7257292175465249 and parameters: {'n_layers': 7, 'n_units_0': 97, 'n_units_1': 1, 'n_units_2': 92, 'n_units_3': 2, 'n_units_4': 12, 'n_units_5': 72, 'n_units_6': 91, 'activation': 'tanh', 'batch_size': 256, 'threshold': 0.07112705755465665, 'n_components': 10}. Best is trial 3 with value: 0.7553992228784694.\u001b[0m\n"
          ]
        },
        {
          "name": "stdout",
          "output_type": "stream",
          "text": [
            "cross-val accuracy: 0.72549\n",
            "cross-val f1 score: 0.72597\n"
          ]
        },
        {
          "name": "stderr",
          "output_type": "stream",
          "text": [
            "\u001b[32m[I 2021-12-02 21:45:55,110]\u001b[0m Trial 11 finished with value: 0.7432712589981763 and parameters: {'n_layers': 7, 'n_units_0': 79, 'n_units_1': 72, 'n_units_2': 83, 'n_units_3': 94, 'n_units_4': 98, 'n_units_5': 42, 'n_units_6': 80, 'activation': 'tanh', 'batch_size': 512, 'threshold': 0.0004370020457881915, 'n_components': 42}. Best is trial 3 with value: 0.7553992228784694.\u001b[0m\n"
          ]
        },
        {
          "name": "stdout",
          "output_type": "stream",
          "text": [
            "cross-val accuracy: 0.74487\n",
            "cross-val f1 score: 0.74168\n"
          ]
        },
        {
          "name": "stderr",
          "output_type": "stream",
          "text": [
            "\u001b[32m[I 2021-12-02 21:46:13,681]\u001b[0m Trial 12 finished with value: 0.7492452897004958 and parameters: {'n_layers': 5, 'n_units_0': 79, 'n_units_1': 30, 'n_units_2': 34, 'n_units_3': 51, 'n_units_4': 93, 'activation': 'tanh', 'batch_size': 512, 'threshold': 0.06535993727958242, 'n_components': 20}. Best is trial 3 with value: 0.7553992228784694.\u001b[0m\n"
          ]
        },
        {
          "name": "stdout",
          "output_type": "stream",
          "text": [
            "cross-val accuracy: 0.7381\n",
            "cross-val f1 score: 0.7604\n"
          ]
        },
        {
          "name": "stderr",
          "output_type": "stream",
          "text": [
            "\u001b[32m[I 2021-12-02 21:46:34,572]\u001b[0m Trial 13 finished with value: 0.6326334188309237 and parameters: {'n_layers': 8, 'n_units_0': 47, 'n_units_1': 74, 'n_units_2': 56, 'n_units_3': 52, 'n_units_4': 74, 'n_units_5': 49, 'n_units_6': 58, 'n_units_7': 1, 'activation': 'tanh', 'batch_size': 512, 'threshold': 0.029014369134763723, 'n_components': 21}. Best is trial 3 with value: 0.7553992228784694.\u001b[0m\n"
          ]
        },
        {
          "name": "stdout",
          "output_type": "stream",
          "text": [
            "cross-val accuracy: 0.68839\n",
            "cross-val f1 score: 0.57688\n"
          ]
        },
        {
          "name": "stderr",
          "output_type": "stream",
          "text": [
            "\u001b[32m[I 2021-12-02 21:46:54,881]\u001b[0m Trial 14 finished with value: 0.7463906213097807 and parameters: {'n_layers': 5, 'n_units_0': 86, 'n_units_1': 100, 'n_units_2': 76, 'n_units_3': 26, 'n_units_4': 20, 'activation': 'tanh', 'batch_size': 512, 'threshold': 0.05778413518225843, 'n_components': 25}. Best is trial 3 with value: 0.7553992228784694.\u001b[0m\n"
          ]
        },
        {
          "name": "stdout",
          "output_type": "stream",
          "text": [
            "cross-val accuracy: 0.74323\n",
            "cross-val f1 score: 0.74955\n"
          ]
        },
        {
          "name": "stderr",
          "output_type": "stream",
          "text": [
            "\u001b[32m[I 2021-12-02 21:47:18,611]\u001b[0m Trial 15 finished with value: 0.747052465063742 and parameters: {'n_layers': 8, 'n_units_0': 48, 'n_units_1': 22, 'n_units_2': 100, 'n_units_3': 76, 'n_units_4': 41, 'n_units_5': 9, 'n_units_6': 51, 'n_units_7': 96, 'activation': 'tanh', 'batch_size': 256, 'threshold': 0.027643087013121903, 'n_components': 30}. Best is trial 3 with value: 0.7553992228784694.\u001b[0m\n"
          ]
        },
        {
          "name": "stdout",
          "output_type": "stream",
          "text": [
            "cross-val accuracy: 0.736\n",
            "cross-val f1 score: 0.75811\n"
          ]
        },
        {
          "name": "stderr",
          "output_type": "stream",
          "text": [
            "\u001b[32m[I 2021-12-02 21:47:45,282]\u001b[0m Trial 16 finished with value: 0.755648902907958 and parameters: {'n_layers': 6, 'n_units_0': 66, 'n_units_1': 59, 'n_units_2': 40, 'n_units_3': 30, 'n_units_4': 79, 'n_units_5': 62, 'activation': 'tanh', 'batch_size': 256, 'threshold': 0.07784869309991535, 'n_components': 19}. Best is trial 16 with value: 0.755648902907958.\u001b[0m\n"
          ]
        },
        {
          "name": "stdout",
          "output_type": "stream",
          "text": [
            "cross-val accuracy: 0.74393\n",
            "cross-val f1 score: 0.76736\n"
          ]
        },
        {
          "name": "stderr",
          "output_type": "stream",
          "text": [
            "\u001b[32m[I 2021-12-02 21:48:00,978]\u001b[0m Trial 17 finished with value: 0.7356636464319783 and parameters: {'n_layers': 4, 'n_units_0': 62, 'n_units_1': 60, 'n_units_2': 38, 'n_units_3': 23, 'activation': 'tanh', 'batch_size': 256, 'threshold': 0.07759487513439771, 'n_components': 10}. Best is trial 16 with value: 0.755648902907958.\u001b[0m\n"
          ]
        },
        {
          "name": "stdout",
          "output_type": "stream",
          "text": [
            "cross-val accuracy: 0.72292\n",
            "cross-val f1 score: 0.7484\n"
          ]
        },
        {
          "name": "stderr",
          "output_type": "stream",
          "text": [
            "\u001b[32m[I 2021-12-02 21:48:20,421]\u001b[0m Trial 18 finished with value: 0.6402893051249852 and parameters: {'n_layers': 8, 'n_units_0': 87, 'n_units_1': 51, 'n_units_2': 33, 'n_units_3': 7, 'n_units_4': 68, 'n_units_5': 68, 'n_units_6': 72, 'n_units_7': 1, 'activation': 'tanh', 'batch_size': 256, 'threshold': 0.001148355171942693, 'n_components': 38}. Best is trial 16 with value: 0.755648902907958.\u001b[0m\n"
          ]
        },
        {
          "name": "stdout",
          "output_type": "stream",
          "text": [
            "cross-val accuracy: 0.68559\n",
            "cross-val f1 score: 0.59499\n"
          ]
        },
        {
          "name": "stderr",
          "output_type": "stream",
          "text": [
            "\u001b[32m[I 2021-12-02 21:48:40,483]\u001b[0m Trial 19 finished with value: 0.7540576979420548 and parameters: {'n_layers': 9, 'n_units_0': 55, 'n_units_1': 22, 'n_units_2': 7, 'n_units_3': 33, 'n_units_4': 39, 'n_units_5': 66, 'n_units_6': 2, 'n_units_7': 77, 'n_units_8': 3, 'activation': 'tanh', 'batch_size': 256, 'threshold': 0.013645321352475016, 'n_components': 35}. Best is trial 16 with value: 0.755648902907958.\u001b[0m\n"
          ]
        },
        {
          "name": "stdout",
          "output_type": "stream",
          "text": [
            "cross-val accuracy: 0.74463\n",
            "cross-val f1 score: 0.76348\n"
          ]
        },
        {
          "name": "stderr",
          "output_type": "stream",
          "text": [
            "\u001b[32m[I 2021-12-02 21:49:00,222]\u001b[0m Trial 20 finished with value: 0.7472193898593069 and parameters: {'n_layers': 6, 'n_units_0': 39, 'n_units_1': 38, 'n_units_2': 44, 'n_units_3': 13, 'n_units_4': 83, 'n_units_5': 99, 'activation': 'tanh', 'batch_size': 256, 'threshold': 0.02361787034195603, 'n_components': 18}. Best is trial 16 with value: 0.755648902907958.\u001b[0m\n"
          ]
        },
        {
          "name": "stdout",
          "output_type": "stream",
          "text": [
            "cross-val accuracy: 0.7465\n",
            "cross-val f1 score: 0.74794\n"
          ]
        },
        {
          "name": "stderr",
          "output_type": "stream",
          "text": [
            "\u001b[32m[I 2021-12-02 21:49:19,754]\u001b[0m Trial 21 finished with value: 0.7473434166009074 and parameters: {'n_layers': 9, 'n_units_0': 55, 'n_units_1': 13, 'n_units_2': 9, 'n_units_3': 33, 'n_units_4': 41, 'n_units_5': 64, 'n_units_6': 4, 'n_units_7': 82, 'n_units_8': 7, 'activation': 'tanh', 'batch_size': 256, 'threshold': 0.010434811613524332, 'n_components': 37}. Best is trial 16 with value: 0.755648902907958.\u001b[0m\n"
          ]
        },
        {
          "name": "stdout",
          "output_type": "stream",
          "text": [
            "cross-val accuracy: 0.73926\n",
            "cross-val f1 score: 0.75543\n"
          ]
        },
        {
          "name": "stderr",
          "output_type": "stream",
          "text": [
            "\u001b[32m[I 2021-12-02 21:49:42,653]\u001b[0m Trial 22 finished with value: 0.7325487372577478 and parameters: {'n_layers': 9, 'n_units_0': 71, 'n_units_1': 1, 'n_units_2': 22, 'n_units_3': 36, 'n_units_4': 52, 'n_units_5': 59, 'n_units_6': 99, 'n_units_7': 68, 'n_units_8': 2, 'activation': 'tanh', 'batch_size': 256, 'threshold': 0.010448204685402016, 'n_components': 34}. Best is trial 16 with value: 0.755648902907958.\u001b[0m\n"
          ]
        },
        {
          "name": "stdout",
          "output_type": "stream",
          "text": [
            "cross-val accuracy: 0.73366\n",
            "cross-val f1 score: 0.73144\n"
          ]
        },
        {
          "name": "stderr",
          "output_type": "stream",
          "text": [
            "\u001b[32m[I 2021-12-02 21:49:59,294]\u001b[0m Trial 23 finished with value: 0.7500102284080372 and parameters: {'n_layers': 7, 'n_units_0': 78, 'n_units_1': 20, 'n_units_2': 1, 'n_units_3': 40, 'n_units_4': 28, 'n_units_5': 75, 'n_units_6': 2, 'activation': 'tanh', 'batch_size': 256, 'threshold': 0.033148233553564596, 'n_components': 27}. Best is trial 16 with value: 0.755648902907958.\u001b[0m\n"
          ]
        },
        {
          "name": "stdout",
          "output_type": "stream",
          "text": [
            "cross-val accuracy: 0.7458\n",
            "cross-val f1 score: 0.75422\n"
          ]
        },
        {
          "name": "stderr",
          "output_type": "stream",
          "text": [
            "\u001b[32m[I 2021-12-02 21:50:26,297]\u001b[0m Trial 24 finished with value: 0.7497766141601627 and parameters: {'n_layers': 9, 'n_units_0': 60, 'n_units_1': 29, 'n_units_2': 20, 'n_units_3': 17, 'n_units_4': 62, 'n_units_5': 36, 'n_units_6': 33, 'n_units_7': 62, 'n_units_8': 41, 'activation': 'tanh', 'batch_size': 256, 'threshold': 0.019978424422216562, 'n_components': 35}. Best is trial 16 with value: 0.755648902907958.\u001b[0m\n"
          ]
        },
        {
          "name": "stdout",
          "output_type": "stream",
          "text": [
            "cross-val accuracy: 0.7479\n",
            "cross-val f1 score: 0.75165\n"
          ]
        },
        {
          "name": "stderr",
          "output_type": "stream",
          "text": [
            "\u001b[32m[I 2021-12-02 21:50:47,373]\u001b[0m Trial 25 finished with value: 0.7461032536817245 and parameters: {'n_layers': 7, 'n_units_0': 41, 'n_units_1': 11, 'n_units_2': 48, 'n_units_3': 40, 'n_units_4': 81, 'n_units_5': 53, 'n_units_6': 66, 'activation': 'tanh', 'batch_size': 256, 'threshold': 0.007897764243159555, 'n_components': 52}. Best is trial 16 with value: 0.755648902907958.\u001b[0m\n"
          ]
        },
        {
          "name": "stdout",
          "output_type": "stream",
          "text": [
            "cross-val accuracy: 0.73763\n",
            "cross-val f1 score: 0.75458\n"
          ]
        },
        {
          "name": "stderr",
          "output_type": "stream",
          "text": [
            "\u001b[32m[I 2021-12-02 21:51:08,915]\u001b[0m Trial 26 finished with value: 0.7386143276476285 and parameters: {'n_layers': 8, 'n_units_0': 88, 'n_units_1': 62, 'n_units_2': 26, 'n_units_3': 17, 'n_units_4': 41, 'n_units_5': 81, 'n_units_6': 40, 'n_units_7': 22, 'activation': 'tanh', 'batch_size': 256, 'threshold': 0.07676165908515689, 'n_components': 12}. Best is trial 16 with value: 0.755648902907958.\u001b[0m\n"
          ]
        },
        {
          "name": "stdout",
          "output_type": "stream",
          "text": [
            "cross-val accuracy: 0.73553\n",
            "cross-val f1 score: 0.7417\n"
          ]
        },
        {
          "name": "stderr",
          "output_type": "stream",
          "text": [
            "\u001b[32m[I 2021-12-02 21:51:25,312]\u001b[0m Trial 27 finished with value: 0.7546348063241202 and parameters: {'n_layers': 6, 'n_units_0': 54, 'n_units_1': 47, 'n_units_2': 76, 'n_units_3': 62, 'n_units_4': 2, 'n_units_5': 30, 'activation': 'tanh', 'batch_size': 256, 'threshold': 0.036106072368500955, 'n_components': 24}. Best is trial 16 with value: 0.755648902907958.\u001b[0m\n"
          ]
        },
        {
          "name": "stdout",
          "output_type": "stream",
          "text": [
            "cross-val accuracy: 0.74767\n",
            "cross-val f1 score: 0.7616\n"
          ]
        },
        {
          "name": "stderr",
          "output_type": "stream",
          "text": [
            "\u001b[32m[I 2021-12-02 21:51:43,748]\u001b[0m Trial 28 finished with value: 0.7519242822443766 and parameters: {'n_layers': 4, 'n_units_0': 66, 'n_units_1': 55, 'n_units_2': 67, 'n_units_3': 70, 'activation': 'tanh', 'batch_size': 256, 'threshold': 0.03377735484282255, 'n_components': 24}. Best is trial 16 with value: 0.755648902907958.\u001b[0m\n"
          ]
        },
        {
          "name": "stdout",
          "output_type": "stream",
          "text": [
            "cross-val accuracy: 0.74907\n",
            "cross-val f1 score: 0.75478\n"
          ]
        },
        {
          "name": "stderr",
          "output_type": "stream",
          "text": [
            "\u001b[32m[I 2021-12-02 21:52:00,438]\u001b[0m Trial 29 finished with value: 0.7551017405962946 and parameters: {'n_layers': 6, 'n_units_0': 27, 'n_units_1': 40, 'n_units_2': 85, 'n_units_3': 70, 'n_units_4': 1, 'n_units_5': 28, 'activation': 'tanh', 'batch_size': 128, 'threshold': 0.06471586289751867, 'n_components': 22}. Best is trial 16 with value: 0.755648902907958.\u001b[0m\n"
          ]
        },
        {
          "name": "stdout",
          "output_type": "stream",
          "text": [
            "cross-val accuracy: 0.7444\n",
            "cross-val f1 score: 0.7658\n"
          ]
        },
        {
          "name": "stderr",
          "output_type": "stream",
          "text": [
            "\u001b[32m[I 2021-12-02 21:52:29,374]\u001b[0m Trial 30 finished with value: 0.7506964062076873 and parameters: {'n_layers': 5, 'n_units_0': 6, 'n_units_1': 41, 'n_units_2': 88, 'n_units_3': 88, 'n_units_4': 84, 'activation': 'tanh', 'batch_size': 128, 'threshold': 0.06659936334582872, 'n_components': 18}. Best is trial 16 with value: 0.755648902907958.\u001b[0m\n"
          ]
        },
        {
          "name": "stdout",
          "output_type": "stream",
          "text": [
            "cross-val accuracy: 0.73809\n",
            "cross-val f1 score: 0.7633\n"
          ]
        },
        {
          "name": "stderr",
          "output_type": "stream",
          "text": [
            "\u001b[32m[I 2021-12-02 21:52:47,687]\u001b[0m Trial 31 finished with value: 0.7467206034742239 and parameters: {'n_layers': 6, 'n_units_0': 27, 'n_units_1': 46, 'n_units_2': 78, 'n_units_3': 64, 'n_units_4': 3, 'n_units_5': 27, 'activation': 'tanh', 'batch_size': 128, 'threshold': 0.07997259830075927, 'n_components': 20}. Best is trial 16 with value: 0.755648902907958.\u001b[0m\n"
          ]
        },
        {
          "name": "stdout",
          "output_type": "stream",
          "text": [
            "cross-val accuracy: 0.73063\n",
            "cross-val f1 score: 0.76281\n"
          ]
        },
        {
          "name": "stderr",
          "output_type": "stream",
          "text": [
            "\u001b[32m[I 2021-12-02 21:53:06,364]\u001b[0m Trial 32 finished with value: 0.7524826434977091 and parameters: {'n_layers': 4, 'n_units_0': 18, 'n_units_1': 63, 'n_units_2': 99, 'n_units_3': 65, 'activation': 'tanh', 'batch_size': 128, 'threshold': 0.059948287040744924, 'n_components': 23}. Best is trial 16 with value: 0.755648902907958.\u001b[0m\n"
          ]
        },
        {
          "name": "stdout",
          "output_type": "stream",
          "text": [
            "cross-val accuracy: 0.74206\n",
            "cross-val f1 score: 0.7629\n"
          ]
        },
        {
          "name": "stderr",
          "output_type": "stream",
          "text": [
            "\u001b[32m[I 2021-12-02 21:53:31,787]\u001b[0m Trial 33 finished with value: 0.7535587131516897 and parameters: {'n_layers': 6, 'n_units_0': 53, 'n_units_1': 82, 'n_units_2': 88, 'n_units_3': 78, 'n_units_4': 1, 'n_units_5': 15, 'activation': 'tanh', 'batch_size': 128, 'threshold': 0.07084253417966964, 'n_components': 22}. Best is trial 16 with value: 0.755648902907958.\u001b[0m\n"
          ]
        },
        {
          "name": "stdout",
          "output_type": "stream",
          "text": [
            "cross-val accuracy: 0.73715\n",
            "cross-val f1 score: 0.76996\n"
          ]
        },
        {
          "name": "stderr",
          "output_type": "stream",
          "text": [
            "\u001b[32m[I 2021-12-02 21:53:48,198]\u001b[0m Trial 34 finished with value: 0.7570361175589106 and parameters: {'n_layers': 5, 'n_units_0': 32, 'n_units_1': 35, 'n_units_2': 68, 'n_units_3': 59, 'n_units_4': 11, 'activation': 'tanh', 'batch_size': 128, 'threshold': 0.04992799255751443, 'n_components': 26}. Best is trial 34 with value: 0.7570361175589106.\u001b[0m\n"
          ]
        },
        {
          "name": "stdout",
          "output_type": "stream",
          "text": [
            "cross-val accuracy: 0.74977\n",
            "cross-val f1 score: 0.76431\n"
          ]
        },
        {
          "name": "stderr",
          "output_type": "stream",
          "text": [
            "\u001b[32m[I 2021-12-02 21:53:58,010]\u001b[0m Trial 35 finished with value: 0.7550873916339687 and parameters: {'n_layers': 3, 'n_units_0': 15, 'n_units_1': 36, 'n_units_2': 68, 'activation': 'tanh', 'batch_size': 128, 'threshold': 0.052016183108437884, 'n_components': 27}. Best is trial 34 with value: 0.7570361175589106.\u001b[0m\n"
          ]
        },
        {
          "name": "stdout",
          "output_type": "stream",
          "text": [
            "cross-val accuracy: 0.74673\n",
            "cross-val f1 score: 0.76344\n"
          ]
        },
        {
          "name": "stderr",
          "output_type": "stream",
          "text": [
            "\u001b[32m[I 2021-12-02 21:54:13,024]\u001b[0m Trial 36 finished with value: 0.7474510047322646 and parameters: {'n_layers': 5, 'n_units_0': 33, 'n_units_1': 28, 'n_units_2': 53, 'n_units_3': 56, 'n_units_4': 16, 'activation': 'tanh', 'batch_size': 128, 'threshold': 0.061574329312554986, 'n_components': 18}. Best is trial 34 with value: 0.7570361175589106.\u001b[0m\n"
          ]
        },
        {
          "name": "stdout",
          "output_type": "stream",
          "text": [
            "cross-val accuracy: 0.74206\n",
            "cross-val f1 score: 0.75284\n"
          ]
        },
        {
          "name": "stderr",
          "output_type": "stream",
          "text": [
            "\u001b[32m[I 2021-12-02 21:54:28,100]\u001b[0m Trial 37 finished with value: 0.7548407984036092 and parameters: {'n_layers': 3, 'n_units_0': 34, 'n_units_1': 56, 'n_units_2': 81, 'activation': 'tanh', 'batch_size': 128, 'threshold': 0.05447749230396527, 'n_components': 26}. Best is trial 34 with value: 0.7570361175589106.\u001b[0m\n"
          ]
        },
        {
          "name": "stdout",
          "output_type": "stream",
          "text": [
            "cross-val accuracy: 0.7486\n",
            "cross-val f1 score: 0.76108\n"
          ]
        },
        {
          "name": "stderr",
          "output_type": "stream",
          "text": [
            "\u001b[32m[I 2021-12-02 21:54:43,705]\u001b[0m Trial 38 finished with value: 0.7528166550973213 and parameters: {'n_layers': 4, 'n_units_0': 43, 'n_units_1': 34, 'n_units_2': 62, 'n_units_3': 43, 'activation': 'tanh', 'batch_size': 128, 'threshold': 0.047445972467124675, 'n_components': 29}. Best is trial 34 with value: 0.7570361175589106.\u001b[0m\n"
          ]
        },
        {
          "name": "stdout",
          "output_type": "stream",
          "text": [
            "cross-val accuracy: 0.7458\n",
            "cross-val f1 score: 0.75984\n"
          ]
        },
        {
          "name": "stderr",
          "output_type": "stream",
          "text": [
            "\u001b[32m[I 2021-12-02 21:55:10,477]\u001b[0m Trial 39 finished with value: 0.7467907100407665 and parameters: {'n_layers': 7, 'n_units_0': 17, 'n_units_1': 66, 'n_units_2': 71, 'n_units_3': 26, 'n_units_4': 10, 'n_units_5': 56, 'n_units_6': 82, 'activation': 'tanh', 'batch_size': 128, 'threshold': 0.0723716348022806, 'n_components': 22}. Best is trial 34 with value: 0.7570361175589106.\u001b[0m\n"
          ]
        },
        {
          "name": "stdout",
          "output_type": "stream",
          "text": [
            "cross-val accuracy: 0.74907\n",
            "cross-val f1 score: 0.74451\n"
          ]
        },
        {
          "name": "stderr",
          "output_type": "stream",
          "text": [
            "\u001b[32m[I 2021-12-02 21:55:32,071]\u001b[0m Trial 40 finished with value: 0.7489302936438107 and parameters: {'n_layers': 5, 'n_units_0': 28, 'n_units_1': 43, 'n_units_2': 62, 'n_units_3': 80, 'n_units_4': 21, 'activation': 'tanh', 'batch_size': 128, 'threshold': 0.04473392921256139, 'n_components': 16}. Best is trial 34 with value: 0.7570361175589106.\u001b[0m\n"
          ]
        },
        {
          "name": "stdout",
          "output_type": "stream",
          "text": [
            "cross-val accuracy: 0.74557\n",
            "cross-val f1 score: 0.75229\n"
          ]
        },
        {
          "name": "stderr",
          "output_type": "stream",
          "text": [
            "\u001b[32m[I 2021-12-02 21:55:38,187]\u001b[0m Trial 41 finished with value: 0.743449825878025 and parameters: {'n_layers': 2, 'n_units_0': 16, 'n_units_1': 35, 'activation': 'tanh', 'batch_size': 128, 'threshold': 0.05213567134966793, 'n_components': 28}. Best is trial 34 with value: 0.7570361175589106.\u001b[0m\n"
          ]
        },
        {
          "name": "stdout",
          "output_type": "stream",
          "text": [
            "cross-val accuracy: 0.74393\n",
            "cross-val f1 score: 0.74297\n"
          ]
        },
        {
          "name": "stderr",
          "output_type": "stream",
          "text": [
            "\u001b[32m[I 2021-12-02 21:55:48,258]\u001b[0m Trial 42 finished with value: 0.7511853228103907 and parameters: {'n_layers': 3, 'n_units_0': 11, 'n_units_1': 8, 'n_units_2': 71, 'activation': 'tanh', 'batch_size': 128, 'threshold': 0.05080852685093649, 'n_components': 27}. Best is trial 34 with value: 0.7570361175589106.\u001b[0m\n"
          ]
        },
        {
          "name": "stdout",
          "output_type": "stream",
          "text": [
            "cross-val accuracy: 0.75117\n",
            "cross-val f1 score: 0.7512\n"
          ]
        },
        {
          "name": "stderr",
          "output_type": "stream",
          "text": [
            "\u001b[32m[I 2021-12-02 21:55:53,384]\u001b[0m Trial 43 finished with value: 0.7433532573532209 and parameters: {'n_layers': 2, 'n_units_0': 21, 'n_units_1': 15, 'activation': 'tanh', 'batch_size': 128, 'threshold': 0.06648181526601574, 'n_components': 25}. Best is trial 34 with value: 0.7570361175589106.\u001b[0m\n"
          ]
        },
        {
          "name": "stdout",
          "output_type": "stream",
          "text": [
            "cross-val accuracy: 0.73529\n",
            "cross-val f1 score: 0.75141\n"
          ]
        },
        {
          "name": "stderr",
          "output_type": "stream",
          "text": [
            "\u001b[32m[I 2021-12-02 21:56:07,215]\u001b[0m Trial 44 finished with value: 0.7479568908715111 and parameters: {'n_layers': 3, 'n_units_0': 10, 'n_units_1': 52, 'n_units_2': 86, 'activation': 'tanh', 'batch_size': 128, 'threshold': 0.06308127891974075, 'n_components': 25}. Best is trial 34 with value: 0.7570361175589106.\u001b[0m\n"
          ]
        },
        {
          "name": "stdout",
          "output_type": "stream",
          "text": [
            "cross-val accuracy: 0.74556\n",
            "cross-val f1 score: 0.75035\n"
          ]
        },
        {
          "name": "stderr",
          "output_type": "stream",
          "text": [
            "\u001b[32m[I 2021-12-02 21:56:41,586]\u001b[0m Trial 45 finished with value: 0.7049247879989642 and parameters: {'n_layers': 10, 'n_units_0': 76, 'n_units_1': 33, 'n_units_2': 94, 'n_units_3': 45, 'n_units_4': 30, 'n_units_5': 1, 'n_units_6': 63, 'n_units_7': 21, 'n_units_8': 93, 'n_units_9': 1, 'activation': 'tanh', 'batch_size': 128, 'threshold': 0.04610261612091468, 'n_components': 19}. Best is trial 34 with value: 0.7570361175589106.\u001b[0m\n"
          ]
        },
        {
          "name": "stdout",
          "output_type": "stream",
          "text": [
            "cross-val accuracy: 0.64428\n",
            "cross-val f1 score: 0.76557\n"
          ]
        },
        {
          "name": "stderr",
          "output_type": "stream",
          "text": [
            "\u001b[32m[I 2021-12-02 21:56:47,100]\u001b[0m Trial 46 finished with value: 0.7479579793679989 and parameters: {'n_layers': 1, 'n_units_0': 30, 'activation': 'tanh', 'batch_size': 512, 'threshold': 0.05578064044352514, 'n_components': 28}. Best is trial 34 with value: 0.7570361175589106.\u001b[0m\n"
          ]
        },
        {
          "name": "stdout",
          "output_type": "stream",
          "text": [
            "cross-val accuracy: 0.74276\n",
            "cross-val f1 score: 0.75315\n"
          ]
        },
        {
          "name": "stderr",
          "output_type": "stream",
          "text": [
            "\u001b[32m[I 2021-12-02 21:56:51,975]\u001b[0m Trial 47 finished with value: 0.7458181664445191 and parameters: {'n_layers': 2, 'n_units_0': 3, 'n_units_1': 25, 'activation': 'tanh', 'batch_size': 128, 'threshold': 0.0389506926012992, 'n_components': 30}. Best is trial 34 with value: 0.7570361175589106.\u001b[0m\n"
          ]
        },
        {
          "name": "stdout",
          "output_type": "stream",
          "text": [
            "cross-val accuracy: 0.74277\n",
            "cross-val f1 score: 0.74887\n"
          ]
        },
        {
          "name": "stderr",
          "output_type": "stream",
          "text": [
            "\u001b[32m[I 2021-12-02 21:57:13,975]\u001b[0m Trial 48 finished with value: 0.752654300408278 and parameters: {'n_layers': 7, 'n_units_0': 14, 'n_units_1': 38, 'n_units_2': 44, 'n_units_3': 58, 'n_units_4': 73, 'n_units_5': 47, 'n_units_6': 43, 'activation': 'tanh', 'batch_size': 128, 'threshold': 0.07022558799302228, 'n_components': 23}. Best is trial 34 with value: 0.7570361175589106.\u001b[0m\n"
          ]
        },
        {
          "name": "stdout",
          "output_type": "stream",
          "text": [
            "cross-val accuracy: 0.7444\n",
            "cross-val f1 score: 0.76091\n"
          ]
        },
        {
          "name": "stderr",
          "output_type": "stream",
          "text": [
            "\u001b[32m[I 2021-12-02 21:57:38,409]\u001b[0m Trial 49 finished with value: 0.7495878425523294 and parameters: {'n_layers': 6, 'n_units_0': 24, 'n_units_1': 7, 'n_units_2': 67, 'n_units_3': 85, 'n_units_4': 65, 'n_units_5': 34, 'activation': 'tanh', 'batch_size': 512, 'threshold': 0.07454103488941961, 'n_components': 24}. Best is trial 34 with value: 0.7570361175589106.\u001b[0m\n"
          ]
        },
        {
          "name": "stdout",
          "output_type": "stream",
          "text": [
            "cross-val accuracy: 0.74627\n",
            "cross-val f1 score: 0.75291\n"
          ]
        },
        {
          "name": "stderr",
          "output_type": "stream",
          "text": [
            "\u001b[32m[I 2021-12-02 21:58:03,404]\u001b[0m Trial 50 finished with value: 0.7581411115689773 and parameters: {'n_layers': 4, 'n_units_0': 100, 'n_units_1': 69, 'n_units_2': 57, 'n_units_3': 72, 'activation': 'tanh', 'batch_size': 128, 'threshold': 0.058264776106704774, 'n_components': 26}. Best is trial 50 with value: 0.7581411115689773.\u001b[0m\n"
          ]
        },
        {
          "name": "stdout",
          "output_type": "stream",
          "text": [
            "cross-val accuracy: 0.75023\n",
            "cross-val f1 score: 0.76605\n"
          ]
        },
        {
          "name": "stderr",
          "output_type": "stream",
          "text": [
            "\u001b[32m[I 2021-12-02 21:58:25,163]\u001b[0m Trial 51 finished with value: 0.754755179377626 and parameters: {'n_layers': 4, 'n_units_0': 99, 'n_units_1': 80, 'n_units_2': 58, 'n_units_3': 69, 'activation': 'tanh', 'batch_size': 128, 'threshold': 0.056769911787160905, 'n_components': 26}. Best is trial 50 with value: 0.7581411115689773.\u001b[0m\n"
          ]
        },
        {
          "name": "stdout",
          "output_type": "stream",
          "text": [
            "cross-val accuracy: 0.7472\n",
            "cross-val f1 score: 0.76231\n"
          ]
        },
        {
          "name": "stderr",
          "output_type": "stream",
          "text": [
            "\u001b[32m[I 2021-12-02 21:58:41,562]\u001b[0m Trial 52 finished with value: 0.7544314741981658 and parameters: {'n_layers': 3, 'n_units_0': 93, 'n_units_1': 69, 'n_units_2': 67, 'activation': 'tanh', 'batch_size': 128, 'threshold': 0.053166047806637834, 'n_components': 28}. Best is trial 50 with value: 0.7581411115689773.\u001b[0m\n"
          ]
        },
        {
          "name": "stdout",
          "output_type": "stream",
          "text": [
            "cross-val accuracy: 0.75234\n",
            "cross-val f1 score: 0.75653\n"
          ]
        },
        {
          "name": "stderr",
          "output_type": "stream",
          "text": [
            "\u001b[32m[I 2021-12-02 21:59:05,101]\u001b[0m Trial 53 finished with value: 0.7539468221924296 and parameters: {'n_layers': 5, 'n_units_0': 92, 'n_units_1': 80, 'n_units_2': 53, 'n_units_3': 72, 'n_units_4': 54, 'activation': 'tanh', 'batch_size': 128, 'threshold': 0.059313742912743404, 'n_components': 21}. Best is trial 50 with value: 0.7581411115689773.\u001b[0m\n"
          ]
        },
        {
          "name": "stdout",
          "output_type": "stream",
          "text": [
            "cross-val accuracy: 0.743\n",
            "cross-val f1 score: 0.7649\n"
          ]
        },
        {
          "name": "stderr",
          "output_type": "stream",
          "text": [
            "\u001b[32m[I 2021-12-02 21:59:28,534]\u001b[0m Trial 54 finished with value: 0.7409328355906452 and parameters: {'n_layers': 4, 'n_units_0': 46, 'n_units_1': 57, 'n_units_2': 76, 'n_units_3': 97, 'activation': 'tanh', 'batch_size': 128, 'threshold': 0.04875669845960294, 'n_components': 26}. Best is trial 50 with value: 0.7581411115689773.\u001b[0m\n"
          ]
        },
        {
          "name": "stdout",
          "output_type": "stream",
          "text": [
            "cross-val accuracy: 0.74393\n",
            "cross-val f1 score: 0.73793\n"
          ]
        },
        {
          "name": "stderr",
          "output_type": "stream",
          "text": [
            "\u001b[32m[I 2021-12-02 21:59:50,060]\u001b[0m Trial 55 finished with value: 0.7493824446805208 and parameters: {'n_layers': 6, 'n_units_0': 74, 'n_units_1': 76, 'n_units_2': 81, 'n_units_3': 57, 'n_units_4': 59, 'n_units_5': 16, 'activation': 'tanh', 'batch_size': 256, 'threshold': 0.04194396102749974, 'n_components': 15}. Best is trial 50 with value: 0.7581411115689773.\u001b[0m\n"
          ]
        },
        {
          "name": "stdout",
          "output_type": "stream",
          "text": [
            "cross-val accuracy: 0.74603\n",
            "cross-val f1 score: 0.75273\n"
          ]
        },
        {
          "name": "stderr",
          "output_type": "stream",
          "text": [
            "\u001b[32m[I 2021-12-02 22:00:06,333]\u001b[0m Trial 56 finished with value: 0.758940271417833 and parameters: {'n_layers': 5, 'n_units_0': 84, 'n_units_1': 44, 'n_units_2': 48, 'n_units_3': 50, 'n_units_4': 9, 'activation': 'tanh', 'batch_size': 128, 'threshold': 0.0650209354855795, 'n_components': 25}. Best is trial 56 with value: 0.758940271417833.\u001b[0m\n"
          ]
        },
        {
          "name": "stdout",
          "output_type": "stream",
          "text": [
            "cross-val accuracy: 0.75\n",
            "cross-val f1 score: 0.76788\n"
          ]
        },
        {
          "name": "stderr",
          "output_type": "stream",
          "text": [
            "\u001b[32m[I 2021-12-02 22:00:21,448]\u001b[0m Trial 57 finished with value: 0.738437682089505 and parameters: {'n_layers': 5, 'n_units_0': 85, 'n_units_1': 45, 'n_units_2': 39, 'n_units_3': 48, 'n_units_4': 11, 'activation': 'tanh', 'batch_size': 512, 'threshold': 0.06449895431804281, 'n_components': 22}. Best is trial 56 with value: 0.758940271417833.\u001b[0m\n"
          ]
        },
        {
          "name": "stdout",
          "output_type": "stream",
          "text": [
            "cross-val accuracy: 0.73506\n",
            "cross-val f1 score: 0.74181\n"
          ]
        },
        {
          "name": "stderr",
          "output_type": "stream",
          "text": [
            "\u001b[32m[I 2021-12-02 22:00:39,126]\u001b[0m Trial 58 finished with value: 0.7567625178022788 and parameters: {'n_layers': 5, 'n_units_0': 82, 'n_units_1': 50, 'n_units_2': 36, 'n_units_3': 73, 'n_units_4': 8, 'activation': 'tanh', 'batch_size': 256, 'threshold': 0.06922888423937872, 'n_components': 24}. Best is trial 56 with value: 0.758940271417833.\u001b[0m\n"
          ]
        },
        {
          "name": "stdout",
          "output_type": "stream",
          "text": [
            "cross-val accuracy: 0.75023\n",
            "cross-val f1 score: 0.76329\n"
          ]
        },
        {
          "name": "stderr",
          "output_type": "stream",
          "text": [
            "\u001b[32m[I 2021-12-02 22:00:52,252]\u001b[0m Trial 59 finished with value: 0.7509324598913605 and parameters: {'n_layers': 5, 'n_units_0': 82, 'n_units_1': 52, 'n_units_2': 33, 'n_units_3': 29, 'n_units_4': 9, 'activation': 'tanh', 'batch_size': 256, 'threshold': 0.06821105379428835, 'n_components': 25}. Best is trial 56 with value: 0.758940271417833.\u001b[0m\n"
          ]
        },
        {
          "name": "stdout",
          "output_type": "stream",
          "text": [
            "cross-val accuracy: 0.74697\n",
            "cross-val f1 score: 0.7549\n"
          ]
        },
        {
          "name": "stderr",
          "output_type": "stream",
          "text": [
            "\u001b[32m[I 2021-12-02 22:01:09,025]\u001b[0m Trial 60 finished with value: 0.7509978236331083 and parameters: {'n_layers': 4, 'n_units_0': 67, 'n_units_1': 65, 'n_units_2': 48, 'n_units_3': 85, 'activation': 'tanh', 'batch_size': 256, 'threshold': 0.07490365678844893, 'n_components': 24}. Best is trial 56 with value: 0.758940271417833.\u001b[0m\n"
          ]
        },
        {
          "name": "stdout",
          "output_type": "stream",
          "text": [
            "cross-val accuracy: 0.74393\n",
            "cross-val f1 score: 0.75807\n"
          ]
        },
        {
          "name": "stderr",
          "output_type": "stream",
          "text": [
            "\u001b[32m[I 2021-12-02 22:01:26,342]\u001b[0m Trial 61 finished with value: 0.7480635538807889 and parameters: {'n_layers': 6, 'n_units_0': 95, 'n_units_1': 41, 'n_units_2': 37, 'n_units_3': 74, 'n_units_4': 7, 'n_units_5': 59, 'activation': 'tanh', 'batch_size': 256, 'threshold': 0.06869454950185934, 'n_components': 23}. Best is trial 56 with value: 0.758940271417833.\u001b[0m\n"
          ]
        },
        {
          "name": "stdout",
          "output_type": "stream",
          "text": [
            "cross-val accuracy: 0.74253\n",
            "cross-val f1 score: 0.7536\n"
          ]
        },
        {
          "name": "stderr",
          "output_type": "stream",
          "text": [
            "\u001b[32m[I 2021-12-02 22:01:43,085]\u001b[0m Trial 62 finished with value: 0.7514408165606032 and parameters: {'n_layers': 5, 'n_units_0': 81, 'n_units_1': 59, 'n_units_2': 43, 'n_units_3': 68, 'n_units_4': 15, 'activation': 'tanh', 'batch_size': 256, 'threshold': 0.06154652497230243, 'n_components': 19}. Best is trial 56 with value: 0.758940271417833.\u001b[0m\n"
          ]
        },
        {
          "name": "stdout",
          "output_type": "stream",
          "text": [
            "cross-val accuracy: 0.74603\n",
            "cross-val f1 score: 0.75685\n"
          ]
        },
        {
          "name": "stderr",
          "output_type": "stream",
          "text": [
            "\u001b[32m[I 2021-12-02 22:02:01,684]\u001b[0m Trial 63 finished with value: 0.7533786035432755 and parameters: {'n_layers': 5, 'n_units_0': 90, 'n_units_1': 50, 'n_units_2': 29, 'n_units_3': 61, 'n_units_4': 90, 'activation': 'tanh', 'batch_size': 256, 'threshold': 0.07337008383873425, 'n_components': 25}. Best is trial 56 with value: 0.758940271417833.\u001b[0m\n"
          ]
        },
        {
          "name": "stdout",
          "output_type": "stream",
          "text": [
            "cross-val accuracy: 0.74743\n",
            "cross-val f1 score: 0.75932\n"
          ]
        },
        {
          "name": "stderr",
          "output_type": "stream",
          "text": [
            "\u001b[32m[I 2021-12-02 22:02:25,891]\u001b[0m Trial 64 finished with value: 0.7462745749470872 and parameters: {'n_layers': 8, 'n_units_0': 62, 'n_units_1': 70, 'n_units_2': 59, 'n_units_3': 81, 'n_units_4': 21, 'n_units_5': 38, 'n_units_6': 100, 'n_units_7': 21, 'activation': 'tanh', 'batch_size': 256, 'threshold': 0.07851235411380314, 'n_components': 24}. Best is trial 56 with value: 0.758940271417833.\u001b[0m\n"
          ]
        },
        {
          "name": "stdout",
          "output_type": "stream",
          "text": [
            "cross-val accuracy: 0.74113\n",
            "cross-val f1 score: 0.75142\n"
          ]
        },
        {
          "name": "stderr",
          "output_type": "stream",
          "text": [
            "\u001b[32m[I 2021-12-02 22:02:50,975]\u001b[0m Trial 65 finished with value: 0.7544155129993299 and parameters: {'n_layers': 6, 'n_units_0': 73, 'n_units_1': 87, 'n_units_2': 40, 'n_units_3': 53, 'n_units_4': 77, 'n_units_5': 89, 'activation': 'tanh', 'batch_size': 256, 'threshold': 0.05884560828022241, 'n_components': 20}. Best is trial 56 with value: 0.758940271417833.\u001b[0m\n"
          ]
        },
        {
          "name": "stdout",
          "output_type": "stream",
          "text": [
            "cross-val accuracy: 0.74393\n",
            "cross-val f1 score: 0.7649\n"
          ]
        },
        {
          "name": "stderr",
          "output_type": "stream",
          "text": [
            "\u001b[32m[I 2021-12-02 22:03:07,593]\u001b[0m Trial 66 finished with value: 0.752178927924704 and parameters: {'n_layers': 4, 'n_units_0': 70, 'n_units_1': 54, 'n_units_2': 48, 'n_units_3': 20, 'activation': 'tanh', 'batch_size': 128, 'threshold': 0.06283587774803225, 'n_components': 26}. Best is trial 56 with value: 0.758940271417833.\u001b[0m\n"
          ]
        },
        {
          "name": "stdout",
          "output_type": "stream",
          "text": [
            "cross-val accuracy: 0.74533\n",
            "cross-val f1 score: 0.75903\n"
          ]
        },
        {
          "name": "stderr",
          "output_type": "stream",
          "text": [
            "\u001b[32m[I 2021-12-02 22:03:20,338]\u001b[0m Trial 67 finished with value: 0.7535755076648437 and parameters: {'n_layers': 5, 'n_units_0': 59, 'n_units_1': 48, 'n_units_2': 53, 'n_units_3': 7, 'n_units_4': 6, 'activation': 'tanh', 'batch_size': 256, 'threshold': 0.0762927857812736, 'n_components': 24}. Best is trial 56 with value: 0.758940271417833.\u001b[0m\n"
          ]
        },
        {
          "name": "stdout",
          "output_type": "stream",
          "text": [
            "cross-val accuracy: 0.75093\n",
            "cross-val f1 score: 0.75622\n"
          ]
        },
        {
          "name": "stderr",
          "output_type": "stream",
          "text": [
            "\u001b[32m[I 2021-12-02 22:03:47,223]\u001b[0m Trial 68 finished with value: 0.7507338095440839 and parameters: {'n_layers': 7, 'n_units_0': 82, 'n_units_1': 60, 'n_units_2': 94, 'n_units_3': 76, 'n_units_4': 17, 'n_units_5': 77, 'n_units_6': 17, 'activation': 'tanh', 'batch_size': 128, 'threshold': 0.06613194073445633, 'n_components': 23}. Best is trial 56 with value: 0.758940271417833.\u001b[0m\n"
          ]
        },
        {
          "name": "stdout",
          "output_type": "stream",
          "text": [
            "cross-val accuracy: 0.7444\n",
            "cross-val f1 score: 0.75707\n"
          ]
        },
        {
          "name": "stderr",
          "output_type": "stream",
          "text": [
            "\u001b[32m[I 2021-12-02 22:04:07,630]\u001b[0m Trial 69 finished with value: 0.7517515478041142 and parameters: {'n_layers': 6, 'n_units_0': 85, 'n_units_1': 31, 'n_units_2': 30, 'n_units_3': 66, 'n_units_4': 27, 'n_units_5': 88, 'activation': 'tanh', 'batch_size': 256, 'threshold': 0.003664667545956707, 'n_components': 32}. Best is trial 56 with value: 0.758940271417833.\u001b[0m\n"
          ]
        },
        {
          "name": "stdout",
          "output_type": "stream",
          "text": [
            "cross-val accuracy: 0.7416\n",
            "cross-val f1 score: 0.76191\n"
          ]
        },
        {
          "name": "stderr",
          "output_type": "stream",
          "text": [
            "\u001b[32m[I 2021-12-02 22:04:32,001]\u001b[0m Trial 70 finished with value: 0.7462699844295466 and parameters: {'n_layers': 7, 'n_units_0': 77, 'n_units_1': 17, 'n_units_2': 85, 'n_units_3': 34, 'n_units_4': 48, 'n_units_5': 20, 'n_units_6': 85, 'activation': 'tanh', 'batch_size': 512, 'threshold': 0.06975104981385755, 'n_components': 22}. Best is trial 56 with value: 0.758940271417833.\u001b[0m\n"
          ]
        },
        {
          "name": "stdout",
          "output_type": "stream",
          "text": [
            "cross-val accuracy: 0.74183\n",
            "cross-val f1 score: 0.75071\n"
          ]
        },
        {
          "name": "stderr",
          "output_type": "stream",
          "text": [
            "\u001b[32m[I 2021-12-02 22:04:51,337]\u001b[0m Trial 71 finished with value: 0.7397190124253459 and parameters: {'n_layers': 4, 'n_units_0': 100, 'n_units_1': 37, 'n_units_2': 73, 'n_units_3': 61, 'activation': 'tanh', 'batch_size': 128, 'threshold': 0.024203647706391426, 'n_components': 31}. Best is trial 56 with value: 0.758940271417833.\u001b[0m\n"
          ]
        },
        {
          "name": "stdout",
          "output_type": "stream",
          "text": [
            "cross-val accuracy: 0.74697\n",
            "cross-val f1 score: 0.73247\n"
          ]
        },
        {
          "name": "stderr",
          "output_type": "stream",
          "text": [
            "\u001b[32m[I 2021-12-02 22:05:05,194]\u001b[0m Trial 72 finished with value: 0.751929571659948 and parameters: {'n_layers': 3, 'n_units_0': 67, 'n_units_1': 42, 'n_units_2': 66, 'activation': 'tanh', 'batch_size': 128, 'threshold': 0.05668733978930876, 'n_components': 29}. Best is trial 56 with value: 0.758940271417833.\u001b[0m\n"
          ]
        },
        {
          "name": "stdout",
          "output_type": "stream",
          "text": [
            "cross-val accuracy: 0.74953\n",
            "cross-val f1 score: 0.75433\n"
          ]
        },
        {
          "name": "stderr",
          "output_type": "stream",
          "text": [
            "\u001b[32m[I 2021-12-02 22:05:27,931]\u001b[0m Trial 73 finished with value: 0.7516598563525145 and parameters: {'n_layers': 5, 'n_units_0': 39, 'n_units_1': 45, 'n_units_2': 50, 'n_units_3': 74, 'n_units_4': 68, 'activation': 'tanh', 'batch_size': 128, 'threshold': 0.05096564939775308, 'n_components': 27}. Best is trial 56 with value: 0.758940271417833.\u001b[0m\n"
          ]
        },
        {
          "name": "stdout",
          "output_type": "stream",
          "text": [
            "cross-val accuracy: 0.74183\n",
            "cross-val f1 score: 0.76149\n"
          ]
        },
        {
          "name": "stderr",
          "output_type": "stream",
          "text": [
            "\u001b[32m[I 2021-12-02 22:05:37,215]\u001b[0m Trial 74 finished with value: 0.7496538764901317 and parameters: {'n_layers': 3, 'n_units_0': 20, 'n_units_1': 27, 'n_units_2': 57, 'activation': 'tanh', 'batch_size': 128, 'threshold': 0.06402330644779176, 'n_components': 25}. Best is trial 56 with value: 0.758940271417833.\u001b[0m\n"
          ]
        },
        {
          "name": "stdout",
          "output_type": "stream",
          "text": [
            "cross-val accuracy: 0.74627\n",
            "cross-val f1 score: 0.75304\n"
          ]
        },
        {
          "name": "stderr",
          "output_type": "stream",
          "text": [
            "\u001b[32m[I 2021-12-02 22:05:49,424]\u001b[0m Trial 75 finished with value: 0.7483722488589548 and parameters: {'n_layers': 4, 'n_units_0': 23, 'n_units_1': 48, 'n_units_2': 44, 'n_units_3': 30, 'activation': 'tanh', 'batch_size': 128, 'threshold': 0.044428601673530556, 'n_components': 27}. Best is trial 56 with value: 0.758940271417833.\u001b[0m\n"
          ]
        },
        {
          "name": "stdout",
          "output_type": "stream",
          "text": [
            "cross-val accuracy: 0.74837\n",
            "cross-val f1 score: 0.74838\n"
          ]
        },
        {
          "name": "stderr",
          "output_type": "stream",
          "text": [
            "\u001b[32m[I 2021-12-02 22:06:11,060]\u001b[0m Trial 76 finished with value: 0.7517920725466889 and parameters: {'n_layers': 6, 'n_units_0': 50, 'n_units_1': 37, 'n_units_2': 80, 'n_units_3': 53, 'n_units_4': 34, 'n_units_5': 42, 'activation': 'tanh', 'batch_size': 128, 'threshold': 0.05451041449776843, 'n_components': 21}. Best is trial 56 with value: 0.758940271417833.\u001b[0m\n"
          ]
        },
        {
          "name": "stdout",
          "output_type": "stream",
          "text": [
            "cross-val accuracy: 0.74323\n",
            "cross-val f1 score: 0.76035\n"
          ]
        },
        {
          "name": "stderr",
          "output_type": "stream",
          "text": [
            "\u001b[32m[I 2021-12-02 22:06:24,329]\u001b[0m Trial 77 finished with value: 0.7522261912655692 and parameters: {'n_layers': 4, 'n_units_0': 88, 'n_units_1': 67, 'n_units_2': 74, 'n_units_3': 13, 'activation': 'tanh', 'batch_size': 256, 'threshold': 0.06164555725641052, 'n_components': 17}. Best is trial 56 with value: 0.758940271417833.\u001b[0m\n"
          ]
        },
        {
          "name": "stdout",
          "output_type": "stream",
          "text": [
            "cross-val accuracy: 0.74253\n",
            "cross-val f1 score: 0.76192\n"
          ]
        },
        {
          "name": "stderr",
          "output_type": "stream",
          "text": [
            "\u001b[32m[I 2021-12-02 22:06:41,453]\u001b[0m Trial 78 finished with value: 0.7564940978728429 and parameters: {'n_layers': 5, 'n_units_0': 96, 'n_units_1': 23, 'n_units_2': 64, 'n_units_3': 49, 'n_units_4': 5, 'activation': 'tanh', 'batch_size': 128, 'threshold': 0.039342984730592376, 'n_components': 29}. Best is trial 56 with value: 0.758940271417833.\u001b[0m\n"
          ]
        },
        {
          "name": "stdout",
          "output_type": "stream",
          "text": [
            "cross-val accuracy: 0.7472\n",
            "cross-val f1 score: 0.76579\n"
          ]
        },
        {
          "name": "stderr",
          "output_type": "stream",
          "text": [
            "\u001b[32m[I 2021-12-02 22:06:56,465]\u001b[0m Trial 79 finished with value: 0.7482347403856138 and parameters: {'n_layers': 5, 'n_units_0': 91, 'n_units_1': 3, 'n_units_2': 63, 'n_units_3': 40, 'n_units_4': 5, 'activation': 'tanh', 'batch_size': 128, 'threshold': 0.01877791123877244, 'n_components': 32}. Best is trial 56 with value: 0.758940271417833.\u001b[0m\n"
          ]
        },
        {
          "name": "stdout",
          "output_type": "stream",
          "text": [
            "cross-val accuracy: 0.74697\n",
            "cross-val f1 score: 0.7495\n"
          ]
        },
        {
          "name": "stderr",
          "output_type": "stream",
          "text": [
            "\u001b[32m[I 2021-12-02 22:07:32,889]\u001b[0m Trial 80 finished with value: 0.750543730199124 and parameters: {'n_layers': 10, 'n_units_0': 94, 'n_units_1': 21, 'n_units_2': 55, 'n_units_3': 59, 'n_units_4': 11, 'n_units_5': 46, 'n_units_6': 73, 'n_units_7': 32, 'n_units_8': 69, 'n_units_9': 91, 'activation': 'tanh', 'batch_size': 256, 'threshold': 0.030085683689871825, 'n_components': 29}. Best is trial 56 with value: 0.758940271417833.\u001b[0m\n"
          ]
        },
        {
          "name": "stdout",
          "output_type": "stream",
          "text": [
            "cross-val accuracy: 0.74206\n",
            "cross-val f1 score: 0.75902\n"
          ]
        },
        {
          "name": "stderr",
          "output_type": "stream",
          "text": [
            "\u001b[32m[I 2021-12-02 22:07:53,478]\u001b[0m Trial 81 finished with value: 0.7447531120260782 and parameters: {'n_layers': 5, 'n_units_0': 96, 'n_units_1': 32, 'n_units_2': 60, 'n_units_3': 50, 'n_units_4': 1, 'activation': 'tanh', 'batch_size': 128, 'threshold': 0.06062916886313201, 'n_components': 26}. Best is trial 56 with value: 0.758940271417833.\u001b[0m\n"
          ]
        },
        {
          "name": "stdout",
          "output_type": "stream",
          "text": [
            "cross-val accuracy: 0.743\n",
            "cross-val f1 score: 0.74651\n"
          ]
        },
        {
          "name": "stderr",
          "output_type": "stream",
          "text": [
            "\u001b[32m[I 2021-12-02 22:08:10,743]\u001b[0m Trial 82 finished with value: 0.7595404784688984 and parameters: {'n_layers': 6, 'n_units_0': 36, 'n_units_1': 40, 'n_units_2': 69, 'n_units_3': 22, 'n_units_4': 15, 'n_units_5': 26, 'activation': 'tanh', 'batch_size': 128, 'threshold': 0.03966971976601077, 'n_components': 28}. Best is trial 82 with value: 0.7595404784688984.\u001b[0m\n"
          ]
        },
        {
          "name": "stdout",
          "output_type": "stream",
          "text": [
            "cross-val accuracy: 0.7514\n",
            "cross-val f1 score: 0.76768\n"
          ]
        },
        {
          "name": "stderr",
          "output_type": "stream",
          "text": [
            "\u001b[32m[I 2021-12-02 22:08:25,752]\u001b[0m Trial 83 finished with value: 0.7559206714018691 and parameters: {'n_layers': 6, 'n_units_0': 37, 'n_units_1': 41, 'n_units_2': 70, 'n_units_3': 27, 'n_units_4': 12, 'n_units_5': 8, 'activation': 'tanh', 'batch_size': 128, 'threshold': 0.032980101087925075, 'n_components': 30}. Best is trial 82 with value: 0.7595404784688984.\u001b[0m\n"
          ]
        },
        {
          "name": "stdout",
          "output_type": "stream",
          "text": [
            "cross-val accuracy: 0.74837\n",
            "cross-val f1 score: 0.76347\n"
          ]
        },
        {
          "name": "stderr",
          "output_type": "stream",
          "text": [
            "\u001b[32m[I 2021-12-02 22:08:43,754]\u001b[0m Trial 84 finished with value: 0.719997623199331 and parameters: {'n_layers': 6, 'n_units_0': 35, 'n_units_1': 44, 'n_units_2': 69, 'n_units_3': 24, 'n_units_4': 13, 'n_units_5': 1, 'activation': 'tanh', 'batch_size': 128, 'threshold': 0.03771054650316789, 'n_components': 30}. Best is trial 82 with value: 0.7595404784688984.\u001b[0m\n"
          ]
        },
        {
          "name": "stdout",
          "output_type": "stream",
          "text": [
            "cross-val accuracy: 0.69866\n",
            "cross-val f1 score: 0.74133\n"
          ]
        },
        {
          "name": "stderr",
          "output_type": "stream",
          "text": [
            "\u001b[32m[I 2021-12-02 22:09:01,834]\u001b[0m Trial 85 finished with value: 0.7554167418117672 and parameters: {'n_layers': 7, 'n_units_0': 31, 'n_units_1': 26, 'n_units_2': 65, 'n_units_3': 37, 'n_units_4': 20, 'n_units_5': 10, 'n_units_6': 55, 'activation': 'tanh', 'batch_size': 128, 'threshold': 0.032784628615623555, 'n_components': 31}. Best is trial 82 with value: 0.7595404784688984.\u001b[0m\n"
          ]
        },
        {
          "name": "stdout",
          "output_type": "stream",
          "text": [
            "cross-val accuracy: 0.74766\n",
            "cross-val f1 score: 0.76317\n"
          ]
        },
        {
          "name": "stderr",
          "output_type": "stream",
          "text": [
            "\u001b[32m[I 2021-12-02 22:09:22,036]\u001b[0m Trial 86 finished with value: 0.7578768588011751 and parameters: {'n_layers': 7, 'n_units_0': 31, 'n_units_1': 25, 'n_units_2': 70, 'n_units_3': 37, 'n_units_4': 23, 'n_units_5': 8, 'n_units_6': 52, 'activation': 'tanh', 'batch_size': 128, 'threshold': 0.0335225726697364, 'n_components': 31}. Best is trial 82 with value: 0.7595404784688984.\u001b[0m\n"
          ]
        },
        {
          "name": "stdout",
          "output_type": "stream",
          "text": [
            "cross-val accuracy: 0.7465\n",
            "cross-val f1 score: 0.76925\n"
          ]
        },
        {
          "name": "stderr",
          "output_type": "stream",
          "text": [
            "\u001b[32m[I 2021-12-02 22:09:41,924]\u001b[0m Trial 87 finished with value: 0.7591795080092785 and parameters: {'n_layers': 6, 'n_units_0': 37, 'n_units_1': 30, 'n_units_2': 70, 'n_units_3': 45, 'n_units_4': 24, 'n_units_5': 9, 'activation': 'tanh', 'batch_size': 128, 'threshold': 0.03552551980168959, 'n_components': 29}. Best is trial 82 with value: 0.7595404784688984.\u001b[0m\n"
          ]
        },
        {
          "name": "stdout",
          "output_type": "stream",
          "text": [
            "cross-val accuracy: 0.74697\n",
            "cross-val f1 score: 0.77139\n"
          ]
        },
        {
          "name": "stderr",
          "output_type": "stream",
          "text": [
            "\u001b[32m[I 2021-12-02 22:09:59,453]\u001b[0m Trial 88 finished with value: 0.7501037809253726 and parameters: {'n_layers': 6, 'n_units_0': 37, 'n_units_1': 18, 'n_units_2': 70, 'n_units_3': 46, 'n_units_4': 24, 'n_units_5': 7, 'activation': 'tanh', 'batch_size': 128, 'threshold': 0.03576003548270431, 'n_components': 28}. Best is trial 82 with value: 0.7595404784688984.\u001b[0m\n"
          ]
        },
        {
          "name": "stdout",
          "output_type": "stream",
          "text": [
            "cross-val accuracy: 0.74276\n",
            "cross-val f1 score: 0.75745\n"
          ]
        },
        {
          "name": "stderr",
          "output_type": "stream",
          "text": [
            "\u001b[32m[I 2021-12-02 22:10:19,314]\u001b[0m Trial 89 finished with value: 0.7569881401708298 and parameters: {'n_layers': 5, 'n_units_0': 45, 'n_units_1': 25, 'n_units_2': 64, 'n_units_3': 42, 'n_units_4': 16, 'activation': 'tanh', 'batch_size': 128, 'threshold': 0.04044055193358789, 'n_components': 29}. Best is trial 82 with value: 0.7595404784688984.\u001b[0m\n"
          ]
        },
        {
          "name": "stdout",
          "output_type": "stream",
          "text": [
            "cross-val accuracy: 0.74837\n",
            "cross-val f1 score: 0.76561\n"
          ]
        },
        {
          "name": "stderr",
          "output_type": "stream",
          "text": [
            "\u001b[32m[I 2021-12-02 22:10:35,151]\u001b[0m Trial 90 finished with value: 0.7507706850796074 and parameters: {'n_layers': 5, 'n_units_0': 42, 'n_units_1': 24, 'n_units_2': 61, 'n_units_3': 42, 'n_units_4': 18, 'activation': 'tanh', 'batch_size': 128, 'threshold': 0.04103930029894493, 'n_components': 29}. Best is trial 82 with value: 0.7595404784688984.\u001b[0m\n"
          ]
        },
        {
          "name": "stdout",
          "output_type": "stream",
          "text": [
            "cross-val accuracy: 0.74487\n",
            "cross-val f1 score: 0.75668\n"
          ]
        },
        {
          "name": "stderr",
          "output_type": "stream",
          "text": [
            "\u001b[32m[I 2021-12-02 22:10:51,866]\u001b[0m Trial 91 finished with value: 0.7528315819581464 and parameters: {'n_layers': 5, 'n_units_0': 45, 'n_units_1': 31, 'n_units_2': 64, 'n_units_3': 37, 'n_units_4': 13, 'activation': 'tanh', 'batch_size': 128, 'threshold': 0.03162554349538322, 'n_components': 30}. Best is trial 82 with value: 0.7595404784688984.\u001b[0m\n"
          ]
        },
        {
          "name": "stdout",
          "output_type": "stream",
          "text": [
            "cross-val accuracy: 0.74276\n",
            "cross-val f1 score: 0.7629\n"
          ]
        },
        {
          "name": "stderr",
          "output_type": "stream",
          "text": [
            "\u001b[32m[I 2021-12-02 22:11:07,589]\u001b[0m Trial 92 finished with value: 0.7509149307056173 and parameters: {'n_layers': 6, 'n_units_0': 39, 'n_units_1': 34, 'n_units_2': 73, 'n_units_3': 48, 'n_units_4': 7, 'n_units_5': 22, 'activation': 'tanh', 'batch_size': 128, 'threshold': 0.02739600124974485, 'n_components': 32}. Best is trial 82 with value: 0.7595404784688984.\u001b[0m\n"
          ]
        },
        {
          "name": "stdout",
          "output_type": "stream",
          "text": [
            "cross-val accuracy: 0.7381\n",
            "cross-val f1 score: 0.76373\n"
          ]
        },
        {
          "name": "stderr",
          "output_type": "stream",
          "text": [
            "\u001b[32m[I 2021-12-02 22:11:27,471]\u001b[0m Trial 93 finished with value: 0.75313060563546 and parameters: {'n_layers': 7, 'n_units_0': 30, 'n_units_1': 23, 'n_units_2': 78, 'n_units_3': 53, 'n_units_4': 23, 'n_units_5': 7, 'n_units_6': 43, 'activation': 'tanh', 'batch_size': 128, 'threshold': 0.03774785986648379, 'n_components': 28}. Best is trial 82 with value: 0.7595404784688984.\u001b[0m\n"
          ]
        },
        {
          "name": "stdout",
          "output_type": "stream",
          "text": [
            "cross-val accuracy: 0.743\n",
            "cross-val f1 score: 0.76326\n"
          ]
        },
        {
          "name": "stderr",
          "output_type": "stream",
          "text": [
            "\u001b[32m[I 2021-12-02 22:11:45,449]\u001b[0m Trial 94 finished with value: 0.7532708800971318 and parameters: {'n_layers': 6, 'n_units_0': 37, 'n_units_1': 29, 'n_units_2': 71, 'n_units_3': 45, 'n_units_4': 15, 'n_units_5': 15, 'activation': 'tanh', 'batch_size': 128, 'threshold': 0.035538922570556915, 'n_components': 31}. Best is trial 82 with value: 0.7595404784688984.\u001b[0m\n"
          ]
        },
        {
          "name": "stdout",
          "output_type": "stream",
          "text": [
            "cross-val accuracy: 0.74463\n",
            "cross-val f1 score: 0.76191\n"
          ]
        },
        {
          "name": "stderr",
          "output_type": "stream",
          "text": [
            "\u001b[32m[I 2021-12-02 22:12:01,904]\u001b[0m Trial 95 finished with value: 0.7521309073018492 and parameters: {'n_layers': 5, 'n_units_0': 33, 'n_units_1': 39, 'n_units_2': 75, 'n_units_3': 30, 'n_units_4': 9, 'activation': 'tanh', 'batch_size': 128, 'threshold': 0.04329367461643356, 'n_components': 29}. Best is trial 82 with value: 0.7595404784688984.\u001b[0m\n"
          ]
        },
        {
          "name": "stdout",
          "output_type": "stream",
          "text": [
            "cross-val accuracy: 0.74743\n",
            "cross-val f1 score: 0.75683\n"
          ]
        },
        {
          "name": "stderr",
          "output_type": "stream",
          "text": [
            "\u001b[32m[I 2021-12-02 22:12:19,333]\u001b[0m Trial 96 finished with value: 0.7540446337371023 and parameters: {'n_layers': 5, 'n_units_0': 49, 'n_units_1': 20, 'n_units_2': 64, 'n_units_3': 41, 'n_units_4': 18, 'activation': 'tanh', 'batch_size': 128, 'threshold': 0.04032236672508987, 'n_components': 30}. Best is trial 82 with value: 0.7595404784688984.\u001b[0m\n"
          ]
        },
        {
          "name": "stdout",
          "output_type": "stream",
          "text": [
            "cross-val accuracy: 0.74347\n",
            "cross-val f1 score: 0.76462\n"
          ]
        },
        {
          "name": "stderr",
          "output_type": "stream",
          "text": [
            "\u001b[32m[I 2021-12-02 22:12:42,324]\u001b[0m Trial 97 finished with value: 0.7568163941273512 and parameters: {'n_layers': 8, 'n_units_0': 44, 'n_units_1': 29, 'n_units_2': 69, 'n_units_3': 44, 'n_units_4': 33, 'n_units_5': 11, 'n_units_6': 15, 'n_units_7': 100, 'activation': 'tanh', 'batch_size': 128, 'threshold': 0.03384402387864986, 'n_components': 28}. Best is trial 82 with value: 0.7595404784688984.\u001b[0m\n"
          ]
        },
        {
          "name": "stdout",
          "output_type": "stream",
          "text": [
            "cross-val accuracy: 0.75117\n",
            "cross-val f1 score: 0.76246\n"
          ]
        },
        {
          "name": "stderr",
          "output_type": "stream",
          "text": [
            "\u001b[32m[I 2021-12-02 22:13:08,567]\u001b[0m Trial 98 finished with value: 0.7561568282752145 and parameters: {'n_layers': 8, 'n_units_0': 44, 'n_units_1': 29, 'n_units_2': 68, 'n_units_3': 45, 'n_units_4': 28, 'n_units_5': 12, 'n_units_6': 14, 'n_units_7': 99, 'activation': 'tanh', 'batch_size': 128, 'threshold': 0.04675997944281464, 'n_components': 27}. Best is trial 82 with value: 0.7595404784688984.\u001b[0m\n"
          ]
        },
        {
          "name": "stdout",
          "output_type": "stream",
          "text": [
            "cross-val accuracy: 0.75327\n",
            "cross-val f1 score: 0.75905\n"
          ]
        },
        {
          "name": "stderr",
          "output_type": "stream",
          "text": [
            "\u001b[32m[I 2021-12-02 22:13:34,923]\u001b[0m Trial 99 finished with value: 0.7488095227535849 and parameters: {'n_layers': 8, 'n_units_0': 52, 'n_units_1': 27, 'n_units_2': 19, 'n_units_3': 55, 'n_units_4': 32, 'n_units_5': 19, 'n_units_6': 35, 'n_units_7': 84, 'activation': 'tanh', 'batch_size': 128, 'threshold': 0.026549312991669155, 'n_components': 33}. Best is trial 82 with value: 0.7595404784688984.\u001b[0m\n"
          ]
        },
        {
          "name": "stdout",
          "output_type": "stream",
          "text": [
            "cross-val accuracy: 0.74673\n",
            "cross-val f1 score: 0.75089\n"
          ]
        }
      ]
    },
    {
      "cell_type": "markdown",
      "metadata": {
        "id": "Tyb3u0zPMy8-"
      },
      "source": [
        "Από τις παραπάνω δοκιμές παρατηρούμε ότι το batch size = 128 επικρατεί (ίσως και πάλι λόγω του μειωμένου train dataset), ενώ τα καλύτερα scores αντιστοιχούν σε threshold μικρότερα του 0.05. \n",
        "\n",
        "Συγκριτικά, με τη χρήση 'sgd' solver παρατηρούμε ότι για την αντίστοιχη αρχιτεκτονική ο 'adam' solver είναι λίγο καλύτερος, ιδίως ως προς τη βελτίωση του f1 score όπου παρατηρούμε μια ικανοποιητική βελτίωση. Ως καλύτερες εκτιμήσεις μπορούμε να επιλέξουμε είτε το trial 82 που αντιστοιχεί σε accuracy score = 0.714 (ελάχιστα μικρότερο από το αντίστοιχο του 'sgd') και f1 score = 0.768 (αρκετά βελτιωμένο από το αντίστοιχο του 'sgd'), είτε το trial 98 που αντιστοιχεί σε accuracy score = 0.7537 και f1 score = 0.759 (και τα δύο ελαφρώς βελτιωμένα από τα αντίστοιχα του 'sgd'), με το trial 82 μάλιστα να αντιστοιχεί σε ένα πιο απλό δίκτυο συγκριτικά με το trial 98.\n",
        "\n",
        "Στη συνέχεια, δοκιμάζουμε την αρχιτεκτονική Variance Threshold (με theshold = 0) - Scaler - MLP (με 'adam' solver), όπου ως scaler χρησιμοποιούμε είτε Standard Scaler είτε MinMax Scaler."
      ]
    },
    {
      "cell_type": "code",
      "metadata": {
        "colab": {
          "base_uri": "https://localhost:8080/"
        },
        "id": "N6Hu9c02LHvX",
        "outputId": "13f323d9-42a3-48ad-8176-34ca1c2b247e"
      },
      "source": [
        "# Variance Threshold (threshold = 0) - MinMax Scaler/Standard Scaler - MLP \n",
        "\n",
        "def objective(trial):\n",
        "\n",
        "    n_layers = trial.suggest_int('n_layers', 1, 10)\n",
        "    layers = []\n",
        "    for i in range(n_layers):\n",
        "        layers.append(trial.suggest_int(f'n_units_{i}', 1, 100))\n",
        "\n",
        "    activation = trial.suggest_categorical('activation', ['relu', 'tanh', 'logistic'])\n",
        "    batch_size = trial.suggest_categorical('batch_size', [128, 256, 512])\n",
        "\n",
        "    mlp = MLPClassifier(hidden_layer_sizes = tuple(layers), activation = activation,  solver = 'adam', batch_size = batch_size, max_iter = 10000, early_stopping = True)\n",
        "    \n",
        "    n_components = trial.suggest_int('n_components', 15, 80)\n",
        "\n",
        "    scaler = trial.suggest_categorical('scaler', ['minmax_scaler', 'standard_scaler'])\n",
        "    if scaler == 'minmax_scaler':\n",
        "      clf = Pipeline(steps = [('selector', VarianceThreshold(threshold = 0)), ('minmax_scaler', preprocessing.MinMaxScaler()), ('mlp', mlp)])\n",
        "    else:\n",
        "      clf = Pipeline(steps = [('selector', VarianceThreshold(threshold = 0)), ('minmax_scaler', preprocessing.StandardScaler()), ('mlp', mlp)])\n",
        "\n",
        "    return np.mean(cross_val_score(clf, X_train_small, y_train_small, cv = 5, scoring = 'accuracy'))\n",
        "\n",
        "study = optuna.create_study(direction = 'maximize')\n",
        "study.optimize(objective, n_trials = 40)"
      ],
      "execution_count": null,
      "outputs": [
        {
          "name": "stderr",
          "output_type": "stream",
          "text": [
            "\u001b[32m[I 2021-12-02 22:26:15,879]\u001b[0m A new study created in memory with name: no-name-7a1b1ad8-f3c2-4368-a04e-9be1f9315617\u001b[0m\n",
            "\u001b[32m[I 2021-12-02 22:26:21,678]\u001b[0m Trial 0 finished with value: 0.5004675623507344 and parameters: {'n_layers': 8, 'n_units_0': 79, 'n_units_1': 78, 'n_units_2': 15, 'n_units_3': 50, 'n_units_4': 58, 'n_units_5': 2, 'n_units_6': 69, 'n_units_7': 4, 'activation': 'logistic', 'batch_size': 256, 'n_components': 50, 'scaler': 'standard_scaler'}. Best is trial 0 with value: 0.5004675623507344.\u001b[0m\n",
            "\u001b[32m[I 2021-12-02 22:26:26,823]\u001b[0m Trial 1 finished with value: 0.7289913194255118 and parameters: {'n_layers': 2, 'n_units_0': 12, 'n_units_1': 94, 'activation': 'logistic', 'batch_size': 512, 'n_components': 61, 'scaler': 'standard_scaler'}. Best is trial 1 with value: 0.7289913194255118.\u001b[0m\n",
            "\u001b[32m[I 2021-12-02 22:26:41,352]\u001b[0m Trial 2 finished with value: 0.7432308422120197 and parameters: {'n_layers': 8, 'n_units_0': 96, 'n_units_1': 39, 'n_units_2': 61, 'n_units_3': 23, 'n_units_4': 54, 'n_units_5': 64, 'n_units_6': 13, 'n_units_7': 83, 'activation': 'tanh', 'batch_size': 512, 'n_components': 52, 'scaler': 'standard_scaler'}. Best is trial 2 with value: 0.7432308422120197.\u001b[0m\n",
            "\u001b[32m[I 2021-12-02 22:26:50,379]\u001b[0m Trial 3 finished with value: 0.7359963031221713 and parameters: {'n_layers': 6, 'n_units_0': 43, 'n_units_1': 49, 'n_units_2': 90, 'n_units_3': 21, 'n_units_4': 61, 'n_units_5': 3, 'activation': 'tanh', 'batch_size': 128, 'n_components': 24, 'scaler': 'standard_scaler'}. Best is trial 2 with value: 0.7432308422120197.\u001b[0m\n",
            "\u001b[32m[I 2021-12-02 22:27:00,741]\u001b[0m Trial 4 finished with value: 0.735291551707216 and parameters: {'n_layers': 6, 'n_units_0': 17, 'n_units_1': 83, 'n_units_2': 33, 'n_units_3': 55, 'n_units_4': 49, 'n_units_5': 14, 'activation': 'tanh', 'batch_size': 128, 'n_components': 37, 'scaler': 'standard_scaler'}. Best is trial 2 with value: 0.7432308422120197.\u001b[0m\n",
            "\u001b[32m[I 2021-12-02 22:27:18,519]\u001b[0m Trial 5 finished with value: 0.7261943968854622 and parameters: {'n_layers': 8, 'n_units_0': 55, 'n_units_1': 93, 'n_units_2': 33, 'n_units_3': 86, 'n_units_4': 36, 'n_units_5': 59, 'n_units_6': 72, 'n_units_7': 17, 'activation': 'tanh', 'batch_size': 128, 'n_components': 69, 'scaler': 'standard_scaler'}. Best is trial 2 with value: 0.7432308422120197.\u001b[0m\n",
            "\u001b[32m[I 2021-12-02 22:27:24,766]\u001b[0m Trial 6 finished with value: 0.7373959912321835 and parameters: {'n_layers': 2, 'n_units_0': 96, 'n_units_1': 50, 'activation': 'tanh', 'batch_size': 128, 'n_components': 21, 'scaler': 'minmax_scaler'}. Best is trial 2 with value: 0.7432308422120197.\u001b[0m\n",
            "\u001b[32m[I 2021-12-02 22:27:27,107]\u001b[0m Trial 7 finished with value: 0.7408982104494052 and parameters: {'n_layers': 1, 'n_units_0': 2, 'activation': 'tanh', 'batch_size': 128, 'n_components': 54, 'scaler': 'standard_scaler'}. Best is trial 2 with value: 0.7432308422120197.\u001b[0m\n",
            "\u001b[32m[I 2021-12-02 22:27:43,987]\u001b[0m Trial 8 finished with value: 0.7369295194058824 and parameters: {'n_layers': 6, 'n_units_0': 3, 'n_units_1': 2, 'n_units_2': 35, 'n_units_3': 66, 'n_units_4': 89, 'n_units_5': 28, 'activation': 'tanh', 'batch_size': 128, 'n_components': 24, 'scaler': 'minmax_scaler'}. Best is trial 2 with value: 0.7432308422120197.\u001b[0m\n",
            "\u001b[32m[I 2021-12-02 22:27:53,126]\u001b[0m Trial 9 finished with value: 0.7411285837359187 and parameters: {'n_layers': 8, 'n_units_0': 84, 'n_units_1': 100, 'n_units_2': 28, 'n_units_3': 86, 'n_units_4': 35, 'n_units_5': 6, 'n_units_6': 67, 'n_units_7': 42, 'activation': 'relu', 'batch_size': 256, 'n_components': 74, 'scaler': 'standard_scaler'}. Best is trial 2 with value: 0.7432308422120197.\u001b[0m\n",
            "\u001b[32m[I 2021-12-02 22:28:02,598]\u001b[0m Trial 10 finished with value: 0.7378640988451346 and parameters: {'n_layers': 10, 'n_units_0': 60, 'n_units_1': 22, 'n_units_2': 69, 'n_units_3': 3, 'n_units_4': 11, 'n_units_5': 84, 'n_units_6': 5, 'n_units_7': 99, 'n_units_8': 60, 'n_units_9': 47, 'activation': 'relu', 'batch_size': 512, 'n_components': 39, 'scaler': 'minmax_scaler'}. Best is trial 2 with value: 0.7432308422120197.\u001b[0m\n",
            "\u001b[32m[I 2021-12-02 22:28:10,241]\u001b[0m Trial 11 finished with value: 0.6466136490038059 and parameters: {'n_layers': 9, 'n_units_0': 100, 'n_units_1': 31, 'n_units_2': 62, 'n_units_3': 96, 'n_units_4': 26, 'n_units_5': 55, 'n_units_6': 25, 'n_units_7': 63, 'n_units_8': 2, 'activation': 'relu', 'batch_size': 256, 'n_components': 78, 'scaler': 'standard_scaler'}. Best is trial 2 with value: 0.7432308422120197.\u001b[0m\n",
            "\u001b[32m[I 2021-12-02 22:28:15,263]\u001b[0m Trial 12 finished with value: 0.7460326721120187 and parameters: {'n_layers': 4, 'n_units_0': 80, 'n_units_1': 70, 'n_units_2': 5, 'n_units_3': 32, 'activation': 'relu', 'batch_size': 256, 'n_components': 75, 'scaler': 'standard_scaler'}. Best is trial 12 with value: 0.7460326721120187.\u001b[0m\n",
            "\u001b[32m[I 2021-12-02 22:28:22,292]\u001b[0m Trial 13 finished with value: 0.733193110066631 and parameters: {'n_layers': 4, 'n_units_0': 73, 'n_units_1': 66, 'n_units_2': 82, 'n_units_3': 30, 'activation': 'relu', 'batch_size': 512, 'n_components': 63, 'scaler': 'standard_scaler'}. Best is trial 12 with value: 0.7460326721120187.\u001b[0m\n",
            "\u001b[32m[I 2021-12-02 22:28:26,685]\u001b[0m Trial 14 finished with value: 0.7301595437245771 and parameters: {'n_layers': 4, 'n_units_0': 39, 'n_units_1': 65, 'n_units_2': 6, 'n_units_3': 28, 'activation': 'relu', 'batch_size': 512, 'n_components': 40, 'scaler': 'standard_scaler'}. Best is trial 12 with value: 0.7460326721120187.\u001b[0m\n",
            "\u001b[32m[I 2021-12-02 22:28:35,024]\u001b[0m Trial 15 finished with value: 0.733191201648873 and parameters: {'n_layers': 4, 'n_units_0': 88, 'n_units_1': 37, 'n_units_2': 51, 'n_units_3': 10, 'activation': 'logistic', 'batch_size': 256, 'n_components': 59, 'scaler': 'minmax_scaler'}. Best is trial 12 with value: 0.7460326721120187.\u001b[0m\n",
            "\u001b[32m[I 2021-12-02 22:28:42,911]\u001b[0m Trial 16 finished with value: 0.745566745547934 and parameters: {'n_layers': 5, 'n_units_0': 69, 'n_units_1': 64, 'n_units_2': 100, 'n_units_3': 39, 'n_units_4': 86, 'activation': 'relu', 'batch_size': 512, 'n_components': 79, 'scaler': 'standard_scaler'}. Best is trial 12 with value: 0.7460326721120187.\u001b[0m\n",
            "\u001b[32m[I 2021-12-02 22:28:49,478]\u001b[0m Trial 17 finished with value: 0.7364600486373897 and parameters: {'n_layers': 5, 'n_units_0': 70, 'n_units_1': 65, 'n_units_2': 99, 'n_units_3': 40, 'n_units_4': 100, 'activation': 'relu', 'batch_size': 256, 'n_components': 69, 'scaler': 'standard_scaler'}. Best is trial 12 with value: 0.7460326721120187.\u001b[0m\n",
            "\u001b[32m[I 2021-12-02 22:28:53,286]\u001b[0m Trial 18 finished with value: 0.6547857664750978 and parameters: {'n_layers': 3, 'n_units_0': 65, 'n_units_1': 76, 'n_units_2': 2, 'activation': 'relu', 'batch_size': 256, 'n_components': 79, 'scaler': 'minmax_scaler'}. Best is trial 12 with value: 0.7460326721120187.\u001b[0m\n",
            "\u001b[32m[I 2021-12-02 22:29:00,217]\u001b[0m Trial 19 finished with value: 0.7329594652068179 and parameters: {'n_layers': 5, 'n_units_0': 33, 'n_units_1': 60, 'n_units_2': 79, 'n_units_3': 65, 'n_units_4': 79, 'activation': 'relu', 'batch_size': 512, 'n_components': 69, 'scaler': 'standard_scaler'}. Best is trial 12 with value: 0.7460326721120187.\u001b[0m\n",
            "\u001b[32m[I 2021-12-02 22:29:09,526]\u001b[0m Trial 20 finished with value: 0.7310943957949377 and parameters: {'n_layers': 7, 'n_units_0': 52, 'n_units_1': 55, 'n_units_2': 45, 'n_units_3': 45, 'n_units_4': 75, 'n_units_5': 96, 'n_units_6': 91, 'activation': 'relu', 'batch_size': 512, 'n_components': 74, 'scaler': 'standard_scaler'}. Best is trial 12 with value: 0.7460326721120187.\u001b[0m\n",
            "\u001b[32m[I 2021-12-02 22:29:16,625]\u001b[0m Trial 21 finished with value: 0.7341271442436669 and parameters: {'n_layers': 7, 'n_units_0': 90, 'n_units_1': 41, 'n_units_2': 59, 'n_units_3': 18, 'n_units_4': 71, 'n_units_5': 77, 'n_units_6': 31, 'activation': 'relu', 'batch_size': 512, 'n_components': 47, 'scaler': 'standard_scaler'}. Best is trial 12 with value: 0.7460326721120187.\u001b[0m\n",
            "\u001b[32m[I 2021-12-02 22:29:21,496]\u001b[0m Trial 22 finished with value: 0.7341265989814503 and parameters: {'n_layers': 3, 'n_units_0': 78, 'n_units_1': 20, 'n_units_2': 21, 'activation': 'tanh', 'batch_size': 512, 'n_components': 31, 'scaler': 'standard_scaler'}. Best is trial 12 with value: 0.7460326721120187.\u001b[0m\n",
            "\u001b[32m[I 2021-12-02 22:29:31,284]\u001b[0m Trial 23 finished with value: 0.5032680290951917 and parameters: {'n_layers': 10, 'n_units_0': 93, 'n_units_1': 44, 'n_units_2': 74, 'n_units_3': 32, 'n_units_4': 97, 'n_units_5': 37, 'n_units_6': 2, 'n_units_7': 96, 'n_units_8': 93, 'n_units_9': 99, 'activation': 'logistic', 'batch_size': 512, 'n_components': 79, 'scaler': 'standard_scaler'}. Best is trial 12 with value: 0.7460326721120187.\u001b[0m\n",
            "\u001b[32m[I 2021-12-02 22:29:37,800]\u001b[0m Trial 24 finished with value: 0.7334256644020108 and parameters: {'n_layers': 5, 'n_units_0': 82, 'n_units_1': 73, 'n_units_2': 96, 'n_units_3': 36, 'n_units_4': 6, 'activation': 'relu', 'batch_size': 512, 'n_components': 64, 'scaler': 'standard_scaler'}. Best is trial 12 with value: 0.7460326721120187.\u001b[0m\n",
            "\u001b[32m[I 2021-12-02 22:29:48,816]\u001b[0m Trial 25 finished with value: 0.7420618000196295 and parameters: {'n_layers': 7, 'n_units_0': 70, 'n_units_1': 30, 'n_units_2': 43, 'n_units_3': 19, 'n_units_4': 50, 'n_units_5': 67, 'n_units_6': 35, 'activation': 'tanh', 'batch_size': 256, 'n_components': 54, 'scaler': 'standard_scaler'}. Best is trial 12 with value: 0.7460326721120187.\u001b[0m\n",
            "\u001b[32m[I 2021-12-02 22:29:54,171]\u001b[0m Trial 26 finished with value: 0.746034853160885 and parameters: {'n_layers': 3, 'n_units_0': 62, 'n_units_1': 84, 'n_units_2': 56, 'activation': 'relu', 'batch_size': 512, 'n_components': 73, 'scaler': 'minmax_scaler'}. Best is trial 26 with value: 0.746034853160885.\u001b[0m\n",
            "\u001b[32m[I 2021-12-02 22:29:58,408]\u001b[0m Trial 27 finished with value: 0.7378613725340517 and parameters: {'n_layers': 3, 'n_units_0': 61, 'n_units_1': 85, 'n_units_2': 12, 'activation': 'relu', 'batch_size': 256, 'n_components': 73, 'scaler': 'minmax_scaler'}. Best is trial 26 with value: 0.746034853160885.\u001b[0m\n",
            "\u001b[32m[I 2021-12-02 22:30:00,786]\u001b[0m Trial 28 finished with value: 0.7378630083207014 and parameters: {'n_layers': 1, 'n_units_0': 45, 'activation': 'relu', 'batch_size': 512, 'n_components': 15, 'scaler': 'minmax_scaler'}. Best is trial 26 with value: 0.746034853160885.\u001b[0m\n",
            "\u001b[32m[I 2021-12-02 22:30:09,189]\u001b[0m Trial 29 finished with value: 0.7341317789725079 and parameters: {'n_layers': 2, 'n_units_0': 76, 'n_units_1': 83, 'activation': 'logistic', 'batch_size': 256, 'n_components': 65, 'scaler': 'minmax_scaler'}. Best is trial 26 with value: 0.746034853160885.\u001b[0m\n",
            "\u001b[32m[I 2021-12-02 22:30:15,910]\u001b[0m Trial 30 finished with value: 0.7380988342293808 and parameters: {'n_layers': 4, 'n_units_0': 30, 'n_units_1': 73, 'n_units_2': 88, 'n_units_3': 61, 'activation': 'relu', 'batch_size': 512, 'n_components': 80, 'scaler': 'minmax_scaler'}. Best is trial 26 with value: 0.746034853160885.\u001b[0m\n",
            "\u001b[32m[I 2021-12-02 22:30:20,666]\u001b[0m Trial 31 finished with value: 0.7406585677052094 and parameters: {'n_layers': 3, 'n_units_0': 84, 'n_units_1': 56, 'n_units_2': 55, 'activation': 'relu', 'batch_size': 512, 'n_components': 48, 'scaler': 'standard_scaler'}. Best is trial 26 with value: 0.746034853160885.\u001b[0m\n",
            "\u001b[32m[I 2021-12-02 22:30:25,839]\u001b[0m Trial 32 finished with value: 0.5032680290951917 and parameters: {'n_layers': 5, 'n_units_0': 65, 'n_units_1': 69, 'n_units_2': 64, 'n_units_3': 44, 'n_units_4': 85, 'activation': 'logistic', 'batch_size': 512, 'n_components': 57, 'scaler': 'minmax_scaler'}. Best is trial 26 with value: 0.746034853160885.\u001b[0m\n",
            "\u001b[32m[I 2021-12-02 22:30:33,790]\u001b[0m Trial 33 finished with value: 0.6344774752178324 and parameters: {'n_layers': 9, 'n_units_0': 78, 'n_units_1': 80, 'n_units_2': 44, 'n_units_3': 23, 'n_units_4': 67, 'n_units_5': 38, 'n_units_6': 45, 'n_units_7': 70, 'n_units_8': 4, 'activation': 'relu', 'batch_size': 512, 'n_components': 74, 'scaler': 'standard_scaler'}. Best is trial 26 with value: 0.746034853160885.\u001b[0m\n",
            "\u001b[32m[I 2021-12-02 22:30:45,445]\u001b[0m Trial 34 finished with value: 0.7329600104690346 and parameters: {'n_layers': 6, 'n_units_0': 100, 'n_units_1': 93, 'n_units_2': 70, 'n_units_3': 11, 'n_units_4': 41, 'n_units_5': 95, 'activation': 'tanh', 'batch_size': 512, 'n_components': 67, 'scaler': 'standard_scaler'}. Best is trial 26 with value: 0.746034853160885.\u001b[0m\n",
            "\u001b[32m[I 2021-12-02 22:30:50,965]\u001b[0m Trial 35 finished with value: 0.6337214691545164 and parameters: {'n_layers': 4, 'n_units_0': 59, 'n_units_1': 58, 'n_units_2': 18, 'n_units_3': 1, 'activation': 'tanh', 'batch_size': 512, 'n_components': 72, 'scaler': 'standard_scaler'}. Best is trial 26 with value: 0.746034853160885.\u001b[0m\n",
            "\u001b[32m[I 2021-12-02 22:30:55,497]\u001b[0m Trial 36 finished with value: 0.7427616440746354 and parameters: {'n_layers': 2, 'n_units_0': 89, 'n_units_1': 86, 'activation': 'relu', 'batch_size': 256, 'n_components': 76, 'scaler': 'standard_scaler'}. Best is trial 26 with value: 0.746034853160885.\u001b[0m\n",
            "\u001b[32m[I 2021-12-02 22:31:05,760]\u001b[0m Trial 37 finished with value: 0.7401986390255073 and parameters: {'n_layers': 5, 'n_units_0': 48, 'n_units_1': 50, 'n_units_2': 55, 'n_units_3': 38, 'n_units_4': 28, 'activation': 'tanh', 'batch_size': 128, 'n_components': 60, 'scaler': 'minmax_scaler'}. Best is trial 26 with value: 0.746034853160885.\u001b[0m\n",
            "\u001b[32m[I 2021-12-02 22:31:15,926]\u001b[0m Trial 38 finished with value: 0.7348318956586223 and parameters: {'n_layers': 3, 'n_units_0': 69, 'n_units_1': 88, 'n_units_2': 88, 'activation': 'logistic', 'batch_size': 512, 'n_components': 44, 'scaler': 'standard_scaler'}. Best is trial 26 with value: 0.746034853160885.\u001b[0m\n",
            "\u001b[32m[I 2021-12-02 22:31:30,450]\u001b[0m Trial 39 finished with value: 0.7439325946847839 and parameters: {'n_layers': 6, 'n_units_0': 55, 'n_units_1': 76, 'n_units_2': 25, 'n_units_3': 52, 'n_units_4': 87, 'n_units_5': 71, 'activation': 'tanh', 'batch_size': 128, 'n_components': 32, 'scaler': 'minmax_scaler'}. Best is trial 26 with value: 0.746034853160885.\u001b[0m\n"
          ]
        }
      ]
    },
    {
      "cell_type": "markdown",
      "metadata": {
        "id": "G6qg-cgURt6I"
      },
      "source": [
        "Παρατηρούμε ότι και η αρχιτεκτονική αυτή επιτυγχάνει αρκετά υψηλά ποσοστά accuracy score, τόσο με χρήση Standard όσο και MinMax Scaler, και μάλιστα λίγο καλύτερα συγκριτικά με τα αντίστοιχα scores της ίδιας αρχιτεκτονικής για 'sgd' solver, χωρίς ωστόσο να ξεπερνά το 0.75. \n",
        "\n",
        "Έπειτα, δοκιμάζουμε και πάλι την αρχιτεκτονική (Scaler) - PCA - MLP (με 'adam' solver)."
      ]
    },
    {
      "cell_type": "code",
      "metadata": {
        "colab": {
          "base_uri": "https://localhost:8080/"
        },
        "id": "jKIpM1D2LHtk",
        "outputId": "7276458c-89cf-4b8f-bcaf-e8c4324b4d2f"
      },
      "source": [
        "# Variance Threshold (threshold = 0) - MinMax Scaler/StandardScaler/None - PCA - MLP\n",
        "\n",
        "def objective(trial):\n",
        "\n",
        "    n_layers = trial.suggest_int('n_layers', 1, 10)\n",
        "    layers = []\n",
        "    for i in range(n_layers):\n",
        "        layers.append(trial.suggest_int(f'n_units_{i}', 1, 100))\n",
        "\n",
        "    activation = trial.suggest_categorical('activation', ['relu', 'tanh'])\n",
        "    batch_size = trial.suggest_categorical('batch_size', [128, 256, 512])\n",
        "\n",
        "    mlp = MLPClassifier(hidden_layer_sizes = tuple(layers), activation = activation,  solver = 'adam', batch_size = batch_size, max_iter = 10000, early_stopping = True)\n",
        "    \n",
        "    n_components = trial.suggest_int('n_components', 15, 80)\n",
        "\n",
        "    scaler = trial.suggest_categorical('scaler', ['minmax_scaler', 'standard_scaler', 'none'])\n",
        "    if scaler == 'minmax_scaler':\n",
        "      clf = Pipeline(steps = [('selector', VarianceThreshold(threshold = 0)), ('minmax_scaler', preprocessing.MinMaxScaler()), ('pca', PCA(n_components = n_components)), ('mlp', mlp)])\n",
        "    elif scaler == 'standard_scaler':\n",
        "      clf = Pipeline(steps = [('selector', VarianceThreshold(threshold = 0)), ('minmax_scaler', preprocessing.StandardScaler()), ('pca', PCA(n_components = n_components)), ('mlp', mlp)])\n",
        "    else:\n",
        "      clf = Pipeline(steps = [('selector', VarianceThreshold(threshold = 0)), ('pca', PCA(n_components = n_components)), ('mlp', mlp)])\n",
        "\n",
        "    return np.mean(cross_val_score(clf, X_train_small, y_train_small, cv = 5, scoring = 'accuracy'))\n",
        "\n",
        "study = optuna.create_study(direction = 'maximize')\n",
        "study.optimize(objective, n_trials = 40)"
      ],
      "execution_count": null,
      "outputs": [
        {
          "name": "stderr",
          "output_type": "stream",
          "text": [
            "\u001b[32m[I 2021-12-02 22:31:49,071]\u001b[0m A new study created in memory with name: no-name-f1e6946a-cb60-4a9e-8839-bdf34ac234a6\u001b[0m\n",
            "\u001b[32m[I 2021-12-02 22:32:03,704]\u001b[0m Trial 0 finished with value: 0.7350619963140275 and parameters: {'n_layers': 9, 'n_units_0': 85, 'n_units_1': 51, 'n_units_2': 95, 'n_units_3': 1, 'n_units_4': 66, 'n_units_5': 37, 'n_units_6': 88, 'n_units_7': 100, 'n_units_8': 37, 'activation': 'tanh', 'batch_size': 512, 'n_components': 47, 'scaler': 'minmax_scaler'}. Best is trial 0 with value: 0.7350619963140275.\u001b[0m\n",
            "\u001b[32m[I 2021-12-02 22:32:08,665]\u001b[0m Trial 1 finished with value: 0.718721850838068 and parameters: {'n_layers': 2, 'n_units_0': 9, 'n_units_1': 95, 'activation': 'relu', 'batch_size': 512, 'n_components': 41, 'scaler': 'standard_scaler'}. Best is trial 0 with value: 0.7350619963140275.\u001b[0m\n",
            "\u001b[32m[I 2021-12-02 22:32:14,801]\u001b[0m Trial 2 finished with value: 0.7415956008244364 and parameters: {'n_layers': 3, 'n_units_0': 89, 'n_units_1': 79, 'n_units_2': 4, 'activation': 'relu', 'batch_size': 128, 'n_components': 57, 'scaler': 'standard_scaler'}. Best is trial 2 with value: 0.7415956008244364.\u001b[0m\n",
            "\u001b[32m[I 2021-12-02 22:32:19,259]\u001b[0m Trial 3 finished with value: 0.7131124657847959 and parameters: {'n_layers': 1, 'n_units_0': 60, 'activation': 'relu', 'batch_size': 512, 'n_components': 80, 'scaler': 'none'}. Best is trial 2 with value: 0.7415956008244364.\u001b[0m\n",
            "\u001b[32m[I 2021-12-02 22:32:31,725]\u001b[0m Trial 4 finished with value: 0.6517271180710804 and parameters: {'n_layers': 8, 'n_units_0': 95, 'n_units_1': 99, 'n_units_2': 78, 'n_units_3': 45, 'n_units_4': 28, 'n_units_5': 23, 'n_units_6': 31, 'n_units_7': 64, 'activation': 'relu', 'batch_size': 256, 'n_components': 51, 'scaler': 'none'}. Best is trial 2 with value: 0.7415956008244364.\u001b[0m\n",
            "\u001b[32m[I 2021-12-02 22:32:47,660]\u001b[0m Trial 5 finished with value: 0.6498560507748177 and parameters: {'n_layers': 5, 'n_units_0': 66, 'n_units_1': 72, 'n_units_2': 72, 'n_units_3': 88, 'n_units_4': 39, 'activation': 'tanh', 'batch_size': 512, 'n_components': 80, 'scaler': 'none'}. Best is trial 2 with value: 0.7415956008244364.\u001b[0m\n",
            "\u001b[32m[I 2021-12-02 22:33:01,051]\u001b[0m Trial 6 finished with value: 0.6699317876967033 and parameters: {'n_layers': 7, 'n_units_0': 38, 'n_units_1': 50, 'n_units_2': 19, 'n_units_3': 49, 'n_units_4': 60, 'n_units_5': 72, 'n_units_6': 66, 'activation': 'relu', 'batch_size': 256, 'n_components': 15, 'scaler': 'none'}. Best is trial 2 with value: 0.7415956008244364.\u001b[0m\n",
            "\u001b[32m[I 2021-12-02 22:33:07,775]\u001b[0m Trial 7 finished with value: 0.5004675623507344 and parameters: {'n_layers': 8, 'n_units_0': 68, 'n_units_1': 91, 'n_units_2': 8, 'n_units_3': 58, 'n_units_4': 80, 'n_units_5': 77, 'n_units_6': 85, 'n_units_7': 1, 'activation': 'relu', 'batch_size': 128, 'n_components': 26, 'scaler': 'none'}. Best is trial 2 with value: 0.7415956008244364.\u001b[0m\n",
            "\u001b[32m[I 2021-12-02 22:33:21,187]\u001b[0m Trial 8 finished with value: 0.7252540921929355 and parameters: {'n_layers': 7, 'n_units_0': 39, 'n_units_1': 54, 'n_units_2': 83, 'n_units_3': 83, 'n_units_4': 38, 'n_units_5': 68, 'n_units_6': 52, 'activation': 'tanh', 'batch_size': 256, 'n_components': 42, 'scaler': 'standard_scaler'}. Best is trial 2 with value: 0.7415956008244364.\u001b[0m\n",
            "\u001b[32m[I 2021-12-02 22:33:28,695]\u001b[0m Trial 9 finished with value: 0.7016774992093698 and parameters: {'n_layers': 2, 'n_units_0': 88, 'n_units_1': 60, 'activation': 'tanh', 'batch_size': 128, 'n_components': 55, 'scaler': 'none'}. Best is trial 2 with value: 0.7415956008244364.\u001b[0m\n",
            "\u001b[32m[I 2021-12-02 22:33:31,488]\u001b[0m Trial 10 finished with value: 0.5506409557356132 and parameters: {'n_layers': 4, 'n_units_0': 10, 'n_units_1': 15, 'n_units_2': 37, 'n_units_3': 1, 'activation': 'relu', 'batch_size': 128, 'n_components': 65, 'scaler': 'standard_scaler'}. Best is trial 2 with value: 0.7415956008244364.\u001b[0m\n",
            "\u001b[32m[I 2021-12-02 22:33:47,181]\u001b[0m Trial 11 finished with value: 0.7404303754675624 and parameters: {'n_layers': 10, 'n_units_0': 84, 'n_units_1': 24, 'n_units_2': 100, 'n_units_3': 5, 'n_units_4': 97, 'n_units_5': 20, 'n_units_6': 100, 'n_units_7': 98, 'n_units_8': 36, 'n_units_9': 88, 'activation': 'tanh', 'batch_size': 128, 'n_components': 63, 'scaler': 'minmax_scaler'}. Best is trial 2 with value: 0.7415956008244364.\u001b[0m\n",
            "\u001b[32m[I 2021-12-02 22:33:58,770]\u001b[0m Trial 12 finished with value: 0.7441665121757053 and parameters: {'n_layers': 10, 'n_units_0': 78, 'n_units_1': 20, 'n_units_2': 52, 'n_units_3': 27, 'n_units_4': 100, 'n_units_5': 3, 'n_units_6': 3, 'n_units_7': 94, 'n_units_8': 17, 'n_units_9': 94, 'activation': 'tanh', 'batch_size': 128, 'n_components': 66, 'scaler': 'minmax_scaler'}. Best is trial 12 with value: 0.7441665121757053.\u001b[0m\n",
            "\u001b[32m[I 2021-12-02 22:34:05,786]\u001b[0m Trial 13 finished with value: 0.7390312326197669 and parameters: {'n_layers': 4, 'n_units_0': 100, 'n_units_1': 31, 'n_units_2': 50, 'n_units_3': 28, 'activation': 'tanh', 'batch_size': 128, 'n_components': 65, 'scaler': 'minmax_scaler'}. Best is trial 12 with value: 0.7441665121757053.\u001b[0m\n",
            "\u001b[32m[I 2021-12-02 22:34:14,636]\u001b[0m Trial 14 finished with value: 0.7378616451651598 and parameters: {'n_layers': 3, 'n_units_0': 77, 'n_units_1': 74, 'n_units_2': 32, 'activation': 'tanh', 'batch_size': 128, 'n_components': 72, 'scaler': 'standard_scaler'}. Best is trial 12 with value: 0.7441665121757053.\u001b[0m\n",
            "\u001b[32m[I 2021-12-02 22:34:20,459]\u001b[0m Trial 15 finished with value: 0.7404311933608873 and parameters: {'n_layers': 6, 'n_units_0': 51, 'n_units_1': 1, 'n_units_2': 59, 'n_units_3': 31, 'n_units_4': 8, 'n_units_5': 8, 'activation': 'relu', 'batch_size': 128, 'n_components': 56, 'scaler': 'minmax_scaler'}. Best is trial 12 with value: 0.7441665121757053.\u001b[0m\n",
            "\u001b[32m[I 2021-12-02 22:34:30,612]\u001b[0m Trial 16 finished with value: 0.5998841317789725 and parameters: {'n_layers': 10, 'n_units_0': 78, 'n_units_1': 31, 'n_units_2': 5, 'n_units_3': 70, 'n_units_4': 100, 'n_units_5': 99, 'n_units_6': 2, 'n_units_7': 54, 'n_units_8': 4, 'n_units_9': 12, 'activation': 'relu', 'batch_size': 128, 'n_components': 33, 'scaler': 'standard_scaler'}. Best is trial 12 with value: 0.7441665121757053.\u001b[0m\n",
            "\u001b[32m[I 2021-12-02 22:34:40,468]\u001b[0m Trial 17 finished with value: 0.7401959127144244 and parameters: {'n_layers': 5, 'n_units_0': 27, 'n_units_1': 80, 'n_units_2': 50, 'n_units_3': 25, 'n_units_4': 80, 'activation': 'tanh', 'batch_size': 128, 'n_components': 73, 'scaler': 'minmax_scaler'}. Best is trial 12 with value: 0.7441665121757053.\u001b[0m\n",
            "\u001b[32m[I 2021-12-02 22:34:45,081]\u001b[0m Trial 18 finished with value: 0.746732788798133 and parameters: {'n_layers': 3, 'n_units_0': 73, 'n_units_1': 1, 'n_units_2': 26, 'activation': 'relu', 'batch_size': 128, 'n_components': 60, 'scaler': 'minmax_scaler'}. Best is trial 18 with value: 0.746732788798133.\u001b[0m\n",
            "\u001b[32m[I 2021-12-02 22:34:48,303]\u001b[0m Trial 19 finished with value: 0.7385642155312488 and parameters: {'n_layers': 1, 'n_units_0': 51, 'activation': 'tanh', 'batch_size': 256, 'n_components': 70, 'scaler': 'minmax_scaler'}. Best is trial 18 with value: 0.746732788798133.\u001b[0m\n",
            "\u001b[32m[I 2021-12-02 22:34:54,455]\u001b[0m Trial 20 finished with value: 0.6449838602383886 and parameters: {'n_layers': 6, 'n_units_0': 70, 'n_units_1': 5, 'n_units_2': 31, 'n_units_3': 18, 'n_units_4': 1, 'n_units_5': 47, 'activation': 'relu', 'batch_size': 128, 'n_components': 61, 'scaler': 'minmax_scaler'}. Best is trial 18 with value: 0.746732788798133.\u001b[0m\n",
            "\u001b[32m[I 2021-12-02 22:34:59,300]\u001b[0m Trial 21 finished with value: 0.7497669004024035 and parameters: {'n_layers': 3, 'n_units_0': 91, 'n_units_1': 13, 'n_units_2': 16, 'activation': 'relu', 'batch_size': 128, 'n_components': 57, 'scaler': 'minmax_scaler'}. Best is trial 21 with value: 0.7497669004024035.\u001b[0m\n",
            "\u001b[32m[I 2021-12-02 22:35:03,456]\u001b[0m Trial 22 finished with value: 0.7392588795951973 and parameters: {'n_layers': 3, 'n_units_0': 77, 'n_units_1': 14, 'n_units_2': 22, 'activation': 'relu', 'batch_size': 128, 'n_components': 52, 'scaler': 'minmax_scaler'}. Best is trial 21 with value: 0.7497669004024035.\u001b[0m\n",
            "\u001b[32m[I 2021-12-02 22:35:08,447]\u001b[0m Trial 23 finished with value: 0.7327312729691708 and parameters: {'n_layers': 4, 'n_units_0': 59, 'n_units_1': 14, 'n_units_2': 44, 'n_units_3': 40, 'activation': 'relu', 'batch_size': 128, 'n_components': 45, 'scaler': 'minmax_scaler'}. Best is trial 21 with value: 0.7497669004024035.\u001b[0m\n",
            "\u001b[32m[I 2021-12-02 22:35:13,433]\u001b[0m Trial 24 finished with value: 0.7436997677182957 and parameters: {'n_layers': 3, 'n_units_0': 91, 'n_units_1': 35, 'n_units_2': 17, 'activation': 'relu', 'batch_size': 128, 'n_components': 69, 'scaler': 'minmax_scaler'}. Best is trial 21 with value: 0.7497669004024035.\u001b[0m\n",
            "\u001b[32m[I 2021-12-02 22:35:17,937]\u001b[0m Trial 25 finished with value: 0.7460332173742353 and parameters: {'n_layers': 2, 'n_units_0': 76, 'n_units_1': 9, 'activation': 'relu', 'batch_size': 128, 'n_components': 59, 'scaler': 'minmax_scaler'}. Best is trial 21 with value: 0.7497669004024035.\u001b[0m\n",
            "\u001b[32m[I 2021-12-02 22:35:22,726]\u001b[0m Trial 26 finished with value: 0.7439336852092172 and parameters: {'n_layers': 2, 'n_units_0': 99, 'n_units_1': 7, 'activation': 'relu', 'batch_size': 128, 'n_components': 61, 'scaler': 'minmax_scaler'}. Best is trial 21 with value: 0.7497669004024035.\u001b[0m\n",
            "\u001b[32m[I 2021-12-02 22:35:25,279]\u001b[0m Trial 27 finished with value: 0.7467346972158911 and parameters: {'n_layers': 1, 'n_units_0': 71, 'activation': 'relu', 'batch_size': 128, 'n_components': 38, 'scaler': 'minmax_scaler'}. Best is trial 21 with value: 0.7497669004024035.\u001b[0m\n",
            "\u001b[32m[I 2021-12-02 22:35:27,633]\u001b[0m Trial 28 finished with value: 0.7453347364747708 and parameters: {'n_layers': 1, 'n_units_0': 59, 'activation': 'relu', 'batch_size': 256, 'n_components': 39, 'scaler': 'minmax_scaler'}. Best is trial 21 with value: 0.7497669004024035.\u001b[0m\n",
            "\u001b[32m[I 2021-12-02 22:35:30,036]\u001b[0m Trial 29 finished with value: 0.7362310385064178 and parameters: {'n_layers': 1, 'n_units_0': 85, 'activation': 'relu', 'batch_size': 512, 'n_components': 30, 'scaler': 'minmax_scaler'}. Best is trial 21 with value: 0.7497669004024035.\u001b[0m\n",
            "\u001b[32m[I 2021-12-02 22:35:34,508]\u001b[0m Trial 30 finished with value: 0.7439309588981342 and parameters: {'n_layers': 4, 'n_units_0': 40, 'n_units_1': 40, 'n_units_2': 25, 'n_units_3': 97, 'activation': 'relu', 'batch_size': 512, 'n_components': 48, 'scaler': 'minmax_scaler'}. Best is trial 21 with value: 0.7497669004024035.\u001b[0m\n",
            "\u001b[32m[I 2021-12-02 22:35:39,006]\u001b[0m Trial 31 finished with value: 0.7497688088201616 and parameters: {'n_layers': 2, 'n_units_0': 71, 'n_units_1': 10, 'activation': 'relu', 'batch_size': 128, 'n_components': 36, 'scaler': 'minmax_scaler'}. Best is trial 31 with value: 0.7497688088201616.\u001b[0m\n",
            "\u001b[32m[I 2021-12-02 22:35:43,449]\u001b[0m Trial 32 finished with value: 0.7423011701327168 and parameters: {'n_layers': 2, 'n_units_0': 69, 'n_units_1': 23, 'activation': 'relu', 'batch_size': 128, 'n_components': 38, 'scaler': 'minmax_scaler'}. Best is trial 31 with value: 0.7497688088201616.\u001b[0m\n",
            "\u001b[32m[I 2021-12-02 22:35:46,622]\u001b[0m Trial 33 finished with value: 0.7495343460670236 and parameters: {'n_layers': 3, 'n_units_0': 63, 'n_units_1': 2, 'n_units_2': 13, 'activation': 'relu', 'batch_size': 128, 'n_components': 22, 'scaler': 'minmax_scaler'}. Best is trial 31 with value: 0.7497688088201616.\u001b[0m\n",
            "\u001b[32m[I 2021-12-02 22:35:48,797]\u001b[0m Trial 34 finished with value: 0.742768459852343 and parameters: {'n_layers': 1, 'n_units_0': 62, 'activation': 'relu', 'batch_size': 128, 'n_components': 20, 'scaler': 'minmax_scaler'}. Best is trial 31 with value: 0.7497688088201616.\u001b[0m\n",
            "\u001b[32m[I 2021-12-02 22:35:51,964]\u001b[0m Trial 35 finished with value: 0.7453320101636878 and parameters: {'n_layers': 2, 'n_units_0': 46, 'n_units_1': 40, 'activation': 'relu', 'batch_size': 512, 'n_components': 35, 'scaler': 'minmax_scaler'}. Best is trial 31 with value: 0.7497688088201616.\u001b[0m\n",
            "\u001b[32m[I 2021-12-02 22:35:56,606]\u001b[0m Trial 36 finished with value: 0.7413622285957318 and parameters: {'n_layers': 3, 'n_units_0': 55, 'n_units_1': 20, 'n_units_2': 14, 'activation': 'relu', 'batch_size': 128, 'n_components': 24, 'scaler': 'minmax_scaler'}. Best is trial 31 with value: 0.7497688088201616.\u001b[0m\n",
            "\u001b[32m[I 2021-12-02 22:36:00,681]\u001b[0m Trial 37 finished with value: 0.7446338018953315 and parameters: {'n_layers': 2, 'n_units_0': 83, 'n_units_1': 11, 'activation': 'relu', 'batch_size': 128, 'n_components': 30, 'scaler': 'minmax_scaler'}. Best is trial 31 with value: 0.7497688088201616.\u001b[0m\n",
            "\u001b[32m[I 2021-12-02 22:36:05,479]\u001b[0m Trial 38 finished with value: 0.7098474356317953 and parameters: {'n_layers': 1, 'n_units_0': 64, 'activation': 'relu', 'batch_size': 512, 'n_components': 18, 'scaler': 'none'}. Best is trial 31 with value: 0.7497688088201616.\u001b[0m\n",
            "\u001b[32m[I 2021-12-02 22:36:09,711]\u001b[0m Trial 39 finished with value: 0.7250250820619636 and parameters: {'n_layers': 5, 'n_units_0': 25, 'n_units_1': 25, 'n_units_2': 1, 'n_units_3': 64, 'n_units_4': 19, 'activation': 'relu', 'batch_size': 256, 'n_components': 24, 'scaler': 'standard_scaler'}. Best is trial 31 with value: 0.7497688088201616.\u001b[0m\n"
          ]
        }
      ]
    },
    {
      "cell_type": "markdown",
      "metadata": {
        "id": "ON8qwpsISn1U"
      },
      "source": [
        "Παρατηρούμε και πάλι ότι η PCA απαιτεί κανονικοποίηση πριν την εφαρμογή της, ενώ για τη συγκεκριμένη αρχιτεκονική μπορούμε να πούμε ότι ο MinMax Scaler επιτυγχάνει καλύτερα αποτελέσματα συγκριτικά με τον Standard Scaler, χωρίς ωστόσο να ξεπεραστεί το 0.75 accuracy score."
      ]
    },
    {
      "cell_type": "markdown",
      "metadata": {
        "id": "9buWwR4wTvu0"
      },
      "source": [
        "<b>Συμπερασματικά, λοιπόν, τα καλύτερα accuracy και f1 score, 0.7514 και 0.76768 αντίστοιχα, κατά τη διαδικασία του 5-fold cross validation, αντιστοιχούν στην αρχιτεκτονική MinMax Scaler - Variance Threshold (threshold = 0.03966971976601077) - PCA (n_components = 28) - MLP (layers = [36, 40, 69, 22, 98, 15, 26], activation = 'tanh', batch_size = 128).</b>"
      ]
    },
    {
      "cell_type": "markdown",
      "metadata": {
        "id": "l-n6pIiJVCQZ"
      },
      "source": [
        "###### <u> Όσον αφορά τον 'lbfgs' solver:"
      ]
    },
    {
      "cell_type": "code",
      "metadata": {
        "colab": {
          "base_uri": "https://localhost:8080/"
        },
        "id": "L6hDVFqPU00-",
        "outputId": "70ea503a-d3dd-4f78-cac6-e30b5a4087d6"
      },
      "source": [
        "def objective(trial):\n",
        "\n",
        "    n_layers = trial.suggest_int('n_layers', 1, 10)\n",
        "    layers = []\n",
        "    for i in range(n_layers):\n",
        "        layers.append(trial.suggest_int(f'n_units_{i}', 1, 100))\n",
        "\n",
        "    activation = trial.suggest_categorical('activation', ['relu', 'logistic', 'tanh'])\n",
        "    batch_size = trial.suggest_categorical('batch_size', [128, 256, 512])\n",
        "\n",
        "    clf = MLPClassifier(hidden_layer_sizes = tuple(layers), activation = activation,  solver = 'lbfgs', batch_size = batch_size, max_iter = 10000, early_stopping = True)\n",
        "\n",
        "    return np.mean(cross_val_score(clf, X_train_small, y_train_small, cv = 5, scoring = 'accuracy'))\n",
        "\n",
        "study = optuna.create_study(direction = 'maximize')\n",
        "study.optimize(objective, n_trials = 10)"
      ],
      "execution_count": null,
      "outputs": [
        {
          "name": "stderr",
          "output_type": "stream",
          "text": [
            "\u001b[32m[I 2021-12-02 23:01:49,471]\u001b[0m A new study created in memory with name: no-name-514afcb2-bf91-4b20-b8ba-c430069f1f04\u001b[0m\n",
            "\u001b[32m[I 2021-12-02 23:01:58,956]\u001b[0m Trial 0 finished with value: 0.5352503844098627 and parameters: {'n_layers': 2, 'n_units_0': 59, 'n_units_1': 12, 'activation': 'relu', 'batch_size': 512}. Best is trial 0 with value: 0.5352503844098627.\u001b[0m\n",
            "\u001b[32m[I 2021-12-02 23:02:02,337]\u001b[0m Trial 1 finished with value: 0.5032680290951917 and parameters: {'n_layers': 10, 'n_units_0': 8, 'n_units_1': 52, 'n_units_2': 62, 'n_units_3': 93, 'n_units_4': 84, 'n_units_5': 49, 'n_units_6': 50, 'n_units_7': 57, 'n_units_8': 81, 'n_units_9': 16, 'activation': 'logistic', 'batch_size': 256}. Best is trial 0 with value: 0.5352503844098627.\u001b[0m\n",
            "\u001b[32m[I 2021-12-02 23:34:14,908]\u001b[0m Trial 2 finished with value: 0.7245545207690378 and parameters: {'n_layers': 3, 'n_units_0': 52, 'n_units_1': 17, 'n_units_2': 96, 'activation': 'tanh', 'batch_size': 512}. Best is trial 2 with value: 0.7245545207690378.\u001b[0m\n",
            "\u001b[32m[I 2021-12-02 23:34:18,444]\u001b[0m Trial 3 finished with value: 0.5032680290951917 and parameters: {'n_layers': 8, 'n_units_0': 95, 'n_units_1': 71, 'n_units_2': 80, 'n_units_3': 62, 'n_units_4': 58, 'n_units_5': 57, 'n_units_6': 85, 'n_units_7': 5, 'activation': 'logistic', 'batch_size': 128}. Best is trial 2 with value: 0.7245545207690378.\u001b[0m\n",
            "\u001b[32m[I 2021-12-02 23:34:21,105]\u001b[0m Trial 4 finished with value: 0.5032680290951917 and parameters: {'n_layers': 6, 'n_units_0': 30, 'n_units_1': 83, 'n_units_2': 90, 'n_units_3': 44, 'n_units_4': 84, 'n_units_5': 22, 'activation': 'logistic', 'batch_size': 128}. Best is trial 2 with value: 0.7245545207690378.\u001b[0m\n",
            "\u001b[32m[I 2021-12-02 23:47:33,405]\u001b[0m Trial 5 finished with value: 0.5464418914055769 and parameters: {'n_layers': 8, 'n_units_0': 39, 'n_units_1': 30, 'n_units_2': 85, 'n_units_3': 26, 'n_units_4': 100, 'n_units_5': 33, 'n_units_6': 74, 'n_units_7': 2, 'activation': 'relu', 'batch_size': 512}. Best is trial 2 with value: 0.7245545207690378.\u001b[0m\n",
            "\u001b[32m[I 2021-12-03 00:17:43,687]\u001b[0m Trial 6 finished with value: 0.7287579471968069 and parameters: {'n_layers': 4, 'n_units_0': 12, 'n_units_1': 70, 'n_units_2': 64, 'n_units_3': 82, 'activation': 'relu', 'batch_size': 512}. Best is trial 6 with value: 0.7287579471968069.\u001b[0m\n",
            "\u001b[32m[I 2021-12-03 00:17:46,442]\u001b[0m Trial 7 finished with value: 0.5032680290951917 and parameters: {'n_layers': 9, 'n_units_0': 48, 'n_units_1': 96, 'n_units_2': 10, 'n_units_3': 64, 'n_units_4': 48, 'n_units_5': 36, 'n_units_6': 91, 'n_units_7': 20, 'n_units_8': 70, 'activation': 'logistic', 'batch_size': 128}. Best is trial 6 with value: 0.7287579471968069.\u001b[0m\n",
            "\u001b[32m[I 2021-12-03 01:27:42,669]\u001b[0m Trial 8 finished with value: 0.7191896858199108 and parameters: {'n_layers': 7, 'n_units_0': 61, 'n_units_1': 78, 'n_units_2': 47, 'n_units_3': 70, 'n_units_4': 57, 'n_units_5': 11, 'n_units_6': 54, 'activation': 'relu', 'batch_size': 128}. Best is trial 6 with value: 0.7287579471968069.\u001b[0m\n",
            "\u001b[32m[I 2021-12-03 01:27:45,770]\u001b[0m Trial 9 finished with value: 0.5032680290951917 and parameters: {'n_layers': 7, 'n_units_0': 26, 'n_units_1': 47, 'n_units_2': 91, 'n_units_3': 60, 'n_units_4': 41, 'n_units_5': 96, 'n_units_6': 93, 'activation': 'logistic', 'batch_size': 128}. Best is trial 6 with value: 0.7287579471968069.\u001b[0m\n"
          ]
        }
      ]
    },
    {
      "cell_type": "markdown",
      "metadata": {
        "id": "R8acDJ1exy9r"
      },
      "source": [
        "Παρατηρούμε ότι ο 'lbfgs' solver αργεί αρκετά να συγκλίνει, ενώ σε μερικές περιπτώσεις δεν καταφέρνει να συγκλίνει μέσα στο διάστημα των 10000 επαναλήψεων που έχουμε ορίσει ως μέγιστο όριο, οπότε και απαιτείται αρκετός χρόνος για την εκπαίδευση του δικτύου. Για το λόγο αυτό και εκτελούμε μόνο 10 trials, λίγα μάλιστα από τα οποία επιτυγχάνουν ικανοποιητικό accuracy score, το οποίο όμως και πάλι δεν ξεπερνά το 0.73.       "
      ]
    },
    {
      "cell_type": "markdown",
      "metadata": {
        "id": "Ly1RgyHXIIvA"
      },
      "source": [
        "Aπό όλες τις παραπάνω δοκιμές, η καλύτερη αρχιτεκτονική αντιστοιχεί σε:\n",
        "- MinMax Scaler\n",
        "- Variance Threshold (threshold = 0.03966971976601077)\n",
        "- PCA (n_components = 28) \n",
        "- MLP (layers = [36, 40, 69, 22, 98, 15, 26], activation = 'tanh', batch_size = 128)\n",
        "\n",
        "\n",
        "Παρακάτω, δοκιμάζουμε να πειραματηστούμε λίγο περισσότερο με την αρχιτεκτονική τυ δικτύου αυξάνοντας το εύρος των δυνατών τιμών που μπορούν να πάρουν τόσο τα επίπεδα (layers) όσο και οι νευρώνες του κάθε επιπέδου του δικτύου."
      ]
    },
    {
      "cell_type": "code",
      "metadata": {
        "colab": {
          "base_uri": "https://localhost:8080/"
        },
        "id": "-9EfCTAMFncG",
        "outputId": "611f5370-cf00-4544-ec52-f094f0dd3b11"
      },
      "source": [
        "def objective(trial):\n",
        "\n",
        "    n_layers = trial.suggest_int('n_layers', 1, 50)\n",
        "    layers = []\n",
        "    for i in range(n_layers):\n",
        "        layers.append(trial.suggest_int(f'n_units_{i}', 1, 200))\n",
        "\n",
        "    mlp = MLPClassifier(hidden_layer_sizes = tuple(layers), activation = 'tanh',  solver = 'adam', batch_size = 256, max_iter = 10000, early_stopping = True)\n",
        "    threshold = trial.suggest_float('threshold', 0.0, 0.05)\n",
        "\n",
        "    p = Pipeline(steps = [('minmax_scaler', preprocessing.MinMaxScaler()), ('selector',  VarianceThreshold(threshold = threshold))])\n",
        "    upper_bound = p.fit_transform(X_train_small).shape[1]\n",
        "    n_components = trial.suggest_int('n_components', min(10, upper_bound), min(55, upper_bound))\n",
        "\n",
        "    clf = Pipeline(steps = [('minmax_scaler', preprocessing.MinMaxScaler()), ('selector', VarianceThreshold(threshold)), ('pca', PCA(n_components = n_components)), ('mlp', mlp)])\n",
        "\n",
        "    return np.mean(cross_val_score(clf, X_train_small, y_train_small, cv = 5, scoring = 'accuracy'))\n",
        "\n",
        "study = optuna.create_study(direction = 'maximize')\n",
        "study.optimize(objective, n_trials = 100)"
      ],
      "execution_count": null,
      "outputs": [
        {
          "name": "stderr",
          "output_type": "stream",
          "text": [
            "\u001b[32m[I 2021-12-03 01:37:19,755]\u001b[0m A new study created in memory with name: no-name-74a25cbf-341d-4660-8c64-3938b3e6f1b1\u001b[0m\n",
            "\u001b[32m[I 2021-12-03 01:38:17,709]\u001b[0m Trial 0 finished with value: 0.707052421509504 and parameters: {'n_layers': 25, 'n_units_0': 119, 'n_units_1': 110, 'n_units_2': 87, 'n_units_3': 196, 'n_units_4': 97, 'n_units_5': 67, 'n_units_6': 63, 'n_units_7': 60, 'n_units_8': 108, 'n_units_9': 99, 'n_units_10': 155, 'n_units_11': 22, 'n_units_12': 66, 'n_units_13': 146, 'n_units_14': 173, 'n_units_15': 183, 'n_units_16': 111, 'n_units_17': 31, 'n_units_18': 196, 'n_units_19': 72, 'n_units_20': 120, 'n_units_21': 85, 'n_units_22': 197, 'n_units_23': 3, 'n_units_24': 14, 'threshold': 0.017739358196315908, 'n_components': 18}. Best is trial 0 with value: 0.707052421509504.\u001b[0m\n",
            "\u001b[32m[I 2021-12-03 01:39:48,164]\u001b[0m Trial 1 finished with value: 0.5429413079750052 and parameters: {'n_layers': 44, 'n_units_0': 119, 'n_units_1': 98, 'n_units_2': 92, 'n_units_3': 197, 'n_units_4': 150, 'n_units_5': 35, 'n_units_6': 9, 'n_units_7': 112, 'n_units_8': 166, 'n_units_9': 198, 'n_units_10': 28, 'n_units_11': 108, 'n_units_12': 155, 'n_units_13': 9, 'n_units_14': 69, 'n_units_15': 140, 'n_units_16': 91, 'n_units_17': 88, 'n_units_18': 126, 'n_units_19': 145, 'n_units_20': 145, 'n_units_21': 151, 'n_units_22': 17, 'n_units_23': 70, 'n_units_24': 197, 'n_units_25': 168, 'n_units_26': 131, 'n_units_27': 18, 'n_units_28': 78, 'n_units_29': 83, 'n_units_30': 175, 'n_units_31': 173, 'n_units_32': 111, 'n_units_33': 107, 'n_units_34': 86, 'n_units_35': 131, 'n_units_36': 3, 'n_units_37': 150, 'n_units_38': 58, 'n_units_39': 64, 'n_units_40': 23, 'n_units_41': 5, 'n_units_42': 170, 'n_units_43': 171, 'threshold': 0.03899343840719723, 'n_components': 30}. Best is trial 0 with value: 0.707052421509504.\u001b[0m\n",
            "\u001b[32m[I 2021-12-03 01:41:13,912]\u001b[0m Trial 2 finished with value: 0.5032680290951917 and parameters: {'n_layers': 50, 'n_units_0': 138, 'n_units_1': 63, 'n_units_2': 124, 'n_units_3': 197, 'n_units_4': 186, 'n_units_5': 96, 'n_units_6': 39, 'n_units_7': 127, 'n_units_8': 40, 'n_units_9': 24, 'n_units_10': 16, 'n_units_11': 189, 'n_units_12': 55, 'n_units_13': 154, 'n_units_14': 100, 'n_units_15': 78, 'n_units_16': 165, 'n_units_17': 102, 'n_units_18': 157, 'n_units_19': 22, 'n_units_20': 82, 'n_units_21': 79, 'n_units_22': 4, 'n_units_23': 36, 'n_units_24': 58, 'n_units_25': 43, 'n_units_26': 41, 'n_units_27': 192, 'n_units_28': 116, 'n_units_29': 54, 'n_units_30': 139, 'n_units_31': 104, 'n_units_32': 25, 'n_units_33': 198, 'n_units_34': 176, 'n_units_35': 109, 'n_units_36': 188, 'n_units_37': 49, 'n_units_38': 105, 'n_units_39': 142, 'n_units_40': 4, 'n_units_41': 3, 'n_units_42': 6, 'n_units_43': 120, 'n_units_44': 119, 'n_units_45': 181, 'n_units_46': 66, 'n_units_47': 87, 'n_units_48': 129, 'n_units_49': 98, 'threshold': 0.008693038984316016, 'n_components': 33}. Best is trial 0 with value: 0.707052421509504.\u001b[0m\n",
            "\u001b[32m[I 2021-12-03 01:41:24,649]\u001b[0m Trial 3 finished with value: 0.7450983653038747 and parameters: {'n_layers': 3, 'n_units_0': 140, 'n_units_1': 84, 'n_units_2': 117, 'threshold': 0.041222874069363744, 'n_components': 23}. Best is trial 3 with value: 0.7450983653038747.\u001b[0m\n",
            "\u001b[32m[I 2021-12-03 01:42:44,713]\u001b[0m Trial 4 finished with value: 0.7166223186730498 and parameters: {'n_layers': 32, 'n_units_0': 42, 'n_units_1': 34, 'n_units_2': 194, 'n_units_3': 15, 'n_units_4': 188, 'n_units_5': 76, 'n_units_6': 68, 'n_units_7': 44, 'n_units_8': 43, 'n_units_9': 26, 'n_units_10': 176, 'n_units_11': 152, 'n_units_12': 176, 'n_units_13': 40, 'n_units_14': 38, 'n_units_15': 120, 'n_units_16': 44, 'n_units_17': 14, 'n_units_18': 160, 'n_units_19': 106, 'n_units_20': 80, 'n_units_21': 101, 'n_units_22': 69, 'n_units_23': 9, 'n_units_24': 102, 'n_units_25': 7, 'n_units_26': 159, 'n_units_27': 195, 'n_units_28': 28, 'n_units_29': 112, 'n_units_30': 103, 'n_units_31': 177, 'threshold': 0.04879333174228989, 'n_components': 16}. Best is trial 3 with value: 0.7450983653038747.\u001b[0m\n",
            "\u001b[32m[I 2021-12-03 01:43:31,036]\u001b[0m Trial 5 finished with value: 0.7338951351705034 and parameters: {'n_layers': 13, 'n_units_0': 121, 'n_units_1': 72, 'n_units_2': 198, 'n_units_3': 155, 'n_units_4': 115, 'n_units_5': 43, 'n_units_6': 174, 'n_units_7': 180, 'n_units_8': 105, 'n_units_9': 174, 'n_units_10': 53, 'n_units_11': 185, 'n_units_12': 119, 'threshold': 0.010096619696883365, 'n_components': 20}. Best is trial 3 with value: 0.7450983653038747.\u001b[0m\n",
            "\u001b[32m[I 2021-12-03 01:44:30,854]\u001b[0m Trial 6 finished with value: 0.7434647597029411 and parameters: {'n_layers': 23, 'n_units_0': 123, 'n_units_1': 142, 'n_units_2': 28, 'n_units_3': 174, 'n_units_4': 27, 'n_units_5': 41, 'n_units_6': 22, 'n_units_7': 13, 'n_units_8': 55, 'n_units_9': 33, 'n_units_10': 12, 'n_units_11': 199, 'n_units_12': 164, 'n_units_13': 172, 'n_units_14': 41, 'n_units_15': 154, 'n_units_16': 164, 'n_units_17': 98, 'n_units_18': 187, 'n_units_19': 128, 'n_units_20': 51, 'n_units_21': 12, 'n_units_22': 111, 'threshold': 0.004615147734393638, 'n_components': 37}. Best is trial 3 with value: 0.7450983653038747.\u001b[0m\n",
            "\u001b[32m[I 2021-12-03 01:45:43,019]\u001b[0m Trial 7 finished with value: 0.5830813313122281 and parameters: {'n_layers': 38, 'n_units_0': 29, 'n_units_1': 180, 'n_units_2': 16, 'n_units_3': 87, 'n_units_4': 112, 'n_units_5': 44, 'n_units_6': 45, 'n_units_7': 149, 'n_units_8': 80, 'n_units_9': 196, 'n_units_10': 161, 'n_units_11': 122, 'n_units_12': 150, 'n_units_13': 76, 'n_units_14': 5, 'n_units_15': 23, 'n_units_16': 47, 'n_units_17': 59, 'n_units_18': 171, 'n_units_19': 179, 'n_units_20': 67, 'n_units_21': 166, 'n_units_22': 176, 'n_units_23': 69, 'n_units_24': 43, 'n_units_25': 147, 'n_units_26': 15, 'n_units_27': 112, 'n_units_28': 73, 'n_units_29': 118, 'n_units_30': 159, 'n_units_31': 139, 'n_units_32': 134, 'n_units_33': 24, 'n_units_34': 64, 'n_units_35': 146, 'n_units_36': 67, 'n_units_37': 107, 'threshold': 0.006911907968181219, 'n_components': 22}. Best is trial 3 with value: 0.7450983653038747.\u001b[0m\n",
            "\u001b[32m[I 2021-12-03 01:47:11,658]\u001b[0m Trial 8 finished with value: 0.5032680290951917 and parameters: {'n_layers': 49, 'n_units_0': 169, 'n_units_1': 171, 'n_units_2': 110, 'n_units_3': 179, 'n_units_4': 138, 'n_units_5': 166, 'n_units_6': 16, 'n_units_7': 149, 'n_units_8': 102, 'n_units_9': 16, 'n_units_10': 95, 'n_units_11': 9, 'n_units_12': 124, 'n_units_13': 148, 'n_units_14': 176, 'n_units_15': 84, 'n_units_16': 161, 'n_units_17': 86, 'n_units_18': 104, 'n_units_19': 117, 'n_units_20': 158, 'n_units_21': 187, 'n_units_22': 27, 'n_units_23': 52, 'n_units_24': 135, 'n_units_25': 15, 'n_units_26': 69, 'n_units_27': 49, 'n_units_28': 192, 'n_units_29': 110, 'n_units_30': 125, 'n_units_31': 68, 'n_units_32': 51, 'n_units_33': 155, 'n_units_34': 14, 'n_units_35': 127, 'n_units_36': 84, 'n_units_37': 194, 'n_units_38': 138, 'n_units_39': 93, 'n_units_40': 161, 'n_units_41': 191, 'n_units_42': 16, 'n_units_43': 12, 'n_units_44': 127, 'n_units_45': 106, 'n_units_46': 83, 'n_units_47': 1, 'n_units_48': 131, 'threshold': 0.030935241621091087, 'n_components': 22}. Best is trial 3 with value: 0.7450983653038747.\u001b[0m\n",
            "\u001b[32m[I 2021-12-03 01:47:45,653]\u001b[0m Trial 9 finished with value: 0.7460334900053435 and parameters: {'n_layers': 8, 'n_units_0': 139, 'n_units_1': 23, 'n_units_2': 57, 'n_units_3': 154, 'n_units_4': 155, 'n_units_5': 161, 'n_units_6': 123, 'n_units_7': 92, 'threshold': 0.028148326194435608, 'n_components': 23}. Best is trial 9 with value: 0.7460334900053435.\u001b[0m\n",
            "\u001b[32m[I 2021-12-03 01:47:48,508]\u001b[0m Trial 10 finished with value: 0.7217559624423385 and parameters: {'n_layers': 1, 'n_units_0': 70, 'threshold': 0.024457993149664264, 'n_components': 10}. Best is trial 9 with value: 0.7460334900053435.\u001b[0m\n",
            "\u001b[32m[I 2021-12-03 01:47:54,663]\u001b[0m Trial 11 finished with value: 0.7464996892005364 and parameters: {'n_layers': 1, 'n_units_0': 199, 'threshold': 0.03913812266912045, 'n_components': 26}. Best is trial 11 with value: 0.7464996892005364.\u001b[0m\n",
            "\u001b[32m[I 2021-12-03 01:48:30,964]\u001b[0m Trial 12 finished with value: 0.74486335728852 and parameters: {'n_layers': 11, 'n_units_0': 200, 'n_units_1': 1, 'n_units_2': 50, 'n_units_3': 120, 'n_units_4': 49, 'n_units_5': 158, 'n_units_6': 141, 'n_units_7': 67, 'n_units_8': 196, 'n_units_9': 126, 'n_units_10': 115, 'threshold': 0.031685730933191755, 'n_components': 27}. Best is trial 11 with value: 0.7464996892005364.\u001b[0m\n",
            "\u001b[32m[I 2021-12-03 01:48:59,108]\u001b[0m Trial 13 finished with value: 0.7413589570224322 and parameters: {'n_layers': 11, 'n_units_0': 200, 'n_units_1': 13, 'n_units_2': 58, 'n_units_3': 78, 'n_units_4': 65, 'n_units_5': 193, 'n_units_6': 108, 'n_units_7': 83, 'n_units_8': 147, 'n_units_9': 79, 'n_units_10': 197, 'threshold': 0.0218293183965265, 'n_components': 26}. Best is trial 11 with value: 0.7464996892005364.\u001b[0m\n",
            "\u001b[32m[I 2021-12-03 01:49:26,131]\u001b[0m Trial 14 finished with value: 0.7385620344823826 and parameters: {'n_layers': 7, 'n_units_0': 170, 'n_units_1': 41, 'n_units_2': 151, 'n_units_3': 138, 'n_units_4': 162, 'n_units_5': 128, 'n_units_6': 195, 'threshold': 0.033250977843524945, 'n_components': 27}. Best is trial 11 with value: 0.7464996892005364.\u001b[0m\n",
            "\u001b[32m[I 2021-12-03 01:50:04,149]\u001b[0m Trial 15 finished with value: 0.7404322838853205 and parameters: {'n_layers': 19, 'n_units_0': 82, 'n_units_1': 124, 'n_units_2': 63, 'n_units_3': 50, 'n_units_4': 4, 'n_units_5': 128, 'n_units_6': 112, 'n_units_7': 8, 'n_units_8': 1, 'n_units_9': 132, 'n_units_10': 92, 'n_units_11': 59, 'n_units_12': 9, 'n_units_13': 97, 'n_units_14': 132, 'n_units_15': 2, 'n_units_16': 6, 'n_units_17': 195, 'n_units_18': 7, 'threshold': 0.04752329170532147, 'n_components': 25}. Best is trial 11 with value: 0.7464996892005364.\u001b[0m\n",
            "\u001b[32m[I 2021-12-03 01:51:02,541]\u001b[0m Trial 16 finished with value: 0.7313283132858592 and parameters: {'n_layers': 18, 'n_units_0': 170, 'n_units_1': 200, 'n_units_2': 150, 'n_units_3': 115, 'n_units_4': 84, 'n_units_5': 10, 'n_units_6': 139, 'n_units_7': 186, 'n_units_8': 140, 'n_units_9': 70, 'n_units_10': 59, 'n_units_11': 66, 'n_units_12': 6, 'n_units_13': 194, 'n_units_14': 197, 'n_units_15': 48, 'n_units_16': 119, 'n_units_17': 189, 'threshold': 0.03951082643068141, 'n_components': 13}. Best is trial 11 with value: 0.7464996892005364.\u001b[0m\n",
            "\u001b[32m[I 2021-12-03 01:51:12,074]\u001b[0m Trial 17 finished with value: 0.7406642929584837 and parameters: {'n_layers': 5, 'n_units_0': 156, 'n_units_1': 42, 'n_units_2': 36, 'n_units_3': 51, 'n_units_4': 134, 'threshold': 0.016189790698611938, 'n_components': 41}. Best is trial 11 with value: 0.7464996892005364.\u001b[0m\n",
            "\u001b[32m[I 2021-12-03 01:52:05,730]\u001b[0m Trial 18 finished with value: 0.7476654598196273 and parameters: {'n_layers': 15, 'n_units_0': 96, 'n_units_1': 57, 'n_units_2': 1, 'n_units_3': 144, 'n_units_4': 197, 'n_units_5': 193, 'n_units_6': 145, 'n_units_7': 97, 'n_units_8': 8, 'n_units_9': 148, 'n_units_10': 132, 'n_units_11': 72, 'n_units_12': 76, 'n_units_13': 66, 'n_units_14': 133, 'threshold': 0.02824728601599742, 'n_components': 18}. Best is trial 18 with value: 0.7476654598196273.\u001b[0m\n",
            "\u001b[32m[I 2021-12-03 01:53:12,718]\u001b[0m Trial 19 finished with value: 0.5032680290951917 and parameters: {'n_layers': 31, 'n_units_0': 90, 'n_units_1': 142, 'n_units_2': 13, 'n_units_3': 17, 'n_units_4': 179, 'n_units_5': 126, 'n_units_6': 168, 'n_units_7': 33, 'n_units_8': 4, 'n_units_9': 141, 'n_units_10': 131, 'n_units_11': 62, 'n_units_12': 70, 'n_units_13': 63, 'n_units_14': 128, 'n_units_15': 195, 'n_units_16': 196, 'n_units_17': 153, 'n_units_18': 39, 'n_units_19': 1, 'n_units_20': 198, 'n_units_21': 10, 'n_units_22': 132, 'n_units_23': 173, 'n_units_24': 192, 'n_units_25': 96, 'n_units_26': 194, 'n_units_27': 120, 'n_units_28': 198, 'n_units_29': 178, 'n_units_30': 11, 'threshold': 0.03607536115748281, 'n_components': 16}. Best is trial 18 with value: 0.7476654598196273.\u001b[0m\n",
            "\u001b[32m[I 2021-12-03 01:54:12,836]\u001b[0m Trial 20 finished with value: 0.7422984438216338 and parameters: {'n_layers': 17, 'n_units_0': 6, 'n_units_1': 62, 'n_units_2': 5, 'n_units_3': 105, 'n_units_4': 74, 'n_units_5': 199, 'n_units_6': 92, 'n_units_7': 132, 'n_units_8': 25, 'n_units_9': 162, 'n_units_10': 129, 'n_units_11': 87, 'n_units_12': 95, 'n_units_13': 110, 'n_units_14': 132, 'n_units_15': 56, 'n_units_16': 7, 'threshold': 0.04452138960797449, 'n_components': 19}. Best is trial 18 with value: 0.7476654598196273.\u001b[0m\n",
            "\u001b[32m[I 2021-12-03 01:54:46,366]\u001b[0m Trial 21 finished with value: 0.7472008964110841 and parameters: {'n_layers': 7, 'n_units_0': 63, 'n_units_1': 27, 'n_units_2': 69, 'n_units_3': 149, 'n_units_4': 167, 'n_units_5': 166, 'n_units_6': 135, 'threshold': 0.028069411945840214, 'n_components': 25}. Best is trial 18 with value: 0.7476654598196273.\u001b[0m\n",
            "\u001b[32m[I 2021-12-03 01:55:43,058]\u001b[0m Trial 22 finished with value: 0.7499997273688918 and parameters: {'n_layers': 13, 'n_units_0': 53, 'n_units_1': 53, 'n_units_2': 85, 'n_units_3': 137, 'n_units_4': 199, 'n_units_5': 174, 'n_units_6': 154, 'n_units_7': 167, 'n_units_8': 76, 'n_units_9': 59, 'n_units_10': 79, 'n_units_11': 137, 'n_units_12': 42, 'threshold': 0.02746530454579672, 'n_components': 30}. Best is trial 22 with value: 0.7499997273688918.\u001b[0m\n",
            "\u001b[32m[I 2021-12-03 01:56:40,555]\u001b[0m Trial 23 finished with value: 0.7404309207297789 and parameters: {'n_layers': 14, 'n_units_0': 58, 'n_units_1': 56, 'n_units_2': 86, 'n_units_3': 135, 'n_units_4': 199, 'n_units_5': 178, 'n_units_6': 154, 'n_units_7': 196, 'n_units_8': 68, 'n_units_9': 65, 'n_units_10': 72, 'n_units_11': 141, 'n_units_12': 37, 'n_units_13': 8, 'threshold': 0.024938303238048028, 'n_components': 31}. Best is trial 22 with value: 0.7499997273688918.\u001b[0m\n",
            "\u001b[32m[I 2021-12-03 01:57:44,258]\u001b[0m Trial 24 finished with value: 0.7450972747794414 and parameters: {'n_layers': 21, 'n_units_0': 50, 'n_units_1': 90, 'n_units_2': 78, 'n_units_3': 152, 'n_units_4': 172, 'n_units_5': 143, 'n_units_6': 198, 'n_units_7': 165, 'n_units_8': 76, 'n_units_9': 105, 'n_units_10': 76, 'n_units_11': 150, 'n_units_12': 90, 'n_units_13': 112, 'n_units_14': 93, 'n_units_15': 109, 'n_units_16': 75, 'n_units_17': 142, 'n_units_18': 59, 'n_units_19': 63, 'n_units_20': 5, 'threshold': 0.01988160102460214, 'n_components': 35}. Best is trial 22 with value: 0.7499997273688918.\u001b[0m\n",
            "\u001b[32m[I 2021-12-03 01:58:50,468]\u001b[0m Trial 25 finished with value: 0.6027214037230505 and parameters: {'n_layers': 29, 'n_units_0': 22, 'n_units_1': 24, 'n_units_2': 134, 'n_units_3': 133, 'n_units_4': 200, 'n_units_5': 185, 'n_units_6': 135, 'n_units_7': 111, 'n_units_8': 25, 'n_units_9': 42, 'n_units_10': 124, 'n_units_11': 34, 'n_units_12': 46, 'n_units_13': 37, 'n_units_14': 158, 'n_units_15': 163, 'n_units_16': 130, 'n_units_17': 133, 'n_units_18': 76, 'n_units_19': 168, 'n_units_20': 34, 'n_units_21': 131, 'n_units_22': 68, 'n_units_23': 150, 'n_units_24': 142, 'n_units_25': 199, 'n_units_26': 93, 'n_units_27': 68, 'n_units_28': 5, 'threshold': 0.013970107799353888, 'n_components': 41}. Best is trial 22 with value: 0.7499997273688918.\u001b[0m\n",
            "\u001b[32m[I 2021-12-03 01:59:37,397]\u001b[0m Trial 26 finished with value: 0.7446316208464651 and parameters: {'n_layers': 15, 'n_units_0': 62, 'n_units_1': 48, 'n_units_2': 36, 'n_units_3': 174, 'n_units_4': 168, 'n_units_5': 176, 'n_units_6': 164, 'n_units_7': 81, 'n_units_8': 121, 'n_units_9': 98, 'n_units_10': 41, 'n_units_11': 92, 'n_units_12': 29, 'n_units_13': 76, 'n_units_14': 72, 'threshold': 0.028076109652445513, 'n_components': 29}. Best is trial 22 with value: 0.7499997273688918.\u001b[0m\n",
            "\u001b[32m[I 2021-12-03 02:00:07,415]\u001b[0m Trial 27 finished with value: 0.7497666277712952 and parameters: {'n_layers': 9, 'n_units_0': 102, 'n_units_1': 81, 'n_units_2': 73, 'n_units_3': 95, 'n_units_4': 200, 'n_units_5': 147, 'n_units_6': 92, 'n_units_7': 138, 'n_units_8': 22, 'threshold': 0.027886386893394413, 'n_components': 29}. Best is trial 22 with value: 0.7499997273688918.\u001b[0m\n",
            "\u001b[32m[I 2021-12-03 02:00:40,156]\u001b[0m Trial 28 finished with value: 0.7378640988451346 and parameters: {'n_layers': 10, 'n_units_0': 101, 'n_units_1': 76, 'n_units_2': 101, 'n_units_3': 81, 'n_units_4': 199, 'n_units_5': 144, 'n_units_6': 87, 'n_units_7': 162, 'n_units_8': 19, 'n_units_9': 2, 'threshold': 0.0003009114290395132, 'n_components': 51}. Best is trial 22 with value: 0.7499997273688918.\u001b[0m\n",
            "\u001b[32m[I 2021-12-03 02:02:02,716]\u001b[0m Trial 29 finished with value: 0.733660127155149 and parameters: {'n_layers': 26, 'n_units_0': 104, 'n_units_1': 105, 'n_units_2': 171, 'n_units_3': 96, 'n_units_4': 182, 'n_units_5': 108, 'n_units_6': 180, 'n_units_7': 131, 'n_units_8': 49, 'n_units_9': 161, 'n_units_10': 143, 'n_units_11': 119, 'n_units_12': 77, 'n_units_13': 34, 'n_units_14': 147, 'n_units_15': 38, 'n_units_16': 52, 'n_units_17': 56, 'n_units_18': 3, 'n_units_19': 199, 'n_units_20': 178, 'n_units_21': 53, 'n_units_22': 146, 'n_units_23': 122, 'n_units_24': 89, 'n_units_25': 91, 'threshold': 0.020211753762375318, 'n_components': 33}. Best is trial 22 with value: 0.7499997273688918.\u001b[0m\n",
            "\u001b[32m[I 2021-12-03 02:02:52,293]\u001b[0m Trial 30 finished with value: 0.707517802811372 and parameters: {'n_layers': 26, 'n_units_0': 85, 'n_units_1': 118, 'n_units_2': 101, 'n_units_3': 64, 'n_units_4': 140, 'n_units_5': 147, 'n_units_6': 86, 'n_units_7': 103, 'n_units_8': 20, 'n_units_9': 50, 'n_units_10': 110, 'n_units_11': 168, 'n_units_12': 120, 'n_units_13': 126, 'n_units_14': 111, 'n_units_15': 129, 'n_units_16': 78, 'n_units_17': 2, 'n_units_18': 126, 'n_units_19': 70, 'n_units_20': 118, 'n_units_21': 55, 'n_units_22': 67, 'n_units_23': 200, 'n_units_24': 6, 'n_units_25': 63, 'threshold': 0.03515096842822832, 'n_components': 16}. Best is trial 22 with value: 0.7499997273688918.\u001b[0m\n",
            "\u001b[32m[I 2021-12-03 02:03:14,712]\u001b[0m Trial 31 finished with value: 0.7446335292642232 and parameters: {'n_layers': 6, 'n_units_0': 76, 'n_units_1': 55, 'n_units_2': 71, 'n_units_3': 123, 'n_units_4': 186, 'n_units_5': 173, 'threshold': 0.028018486229770434, 'n_components': 28}. Best is trial 22 with value: 0.7499997273688918.\u001b[0m\n",
            "\u001b[32m[I 2021-12-03 02:03:42,239]\u001b[0m Trial 32 finished with value: 0.7411329458336513 and parameters: {'n_layers': 9, 'n_units_0': 107, 'n_units_1': 25, 'n_units_2': 80, 'n_units_3': 146, 'n_units_4': 168, 'n_units_5': 186, 'n_units_6': 123, 'n_units_7': 146, 'n_units_8': 85, 'threshold': 0.02406022985595614, 'n_components': 31}. Best is trial 22 with value: 0.7499997273688918.\u001b[0m\n",
            "\u001b[32m[I 2021-12-03 02:04:39,712]\u001b[0m Trial 33 finished with value: 0.7439306862670259 and parameters: {'n_layers': 15, 'n_units_0': 38, 'n_units_1': 74, 'n_units_2': 37, 'n_units_3': 108, 'n_units_4': 200, 'n_units_5': 199, 'n_units_6': 148, 'n_units_7': 170, 'n_units_8': 61, 'n_units_9': 87, 'n_units_10': 98, 'n_units_11': 81, 'n_units_12': 200, 'n_units_13': 55, 'n_units_14': 198, 'threshold': 0.02863597121619825, 'n_components': 24}. Best is trial 22 with value: 0.7499997273688918.\u001b[0m\n",
            "\u001b[32m[I 2021-12-03 02:04:52,003]\u001b[0m Trial 34 finished with value: 0.742065071592929 and parameters: {'n_layers': 4, 'n_units_0': 96, 'n_units_1': 94, 'n_units_2': 94, 'n_units_3': 163, 'threshold': 0.03514412844634639, 'n_components': 29}. Best is trial 22 with value: 0.7499997273688918.\u001b[0m\n",
            "\u001b[32m[I 2021-12-03 02:05:32,865]\u001b[0m Trial 35 finished with value: 0.7441656942823804 and parameters: {'n_layers': 13, 'n_units_0': 66, 'n_units_1': 35, 'n_units_2': 46, 'n_units_3': 129, 'n_units_4': 180, 'n_units_5': 156, 'n_units_6': 126, 'n_units_7': 118, 'n_units_8': 37, 'n_units_9': 114, 'n_units_10': 84, 'n_units_11': 41, 'n_units_12': 24, 'threshold': 0.01643025899060232, 'n_components': 20}. Best is trial 22 with value: 0.7499997273688918.\u001b[0m\n",
            "\u001b[32m[I 2021-12-03 02:06:04,091]\u001b[0m Trial 36 finished with value: 0.7448658109684947 and parameters: {'n_layers': 8, 'n_units_0': 116, 'n_units_1': 6, 'n_units_2': 67, 'n_units_3': 167, 'n_units_4': 155, 'n_units_5': 170, 'n_units_6': 69, 'n_units_7': 144, 'threshold': 0.030839820674497427, 'n_components': 24}. Best is trial 22 with value: 0.7499997273688918.\u001b[0m\n",
            "\u001b[32m[I 2021-12-03 02:07:11,202]\u001b[0m Trial 37 finished with value: 0.7280545589373929 and parameters: {'n_layers': 21, 'n_units_0': 53, 'n_units_1': 67, 'n_units_2': 129, 'n_units_3': 188, 'n_units_4': 190, 'n_units_5': 107, 'n_units_6': 156, 'n_units_7': 93, 'n_units_8': 9, 'n_units_9': 53, 'n_units_10': 188, 'n_units_11': 133, 'n_units_12': 55, 'n_units_13': 91, 'n_units_14': 75, 'n_units_15': 74, 'n_units_16': 141, 'n_units_17': 170, 'n_units_18': 32, 'n_units_19': 44, 'n_units_20': 5, 'threshold': 0.02243941030296655, 'n_components': 33}. Best is trial 22 with value: 0.7499997273688918.\u001b[0m\n",
            "\u001b[32m[I 2021-12-03 02:08:13,777]\u001b[0m Trial 38 finished with value: 0.7317977840543517 and parameters: {'n_layers': 12, 'n_units_0': 74, 'n_units_1': 81, 'n_units_2': 114, 'n_units_3': 96, 'n_units_4': 172, 'n_units_5': 185, 'n_units_6': 109, 'n_units_7': 199, 'n_units_8': 89, 'n_units_9': 147, 'n_units_10': 146, 'n_units_11': 104, 'threshold': 0.026055756358298626, 'n_components': 17}. Best is trial 22 with value: 0.7499997273688918.\u001b[0m\n",
            "\u001b[32m[I 2021-12-03 02:08:17,495]\u001b[0m Trial 39 finished with value: 0.7364625023173643 and parameters: {'n_layers': 3, 'n_units_0': 36, 'n_units_1': 50, 'n_units_2': 22, 'threshold': 0.042486207889313475, 'n_components': 14}. Best is trial 22 with value: 0.7499997273688918.\u001b[0m\n",
            "\u001b[32m[I 2021-12-03 02:09:20,879]\u001b[0m Trial 40 finished with value: 0.7376260918875887 and parameters: {'n_layers': 16, 'n_units_0': 13, 'n_units_1': 61, 'n_units_2': 88, 'n_units_3': 141, 'n_units_4': 150, 'n_units_5': 87, 'n_units_6': 182, 'n_units_7': 64, 'n_units_8': 32, 'n_units_9': 180, 'n_units_10': 171, 'n_units_11': 170, 'n_units_12': 104, 'n_units_13': 199, 'n_units_14': 6, 'n_units_15': 8, 'threshold': 0.012942914734748156, 'n_components': 37}. Best is trial 22 with value: 0.7499997273688918.\u001b[0m\n",
            "\u001b[32m[I 2021-12-03 02:09:26,913]\u001b[0m Trial 41 finished with value: 0.7429963794588818 and parameters: {'n_layers': 1, 'n_units_0': 183, 'threshold': 0.0372201778492101, 'n_components': 26}. Best is trial 22 with value: 0.7499997273688918.\u001b[0m\n",
            "\u001b[32m[I 2021-12-03 02:09:33,004]\u001b[0m Trial 42 finished with value: 0.7453325554259044 and parameters: {'n_layers': 4, 'n_units_0': 46, 'n_units_1': 15, 'n_units_2': 2, 'n_units_3': 113, 'threshold': 0.033299562060963926, 'n_components': 21}. Best is trial 22 with value: 0.7499997273688918.\u001b[0m\n",
            "\u001b[32m[I 2021-12-03 02:09:36,750]\u001b[0m Trial 43 finished with value: 0.7406656561140252 and parameters: {'n_layers': 1, 'n_units_0': 129, 'threshold': 0.030681107692253642, 'n_components': 29}. Best is trial 22 with value: 0.7499997273688918.\u001b[0m\n",
            "\u001b[32m[I 2021-12-03 02:10:49,246]\u001b[0m Trial 44 finished with value: 0.5441558795624816 and parameters: {'n_layers': 38, 'n_units_0': 114, 'n_units_1': 31, 'n_units_2': 76, 'n_units_3': 200, 'n_units_4': 187, 'n_units_5': 138, 'n_units_6': 131, 'n_units_7': 118, 'n_units_8': 62, 'n_units_9': 115, 'n_units_10': 62, 'n_units_11': 47, 'n_units_12': 86, 'n_units_13': 128, 'n_units_14': 46, 'n_units_15': 96, 'n_units_16': 197, 'n_units_17': 125, 'n_units_18': 92, 'n_units_19': 151, 'n_units_20': 105, 'n_units_21': 195, 'n_units_22': 162, 'n_units_23': 100, 'n_units_24': 155, 'n_units_25': 125, 'n_units_26': 1, 'n_units_27': 148, 'n_units_28': 130, 'n_units_29': 2, 'n_units_30': 28, 'n_units_31': 5, 'n_units_32': 196, 'n_units_33': 6, 'n_units_34': 200, 'n_units_35': 12, 'n_units_36': 193, 'n_units_37': 15, 'threshold': 0.03859417666658423, 'n_components': 27}. Best is trial 22 with value: 0.7499997273688918.\u001b[0m\n",
            "\u001b[32m[I 2021-12-03 02:11:08,565]\u001b[0m Trial 45 finished with value: 0.7481316590148201 and parameters: {'n_layers': 7, 'n_units_0': 131, 'n_units_1': 87, 'n_units_2': 45, 'n_units_3': 157, 'n_units_4': 115, 'n_units_5': 117, 'n_units_6': 97, 'threshold': 0.026795542281726332, 'n_components': 24}. Best is trial 22 with value: 0.7499997273688918.\u001b[0m\n",
            "\u001b[32m[I 2021-12-03 02:11:30,902]\u001b[0m Trial 46 finished with value: 0.7476665503440605 and parameters: {'n_layers': 9, 'n_units_0': 127, 'n_units_1': 90, 'n_units_2': 54, 'n_units_3': 160, 'n_units_4': 125, 'n_units_5': 116, 'n_units_6': 76, 'n_units_7': 135, 'n_units_8': 118, 'threshold': 0.02665641520064158, 'n_components': 23}. Best is trial 22 with value: 0.7499997273688918.\u001b[0m\n",
            "\u001b[32m[I 2021-12-03 02:12:02,055]\u001b[0m Trial 47 finished with value: 0.7380958352871896 and parameters: {'n_layers': 10, 'n_units_0': 158, 'n_units_1': 89, 'n_units_2': 46, 'n_units_3': 164, 'n_units_4': 100, 'n_units_5': 113, 'n_units_6': 77, 'n_units_7': 139, 'n_units_8': 114, 'n_units_9': 154, 'threshold': 0.019525249641605222, 'n_components': 22}. Best is trial 22 with value: 0.7499997273688918.\u001b[0m\n",
            "\u001b[32m[I 2021-12-03 02:12:34,274]\u001b[0m Trial 48 finished with value: 0.7504681076129509 and parameters: {'n_layers': 12, 'n_units_0': 148, 'n_units_1': 114, 'n_units_2': 55, 'n_units_3': 182, 'n_units_4': 117, 'n_units_5': 65, 'n_units_6': 47, 'n_units_7': 176, 'n_units_8': 132, 'n_units_9': 88, 'n_units_10': 110, 'n_units_11': 74, 'threshold': 0.02233319155390432, 'n_components': 18}. Best is trial 48 with value: 0.7504681076129509.\u001b[0m\n",
            "\u001b[32m[I 2021-12-03 02:13:11,635]\u001b[0m Trial 49 finished with value: 0.7439309588981342 and parameters: {'n_layers': 13, 'n_units_0': 147, 'n_units_1': 116, 'n_units_2': 55, 'n_units_3': 183, 'n_units_4': 118, 'n_units_5': 57, 'n_units_6': 48, 'n_units_7': 178, 'n_units_8': 132, 'n_units_9': 89, 'n_units_10': 107, 'n_units_11': 119, 'n_units_12': 20, 'threshold': 0.022543147658867398, 'n_components': 23}. Best is trial 48 with value: 0.7504681076129509.\u001b[0m\n",
            "\u001b[32m[I 2021-12-03 02:13:58,725]\u001b[0m Trial 50 finished with value: 0.6470253219773389 and parameters: {'n_layers': 20, 'n_units_0': 129, 'n_units_1': 107, 'n_units_2': 27, 'n_units_3': 191, 'n_units_4': 121, 'n_units_5': 81, 'n_units_6': 58, 'n_units_7': 157, 'n_units_8': 167, 'n_units_9': 72, 'n_units_10': 1, 'n_units_11': 1, 'n_units_12': 140, 'n_units_13': 174, 'n_units_14': 23, 'n_units_15': 167, 'n_units_16': 22, 'n_units_17': 54, 'n_units_18': 134, 'n_units_19': 88, 'threshold': 0.025359544213770208, 'n_components': 31}. Best is trial 48 with value: 0.7504681076129509.\u001b[0m\n",
            "\u001b[32m[I 2021-12-03 02:14:36,329]\u001b[0m Trial 51 finished with value: 0.743699222456079 and parameters: {'n_layers': 11, 'n_units_0': 134, 'n_units_1': 98, 'n_units_2': 46, 'n_units_3': 161, 'n_units_4': 92, 'n_units_5': 94, 'n_units_6': 33, 'n_units_7': 171, 'n_units_8': 163, 'n_units_9': 99, 'n_units_10': 142, 'threshold': 0.026735688576828523, 'n_components': 18}. Best is trial 48 with value: 0.7504681076129509.\u001b[0m\n",
            "\u001b[32m[I 2021-12-03 02:15:06,598]\u001b[0m Trial 52 finished with value: 0.7408938483516725 and parameters: {'n_layers': 8, 'n_units_0': 147, 'n_units_1': 82, 'n_units_2': 61, 'n_units_3': 178, 'n_units_4': 130, 'n_units_5': 66, 'n_units_6': 99, 'n_units_7': 156, 'threshold': 0.0324632530399336, 'n_components': 20}. Best is trial 48 with value: 0.7504681076129509.\u001b[0m\n",
            "\u001b[32m[I 2021-12-03 02:16:36,099]\u001b[0m Trial 53 finished with value: 0.7301622700356603 and parameters: {'n_layers': 23, 'n_units_0': 111, 'n_units_1': 130, 'n_units_2': 52, 'n_units_3': 173, 'n_units_4': 124, 'n_units_5': 97, 'n_units_6': 77, 'n_units_7': 179, 'n_units_8': 125, 'n_units_9': 62, 'n_units_10': 116, 'n_units_11': 74, 'n_units_12': 105, 'n_units_13': 56, 'n_units_14': 113, 'n_units_15': 61, 'n_units_16': 147, 'n_units_17': 116, 'n_units_18': 48, 'n_units_19': 32, 'n_units_20': 142, 'n_units_21': 123, 'n_units_22': 95, 'threshold': 0.023721345657779815, 'n_components': 14}. Best is trial 48 with value: 0.7504681076129509.\u001b[0m\n",
            "\u001b[32m[I 2021-12-03 02:17:10,880]\u001b[0m Trial 54 finished with value: 0.7411291289981352 and parameters: {'n_layers': 17, 'n_units_0': 124, 'n_units_1': 70, 'n_units_2': 35, 'n_units_3': 156, 'n_units_4': 101, 'n_units_5': 118, 'n_units_6': 59, 'n_units_7': 120, 'n_units_8': 97, 'n_units_9': 122, 'n_units_10': 47, 'n_units_11': 24, 'n_units_12': 58, 'n_units_13': 25, 'n_units_14': 152, 'n_units_15': 34, 'n_units_16': 92, 'threshold': 0.029283907866853465, 'n_components': 18}. Best is trial 48 with value: 0.7504681076129509.\u001b[0m\n",
            "\u001b[32m[I 2021-12-03 02:17:29,743]\u001b[0m Trial 55 finished with value: 0.7229214604303209 and parameters: {'n_layers': 6, 'n_units_0': 144, 'n_units_1': 100, 'n_units_2': 12, 'n_units_3': 124, 'n_units_4': 108, 'n_units_5': 154, 'threshold': 0.020902184556545994, 'n_components': 10}. Best is trial 48 with value: 0.7504681076129509.\u001b[0m\n",
            "\u001b[32m[I 2021-12-03 02:18:01,722]\u001b[0m Trial 56 finished with value: 0.7303956422643649 and parameters: {'n_layers': 12, 'n_units_0': 157, 'n_units_1': 138, 'n_units_2': 94, 'n_units_3': 144, 'n_units_4': 44, 'n_units_5': 119, 'n_units_6': 97, 'n_units_7': 104, 'n_units_8': 137, 'n_units_9': 82, 'n_units_10': 36, 'n_units_11': 99, 'threshold': 0.02633516695703836, 'n_components': 12}. Best is trial 48 with value: 0.7504681076129509.\u001b[0m\n",
            "\u001b[32m[I 2021-12-03 02:18:42,433]\u001b[0m Trial 57 finished with value: 0.7418289730531413 and parameters: {'n_layers': 10, 'n_units_0': 94, 'n_units_1': 113, 'n_units_2': 83, 'n_units_3': 169, 'n_units_4': 144, 'n_units_5': 16, 'n_units_6': 112, 'n_units_7': 187, 'n_units_8': 110, 'n_units_9': 36, 'threshold': 0.029977695323945782, 'n_components': 21}. Best is trial 48 with value: 0.7504681076129509.\u001b[0m\n",
            "\u001b[32m[I 2021-12-03 02:19:20,269]\u001b[0m Trial 58 finished with value: 0.7336617629417986 and parameters: {'n_layers': 14, 'n_units_0': 121, 'n_units_1': 88, 'n_units_2': 72, 'n_units_3': 156, 'n_units_4': 110, 'n_units_5': 131, 'n_units_6': 78, 'n_units_7': 140, 'n_units_8': 146, 'n_units_9': 186, 'n_units_10': 81, 'n_units_11': 48, 'n_units_12': 75, 'n_units_13': 79, 'threshold': 0.018744974570950035, 'n_components': 25}. Best is trial 48 with value: 0.7504681076129509.\u001b[0m\n",
            "\u001b[32m[I 2021-12-03 02:20:16,645]\u001b[0m Trial 59 finished with value: 0.7474309970664892 and parameters: {'n_layers': 18, 'n_units_0': 138, 'n_units_1': 79, 'n_units_2': 63, 'n_units_3': 185, 'n_units_4': 88, 'n_units_5': 74, 'n_units_6': 6, 'n_units_7': 156, 'n_units_8': 13, 'n_units_9': 17, 'n_units_10': 164, 'n_units_11': 109, 'n_units_12': 38, 'n_units_13': 1, 'n_units_14': 176, 'n_units_15': 143, 'n_units_16': 179, 'n_units_17': 173, 'threshold': 0.017885330345069617, 'n_components': 19}. Best is trial 48 with value: 0.7504681076129509.\u001b[0m\n",
            "\u001b[32m[I 2021-12-03 02:20:32,281]\u001b[0m Trial 60 finished with value: 0.7429969247210984 and parameters: {'n_layers': 6, 'n_units_0': 163, 'n_units_1': 156, 'n_units_2': 41, 'n_units_3': 90, 'n_units_4': 74, 'n_units_5': 54, 'threshold': 0.023169388896544307, 'n_components': 15}. Best is trial 48 with value: 0.7504681076129509.\u001b[0m\n",
            "\u001b[32m[I 2021-12-03 02:21:12,713]\u001b[0m Trial 61 finished with value: 0.7516346961253666 and parameters: {'n_layers': 16, 'n_units_0': 136, 'n_units_1': 78, 'n_units_2': 63, 'n_units_3': 186, 'n_units_4': 88, 'n_units_5': 75, 'n_units_6': 3, 'n_units_7': 154, 'n_units_8': 11, 'n_units_9': 13, 'n_units_10': 160, 'n_units_11': 114, 'n_units_12': 45, 'n_units_13': 2, 'n_units_14': 177, 'n_units_15': 144, 'threshold': 0.017997849239474277, 'n_components': 20}. Best is trial 61 with value: 0.7516346961253666.\u001b[0m\n",
            "\u001b[32m[I 2021-12-03 02:21:57,507]\u001b[0m Trial 62 finished with value: 0.7385582176468664 and parameters: {'n_layers': 15, 'n_units_0': 135, 'n_units_1': 67, 'n_units_2': 57, 'n_units_3': 192, 'n_units_4': 77, 'n_units_5': 66, 'n_units_6': 22, 'n_units_7': 127, 'n_units_8': 42, 'n_units_9': 6, 'n_units_10': 139, 'n_units_11': 135, 'n_units_12': 50, 'n_units_13': 22, 'n_units_14': 160, 'threshold': 0.01406583356533094, 'n_components': 22}. Best is trial 61 with value: 0.7516346961253666.\u001b[0m\n",
            "\u001b[32m[I 2021-12-03 02:22:26,539]\u001b[0m Trial 63 finished with value: 0.7406648382207004 and parameters: {'n_layers': 12, 'n_units_0': 177, 'n_units_1': 58, 'n_units_2': 24, 'n_units_3': 181, 'n_units_4': 57, 'n_units_5': 28, 'n_units_6': 36, 'n_units_7': 135, 'n_units_8': 157, 'n_units_9': 26, 'n_units_10': 160, 'n_units_11': 75, 'threshold': 0.02112346021595019, 'n_components': 17}. Best is trial 61 with value: 0.7516346961253666.\u001b[0m\n",
            "\u001b[32m[I 2021-12-03 02:22:48,544]\u001b[0m Trial 64 finished with value: 0.7350619963140275 and parameters: {'n_layers': 9, 'n_units_0': 127, 'n_units_1': 103, 'n_units_2': 76, 'n_units_3': 149, 'n_units_4': 192, 'n_units_5': 90, 'n_units_6': 28, 'n_units_7': 151, 'n_units_8': 32, 'threshold': 0.01649703992416934, 'n_components': 24}. Best is trial 61 with value: 0.7516346961253666.\u001b[0m\n",
            "\u001b[32m[I 2021-12-03 02:24:26,398]\u001b[0m Trial 65 finished with value: 0.5032680290951917 and parameters: {'n_layers': 48, 'n_units_0': 108, 'n_units_1': 45, 'n_units_2': 108, 'n_units_3': 172, 'n_units_4': 107, 'n_units_5': 103, 'n_units_6': 1, 'n_units_7': 189, 'n_units_8': 13, 'n_units_9': 51, 'n_units_10': 152, 'n_units_11': 93, 'n_units_12': 65, 'n_units_13': 67, 'n_units_14': 190, 'n_units_15': 104, 'n_units_16': 66, 'n_units_17': 73, 'n_units_18': 102, 'n_units_19': 199, 'n_units_20': 36, 'n_units_21': 36, 'n_units_22': 105, 'n_units_23': 113, 'n_units_24': 101, 'n_units_25': 195, 'n_units_26': 197, 'n_units_27': 9, 'n_units_28': 154, 'n_units_29': 190, 'n_units_30': 54, 'n_units_31': 7, 'n_units_32': 185, 'n_units_33': 71, 'n_units_34': 141, 'n_units_35': 200, 'n_units_36': 128, 'n_units_37': 93, 'n_units_38': 196, 'n_units_39': 1, 'n_units_40': 190, 'n_units_41': 118, 'n_units_42': 197, 'n_units_43': 2, 'n_units_44': 2, 'n_units_45': 3, 'n_units_46': 193, 'n_units_47': 200, 'threshold': 0.026668608334193537, 'n_components': 21}. Best is trial 61 with value: 0.7516346961253666.\u001b[0m\n",
            "\u001b[32m[I 2021-12-03 02:24:48,956]\u001b[0m Trial 66 finished with value: 0.743230296949803 and parameters: {'n_layers': 7, 'n_units_0': 153, 'n_units_1': 94, 'n_units_2': 66, 'n_units_3': 158, 'n_units_4': 133, 'n_units_5': 53, 'n_units_6': 47, 'threshold': 0.008176465600052338, 'n_components': 28}. Best is trial 61 with value: 0.7516346961253666.\u001b[0m\n",
            "\u001b[32m[I 2021-12-03 02:25:33,635]\u001b[0m Trial 67 finished with value: 0.7439328673158923 and parameters: {'n_layers': 17, 'n_units_0': 81, 'n_units_1': 85, 'n_units_2': 18, 'n_units_3': 67, 'n_units_4': 126, 'n_units_5': 134, 'n_units_6': 65, 'n_units_7': 172, 'n_units_8': 3, 'n_units_9': 133, 'n_units_10': 120, 'n_units_11': 113, 'n_units_12': 1, 'n_units_13': 47, 'n_units_14': 141, 'n_units_15': 197, 'n_units_16': 107, 'threshold': 0.024821464831588085, 'n_components': 19}. Best is trial 61 with value: 0.7516346961253666.\u001b[0m\n",
            "\u001b[32m[I 2021-12-03 02:26:54,540]\u001b[0m Trial 68 finished with value: 0.735763203524575 and parameters: {'n_layers': 24, 'n_units_0': 143, 'n_units_1': 74, 'n_units_2': 31, 'n_units_3': 135, 'n_units_4': 82, 'n_units_5': 192, 'n_units_6': 119, 'n_units_7': 76, 'n_units_8': 102, 'n_units_9': 41, 'n_units_10': 104, 'n_units_11': 161, 'n_units_12': 43, 'n_units_13': 19, 'n_units_14': 165, 'n_units_15': 179, 'n_units_16': 25, 'n_units_17': 31, 'n_units_18': 78, 'n_units_19': 1, 'n_units_20': 191, 'n_units_21': 113, 'n_units_22': 47, 'n_units_23': 144, 'threshold': 0.032128111147022166, 'n_components': 18}. Best is trial 61 with value: 0.7516346961253666.\u001b[0m\n",
            "\u001b[32m[I 2021-12-03 02:27:44,961]\u001b[0m Trial 69 finished with value: 0.7446305303220317 and parameters: {'n_layers': 19, 'n_units_0': 118, 'n_units_1': 53, 'n_units_2': 51, 'n_units_3': 179, 'n_units_4': 28, 'n_units_5': 164, 'n_units_6': 104, 'n_units_7': 91, 'n_units_8': 120, 'n_units_9': 12, 'n_units_10': 176, 'n_units_11': 57, 'n_units_12': 18, 'n_units_13': 14, 'n_units_14': 183, 'n_units_15': 134, 'n_units_16': 182, 'n_units_17': 31, 'n_units_18': 141, 'threshold': 0.03348102640883032, 'n_components': 17}. Best is trial 61 with value: 0.7516346961253666.\u001b[0m\n",
            "\u001b[32m[I 2021-12-03 02:27:54,122]\u001b[0m Trial 70 finished with value: 0.741364409644598 and parameters: {'n_layers': 3, 'n_units_0': 134, 'n_units_1': 123, 'n_units_2': 88, 'threshold': 0.027379680800045117, 'n_components': 20}. Best is trial 61 with value: 0.7516346961253666.\u001b[0m\n",
            "\u001b[32m[I 2021-12-03 02:28:35,944]\u001b[0m Trial 71 finished with value: 0.6972003511488676 and parameters: {'n_layers': 15, 'n_units_0': 139, 'n_units_1': 79, 'n_units_2': 62, 'n_units_3': 188, 'n_units_4': 91, 'n_units_5': 74, 'n_units_6': 1, 'n_units_7': 154, 'n_units_8': 13, 'n_units_9': 22, 'n_units_10': 170, 'n_units_11': 109, 'n_units_12': 35, 'n_units_13': 2, 'n_units_14': 173, 'threshold': 0.017685897887530923, 'n_components': 23}. Best is trial 61 with value: 0.7516346961253666.\u001b[0m\n",
            "\u001b[32m[I 2021-12-03 02:29:47,768]\u001b[0m Trial 72 finished with value: 0.7432267527453953 and parameters: {'n_layers': 18, 'n_units_0': 149, 'n_units_1': 63, 'n_units_2': 72, 'n_units_3': 198, 'n_units_4': 90, 'n_units_5': 79, 'n_units_6': 16, 'n_units_7': 162, 'n_units_8': 24, 'n_units_9': 15, 'n_units_10': 132, 'n_units_11': 124, 'n_units_12': 63, 'n_units_13': 1, 'n_units_14': 172, 'n_units_15': 145, 'n_units_16': 177, 'n_units_17': 171, 'threshold': 0.018422980181245403, 'n_components': 19}. Best is trial 61 with value: 0.7516346961253666.\u001b[0m\n",
            "\u001b[32m[I 2021-12-03 02:30:24,325]\u001b[0m Trial 73 finished with value: 0.7366961471771776 and parameters: {'n_layers': 13, 'n_units_0': 97, 'n_units_1': 93, 'n_units_2': 61, 'n_units_3': 186, 'n_units_4': 69, 'n_units_5': 71, 'n_units_6': 90, 'n_units_7': 53, 'n_units_8': 11, 'n_units_9': 59, 'n_units_10': 184, 'n_units_11': 83, 'n_units_12': 80, 'threshold': 0.010304846870214983, 'n_components': 33}. Best is trial 61 with value: 0.7516346961253666.\u001b[0m\n",
            "\u001b[32m[I 2021-12-03 02:30:47,027]\u001b[0m Trial 74 finished with value: 0.7469607084046718 and parameters: {'n_layers': 11, 'n_units_0': 164, 'n_units_1': 38, 'n_units_2': 44, 'n_units_3': 177, 'n_units_4': 114, 'n_units_5': 60, 'n_units_6': 11, 'n_units_7': 166, 'n_units_8': 51, 'n_units_9': 29, 'n_units_10': 162, 'threshold': 0.021501749020551367, 'n_components': 16}. Best is trial 61 with value: 0.7516346961253666.\u001b[0m\n",
            "\u001b[32m[I 2021-12-03 02:31:12,534]\u001b[0m Trial 75 finished with value: 0.7453347364747707 and parameters: {'n_layers': 9, 'n_units_0': 90, 'n_units_1': 79, 'n_units_2': 66, 'n_units_3': 165, 'n_units_4': 194, 'n_units_5': 86, 'n_units_6': 23, 'n_units_7': 146, 'n_units_8': 30, 'threshold': 0.01434449605909432, 'n_components': 26}. Best is trial 61 with value: 0.7516346961253666.\u001b[0m\n",
            "\u001b[32m[I 2021-12-03 02:31:55,451]\u001b[0m Trial 76 finished with value: 0.740664565589592 and parameters: {'n_layers': 16, 'n_units_0': 139, 'n_units_1': 70, 'n_units_2': 8, 'n_units_3': 20, 'n_units_4': 103, 'n_units_5': 179, 'n_units_6': 147, 'n_units_7': 110, 'n_units_8': 4, 'n_units_9': 76, 'n_units_10': 153, 'n_units_11': 72, 'n_units_12': 37, 'n_units_13': 29, 'n_units_14': 186, 'n_units_15': 182, 'threshold': 0.029088618313766693, 'n_components': 30}. Best is trial 61 with value: 0.7516346961253666.\u001b[0m\n",
            "\u001b[32m[I 2021-12-03 02:32:59,856]\u001b[0m Trial 77 finished with value: 0.747200896411084 and parameters: {'n_layers': 22, 'n_units_0': 103, 'n_units_1': 110, 'n_units_2': 96, 'n_units_3': 151, 'n_units_4': 94, 'n_units_5': 46, 'n_units_6': 14, 'n_units_7': 181, 'n_units_8': 18, 'n_units_9': 8, 'n_units_10': 67, 'n_units_11': 97, 'n_units_12': 50, 'n_units_13': 44, 'n_units_14': 114, 'n_units_15': 121, 'n_units_16': 142, 'n_units_17': 168, 'n_units_18': 14, 'n_units_19': 93, 'n_units_20': 168, 'n_units_21': 151, 'threshold': 0.024563506562526417, 'n_components': 19}. Best is trial 61 with value: 0.7516346961253666.\u001b[0m\n",
            "\u001b[32m[I 2021-12-03 02:33:22,471]\u001b[0m Trial 78 finished with value: 0.7392654227417965 and parameters: {'n_layers': 5, 'n_units_0': 130, 'n_units_1': 85, 'n_units_2': 82, 'n_units_3': 195, 'n_units_4': 176, 'threshold': 0.022912560889121476, 'n_components': 21}. Best is trial 61 with value: 0.7516346961253666.\u001b[0m\n",
            "\u001b[32m[I 2021-12-03 02:34:31,624]\u001b[0m Trial 79 finished with value: 0.7462649538162902 and parameters: {'n_layers': 19, 'n_units_0': 152, 'n_units_1': 63, 'n_units_2': 57, 'n_units_3': 130, 'n_units_4': 160, 'n_units_5': 125, 'n_units_6': 83, 'n_units_7': 23, 'n_units_8': 191, 'n_units_9': 42, 'n_units_10': 199, 'n_units_11': 148, 'n_units_12': 11, 'n_units_13': 86, 'n_units_14': 89, 'n_units_15': 165, 'n_units_16': 120, 'n_units_17': 179, 'n_units_18': 178, 'threshold': 0.015612419940571318, 'n_components': 35}. Best is trial 61 with value: 0.7516346961253666.\u001b[0m\n",
            "\u001b[32m[I 2021-12-03 02:35:20,679]\u001b[0m Trial 80 finished with value: 0.5494757303787391 and parameters: {'n_layers': 28, 'n_units_0': 26, 'n_units_1': 76, 'n_units_2': 53, 'n_units_3': 105, 'n_units_4': 84, 'n_units_5': 104, 'n_units_6': 93, 'n_units_7': 124, 'n_units_8': 75, 'n_units_9': 1, 'n_units_10': 92, 'n_units_11': 128, 'n_units_12': 67, 'n_units_13': 13, 'n_units_14': 141, 'n_units_15': 154, 'n_units_16': 182, 'n_units_17': 152, 'n_units_18': 25, 'n_units_19': 50, 'n_units_20': 25, 'n_units_21': 33, 'n_units_22': 188, 'n_units_23': 198, 'n_units_24': 58, 'n_units_25': 60, 'n_units_26': 120, 'n_units_27': 156, 'threshold': 0.0256824380752661, 'n_components': 32}. Best is trial 61 with value: 0.7516346961253666.\u001b[0m\n",
            "\u001b[32m[I 2021-12-03 02:35:51,251]\u001b[0m Trial 81 finished with value: 0.7441635132335139 and parameters: {'n_layers': 7, 'n_units_0': 58, 'n_units_1': 28, 'n_units_2': 72, 'n_units_3': 150, 'n_units_4': 184, 'n_units_5': 168, 'n_units_6': 163, 'threshold': 0.03010463647641339, 'n_components': 24}. Best is trial 61 with value: 0.7516346961253666.\u001b[0m\n",
            "\u001b[32m[I 2021-12-03 02:36:27,157]\u001b[0m Trial 82 finished with value: 0.7495332555425904 and parameters: {'n_layers': 14, 'n_units_0': 67, 'n_units_1': 20, 'n_units_2': 77, 'n_units_3': 145, 'n_units_4': 196, 'n_units_5': 151, 'n_units_6': 142, 'n_units_7': 159, 'n_units_8': 130, 'n_units_9': 20, 'n_units_10': 133, 'n_units_11': 113, 'n_units_12': 29, 'n_units_13': 50, 'threshold': 0.028670461145852394, 'n_components': 25}. Best is trial 61 with value: 0.7516346961253666.\u001b[0m\n",
            "\u001b[32m[I 2021-12-03 02:37:19,140]\u001b[0m Trial 83 finished with value: 0.742296808034984 and parameters: {'n_layers': 14, 'n_units_0': 123, 'n_units_1': 93, 'n_units_2': 77, 'n_units_3': 140, 'n_units_4': 194, 'n_units_5': 143, 'n_units_6': 156, 'n_units_7': 163, 'n_units_8': 127, 'n_units_9': 18, 'n_units_10': 137, 'n_units_11': 113, 'n_units_12': 32, 'n_units_13': 49, 'threshold': 0.03150984339944952, 'n_components': 22}. Best is trial 61 with value: 0.7516346961253666.\u001b[0m\n",
            "\u001b[32m[I 2021-12-03 02:38:04,616]\u001b[0m Trial 84 finished with value: 0.7495335281736987 and parameters: {'n_layers': 10, 'n_units_0': 68, 'n_units_1': 8, 'n_units_2': 66, 'n_units_3': 170, 'n_units_4': 195, 'n_units_5': 150, 'n_units_6': 141, 'n_units_7': 156, 'n_units_8': 144, 'n_units_9': 32, 'threshold': 0.027630704296805732, 'n_components': 25}. Best is trial 61 with value: 0.7516346961253666.\u001b[0m\n",
            "\u001b[32m[I 2021-12-03 02:38:40,154]\u001b[0m Trial 85 finished with value: 0.7378597367474018 and parameters: {'n_layers': 10, 'n_units_0': 53, 'n_units_1': 17, 'n_units_2': 87, 'n_units_3': 114, 'n_units_4': 194, 'n_units_5': 148, 'n_units_6': 145, 'n_units_7': 173, 'n_units_8': 141, 'n_units_9': 34, 'threshold': 0.028223186837659325, 'n_components': 26}. Best is trial 61 with value: 0.7516346961253666.\u001b[0m\n",
            "\u001b[32m[I 2021-12-03 02:39:34,510]\u001b[0m Trial 86 finished with value: 0.7481324769081451 and parameters: {'n_layers': 12, 'n_units_0': 71, 'n_units_1': 6, 'n_units_2': 104, 'n_units_3': 170, 'n_units_4': 200, 'n_units_5': 155, 'n_units_6': 132, 'n_units_7': 139, 'n_units_8': 148, 'n_units_9': 47, 'n_units_10': 123, 'n_units_11': 88, 'threshold': 0.0344932983263444, 'n_components': 23}. Best is trial 61 with value: 0.7516346961253666.\u001b[0m\n",
            "\u001b[32m[I 2021-12-03 02:40:19,378]\u001b[0m Trial 87 finished with value: 0.7439320494225673 and parameters: {'n_layers': 12, 'n_units_0': 70, 'n_units_1': 2, 'n_units_2': 102, 'n_units_3': 168, 'n_units_4': 188, 'n_units_5': 153, 'n_units_6': 118, 'n_units_7': 139, 'n_units_8': 153, 'n_units_9': 46, 'n_units_10': 88, 'n_units_11': 139, 'threshold': 0.034001094232920276, 'n_components': 25}. Best is trial 61 with value: 0.7516346961253666.\u001b[0m\n",
            "\u001b[32m[I 2021-12-03 02:40:47,175]\u001b[0m Trial 88 finished with value: 0.7429980152455317 and parameters: {'n_layers': 8, 'n_units_0': 77, 'n_units_1': 7, 'n_units_2': 119, 'n_units_3': 172, 'n_units_4': 177, 'n_units_5': 137, 'n_units_6': 132, 'n_units_7': 149, 'threshold': 0.03695416363987754, 'n_components': 28}. Best is trial 61 with value: 0.7516346961253666.\u001b[0m\n",
            "\u001b[32m[I 2021-12-03 02:41:29,796]\u001b[0m Trial 89 finished with value: 0.7425309981570137 and parameters: {'n_layers': 9, 'n_units_0': 67, 'n_units_1': 21, 'n_units_2': 49, 'n_units_3': 162, 'n_units_4': 197, 'n_units_5': 162, 'n_units_6': 138, 'n_units_7': 129, 'n_units_8': 173, 'threshold': 0.027314380812492718, 'n_components': 25}. Best is trial 61 with value: 0.7516346961253666.\u001b[0m\n",
            "\u001b[32m[I 2021-12-03 02:42:18,628]\u001b[0m Trial 90 finished with value: 0.7485975855789049 and parameters: {'n_layers': 11, 'n_units_0': 59, 'n_units_1': 10, 'n_units_2': 107, 'n_units_3': 158, 'n_units_4': 188, 'n_units_5': 158, 'n_units_6': 173, 'n_units_7': 159, 'n_units_8': 116, 'n_units_9': 57, 'n_units_10': 124, 'threshold': 0.02948548268862527, 'n_components': 23}. Best is trial 61 with value: 0.7516346961253666.\u001b[0m\n",
            "\u001b[32m[I 2021-12-03 02:43:23,788]\u001b[0m Trial 91 finished with value: 0.7387956793421957 and parameters: {'n_layers': 11, 'n_units_0': 61, 'n_units_1': 9, 'n_units_2': 106, 'n_units_3': 159, 'n_units_4': 200, 'n_units_5': 151, 'n_units_6': 175, 'n_units_7': 159, 'n_units_8': 132, 'n_units_9': 69, 'n_units_10': 112, 'threshold': 0.02958548753005396, 'n_components': 23}. Best is trial 61 with value: 0.7516346961253666.\u001b[0m\n",
            "\u001b[32m[I 2021-12-03 02:44:11,047]\u001b[0m Trial 92 finished with value: 0.741828700422033 and parameters: {'n_layers': 14, 'n_units_0': 44, 'n_units_1': 20, 'n_units_2': 97, 'n_units_3': 144, 'n_units_4': 185, 'n_units_5': 156, 'n_units_6': 150, 'n_units_7': 143, 'n_units_8': 115, 'n_units_9': 58, 'n_units_10': 124, 'n_units_11': 89, 'n_units_12': 16, 'n_units_13': 101, 'threshold': 0.030784526581572286, 'n_components': 24}. Best is trial 61 with value: 0.7516346961253666.\u001b[0m\n",
            "\u001b[32m[I 2021-12-03 02:45:23,568]\u001b[0m Trial 93 finished with value: 0.5898491259446668 and parameters: {'n_layers': 37, 'n_units_0': 37, 'n_units_1': 13, 'n_units_2': 90, 'n_units_3': 154, 'n_units_4': 190, 'n_units_5': 141, 'n_units_6': 162, 'n_units_7': 165, 'n_units_8': 148, 'n_units_9': 30, 'n_units_10': 98, 'n_units_11': 156, 'n_units_12': 135, 'n_units_13': 166, 'n_units_14': 57, 'n_units_15': 84, 'n_units_16': 96, 'n_units_17': 16, 'n_units_18': 62, 'n_units_19': 139, 'n_units_20': 131, 'n_units_21': 73, 'n_units_22': 144, 'n_units_23': 89, 'n_units_24': 168, 'n_units_25': 125, 'n_units_26': 64, 'n_units_27': 73, 'n_units_28': 58, 'n_units_29': 1, 'n_units_30': 200, 'n_units_31': 59, 'n_units_32': 62, 'n_units_33': 96, 'n_units_34': 9, 'n_units_35': 13, 'n_units_36': 6, 'threshold': 0.02392748108801025, 'n_components': 27}. Best is trial 61 with value: 0.7516346961253666.\u001b[0m\n",
            "\u001b[32m[I 2021-12-03 02:46:02,885]\u001b[0m Trial 94 finished with value: 0.6853523484443669 and parameters: {'n_layers': 13, 'n_units_0': 56, 'n_units_1': 2, 'n_units_2': 82, 'n_units_3': 176, 'n_units_4': 173, 'n_units_5': 158, 'n_units_6': 105, 'n_units_7': 193, 'n_units_8': 94, 'n_units_9': 22, 'n_units_10': 125, 'n_units_11': 186, 'n_units_12': 2, 'threshold': 0.03473979986015386, 'n_components': 23}. Best is trial 61 with value: 0.7516346961253666.\u001b[0m\n",
            "\u001b[32m[I 2021-12-03 02:46:41,129]\u001b[0m Trial 95 finished with value: 0.7315627760389971 and parameters: {'n_layers': 11, 'n_units_0': 49, 'n_units_1': 11, 'n_units_2': 125, 'n_units_3': 168, 'n_units_4': 182, 'n_units_5': 118, 'n_units_6': 191, 'n_units_7': 135, 'n_units_8': 108, 'n_units_9': 37, 'n_units_10': 103, 'threshold': 0.025501886031730557, 'n_components': 24}. Best is trial 61 with value: 0.7516346961253666.\u001b[0m\n",
            "\u001b[32m[I 2021-12-03 02:46:53,716]\u001b[0m Trial 96 finished with value: 0.7401975485010743 and parameters: {'n_layers': 5, 'n_units_0': 69, 'n_units_1': 35, 'n_units_2': 113, 'n_units_3': 160, 'n_units_4': 196, 'threshold': 0.0325067212551601, 'n_components': 22}. Best is trial 61 with value: 0.7516346961253666.\u001b[0m\n",
            "\u001b[32m[I 2021-12-03 02:47:27,976]\u001b[0m Trial 97 finished with value: 0.7457976640966641 and parameters: {'n_layers': 8, 'n_units_0': 87, 'n_units_1': 16, 'n_units_2': 69, 'n_units_3': 82, 'n_units_4': 189, 'n_units_5': 179, 'n_units_6': 170, 'n_units_7': 174, 'threshold': 0.028760400602105763, 'n_components': 30}. Best is trial 61 with value: 0.7516346961253666.\u001b[0m\n",
            "\u001b[32m[I 2021-12-03 02:48:02,062]\u001b[0m Trial 98 finished with value: 0.7464991439383198 and parameters: {'n_layers': 10, 'n_units_0': 81, 'n_units_1': 6, 'n_units_2': 38, 'n_units_3': 182, 'n_units_4': 119, 'n_units_5': 172, 'n_units_6': 127, 'n_units_7': 152, 'n_units_8': 136, 'n_units_9': 56, 'threshold': 0.027051348204178767, 'n_components': 25}. Best is trial 61 with value: 0.7516346961253666.\u001b[0m\n",
            "\u001b[32m[I 2021-12-03 02:48:38,334]\u001b[0m Trial 99 finished with value: 0.6825546080109925 and parameters: {'n_layers': 16, 'n_units_0': 65, 'n_units_1': 25, 'n_units_2': 192, 'n_units_3': 147, 'n_units_4': 1, 'n_units_5': 161, 'n_units_6': 187, 'n_units_7': 182, 'n_units_8': 126, 'n_units_9': 48, 'n_units_10': 118, 'n_units_11': 102, 'n_units_12': 26, 'n_units_13': 133, 'n_units_14': 28, 'n_units_15': 119, 'threshold': 0.020248475770394635, 'n_components': 27}. Best is trial 61 with value: 0.7516346961253666.\u001b[0m\n"
          ]
        }
      ]
    },
    {
      "cell_type": "markdown",
      "metadata": {
        "id": "CM_tnX5TKm7Z"
      },
      "source": [
        "Δεν παρατηρούμε, ωστόσο, κάποια αισθητή βελτίωση των accuracy scores καθώς το δίκτυο γίνεται πιο πολύπλοκο, οπότε και κάνουμε μια τελευταία αναζήτηση σε τιμές υπερπαραμέτρων αρκετά κοντά στη βέλτιστη μέχρι στιγμής αρχιτεκτονική προκειμένου να δούμε εάν δέχεται κάποια επιπλέον βελτίωση. "
      ]
    },
    {
      "cell_type": "code",
      "metadata": {
        "colab": {
          "base_uri": "https://localhost:8080/"
        },
        "id": "pVdQUX5nRm_u",
        "outputId": "fbc0fdd1-1817-423f-9cdc-da8fd4c4d9c8"
      },
      "source": [
        "def objective(trial):\n",
        "\n",
        "    n_layers = trial.suggest_int('n_layers', 5, 7)\n",
        "    layers = []\n",
        "    for i in range(n_layers):\n",
        "        layers.append(trial.suggest_int(f'n_units_{i}', 1, 100))\n",
        "\n",
        "    mlp = MLPClassifier(hidden_layer_sizes = tuple(layers), activation = 'tanh',  solver = 'adam', batch_size = 128, max_iter = 10000, early_stopping = True)\n",
        "    n_components = trial.suggest_int('n_components', 25, 30)\n",
        "\n",
        "    clf = Pipeline(steps = [('minmax_scaler', preprocessing.MinMaxScaler()), ('selector', VarianceThreshold(threshold = 0.04)), ('pca', PCA(n_components = n_components)), ('mlp', mlp)])\n",
        "\n",
        "    acc = np.mean(cross_val_score(clf, X_train_small, y_train_small, cv = 5, scoring = 'accuracy'))\n",
        "    f1 = np.mean(cross_val_score(clf, X_train_small, y_train_small, cv = 5, scoring = 'f1'))\n",
        "    print('cross-val accuracy:', np.round(acc, 5))\n",
        "    print('cross-val f1 score:', np.round(f1, 5))\n",
        "    return (acc + f1) / 2\n",
        "\n",
        "study = optuna.create_study(direction = 'maximize')\n",
        "study.optimize(objective, n_trials = 300)"
      ],
      "execution_count": 46,
      "outputs": [
        {
          "metadata": {
            "tags": null
          },
          "name": "stderr",
          "output_type": "stream",
          "text": [
            "\u001b[32m[I 2021-12-03 03:14:21,797]\u001b[0m A new study created in memory with name: no-name-aa96b272-dc2f-452e-9067-7a6a32ccf2e9\u001b[0m\n",
            "\u001b[32m[I 2021-12-03 03:14:39,705]\u001b[0m Trial 0 finished with value: 0.7440498465045831 and parameters: {'n_layers': 6, 'n_units_0': 21, 'n_units_1': 80, 'n_units_2': 60, 'n_units_3': 42, 'n_units_4': 5, 'n_units_5': 48, 'n_components': 27}. Best is trial 0 with value: 0.7440498465045831.\u001b[0m\n"
          ]
        },
        {
          "metadata": {
            "tags": null
          },
          "name": "stdout",
          "output_type": "stream",
          "text": [
            "cross-val accuracy: 0.74766\n",
            "cross-val f1 score: 0.74044\n"
          ]
        },
        {
          "metadata": {
            "tags": null
          },
          "name": "stderr",
          "output_type": "stream",
          "text": [
            "\u001b[32m[I 2021-12-03 03:15:05,833]\u001b[0m Trial 1 finished with value: 0.7519233002349417 and parameters: {'n_layers': 6, 'n_units_0': 78, 'n_units_1': 64, 'n_units_2': 26, 'n_units_3': 96, 'n_units_4': 66, 'n_units_5': 35, 'n_components': 27}. Best is trial 1 with value: 0.7519233002349417.\u001b[0m\n"
          ]
        },
        {
          "metadata": {
            "tags": null
          },
          "name": "stdout",
          "output_type": "stream",
          "text": [
            "cross-val accuracy: 0.74767\n",
            "cross-val f1 score: 0.75618\n"
          ]
        },
        {
          "metadata": {
            "tags": null
          },
          "name": "stderr",
          "output_type": "stream",
          "text": [
            "\u001b[32m[I 2021-12-03 03:15:24,067]\u001b[0m Trial 2 finished with value: 0.7489977204982697 and parameters: {'n_layers': 7, 'n_units_0': 84, 'n_units_1': 40, 'n_units_2': 1, 'n_units_3': 75, 'n_units_4': 57, 'n_units_5': 8, 'n_units_6': 38, 'n_components': 27}. Best is trial 1 with value: 0.7519233002349417.\u001b[0m\n"
          ]
        },
        {
          "metadata": {
            "tags": null
          },
          "name": "stdout",
          "output_type": "stream",
          "text": [
            "cross-val accuracy: 0.7458\n",
            "cross-val f1 score: 0.7522\n"
          ]
        },
        {
          "metadata": {
            "tags": null
          },
          "name": "stderr",
          "output_type": "stream",
          "text": [
            "\u001b[32m[I 2021-12-03 03:15:53,274]\u001b[0m Trial 3 finished with value: 0.7592052055143408 and parameters: {'n_layers': 7, 'n_units_0': 85, 'n_units_1': 78, 'n_units_2': 84, 'n_units_3': 35, 'n_units_4': 15, 'n_units_5': 43, 'n_units_6': 59, 'n_components': 28}. Best is trial 3 with value: 0.7592052055143408.\u001b[0m\n"
          ]
        },
        {
          "metadata": {
            "tags": null
          },
          "name": "stdout",
          "output_type": "stream",
          "text": [
            "cross-val accuracy: 0.7493\n",
            "cross-val f1 score: 0.76911\n"
          ]
        },
        {
          "metadata": {
            "tags": null
          },
          "name": "stderr",
          "output_type": "stream",
          "text": [
            "\u001b[32m[I 2021-12-03 03:16:19,519]\u001b[0m Trial 4 finished with value: 0.7509572983310701 and parameters: {'n_layers': 5, 'n_units_0': 17, 'n_units_1': 98, 'n_units_2': 61, 'n_units_3': 71, 'n_units_4': 95, 'n_components': 25}. Best is trial 3 with value: 0.7592052055143408.\u001b[0m\n"
          ]
        },
        {
          "metadata": {
            "tags": null
          },
          "name": "stdout",
          "output_type": "stream",
          "text": [
            "cross-val accuracy: 0.7423\n",
            "cross-val f1 score: 0.75962\n"
          ]
        },
        {
          "metadata": {
            "tags": null
          },
          "name": "stderr",
          "output_type": "stream",
          "text": [
            "\u001b[32m[I 2021-12-03 03:16:47,836]\u001b[0m Trial 5 finished with value: 0.7601574600572535 and parameters: {'n_layers': 7, 'n_units_0': 85, 'n_units_1': 21, 'n_units_2': 66, 'n_units_3': 44, 'n_units_4': 20, 'n_units_5': 47, 'n_units_6': 100, 'n_components': 27}. Best is trial 5 with value: 0.7601574600572535.\u001b[0m\n"
          ]
        },
        {
          "metadata": {
            "tags": null
          },
          "name": "stdout",
          "output_type": "stream",
          "text": [
            "cross-val accuracy: 0.74696\n",
            "cross-val f1 score: 0.77335\n"
          ]
        },
        {
          "metadata": {
            "tags": null
          },
          "name": "stderr",
          "output_type": "stream",
          "text": [
            "\u001b[32m[I 2021-12-03 03:17:12,657]\u001b[0m Trial 6 finished with value: 0.7534635670122598 and parameters: {'n_layers': 7, 'n_units_0': 25, 'n_units_1': 74, 'n_units_2': 81, 'n_units_3': 62, 'n_units_4': 49, 'n_units_5': 51, 'n_units_6': 17, 'n_components': 28}. Best is trial 5 with value: 0.7601574600572535.\u001b[0m\n"
          ]
        },
        {
          "metadata": {
            "tags": null
          },
          "name": "stdout",
          "output_type": "stream",
          "text": [
            "cross-val accuracy: 0.74533\n",
            "cross-val f1 score: 0.76159\n"
          ]
        },
        {
          "metadata": {
            "tags": null
          },
          "name": "stderr",
          "output_type": "stream",
          "text": [
            "\u001b[32m[I 2021-12-03 03:17:25,948]\u001b[0m Trial 7 finished with value: 0.7548721501849625 and parameters: {'n_layers': 5, 'n_units_0': 17, 'n_units_1': 59, 'n_units_2': 4, 'n_units_3': 64, 'n_units_4': 20, 'n_components': 25}. Best is trial 5 with value: 0.7601574600572535.\u001b[0m\n"
          ]
        },
        {
          "metadata": {
            "tags": null
          },
          "name": "stdout",
          "output_type": "stream",
          "text": [
            "cross-val accuracy: 0.7479\n",
            "cross-val f1 score: 0.76184\n"
          ]
        },
        {
          "metadata": {
            "tags": null
          },
          "name": "stderr",
          "output_type": "stream",
          "text": [
            "\u001b[32m[I 2021-12-03 03:17:51,768]\u001b[0m Trial 8 finished with value: 0.7577118700745191 and parameters: {'n_layers': 7, 'n_units_0': 27, 'n_units_1': 71, 'n_units_2': 75, 'n_units_3': 16, 'n_units_4': 63, 'n_units_5': 30, 'n_units_6': 40, 'n_components': 30}. Best is trial 5 with value: 0.7601574600572535.\u001b[0m\n"
          ]
        },
        {
          "metadata": {
            "tags": null
          },
          "name": "stdout",
          "output_type": "stream",
          "text": [
            "cross-val accuracy: 0.74907\n",
            "cross-val f1 score: 0.76636\n"
          ]
        },
        {
          "metadata": {
            "tags": null
          },
          "name": "stderr",
          "output_type": "stream",
          "text": [
            "\u001b[32m[I 2021-12-03 03:18:12,007]\u001b[0m Trial 9 finished with value: 0.7561089487908184 and parameters: {'n_layers': 6, 'n_units_0': 55, 'n_units_1': 10, 'n_units_2': 60, 'n_units_3': 76, 'n_units_4': 25, 'n_units_5': 52, 'n_components': 29}. Best is trial 5 with value: 0.7601574600572535.\u001b[0m\n"
          ]
        },
        {
          "metadata": {
            "tags": null
          },
          "name": "stdout",
          "output_type": "stream",
          "text": [
            "cross-val accuracy: 0.75\n",
            "cross-val f1 score: 0.76222\n"
          ]
        },
        {
          "metadata": {
            "tags": null
          },
          "name": "stderr",
          "output_type": "stream",
          "text": [
            "\u001b[32m[I 2021-12-03 03:18:33,600]\u001b[0m Trial 10 finished with value: 0.7389728983834997 and parameters: {'n_layers': 7, 'n_units_0': 99, 'n_units_1': 3, 'n_units_2': 37, 'n_units_3': 1, 'n_units_4': 37, 'n_units_5': 85, 'n_units_6': 100, 'n_components': 26}. Best is trial 5 with value: 0.7601574600572535.\u001b[0m\n"
          ]
        },
        {
          "metadata": {
            "tags": null
          },
          "name": "stdout",
          "output_type": "stream",
          "text": [
            "cross-val accuracy: 0.7388\n",
            "cross-val f1 score: 0.73915\n"
          ]
        },
        {
          "metadata": {
            "tags": null
          },
          "name": "stderr",
          "output_type": "stream",
          "text": [
            "\u001b[32m[I 2021-12-03 03:18:57,750]\u001b[0m Trial 11 finished with value: 0.7574039546647908 and parameters: {'n_layers': 7, 'n_units_0': 61, 'n_units_1': 25, 'n_units_2': 99, 'n_units_3': 31, 'n_units_4': 2, 'n_units_5': 79, 'n_units_6': 99, 'n_components': 28}. Best is trial 5 with value: 0.7601574600572535.\u001b[0m\n"
          ]
        },
        {
          "metadata": {
            "tags": null
          },
          "name": "stdout",
          "output_type": "stream",
          "text": [
            "cross-val accuracy: 0.74183\n",
            "cross-val f1 score: 0.77298\n"
          ]
        },
        {
          "metadata": {
            "tags": null
          },
          "name": "stderr",
          "output_type": "stream",
          "text": [
            "\u001b[32m[I 2021-12-03 03:19:25,184]\u001b[0m Trial 12 finished with value: 0.7532313323855881 and parameters: {'n_layers': 7, 'n_units_0': 77, 'n_units_1': 42, 'n_units_2': 94, 'n_units_3': 38, 'n_units_4': 21, 'n_units_5': 64, 'n_units_6': 71, 'n_components': 29}. Best is trial 5 with value: 0.7601574600572535.\u001b[0m\n"
          ]
        },
        {
          "metadata": {
            "tags": null
          },
          "name": "stdout",
          "output_type": "stream",
          "text": [
            "cross-val accuracy: 0.74603\n",
            "cross-val f1 score: 0.76043\n"
          ]
        },
        {
          "metadata": {
            "tags": null
          },
          "name": "stderr",
          "output_type": "stream",
          "text": [
            "\u001b[32m[I 2021-12-03 03:19:50,332]\u001b[0m Trial 13 finished with value: 0.754779816822259 and parameters: {'n_layers': 6, 'n_units_0': 100, 'n_units_1': 97, 'n_units_2': 79, 'n_units_3': 24, 'n_units_4': 37, 'n_units_5': 17, 'n_components': 26}. Best is trial 5 with value: 0.7601574600572535.\u001b[0m\n"
          ]
        },
        {
          "metadata": {
            "tags": null
          },
          "name": "stdout",
          "output_type": "stream",
          "text": [
            "cross-val accuracy: 0.7423\n",
            "cross-val f1 score: 0.76726\n"
          ]
        },
        {
          "metadata": {
            "tags": null
          },
          "name": "stderr",
          "output_type": "stream",
          "text": [
            "\u001b[32m[I 2021-12-03 03:20:13,904]\u001b[0m Trial 14 finished with value: 0.7541305720667447 and parameters: {'n_layers': 7, 'n_units_0': 65, 'n_units_1': 22, 'n_units_2': 43, 'n_units_3': 50, 'n_units_4': 12, 'n_units_5': 99, 'n_units_6': 68, 'n_components': 28}. Best is trial 5 with value: 0.7601574600572535.\u001b[0m\n"
          ]
        },
        {
          "metadata": {
            "tags": null
          },
          "name": "stdout",
          "output_type": "stream",
          "text": [
            "cross-val accuracy: 0.74836\n",
            "cross-val f1 score: 0.7599\n"
          ]
        },
        {
          "metadata": {
            "tags": null
          },
          "name": "stderr",
          "output_type": "stream",
          "text": [
            "\u001b[32m[I 2021-12-03 03:20:33,407]\u001b[0m Trial 15 finished with value: 0.7486117324316278 and parameters: {'n_layers': 6, 'n_units_0': 43, 'n_units_1': 47, 'n_units_2': 71, 'n_units_3': 14, 'n_units_4': 34, 'n_units_5': 32, 'n_components': 29}. Best is trial 5 with value: 0.7601574600572535.\u001b[0m\n"
          ]
        },
        {
          "metadata": {
            "tags": null
          },
          "name": "stdout",
          "output_type": "stream",
          "text": [
            "cross-val accuracy: 0.73996\n",
            "cross-val f1 score: 0.75726\n"
          ]
        },
        {
          "metadata": {
            "tags": null
          },
          "name": "stderr",
          "output_type": "stream",
          "text": [
            "\u001b[32m[I 2021-12-03 03:21:08,769]\u001b[0m Trial 16 finished with value: 0.7547781171725956 and parameters: {'n_layers': 7, 'n_units_0': 89, 'n_units_1': 32, 'n_units_2': 87, 'n_units_3': 53, 'n_units_4': 86, 'n_units_5': 64, 'n_units_6': 73, 'n_components': 26}. Best is trial 5 with value: 0.7601574600572535.\u001b[0m\n"
          ]
        },
        {
          "metadata": {
            "tags": null
          },
          "name": "stdout",
          "output_type": "stream",
          "text": [
            "cross-val accuracy: 0.74814\n",
            "cross-val f1 score: 0.76142\n"
          ]
        },
        {
          "metadata": {
            "tags": null
          },
          "name": "stderr",
          "output_type": "stream",
          "text": [
            "\u001b[32m[I 2021-12-03 03:21:32,829]\u001b[0m Trial 17 finished with value: 0.7503089309661677 and parameters: {'n_layers': 5, 'n_units_0': 1, 'n_units_1': 89, 'n_units_2': 52, 'n_units_3': 43, 'n_units_4': 11, 'n_components': 30}. Best is trial 5 with value: 0.7601574600572535.\u001b[0m\n"
          ]
        },
        {
          "metadata": {
            "tags": null
          },
          "name": "stdout",
          "output_type": "stream",
          "text": [
            "cross-val accuracy: 0.7458\n",
            "cross-val f1 score: 0.75482\n"
          ]
        },
        {
          "metadata": {
            "tags": null
          },
          "name": "stderr",
          "output_type": "stream",
          "text": [
            "\u001b[32m[I 2021-12-03 03:21:50,356]\u001b[0m Trial 18 finished with value: 0.7502294803533092 and parameters: {'n_layers': 6, 'n_units_0': 70, 'n_units_1': 13, 'n_units_2': 68, 'n_units_3': 26, 'n_units_4': 47, 'n_units_5': 40, 'n_components': 27}. Best is trial 5 with value: 0.7601574600572535.\u001b[0m\n"
          ]
        },
        {
          "metadata": {
            "tags": null
          },
          "name": "stdout",
          "output_type": "stream",
          "text": [
            "cross-val accuracy: 0.7479\n",
            "cross-val f1 score: 0.75256\n"
          ]
        },
        {
          "metadata": {
            "tags": null
          },
          "name": "stderr",
          "output_type": "stream",
          "text": [
            "\u001b[32m[I 2021-12-03 03:22:06,666]\u001b[0m Trial 19 finished with value: 0.748560504911448 and parameters: {'n_layers': 7, 'n_units_0': 46, 'n_units_1': 54, 'n_units_2': 25, 'n_units_3': 3, 'n_units_4': 28, 'n_units_5': 21, 'n_units_6': 15, 'n_components': 28}. Best is trial 5 with value: 0.7601574600572535.\u001b[0m\n"
          ]
        },
        {
          "metadata": {
            "tags": null
          },
          "name": "stdout",
          "output_type": "stream",
          "text": [
            "cross-val accuracy: 0.74323\n",
            "cross-val f1 score: 0.75389\n"
          ]
        },
        {
          "metadata": {
            "tags": null
          },
          "name": "stderr",
          "output_type": "stream",
          "text": [
            "\u001b[32m[I 2021-12-03 03:22:41,385]\u001b[0m Trial 20 finished with value: 0.7587974780107842 and parameters: {'n_layers': 6, 'n_units_0': 84, 'n_units_1': 84, 'n_units_2': 90, 'n_units_3': 98, 'n_units_4': 74, 'n_units_5': 66, 'n_components': 26}. Best is trial 5 with value: 0.7601574600572535.\u001b[0m\n"
          ]
        },
        {
          "metadata": {
            "tags": null
          },
          "name": "stdout",
          "output_type": "stream",
          "text": [
            "cross-val accuracy: 0.74626\n",
            "cross-val f1 score: 0.77133\n"
          ]
        },
        {
          "metadata": {
            "tags": null
          },
          "name": "stderr",
          "output_type": "stream",
          "text": [
            "\u001b[32m[I 2021-12-03 03:23:17,177]\u001b[0m Trial 21 finished with value: 0.75133818632462 and parameters: {'n_layers': 6, 'n_units_0': 88, 'n_units_1': 80, 'n_units_2': 87, 'n_units_3': 94, 'n_units_4': 73, 'n_units_5': 68, 'n_components': 26}. Best is trial 5 with value: 0.7601574600572535.\u001b[0m\n"
          ]
        },
        {
          "metadata": {
            "tags": null
          },
          "name": "stdout",
          "output_type": "stream",
          "text": [
            "cross-val accuracy: 0.74977\n",
            "cross-val f1 score: 0.75291\n"
          ]
        },
        {
          "metadata": {
            "tags": null
          },
          "name": "stderr",
          "output_type": "stream",
          "text": [
            "\u001b[32m[I 2021-12-03 03:23:52,088]\u001b[0m Trial 22 finished with value: 0.7579444423788924 and parameters: {'n_layers': 6, 'n_units_0': 74, 'n_units_1': 88, 'n_units_2': 93, 'n_units_3': 53, 'n_units_4': 98, 'n_units_5': 55, 'n_components': 27}. Best is trial 5 with value: 0.7601574600572535.\u001b[0m\n"
          ]
        },
        {
          "metadata": {
            "tags": null
          },
          "name": "stdout",
          "output_type": "stream",
          "text": [
            "cross-val accuracy: 0.7486\n",
            "cross-val f1 score: 0.76729\n"
          ]
        },
        {
          "metadata": {
            "tags": null
          },
          "name": "stderr",
          "output_type": "stream",
          "text": [
            "\u001b[32m[I 2021-12-03 03:24:22,894]\u001b[0m Trial 23 finished with value: 0.748612848145791 and parameters: {'n_layers': 6, 'n_units_0': 89, 'n_units_1': 67, 'n_units_2': 85, 'n_units_3': 82, 'n_units_4': 80, 'n_units_5': 75, 'n_components': 25}. Best is trial 5 with value: 0.7601574600572535.\u001b[0m\n"
          ]
        },
        {
          "metadata": {
            "tags": null
          },
          "name": "stdout",
          "output_type": "stream",
          "text": [
            "cross-val accuracy: 0.74533\n",
            "cross-val f1 score: 0.75189\n"
          ]
        },
        {
          "metadata": {
            "tags": null
          },
          "name": "stderr",
          "output_type": "stream",
          "text": [
            "\u001b[32m[I 2021-12-03 03:24:47,776]\u001b[0m Trial 24 finished with value: 0.751732397734227 and parameters: {'n_layers': 7, 'n_units_0': 95, 'n_units_1': 88, 'n_units_2': 67, 'n_units_3': 33, 'n_units_4': 12, 'n_units_5': 41, 'n_units_6': 84, 'n_components': 26}. Best is trial 5 with value: 0.7601574600572535.\u001b[0m\n"
          ]
        },
        {
          "metadata": {
            "tags": null
          },
          "name": "stdout",
          "output_type": "stream",
          "text": [
            "cross-val accuracy: 0.74533\n",
            "cross-val f1 score: 0.75813\n"
          ]
        },
        {
          "metadata": {
            "tags": null
          },
          "name": "stderr",
          "output_type": "stream",
          "text": [
            "\u001b[32m[I 2021-12-03 03:25:18,769]\u001b[0m Trial 25 finished with value: 0.7509300667330532 and parameters: {'n_layers': 5, 'n_units_0': 82, 'n_units_1': 79, 'n_units_2': 100, 'n_units_3': 86, 'n_units_4': 45, 'n_components': 28}. Best is trial 5 with value: 0.7601574600572535.\u001b[0m\n"
          ]
        },
        {
          "metadata": {
            "tags": null
          },
          "name": "stdout",
          "output_type": "stream",
          "text": [
            "cross-val accuracy: 0.7521\n",
            "cross-val f1 score: 0.74976\n"
          ]
        },
        {
          "metadata": {
            "tags": null
          },
          "name": "stderr",
          "output_type": "stream",
          "text": [
            "\u001b[32m[I 2021-12-03 03:25:51,864]\u001b[0m Trial 26 finished with value: 0.7462575806605414 and parameters: {'n_layers': 7, 'n_units_0': 68, 'n_units_1': 35, 'n_units_2': 75, 'n_units_3': 60, 'n_units_4': 86, 'n_units_5': 59, 'n_units_6': 50, 'n_components': 27}. Best is trial 5 with value: 0.7601574600572535.\u001b[0m\n"
          ]
        },
        {
          "metadata": {
            "tags": null
          },
          "name": "stdout",
          "output_type": "stream",
          "text": [
            "cross-val accuracy: 0.7465\n",
            "cross-val f1 score: 0.74602\n"
          ]
        },
        {
          "metadata": {
            "tags": null
          },
          "name": "stderr",
          "output_type": "stream",
          "text": [
            "\u001b[32m[I 2021-12-03 03:26:13,875]\u001b[0m Trial 27 finished with value: 0.7492460736762161 and parameters: {'n_layers': 6, 'n_units_0': 57, 'n_units_1': 54, 'n_units_2': 92, 'n_units_3': 46, 'n_units_4': 58, 'n_units_5': 45, 'n_components': 29}. Best is trial 5 with value: 0.7601574600572535.\u001b[0m\n"
          ]
        },
        {
          "metadata": {
            "tags": null
          },
          "name": "stdout",
          "output_type": "stream",
          "text": [
            "cross-val accuracy: 0.74697\n",
            "cross-val f1 score: 0.75153\n"
          ]
        },
        {
          "metadata": {
            "tags": null
          },
          "name": "stderr",
          "output_type": "stream",
          "text": [
            "\u001b[32m[I 2021-12-03 03:26:36,849]\u001b[0m Trial 28 finished with value: 0.7485934928246901 and parameters: {'n_layers': 7, 'n_units_0': 39, 'n_units_1': 64, 'n_units_2': 54, 'n_units_3': 19, 'n_units_4': 71, 'n_units_5': 89, 'n_units_6': 3, 'n_components': 26}. Best is trial 5 with value: 0.7601574600572535.\u001b[0m\n"
          ]
        },
        {
          "metadata": {
            "tags": null
          },
          "name": "stdout",
          "output_type": "stream",
          "text": [
            "cross-val accuracy: 0.74463\n",
            "cross-val f1 score: 0.75255\n"
          ]
        },
        {
          "metadata": {
            "tags": null
          },
          "name": "stderr",
          "output_type": "stream",
          "text": [
            "\u001b[32m[I 2021-12-03 03:26:55,787]\u001b[0m Trial 29 finished with value: 0.7484674624514893 and parameters: {'n_layers': 5, 'n_units_0': 94, 'n_units_1': 90, 'n_units_2': 63, 'n_units_3': 38, 'n_units_4': 5, 'n_components': 27}. Best is trial 5 with value: 0.7601574600572535.\u001b[0m\n"
          ]
        },
        {
          "metadata": {
            "tags": null
          },
          "name": "stdout",
          "output_type": "stream",
          "text": [
            "cross-val accuracy: 0.74883\n",
            "cross-val f1 score: 0.7481\n"
          ]
        },
        {
          "metadata": {
            "tags": null
          },
          "name": "stderr",
          "output_type": "stream",
          "text": [
            "\u001b[32m[I 2021-12-03 03:27:19,265]\u001b[0m Trial 30 finished with value: 0.7568536761938436 and parameters: {'n_layers': 6, 'n_units_0': 82, 'n_units_1': 78, 'n_units_2': 80, 'n_units_3': 34, 'n_units_4': 29, 'n_units_5': 72, 'n_components': 28}. Best is trial 5 with value: 0.7601574600572535.\u001b[0m\n"
          ]
        },
        {
          "metadata": {
            "tags": null
          },
          "name": "stdout",
          "output_type": "stream",
          "text": [
            "cross-val accuracy: 0.74837\n",
            "cross-val f1 score: 0.76534\n"
          ]
        },
        {
          "metadata": {
            "tags": null
          },
          "name": "stderr",
          "output_type": "stream",
          "text": [
            "\u001b[32m[I 2021-12-03 03:27:54,448]\u001b[0m Trial 31 finished with value: 0.7519248429983142 and parameters: {'n_layers': 6, 'n_units_0': 75, 'n_units_1': 85, 'n_units_2': 91, 'n_units_3': 47, 'n_units_4': 98, 'n_units_5': 58, 'n_components': 27}. Best is trial 5 with value: 0.7601574600572535.\u001b[0m\n"
          ]
        },
        {
          "metadata": {
            "tags": null
          },
          "name": "stdout",
          "output_type": "stream",
          "text": [
            "cross-val accuracy: 0.7493\n",
            "cross-val f1 score: 0.75455\n"
          ]
        },
        {
          "metadata": {
            "tags": null
          },
          "name": "stderr",
          "output_type": "stream",
          "text": [
            "\u001b[32m[I 2021-12-03 03:28:33,334]\u001b[0m Trial 32 finished with value: 0.757690162147014 and parameters: {'n_layers': 6, 'n_units_0': 72, 'n_units_1': 94, 'n_units_2': 96, 'n_units_3': 100, 'n_units_4': 90, 'n_units_5': 57, 'n_components': 27}. Best is trial 5 with value: 0.7601574600572535.\u001b[0m\n"
          ]
        },
        {
          "metadata": {
            "tags": null
          },
          "name": "stdout",
          "output_type": "stream",
          "text": [
            "cross-val accuracy: 0.7493\n",
            "cross-val f1 score: 0.76608\n"
          ]
        },
        {
          "metadata": {
            "tags": null
          },
          "name": "stderr",
          "output_type": "stream",
          "text": [
            "\u001b[32m[I 2021-12-03 03:28:58,122]\u001b[0m Trial 33 finished with value: 0.7550516655697579 and parameters: {'n_layers': 6, 'n_units_0': 79, 'n_units_1': 72, 'n_units_2': 84, 'n_units_3': 57, 'n_units_4': 78, 'n_units_5': 25, 'n_components': 27}. Best is trial 5 with value: 0.7601574600572535.\u001b[0m\n"
          ]
        },
        {
          "metadata": {
            "tags": null
          },
          "name": "stdout",
          "output_type": "stream",
          "text": [
            "cross-val accuracy: 0.74907\n",
            "cross-val f1 score: 0.76104\n"
          ]
        },
        {
          "metadata": {
            "tags": null
          },
          "name": "stderr",
          "output_type": "stream",
          "text": [
            "\u001b[32m[I 2021-12-03 03:29:25,457]\u001b[0m Trial 34 finished with value: 0.7498153419320961 and parameters: {'n_layers': 6, 'n_units_0': 85, 'n_units_1': 62, 'n_units_2': 73, 'n_units_3': 89, 'n_units_4': 100, 'n_units_5': 41, 'n_components': 26}. Best is trial 5 with value: 0.7601574600572535.\u001b[0m\n"
          ]
        },
        {
          "metadata": {
            "tags": null
          },
          "name": "stdout",
          "output_type": "stream",
          "text": [
            "cross-val accuracy: 0.73833\n",
            "cross-val f1 score: 0.7613\n"
          ]
        },
        {
          "metadata": {
            "tags": null
          },
          "name": "stderr",
          "output_type": "stream",
          "text": [
            "\u001b[32m[I 2021-12-03 03:30:01,492]\u001b[0m Trial 35 finished with value: 0.7554510797362802 and parameters: {'n_layers': 6, 'n_units_0': 92, 'n_units_1': 100, 'n_units_2': 91, 'n_units_3': 69, 'n_units_4': 56, 'n_units_5': 52, 'n_components': 27}. Best is trial 5 with value: 0.7601574600572535.\u001b[0m\n"
          ]
        },
        {
          "metadata": {
            "tags": null
          },
          "name": "stdout",
          "output_type": "stream",
          "text": [
            "cross-val accuracy: 0.74533\n",
            "cross-val f1 score: 0.76557\n"
          ]
        },
        {
          "metadata": {
            "tags": null
          },
          "name": "stderr",
          "output_type": "stream",
          "text": [
            "\u001b[32m[I 2021-12-03 03:30:35,031]\u001b[0m Trial 36 finished with value: 0.7551151368491797 and parameters: {'n_layers': 7, 'n_units_0': 64, 'n_units_1': 86, 'n_units_2': 78, 'n_units_3': 53, 'n_units_4': 92, 'n_units_5': 44, 'n_units_6': 57, 'n_components': 25}. Best is trial 5 with value: 0.7601574600572535.\u001b[0m\n"
          ]
        },
        {
          "metadata": {
            "tags": null
          },
          "name": "stdout",
          "output_type": "stream",
          "text": [
            "cross-val accuracy: 0.743\n",
            "cross-val f1 score: 0.76723\n"
          ]
        },
        {
          "metadata": {
            "tags": null
          },
          "name": "stderr",
          "output_type": "stream",
          "text": [
            "\u001b[32m[I 2021-12-03 03:31:06,369]\u001b[0m Trial 37 finished with value: 0.754570721686395 and parameters: {'n_layers': 6, 'n_units_0': 73, 'n_units_1': 93, 'n_units_2': 65, 'n_units_3': 40, 'n_units_4': 64, 'n_units_5': 35, 'n_components': 28}. Best is trial 5 with value: 0.7601574600572535.\u001b[0m\n"
          ]
        },
        {
          "metadata": {
            "tags": null
          },
          "name": "stdout",
          "output_type": "stream",
          "text": [
            "cross-val accuracy: 0.74416\n",
            "cross-val f1 score: 0.76498\n"
          ]
        },
        {
          "metadata": {
            "tags": null
          },
          "name": "stderr",
          "output_type": "stream",
          "text": [
            "\u001b[32m[I 2021-12-03 03:31:27,975]\u001b[0m Trial 38 finished with value: 0.7561166395985266 and parameters: {'n_layers': 5, 'n_units_0': 79, 'n_units_1': 76, 'n_units_2': 85, 'n_units_3': 10, 'n_units_4': 17, 'n_components': 27}. Best is trial 5 with value: 0.7601574600572535.\u001b[0m\n"
          ]
        },
        {
          "metadata": {
            "tags": null
          },
          "name": "stdout",
          "output_type": "stream",
          "text": [
            "cross-val accuracy: 0.7507\n",
            "cross-val f1 score: 0.76153\n"
          ]
        },
        {
          "metadata": {
            "tags": null
          },
          "name": "stderr",
          "output_type": "stream",
          "text": [
            "\u001b[32m[I 2021-12-03 03:31:55,842]\u001b[0m Trial 39 finished with value: 0.7543602475671463 and parameters: {'n_layers': 7, 'n_units_0': 85, 'n_units_1': 69, 'n_units_2': 44, 'n_units_3': 66, 'n_units_4': 43, 'n_units_5': 48, 'n_units_6': 85, 'n_components': 26}. Best is trial 5 with value: 0.7601574600572535.\u001b[0m\n"
          ]
        },
        {
          "metadata": {
            "tags": null
          },
          "name": "stdout",
          "output_type": "stream",
          "text": [
            "cross-val accuracy: 0.74206\n",
            "cross-val f1 score: 0.76666\n"
          ]
        },
        {
          "metadata": {
            "tags": null
          },
          "name": "stderr",
          "output_type": "stream",
          "text": [
            "\u001b[32m[I 2021-12-03 03:32:18,003]\u001b[0m Trial 40 finished with value: 0.7516366448593632 and parameters: {'n_layers': 6, 'n_units_0': 52, 'n_units_1': 83, 'n_units_2': 55, 'n_units_3': 77, 'n_units_4': 53, 'n_units_5': 4, 'n_components': 25}. Best is trial 5 with value: 0.7601574600572535.\u001b[0m\n"
          ]
        },
        {
          "metadata": {
            "tags": null
          },
          "name": "stdout",
          "output_type": "stream",
          "text": [
            "cross-val accuracy: 0.75023\n",
            "cross-val f1 score: 0.75304\n"
          ]
        },
        {
          "metadata": {
            "tags": null
          },
          "name": "stderr",
          "output_type": "stream",
          "text": [
            "\u001b[32m[I 2021-12-03 03:32:42,593]\u001b[0m Trial 41 finished with value: 0.7518045554196946 and parameters: {'n_layers': 7, 'n_units_0': 10, 'n_units_1': 74, 'n_units_2': 75, 'n_units_3': 25, 'n_units_4': 65, 'n_units_5': 31, 'n_units_6': 39, 'n_components': 30}. Best is trial 5 with value: 0.7601574600572535.\u001b[0m\n"
          ]
        },
        {
          "metadata": {
            "tags": null
          },
          "name": "stdout",
          "output_type": "stream",
          "text": [
            "cross-val accuracy: 0.743\n",
            "cross-val f1 score: 0.76061\n"
          ]
        },
        {
          "metadata": {
            "tags": null
          },
          "name": "stderr",
          "output_type": "stream",
          "text": [
            "\u001b[32m[I 2021-12-03 03:33:09,078]\u001b[0m Trial 42 finished with value: 0.7528836731785594 and parameters: {'n_layers': 7, 'n_units_0': 30, 'n_units_1': 82, 'n_units_2': 81, 'n_units_3': 9, 'n_units_4': 62, 'n_units_5': 54, 'n_units_6': 34, 'n_components': 30}. Best is trial 5 with value: 0.7601574600572535.\u001b[0m\n"
          ]
        },
        {
          "metadata": {
            "tags": null
          },
          "name": "stdout",
          "output_type": "stream",
          "text": [
            "cross-val accuracy: 0.74533\n",
            "cross-val f1 score: 0.76044\n"
          ]
        },
        {
          "metadata": {
            "tags": null
          },
          "name": "stderr",
          "output_type": "stream",
          "text": [
            "\u001b[32m[I 2021-12-03 03:33:42,948]\u001b[0m Trial 43 finished with value: 0.756002387763699 and parameters: {'n_layers': 7, 'n_units_0': 96, 'n_units_1': 70, 'n_units_2': 96, 'n_units_3': 20, 'n_units_4': 72, 'n_units_5': 26, 'n_units_6': 55, 'n_components': 29}. Best is trial 5 with value: 0.7601574600572535.\u001b[0m\n"
          ]
        },
        {
          "metadata": {
            "tags": null
          },
          "name": "stdout",
          "output_type": "stream",
          "text": [
            "cross-val accuracy: 0.75\n",
            "cross-val f1 score: 0.762\n"
          ]
        },
        {
          "metadata": {
            "tags": null
          },
          "name": "stderr",
          "output_type": "stream",
          "text": [
            "\u001b[32m[I 2021-12-03 03:34:02,580]\u001b[0m Trial 44 finished with value: 0.7554731893385891 and parameters: {'n_layers': 7, 'n_units_0': 26, 'n_units_1': 19, 'n_units_2': 70, 'n_units_3': 30, 'n_units_4': 82, 'n_units_5': 13, 'n_units_6': 26, 'n_components': 30}. Best is trial 5 with value: 0.7601574600572535.\u001b[0m\n"
          ]
        },
        {
          "metadata": {
            "tags": null
          },
          "name": "stdout",
          "output_type": "stream",
          "text": [
            "cross-val accuracy: 0.74533\n",
            "cross-val f1 score: 0.76561\n"
          ]
        },
        {
          "metadata": {
            "tags": null
          },
          "name": "stderr",
          "output_type": "stream",
          "text": [
            "\u001b[32m[I 2021-12-03 03:34:26,677]\u001b[0m Trial 45 finished with value: 0.7484976596870446 and parameters: {'n_layers': 7, 'n_units_0': 17, 'n_units_1': 42, 'n_units_2': 59, 'n_units_3': 18, 'n_units_4': 76, 'n_units_5': 37, 'n_units_6': 49, 'n_components': 29}. Best is trial 5 with value: 0.7601574600572535.\u001b[0m\n"
          ]
        },
        {
          "metadata": {
            "tags": null
          },
          "name": "stdout",
          "output_type": "stream",
          "text": [
            "cross-val accuracy: 0.74767\n",
            "cross-val f1 score: 0.74933\n"
          ]
        },
        {
          "metadata": {
            "tags": null
          },
          "name": "stderr",
          "output_type": "stream",
          "text": [
            "\u001b[32m[I 2021-12-03 03:34:49,757]\u001b[0m Trial 46 finished with value: 0.7452060904017824 and parameters: {'n_layers': 7, 'n_units_0': 36, 'n_units_1': 4, 'n_units_2': 90, 'n_units_3': 57, 'n_units_4': 19, 'n_units_5': 47, 'n_units_6': 87, 'n_components': 28}. Best is trial 5 with value: 0.7601574600572535.\u001b[0m\n"
          ]
        },
        {
          "metadata": {
            "tags": null
          },
          "name": "stdout",
          "output_type": "stream",
          "text": [
            "cross-val accuracy: 0.74487\n",
            "cross-val f1 score: 0.74555\n"
          ]
        },
        {
          "metadata": {
            "tags": null
          },
          "name": "stderr",
          "output_type": "stream",
          "text": [
            "\u001b[32m[I 2021-12-03 03:35:24,509]\u001b[0m Trial 47 finished with value: 0.757302381909919 and parameters: {'n_layers': 7, 'n_units_0': 63, 'n_units_1': 94, 'n_units_2': 77, 'n_units_3': 43, 'n_units_4': 41, 'n_units_5': 60, 'n_units_6': 63, 'n_components': 27}. Best is trial 5 with value: 0.7601574600572535.\u001b[0m\n"
          ]
        },
        {
          "metadata": {
            "tags": null
          },
          "name": "stdout",
          "output_type": "stream",
          "text": [
            "cross-val accuracy: 0.75397\n",
            "cross-val f1 score: 0.76064\n"
          ]
        },
        {
          "metadata": {
            "tags": null
          },
          "name": "stderr",
          "output_type": "stream",
          "text": [
            "\u001b[32m[I 2021-12-03 03:35:52,032]\u001b[0m Trial 48 finished with value: 0.7563423679884698 and parameters: {'n_layers': 6, 'n_units_0': 76, 'n_units_1': 59, 'n_units_2': 82, 'n_units_3': 72, 'n_units_4': 50, 'n_units_5': 65, 'n_components': 26}. Best is trial 5 with value: 0.7601574600572535.\u001b[0m\n"
          ]
        },
        {
          "metadata": {
            "tags": null
          },
          "name": "stdout",
          "output_type": "stream",
          "text": [
            "cross-val accuracy: 0.75163\n",
            "cross-val f1 score: 0.76105\n"
          ]
        },
        {
          "metadata": {
            "tags": null
          },
          "name": "stderr",
          "output_type": "stream",
          "text": [
            "\u001b[32m[I 2021-12-03 03:36:15,265]\u001b[0m Trial 49 finished with value: 0.7548579403336312 and parameters: {'n_layers': 7, 'n_units_0': 58, 'n_units_1': 48, 'n_units_2': 7, 'n_units_3': 30, 'n_units_4': 69, 'n_units_5': 29, 'n_units_6': 26, 'n_components': 29}. Best is trial 5 with value: 0.7601574600572535.\u001b[0m\n"
          ]
        },
        {
          "metadata": {
            "tags": null
          },
          "name": "stdout",
          "output_type": "stream",
          "text": [
            "cross-val accuracy: 0.7465\n",
            "cross-val f1 score: 0.76322\n"
          ]
        },
        {
          "metadata": {
            "tags": null
          },
          "name": "stderr",
          "output_type": "stream",
          "text": [
            "\u001b[32m[I 2021-12-03 03:36:42,324]\u001b[0m Trial 50 finished with value: 0.7529701215938138 and parameters: {'n_layers': 7, 'n_units_0': 69, 'n_units_1': 26, 'n_units_2': 97, 'n_units_3': 5, 'n_units_4': 30, 'n_units_5': 52, 'n_units_6': 46, 'n_components': 28}. Best is trial 5 with value: 0.7601574600572535.\u001b[0m\n"
          ]
        },
        {
          "metadata": {
            "tags": null
          },
          "name": "stdout",
          "output_type": "stream",
          "text": [
            "cross-val accuracy: 0.73716\n",
            "cross-val f1 score: 0.76878\n"
          ]
        },
        {
          "metadata": {
            "tags": null
          },
          "name": "stderr",
          "output_type": "stream",
          "text": [
            "\u001b[32m[I 2021-12-03 03:37:17,852]\u001b[0m Trial 51 finished with value: 0.7520772021071658 and parameters: {'n_layers': 6, 'n_units_0': 73, 'n_units_1': 94, 'n_units_2': 88, 'n_units_3': 99, 'n_units_4': 93, 'n_units_5': 71, 'n_components': 27}. Best is trial 5 with value: 0.7601574600572535.\u001b[0m\n"
          ]
        },
        {
          "metadata": {
            "tags": null
          },
          "name": "stdout",
          "output_type": "stream",
          "text": [
            "cross-val accuracy: 0.74977\n",
            "cross-val f1 score: 0.75439\n"
          ]
        },
        {
          "metadata": {
            "tags": null
          },
          "name": "stderr",
          "output_type": "stream",
          "text": [
            "\u001b[32m[I 2021-12-03 03:37:56,241]\u001b[0m Trial 52 finished with value: 0.7501271639925567 and parameters: {'n_layers': 6, 'n_units_0': 88, 'n_units_1': 97, 'n_units_2': 97, 'n_units_3': 94, 'n_units_4': 89, 'n_units_5': 59, 'n_components': 27}. Best is trial 5 with value: 0.7601574600572535.\u001b[0m\n"
          ]
        },
        {
          "metadata": {
            "tags": null
          },
          "name": "stdout",
          "output_type": "stream",
          "text": [
            "cross-val accuracy: 0.73833\n",
            "cross-val f1 score: 0.76192\n"
          ]
        },
        {
          "metadata": {
            "tags": null
          },
          "name": "stderr",
          "output_type": "stream",
          "text": [
            "\u001b[32m[I 2021-12-03 03:38:31,361]\u001b[0m Trial 53 finished with value: 0.7550393014751114 and parameters: {'n_layers': 6, 'n_units_0': 80, 'n_units_1': 92, 'n_units_2': 94, 'n_units_3': 99, 'n_units_4': 85, 'n_units_5': 55, 'n_components': 26}. Best is trial 5 with value: 0.7601574600572535.\u001b[0m\n"
          ]
        },
        {
          "metadata": {
            "tags": null
          },
          "name": "stdout",
          "output_type": "stream",
          "text": [
            "cross-val accuracy: 0.74906\n",
            "cross-val f1 score: 0.76102\n"
          ]
        },
        {
          "metadata": {
            "tags": null
          },
          "name": "stderr",
          "output_type": "stream",
          "text": [
            "\u001b[32m[I 2021-12-03 03:39:07,831]\u001b[0m Trial 54 finished with value: 0.7536294634558631 and parameters: {'n_layers': 6, 'n_units_0': 100, 'n_units_1': 86, 'n_units_2': 88, 'n_units_3': 90, 'n_units_4': 97, 'n_units_5': 50, 'n_components': 27}. Best is trial 5 with value: 0.7601574600572535.\u001b[0m\n"
          ]
        },
        {
          "metadata": {
            "tags": null
          },
          "name": "stdout",
          "output_type": "stream",
          "text": [
            "cross-val accuracy: 0.7458\n",
            "cross-val f1 score: 0.76146\n"
          ]
        },
        {
          "metadata": {
            "tags": null
          },
          "name": "stderr",
          "output_type": "stream",
          "text": [
            "\u001b[32m[I 2021-12-03 03:39:28,460]\u001b[0m Trial 55 finished with value: 0.7523335394592655 and parameters: {'n_layers': 6, 'n_units_0': 85, 'n_units_1': 81, 'n_units_2': 99, 'n_units_3': 35, 'n_units_4': 8, 'n_units_5': 64, 'n_components': 27}. Best is trial 5 with value: 0.7601574600572535.\u001b[0m\n"
          ]
        },
        {
          "metadata": {
            "tags": null
          },
          "name": "stdout",
          "output_type": "stream",
          "text": [
            "cross-val accuracy: 0.75187\n",
            "cross-val f1 score: 0.7528\n"
          ]
        },
        {
          "metadata": {
            "tags": null
          },
          "name": "stderr",
          "output_type": "stream",
          "text": [
            "\u001b[32m[I 2021-12-03 03:39:55,827]\u001b[0m Trial 56 finished with value: 0.7569263186381147 and parameters: {'n_layers': 6, 'n_units_0': 71, 'n_units_1': 74, 'n_units_2': 93, 'n_units_3': 83, 'n_units_4': 24, 'n_units_5': 79, 'n_components': 28}. Best is trial 5 with value: 0.7601574600572535.\u001b[0m\n"
          ]
        },
        {
          "metadata": {
            "tags": null
          },
          "name": "stdout",
          "output_type": "stream",
          "text": [
            "cross-val accuracy: 0.75\n",
            "cross-val f1 score: 0.76385\n"
          ]
        },
        {
          "metadata": {
            "tags": null
          },
          "name": "stderr",
          "output_type": "stream",
          "text": [
            "\u001b[32m[I 2021-12-03 03:40:28,896]\u001b[0m Trial 57 finished with value: 0.7506903125337351 and parameters: {'n_layers': 6, 'n_units_0': 90, 'n_units_1': 90, 'n_units_2': 71, 'n_units_3': 47, 'n_units_4': 90, 'n_units_5': 39, 'n_components': 25}. Best is trial 5 with value: 0.7601574600572535.\u001b[0m\n"
          ]
        },
        {
          "metadata": {
            "tags": null
          },
          "name": "stdout",
          "output_type": "stream",
          "text": [
            "cross-val accuracy: 0.7472\n",
            "cross-val f1 score: 0.75418\n"
          ]
        },
        {
          "metadata": {
            "tags": null
          },
          "name": "stderr",
          "output_type": "stream",
          "text": [
            "\u001b[32m[I 2021-12-03 03:40:48,850]\u001b[0m Trial 58 finished with value: 0.747668364500337 and parameters: {'n_layers': 5, 'n_units_0': 66, 'n_units_1': 66, 'n_units_2': 83, 'n_units_3': 14, 'n_units_4': 15, 'n_components': 26}. Best is trial 5 with value: 0.7601574600572535.\u001b[0m\n"
          ]
        },
        {
          "metadata": {
            "tags": null
          },
          "name": "stdout",
          "output_type": "stream",
          "text": [
            "cross-val accuracy: 0.73949\n",
            "cross-val f1 score: 0.75585\n"
          ]
        },
        {
          "metadata": {
            "tags": null
          },
          "name": "stderr",
          "output_type": "stream",
          "text": [
            "\u001b[32m[I 2021-12-03 03:41:23,680]\u001b[0m Trial 59 finished with value: 0.7468526738247139 and parameters: {'n_layers': 7, 'n_units_0': 46, 'n_units_1': 97, 'n_units_2': 48, 'n_units_3': 78, 'n_units_4': 60, 'n_units_5': 44, 'n_units_6': 76, 'n_components': 28}. Best is trial 5 with value: 0.7601574600572535.\u001b[0m\n"
          ]
        },
        {
          "metadata": {
            "tags": null
          },
          "name": "stdout",
          "output_type": "stream",
          "text": [
            "cross-val accuracy: 0.7423\n",
            "cross-val f1 score: 0.75141\n"
          ]
        },
        {
          "metadata": {
            "tags": null
          },
          "name": "stderr",
          "output_type": "stream",
          "text": [
            "\u001b[32m[I 2021-12-03 03:41:44,976]\u001b[0m Trial 60 finished with value: 0.7475041813523396 and parameters: {'n_layers': 6, 'n_units_0': 5, 'n_units_1': 77, 'n_units_2': 33, 'n_units_3': 91, 'n_units_4': 2, 'n_units_5': 56, 'n_components': 26}. Best is trial 5 with value: 0.7601574600572535.\u001b[0m\n"
          ]
        },
        {
          "metadata": {
            "tags": null
          },
          "name": "stdout",
          "output_type": "stream",
          "text": [
            "cross-val accuracy: 0.73763\n",
            "cross-val f1 score: 0.75738\n"
          ]
        },
        {
          "metadata": {
            "tags": null
          },
          "name": "stderr",
          "output_type": "stream",
          "text": [
            "\u001b[32m[I 2021-12-03 03:42:12,358]\u001b[0m Trial 61 finished with value: 0.7544831215405181 and parameters: {'n_layers': 7, 'n_units_0': 62, 'n_units_1': 16, 'n_units_2': 100, 'n_units_3': 30, 'n_units_4': 2, 'n_units_5': 83, 'n_units_6': 98, 'n_components': 28}. Best is trial 5 with value: 0.7601574600572535.\u001b[0m\n"
          ]
        },
        {
          "metadata": {
            "tags": null
          },
          "name": "stdout",
          "output_type": "stream",
          "text": [
            "cross-val accuracy: 0.7472\n",
            "cross-val f1 score: 0.76177\n"
          ]
        },
        {
          "metadata": {
            "tags": null
          },
          "name": "stderr",
          "output_type": "stream",
          "text": [
            "\u001b[32m[I 2021-12-03 03:42:35,834]\u001b[0m Trial 62 finished with value: 0.7532485634221567 and parameters: {'n_layers': 7, 'n_units_0': 59, 'n_units_1': 30, 'n_units_2': 93, 'n_units_3': 23, 'n_units_4': 7, 'n_units_5': 90, 'n_units_6': 92, 'n_components': 27}. Best is trial 5 with value: 0.7601574600572535.\u001b[0m\n"
          ]
        },
        {
          "metadata": {
            "tags": null
          },
          "name": "stdout",
          "output_type": "stream",
          "text": [
            "cross-val accuracy: 0.7472\n",
            "cross-val f1 score: 0.7593\n"
          ]
        },
        {
          "metadata": {
            "tags": null
          },
          "name": "stderr",
          "output_type": "stream",
          "text": [
            "\u001b[32m[I 2021-12-03 03:43:02,094]\u001b[0m Trial 63 finished with value: 0.7564307828489145 and parameters: {'n_layers': 7, 'n_units_0': 54, 'n_units_1': 26, 'n_units_2': 88, 'n_units_3': 37, 'n_units_4': 12, 'n_units_5': 77, 'n_units_6': 93, 'n_components': 28}. Best is trial 5 with value: 0.7601574600572535.\u001b[0m\n"
          ]
        },
        {
          "metadata": {
            "tags": null
          },
          "name": "stdout",
          "output_type": "stream",
          "text": [
            "cross-val accuracy: 0.7493\n",
            "cross-val f1 score: 0.76356\n"
          ]
        },
        {
          "metadata": {
            "tags": null
          },
          "name": "stderr",
          "output_type": "stream",
          "text": [
            "\u001b[32m[I 2021-12-03 03:43:44,049]\u001b[0m Trial 64 finished with value: 0.7545433738079708 and parameters: {'n_layers': 7, 'n_units_0': 82, 'n_units_1': 8, 'n_units_2': 97, 'n_units_3': 42, 'n_units_4': 96, 'n_units_5': 97, 'n_units_6': 79, 'n_components': 27}. Best is trial 5 with value: 0.7601574600572535.\u001b[0m\n"
          ]
        },
        {
          "metadata": {
            "tags": null
          },
          "name": "stdout",
          "output_type": "stream",
          "text": [
            "cross-val accuracy: 0.74043\n",
            "cross-val f1 score: 0.76866\n"
          ]
        },
        {
          "metadata": {
            "tags": null
          },
          "name": "stderr",
          "output_type": "stream",
          "text": [
            "\u001b[32m[I 2021-12-03 03:44:26,194]\u001b[0m Trial 65 finished with value: 0.753100590833947 and parameters: {'n_layers': 7, 'n_units_0': 76, 'n_units_1': 88, 'n_units_2': 85, 'n_units_3': 50, 'n_units_4': 68, 'n_units_5': 68, 'n_units_6': 41, 'n_components': 29}. Best is trial 5 with value: 0.7601574600572535.\u001b[0m\n"
          ]
        },
        {
          "metadata": {
            "tags": null
          },
          "name": "stdout",
          "output_type": "stream",
          "text": [
            "cross-val accuracy: 0.75093\n",
            "cross-val f1 score: 0.75527\n"
          ]
        },
        {
          "metadata": {
            "tags": null
          },
          "name": "stderr",
          "output_type": "stream",
          "text": [
            "\u001b[32m[I 2021-12-03 03:44:54,123]\u001b[0m Trial 66 finished with value: 0.7484787520683627 and parameters: {'n_layers': 6, 'n_units_0': 67, 'n_units_1': 34, 'n_units_2': 74, 'n_units_3': 97, 'n_units_4': 83, 'n_units_5': 18, 'n_components': 28}. Best is trial 5 with value: 0.7601574600572535.\u001b[0m\n"
          ]
        },
        {
          "metadata": {
            "tags": null
          },
          "name": "stdout",
          "output_type": "stream",
          "text": [
            "cross-val accuracy: 0.74113\n",
            "cross-val f1 score: 0.75583\n"
          ]
        },
        {
          "metadata": {
            "tags": null
          },
          "name": "stderr",
          "output_type": "stream",
          "text": [
            "\u001b[32m[I 2021-12-03 03:45:14,349]\u001b[0m Trial 67 finished with value: 0.7586018096675491 and parameters: {'n_layers': 7, 'n_units_0': 74, 'n_units_1': 40, 'n_units_2': 78, 'n_units_3': 29, 'n_units_4': 23, 'n_units_5': 62, 'n_units_6': 63, 'n_components': 27}. Best is trial 5 with value: 0.7601574600572535.\u001b[0m\n"
          ]
        },
        {
          "metadata": {
            "tags": null
          },
          "name": "stdout",
          "output_type": "stream",
          "text": [
            "cross-val accuracy: 0.7507\n",
            "cross-val f1 score: 0.7665\n"
          ]
        },
        {
          "metadata": {
            "tags": null
          },
          "name": "stderr",
          "output_type": "stream",
          "text": [
            "\u001b[32m[I 2021-12-03 03:45:36,667]\u001b[0m Trial 68 finished with value: 0.7536911447544428 and parameters: {'n_layers': 6, 'n_units_0': 93, 'n_units_1': 54, 'n_units_2': 78, 'n_units_3': 22, 'n_units_4': 35, 'n_units_5': 61, 'n_components': 27}. Best is trial 5 with value: 0.7601574600572535.\u001b[0m\n"
          ]
        },
        {
          "metadata": {
            "tags": null
          },
          "name": "stdout",
          "output_type": "stream",
          "text": [
            "cross-val accuracy: 0.74906\n",
            "cross-val f1 score: 0.75832\n"
          ]
        },
        {
          "metadata": {
            "tags": null
          },
          "name": "stderr",
          "output_type": "stream",
          "text": [
            "\u001b[32m[I 2021-12-03 03:46:05,077]\u001b[0m Trial 69 finished with value: 0.7602089036742379 and parameters: {'n_layers': 7, 'n_units_0': 86, 'n_units_1': 84, 'n_units_2': 63, 'n_units_3': 27, 'n_units_4': 22, 'n_units_5': 48, 'n_units_6': 58, 'n_components': 27}. Best is trial 69 with value: 0.7602089036742379.\u001b[0m\n"
          ]
        },
        {
          "metadata": {
            "tags": null
          },
          "name": "stdout",
          "output_type": "stream",
          "text": [
            "cross-val accuracy: 0.7514\n",
            "cross-val f1 score: 0.76901\n"
          ]
        },
        {
          "metadata": {
            "tags": null
          },
          "name": "stderr",
          "output_type": "stream",
          "text": [
            "\u001b[32m[I 2021-12-03 03:46:29,048]\u001b[0m Trial 70 finished with value: 0.7531481803526905 and parameters: {'n_layers': 7, 'n_units_0': 96, 'n_units_1': 40, 'n_units_2': 61, 'n_units_3': 25, 'n_units_4': 24, 'n_units_5': 49, 'n_units_6': 61, 'n_components': 26}. Best is trial 69 with value: 0.7602089036742379.\u001b[0m\n"
          ]
        },
        {
          "metadata": {
            "tags": null
          },
          "name": "stdout",
          "output_type": "stream",
          "text": [
            "cross-val accuracy: 0.75117\n",
            "cross-val f1 score: 0.75513\n"
          ]
        },
        {
          "metadata": {
            "tags": null
          },
          "name": "stderr",
          "output_type": "stream",
          "text": [
            "\u001b[32m[I 2021-12-03 03:47:01,212]\u001b[0m Trial 71 finished with value: 0.7576960668489143 and parameters: {'n_layers': 7, 'n_units_0': 87, 'n_units_1': 83, 'n_units_2': 65, 'n_units_3': 28, 'n_units_4': 22, 'n_units_5': 46, 'n_units_6': 64, 'n_components': 27}. Best is trial 69 with value: 0.7602089036742379.\u001b[0m\n"
          ]
        },
        {
          "metadata": {
            "tags": null
          },
          "name": "stdout",
          "output_type": "stream",
          "text": [
            "cross-val accuracy: 0.74977\n",
            "cross-val f1 score: 0.76563\n"
          ]
        },
        {
          "metadata": {
            "tags": null
          },
          "name": "stderr",
          "output_type": "stream",
          "text": [
            "\u001b[32m[I 2021-12-03 03:47:30,894]\u001b[0m Trial 72 finished with value: 0.7512080763458323 and parameters: {'n_layers': 7, 'n_units_0': 87, 'n_units_1': 84, 'n_units_2': 65, 'n_units_3': 17, 'n_units_4': 21, 'n_units_5': 42, 'n_units_6': 65, 'n_components': 27}. Best is trial 69 with value: 0.7602089036742379.\u001b[0m\n"
          ]
        },
        {
          "metadata": {
            "tags": null
          },
          "name": "stdout",
          "output_type": "stream",
          "text": [
            "cross-val accuracy: 0.7402\n",
            "cross-val f1 score: 0.76222\n"
          ]
        },
        {
          "metadata": {
            "tags": null
          },
          "name": "stderr",
          "output_type": "stream",
          "text": [
            "\u001b[32m[I 2021-12-03 03:48:00,147]\u001b[0m Trial 73 finished with value: 0.7516279822695795 and parameters: {'n_layers': 7, 'n_units_0': 82, 'n_units_1': 78, 'n_units_2': 67, 'n_units_3': 27, 'n_units_4': 27, 'n_units_5': 34, 'n_units_6': 56, 'n_components': 27}. Best is trial 69 with value: 0.7602089036742379.\u001b[0m\n"
          ]
        },
        {
          "metadata": {
            "tags": null
          },
          "name": "stdout",
          "output_type": "stream",
          "text": [
            "cross-val accuracy: 0.74533\n",
            "cross-val f1 score: 0.75792\n"
          ]
        },
        {
          "metadata": {
            "tags": null
          },
          "name": "stderr",
          "output_type": "stream",
          "text": [
            "\u001b[32m[I 2021-12-03 03:48:30,545]\u001b[0m Trial 74 finished with value: 0.7514307124011088 and parameters: {'n_layers': 7, 'n_units_0': 91, 'n_units_1': 80, 'n_units_2': 70, 'n_units_3': 28, 'n_units_4': 32, 'n_units_5': 46, 'n_units_6': 58, 'n_components': 27}. Best is trial 69 with value: 0.7602089036742379.\u001b[0m\n"
          ]
        },
        {
          "metadata": {
            "tags": null
          },
          "name": "stdout",
          "output_type": "stream",
          "text": [
            "cross-val accuracy: 0.74347\n",
            "cross-val f1 score: 0.7594\n"
          ]
        },
        {
          "metadata": {
            "tags": null
          },
          "name": "stderr",
          "output_type": "stream",
          "text": [
            "\u001b[32m[I 2021-12-03 03:48:53,380]\u001b[0m Trial 75 finished with value: 0.7539161485754187 and parameters: {'n_layers': 7, 'n_units_0': 78, 'n_units_1': 71, 'n_units_2': 61, 'n_units_3': 33, 'n_units_4': 15, 'n_units_5': 53, 'n_units_6': 45, 'n_components': 27}. Best is trial 69 with value: 0.7602089036742379.\u001b[0m\n"
          ]
        },
        {
          "metadata": {
            "tags": null
          },
          "name": "stdout",
          "output_type": "stream",
          "text": [
            "cross-val accuracy: 0.7479\n",
            "cross-val f1 score: 0.75993\n"
          ]
        },
        {
          "metadata": {
            "tags": null
          },
          "name": "stderr",
          "output_type": "stream",
          "text": [
            "\u001b[32m[I 2021-12-03 03:49:16,149]\u001b[0m Trial 76 finished with value: 0.7392409816611105 and parameters: {'n_layers': 7, 'n_units_0': 85, 'n_units_1': 75, 'n_units_2': 58, 'n_units_3': 39, 'n_units_4': 22, 'n_units_5': 62, 'n_units_6': 67, 'n_components': 26}. Best is trial 69 with value: 0.7602089036742379.\u001b[0m\n"
          ]
        },
        {
          "metadata": {
            "tags": null
          },
          "name": "stdout",
          "output_type": "stream",
          "text": [
            "cross-val accuracy: 0.74206\n",
            "cross-val f1 score: 0.73642\n"
          ]
        },
        {
          "metadata": {
            "tags": null
          },
          "name": "stderr",
          "output_type": "stream",
          "text": [
            "\u001b[32m[I 2021-12-03 03:49:47,730]\u001b[0m Trial 77 finished with value: 0.7552924693891034 and parameters: {'n_layers': 7, 'n_units_0': 87, 'n_units_1': 86, 'n_units_2': 57, 'n_units_3': 15, 'n_units_4': 18, 'n_units_5': 68, 'n_units_6': 32, 'n_components': 27}. Best is trial 69 with value: 0.7602089036742379.\u001b[0m\n"
          ]
        },
        {
          "metadata": {
            "tags": null
          },
          "name": "stdout",
          "output_type": "stream",
          "text": [
            "cross-val accuracy: 0.74696\n",
            "cross-val f1 score: 0.76362\n"
          ]
        },
        {
          "metadata": {
            "tags": null
          },
          "name": "stderr",
          "output_type": "stream",
          "text": [
            "\u001b[32m[I 2021-12-03 03:50:19,322]\u001b[0m Trial 78 finished with value: 0.7534344139998093 and parameters: {'n_layers': 7, 'n_units_0': 80, 'n_units_1': 82, 'n_units_2': 64, 'n_units_3': 36, 'n_units_4': 16, 'n_units_5': 38, 'n_units_6': 70, 'n_components': 30}. Best is trial 69 with value: 0.7602089036742379.\u001b[0m\n"
          ]
        },
        {
          "metadata": {
            "tags": null
          },
          "name": "stdout",
          "output_type": "stream",
          "text": [
            "cross-val accuracy: 0.74813\n",
            "cross-val f1 score: 0.75874\n"
          ]
        },
        {
          "metadata": {
            "tags": null
          },
          "name": "stderr",
          "output_type": "stream",
          "text": [
            "\u001b[32m[I 2021-12-03 03:50:48,036]\u001b[0m Trial 79 finished with value: 0.7531505418509001 and parameters: {'n_layers': 7, 'n_units_0': 98, 'n_units_1': 59, 'n_units_2': 51, 'n_units_3': 21, 'n_units_4': 38, 'n_units_5': 50, 'n_units_6': 53, 'n_components': 27}. Best is trial 69 with value: 0.7602089036742379.\u001b[0m\n"
          ]
        },
        {
          "metadata": {
            "tags": null
          },
          "name": "stdout",
          "output_type": "stream",
          "text": [
            "cross-val accuracy: 0.75093\n",
            "cross-val f1 score: 0.75537\n"
          ]
        },
        {
          "metadata": {
            "tags": null
          },
          "name": "stderr",
          "output_type": "stream",
          "text": [
            "\u001b[32m[I 2021-12-03 03:51:08,088]\u001b[0m Trial 80 finished with value: 0.75265194983142 and parameters: {'n_layers': 7, 'n_units_0': 75, 'n_units_1': 43, 'n_units_2': 73, 'n_units_3': 11, 'n_units_4': 10, 'n_units_5': 42, 'n_units_6': 61, 'n_components': 26}. Best is trial 69 with value: 0.7602089036742379.\u001b[0m\n"
          ]
        },
        {
          "metadata": {
            "tags": null
          },
          "name": "stdout",
          "output_type": "stream",
          "text": [
            "cross-val accuracy: 0.7374\n",
            "cross-val f1 score: 0.76791\n"
          ]
        },
        {
          "metadata": {
            "tags": null
          },
          "name": "stderr",
          "output_type": "stream",
          "text": [
            "\u001b[32m[I 2021-12-03 03:51:37,977]\u001b[0m Trial 81 finished with value: 0.7530701006811267 and parameters: {'n_layers': 6, 'n_units_0': 82, 'n_units_1': 88, 'n_units_2': 80, 'n_units_3': 32, 'n_units_4': 76, 'n_units_5': 55, 'n_components': 27}. Best is trial 69 with value: 0.7602089036742379.\u001b[0m\n"
          ]
        },
        {
          "metadata": {
            "tags": null
          },
          "name": "stdout",
          "output_type": "stream",
          "text": [
            "cross-val accuracy: 0.74533\n",
            "cross-val f1 score: 0.76081\n"
          ]
        },
        {
          "metadata": {
            "tags": null
          },
          "name": "stderr",
          "output_type": "stream",
          "text": [
            "\u001b[32m[I 2021-12-03 03:52:09,406]\u001b[0m Trial 82 finished with value: 0.754100765854839 and parameters: {'n_layers': 7, 'n_units_0': 72, 'n_units_1': 91, 'n_units_2': 76, 'n_units_3': 41, 'n_units_4': 25, 'n_units_5': 56, 'n_units_6': 78, 'n_components': 27}. Best is trial 69 with value: 0.7602089036742379.\u001b[0m\n"
          ]
        },
        {
          "metadata": {
            "tags": null
          },
          "name": "stdout",
          "output_type": "stream",
          "text": [
            "cross-val accuracy: 0.74907\n",
            "cross-val f1 score: 0.75914\n"
          ]
        },
        {
          "metadata": {
            "tags": null
          },
          "name": "stderr",
          "output_type": "stream",
          "text": [
            "\u001b[32m[I 2021-12-03 03:52:39,465]\u001b[0m Trial 83 finished with value: 0.7560769784039401 and parameters: {'n_layers': 7, 'n_units_0': 91, 'n_units_1': 99, 'n_units_2': 69, 'n_units_3': 45, 'n_units_4': 100, 'n_units_5': 58, 'n_units_6': 45, 'n_components': 27}. Best is trial 69 with value: 0.7602089036742379.\u001b[0m\n"
          ]
        },
        {
          "metadata": {
            "tags": null
          },
          "name": "stdout",
          "output_type": "stream",
          "text": [
            "cross-val accuracy: 0.74907\n",
            "cross-val f1 score: 0.76309\n"
          ]
        },
        {
          "metadata": {
            "tags": null
          },
          "name": "stderr",
          "output_type": "stream",
          "text": [
            "\u001b[32m[I 2021-12-03 03:53:05,183]\u001b[0m Trial 84 finished with value: 0.7543005771325468 and parameters: {'n_layers': 7, 'n_units_0': 84, 'n_units_1': 95, 'n_units_2': 90, 'n_units_3': 28, 'n_units_4': 54, 'n_units_5': 47, 'n_units_6': 72, 'n_components': 27}. Best is trial 69 with value: 0.7602089036742379.\u001b[0m\n"
          ]
        },
        {
          "metadata": {
            "tags": null
          },
          "name": "stdout",
          "output_type": "stream",
          "text": [
            "cross-val accuracy: 0.74136\n",
            "cross-val f1 score: 0.76724\n"
          ]
        },
        {
          "metadata": {
            "tags": null
          },
          "name": "stderr",
          "output_type": "stream",
          "text": [
            "\u001b[32m[I 2021-12-03 03:53:28,495]\u001b[0m Trial 85 finished with value: 0.7575805350281628 and parameters: {'n_layers': 6, 'n_units_0': 74, 'n_units_1': 84, 'n_units_2': 82, 'n_units_3': 7, 'n_units_4': 14, 'n_units_5': 72, 'n_components': 27}. Best is trial 69 with value: 0.7602089036742379.\u001b[0m\n"
          ]
        },
        {
          "metadata": {
            "tags": null
          },
          "name": "stdout",
          "output_type": "stream",
          "text": [
            "cross-val accuracy: 0.75093\n",
            "cross-val f1 score: 0.76423\n"
          ]
        },
        {
          "metadata": {
            "tags": null
          },
          "name": "stderr",
          "output_type": "stream",
          "text": [
            "\u001b[32m[I 2021-12-03 03:53:57,891]\u001b[0m Trial 86 finished with value: 0.7460722621117539 and parameters: {'n_layers': 7, 'n_units_0': 69, 'n_units_1': 38, 'n_units_2': 86, 'n_units_3': 94, 'n_units_4': 20, 'n_units_5': 66, 'n_units_6': 52, 'n_components': 28}. Best is trial 69 with value: 0.7602089036742379.\u001b[0m\n"
          ]
        },
        {
          "metadata": {
            "tags": null
          },
          "name": "stdout",
          "output_type": "stream",
          "text": [
            "cross-val accuracy: 0.7521\n",
            "cross-val f1 score: 0.74004\n"
          ]
        },
        {
          "metadata": {
            "tags": null
          },
          "name": "stderr",
          "output_type": "stream",
          "text": [
            "\u001b[32m[I 2021-12-03 03:54:25,812]\u001b[0m Trial 87 finished with value: 0.7548350452445101 and parameters: {'n_layers': 6, 'n_units_0': 79, 'n_units_1': 51, 'n_units_2': 95, 'n_units_3': 35, 'n_units_4': 94, 'n_units_5': 26, 'n_components': 26}. Best is trial 69 with value: 0.7602089036742379.\u001b[0m\n"
          ]
        },
        {
          "metadata": {
            "tags": null
          },
          "name": "stdout",
          "output_type": "stream",
          "text": [
            "cross-val accuracy: 0.74393\n",
            "cross-val f1 score: 0.76574\n"
          ]
        },
        {
          "metadata": {
            "tags": null
          },
          "name": "stderr",
          "output_type": "stream",
          "text": [
            "\u001b[32m[I 2021-12-03 03:54:51,970]\u001b[0m Trial 88 finished with value: 0.7540532156344419 and parameters: {'n_layers': 7, 'n_units_0': 19, 'n_units_1': 80, 'n_units_2': 78, 'n_units_3': 61, 'n_units_4': 27, 'n_units_5': 62, 'n_units_6': 12, 'n_components': 27}. Best is trial 69 with value: 0.7602089036742379.\u001b[0m\n"
          ]
        },
        {
          "metadata": {
            "tags": null
          },
          "name": "stdout",
          "output_type": "stream",
          "text": [
            "cross-val accuracy: 0.74183\n",
            "cross-val f1 score: 0.76628\n"
          ]
        },
        {
          "metadata": {
            "tags": null
          },
          "name": "stderr",
          "output_type": "stream",
          "text": [
            "\u001b[32m[I 2021-12-03 03:55:15,757]\u001b[0m Trial 89 finished with value: 0.7481075151594778 and parameters: {'n_layers': 6, 'n_units_0': 37, 'n_units_1': 23, 'n_units_2': 72, 'n_units_3': 52, 'n_units_4': 89, 'n_units_5': 52, 'n_components': 25}. Best is trial 69 with value: 0.7602089036742379.\u001b[0m\n"
          ]
        },
        {
          "metadata": {
            "tags": null
          },
          "name": "stdout",
          "output_type": "stream",
          "text": [
            "cross-val accuracy: 0.74113\n",
            "cross-val f1 score: 0.75508\n"
          ]
        },
        {
          "metadata": {
            "tags": null
          },
          "name": "stderr",
          "output_type": "stream",
          "text": [
            "\u001b[32m[I 2021-12-03 03:55:38,463]\u001b[0m Trial 90 finished with value: 0.7567550007763288 and parameters: {'n_layers': 7, 'n_units_0': 88, 'n_units_1': 73, 'n_units_2': 14, 'n_units_3': 44, 'n_units_4': 22, 'n_units_5': 45, 'n_units_6': 60, 'n_components': 28}. Best is trial 69 with value: 0.7602089036742379.\u001b[0m\n"
          ]
        },
        {
          "metadata": {
            "tags": null
          },
          "name": "stdout",
          "output_type": "stream",
          "text": [
            "cross-val accuracy: 0.7521\n",
            "cross-val f1 score: 0.76141\n"
          ]
        },
        {
          "metadata": {
            "tags": null
          },
          "name": "stderr",
          "output_type": "stream",
          "text": [
            "\u001b[32m[I 2021-12-03 03:55:58,014]\u001b[0m Trial 91 finished with value: 0.7542615208018624 and parameters: {'n_layers': 6, 'n_units_0': 76, 'n_units_1': 84, 'n_units_2': 67, 'n_units_3': 6, 'n_units_4': 14, 'n_units_5': 36, 'n_components': 27}. Best is trial 69 with value: 0.7602089036742379.\u001b[0m\n"
          ]
        },
        {
          "metadata": {
            "tags": null
          },
          "name": "stdout",
          "output_type": "stream",
          "text": [
            "cross-val accuracy: 0.7514\n",
            "cross-val f1 score: 0.75712\n"
          ]
        },
        {
          "metadata": {
            "tags": null
          },
          "name": "stderr",
          "output_type": "stream",
          "text": [
            "\u001b[32m[I 2021-12-03 03:56:17,234]\u001b[0m Trial 92 finished with value: 0.7522918626438916 and parameters: {'n_layers': 6, 'n_units_0': 73, 'n_units_1': 89, 'n_units_2': 82, 'n_units_3': 6, 'n_units_4': 10, 'n_units_5': 73, 'n_components': 27}. Best is trial 69 with value: 0.7602089036742379.\u001b[0m\n"
          ]
        },
        {
          "metadata": {
            "tags": null
          },
          "name": "stdout",
          "output_type": "stream",
          "text": [
            "cross-val accuracy: 0.74697\n",
            "cross-val f1 score: 0.75762\n"
          ]
        },
        {
          "metadata": {
            "tags": null
          },
          "name": "stderr",
          "output_type": "stream",
          "text": [
            "\u001b[32m[I 2021-12-03 03:56:38,925]\u001b[0m Trial 93 finished with value: 0.759102896826072 and parameters: {'n_layers': 6, 'n_units_0': 81, 'n_units_1': 86, 'n_units_2': 83, 'n_units_3': 11, 'n_units_4': 13, 'n_units_5': 72, 'n_components': 27}. Best is trial 69 with value: 0.7602089036742379.\u001b[0m\n"
          ]
        },
        {
          "metadata": {
            "tags": null
          },
          "name": "stdout",
          "output_type": "stream",
          "text": [
            "cross-val accuracy: 0.74883\n",
            "cross-val f1 score: 0.76937\n"
          ]
        },
        {
          "metadata": {
            "tags": null
          },
          "name": "stderr",
          "output_type": "stream",
          "text": [
            "\u001b[32m[I 2021-12-03 03:57:16,105]\u001b[0m Trial 94 finished with value: 0.7527189474140421 and parameters: {'n_layers': 6, 'n_units_0': 83, 'n_units_1': 91, 'n_units_2': 91, 'n_units_3': 15, 'n_units_4': 48, 'n_units_5': 66, 'n_components': 27}. Best is trial 69 with value: 0.7602089036742379.\u001b[0m\n"
          ]
        },
        {
          "metadata": {
            "tags": null
          },
          "name": "stdout",
          "output_type": "stream",
          "text": [
            "cross-val accuracy: 0.74696\n",
            "cross-val f1 score: 0.75847\n"
          ]
        },
        {
          "metadata": {
            "tags": null
          },
          "name": "stderr",
          "output_type": "stream",
          "text": [
            "\u001b[32m[I 2021-12-03 03:57:34,951]\u001b[0m Trial 95 finished with value: 0.7540480803572025 and parameters: {'n_layers': 6, 'n_units_0': 86, 'n_units_1': 87, 'n_units_2': 89, 'n_units_3': 2, 'n_units_4': 18, 'n_units_5': 69, 'n_components': 27}. Best is trial 69 with value: 0.7602089036742379.\u001b[0m\n"
          ]
        },
        {
          "metadata": {
            "tags": null
          },
          "name": "stdout",
          "output_type": "stream",
          "text": [
            "cross-val accuracy: 0.74183\n",
            "cross-val f1 score: 0.76627\n"
          ]
        },
        {
          "metadata": {
            "tags": null
          },
          "name": "stderr",
          "output_type": "stream",
          "text": [
            "\u001b[32m[I 2021-12-03 03:57:59,881]\u001b[0m Trial 96 finished with value: 0.7556818514901742 and parameters: {'n_layers': 6, 'n_units_0': 94, 'n_units_1': 76, 'n_units_2': 84, 'n_units_3': 13, 'n_units_4': 63, 'n_units_5': 30, 'n_components': 29}. Best is trial 69 with value: 0.7602089036742379.\u001b[0m\n"
          ]
        },
        {
          "metadata": {
            "tags": null
          },
          "name": "stdout",
          "output_type": "stream",
          "text": [
            "cross-val accuracy: 0.7507\n",
            "cross-val f1 score: 0.76066\n"
          ]
        },
        {
          "metadata": {
            "tags": null
          },
          "name": "stderr",
          "output_type": "stream",
          "text": [
            "\u001b[32m[I 2021-12-03 03:58:24,600]\u001b[0m Trial 97 finished with value: 0.7519733638158081 and parameters: {'n_layers': 6, 'n_units_0': 78, 'n_units_1': 93, 'n_units_2': 76, 'n_units_3': 24, 'n_units_4': 5, 'n_units_5': 58, 'n_components': 30}. Best is trial 69 with value: 0.7602089036742379.\u001b[0m\n"
          ]
        },
        {
          "metadata": {
            "tags": null
          },
          "name": "stdout",
          "output_type": "stream",
          "text": [
            "cross-val accuracy: 0.74253\n",
            "cross-val f1 score: 0.76141\n"
          ]
        },
        {
          "metadata": {
            "tags": null
          },
          "name": "stderr",
          "output_type": "stream",
          "text": [
            "\u001b[32m[I 2021-12-03 03:58:46,271]\u001b[0m Trial 98 finished with value: 0.7532181917949919 and parameters: {'n_layers': 6, 'n_units_0': 89, 'n_units_1': 69, 'n_units_2': 55, 'n_units_3': 19, 'n_units_4': 30, 'n_units_5': 49, 'n_components': 27}. Best is trial 69 with value: 0.7602089036742379.\u001b[0m\n"
          ]
        },
        {
          "metadata": {
            "tags": null
          },
          "name": "stdout",
          "output_type": "stream",
          "text": [
            "cross-val accuracy: 0.75023\n",
            "cross-val f1 score: 0.7562\n"
          ]
        },
        {
          "metadata": {
            "tags": null
          },
          "name": "stderr",
          "output_type": "stream",
          "text": [
            "\u001b[32m[I 2021-12-03 03:59:14,998]\u001b[0m Trial 99 finished with value: 0.7549029727777468 and parameters: {'n_layers': 7, 'n_units_0': 29, 'n_units_1': 95, 'n_units_2': 80, 'n_units_3': 86, 'n_units_4': 79, 'n_units_5': 33, 'n_units_6': 36, 'n_components': 27}. Best is trial 69 with value: 0.7602089036742379.\u001b[0m\n"
          ]
        },
        {
          "metadata": {
            "tags": null
          },
          "name": "stdout",
          "output_type": "stream",
          "text": [
            "cross-val accuracy: 0.74837\n",
            "cross-val f1 score: 0.76144\n"
          ]
        },
        {
          "metadata": {
            "tags": null
          },
          "name": "stderr",
          "output_type": "stream",
          "text": [
            "\u001b[32m[I 2021-12-03 03:59:40,926]\u001b[0m Trial 100 finished with value: 0.7513025558287676 and parameters: {'n_layers': 5, 'n_units_0': 81, 'n_units_1': 82, 'n_units_2': 86, 'n_units_3': 65, 'n_units_4': 74, 'n_components': 26}. Best is trial 69 with value: 0.7602089036742379.\u001b[0m\n"
          ]
        },
        {
          "metadata": {
            "tags": null
          },
          "name": "stdout",
          "output_type": "stream",
          "text": [
            "cross-val accuracy: 0.7479\n",
            "cross-val f1 score: 0.75471\n"
          ]
        },
        {
          "metadata": {
            "tags": null
          },
          "name": "stderr",
          "output_type": "stream",
          "text": [
            "\u001b[32m[I 2021-12-03 04:00:02,356]\u001b[0m Trial 101 finished with value: 0.750665161379988 and parameters: {'n_layers': 6, 'n_units_0': 74, 'n_units_1': 84, 'n_units_2': 83, 'n_units_3': 8, 'n_units_4': 13, 'n_units_5': 75, 'n_components': 27}. Best is trial 69 with value: 0.7602089036742379.\u001b[0m\n"
          ]
        },
        {
          "metadata": {
            "tags": null
          },
          "name": "stdout",
          "output_type": "stream",
          "text": [
            "cross-val accuracy: 0.74837\n",
            "cross-val f1 score: 0.75296\n"
          ]
        },
        {
          "metadata": {
            "tags": null
          },
          "name": "stderr",
          "output_type": "stream",
          "text": [
            "\u001b[32m[I 2021-12-03 04:00:20,561]\u001b[0m Trial 102 finished with value: 0.7482762069577569 and parameters: {'n_layers': 6, 'n_units_0': 77, 'n_units_1': 79, 'n_units_2': 81, 'n_units_3': 12, 'n_units_4': 8, 'n_units_5': 64, 'n_components': 27}. Best is trial 69 with value: 0.7602089036742379.\u001b[0m\n"
          ]
        },
        {
          "metadata": {
            "tags": null
          },
          "name": "stdout",
          "output_type": "stream",
          "text": [
            "cross-val accuracy: 0.74884\n",
            "cross-val f1 score: 0.74772\n"
          ]
        },
        {
          "metadata": {
            "tags": null
          },
          "name": "stderr",
          "output_type": "stream",
          "text": [
            "\u001b[32m[I 2021-12-03 04:00:42,127]\u001b[0m Trial 103 finished with value: 0.7513039363703313 and parameters: {'n_layers': 6, 'n_units_0': 80, 'n_units_1': 85, 'n_units_2': 75, 'n_units_3': 9, 'n_units_4': 17, 'n_units_5': 72, 'n_components': 27}. Best is trial 69 with value: 0.7602089036742379.\u001b[0m\n"
          ]
        },
        {
          "metadata": {
            "tags": null
          },
          "name": "stdout",
          "output_type": "stream",
          "text": [
            "cross-val accuracy: 0.74977\n",
            "cross-val f1 score: 0.75284\n"
          ]
        },
        {
          "metadata": {
            "tags": null
          },
          "name": "stderr",
          "output_type": "stream",
          "text": [
            "\u001b[32m[I 2021-12-03 04:01:06,961]\u001b[0m Trial 104 finished with value: 0.7530095999448188 and parameters: {'n_layers': 6, 'n_units_0': 70, 'n_units_1': 30, 'n_units_2': 93, 'n_units_3': 48, 'n_units_4': 25, 'n_units_5': 75, 'n_components': 27}. Best is trial 69 with value: 0.7602089036742379.\u001b[0m\n"
          ]
        },
        {
          "metadata": {
            "tags": null
          },
          "name": "stdout",
          "output_type": "stream",
          "text": [
            "cross-val accuracy: 0.74907\n",
            "cross-val f1 score: 0.75695\n"
          ]
        },
        {
          "metadata": {
            "tags": null
          },
          "name": "stderr",
          "output_type": "stream",
          "text": [
            "\u001b[32m[I 2021-12-03 04:01:30,228]\u001b[0m Trial 105 finished with value: 0.7490289719540997 and parameters: {'n_layers': 6, 'n_units_0': 10, 'n_units_1': 89, 'n_units_2': 63, 'n_units_3': 17, 'n_units_4': 20, 'n_units_5': 80, 'n_components': 27}. Best is trial 69 with value: 0.7602089036742379.\u001b[0m\n"
          ]
        },
        {
          "metadata": {
            "tags": null
          },
          "name": "stdout",
          "output_type": "stream",
          "text": [
            "cross-val accuracy: 0.73949\n",
            "cross-val f1 score: 0.75856\n"
          ]
        },
        {
          "metadata": {
            "tags": null
          },
          "name": "stderr",
          "output_type": "stream",
          "text": [
            "\u001b[32m[I 2021-12-03 04:01:58,175]\u001b[0m Trial 106 finished with value: 0.7548181531131609 and parameters: {'n_layers': 7, 'n_units_0': 66, 'n_units_1': 77, 'n_units_2': 87, 'n_units_3': 4, 'n_units_4': 98, 'n_units_5': 70, 'n_units_6': 30, 'n_components': 28}. Best is trial 69 with value: 0.7602089036742379.\u001b[0m\n"
          ]
        },
        {
          "metadata": {
            "tags": null
          },
          "name": "stdout",
          "output_type": "stream",
          "text": [
            "cross-val accuracy: 0.7409\n",
            "cross-val f1 score: 0.76874\n"
          ]
        },
        {
          "metadata": {
            "tags": null
          },
          "name": "stderr",
          "output_type": "stream",
          "text": [
            "\u001b[32m[I 2021-12-03 04:02:27,862]\u001b[0m Trial 107 finished with value: 0.7495189033086589 and parameters: {'n_layers': 6, 'n_units_0': 83, 'n_units_1': 82, 'n_units_2': 98, 'n_units_3': 55, 'n_units_4': 67, 'n_units_5': 43, 'n_components': 26}. Best is trial 69 with value: 0.7602089036742379.\u001b[0m\n"
          ]
        },
        {
          "metadata": {
            "tags": null
          },
          "name": "stdout",
          "output_type": "stream",
          "text": [
            "cross-val accuracy: 0.74907\n",
            "cross-val f1 score: 0.74997\n"
          ]
        },
        {
          "metadata": {
            "tags": null
          },
          "name": "stderr",
          "output_type": "stream",
          "text": [
            "\u001b[32m[I 2021-12-03 04:02:41,801]\u001b[0m Trial 108 finished with value: 0.7540317561375023 and parameters: {'n_layers': 7, 'n_units_0': 71, 'n_units_1': 12, 'n_units_2': 66, 'n_units_3': 1, 'n_units_4': 23, 'n_units_5': 11, 'n_units_6': 41, 'n_components': 27}. Best is trial 69 with value: 0.7602089036742379.\u001b[0m\n"
          ]
        },
        {
          "metadata": {
            "tags": null
          },
          "name": "stdout",
          "output_type": "stream",
          "text": [
            "cross-val accuracy: 0.75163\n",
            "cross-val f1 score: 0.75643\n"
          ]
        },
        {
          "metadata": {
            "tags": null
          },
          "name": "stderr",
          "output_type": "stream",
          "text": [
            "\u001b[32m[I 2021-12-03 04:03:06,908]\u001b[0m Trial 109 finished with value: 0.754235371605634 and parameters: {'n_layers': 6, 'n_units_0': 47, 'n_units_1': 87, 'n_units_2': 78, 'n_units_3': 31, 'n_units_4': 92, 'n_units_5': 40, 'n_components': 27}. Best is trial 69 with value: 0.7602089036742379.\u001b[0m\n"
          ]
        },
        {
          "metadata": {
            "tags": null
          },
          "name": "stdout",
          "output_type": "stream",
          "text": [
            "cross-val accuracy: 0.7472\n",
            "cross-val f1 score: 0.76127\n"
          ]
        },
        {
          "metadata": {
            "tags": null
          },
          "name": "stderr",
          "output_type": "stream",
          "text": [
            "\u001b[32m[I 2021-12-03 04:03:40,071]\u001b[0m Trial 110 finished with value: 0.7533094096994322 and parameters: {'n_layers': 7, 'n_units_0': 89, 'n_units_1': 67, 'n_units_2': 71, 'n_units_3': 97, 'n_units_4': 12, 'n_units_5': 57, 'n_units_6': 67, 'n_components': 27}. Best is trial 69 with value: 0.7602089036742379.\u001b[0m\n"
          ]
        },
        {
          "metadata": {
            "tags": null
          },
          "name": "stdout",
          "output_type": "stream",
          "text": [
            "cross-val accuracy: 0.74836\n",
            "cross-val f1 score: 0.75825\n"
          ]
        },
        {
          "metadata": {
            "tags": null
          },
          "name": "stderr",
          "output_type": "stream",
          "text": [
            "\u001b[32m[I 2021-12-03 04:04:00,014]\u001b[0m Trial 111 finished with value: 0.7569111887135007 and parameters: {'n_layers': 7, 'n_units_0': 60, 'n_units_1': 18, 'n_units_2': 100, 'n_units_3': 26, 'n_units_4': 4, 'n_units_5': 22, 'n_units_6': 99, 'n_components': 28}. Best is trial 69 with value: 0.7602089036742379.\u001b[0m\n"
          ]
        },
        {
          "metadata": {
            "tags": null
          },
          "name": "stdout",
          "output_type": "stream",
          "text": [
            "cross-val accuracy: 0.7528\n",
            "cross-val f1 score: 0.76102\n"
          ]
        },
        {
          "metadata": {
            "tags": null
          },
          "name": "stderr",
          "output_type": "stream",
          "text": [
            "\u001b[32m[I 2021-12-03 04:04:32,250]\u001b[0m Trial 112 finished with value: 0.7469421708851989 and parameters: {'n_layers': 7, 'n_units_0': 68, 'n_units_1': 23, 'n_units_2': 95, 'n_units_3': 34, 'n_units_4': 15, 'n_units_5': 85, 'n_units_6': 91, 'n_components': 29}. Best is trial 69 with value: 0.7602089036742379.\u001b[0m\n"
          ]
        },
        {
          "metadata": {
            "tags": null
          },
          "name": "stdout",
          "output_type": "stream",
          "text": [
            "cross-val accuracy: 0.74533\n",
            "cross-val f1 score: 0.74855\n"
          ]
        },
        {
          "metadata": {
            "tags": null
          },
          "name": "stderr",
          "output_type": "stream",
          "text": [
            "\u001b[32m[I 2021-12-03 04:04:59,298]\u001b[0m Trial 113 finished with value: 0.7581749175633627 and parameters: {'n_layers': 7, 'n_units_0': 86, 'n_units_1': 15, 'n_units_2': 92, 'n_units_3': 100, 'n_units_4': 8, 'n_units_5': 78, 'n_units_6': 82, 'n_components': 28}. Best is trial 69 with value: 0.7602089036742379.\u001b[0m\n"
          ]
        },
        {
          "metadata": {
            "tags": null
          },
          "name": "stdout",
          "output_type": "stream",
          "text": [
            "cross-val accuracy: 0.7493\n",
            "cross-val f1 score: 0.76705\n"
          ]
        },
        {
          "metadata": {
            "tags": null
          },
          "name": "stderr",
          "output_type": "stream",
          "text": [
            "\u001b[32m[I 2021-12-03 04:05:26,296]\u001b[0m Trial 114 finished with value: 0.7528477720703463 and parameters: {'n_layers': 7, 'n_units_0': 92, 'n_units_1': 9, 'n_units_2': 92, 'n_units_3': 92, 'n_units_4': 11, 'n_units_5': 61, 'n_units_6': 82, 'n_components': 28}. Best is trial 69 with value: 0.7602089036742379.\u001b[0m\n"
          ]
        },
        {
          "metadata": {
            "tags": null
          },
          "name": "stdout",
          "output_type": "stream",
          "text": [
            "cross-val accuracy: 0.74837\n",
            "cross-val f1 score: 0.75733\n"
          ]
        },
        {
          "metadata": {
            "tags": null
          },
          "name": "stderr",
          "output_type": "stream",
          "text": [
            "\u001b[32m[I 2021-12-03 04:06:00,689]\u001b[0m Trial 115 finished with value: 0.7511345314764293 and parameters: {'n_layers': 7, 'n_units_0': 86, 'n_units_1': 18, 'n_units_2': 88, 'n_units_3': 99, 'n_units_4': 59, 'n_units_5': 74, 'n_units_6': 75, 'n_components': 28}. Best is trial 69 with value: 0.7602089036742379.\u001b[0m\n"
          ]
        },
        {
          "metadata": {
            "tags": null
          },
          "name": "stdout",
          "output_type": "stream",
          "text": [
            "cross-val accuracy: 0.74627\n",
            "cross-val f1 score: 0.756\n"
          ]
        },
        {
          "metadata": {
            "tags": null
          },
          "name": "stderr",
          "output_type": "stream",
          "text": [
            "\u001b[32m[I 2021-12-03 04:06:29,090]\u001b[0m Trial 116 finished with value: 0.7512111082397752 and parameters: {'n_layers': 7, 'n_units_0': 84, 'n_units_1': 80, 'n_units_2': 84, 'n_units_3': 29, 'n_units_4': 7, 'n_units_5': 77, 'n_units_6': 49, 'n_components': 27}. Best is trial 69 with value: 0.7602089036742379.\u001b[0m\n"
          ]
        },
        {
          "metadata": {
            "tags": null
          },
          "name": "stdout",
          "output_type": "stream",
          "text": [
            "cross-val accuracy: 0.74814\n",
            "cross-val f1 score: 0.75429\n"
          ]
        },
        {
          "metadata": {
            "tags": null
          },
          "name": "stderr",
          "output_type": "stream",
          "text": [
            "\u001b[32m[I 2021-12-03 04:06:49,013]\u001b[0m Trial 117 finished with value: 0.7474046551844457 and parameters: {'n_layers': 6, 'n_units_0': 77, 'n_units_1': 2, 'n_units_2': 90, 'n_units_3': 96, 'n_units_4': 9, 'n_units_5': 52, 'n_components': 27}. Best is trial 69 with value: 0.7602089036742379.\u001b[0m\n"
          ]
        },
        {
          "metadata": {
            "tags": null
          },
          "name": "stdout",
          "output_type": "stream",
          "text": [
            "cross-val accuracy: 0.74067\n",
            "cross-val f1 score: 0.75414\n"
          ]
        },
        {
          "metadata": {
            "tags": null
          },
          "name": "stderr",
          "output_type": "stream",
          "text": [
            "\u001b[32m[I 2021-12-03 04:07:19,135]\u001b[0m Trial 118 finished with value: 0.7565947337967505 and parameters: {'n_layers': 7, 'n_units_0': 74, 'n_units_1': 61, 'n_units_2': 94, 'n_units_3': 38, 'n_units_4': 17, 'n_units_5': 63, 'n_units_6': 70, 'n_components': 28}. Best is trial 69 with value: 0.7602089036742379.\u001b[0m\n"
          ]
        },
        {
          "metadata": {
            "tags": null
          },
          "name": "stdout",
          "output_type": "stream",
          "text": [
            "cross-val accuracy: 0.75327\n",
            "cross-val f1 score: 0.75992\n"
          ]
        },
        {
          "metadata": {
            "tags": null
          },
          "name": "stderr",
          "output_type": "stream",
          "text": [
            "\u001b[32m[I 2021-12-03 04:07:47,195]\u001b[0m Trial 119 finished with value: 0.7431610951426233 and parameters: {'n_layers': 6, 'n_units_0': 80, 'n_units_1': 97, 'n_units_2': 49, 'n_units_3': 95, 'n_units_4': 82, 'n_units_5': 82, 'n_components': 27}. Best is trial 69 with value: 0.7602089036742379.\u001b[0m\n"
          ]
        },
        {
          "metadata": {
            "tags": null
          },
          "name": "stdout",
          "output_type": "stream",
          "text": [
            "cross-val accuracy: 0.7458\n",
            "cross-val f1 score: 0.74052\n"
          ]
        },
        {
          "metadata": {
            "tags": null
          },
          "name": "stderr",
          "output_type": "stream",
          "text": [
            "\u001b[32m[I 2021-12-03 04:08:26,752]\u001b[0m Trial 120 finished with value: 0.7561336927865232 and parameters: {'n_layers': 7, 'n_units_0': 43, 'n_units_1': 91, 'n_units_2': 69, 'n_units_3': 100, 'n_units_4': 86, 'n_units_5': 54, 'n_units_6': 64, 'n_components': 26}. Best is trial 69 with value: 0.7602089036742379.\u001b[0m\n"
          ]
        },
        {
          "metadata": {
            "tags": null
          },
          "name": "stdout",
          "output_type": "stream",
          "text": [
            "cross-val accuracy: 0.7486\n",
            "cross-val f1 score: 0.76367\n"
          ]
        },
        {
          "metadata": {
            "tags": null
          },
          "name": "stderr",
          "output_type": "stream",
          "text": [
            "\u001b[32m[I 2021-12-03 04:08:56,488]\u001b[0m Trial 121 finished with value: 0.7573826267434278 and parameters: {'n_layers': 7, 'n_units_0': 54, 'n_units_1': 14, 'n_units_2': 96, 'n_units_3': 87, 'n_units_4': 5, 'n_units_5': 87, 'n_units_6': 95, 'n_components': 28}. Best is trial 69 with value: 0.7602089036742379.\u001b[0m\n"
          ]
        },
        {
          "metadata": {
            "tags": null
          },
          "name": "stdout",
          "output_type": "stream",
          "text": [
            "cross-val accuracy: 0.7535\n",
            "cross-val f1 score: 0.76126\n"
          ]
        },
        {
          "metadata": {
            "tags": null
          },
          "name": "stderr",
          "output_type": "stream",
          "text": [
            "\u001b[32m[I 2021-12-03 04:09:22,548]\u001b[0m Trial 122 finished with value: 0.7523086097904517 and parameters: {'n_layers': 7, 'n_units_0': 64, 'n_units_1': 15, 'n_units_2': 92, 'n_units_3': 32, 'n_units_4': 1, 'n_units_5': 47, 'n_units_6': 100, 'n_components': 28}. Best is trial 69 with value: 0.7602089036742379.\u001b[0m\n"
          ]
        },
        {
          "metadata": {
            "tags": null
          },
          "name": "stdout",
          "output_type": "stream",
          "text": [
            "cross-val accuracy: 0.743\n",
            "cross-val f1 score: 0.76162\n"
          ]
        },
        {
          "metadata": {
            "tags": null
          },
          "name": "stderr",
          "output_type": "stream",
          "text": [
            "\u001b[32m[I 2021-12-03 04:09:46,143]\u001b[0m Trial 123 finished with value: 0.7572182579240863 and parameters: {'n_layers': 7, 'n_units_0': 87, 'n_units_1': 28, 'n_units_2': 97, 'n_units_3': 22, 'n_units_4': 3, 'n_units_5': 77, 'n_units_6': 87, 'n_components': 28}. Best is trial 69 with value: 0.7602089036742379.\u001b[0m\n"
          ]
        },
        {
          "metadata": {
            "tags": null
          },
          "name": "stdout",
          "output_type": "stream",
          "text": [
            "cross-val accuracy: 0.75187\n",
            "cross-val f1 score: 0.76257\n"
          ]
        },
        {
          "metadata": {
            "tags": null
          },
          "name": "stderr",
          "output_type": "stream",
          "text": [
            "\u001b[32m[I 2021-12-03 04:10:13,420]\u001b[0m Trial 124 finished with value: 0.7537824128108528 and parameters: {'n_layers': 7, 'n_units_0': 90, 'n_units_1': 20, 'n_units_2': 86, 'n_units_3': 27, 'n_units_4': 13, 'n_units_5': 79, 'n_units_6': 95, 'n_components': 29}. Best is trial 69 with value: 0.7602089036742379.\u001b[0m\n"
          ]
        },
        {
          "metadata": {
            "tags": null
          },
          "name": "stdout",
          "output_type": "stream",
          "text": [
            "cross-val accuracy: 0.7507\n",
            "cross-val f1 score: 0.75687\n"
          ]
        },
        {
          "metadata": {
            "tags": null
          },
          "name": "stderr",
          "output_type": "stream",
          "text": [
            "\u001b[32m[I 2021-12-03 04:10:42,125]\u001b[0m Trial 125 finished with value: 0.7611060968297478 and parameters: {'n_layers': 7, 'n_units_0': 84, 'n_units_1': 11, 'n_units_2': 79, 'n_units_3': 92, 'n_units_4': 19, 'n_units_5': 70, 'n_units_6': 90, 'n_components': 27}. Best is trial 125 with value: 0.7611060968297478.\u001b[0m\n"
          ]
        },
        {
          "metadata": {
            "tags": null
          },
          "name": "stdout",
          "output_type": "stream",
          "text": [
            "cross-val accuracy: 0.7514\n",
            "cross-val f1 score: 0.77081\n"
          ]
        },
        {
          "metadata": {
            "tags": null
          },
          "name": "stderr",
          "output_type": "stream",
          "text": [
            "\u001b[32m[I 2021-12-03 04:11:13,472]\u001b[0m Trial 126 finished with value: 0.7522654515624594 and parameters: {'n_layers': 7, 'n_units_0': 84, 'n_units_1': 85, 'n_units_2': 79, 'n_units_3': 91, 'n_units_4': 70, 'n_units_5': 67, 'n_units_6': 84, 'n_components': 27}. Best is trial 125 with value: 0.7611060968297478.\u001b[0m\n"
          ]
        },
        {
          "metadata": {
            "tags": null
          },
          "name": "stdout",
          "output_type": "stream",
          "text": [
            "cross-val accuracy: 0.74673\n",
            "cross-val f1 score: 0.7578\n"
          ]
        },
        {
          "metadata": {
            "tags": null
          },
          "name": "stderr",
          "output_type": "stream",
          "text": [
            "\u001b[32m[I 2021-12-03 04:11:37,557]\u001b[0m Trial 127 finished with value: 0.7525930109153316 and parameters: {'n_layers': 6, 'n_units_0': 81, 'n_units_1': 8, 'n_units_2': 73, 'n_units_3': 98, 'n_units_4': 19, 'n_units_5': 70, 'n_components': 27}. Best is trial 125 with value: 0.7611060968297478.\u001b[0m\n"
          ]
        },
        {
          "metadata": {
            "tags": null
          },
          "name": "stdout",
          "output_type": "stream",
          "text": [
            "cross-val accuracy: 0.7521\n",
            "cross-val f1 score: 0.75308\n"
          ]
        },
        {
          "metadata": {
            "tags": null
          },
          "name": "stderr",
          "output_type": "stream",
          "text": [
            "\u001b[32m[I 2021-12-03 04:12:03,908]\u001b[0m Trial 128 finished with value: 0.7536389217999474 and parameters: {'n_layers': 7, 'n_units_0': 86, 'n_units_1': 6, 'n_units_2': 82, 'n_units_3': 92, 'n_units_4': 26, 'n_units_5': 60, 'n_units_6': 55, 'n_components': 27}. Best is trial 125 with value: 0.7611060968297478.\u001b[0m\n"
          ]
        },
        {
          "metadata": {
            "tags": null
          },
          "name": "stdout",
          "output_type": "stream",
          "text": [
            "cross-val accuracy: 0.74533\n",
            "cross-val f1 score: 0.76194\n"
          ]
        },
        {
          "metadata": {
            "tags": null
          },
          "name": "stderr",
          "output_type": "stream",
          "text": [
            "\u001b[32m[I 2021-12-03 04:12:29,895]\u001b[0m Trial 129 finished with value: 0.75144127744242 and parameters: {'n_layers': 6, 'n_units_0': 93, 'n_units_1': 11, 'n_units_2': 75, 'n_units_3': 100, 'n_units_4': 21, 'n_units_5': 51, 'n_components': 27}. Best is trial 125 with value: 0.7611060968297478.\u001b[0m\n"
          ]
        },
        {
          "metadata": {
            "tags": null
          },
          "name": "stdout",
          "output_type": "stream",
          "text": [
            "cross-val accuracy: 0.74603\n",
            "cross-val f1 score: 0.75685\n"
          ]
        },
        {
          "metadata": {
            "tags": null
          },
          "name": "stderr",
          "output_type": "stream",
          "text": [
            "\u001b[32m[I 2021-12-03 04:12:55,550]\u001b[0m Trial 130 finished with value: 0.7483975391846268 and parameters: {'n_layers': 7, 'n_units_0': 96, 'n_units_1': 5, 'n_units_2': 63, 'n_units_3': 88, 'n_units_4': 16, 'n_units_5': 65, 'n_units_6': 80, 'n_components': 30}. Best is trial 125 with value: 0.7611060968297478.\u001b[0m\n"
          ]
        },
        {
          "metadata": {
            "tags": null
          },
          "name": "stdout",
          "output_type": "stream",
          "text": [
            "cross-val accuracy: 0.73576\n",
            "cross-val f1 score: 0.76103\n"
          ]
        },
        {
          "metadata": {
            "tags": null
          },
          "name": "stderr",
          "output_type": "stream",
          "text": [
            "\u001b[32m[I 2021-12-03 04:13:31,485]\u001b[0m Trial 131 finished with value: 0.7529119966052658 and parameters: {'n_layers': 7, 'n_units_0': 78, 'n_units_1': 17, 'n_units_2': 84, 'n_units_3': 74, 'n_units_4': 7, 'n_units_5': 71, 'n_units_6': 89, 'n_components': 27}. Best is trial 125 with value: 0.7611060968297478.\u001b[0m\n"
          ]
        },
        {
          "metadata": {
            "tags": null
          },
          "name": "stdout",
          "output_type": "stream",
          "text": [
            "cross-val accuracy: 0.74743\n",
            "cross-val f1 score: 0.75839\n"
          ]
        },
        {
          "metadata": {
            "tags": null
          },
          "name": "stderr",
          "output_type": "stream",
          "text": [
            "\u001b[32m[I 2021-12-03 04:14:02,285]\u001b[0m Trial 132 finished with value: 0.7526348130256086 and parameters: {'n_layers': 7, 'n_units_0': 83, 'n_units_1': 20, 'n_units_2': 89, 'n_units_3': 8, 'n_units_4': 11, 'n_units_5': 82, 'n_units_6': 97, 'n_components': 27}. Best is trial 125 with value: 0.7611060968297478.\u001b[0m\n"
          ]
        },
        {
          "metadata": {
            "tags": null
          },
          "name": "stdout",
          "output_type": "stream",
          "text": [
            "cross-val accuracy: 0.74977\n",
            "cross-val f1 score: 0.7555\n"
          ]
        },
        {
          "metadata": {
            "tags": null
          },
          "name": "stderr",
          "output_type": "stream",
          "text": [
            "\u001b[32m[I 2021-12-03 04:14:39,727]\u001b[0m Trial 133 finished with value: 0.7542313018785958 and parameters: {'n_layers': 7, 'n_units_0': 72, 'n_units_1': 83, 'n_units_2': 77, 'n_units_3': 94, 'n_units_4': 23, 'n_units_5': 68, 'n_units_6': 95, 'n_components': 25}. Best is trial 125 with value: 0.7611060968297478.\u001b[0m\n"
          ]
        },
        {
          "metadata": {
            "tags": null
          },
          "name": "stdout",
          "output_type": "stream",
          "text": [
            "cross-val accuracy: 0.7472\n",
            "cross-val f1 score: 0.76126\n"
          ]
        },
        {
          "metadata": {
            "tags": null
          },
          "name": "stderr",
          "output_type": "stream",
          "text": [
            "\u001b[32m[I 2021-12-03 04:15:07,317]\u001b[0m Trial 134 finished with value: 0.7448038963394796 and parameters: {'n_layers': 7, 'n_units_0': 75, 'n_units_1': 25, 'n_units_2': 99, 'n_units_3': 40, 'n_units_4': 56, 'n_units_5': 76, 'n_units_6': 91, 'n_components': 28}. Best is trial 125 with value: 0.7611060968297478.\u001b[0m\n"
          ]
        },
        {
          "metadata": {
            "tags": null
          },
          "name": "stdout",
          "output_type": "stream",
          "text": [
            "cross-val accuracy: 0.75164\n",
            "cross-val f1 score: 0.73797\n"
          ]
        },
        {
          "metadata": {
            "tags": null
          },
          "name": "stderr",
          "output_type": "stream",
          "text": [
            "\u001b[32m[I 2021-12-03 04:15:33,615]\u001b[0m Trial 135 finished with value: 0.7478603025541951 and parameters: {'n_layers': 7, 'n_units_0': 88, 'n_units_1': 13, 'n_units_2': 80, 'n_units_3': 36, 'n_units_4': 14, 'n_units_5': 73, 'n_units_6': 87, 'n_components': 27}. Best is trial 125 with value: 0.7611060968297478.\u001b[0m\n"
          ]
        },
        {
          "metadata": {
            "tags": null
          },
          "name": "stdout",
          "output_type": "stream",
          "text": [
            "cross-val accuracy: 0.74813\n",
            "cross-val f1 score: 0.74759\n"
          ]
        },
        {
          "metadata": {
            "tags": null
          },
          "name": "stderr",
          "output_type": "stream",
          "text": [
            "\u001b[32m[I 2021-12-03 04:15:54,529]\u001b[0m Trial 136 finished with value: 0.7568447923888066 and parameters: {'n_layers': 7, 'n_units_0': 51, 'n_units_1': 87, 'n_units_2': 42, 'n_units_3': 25, 'n_units_4': 18, 'n_units_5': 44, 'n_units_6': 60, 'n_components': 28}. Best is trial 125 with value: 0.7611060968297478.\u001b[0m\n"
          ]
        },
        {
          "metadata": {
            "tags": null
          },
          "name": "stdout",
          "output_type": "stream",
          "text": [
            "cross-val accuracy: 0.75023\n",
            "cross-val f1 score: 0.76346\n"
          ]
        },
        {
          "metadata": {
            "tags": null
          },
          "name": "stderr",
          "output_type": "stream",
          "text": [
            "\u001b[32m[I 2021-12-03 04:16:22,802]\u001b[0m Trial 137 finished with value: 0.7558624030960961 and parameters: {'n_layers': 6, 'n_units_0': 62, 'n_units_1': 57, 'n_units_2': 95, 'n_units_3': 69, 'n_units_4': 45, 'n_units_5': 79, 'n_components': 27}. Best is trial 125 with value: 0.7611060968297478.\u001b[0m\n"
          ]
        },
        {
          "metadata": {
            "tags": null
          },
          "name": "stdout",
          "output_type": "stream",
          "text": [
            "cross-val accuracy: 0.74463\n",
            "cross-val f1 score: 0.76709\n"
          ]
        },
        {
          "metadata": {
            "tags": null
          },
          "name": "stderr",
          "output_type": "stream",
          "text": [
            "\u001b[32m[I 2021-12-03 04:16:50,502]\u001b[0m Trial 138 finished with value: 0.7543116847060443 and parameters: {'n_layers': 7, 'n_units_0': 79, 'n_units_1': 44, 'n_units_2': 90, 'n_units_3': 16, 'n_units_4': 29, 'n_units_5': 49, 'n_units_6': 47, 'n_components': 27}. Best is trial 125 with value: 0.7611060968297478.\u001b[0m\n"
          ]
        },
        {
          "metadata": {
            "tags": null
          },
          "name": "stdout",
          "output_type": "stream",
          "text": [
            "cross-val accuracy: 0.74673\n",
            "cross-val f1 score: 0.76189\n"
          ]
        },
        {
          "metadata": {
            "tags": null
          },
          "name": "stderr",
          "output_type": "stream",
          "text": [
            "\u001b[32m[I 2021-12-03 04:17:12,359]\u001b[0m Trial 139 finished with value: 0.6763818607960091 and parameters: {'n_layers': 6, 'n_units_0': 85, 'n_units_1': 78, 'n_units_2': 60, 'n_units_3': 33, 'n_units_4': 95, 'n_units_5': 2, 'n_components': 27}. Best is trial 125 with value: 0.7611060968297478.\u001b[0m\n"
          ]
        },
        {
          "metadata": {
            "tags": null
          },
          "name": "stdout",
          "output_type": "stream",
          "text": [
            "cross-val accuracy: 0.75\n",
            "cross-val f1 score: 0.60277\n"
          ]
        },
        {
          "metadata": {
            "tags": null
          },
          "name": "stderr",
          "output_type": "stream",
          "text": [
            "\u001b[32m[I 2021-12-03 04:17:39,244]\u001b[0m Trial 140 finished with value: 0.7468126158400672 and parameters: {'n_layers': 7, 'n_units_0': 82, 'n_units_1': 37, 'n_units_2': 87, 'n_units_3': 82, 'n_units_4': 20, 'n_units_5': 55, 'n_units_6': 58, 'n_components': 27}. Best is trial 125 with value: 0.7611060968297478.\u001b[0m\n"
          ]
        },
        {
          "metadata": {
            "tags": null
          },
          "name": "stdout",
          "output_type": "stream",
          "text": [
            "cross-val accuracy: 0.75163\n",
            "cross-val f1 score: 0.74199\n"
          ]
        },
        {
          "metadata": {
            "tags": null
          },
          "name": "stderr",
          "output_type": "stream",
          "text": [
            "\u001b[32m[I 2021-12-03 04:18:11,710]\u001b[0m Trial 141 finished with value: 0.7537977528107531 and parameters: {'n_layers': 7, 'n_units_0': 89, 'n_units_1': 15, 'n_units_2': 96, 'n_units_3': 86, 'n_units_4': 5, 'n_units_5': 91, 'n_units_6': 95, 'n_components': 28}. Best is trial 125 with value: 0.7611060968297478.\u001b[0m\n"
          ]
        },
        {
          "metadata": {
            "tags": null
          },
          "name": "stdout",
          "output_type": "stream",
          "text": [
            "cross-val accuracy: 0.74557\n",
            "cross-val f1 score: 0.76203\n"
          ]
        },
        {
          "metadata": {
            "tags": null
          },
          "name": "stderr",
          "output_type": "stream",
          "text": [
            "\u001b[32m[I 2021-12-03 04:18:38,644]\u001b[0m Trial 142 finished with value: 0.7523302760733337 and parameters: {'n_layers': 7, 'n_units_0': 76, 'n_units_1': 15, 'n_units_2': 98, 'n_units_3': 97, 'n_units_4': 6, 'n_units_5': 91, 'n_units_6': 96, 'n_components': 28}. Best is trial 125 with value: 0.7611060968297478.\u001b[0m\n"
          ]
        },
        {
          "metadata": {
            "tags": null
          },
          "name": "stdout",
          "output_type": "stream",
          "text": [
            "cross-val accuracy: 0.74417\n",
            "cross-val f1 score: 0.76049\n"
          ]
        },
        {
          "metadata": {
            "tags": null
          },
          "name": "stderr",
          "output_type": "stream",
          "text": [
            "\u001b[32m[I 2021-12-03 04:19:05,040]\u001b[0m Trial 143 finished with value: 0.7552959300324074 and parameters: {'n_layers': 7, 'n_units_0': 91, 'n_units_1': 21, 'n_units_2': 92, 'n_units_3': 96, 'n_units_4': 9, 'n_units_5': 85, 'n_units_6': 93, 'n_components': 28}. Best is trial 125 with value: 0.7611060968297478.\u001b[0m\n"
          ]
        },
        {
          "metadata": {
            "tags": null
          },
          "name": "stdout",
          "output_type": "stream",
          "text": [
            "cross-val accuracy: 0.74766\n",
            "cross-val f1 score: 0.76293\n"
          ]
        },
        {
          "metadata": {
            "tags": null
          },
          "name": "stderr",
          "output_type": "stream",
          "text": [
            "\u001b[32m[I 2021-12-03 04:19:36,869]\u001b[0m Trial 144 finished with value: 0.7498811364277467 and parameters: {'n_layers': 7, 'n_units_0': 49, 'n_units_1': 89, 'n_units_2': 95, 'n_units_3': 30, 'n_units_4': 53, 'n_units_5': 88, 'n_units_6': 99, 'n_components': 28}. Best is trial 125 with value: 0.7611060968297478.\u001b[0m\n"
          ]
        },
        {
          "metadata": {
            "tags": null
          },
          "name": "stdout",
          "output_type": "stream",
          "text": [
            "cross-val accuracy: 0.74486\n",
            "cross-val f1 score: 0.7549\n"
          ]
        },
        {
          "metadata": {
            "tags": null
          },
          "name": "stderr",
          "output_type": "stream",
          "text": [
            "\u001b[32m[I 2021-12-03 04:19:59,503]\u001b[0m Trial 145 finished with value: 0.7502669163647546 and parameters: {'n_layers': 7, 'n_units_0': 55, 'n_units_1': 47, 'n_units_2': 81, 'n_units_3': 20, 'n_units_4': 1, 'n_units_5': 59, 'n_units_6': 64, 'n_components': 28}. Best is trial 125 with value: 0.7611060968297478.\u001b[0m\n"
          ]
        },
        {
          "metadata": {
            "tags": null
          },
          "name": "stdout",
          "output_type": "stream",
          "text": [
            "cross-val accuracy: 0.7479\n",
            "cross-val f1 score: 0.75263\n"
          ]
        },
        {
          "metadata": {
            "tags": null
          },
          "name": "stderr",
          "output_type": "stream",
          "text": [
            "\u001b[32m[I 2021-12-03 04:20:31,044]\u001b[0m Trial 146 finished with value: 0.7524500481953101 and parameters: {'n_layers': 7, 'n_units_0': 61, 'n_units_1': 10, 'n_units_2': 100, 'n_units_3': 94, 'n_units_4': 4, 'n_units_5': 71, 'n_units_6': 89, 'n_components': 29}. Best is trial 125 with value: 0.7611060968297478.\u001b[0m\n"
          ]
        },
        {
          "metadata": {
            "tags": null
          },
          "name": "stdout",
          "output_type": "stream",
          "text": [
            "cross-val accuracy: 0.7493\n",
            "cross-val f1 score: 0.7556\n"
          ]
        },
        {
          "metadata": {
            "tags": null
          },
          "name": "stderr",
          "output_type": "stream",
          "text": [
            "\u001b[32m[I 2021-12-03 04:20:49,528]\u001b[0m Trial 147 finished with value: 0.752715138565042 and parameters: {'n_layers': 6, 'n_units_0': 55, 'n_units_1': 13, 'n_units_2': 85, 'n_units_3': 11, 'n_units_4': 14, 'n_units_5': 93, 'n_components': 27}. Best is trial 125 with value: 0.7611060968297478.\u001b[0m\n"
          ]
        },
        {
          "metadata": {
            "tags": null
          },
          "name": "stdout",
          "output_type": "stream",
          "text": [
            "cross-val accuracy: 0.7472\n",
            "cross-val f1 score: 0.75823\n"
          ]
        },
        {
          "metadata": {
            "tags": null
          },
          "name": "stderr",
          "output_type": "stream",
          "text": [
            "\u001b[32m[I 2021-12-03 04:21:23,057]\u001b[0m Trial 148 finished with value: 0.7534410183374014 and parameters: {'n_layers': 7, 'n_units_0': 53, 'n_units_1': 33, 'n_units_2': 91, 'n_units_3': 100, 'n_units_4': 87, 'n_units_5': 47, 'n_units_6': 53, 'n_components': 27}. Best is trial 125 with value: 0.7611060968297478.\u001b[0m\n"
          ]
        },
        {
          "metadata": {
            "tags": null
          },
          "name": "stdout",
          "output_type": "stream",
          "text": [
            "cross-val accuracy: 0.74697\n",
            "cross-val f1 score: 0.75992\n"
          ]
        },
        {
          "metadata": {
            "tags": null
          },
          "name": "stderr",
          "output_type": "stream",
          "text": [
            "\u001b[32m[I 2021-12-03 04:21:45,619]\u001b[0m Trial 149 finished with value: 0.7460717723444059 and parameters: {'n_layers': 6, 'n_units_0': 70, 'n_units_1': 93, 'n_units_2': 93, 'n_units_3': 23, 'n_units_4': 61, 'n_units_5': 85, 'n_components': 28}. Best is trial 125 with value: 0.7611060968297478.\u001b[0m\n"
          ]
        },
        {
          "metadata": {
            "tags": null
          },
          "name": "stdout",
          "output_type": "stream",
          "text": [
            "cross-val accuracy: 0.7542\n",
            "cross-val f1 score: 0.73794\n"
          ]
        },
        {
          "metadata": {
            "tags": null
          },
          "name": "stderr",
          "output_type": "stream",
          "text": [
            "\u001b[32m[I 2021-12-03 04:22:11,090]\u001b[0m Trial 150 finished with value: 0.7541444590822938 and parameters: {'n_layers': 7, 'n_units_0': 23, 'n_units_1': 81, 'n_units_2': 83, 'n_units_3': 28, 'n_units_4': 33, 'n_units_5': 28, 'n_units_6': 93, 'n_components': 29}. Best is trial 125 with value: 0.7611060968297478.\u001b[0m\n"
          ]
        },
        {
          "metadata": {
            "tags": null
          },
          "name": "stdout",
          "output_type": "stream",
          "text": [
            "cross-val accuracy: 0.74557\n",
            "cross-val f1 score: 0.76272\n"
          ]
        },
        {
          "metadata": {
            "tags": null
          },
          "name": "stderr",
          "output_type": "stream",
          "text": [
            "\u001b[32m[I 2021-12-03 04:22:38,781]\u001b[0m Trial 151 finished with value: 0.7511667269961242 and parameters: {'n_layers': 7, 'n_units_0': 56, 'n_units_1': 85, 'n_units_2': 77, 'n_units_3': 7, 'n_units_4': 40, 'n_units_5': 61, 'n_units_6': 63, 'n_components': 27}. Best is trial 125 with value: 0.7611060968297478.\u001b[0m\n"
          ]
        },
        {
          "metadata": {
            "tags": null
          },
          "name": "stdout",
          "output_type": "stream",
          "text": [
            "cross-val accuracy: 0.74463\n",
            "cross-val f1 score: 0.7577\n"
          ]
        },
        {
          "metadata": {
            "tags": null
          },
          "name": "stderr",
          "output_type": "stream",
          "text": [
            "\u001b[32m[I 2021-12-03 04:22:56,135]\u001b[0m Trial 152 finished with value: 0.7519362336002388 and parameters: {'n_layers': 5, 'n_units_0': 64, 'n_units_1': 95, 'n_units_2': 73, 'n_units_3': 43, 'n_units_4': 16, 'n_components': 27}. Best is trial 125 with value: 0.7611060968297478.\u001b[0m\n"
          ]
        },
        {
          "metadata": {
            "tags": null
          },
          "name": "stdout",
          "output_type": "stream",
          "text": [
            "cross-val accuracy: 0.7507\n",
            "cross-val f1 score: 0.75317\n"
          ]
        },
        {
          "metadata": {
            "tags": null
          },
          "name": "stderr",
          "output_type": "stream",
          "text": [
            "\u001b[32m[I 2021-12-03 04:23:27,175]\u001b[0m Trial 153 finished with value: 0.7408650981469959 and parameters: {'n_layers': 7, 'n_units_0': 67, 'n_units_1': 87, 'n_units_2': 97, 'n_units_3': 38, 'n_units_4': 22, 'n_units_5': 63, 'n_units_6': 68, 'n_components': 27}. Best is trial 125 with value: 0.7611060968297478.\u001b[0m\n"
          ]
        },
        {
          "metadata": {
            "tags": null
          },
          "name": "stdout",
          "output_type": "stream",
          "text": [
            "cross-val accuracy: 0.74859\n",
            "cross-val f1 score: 0.73314\n"
          ]
        },
        {
          "metadata": {
            "tags": null
          },
          "name": "stderr",
          "output_type": "stream",
          "text": [
            "\u001b[32m[I 2021-12-03 04:23:58,482]\u001b[0m Trial 154 finished with value: 0.7539220876792682 and parameters: {'n_layers': 7, 'n_units_0': 57, 'n_units_1': 90, 'n_units_2': 68, 'n_units_3': 79, 'n_units_4': 65, 'n_units_5': 65, 'n_units_6': 62, 'n_components': 27}. Best is trial 125 with value: 0.7611060968297478.\u001b[0m\n"
          ]
        },
        {
          "metadata": {
            "tags": null
          },
          "name": "stdout",
          "output_type": "stream",
          "text": [
            "cross-val accuracy: 0.74043\n",
            "cross-val f1 score: 0.76741\n"
          ]
        },
        {
          "metadata": {
            "tags": null
          },
          "name": "stderr",
          "output_type": "stream",
          "text": [
            "\u001b[32m[I 2021-12-03 04:24:19,877]\u001b[0m Trial 155 finished with value: 0.753444924872702 and parameters: {'n_layers': 7, 'n_units_0': 59, 'n_units_1': 92, 'n_units_2': 78, 'n_units_3': 51, 'n_units_4': 10, 'n_units_5': 53, 'n_units_6': 56, 'n_components': 27}. Best is trial 125 with value: 0.7611060968297478.\u001b[0m\n"
          ]
        },
        {
          "metadata": {
            "tags": null
          },
          "name": "stdout",
          "output_type": "stream",
          "text": [
            "cross-val accuracy: 0.74626\n",
            "cross-val f1 score: 0.76063\n"
          ]
        },
        {
          "metadata": {
            "tags": null
          },
          "name": "stderr",
          "output_type": "stream",
          "text": [
            "\u001b[32m[I 2021-12-03 04:24:49,063]\u001b[0m Trial 156 finished with value: 0.756347265032816 and parameters: {'n_layers': 7, 'n_units_0': 86, 'n_units_1': 98, 'n_units_2': 80, 'n_units_3': 45, 'n_units_4': 74, 'n_units_5': 57, 'n_units_6': 74, 'n_components': 27}. Best is trial 125 with value: 0.7611060968297478.\u001b[0m\n"
          ]
        },
        {
          "metadata": {
            "tags": null
          },
          "name": "stdout",
          "output_type": "stream",
          "text": [
            "cross-val accuracy: 0.74743\n",
            "cross-val f1 score: 0.76526\n"
          ]
        },
        {
          "metadata": {
            "tags": null
          },
          "name": "stderr",
          "output_type": "stream",
          "text": [
            "\u001b[32m[I 2021-12-03 04:25:17,543]\u001b[0m Trial 157 finished with value: 0.7563287221089883 and parameters: {'n_layers': 7, 'n_units_0': 81, 'n_units_1': 23, 'n_units_2': 75, 'n_units_3': 41, 'n_units_4': 18, 'n_units_5': 67, 'n_units_6': 67, 'n_components': 26}. Best is trial 125 with value: 0.7611060968297478.\u001b[0m\n"
          ]
        },
        {
          "metadata": {
            "tags": null
          },
          "name": "stdout",
          "output_type": "stream",
          "text": [
            "cross-val accuracy: 0.74393\n",
            "cross-val f1 score: 0.76872\n"
          ]
        },
        {
          "metadata": {
            "tags": null
          },
          "name": "stderr",
          "output_type": "stream",
          "text": [
            "\u001b[32m[I 2021-12-03 04:25:46,500]\u001b[0m Trial 158 finished with value: 0.7535256046747058 and parameters: {'n_layers': 7, 'n_units_0': 41, 'n_units_1': 83, 'n_units_2': 88, 'n_units_3': 48, 'n_units_4': 77, 'n_units_5': 45, 'n_units_6': 59, 'n_components': 28}. Best is trial 125 with value: 0.7611060968297478.\u001b[0m\n"
          ]
        },
        {
          "metadata": {
            "tags": null
          },
          "name": "stdout",
          "output_type": "stream",
          "text": [
            "cross-val accuracy: 0.74883\n",
            "cross-val f1 score: 0.75822\n"
          ]
        },
        {
          "metadata": {
            "tags": null
          },
          "name": "stderr",
          "output_type": "stream",
          "text": [
            "\u001b[32m[I 2021-12-03 04:26:11,030]\u001b[0m Trial 159 finished with value: 0.7539239796165856 and parameters: {'n_layers': 7, 'n_units_0': 74, 'n_units_1': 94, 'n_units_2': 83, 'n_units_3': 13, 'n_units_4': 24, 'n_units_5': 41, 'n_units_6': 100, 'n_components': 27}. Best is trial 125 with value: 0.7611060968297478.\u001b[0m\n"
          ]
        },
        {
          "metadata": {
            "tags": null
          },
          "name": "stdout",
          "output_type": "stream",
          "text": [
            "cross-val accuracy: 0.75\n",
            "cross-val f1 score: 0.75785\n"
          ]
        },
        {
          "metadata": {
            "tags": null
          },
          "name": "stderr",
          "output_type": "stream",
          "text": [
            "\u001b[32m[I 2021-12-03 04:26:47,478]\u001b[0m Trial 160 finished with value: 0.7515083589049794 and parameters: {'n_layers': 7, 'n_units_0': 65, 'n_units_1': 100, 'n_units_2': 57, 'n_units_3': 58, 'n_units_4': 98, 'n_units_5': 50, 'n_units_6': 77, 'n_components': 27}. Best is trial 125 with value: 0.7611060968297478.\u001b[0m\n"
          ]
        },
        {
          "metadata": {
            "tags": null
          },
          "name": "stdout",
          "output_type": "stream",
          "text": [
            "cross-val accuracy: 0.7521\n",
            "cross-val f1 score: 0.75092\n"
          ]
        },
        {
          "metadata": {
            "tags": null
          },
          "name": "stderr",
          "output_type": "stream",
          "text": [
            "\u001b[32m[I 2021-12-03 04:27:11,151]\u001b[0m Trial 161 finished with value: 0.7416616222735204 and parameters: {'n_layers': 7, 'n_units_0': 87, 'n_units_1': 29, 'n_units_2': 96, 'n_units_3': 23, 'n_units_4': 3, 'n_units_5': 73, 'n_units_6': 86, 'n_components': 28}. Best is trial 125 with value: 0.7611060968297478.\u001b[0m\n"
          ]
        },
        {
          "metadata": {
            "tags": null
          },
          "name": "stdout",
          "output_type": "stream",
          "text": [
            "cross-val accuracy: 0.73483\n",
            "cross-val f1 score: 0.74849\n"
          ]
        },
        {
          "metadata": {
            "tags": null
          },
          "name": "stderr",
          "output_type": "stream",
          "text": [
            "\u001b[32m[I 2021-12-03 04:27:37,215]\u001b[0m Trial 162 finished with value: 0.7591750653529388 and parameters: {'n_layers': 7, 'n_units_0': 83, 'n_units_1': 30, 'n_units_2': 98, 'n_units_3': 26, 'n_units_4': 4, 'n_units_5': 76, 'n_units_6': 81, 'n_components': 28}. Best is trial 125 with value: 0.7611060968297478.\u001b[0m\n"
          ]
        },
        {
          "metadata": {
            "tags": null
          },
          "name": "stdout",
          "output_type": "stream",
          "text": [
            "cross-val accuracy: 0.7521\n",
            "cross-val f1 score: 0.76625\n"
          ]
        },
        {
          "metadata": {
            "tags": null
          },
          "name": "stderr",
          "output_type": "stream",
          "text": [
            "\u001b[32m[I 2021-12-03 04:28:02,514]\u001b[0m Trial 163 finished with value: 0.7522388675050109 and parameters: {'n_layers': 7, 'n_units_0': 85, 'n_units_1': 27, 'n_units_2': 98, 'n_units_3': 31, 'n_units_4': 7, 'n_units_5': 81, 'n_units_6': 90, 'n_components': 28}. Best is trial 125 with value: 0.7611060968297478.\u001b[0m\n"
          ]
        },
        {
          "metadata": {
            "tags": null
          },
          "name": "stdout",
          "output_type": "stream",
          "text": [
            "cross-val accuracy: 0.74813\n",
            "cross-val f1 score: 0.75635\n"
          ]
        },
        {
          "metadata": {
            "tags": null
          },
          "name": "stderr",
          "output_type": "stream",
          "text": [
            "\u001b[32m[I 2021-12-03 04:28:28,313]\u001b[0m Trial 164 finished with value: 0.7514859608497599 and parameters: {'n_layers': 7, 'n_units_0': 83, 'n_units_1': 36, 'n_units_2': 94, 'n_units_3': 27, 'n_units_4': 12, 'n_units_5': 69, 'n_units_6': 65, 'n_components': 28}. Best is trial 125 with value: 0.7611060968297478.\u001b[0m\n"
          ]
        },
        {
          "metadata": {
            "tags": null
          },
          "name": "stdout",
          "output_type": "stream",
          "text": [
            "cross-val accuracy: 0.75093\n",
            "cross-val f1 score: 0.75204\n"
          ]
        },
        {
          "metadata": {
            "tags": null
          },
          "name": "stderr",
          "output_type": "stream",
          "text": [
            "\u001b[32m[I 2021-12-03 04:29:02,894]\u001b[0m Trial 165 finished with value: 0.748844317478992 and parameters: {'n_layers': 7, 'n_units_0': 14, 'n_units_1': 31, 'n_units_2': 99, 'n_units_3': 35, 'n_units_4': 5, 'n_units_5': 75, 'n_units_6': 83, 'n_components': 28}. Best is trial 125 with value: 0.7611060968297478.\u001b[0m\n"
          ]
        },
        {
          "metadata": {
            "tags": null
          },
          "name": "stdout",
          "output_type": "stream",
          "text": [
            "cross-val accuracy: 0.7437\n",
            "cross-val f1 score: 0.75399\n"
          ]
        },
        {
          "metadata": {
            "tags": null
          },
          "name": "stderr",
          "output_type": "stream",
          "text": [
            "\u001b[32m[I 2021-12-03 04:29:25,089]\u001b[0m Trial 166 finished with value: 0.7527186698492324 and parameters: {'n_layers': 7, 'n_units_0': 78, 'n_units_1': 26, 'n_units_2': 71, 'n_units_3': 29, 'n_units_4': 20, 'n_units_5': 38, 'n_units_6': 42, 'n_components': 27}. Best is trial 125 with value: 0.7611060968297478.\u001b[0m\n"
          ]
        },
        {
          "metadata": {
            "tags": null
          },
          "name": "stdout",
          "output_type": "stream",
          "text": [
            "cross-val accuracy: 0.74673\n",
            "cross-val f1 score: 0.75871\n"
          ]
        },
        {
          "metadata": {
            "tags": null
          },
          "name": "stderr",
          "output_type": "stream",
          "text": [
            "\u001b[32m[I 2021-12-03 04:29:54,457]\u001b[0m Trial 167 finished with value: 0.7561415263210252 and parameters: {'n_layers': 7, 'n_units_0': 72, 'n_units_1': 85, 'n_units_2': 90, 'n_units_3': 25, 'n_units_4': 9, 'n_units_5': 78, 'n_units_6': 72, 'n_components': 27}. Best is trial 125 with value: 0.7611060968297478.\u001b[0m\n"
          ]
        },
        {
          "metadata": {
            "tags": null
          },
          "name": "stdout",
          "output_type": "stream",
          "text": [
            "cross-val accuracy: 0.74813\n",
            "cross-val f1 score: 0.76415\n"
          ]
        },
        {
          "metadata": {
            "tags": null
          },
          "name": "stderr",
          "output_type": "stream",
          "text": [
            "\u001b[32m[I 2021-12-03 04:30:19,535]\u001b[0m Trial 168 finished with value: 0.7484185921366615 and parameters: {'n_layers': 7, 'n_units_0': 49, 'n_units_1': 17, 'n_units_2': 94, 'n_units_3': 88, 'n_units_4': 1, 'n_units_5': 59, 'n_units_6': 96, 'n_components': 27}. Best is trial 125 with value: 0.7611060968297478.\u001b[0m\n"
          ]
        },
        {
          "metadata": {
            "tags": null
          },
          "name": "stdout",
          "output_type": "stream",
          "text": [
            "cross-val accuracy: 0.75023\n",
            "cross-val f1 score: 0.7466\n"
          ]
        },
        {
          "metadata": {
            "tags": null
          },
          "name": "stderr",
          "output_type": "stream",
          "text": [
            "\u001b[32m[I 2021-12-03 04:30:49,604]\u001b[0m Trial 169 finished with value: 0.7543017263618641 and parameters: {'n_layers': 7, 'n_units_0': 81, 'n_units_1': 24, 'n_units_2': 53, 'n_units_3': 96, 'n_units_4': 100, 'n_units_5': 73, 'n_units_6': 81, 'n_components': 28}. Best is trial 125 with value: 0.7611060968297478.\u001b[0m\n"
          ]
        },
        {
          "metadata": {
            "tags": null
          },
          "name": "stdout",
          "output_type": "stream",
          "text": [
            "cross-val accuracy: 0.74766\n",
            "cross-val f1 score: 0.76094\n"
          ]
        },
        {
          "metadata": {
            "tags": null
          },
          "name": "stderr",
          "output_type": "stream",
          "text": [
            "\u001b[32m[I 2021-12-03 04:31:17,986]\u001b[0m Trial 170 finished with value: 0.7531120550591015 and parameters: {'n_layers': 6, 'n_units_0': 32, 'n_units_1': 40, 'n_units_2': 79, 'n_units_3': 98, 'n_units_4': 40, 'n_units_5': 17, 'n_components': 30}. Best is trial 125 with value: 0.7611060968297478.\u001b[0m\n"
          ]
        },
        {
          "metadata": {
            "tags": null
          },
          "name": "stdout",
          "output_type": "stream",
          "text": [
            "cross-val accuracy: 0.74533\n",
            "cross-val f1 score: 0.76089\n"
          ]
        },
        {
          "metadata": {
            "tags": null
          },
          "name": "stderr",
          "output_type": "stream",
          "text": [
            "\u001b[32m[I 2021-12-03 04:31:45,775]\u001b[0m Trial 171 finished with value: 0.7497124314333307 and parameters: {'n_layers': 7, 'n_units_0': 87, 'n_units_1': 29, 'n_units_2': 96, 'n_units_3': 22, 'n_units_4': 3, 'n_units_5': 77, 'n_units_6': 88, 'n_components': 28}. Best is trial 125 with value: 0.7611060968297478.\u001b[0m\n"
          ]
        },
        {
          "metadata": {
            "tags": null
          },
          "name": "stdout",
          "output_type": "stream",
          "text": [
            "cross-val accuracy: 0.74487\n",
            "cross-val f1 score: 0.75456\n"
          ]
        },
        {
          "metadata": {
            "tags": null
          },
          "name": "stderr",
          "output_type": "stream",
          "text": [
            "\u001b[32m[I 2021-12-03 04:32:12,025]\u001b[0m Trial 172 finished with value: 0.7487145331765122 and parameters: {'n_layers': 7, 'n_units_0': 84, 'n_units_1': 21, 'n_units_2': 100, 'n_units_3': 19, 'n_units_4': 6, 'n_units_5': 76, 'n_units_6': 51, 'n_components': 28}. Best is trial 125 with value: 0.7611060968297478.\u001b[0m\n"
          ]
        },
        {
          "metadata": {
            "tags": null
          },
          "name": "stdout",
          "output_type": "stream",
          "text": [
            "cross-val accuracy: 0.74183\n",
            "cross-val f1 score: 0.7556\n"
          ]
        },
        {
          "metadata": {
            "tags": null
          },
          "name": "stderr",
          "output_type": "stream",
          "text": [
            "\u001b[32m[I 2021-12-03 04:32:26,607]\u001b[0m Trial 173 finished with value: 0.7452269648009651 and parameters: {'n_layers': 5, 'n_units_0': 89, 'n_units_1': 32, 'n_units_2': 97, 'n_units_3': 26, 'n_units_4': 3, 'n_components': 28}. Best is trial 125 with value: 0.7611060968297478.\u001b[0m\n"
          ]
        },
        {
          "metadata": {
            "tags": null
          },
          "name": "stdout",
          "output_type": "stream",
          "text": [
            "cross-val accuracy: 0.7472\n",
            "cross-val f1 score: 0.74325\n"
          ]
        },
        {
          "metadata": {
            "tags": null
          },
          "name": "stderr",
          "output_type": "stream",
          "text": [
            "\u001b[32m[I 2021-12-03 04:32:58,686]\u001b[0m Trial 174 finished with value: 0.7501855161154227 and parameters: {'n_layers': 7, 'n_units_0': 84, 'n_units_1': 27, 'n_units_2': 92, 'n_units_3': 31, 'n_units_4': 8, 'n_units_5': 97, 'n_units_6': 92, 'n_components': 28}. Best is trial 125 with value: 0.7611060968297478.\u001b[0m\n"
          ]
        },
        {
          "metadata": {
            "tags": null
          },
          "name": "stdout",
          "output_type": "stream",
          "text": [
            "cross-val accuracy: 0.7395\n",
            "cross-val f1 score: 0.76087\n"
          ]
        },
        {
          "metadata": {
            "tags": null
          },
          "name": "stderr",
          "output_type": "stream",
          "text": [
            "\u001b[32m[I 2021-12-03 04:33:26,078]\u001b[0m Trial 175 finished with value: 0.752523651015018 and parameters: {'n_layers': 7, 'n_units_0': 87, 'n_units_1': 7, 'n_units_2': 65, 'n_units_3': 33, 'n_units_4': 91, 'n_units_5': 87, 'n_units_6': 98, 'n_components': 28}. Best is trial 125 with value: 0.7611060968297478.\u001b[0m\n"
          ]
        },
        {
          "metadata": {
            "tags": null
          },
          "name": "stdout",
          "output_type": "stream",
          "text": [
            "cross-val accuracy: 0.7437\n",
            "cross-val f1 score: 0.76135\n"
          ]
        },
        {
          "metadata": {
            "tags": null
          },
          "name": "stderr",
          "output_type": "stream",
          "text": [
            "\u001b[32m[I 2021-12-03 04:33:54,177]\u001b[0m Trial 176 finished with value: 0.7476352889565356 and parameters: {'n_layers': 7, 'n_units_0': 90, 'n_units_1': 13, 'n_units_2': 76, 'n_units_3': 28, 'n_units_4': 27, 'n_units_5': 80, 'n_units_6': 85, 'n_components': 25}. Best is trial 125 with value: 0.7611060968297478.\u001b[0m\n"
          ]
        },
        {
          "metadata": {
            "tags": null
          },
          "name": "stdout",
          "output_type": "stream",
          "text": [
            "cross-val accuracy: 0.7486\n",
            "cross-val f1 score: 0.74667\n"
          ]
        },
        {
          "metadata": {
            "tags": null
          },
          "name": "stderr",
          "output_type": "stream",
          "text": [
            "\u001b[32m[I 2021-12-03 04:34:27,362]\u001b[0m Trial 177 finished with value: 0.7531062085489322 and parameters: {'n_layers': 7, 'n_units_0': 79, 'n_units_1': 79, 'n_units_2': 97, 'n_units_3': 54, 'n_units_4': 51, 'n_units_5': 71, 'n_units_6': 79, 'n_components': 27}. Best is trial 125 with value: 0.7611060968297478.\u001b[0m\n"
          ]
        },
        {
          "metadata": {
            "tags": null
          },
          "name": "stdout",
          "output_type": "stream",
          "text": [
            "cross-val accuracy: 0.7465\n",
            "cross-val f1 score: 0.75971\n"
          ]
        },
        {
          "metadata": {
            "tags": null
          },
          "name": "stderr",
          "output_type": "stream",
          "text": [
            "\u001b[32m[I 2021-12-03 04:34:46,878]\u001b[0m Trial 178 finished with value: 0.751253130157225 and parameters: {'n_layers': 6, 'n_units_0': 82, 'n_units_1': 75, 'n_units_2': 85, 'n_units_3': 21, 'n_units_4': 14, 'n_units_5': 74, 'n_components': 27}. Best is trial 125 with value: 0.7611060968297478.\u001b[0m\n"
          ]
        },
        {
          "metadata": {
            "tags": null
          },
          "name": "stdout",
          "output_type": "stream",
          "text": [
            "cross-val accuracy: 0.75187\n",
            "cross-val f1 score: 0.75064\n"
          ]
        },
        {
          "metadata": {
            "tags": null
          },
          "name": "stderr",
          "output_type": "stream",
          "text": [
            "\u001b[32m[I 2021-12-03 04:35:06,971]\u001b[0m Trial 179 finished with value: 0.7352075855619488 and parameters: {'n_layers': 7, 'n_units_0': 92, 'n_units_1': 82, 'n_units_2': 25, 'n_units_3': 10, 'n_units_4': 4, 'n_units_5': 78, 'n_units_6': 70, 'n_components': 28}. Best is trial 125 with value: 0.7611060968297478.\u001b[0m\n"
          ]
        },
        {
          "metadata": {
            "tags": null
          },
          "name": "stdout",
          "output_type": "stream",
          "text": [
            "cross-val accuracy: 0.74206\n",
            "cross-val f1 score: 0.72835\n"
          ]
        },
        {
          "metadata": {
            "tags": null
          },
          "name": "stderr",
          "output_type": "stream",
          "text": [
            "\u001b[32m[I 2021-12-03 04:35:37,068]\u001b[0m Trial 180 finished with value: 0.7531827481895617 and parameters: {'n_layers': 7, 'n_units_0': 69, 'n_units_1': 88, 'n_units_2': 94, 'n_units_3': 93, 'n_units_4': 12, 'n_units_5': 56, 'n_units_6': 22, 'n_components': 27}. Best is trial 125 with value: 0.7611060968297478.\u001b[0m\n"
          ]
        },
        {
          "metadata": {
            "tags": null
          },
          "name": "stdout",
          "output_type": "stream",
          "text": [
            "cross-val accuracy: 0.7472\n",
            "cross-val f1 score: 0.75917\n"
          ]
        },
        {
          "metadata": {
            "tags": null
          },
          "name": "stderr",
          "output_type": "stream",
          "text": [
            "\u001b[32m[I 2021-12-03 04:36:08,062]\u001b[0m Trial 181 finished with value: 0.7544785119526332 and parameters: {'n_layers': 6, 'n_units_0': 71, 'n_units_1': 71, 'n_units_2': 93, 'n_units_3': 85, 'n_units_4': 23, 'n_units_5': 82, 'n_components': 28}. Best is trial 125 with value: 0.7611060968297478.\u001b[0m\n"
          ]
        },
        {
          "metadata": {
            "tags": null
          },
          "name": "stdout",
          "output_type": "stream",
          "text": [
            "cross-val accuracy: 0.74463\n",
            "cross-val f1 score: 0.76433\n"
          ]
        },
        {
          "metadata": {
            "tags": null
          },
          "name": "stderr",
          "output_type": "stream",
          "text": [
            "\u001b[32m[I 2021-12-03 04:36:40,736]\u001b[0m Trial 182 finished with value: 0.7544927220259288 and parameters: {'n_layers': 6, 'n_units_0': 63, 'n_units_1': 73, 'n_units_2': 98, 'n_units_3': 84, 'n_units_4': 25, 'n_units_5': 83, 'n_components': 28}. Best is trial 125 with value: 0.7611060968297478.\u001b[0m\n"
          ]
        },
        {
          "metadata": {
            "tags": null
          },
          "name": "stdout",
          "output_type": "stream",
          "text": [
            "cross-val accuracy: 0.74837\n",
            "cross-val f1 score: 0.76062\n"
          ]
        },
        {
          "metadata": {
            "tags": null
          },
          "name": "stderr",
          "output_type": "stream",
          "text": [
            "\u001b[32m[I 2021-12-03 04:37:03,852]\u001b[0m Trial 183 finished with value: 0.7509094782266716 and parameters: {'n_layers': 6, 'n_units_0': 75, 'n_units_1': 80, 'n_units_2': 62, 'n_units_3': 89, 'n_units_4': 21, 'n_units_5': 76, 'n_components': 28}. Best is trial 125 with value: 0.7611060968297478.\u001b[0m\n"
          ]
        },
        {
          "metadata": {
            "tags": null
          },
          "name": "stdout",
          "output_type": "stream",
          "text": [
            "cross-val accuracy: 0.7528\n",
            "cross-val f1 score: 0.74902\n"
          ]
        },
        {
          "metadata": {
            "tags": null
          },
          "name": "stderr",
          "output_type": "stream",
          "text": [
            "\u001b[32m[I 2021-12-03 04:37:28,678]\u001b[0m Trial 184 finished with value: 0.7524189399971741 and parameters: {'n_layers': 6, 'n_units_0': 73, 'n_units_1': 84, 'n_units_2': 81, 'n_units_3': 17, 'n_units_4': 16, 'n_units_5': 79, 'n_components': 28}. Best is trial 125 with value: 0.7611060968297478.\u001b[0m\n"
          ]
        },
        {
          "metadata": {
            "tags": null
          },
          "name": "stdout",
          "output_type": "stream",
          "text": [
            "cross-val accuracy: 0.75234\n",
            "cross-val f1 score: 0.7525\n"
          ]
        },
        {
          "metadata": {
            "tags": null
          },
          "name": "stderr",
          "output_type": "stream",
          "text": [
            "\u001b[32m[I 2021-12-03 04:37:48,423]\u001b[0m Trial 185 finished with value: 0.7478853544346105 and parameters: {'n_layers': 6, 'n_units_0': 68, 'n_units_1': 51, 'n_units_2': 89, 'n_units_3': 25, 'n_units_4': 1, 'n_units_5': 69, 'n_components': 27}. Best is trial 125 with value: 0.7611060968297478.\u001b[0m\n"
          ]
        },
        {
          "metadata": {
            "tags": null
          },
          "name": "stdout",
          "output_type": "stream",
          "text": [
            "cross-val accuracy: 0.74767\n",
            "cross-val f1 score: 0.7481\n"
          ]
        },
        {
          "metadata": {
            "tags": null
          },
          "name": "stderr",
          "output_type": "stream",
          "text": [
            "\u001b[32m[I 2021-12-03 04:38:10,567]\u001b[0m Trial 186 finished with value: 0.7539040739650675 and parameters: {'n_layers': 6, 'n_units_0': 85, 'n_units_1': 10, 'n_units_2': 96, 'n_units_3': 5, 'n_units_4': 19, 'n_units_5': 66, 'n_components': 28}. Best is trial 125 with value: 0.7611060968297478.\u001b[0m\n"
          ]
        },
        {
          "metadata": {
            "tags": null
          },
          "name": "stdout",
          "output_type": "stream",
          "text": [
            "cross-val accuracy: 0.74837\n",
            "cross-val f1 score: 0.75944\n"
          ]
        },
        {
          "metadata": {
            "tags": null
          },
          "name": "stderr",
          "output_type": "stream",
          "text": [
            "\u001b[32m[I 2021-12-03 04:38:41,327]\u001b[0m Trial 187 finished with value: 0.7524336898663867 and parameters: {'n_layers': 7, 'n_units_0': 80, 'n_units_1': 75, 'n_units_2': 92, 'n_units_3': 91, 'n_units_4': 28, 'n_units_5': 72, 'n_units_6': 55, 'n_components': 28}. Best is trial 125 with value: 0.7611060968297478.\u001b[0m\n"
          ]
        },
        {
          "metadata": {
            "tags": null
          },
          "name": "stdout",
          "output_type": "stream",
          "text": [
            "cross-val accuracy: 0.74883\n",
            "cross-val f1 score: 0.75603\n"
          ]
        },
        {
          "metadata": {
            "tags": null
          },
          "name": "stderr",
          "output_type": "stream",
          "text": [
            "\u001b[32m[I 2021-12-03 04:39:23,324]\u001b[0m Trial 188 finished with value: 0.7504313194410701 and parameters: {'n_layers': 7, 'n_units_0': 2, 'n_units_1': 77, 'n_units_2': 100, 'n_units_3': 100, 'n_units_4': 17, 'n_units_5': 63, 'n_units_6': 93, 'n_components': 27}. Best is trial 125 with value: 0.7611060968297478.\u001b[0m\n"
          ]
        },
        {
          "metadata": {
            "tags": null
          },
          "name": "stdout",
          "output_type": "stream",
          "text": [
            "cross-val accuracy: 0.74533\n",
            "cross-val f1 score: 0.75553\n"
          ]
        },
        {
          "metadata": {
            "tags": null
          },
          "name": "stderr",
          "output_type": "stream",
          "text": [
            "\u001b[32m[I 2021-12-03 04:39:44,387]\u001b[0m Trial 189 finished with value: 0.7495193978793822 and parameters: {'n_layers': 6, 'n_units_0': 76, 'n_units_1': 28, 'n_units_2': 95, 'n_units_3': 29, 'n_units_4': 10, 'n_units_5': 43, 'n_components': 26}. Best is trial 125 with value: 0.7611060968297478.\u001b[0m\n"
          ]
        },
        {
          "metadata": {
            "tags": null
          },
          "name": "stdout",
          "output_type": "stream",
          "text": [
            "cross-val accuracy: 0.7465\n",
            "cross-val f1 score: 0.75254\n"
          ]
        },
        {
          "metadata": {
            "tags": null
          },
          "name": "stderr",
          "output_type": "stream",
          "text": [
            "\u001b[32m[I 2021-12-03 04:40:09,780]\u001b[0m Trial 190 finished with value: 0.7583117141834648 and parameters: {'n_layers': 7, 'n_units_0': 87, 'n_units_1': 96, 'n_units_2': 86, 'n_units_3': 49, 'n_units_4': 6, 'n_units_5': 48, 'n_units_6': 3, 'n_components': 27}. Best is trial 125 with value: 0.7611060968297478.\u001b[0m\n"
          ]
        },
        {
          "metadata": {
            "tags": null
          },
          "name": "stdout",
          "output_type": "stream",
          "text": [
            "cross-val accuracy: 0.7486\n",
            "cross-val f1 score: 0.76802\n"
          ]
        },
        {
          "metadata": {
            "tags": null
          },
          "name": "stderr",
          "output_type": "stream",
          "text": [
            "\u001b[32m[I 2021-12-03 04:40:33,603]\u001b[0m Trial 191 finished with value: 0.7513811055795221 and parameters: {'n_layers': 7, 'n_units_0': 88, 'n_units_1': 45, 'n_units_2': 87, 'n_units_3': 48, 'n_units_4': 4, 'n_units_5': 47, 'n_units_6': 21, 'n_components': 27}. Best is trial 125 with value: 0.7611060968297478.\u001b[0m\n"
          ]
        },
        {
          "metadata": {
            "tags": null
          },
          "name": "stdout",
          "output_type": "stream",
          "text": [
            "cross-val accuracy: 0.7493\n",
            "cross-val f1 score: 0.75346\n"
          ]
        },
        {
          "metadata": {
            "tags": null
          },
          "name": "stderr",
          "output_type": "stream",
          "text": [
            "\u001b[32m[I 2021-12-03 04:41:00,246]\u001b[0m Trial 192 finished with value: 0.7560665855716586 and parameters: {'n_layers': 7, 'n_units_0': 87, 'n_units_1': 95, 'n_units_2': 83, 'n_units_3': 46, 'n_units_4': 7, 'n_units_5': 50, 'n_units_6': 10, 'n_components': 27}. Best is trial 125 with value: 0.7611060968297478.\u001b[0m\n"
          ]
        },
        {
          "metadata": {
            "tags": null
          },
          "name": "stdout",
          "output_type": "stream",
          "text": [
            "cross-val accuracy: 0.7486\n",
            "cross-val f1 score: 0.76354\n"
          ]
        },
        {
          "metadata": {
            "tags": null
          },
          "name": "stderr",
          "output_type": "stream",
          "text": [
            "\u001b[32m[I 2021-12-03 04:41:32,155]\u001b[0m Trial 193 finished with value: 0.7520075490757434 and parameters: {'n_layers': 7, 'n_units_0': 83, 'n_units_1': 96, 'n_units_2': 91, 'n_units_3': 80, 'n_units_4': 3, 'n_units_5': 54, 'n_units_6': 61, 'n_components': 27}. Best is trial 125 with value: 0.7611060968297478.\u001b[0m\n"
          ]
        },
        {
          "metadata": {
            "tags": null
          },
          "name": "stdout",
          "output_type": "stream",
          "text": [
            "cross-val accuracy: 0.7423\n",
            "cross-val f1 score: 0.76172\n"
          ]
        },
        {
          "metadata": {
            "tags": null
          },
          "name": "stderr",
          "output_type": "stream",
          "text": [
            "\u001b[32m[I 2021-12-03 04:41:58,140]\u001b[0m Trial 194 finished with value: 0.7536664845447644 and parameters: {'n_layers': 7, 'n_units_0': 86, 'n_units_1': 91, 'n_units_2': 87, 'n_units_3': 43, 'n_units_4': 5, 'n_units_5': 46, 'n_units_6': 3, 'n_components': 27}. Best is trial 125 with value: 0.7611060968297478.\u001b[0m\n"
          ]
        },
        {
          "metadata": {
            "tags": null
          },
          "name": "stdout",
          "output_type": "stream",
          "text": [
            "cross-val accuracy: 0.74627\n",
            "cross-val f1 score: 0.76107\n"
          ]
        },
        {
          "metadata": {
            "tags": null
          },
          "name": "stderr",
          "output_type": "stream",
          "text": [
            "\u001b[32m[I 2021-12-03 04:42:28,364]\u001b[0m Trial 195 finished with value: 0.7592610175675598 and parameters: {'n_layers': 7, 'n_units_0': 90, 'n_units_1': 19, 'n_units_2': 82, 'n_units_3': 63, 'n_units_4': 22, 'n_units_5': 48, 'n_units_6': 88, 'n_components': 27}. Best is trial 125 with value: 0.7611060968297478.\u001b[0m\n"
          ]
        },
        {
          "metadata": {
            "tags": null
          },
          "name": "stdout",
          "output_type": "stream",
          "text": [
            "cross-val accuracy: 0.75023\n",
            "cross-val f1 score: 0.76829\n"
          ]
        },
        {
          "metadata": {
            "tags": null
          },
          "name": "stderr",
          "output_type": "stream",
          "text": [
            "\u001b[32m[I 2021-12-03 04:42:53,066]\u001b[0m Trial 196 finished with value: 0.740084547746318 and parameters: {'n_layers': 7, 'n_units_0': 91, 'n_units_1': 22, 'n_units_2': 82, 'n_units_3': 49, 'n_units_4': 22, 'n_units_5': 50, 'n_units_6': 87, 'n_components': 27}. Best is trial 125 with value: 0.7611060968297478.\u001b[0m\n"
          ]
        },
        {
          "metadata": {
            "tags": null
          },
          "name": "stdout",
          "output_type": "stream",
          "text": [
            "cross-val accuracy: 0.74557\n",
            "cross-val f1 score: 0.7346\n"
          ]
        },
        {
          "metadata": {
            "tags": null
          },
          "name": "stderr",
          "output_type": "stream",
          "text": [
            "\u001b[32m[I 2021-12-03 04:43:21,005]\u001b[0m Trial 197 finished with value: 0.74434044803415 and parameters: {'n_layers': 7, 'n_units_0': 95, 'n_units_1': 19, 'n_units_2': 79, 'n_units_3': 55, 'n_units_4': 80, 'n_units_5': 48, 'n_units_6': 83, 'n_components': 27}. Best is trial 125 with value: 0.7611060968297478.\u001b[0m\n"
          ]
        },
        {
          "metadata": {
            "tags": null
          },
          "name": "stdout",
          "output_type": "stream",
          "text": [
            "cross-val accuracy: 0.7423\n",
            "cross-val f1 score: 0.74638\n"
          ]
        },
        {
          "metadata": {
            "tags": null
          },
          "name": "stderr",
          "output_type": "stream",
          "text": [
            "\u001b[32m[I 2021-12-03 04:43:46,132]\u001b[0m Trial 198 finished with value: 0.7597375225892847 and parameters: {'n_layers': 7, 'n_units_0': 89, 'n_units_1': 16, 'n_units_2': 85, 'n_units_3': 52, 'n_units_4': 14, 'n_units_5': 44, 'n_units_6': 97, 'n_components': 27}. Best is trial 125 with value: 0.7611060968297478.\u001b[0m\n"
          ]
        },
        {
          "metadata": {
            "tags": null
          },
          "name": "stdout",
          "output_type": "stream",
          "text": [
            "cross-val accuracy: 0.74766\n",
            "cross-val f1 score: 0.77181\n"
          ]
        },
        {
          "metadata": {
            "tags": null
          },
          "name": "stderr",
          "output_type": "stream",
          "text": [
            "\u001b[32m[I 2021-12-03 04:44:08,861]\u001b[0m Trial 199 finished with value: 0.7498883868337431 and parameters: {'n_layers': 7, 'n_units_0': 90, 'n_units_1': 15, 'n_units_2': 85, 'n_units_3': 52, 'n_units_4': 15, 'n_units_5': 45, 'n_units_6': 97, 'n_components': 27}. Best is trial 125 with value: 0.7611060968297478.\u001b[0m\n"
          ]
        },
        {
          "metadata": {
            "tags": null
          },
          "name": "stdout",
          "output_type": "stream",
          "text": [
            "cross-val accuracy: 0.7451\n",
            "cross-val f1 score: 0.75468\n"
          ]
        },
        {
          "metadata": {
            "tags": null
          },
          "name": "stderr",
          "output_type": "stream",
          "text": [
            "\u001b[32m[I 2021-12-03 04:44:34,802]\u001b[0m Trial 200 finished with value: 0.7552003952933355 and parameters: {'n_layers': 7, 'n_units_0': 93, 'n_units_1': 14, 'n_units_2': 81, 'n_units_3': 57, 'n_units_4': 19, 'n_units_5': 40, 'n_units_6': 94, 'n_components': 27}. Best is trial 125 with value: 0.7611060968297478.\u001b[0m\n"
          ]
        },
        {
          "metadata": {
            "tags": null
          },
          "name": "stdout",
          "output_type": "stream",
          "text": [
            "cross-val accuracy: 0.75023\n",
            "cross-val f1 score: 0.76017\n"
          ]
        },
        {
          "metadata": {
            "tags": null
          },
          "name": "stderr",
          "output_type": "stream",
          "text": [
            "\u001b[32m[I 2021-12-03 04:44:53,950]\u001b[0m Trial 201 finished with value: 0.6290565322532754 and parameters: {'n_layers': 7, 'n_units_0': 87, 'n_units_1': 20, 'n_units_2': 85, 'n_units_3': 67, 'n_units_4': 12, 'n_units_5': 51, 'n_units_6': 1, 'n_components': 27}. Best is trial 125 with value: 0.7611060968297478.\u001b[0m\n"
          ]
        },
        {
          "metadata": {
            "tags": null
          },
          "name": "stdout",
          "output_type": "stream",
          "text": [
            "cross-val accuracy: 0.64189\n",
            "cross-val f1 score: 0.61622\n"
          ]
        },
        {
          "metadata": {
            "tags": null
          },
          "name": "stderr",
          "output_type": "stream",
          "text": [
            "\u001b[32m[I 2021-12-03 04:45:23,340]\u001b[0m Trial 202 finished with value: 0.7520379959843075 and parameters: {'n_layers': 7, 'n_units_0': 85, 'n_units_1': 17, 'n_units_2': 77, 'n_units_3': 50, 'n_units_4': 84, 'n_units_5': 44, 'n_units_6': 91, 'n_components': 27}. Best is trial 125 with value: 0.7611060968297478.\u001b[0m\n"
          ]
        },
        {
          "metadata": {
            "tags": null
          },
          "name": "stdout",
          "output_type": "stream",
          "text": [
            "cross-val accuracy: 0.74557\n",
            "cross-val f1 score: 0.75851\n"
          ]
        },
        {
          "metadata": {
            "tags": null
          },
          "name": "stderr",
          "output_type": "stream",
          "text": [
            "\u001b[32m[I 2021-12-03 04:45:48,679]\u001b[0m Trial 203 finished with value: 0.7551656459413416 and parameters: {'n_layers': 7, 'n_units_0': 83, 'n_units_1': 18, 'n_units_2': 82, 'n_units_3': 98, 'n_units_4': 9, 'n_units_5': 42, 'n_units_6': 100, 'n_components': 27}. Best is trial 125 with value: 0.7611060968297478.\u001b[0m\n"
          ]
        },
        {
          "metadata": {
            "tags": null
          },
          "name": "stdout",
          "output_type": "stream",
          "text": [
            "cross-val accuracy: 0.74627\n",
            "cross-val f1 score: 0.76407\n"
          ]
        },
        {
          "metadata": {
            "tags": null
          },
          "name": "stderr",
          "output_type": "stream",
          "text": [
            "\u001b[32m[I 2021-12-03 04:46:18,959]\u001b[0m Trial 204 finished with value: 0.7544157049652822 and parameters: {'n_layers': 7, 'n_units_0': 89, 'n_units_1': 25, 'n_units_2': 89, 'n_units_3': 53, 'n_units_4': 72, 'n_units_5': 48, 'n_units_6': 58, 'n_components': 27}. Best is trial 125 with value: 0.7611060968297478.\u001b[0m\n"
          ]
        },
        {
          "metadata": {
            "tags": null
          },
          "name": "stdout",
          "output_type": "stream",
          "text": [
            "cross-val accuracy: 0.75023\n",
            "cross-val f1 score: 0.7586\n"
          ]
        },
        {
          "metadata": {
            "tags": null
          },
          "name": "stderr",
          "output_type": "stream",
          "text": [
            "\u001b[32m[I 2021-12-03 04:46:45,142]\u001b[0m Trial 205 finished with value: 0.7552519740393461 and parameters: {'n_layers': 7, 'n_units_0': 89, 'n_units_1': 12, 'n_units_2': 84, 'n_units_3': 46, 'n_units_4': 14, 'n_units_5': 23, 'n_units_6': 8, 'n_components': 27}. Best is trial 125 with value: 0.7611060968297478.\u001b[0m\n"
          ]
        },
        {
          "metadata": {
            "tags": null
          },
          "name": "stdout",
          "output_type": "stream",
          "text": [
            "cross-val accuracy: 0.74906\n",
            "cross-val f1 score: 0.76144\n"
          ]
        },
        {
          "metadata": {
            "tags": null
          },
          "name": "stderr",
          "output_type": "stream",
          "text": [
            "\u001b[32m[I 2021-12-03 04:47:14,259]\u001b[0m Trial 206 finished with value: 0.7562547369038368 and parameters: {'n_layers': 7, 'n_units_0': 85, 'n_units_1': 86, 'n_units_2': 74, 'n_units_3': 62, 'n_units_4': 6, 'n_units_5': 53, 'n_units_6': 98, 'n_components': 27}. Best is trial 125 with value: 0.7611060968297478.\u001b[0m\n"
          ]
        },
        {
          "metadata": {
            "tags": null
          },
          "name": "stdout",
          "output_type": "stream",
          "text": [
            "cross-val accuracy: 0.74767\n",
            "cross-val f1 score: 0.76484\n"
          ]
        },
        {
          "metadata": {
            "tags": null
          },
          "name": "stderr",
          "output_type": "stream",
          "text": [
            "\u001b[32m[I 2021-12-03 04:47:35,315]\u001b[0m Trial 207 finished with value: 0.7532515043113845 and parameters: {'n_layers': 7, 'n_units_0': 88, 'n_units_1': 16, 'n_units_2': 79, 'n_units_3': 24, 'n_units_4': 17, 'n_units_5': 60, 'n_units_6': 85, 'n_components': 27}. Best is trial 125 with value: 0.7611060968297478.\u001b[0m\n"
          ]
        },
        {
          "metadata": {
            "tags": null
          },
          "name": "stdout",
          "output_type": "stream",
          "text": [
            "cross-val accuracy: 0.74696\n",
            "cross-val f1 score: 0.75954\n"
          ]
        },
        {
          "metadata": {
            "tags": null
          },
          "name": "stderr",
          "output_type": "stream",
          "text": [
            "\u001b[32m[I 2021-12-03 04:48:06,337]\u001b[0m Trial 208 finished with value: 0.7535797746437156 and parameters: {'n_layers': 7, 'n_units_0': 82, 'n_units_1': 98, 'n_units_2': 81, 'n_units_3': 14, 'n_units_4': 20, 'n_units_5': 48, 'n_units_6': 89, 'n_components': 27}. Best is trial 125 with value: 0.7611060968297478.\u001b[0m\n"
          ]
        },
        {
          "metadata": {
            "tags": null
          },
          "name": "stdout",
          "output_type": "stream",
          "text": [
            "cross-val accuracy: 0.74766\n",
            "cross-val f1 score: 0.7595\n"
          ]
        },
        {
          "metadata": {
            "tags": null
          },
          "name": "stderr",
          "output_type": "stream",
          "text": [
            "\u001b[32m[I 2021-12-03 04:48:42,121]\u001b[0m Trial 209 finished with value: 0.7517522507366354 and parameters: {'n_layers': 7, 'n_units_0': 58, 'n_units_1': 23, 'n_units_2': 86, 'n_units_3': 51, 'n_units_4': 24, 'n_units_5': 46, 'n_units_6': 95, 'n_components': 27}. Best is trial 125 with value: 0.7611060968297478.\u001b[0m\n"
          ]
        },
        {
          "metadata": {
            "tags": null
          },
          "name": "stdout",
          "output_type": "stream",
          "text": [
            "cross-val accuracy: 0.74907\n",
            "cross-val f1 score: 0.75444\n"
          ]
        },
        {
          "metadata": {
            "tags": null
          },
          "name": "stderr",
          "output_type": "stream",
          "text": [
            "\u001b[32m[I 2021-12-03 04:49:10,230]\u001b[0m Trial 210 finished with value: 0.7567596632298513 and parameters: {'n_layers': 7, 'n_units_0': 91, 'n_units_1': 93, 'n_units_2': 77, 'n_units_3': 44, 'n_units_4': 11, 'n_units_5': 36, 'n_units_6': 66, 'n_components': 27}. Best is trial 125 with value: 0.7611060968297478.\u001b[0m\n"
          ]
        },
        {
          "metadata": {
            "tags": null
          },
          "name": "stdout",
          "output_type": "stream",
          "text": [
            "cross-val accuracy: 0.74627\n",
            "cross-val f1 score: 0.76725\n"
          ]
        },
        {
          "metadata": {
            "tags": null
          },
          "name": "stderr",
          "output_type": "stream",
          "text": [
            "\u001b[32m[I 2021-12-03 04:49:37,201]\u001b[0m Trial 211 finished with value: 0.7535999372444011 and parameters: {'n_layers': 6, 'n_units_0': 86, 'n_units_1': 82, 'n_units_2': 95, 'n_units_3': 27, 'n_units_4': 22, 'n_units_5': 75, 'n_components': 29}. Best is trial 125 with value: 0.7611060968297478.\u001b[0m\n"
          ]
        },
        {
          "metadata": {
            "tags": null
          },
          "name": "stdout",
          "output_type": "stream",
          "text": [
            "cross-val accuracy: 0.75233\n",
            "cross-val f1 score: 0.75487\n"
          ]
        },
        {
          "metadata": {
            "tags": null
          },
          "name": "stderr",
          "output_type": "stream",
          "text": [
            "\u001b[32m[I 2021-12-03 04:50:08,302]\u001b[0m Trial 212 finished with value: 0.7463948920177337 and parameters: {'n_layers': 6, 'n_units_0': 70, 'n_units_1': 88, 'n_units_2': 90, 'n_units_3': 73, 'n_units_4': 26, 'n_units_5': 80, 'n_components': 28}. Best is trial 125 with value: 0.7611060968297478.\u001b[0m\n"
          ]
        },
        {
          "metadata": {
            "tags": null
          },
          "name": "stdout",
          "output_type": "stream",
          "text": [
            "cross-val accuracy: 0.74743\n",
            "cross-val f1 score: 0.74536\n"
          ]
        },
        {
          "metadata": {
            "tags": null
          },
          "name": "stderr",
          "output_type": "stream",
          "text": [
            "\u001b[32m[I 2021-12-03 04:50:32,079]\u001b[0m Trial 213 finished with value: 0.7526912950522963 and parameters: {'n_layers': 7, 'n_units_0': 66, 'n_units_1': 19, 'n_units_2': 93, 'n_units_3': 31, 'n_units_4': 46, 'n_units_5': 77, 'n_units_6': 30, 'n_components': 28}. Best is trial 125 with value: 0.7611060968297478.\u001b[0m\n"
          ]
        },
        {
          "metadata": {
            "tags": null
          },
          "name": "stdout",
          "output_type": "stream",
          "text": [
            "cross-val accuracy: 0.74067\n",
            "cross-val f1 score: 0.76472\n"
          ]
        },
        {
          "metadata": {
            "tags": null
          },
          "name": "stderr",
          "output_type": "stream",
          "text": [
            "\u001b[32m[I 2021-12-03 04:51:07,879]\u001b[0m Trial 214 finished with value: 0.7546096124832464 and parameters: {'n_layers': 7, 'n_units_0': 77, 'n_units_1': 84, 'n_units_2': 66, 'n_units_3': 95, 'n_units_4': 18, 'n_units_5': 58, 'n_units_6': 63, 'n_components': 27}. Best is trial 125 with value: 0.7611060968297478.\u001b[0m\n"
          ]
        },
        {
          "metadata": {
            "tags": null
          },
          "name": "stdout",
          "output_type": "stream",
          "text": [
            "cross-val accuracy: 0.74906\n",
            "cross-val f1 score: 0.76015\n"
          ]
        },
        {
          "metadata": {
            "tags": null
          },
          "name": "stderr",
          "output_type": "stream",
          "text": [
            "\u001b[32m[I 2021-12-03 04:51:45,826]\u001b[0m Trial 215 finished with value: 0.7522718221815174 and parameters: {'n_layers': 7, 'n_units_0': 81, 'n_units_1': 11, 'n_units_2': 88, 'n_units_3': 76, 'n_units_4': 57, 'n_units_5': 74, 'n_units_6': 97, 'n_components': 28}. Best is trial 125 with value: 0.7611060968297478.\u001b[0m\n"
          ]
        },
        {
          "metadata": {
            "tags": null
          },
          "name": "stdout",
          "output_type": "stream",
          "text": [
            "cross-val accuracy: 0.7451\n",
            "cross-val f1 score: 0.75944\n"
          ]
        },
        {
          "output_type": "stream",
          "name": "stderr",
          "text": [
            "\u001b[32m[I 2021-12-03 04:52:19,263]\u001b[0m Trial 216 finished with value: 0.7549463945279953 and parameters: {'n_layers': 7, 'n_units_0': 74, 'n_units_1': 90, 'n_units_2': 98, 'n_units_3': 59, 'n_units_4': 31, 'n_units_5': 70, 'n_units_6': 76, 'n_components': 27}. Best is trial 125 with value: 0.7611060968297478.\u001b[0m\n"
          ]
        },
        {
          "output_type": "stream",
          "name": "stdout",
          "text": [
            "cross-val accuracy: 0.7479\n",
            "cross-val f1 score: 0.76199\n"
          ]
        },
        {
          "output_type": "stream",
          "name": "stderr",
          "text": [
            "\u001b[32m[I 2021-12-03 04:52:45,885]\u001b[0m Trial 217 finished with value: 0.7588953771982423 and parameters: {'n_layers': 6, 'n_units_0': 84, 'n_units_1': 69, 'n_units_2': 91, 'n_units_3': 40, 'n_units_4': 24, 'n_units_5': 14, 'n_components': 27}. Best is trial 125 with value: 0.7611060968297478.\u001b[0m\n"
          ]
        },
        {
          "output_type": "stream",
          "name": "stdout",
          "text": [
            "cross-val accuracy: 0.75257\n",
            "cross-val f1 score: 0.76522\n"
          ]
        },
        {
          "output_type": "stream",
          "name": "stderr",
          "text": [
            "\u001b[32m[I 2021-12-03 04:53:08,771]\u001b[0m Trial 218 finished with value: 0.7560958735204277 and parameters: {'n_layers': 7, 'n_units_0': 85, 'n_units_1': 69, 'n_units_2': 83, 'n_units_3': 42, 'n_units_4': 1, 'n_units_5': 7, 'n_units_6': 91, 'n_components': 27}. Best is trial 125 with value: 0.7611060968297478.\u001b[0m\n"
          ]
        },
        {
          "output_type": "stream",
          "name": "stdout",
          "text": [
            "cross-val accuracy: 0.75047\n",
            "cross-val f1 score: 0.76173\n"
          ]
        },
        {
          "output_type": "stream",
          "name": "stderr",
          "text": [
            "\u001b[32m[I 2021-12-03 04:53:32,406]\u001b[0m Trial 219 finished with value: 0.7504669010693293 and parameters: {'n_layers': 6, 'n_units_0': 83, 'n_units_1': 86, 'n_units_2': 79, 'n_units_3': 40, 'n_units_4': 42, 'n_units_5': 52, 'n_components': 27}. Best is trial 125 with value: 0.7611060968297478.\u001b[0m\n"
          ]
        },
        {
          "output_type": "stream",
          "name": "stdout",
          "text": [
            "cross-val accuracy: 0.74603\n",
            "cross-val f1 score: 0.7549\n"
          ]
        },
        {
          "output_type": "stream",
          "name": "stderr",
          "text": [
            "\u001b[32m[I 2021-12-03 04:54:02,287]\u001b[0m Trial 220 finished with value: 0.7494532563828709 and parameters: {'n_layers': 7, 'n_units_0': 88, 'n_units_1': 67, 'n_units_2': 86, 'n_units_3': 38, 'n_units_4': 21, 'n_units_5': 62, 'n_units_6': 81, 'n_components': 27}. Best is trial 125 with value: 0.7611060968297478.\u001b[0m\n"
          ]
        },
        {
          "output_type": "stream",
          "name": "stdout",
          "text": [
            "cross-val accuracy: 0.74136\n",
            "cross-val f1 score: 0.75755\n"
          ]
        },
        {
          "output_type": "stream",
          "name": "stderr",
          "text": [
            "\u001b[32m[I 2021-12-03 04:54:28,443]\u001b[0m Trial 221 finished with value: 0.7517164316837122 and parameters: {'n_layers': 6, 'n_units_0': 84, 'n_units_1': 72, 'n_units_2': 92, 'n_units_3': 33, 'n_units_4': 26, 'n_units_5': 44, 'n_components': 27}. Best is trial 125 with value: 0.7611060968297478.\u001b[0m\n"
          ]
        },
        {
          "output_type": "stream",
          "name": "stdout",
          "text": [
            "cross-val accuracy: 0.75374\n",
            "cross-val f1 score: 0.7497\n"
          ]
        },
        {
          "output_type": "stream",
          "name": "stderr",
          "text": [
            "\u001b[32m[I 2021-12-03 04:54:52,996]\u001b[0m Trial 222 finished with value: 0.7541899888479038 and parameters: {'n_layers': 6, 'n_units_0': 72, 'n_units_1': 73, 'n_units_2': 94, 'n_units_3': 35, 'n_units_4': 25, 'n_units_5': 84, 'n_components': 27}. Best is trial 125 with value: 0.7611060968297478.\u001b[0m\n"
          ]
        },
        {
          "output_type": "stream",
          "name": "stdout",
          "text": [
            "cross-val accuracy: 0.7444\n",
            "cross-val f1 score: 0.76398\n"
          ]
        },
        {
          "output_type": "stream",
          "name": "stderr",
          "text": [
            "\u001b[32m[I 2021-12-03 04:55:25,844]\u001b[0m Trial 223 finished with value: 0.7524643980790856 and parameters: {'n_layers': 6, 'n_units_0': 79, 'n_units_1': 79, 'n_units_2': 90, 'n_units_3': 82, 'n_units_4': 23, 'n_units_5': 31, 'n_components': 28}. Best is trial 125 with value: 0.7611060968297478.\u001b[0m\n"
          ]
        },
        {
          "output_type": "stream",
          "name": "stdout",
          "text": [
            "cross-val accuracy: 0.75023\n",
            "cross-val f1 score: 0.75469\n"
          ]
        },
        {
          "output_type": "stream",
          "name": "stderr",
          "text": [
            "\u001b[32m[I 2021-12-03 04:55:53,587]\u001b[0m Trial 224 finished with value: 0.7525379339417309 and parameters: {'n_layers': 6, 'n_units_0': 86, 'n_units_1': 81, 'n_units_2': 96, 'n_units_3': 100, 'n_units_4': 20, 'n_units_5': 13, 'n_components': 27}. Best is trial 125 with value: 0.7611060968297478.\u001b[0m\n"
          ]
        },
        {
          "output_type": "stream",
          "name": "stdout",
          "text": [
            "cross-val accuracy: 0.74627\n",
            "cross-val f1 score: 0.75881\n"
          ]
        },
        {
          "output_type": "stream",
          "name": "stderr",
          "text": [
            "\u001b[32m[I 2021-12-03 04:56:10,110]\u001b[0m Trial 225 finished with value: 0.7504951459229144 and parameters: {'n_layers': 6, 'n_units_0': 53, 'n_units_1': 21, 'n_units_2': 88, 'n_units_3': 29, 'n_units_4': 7, 'n_units_5': 67, 'n_components': 28}. Best is trial 125 with value: 0.7611060968297478.\u001b[0m\n"
          ]
        },
        {
          "output_type": "stream",
          "name": "stdout",
          "text": [
            "cross-val accuracy: 0.7409\n",
            "cross-val f1 score: 0.76009\n"
          ]
        },
        {
          "output_type": "stream",
          "name": "stderr",
          "text": [
            "\u001b[32m[I 2021-12-03 04:56:30,128]\u001b[0m Trial 226 finished with value: 0.7555831196888891 and parameters: {'n_layers': 6, 'n_units_0': 87, 'n_units_1': 70, 'n_units_2': 91, 'n_units_3': 41, 'n_units_4': 16, 'n_units_5': 19, 'n_components': 25}. Best is trial 125 with value: 0.7611060968297478.\u001b[0m\n"
          ]
        },
        {
          "output_type": "stream",
          "name": "stdout",
          "text": [
            "cross-val accuracy: 0.74977\n",
            "cross-val f1 score: 0.7614\n"
          ]
        },
        {
          "output_type": "stream",
          "name": "stderr",
          "text": [
            "\u001b[32m[I 2021-12-03 04:57:00,987]\u001b[0m Trial 227 finished with value: 0.7541576210144629 and parameters: {'n_layers': 7, 'n_units_0': 60, 'n_units_1': 76, 'n_units_2': 84, 'n_units_3': 87, 'n_units_4': 93, 'n_units_5': 78, 'n_units_6': 53, 'n_components': 27}. Best is trial 125 with value: 0.7611060968297478.\u001b[0m\n"
          ]
        },
        {
          "output_type": "stream",
          "name": "stdout",
          "text": [
            "cross-val accuracy: 0.7479\n",
            "cross-val f1 score: 0.76041\n"
          ]
        },
        {
          "output_type": "stream",
          "name": "stderr",
          "text": [
            "\u001b[32m[I 2021-12-03 04:57:37,522]\u001b[0m Trial 228 finished with value: 0.7547642771985122 and parameters: {'n_layers': 7, 'n_units_0': 84, 'n_units_1': 63, 'n_units_2': 98, 'n_units_3': 56, 'n_units_4': 88, 'n_units_5': 72, 'n_units_6': 69, 'n_components': 27}. Best is trial 125 with value: 0.7611060968297478.\u001b[0m\n"
          ]
        },
        {
          "output_type": "stream",
          "name": "stdout",
          "text": [
            "cross-val accuracy: 0.74673\n",
            "cross-val f1 score: 0.7628\n"
          ]
        },
        {
          "output_type": "stream",
          "name": "stderr",
          "text": [
            "\u001b[32m[I 2021-12-03 04:58:02,934]\u001b[0m Trial 229 finished with value: 0.7567863409626248 and parameters: {'n_layers': 7, 'n_units_0': 90, 'n_units_1': 35, 'n_units_2': 95, 'n_units_3': 98, 'n_units_4': 3, 'n_units_5': 56, 'n_units_6': 87, 'n_components': 28}. Best is trial 125 with value: 0.7611060968297478.\u001b[0m\n"
          ]
        },
        {
          "output_type": "stream",
          "name": "stdout",
          "text": [
            "cross-val accuracy: 0.7451\n",
            "cross-val f1 score: 0.76847\n"
          ]
        },
        {
          "output_type": "stream",
          "name": "stderr",
          "text": [
            "\u001b[32m[I 2021-12-03 04:58:27,900]\u001b[0m Trial 230 finished with value: 0.7523244209711388 and parameters: {'n_layers': 6, 'n_units_0': 81, 'n_units_1': 14, 'n_units_2': 93, 'n_units_3': 45, 'n_units_4': 23, 'n_units_5': 46, 'n_components': 27}. Best is trial 125 with value: 0.7611060968297478.\u001b[0m\n"
          ]
        },
        {
          "output_type": "stream",
          "name": "stdout",
          "text": [
            "cross-val accuracy: 0.74533\n",
            "cross-val f1 score: 0.75932\n"
          ]
        },
        {
          "output_type": "stream",
          "name": "stderr",
          "text": [
            "\u001b[32m[I 2021-12-03 04:58:46,071]\u001b[0m Trial 231 finished with value: 0.7486705557356852 and parameters: {'n_layers': 7, 'n_units_0': 88, 'n_units_1': 18, 'n_units_2': 100, 'n_units_3': 26, 'n_units_4': 4, 'n_units_5': 21, 'n_units_6': 100, 'n_components': 28}. Best is trial 125 with value: 0.7611060968297478.\u001b[0m\n"
          ]
        },
        {
          "output_type": "stream",
          "name": "stdout",
          "text": [
            "cross-val accuracy: 0.74416\n",
            "cross-val f1 score: 0.75318\n"
          ]
        },
        {
          "output_type": "stream",
          "name": "stderr",
          "text": [
            "\u001b[32m[I 2021-12-03 04:59:13,424]\u001b[0m Trial 232 finished with value: 0.7500302849066827 and parameters: {'n_layers': 7, 'n_units_0': 59, 'n_units_1': 25, 'n_units_2': 98, 'n_units_3': 23, 'n_units_4': 35, 'n_units_5': 7, 'n_units_6': 98, 'n_components': 28}. Best is trial 125 with value: 0.7611060968297478.\u001b[0m\n"
          ]
        },
        {
          "output_type": "stream",
          "name": "stdout",
          "text": [
            "cross-val accuracy: 0.74837\n",
            "cross-val f1 score: 0.75169\n"
          ]
        },
        {
          "output_type": "stream",
          "name": "stderr",
          "text": [
            "\u001b[32m[I 2021-12-03 04:59:39,316]\u001b[0m Trial 233 finished with value: 0.7514391141439966 and parameters: {'n_layers': 7, 'n_units_0': 61, 'n_units_1': 16, 'n_units_2': 100, 'n_units_3': 37, 'n_units_4': 2, 'n_units_5': 23, 'n_units_6': 96, 'n_components': 28}. Best is trial 125 with value: 0.7611060968297478.\u001b[0m\n"
          ]
        },
        {
          "output_type": "stream",
          "name": "stdout",
          "text": [
            "cross-val accuracy: 0.7479\n",
            "cross-val f1 score: 0.75498\n"
          ]
        },
        {
          "output_type": "stream",
          "name": "stderr",
          "text": [
            "\u001b[32m[I 2021-12-03 05:00:06,154]\u001b[0m Trial 234 finished with value: 0.7499210713287578 and parameters: {'n_layers': 7, 'n_units_0': 63, 'n_units_1': 22, 'n_units_2': 97, 'n_units_3': 26, 'n_units_4': 5, 'n_units_5': 81, 'n_units_6': 94, 'n_components': 28}. Best is trial 125 with value: 0.7611060968297478.\u001b[0m\n"
          ]
        },
        {
          "output_type": "stream",
          "name": "stdout",
          "text": [
            "cross-val accuracy: 0.7458\n",
            "cross-val f1 score: 0.75404\n"
          ]
        },
        {
          "output_type": "stream",
          "name": "stderr",
          "text": [
            "\u001b[32m[I 2021-12-03 05:00:25,217]\u001b[0m Trial 235 finished with value: 0.750376132165383 and parameters: {'n_layers': 7, 'n_units_0': 86, 'n_units_1': 18, 'n_units_2': 59, 'n_units_3': 28, 'n_units_4': 8, 'n_units_5': 26, 'n_units_6': 60, 'n_components': 28}. Best is trial 125 with value: 0.7611060968297478.\u001b[0m\n"
          ]
        },
        {
          "output_type": "stream",
          "name": "stdout",
          "text": [
            "cross-val accuracy: 0.75\n",
            "cross-val f1 score: 0.75075\n"
          ]
        },
        {
          "output_type": "stream",
          "name": "stderr",
          "text": [
            "\u001b[32m[I 2021-12-03 05:00:57,285]\u001b[0m Trial 236 finished with value: 0.7532885045019168 and parameters: {'n_layers': 7, 'n_units_0': 67, 'n_units_1': 96, 'n_units_2': 81, 'n_units_3': 31, 'n_units_4': 68, 'n_units_5': 64, 'n_units_6': 57, 'n_components': 30}. Best is trial 125 with value: 0.7611060968297478.\u001b[0m\n"
          ]
        },
        {
          "output_type": "stream",
          "name": "stdout",
          "text": [
            "cross-val accuracy: 0.75093\n",
            "cross-val f1 score: 0.75564\n"
          ]
        },
        {
          "output_type": "stream",
          "name": "stderr",
          "text": [
            "\u001b[32m[I 2021-12-03 05:01:18,180]\u001b[0m Trial 237 finished with value: 0.7588355002471219 and parameters: {'n_layers': 5, 'n_units_0': 83, 'n_units_1': 83, 'n_units_2': 96, 'n_units_3': 47, 'n_units_4': 5, 'n_components': 27}. Best is trial 125 with value: 0.7611060968297478.\u001b[0m\n"
          ]
        },
        {
          "output_type": "stream",
          "name": "stdout",
          "text": [
            "cross-val accuracy: 0.75584\n",
            "cross-val f1 score: 0.76183\n"
          ]
        },
        {
          "output_type": "stream",
          "name": "stderr",
          "text": [
            "\u001b[32m[I 2021-12-03 05:01:39,618]\u001b[0m Trial 238 finished with value: 0.7586691008169598 and parameters: {'n_layers': 5, 'n_units_0': 83, 'n_units_1': 83, 'n_units_2': 46, 'n_units_3': 48, 'n_units_4': 14, 'n_components': 27}. Best is trial 125 with value: 0.7611060968297478.\u001b[0m\n"
          ]
        },
        {
          "output_type": "stream",
          "name": "stdout",
          "text": [
            "cross-val accuracy: 0.74953\n",
            "cross-val f1 score: 0.76781\n"
          ]
        },
        {
          "output_type": "stream",
          "name": "stderr",
          "text": [
            "\u001b[32m[I 2021-12-03 05:01:58,862]\u001b[0m Trial 239 finished with value: 0.7551647328460055 and parameters: {'n_layers': 5, 'n_units_0': 83, 'n_units_1': 83, 'n_units_2': 45, 'n_units_3': 47, 'n_units_4': 15, 'n_components': 27}. Best is trial 125 with value: 0.7611060968297478.\u001b[0m\n"
          ]
        },
        {
          "output_type": "stream",
          "name": "stdout",
          "text": [
            "cross-val accuracy: 0.7486\n",
            "cross-val f1 score: 0.76173\n"
          ]
        },
        {
          "output_type": "stream",
          "name": "stderr",
          "text": [
            "\u001b[32m[I 2021-12-03 05:02:17,688]\u001b[0m Trial 240 finished with value: 0.7561251247122511 and parameters: {'n_layers': 5, 'n_units_0': 81, 'n_units_1': 85, 'n_units_2': 51, 'n_units_3': 49, 'n_units_4': 13, 'n_components': 27}. Best is trial 125 with value: 0.7611060968297478.\u001b[0m\n"
          ]
        },
        {
          "output_type": "stream",
          "name": "stdout",
          "text": [
            "cross-val accuracy: 0.7486\n",
            "cross-val f1 score: 0.76365\n"
          ]
        },
        {
          "output_type": "stream",
          "name": "stderr",
          "text": [
            "\u001b[32m[I 2021-12-03 05:02:37,080]\u001b[0m Trial 241 finished with value: 0.7521310652608921 and parameters: {'n_layers': 5, 'n_units_0': 84, 'n_units_1': 82, 'n_units_2': 64, 'n_units_3': 50, 'n_units_4': 19, 'n_components': 27}. Best is trial 125 with value: 0.7611060968297478.\u001b[0m\n"
          ]
        },
        {
          "output_type": "stream",
          "name": "stdout",
          "text": [
            "cross-val accuracy: 0.74277\n",
            "cross-val f1 score: 0.7615\n"
          ]
        },
        {
          "output_type": "stream",
          "name": "stderr",
          "text": [
            "\u001b[32m[I 2021-12-03 05:02:54,926]\u001b[0m Trial 242 finished with value: 0.7545551865320169 and parameters: {'n_layers': 5, 'n_units_0': 78, 'n_units_1': 80, 'n_units_2': 94, 'n_units_3': 44, 'n_units_4': 6, 'n_components': 27}. Best is trial 125 with value: 0.7611060968297478.\u001b[0m\n"
          ]
        },
        {
          "output_type": "stream",
          "name": "stdout",
          "text": [
            "cross-val accuracy: 0.75046\n",
            "cross-val f1 score: 0.75865\n"
          ]
        },
        {
          "output_type": "stream",
          "name": "stderr",
          "text": [
            "\u001b[32m[I 2021-12-03 05:03:19,554]\u001b[0m Trial 243 finished with value: 0.7536900253717358 and parameters: {'n_layers': 5, 'n_units_0': 85, 'n_units_1': 87, 'n_units_2': 92, 'n_units_3': 49, 'n_units_4': 10, 'n_components': 27}. Best is trial 125 with value: 0.7611060968297478.\u001b[0m\n"
          ]
        },
        {
          "output_type": "stream",
          "name": "stdout",
          "text": [
            "cross-val accuracy: 0.7479\n",
            "cross-val f1 score: 0.75948\n"
          ]
        },
        {
          "output_type": "stream",
          "name": "stderr",
          "text": [
            "\u001b[32m[I 2021-12-03 05:03:41,370]\u001b[0m Trial 244 finished with value: 0.7547653547817561 and parameters: {'n_layers': 5, 'n_units_0': 82, 'n_units_1': 84, 'n_units_2': 40, 'n_units_3': 45, 'n_units_4': 17, 'n_components': 27}. Best is trial 125 with value: 0.7611060968297478.\u001b[0m\n"
          ]
        },
        {
          "output_type": "stream",
          "name": "stdout",
          "text": [
            "cross-val accuracy: 0.75093\n",
            "cross-val f1 score: 0.7586\n"
          ]
        },
        {
          "output_type": "stream",
          "name": "stderr",
          "text": [
            "\u001b[32m[I 2021-12-03 05:03:58,330]\u001b[0m Trial 245 finished with value: 0.7579950258633282 and parameters: {'n_layers': 5, 'n_units_0': 87, 'n_units_1': 83, 'n_units_2': 48, 'n_units_3': 47, 'n_units_4': 22, 'n_components': 27}. Best is trial 125 with value: 0.7611060968297478.\u001b[0m\n"
          ]
        },
        {
          "output_type": "stream",
          "name": "stdout",
          "text": [
            "cross-val accuracy: 0.74276\n",
            "cross-val f1 score: 0.77323\n"
          ]
        },
        {
          "output_type": "stream",
          "name": "stderr",
          "text": [
            "\u001b[32m[I 2021-12-03 05:04:19,495]\u001b[0m Trial 246 finished with value: 0.7602409241443722 and parameters: {'n_layers': 5, 'n_units_0': 87, 'n_units_1': 84, 'n_units_2': 50, 'n_units_3': 47, 'n_units_4': 21, 'n_components': 27}. Best is trial 125 with value: 0.7611060968297478.\u001b[0m\n"
          ]
        },
        {
          "output_type": "stream",
          "name": "stdout",
          "text": [
            "cross-val accuracy: 0.7542\n",
            "cross-val f1 score: 0.76628\n"
          ]
        },
        {
          "output_type": "stream",
          "name": "stderr",
          "text": [
            "\u001b[32m[I 2021-12-03 05:04:40,021]\u001b[0m Trial 247 finished with value: 0.7526062365334989 and parameters: {'n_layers': 5, 'n_units_0': 88, 'n_units_1': 84, 'n_units_2': 46, 'n_units_3': 46, 'n_units_4': 21, 'n_components': 27}. Best is trial 125 with value: 0.7611060968297478.\u001b[0m\n"
          ]
        },
        {
          "output_type": "stream",
          "name": "stdout",
          "text": [
            "cross-val accuracy: 0.7479\n",
            "cross-val f1 score: 0.75731\n"
          ]
        },
        {
          "output_type": "stream",
          "name": "stderr",
          "text": [
            "\u001b[32m[I 2021-12-03 05:05:00,046]\u001b[0m Trial 248 finished with value: 0.7543006699154975 and parameters: {'n_layers': 5, 'n_units_0': 90, 'n_units_1': 86, 'n_units_2': 49, 'n_units_3': 47, 'n_units_4': 22, 'n_components': 27}. Best is trial 125 with value: 0.7611060968297478.\u001b[0m\n"
          ]
        },
        {
          "output_type": "stream",
          "name": "stdout",
          "text": [
            "cross-val accuracy: 0.7465\n",
            "cross-val f1 score: 0.7621\n"
          ]
        },
        {
          "output_type": "stream",
          "name": "stderr",
          "text": [
            "\u001b[32m[I 2021-12-03 05:05:27,446]\u001b[0m Trial 249 finished with value: 0.7479856539898065 and parameters: {'n_layers': 5, 'n_units_0': 85, 'n_units_1': 82, 'n_units_2': 48, 'n_units_3': 43, 'n_units_4': 96, 'n_components': 27}. Best is trial 125 with value: 0.7611060968297478.\u001b[0m\n"
          ]
        },
        {
          "output_type": "stream",
          "name": "stdout",
          "text": [
            "cross-val accuracy: 0.7444\n",
            "cross-val f1 score: 0.75157\n"
          ]
        },
        {
          "output_type": "stream",
          "name": "stderr",
          "text": [
            "\u001b[32m[I 2021-12-03 05:05:48,144]\u001b[0m Trial 250 finished with value: 0.7522966669112782 and parameters: {'n_layers': 5, 'n_units_0': 80, 'n_units_1': 89, 'n_units_2': 46, 'n_units_3': 48, 'n_units_4': 19, 'n_components': 27}. Best is trial 125 with value: 0.7611060968297478.\u001b[0m\n"
          ]
        },
        {
          "output_type": "stream",
          "name": "stdout",
          "text": [
            "cross-val accuracy: 0.74323\n",
            "cross-val f1 score: 0.76136\n"
          ]
        },
        {
          "output_type": "stream",
          "name": "stderr",
          "text": [
            "\u001b[32m[I 2021-12-03 05:06:05,305]\u001b[0m Trial 251 finished with value: 0.7522461961727365 and parameters: {'n_layers': 5, 'n_units_0': 92, 'n_units_1': 83, 'n_units_2': 48, 'n_units_3': 42, 'n_units_4': 15, 'n_components': 27}. Best is trial 125 with value: 0.7611060968297478.\u001b[0m\n"
          ]
        },
        {
          "output_type": "stream",
          "name": "stdout",
          "text": [
            "cross-val accuracy: 0.74743\n",
            "cross-val f1 score: 0.75706\n"
          ]
        },
        {
          "output_type": "stream",
          "name": "stderr",
          "text": [
            "\u001b[32m[I 2021-12-03 05:06:29,199]\u001b[0m Trial 252 finished with value: 0.7582517586348396 and parameters: {'n_layers': 5, 'n_units_0': 83, 'n_units_1': 81, 'n_units_2': 54, 'n_units_3': 48, 'n_units_4': 24, 'n_components': 27}. Best is trial 125 with value: 0.7611060968297478.\u001b[0m\n"
          ]
        },
        {
          "output_type": "stream",
          "name": "stdout",
          "text": [
            "cross-val accuracy: 0.75327\n",
            "cross-val f1 score: 0.76324\n"
          ]
        },
        {
          "output_type": "stream",
          "name": "stderr",
          "text": [
            "\u001b[32m[I 2021-12-03 05:06:50,441]\u001b[0m Trial 253 finished with value: 0.7445196454944634 and parameters: {'n_layers': 5, 'n_units_0': 83, 'n_units_1': 81, 'n_units_2': 52, 'n_units_3': 53, 'n_units_4': 24, 'n_components': 27}. Best is trial 125 with value: 0.7611060968297478.\u001b[0m\n"
          ]
        },
        {
          "output_type": "stream",
          "name": "stdout",
          "text": [
            "cross-val accuracy: 0.74347\n",
            "cross-val f1 score: 0.74557\n"
          ]
        },
        {
          "output_type": "stream",
          "name": "stderr",
          "text": [
            "\u001b[32m[I 2021-12-03 05:07:12,589]\u001b[0m Trial 254 finished with value: 0.7547021947807766 and parameters: {'n_layers': 5, 'n_units_0': 86, 'n_units_1': 65, 'n_units_2': 54, 'n_units_3': 52, 'n_units_4': 21, 'n_components': 27}. Best is trial 125 with value: 0.7611060968297478.\u001b[0m\n"
          ]
        },
        {
          "output_type": "stream",
          "name": "stdout",
          "text": [
            "cross-val accuracy: 0.7451\n",
            "cross-val f1 score: 0.76431\n"
          ]
        },
        {
          "output_type": "stream",
          "name": "stderr",
          "text": [
            "\u001b[32m[I 2021-12-03 05:07:30,944]\u001b[0m Trial 255 finished with value: 0.7477728992898587 and parameters: {'n_layers': 5, 'n_units_0': 44, 'n_units_1': 79, 'n_units_2': 56, 'n_units_3': 50, 'n_units_4': 18, 'n_components': 27}. Best is trial 125 with value: 0.7611060968297478.\u001b[0m\n"
          ]
        },
        {
          "output_type": "stream",
          "name": "stdout",
          "text": [
            "cross-val accuracy: 0.75163\n",
            "cross-val f1 score: 0.74391\n"
          ]
        },
        {
          "output_type": "stream",
          "name": "stderr",
          "text": [
            "\u001b[32m[I 2021-12-03 05:07:58,624]\u001b[0m Trial 256 finished with value: 0.7560466809388852 and parameters: {'n_layers': 5, 'n_units_0': 83, 'n_units_1': 84, 'n_units_2': 52, 'n_units_3': 47, 'n_units_4': 23, 'n_components': 27}. Best is trial 125 with value: 0.7611060968297478.\u001b[0m\n"
          ]
        },
        {
          "output_type": "stream",
          "name": "stdout",
          "text": [
            "cross-val accuracy: 0.7486\n",
            "cross-val f1 score: 0.76349\n"
          ]
        },
        {
          "output_type": "stream",
          "name": "stderr",
          "text": [
            "\u001b[32m[I 2021-12-03 05:08:17,814]\u001b[0m Trial 257 finished with value: 0.7575466841758404 and parameters: {'n_layers': 5, 'n_units_0': 88, 'n_units_1': 86, 'n_units_2': 42, 'n_units_3': 3, 'n_units_4': 28, 'n_components': 27}. Best is trial 125 with value: 0.7611060968297478.\u001b[0m\n"
          ]
        },
        {
          "output_type": "stream",
          "name": "stdout",
          "text": [
            "cross-val accuracy: 0.7507\n",
            "cross-val f1 score: 0.76439\n"
          ]
        },
        {
          "output_type": "stream",
          "name": "stderr",
          "text": [
            "\u001b[32m[I 2021-12-03 05:08:36,780]\u001b[0m Trial 258 finished with value: 0.7501650069431616 and parameters: {'n_layers': 5, 'n_units_0': 89, 'n_units_1': 86, 'n_units_2': 42, 'n_units_3': 3, 'n_units_4': 21, 'n_components': 27}. Best is trial 125 with value: 0.7611060968297478.\u001b[0m\n"
          ]
        },
        {
          "output_type": "stream",
          "name": "stdout",
          "text": [
            "cross-val accuracy: 0.74463\n",
            "cross-val f1 score: 0.7557\n"
          ]
        },
        {
          "output_type": "stream",
          "name": "stderr",
          "text": [
            "\u001b[32m[I 2021-12-03 05:08:51,416]\u001b[0m Trial 259 finished with value: 0.748624224897327 and parameters: {'n_layers': 5, 'n_units_0': 87, 'n_units_1': 81, 'n_units_2': 43, 'n_units_3': 51, 'n_units_4': 26, 'n_components': 27}. Best is trial 125 with value: 0.7611060968297478.\u001b[0m\n"
          ]
        },
        {
          "output_type": "stream",
          "name": "stdout",
          "text": [
            "cross-val accuracy: 0.74183\n",
            "cross-val f1 score: 0.75541\n"
          ]
        },
        {
          "output_type": "stream",
          "name": "stderr",
          "text": [
            "\u001b[32m[I 2021-12-03 05:09:13,678]\u001b[0m Trial 260 finished with value: 0.7487929042852202 and parameters: {'n_layers': 5, 'n_units_0': 86, 'n_units_1': 88, 'n_units_2': 41, 'n_units_3': 1, 'n_units_4': 23, 'n_components': 27}. Best is trial 125 with value: 0.7611060968297478.\u001b[0m\n"
          ]
        },
        {
          "output_type": "stream",
          "name": "stdout",
          "text": [
            "cross-val accuracy: 0.7444\n",
            "cross-val f1 score: 0.75319\n"
          ]
        },
        {
          "output_type": "stream",
          "name": "stderr",
          "text": [
            "\u001b[32m[I 2021-12-03 05:09:28,669]\u001b[0m Trial 261 finished with value: 0.7560557009948131 and parameters: {'n_layers': 5, 'n_units_0': 84, 'n_units_1': 78, 'n_units_2': 39, 'n_units_3': 4, 'n_units_4': 13, 'n_components': 27}. Best is trial 125 with value: 0.7611060968297478.\u001b[0m\n"
          ]
        },
        {
          "output_type": "stream",
          "name": "stdout",
          "text": [
            "cross-val accuracy: 0.7465\n",
            "cross-val f1 score: 0.76561\n"
          ]
        },
        {
          "output_type": "stream",
          "name": "stderr",
          "text": [
            "\u001b[32m[I 2021-12-03 05:09:46,235]\u001b[0m Trial 262 finished with value: 0.7518972323800286 and parameters: {'n_layers': 5, 'n_units_0': 89, 'n_units_1': 85, 'n_units_2': 45, 'n_units_3': 9, 'n_units_4': 28, 'n_components': 27}. Best is trial 125 with value: 0.7611060968297478.\u001b[0m\n"
          ]
        },
        {
          "output_type": "stream",
          "name": "stdout",
          "text": [
            "cross-val accuracy: 0.75024\n",
            "cross-val f1 score: 0.75356\n"
          ]
        },
        {
          "output_type": "stream",
          "name": "stderr",
          "text": [
            "\u001b[32m[I 2021-12-03 05:10:06,818]\u001b[0m Trial 263 finished with value: 0.7493511544095223 and parameters: {'n_layers': 5, 'n_units_0': 94, 'n_units_1': 83, 'n_units_2': 47, 'n_units_3': 47, 'n_units_4': 19, 'n_components': 27}. Best is trial 125 with value: 0.7611060968297478.\u001b[0m\n"
          ]
        },
        {
          "output_type": "stream",
          "name": "stdout",
          "text": [
            "cross-val accuracy: 0.74557\n",
            "cross-val f1 score: 0.75314\n"
          ]
        },
        {
          "output_type": "stream",
          "name": "stderr",
          "text": [
            "\u001b[32m[I 2021-12-03 05:10:27,672]\u001b[0m Trial 264 finished with value: 0.752158171259433 and parameters: {'n_layers': 5, 'n_units_0': 81, 'n_units_1': 87, 'n_units_2': 68, 'n_units_3': 5, 'n_units_4': 25, 'n_components': 27}. Best is trial 125 with value: 0.7611060968297478.\u001b[0m\n"
          ]
        },
        {
          "output_type": "stream",
          "name": "stdout",
          "text": [
            "cross-val accuracy: 0.74463\n",
            "cross-val f1 score: 0.75969\n"
          ]
        },
        {
          "output_type": "stream",
          "name": "stderr",
          "text": [
            "\u001b[32m[I 2021-12-03 05:10:44,189]\u001b[0m Trial 265 finished with value: 0.7499562375184258 and parameters: {'n_layers': 5, 'n_units_0': 91, 'n_units_1': 82, 'n_units_2': 38, 'n_units_3': 8, 'n_units_4': 17, 'n_components': 26}. Best is trial 125 with value: 0.7611060968297478.\u001b[0m\n"
          ]
        },
        {
          "output_type": "stream",
          "name": "stdout",
          "text": [
            "cross-val accuracy: 0.75093\n",
            "cross-val f1 score: 0.74898\n"
          ]
        },
        {
          "output_type": "stream",
          "name": "stderr",
          "text": [
            "\u001b[32m[I 2021-12-03 05:11:03,724]\u001b[0m Trial 266 finished with value: 0.7626299547034041 and parameters: {'n_layers': 5, 'n_units_0': 87, 'n_units_1': 85, 'n_units_2': 50, 'n_units_3': 48, 'n_units_4': 24, 'n_components': 27}. Best is trial 266 with value: 0.7626299547034041.\u001b[0m\n"
          ]
        },
        {
          "output_type": "stream",
          "name": "stdout",
          "text": [
            "cross-val accuracy: 0.75024\n",
            "cross-val f1 score: 0.77502\n"
          ]
        },
        {
          "output_type": "stream",
          "name": "stderr",
          "text": [
            "\u001b[32m[I 2021-12-03 05:11:22,495]\u001b[0m Trial 267 finished with value: 0.7598726453103178 and parameters: {'n_layers': 5, 'n_units_0': 87, 'n_units_1': 85, 'n_units_2': 44, 'n_units_3': 48, 'n_units_4': 29, 'n_components': 27}. Best is trial 266 with value: 0.7626299547034041.\u001b[0m\n"
          ]
        },
        {
          "output_type": "stream",
          "name": "stdout",
          "text": [
            "cross-val accuracy: 0.74837\n",
            "cross-val f1 score: 0.77138\n"
          ]
        },
        {
          "output_type": "stream",
          "name": "stderr",
          "text": [
            "\u001b[32m[I 2021-12-03 05:11:42,147]\u001b[0m Trial 268 finished with value: 0.7527428269366586 and parameters: {'n_layers': 5, 'n_units_0': 85, 'n_units_1': 80, 'n_units_2': 50, 'n_units_3': 49, 'n_units_4': 24, 'n_components': 27}. Best is trial 266 with value: 0.7626299547034041.\u001b[0m\n"
          ]
        },
        {
          "output_type": "stream",
          "name": "stdout",
          "text": [
            "cross-val accuracy: 0.75233\n",
            "cross-val f1 score: 0.75315\n"
          ]
        },
        {
          "output_type": "stream",
          "name": "stderr",
          "text": [
            "\u001b[32m[I 2021-12-03 05:12:00,844]\u001b[0m Trial 269 finished with value: 0.7558561091936666 and parameters: {'n_layers': 5, 'n_units_0': 87, 'n_units_1': 39, 'n_units_2': 50, 'n_units_3': 48, 'n_units_4': 22, 'n_components': 27}. Best is trial 266 with value: 0.7626299547034041.\u001b[0m\n"
          ]
        },
        {
          "output_type": "stream",
          "name": "stdout",
          "text": [
            "cross-val accuracy: 0.75187\n",
            "cross-val f1 score: 0.75985\n"
          ]
        },
        {
          "output_type": "stream",
          "name": "stderr",
          "text": [
            "\u001b[32m[I 2021-12-03 05:12:19,448]\u001b[0m Trial 270 finished with value: 0.7557830856156875 and parameters: {'n_layers': 5, 'n_units_0': 82, 'n_units_1': 84, 'n_units_2': 49, 'n_units_3': 45, 'n_units_4': 26, 'n_components': 27}. Best is trial 266 with value: 0.7626299547034041.\u001b[0m\n"
          ]
        },
        {
          "output_type": "stream",
          "name": "stdout",
          "text": [
            "cross-val accuracy: 0.74767\n",
            "cross-val f1 score: 0.7639\n"
          ]
        },
        {
          "output_type": "stream",
          "name": "stderr",
          "text": [
            "\u001b[32m[I 2021-12-03 05:12:39,090]\u001b[0m Trial 271 finished with value: 0.7556749714625537 and parameters: {'n_layers': 5, 'n_units_0': 84, 'n_units_1': 89, 'n_units_2': 35, 'n_units_3': 51, 'n_units_4': 20, 'n_components': 27}. Best is trial 266 with value: 0.7626299547034041.\u001b[0m\n"
          ]
        },
        {
          "output_type": "stream",
          "name": "stdout",
          "text": [
            "cross-val accuracy: 0.74673\n",
            "cross-val f1 score: 0.76462\n"
          ]
        },
        {
          "output_type": "stream",
          "name": "stderr",
          "text": [
            "\u001b[32m[I 2021-12-03 05:12:56,453]\u001b[0m Trial 272 finished with value: 0.7513631555393288 and parameters: {'n_layers': 5, 'n_units_0': 33, 'n_units_1': 83, 'n_units_2': 44, 'n_units_3': 54, 'n_units_4': 24, 'n_components': 27}. Best is trial 266 with value: 0.7626299547034041.\u001b[0m\n"
          ]
        },
        {
          "output_type": "stream",
          "name": "stdout",
          "text": [
            "cross-val accuracy: 0.74183\n",
            "cross-val f1 score: 0.76089\n"
          ]
        },
        {
          "output_type": "stream",
          "name": "stderr",
          "text": [
            "\u001b[32m[I 2021-12-03 05:13:16,077]\u001b[0m Trial 273 finished with value: 0.7532145686754014 and parameters: {'n_layers': 5, 'n_units_0': 86, 'n_units_1': 85, 'n_units_2': 47, 'n_units_3': 47, 'n_units_4': 12, 'n_components': 27}. Best is trial 266 with value: 0.7626299547034041.\u001b[0m\n"
          ]
        },
        {
          "output_type": "stream",
          "name": "stdout",
          "text": [
            "cross-val accuracy: 0.7486\n",
            "cross-val f1 score: 0.75783\n"
          ]
        },
        {
          "output_type": "stream",
          "name": "stderr",
          "text": [
            "\u001b[32m[I 2021-12-03 05:13:38,366]\u001b[0m Trial 274 finished with value: 0.7558126645199513 and parameters: {'n_layers': 5, 'n_units_0': 79, 'n_units_1': 81, 'n_units_2': 54, 'n_units_3': 44, 'n_units_4': 16, 'n_components': 27}. Best is trial 266 with value: 0.7626299547034041.\u001b[0m\n"
          ]
        },
        {
          "output_type": "stream",
          "name": "stdout",
          "text": [
            "cross-val accuracy: 0.7493\n",
            "cross-val f1 score: 0.76233\n"
          ]
        },
        {
          "output_type": "stream",
          "name": "stderr",
          "text": [
            "\u001b[32m[I 2021-12-03 05:14:02,447]\u001b[0m Trial 275 finished with value: 0.7568856216520214 and parameters: {'n_layers': 5, 'n_units_0': 89, 'n_units_1': 87, 'n_units_2': 62, 'n_units_3': 49, 'n_units_4': 30, 'n_components': 27}. Best is trial 266 with value: 0.7626299547034041.\u001b[0m\n"
          ]
        },
        {
          "output_type": "stream",
          "name": "stdout",
          "text": [
            "cross-val accuracy: 0.74977\n",
            "cross-val f1 score: 0.76401\n"
          ]
        },
        {
          "output_type": "stream",
          "name": "stderr",
          "text": [
            "\u001b[32m[I 2021-12-03 05:14:34,091]\u001b[0m Trial 276 finished with value: 0.7558559956139312 and parameters: {'n_layers': 5, 'n_units_0': 92, 'n_units_1': 78, 'n_units_2': 86, 'n_units_3': 45, 'n_units_4': 20, 'n_components': 27}. Best is trial 266 with value: 0.7626299547034041.\u001b[0m\n"
          ]
        },
        {
          "output_type": "stream",
          "name": "stdout",
          "text": [
            "cross-val accuracy: 0.74673\n",
            "cross-val f1 score: 0.76498\n"
          ]
        },
        {
          "output_type": "stream",
          "name": "stderr",
          "text": [
            "\u001b[32m[I 2021-12-03 05:14:57,191]\u001b[0m Trial 277 finished with value: 0.7549448263362848 and parameters: {'n_layers': 6, 'n_units_0': 83, 'n_units_1': 92, 'n_units_2': 50, 'n_units_3': 52, 'n_units_4': 18, 'n_units_5': 38, 'n_components': 27}. Best is trial 266 with value: 0.7626299547034041.\u001b[0m\n"
          ]
        },
        {
          "output_type": "stream",
          "name": "stdout",
          "text": [
            "cross-val accuracy: 0.75093\n",
            "cross-val f1 score: 0.75896\n"
          ]
        },
        {
          "output_type": "stream",
          "name": "stderr",
          "text": [
            "\u001b[32m[I 2021-12-03 05:15:21,185]\u001b[0m Trial 278 finished with value: 0.7510002937435508 and parameters: {'n_layers': 6, 'n_units_0': 86, 'n_units_1': 83, 'n_units_2': 47, 'n_units_3': 64, 'n_units_4': 22, 'n_units_5': 33, 'n_components': 27}. Best is trial 266 with value: 0.7626299547034041.\u001b[0m\n"
          ]
        },
        {
          "output_type": "stream",
          "name": "stdout",
          "text": [
            "cross-val accuracy: 0.7465\n",
            "cross-val f1 score: 0.7555\n"
          ]
        },
        {
          "output_type": "stream",
          "name": "stderr",
          "text": [
            "\u001b[32m[I 2021-12-03 05:15:42,164]\u001b[0m Trial 279 finished with value: 0.7568248717514181 and parameters: {'n_layers': 5, 'n_units_0': 88, 'n_units_1': 85, 'n_units_2': 44, 'n_units_3': 50, 'n_units_4': 14, 'n_components': 27}. Best is trial 266 with value: 0.7626299547034041.\u001b[0m\n"
          ]
        },
        {
          "output_type": "stream",
          "name": "stdout",
          "text": [
            "cross-val accuracy: 0.7479\n",
            "cross-val f1 score: 0.76575\n"
          ]
        },
        {
          "output_type": "stream",
          "name": "stderr",
          "text": [
            "\u001b[32m[I 2021-12-03 05:15:59,454]\u001b[0m Trial 280 finished with value: 0.7544344883582907 and parameters: {'n_layers': 5, 'n_units_0': 81, 'n_units_1': 81, 'n_units_2': 52, 'n_units_3': 46, 'n_units_4': 26, 'n_components': 27}. Best is trial 266 with value: 0.7626299547034041.\u001b[0m\n"
          ]
        },
        {
          "output_type": "stream",
          "name": "stdout",
          "text": [
            "cross-val accuracy: 0.74487\n",
            "cross-val f1 score: 0.764\n"
          ]
        },
        {
          "output_type": "stream",
          "name": "stderr",
          "text": [
            "\u001b[32m[I 2021-12-03 05:16:20,902]\u001b[0m Trial 281 finished with value: 0.7489956330805695 and parameters: {'n_layers': 6, 'n_units_0': 77, 'n_units_1': 42, 'n_units_2': 58, 'n_units_3': 12, 'n_units_4': 90, 'n_units_5': 41, 'n_components': 27}. Best is trial 266 with value: 0.7626299547034041.\u001b[0m\n"
          ]
        },
        {
          "output_type": "stream",
          "name": "stdout",
          "text": [
            "cross-val accuracy: 0.7472\n",
            "cross-val f1 score: 0.75079\n"
          ]
        },
        {
          "output_type": "stream",
          "name": "stderr",
          "text": [
            "\u001b[32m[I 2021-12-03 05:16:49,931]\u001b[0m Trial 282 finished with value: 0.7454658872611835 and parameters: {'n_layers': 5, 'n_units_0': 84, 'n_units_1': 86, 'n_units_2': 83, 'n_units_3': 48, 'n_units_4': 62, 'n_components': 27}. Best is trial 266 with value: 0.7626299547034041.\u001b[0m\n"
          ]
        },
        {
          "output_type": "stream",
          "name": "stdout",
          "text": [
            "cross-val accuracy: 0.74837\n",
            "cross-val f1 score: 0.74256\n"
          ]
        },
        {
          "output_type": "stream",
          "name": "stderr",
          "text": [
            "\u001b[32m[I 2021-12-03 05:17:11,482]\u001b[0m Trial 283 finished with value: 0.7550024287531549 and parameters: {'n_layers': 6, 'n_units_0': 90, 'n_units_1': 55, 'n_units_2': 80, 'n_units_3': 42, 'n_units_4': 24, 'n_units_5': 15, 'n_components': 27}. Best is trial 266 with value: 0.7626299547034041.\u001b[0m\n"
          ]
        },
        {
          "output_type": "stream",
          "name": "stdout",
          "text": [
            "cross-val accuracy: 0.7451\n",
            "cross-val f1 score: 0.76491\n"
          ]
        },
        {
          "output_type": "stream",
          "name": "stderr",
          "text": [
            "\u001b[32m[I 2021-12-03 05:17:35,548]\u001b[0m Trial 284 finished with value: 0.7520804134720773 and parameters: {'n_layers': 6, 'n_units_0': 87, 'n_units_1': 89, 'n_units_2': 84, 'n_units_3': 97, 'n_units_4': 20, 'n_units_5': 50, 'n_components': 26}. Best is trial 266 with value: 0.7626299547034041.\u001b[0m\n"
          ]
        },
        {
          "output_type": "stream",
          "name": "stdout",
          "text": [
            "cross-val accuracy: 0.74626\n",
            "cross-val f1 score: 0.7579\n"
          ]
        },
        {
          "output_type": "stream",
          "name": "stderr",
          "text": [
            "\u001b[32m[I 2021-12-03 05:17:57,662]\u001b[0m Trial 285 finished with value: 0.754189364003213 and parameters: {'n_layers': 5, 'n_units_0': 85, 'n_units_1': 83, 'n_units_2': 60, 'n_units_3': 39, 'n_units_4': 16, 'n_components': 27}. Best is trial 266 with value: 0.7626299547034041.\u001b[0m\n"
          ]
        },
        {
          "output_type": "stream",
          "name": "stdout",
          "text": [
            "cross-val accuracy: 0.74837\n",
            "cross-val f1 score: 0.76001\n"
          ]
        },
        {
          "output_type": "stream",
          "name": "stderr",
          "text": [
            "\u001b[32m[I 2021-12-03 05:18:21,470]\u001b[0m Trial 286 finished with value: 0.7549599135581034 and parameters: {'n_layers': 5, 'n_units_0': 80, 'n_units_1': 60, 'n_units_2': 66, 'n_units_3': 70, 'n_units_4': 22, 'n_components': 27}. Best is trial 266 with value: 0.7626299547034041.\u001b[0m\n"
          ]
        },
        {
          "output_type": "stream",
          "name": "stdout",
          "text": [
            "cross-val accuracy: 0.74883\n",
            "cross-val f1 score: 0.76109\n"
          ]
        },
        {
          "output_type": "stream",
          "name": "stderr",
          "text": [
            "\u001b[32m[I 2021-12-03 05:18:45,606]\u001b[0m Trial 287 finished with value: 0.7548974124887702 and parameters: {'n_layers': 6, 'n_units_0': 82, 'n_units_1': 80, 'n_units_2': 87, 'n_units_3': 46, 'n_units_4': 18, 'n_units_5': 43, 'n_components': 27}. Best is trial 266 with value: 0.7626299547034041.\u001b[0m\n"
          ]
        },
        {
          "output_type": "stream",
          "name": "stdout",
          "text": [
            "cross-val accuracy: 0.7493\n",
            "cross-val f1 score: 0.76049\n"
          ]
        },
        {
          "output_type": "stream",
          "name": "stderr",
          "text": [
            "\u001b[32m[I 2021-12-03 05:19:00,952]\u001b[0m Trial 288 finished with value: 0.7467554381215242 and parameters: {'n_layers': 5, 'n_units_0': 11, 'n_units_1': 9, 'n_units_2': 46, 'n_units_3': 53, 'n_units_4': 10, 'n_components': 27}. Best is trial 266 with value: 0.7626299547034041.\u001b[0m\n"
          ]
        },
        {
          "output_type": "stream",
          "name": "stdout",
          "text": [
            "cross-val accuracy: 0.7388\n",
            "cross-val f1 score: 0.75472\n"
          ]
        },
        {
          "output_type": "stream",
          "name": "stderr",
          "text": [
            "\u001b[32m[I 2021-12-03 05:19:24,288]\u001b[0m Trial 289 finished with value: 0.7566548309289973 and parameters: {'n_layers': 6, 'n_units_0': 90, 'n_units_1': 91, 'n_units_2': 2, 'n_units_3': 49, 'n_units_4': 76, 'n_units_5': 54, 'n_components': 27}. Best is trial 266 with value: 0.7626299547034041.\u001b[0m\n"
          ]
        },
        {
          "output_type": "stream",
          "name": "stdout",
          "text": [
            "cross-val accuracy: 0.7472\n",
            "cross-val f1 score: 0.76611\n"
          ]
        },
        {
          "output_type": "stream",
          "name": "stderr",
          "text": [
            "\u001b[32m[I 2021-12-03 05:19:51,313]\u001b[0m Trial 290 finished with value: 0.7509998423136132 and parameters: {'n_layers': 6, 'n_units_0': 84, 'n_units_1': 78, 'n_units_2': 82, 'n_units_3': 50, 'n_units_4': 13, 'n_units_5': 48, 'n_components': 27}. Best is trial 266 with value: 0.7626299547034041.\u001b[0m\n"
          ]
        },
        {
          "output_type": "stream",
          "name": "stdout",
          "text": [
            "cross-val accuracy: 0.7479\n",
            "cross-val f1 score: 0.7541\n"
          ]
        },
        {
          "output_type": "stream",
          "name": "stderr",
          "text": [
            "\u001b[32m[I 2021-12-03 05:20:13,812]\u001b[0m Trial 291 finished with value: 0.7574636268985944 and parameters: {'n_layers': 5, 'n_units_0': 87, 'n_units_1': 88, 'n_units_2': 71, 'n_units_3': 100, 'n_units_4': 28, 'n_components': 27}. Best is trial 266 with value: 0.7626299547034041.\u001b[0m\n"
          ]
        },
        {
          "output_type": "stream",
          "name": "stdout",
          "text": [
            "cross-val accuracy: 0.75093\n",
            "cross-val f1 score: 0.76399\n"
          ]
        },
        {
          "output_type": "stream",
          "name": "stderr",
          "text": [
            "\u001b[32m[I 2021-12-03 05:20:33,807]\u001b[0m Trial 292 finished with value: 0.7605671874732866 and parameters: {'n_layers': 6, 'n_units_0': 92, 'n_units_1': 84, 'n_units_2': 55, 'n_units_3': 43, 'n_units_4': 24, 'n_units_5': 52, 'n_components': 27}. Best is trial 266 with value: 0.7626299547034041.\u001b[0m\n"
          ]
        },
        {
          "output_type": "stream",
          "name": "stdout",
          "text": [
            "cross-val accuracy: 0.74906\n",
            "cross-val f1 score: 0.77207\n"
          ]
        },
        {
          "output_type": "stream",
          "name": "stderr",
          "text": [
            "\u001b[32m[I 2021-12-03 05:21:00,893]\u001b[0m Trial 293 finished with value: 0.7529748212424902 and parameters: {'n_layers': 7, 'n_units_0': 94, 'n_units_1': 48, 'n_units_2': 56, 'n_units_3': 40, 'n_units_4': 25, 'n_units_5': 51, 'n_units_6': 78, 'n_components': 27}. Best is trial 266 with value: 0.7626299547034041.\u001b[0m\n"
          ]
        },
        {
          "output_type": "stream",
          "name": "stdout",
          "text": [
            "cross-val accuracy: 0.74136\n",
            "cross-val f1 score: 0.76459\n"
          ]
        },
        {
          "output_type": "stream",
          "name": "stderr",
          "text": [
            "\u001b[32m[I 2021-12-03 05:21:30,150]\u001b[0m Trial 294 finished with value: 0.7477345127892989 and parameters: {'n_layers': 6, 'n_units_0': 98, 'n_units_1': 85, 'n_units_2': 54, 'n_units_3': 45, 'n_units_4': 100, 'n_units_5': 55, 'n_components': 27}. Best is trial 266 with value: 0.7626299547034041.\u001b[0m\n"
          ]
        },
        {
          "output_type": "stream",
          "name": "stdout",
          "text": [
            "cross-val accuracy: 0.7472\n",
            "cross-val f1 score: 0.74827\n"
          ]
        },
        {
          "output_type": "stream",
          "name": "stderr",
          "text": [
            "\u001b[32m[I 2021-12-03 05:21:56,101]\u001b[0m Trial 295 finished with value: 0.7529818560929404 and parameters: {'n_layers': 7, 'n_units_0': 91, 'n_units_1': 82, 'n_units_2': 52, 'n_units_3': 44, 'n_units_4': 82, 'n_units_5': 53, 'n_units_6': 38, 'n_components': 27}. Best is trial 266 with value: 0.7626299547034041.\u001b[0m\n"
          ]
        },
        {
          "output_type": "stream",
          "name": "stdout",
          "text": [
            "cross-val accuracy: 0.74627\n",
            "cross-val f1 score: 0.7597\n"
          ]
        },
        {
          "output_type": "stream",
          "name": "stderr",
          "text": [
            "\u001b[32m[I 2021-12-03 05:22:24,145]\u001b[0m Trial 296 finished with value: 0.7510947980698233 and parameters: {'n_layers': 5, 'n_units_0': 93, 'n_units_1': 99, 'n_units_2': 50, 'n_units_3': 47, 'n_units_4': 23, 'n_components': 29}. Best is trial 266 with value: 0.7626299547034041.\u001b[0m\n"
          ]
        },
        {
          "output_type": "stream",
          "name": "stdout",
          "text": [
            "cross-val accuracy: 0.74627\n",
            "cross-val f1 score: 0.75592\n"
          ]
        },
        {
          "output_type": "stream",
          "name": "stderr",
          "text": [
            "\u001b[32m[I 2021-12-03 05:22:53,216]\u001b[0m Trial 297 finished with value: 0.7545712588790732 and parameters: {'n_layers': 7, 'n_units_0': 25, 'n_units_1': 76, 'n_units_2': 56, 'n_units_3': 42, 'n_units_4': 21, 'n_units_5': 57, 'n_units_6': 47, 'n_components': 27}. Best is trial 266 with value: 0.7626299547034041.\u001b[0m\n"
          ]
        },
        {
          "output_type": "stream",
          "name": "stdout",
          "text": [
            "cross-val accuracy: 0.74813\n",
            "cross-val f1 score: 0.76101\n"
          ]
        },
        {
          "output_type": "stream",
          "name": "stderr",
          "text": [
            "\u001b[32m[I 2021-12-03 05:23:17,384]\u001b[0m Trial 298 finished with value: 0.7474810188792285 and parameters: {'n_layers': 5, 'n_units_0': 87, 'n_units_1': 87, 'n_units_2': 48, 'n_units_3': 43, 'n_units_4': 27, 'n_components': 27}. Best is trial 266 with value: 0.7626299547034041.\u001b[0m\n"
          ]
        },
        {
          "output_type": "stream",
          "name": "stdout",
          "text": [
            "cross-val accuracy: 0.74977\n",
            "cross-val f1 score: 0.7452\n"
          ]
        },
        {
          "output_type": "stream",
          "name": "stderr",
          "text": [
            "\u001b[32m[I 2021-12-03 05:23:42,747]\u001b[0m Trial 299 finished with value: 0.7530615081749372 and parameters: {'n_layers': 6, 'n_units_0': 89, 'n_units_1': 84, 'n_units_2': 89, 'n_units_3': 40, 'n_units_4': 25, 'n_units_5': 48, 'n_components': 26}. Best is trial 266 with value: 0.7626299547034041.\u001b[0m\n"
          ]
        },
        {
          "output_type": "stream",
          "name": "stdout",
          "text": [
            "cross-val accuracy: 0.74207\n",
            "cross-val f1 score: 0.76406\n"
          ]
        }
      ]
    },
    {
      "cell_type": "markdown",
      "metadata": {
        "id": "kgPkFAsow5gW"
      },
      "source": [
        "<b>Συμπερασματικά, λοιπόν, μπορούμε να επιλέξουμε ως καλύτερη αρχιτεκτονική την ακόλουθη:\n",
        "- MinMax Scaler\n",
        "- Variance Threshold (threshold = 0.04)\n",
        "- PCA (n_components = 27) \n",
        "- MLP (lsolver = 'liblinear', layers = [87, 85, 69, 50, 48, 24], activation = 'tanh', batch_size = 128)\n",
        "\n",
        "η οποία και επιτυγχάνει accuracy score = 0.75024 και f1 score = 0.77138 κατά τη διαδικασία του 5-fold cross validation.\n",
        "</b>\n"
      ]
    },
    {
      "cell_type": "markdown",
      "metadata": {
        "id": "WV9oS74j8p1T"
      },
      "source": [
        "#### Support Vector Machine (SVM)"
      ]
    },
    {
      "cell_type": "markdown",
      "metadata": {
        "id": "adcQFKMw8xeP"
      },
      "source": [
        "Η διαδικασία βελτιστοποίησης του SVM ταξινομητή παρουσιάζεται αναλυτικά στο αντίστοιχο αρχείο .ipynb. (<i>Σχόλιο:Χρησιμοποιήθηκαν δύο διαφορετικά αρχεία για τη διαδικασία βελτιστοποίησης των ταξινομητών MLP και SVC για εξοικονόμηση χρόνου καθώς εκτελούνταν παράλληλα από τα δύο μέλη της ομάδας</i>)."
      ]
    },
    {
      "cell_type": "markdown",
      "metadata": {
        "id": "7Aosueli9fiM"
      },
      "source": [
        "Όπως παρουσιάζεται αναλυτικά στο αντίστοιχο notebook, η καλύτερη αρχιτεκτονική για τον SVM ταξινομητή είναι:\n",
        "\n",
        "- MinMax Scaler \n",
        "- Variance Threshold (threshold = 0.009)\n",
        "- SVC(kernel = 'rbf', gamma = 'auto', C = 1.3841)\n",
        "\n",
        "με accuracy score = 0.7527 και f1 score = 0.7679 κατά τη διαδικασία του 5-fold cross validation."
      ]
    },
    {
      "cell_type": "markdown",
      "metadata": {
        "id": "S-v8DlS6zv9t"
      },
      "source": [
        "### Παρουσίαση αποτελεσμάτων και Συμπεράσματα"
      ]
    },
    {
      "cell_type": "markdown",
      "metadata": {
        "id": "GSuNnHW7QSj0"
      },
      "source": [
        "Συμπερασματικά, λοιπόν, καταλήξαμε στους ακόλουθους δύο βελτιστοποιημένους ταξινομητές:\n",
        "\n",
        "- Multi Layer Perceptrons (MLP): Η βέλτιστη αρχιτεκτονική για τον MLP Classifier είναι ένας MinMax Scaler ακολουθούμενος από έναν μετασχηματιστή Variance Threshold με threshold = 0.04, έναν μετασχηματιστή PCA με n_components = 27 και έπειτα τον MLP ταξινομητή με solver = 'liblinear',  layers = [87, 85, 69, 50, 48, 24], activation = 'tanh'και batch_size = 128.\n",
        "- Support Vector Machine (SVM): Η βέλτιστη αρχιτεκτονική για τον SVM ταξινομητή είναι ένας MinMax Scaler ακολουθούμενος από έναν μετασχηματιστή Variance Threshold με threshold = 0.009 και έπειτα τον SVM ταξινομητή με kernel = 'rbf', gamma = 'auto' και C = 1.3841."
      ]
    },
    {
      "cell_type": "markdown",
      "metadata": {
        "id": "xPhEHlXVA8az"
      },
      "source": [
        "Ορίζουμε εκ νέου καθέναν από αυτούς τους βελιστοποιημένους ταξινομητές, τους εκπαιδεύουμε με ένα fit πάνω σε όλο το train dataset και έπειτα τους εφαρμόζουμε πάνω στο test dataset προκειμένου να συγκρίνούμε τους χρόνους που αυτοί απαιτούν κατά το στάδιο της εκπαίδευσής και της πρόβλεψης αλλά και τα ποσοστά που αυτοί επιτυγχάνουν τελικά πάνω στο test dataset."
      ]
    },
    {
      "cell_type": "code",
      "metadata": {
        "id": "5ksE16R4Stld"
      },
      "source": [
        "mlp = Pipeline(steps = [('minmax_scaler', preprocessing.MinMaxScaler()), ('selector', VarianceThreshold(threshold = 0.04)), ('pca', PCA(n_components = 27)), ('mlp', MLPClassifier(hidden_layer_sizes = tuple([87, 85, 69, 50, 48, 24]), activation = 'tanh',  solver = 'adam', batch_size = 128, max_iter = 10000, early_stopping = True))])"
      ],
      "execution_count": 14,
      "outputs": []
    },
    {
      "cell_type": "code",
      "metadata": {
        "colab": {
          "base_uri": "https://localhost:8080/"
        },
        "id": "eLC_w4DU27ca",
        "outputId": "55316e1b-207f-488c-cfcd-22b72e3a721b"
      },
      "source": [
        "import time\n",
        "from sklearn.metrics import classification_report, accuracy_score, f1_score\n",
        "\n",
        "start_time = time.time()\n",
        "mlp.fit(X_train, y_train)\n",
        "print(\"fit time for MLP: %s seconds\" % (time.time() - start_time))\n",
        "print()\n",
        "\n",
        "start_time = time.time()\n",
        "preds_mlp = mlp.predict(X_test)\n",
        "print(\"predict time for MLP: %s seconds\" % (time.time() - start_time))\n",
        "print()\n",
        "\n",
        "acc_mlp = np.round(accuracy_score(y_test, preds_mlp), 4)\n",
        "print('test accuracy score for MLP:', acc_mlp)\n",
        "f1_mlp = np.round(f1_score(y_test, preds_mlp), 4)\n",
        "print('test f1 score for MLP:', f1_mlp)\n",
        "print()\n",
        "\n",
        "print()\n",
        "print(classification_report(y_test, preds_mlp))"
      ],
      "execution_count": 24,
      "outputs": [
        {
          "output_type": "stream",
          "name": "stdout",
          "text": [
            "fit time for MLP: 134.13877701759338 seconds\n",
            "\n",
            "predict time for MLP: 0.7578344345092773 seconds\n",
            "\n",
            "test accuracy score for MLP: 0.7633\n",
            "test f1 score for MLP: 0.7682\n",
            "\n",
            "\n",
            "              precision    recall  f1-score   support\n",
            "\n",
            "           0       0.78      0.73      0.76     18551\n",
            "           1       0.75      0.79      0.77     18172\n",
            "\n",
            "    accuracy                           0.76     36723\n",
            "   macro avg       0.76      0.76      0.76     36723\n",
            "weighted avg       0.76      0.76      0.76     36723\n",
            "\n"
          ]
        }
      ]
    },
    {
      "cell_type": "code",
      "metadata": {
        "id": "zHM6-kZk30kN"
      },
      "source": [
        "from sklearn.svm import SVC\n",
        "\n",
        "svm = Pipeline(steps = [('minmax_scaler', preprocessing.MinMaxScaler()), ('selector', VarianceThreshold(threshold = 0.009)), ('svm', SVC(gamma = 'auto', C = 1.3841, kernel = 'rbf'))])"
      ],
      "execution_count": 22,
      "outputs": []
    },
    {
      "cell_type": "code",
      "metadata": {
        "colab": {
          "base_uri": "https://localhost:8080/"
        },
        "id": "iocew61o57aD",
        "outputId": "b1a68f9b-7574-4c76-e69b-cea72e2fafb2"
      },
      "source": [
        "start_time = time.time()\n",
        "svm.fit(X_train, y_train)\n",
        "print(\"fit time for SVM: %s seconds\" % (time.time() - start_time))\n",
        "print()\n",
        "\n",
        "start_time = time.time()\n",
        "preds_svm = svm.predict(X_test)\n",
        "print(\"predict time for SVM: %s seconds\" % (time.time() - start_time))\n",
        "print()\n",
        "\n",
        "acc_svm = np.round(accuracy_score(y_test, preds_svm), 4)\n",
        "print('test accuracy score for SVM:', acc_svm)\n",
        "f1_svm = np.round(f1_score(y_test, preds_svm), 4)\n",
        "print('test f1 score for SVM:', f1_svm)\n",
        "print()\n",
        "\n",
        "print()\n",
        "print(classification_report(y_test, preds_svm))"
      ],
      "execution_count": 23,
      "outputs": [
        {
          "output_type": "stream",
          "name": "stdout",
          "text": [
            "fit time for SVM: 667.1944534778595 seconds\n",
            "\n",
            "predict time for SVM: 195.57427287101746 seconds\n",
            "\n",
            "test accuracy score for SVM: 0.756\n",
            "test f1 score for SVM: 0.7676\n",
            "\n",
            "\n",
            "              precision    recall  f1-score   support\n",
            "\n",
            "           0       0.79      0.70      0.74     18551\n",
            "           1       0.73      0.81      0.77     18172\n",
            "\n",
            "    accuracy                           0.76     36723\n",
            "   macro avg       0.76      0.76      0.76     36723\n",
            "weighted avg       0.76      0.76      0.76     36723\n",
            "\n"
          ]
        }
      ]
    },
    {
      "cell_type": "markdown",
      "metadata": {
        "id": "SOl7_bYu703U"
      },
      "source": [
        "Συνοψίζουμε τα παραπάνω αποτελέσματα στον ακόλουθο πίνακα:\n",
        "\n",
        "Optimum Classifier | 5-fold cross-val accuracy | 5-fold cross-val f1 score | test accuracy | test f1 score | fit time | predict time \n",
        "-------------------|------------------ | ------------------| ------------------ | ------------------ | ------------------ | ------------------\n",
        "MLP       | 0.75024 | 0.77138 | 0.7633 | 0.7682 | 134.139 sec | 0.7578 sec\n",
        "SVM      | 0.7527 | 0.7679 | 0.756 | 0.7676 | 667.1945 sec | 195.5743 sec"
      ]
    },
    {
      "cell_type": "markdown",
      "metadata": {
        "id": "wsan-OxmC2ld"
      },
      "source": [
        "Παρατηρούμε ότι ο SVM ταξινομητής απαιτεί εξαπλάσιο σχεδόν χρόνο για την εκπαίδευσή του, συγκριτικά με τον MLP ταξινομητή, ενώ αρκετά αυξημένος ειναι και ο χρόνος που απαιτεί κατά το στάδιο της πρόβλεψης, κάτι το οποίο ήταν αναμενόμενο λόγω του μεγάλου μεγέθους του dataset."
      ]
    },
    {
      "cell_type": "markdown",
      "metadata": {
        "id": "PYx_l6IlBAGB"
      },
      "source": [
        "Στη συνέχεια απεικονίζουμε τους πίνακες σύγχυσης (confusion matrices) των ταξινομητών αυτών. "
      ]
    },
    {
      "cell_type": "code",
      "metadata": {
        "id": "rz0pc2pc4raf"
      },
      "source": [
        "from sklearn.metrics import confusion_matrix\n",
        "\n",
        "cf_matrix_mlp = confusion_matrix(y_test, preds_mlp)\n",
        "cf_matrix_svm = confusion_matrix(y_test, preds_svm)"
      ],
      "execution_count": 25,
      "outputs": []
    },
    {
      "cell_type": "code",
      "metadata": {
        "colab": {
          "base_uri": "https://localhost:8080/",
          "height": 451
        },
        "id": "7owzt__n408H",
        "outputId": "f4d85933-5cac-4f16-839e-bb65e30a2f6c"
      },
      "source": [
        "from matplotlib import pyplot as plt\n",
        "import seaborn as sns\n",
        "\n",
        "fig, axes = plt.subplots(1, 2, figsize = (25, 6.5), sharey = True)\n",
        "fig.suptitle('Confusion Matrices for Best Classifiers', fontsize = 14)\n",
        "\n",
        "sns.set_theme(style = \"whitegrid\")\n",
        "\n",
        "axes[0].set_title('MLP Classifier')\n",
        "sns.heatmap(cf_matrix_mlp, ax = axes[0], annot = True)\n",
        "\n",
        "axes[1].set_title('SVM Classifier')\n",
        "sns.heatmap(cf_matrix_svm, ax = axes[1], annot = True)\n",
        "\n",
        "plt.show()"
      ],
      "execution_count": 26,
      "outputs": [
        {
          "output_type": "display_data",
          "data": {
            "image/png": "[encoded data removed]",
            "text/plain": [
              "<Figure size 1800x468 with 4 Axes>"
            ]
          },
          "metadata": {}
        }
      ]
    },
    {
      "cell_type": "markdown",
      "metadata": {
        "id": "84zw6MZreEnp"
      },
      "source": [
        "<b> Συμπέρασμα:</b>\n",
        "\n",
        "Για την τελική μας επιλογή, θα βασιστούμε στα scores που επιτυγχάνει καθένας από τους δύο βελτιστοποιημένους ταξινομητές κατά τη διαδικασία του 5-fold validation, η οποία βασίζεται αποκλειστικά και μόνο στο train dataset. Παρατηρούμε λοιπόν ότι τα accuracy που επιτυγχάνουν οι δύο ταξινομητές είναι αρκετά κοντά, με τον SVM να υπερτερεί ελαφρώς (κατά 0.002%), ενώ αντίθετα ο MLP ταξινομητής επιτυγχάνει ένα αρκετά καλό f1 score κατά 0.01% μεγαλύτερο του SVM. Οπότε, και αποφασίζουμε να επιλέξουμε για το συγκεκριμέο task το βελτιστοποιημένο MLP ταξινομητή, ο οποίος αντιστοιχεί συνδυαστικά στα καλύτερα scores για τις μετρικές που έχουμε επιλέξει (accuracy, f1 score). Στην απόφαση αυτή συμβάλλει αρκετά και ο σημαντικά μικρότερος χρόνος που απαιτείτα τόσο κατά την εκπαίδευση όσο και κατά την πρόβλεψη για τον ταξινομητή αυτό συγκριτκά με τον SVM. Η επιλογή αυτή όπως παρατηρούμε μας δικαιώνει καθώς αντιστοιχεί και στα καλύτερα scores για το test dataset με το test accuracy να είναι 0.7633 και το test f1 score 0.7682. \n",
        "\n",
        "Η επιλογή αυτή μπορεί να ήταν διαφορετική εάν άλλαζαν οι απαιτήσεις του task. Για παράδειγμα, σε ένα task που θα απαιτούσε όσο το δυνατόν λιγότερα false negatives, δηλαδή δείγματα που στην πραγματικότητα ανήκουν στην κλάση 1 να ταξινομηθούν στην κλάση 0, ή διαφορετικά θεωρήθηκαν terrorists ενώ στην πραγματικότητα ήταν counter-terrorists, θα επιλέγαμε τον ταξινομητή SVM, ενώ σε αντίθετη περίπτωση, δηλαδή σε ένα task που απαιτούσε ελαχιστοποίηση των false positives (όσο το δυνατόν λιγότεροι counter-terrorists να θεωρηθούν λανθασμένα terrorists) θα επιλέγαμε και πάλι τον MLP. Στα συμπεράσματα αυτά καταλήγουμε παρατηρώντας τα αντίστοιχα confusion matrices. Μάλιστα, ένας συνδυασμός των δύο αυτών ταξινομητών (π.χ. με κάποια τεχνική Soft/Hard Voting) ίσως να είχε ακόμα καλύτερα αποτελέσματα λόγω αυτής της αντίθεσης που παρουσιάζουν οι ταξινομητές και μόλις περιγράψαμε. "
      ]
    }
  ]
}