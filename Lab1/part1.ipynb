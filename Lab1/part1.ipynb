{
  "nbformat": 4,
  "nbformat_minor": 0,
  "metadata": {
    "colab": {
      "name": "Αντίγραφο Αντίγραφο lab1_part1",
      "provenance": [],
      "collapsed_sections": []
    },
    "kernelspec": {
      "display_name": "Python 3",
      "name": "python3"
    },
    "language_info": {
      "name": "python"
    },
    "widgets": {
      "application/vnd.jupyter.widget-state+json": {
        "f38cb7aadfa14300abbd56c8bf89cb05": {
          "model_module": "@jupyter-widgets/controls",
          "model_name": "VBoxModel",
          "model_module_version": "1.5.0",
          "state": {
            "_dom_classes": [
              "widget-interact"
            ],
            "_model_module": "@jupyter-widgets/controls",
            "_model_module_version": "1.5.0",
            "_model_name": "VBoxModel",
            "_view_count": null,
            "_view_module": "@jupyter-widgets/controls",
            "_view_module_version": "1.5.0",
            "_view_name": "VBoxView",
            "box_style": "",
            "children": [
              "IPY_MODEL_0b4fc565a5314eab9e62d997c5224476",
              "IPY_MODEL_13309306b8dd49c6b7ce7945e3b8c401"
            ],
            "layout": "IPY_MODEL_beb59630931c40218314c07b9bd1841b"
          }
        },
        "0b4fc565a5314eab9e62d997c5224476": {
          "model_module": "@jupyter-widgets/controls",
          "model_name": "DropdownModel",
          "model_module_version": "1.5.0",
          "state": {
            "_dom_classes": [],
            "_model_module": "@jupyter-widgets/controls",
            "_model_module_version": "1.5.0",
            "_model_name": "DropdownModel",
            "_options_labels": [
              "Out of the box",
              "Variance Threshold",
              "MinMax Scaler - Variance Threshold",
              "Standard Scaler",
              "MinMax Scaler - Variance Threshold - PCA",
              "PCA",
              "MinMax Scaler - PCA",
              "Standard Scaler - PCA"
            ],
            "_view_count": null,
            "_view_module": "@jupyter-widgets/controls",
            "_view_module_version": "1.5.0",
            "_view_name": "DropdownView",
            "description": "architecture",
            "description_tooltip": null,
            "disabled": false,
            "index": 4,
            "layout": "IPY_MODEL_b47f056d6a0e443dadfc50ffcd873324",
            "style": "IPY_MODEL_ac542efc92db424dadb292a05849ea8f"
          }
        },
        "13309306b8dd49c6b7ce7945e3b8c401": {
          "model_module": "@jupyter-widgets/output",
          "model_name": "OutputModel",
          "model_module_version": "1.0.0",
          "state": {
            "_dom_classes": [],
            "_model_module": "@jupyter-widgets/output",
            "_model_module_version": "1.0.0",
            "_model_name": "OutputModel",
            "_view_count": null,
            "_view_module": "@jupyter-widgets/output",
            "_view_module_version": "1.0.0",
            "_view_name": "OutputView",
            "layout": "IPY_MODEL_bd3dec2ca310435a9c0fba05a461660b",
            "msg_id": "",
            "outputs": [
              {
                "name": "stdout",
                "output_type": "stream",
                "text": [
                  "accuracy: 0.8529\n",
                  "f1 score: 0.8293\n"
                ]
              }
            ]
          }
        },
        "beb59630931c40218314c07b9bd1841b": {
          "model_module": "@jupyter-widgets/base",
          "model_name": "LayoutModel",
          "model_module_version": "1.2.0",
          "state": {
            "_model_module": "@jupyter-widgets/base",
            "_model_module_version": "1.2.0",
            "_model_name": "LayoutModel",
            "_view_count": null,
            "_view_module": "@jupyter-widgets/base",
            "_view_module_version": "1.2.0",
            "_view_name": "LayoutView",
            "align_content": null,
            "align_items": null,
            "align_self": null,
            "border": null,
            "bottom": null,
            "display": null,
            "flex": null,
            "flex_flow": null,
            "grid_area": null,
            "grid_auto_columns": null,
            "grid_auto_flow": null,
            "grid_auto_rows": null,
            "grid_column": null,
            "grid_gap": null,
            "grid_row": null,
            "grid_template_areas": null,
            "grid_template_columns": null,
            "grid_template_rows": null,
            "height": null,
            "justify_content": null,
            "justify_items": null,
            "left": null,
            "margin": null,
            "max_height": null,
            "max_width": null,
            "min_height": null,
            "min_width": null,
            "object_fit": null,
            "object_position": null,
            "order": null,
            "overflow": null,
            "overflow_x": null,
            "overflow_y": null,
            "padding": null,
            "right": null,
            "top": null,
            "visibility": null,
            "width": null
          }
        },
        "b47f056d6a0e443dadfc50ffcd873324": {
          "model_module": "@jupyter-widgets/base",
          "model_name": "LayoutModel",
          "model_module_version": "1.2.0",
          "state": {
            "_model_module": "@jupyter-widgets/base",
            "_model_module_version": "1.2.0",
            "_model_name": "LayoutModel",
            "_view_count": null,
            "_view_module": "@jupyter-widgets/base",
            "_view_module_version": "1.2.0",
            "_view_name": "LayoutView",
            "align_content": null,
            "align_items": null,
            "align_self": null,
            "border": null,
            "bottom": null,
            "display": null,
            "flex": null,
            "flex_flow": null,
            "grid_area": null,
            "grid_auto_columns": null,
            "grid_auto_flow": null,
            "grid_auto_rows": null,
            "grid_column": null,
            "grid_gap": null,
            "grid_row": null,
            "grid_template_areas": null,
            "grid_template_columns": null,
            "grid_template_rows": null,
            "height": null,
            "justify_content": null,
            "justify_items": null,
            "left": null,
            "margin": null,
            "max_height": null,
            "max_width": null,
            "min_height": null,
            "min_width": null,
            "object_fit": null,
            "object_position": null,
            "order": null,
            "overflow": null,
            "overflow_x": null,
            "overflow_y": null,
            "padding": null,
            "right": null,
            "top": null,
            "visibility": null,
            "width": null
          }
        },
        "ac542efc92db424dadb292a05849ea8f": {
          "model_module": "@jupyter-widgets/controls",
          "model_name": "DescriptionStyleModel",
          "model_module_version": "1.5.0",
          "state": {
            "_model_module": "@jupyter-widgets/controls",
            "_model_module_version": "1.5.0",
            "_model_name": "DescriptionStyleModel",
            "_view_count": null,
            "_view_module": "@jupyter-widgets/base",
            "_view_module_version": "1.2.0",
            "_view_name": "StyleView",
            "description_width": ""
          }
        },
        "bd3dec2ca310435a9c0fba05a461660b": {
          "model_module": "@jupyter-widgets/base",
          "model_name": "LayoutModel",
          "model_module_version": "1.2.0",
          "state": {
            "_model_module": "@jupyter-widgets/base",
            "_model_module_version": "1.2.0",
            "_model_name": "LayoutModel",
            "_view_count": null,
            "_view_module": "@jupyter-widgets/base",
            "_view_module_version": "1.2.0",
            "_view_name": "LayoutView",
            "align_content": null,
            "align_items": null,
            "align_self": null,
            "border": null,
            "bottom": null,
            "display": null,
            "flex": null,
            "flex_flow": null,
            "grid_area": null,
            "grid_auto_columns": null,
            "grid_auto_flow": null,
            "grid_auto_rows": null,
            "grid_column": null,
            "grid_gap": null,
            "grid_row": null,
            "grid_template_areas": null,
            "grid_template_columns": null,
            "grid_template_rows": null,
            "height": null,
            "justify_content": null,
            "justify_items": null,
            "left": null,
            "margin": null,
            "max_height": null,
            "max_width": null,
            "min_height": null,
            "min_width": null,
            "object_fit": null,
            "object_position": null,
            "order": null,
            "overflow": null,
            "overflow_x": null,
            "overflow_y": null,
            "padding": null,
            "right": null,
            "top": null,
            "visibility": null,
            "width": null
          }
        },
        "df03d683ffec4cd798a4955f3fa58dff": {
          "model_module": "@jupyter-widgets/controls",
          "model_name": "VBoxModel",
          "model_module_version": "1.5.0",
          "state": {
            "_dom_classes": [
              "widget-interact"
            ],
            "_model_module": "@jupyter-widgets/controls",
            "_model_module_version": "1.5.0",
            "_model_name": "VBoxModel",
            "_view_count": null,
            "_view_module": "@jupyter-widgets/controls",
            "_view_module_version": "1.5.0",
            "_view_name": "VBoxView",
            "box_style": "",
            "children": [
              "IPY_MODEL_e20dcb6fe2904611831bfa40ee0ded96",
              "IPY_MODEL_de9c301644aa456694285c39af73d729"
            ],
            "layout": "IPY_MODEL_d52bcfe82f2f4b1ab1bf5505c58c95cf"
          }
        },
        "e20dcb6fe2904611831bfa40ee0ded96": {
          "model_module": "@jupyter-widgets/controls",
          "model_name": "DropdownModel",
          "model_module_version": "1.5.0",
          "state": {
            "_dom_classes": [],
            "_model_module": "@jupyter-widgets/controls",
            "_model_module_version": "1.5.0",
            "_model_name": "DropdownModel",
            "_options_labels": [
              "Out of the box",
              "Best kNN (without transformers)",
              "Variance Threshold",
              "MinMax Scaler - Variance Threshold",
              "MinMax Scaler - Variance Threshold - PCA",
              "MinMax Scaler - PCA",
              "Standard Scaler - PCA",
              "PCA"
            ],
            "_view_count": null,
            "_view_module": "@jupyter-widgets/controls",
            "_view_module_version": "1.5.0",
            "_view_name": "DropdownView",
            "description": "architecture",
            "description_tooltip": null,
            "disabled": false,
            "index": 3,
            "layout": "IPY_MODEL_7bdbe1ca1fd94e6f854e6d8e709c70ce",
            "style": "IPY_MODEL_fcce58f5696841dd9c718372308ca15e"
          }
        },
        "de9c301644aa456694285c39af73d729": {
          "model_module": "@jupyter-widgets/output",
          "model_name": "OutputModel",
          "model_module_version": "1.0.0",
          "state": {
            "_dom_classes": [],
            "_model_module": "@jupyter-widgets/output",
            "_model_module_version": "1.0.0",
            "_model_name": "OutputModel",
            "_view_count": null,
            "_view_module": "@jupyter-widgets/output",
            "_view_module_version": "1.0.0",
            "_view_name": "OutputView",
            "layout": "IPY_MODEL_abb331d8e14d4386b3cc3837fe2c00aa",
            "msg_id": "",
            "outputs": [
              {
                "name": "stdout",
                "output_type": "stream",
                "text": [
                  "accuracy: 0.8739\n",
                  "f1 score: 0.8674\n"
                ]
              }
            ]
          }
        },
        "d52bcfe82f2f4b1ab1bf5505c58c95cf": {
          "model_module": "@jupyter-widgets/base",
          "model_name": "LayoutModel",
          "model_module_version": "1.2.0",
          "state": {
            "_model_module": "@jupyter-widgets/base",
            "_model_module_version": "1.2.0",
            "_model_name": "LayoutModel",
            "_view_count": null,
            "_view_module": "@jupyter-widgets/base",
            "_view_module_version": "1.2.0",
            "_view_name": "LayoutView",
            "align_content": null,
            "align_items": null,
            "align_self": null,
            "border": null,
            "bottom": null,
            "display": null,
            "flex": null,
            "flex_flow": null,
            "grid_area": null,
            "grid_auto_columns": null,
            "grid_auto_flow": null,
            "grid_auto_rows": null,
            "grid_column": null,
            "grid_gap": null,
            "grid_row": null,
            "grid_template_areas": null,
            "grid_template_columns": null,
            "grid_template_rows": null,
            "height": null,
            "justify_content": null,
            "justify_items": null,
            "left": null,
            "margin": null,
            "max_height": null,
            "max_width": null,
            "min_height": null,
            "min_width": null,
            "object_fit": null,
            "object_position": null,
            "order": null,
            "overflow": null,
            "overflow_x": null,
            "overflow_y": null,
            "padding": null,
            "right": null,
            "top": null,
            "visibility": null,
            "width": null
          }
        },
        "7bdbe1ca1fd94e6f854e6d8e709c70ce": {
          "model_module": "@jupyter-widgets/base",
          "model_name": "LayoutModel",
          "model_module_version": "1.2.0",
          "state": {
            "_model_module": "@jupyter-widgets/base",
            "_model_module_version": "1.2.0",
            "_model_name": "LayoutModel",
            "_view_count": null,
            "_view_module": "@jupyter-widgets/base",
            "_view_module_version": "1.2.0",
            "_view_name": "LayoutView",
            "align_content": null,
            "align_items": null,
            "align_self": null,
            "border": null,
            "bottom": null,
            "display": null,
            "flex": null,
            "flex_flow": null,
            "grid_area": null,
            "grid_auto_columns": null,
            "grid_auto_flow": null,
            "grid_auto_rows": null,
            "grid_column": null,
            "grid_gap": null,
            "grid_row": null,
            "grid_template_areas": null,
            "grid_template_columns": null,
            "grid_template_rows": null,
            "height": null,
            "justify_content": null,
            "justify_items": null,
            "left": null,
            "margin": null,
            "max_height": null,
            "max_width": null,
            "min_height": null,
            "min_width": null,
            "object_fit": null,
            "object_position": null,
            "order": null,
            "overflow": null,
            "overflow_x": null,
            "overflow_y": null,
            "padding": null,
            "right": null,
            "top": null,
            "visibility": null,
            "width": null
          }
        },
        "fcce58f5696841dd9c718372308ca15e": {
          "model_module": "@jupyter-widgets/controls",
          "model_name": "DescriptionStyleModel",
          "model_module_version": "1.5.0",
          "state": {
            "_model_module": "@jupyter-widgets/controls",
            "_model_module_version": "1.5.0",
            "_model_name": "DescriptionStyleModel",
            "_view_count": null,
            "_view_module": "@jupyter-widgets/base",
            "_view_module_version": "1.2.0",
            "_view_name": "StyleView",
            "description_width": ""
          }
        },
        "abb331d8e14d4386b3cc3837fe2c00aa": {
          "model_module": "@jupyter-widgets/base",
          "model_name": "LayoutModel",
          "model_module_version": "1.2.0",
          "state": {
            "_model_module": "@jupyter-widgets/base",
            "_model_module_version": "1.2.0",
            "_model_name": "LayoutModel",
            "_view_count": null,
            "_view_module": "@jupyter-widgets/base",
            "_view_module_version": "1.2.0",
            "_view_name": "LayoutView",
            "align_content": null,
            "align_items": null,
            "align_self": null,
            "border": null,
            "bottom": null,
            "display": null,
            "flex": null,
            "flex_flow": null,
            "grid_area": null,
            "grid_auto_columns": null,
            "grid_auto_flow": null,
            "grid_auto_rows": null,
            "grid_column": null,
            "grid_gap": null,
            "grid_row": null,
            "grid_template_areas": null,
            "grid_template_columns": null,
            "grid_template_rows": null,
            "height": null,
            "justify_content": null,
            "justify_items": null,
            "left": null,
            "margin": null,
            "max_height": null,
            "max_width": null,
            "min_height": null,
            "min_width": null,
            "object_fit": null,
            "object_position": null,
            "order": null,
            "overflow": null,
            "overflow_x": null,
            "overflow_y": null,
            "padding": null,
            "right": null,
            "top": null,
            "visibility": null,
            "width": null
          }
        },
        "382b398db4154a798dfe2408e535df6c": {
          "model_module": "@jupyter-widgets/controls",
          "model_name": "VBoxModel",
          "model_module_version": "1.5.0",
          "state": {
            "_dom_classes": [
              "widget-interact"
            ],
            "_model_module": "@jupyter-widgets/controls",
            "_model_module_version": "1.5.0",
            "_model_name": "VBoxModel",
            "_view_count": null,
            "_view_module": "@jupyter-widgets/controls",
            "_view_module_version": "1.5.0",
            "_view_name": "VBoxView",
            "box_style": "",
            "children": [
              "IPY_MODEL_f13ed77ba0b3490ebbef00eadf367dd4",
              "IPY_MODEL_d95640608ef545a9b8ecc60c3de2072e",
              "IPY_MODEL_54e7be7ff96240a58a10b2e28c2e45c7",
              "IPY_MODEL_3064d74bf9cf4593a8ccda15a75fc18e"
            ],
            "layout": "IPY_MODEL_8820f1008f45454084290be532b49645"
          }
        },
        "f13ed77ba0b3490ebbef00eadf367dd4": {
          "model_module": "@jupyter-widgets/controls",
          "model_name": "DropdownModel",
          "model_module_version": "1.5.0",
          "state": {
            "_dom_classes": [],
            "_model_module": "@jupyter-widgets/controls",
            "_model_module_version": "1.5.0",
            "_model_name": "DropdownModel",
            "_options_labels": [
              "1e-06",
              "0.0001",
              "0.1",
              "0.5",
              "0.8",
              "1",
              "1.2",
              "1.5"
            ],
            "_view_count": null,
            "_view_module": "@jupyter-widgets/controls",
            "_view_module_version": "1.5.0",
            "_view_name": "DropdownView",
            "description": "tol",
            "description_tooltip": null,
            "disabled": false,
            "index": 6,
            "layout": "IPY_MODEL_86cde4f6a22b4ef8a8f075bfca6946a4",
            "style": "IPY_MODEL_c626782e5a1847cc9fcdac33f2aeba11"
          }
        },
        "d95640608ef545a9b8ecc60c3de2072e": {
          "model_module": "@jupyter-widgets/controls",
          "model_name": "DropdownModel",
          "model_module_version": "1.5.0",
          "state": {
            "_dom_classes": [],
            "_model_module": "@jupyter-widgets/controls",
            "_model_module_version": "1.5.0",
            "_model_name": "DropdownModel",
            "_options_labels": [
              "1",
              "10",
              "50",
              "100"
            ],
            "_view_count": null,
            "_view_module": "@jupyter-widgets/controls",
            "_view_module_version": "1.5.0",
            "_view_name": "DropdownView",
            "description": "intercept_scaling",
            "description_tooltip": null,
            "disabled": false,
            "index": 0,
            "layout": "IPY_MODEL_61ee0e3f666643f99365d3e17119b448",
            "style": "IPY_MODEL_b0192981264b46c48348e695e221405e"
          }
        },
        "54e7be7ff96240a58a10b2e28c2e45c7": {
          "model_module": "@jupyter-widgets/controls",
          "model_name": "DropdownModel",
          "model_module_version": "1.5.0",
          "state": {
            "_dom_classes": [],
            "_model_module": "@jupyter-widgets/controls",
            "_model_module_version": "1.5.0",
            "_model_name": "DropdownModel",
            "_options_labels": [
              "0",
              "5",
              "10",
              "15"
            ],
            "_view_count": null,
            "_view_module": "@jupyter-widgets/controls",
            "_view_module_version": "1.5.0",
            "_view_name": "DropdownView",
            "description": "verbose",
            "description_tooltip": null,
            "disabled": false,
            "index": 0,
            "layout": "IPY_MODEL_a392c802df134a60b123e1d4cbe9ae20",
            "style": "IPY_MODEL_cae997aad9dc4b06a77aabddad73d336"
          }
        },
        "3064d74bf9cf4593a8ccda15a75fc18e": {
          "model_module": "@jupyter-widgets/output",
          "model_name": "OutputModel",
          "model_module_version": "1.0.0",
          "state": {
            "_dom_classes": [],
            "_model_module": "@jupyter-widgets/output",
            "_model_module_version": "1.0.0",
            "_model_name": "OutputModel",
            "_view_count": null,
            "_view_module": "@jupyter-widgets/output",
            "_view_module_version": "1.0.0",
            "_view_name": "OutputView",
            "layout": "IPY_MODEL_09e91ee6d3814609a27c1c2c7fadeccb",
            "msg_id": "",
            "outputs": [
              {
                "data": {
                  "image/png": "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\n",
                  "text/plain": "<Figure size 1800x864 with 8 Axes>"
                },
                "metadata": {},
                "output_type": "display_data"
              }
            ]
          }
        },
        "8820f1008f45454084290be532b49645": {
          "model_module": "@jupyter-widgets/base",
          "model_name": "LayoutModel",
          "model_module_version": "1.2.0",
          "state": {
            "_model_module": "@jupyter-widgets/base",
            "_model_module_version": "1.2.0",
            "_model_name": "LayoutModel",
            "_view_count": null,
            "_view_module": "@jupyter-widgets/base",
            "_view_module_version": "1.2.0",
            "_view_name": "LayoutView",
            "align_content": null,
            "align_items": null,
            "align_self": null,
            "border": null,
            "bottom": null,
            "display": null,
            "flex": null,
            "flex_flow": null,
            "grid_area": null,
            "grid_auto_columns": null,
            "grid_auto_flow": null,
            "grid_auto_rows": null,
            "grid_column": null,
            "grid_gap": null,
            "grid_row": null,
            "grid_template_areas": null,
            "grid_template_columns": null,
            "grid_template_rows": null,
            "height": null,
            "justify_content": null,
            "justify_items": null,
            "left": null,
            "margin": null,
            "max_height": null,
            "max_width": null,
            "min_height": null,
            "min_width": null,
            "object_fit": null,
            "object_position": null,
            "order": null,
            "overflow": null,
            "overflow_x": null,
            "overflow_y": null,
            "padding": null,
            "right": null,
            "top": null,
            "visibility": null,
            "width": null
          }
        },
        "86cde4f6a22b4ef8a8f075bfca6946a4": {
          "model_module": "@jupyter-widgets/base",
          "model_name": "LayoutModel",
          "model_module_version": "1.2.0",
          "state": {
            "_model_module": "@jupyter-widgets/base",
            "_model_module_version": "1.2.0",
            "_model_name": "LayoutModel",
            "_view_count": null,
            "_view_module": "@jupyter-widgets/base",
            "_view_module_version": "1.2.0",
            "_view_name": "LayoutView",
            "align_content": null,
            "align_items": null,
            "align_self": null,
            "border": null,
            "bottom": null,
            "display": null,
            "flex": null,
            "flex_flow": null,
            "grid_area": null,
            "grid_auto_columns": null,
            "grid_auto_flow": null,
            "grid_auto_rows": null,
            "grid_column": null,
            "grid_gap": null,
            "grid_row": null,
            "grid_template_areas": null,
            "grid_template_columns": null,
            "grid_template_rows": null,
            "height": null,
            "justify_content": null,
            "justify_items": null,
            "left": null,
            "margin": null,
            "max_height": null,
            "max_width": null,
            "min_height": null,
            "min_width": null,
            "object_fit": null,
            "object_position": null,
            "order": null,
            "overflow": null,
            "overflow_x": null,
            "overflow_y": null,
            "padding": null,
            "right": null,
            "top": null,
            "visibility": null,
            "width": null
          }
        },
        "c626782e5a1847cc9fcdac33f2aeba11": {
          "model_module": "@jupyter-widgets/controls",
          "model_name": "DescriptionStyleModel",
          "model_module_version": "1.5.0",
          "state": {
            "_model_module": "@jupyter-widgets/controls",
            "_model_module_version": "1.5.0",
            "_model_name": "DescriptionStyleModel",
            "_view_count": null,
            "_view_module": "@jupyter-widgets/base",
            "_view_module_version": "1.2.0",
            "_view_name": "StyleView",
            "description_width": ""
          }
        },
        "61ee0e3f666643f99365d3e17119b448": {
          "model_module": "@jupyter-widgets/base",
          "model_name": "LayoutModel",
          "model_module_version": "1.2.0",
          "state": {
            "_model_module": "@jupyter-widgets/base",
            "_model_module_version": "1.2.0",
            "_model_name": "LayoutModel",
            "_view_count": null,
            "_view_module": "@jupyter-widgets/base",
            "_view_module_version": "1.2.0",
            "_view_name": "LayoutView",
            "align_content": null,
            "align_items": null,
            "align_self": null,
            "border": null,
            "bottom": null,
            "display": null,
            "flex": null,
            "flex_flow": null,
            "grid_area": null,
            "grid_auto_columns": null,
            "grid_auto_flow": null,
            "grid_auto_rows": null,
            "grid_column": null,
            "grid_gap": null,
            "grid_row": null,
            "grid_template_areas": null,
            "grid_template_columns": null,
            "grid_template_rows": null,
            "height": null,
            "justify_content": null,
            "justify_items": null,
            "left": null,
            "margin": null,
            "max_height": null,
            "max_width": null,
            "min_height": null,
            "min_width": null,
            "object_fit": null,
            "object_position": null,
            "order": null,
            "overflow": null,
            "overflow_x": null,
            "overflow_y": null,
            "padding": null,
            "right": null,
            "top": null,
            "visibility": null,
            "width": null
          }
        },
        "b0192981264b46c48348e695e221405e": {
          "model_module": "@jupyter-widgets/controls",
          "model_name": "DescriptionStyleModel",
          "model_module_version": "1.5.0",
          "state": {
            "_model_module": "@jupyter-widgets/controls",
            "_model_module_version": "1.5.0",
            "_model_name": "DescriptionStyleModel",
            "_view_count": null,
            "_view_module": "@jupyter-widgets/base",
            "_view_module_version": "1.2.0",
            "_view_name": "StyleView",
            "description_width": ""
          }
        },
        "a392c802df134a60b123e1d4cbe9ae20": {
          "model_module": "@jupyter-widgets/base",
          "model_name": "LayoutModel",
          "model_module_version": "1.2.0",
          "state": {
            "_model_module": "@jupyter-widgets/base",
            "_model_module_version": "1.2.0",
            "_model_name": "LayoutModel",
            "_view_count": null,
            "_view_module": "@jupyter-widgets/base",
            "_view_module_version": "1.2.0",
            "_view_name": "LayoutView",
            "align_content": null,
            "align_items": null,
            "align_self": null,
            "border": null,
            "bottom": null,
            "display": null,
            "flex": null,
            "flex_flow": null,
            "grid_area": null,
            "grid_auto_columns": null,
            "grid_auto_flow": null,
            "grid_auto_rows": null,
            "grid_column": null,
            "grid_gap": null,
            "grid_row": null,
            "grid_template_areas": null,
            "grid_template_columns": null,
            "grid_template_rows": null,
            "height": null,
            "justify_content": null,
            "justify_items": null,
            "left": null,
            "margin": null,
            "max_height": null,
            "max_width": null,
            "min_height": null,
            "min_width": null,
            "object_fit": null,
            "object_position": null,
            "order": null,
            "overflow": null,
            "overflow_x": null,
            "overflow_y": null,
            "padding": null,
            "right": null,
            "top": null,
            "visibility": null,
            "width": null
          }
        },
        "cae997aad9dc4b06a77aabddad73d336": {
          "model_module": "@jupyter-widgets/controls",
          "model_name": "DescriptionStyleModel",
          "model_module_version": "1.5.0",
          "state": {
            "_model_module": "@jupyter-widgets/controls",
            "_model_module_version": "1.5.0",
            "_model_name": "DescriptionStyleModel",
            "_view_count": null,
            "_view_module": "@jupyter-widgets/base",
            "_view_module_version": "1.2.0",
            "_view_name": "StyleView",
            "description_width": ""
          }
        },
        "09e91ee6d3814609a27c1c2c7fadeccb": {
          "model_module": "@jupyter-widgets/base",
          "model_name": "LayoutModel",
          "model_module_version": "1.2.0",
          "state": {
            "_model_module": "@jupyter-widgets/base",
            "_model_module_version": "1.2.0",
            "_model_name": "LayoutModel",
            "_view_count": null,
            "_view_module": "@jupyter-widgets/base",
            "_view_module_version": "1.2.0",
            "_view_name": "LayoutView",
            "align_content": null,
            "align_items": null,
            "align_self": null,
            "border": null,
            "bottom": null,
            "display": null,
            "flex": null,
            "flex_flow": null,
            "grid_area": null,
            "grid_auto_columns": null,
            "grid_auto_flow": null,
            "grid_auto_rows": null,
            "grid_column": null,
            "grid_gap": null,
            "grid_row": null,
            "grid_template_areas": null,
            "grid_template_columns": null,
            "grid_template_rows": null,
            "height": null,
            "justify_content": null,
            "justify_items": null,
            "left": null,
            "margin": null,
            "max_height": null,
            "max_width": null,
            "min_height": null,
            "min_width": null,
            "object_fit": null,
            "object_position": null,
            "order": null,
            "overflow": null,
            "overflow_x": null,
            "overflow_y": null,
            "padding": null,
            "right": null,
            "top": null,
            "visibility": null,
            "width": null
          }
        },
        "d948706dafdb44e980bdbe5a9a36143c": {
          "model_module": "@jupyter-widgets/controls",
          "model_name": "VBoxModel",
          "model_module_version": "1.5.0",
          "state": {
            "_dom_classes": [
              "widget-interact"
            ],
            "_model_module": "@jupyter-widgets/controls",
            "_model_module_version": "1.5.0",
            "_model_name": "VBoxModel",
            "_view_count": null,
            "_view_module": "@jupyter-widgets/controls",
            "_view_module_version": "1.5.0",
            "_view_name": "VBoxView",
            "box_style": "",
            "children": [
              "IPY_MODEL_0ae82aefc7a4421bb2d1bcbd9e450128",
              "IPY_MODEL_ccddd31ce92c4e42b25833d56a579d25",
              "IPY_MODEL_76cb9234d06e460fa9b5ecd8890ce437",
              "IPY_MODEL_f1184cf9839b4365b8a255229c857904"
            ],
            "layout": "IPY_MODEL_03c7f81604d74a8fb498f8c25b2623b4"
          }
        },
        "0ae82aefc7a4421bb2d1bcbd9e450128": {
          "model_module": "@jupyter-widgets/controls",
          "model_name": "DropdownModel",
          "model_module_version": "1.5.0",
          "state": {
            "_dom_classes": [],
            "_model_module": "@jupyter-widgets/controls",
            "_model_module_version": "1.5.0",
            "_model_name": "DropdownModel",
            "_options_labels": [
              "1e-06",
              "0.0001",
              "0.1",
              "0.5",
              "1",
              "1.5"
            ],
            "_view_count": null,
            "_view_module": "@jupyter-widgets/controls",
            "_view_module_version": "1.5.0",
            "_view_name": "DropdownView",
            "description": "tol",
            "description_tooltip": null,
            "disabled": false,
            "index": 0,
            "layout": "IPY_MODEL_5685f934e22c490cae20e51bac3eb98f",
            "style": "IPY_MODEL_ad6f34bbc4434782b4fe0718de3c49a2"
          }
        },
        "ccddd31ce92c4e42b25833d56a579d25": {
          "model_module": "@jupyter-widgets/controls",
          "model_name": "DropdownModel",
          "model_module_version": "1.5.0",
          "state": {
            "_dom_classes": [],
            "_model_module": "@jupyter-widgets/controls",
            "_model_module_version": "1.5.0",
            "_model_name": "DropdownModel",
            "_options_labels": [
              "ovr",
              "multinomial"
            ],
            "_view_count": null,
            "_view_module": "@jupyter-widgets/controls",
            "_view_module_version": "1.5.0",
            "_view_name": "DropdownView",
            "description": "multi_class",
            "description_tooltip": null,
            "disabled": false,
            "index": 0,
            "layout": "IPY_MODEL_07e3dacc8fed4664a33b5ceaa50625b1",
            "style": "IPY_MODEL_3232755c39c04744912597c599a1e1f1"
          }
        },
        "76cb9234d06e460fa9b5ecd8890ce437": {
          "model_module": "@jupyter-widgets/controls",
          "model_name": "DropdownModel",
          "model_module_version": "1.5.0",
          "state": {
            "_dom_classes": [],
            "_model_module": "@jupyter-widgets/controls",
            "_model_module_version": "1.5.0",
            "_model_name": "DropdownModel",
            "_options_labels": [
              "True",
              "False"
            ],
            "_view_count": null,
            "_view_module": "@jupyter-widgets/controls",
            "_view_module_version": "1.5.0",
            "_view_name": "DropdownView",
            "description": "warm_start",
            "description_tooltip": null,
            "disabled": false,
            "index": 0,
            "layout": "IPY_MODEL_681824ba098342f396252765e62c3fcf",
            "style": "IPY_MODEL_bc2f95560f6549099ec74b11c600d4ab"
          }
        },
        "f1184cf9839b4365b8a255229c857904": {
          "model_module": "@jupyter-widgets/output",
          "model_name": "OutputModel",
          "model_module_version": "1.0.0",
          "state": {
            "_dom_classes": [],
            "_model_module": "@jupyter-widgets/output",
            "_model_module_version": "1.0.0",
            "_model_name": "OutputModel",
            "_view_count": null,
            "_view_module": "@jupyter-widgets/output",
            "_view_module_version": "1.0.0",
            "_view_name": "OutputView",
            "layout": "IPY_MODEL_f750abc75ce1427c9c95e9385a2e54ea",
            "msg_id": "",
            "outputs": [
              {
                "data": {
                  "image/png": "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\n",
                  "text/plain": "<Figure size 1800x864 with 8 Axes>"
                },
                "metadata": {},
                "output_type": "display_data"
              }
            ]
          }
        },
        "03c7f81604d74a8fb498f8c25b2623b4": {
          "model_module": "@jupyter-widgets/base",
          "model_name": "LayoutModel",
          "model_module_version": "1.2.0",
          "state": {
            "_model_module": "@jupyter-widgets/base",
            "_model_module_version": "1.2.0",
            "_model_name": "LayoutModel",
            "_view_count": null,
            "_view_module": "@jupyter-widgets/base",
            "_view_module_version": "1.2.0",
            "_view_name": "LayoutView",
            "align_content": null,
            "align_items": null,
            "align_self": null,
            "border": null,
            "bottom": null,
            "display": null,
            "flex": null,
            "flex_flow": null,
            "grid_area": null,
            "grid_auto_columns": null,
            "grid_auto_flow": null,
            "grid_auto_rows": null,
            "grid_column": null,
            "grid_gap": null,
            "grid_row": null,
            "grid_template_areas": null,
            "grid_template_columns": null,
            "grid_template_rows": null,
            "height": null,
            "justify_content": null,
            "justify_items": null,
            "left": null,
            "margin": null,
            "max_height": null,
            "max_width": null,
            "min_height": null,
            "min_width": null,
            "object_fit": null,
            "object_position": null,
            "order": null,
            "overflow": null,
            "overflow_x": null,
            "overflow_y": null,
            "padding": null,
            "right": null,
            "top": null,
            "visibility": null,
            "width": null
          }
        },
        "5685f934e22c490cae20e51bac3eb98f": {
          "model_module": "@jupyter-widgets/base",
          "model_name": "LayoutModel",
          "model_module_version": "1.2.0",
          "state": {
            "_model_module": "@jupyter-widgets/base",
            "_model_module_version": "1.2.0",
            "_model_name": "LayoutModel",
            "_view_count": null,
            "_view_module": "@jupyter-widgets/base",
            "_view_module_version": "1.2.0",
            "_view_name": "LayoutView",
            "align_content": null,
            "align_items": null,
            "align_self": null,
            "border": null,
            "bottom": null,
            "display": null,
            "flex": null,
            "flex_flow": null,
            "grid_area": null,
            "grid_auto_columns": null,
            "grid_auto_flow": null,
            "grid_auto_rows": null,
            "grid_column": null,
            "grid_gap": null,
            "grid_row": null,
            "grid_template_areas": null,
            "grid_template_columns": null,
            "grid_template_rows": null,
            "height": null,
            "justify_content": null,
            "justify_items": null,
            "left": null,
            "margin": null,
            "max_height": null,
            "max_width": null,
            "min_height": null,
            "min_width": null,
            "object_fit": null,
            "object_position": null,
            "order": null,
            "overflow": null,
            "overflow_x": null,
            "overflow_y": null,
            "padding": null,
            "right": null,
            "top": null,
            "visibility": null,
            "width": null
          }
        },
        "ad6f34bbc4434782b4fe0718de3c49a2": {
          "model_module": "@jupyter-widgets/controls",
          "model_name": "DescriptionStyleModel",
          "model_module_version": "1.5.0",
          "state": {
            "_model_module": "@jupyter-widgets/controls",
            "_model_module_version": "1.5.0",
            "_model_name": "DescriptionStyleModel",
            "_view_count": null,
            "_view_module": "@jupyter-widgets/base",
            "_view_module_version": "1.2.0",
            "_view_name": "StyleView",
            "description_width": ""
          }
        },
        "07e3dacc8fed4664a33b5ceaa50625b1": {
          "model_module": "@jupyter-widgets/base",
          "model_name": "LayoutModel",
          "model_module_version": "1.2.0",
          "state": {
            "_model_module": "@jupyter-widgets/base",
            "_model_module_version": "1.2.0",
            "_model_name": "LayoutModel",
            "_view_count": null,
            "_view_module": "@jupyter-widgets/base",
            "_view_module_version": "1.2.0",
            "_view_name": "LayoutView",
            "align_content": null,
            "align_items": null,
            "align_self": null,
            "border": null,
            "bottom": null,
            "display": null,
            "flex": null,
            "flex_flow": null,
            "grid_area": null,
            "grid_auto_columns": null,
            "grid_auto_flow": null,
            "grid_auto_rows": null,
            "grid_column": null,
            "grid_gap": null,
            "grid_row": null,
            "grid_template_areas": null,
            "grid_template_columns": null,
            "grid_template_rows": null,
            "height": null,
            "justify_content": null,
            "justify_items": null,
            "left": null,
            "margin": null,
            "max_height": null,
            "max_width": null,
            "min_height": null,
            "min_width": null,
            "object_fit": null,
            "object_position": null,
            "order": null,
            "overflow": null,
            "overflow_x": null,
            "overflow_y": null,
            "padding": null,
            "right": null,
            "top": null,
            "visibility": null,
            "width": null
          }
        },
        "3232755c39c04744912597c599a1e1f1": {
          "model_module": "@jupyter-widgets/controls",
          "model_name": "DescriptionStyleModel",
          "model_module_version": "1.5.0",
          "state": {
            "_model_module": "@jupyter-widgets/controls",
            "_model_module_version": "1.5.0",
            "_model_name": "DescriptionStyleModel",
            "_view_count": null,
            "_view_module": "@jupyter-widgets/base",
            "_view_module_version": "1.2.0",
            "_view_name": "StyleView",
            "description_width": ""
          }
        },
        "681824ba098342f396252765e62c3fcf": {
          "model_module": "@jupyter-widgets/base",
          "model_name": "LayoutModel",
          "model_module_version": "1.2.0",
          "state": {
            "_model_module": "@jupyter-widgets/base",
            "_model_module_version": "1.2.0",
            "_model_name": "LayoutModel",
            "_view_count": null,
            "_view_module": "@jupyter-widgets/base",
            "_view_module_version": "1.2.0",
            "_view_name": "LayoutView",
            "align_content": null,
            "align_items": null,
            "align_self": null,
            "border": null,
            "bottom": null,
            "display": null,
            "flex": null,
            "flex_flow": null,
            "grid_area": null,
            "grid_auto_columns": null,
            "grid_auto_flow": null,
            "grid_auto_rows": null,
            "grid_column": null,
            "grid_gap": null,
            "grid_row": null,
            "grid_template_areas": null,
            "grid_template_columns": null,
            "grid_template_rows": null,
            "height": null,
            "justify_content": null,
            "justify_items": null,
            "left": null,
            "margin": null,
            "max_height": null,
            "max_width": null,
            "min_height": null,
            "min_width": null,
            "object_fit": null,
            "object_position": null,
            "order": null,
            "overflow": null,
            "overflow_x": null,
            "overflow_y": null,
            "padding": null,
            "right": null,
            "top": null,
            "visibility": null,
            "width": null
          }
        },
        "bc2f95560f6549099ec74b11c600d4ab": {
          "model_module": "@jupyter-widgets/controls",
          "model_name": "DescriptionStyleModel",
          "model_module_version": "1.5.0",
          "state": {
            "_model_module": "@jupyter-widgets/controls",
            "_model_module_version": "1.5.0",
            "_model_name": "DescriptionStyleModel",
            "_view_count": null,
            "_view_module": "@jupyter-widgets/base",
            "_view_module_version": "1.2.0",
            "_view_name": "StyleView",
            "description_width": ""
          }
        },
        "f750abc75ce1427c9c95e9385a2e54ea": {
          "model_module": "@jupyter-widgets/base",
          "model_name": "LayoutModel",
          "model_module_version": "1.2.0",
          "state": {
            "_model_module": "@jupyter-widgets/base",
            "_model_module_version": "1.2.0",
            "_model_name": "LayoutModel",
            "_view_count": null,
            "_view_module": "@jupyter-widgets/base",
            "_view_module_version": "1.2.0",
            "_view_name": "LayoutView",
            "align_content": null,
            "align_items": null,
            "align_self": null,
            "border": null,
            "bottom": null,
            "display": null,
            "flex": null,
            "flex_flow": null,
            "grid_area": null,
            "grid_auto_columns": null,
            "grid_auto_flow": null,
            "grid_auto_rows": null,
            "grid_column": null,
            "grid_gap": null,
            "grid_row": null,
            "grid_template_areas": null,
            "grid_template_columns": null,
            "grid_template_rows": null,
            "height": null,
            "justify_content": null,
            "justify_items": null,
            "left": null,
            "margin": null,
            "max_height": null,
            "max_width": null,
            "min_height": null,
            "min_width": null,
            "object_fit": null,
            "object_position": null,
            "order": null,
            "overflow": null,
            "overflow_x": null,
            "overflow_y": null,
            "padding": null,
            "right": null,
            "top": null,
            "visibility": null,
            "width": null
          }
        },
        "1c2652a32a4640178e56790111e9ec5e": {
          "model_module": "@jupyter-widgets/controls",
          "model_name": "VBoxModel",
          "model_module_version": "1.5.0",
          "state": {
            "_view_name": "VBoxView",
            "_dom_classes": [
              "widget-interact"
            ],
            "_model_name": "VBoxModel",
            "_view_module": "@jupyter-widgets/controls",
            "_model_module_version": "1.5.0",
            "_view_count": null,
            "_view_module_version": "1.5.0",
            "box_style": "",
            "layout": "IPY_MODEL_00ca86ddde5146f781aa51a5d9f96fa2",
            "_model_module": "@jupyter-widgets/controls",
            "children": [
              "IPY_MODEL_a3cfb6ce8e6243c6a7a4b837bf3684e1",
              "IPY_MODEL_fcd1ac7a409e424ca6455fa3a9307ee5"
            ]
          }
        },
        "00ca86ddde5146f781aa51a5d9f96fa2": {
          "model_module": "@jupyter-widgets/base",
          "model_name": "LayoutModel",
          "model_module_version": "1.2.0",
          "state": {
            "_view_name": "LayoutView",
            "grid_template_rows": null,
            "right": null,
            "justify_content": null,
            "_view_module": "@jupyter-widgets/base",
            "overflow": null,
            "_model_module_version": "1.2.0",
            "_view_count": null,
            "flex_flow": null,
            "width": null,
            "min_width": null,
            "border": null,
            "align_items": null,
            "bottom": null,
            "_model_module": "@jupyter-widgets/base",
            "top": null,
            "grid_column": null,
            "overflow_y": null,
            "overflow_x": null,
            "grid_auto_flow": null,
            "grid_area": null,
            "grid_template_columns": null,
            "flex": null,
            "_model_name": "LayoutModel",
            "justify_items": null,
            "grid_row": null,
            "max_height": null,
            "align_content": null,
            "visibility": null,
            "align_self": null,
            "height": null,
            "min_height": null,
            "padding": null,
            "grid_auto_rows": null,
            "grid_gap": null,
            "max_width": null,
            "order": null,
            "_view_module_version": "1.2.0",
            "grid_template_areas": null,
            "object_position": null,
            "object_fit": null,
            "grid_auto_columns": null,
            "margin": null,
            "display": null,
            "left": null
          }
        },
        "a3cfb6ce8e6243c6a7a4b837bf3684e1": {
          "model_module": "@jupyter-widgets/controls",
          "model_name": "DropdownModel",
          "model_module_version": "1.5.0",
          "state": {
            "_options_labels": [
              "MinMax Scaler - Variance Threshold - PCA",
              "MinMax Scaler - PCA",
              "Standard Scaler - PCA",
              "PCA",
              "Out of the box",
              "Best LR (without transformers)"
            ],
            "_view_name": "DropdownView",
            "style": "IPY_MODEL_1710919f89ba4a7a9de97f511f009095",
            "_dom_classes": [],
            "description": "architecture",
            "_model_name": "DropdownModel",
            "index": 5,
            "_view_module": "@jupyter-widgets/controls",
            "_model_module_version": "1.5.0",
            "_view_count": null,
            "disabled": false,
            "_view_module_version": "1.5.0",
            "description_tooltip": null,
            "_model_module": "@jupyter-widgets/controls",
            "layout": "IPY_MODEL_5a1ee55b44144806967d2ccaf991158f"
          }
        },
        "fcd1ac7a409e424ca6455fa3a9307ee5": {
          "model_module": "@jupyter-widgets/output",
          "model_name": "OutputModel",
          "model_module_version": "1.0.0",
          "state": {
            "_view_name": "OutputView",
            "msg_id": "",
            "_dom_classes": [],
            "_model_name": "OutputModel",
            "outputs": [
              {
                "output_type": "stream",
                "name": "stdout",
                "text": [
                  "accuracy: 0.8819\n",
                  "f1 score: 0.8431\n"
                ]
              }
            ],
            "_view_module": "@jupyter-widgets/output",
            "_model_module_version": "1.0.0",
            "_view_count": null,
            "_view_module_version": "1.0.0",
            "layout": "IPY_MODEL_e0ad96a1e56c43279ac8318e502d7b62",
            "_model_module": "@jupyter-widgets/output"
          }
        },
        "1710919f89ba4a7a9de97f511f009095": {
          "model_module": "@jupyter-widgets/controls",
          "model_name": "DescriptionStyleModel",
          "model_module_version": "1.5.0",
          "state": {
            "_view_name": "StyleView",
            "_model_name": "DescriptionStyleModel",
            "description_width": "",
            "_view_module": "@jupyter-widgets/base",
            "_model_module_version": "1.5.0",
            "_view_count": null,
            "_view_module_version": "1.2.0",
            "_model_module": "@jupyter-widgets/controls"
          }
        },
        "5a1ee55b44144806967d2ccaf991158f": {
          "model_module": "@jupyter-widgets/base",
          "model_name": "LayoutModel",
          "model_module_version": "1.2.0",
          "state": {
            "_view_name": "LayoutView",
            "grid_template_rows": null,
            "right": null,
            "justify_content": null,
            "_view_module": "@jupyter-widgets/base",
            "overflow": null,
            "_model_module_version": "1.2.0",
            "_view_count": null,
            "flex_flow": null,
            "width": null,
            "min_width": null,
            "border": null,
            "align_items": null,
            "bottom": null,
            "_model_module": "@jupyter-widgets/base",
            "top": null,
            "grid_column": null,
            "overflow_y": null,
            "overflow_x": null,
            "grid_auto_flow": null,
            "grid_area": null,
            "grid_template_columns": null,
            "flex": null,
            "_model_name": "LayoutModel",
            "justify_items": null,
            "grid_row": null,
            "max_height": null,
            "align_content": null,
            "visibility": null,
            "align_self": null,
            "height": null,
            "min_height": null,
            "padding": null,
            "grid_auto_rows": null,
            "grid_gap": null,
            "max_width": null,
            "order": null,
            "_view_module_version": "1.2.0",
            "grid_template_areas": null,
            "object_position": null,
            "object_fit": null,
            "grid_auto_columns": null,
            "margin": null,
            "display": null,
            "left": null
          }
        },
        "e0ad96a1e56c43279ac8318e502d7b62": {
          "model_module": "@jupyter-widgets/base",
          "model_name": "LayoutModel",
          "model_module_version": "1.2.0",
          "state": {
            "_view_name": "LayoutView",
            "grid_template_rows": null,
            "right": null,
            "justify_content": null,
            "_view_module": "@jupyter-widgets/base",
            "overflow": null,
            "_model_module_version": "1.2.0",
            "_view_count": null,
            "flex_flow": null,
            "width": null,
            "min_width": null,
            "border": null,
            "align_items": null,
            "bottom": null,
            "_model_module": "@jupyter-widgets/base",
            "top": null,
            "grid_column": null,
            "overflow_y": null,
            "overflow_x": null,
            "grid_auto_flow": null,
            "grid_area": null,
            "grid_template_columns": null,
            "flex": null,
            "_model_name": "LayoutModel",
            "justify_items": null,
            "grid_row": null,
            "max_height": null,
            "align_content": null,
            "visibility": null,
            "align_self": null,
            "height": null,
            "min_height": null,
            "padding": null,
            "grid_auto_rows": null,
            "grid_gap": null,
            "max_width": null,
            "order": null,
            "_view_module_version": "1.2.0",
            "grid_template_areas": null,
            "object_position": null,
            "object_fit": null,
            "grid_auto_columns": null,
            "margin": null,
            "display": null,
            "left": null
          }
        }
      }
    }
  },
  "cells": [
    {
      "cell_type": "markdown",
      "metadata": {
        "id": "wDlgJt4MBzx6"
      },
      "source": [
        "Ομάδα 94 - δύο ατόμων: Κριθαρούλα Αναστασία 03117073, Κριθαρούλας Διονύσης 03117875"
      ]
    },
    {
      "cell_type": "markdown",
      "metadata": {
        "id": "XtKr3xP8B6m3"
      },
      "source": [
        "#Νευρωικά Δίκτυα - Ροή Y - 9ο Εξάμηνο - ΣΗΜΜΥ"
      ]
    },
    {
      "cell_type": "markdown",
      "metadata": {
        "id": "PajsQIiFB2fj"
      },
      "source": [
        "# Εργασία 1. Επιβλεπόμενη μάθηση:Ταξινόμηση"
      ]
    },
    {
      "cell_type": "code",
      "metadata": {
        "colab": {
          "base_uri": "https://localhost:8080/"
        },
        "id": "DBULaz64GdGy",
        "outputId": "315cc69e-52cc-4492-837d-0a7a13b9f377"
      },
      "source": [
        "!pip install --upgrade scikit-learn \n",
        "!pip install --upgrade numpy \n",
        "!pip install --upgrade pandas \n",
        "!pip install --upgrade imbalanced-learn\n",
        "!pip install --upgrade seaborn"
      ],
      "execution_count": 1,
      "outputs": [
        {
          "output_type": "stream",
          "name": "stdout",
          "text": [
            "Requirement already satisfied: scikit-learn in /usr/local/lib/python3.7/dist-packages (1.0.1)\n",
            "Requirement already satisfied: numpy>=1.14.6 in /usr/local/lib/python3.7/dist-packages (from scikit-learn) (1.21.4)\n",
            "Requirement already satisfied: joblib>=0.11 in /usr/local/lib/python3.7/dist-packages (from scikit-learn) (1.1.0)\n",
            "Requirement already satisfied: scipy>=1.1.0 in /usr/local/lib/python3.7/dist-packages (from scikit-learn) (1.4.1)\n",
            "Requirement already satisfied: threadpoolctl>=2.0.0 in /usr/local/lib/python3.7/dist-packages (from scikit-learn) (3.0.0)\n",
            "Requirement already satisfied: numpy in /usr/local/lib/python3.7/dist-packages (1.21.4)\n",
            "Requirement already satisfied: pandas in /usr/local/lib/python3.7/dist-packages (1.3.4)\n",
            "Requirement already satisfied: numpy>=1.17.3 in /usr/local/lib/python3.7/dist-packages (from pandas) (1.21.4)\n",
            "Requirement already satisfied: pytz>=2017.3 in /usr/local/lib/python3.7/dist-packages (from pandas) (2018.9)\n",
            "Requirement already satisfied: python-dateutil>=2.7.3 in /usr/local/lib/python3.7/dist-packages (from pandas) (2.8.2)\n",
            "Requirement already satisfied: six>=1.5 in /usr/local/lib/python3.7/dist-packages (from python-dateutil>=2.7.3->pandas) (1.15.0)\n",
            "Requirement already satisfied: imbalanced-learn in /usr/local/lib/python3.7/dist-packages (0.8.1)\n",
            "Requirement already satisfied: scikit-learn>=0.24 in /usr/local/lib/python3.7/dist-packages (from imbalanced-learn) (1.0.1)\n",
            "Requirement already satisfied: numpy>=1.13.3 in /usr/local/lib/python3.7/dist-packages (from imbalanced-learn) (1.21.4)\n",
            "Requirement already satisfied: joblib>=0.11 in /usr/local/lib/python3.7/dist-packages (from imbalanced-learn) (1.1.0)\n",
            "Requirement already satisfied: scipy>=0.19.1 in /usr/local/lib/python3.7/dist-packages (from imbalanced-learn) (1.4.1)\n",
            "Requirement already satisfied: threadpoolctl>=2.0.0 in /usr/local/lib/python3.7/dist-packages (from scikit-learn>=0.24->imbalanced-learn) (3.0.0)\n",
            "Requirement already satisfied: seaborn in /usr/local/lib/python3.7/dist-packages (0.11.2)\n",
            "Requirement already satisfied: scipy>=1.0 in /usr/local/lib/python3.7/dist-packages (from seaborn) (1.4.1)\n",
            "Requirement already satisfied: numpy>=1.15 in /usr/local/lib/python3.7/dist-packages (from seaborn) (1.21.4)\n",
            "Requirement already satisfied: matplotlib>=2.2 in /usr/local/lib/python3.7/dist-packages (from seaborn) (3.2.2)\n",
            "Requirement already satisfied: pandas>=0.23 in /usr/local/lib/python3.7/dist-packages (from seaborn) (1.3.4)\n",
            "Requirement already satisfied: pyparsing!=2.0.4,!=2.1.2,!=2.1.6,>=2.0.1 in /usr/local/lib/python3.7/dist-packages (from matplotlib>=2.2->seaborn) (3.0.6)\n",
            "Requirement already satisfied: cycler>=0.10 in /usr/local/lib/python3.7/dist-packages (from matplotlib>=2.2->seaborn) (0.11.0)\n",
            "Requirement already satisfied: python-dateutil>=2.1 in /usr/local/lib/python3.7/dist-packages (from matplotlib>=2.2->seaborn) (2.8.2)\n",
            "Requirement already satisfied: kiwisolver>=1.0.1 in /usr/local/lib/python3.7/dist-packages (from matplotlib>=2.2->seaborn) (1.3.2)\n",
            "Requirement already satisfied: pytz>=2017.3 in /usr/local/lib/python3.7/dist-packages (from pandas>=0.23->seaborn) (2018.9)\n",
            "Requirement already satisfied: six>=1.5 in /usr/local/lib/python3.7/dist-packages (from python-dateutil>=2.1->matplotlib>=2.2->seaborn) (1.15.0)\n"
          ]
        }
      ]
    },
    {
      "cell_type": "markdown",
      "metadata": {
        "id": "-Vrys_W0n0TD"
      },
      "source": [
        "## Μέρος 1. UCI Dataset"
      ]
    },
    {
      "cell_type": "markdown",
      "metadata": {
        "id": "Vpo8b2_QzJaU"
      },
      "source": [
        "### Εισαγωγή και Επισκόπηση"
      ]
    },
    {
      "cell_type": "markdown",
      "metadata": {
        "id": "G65Toyc4oiTG"
      },
      "source": [
        "Στην ακόλουθη εργαστηριακή άσκηση θα εργαστούμε πάνω στο dataset \"Japanese Credit Screening\" του UCI. Το συγκεκριμένο dataset είναι ένα binary dataset που περιλαμβάνει 690 παραδείγματα (δείγματα) που αντιπροσωπεύουν θετικές και αρνητικές περιπτώσεις ατόμων στα οποία χορηγήθηκε ή δε χορηγήθηκε πίστωση. Τα παραδείγματα αυτά δημιουργήθηκαν μιλώντας με άτομα που εργάζονται σε μια ιαπωνική εταιρία που χορηγεί πιστώσεις και καθώς αφορούν αιτήσεις πιστωτικών καρτών όλα τα ονόματα χαρακτηριστικών και οι αξίες έχουν αντικατασταθεί με σύμβολα για την προστασία των προσωπικών δεδομένων. Κάποια χαρακτηριστικά λοιπόν παίρνουν συνεχείς τιμές (πραγματικοί αριθμοί), ενώ κάποια άλλα είναι κατηγορικά και παίρνουν τιμές από κάποιο μικρό ή και μεγαλύτερο σύνολο συμβολοσειρών. Πιο αναλυτικά, κάθε δείγμα αποτελείται από 16 χαρακτηριστικά Α1, Α2, ..., Α16 με τα ακόλουθα πεδία τιμών:\n",
        "\n",
        "Attribute | Range \n",
        "-------------------|------------------\n",
        "A1       | a, b \n",
        "A2       | continuous \n",
        "A3       | continuous\n",
        "A4       | u, y, l, t\n",
        "A5       | g, p, gg\n",
        "A6       | c, d, cc, i, j, k, m, r, q, w, x, e, aa, ff\n",
        "A7       | v, h, bb, j, n, z, dd, ff, o\n",
        "A8       | continuous\n",
        "A9       | t, f\n",
        "A10      | t, f\n",
        "A11      | continuous\n",
        "A12      | t, f\n",
        "A13      | g, p, s\n",
        "A14      | continuous\n",
        "A15      | continuous\n",
        "A16      | +, -\n",
        "\n",
        "\n",
        "Παρατηρούμε, λοιπόν, ότι τα χαρακτηριστικά Α2, Α3, Α8, Α11, Α14 και Α15 παίρνουν συνεχείς τιμές, ενώ τα Α1, Α4, Α5, Α6, Α7, Α9, Α10, Α12 και Α13 είναι κατηγορικά μη διατεταγμένα χαρακτηριστικά. Όσον αφορά το χαρακτηριστικό Α16, που παίρνει τιμές '+' ή '-', αντιστοιχεί στις ετικέτες των κλάσεων, με το '+' να δώλωνει δείγματα στα οποία χορηγήθηκε πίστωση, και αντίστοιχα το '-' δείγματα στα οποία δε χορηγήθηκε πίστωση.\n",
        "\n",
        "Το αρχείο που περιέχει τα δεδομένα καλείται 'crx.data' και αποτελείται από 690 γραμμές κάθε μια από τις οποίες αντιστοιχεί και σε ένα δείγμα του dataset. Καθε γραμμή περιέχει 16 τιμές χωρισμένενες με ',' που αντιστοιχούν στις τιμές των χαρακτηριστικών Α1, Α2, ..., Α16 του εκάστοτε δείγματος. Έτσι, λοιπόν, οι πρώτες 15 κολώνες αντιστοιχούν στα χαρακτηριστικά εισόδου, η 16$^{η}$ κολώνα στα labels των δειγμάτων, ενώ δεν περιέχονται επικεφαλίδες ή αρίθμηση των γραμμών.\n",
        "\n",
        "Στο συγκεκριμένο dataset παρατηρούμε ότι σε 37 από τα δείγματα (ποσοστό 5%) απουσιάζουν τουλάχιστον μια ή και περισσότερες τιμές χαρακτηριστικών. Οι τιμές που απουσιάζουν σημειώνονται με το χαρακτήρα '?' και εντοπίζονται στα ακόλουθα χαρακτηριστικά, με τη αντίστοιχη συχνότητα:\n",
        "\n",
        "Attribute | Number of misses\n",
        "-------------------|------------------\n",
        "A1       | 12\n",
        "A2       | 12 \n",
        "A4       | 6\n",
        "A5       | 6\n",
        "A6       | 9\n",
        "A7       | 9\n",
        "A14       | 13\n",
        "\n",
        "Τέλος, όσον αφορά την κατανομή των δειγμάτων στις δύο κλάσεις του dataset, παρατηρούμε ότι αυτή είναι ισορροπημένη, με 307 δείγματα (ποσοστό 44.5%) να αντιστοιχούν σε αιτήσεις στις οποίες χορηγήθηκε πίστωση και 383 δείγματα (ποσοστό 55.5%) να αντιστοιχούν σε αιτήσεις στις οποίες δε χορηγήθηκε πίστωση. "
      ]
    },
    {
      "cell_type": "markdown",
      "metadata": {
        "id": "dErs_FrDy80f"
      },
      "source": [
        "### Προετοιμασία"
      ]
    },
    {
      "cell_type": "markdown",
      "metadata": {
        "id": "iRJHM3_F0aUz"
      },
      "source": [
        "Αρχικά, διαβάζουμε το αρχείο 'crx.data' και αποθηκεύουμε τις πρώτες 15 κολώνες (που αντιστοιχούν στα χαρακτηριστικά εισόδου) σε ένα datarame \"features_df\", και τη 16$^{η}$ κολώνα (που αντιστοιχεί στα labels) σε ένα dataframe \"labels_df\".\n",
        "\n",
        "<i><u>Σχόλιο</u>: Για  το διαχωρισμό και την αποθήκευση των attributes χρησιμοποιούμε dataframes και όχι απευθείας numpy arrays λόγω της ποικιλομορφίας των τύπων τους</i>. "
      ]
    },
    {
      "cell_type": "code",
      "metadata": {
        "id": "DNedKFJvKVf5"
      },
      "source": [
        "!cat crx.data"
      ],
      "execution_count": null,
      "outputs": []
    },
    {
      "cell_type": "code",
      "metadata": {
        "id": "JcFBvwzUvT2U"
      },
      "source": [
        "import pandas as pd\n",
        "import numpy as np\n",
        "\n",
        "df = pd.read_csv(\"crx.data\", header = None)\n",
        "df.head()\n",
        "\n",
        "labels_df = df.iloc[:, [15]] \n",
        "features_df = df.iloc[:, :-1]"
      ],
      "execution_count": 20,
      "outputs": []
    },
    {
      "cell_type": "markdown",
      "metadata": {
        "id": "J9lSdWzqwua0"
      },
      "source": [
        "#### Επεξεργασία του dataframe \"labels_df\""
      ]
    },
    {
      "cell_type": "markdown",
      "metadata": {
        "id": "H41F9jq_4IzM"
      },
      "source": [
        "Όσον αφορά το dataframe - κολώνα με τις κλάσεις, \"labels_df\", θα πρέπει να μετατρέψουμε τα string '-' και '+' σε 0 και 1 αντίστοιχα. Για το σκοπό αυτό ορίζουμε το αντίστοιχο mapping, το οποίο και εφαρμόζουμε στο 'labels_df' μέσω της μεθόδου replace. Στη συνέχεια, εφαρμόζουμε διαδοχικά τις μεθόδους \"values\" και flatten() στο dataframe που προέκυψε, έτσι ώστε να πάρουμε ένα μονοδιάστατο np array (690,)."
      ]
    },
    {
      "cell_type": "code",
      "metadata": {
        "colab": {
          "base_uri": "https://localhost:8080/"
        },
        "id": "jHhvMZQwwNNL",
        "outputId": "e31e357d-884e-4919-9393-cff240ddc65f"
      },
      "source": [
        "mapping_labels = {'-': 0, '+': 1}\n",
        "labels_df = labels_df.replace({15: mapping_labels}) #labels are located in column 15.\n",
        "np_labels = labels_df.values.flatten()\n",
        "\n",
        "print('Labels array dimension:', np_labels.shape)"
      ],
      "execution_count": 21,
      "outputs": [
        {
          "output_type": "stream",
          "name": "stdout",
          "text": [
            "Labels array dimension: (690,)\n"
          ]
        }
      ]
    },
    {
      "cell_type": "markdown",
      "metadata": {
        "id": "rX30DnTo24ne"
      },
      "source": [
        "#### Επεξεργασία του dataframe \"features_df\""
      ]
    },
    {
      "cell_type": "markdown",
      "metadata": {
        "id": "ihkfb4jS3I8Q"
      },
      "source": [
        "##### <u>Διαχείριση των απουσιάζουσων τιμών</u>"
      ]
    },
    {
      "cell_type": "markdown",
      "metadata": {
        "id": "7nFp7U1Lmosp"
      },
      "source": [
        "Οι τιμές που απουσιάζουν στο δοθέν dataset σημειώνονται με το χαρακτήρα '?'. Για τη διαχείριση τους θα χρησιμοποιήσουμε το μετασχηματιστή \"Imputer\" του scikit-learn. Αρχικά, για δική μας διευκόλυνση αντικαθιστούμε το χαρακτήρα '?' με τη συμβολοσειρά 'nan' στα κατηγορικά χαρακτηριστικά και με numpy.NaN στα χαρακτηριστικά με συνεχείς τιμές. Στη συνέχεια στα κατηγορικά χαρακτηριστικά εφαρμόζουμε έναν SimpleImputer που αντικαθιστά κάθε απουσιάζουσα τιμή με την πιο συχνή τιμή (<i>strategy = most_frequent</i>), ενώ στα χαρακτηριστικά που λαμβάνουν συνεχείς τιμές έναν SimpleImputer που αντικαθιστά κάθε απουσιάζουσα τιμή με τη μέση τιμή (<i>strategy = mean</i>), με τον υπολογισμό τόσο της πιο συχνής τιμής όσο και της μέσης τιμής να βασίζεται αποκλειστικά και μόνο στα train δεδομένα. (Η παραπάνω διαδικασία υλοποιείται μέσω της συνάρτησης Imputation). Για το σκοπό αυτό στο σημείο αυτό χωρίζουμε το δοθέν dataset σε train και test set με ποσοστό 70% και 30% αντίστοιχα, έτσι ώστε να υλοποιήσουμε την προεπεξεργασία των δεδομένων βασισμένοι μόνο στο train set. "
      ]
    },
    {
      "cell_type": "code",
      "metadata": {
        "id": "LOqN7TDdh5Bx"
      },
      "source": [
        "#replace '?' with 'nan' in nominal attributes\n",
        "features_df = features_df.replace({ x : {'?' : 'nan'} for x in [0, 3, 4, 5, 6]})\n",
        "#replace '?' with numpy.NaN in continuous attributes\n",
        "features_df = features_df.replace({ x : {'?' : np.NaN} for x in [1, 13]})"
      ],
      "execution_count": 22,
      "outputs": []
    },
    {
      "cell_type": "code",
      "metadata": {
        "id": "mMPt1oUyZ5wl"
      },
      "source": [
        "from sklearn.model_selection import train_test_split\n",
        "\n",
        "#split dataset to train and test set\n",
        "train_features_df, test_features_df, y_train, y_test = train_test_split(features_df, np_labels, test_size = 0.3)"
      ],
      "execution_count": 23,
      "outputs": []
    },
    {
      "cell_type": "code",
      "metadata": {
        "id": "4YlCUgHpburE"
      },
      "source": [
        "def Imputation(train_df, test_df, nominal_imputer, continuous_imputer):\n",
        "\n",
        "  #fit nominal imputer on train data\n",
        "  df = pd.DataFrame(nominal_imputer.fit_transform(train_df[[0, 3, 4, 5, 6, 8, 9, 11, 12]]))\n",
        "  df.columns = train_df[[0, 3, 4, 5, 6, 8, 9, 11, 12]].columns\n",
        "  df.index = train_df[[0, 3, 4, 5, 6, 8, 9, 11, 12]].index  \n",
        "  train_df[[0, 3, 4, 5, 6, 8, 9, 11, 12]] = df.copy()\n",
        "\n",
        "  #transform test data with fitted nominal imputer\n",
        "  df = pd.DataFrame(nominal_imputer.transform(test_df[[0, 3, 4, 5, 6, 8, 9, 11, 12]]))\n",
        "  df.columns = test_df[[0, 3, 4, 5, 6, 8, 9, 11, 12]].columns\n",
        "  df.index = test_df[[0, 3, 4, 5, 6, 8, 9, 11, 12]].index  \n",
        "  test_df[[0, 3, 4, 5, 6, 8, 9, 11, 12]] = df.copy()  \n",
        "\n",
        "  #fit continuous imputer on train data\n",
        "  df = pd.DataFrame(continuous_imputer.fit_transform(train_df[[1, 2, 7, 10, 13, 14]]))\n",
        "  df.columns = train_df[[1, 2, 7, 10, 13, 14]].columns\n",
        "  df.index = train_df[[1, 2, 7, 10, 13, 14]].index  \n",
        "  train_df[[1, 2, 7, 10, 13, 14]] = df.copy()\n",
        "\n",
        "  #transform test data with fitted nominal imputer\n",
        "  df = pd.DataFrame(continuous_imputer.transform(test_df[[1, 2, 7, 10, 13, 14]]))\n",
        "  df.columns = test_df[[1, 2, 7, 10, 13, 14]].columns\n",
        "  df.index = test_df[[1, 2, 7, 10, 13, 14]].index  \n",
        "  test_df[[1, 2, 7, 10, 13, 14]] = df.copy()  \n",
        "\n",
        "  return train_df, test_df"
      ],
      "execution_count": 24,
      "outputs": []
    },
    {
      "cell_type": "code",
      "metadata": {
        "id": "v6ImlL3ChVaX"
      },
      "source": [
        "from sklearn.impute import SimpleImputer\n",
        "\n",
        "#define imputer for nominal attributes\n",
        "imp_nominal = SimpleImputer(missing_values = 'nan', strategy = 'most_frequent')\n",
        "\n",
        "#define imputer for continuous attributes\n",
        "imp_continuous = SimpleImputer(missing_values = np.NaN, strategy = 'mean')"
      ],
      "execution_count": 25,
      "outputs": []
    },
    {
      "cell_type": "code",
      "metadata": {
        "id": "goe43Lz3hLvG"
      },
      "source": [
        "train_features_df, test_features_df = Imputation(train_features_df, test_features_df, imp_nominal, imp_continuous) "
      ],
      "execution_count": 26,
      "outputs": []
    },
    {
      "cell_type": "markdown",
      "metadata": {
        "id": "R_Q1Ssaf3vC9"
      },
      "source": [
        "#####<u>Διαχείριση των κατηγορικών χαρακτηριστικών</u>"
      ]
    },
    {
      "cell_type": "markdown",
      "metadata": {
        "id": "_IADZT9DssRt"
      },
      "source": [
        "Όσον αφορά τη διαχείριση των κατηγορικών χαρακτηριστικών που βρίσκονται στις κολώνες 0, 3, 5, 6, 8, 9, 11, και 12, καθώς τα σύνολα τιμών αυτών δεν είναι διατεταγμένα, επιλέγουμε να μετατρέψουμε κάθε κατηγορικό χαρτακτηριστικό με m τιμές σε m binary χαρακτηριστικά, από τα οποία ένα μόνο θα είναι ενεργό κάθε φορά. (Η διαδικασία αυτή υλοποιείται στη συνάρτηση Dummies). Σημειώνουμε, βέβαια ότι με τον τρόπο αυτό αυξάνουμε τη διάσταση των χαρακτηριστικών των δειγμάτων μας."
      ]
    },
    {
      "cell_type": "code",
      "metadata": {
        "id": "JOGsk-bGkoHJ"
      },
      "source": [
        "def Dummies(train_df, test_df, column_list = [0, 3, 4, 5, 6, 8, 9, 11, 12]):\n",
        "  train_df = pd.get_dummies(train_df, columns = column_list)  #convert nominal attribute with m values to m binary attributes - only one of them is active at a time\n",
        "  test_df = pd.get_dummies(test_df, columns = column_list)\n",
        "  test_df = test_df.reindex(columns = train_df.columns, fill_value = 0)\n",
        "  return train_df, test_df "
      ],
      "execution_count": 27,
      "outputs": []
    },
    {
      "cell_type": "code",
      "metadata": {
        "id": "sGdXEZXWlXRl"
      },
      "source": [
        "train_features_df, test_features_df = Dummies(train_features_df, test_features_df)"
      ],
      "execution_count": 28,
      "outputs": []
    },
    {
      "cell_type": "code",
      "metadata": {
        "colab": {
          "base_uri": "https://localhost:8080/"
        },
        "id": "nlo-blDUvD4t",
        "outputId": "27bf3170-9774-4f79-d931-95edf56b4e0c"
      },
      "source": [
        "print('Number of attributes after Dummies:', train_features_df.shape[1])"
      ],
      "execution_count": 29,
      "outputs": [
        {
          "output_type": "stream",
          "name": "stdout",
          "text": [
            "Number of attributes after Dummies: 46\n"
          ]
        }
      ]
    },
    {
      "cell_type": "markdown",
      "metadata": {
        "id": "YpQiiGBJ4rF6"
      },
      "source": [
        "##### <u>Μετατροπή των χαρακτηριστικών σε numpy arrays</u>"
      ]
    },
    {
      "cell_type": "markdown",
      "metadata": {
        "id": "ZDh-FU63uStC"
      },
      "source": [
        "Έπειτα, από την παραπάνω προεπεξεργασία, παρατηρούμε ότι κάθε δείγμα αποτελείται από 46 χαρακτηριστικά. Μετατρέπουμε, λοιπόν, όλες τις τιμές των χαρακτηριστικών όλων των δειγμάτων (train και test set) σε αριθμητικές. Τέλος, μετατρέπουμε τα dataframes που αντιστοιχούν στο train και το test set στην τελική τους μορφή, δηλαδή σε numpy arrays, με σκοπό να πορέσουμε στη συνέχεια να τα χρησιμοποιήσουμε ως εισόδους στους διάφορους ταξινομητές που θα υλοποιήσουμε."
      ]
    },
    {
      "cell_type": "code",
      "metadata": {
        "id": "hc2-OzKChMSY"
      },
      "source": [
        "X_train = train_features_df.apply(pd.to_numeric).values # convert to numerical values (pd.to_numeric) and after to numpy array (.values)\n",
        "X_test = test_features_df.apply(pd.to_numeric).values"
      ],
      "execution_count": 30,
      "outputs": []
    },
    {
      "cell_type": "code",
      "metadata": {
        "colab": {
          "base_uri": "https://localhost:8080/"
        },
        "id": "BLAI8p0Cl2Fx",
        "outputId": "ba89a230-61a7-4b38-c315-ea76e372dbba"
      },
      "source": [
        "print('Shape of train set:', X_train.shape)\n",
        "print('Shape of test set:', X_test.shape)"
      ],
      "execution_count": 31,
      "outputs": [
        {
          "output_type": "stream",
          "name": "stdout",
          "text": [
            "Shape of train set: (483, 46)\n",
            "Shape of test set: (207, 46)\n"
          ]
        }
      ]
    },
    {
      "cell_type": "markdown",
      "metadata": {
        "id": "RpqMAkso6UXY"
      },
      "source": [
        "### Ταξινόμηση"
      ]
    },
    {
      "cell_type": "markdown",
      "metadata": {
        "id": "VOgAfmxB6vJV"
      },
      "source": [
        "Στη συνέχεια πάνω στο δοθέν dataset θα μελετήσουμε καθέναν από τους ακόλουθους ταξινομητές:\n",
        "- dummy\n",
        "- Gaussian Naive Bayes(GNB)\n",
        "- KNeirestNeighbors(kNN)\n",
        "- Logistic Regression(LR)"
      ]
    },
    {
      "cell_type": "markdown",
      "metadata": {
        "id": "O6S6CaELNNkN"
      },
      "source": [
        "#### Επίδοση out-of-the-box"
      ]
    },
    {
      "cell_type": "code",
      "metadata": {
        "id": "-wH4-19gPflE"
      },
      "source": [
        "from sklearn.dummy import DummyClassifier\n",
        "from sklearn.naive_bayes import GaussianNB\n",
        "from sklearn.neighbors import KNeighborsClassifier\n",
        "from sklearn.linear_model import LogisticRegression\n",
        "\n",
        "\n",
        "dc_uniform = DummyClassifier(strategy = \"uniform\")\n",
        "dc_constant_0 = DummyClassifier(strategy = \"constant\", constant = 0)\n",
        "dc_constant_1 = DummyClassifier(strategy = \"constant\", constant = 1)\n",
        "dc_most_frequent = DummyClassifier(strategy = \"most_frequent\")\n",
        "dc_stratified = DummyClassifier(strategy = \"stratified\")\n",
        "\n",
        "gnb = GaussianNB()\n",
        "knn = KNeighborsClassifier()\n",
        "logisitcRegr = LogisticRegression()\n",
        "\n",
        "classifiers_out_of_the_box = [dc_uniform, dc_constant_0, dc_constant_1, dc_most_frequent, dc_stratified, gnb, knn, logisitcRegr]\n",
        "classifiers_names = ['dummy classifier - uniform', 'dummy classifier - constant 0', 'dummy classifier - constant 1', 'dummy classifier - most frequent', 'dummy classifer - stratified',\n",
        "                     'gaussian naive bayes', 'knn', 'logistic regression']"
      ],
      "execution_count": 14,
      "outputs": []
    },
    {
      "cell_type": "code",
      "metadata": {
        "id": "kwsBfBGURuGr"
      },
      "source": [
        "japanese_credit_screening_cross_val_accuracy_out_of_the_box = dict()\n",
        "japanese_credit_screening_cross_val_f1_score_out_of_the_box = dict()\n",
        "japanese_credit_screening_accuracy_out_of_the_box = dict()\n",
        "japanese_credit_screening_f1_score_out_of_the_box = dict()"
      ],
      "execution_count": null,
      "outputs": []
    },
    {
      "cell_type": "code",
      "metadata": {
        "id": "TWTOzkP6PfYq"
      },
      "source": [
        "import warnings\n",
        "warnings.filterwarnings(\"ignore\")\n",
        "\n",
        "from sklearn.model_selection import cross_val_score\n",
        "from sklearn.metrics import f1_score\n",
        "\n",
        "for classifier, classifier_name in zip(classifiers_out_of_the_box, classifiers_names):\n",
        "  japanese_credit_screening_cross_val_accuracy_out_of_the_box[classifier_name] = np.round(np.average(cross_val_score(classifier, X_train, y_train, cv = 10, scoring = 'accuracy')), 4)\n",
        "  japanese_credit_screening_cross_val_f1_score_out_of_the_box[classifier_name] = np.round(np.average(cross_val_score(classifier, X_train, y_train, cv = 10, scoring = 'f1')), 4)\n",
        "  model = classifier.fit(X_train, y_train)  \n",
        "  japanese_credit_screening_accuracy_out_of_the_box[classifier_name] = np.round(model.score(X_test, y_test), 4)  \n",
        "  japanese_credit_screening_f1_score_out_of_the_box[classifier_name] = np.round(f1_score(y_test, model.predict(X_test)), 4)"
      ],
      "execution_count": null,
      "outputs": []
    },
    {
      "cell_type": "code",
      "metadata": {
        "colab": {
          "base_uri": "https://localhost:8080/"
        },
        "id": "SYrmOiLFSKSP",
        "outputId": "143b20e3-b390-486f-e38a-4a2b76caec2d"
      },
      "source": [
        "sorted_cross_val_accuracy = [(k, japanese_credit_screening_cross_val_accuracy_out_of_the_box[k]) for k in sorted(japanese_credit_screening_cross_val_accuracy_out_of_the_box, key = japanese_credit_screening_cross_val_accuracy_out_of_the_box.get, reverse = True)]\n",
        "\n",
        "print(\"Cross Valiidation Accuracy on the Japanese Credit Screening Dataset\\n\")\n",
        "for k, v in sorted_cross_val_accuracy:\n",
        "  print(k + ':', v)\n",
        "\n",
        "sorted_cross_val_f1_score = [(k, japanese_credit_screening_cross_val_f1_score_out_of_the_box[k]) for k in sorted(japanese_credit_screening_cross_val_f1_score_out_of_the_box, key = japanese_credit_screening_cross_val_f1_score_out_of_the_box.get, reverse = True)]\n",
        "\n",
        "print(\"\\nCross Valiidation F1 score on the Japanese Credit Screening Dataset\\n\")\n",
        "for k, v in sorted_cross_val_f1_score:\n",
        "  print(k + ':', v)"
      ],
      "execution_count": null,
      "outputs": [
        {
          "name": "stdout",
          "output_type": "stream",
          "text": [
            "Cross Valiidation Accuracy on the Japanese Credit Screening Dataset\n",
            "\n",
            "logistic regression: 0.8446\n",
            "gaussian naive bayes: 0.8216\n",
            "knn: 0.6997\n",
            "dummy classifier - constant 0: 0.5631\n",
            "dummy classifier - most frequent: 0.5631\n",
            "dummy classifier - uniform: 0.5174\n",
            "dummy classifer - stratified: 0.4785\n",
            "dummy classifier - constant 1: 0.4369\n",
            "\n",
            "Cross Valiidation F1 score on the Japanese Credit Screening Dataset\n",
            "\n",
            "logistic regression: 0.8262\n",
            "gaussian naive bayes: 0.7856\n",
            "knn: 0.6261\n",
            "dummy classifier - constant 1: 0.6081\n",
            "dummy classifier - uniform: 0.4937\n",
            "dummy classifer - stratified: 0.4027\n",
            "dummy classifier - constant 0: 0.0\n",
            "dummy classifier - most frequent: 0.0\n"
          ]
        }
      ]
    },
    {
      "cell_type": "code",
      "metadata": {
        "colab": {
          "base_uri": "https://localhost:8080/"
        },
        "id": "Lfw5_FZBl5UB",
        "outputId": "143b3b2b-2599-49c1-a5ec-d6d9e595acf1"
      },
      "source": [
        "sorted_accuracy = [(k, japanese_credit_screening_accuracy_out_of_the_box[k]) for k in sorted(japanese_credit_screening_accuracy_out_of_the_box, key = japanese_credit_screening_accuracy_out_of_the_box.get, reverse = True)]\n",
        "\n",
        "print(\"\\nClassification Accuracy on the Japanese Credit Screening Dataset (30% test set)\\n\")\n",
        "for k, v in sorted_accuracy:\n",
        "  print(k + ':', v)\n",
        "\n",
        "sorted_f1_score = [(k, japanese_credit_screening_f1_score_out_of_the_box[k]) for k in sorted(japanese_credit_screening_f1_score_out_of_the_box, key = japanese_credit_screening_f1_score_out_of_the_box.get, reverse = True)]\n",
        "\n",
        "print(\"\\nClassification F1 score on the Japanese Credit Screening Dataset (30% test set)\\n\")\n",
        "for k, v in sorted_f1_score:\n",
        "  print(k + ':', v)"
      ],
      "execution_count": null,
      "outputs": [
        {
          "name": "stdout",
          "output_type": "stream",
          "text": [
            "\n",
            "Classification Accuracy on the Japanese Credit Screening Dataset (30% test set)\n",
            "\n",
            "logistic regression: 0.8841\n",
            "gaussian naive bayes: 0.8647\n",
            "knn: 0.6522\n",
            "dummy classifier - uniform: 0.5411\n",
            "dummy classifier - constant 0: 0.5362\n",
            "dummy classifier - most frequent: 0.5362\n",
            "dummy classifer - stratified: 0.5362\n",
            "dummy classifier - constant 1: 0.4638\n",
            "\n",
            "Classification F1 score on the Japanese Credit Screening Dataset (30% test set)\n",
            "\n",
            "logistic regression: 0.875\n",
            "gaussian naive bayes: 0.8444\n",
            "dummy classifier - constant 1: 0.6337\n",
            "knn: 0.5385\n",
            "dummy classifier - uniform: 0.4639\n",
            "dummy classifer - stratified: 0.4309\n",
            "dummy classifier - constant 0: 0.0\n",
            "dummy classifier - most frequent: 0.0\n"
          ]
        }
      ]
    },
    {
      "cell_type": "code",
      "metadata": {
        "colab": {
          "base_uri": "https://localhost:8080/",
          "height": 598
        },
        "id": "SgNbN3l46yAx",
        "outputId": "9490a75a-f721-443f-c2e3-085ba9114037"
      },
      "source": [
        "cross_val_scores_df = pd.DataFrame([[x, 'accuracy', japanese_credit_screening_cross_val_accuracy_out_of_the_box[x]] for x in japanese_credit_screening_cross_val_accuracy_out_of_the_box] +\n",
        "                  [[x, 'f1 score', japanese_credit_screening_cross_val_f1_score_out_of_the_box[x]] for x in japanese_credit_screening_cross_val_f1_score_out_of_the_box], \n",
        "                  columns = ['classifier', 'metric', 'score']) \n",
        "\n",
        "import seaborn as sns\n",
        "\n",
        "sns.set_theme(style=\"whitegrid\")\n",
        "g = sns.catplot(\n",
        "    data = cross_val_scores_df, kind = \"bar\",\n",
        "    x = \"score\", y = \"classifier\", hue = \"metric\",\n",
        "    palette = \"pastel\", alpha = .8, height = 8\n",
        ")\n",
        "g.despine(left=True)\n",
        "g.ax.set_title(\"10-fold Cross Validation Scores\", fontsize = 14)\n",
        "g.set_axis_labels(\"score\", \"classifier\")\n",
        "g.legend.set_title(\"metrics\")"
      ],
      "execution_count": null,
      "outputs": [
        {
          "data": {
            "image/png": "[encoded data removed]",
            "text/plain": [
              "<Figure size 665.475x576 with 1 Axes>"
            ]
          },
          "metadata": {},
          "output_type": "display_data"
        }
      ]
    },
    {
      "cell_type": "code",
      "metadata": {
        "colab": {
          "base_uri": "https://localhost:8080/",
          "height": 598
        },
        "id": "scIzLtBjAhDR",
        "outputId": "dcb577ac-8431-42f8-8564-dba3851112ae"
      },
      "source": [
        "test_scores_df = pd.DataFrame([[x, 'accuracy', japanese_credit_screening_accuracy_out_of_the_box[x]] for x in japanese_credit_screening_accuracy_out_of_the_box] +\n",
        "                  [[x, 'f1 score', japanese_credit_screening_f1_score_out_of_the_box[x]] for x in japanese_credit_screening_f1_score_out_of_the_box], \n",
        "                  columns = ['classifier', 'metric', 'score']) \n",
        "\n",
        "sns.set_theme(style=\"whitegrid\")\n",
        "g = sns.catplot(\n",
        "    data = test_scores_df, kind = \"bar\",\n",
        "    x = \"score\", y = \"classifier\", hue = \"metric\",\n",
        "    palette = \"pastel\", alpha = .8, height = 8\n",
        ")\n",
        "g.despine(left = True)\n",
        "g.ax.set_title(\"Test Scores\", fontsize = 14)\n",
        "g.set_axis_labels(\"score\", \"classifier\")\n",
        "g.legend.set_title(\"metrics\")"
      ],
      "execution_count": null,
      "outputs": [
        {
          "data": {
            "image/png": "[encoded data removed]",
            "text/plain": [
              "<Figure size 665.475x576 with 1 Axes>"
            ]
          },
          "metadata": {},
          "output_type": "display_data"
        }
      ]
    },
    {
      "cell_type": "markdown",
      "metadata": {
        "id": "h7ivZpVQNYYG"
      },
      "source": [
        "#### Βελτιστοποίηση"
      ]
    },
    {
      "cell_type": "markdown",
      "metadata": {
        "id": "wH_P3FZTwnKk"
      },
      "source": [
        "Θα προσπαθήσουμε στη συνέχεια να βελτιώσουμε τα ποσοστά accuracy και f1 score που επιτυγχάνουν κατά τη διαδικασία του 10-fold cross validation καθένας από τους παραπάνω ταξινομητές Guassian Naive Bayes, k-Neirest Neighbors και Linear Regression. Για το σκοπό αυτό θα χρησιμοποιήσουμε κάποιες επιπλέον τεχνικές pre-processing στα δεδομένα μας, προσπαθώντας παράλληλλα να βελτιστοποιήσουμε τις υπερπαραμέτρους τόσο αυτών όσο και των ταξινομητών. Θα δοκιμάζουμε τεχνικές μείωσης της διαστατικότητας με επιλογή χαρακτηριστικών, όπως το ελάχιστο κατώφλι διακύμανσης (Variance Threshold), τεχνικές μείωσης της διαστατικότητας με εξαγωγή χαρακτηριστικών, όπως η ανάλυση σε κύριες συνιστώσες (PCA) καθώς και κανονικοποπίηση των χαρακτηριστικών με διαίρεση με τη διαφορά μεγίστου ελαχίστου (feature scaling) ή με z-score (standard score) του κάθε χαρακτηριστικού (standardization). "
      ]
    },
    {
      "cell_type": "code",
      "metadata": {
        "id": "cr8_0biNgx5x"
      },
      "source": [
        "from sklearn.model_selection import GridSearchCV\n",
        "from sklearn.pipeline import Pipeline\n",
        "\n",
        "from sklearn import preprocessing\n",
        "from sklearn.feature_selection import VarianceThreshold\n",
        "from sklearn.decomposition import PCA\n",
        "\n",
        "minmax_scaler = preprocessing.MinMaxScaler()\n",
        "standard_scaler = preprocessing.StandardScaler()\n",
        "selector = VarianceThreshold()\n",
        "pca = PCA()"
      ],
      "execution_count": 15,
      "outputs": []
    },
    {
      "cell_type": "markdown",
      "metadata": {
        "id": "rtbYZtFBotPS"
      },
      "source": [
        "##### Gaussian Naive Bayes (GNB) Classifier "
      ]
    },
    {
      "cell_type": "markdown",
      "metadata": {
        "id": "gXg_py8mpk9q"
      },
      "source": [
        "O Gaussian Naive Bayes ταξινομητής, χωρίς καμία βελτιστοποίηση (out-of-the-box) και με όλες τις παραμέτρους σε default τιμές, κατά τη διαδικασία του 10-fold cross validation επιτυγχάνει <b>accuracy 0.8647</b> και <b>f1 score 0.8444</b>."
      ]
    },
    {
      "cell_type": "code",
      "metadata": {
        "id": "g1Nwwg6GhCkn"
      },
      "source": [
        "clf = GaussianNB()"
      ],
      "execution_count": null,
      "outputs": []
    },
    {
      "cell_type": "markdown",
      "metadata": {
        "id": "Agc2MsJgRzvg"
      },
      "source": [
        "Δοκιμάζουμε αρχικά να συνδυάσουμε την τεχνική Variance Threshold με τον Gaussian Naive Bayes ταξινομητή. Προκειμένου να επιλέξουμε κατάλληλη τιμή για την παράμετρο threshold απεικονίζουμε στα ακόλουθα διαγράμματα τη διακύμανση καθενός από τα 46 χαρακτηριστικά εισόδου."
      ]
    },
    {
      "cell_type": "code",
      "metadata": {
        "colab": {
          "base_uri": "https://localhost:8080/",
          "height": 882
        },
        "id": "dA9wDvHDelRx",
        "outputId": "56485de3-5d37-41d6-d2b1-64c0eed5c544"
      },
      "source": [
        "import matplotlib.pyplot as plt\n",
        "\n",
        "train_variance = X_train.var(axis=0)\n",
        "\n",
        "fig, axes = plt.subplots(2, 2, figsize = (20, 15))\n",
        "axes[0][0].bar(range(0, train_variance.shape[0]), train_variance, width = 0.5)\n",
        "axes[0][0].set_title(\"Variance of attributes\")\n",
        "axes[0][0].set_xticks([0, 5, 10, 20, 30, 40])\n",
        "\n",
        "axes[0][1].bar(range(0, train_variance.shape[0]), train_variance, width = 0.5)\n",
        "axes[0][1].set_ylim([0, 1e+5])\n",
        "axes[0][1].set_title(\"Variance of attributes between 0 and 1e+5\")\n",
        "axes[0][1].set_xticks([0, 4, 5, 10, 20, 30, 40])\n",
        "\n",
        "axes[1][0].bar(range(0, train_variance.shape[0]), train_variance, width = 0.5)\n",
        "axes[1][0].set_ylim([0, 200])\n",
        "axes[1][0].set_title(\"Variance of attributes between 0 and 200\")\n",
        "axes[1][0].set_xticks([0, 1, 2, 3, 4, 5, 10, 20, 30, 40])\n",
        "\n",
        "axes[1][1].bar(range(0, train_variance.shape[0]), train_variance, width = 0.5)\n",
        "axes[1][1].set_ylim([0, 0.5])\n",
        "axes[1][1].set_title(\"Variance of attributes between 0 and 0.5\")\n",
        "axes[1][1].set_xticks([0, 6, 10, 20, 30, 40])\n",
        "\n",
        "plt.show()"
      ],
      "execution_count": null,
      "outputs": [
        {
          "data": {
            "image/png": "[encoded data removed]",
            "text/plain": [
              "<Figure size 1440x1080 with 4 Axes>"
            ]
          },
          "metadata": {},
          "output_type": "display_data"
        }
      ]
    },
    {
      "cell_type": "markdown",
      "metadata": {
        "id": "OgEm1ZskekGy"
      },
      "source": [
        "Παρατηρούμε ότι τα 5 πρώτα χαρακτηριστικά έχουν μεγάλες διακυμάνσεις, ενώ όλα τα υπόλοιπα χαρακτηρίζονται από μικρή διακύμανση, μικρότερη από 0.3. \n",
        "\n",
        "Αρχικά, λοιπόν, για την παράμετρο threshold δοκιμάζουμε τιμές στο διάστημα 0 - 0.3 ([0, 0.005, 0.01, 0.03, 0.05, 0.08, 0.1, 0.15, 0.2, 0.25, 0.3]) και με GridSearch σε 10-fold cross validation εντοπίζουμε ότι τα καλύτερα ποσοστά accuracy αλλά και f1 score επιτυγχάνονται στο 0.01. Στη συνέχεια, λοιπόν, κάνουμε μια πιο εκτενή αναζήτηση στο διάστημα αυτό, οπότε και δοκιμάζουμε τις τιμές [0.005, 0.006, 0.007, 0.008, 0.009, 0.01, 0.011, 0.012, 0.013, 0.014, 0.015], από όπου και προκύπτει ως καλύτερη επιλογή η τιμή <b>threshold = 0.01</b>.  "
      ]
    },
    {
      "cell_type": "code",
      "metadata": {
        "id": "g-3ocYXqoXc4"
      },
      "source": [
        "japanese_credit_screening_gnb = dict()\n",
        "japanese_credit_screening_gnb['Out of the box'] = {'accuracy' : japanese_credit_screening_cross_val_accuracy_out_of_the_box['gaussian naive bayes'], 'f1' : japanese_credit_screening_cross_val_f1_score_out_of_the_box['gaussian naive bayes']}"
      ],
      "execution_count": null,
      "outputs": []
    },
    {
      "cell_type": "code",
      "metadata": {
        "colab": {
          "base_uri": "https://localhost:8080/"
        },
        "id": "35f3o9sRgYFi",
        "outputId": "6e9c0514-6e1f-4d87-8301-1b3220df86c7"
      },
      "source": [
        "for metric in ['accuracy', 'f1']:\n",
        "  pipe = Pipeline(steps = [('selector', selector), ('gnb', clf)])\n",
        "  estimator = GridSearchCV(pipe, dict(selector__threshold = [0.008, 0.009, 0.01, 0.011, 0.012, 0.013, 0.014, 0.015]), cv = 10, scoring = metric, n_jobs = -1)\n",
        "  estimator.fit(X_train, y_train)\n",
        "\n",
        "  for acc, model in zip(estimator.cv_results_['mean_test_score'], estimator.cv_results_['params']):\n",
        "    print(metric + ' of estimator with threshold =', model['selector__threshold'], str(':'), np.round(acc, 4))\n",
        "  \n",
        "  print('\\n Best', metric, '=',  np.round(estimator.best_score_, 4), 'corresponds to estimator with threshold =', estimator.best_params_['selector__threshold'], '\\n')\n",
        "  if metric == 'accuracy':\n",
        "    japanese_credit_screening_gnb['Variance Threshold'] = {'accuracy': np.round(estimator.best_score_, 4)}\n",
        "  else:\n",
        "    japanese_credit_screening_gnb['Variance Threshold']['f1'] = np.round(estimator.best_score_, 4)\n"
      ],
      "execution_count": null,
      "outputs": [
        {
          "name": "stdout",
          "output_type": "stream",
          "text": [
            "accuracy of estimator with threshold = 0.008 : 0.8278\n",
            "accuracy of estimator with threshold = 0.009 : 0.8278\n",
            "accuracy of estimator with threshold = 0.01 : 0.8341\n",
            "accuracy of estimator with threshold = 0.011 : 0.8341\n",
            "accuracy of estimator with threshold = 0.012 : 0.8341\n",
            "accuracy of estimator with threshold = 0.013 : 0.8341\n",
            "accuracy of estimator with threshold = 0.014 : 0.832\n",
            "accuracy of estimator with threshold = 0.015 : 0.832\n",
            "\n",
            " Best accuracy = 0.8341 corresponds to estimator with threshold = 0.01 \n",
            "\n",
            "f1 of estimator with threshold = 0.008 : 0.7942\n",
            "f1 of estimator with threshold = 0.009 : 0.7942\n",
            "f1 of estimator with threshold = 0.01 : 0.8025\n",
            "f1 of estimator with threshold = 0.011 : 0.8025\n",
            "f1 of estimator with threshold = 0.012 : 0.8025\n",
            "f1 of estimator with threshold = 0.013 : 0.8025\n",
            "f1 of estimator with threshold = 0.014 : 0.802\n",
            "f1 of estimator with threshold = 0.015 : 0.802\n",
            "\n",
            " Best f1 = 0.8025 corresponds to estimator with threshold = 0.01 \n",
            "\n"
          ]
        }
      ]
    },
    {
      "cell_type": "markdown",
      "metadata": {
        "id": "4bX4B0tWm1iA"
      },
      "source": [
        "Για <b>threshold = 0.01</b> παρατηρούμε ότι επιτύχαμε <b>accuracy = 0.8341</b> και <b>f1 = 0.8025</b>, scores λίγο μικρότερα από αυτά που πετυχαίνει ο αντίστοιχος out-of-the-box ταξινομητής. Ωστόσο, όμως, με την τεχνική αυτή του Variance Threshold καταφέραμε να μειώσουμε τη διάσταση των χαρακτηριστικών εισόδου από 46 σε 37, όπως παρατηρούμε παραρακάτω, οπότε και να επιταχύνουμε τις διαδικασίες εκπαίδευσης αλλά και πρόβλεψης του estimator. "
      ]
    },
    {
      "cell_type": "code",
      "metadata": {
        "colab": {
          "base_uri": "https://localhost:8080/"
        },
        "id": "11Iac-n_n7PK",
        "outputId": "17d2246c-cdf9-4070-90fd-9e30814a178c"
      },
      "source": [
        "print('Initial dimension of input attributes:', X_train.shape[1])\n",
        "print('Dimension of input attributes after Variance Threshold:', VarianceThreshold(threshold = 0.012).fit_transform(X_train).shape[1])"
      ],
      "execution_count": null,
      "outputs": [
        {
          "name": "stdout",
          "output_type": "stream",
          "text": [
            "Initial dimension of input attributes: 45\n",
            "Dimension of input attributes after Variance Threshold: 37\n"
          ]
        }
      ]
    },
    {
      "cell_type": "markdown",
      "metadata": {
        "id": "2E8hWVX5oygg"
      },
      "source": [
        "Στα προηγούμενα διαγράμματα παρατηρήσαμε ότι μεταβλητές με μεγάλες μέσες τιμές δίνουν και υψηλές τιμές variance, οπότε και δεν επηρεάζονται από την εφαρμογή χαμηλών κατωφλιών κατά τη Variance Threshold, τα οποία όμως είναι απαραίτητα καθώς τα περισσότερα από τα χαρακτηριστικά έχουν χαμηλές διακυμάνσεις. Για το λόγο αυτό, στη συνέχεια, χρησιμοποιούμε και πάλι την τεχνική Variance Threshold, ωστόσο πριν από αυτήν εφαρμόζουμε έναν Min-Max Scaler, προκειμένου οι τιμές όλων των χαρακτηριστικών να κλιμακώνονται γραμμικά στο διάστημα [0, 1]. Με τον τρόπο αυτό μπορούμε πλέον να κάνουμε μια πιο \"δίκαιη\" εφαρμογή της Variance Threshold.  "
      ]
    },
    {
      "cell_type": "code",
      "metadata": {
        "colab": {
          "base_uri": "https://localhost:8080/",
          "height": 393
        },
        "id": "wNMxuriZgY7N",
        "outputId": "1fe2bf01-8150-486f-d0c9-b925a5d79b1f"
      },
      "source": [
        "train_variance = preprocessing.MinMaxScaler().fit_transform(X_train).var(axis=0)\n",
        "\n",
        "plt.figure(figsize = (10, 6))\n",
        "plt.bar(range(0, train_variance.shape[0]), train_variance, width = 0.5)\n",
        "plt.title(\"Variance of attributes after Min-Max Scaler\")\n",
        "plt.show()"
      ],
      "execution_count": null,
      "outputs": [
        {
          "data": {
            "image/png": "[encoded data removed]",
            "text/plain": [
              "<Figure size 720x432 with 1 Axes>"
            ]
          },
          "metadata": {},
          "output_type": "display_data"
        }
      ]
    },
    {
      "cell_type": "markdown",
      "metadata": {
        "id": "PH86D4DKsTrT"
      },
      "source": [
        "Παρατηρούμε, λοιπόν, ότι μετά την εφαρμογή του Min-Max Scaler τα variances όλων των χαρακτηριστικών εντοπίζονται στο διάστημα 0 - 0.25. Επαναλαμβάνουμε, λοιπόν, GridSearch για το Pipeline (Min-Max Scaler, Variance Threshold, GNB Classifier) δοκιμάζοντας για την παράμετρο threshold αρχικά τις τιμές [0, 0.005, 0.01, 0.03, 0.05, 0.08, 0.1, 0.15, 0.2, 0.25], οπότε και προκύπτει και πάλι ότι για threshold = 0.01 έχουμε τα καλύτερα scores. Στη συνέχεια, επαναλαμβάνουμε την αναζήτηση αλλά αυτή τη φορά για τιμές εστιασμένες κοντά στο 0.01, δηλαδή [0.008, 0.009, 0.01, 0.011, 0.012, 0.013, 0.014, 0.015]. "
      ]
    },
    {
      "cell_type": "code",
      "metadata": {
        "colab": {
          "base_uri": "https://localhost:8080/"
        },
        "id": "7HS16yEir_JJ",
        "outputId": "a863e9f3-fe80-4d90-faac-db49852d385d"
      },
      "source": [
        "for metric in ['accuracy', 'f1']:\n",
        "  pipe = Pipeline(steps = [('minmax_scaler', minmax_scaler), ('selector', selector), ('gnb', clf)])\n",
        "  estimator = GridSearchCV(pipe, dict(selector__threshold =  [0.008, 0.009, 0.01, 0.011, 0.012, 0.013, 0.014, 0.015]), cv = 10, scoring = metric, n_jobs = -1)\n",
        "  estimator.fit(X_train, y_train)\n",
        "\n",
        "  for acc, model in zip(estimator.cv_results_['mean_test_score'], estimator.cv_results_['params']):\n",
        "    print(metric + ' of estimator with threshold =', model['selector__threshold'], str(':'), np.round(acc, 4))\n",
        "  \n",
        "  print('\\n Best', metric, '=',  np.round(estimator.best_score_, 4), 'corresponds to estimator with threshold =', estimator.best_params_['selector__threshold'], '\\n')\n",
        "  if metric == 'accuracy':\n",
        "    japanese_credit_screening_gnb['MinMax Scaler - Variance Threshold'] = {'accuracy': np.round(estimator.best_score_, 4)}\n",
        "  else:\n",
        "    japanese_credit_screening_gnb['MinMax Scaler - Variance Threshold']['f1'] = np.round(estimator.best_score_, 4)"
      ],
      "execution_count": null,
      "outputs": [
        {
          "name": "stdout",
          "output_type": "stream",
          "text": [
            "accuracy of estimator with threshold = 0.008 : 0.8341\n",
            "accuracy of estimator with threshold = 0.009 : 0.8382\n",
            "accuracy of estimator with threshold = 0.01 : 0.8402\n",
            "accuracy of estimator with threshold = 0.011 : 0.8402\n",
            "accuracy of estimator with threshold = 0.012 : 0.8402\n",
            "accuracy of estimator with threshold = 0.013 : 0.8361\n",
            "accuracy of estimator with threshold = 0.014 : 0.8382\n",
            "accuracy of estimator with threshold = 0.015 : 0.8445\n",
            "\n",
            " Best accuracy = 0.8445 corresponds to estimator with threshold = 0.015 \n",
            "\n",
            "f1 of estimator with threshold = 0.008 : 0.8065\n",
            "f1 of estimator with threshold = 0.009 : 0.8124\n",
            "f1 of estimator with threshold = 0.01 : 0.8127\n",
            "f1 of estimator with threshold = 0.011 : 0.8127\n",
            "f1 of estimator with threshold = 0.012 : 0.8139\n",
            "f1 of estimator with threshold = 0.013 : 0.808\n",
            "f1 of estimator with threshold = 0.014 : 0.8128\n",
            "f1 of estimator with threshold = 0.015 : 0.8179\n",
            "\n",
            " Best f1 = 0.8179 corresponds to estimator with threshold = 0.015 \n",
            "\n"
          ]
        }
      ]
    },
    {
      "cell_type": "markdown",
      "metadata": {
        "id": "btKA4EwB7JjZ"
      },
      "source": [
        "Από την παραπάνω διαδικασία προέκυψε τελικά ότι τα καλύτερα accuracy και f1 scores κατά τη διαδικασία του 10-fold cross validation επιτυγχάνονται για <b>threshold = 0.015</b> και αντιστοιχούν σε <b>accuracy = 0.8445</b> και <b>f1 score = 0.8179</b>. Μάλιστα, παρατηρούμε ότι τα ποσοστά αυτά είναι καλύτερα από τα ποσοστά που εξασφάλισε ο αντίστοιχος estimator χωρίς τη χρήση του Min-Max Scaler (Variance Theshold, GNB).\n",
        "Παράλληλα, στην περίπτωση αυτή, μέσω της τεχνικής μείωσης της διαστατικότητας με επιλογή χαρακτηριστικών, Variance Threshold, καταφέραμε να μειώσουμε τη διάσταση των χαρακτηριστικών εισόδου από 46 σε 36. "
      ]
    },
    {
      "cell_type": "code",
      "metadata": {
        "colab": {
          "base_uri": "https://localhost:8080/"
        },
        "id": "gbFsreXWr_FN",
        "outputId": "120ce7a7-e573-4a63-89a3-ec1bcadf0069"
      },
      "source": [
        "print('Initial dimension of input attributes:', X_train.shape[1])\n",
        "p = Pipeline(steps = [('minmax_scaler', preprocessing.MinMaxScaler()), ('selector',  VarianceThreshold(threshold = 0.01))])\n",
        "print('Dimension of input attributes after Variance Threshold:', p.fit_transform(X_train).shape[1])"
      ],
      "execution_count": null,
      "outputs": [
        {
          "name": "stdout",
          "output_type": "stream",
          "text": [
            "Initial dimension of input attributes: 45\n",
            "Dimension of input attributes after Variance Threshold: 36\n"
          ]
        }
      ]
    },
    {
      "cell_type": "markdown",
      "metadata": {
        "id": "M-IJqhJ_89tZ"
      },
      "source": [
        "Στο σημείο αυτό αξίζει να σημειώσουμε ότι η χρήση του Standard Scaler στη θέση του Min-Max Scaler δεν έχει νόημα, καθώς μετά την εφαρμογή ενός standard scaler transformation όλα τα χαρακτηριστικά θα έχουν variance ίσο με 1. Δοκιμάζουμε, λοιπόν, να χρησιμοποιήσουμε μόνο κανονικοποίηση με Standard Scaler πριν τον Gaussian Naive Bayes Classifier, αλλά παρατηρούμε ότι τα scores που επιτυγγχάνει κατά το 10-fold cross validation o estimator που προκύπτει από τον παραπάνω συνδυασμό (StandardScaler, GNB) είναι αρκετά χαμηλότερα από τα προηγούμενα (όπως φαίνεται παρακάτω). "
      ]
    },
    {
      "cell_type": "code",
      "metadata": {
        "colab": {
          "base_uri": "https://localhost:8080/"
        },
        "id": "WcbC8j8-r_C3",
        "outputId": "cb2d1be2-4df8-4dec-d297-4476859f72da"
      },
      "source": [
        "from sklearn.model_selection import cross_val_score\n",
        "\n",
        "for metric in ['accuracy', 'f1']:\n",
        "  pipe = Pipeline(steps = [('standard_scaler', standard_scaler), ('gnb', clf)])\n",
        "  scores = cross_val_score(pipe, X_train, y_train, cv = 10, scoring = metric)\n",
        "  print(metric + ' of estimator:', np.round(np.average(scores), 4))\n",
        "\n",
        "  if metric == 'accuracy':\n",
        "    japanese_credit_screening_gnb['Standard Scaler'] = {'accuracy': np.round(np.average(scores), 4)}\n",
        "  else:\n",
        "    japanese_credit_screening_gnb['Standard Scaler']['f1'] = np.round(np.average(scores), 4)"
      ],
      "execution_count": null,
      "outputs": [
        {
          "name": "stdout",
          "output_type": "stream",
          "text": [
            "accuracy of estimator: 0.6955\n",
            "f1 of estimator: 0.5044\n"
          ]
        }
      ]
    },
    {
      "cell_type": "markdown",
      "metadata": {
        "id": "7NxjKtaB_xbi"
      },
      "source": [
        "Ακόμα όμως και στον estimator που μέχρι στιγμής μας έχει εξασφαλίσει τα καλύτερα scores, δηλαδή (Min-Max Scaler, Variance Threshold, GNB), παρατηρούμε ότι η διάσταση των χαρακτηριστικών εισόδου (36) είναι αρκετά μεγάλη, συγκριτικά μάλιστα με το μικρό αριθμό δειγμάτων, 483, από τα οποία αποτελείται το train dataset μας. Στη γενική περίπτωση, σε ένα binary πρόβλημα ταξινόμησης, όπως στο συγκεκριμένο task, για n-διάστατα χαρακτηριστικά εισόδου χρειαζόμαστε περίπου n$^{2}$ δείγματα, συνθήκη η οποία δεν ικανοποιείται στην περίπτωσή μας καθώς απαιτούνται προσεγγιστικά τουλάχιστον 1296 δείγματα, για να υπάρχουν οι προϋποθέσεις, τουλάχιστον, για την επίτευξη μιας όσον το δυνατόν καλύτερης απόδοσης για τον ταξινομητή, ενώ εμείς έχουμε στη διάθεσή μας μόνο 483 δείγματα. Για το λόγο αυτά, επιπρόσθετα με τις τεχνικές που έχουμε χρησιμοποιήσει μέχρι τώρα, θα χρησιμοποιήσουμε και την τεχνική εξαγωγής χαρακτηριστικών PCA, μέσω της οποιάς θα προσπαθήσουμε να μειώσουμε ακόμα περισσότερο τη διάσταση των χαρακτηριστικών εισόδου. \n",
        "\n",
        "Εκτελούμε, λοιπόν, αναζήτηση πλέγματος με διασταυρούμενη επικύρωση για την αρχιτεκτονική (Min-Max Scaler, Variance Threshold, PCA, GNB) δοκιμάζοντας αρχικά ως τιμές παραμέτρων τις ακόλουθες threshold = [0, 0.005, 0.01, 0.05, 0.08, 0.1, 0.15, 0.2, 0.25, 0.3] και PCA_components = [1, 2, 3, 5, 10, 15, 20, 30, 40], οπότε και προκύπτει ότι τα καλύτερα accuracy και f1 scores επιτυγχάνονται για threshold = 0.005 και 10 κύριες συνιστώσες για την PCA. Στη συνέχεια, λοιπόν, εκτελούμε μια πιο εντοπισμένη αναζήτηση πλέγματος κοντά στις τιμές αυτές, οπότε και δοκιμάζουμε τις ακόλουθες τιμές παραμέτρων threshold = [0.003, 0.004, 0.005, 0.006, 0.007] και PCA_components = [8, 9, 10, 11, 12]. "
      ]
    },
    {
      "cell_type": "code",
      "metadata": {
        "colab": {
          "base_uri": "https://localhost:8080/"
        },
        "id": "HTP34xPCr_Av",
        "outputId": "9eea5d62-9341-4a6f-ba04-5a2a0c4308ed"
      },
      "source": [
        "for metric in ['accuracy', 'f1']:\n",
        "  pipe = Pipeline(steps = [('minmax_scaler', minmax_scaler), ('selector', selector), ('pca', pca), ('gnb', clf)])\n",
        "  estimator = GridSearchCV(pipe, dict(selector__threshold = [0.003, 0.004, 0.005, 0.006, 0.007], pca__n_components = [8, 9, 10, 11, 12]), cv = 10, scoring = metric, n_jobs = -1)\n",
        "  estimator.fit(X_train, y_train)\n",
        "\n",
        "  for acc, model in zip(estimator.cv_results_['mean_test_score'], estimator.cv_results_['params']):\n",
        "    print(metric + ' of estimator with threshold =', model['selector__threshold'], 'and PCA_components =', model['pca__n_components'], str(':'), np.round(acc, 4))\n",
        "  \n",
        "  print('\\n Best', metric, '=',  np.round(estimator.best_score_, 4), 'corresponds to estimator with threshold =', estimator.best_params_['selector__threshold'], 'and PCA_components =',estimator.best_params_['pca__n_components'], '\\n')\n",
        "  if metric == 'accuracy':\n",
        "    japanese_credit_screening_gnb['MinMax Scaler - Variance Threshold - PCA'] = {'accuracy': np.round(estimator.best_score_, 4)}\n",
        "  else:\n",
        "    japanese_credit_screening_gnb['MinMax Scaler - Variance Threshold - PCA']['f1'] = np.round(estimator.best_score_, 4)"
      ],
      "execution_count": null,
      "outputs": [
        {
          "name": "stdout",
          "output_type": "stream",
          "text": [
            "accuracy of estimator with threshold = 0.003 and PCA_components = 8 : 0.8529\n",
            "accuracy of estimator with threshold = 0.004 and PCA_components = 8 : 0.8529\n",
            "accuracy of estimator with threshold = 0.005 and PCA_components = 8 : 0.8529\n",
            "accuracy of estimator with threshold = 0.006 and PCA_components = 8 : 0.8529\n",
            "accuracy of estimator with threshold = 0.007 and PCA_components = 8 : 0.8529\n",
            "accuracy of estimator with threshold = 0.003 and PCA_components = 9 : 0.8467\n",
            "accuracy of estimator with threshold = 0.004 and PCA_components = 9 : 0.8467\n",
            "accuracy of estimator with threshold = 0.005 and PCA_components = 9 : 0.8467\n",
            "accuracy of estimator with threshold = 0.006 and PCA_components = 9 : 0.8467\n",
            "accuracy of estimator with threshold = 0.007 and PCA_components = 9 : 0.8467\n",
            "accuracy of estimator with threshold = 0.003 and PCA_components = 10 : 0.8508\n",
            "accuracy of estimator with threshold = 0.004 and PCA_components = 10 : 0.8508\n",
            "accuracy of estimator with threshold = 0.005 and PCA_components = 10 : 0.8508\n",
            "accuracy of estimator with threshold = 0.006 and PCA_components = 10 : 0.8508\n",
            "accuracy of estimator with threshold = 0.007 and PCA_components = 10 : 0.8508\n",
            "accuracy of estimator with threshold = 0.003 and PCA_components = 11 : 0.8324\n",
            "accuracy of estimator with threshold = 0.004 and PCA_components = 11 : 0.8324\n",
            "accuracy of estimator with threshold = 0.005 and PCA_components = 11 : 0.8324\n",
            "accuracy of estimator with threshold = 0.006 and PCA_components = 11 : 0.8324\n",
            "accuracy of estimator with threshold = 0.007 and PCA_components = 11 : 0.8324\n",
            "accuracy of estimator with threshold = 0.003 and PCA_components = 12 : 0.8304\n",
            "accuracy of estimator with threshold = 0.004 and PCA_components = 12 : 0.8304\n",
            "accuracy of estimator with threshold = 0.005 and PCA_components = 12 : 0.8304\n",
            "accuracy of estimator with threshold = 0.006 and PCA_components = 12 : 0.8304\n",
            "accuracy of estimator with threshold = 0.007 and PCA_components = 12 : 0.8304\n",
            "\n",
            " Best accuracy = 0.8529 corresponds to estimator with threshold = 0.003 and PCA_components = 8 \n",
            "\n",
            "f1 of estimator with threshold = 0.003 and PCA_components = 8 : 0.8293\n",
            "f1 of estimator with threshold = 0.004 and PCA_components = 8 : 0.8293\n",
            "f1 of estimator with threshold = 0.005 and PCA_components = 8 : 0.8293\n",
            "f1 of estimator with threshold = 0.006 and PCA_components = 8 : 0.8293\n",
            "f1 of estimator with threshold = 0.007 and PCA_components = 8 : 0.8293\n",
            "f1 of estimator with threshold = 0.003 and PCA_components = 9 : 0.8198\n",
            "f1 of estimator with threshold = 0.004 and PCA_components = 9 : 0.8198\n",
            "f1 of estimator with threshold = 0.005 and PCA_components = 9 : 0.8198\n",
            "f1 of estimator with threshold = 0.006 and PCA_components = 9 : 0.8198\n",
            "f1 of estimator with threshold = 0.007 and PCA_components = 9 : 0.8198\n",
            "f1 of estimator with threshold = 0.003 and PCA_components = 10 : 0.8211\n",
            "f1 of estimator with threshold = 0.004 and PCA_components = 10 : 0.8211\n",
            "f1 of estimator with threshold = 0.005 and PCA_components = 10 : 0.8211\n",
            "f1 of estimator with threshold = 0.006 and PCA_components = 10 : 0.8211\n",
            "f1 of estimator with threshold = 0.007 and PCA_components = 10 : 0.8211\n",
            "f1 of estimator with threshold = 0.003 and PCA_components = 11 : 0.8051\n",
            "f1 of estimator with threshold = 0.004 and PCA_components = 11 : 0.8051\n",
            "f1 of estimator with threshold = 0.005 and PCA_components = 11 : 0.8051\n",
            "f1 of estimator with threshold = 0.006 and PCA_components = 11 : 0.8051\n",
            "f1 of estimator with threshold = 0.007 and PCA_components = 11 : 0.8051\n",
            "f1 of estimator with threshold = 0.003 and PCA_components = 12 : 0.8043\n",
            "f1 of estimator with threshold = 0.004 and PCA_components = 12 : 0.8043\n",
            "f1 of estimator with threshold = 0.005 and PCA_components = 12 : 0.8043\n",
            "f1 of estimator with threshold = 0.006 and PCA_components = 12 : 0.8043\n",
            "f1 of estimator with threshold = 0.007 and PCA_components = 12 : 0.8043\n",
            "\n",
            " Best f1 = 0.8293 corresponds to estimator with threshold = 0.003 and PCA_components = 8 \n",
            "\n"
          ]
        }
      ]
    },
    {
      "cell_type": "markdown",
      "metadata": {
        "id": "8-GIQUebFuak"
      },
      "source": [
        "Με βάση τις παραπάνω δοκιμές καταλήγουμε στο συμπέρασμα ότι για την αρχιτεκτονική (Min-Max Scaler, Variance Threshold, PCA, GNB) οι καλύτερες τιμές παραμέτρων αντιστοιχούν σε <b>threshold = 0.03</b> και <b>PCA_components = 8</b>, και με αυτές επιτυγχάνουμε τα καλύτερα scores με <b>accuracy = 0.8529</b> και <b>f1 = 0.8293</b>, ενώ παράλληλα έχουμε πλέον μειώσει σημαντικά τη διάσταση των χαρακτηριστικών εισόδου από 46 σε 8. "
      ]
    },
    {
      "cell_type": "markdown",
      "metadata": {
        "id": "310Q5nQlMvrY"
      },
      "source": [
        "Τέλος, καθώς παρατηρούμε ότι η προσθήκη της PCA είχε αρκετά καλή συνεισφορά, ελέγχουμε εάν από μόνη της θα είχε αντίστοιχα αποτελέσματα, ή ο συνδυασμός της με τις υπόλοιπες τεχνικές pre-processing είναι αυτός που εξασφαλίζει τα σχετικά υψηλά scores. Για το σκοπό αυτό εκτελούμε αναζήτηση πλέγματος με διασταυρούμενη επικύρωση στην αρχιτεκτονική με μόνο μετασχηματιστή την PCA, δηλαδή (PCA, GNB) δοκιμάζοντας ως τιμές για τις συνιστώσες της PCA τις ακόλουθες [2, 5, 8, 10, 12, 15, 20, 25, 30]. Παράλληλα, δοκιμάζουμε να κανονικοποιήσουμε τα χαρακτηριστικά πριν την εφαρμογή της PCA χρησιμοποιώντας τόσο Min-Max Scaler, όσο και Standard Scaler. "
      ]
    },
    {
      "cell_type": "code",
      "metadata": {
        "colab": {
          "base_uri": "https://localhost:8080/"
        },
        "id": "JVxbnomtMbW3",
        "outputId": "2f300e21-525a-46d9-d4ab-f2ba37da1aef"
      },
      "source": [
        "print('Architecture: PCA \\n')\n",
        "for metric in ['accuracy', 'f1']:\n",
        "  pipe = Pipeline(steps = [('pca', pca), ('gnb', clf)])\n",
        "  estimator = GridSearchCV(pipe, dict(pca__n_components = [2, 5, 8, 10, 12, 15, 20, 25, 30]), cv = 10, scoring = metric, n_jobs = -1)\n",
        "  estimator.fit(X_train, y_train)\n",
        "\n",
        "  #for acc, model in zip(estimator.cv_results_['mean_test_score'], estimator.cv_results_['params']):\n",
        "    #print(metric + ' of estimator with PCA_components =', model['pca__n_components'], str(':'), np.round(acc, 4))\n",
        "  \n",
        "  print('\\n Best', metric, '=',  np.round(estimator.best_score_, 4), 'corresponds to estimator with PCA_components =',estimator.best_params_['pca__n_components'], '\\n')\n",
        "\n",
        "  if metric == 'accuracy':\n",
        "    japanese_credit_screening_gnb['PCA'] = {'accuracy': np.round(estimator.best_score_, 4)}\n",
        "  else:\n",
        "    japanese_credit_screening_gnb['PCA']['f1'] = np.round(estimator.best_score_, 4)\n",
        "\n",
        "print('\\nArchitecture: MinMax Scaler & PCA \\n')\n",
        "for metric in ['accuracy', 'f1']:\n",
        "  pipe = Pipeline(steps = [('minmax_scaler', minmax_scaler), ('pca', pca), ('gnb', clf)])\n",
        "  estimator = GridSearchCV(pipe, dict(pca__n_components = [2, 5, 8, 10, 12, 15, 20, 25, 30]), cv = 10, scoring = metric, n_jobs = -1)\n",
        "  estimator.fit(X_train, y_train)\n",
        "\n",
        "  #for acc, model in zip(estimator.cv_results_['mean_test_score'], estimator.cv_results_['params']):\n",
        "    #print(metric + ' of estimator with PCA_components =', model['pca__n_components'], str(':'), np.round(acc, 4))\n",
        "  \n",
        "  print('\\n Best', metric, '=',  np.round(estimator.best_score_, 4), 'corresponds to estimator with PCA_components =',estimator.best_params_['pca__n_components'], '\\n')\n",
        "\n",
        "  if metric == 'accuracy':\n",
        "    japanese_credit_screening_gnb['MinMax Scaler - PCA'] = {'accuracy': np.round(estimator.best_score_, 4)}\n",
        "  else:\n",
        "    japanese_credit_screening_gnb['MinMax Scaler - PCA']['f1'] = np.round(estimator.best_score_, 4)\n",
        "\n",
        "print('\\nArchitecture: Standard Scaler & PCA \\n')\n",
        "for metric in ['accuracy', 'f1']:\n",
        "  pipe = Pipeline(steps = [('standard_scaler', standard_scaler), ('pca', pca), ('gnb', clf)])\n",
        "  estimator = GridSearchCV(pipe, dict(pca__n_components = [2, 5, 8, 10, 12, 15, 20, 25, 30]), cv = 10, scoring = metric, n_jobs = -1)\n",
        "  estimator.fit(X_train, y_train)\n",
        "\n",
        "  #for acc, model in zip(estimator.cv_results_['mean_test_score'], estimator.cv_results_['params']):\n",
        "   #print(metric + ' of estimator with PCA_components =', model['pca__n_components'], str(':'), np.round(acc, 4))\n",
        "  \n",
        "  print('\\n Best', metric, '=',  np.round(estimator.best_score_, 4), 'corresponds to estimator with PCA_components =',estimator.best_params_['pca__n_components'], '\\n')\n",
        "\n",
        "  if metric == 'accuracy':\n",
        "    japanese_credit_screening_gnb['Standard Scaler - PCA'] = {'accuracy': np.round(estimator.best_score_, 4)}\n",
        "  else:\n",
        "    japanese_credit_screening_gnb['Standard Scaler - PCA']['f1'] = np.round(estimator.best_score_, 4)"
      ],
      "execution_count": null,
      "outputs": [
        {
          "name": "stdout",
          "output_type": "stream",
          "text": [
            "Architecture: PCA \n",
            "\n",
            "\n",
            " Best accuracy = 0.7661 corresponds to estimator with PCA_components = 25 \n",
            "\n",
            "\n",
            " Best f1 = 0.687 corresponds to estimator with PCA_components = 25 \n",
            "\n",
            "\n",
            "Architecture: MinMax Scaler & PCA \n",
            "\n",
            "\n",
            " Best accuracy = 0.8529 corresponds to estimator with PCA_components = 8 \n",
            "\n",
            "\n",
            " Best f1 = 0.8293 corresponds to estimator with PCA_components = 8 \n",
            "\n",
            "\n",
            "Architecture: Standard Scaler & PCA \n",
            "\n",
            "\n",
            " Best accuracy = 0.8114 corresponds to estimator with PCA_components = 5 \n",
            "\n",
            "\n",
            " Best f1 = 0.7558 corresponds to estimator with PCA_components = 5 \n",
            "\n"
          ]
        }
      ]
    },
    {
      "cell_type": "markdown",
      "metadata": {
        "id": "601NE1a0QF9g"
      },
      "source": [
        "Από τις παραπάνω δοκιμές, παρατηρούμε ότι όταν η PCA συνδυαστεί με κανονικοποίηση των χαρακτηριστικών βελτιώνει αρκετά τα αποτελέσματά της, με το συνδυασμό MinMax Scaler και PCA να επιτυγχάνει μάλιστα scores πολύ κοντά σε αυτά που πετυχαίνει και η αρχιτεκτονική MinMax Scaler, Variance Threshold και PCA.   "
      ]
    },
    {
      "cell_type": "code",
      "metadata": {
        "colab": {
          "base_uri": "https://localhost:8080/",
          "height": 665,
          "referenced_widgets": [
            "f38cb7aadfa14300abbd56c8bf89cb05",
            "0b4fc565a5314eab9e62d997c5224476",
            "13309306b8dd49c6b7ce7945e3b8c401",
            "beb59630931c40218314c07b9bd1841b",
            "b47f056d6a0e443dadfc50ffcd873324",
            "ac542efc92db424dadb292a05849ea8f",
            "bd3dec2ca310435a9c0fba05a461660b"
          ]
        },
        "id": "0DHlfJsSrDK4",
        "outputId": "8eff3dbd-3c07-473d-873b-f5db46eb8bab"
      },
      "source": [
        "gnb_df = pd.DataFrame([[x, 'accuracy', japanese_credit_screening_gnb[x]['accuracy']] for x in japanese_credit_screening_gnb] +\n",
        "                  [[x, 'f1 score', japanese_credit_screening_gnb[x]['f1']] for x in japanese_credit_screening_gnb], \n",
        "                  columns = ['architecture', 'metric', 'score']) \n",
        "\n",
        "sns.set_theme(style=\"whitegrid\")\n",
        "g = sns.catplot(\n",
        "    data = gnb_df, kind = \"bar\",\n",
        "    x = \"score\", y = \"architecture\", hue = \"metric\",\n",
        "    palette = \"pastel\", alpha = .8, height = 8\n",
        ")\n",
        "g.despine(left=True)\n",
        "g.ax.set_title(\"GNB Classifier Scores\", fontsize = 14)\n",
        "g.set_axis_labels(\"score\", \"Architecture\")\n",
        "g.legend.set_title(\"metrics\")\n",
        "\n",
        "from ipywidgets import interact, Dropdown\n",
        "\n",
        "architecture_gnb = Dropdown(options = japanese_credit_screening_gnb.keys())\n",
        "\n",
        "@interact(architecture = architecture_gnb)\n",
        "def print_scores(architecture):\n",
        "    print('accuracy:', japanese_credit_screening_gnb[architecture]['accuracy'])\n",
        "    print('f1 score:', japanese_credit_screening_gnb[architecture]['f1'])"
      ],
      "execution_count": null,
      "outputs": [
        {
          "data": {
            "image/png": "[encoded data removed]",
            "text/plain": [
              "<Figure size 665.475x576 with 1 Axes>"
            ]
          },
          "metadata": {},
          "output_type": "display_data"
        },
        {
          "data": {
            "application/vnd.jupyter.widget-view+json": {
              "model_id": "f38cb7aadfa14300abbd56c8bf89cb05",
              "version_major": 2,
              "version_minor": 0
            },
            "text/plain": [
              "interactive(children=(Dropdown(description='architecture', options=('Out of the box', 'Variance Threshold', 'M…"
            ]
          },
          "metadata": {},
          "output_type": "display_data"
        }
      ]
    },
    {
      "cell_type": "markdown",
      "metadata": {
        "id": "lt3-1WKeEuhh"
      },
      "source": [
        "<b>Συμπερασματικά, λοιπόν, βέλτιστος παραμένει ο Gaussian Naive Bayes ταξινομητής χωρίς την προσθήκη κάποιου μετασχηματιστή πριν από αυτόν, ενώ πολύ κοντά σε αυτόν βρίσκεται και η αρχιτεκτονική MinMax Scaler - Variance Threshold (theshold = 0.03) - PCA (n_components = 8) - GNB η οποία επιτυγχάνει accuracy 0.8529 και f1 score 0.8293 κατά τη διαδικασία του 10-fold cross validation.</b>"
      ]
    },
    {
      "cell_type": "markdown",
      "metadata": {
        "id": "Lxm1uxAbG1gd"
      },
      "source": [
        "##### kNeirestNeighbors (kNN) Classifier"
      ]
    },
    {
      "cell_type": "markdown",
      "metadata": {
        "id": "kiYcwXfLh4J8"
      },
      "source": [
        "Ο kNN ταξινομητής της βιβλιοθήκης scikit-learn δέχεται τι ακόλουθες παραμέτρους:\n",
        "- n_neighbors: o αριθμός των γειτόνων που θα χρησιμοποιηθούν\n",
        "- weights: συνάρτηση που καθορίζει το βάρος κάθε γείτονα που θα χρησιμοποιηθεί κστά την πρόβλεψη. Πιθανές τιμές:\n",
        "  - 'uniform': Όλα τα σημεία σε μια γειτονιά έχουν ίσα βάρη\n",
        "  - 'distance': Τα βάρη των σημείων είναι ανάλογα του αντιστρόφου της απόστασής τους, οπότε κοντινότεροι γείτονες έχουν μεγαλύτερη επιρροή συγκριτικά με τους πιο μακρινούς.\n",
        "- algorithm: Ο αλγόριθμος που χρησιμοποιείται για τον υπολογισμό των κοντινότερων γειτόνων. Πιθανές τιμές:\n",
        "  - 'ball_tree': χρήση του BallTree\n",
        "  - 'kd_tree': χρήση του KDTree\n",
        "  - 'brute': χρήση brute-force search\n",
        "  - 'auto': προσπάθεια να εντοπίσουμε τον πιο κατάλληλο αλγόριθμο με βάση τις τιμές που περνάμε στη μέθοδο predict του ταξινομητή.\n",
        "- 'leaf_size': Η παράμετρος αυτή απαιείται κατά τη χρήση BallTree ή KDTree. Μπορεί να επηρεάσει την ταχύτητα κατασκευής, καθώς και τη μνήμη που απαιτείται για την αποθήκευση του δέντρου. (Η βέλτιστη τιμή εξαρτάται από τη φύση του προβλήματος).\n",
        "- 'p': Δυναμική παράμετρος για τη μετρική Minkowski. Η τιμή p = 1 αντιστοιχεί στη χρήση της απόσταση manhattan, ενώ η p = 2 στην ευκλείδια απόσταση.\n",
        "- 'metric': Η μετρική απόστασης που χρησιμοιείται για το δέντρο."
      ]
    },
    {
      "cell_type": "markdown",
      "metadata": {
        "id": "5LdMjgwkeUff"
      },
      "source": [
        "O kNN ταξινομητής, χωρίς καμία βελτιστοποίηση (out-of-the-box) και με όλες τις παραμέτρους σε default τιμές, δηλαδή με n_neighbors = 5, weights = 'uniform', algorithm = 'auto', p = 2, metric = 'minkowski', κατά τη διαδικασία του 10-fold cross validation επιτυγχάνει <b>accuracy 0.6522</b> και <b>f1 score 0.5385</b>."
      ]
    },
    {
      "cell_type": "markdown",
      "metadata": {
        "id": "ZkObGooNcc9k"
      },
      "source": [
        "Αρχικά, θα προσπαθήσουμε να βελτιστοποιήσουμε τις αποδόσεις του kNN ταξινομητή (accuracy και f1 score κατά τη δαδικασία 10-fold cross validation), χωρίς να πρσθέσουμε κάποιον μετασχηματιστή πριν την εφαρμογή αυτού. Για το σκοπό αυτό θα εφαρμόσουμε αναζήτηση πλέγματος με διασταυρούμενη επικύρωση μόνο για τις υπερπαραμέτρους του kNN ταξινομητή της scikit-learn. Δοκιμάζουμε, λοιπόν, αρχικά για κάθε μια από τις παραμέτρους του τις ακόλουθες τιμές n_neighbors = [1, 3, 5, 7, 15, 19, 25, 31, 47, 53, 61], weights = ['uniform', 'distance'], metric = ['minkowski', 'chebyshev'] και p = [1, 2] (αφορά την περίπτωση που metric = 'minkowski' με το p = 1 να αντιστοιχεί στην απόσταση 'manhattan' και το p = 2 στην 'euclidean'). Τα αποτελέσματα που προκύπτουν τα απεικονίζουμε στα ακόλουθα διαγράμματα."
      ]
    },
    {
      "cell_type": "code",
      "metadata": {
        "id": "UjI5HMlm0gFo"
      },
      "source": [
        "japanese_credit_screening_kNN = dict()\n",
        "japanese_credit_screening_kNN['Out of the box'] = {'accuracy' : japanese_credit_screening_cross_val_accuracy_out_of_the_box['knn'], 'f1' : japanese_credit_screening_cross_val_f1_score_out_of_the_box['knn']}"
      ],
      "execution_count": null,
      "outputs": []
    },
    {
      "cell_type": "code",
      "metadata": {
        "id": "ypCtcFbBou6a"
      },
      "source": [
        "clf = KNeighborsClassifier()"
      ],
      "execution_count": null,
      "outputs": []
    },
    {
      "cell_type": "code",
      "metadata": {
        "colab": {
          "base_uri": "https://localhost:8080/"
        },
        "id": "TX6EjSVVou20",
        "outputId": "1322358b-e34f-4ad0-87d0-7be03a1e4d93"
      },
      "source": [
        "n_neighbors_list = [1, 3, 5, 7, 15, 19, 25, 31, 47, 53, 61]\n",
        "weights_list = ['uniform', 'distance']\n",
        "p_list = [1, 2]\n",
        "metric_distance_list = ['minkowski', 'chebyshev']\n",
        "d = {metric_score : {distance : {w : {n : 0 for n in n_neighbors_list} for w in weights_list} for distance in ['manhattan', 'euclidean', 'chebyshev']} for metric_score in ['accuracy', 'f1']}\n",
        "\n",
        "for metric in ['accuracy', 'f1']:\n",
        "  estimator = GridSearchCV(clf, dict(n_neighbors = n_neighbors_list, weights = weights_list, p = p_list, metric = metric_distance_list), cv = 10, scoring = metric, n_jobs = -1)\n",
        "  estimator.fit(X_train, y_train)\n",
        "\n",
        "  for acc, model in zip(estimator.cv_results_['mean_test_score'], estimator.cv_results_['params']):\n",
        "    #print(metric + ' of kNN with n_neighbors =', str(model['n_neighbors']) + ',', 'weights =', \"'\" + model['weights'] + \"', metric = '\" + model['metric'] + \"'\", 'and p =',  model['p'], str(':'), np.round(acc, 4))\n",
        "    if model['metric'] == 'minkowski':\n",
        "      if model['p'] == 1:\n",
        "        d[metric]['manhattan'][model['weights']][model['n_neighbors']] = np.round(acc, 4)\n",
        "      else:\n",
        "        d[metric]['euclidean'][model['weights']][model['n_neighbors']] = np.round(acc, 4)\n",
        "    else:\n",
        "      d[metric]['chebyshev'][model['weights']][model['n_neighbors']] = np.round(acc, 4)\n",
        "\n",
        "  print('Best', metric, '=',  np.round(estimator.best_score_, 4), 'corresponds to kNN with n_neighbors =', str(estimator.best_params_['n_neighbors']) + ',', 'weights =', \"'\" + estimator.best_params_['weights'] + \"', metric = '\" + estimator.best_params_['metric'] + \"'\", 'and p =',  estimator.best_params_['p'], '\\n')"
      ],
      "execution_count": null,
      "outputs": [
        {
          "name": "stdout",
          "output_type": "stream",
          "text": [
            "Best accuracy = 0.7085 corresponds to kNN with n_neighbors = 3, weights = 'uniform', metric = 'minkowski' and p = 1 \n",
            "\n",
            "Best f1 = 0.6697 corresponds to kNN with n_neighbors = 3, weights = 'uniform', metric = 'minkowski' and p = 1 \n",
            "\n"
          ]
        }
      ]
    },
    {
      "cell_type": "code",
      "metadata": {
        "colab": {
          "base_uri": "https://localhost:8080/",
          "height": 806
        },
        "id": "C1vfpb8You0U",
        "outputId": "51dfa9e2-982a-4b4a-e0bf-53071893cf04"
      },
      "source": [
        "df_acc_euclidean = pd.DataFrame(\n",
        "    [[n, w, d['accuracy']['euclidean'][w][n]] for n in n_neighbors_list for w in weights_list],\n",
        "    columns = ['n_neighbors', 'weights', 'score'])\n",
        "df_acc_manhattan = pd.DataFrame(\n",
        "    [[n, w, d['accuracy']['manhattan'][w][n]] for n in n_neighbors_list for w in weights_list],\n",
        "    columns = ['n_neighbors', 'weights', 'score'])\n",
        "df_acc_chebyshev = pd.DataFrame(\n",
        "    [[n, w, d['accuracy']['chebyshev'][w][n]] for n in n_neighbors_list for w in weights_list],\n",
        "    columns = ['n_neighbors', 'weights', 'score'])\n",
        "df_f1_euclidean = pd.DataFrame(\n",
        "    [[n, w, d['f1']['euclidean'][w][n]] for n in n_neighbors_list for w in weights_list],\n",
        "    columns = ['n_neighbors', 'weights', 'score'])\n",
        "df_f1_manhattan = pd.DataFrame(\n",
        "    [[n, w, d['f1']['manhattan'][w][n]] for n in n_neighbors_list for w in weights_list],\n",
        "    columns = ['n_neighbors', 'weights', 'score'])\n",
        "df_f1_chebyshev = pd.DataFrame(\n",
        "    [[n, w, d['f1']['chebyshev'][w][n]] for n in n_neighbors_list for w in weights_list],\n",
        "    columns = ['n_neighbors', 'weights', 'score'])\n",
        "\n",
        "fig, axes = plt.subplots(2, 3, figsize = (22, 12), sharey = True)\n",
        "fig.suptitle('KNN Classifier - Hyparameters Estimation')\n",
        "\n",
        "sns.set_theme(style = \"whitegrid\")\n",
        "sns.barplot(ax = axes[0, 0], data = df_acc_manhattan, x = \"n_neighbors\", y = \"score\", hue = \"weights\", palette = \"pastel\", alpha = 1)\n",
        "axes[0, 0].set_title('Accuracy Score - Manhattan Distance (p = 1)')\n",
        "\n",
        "sns.barplot(ax = axes[0, 1], data = df_acc_euclidean, x = \"n_neighbors\", y = \"score\", hue = \"weights\", palette = \"pastel\", alpha = 1)\n",
        "axes[0, 1].set_title('Accuracy Score - Euclidean Distance (p = 2)')\n",
        "\n",
        "sns.barplot(ax = axes[0, 2], data = df_acc_chebyshev, x = \"n_neighbors\", y = \"score\", hue = \"weights\", palette = \"pastel\", alpha = 1)\n",
        "axes[0, 2].set_title('Accuracy Score - Chebysev Distance')\n",
        "\n",
        "sns.barplot(ax = axes[1, 0], data = df_f1_manhattan, x = \"n_neighbors\", y = \"score\", hue = \"weights\", palette = \"dark\", alpha = .8)\n",
        "axes[1, 0].set_title('F1 Score - Manhattan Distance (p = 1)')\n",
        "\n",
        "sns.barplot(ax = axes[1, 1], data = df_f1_euclidean, x = \"n_neighbors\", y = \"score\", hue = \"weights\", palette = \"dark\", alpha = .8)\n",
        "axes[1, 1].set_title('F1 Score - Euclidean Distance (p = 2)')\n",
        "\n",
        "sns.barplot(ax = axes[1, 2], data = df_f1_chebyshev, x = \"n_neighbors\", y = \"score\", hue = \"weights\", palette = \"dark\", alpha = .8)\n",
        "axes[1, 2].set_title('F1 Score - Chebysev Distance')\n",
        "\n",
        "plt.show()"
      ],
      "execution_count": null,
      "outputs": [
        {
          "data": {
            "image/png": "[encoded data removed]",
            "text/plain": [
              "<Figure size 1584x864 with 6 Axes>"
            ]
          },
          "metadata": {},
          "output_type": "display_data"
        }
      ]
    },
    {
      "cell_type": "markdown",
      "metadata": {
        "id": "6YJXqVODebn-"
      },
      "source": [
        "Παρατηρούμε, λοιπόν, ότι η χρήση της 'manhattan distance' (αντιστοιχεί σε metric = 'minkowski' και p = 1) συγκριτικά με τις 'euclidean distance' και 'chebysev distance' εξασφαλίζει τα καλύτερα δυνατά accuracy και f1 scores, ενώ παράλληλα η χρήση από 3 εώς 25 γείτονες είναι αρκετά ικανοποιητική. Όσον αφορά τη συνάρτηση βαρών (weights), παρατηρούμε ότι οι χρήσεις 'uniform' (κοινά βάρη για όλoυς τους γείτονες) ή 'distance' (μεγαλύτερη βαρύτητα στους κοντινότερους γείτονες) έχουν μικρές διαφορές. Τελικά, από τη GridSearch προκύπτει ότι ο καλύτερος ταξινομητής αντιστοιχεί σε n_neighbors = 18, weights = 'uniform', metric = 'minkowski' και p = 1, οπότε και στη συνέχεια εκτελούμε μια πιο εντοπισμένη αναζήτηση πλεγματος ως προς τον αριθμό των γειτόνων που χρησιμοποιούμε δοκιμάζοντας περιττές τιμές κοντά στη 15 ([1, 3, 5, 9, 11, 13, 15]) προκειμένου να βελτιστοποιήσουμε και την παράμετρο αυτή.   "
      ]
    },
    {
      "cell_type": "code",
      "metadata": {
        "colab": {
          "base_uri": "https://localhost:8080/"
        },
        "id": "MdnWVv-Kouyq",
        "outputId": "3d2b46fb-2514-4ba3-8a2c-89df3ed88b8d"
      },
      "source": [
        "for metric in ['accuracy', 'f1']:\n",
        "  estimator = GridSearchCV(clf, dict(n_neighbors = [1, 3, 5, 9, 11, 13, 15], weights = ['uniform'], metric = ['minkowski'], p = [1]), cv = 10, scoring = metric, n_jobs = -1)\n",
        "  estimator.fit(X_train, y_train)\n",
        "\n",
        "  for acc, model in zip(estimator.cv_results_['mean_test_score'], estimator.cv_results_['params']):\n",
        "    print(metric + ' of kNN with n_neighbors =', str(model['n_neighbors']), str(':'), np.round(acc, 4))\n",
        "\n",
        "  print('\\n Best', metric, '=',  np.round(estimator.best_score_, 4), 'corresponds to kNN with n_neighbors =', str(estimator.best_params_['n_neighbors']), '\\n')\n",
        "  if metric == 'accuracy':\n",
        "    japanese_credit_screening_kNN['Best kNN (without transformers)'] = {'accuracy': np.round(estimator.best_score_, 4)}\n",
        "  else:\n",
        "    japanese_credit_screening_kNN['Best kNN (without transformers)']['f1'] = np.round(estimator.best_score_, 4)"
      ],
      "execution_count": null,
      "outputs": [
        {
          "name": "stdout",
          "output_type": "stream",
          "text": [
            "accuracy of kNN with n_neighbors = 1 : 0.6502\n",
            "accuracy of kNN with n_neighbors = 3 : 0.7085\n",
            "accuracy of kNN with n_neighbors = 5 : 0.7\n",
            "accuracy of kNN with n_neighbors = 9 : 0.7086\n",
            "accuracy of kNN with n_neighbors = 11 : 0.6922\n",
            "accuracy of kNN with n_neighbors = 13 : 0.7003\n",
            "accuracy of kNN with n_neighbors = 15 : 0.6981\n",
            "\n",
            " Best accuracy = 0.7086 corresponds to kNN with n_neighbors = 9 \n",
            "\n",
            "f1 of kNN with n_neighbors = 1 : 0.6191\n",
            "f1 of kNN with n_neighbors = 3 : 0.6697\n",
            "f1 of kNN with n_neighbors = 5 : 0.6546\n",
            "f1 of kNN with n_neighbors = 9 : 0.6629\n",
            "f1 of kNN with n_neighbors = 11 : 0.6497\n",
            "f1 of kNN with n_neighbors = 13 : 0.6563\n",
            "f1 of kNN with n_neighbors = 15 : 0.6519\n",
            "\n",
            " Best f1 = 0.6697 corresponds to kNN with n_neighbors = 3 \n",
            "\n"
          ]
        }
      ]
    },
    {
      "cell_type": "markdown",
      "metadata": {
        "id": "qvXa2C7jhdMo"
      },
      "source": [
        "Τελικά, λοιπόν, προκύπτει ότι ο βέλτιστος kNN ταξινομητής, ο οποίος καταφέρνει να επιτύχει accuracy = 0.7086 και f1 score = 0.6629 κατά τη διαδικασία του 10-fold cross validation αντιστοιχεί σε n_neighbors = 9, weights = 'uniform', metric = 'minkowski' και p = 1. \n",
        "\n",
        "Στη συνέχεια, μελετάμε την επίδραση που έχει η τιμή της παραμέτρου 'leaf_size' του kΝΝ ταξινομητή της scikit-learn, και όπως παρατηρούμε στο συγκεκριμένο task με το συγκεκριμένο dataset η τιμή αυτή δεν επηρεάζει τα scores που πετυχαίνει ο ταξινομητής, ενώ παράλληλα δεν παρατηρούμε κάποια ιδιαίτερη επίδραση και στο χρόνο εκπαίδευσης (οπότε και μπορούμε να χρησιμοποιούμε τη default τιμή = 30)."
      ]
    },
    {
      "cell_type": "code",
      "metadata": {
        "colab": {
          "base_uri": "https://localhost:8080/"
        },
        "id": "nt4dNSar7Ays",
        "outputId": "095e49b4-a2fc-486b-fcc4-a567c9fd6ddf"
      },
      "source": [
        "for metric in ['accuracy', 'f1']:\n",
        "  estimator = GridSearchCV(clf, dict(n_neighbors = [9], weights = ['uniform'], metric = ['minkowski'], p = [1], leaf_size = [0.1, 10, 30, 80, 150, 400, 600, 1000, 2000, 10000, 1e9]), cv = 10, scoring = metric, n_jobs = -1)\n",
        "  estimator.fit(X_train, y_train)\n",
        "\n",
        "  for acc, model, time, std_time in zip(estimator.cv_results_['mean_test_score'], estimator.cv_results_['params'], estimator.cv_results_['mean_fit_time'], estimator.cv_results_['std_fit_time']):\n",
        "    print('kNN with leaf_size =', str(model['leaf_size']), ':', metric,  '=', np.round(acc, 4), 'and mean fit time =', np.round(time, 4), '(+/-', str(np.round(std_time, 4)) + ')')\n",
        "  print()"
      ],
      "execution_count": null,
      "outputs": [
        {
          "name": "stdout",
          "output_type": "stream",
          "text": [
            "kNN with leaf_size = 0.1 : accuracy = 0.7086 and mean fit time = 0.0009 (+/- 0.0001)\n",
            "kNN with leaf_size = 10 : accuracy = 0.7086 and mean fit time = 0.0009 (+/- 0.0001)\n",
            "kNN with leaf_size = 30 : accuracy = 0.7086 and mean fit time = 0.0009 (+/- 0.0001)\n",
            "kNN with leaf_size = 80 : accuracy = 0.7086 and mean fit time = 0.0009 (+/- 0.0001)\n",
            "kNN with leaf_size = 150 : accuracy = 0.7086 and mean fit time = 0.001 (+/- 0.0002)\n",
            "kNN with leaf_size = 400 : accuracy = 0.7086 and mean fit time = 0.001 (+/- 0.0)\n",
            "kNN with leaf_size = 600 : accuracy = 0.7086 and mean fit time = 0.0009 (+/- 0.0001)\n",
            "kNN with leaf_size = 1000 : accuracy = 0.7086 and mean fit time = 0.0009 (+/- 0.0001)\n",
            "kNN with leaf_size = 2000 : accuracy = 0.7086 and mean fit time = 0.001 (+/- 0.0003)\n",
            "kNN with leaf_size = 10000 : accuracy = 0.7086 and mean fit time = 0.001 (+/- 0.0001)\n",
            "kNN with leaf_size = 1000000000.0 : accuracy = 0.7086 and mean fit time = 0.0009 (+/- 0.0001)\n",
            "\n",
            "kNN with leaf_size = 0.1 : f1 = 0.6629 and mean fit time = 0.0011 (+/- 0.0005)\n",
            "kNN with leaf_size = 10 : f1 = 0.6629 and mean fit time = 0.0009 (+/- 0.0001)\n",
            "kNN with leaf_size = 30 : f1 = 0.6629 and mean fit time = 0.001 (+/- 0.0001)\n",
            "kNN with leaf_size = 80 : f1 = 0.6629 and mean fit time = 0.001 (+/- 0.0003)\n",
            "kNN with leaf_size = 150 : f1 = 0.6629 and mean fit time = 0.0009 (+/- 0.0001)\n",
            "kNN with leaf_size = 400 : f1 = 0.6629 and mean fit time = 0.0015 (+/- 0.0015)\n",
            "kNN with leaf_size = 600 : f1 = 0.6629 and mean fit time = 0.0009 (+/- 0.0001)\n",
            "kNN with leaf_size = 1000 : f1 = 0.6629 and mean fit time = 0.0009 (+/- 0.0)\n",
            "kNN with leaf_size = 2000 : f1 = 0.6629 and mean fit time = 0.001 (+/- 0.0001)\n",
            "kNN with leaf_size = 10000 : f1 = 0.6629 and mean fit time = 0.0011 (+/- 0.0004)\n",
            "kNN with leaf_size = 1000000000.0 : f1 = 0.6629 and mean fit time = 0.001 (+/- 0.0001)\n",
            "\n"
          ]
        }
      ]
    },
    {
      "cell_type": "markdown",
      "metadata": {
        "id": "tbiWIh_-k21q"
      },
      "source": [
        "Στο σημείο αυτό θα δοκιμάσουμε να προσθέσουμε μετασχηματιστές πριν την εφαρμογή του kNN ταξινομητή, με σκοπό να βελτιώσουμε ακόμα περισσότερο τα scores που αυτός επιτυγχάνει.\n",
        "\n",
        "Υλοποιούμε και πάλι αρχιτεκτινικές παρόμοιες με αυτές που χρησιμοποιήσαμε και κατά τη διαδικασία του GNB Classifier, οι οποίες συνδυάζουν κανονικοποίηση των χαρακηριστικών (MinMax Scaler ή Standard Scaler) και τεχνικές μείωσης της διαστατικότητας (Variance Threshold ή και PCA). \n",
        "\n",
        "Αρχικά, για την αρχιτεκτονική Variance Threshold - kNN εκτελούμε αναζήτηση πλέγματος στην παράμετρο threshold δοκιμάζοντας τις τιμές [0, 0.005, 0.01, 0.03, 0.05, 0.08, 0.1, 0.15, 0.2, 0.25, 0.3] καθώς και στις υπερπαραμέτρους του ταξινομητή, παρατηρώντας μια βελτίωση στα accuracy και f1 scores της τάξης του 0.02% για threshold = 0.15. Στη συνέχεια προσθέτουμε στην αρχή της αρχιτεκτονικής αυτής έναν MinMax Scaler, προκειμένου όλα τα χαρακτηριστικά να αποκτήσουν variances στο διάστημα [0, 1], οπότε και να γίνει μια πιο \"σωστή\" εφαρμογή της Variance Threshold. Εκτελούμε και πάλι αναζήτηση πλέγματος με ίδιες τιμές κατωφλιού, οπότε και προκύπτoυν ως βέλτιστες τιμέ οι threshold = 0.03, n_neighbors = 13 ή 15, weights = 'uniform' και p = 1 ή 2. Έπειτα, επικεντρώουμε τη GridSearch σε τιμές κοντά σε αυτές, οπότε και προκύπτει ότι ο βέλτιστος estimator αντιστοιχεί σε <b>threshold = 0.03</b>, <b>n_neighbors = 11</b>, <b>weights = 'distance'</b>, <b>p = 2</b>(euclidean distance) και επιτυγχάνει <b>accuracy = 0.8739</b> και <b>f1 score = 0.8674</b>, ενώ μειώνει τη διάσταση των χαρακτηριστικώ εισόδου από 46 σε 33. "
      ]
    },
    {
      "cell_type": "code",
      "metadata": {
        "colab": {
          "base_uri": "https://localhost:8080/"
        },
        "id": "SA8mQy8R4EPY",
        "outputId": "c49cbde5-2918-4a75-f02f-019e71c130b6"
      },
      "source": [
        "print('Architecture: Variance Threshold - kNN \\n')\n",
        "for metric in ['accuracy', 'f1']:\n",
        "  pipe = Pipeline(steps = [('selector', selector), ('kNN', KNeighborsClassifier(metric = 'minkowski'))])\n",
        "  estimator = GridSearchCV(pipe, dict(selector__threshold = [0, 0.005, 0.01, 0.03, 0.05, 0.08, 0.1, 0.15, 0.2, 0.25, 0.3], \n",
        "                                      kNN__n_neighbors = [9, 11, 13, 15, 19], kNN__weights = ['distance', 'uniform'], kNN__p = [1, 2]), cv = 10, scoring = metric, n_jobs = -1)\n",
        "  estimator.fit(X_train, y_train)\n",
        "\n",
        "  #for acc, model in zip(estimator.cv_results_['mean_test_score'], estimator.cv_results_['params']):\n",
        "    #print(metric + ' of estimator with threshold =', str(model['selector__threshold']) + \",\", 'n_neighbors =', str(model['kNN__n_neighbors']) + \", weights = '\" + model['kNN__weights'] + \"', and p =\", model['kNN__p'], str(':'), np.round(acc, 4))\n",
        "  \n",
        "  print('\\tBest', metric, '=',  np.round(estimator.best_score_, 4), 'corresponds to estimator with threshold =', str(estimator.best_params_['selector__threshold']) + \",\", 'n_neighbors =', str(estimator.best_params_['kNN__n_neighbors']) + \", weights = '\" + estimator.best_params_['kNN__weights'] + \"', and p =\", estimator.best_params_['kNN__p'], '\\n')\n",
        "  if metric == 'accuracy':\n",
        "    japanese_credit_screening_kNN['Variance Threshold'] = {'accuracy': np.round(estimator.best_score_, 4)}\n",
        "  else:\n",
        "    japanese_credit_screening_kNN['Variance Threshold']['f1'] = np.round(estimator.best_score_, 4)"
      ],
      "execution_count": null,
      "outputs": [
        {
          "name": "stdout",
          "output_type": "stream",
          "text": [
            "Architecture: Variance Threshold - kNN \n",
            "\n",
            "\tBest accuracy = 0.723 corresponds to estimator with threshold = 0.15, n_neighbors = 11, weights = 'distance', and p = 1 \n",
            "\n",
            "\tBest f1 = 0.6811 corresponds to estimator with threshold = 0.15, n_neighbors = 11, weights = 'distance', and p = 1 \n",
            "\n"
          ]
        }
      ]
    },
    {
      "cell_type": "code",
      "metadata": {
        "colab": {
          "base_uri": "https://localhost:8080/"
        },
        "id": "SF8QUCZp65wg",
        "outputId": "4b83aa98-1aad-44b8-a232-41c35cf3d62e"
      },
      "source": [
        "print('Architecture: MinMax Scaler - Variance Threshold - kNN \\n')\n",
        "for metric in ['accuracy', 'f1']:\n",
        "  pipe = Pipeline(steps = [('minmax_scaler', minmax_scaler), ('selector', selector), ('kNN', KNeighborsClassifier(n_neighbors = 13, weights = 'distance', metric = 'minkowski', p = 1))])\n",
        "  estimator = GridSearchCV(pipe, dict(selector__threshold = [0.025, 0.028, 0.03, 0.035, 0.04],\n",
        "                                      kNN__n_neighbors = [9, 11, 13, 15, 19], kNN__weights = ['distance', 'uniform'], kNN__p = [1, 2]), cv = 10, scoring = metric, n_jobs = -1)\n",
        "  estimator.fit(X_train, y_train)\n",
        "\n",
        "  #for acc, model in zip(estimator.cv_results_['mean_test_score'], estimator.cv_results_['params']):\n",
        "    #print(metric + ' of estimator with threshold =', str(model['selector__threshold']) + \",\", 'n_neighbors =', str(model['kNN__n_neighbors']) + \", weights = '\" + model['kNN__weights'] + \"', and p =\", model['kNN__p'], str(':'), np.round(acc, 4))\n",
        "  \n",
        "  print('\\tBest', metric, '=',  np.round(estimator.best_score_, 4), 'corresponds to estimator with threshold =', str(estimator.best_params_['selector__threshold']) + \",\", 'n_neighbors =', str(estimator.best_params_['kNN__n_neighbors']) + \", weights = '\" + estimator.best_params_['kNN__weights'] + \"', and p =\", estimator.best_params_['kNN__p'], '\\n')\n",
        "  if metric == 'accuracy':\n",
        "    japanese_credit_screening_kNN['MinMax Scaler - Variance Threshold'] = {'accuracy': np.round(estimator.best_score_, 4)}\n",
        "  else:\n",
        "    japanese_credit_screening_kNN['MinMax Scaler - Variance Threshold']['f1'] = np.round(estimator.best_score_, 4)"
      ],
      "execution_count": null,
      "outputs": [
        {
          "name": "stdout",
          "output_type": "stream",
          "text": [
            "Architecture: MinMax Scaler - Variance Threshold - kNN \n",
            "\n",
            "\tBest accuracy = 0.8739 corresponds to estimator with threshold = 0.03, n_neighbors = 13, weights = 'distance', and p = 2 \n",
            "\n",
            "\tBest f1 = 0.8674 corresponds to estimator with threshold = 0.03, n_neighbors = 13, weights = 'distance', and p = 2 \n",
            "\n"
          ]
        }
      ]
    },
    {
      "cell_type": "code",
      "metadata": {
        "colab": {
          "base_uri": "https://localhost:8080/"
        },
        "id": "StTiPkynAKdi",
        "outputId": "15fe5f00-36e9-4cf1-b3e7-4e8f4bf3b721"
      },
      "source": [
        "print('Initial dimension of input attributes:', X_train.shape[1])\n",
        "p = Pipeline(steps = [('minmax_scaler', preprocessing.MinMaxScaler()), ('selector',  VarianceThreshold(threshold = 0.03))])\n",
        "print('Dimension of input attributes after MinMax Scaler - Variance Threshold:', p.fit_transform(X_train).shape[1])"
      ],
      "execution_count": null,
      "outputs": [
        {
          "name": "stdout",
          "output_type": "stream",
          "text": [
            "Initial dimension of input attributes: 46\n",
            "Dimension of input attributes after MinMax Scaler - Variance Threshold: 33\n"
          ]
        }
      ]
    },
    {
      "cell_type": "markdown",
      "metadata": {
        "id": "wrPPg9glCbdV"
      },
      "source": [
        "Στη συνέχεια, υλποιούμε την αρχιτεκτονική MinMax Scaler - Variance Threshold - PCA - kNN και εκτελούμε αναζήτηση πλέγματος με διασταυρούμενη επικύρωση για τιμές threshold = [0, 0.005, 0.01, 0.03, 0.05, 0.08, 0.1, 0.15, 0.2, 0.21, 0.23, 0.25], PCA_components = [1, 2, 3, 5, 10, 15, 20, 30, 40], n_neighbors = [9, 11, 13, 15, 19], weights = ['distance', 'uniform'], p = [1, 2], οπότε και προκύπτουν οι βέλτιστες τιμές threshold = 0.01 ή 0.03, n_neighbors = 11 ή 13, weights = 'uniform', p = 2 και PCA_components = 30. Εκτελούμε και πάλι ένα πιο εντοπισμένο GridSearch κοντά στις τιμές αυτές, οποτε και τελικά προκύπτει ότι ο βέλτιστος estimator αντιστοιχεί σε <b>threshold = 0.01</b>, <b>n_neighbors = 11</b>, <b>weights = 'uniform'</b>, <b>p = 2</b> και <b>PCA_components = 26</b> και επιτυγχάνει <b>accuracy = 0.8676</b> και <b>f1 score = 0.8602</b>. Παρατηρούμε, λοιπόν, ότι η αρχιτεκτονική αυτή επιτυγχάνει λίγο χαμηλότερα ποσοστά από την προηγούμενη, μόνο που στην περίπτωση της εισάγουμε μια ακόμα τεχνική εξαγωγής χαρακτηριστικών (PCA) η οποία προφανώς αυξάνει το χρόνο που απαιτείται για την εκπαιδευση του μοντέλου, αλλά πιθανώς μειώνει το χρόνο που θα απαιτείται για την πρόβλεψη, καθώς μειώνει λίγο παραπάνω από πριν, σε 26, τη διασταση των χαρακτηριστικών εισόδου (γεγονός που στον kNN ταξινομητή παίζει ρόλο καθώς για κάθε πρόβλεψη απαιτείται ο υπολογισμός των αποστάσεων του τρέχοτος δείγματος με όλα τα δείγματα του train set).   "
      ]
    },
    {
      "cell_type": "code",
      "metadata": {
        "colab": {
          "base_uri": "https://localhost:8080/"
        },
        "id": "BThFiRPdFMpi",
        "outputId": "e3b54789-6ddd-48b5-c62b-7bc6d3bd48a0"
      },
      "source": [
        "print('Architecture: MinMax Scaler - Variance Threshold - PCA - kNN \\n')\n",
        "for metric in ['accuracy', 'f1']:\n",
        "  pipe = Pipeline(steps = [('minmax_scaler', minmax_scaler), ('selector', selector), ('pca', pca), ('kNN', KNeighborsClassifier(metric = 'minkowski'))])\n",
        "  estimator = GridSearchCV(pipe, dict(selector__threshold =  [0.01, 0.015, 0.02, 0.03, 0.035], \n",
        "                                      pca__n_components = [26, 28, 30, 32, 34],\n",
        "                                      kNN__n_neighbors = [11, 13], kNN__weights = ['uniform'], kNN__p = [2]), cv = 10, scoring = metric, n_jobs = -1)\n",
        "  estimator.fit(X_train, y_train)\n",
        "\n",
        "  #for acc, model in zip(estimator.cv_results_['mean_test_score'], estimator.cv_results_['params']):\n",
        "    #print(metric + ' of estimator with threshold =', str(model['selector__threshold']) + \",\", 'n_neighbors =', str(model['kNN__n_neighbors']) + \", weights = '\" + model['kNN__weights'] + \"', p =\", model['kNN__p'], 'and PCA_components =', model['pca__n_components'], str(':'), np.round(acc, 4))\n",
        "  \n",
        "  print('\\n \\tBest', metric, '=',  np.round(estimator.best_score_, 4), 'corresponds to estimator with threshold =', str(estimator.best_params_['selector__threshold']) + \",\", 'n_neighbors =', str(estimator.best_params_['kNN__n_neighbors']) + \", weights = '\" + estimator.best_params_['kNN__weights'] + \"', p =\", estimator.best_params_['kNN__p'], 'and PCA_components =', estimator.best_params_['pca__n_components'], '\\n')\n",
        "  if metric == 'accuracy':\n",
        "    japanese_credit_screening_kNN['MinMax Scaler - Variance Threshold - PCA'] = {'accuracy': np.round(estimator.best_score_, 4)}\n",
        "  else:\n",
        "    japanese_credit_screening_kNN['MinMax Scaler - Variance Threshold - PCA']['f1'] = np.round(estimator.best_score_, 4)"
      ],
      "execution_count": null,
      "outputs": [
        {
          "name": "stdout",
          "output_type": "stream",
          "text": [
            "Architecture: MinMax Scaler - Variance Threshold - PCA - kNN \n",
            "\n",
            "\n",
            " \tBest accuracy = 0.8676 corresponds to estimator with threshold = 0.01, n_neighbors = 11, weights = 'uniform', p = 2 and PCA_components = 26 \n",
            "\n",
            "\n",
            " \tBest f1 = 0.8602 corresponds to estimator with threshold = 0.01, n_neighbors = 11, weights = 'uniform', p = 2 and PCA_components = 26 \n",
            "\n"
          ]
        }
      ]
    },
    {
      "cell_type": "markdown",
      "metadata": {
        "id": "l8w49lUIym7C"
      },
      "source": [
        "Τέλος, δοκιμάζουμε κάποιες ακόμα αρχιτεκτονικές που χρησιμοποιούν την τεχνικη εξαγωγής χαρακτηριστικών - PCA, οι οποίες όμως δεν καταφέρνουν να ξεπεράσουν τα ποσοστά που επιτύχαμε παραπάνω. "
      ]
    },
    {
      "cell_type": "code",
      "metadata": {
        "colab": {
          "base_uri": "https://localhost:8080/"
        },
        "id": "o5VLwcumwZAX",
        "outputId": "c9ec0827-5843-43e5-c412-e61f877ce117"
      },
      "source": [
        "print('Architecture: MinMax Scaler - PCA - kNN \\n')\n",
        "for metric in ['accuracy', 'f1']:\n",
        "  pipe = Pipeline(steps = [('minmax_scaler', minmax_scaler), ('pca', pca), ('kNN', KNeighborsClassifier(metric = 'minkowski'))])\n",
        "  estimator = GridSearchCV(pipe, dict(pca__n_components = [1, 2, 3, 5, 10, 15, 20, 30, 40],\n",
        "                                      kNN__n_neighbors = [9, 11, 13, 15, 19], kNN__weights = ['distance', 'uniform'], kNN__p = [1, 2]), cv = 10, scoring = metric, n_jobs = -1)\n",
        "  estimator.fit(X_train, y_train)\n",
        "\n",
        "  #for acc, model in zip(estimator.cv_results_['mean_test_score'], estimator.cv_results_['params']):\n",
        "    #print(metric + ' of estimator with n_neighbors =', str(model['kNN__n_neighbors']) + \", weights = '\" + model['kNN__weights'] + \"', p =\", model['kNN__p'], 'and PCA_components =', model['pca__n_components'], str(':'), np.round(acc, 4))\n",
        "  \n",
        "  print('\\n \\tBest', metric, '=',  np.round(estimator.best_score_, 4), 'corresponds to estimator with n_neighbors =', str(estimator.best_params_['kNN__n_neighbors']) + \", weights = '\" + estimator.best_params_['kNN__weights'] + \"', p =\", estimator.best_params_['kNN__p'], 'and PCA_components =', estimator.best_params_['pca__n_components'], '\\n')\n",
        "  if metric == 'accuracy':\n",
        "    japanese_credit_screening_kNN['MinMax Scaler - PCA'] = {'accuracy': np.round(estimator.best_score_, 4)}\n",
        "  else:\n",
        "    japanese_credit_screening_kNN['MinMax Scaler - PCA']['f1'] = np.round(estimator.best_score_, 4)\n",
        "\n",
        "print('\\nArchitecture: Standard Scaler - PCA - kNN \\n')\n",
        "for metric in ['accuracy', 'f1']:\n",
        "  pipe = Pipeline(steps = [('standard_scaler', standard_scaler), ('pca', pca), ('kNN', KNeighborsClassifier(n_neighbors = 13, weights = 'distance', metric = 'minkowski', p = 1))])\n",
        "  estimator = GridSearchCV(pipe, dict(pca__n_components = [1, 2, 3, 5, 10, 15, 20, 30, 40],\n",
        "                                      kNN__n_neighbors = [11, 13], kNN__weights = ['uniform'], kNN__p = [2]), cv = 10, scoring = metric, n_jobs = -1)\n",
        "  estimator.fit(X_train, y_train)\n",
        "\n",
        "  #for acc, model in zip(estimator.cv_results_['mean_test_score'], estimator.cv_results_['params']):\n",
        "    #print(metric + ' of estimator with n_neighbors =', str(model['kNN__n_neighbors']) + \", weights = '\" + model['kNN__weights'] + \"', p =\", model['kNN__p'], 'and PCA_components =', model['pca__n_components'], str(':'), np.round(acc, 4))\n",
        "  \n",
        "  print('\\n \\tBest', metric, '=',  np.round(estimator.best_score_, 4), 'corresponds to estimator with n_neighbors =', str(estimator.best_params_['kNN__n_neighbors']) + \", weights = '\" + estimator.best_params_['kNN__weights'] + \"', p =\", estimator.best_params_['kNN__p'], 'and PCA_components =', estimator.best_params_['pca__n_components'], '\\n')\n",
        "  if metric == 'accuracy':\n",
        "    japanese_credit_screening_kNN['Standard Scaler - PCA'] = {'accuracy': np.round(estimator.best_score_, 4)}\n",
        "  else:\n",
        "    japanese_credit_screening_kNN['Standard Scaler - PCA']['f1'] = np.round(estimator.best_score_, 4)\n",
        "\n",
        "print('\\nArchitecture: PCA - kNN \\n')\n",
        "for metric in ['accuracy', 'f1']:\n",
        "  pipe = Pipeline(steps = [('pca', pca), ('kNN', KNeighborsClassifier(n_neighbors = 13, weights = 'distance', metric = 'minkowski', p = 1))])\n",
        "  estimator = GridSearchCV(pipe, dict(pca__n_components = [1, 2, 3, 5, 10, 15, 20, 30, 40],\n",
        "                                      kNN__n_neighbors = [11, 13], kNN__weights = ['uniform'], kNN__p = [2]), cv = 10, scoring = metric, n_jobs = -1)\n",
        "  estimator.fit(X_train, y_train)\n",
        "\n",
        "  #for acc, model in zip(estimator.cv_results_['mean_test_score'], estimator.cv_results_['params']):\n",
        "    #print(metric + ' of estimator with n_neighbors =', str(model['kNN__n_neighbors']) + \", weights = '\" + model['kNN__weights'] + \"', p =\", model['kNN__p'], 'and PCA_components =', model['pca__n_components'], str(':'), np.round(acc, 4))\n",
        "  \n",
        "  print('\\n \\tBest', metric, '=',  np.round(estimator.best_score_, 4), 'corresponds to estimator with n_neighbors =', str(estimator.best_params_['kNN__n_neighbors']) + \", weights = '\" + estimator.best_params_['kNN__weights'] + \"', p =\", estimator.best_params_['kNN__p'], 'and PCA_components =', estimator.best_params_['pca__n_components'], '\\n')\n",
        "  if metric == 'accuracy':\n",
        "    japanese_credit_screening_kNN['PCA'] = {'accuracy': np.round(estimator.best_score_, 4)}\n",
        "  else:\n",
        "    japanese_credit_screening_kNN['PCA']['f1'] = np.round(estimator.best_score_, 4)"
      ],
      "execution_count": null,
      "outputs": [
        {
          "name": "stdout",
          "output_type": "stream",
          "text": [
            "Architecture: MinMax Scaler - PCA - kNN \n",
            "\n",
            "\n",
            " \tBest accuracy = 0.8697 corresponds to estimator with n_neighbors = 15, weights = 'uniform', p = 1 and PCA_components = 20 \n",
            "\n",
            "\n",
            " \tBest f1 = 0.8616 corresponds to estimator with n_neighbors = 19, weights = 'distance', p = 2 and PCA_components = 15 \n",
            "\n",
            "\n",
            "Architecture: Standard Scaler - PCA - kNN \n",
            "\n",
            "\n",
            " \tBest accuracy = 0.8471 corresponds to estimator with n_neighbors = 11, weights = 'uniform', p = 2 and PCA_components = 15 \n",
            "\n",
            "\n",
            " \tBest f1 = 0.836 corresponds to estimator with n_neighbors = 11, weights = 'uniform', p = 2 and PCA_components = 15 \n",
            "\n",
            "\n",
            "Architecture: PCA - kNN \n",
            "\n",
            "\n",
            " \tBest accuracy = 0.6901 corresponds to estimator with n_neighbors = 11, weights = 'uniform', p = 2 and PCA_components = 1 \n",
            "\n",
            "\n",
            " \tBest f1 = 0.6516 corresponds to estimator with n_neighbors = 11, weights = 'uniform', p = 2 and PCA_components = 2 \n",
            "\n"
          ]
        }
      ]
    },
    {
      "cell_type": "code",
      "metadata": {
        "colab": {
          "base_uri": "https://localhost:8080/",
          "height": 665,
          "referenced_widgets": [
            "df03d683ffec4cd798a4955f3fa58dff",
            "e20dcb6fe2904611831bfa40ee0ded96",
            "de9c301644aa456694285c39af73d729",
            "d52bcfe82f2f4b1ab1bf5505c58c95cf",
            "7bdbe1ca1fd94e6f854e6d8e709c70ce",
            "fcce58f5696841dd9c718372308ca15e",
            "abb331d8e14d4386b3cc3837fe2c00aa"
          ]
        },
        "id": "zex5CNo4yjXn",
        "outputId": "69aca1d1-f601-4125-a0b4-51999e9933ce"
      },
      "source": [
        "kNN_df = pd.DataFrame([[x, 'accuracy', japanese_credit_screening_kNN[x]['accuracy']] for x in japanese_credit_screening_kNN] +\n",
        "                  [[x, 'f1 score', japanese_credit_screening_kNN[x]['f1']] for x in japanese_credit_screening_kNN], \n",
        "                  columns = ['architecture', 'metric', 'score']) \n",
        "\n",
        "sns.set_theme(style = \"whitegrid\")\n",
        "g = sns.catplot(\n",
        "    data = kNN_df, kind = \"bar\",\n",
        "    x = \"score\", y = \"architecture\", hue = \"metric\",\n",
        "    palette = \"pastel\", alpha = .8, height = 8\n",
        ")\n",
        "g.despine(left=True)\n",
        "g.ax.set_title(\"kNN Classifier Scores\", fontsize = 14)\n",
        "g.set_axis_labels(\"score\", \"Architecture\")\n",
        "g.legend.set_title(\"metrics\")\n",
        "\n",
        "architecture_kNN = Dropdown(options = japanese_credit_screening_kNN.keys())\n",
        "\n",
        "@interact(architecture = architecture_kNN)\n",
        "def print_scores(architecture):\n",
        "    print('accuracy:', japanese_credit_screening_kNN[architecture]['accuracy'])\n",
        "    print('f1 score:', japanese_credit_screening_kNN[architecture]['f1'])"
      ],
      "execution_count": null,
      "outputs": [
        {
          "data": {
            "image/png": "[encoded data removed]",
            "text/plain": [
              "<Figure size 665.475x576 with 1 Axes>"
            ]
          },
          "metadata": {},
          "output_type": "display_data"
        },
        {
          "data": {
            "application/vnd.jupyter.widget-view+json": {
              "model_id": "df03d683ffec4cd798a4955f3fa58dff",
              "version_major": 2,
              "version_minor": 0
            },
            "text/plain": [
              "interactive(children=(Dropdown(description='architecture', options=('Out of the box', 'Best kNN (without trans…"
            ]
          },
          "metadata": {},
          "output_type": "display_data"
        }
      ]
    },
    {
      "cell_type": "markdown",
      "metadata": {
        "id": "W-BLIl1wKu2C"
      },
      "source": [
        "<b>Συμπερασματικά, λοιπόν, ο βελτιστοποιημένος kNN ταξινομητής αντιστοιχεί σε αρχιτεκτονική MinMax Scaler - Variance Threshold (threshold = 0.03) - kNN (n_neighbors = 13, weights = 'distance', p = 2 (euclidean distance)) και επιτυγχάνει accuracy = 0.8739 και f1 score = 0.8674 κατά τη διαδικασία του 10-fold cross validation."
      ]
    },
    {
      "cell_type": "markdown",
      "metadata": {
        "id": "OaZf1gOMGDe7"
      },
      "source": [
        "##### Logistic Regression (LR) "
      ]
    },
    {
      "cell_type": "markdown",
      "metadata": {
        "id": "URwI0i0XrbFA"
      },
      "source": [
        "Ο Logistic Regression ταξινομητής της scikit-learn δέχεται τις ακόλουθες παραμέτρους:\n",
        "- penalty: ορίζει τη νόρμα που θα χρησιμοποιηθεί για τον υπολογισμό του λάθους ταξινόμησης (ποινής). Πιθανές τιμές:\n",
        "  - 'none': δεν προστίθεται καμία ποινή\n",
        "  - 'l1': χρησιμοποιείται η l1 νόρμα για τον υπολογισμό της ποινής\n",
        "  - 'l2': χρησιμοποιείται η l2 νόρμα για τον υπολογισμό της ποινής\n",
        "  - 'elastinet': χρησιμοποιείται η l1 και η l2 νόρμα αθροιστικά \n",
        "- dual: Dual or primal formulation. Η dual formulation εφαρμόζεται μόνο για l2 penalty με liblinear solver. Γενικά, προτιμάται dual = False όταν n_samples > n_features.\n",
        "- tol: ανοχή στα κριτήρια τερματισμού.\n",
        "- C: αντίστοφη δύναμη κανονικοποίησης. Πρέπει να είναι θετικός πραγματικός αριθμός, με μικρότερες τιμές να αντιστοιχούν σε ισχυρότερη κανονικοποίηση.\n",
        "- fit_intercept: ορίζει εάν πρέπει να προστεθεί σταθερά (bias ή intercept) στη συνάρτηση απόφασης.\n",
        "- intercept_scaling: χρήσιμο μόνο όταν χρησιμοποιείται liblinear solver με fit_intercept = True. Στην περίπτωση αυτή το x γίνεται [x, intercept_scaling], δηλαδή ένα \"συνθετικό\" χαρακτηριστικό με σταθερή τιμή ίση με intercept_scaling προστίθεται στο διάνυσμα του δείγματος. Το intercept γίνεται intercept_scaling * synthetic_feature_weight. (Σημείωση: To synthetic_feature_weight υπόκειται σε κανονικοποίηση με l1/l2, όπως και τα υπόλοιπα χαρακτηριστικά. Για να μειωθεί η επίδραση της κανονικοποίησης στο βάρος του \"συνθετικού\" χαρακτηριστικού (και επομένως και στο intercept - σημείο τομής) πρέπει να αυξηθεί το intercept_scaling).\n",
        "- class_weight: τα βάρη που αντιστοιχούν σε κάθε κλάση. Εάν δε δίνεται, θεωρείται ότι όλες οι κλάσεις έχουν μοναδιαίο βάρος, ενώ η τιμή 'balanced' προσαρμόζει αυτόματα τα βάρη ώστε να είναι αντιστρόφως ανάλογα με τη συχνότητα εμφάνισης των κλάσεων στα δεδομένα.\n",
        "- solver: ο αλγόριθμος που χρησιμοποιείται για το πρόβλημα βελτιστοποίησης. Πιθανές τιμές (με τα αντίστοιχα penalty που υποστηρίζει καθένας από αυτούς):\n",
        "  - 'newton-cg' (υποστηρίζει ['l2', 'none'])\n",
        "  - 'lbfgs' (υποστηρίζει ['l2', 'none'])\n",
        "  - 'liblinear' (υποστηρίζει ['l1', 'l2'])\n",
        "  - 'sag' (υποστηρίζει ['l2', 'none'])\n",
        "  - 'saga' (υποστηρίζει ['elasticnet', 'l1', 'l2', 'none'])\n",
        "\n",
        "  Για μικρά datasets, ο 'liblinear' προτιμάται, ενώ σε μεγαλύτερα datasets οι 'sag' και 'saga' είναι ταχύτεροι. Για προβλήματα πολλών κλάσεων δε μπορεί να χρησιμοποιηθεί ο 'liblinear'.  \n",
        "- max_iter: ο μέγιστος αριθμός επαναλήψεων που μπορεί να εκτελέσει ο solver μέχρι να συγκλίνει.\n",
        "- multi_class: Πιθανές τιμές: \n",
        "  - 'ovr': κάθε label αντιστοιχεί σε ένα δυαδικό πρόβλημα\n",
        "  - 'multinomial': το σφάλμα που ελαχιστοποιείται είναι το multinomial loss πάνω σε ολόκληρη την πιθανοτική κατανομή (ακόμα και σε binary προβλήματα). Δε μπορεί να χρησιμοποιηθεί για liblinear solver.\n",
        "  - 'auto': επιλέγει 'ovr' εάν έχουμε binary πρόβλημα ή liblinear solver, διαφορετικά επιλέγει 'multinomial'.\n",
        "- verbose: θετικός αριθμός που καθορίζει το verbosity για liblinear και lbgfs solver\n",
        "- warm_start: η τιμή True δηλώνει ότι η λύση της προηγούμενης κλήσης θα χρησιμοποιηθεί ως αρχικοποιήση, διαφορετικά (για την τιμή False) διαγράφεται (η χρήση του δεν έχει νόημα για liblinear solver)\n",
        "- l1_ratio: χρησιμοποιείται μόνο για penalty = 'elasticnet'. Παίρνει τιμές στο [0, 1] και l1_ration = 0 αντιστοιχεί σε penalty = 'l1', l1_ratio = 1 σε penalty = 'l2' και 0 < l1_ratio < 1 σε συνδυασμό των l1 και l2.\n",
        "\n"
      ]
    },
    {
      "cell_type": "markdown",
      "metadata": {
        "id": "Qp_nAZOLG373"
      },
      "source": [
        "O Logistic Regression ταξινομητής, χωρίς καμία βελτιστοποίηση (out-of-the-box) και με όλες τις παραμέτρους σε default τιμές, δηλαδή με penalty = 'l2', dual = False, tol = 1e-4, C = 1.0, fit_intercept = True, intercept_scaling = 1.0, class_weight = None, solver = 'lbfgs', max_iter = 100, verbose = 0, warm_start = False, l1_ratio = None, κατά τη διαδικασία του 10-fold cross validation επιτυγχάνει <b>accuracy 0.8446</b> και <b>f1 score 0.8262</b>."
      ]
    },
    {
      "cell_type": "code",
      "metadata": {
        "id": "BV2hiaSMMC0N"
      },
      "source": [
        "japanese_credit_screening_LR = dict()\n",
        "japanese_credit_screening_LR['Out of the box'] = {'accuracy' : japanese_credit_screening_cross_val_accuracy_out_of_the_box['logistic regression'], 'f1' : japanese_credit_screening_cross_val_f1_score_out_of_the_box['logistic regression']}"
      ],
      "execution_count": null,
      "outputs": []
    },
    {
      "cell_type": "code",
      "metadata": {
        "id": "jH8xSxf1T5QP"
      },
      "source": [
        "clf = LogisticRegression()"
      ],
      "execution_count": null,
      "outputs": []
    },
    {
      "cell_type": "markdown",
      "metadata": {
        "id": "-DvDEIGoCam0"
      },
      "source": [
        "Αρχικά, και πάλι, θα προσπαθήσουμε να βελτιστοποιήσουμε τις αποδόσεις του Logistic Regression ταξινομητή (accuracy και f1 score κατά τη δαδικασία 10-fold cross validation), χωρίς να πρσθέσουμε κάποιον μετασχηματιστή πριν την εφαρμογή αυτού. Για το σκοπό αυτό θα εφαρμόσουμε αναζήτηση πλέγματος με διασταυρούμενη επικύρωση μόνο για τις υπερπαραμέτρους του Logistic Regression ταξινομητή της scikit-learn. Δοκιμάζουμε, λοιπόν, αρχικά διαφορετικούς solvers για το optimization problem, δηλαδή solver = ['liblinear', 'sag'], και για καθέναν από αυτούς δοκιμάζουμε διαφορετικές τιμές στις παραμέτρους που χρησιμοποιεί.\n",
        "\n",
        "Δοκιμάζουμε, πρώτα, τον Logistic Regression Classifier με liblinear solver και τα αποτελέσματα  που προκύπτουν από αναζήτηση πλέγματος στις υπόλοιπες παραμέτρους αυτού παρουσιάζονται στα ακόλουθα διαγράμματα."
      ]
    },
    {
      "cell_type": "code",
      "metadata": {
        "colab": {
          "base_uri": "https://localhost:8080/"
        },
        "id": "v1EGCj25Nnfj",
        "outputId": "5f1b33cc-ef92-43dc-f22f-5b2d159b3078"
      },
      "source": [
        "#solver = liblinear\n",
        "params_liblinear = {'penalty_list' : ['l1', 'l2'], 'tol_list' : [1e-6, 1e-4, 0.1, 0.5, 0.8, 1, 1.2, 1.5],\n",
        "                    'C_list' : [0.01, 0.08, 0.1, 0.2, 0.3, 0.5, 1, 2, 5, 10, 50], 'intercept_scaling_list' : [1, 10, 50, 100],\n",
        "                    'class_weight_list' : [None, 'balanced'],  'max_iter_list' : [100, 200, 500, 1000, 5000],\n",
        "                    'verbose_list' : [0, 5, 10, 15]}\n",
        "\n",
        "d_liblinear = {metric_score : {penalty : {tol: {C : {intercept_scaling : {w : { iter : {verbose : 0 for verbose in params_liblinear['verbose_list']} for iter in params_liblinear['max_iter_list']} for w in params_liblinear['class_weight_list']} for intercept_scaling in params_liblinear['intercept_scaling_list']} for C in params_liblinear['C_list']} for tol in params_liblinear['tol_list']} for penalty in params_liblinear['penalty_list']} for metric_score in ['accuracy', 'f1']}\n",
        "\n",
        "for metric in ['accuracy', 'f1']:\n",
        "  estimator = GridSearchCV(clf, [dict(solver = ['liblinear'], penalty = params_liblinear['penalty_list'], tol = params_liblinear['tol_list'], C = params_liblinear['C_list'], intercept_scaling = params_liblinear['intercept_scaling_list'], class_weight = params_liblinear['class_weight_list'], max_iter = params_liblinear['max_iter_list'], verbose = params_liblinear['verbose_list'])], cv = 10, scoring = metric, n_jobs = -1)\n",
        "  estimator.fit(X_train, y_train)\n",
        "\n",
        "  for acc, model in zip(estimator.cv_results_['mean_test_score'], estimator.cv_results_['params']):\n",
        "    #print(metric + ' of kNN with n_neighbors =', str(model['n_neighbors']) + ',', 'weights =', \"'\" + model['weights'] + \"', metric = '\" + model['metric'] + \"'\", 'and p =',  model['p'], str(':'), np.round(acc, 4))\n",
        "    d_liblinear[metric][model['penalty']][model['tol']][model['C']][model['intercept_scaling']][model['class_weight']][model['max_iter']][model['verbose']] = np.round(acc, 4)\n",
        "\n",
        "  print('Best', metric, '=',  np.round(estimator.best_score_, 4), 'corresponds to LR with solver =', estimator.best_params_['solver'] + ',', 'penalty =', \"'\" + estimator.best_params_['penalty'] + \"', tol =\", str(estimator.best_params_['tol']) + ', C =', str(estimator.best_params_['C']) + ', intercept_scaling =', str(estimator.best_params_['intercept_scaling']), ', class_weight =',  str(estimator.best_params_['class_weight']) + ', max_iter =', str(estimator.best_params_['max_iter']), 'and verbose =', estimator.best_params_['verbose'], '\\n')"
      ],
      "execution_count": null,
      "outputs": [
        {
          "name": "stdout",
          "output_type": "stream",
          "text": [
            "Best accuracy = 0.8819 corresponds to LR with solver = liblinear, penalty = 'l1', tol = 1.5, C = 0.1, intercept_scaling = 50 , class_weight = None, max_iter = 500 and verbose = 0 \n",
            "\n",
            "[LibLinear]Best f1 = 0.8756 corresponds to LR with solver = liblinear, penalty = 'l1', tol = 1.2, C = 0.3, intercept_scaling = 100 , class_weight = balanced, max_iter = 500 and verbose = 5 \n",
            "\n"
          ]
        }
      ]
    },
    {
      "cell_type": "code",
      "metadata": {
        "colab": {
          "base_uri": "https://localhost:8080/",
          "height": 902,
          "referenced_widgets": [
            "382b398db4154a798dfe2408e535df6c",
            "f13ed77ba0b3490ebbef00eadf367dd4",
            "d95640608ef545a9b8ecc60c3de2072e",
            "54e7be7ff96240a58a10b2e28c2e45c7",
            "3064d74bf9cf4593a8ccda15a75fc18e",
            "8820f1008f45454084290be532b49645",
            "86cde4f6a22b4ef8a8f075bfca6946a4",
            "c626782e5a1847cc9fcdac33f2aeba11",
            "61ee0e3f666643f99365d3e17119b448",
            "b0192981264b46c48348e695e221405e",
            "a392c802df134a60b123e1d4cbe9ae20",
            "cae997aad9dc4b06a77aabddad73d336",
            "09e91ee6d3814609a27c1c2c7fadeccb"
          ]
        },
        "id": "rQh-dxw2cIf7",
        "outputId": "0cb1a1c4-8888-4078-ce0a-578f094d7a06"
      },
      "source": [
        "from ipywidgets import interact, Dropdown\n",
        "from matplotlib import pyplot as plt\n",
        "import seaborn as sns\n",
        "\n",
        "tol_choices = Dropdown(options = params_liblinear['tol_list'])\n",
        "intercept_scaling_choices = Dropdown(options = params_liblinear['intercept_scaling_list'])\n",
        "verbose_choices = Dropdown(options = params_liblinear['verbose_list'])\n",
        "\n",
        "@interact(tol = tol_choices, intercept_scaling = intercept_scaling_choices, verbose = verbose_choices)\n",
        "def print_diagram(tol, intercept_scaling, verbose):\n",
        "    df_acc_weightNone_l1 = pd.DataFrame(\n",
        "        [[max_iter, C, d_liblinear['accuracy']['l1'][tol][C][intercept_scaling][None][max_iter][verbose]] for C in params_liblinear['C_list'] for max_iter in params_liblinear['max_iter_list']],\n",
        "        columns = ['max_iter', 'C', 'score'])\n",
        "    df_acc_weightNone_l2 = pd.DataFrame(\n",
        "        [[max_iter, C, d_liblinear['accuracy']['l2'][tol][C][intercept_scaling][None][max_iter][verbose]] for C in params_liblinear['C_list'] for max_iter in params_liblinear['max_iter_list']],\n",
        "        columns = ['max_iter', 'C', 'score'])\n",
        "    df_acc_balanced_l1 = pd.DataFrame(\n",
        "        [[max_iter, C, d_liblinear['accuracy']['l1'][tol][C][intercept_scaling]['balanced'][max_iter][verbose]] for C in params_liblinear['C_list'] for max_iter in params_liblinear['max_iter_list']],\n",
        "        columns = ['max_iter', 'C', 'score'])\n",
        "    df_acc_balanced_l2 = pd.DataFrame(\n",
        "        [[max_iter, C, d_liblinear['accuracy']['l2'][tol][C][intercept_scaling]['balanced'][max_iter][verbose]] for C in params_liblinear['C_list'] for max_iter in params_liblinear['max_iter_list']],\n",
        "        columns = ['max_iter', 'C', 'score'])\n",
        "    df_f1_weightNone_l1 = pd.DataFrame(\n",
        "        [[max_iter, C, d_liblinear['f1']['l1'][tol][C][intercept_scaling][None][max_iter][verbose]] for C in params_liblinear['C_list'] for max_iter in params_liblinear['max_iter_list']],\n",
        "        columns = ['max_iter', 'C', 'score'])\n",
        "    df_f1_weightNone_l2 = pd.DataFrame(\n",
        "        [[max_iter, C, d_liblinear['f1']['l2'][tol][C][intercept_scaling][None][max_iter][verbose]] for C in params_liblinear['C_list'] for max_iter in params_liblinear['max_iter_list']],\n",
        "        columns = ['max_iter', 'C', 'score'])\n",
        "    df_f1_balanced_l1 = pd.DataFrame(\n",
        "        [[max_iter, C, d_liblinear['f1']['l1'][tol][C][intercept_scaling]['balanced'][max_iter][verbose]] for C in params_liblinear['C_list'] for max_iter in params_liblinear['max_iter_list']],\n",
        "        columns = ['max_iter', 'C', 'score'])\n",
        "    df_f1_balanced_l2 = pd.DataFrame(\n",
        "        [[max_iter, C, d_liblinear['f1']['l2'][tol][C][intercept_scaling]['balanced'][max_iter][verbose]] for C in params_liblinear['C_list'] for max_iter in params_liblinear['max_iter_list']],\n",
        "        columns = ['max_iter', 'C', 'score']) \n",
        "    \n",
        "    fig, axes = plt.subplots(2, 4, figsize = (25, 12), sharey = True)\n",
        "    fig.suptitle('Logistic Regression Classifier with liblinear solver (tol = ' + str(tol) + ', intercept_scaling = ' + str(intercept_scaling) + ', verbose = ' + str(verbose) + ') - Hyparameters Estimation')\n",
        "\n",
        "    sns.set_theme(style = \"whitegrid\")\n",
        "    sns.barplot(ax = axes[0, 0], data = df_acc_weightNone_l1, x = \"max_iter\", y = \"score\", hue = \"C\", palette = \"pastel\", alpha = 1)\n",
        "    axes[0, 0].set_title('Accuracy Score - weights = None - penalty = l1')\n",
        "    sns.barplot(ax = axes[0, 1], data = df_acc_weightNone_l2, x = \"max_iter\", y = \"score\", hue = \"C\", palette = \"pastel\", alpha = 1)\n",
        "    axes[0, 1].set_title('Accuracy Score - weights = None - penalty = l2')\n",
        "    sns.barplot(ax = axes[0, 2], data = df_acc_balanced_l1, x = \"max_iter\", y = \"score\", hue = \"C\", palette = \"pastel\", alpha = 1)\n",
        "    axes[0, 2].set_title('Accuracy Score - weights = balanced - penalty = l1')\n",
        "    sns.barplot(ax = axes[0, 3], data = df_acc_balanced_l2, x = \"max_iter\", y = \"score\", hue = \"C\", palette = \"pastel\", alpha = 1)\n",
        "    axes[0, 3].set_title('Accuracy Score - weights = balanced - penalty = l2')\n",
        "\n",
        "    sns.barplot(ax = axes[1, 0], data = df_f1_weightNone_l1, x = \"max_iter\", y = \"score\", hue = \"C\", palette = \"dark\", alpha = 1)\n",
        "    axes[1, 0].set_title('F1 Score - weights = None - penalty = l1')\n",
        "    sns.barplot(ax = axes[1, 1], data = df_f1_weightNone_l2, x = \"max_iter\", y = \"score\", hue = \"C\", palette = \"dark\", alpha = 1)\n",
        "    axes[1, 1].set_title('F1 Score - weights = None - penalty = l2')\n",
        "    sns.barplot(ax = axes[1, 2], data = df_f1_balanced_l1, x = \"max_iter\", y = \"score\", hue = \"C\", palette = \"dark\", alpha = 1)\n",
        "    axes[1, 2].set_title('F1 Score - weights = balanced - penalty = l1')\n",
        "    sns.barplot(ax = axes[1, 3], data = df_f1_balanced_l2, x = \"max_iter\", y = \"score\", hue = \"C\", palette = \"dark\", alpha = 1)\n",
        "    axes[1, 3].set_title('F1 Score - weights = balanced - penalty = l2')\n",
        "\n",
        "    plt.show()"
      ],
      "execution_count": null,
      "outputs": [
        {
          "data": {
            "application/vnd.jupyter.widget-view+json": {
              "model_id": "382b398db4154a798dfe2408e535df6c",
              "version_major": 2,
              "version_minor": 0
            },
            "text/plain": [
              "interactive(children=(Dropdown(description='tol', options=(1e-06, 0.0001, 0.1, 0.5, 0.8, 1, 1.2, 1.5), value=1…"
            ]
          },
          "metadata": {},
          "output_type": "display_data"
        }
      ]
    },
    {
      "cell_type": "markdown",
      "metadata": {
        "id": "VVb9yVKuIUOw"
      },
      "source": [
        "Από τα παραπάνω διαγράμματα παρατηρούμε ότι για το συγκεκριμένο task και λόγω του μικρού dataset η αύξηση του αριθμόυ των επαναλήψεων που εκτελεί ο liblinear solver μέχρι να συγκλίνει δεν έχει κάποια ιδιαίτερη επίδραση στα τελικά scores που επιτυγχάνονται, ενώ όσον αφορά την παράμετρο κανονικοποιήσης C τα καλύτερα scores αντιστοιχούν σε τιμές μεταξύ 0.1 και 0.3. Παράλληλα παρατηρούμε ότι η χρήση 'l2' penalty συνδυάζεται καλύτερα με χαμηλές τιμές της παραμέτρου tol (μεταξύ 1e-6 και 0.0001), ενώ για υψηλότερες τιμές της παραμέτρου αυτής η χρήση 'l1' penalty υπερτερεί αισθητά. Όσον αφορά την παράμετρο class_weight, η επιλογή None ή balanced φαίνεται να μην επηρεάζει ιδιαίτερα με κάθε μια από τις επιλογές να ταιριάζει καλύτερα και σε κάποιες τιμές του C. Τέλος, όσον αφορά τις παραμέτρους verbose και intercept_scaling παρατηρούμε ότι τροποποιήσεις αυτών έχουν μικρές μόνο διακυμάνσεις στα scores που επιτυγχάνονται, με τις καλύτερες επιλογές να αντιστοιχούν στις τιμές 0, 5 και 100, 500 αντίστοιχα(<i>Σχόλιο: Η παράμετρος intercept_scaling απαιτεί τιμές μεγαλύτερες του μηδενός</i>).\n",
        "\n",
        "Τελικά, από τη GridSearch προέκυψε ότι για τον ταξινομητή Logistic Regression με liblinear solver το καλύτερο accuracy το επιτυγχάνουμε για penalty = 'l1', tol = 1.5, C = 0.1, intercept_scaling = 50, class_weight = None, max_iter = 500 και verbose = 0, ενώ το καλύτερο f1 score το επιτυγχάνουμε για penalty = 'l1', tol = 1.2, C = 0.3, intercept_scaling = 100 , class_weight = balanced, max_iter = 500 και verbose = 5.\n",
        "\n",
        "Στη συνέχεια κάνουμε και πάλι μια αναζήτηση πλέγματος για τον Logistic Regression ταξινομητή με liblinear solver με τιμές παραμέτρων εντοπισμένες στα διαστήματα γύρω από αυτές που μόλις εντοπίσαμε."
      ]
    },
    {
      "cell_type": "code",
      "metadata": {
        "colab": {
          "base_uri": "https://localhost:8080/"
        },
        "id": "yk90FOqUcIec",
        "outputId": "c7f593ad-553d-40c2-f9f0-213acf547752"
      },
      "source": [
        "#solver = liblinear\n",
        "params_liblinear2 = {'penalty_list' : ['l1'], 'tol_list' : [1, 1.1, 1.2, 1.3, 1.4, 1.5],\n",
        "                    'C_list' : [0.1, 0.2, 0.3, 0.4, 0.5], 'intercept_scaling_list' : [50, 70, 80, 100],\n",
        "                    'class_weight_list' : [None, 'balanced'],  'max_iter_list' : [500],\n",
        "                    'verbose_list' : [0, 5]}\n",
        "\n",
        "d_liblinear2 = {metric_score : {penalty : {tol: {C : {intercept_scaling : {w : { iter : {verbose : 0 for verbose in params_liblinear2['verbose_list']} for iter in params_liblinear2['max_iter_list']} for w in params_liblinear2['class_weight_list']} for intercept_scaling in params_liblinear2['intercept_scaling_list']} for C in params_liblinear2['C_list']} for tol in params_liblinear2['tol_list']} for penalty in params_liblinear2['penalty_list']} for metric_score in ['accuracy', 'f1']}\n",
        "best_liblinear = {metric : [] for metric in ['accuracy', 'f1']}\n",
        "for metric in ['accuracy', 'f1']:\n",
        "  estimator = GridSearchCV(clf, [dict(solver = ['liblinear'], penalty = params_liblinear2['penalty_list'], tol = params_liblinear2['tol_list'], C = params_liblinear2['C_list'], intercept_scaling = params_liblinear2['intercept_scaling_list'], class_weight = params_liblinear2['class_weight_list'], max_iter = params_liblinear2['max_iter_list'], verbose = params_liblinear2['verbose_list'])], cv = 10, scoring = metric, n_jobs = -1)\n",
        "  estimator.fit(X_train, y_train)\n",
        "\n",
        "  for acc, model in zip(estimator.cv_results_['mean_test_score'], estimator.cv_results_['params']):\n",
        "    #print(metric + ' of kNN with n_neighbors =', str(model['n_neighbors']) + ',', 'weights =', \"'\" + model['weights'] + \"', metric = '\" + model['metric'] + \"'\", 'and p =',  model['p'], str(':'), np.round(acc, 4))\n",
        "    d_liblinear2[metric][model['penalty']][model['tol']][model['C']][model['intercept_scaling']][model['class_weight']][model['max_iter']][model['verbose']] = np.round(acc, 4)\n",
        "\n",
        "  best_liblinear[metric] =  estimator.best_params_\n",
        "  print('Best', metric, '=',  np.round(estimator.best_score_, 4), 'corresponds to LR with solver =', estimator.best_params_['solver'] + ',', 'penalty =', \"'\" + estimator.best_params_['penalty'] + \"', tol =\", str(estimator.best_params_['tol']) + ', C =', str(estimator.best_params_['C']) + ', intercept_scaling =', str(estimator.best_params_['intercept_scaling']), ', class_weight =',  str(estimator.best_params_['class_weight']) + ', max_iter =', str(estimator.best_params_['max_iter']), 'and verbose =', estimator.best_params_['verbose'], '\\n')"
      ],
      "execution_count": null,
      "outputs": [
        {
          "name": "stdout",
          "output_type": "stream",
          "text": [
            "[LibLinear]Best accuracy = 0.8819 corresponds to LR with solver = liblinear, penalty = 'l1', tol = 1, C = 0.2, intercept_scaling = 50 , class_weight = None, max_iter = 500 and verbose = 5 \n",
            "\n",
            "Best f1 = 0.8698 corresponds to LR with solver = liblinear, penalty = 'l1', tol = 1.5, C = 0.2, intercept_scaling = 50 , class_weight = balanced, max_iter = 500 and verbose = 0 \n",
            "\n"
          ]
        }
      ]
    },
    {
      "cell_type": "code",
      "metadata": {
        "colab": {
          "base_uri": "https://localhost:8080/"
        },
        "id": "-kU8Ea6fh8Yx",
        "outputId": "991f43a0-dac3-4635-be8b-3adc91de69ca"
      },
      "source": [
        "def find_score(metric1, metric2):\n",
        "  #return metric1 of best estimator trained over metric2 \n",
        "  return d_liblinear2[metric1][best_liblinear[metric2]['penalty']][best_liblinear[metric2]['tol']][best_liblinear[metric2]['C']][best_liblinear[metric2]['intercept_scaling']][best_liblinear[metric2]['class_weight']][best_liblinear[metric2]['max_iter']][best_liblinear[metric2]['verbose']]\n",
        "\n",
        "print('Best LR with solver = liblinear corresponds to penalty =', \"'\" + best_liblinear[metric]['penalty'] + \"', tol =\", str(best_liblinear[metric]['tol']) + ', C =', str(best_liblinear[metric]['C']) + ', intercept_scaling =', str(best_liblinear[metric]['intercept_scaling']), ', class_weight =',  str(best_liblinear[metric]['class_weight']) + ', max_iter =', str(best_liblinear[metric]['max_iter']), 'and verbose =', estimator.best_params_['verbose'], ':')\n",
        "print('accuracy =', find_score('accuracy', 'accuracy'))\n",
        "print('f1 score =', find_score('f1', 'accuracy'))\n",
        "\n",
        "japanese_credit_screening_LR['Best LR (without transformers)'] = {'accuracy': find_score('accuracy', 'accuracy')}\n",
        "japanese_credit_screening_LR['Best LR (without transformers)']['f1'] = find_score('f1', 'accuracy')"
      ],
      "execution_count": null,
      "outputs": [
        {
          "name": "stdout",
          "output_type": "stream",
          "text": [
            "Best LR with solver = liblinear corresponds to penalty = 'l1', tol = 1.5, C = 0.2, intercept_scaling = 50 , class_weight = balanced, max_iter = 500 and verbose = 0 :\n",
            "accuracy = 0.8819\n",
            "f1 score = 0.8431\n"
          ]
        }
      ]
    },
    {
      "cell_type": "markdown",
      "metadata": {
        "id": "rk3YMu6Wvy7F"
      },
      "source": [
        "Στη συνέχεια επαναλαμβάνουμε την ίδια διαδικασία για τον Logistic Regression Classifier χρησιμοποιώντας ως solver τον 'sag'."
      ]
    },
    {
      "cell_type": "code",
      "metadata": {
        "colab": {
          "base_uri": "https://localhost:8080/"
        },
        "id": "bJ_RWZv0IeFr",
        "outputId": "f5f5f94d-38e6-4917-fb47-bd5a59b4c756"
      },
      "source": [
        "#solver = 'sag'\n",
        "params_sag = {'penalty' : ['l2', 'none'], 'tol' : [1e-6, 1e-4, 0.1, 0.5, 1, 1.5], \n",
        "              'C' : [0.01, 0.08, 0.1, 0.2, 0.5, 1], \n",
        "              'class_weight' : [None, 'balanced'], 'multi_class' : ['ovr', 'multinomial'],\n",
        "              'max_iter' : [100, 200, 500], 'warm_start' : [True, False]}\n",
        "\n",
        "d_sag = {metric_score : {penalty : {tol: {C : {w : { iter : {multi_class : {warm_start : 0 for warm_start in params_sag['warm_start']} for multi_class in params_sag['multi_class']} for iter in params_sag['max_iter']} for w in params_sag['class_weight']} for C in params_sag['C']} for tol in params_sag['tol']} for penalty in params_sag['penalty']} for metric_score in ['accuracy', 'f1']}\n",
        "\n",
        "for metric in ['accuracy', 'f1']:\n",
        "  estimator = GridSearchCV(clf, [dict(solver = ['sag'], penalty = params_sag['penalty'], tol = params_sag['tol'], C = params_sag['C'], class_weight = params_sag['class_weight'], multi_class = params_sag['multi_class'], max_iter = params_sag['max_iter'], warm_start = params_sag['warm_start'])], cv = 10, scoring = metric, n_jobs = -1)\n",
        "  estimator.fit(X_train, y_train)\n",
        "\n",
        "  for acc, model in zip(estimator.cv_results_['mean_test_score'], estimator.cv_results_['params']):\n",
        "    #print(metric + ' of LR with solver =', model['solver'] + ',', 'penalty =', \"'\" + model['penalty'] + \"', tol =\", str(model['tol']) + ', C =', str(model['C']) + ', class_weight =',  str(model['class_weight']) + ', multi_class =', model['multi_class'] + ', max_iter =', str(model['max_iter']), 'and warm_start =', model['warm_start'], str(':'), np.round(acc, 4))\n",
        "    d_sag[metric][model['penalty']][model['tol']][model['C']][model['class_weight']][model['max_iter']][model['multi_class']][model['warm_start']] = np.round(acc, 4)\n",
        "\n",
        "  print('Best', metric, '=',  np.round(estimator.best_score_, 4), 'corresponds to LR with solver =', estimator.best_params_['solver'] + ',', 'penalty =', \"'\" + estimator.best_params_['penalty'] + \"', tol =\", str(estimator.best_params_['tol']) + ', C =', str(estimator.best_params_['C']) + ', class_weight =',  str(estimator.best_params_['class_weight']) + ', multi_class =', estimator.best_params_['multi_class'] + ', max_iter =', str(estimator.best_params_['max_iter']), 'and warm_start =', estimator.best_params_['warm_start'], '\\n')"
      ],
      "execution_count": null,
      "outputs": [
        {
          "name": "stdout",
          "output_type": "stream",
          "text": [
            "Best accuracy = 0.6978 corresponds to LR with solver = sag, penalty = 'l2', tol = 1e-06, C = 0.01, class_weight = None, multi_class = ovr, max_iter = 100 and warm_start = False \n",
            "\n",
            "Best f1 = 0.6502 corresponds to LR with solver = sag, penalty = 'l2', tol = 0.5, C = 0.5, class_weight = balanced, multi_class = ovr, max_iter = 200 and warm_start = True \n",
            "\n"
          ]
        }
      ]
    },
    {
      "cell_type": "code",
      "metadata": {
        "colab": {
          "base_uri": "https://localhost:8080/",
          "height": 902,
          "referenced_widgets": [
            "d948706dafdb44e980bdbe5a9a36143c",
            "0ae82aefc7a4421bb2d1bcbd9e450128",
            "ccddd31ce92c4e42b25833d56a579d25",
            "76cb9234d06e460fa9b5ecd8890ce437",
            "f1184cf9839b4365b8a255229c857904",
            "03c7f81604d74a8fb498f8c25b2623b4",
            "5685f934e22c490cae20e51bac3eb98f",
            "ad6f34bbc4434782b4fe0718de3c49a2",
            "07e3dacc8fed4664a33b5ceaa50625b1",
            "3232755c39c04744912597c599a1e1f1",
            "681824ba098342f396252765e62c3fcf",
            "bc2f95560f6549099ec74b11c600d4ab",
            "f750abc75ce1427c9c95e9385a2e54ea"
          ]
        },
        "id": "hlU7Mtd6QVJe",
        "outputId": "183b5ca2-9bbc-4aa1-c803-c2ec4c4bc271"
      },
      "source": [
        "tol_choices = Dropdown(options = params_sag['tol'])\n",
        "multi_class_choices = Dropdown(options = params_sag['multi_class'])\n",
        "warm_start_choices = Dropdown(options = params_sag['warm_start'])\n",
        "\n",
        "@interact(tol = tol_choices, multi_class = multi_class_choices, warm_start = warm_start_choices)\n",
        "def print_diagram(tol, multi_class, warm_start):\n",
        "    df_acc_weightNone_l2 = pd.DataFrame(\n",
        "        [[max_iter, C, d_sag['accuracy']['l2'][tol][C][None][max_iter][multi_class][warm_start]] for C in params_sag['C'] for max_iter in params_sag['max_iter']],\n",
        "        columns = ['max_iter', 'C', 'score'])\n",
        "    df_acc_weightNone_none = pd.DataFrame(\n",
        "        [[max_iter, C, d_sag['accuracy']['none'][tol][C][None][max_iter][multi_class][warm_start]] for C in params_sag['C'] for max_iter in params_sag['max_iter']],\n",
        "        columns = ['max_iter', 'C', 'score'])\n",
        "    df_acc_balanced_l2 = pd.DataFrame(\n",
        "        [[max_iter, C, d_sag['accuracy']['l2'][tol][C]['balanced'][max_iter][multi_class][warm_start]] for C in params_sag['C'] for max_iter in params_sag['max_iter']],\n",
        "        columns = ['max_iter', 'C', 'score'])\n",
        "    df_acc_balanced_none = pd.DataFrame(\n",
        "        [[max_iter, C, d_sag['accuracy']['none'][tol][C]['balanced'][max_iter][multi_class][warm_start]] for C in params_sag['C'] for max_iter in params_sag['max_iter']],\n",
        "        columns = ['max_iter', 'C', 'score'])\n",
        "    df_f1_weightNone_l2 = pd.DataFrame(\n",
        "        [[max_iter, C, d_sag['f1']['l2'][tol][C][None][max_iter][multi_class][warm_start]] for C in params_sag['C'] for max_iter in params_sag['max_iter']],\n",
        "        columns = ['max_iter', 'C', 'score'])\n",
        "    df_f1_weightNone_none = pd.DataFrame(\n",
        "        [[max_iter, C, d_sag['f1']['none'][tol][C][None][max_iter][multi_class][warm_start]] for C in params_sag['C'] for max_iter in params_sag['max_iter']],\n",
        "        columns = ['max_iter', 'C', 'score'])\n",
        "    df_f1_balanced_l2 = pd.DataFrame(\n",
        "        [[max_iter, C, d_sag['f1']['l2'][tol][C]['balanced'][max_iter][multi_class][warm_start]] for C in params_sag['C'] for max_iter in params_sag['max_iter']],\n",
        "        columns = ['max_iter', 'C', 'score'])\n",
        "    df_f1_balanced_none = pd.DataFrame(\n",
        "        [[max_iter, C, d_sag['f1']['none'][tol][C]['balanced'][max_iter][multi_class][warm_start]] for C in params_sag['C'] for max_iter in params_sag['max_iter']],\n",
        "        columns = ['max_iter', 'C', 'score'])\n",
        "    \n",
        "    fig, axes = plt.subplots(2, 4, figsize = (25, 12), sharey = True)\n",
        "    fig.suptitle('Logistic Regression Classifier with sag solver (tol = ' + str(tol) + ', multi_class = ' + str(multi_class) + ', warm_start = ' + str(warm_start) + ') - Hyparameters Estimation')\n",
        "\n",
        "    sns.set_theme(style = \"whitegrid\")\n",
        "    sns.barplot(ax = axes[0, 0], data = df_acc_weightNone_l2, x = \"max_iter\", y = \"score\", hue = \"C\", palette = \"pastel\", alpha = 1)\n",
        "    axes[0, 0].set_title('Accuracy Score - weights = None - penalty = l2')\n",
        "    sns.barplot(ax = axes[0, 1], data = df_acc_weightNone_none, x = \"max_iter\", y = \"score\", hue = \"C\", palette = \"pastel\", alpha = 1)\n",
        "    axes[0, 1].set_title('Accuracy Score - weights = None - penalty = none')\n",
        "    sns.barplot(ax = axes[0, 2], data = df_acc_balanced_l2, x = \"max_iter\", y = \"score\", hue = \"C\", palette = \"pastel\", alpha = 1)\n",
        "    axes[0, 2].set_title('Accuracy Score - weights = balanced - penalty = l2')\n",
        "    sns.barplot(ax = axes[0, 3], data = df_acc_balanced_none, x = \"max_iter\", y = \"score\", hue = \"C\", palette = \"pastel\", alpha = 1)\n",
        "    axes[0, 3].set_title('Accuracy Score - weights = balanced - penalty = none')\n",
        "\n",
        "    sns.barplot(ax = axes[1, 0], data = df_f1_weightNone_l2, x = \"max_iter\", y = \"score\", hue = \"C\", palette = \"dark\", alpha = 1)\n",
        "    axes[1, 0].set_title('F1 Score - weights = None - penalty = l2')\n",
        "    sns.barplot(ax = axes[1, 1], data = df_f1_weightNone_none, x = \"max_iter\", y = \"score\", hue = \"C\", palette = \"dark\", alpha = 1)\n",
        "    axes[1, 1].set_title('F1 Score - weights = None - penalty = none')\n",
        "    sns.barplot(ax = axes[1, 2], data = df_f1_balanced_l2, x = \"max_iter\", y = \"score\", hue = \"C\", palette = \"dark\", alpha = 1)\n",
        "    axes[1, 2].set_title('F1 Score - weights = balanced - penalty = l2')\n",
        "    sns.barplot(ax = axes[1, 3], data = df_f1_balanced_none, x = \"max_iter\", y = \"score\", hue = \"C\", palette = \"dark\", alpha = 1)\n",
        "    axes[1, 3].set_title('F1 Score - weights = balanced - penalty = none')\n",
        "\n",
        "    plt.show()"
      ],
      "execution_count": null,
      "outputs": [
        {
          "data": {
            "application/vnd.jupyter.widget-view+json": {
              "model_id": "d948706dafdb44e980bdbe5a9a36143c",
              "version_major": 2,
              "version_minor": 0
            },
            "text/plain": [
              "interactive(children=(Dropdown(description='tol', options=(1e-06, 0.0001, 0.1, 0.5, 1, 1.5), value=1e-06), Dro…"
            ]
          },
          "metadata": {},
          "output_type": "display_data"
        }
      ]
    },
    {
      "cell_type": "markdown",
      "metadata": {
        "id": "lF6pZQoxwVXx"
      },
      "source": [
        "Συμπερασματικά, από τα παραπάνω διαγράμματα παρατηρούμε ότι ο ταξινομητής Logisitc Regression κατά τη διαδικασία του 10-fold cross validation επιτυγχάνει πολύ καλύτερα accuracy και f1 scores με χρήση liblinear solver συγκριτκά με τη χρήση sag solver. Αξίζει να σημειωθεί ότι όσον αφορά τους solvers 'saga', 'lbfgs' και 'newton-cg' απαιτούν εκθετικά μεγαλύτερο χρόνο για την εκπαίδευσή του μοντέλου, χωρίς να επιτυγχάνουν ιδιαίτερα υψηλά ποσοστά (τουλάχιστον στις δικές μας, ίσως λίγο περιορισμένες δοκιμές).\n",
        "\n",
        "Στο σημείο αυτό θα δοκιμάσουμε να προσθέσουμε μετασχηματιστές πριν την εφαρμογή του Logisitic Regession ταξινομητή με liblinear solver, με σκοπό να βελτιώσουμε ακόμα περισσότερο τα scores που αυτός επιτυγχάνει.\n",
        "\n",
        "Υλοποιούμε και πάλι αρχιτεκτινικές παρόμοιες με αυτές που χρησιμοποιήσαμε και για τους πεοηγούμενους ταξινομητές.\n",
        "\n",
        "Αρχικά, για την αρχιτεκτονική MinMax Scaler - Variance Threshold - LR εκτελούμε αναζήτηση πλέγματος στην παράμετρο threshold καθώς και στις υπερπαραμέτρους του ταξινομητή."
      ]
    },
    {
      "cell_type": "code",
      "metadata": {
        "colab": {
          "base_uri": "https://localhost:8080/"
        },
        "id": "s8R81QLDJXhc",
        "outputId": "126bf65b-62ea-42e0-d34c-4da1610179d9"
      },
      "source": [
        "print('Architecture: MinMax Scaler - Variance Threshold - LR \\n')\n",
        "for metric in ['accuracy', 'f1']:\n",
        "  pipe = Pipeline(steps = [('minmax_scaler', minmax_scaler), ('selector', selector), ('lr', LogisticRegression(solver = 'liblinear', penalty = 'l1', verbose = 0, intercept_scaling = 50, max_iter = 500))])\n",
        "  estimator = GridSearchCV(pipe, dict(selector__threshold = [0.01, 0.025, 0.028, 0.03, 0.035, 0.04],\n",
        "                                      lr__tol = [1, 1.1, 1.2, 1.3, 1.4, 1.5], lr__C = [0.1, 0.2, 0.3, 0.4, 0.5], \n",
        "                                      lr__class_weight = [None, 'balanced']), cv = 10, scoring = metric, n_jobs = -1)\n",
        "  estimator.fit(X_train, y_train)\n",
        "\n",
        "  print('\\tBest', metric, '=',  np.round(estimator.best_score_, 4), 'corresponds to estimator with threshold =', str(estimator.best_params_['selector__threshold']) + ',', 'solver = liblinear, tol = ' + str(estimator.best_params_['lr__tol']) + \", class_weight = \" + str(estimator.best_params_['lr__class_weight']), \"and C = \" + str(estimator.best_params_['lr__C']), '\\n')\n",
        "  if metric == 'accuracy':\n",
        "    japanese_credit_screening_LR['MinMax Scaler - Variance Threshold'] = {'accuracy': np.round(estimator.best_score_, 4)}\n",
        "  else:\n",
        "    japanese_credit_screening_LR['MinMax Scaler - Variance Threshold']['f1'] = np.round(estimator.best_score_, 4)"
      ],
      "execution_count": null,
      "outputs": [
        {
          "name": "stdout",
          "output_type": "stream",
          "text": [
            "Architecture: MinMax Scaler - Variance Threshold - LR \n",
            "\n",
            "\tBest accuracy = 0.8798 corresponds to estimator with threshold = 0.028, solver = liblinear, tol = 1.2, class_weight = None and C = 0.2 \n",
            "\n",
            "\tBest f1 = 0.8721 corresponds to estimator with threshold = 0.035, solver = liblinear, tol = 1.4, class_weight = None and C = 0.5 \n",
            "\n"
          ]
        }
      ]
    },
    {
      "cell_type": "markdown",
      "metadata": {
        "id": "t_bvelPflhJm"
      },
      "source": [
        "Παρατηρούμε ότι η προσθήκη Variance Threshold μειώνει ελάχιστα το accuracy score που επιτυγχάνεται κατά τη διαδικασία του 10-fold cross validation, αλλά αυξάνει το αντίστοιχο f1 score."
      ]
    },
    {
      "cell_type": "markdown",
      "metadata": {
        "id": "4bJBeCnoSbEX"
      },
      "source": [
        "Στη συνέχεια υλοποιούμε την αρχιτεκτονική MinMax Scaler - Variance Threshold - PCA - LR και εκτελούμε αναζήτηση πλέγματος στις υπερπαραμέτρους των μετασχηματιστών και του ταξινομητή. "
      ]
    },
    {
      "cell_type": "code",
      "metadata": {
        "colab": {
          "base_uri": "https://localhost:8080/"
        },
        "id": "wuqB6c2TJuxF",
        "outputId": "e43701b5-71a4-4cb2-f962-dc975b7ae88b"
      },
      "source": [
        "print('Architecture: MinMax Scaler - Variance Threshold - PCA - LR \\n')\n",
        "for metric in ['accuracy', 'f1']:\n",
        "  pipe = Pipeline(steps = [('minmax_scaler', minmax_scaler), ('selector', selector), ('pca', pca), ('lr', LogisticRegression(solver = 'liblinear', penalty = 'l1', verbose = 0, intercept_scaling = 50, max_iter = 500))])\n",
        "\n",
        "  estimator = GridSearchCV(pipe, dict(selector__threshold =  [0.01, 0.025, 0.028, 0.03, 0.035, 0.04], \n",
        "                                      pca__n_components = [2, 5, 10, 20, 25],\n",
        "                                      lr__tol = [1, 1.1, 1.2, 1.3, 1.4, 1.5], lr__C = [0.1, 0.2, 0.3, 0.4, 0.5], \n",
        "                                      lr__class_weight = [None, 'balanced']), cv = 10, scoring = metric, n_jobs = -1)\n",
        "  estimator.fit(X_train, y_train)\n",
        "\n",
        "  print('\\tBest', metric, '=',  np.round(estimator.best_score_, 4), 'corresponds to estimator with threshold =', str(estimator.best_params_['selector__threshold']) + \", PCA_components = \" + str(estimator.best_params_['pca__n_components']) +', solver = liblinear'  + \n",
        "        \", tol = '\" + str(estimator.best_params_['lr__tol']) + \"', C = \" + str(estimator.best_params_['lr__C']) + ' and class_weight = ' + str(estimator.best_params_['lr__class_weight']), '\\n')\n",
        "\n",
        "  if metric == 'accuracy':\n",
        "    japanese_credit_screening_LR['MinMax Scaler - Variance Threshold - PCA'] = {'accuracy': np.round(estimator.best_score_, 4)}\n",
        "  else:\n",
        "    japanese_credit_screening_LR['MinMax Scaler - Variance Threshold - PCA']['f1'] = np.round(estimator.best_score_, 4)"
      ],
      "execution_count": null,
      "outputs": [
        {
          "output_type": "stream",
          "name": "stdout",
          "text": [
            "Architecture: MinMax Scaler - Variance Threshold - PCA - LR \n",
            "\n",
            "\tBest accuracy = 0.8614 corresponds to estimator with threshold = 0.04, PCA_components = 20, solver = liblinear, tol = '1', C = 0.1 and class_weight = balanced \n",
            "\n",
            "\tBest f1 = 0.8543 corresponds to estimator with threshold = 0.035, PCA_components = 10, solver = liblinear, tol = '1', C = 0.1 and class_weight = balanced \n",
            "\n"
          ]
        }
      ]
    },
    {
      "cell_type": "markdown",
      "metadata": {
        "id": "UgPXkhXbSCPc"
      },
      "source": [
        "Παρατηρούμε ότι η αρχιτεκτονική αυτή δεν καταφέρνει να ξεπεράσει τα προηγούμενα scores, ενώ και οι επόμενες αρχιτεκτονικές που δοκιμάζουμε, που έχουν ως βάση τους την PCA με ή χωρίς την πρότερη προσθήκη κανονικοποίησης (MinMax Scaler ή Standard Scaler) έχουν παρόμοια αποτελέσματα. "
      ]
    },
    {
      "cell_type": "code",
      "metadata": {
        "colab": {
          "base_uri": "https://localhost:8080/"
        },
        "id": "wAoM1XYDJXf7",
        "outputId": "68998b55-d88e-46a7-ba94-0f2bff84b7e5"
      },
      "source": [
        "print('Architecture: MinMax Scaler - PCA - LR \\n')\n",
        "for metric in ['accuracy', 'f1']:\n",
        "  pipe = Pipeline(steps = [('minmax_scaler', minmax_scaler), ('pca', pca), ('lr', LogisticRegression(solver = 'liblinear', penalty = 'l1', verbose = 0, intercept_scaling = 50, max_iter = 500))])\n",
        "\n",
        "  estimator = GridSearchCV(pipe, dict(pca__n_components = [9, 10, 15, 20, 21],\n",
        "                                      lr__tol = [1, 1.1, 1.2, 1.3, 1.4, 1.5], lr__C = [0.1, 0.2, 0.3, 0.4, 0.5], \n",
        "                                      lr__class_weight = [None, 'balanced']), cv = 10, scoring = metric, n_jobs = -1)\n",
        "  estimator.fit(X_train, y_train)\n",
        "\n",
        "  print('\\tBest', metric, '=',  np.round(estimator.best_score_, 4), 'corresponds to estimator with PCA_components = ' + str(estimator.best_params_['pca__n_components']) +', solver = liblinear' + \n",
        "        \", tol = '\" + str(estimator.best_params_['lr__tol']) + \"', C = \" + str(estimator.best_params_['lr__C']) + ' and class_weight = ' + str(estimator.best_params_['lr__class_weight']), '\\n')\n",
        "  if metric == 'accuracy':\n",
        "    japanese_credit_screening_LR['MinMax Scaler - PCA'] = {'accuracy': np.round(estimator.best_score_, 4)}\n",
        "  else:\n",
        "    japanese_credit_screening_LR['MinMax Scaler - PCA']['f1'] = np.round(estimator.best_score_, 4)\n",
        "\n",
        "print('\\nArchitecture: Standard Scaler - PCA - LR \\n')\n",
        "for metric in ['accuracy', 'f1']:\n",
        "  pipe = Pipeline(steps = [('standard_scaler', standard_scaler), ('pca', pca), ('lr', LogisticRegression(solver = 'liblinear', penalty = 'l1', verbose = 0, intercept_scaling = 50, max_iter = 500))])\n",
        "\n",
        "  estimator = GridSearchCV(pipe, dict(pca__n_components = [1, 2, 3, 5, 10, 15, 20, 25],\n",
        "                                      lr__tol = [1, 1.1, 1.2, 1.3, 1.4, 1.5], lr__C = [0.1, 0.2, 0.3, 0.4, 0.5], \n",
        "                                      lr__class_weight = [None, 'balanced']), cv = 10, scoring = metric, n_jobs = -1)\n",
        "  estimator.fit(X_train, y_train)\n",
        "\n",
        "  print('\\tBest', metric, '=',  np.round(estimator.best_score_, 4), 'corresponds to estimator with PCA_components = ' + str(estimator.best_params_['pca__n_components']) +', solver = liblinear' + \n",
        "        \", tol = '\" + str(estimator.best_params_['lr__tol']) + \"', C = \" + str(estimator.best_params_['lr__C']) + ' and class_weight = ' + str(estimator.best_params_['lr__class_weight']), '\\n')\n",
        "\n",
        "  if metric == 'accuracy':\n",
        "    japanese_credit_screening_LR['Standard Scaler - PCA'] = {'accuracy': np.round(estimator.best_score_, 4)}\n",
        "  else:\n",
        "    japanese_credit_screening_LR['Standard Scaler - PCA']['f1'] = np.round(estimator.best_score_, 4)\n",
        "\n",
        "print('\\nArchitecture: PCA - LR \\n')\n",
        "for metric in ['accuracy', 'f1']:\n",
        "  pipe = Pipeline(steps = [('pca', pca), ('lr', LogisticRegression(solver = 'liblinear', penalty = 'l1', verbose = 0, intercept_scaling = 50, max_iter = 500))])\n",
        "\n",
        "  estimator = GridSearchCV(pipe, dict(pca__n_components = [1, 2, 3, 5, 10, 15, 20, 25],\n",
        "                                      lr__tol = [1, 1.1, 1.2, 1.3, 1.4, 1.5], lr__C = [0.1, 0.2, 0.3, 0.4, 0.5], \n",
        "                                      lr__class_weight = [None, 'balanced']), cv = 10, scoring = metric, n_jobs = -1)\n",
        "  estimator.fit(X_train, y_train)\n",
        "\n",
        "  print('\\tBest', metric, '=',  np.round(estimator.best_score_, 4), 'corresponds to estimator with PCA_components = ' + str(estimator.best_params_['pca__n_components']) +', solver = liblinear' + \n",
        "        \", tol = '\" + str(estimator.best_params_['lr__tol']) + \"', C = \" + str(estimator.best_params_['lr__C']) + ' and class_weight = ' + str(estimator.best_params_['lr__class_weight']), '\\n')\n",
        "\n",
        "  if metric == 'accuracy':\n",
        "    japanese_credit_screening_LR['PCA'] = {'accuracy': np.round(estimator.best_score_, 4)}\n",
        "  else:\n",
        "    japanese_credit_screening_LR['PCA']['f1'] = np.round(estimator.best_score_, 4)"
      ],
      "execution_count": null,
      "outputs": [
        {
          "output_type": "stream",
          "name": "stdout",
          "text": [
            "Architecture: MinMax Scaler - PCA - LR \n",
            "\n",
            "\tBest accuracy = 0.8593 corresponds to estimator with PCA_components = 10, solver = liblinear, tol = '1', C = 0.1 and class_weight = balanced \n",
            "\n",
            "\tBest f1 = 0.8533 corresponds to estimator with PCA_components = 20, solver = liblinear, tol = '1', C = 0.2 and class_weight = balanced \n",
            "\n",
            "\n",
            "Architecture: Standard Scaler - PCA - LR \n",
            "\n",
            "\tBest accuracy = 0.8633 corresponds to estimator with PCA_components = 20, solver = liblinear, tol = '1', C = 0.1 and class_weight = None \n",
            "\n",
            "\tBest f1 = 0.8524 corresponds to estimator with PCA_components = 20, solver = liblinear, tol = '1', C = 0.5 and class_weight = balanced \n",
            "\n",
            "\n",
            "Architecture: PCA - LR \n",
            "\n",
            "\tBest accuracy = 0.8634 corresponds to estimator with PCA_components = 20, solver = liblinear, tol = '1', C = 0.1 and class_weight = balanced \n",
            "\n",
            "\tBest f1 = 0.856 corresponds to estimator with PCA_components = 15, solver = liblinear, tol = '1', C = 0.1 and class_weight = balanced \n",
            "\n"
          ]
        }
      ]
    },
    {
      "cell_type": "code",
      "metadata": {
        "id": "xMOyQWC5JXew",
        "colab": {
          "base_uri": "https://localhost:8080/",
          "height": 665,
          "referenced_widgets": [
            "1c2652a32a4640178e56790111e9ec5e",
            "00ca86ddde5146f781aa51a5d9f96fa2",
            "a3cfb6ce8e6243c6a7a4b837bf3684e1",
            "fcd1ac7a409e424ca6455fa3a9307ee5",
            "1710919f89ba4a7a9de97f511f009095",
            "5a1ee55b44144806967d2ccaf991158f",
            "e0ad96a1e56c43279ac8318e502d7b62"
          ]
        },
        "outputId": "5fe1c0ae-6a38-4c5a-954f-669e212f672f"
      },
      "source": [
        "lr_df = pd.DataFrame([[x, 'accuracy', japanese_credit_screening_LR[x]['accuracy']] for x in japanese_credit_screening_LR] +\n",
        "                  [[x, 'f1 score', japanese_credit_screening_LR[x]['f1']] for x in japanese_credit_screening_LR], \n",
        "                  columns = ['architecture', 'metric', 'score']) \n",
        "\n",
        "sns.set_theme(style = \"whitegrid\")\n",
        "g = sns.catplot(\n",
        "    data = lr_df, kind = \"bar\",\n",
        "    x = \"score\", y = \"architecture\", hue = \"metric\",\n",
        "    palette = \"pastel\", alpha = .8, height = 8\n",
        ")\n",
        "g.despine(left=True)\n",
        "g.ax.set_title(\"LR Classifier Scores\", fontsize = 14)\n",
        "g.set_axis_labels(\"score\", \"Architecture\")\n",
        "g.legend.set_title(\"metrics\")\n",
        "\n",
        "architecture_lr = Dropdown(options = japanese_credit_screening_LR.keys())\n",
        "\n",
        "@interact(architecture = architecture_lr)\n",
        "def print_scores(architecture):\n",
        "    print('accuracy:', japanese_credit_screening_LR[architecture]['accuracy'])\n",
        "    print('f1 score:', japanese_credit_screening_LR[architecture]['f1'])"
      ],
      "execution_count": null,
      "outputs": [
        {
          "output_type": "display_data",
          "data": {
            "image/png": "[encoded data removed]",
            "text/plain": [
              "<Figure size 665.475x576 with 1 Axes>"
            ]
          },
          "metadata": {}
        },
        {
          "output_type": "display_data",
          "data": {
            "application/vnd.jupyter.widget-view+json": {
              "model_id": "1c2652a32a4640178e56790111e9ec5e",
              "version_minor": 0,
              "version_major": 2
            },
            "text/plain": [
              "interactive(children=(Dropdown(description='architecture', options=('MinMax Scaler - Variance Threshold - PCA'…"
            ]
          },
          "metadata": {}
        }
      ]
    },
    {
      "cell_type": "markdown",
      "metadata": {
        "id": "axuToCNe2gWl"
      },
      "source": [
        "<b>Συμπερασματικά, λοιπόν, ο βελτιστοποιημένος Logistic Regression ταξινομητής αντιστοιχεί στην αρχιτεκτονική που δεν περιέχει επιπλέον μετασχημτιστές, δηλαδή αποτελείται μόνο από τον LR(solver = 'liblinear', penaty = 'l1', tol = 1, C = 0.2, intercept_scaling = 50, class_weight = 'balanced', max_iter = 500, verbose = 0) και επιτυγχάνει accuracy = 0.8819 και f1 score = 0.8431 κατά τη διαδικασία του 10-fold cross validation."
      ]
    },
    {
      "cell_type": "markdown",
      "metadata": {
        "id": "rZTKfQhantD-"
      },
      "source": [
        "### Αποτελέσματα και συμπεράσματα"
      ]
    },
    {
      "cell_type": "markdown",
      "metadata": {
        "id": "auxbWpgQn6W-"
      },
      "source": [
        "Συμπερασματικά, λοιπόν, καταλήξαμε στους ακόλουθους τρεις βελτιστοποιημένους ταξινομητές:\n",
        "\n",
        "- Gaussian Naive Bayes (GNB): Η βέλτιστη αρχιτεκτονική για τον Gaussian Naive Bayes Classifier είναι ένας MinMax Scaler ακολουθούμενος από έναν μετασχηματιστή Variance Threshold με threshold = 0.03, έναν μετασχηματιστή PCA με n_components = 8 και έπειτα τον GNB ταξινομητή.\n",
        "- KNeirestNeighbors (kNN): Η βέλτιστη αρχιτεκτονική για τον kNN ταξινομητή είναι ένας MinMax Scaler ακολουθούμενος από έναν μετασχηματιστή Variance Threshold με threshold = 0.03 και έπειτα τον kNN ταξινομητή με n_neighbors = 13 , weights = 'distance', metric = 'minkowski' και p = 2 (euclidean distance).\n",
        "- Logistic Regression Classifier (LR): Η βέλτιστη αρχιτεκτονική για τον LR ταξινομητή είναι ένας LR ταξινομητής, χωρί επιπλέον μετασχηματιστές, με solver = 'liblinear', tol = 1, C = 0.2, intercept_scaling = 50, class_weight = 'balanced', max_iter = 500 και verbose = 0.\n",
        "\n",
        "Ορίζουμε εκ νέου καθέναν από αυτούς τους βελιστοποιημένους ταξινομητές, τους εκπαιδεύουμε με ένα fit πάνω σε όλο το train dataset και έπειτα τους εφαρμόζουμε πάνω στο test dataset προκειμένου να συγκρίνούμε τους χρόνους που αυτοί απαιτούν κατά το στάδιο της εκπαίδευσής και της πρόβλεψης αλλά και τα ποσοστά που αυτοί επιτυγχάνουν τελικά πάνω στο test dataset.   "
      ]
    },
    {
      "cell_type": "code",
      "metadata": {
        "id": "zoG0ot5EVYCH"
      },
      "source": [
        "df_test = []"
      ],
      "execution_count": 43,
      "outputs": []
    },
    {
      "cell_type": "code",
      "metadata": {
        "id": "LZYuPEoTJXdb"
      },
      "source": [
        "gnb = Pipeline(steps = [('minmax_scaler', preprocessing.MinMaxScaler()), ('selector', VarianceThreshold(threshold = 0.03)), ('pca', PCA(n_components = 8)), ('gnb', GaussianNB())])"
      ],
      "execution_count": 44,
      "outputs": []
    },
    {
      "cell_type": "code",
      "metadata": {
        "id": "uOB_vVSfvACi",
        "colab": {
          "base_uri": "https://localhost:8080/"
        },
        "outputId": "67e3fe4a-c355-45d5-a85a-3005738ce57c"
      },
      "source": [
        "import time\n",
        "from sklearn.metrics import classification_report, accuracy_score, f1_score\n",
        "\n",
        "start_time = time.time()\n",
        "gnb.fit(X_train, y_train)\n",
        "print(\"fit time for GNB: %s seconds\" % (time.time() - start_time))\n",
        "print()\n",
        "\n",
        "start_time = time.time()\n",
        "preds_gnb = gnb.predict(X_test)\n",
        "print(\"predict time for GNB: %s seconds\" % (time.time() - start_time))\n",
        "print()\n",
        "\n",
        "acc = np.round(accuracy_score(y_test, preds_gnb), 4)\n",
        "df_test.append(['accuracy', 'GNB', 'optimized', acc])\n",
        "print('test accuracy score for GNB:', acc)\n",
        "f1 = np.round(f1_score(y_test, preds_gnb), 4)\n",
        "df_test.append(['f1', 'GNB', 'optimized', f1])\n",
        "print('test f1 score for GNB:', f1)\n",
        "print()\n",
        "\n",
        "print()\n",
        "print(classification_report(y_test, preds_gnb))"
      ],
      "execution_count": 46,
      "outputs": [
        {
          "output_type": "stream",
          "name": "stdout",
          "text": [
            "fit time for GNB: 0.008638620376586914 seconds\n",
            "\n",
            "predict time for GNB: 0.0007474422454833984 seconds\n",
            "\n",
            "test accuracy score for GNB: 0.8986\n",
            "test f1 score for GNB: 0.8995\n",
            "\n",
            "\n",
            "              precision    recall  f1-score   support\n",
            "\n",
            "           0       0.89      0.90      0.90       102\n",
            "           1       0.90      0.90      0.90       105\n",
            "\n",
            "    accuracy                           0.90       207\n",
            "   macro avg       0.90      0.90      0.90       207\n",
            "weighted avg       0.90      0.90      0.90       207\n",
            "\n"
          ]
        }
      ]
    },
    {
      "cell_type": "code",
      "metadata": {
        "id": "zpjzlF-wu__o"
      },
      "source": [
        "knn = Pipeline(steps = [('minmax_scaler', preprocessing.MinMaxScaler()), ('selector', VarianceThreshold(threshold = 0.03)), \n",
        "                        ('knn', KNeighborsClassifier(n_neighbors = 13, weights = 'distance', metric = 'minkowski', p = 2))])"
      ],
      "execution_count": 47,
      "outputs": []
    },
    {
      "cell_type": "code",
      "metadata": {
        "id": "PR6lp98Zu_7d",
        "colab": {
          "base_uri": "https://localhost:8080/"
        },
        "outputId": "8715aa2d-2df9-4c1c-8a72-bb929abc3134"
      },
      "source": [
        "start_time = time.time()\n",
        "knn.fit(X_train, y_train)\n",
        "print(\"fit time for kNN: %s seconds\" % (time.time() - start_time))\n",
        "print()\n",
        "\n",
        "start_time = time.time()\n",
        "preds_knn = knn.predict(X_test)\n",
        "print(\"predict time for kNN: %s seconds\" % (time.time() - start_time))\n",
        "print()\n",
        "\n",
        "acc = np.round(accuracy_score(y_test, preds_knn), 4)\n",
        "df_test.append(['accuracy', 'kNN', 'optimized', acc])\n",
        "print('test accuracy score for kNN:', acc)\n",
        "f1 = np.round(f1_score(y_test, preds_knn), 4)\n",
        "df_test.append(['f1', 'kNN', 'optimized', f1])\n",
        "print('test f1 score for kNN:', f1)\n",
        "print()\n",
        "\n",
        "print()\n",
        "print(classification_report(y_test, preds_knn))"
      ],
      "execution_count": 49,
      "outputs": [
        {
          "output_type": "stream",
          "name": "stdout",
          "text": [
            "fit time for kNN: 0.0018935203552246094 seconds\n",
            "\n",
            "predict time for kNN: 0.004206657409667969 seconds\n",
            "\n",
            "test accuracy score for kNN: 0.8744\n",
            "test f1 score for kNN: 0.87\n",
            "\n",
            "\n",
            "              precision    recall  f1-score   support\n",
            "\n",
            "           0       0.84      0.92      0.88       102\n",
            "           1       0.92      0.83      0.87       105\n",
            "\n",
            "    accuracy                           0.87       207\n",
            "   macro avg       0.88      0.88      0.87       207\n",
            "weighted avg       0.88      0.87      0.87       207\n",
            "\n"
          ]
        }
      ]
    },
    {
      "cell_type": "code",
      "metadata": {
        "id": "inXw8tfFz7T3"
      },
      "source": [
        "lr = LogisticRegression(solver = 'liblinear', penalty = 'l1', tol = 1, C = 0.2, intercept_scaling = 50, class_weight = 'balanced', max_iter = 500, verbose = 0)"
      ],
      "execution_count": 50,
      "outputs": []
    },
    {
      "cell_type": "code",
      "metadata": {
        "colab": {
          "base_uri": "https://localhost:8080/"
        },
        "id": "cdQ13VkvYnjU",
        "outputId": "85cf7e31-db44-4d2e-878e-8af42dd75d98"
      },
      "source": [
        "start_time = time.time()\n",
        "lr.fit(X_train, y_train)\n",
        "print(\"fit time for LR: %s seconds\" % (time.time() - start_time))\n",
        "print()\n",
        "\n",
        "start_time = time.time()\n",
        "preds_lr = lr.predict(X_test)\n",
        "print(\"predict time for LR: %s seconds\" % (time.time() - start_time))\n",
        "print()\n",
        "\n",
        "acc = np.round(accuracy_score(y_test, preds_lr), 4)\n",
        "df_test.append(['accuracy', 'LR', 'optimized', acc])\n",
        "print('test accuracy score for LR:', acc)\n",
        "f1 = np.round(f1_score(y_test, preds_lr), 4)\n",
        "df_test.append(['f1', 'LR', 'optimized', f1])\n",
        "print('test f1 score for LR:', f1)\n",
        "print()\n",
        "\n",
        "print()\n",
        "print(classification_report(y_test, preds_lr))"
      ],
      "execution_count": 52,
      "outputs": [
        {
          "output_type": "stream",
          "name": "stdout",
          "text": [
            "fit time for LR: 0.002256155014038086 seconds\n",
            "\n",
            "predict time for LR: 0.0020177364349365234 seconds\n",
            "\n",
            "test accuracy score for LR: 0.8889\n",
            "test f1 score for LR: 0.8987\n",
            "\n",
            "\n",
            "              precision    recall  f1-score   support\n",
            "\n",
            "           0       0.96      0.80      0.88       102\n",
            "           1       0.84      0.97      0.90       105\n",
            "\n",
            "    accuracy                           0.89       207\n",
            "   macro avg       0.90      0.89      0.89       207\n",
            "weighted avg       0.90      0.89      0.89       207\n",
            "\n"
          ]
        }
      ]
    },
    {
      "cell_type": "markdown",
      "metadata": {
        "id": "aiIPJXM73HmT"
      },
      "source": [
        "Συνοψίζουμε τα παραπάνω αποτελέσματα στον ακόλουθο πίνακα:\n",
        "\n",
        "Optimum Classifier | 10-fold cross-val accuracy | 10-fold cross-val f1 score | test accuracy | test f1 score | fit time | predict time \n",
        "-------------------|------------------ | ------------------| ------------------ | ------------------ | ------------------ | ------------------\n",
        "GNB       | 0.8529 | 0.8293 | 0.8986 | 0.8995 | 0.0087 | 0.0075\n",
        "kNN      | 0.8739 | 0.8674 | 0.8744 | 0.87 | 0.002 | 0.0042\n",
        "LR       | 0.8819 | 0.8431 | 0.8889 | 0.8987 | 0.0022 | 0.002"
      ]
    },
    {
      "cell_type": "markdown",
      "metadata": {
        "id": "fY5rJe7loOFw"
      },
      "source": [
        "Σύμφωνα με τον παραπάνω πίνακα ο Gaussian Naive Bayes Classifier απαιτεί τον περισσότερο χρόνο τόσο κατά το στάδιο της εκπαίδευσης όσο και κατά το στάδιο της πρόβλεψης, κάτι το οποίο βέβαια πιθανώς οφείλεται και στη λίγο πιο πολύπλοκη αρχιτεκτονική του, καθώς περιλαμβάνει και μετασχηματισμό PCA, σε αντίθεση με τις άλλες δύο αρχικτεκτονικές. Παράλληλα, παρατηρούμε ότι ο μικρότερος χρόνος κατά το στάδιο της εκπαίδευσης αντιστοιχεί στον kNN ταξινομητή, κάτι το οποίο είναι αναμενόμενο καθώς πρακτικά ο ταξινομητής αυτός κατά τη διαδικασία της εκπαίδευσης δεν εκτελεί κάποιον ιδιαίτερο υπολογισμό (κατά το στάδιο της πρόβλεψης υπολογίζει τις αποστάσεις του εκάστοτε test δείγματος από όλα τα train δείγματα). Μάλιστα, ο ταξινομητής αυτός (kNN), για τον ίδιο λόγο, είναι ο μόνος που χαρακτηρίζεται από μεγαλύτερο χρόνο πρόβλεψης συγκριτικά με το χρόνο εκπαίδευσης. Οι διαφορές, βέβαια, μεταξύ των εκάστοτε χρόνων είναι αρκετά μικρές λόγω του μικρού μεγέθους dataset, και οι αποκλίσεις μεταξύ τους γίνονται περισσότερο αισθητές σε μεγαλύτερα dataset.   "
      ]
    },
    {
      "cell_type": "markdown",
      "metadata": {
        "id": "St2GxNvDNqjO"
      },
      "source": [
        "Στη συνέχεια, απεικονίζουμε σε διαγράμματα τα scores των out-of-the -box καθώς και των βελτιστοποιημένων ταξινομητών, προκειμένου να αντιληφθούμε καλύτερα τις βελτιώσεις που έχουμε επιτύχει σε αυτά. "
      ]
    },
    {
      "cell_type": "code",
      "metadata": {
        "id": "GakOUqhofuuE"
      },
      "source": [
        "df_test_acc = pd.DataFrame([['GNB', 'out of the box', japanese_credit_screening_accuracy_out_of_the_box['gaussian naive bayes']]] +\n",
        "                            [['kNN', 'out of the box', japanese_credit_screening_accuracy_out_of_the_box['knn']]] + \n",
        "                            [['LR', 'out of the box', japanese_credit_screening_accuracy_out_of_the_box['logistic regression']]] +\n",
        "                            [[x[1], x[2], x[3]] for x in df_test if x[0] == 'accuracy'],\n",
        "                            columns = ['classifier', 'optimization', 'score'])\n",
        "\n",
        "df_test_f1 = pd.DataFrame([['GNB', 'out of the box', japanese_credit_screening_f1_score_out_of_the_box['gaussian naive bayes']]] +\n",
        "                            [['kNN', 'out of the box', japanese_credit_screening_f1_score_out_of_the_box['knn']]] + \n",
        "                            [['LR', 'out of the box', japanese_credit_screening_f1_score_out_of_the_box['logistic regression']]] +\n",
        "                            [[x[1], x[2], x[3]] for x in df_test if x[0] == 'f1'] ,\n",
        "                            columns = ['classifier', 'optimization', 'score'])\n",
        "\n",
        "df_cross_val_acc = pd.DataFrame([[x1, 'out of the box', japanese_credit_screening_cross_val_accuracy_out_of_the_box[x2]] for x1, x2 in zip(['GNB', 'kNN', 'LR'], ['gaussian naive bayes', 'knn', 'logistic regression'])] +\n",
        "                  [['GNB', 'optimized', japanese_credit_screening_gnb['MinMax Scaler - Variance Threshold - PCA']['accuracy']]] + \n",
        "                  [['kNN', 'optimized', japanese_credit_screening_kNN['MinMax Scaler - Variance Threshold']['accuracy']]] + \n",
        "                  [['LR', 'optimized', japanese_credit_screening_LR['Best LR (without transformers)']['accuracy']]],\n",
        "                  columns = ['classifier', 'optimization', 'score']) \n",
        "\n",
        "df_cross_val_f1 = pd.DataFrame([[x1, 'out of the box', japanese_credit_screening_cross_val_f1_score_out_of_the_box[x2]] for x1, x2 in zip(['GNB', 'kNN', 'LR'], ['gaussian naive bayes', 'knn', 'logistic regression'])] +\n",
        "                  [['GNB', 'optimized', japanese_credit_screening_gnb['MinMax Scaler - Variance Threshold - PCA']['f1']]] + \n",
        "                  [['kNN', 'optimized', japanese_credit_screening_kNN['MinMax Scaler - Variance Threshold']['f1']]] + \n",
        "                  [['LR', 'optimized', japanese_credit_screening_LR['Best LR (without transformers)']['f1']]],\n",
        "                  columns = ['classifier', 'optimization', 'score']) "
      ],
      "execution_count": 88,
      "outputs": []
    },
    {
      "cell_type": "code",
      "metadata": {
        "id": "3Q_D7eWyOOHt",
        "colab": {
          "base_uri": "https://localhost:8080/",
          "height": 823
        },
        "outputId": "d39b6bb0-12b9-4e55-d80b-b0c5a629178b"
      },
      "source": [
        "fig, axes = plt.subplots(2, 2, figsize = (20, 12), sharey = True)\n",
        "fig.suptitle('Comparisons of Cross-Validation and Test Scores')\n",
        "\n",
        "sns.set_theme(style = \"whitegrid\")\n",
        "sns.barplot(ax = axes[0, 0], data = df_cross_val_acc, x = \"classifier\", y = \"score\", hue = \"optimization\", palette = \"pastel\", alpha = 1)\n",
        "axes[0, 0].set_title('Cross-Validation Accuracy Score')\n",
        "sns.barplot(ax = axes[0, 1], data = df_cross_val_f1, x = \"classifier\", y = \"score\", hue = \"optimization\", palette = \"pastel\", alpha = 1)\n",
        "axes[0, 1].set_title('Cross-Validation F1 Score')\n",
        "\n",
        "sns.barplot(ax = axes[1, 0], data = df_test_acc, x = \"classifier\", y = \"score\", hue = \"optimization\", palette = \"pastel\", alpha = 1)\n",
        "axes[1, 0].set_title('Test Accuracy Score')\n",
        "sns.barplot(ax = axes[1, 1], data = df_test_f1, x = \"classifier\", y = \"score\", hue = \"optimization\", palette = \"pastel\", alpha = 1)\n",
        "axes[1, 1].set_title('Test F1 Score')"
      ],
      "execution_count": 101,
      "outputs": [
        {
          "output_type": "execute_result",
          "data": {
            "text/plain": [
              "Text(0.5, 1.0, 'Test F1 Score')"
            ]
          },
          "metadata": {},
          "execution_count": 101
        },
        {
          "output_type": "display_data",
          "data": {
            "image/png": "[encoded data removed]",
            "text/plain": [
              "<Figure size 1440x864 with 4 Axes>"
            ]
          },
          "metadata": {}
        }
      ]
    },
    {
      "cell_type": "markdown",
      "metadata": {
        "id": "gOQOeIvdoJR2"
      },
      "source": [
        "Παρατηρούμε, λοιπόν, ότι οι βελτιστοποιημένοι ταξινομητές επιτυγχάνουν καλύτερα accuracy και f1 scores, συγκριτκά με τους αντίστοιχους out-of-the-box, τόσο κατά τη διδικασία του 10-fold cross validation όσο και εφαρμοζόμενοι στο test set αφού εκπαιδευτούν στο train set. Τις μεγαλύτερες βελτιώσεις, όσον αφορά το είδος του ταξινομητή, τις παρατηρούμε στον kNN τσξινομητή φτάνοντας σχεδόν το 20%, ενώ όσον αφορά τις μετρικές στο f1 score."
      ]
    },
    {
      "cell_type": "markdown",
      "metadata": {
        "id": "11sfsI_arkan"
      },
      "source": [
        "Τέλος, απεικονίζουμε τους πίνακες σύγχυσης(confusion matrices) των τριών βελτιστοποιημένων ταξινομητών."
      ]
    },
    {
      "cell_type": "code",
      "metadata": {
        "id": "NyZe3F3Su_4f"
      },
      "source": [
        "from sklearn.metrics import confusion_matrix\n",
        "\n",
        "cf_matrix_gnb = confusion_matrix(y_test, preds_gnb)\n",
        "cf_matrix_knn = confusion_matrix(y_test, preds_knn)\n",
        "cf_matrix_lr = confusion_matrix(y_test, preds_lr)"
      ],
      "execution_count": 55,
      "outputs": []
    },
    {
      "cell_type": "code",
      "metadata": {
        "colab": {
          "base_uri": "https://localhost:8080/",
          "height": 448
        },
        "id": "n_ksUle9-Xs5",
        "outputId": "02d6f2c8-f9e2-4f39-820d-86712f3742bd"
      },
      "source": [
        "fig, axes = plt.subplots(1, 3, figsize = (25, 6.5), sharey = True)\n",
        "fig.suptitle('Confusion Matrices for Best Classifiers', fontsize = 14)\n",
        "\n",
        "sns.set_theme(style = \"whitegrid\")\n",
        "\n",
        "axes[0].set_title('GNB Classifier')\n",
        "sns.heatmap(cf_matrix_gnb, ax = axes[0], annot = True)\n",
        "\n",
        "axes[1].set_title('kNN Classifier')\n",
        "sns.heatmap(cf_matrix_knn, ax = axes[1], annot = True)\n",
        "\n",
        "axes[2].set_title('LR Classifier')\n",
        "sns.heatmap(cf_matrix_lr, ax = axes[2], annot = True)\n",
        "\n",
        "plt.show()"
      ],
      "execution_count": 58,
      "outputs": [
        {
          "output_type": "display_data",
          "data": {
            "image/png": "[encoded data removed]",
            "text/plain": [
              "<Figure size 1800x468 with 6 Axes>"
            ]
          },
          "metadata": {
            "needs_background": "light"
          }
        }
      ]
    },
    {
      "cell_type": "markdown",
      "metadata": {
        "id": "EcST1h7GNV9b"
      },
      "source": [
        "Από τους παραπάνω πίνακες παρατηρούμε ότι ο βελτιστοποιημένος Gaussian Naive Bayes ταξινομητής εκτελεί σωστή πρόβλεψη για 92 και 94 δείγματα των κλάσεων 0 και 1 αντίστοιχα, ενώ οδηγείται σε λάθος πρόβλεψη για 10 και 11 δείγματα των κλάσεων 0 και 1. Ομοίως, ο βελτιστοποιημένος kNN ταξινομητής προβλέπει σωστά 94 και 87 και λανθασμένα 8 και 18 δείγματα των κλάσεων 0 και 1 αντίστοιχα. Τέλος, ο βελτιστοποιημένος Logistic Regression ταξινομητής προβλέπει σωστά 82 και 100 και λανθασμένα 20 και 3 δείγματα των κλάσεων 0 και 1 αντίστοιχα. Συμπεραίνουμε, λοιπόν, ότι ο LR ταξινομητής, εντοπίζει αρκετά καλά τα δείγματα που αντιστοιχούν στην κλάση με label 0, έχοντας μάλιστα μόλις 3 false negative (λανθασμένη πρόβλεψη για την κλάση 0), αλλά μπερδεύει λίγο τα δείγματα της κλάσης 1 φτάνοντας τα 20 false positives. Αντίθετα, ο GNB και ο kNN ταξινομητής εντοπίζουν λίγο καλύτερα τα δείγματα που αντιστοιχούν στην κλάση με label 1, με τα false positives και false negatives όμως αυτών, και ιδίως του GNB, να είναι πιο ισορροπημένα.  "
      ]
    },
    {
      "cell_type": "markdown",
      "metadata": {
        "id": "Daj51iexz_lO"
      },
      "source": [
        "<b>Συμπέρασμα:</b>\n",
        "\n",
        "Η επιλογή του καλύτερου ταξινομητή, όπως και σε ένα πραγματικό task, πρέπει να βασίζεται στα scores που προκύπτουν από τη διαδικασία του cross validation, και τα οποία υπολογίζονται αποκλειστικά και μόνο πάνω στα δεδομένα εκπαίδευσης, τα οποία και μας είναι διαθέσιμα σε κάθε task. Με βάση, λοιπόν, αυτό, επιλέγουμε μεταξύ των τριών βέλτιστοποιημένων ταξινομητών, τον Logistic Regression ταξινομητή ο οποίος επιτυγχάνει το καλύτερο δυνατό accuracy score και ένα αρκετά ικανοποιητικό f1 score, ενώ έχει και αρκετά χαμηλούς χρόνους εκπαίδευσης και πρόβλεψης. Το μοντέλο, που τελικά επιλέξαμε, εφαρμοσμένο στο test dataset επιτυγχάνει accuracy score = 0.8889 και f1 score = 0.8987. "
      ]
    }
  ]
}